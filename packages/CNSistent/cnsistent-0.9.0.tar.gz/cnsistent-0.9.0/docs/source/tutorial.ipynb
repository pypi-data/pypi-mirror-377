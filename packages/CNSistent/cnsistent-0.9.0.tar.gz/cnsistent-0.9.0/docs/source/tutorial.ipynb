{
 "cells": [
  {
   "cell_type": "code",
   "execution_count": 1,
   "metadata": {},
   "outputs": [],
   "source": [
    "# auto reload modules\n",
    "%load_ext autoreload\n",
    "%autoreload 2"
   ]
  },
  {
   "cell_type": "markdown",
   "metadata": {},
   "source": [
    "# Examples: Data Processing\n",
    "\n",
    "This is a trivial example of how to create data for CNSistent, fill missing segments, impute missing values, create consistent segmentation, aggregate the values and plot the results.\n",
    "\n",
    "We will go through the following steps:\n",
    "1. Create data\n",
    "2. Fill missing segments\n",
    "3. Infer missing values\n",
    "4. Create consistent segmentation\n",
    "5. Aggregate the values"
   ]
  },
  {
   "cell_type": "code",
   "execution_count": 2,
   "metadata": {},
   "outputs": [
    {
     "name": "stdout",
     "output_type": "stream",
     "text": [
      "The autoreload extension is already loaded. To reload it, use:\n",
      "  %reload_ext autoreload\n"
     ]
    }
   ],
   "source": [
    "%load_ext autoreload\n",
    "%autoreload 2\n",
    "\n",
    "import io\n",
    "import pandas as pd\n",
    "\n",
    "# Import the cns module\n",
    "import cns"
   ]
  },
  {
   "cell_type": "markdown",
   "metadata": {},
   "source": [
    "## Create data"
   ]
  },
  {
   "cell_type": "markdown",
   "metadata": {},
   "source": [
    "Firs we create two SCNA profiles for samples s1, s2 with copy number columns CN1, CN2.\n",
    "\n",
    "For the tutorial we will limit ourselves to chr19."
   ]
  },
  {
   "cell_type": "code",
   "execution_count": 3,
   "metadata": {},
   "outputs": [
    {
     "data": {
      "text/html": [
       "<div>\n",
       "<style scoped>\n",
       "    .dataframe tbody tr th:only-of-type {\n",
       "        vertical-align: middle;\n",
       "    }\n",
       "\n",
       "    .dataframe tbody tr th {\n",
       "        vertical-align: top;\n",
       "    }\n",
       "\n",
       "    .dataframe thead th {\n",
       "        text-align: right;\n",
       "    }\n",
       "</style>\n",
       "<table border=\"1\" class=\"dataframe\">\n",
       "  <thead>\n",
       "    <tr style=\"text-align: right;\">\n",
       "      <th></th>\n",
       "      <th>sample_id</th>\n",
       "      <th>chrom</th>\n",
       "      <th>start</th>\n",
       "      <th>end</th>\n",
       "      <th>CN1</th>\n",
       "      <th>CN2</th>\n",
       "    </tr>\n",
       "  </thead>\n",
       "  <tbody>\n",
       "    <tr>\n",
       "      <th>0</th>\n",
       "      <td>s1</td>\n",
       "      <td>chr19</td>\n",
       "      <td>1000000</td>\n",
       "      <td>3000000</td>\n",
       "      <td>1.0</td>\n",
       "      <td>NaN</td>\n",
       "    </tr>\n",
       "    <tr>\n",
       "      <th>1</th>\n",
       "      <td>s1</td>\n",
       "      <td>chr19</td>\n",
       "      <td>3000000</td>\n",
       "      <td>12000000</td>\n",
       "      <td>1.0</td>\n",
       "      <td>1.0</td>\n",
       "    </tr>\n",
       "    <tr>\n",
       "      <th>2</th>\n",
       "      <td>s1</td>\n",
       "      <td>chr19</td>\n",
       "      <td>12000000</td>\n",
       "      <td>14000000</td>\n",
       "      <td>NaN</td>\n",
       "      <td>1.0</td>\n",
       "    </tr>\n",
       "    <tr>\n",
       "      <th>3</th>\n",
       "      <td>s1</td>\n",
       "      <td>chr19</td>\n",
       "      <td>14000000</td>\n",
       "      <td>21000000</td>\n",
       "      <td>3.0</td>\n",
       "      <td>1.0</td>\n",
       "    </tr>\n",
       "    <tr>\n",
       "      <th>4</th>\n",
       "      <td>s1</td>\n",
       "      <td>chr19</td>\n",
       "      <td>21000000</td>\n",
       "      <td>25000000</td>\n",
       "      <td>3.0</td>\n",
       "      <td>NaN</td>\n",
       "    </tr>\n",
       "  </tbody>\n",
       "</table>\n",
       "</div>"
      ],
      "text/plain": [
       "  sample_id  chrom     start       end  CN1  CN2\n",
       "0        s1  chr19   1000000   3000000  1.0  NaN\n",
       "1        s1  chr19   3000000  12000000  1.0  1.0\n",
       "2        s1  chr19  12000000  14000000  NaN  1.0\n",
       "3        s1  chr19  14000000  21000000  3.0  1.0\n",
       "4        s1  chr19  21000000  25000000  3.0  NaN"
      ]
     },
     "execution_count": 3,
     "metadata": {},
     "output_type": "execute_result"
    }
   ],
   "source": [
    "cns_source = \"\"\"sample_id, chrom, start, end, CN1, CN2\n",
    "s1, chr19, 1000000, 3000000, 1,\n",
    "s1, chr19, 3000000, 12000000, 1, 1\n",
    "s1, chr19, 12000000, 14000000, , 1\n",
    "s1, chr19, 14000000, 21000000, 3, 1\n",
    "s1, chr19, 21000000, 25000000, 3, \n",
    "s1, chr19, 28000000, 58500000, 3,\n",
    "s2, chr19, 1000000, 24000000, 2,\n",
    "s2, chr19, 29000000, 58000000, 0,\n",
    "\"\"\"\n",
    "raw_cns_df = pd.read_csv(io.StringIO(cns_source.strip()), sep=',\\s*', engine='python')\n",
    "raw_cns_df.head()"
   ]
  },
  {
   "cell_type": "markdown",
   "metadata": {},
   "source": [
    "We plot heatmaps of the above values, note that the positions are on the linear genome."
   ]
  },
  {
   "cell_type": "code",
   "execution_count": 4,
   "metadata": {},
   "outputs": [
    {
     "data": {
      "text/plain": [
       "(<Figure size 300x300 with 2 Axes>,\n",
       " array([<Axes: xlabel='CN1'>, <Axes: xlabel='CN2'>], dtype=object))"
      ]
     },
     "execution_count": 4,
     "metadata": {},
     "output_type": "execute_result"
    },
    {
     "data": {
      "image/png": "[encoded data removed]",
      "text/plain": [
       "<Figure size 300x300 with 2 Axes>"
      ]
     },
     "metadata": {},
     "output_type": "display_data"
    }
   ],
   "source": [
    "cns.fig_heatmap(raw_cns_df)"
   ]
  },
  {
   "cell_type": "markdown",
   "metadata": {},
   "source": [
    "For real datasets we would need to limit ourselves to a subset of a data for visualization purposes, e.g.:"
   ]
  },
  {
   "cell_type": "code",
   "execution_count": 5,
   "metadata": {},
   "outputs": [
    {
     "data": {
      "text/plain": [
       "(<Figure size 300x300 with 2 Axes>,\n",
       " array([<Axes: ylabel='CN1'>,\n",
       "        <Axes: xlabel='position on the linear genome', ylabel='CN2'>],\n",
       "       dtype=object))"
      ]
     },
     "execution_count": 5,
     "metadata": {},
     "output_type": "execute_result"
    },
    {
     "data": {
      "image/png": "[encoded data removed]",
      "text/plain": [
       "<Figure size 300x300 with 2 Axes>"
      ]
     },
     "metadata": {},
     "output_type": "display_data"
    }
   ],
   "source": [
    "cns.fig_heatmap(cns.cns_head(raw_cns_df, 1))"
   ]
  },
  {
   "cell_type": "markdown",
   "metadata": {},
   "source": [
    "## Coverage and filling"
   ]
  },
  {
   "cell_type": "markdown",
   "metadata": {},
   "source": [
    "Next we will analyze missing segments and fill them with the average value of the surrounding segments.\n",
    "\n",
    "Since we are only focusing on chr19, we create a mask for chr19 only."
   ]
  },
  {
   "cell_type": "code",
   "execution_count": 6,
   "metadata": {},
   "outputs": [
    {
     "name": "stdout",
     "output_type": "stream",
     "text": [
      "{'chr19': [(0, 59128983, 'chr19')]}\n"
     ]
    }
   ],
   "source": [
    "chr19_seg = cns.make_segments(\"chr19\")\n",
    "print(chr19_seg)"
   ]
  },
  {
   "cell_type": "markdown",
   "metadata": {},
   "source": [
    "First we calculate the proportion of missing segments:"
   ]
  },
  {
   "cell_type": "code",
   "execution_count": 7,
   "metadata": {},
   "outputs": [
    {
     "data": {
      "text/html": [
       "<div>\n",
       "<style scoped>\n",
       "    .dataframe tbody tr th:only-of-type {\n",
       "        vertical-align: middle;\n",
       "    }\n",
       "\n",
       "    .dataframe tbody tr th {\n",
       "        vertical-align: top;\n",
       "    }\n",
       "\n",
       "    .dataframe thead th {\n",
       "        text-align: right;\n",
       "    }\n",
       "</style>\n",
       "<table border=\"1\" class=\"dataframe\">\n",
       "  <thead>\n",
       "    <tr style=\"text-align: right;\">\n",
       "      <th></th>\n",
       "      <th>sex</th>\n",
       "      <th>chrom_count</th>\n",
       "      <th>chrom_missing</th>\n",
       "      <th>cover_any_aut</th>\n",
       "      <th>cover_any_sex</th>\n",
       "      <th>cover_any_all</th>\n",
       "      <th>cover_both_aut</th>\n",
       "      <th>cover_both_sex</th>\n",
       "      <th>cover_both_all</th>\n",
       "    </tr>\n",
       "    <tr>\n",
       "      <th>sample_id</th>\n",
       "      <th></th>\n",
       "      <th></th>\n",
       "      <th></th>\n",
       "      <th></th>\n",
       "      <th></th>\n",
       "      <th></th>\n",
       "      <th></th>\n",
       "      <th></th>\n",
       "      <th></th>\n",
       "    </tr>\n",
       "  </thead>\n",
       "  <tbody>\n",
       "    <tr>\n",
       "      <th>s1</th>\n",
       "      <td>xx</td>\n",
       "      <td>1</td>\n",
       "      <td>[]</td>\n",
       "      <td>0.921714</td>\n",
       "      <td>0</td>\n",
       "      <td>0.921714</td>\n",
       "      <td>0.270595</td>\n",
       "      <td>0</td>\n",
       "      <td>0.270595</td>\n",
       "    </tr>\n",
       "    <tr>\n",
       "      <th>s2</th>\n",
       "      <td>xx</td>\n",
       "      <td>1</td>\n",
       "      <td>[]</td>\n",
       "      <td>0.879433</td>\n",
       "      <td>0</td>\n",
       "      <td>0.879433</td>\n",
       "      <td>0.000000</td>\n",
       "      <td>0</td>\n",
       "      <td>0.000000</td>\n",
       "    </tr>\n",
       "  </tbody>\n",
       "</table>\n",
       "</div>"
      ],
      "text/plain": [
       "          sex  chrom_count chrom_missing  cover_any_aut  cover_any_sex  \\\n",
       "sample_id                                                                \n",
       "s1         xx            1            []       0.921714              0   \n",
       "s2         xx            1            []       0.879433              0   \n",
       "\n",
       "           cover_any_all  cover_both_aut  cover_both_sex  cover_both_all  \n",
       "sample_id                                                                 \n",
       "s1              0.921714        0.270595               0        0.270595  \n",
       "s2              0.879433        0.000000               0        0.000000  "
      ]
     },
     "execution_count": 7,
     "metadata": {},
     "output_type": "execute_result"
    }
   ],
   "source": [
    "cover_df = cns.main_coverage(raw_cns_df, segs=chr19_seg)\n",
    "cover_df.head()"
   ]
  },
  {
   "cell_type": "markdown",
   "metadata": {},
   "source": [
    "Then we fill the missing segments with NaN values:"
   ]
  },
  {
   "cell_type": "code",
   "execution_count": 8,
   "metadata": {},
   "outputs": [
    {
     "data": {
      "text/html": [
       "<div>\n",
       "<style scoped>\n",
       "    .dataframe tbody tr th:only-of-type {\n",
       "        vertical-align: middle;\n",
       "    }\n",
       "\n",
       "    .dataframe tbody tr th {\n",
       "        vertical-align: top;\n",
       "    }\n",
       "\n",
       "    .dataframe thead th {\n",
       "        text-align: right;\n",
       "    }\n",
       "</style>\n",
       "<table border=\"1\" class=\"dataframe\">\n",
       "  <thead>\n",
       "    <tr style=\"text-align: right;\">\n",
       "      <th></th>\n",
       "      <th>sample_id</th>\n",
       "      <th>chrom</th>\n",
       "      <th>start</th>\n",
       "      <th>end</th>\n",
       "      <th>CN1</th>\n",
       "      <th>CN2</th>\n",
       "      <th>name</th>\n",
       "    </tr>\n",
       "  </thead>\n",
       "  <tbody>\n",
       "    <tr>\n",
       "      <th>0</th>\n",
       "      <td>s1</td>\n",
       "      <td>chr19</td>\n",
       "      <td>0</td>\n",
       "      <td>1000000</td>\n",
       "      <td>NaN</td>\n",
       "      <td>NaN</td>\n",
       "      <td>chr19</td>\n",
       "    </tr>\n",
       "    <tr>\n",
       "      <th>1</th>\n",
       "      <td>s1</td>\n",
       "      <td>chr19</td>\n",
       "      <td>1000000</td>\n",
       "      <td>3000000</td>\n",
       "      <td>1.0</td>\n",
       "      <td>NaN</td>\n",
       "      <td>chr19</td>\n",
       "    </tr>\n",
       "    <tr>\n",
       "      <th>2</th>\n",
       "      <td>s1</td>\n",
       "      <td>chr19</td>\n",
       "      <td>3000000</td>\n",
       "      <td>12000000</td>\n",
       "      <td>1.0</td>\n",
       "      <td>1.0</td>\n",
       "      <td>chr19</td>\n",
       "    </tr>\n",
       "    <tr>\n",
       "      <th>3</th>\n",
       "      <td>s1</td>\n",
       "      <td>chr19</td>\n",
       "      <td>12000000</td>\n",
       "      <td>14000000</td>\n",
       "      <td>NaN</td>\n",
       "      <td>1.0</td>\n",
       "      <td>chr19</td>\n",
       "    </tr>\n",
       "    <tr>\n",
       "      <th>4</th>\n",
       "      <td>s1</td>\n",
       "      <td>chr19</td>\n",
       "      <td>14000000</td>\n",
       "      <td>21000000</td>\n",
       "      <td>3.0</td>\n",
       "      <td>1.0</td>\n",
       "      <td>chr19</td>\n",
       "    </tr>\n",
       "  </tbody>\n",
       "</table>\n",
       "</div>"
      ],
      "text/plain": [
       "  sample_id  chrom     start       end  CN1  CN2   name\n",
       "0        s1  chr19         0   1000000  NaN  NaN  chr19\n",
       "1        s1  chr19   1000000   3000000  1.0  NaN  chr19\n",
       "2        s1  chr19   3000000  12000000  1.0  1.0  chr19\n",
       "3        s1  chr19  12000000  14000000  NaN  1.0  chr19\n",
       "4        s1  chr19  14000000  21000000  3.0  1.0  chr19"
      ]
     },
     "execution_count": 8,
     "metadata": {},
     "output_type": "execute_result"
    }
   ],
   "source": [
    "chr19_seg[\"chr19\"] = cns.genome_to_segments()[\"chr19\"]\n",
    "align_cns_df = cns.main_align(raw_cns_df, segs=chr19_seg)\n",
    "align_cns_df.head()"
   ]
  },
  {
   "cell_type": "markdown",
   "metadata": {},
   "source": [
    "When plotting we can see that the data are now extended to the boundaries of chromosome 19"
   ]
  },
  {
   "cell_type": "code",
   "execution_count": 9,
   "metadata": {},
   "outputs": [
    {
     "data": {
      "image/png": "[encoded data removed]",
      "text/plain": [
       "<Figure size 300x300 with 2 Axes>"
      ]
     },
     "metadata": {},
     "output_type": "display_data"
    }
   ],
   "source": [
    "cns.fig_heatmap(align_cns_df, cn_columns=['CN1', 'CN2']);"
   ]
  },
  {
   "cell_type": "markdown",
   "metadata": {},
   "source": [
    "## Imputation and aneuploidy"
   ]
  },
  {
   "cell_type": "markdown",
   "metadata": {},
   "source": [
    "Next we fill values into the missing segments. \n",
    "\n",
    "Leading and trailing NaN values are filled with the first and last non-NaN value, respectively. \n",
    "\n",
    "The remaining NaN values are filled with the mean of the non-NaN values."
   ]
  },
  {
   "cell_type": "code",
   "execution_count": 10,
   "metadata": {},
   "outputs": [
    {
     "data": {
      "text/html": [
       "<div>\n",
       "<style scoped>\n",
       "    .dataframe tbody tr th:only-of-type {\n",
       "        vertical-align: middle;\n",
       "    }\n",
       "\n",
       "    .dataframe tbody tr th {\n",
       "        vertical-align: top;\n",
       "    }\n",
       "\n",
       "    .dataframe thead th {\n",
       "        text-align: right;\n",
       "    }\n",
       "</style>\n",
       "<table border=\"1\" class=\"dataframe\">\n",
       "  <thead>\n",
       "    <tr style=\"text-align: right;\">\n",
       "      <th></th>\n",
       "      <th>sample_id</th>\n",
       "      <th>chrom</th>\n",
       "      <th>start</th>\n",
       "      <th>end</th>\n",
       "      <th>CN1</th>\n",
       "      <th>CN2</th>\n",
       "    </tr>\n",
       "  </thead>\n",
       "  <tbody>\n",
       "    <tr>\n",
       "      <th>0</th>\n",
       "      <td>s1</td>\n",
       "      <td>chr19</td>\n",
       "      <td>0</td>\n",
       "      <td>13000000</td>\n",
       "      <td>1.0</td>\n",
       "      <td>1.0</td>\n",
       "    </tr>\n",
       "    <tr>\n",
       "      <th>1</th>\n",
       "      <td>s1</td>\n",
       "      <td>chr19</td>\n",
       "      <td>13000000</td>\n",
       "      <td>59128983</td>\n",
       "      <td>3.0</td>\n",
       "      <td>1.0</td>\n",
       "    </tr>\n",
       "    <tr>\n",
       "      <th>2</th>\n",
       "      <td>s2</td>\n",
       "      <td>chr19</td>\n",
       "      <td>0</td>\n",
       "      <td>26500000</td>\n",
       "      <td>2.0</td>\n",
       "      <td>0.0</td>\n",
       "    </tr>\n",
       "    <tr>\n",
       "      <th>3</th>\n",
       "      <td>s2</td>\n",
       "      <td>chr19</td>\n",
       "      <td>26500000</td>\n",
       "      <td>59128983</td>\n",
       "      <td>0.0</td>\n",
       "      <td>0.0</td>\n",
       "    </tr>\n",
       "  </tbody>\n",
       "</table>\n",
       "</div>"
      ],
      "text/plain": [
       "  sample_id  chrom     start       end  CN1  CN2\n",
       "0        s1  chr19         0  13000000  1.0  1.0\n",
       "1        s1  chr19  13000000  59128983  3.0  1.0\n",
       "2        s2  chr19         0  26500000  2.0  0.0\n",
       "3        s2  chr19  26500000  59128983  0.0  0.0"
      ]
     },
     "execution_count": 10,
     "metadata": {},
     "output_type": "execute_result"
    }
   ],
   "source": [
    "imp_cns_df = cns.main_infer(align_cns_df)\n",
    "imp_cns_df.head()"
   ]
  },
  {
   "cell_type": "markdown",
   "metadata": {},
   "source": [
    "We can see that the number of segments decreased considerably, to only 2 actual breakpoints, which we can see on the imputed plot."
   ]
  },
  {
   "cell_type": "code",
   "execution_count": 11,
   "metadata": {},
   "outputs": [
    {
     "data": {
      "image/png": "[encoded data removed]",
      "text/plain": [
       "<Figure size 300x300 with 2 Axes>"
      ]
     },
     "metadata": {},
     "output_type": "display_data"
    }
   ],
   "source": [
    "cns.fig_heatmap(imp_cns_df, cn_columns=['CN1', 'CN2']);"
   ]
  },
  {
   "cell_type": "markdown",
   "metadata": {},
   "source": [
    "We expect that the imputed data are more representative of the actual genome, therefore we preferably analyze the imputed data further."
   ]
  },
  {
   "cell_type": "code",
   "execution_count": 26,
   "metadata": {},
   "outputs": [
    {
     "data": {
      "text/html": [
       "<div>\n",
       "<style scoped>\n",
       "    .dataframe tbody tr th:only-of-type {\n",
       "        vertical-align: middle;\n",
       "    }\n",
       "\n",
       "    .dataframe tbody tr th {\n",
       "        vertical-align: top;\n",
       "    }\n",
       "\n",
       "    .dataframe thead th {\n",
       "        text-align: right;\n",
       "    }\n",
       "</style>\n",
       "<table border=\"1\" class=\"dataframe\">\n",
       "  <thead>\n",
       "    <tr style=\"text-align: right;\">\n",
       "      <th></th>\n",
       "      <th>sex</th>\n",
       "      <th>loh_both_aut</th>\n",
       "      <th>loh_any_aut</th>\n",
       "      <th>ane_any_aut</th>\n",
       "      <th>ane_both_aut</th>\n",
       "      <th>imb_CN1_aut</th>\n",
       "      <th>imb_CN2_aut</th>\n",
       "      <th>ploidy_CN1</th>\n",
       "      <th>ploidy_CN2</th>\n",
       "    </tr>\n",
       "    <tr>\n",
       "      <th>sample_id</th>\n",
       "      <th></th>\n",
       "      <th></th>\n",
       "      <th></th>\n",
       "      <th></th>\n",
       "      <th></th>\n",
       "      <th></th>\n",
       "      <th></th>\n",
       "      <th></th>\n",
       "      <th></th>\n",
       "    </tr>\n",
       "  </thead>\n",
       "  <tbody>\n",
       "    <tr>\n",
       "      <th>s1</th>\n",
       "      <td>xx</td>\n",
       "      <td>0.000000</td>\n",
       "      <td>0.000000</td>\n",
       "      <td>0.016011</td>\n",
       "      <td>0.000000</td>\n",
       "      <td>0.016011</td>\n",
       "      <td>0.0</td>\n",
       "      <td>2.560283</td>\n",
       "      <td>1.0</td>\n",
       "    </tr>\n",
       "    <tr>\n",
       "      <th>s2</th>\n",
       "      <td>xx</td>\n",
       "      <td>0.011325</td>\n",
       "      <td>0.020524</td>\n",
       "      <td>0.020524</td>\n",
       "      <td>0.020524</td>\n",
       "      <td>0.009198</td>\n",
       "      <td>0.0</td>\n",
       "      <td>0.896346</td>\n",
       "      <td>0.0</td>\n",
       "    </tr>\n",
       "  </tbody>\n",
       "</table>\n",
       "</div>"
      ],
      "text/plain": [
       "          sex  loh_both_aut  loh_any_aut  ane_any_aut  ane_both_aut  \\\n",
       "sample_id                                                             \n",
       "s1         xx      0.000000     0.000000     0.016011      0.000000   \n",
       "s2         xx      0.011325     0.020524     0.020524      0.020524   \n",
       "\n",
       "           imb_CN1_aut  imb_CN2_aut  ploidy_CN1  ploidy_CN2  \n",
       "sample_id                                                    \n",
       "s1            0.016011          0.0    2.560283         1.0  \n",
       "s2            0.009198          0.0    0.896346         0.0  "
      ]
     },
     "execution_count": 26,
     "metadata": {},
     "output_type": "execute_result"
    }
   ],
   "source": [
    "ploidy_df = cns.main_ploidy(imp_cns_df)\n",
    "ploidy_df.head()"
   ]
  },
  {
   "cell_type": "markdown",
   "metadata": {},
   "source": [
    "Similarly, we can calculate information about breakpoints. \n",
    "Note that the \"total_cn\" column is added to the data for the calculation:"
   ]
  },
  {
   "cell_type": "code",
   "execution_count": 28,
   "metadata": {},
   "outputs": [
    {
     "data": {
      "text/html": [
       "<div>\n",
       "<style scoped>\n",
       "    .dataframe tbody tr th:only-of-type {\n",
       "        vertical-align: middle;\n",
       "    }\n",
       "\n",
       "    .dataframe tbody tr th {\n",
       "        vertical-align: top;\n",
       "    }\n",
       "\n",
       "    .dataframe thead th {\n",
       "        text-align: right;\n",
       "    }\n",
       "</style>\n",
       "<table border=\"1\" class=\"dataframe\">\n",
       "  <thead>\n",
       "    <tr style=\"text-align: right;\">\n",
       "      <th></th>\n",
       "      <th>sex</th>\n",
       "      <th>breaks_CN1_aut</th>\n",
       "      <th>step_CN1_aut</th>\n",
       "      <th>breaks_CN2_aut</th>\n",
       "      <th>step_CN2_aut</th>\n",
       "      <th>breaks_total_cn_aut</th>\n",
       "      <th>step_total_cn_aut</th>\n",
       "    </tr>\n",
       "    <tr>\n",
       "      <th>sample_id</th>\n",
       "      <th></th>\n",
       "      <th></th>\n",
       "      <th></th>\n",
       "      <th></th>\n",
       "      <th></th>\n",
       "      <th></th>\n",
       "      <th></th>\n",
       "    </tr>\n",
       "  </thead>\n",
       "  <tbody>\n",
       "    <tr>\n",
       "      <th>s1</th>\n",
       "      <td>xx</td>\n",
       "      <td>1</td>\n",
       "      <td>2.0</td>\n",
       "      <td>0</td>\n",
       "      <td>0</td>\n",
       "      <td>1</td>\n",
       "      <td>2.0</td>\n",
       "    </tr>\n",
       "    <tr>\n",
       "      <th>s2</th>\n",
       "      <td>xx</td>\n",
       "      <td>1</td>\n",
       "      <td>2.0</td>\n",
       "      <td>0</td>\n",
       "      <td>0</td>\n",
       "      <td>1</td>\n",
       "      <td>2.0</td>\n",
       "    </tr>\n",
       "  </tbody>\n",
       "</table>\n",
       "</div>"
      ],
      "text/plain": [
       "          sex  breaks_CN1_aut  step_CN1_aut  breaks_CN2_aut  step_CN2_aut  \\\n",
       "sample_id                                                                   \n",
       "s1         xx               1           2.0               0             0   \n",
       "s2         xx               1           2.0               0             0   \n",
       "\n",
       "           breaks_total_cn_aut  step_total_cn_aut  \n",
       "sample_id                                          \n",
       "s1                           1                2.0  \n",
       "s2                           1                2.0  "
      ]
     },
     "execution_count": 28,
     "metadata": {},
     "output_type": "execute_result"
    }
   ],
   "source": [
    "breakage_df = cns.main_breakage(imp_cns_df)\n",
    "breakage_df.head()"
   ]
  },
  {
   "cell_type": "markdown",
   "metadata": {},
   "source": [
    "## Segment and aggregate\n",
    "\n",
    "First we create a consistent segmentation of the data. Since there are two breakpoints, we will have three segments."
   ]
  },
  {
   "cell_type": "code",
   "execution_count": 31,
   "metadata": {},
   "outputs": [
    {
     "data": {
      "text/plain": [
       "{'chr19': [(0, 13000000, 'chr19_0'),\n",
       "  (13000000, 26500000, 'chr19_1'),\n",
       "  (26500000, 59128983, 'chr19_2')]}"
      ]
     },
     "execution_count": 31,
     "metadata": {},
     "output_type": "execute_result"
    }
   ],
   "source": [
    "mcs_segs = cns.cns_df_to_segments(imp_cns_df, process=\"unify\")\n",
    "mcs_segs"
   ]
  },
  {
   "cell_type": "markdown",
   "metadata": {},
   "source": [
    "Using the segmentation, we can aggregate the values of the segments."
   ]
  },
  {
   "cell_type": "code",
   "execution_count": 32,
   "metadata": {},
   "outputs": [
    {
     "data": {
      "text/html": [
       "<div>\n",
       "<style scoped>\n",
       "    .dataframe tbody tr th:only-of-type {\n",
       "        vertical-align: middle;\n",
       "    }\n",
       "\n",
       "    .dataframe tbody tr th {\n",
       "        vertical-align: top;\n",
       "    }\n",
       "\n",
       "    .dataframe thead th {\n",
       "        text-align: right;\n",
       "    }\n",
       "</style>\n",
       "<table border=\"1\" class=\"dataframe\">\n",
       "  <thead>\n",
       "    <tr style=\"text-align: right;\">\n",
       "      <th></th>\n",
       "      <th>sample_id</th>\n",
       "      <th>chrom</th>\n",
       "      <th>start</th>\n",
       "      <th>end</th>\n",
       "      <th>CN1</th>\n",
       "      <th>CN2</th>\n",
       "      <th>name</th>\n",
       "    </tr>\n",
       "  </thead>\n",
       "  <tbody>\n",
       "    <tr>\n",
       "      <th>0</th>\n",
       "      <td>s1</td>\n",
       "      <td>chr19</td>\n",
       "      <td>0</td>\n",
       "      <td>13000000</td>\n",
       "      <td>1.0</td>\n",
       "      <td>1.0</td>\n",
       "      <td>chr19_0</td>\n",
       "    </tr>\n",
       "    <tr>\n",
       "      <th>1</th>\n",
       "      <td>s1</td>\n",
       "      <td>chr19</td>\n",
       "      <td>13000000</td>\n",
       "      <td>26500000</td>\n",
       "      <td>3.0</td>\n",
       "      <td>1.0</td>\n",
       "      <td>chr19_1</td>\n",
       "    </tr>\n",
       "    <tr>\n",
       "      <th>2</th>\n",
       "      <td>s1</td>\n",
       "      <td>chr19</td>\n",
       "      <td>26500000</td>\n",
       "      <td>59128983</td>\n",
       "      <td>3.0</td>\n",
       "      <td>1.0</td>\n",
       "      <td>chr19_2</td>\n",
       "    </tr>\n",
       "    <tr>\n",
       "      <th>3</th>\n",
       "      <td>s2</td>\n",
       "      <td>chr19</td>\n",
       "      <td>0</td>\n",
       "      <td>13000000</td>\n",
       "      <td>2.0</td>\n",
       "      <td>0.0</td>\n",
       "      <td>chr19_0</td>\n",
       "    </tr>\n",
       "    <tr>\n",
       "      <th>4</th>\n",
       "      <td>s2</td>\n",
       "      <td>chr19</td>\n",
       "      <td>13000000</td>\n",
       "      <td>26500000</td>\n",
       "      <td>2.0</td>\n",
       "      <td>0.0</td>\n",
       "      <td>chr19_1</td>\n",
       "    </tr>\n",
       "    <tr>\n",
       "      <th>5</th>\n",
       "      <td>s2</td>\n",
       "      <td>chr19</td>\n",
       "      <td>26500000</td>\n",
       "      <td>59128983</td>\n",
       "      <td>0.0</td>\n",
       "      <td>0.0</td>\n",
       "      <td>chr19_2</td>\n",
       "    </tr>\n",
       "  </tbody>\n",
       "</table>\n",
       "</div>"
      ],
      "text/plain": [
       "  sample_id  chrom     start       end  CN1  CN2     name\n",
       "0        s1  chr19         0  13000000  1.0  1.0  chr19_0\n",
       "1        s1  chr19  13000000  26500000  3.0  1.0  chr19_1\n",
       "2        s1  chr19  26500000  59128983  3.0  1.0  chr19_2\n",
       "3        s2  chr19         0  13000000  2.0  0.0  chr19_0\n",
       "4        s2  chr19  13000000  26500000  2.0  0.0  chr19_1\n",
       "5        s2  chr19  26500000  59128983  0.0  0.0  chr19_2"
      ]
     },
     "execution_count": 32,
     "metadata": {},
     "output_type": "execute_result"
    }
   ],
   "source": [
    "mcs_agg_df = cns.main_aggregate(imp_cns_df, mcs_segs)\n",
    "mcs_agg_df\n"
   ]
  },
  {
   "cell_type": "markdown",
   "metadata": {},
   "source": [
    "We then use fig_bars as it shows the exact segmentation points."
   ]
  },
  {
   "cell_type": "code",
   "execution_count": 33,
   "metadata": {},
   "outputs": [
    {
     "data": {
      "image/png": "[encoded data removed]",
      "text/plain": [
       "<Figure size 400x800 with 2 Axes>"
      ]
     },
     "metadata": {},
     "output_type": "display_data"
    }
   ],
   "source": [
    "cns.fig_bars(mcs_agg_df);"
   ]
  },
  {
   "cell_type": "markdown",
   "metadata": {},
   "source": [
    "## Splitting and filtering\n",
    "\n",
    "Here we further explore the segmentation by removing regions of low mappability (gaps) and splitting the segments into smaller ones.\n",
    "\n",
    "First we load the gap regions."
   ]
  },
  {
   "cell_type": "code",
   "execution_count": 34,
   "metadata": {},
   "outputs": [
    {
     "data": {
      "text/plain": [
       "[(0, 10000, 'telomere'),\n",
       " (10000, 60000, 'contig'),\n",
       " (7346004, 7396004, 'contig'),\n",
       " (8687198, 8737198, 'contig'),\n",
       " (20523415, 20573415, 'clone'),\n",
       " (24631782, 24681782, 'heterochromatin'),\n",
       " (24681782, 27681782, 'centromere'),\n",
       " (27681782, 27731782, 'heterochromatin'),\n",
       " (59118983, 59128983, 'telomere')]"
      ]
     },
     "execution_count": 34,
     "metadata": {},
     "output_type": "execute_result"
    }
   ],
   "source": [
    "gap_segs = cns.make_segments(\"gaps\")\n",
    "gap_segs[\"chr19\"]"
   ]
  },
  {
   "cell_type": "markdown",
   "metadata": {},
   "source": [
    "We then conduct the segmentation with the following:\n",
    "\n",
    "* 10 kb filtering will ignore gaps below this size\n",
    "* applying the gaps will remove the regions that overlap with the gaps\n",
    "* the remainder is split into segments of 3 mb"
   ]
  },
  {
   "cell_type": "code",
   "execution_count": 35,
   "metadata": {},
   "outputs": [
    {
     "data": {
      "text/plain": [
       "[(0, 3250000, 'chr19_0_0'),\n",
       " (3250000, 6500000, 'chr19_0_1'),\n",
       " (6500000, 9750000, 'chr19_0_2'),\n",
       " (9750000, 13000000, 'chr19_0_3'),\n",
       " (13000000, 15907946, 'chr19_1_0')]"
      ]
     },
     "execution_count": 35,
     "metadata": {},
     "output_type": "execute_result"
    }
   ],
   "source": [
    "complex_segs = cns.main_segment(mcs_segs, remove_segs=gap_segs, split_size=3*10**6, filter_size=10**5)\n",
    "complex_segs[\"chr19\"][:5]"
   ]
  },
  {
   "cell_type": "markdown",
   "metadata": {},
   "source": [
    "We again aggregated the CNs into the segments."
   ]
  },
  {
   "cell_type": "code",
   "execution_count": 36,
   "metadata": {},
   "outputs": [
    {
     "data": {
      "text/html": [
       "<div>\n",
       "<style scoped>\n",
       "    .dataframe tbody tr th:only-of-type {\n",
       "        vertical-align: middle;\n",
       "    }\n",
       "\n",
       "    .dataframe tbody tr th {\n",
       "        vertical-align: top;\n",
       "    }\n",
       "\n",
       "    .dataframe thead th {\n",
       "        text-align: right;\n",
       "    }\n",
       "</style>\n",
       "<table border=\"1\" class=\"dataframe\">\n",
       "  <thead>\n",
       "    <tr style=\"text-align: right;\">\n",
       "      <th></th>\n",
       "      <th>sample_id</th>\n",
       "      <th>chrom</th>\n",
       "      <th>start</th>\n",
       "      <th>end</th>\n",
       "      <th>CN1</th>\n",
       "      <th>CN2</th>\n",
       "      <th>name</th>\n",
       "    </tr>\n",
       "  </thead>\n",
       "  <tbody>\n",
       "    <tr>\n",
       "      <th>0</th>\n",
       "      <td>s1</td>\n",
       "      <td>chr19</td>\n",
       "      <td>0</td>\n",
       "      <td>3250000</td>\n",
       "      <td>1.0</td>\n",
       "      <td>1.0</td>\n",
       "      <td>chr19_0_0</td>\n",
       "    </tr>\n",
       "    <tr>\n",
       "      <th>1</th>\n",
       "      <td>s1</td>\n",
       "      <td>chr19</td>\n",
       "      <td>3250000</td>\n",
       "      <td>6500000</td>\n",
       "      <td>1.0</td>\n",
       "      <td>1.0</td>\n",
       "      <td>chr19_0_1</td>\n",
       "    </tr>\n",
       "    <tr>\n",
       "      <th>2</th>\n",
       "      <td>s1</td>\n",
       "      <td>chr19</td>\n",
       "      <td>6500000</td>\n",
       "      <td>9750000</td>\n",
       "      <td>1.0</td>\n",
       "      <td>1.0</td>\n",
       "      <td>chr19_0_2</td>\n",
       "    </tr>\n",
       "    <tr>\n",
       "      <th>3</th>\n",
       "      <td>s1</td>\n",
       "      <td>chr19</td>\n",
       "      <td>9750000</td>\n",
       "      <td>13000000</td>\n",
       "      <td>1.0</td>\n",
       "      <td>1.0</td>\n",
       "      <td>chr19_0_3</td>\n",
       "    </tr>\n",
       "    <tr>\n",
       "      <th>4</th>\n",
       "      <td>s1</td>\n",
       "      <td>chr19</td>\n",
       "      <td>13000000</td>\n",
       "      <td>15907946</td>\n",
       "      <td>3.0</td>\n",
       "      <td>1.0</td>\n",
       "      <td>chr19_1_0</td>\n",
       "    </tr>\n",
       "  </tbody>\n",
       "</table>\n",
       "</div>"
      ],
      "text/plain": [
       "  sample_id  chrom     start       end  CN1  CN2       name\n",
       "0        s1  chr19         0   3250000  1.0  1.0  chr19_0_0\n",
       "1        s1  chr19   3250000   6500000  1.0  1.0  chr19_0_1\n",
       "2        s1  chr19   6500000   9750000  1.0  1.0  chr19_0_2\n",
       "3        s1  chr19   9750000  13000000  1.0  1.0  chr19_0_3\n",
       "4        s1  chr19  13000000  15907946  3.0  1.0  chr19_1_0"
      ]
     },
     "execution_count": 36,
     "metadata": {},
     "output_type": "execute_result"
    }
   ],
   "source": [
    "complex_agg_df = cns.main_aggregate(imp_cns_df, complex_segs)\n",
    "complex_agg_df.head()"
   ]
  },
  {
   "cell_type": "markdown",
   "metadata": {},
   "source": [
    "And display the segmentation. This time we first add a sum column to the data and only plot that one (total copy number)."
   ]
  },
  {
   "cell_type": "code",
   "execution_count": 37,
   "metadata": {},
   "outputs": [
    {
     "data": {
      "image/png": "[encoded data removed]",
      "text/plain": [
       "<Figure size 400x400 with 1 Axes>"
      ]
     },
     "metadata": {},
     "output_type": "display_data"
    }
   ],
   "source": [
    "with_total_cn_df = cns.add_total_cn(complex_agg_df)\n",
    "cns.fig_bars(with_total_cn_df, cn_columns='total_cn');"
   ]
  },
  {
   "cell_type": "markdown",
   "metadata": {},
   "source": [
    "For more fine grained segmentations we can also plot CN lines. Note the interpolation between neighbours."
   ]
  },
  {
   "cell_type": "code",
   "execution_count": 38,
   "metadata": {},
   "outputs": [
    {
     "data": {
      "image/png": "[encoded data removed]",
      "text/plain": [
       "<Figure size 400x400 with 1 Axes>"
      ]
     },
     "metadata": {},
     "output_type": "display_data"
    }
   ],
   "source": [
    "cns.fig_lines(with_total_cn_df, cn_columns=\"total_cn\");"
   ]
  },
  {
   "cell_type": "markdown",
   "metadata": {},
   "source": [
    "## Conversions\n",
    "\n",
    "Below we show conversions between data formats.\n",
    "\n",
    "This is in particular useful for data processing pipelines, where we might want to have our data as feature sets. \n",
    "These can be then fed into machine learning models."
   ]
  },
  {
   "cell_type": "code",
   "execution_count": 39,
   "metadata": {},
   "outputs": [
    {
     "name": "stdout",
     "output_type": "stream",
     "text": [
      "(2, 3, 18)\n",
      "['s1', 's2']\n"
     ]
    },
    {
     "data": {
      "text/html": [
       "<div>\n",
       "<style scoped>\n",
       "    .dataframe tbody tr th:only-of-type {\n",
       "        vertical-align: middle;\n",
       "    }\n",
       "\n",
       "    .dataframe tbody tr th {\n",
       "        vertical-align: top;\n",
       "    }\n",
       "\n",
       "    .dataframe thead th {\n",
       "        text-align: right;\n",
       "    }\n",
       "</style>\n",
       "<table border=\"1\" class=\"dataframe\">\n",
       "  <thead>\n",
       "    <tr style=\"text-align: right;\">\n",
       "      <th></th>\n",
       "      <th>chrom</th>\n",
       "      <th>start</th>\n",
       "      <th>end</th>\n",
       "    </tr>\n",
       "    <tr>\n",
       "      <th>name</th>\n",
       "      <th></th>\n",
       "      <th></th>\n",
       "      <th></th>\n",
       "    </tr>\n",
       "  </thead>\n",
       "  <tbody>\n",
       "    <tr>\n",
       "      <th>chr19_0_0</th>\n",
       "      <td>chr19</td>\n",
       "      <td>0</td>\n",
       "      <td>3250000</td>\n",
       "    </tr>\n",
       "    <tr>\n",
       "      <th>chr19_0_1</th>\n",
       "      <td>chr19</td>\n",
       "      <td>3250000</td>\n",
       "      <td>6500000</td>\n",
       "    </tr>\n",
       "    <tr>\n",
       "      <th>chr19_0_2</th>\n",
       "      <td>chr19</td>\n",
       "      <td>6500000</td>\n",
       "      <td>9750000</td>\n",
       "    </tr>\n",
       "    <tr>\n",
       "      <th>chr19_0_3</th>\n",
       "      <td>chr19</td>\n",
       "      <td>9750000</td>\n",
       "      <td>13000000</td>\n",
       "    </tr>\n",
       "    <tr>\n",
       "      <th>chr19_1_0</th>\n",
       "      <td>chr19</td>\n",
       "      <td>13000000</td>\n",
       "      <td>15907946</td>\n",
       "    </tr>\n",
       "  </tbody>\n",
       "</table>\n",
       "</div>"
      ],
      "text/plain": [
       "           chrom     start       end\n",
       "name                                \n",
       "chr19_0_0  chr19         0   3250000\n",
       "chr19_0_1  chr19   3250000   6500000\n",
       "chr19_0_2  chr19   6500000   9750000\n",
       "chr19_0_3  chr19   9750000  13000000\n",
       "chr19_1_0  chr19  13000000  15907946"
      ]
     },
     "execution_count": 39,
     "metadata": {},
     "output_type": "execute_result"
    }
   ],
   "source": [
    "features, samples, positions = cns.bins_to_features(complex_agg_df)\n",
    "print(features.shape)\n",
    "print(samples)\n",
    "positions.head()"
   ]
  },
  {
   "cell_type": "markdown",
   "metadata": {},
   "source": [
    "Conversions between segments and CNS_df:"
   ]
  },
  {
   "cell_type": "code",
   "execution_count": 41,
   "metadata": {},
   "outputs": [
    {
     "data": {
      "text/plain": [
       "[(0, 3250000, 'chr19_0_0'),\n",
       " (3250000, 6500000, 'chr19_0_1'),\n",
       " (6500000, 9750000, 'chr19_0_2'),\n",
       " (9750000, 13000000, 'chr19_0_3'),\n",
       " (13000000, 15907946, 'chr19_1_0'),\n",
       " (15907946, 18815891, 'chr19_1_1'),\n",
       " (18815891, 21723837, 'chr19_1_2'),\n",
       " (21723837, 24631782, 'chr19_1_3'),\n",
       " (27731782, 30871502, 'chr19_2_0'),\n",
       " (30871502, 34011222, 'chr19_2_1'),\n",
       " (34011222, 37150942, 'chr19_2_2'),\n",
       " (37150942, 40290662, 'chr19_2_3'),\n",
       " (40290662, 43430383, 'chr19_2_4'),\n",
       " (43430383, 46570103, 'chr19_2_5'),\n",
       " (46570103, 49709823, 'chr19_2_6'),\n",
       " (49709823, 52849543, 'chr19_2_7'),\n",
       " (52849543, 55989263, 'chr19_2_8'),\n",
       " (55989263, 59128983, 'chr19_2_9'),\n",
       " (0, 3250000, 'chr19_0_0'),\n",
       " (3250000, 6500000, 'chr19_0_1'),\n",
       " (6500000, 9750000, 'chr19_0_2'),\n",
       " (9750000, 13000000, 'chr19_0_3'),\n",
       " (13000000, 15907946, 'chr19_1_0'),\n",
       " (15907946, 18815891, 'chr19_1_1'),\n",
       " (18815891, 21723837, 'chr19_1_2'),\n",
       " (21723837, 24631782, 'chr19_1_3'),\n",
       " (27731782, 30871502, 'chr19_2_0'),\n",
       " (30871502, 34011222, 'chr19_2_1'),\n",
       " (34011222, 37150942, 'chr19_2_2'),\n",
       " (37150942, 40290662, 'chr19_2_3'),\n",
       " (40290662, 43430383, 'chr19_2_4'),\n",
       " (43430383, 46570103, 'chr19_2_5'),\n",
       " (46570103, 49709823, 'chr19_2_6'),\n",
       " (49709823, 52849543, 'chr19_2_7'),\n",
       " (52849543, 55989263, 'chr19_2_8'),\n",
       " (55989263, 59128983, 'chr19_2_9')]"
      ]
     },
     "execution_count": 41,
     "metadata": {},
     "output_type": "execute_result"
    }
   ],
   "source": [
    "cns.cns_df_to_segments(complex_agg_df)[\"chr19\"]"
   ]
  },
  {
   "cell_type": "code",
   "execution_count": 42,
   "metadata": {},
   "outputs": [
    {
     "data": {
      "text/html": [
       "<div>\n",
       "<style scoped>\n",
       "    .dataframe tbody tr th:only-of-type {\n",
       "        vertical-align: middle;\n",
       "    }\n",
       "\n",
       "    .dataframe tbody tr th {\n",
       "        vertical-align: top;\n",
       "    }\n",
       "\n",
       "    .dataframe thead th {\n",
       "        text-align: right;\n",
       "    }\n",
       "</style>\n",
       "<table border=\"1\" class=\"dataframe\">\n",
       "  <thead>\n",
       "    <tr style=\"text-align: right;\">\n",
       "      <th></th>\n",
       "      <th>sample_id</th>\n",
       "      <th>chrom</th>\n",
       "      <th>start</th>\n",
       "      <th>end</th>\n",
       "      <th>name</th>\n",
       "      <th>cn</th>\n",
       "    </tr>\n",
       "  </thead>\n",
       "  <tbody>\n",
       "    <tr>\n",
       "      <th>0</th>\n",
       "      <td>segment</td>\n",
       "      <td>chr1</td>\n",
       "      <td>0</td>\n",
       "      <td>10000</td>\n",
       "      <td>telomere</td>\n",
       "      <td>2</td>\n",
       "    </tr>\n",
       "    <tr>\n",
       "      <th>1</th>\n",
       "      <td>segment</td>\n",
       "      <td>chr1</td>\n",
       "      <td>177417</td>\n",
       "      <td>227417</td>\n",
       "      <td>clone</td>\n",
       "      <td>2</td>\n",
       "    </tr>\n",
       "    <tr>\n",
       "      <th>2</th>\n",
       "      <td>segment</td>\n",
       "      <td>chr1</td>\n",
       "      <td>267719</td>\n",
       "      <td>317719</td>\n",
       "      <td>contig</td>\n",
       "      <td>2</td>\n",
       "    </tr>\n",
       "    <tr>\n",
       "      <th>3</th>\n",
       "      <td>segment</td>\n",
       "      <td>chr1</td>\n",
       "      <td>471368</td>\n",
       "      <td>521368</td>\n",
       "      <td>contig</td>\n",
       "      <td>2</td>\n",
       "    </tr>\n",
       "    <tr>\n",
       "      <th>4</th>\n",
       "      <td>segment</td>\n",
       "      <td>chr1</td>\n",
       "      <td>2634220</td>\n",
       "      <td>2684220</td>\n",
       "      <td>clone</td>\n",
       "      <td>2</td>\n",
       "    </tr>\n",
       "  </tbody>\n",
       "</table>\n",
       "</div>"
      ],
      "text/plain": [
       "  sample_id chrom    start      end      name  cn\n",
       "0   segment  chr1        0    10000  telomere   2\n",
       "1   segment  chr1   177417   227417     clone   2\n",
       "2   segment  chr1   267719   317719    contig   2\n",
       "3   segment  chr1   471368   521368    contig   2\n",
       "4   segment  chr1  2634220  2684220     clone   2"
      ]
     },
     "execution_count": 42,
     "metadata": {},
     "output_type": "execute_result"
    }
   ],
   "source": [
    "cns.segments_to_cns_df(gap_segs).head()"
   ]
  },
  {
   "cell_type": "markdown",
   "metadata": {},
   "source": [
    "Conversion between segments and breakpoints:"
   ]
  },
  {
   "cell_type": "code",
   "execution_count": 43,
   "metadata": {},
   "outputs": [
    {
     "data": {
      "text/plain": [
       "[0, 10000, 60000, 7346004, 7396004]"
      ]
     },
     "execution_count": 43,
     "metadata": {},
     "output_type": "execute_result"
    }
   ],
   "source": [
    "cns.segments_to_breaks(gap_segs)[\"chr19\"][:5]"
   ]
  },
  {
   "cell_type": "code",
   "execution_count": 44,
   "metadata": {},
   "outputs": [
    {
     "data": {
      "text/plain": [
       "{'chr19': [(0, 10000, 'chr19_0'), (10000, 30000, 'chr19_1')]}"
      ]
     },
     "execution_count": 44,
     "metadata": {},
     "output_type": "execute_result"
    }
   ],
   "source": [
    "cns.breaks_to_segments({\"chr19\" : [0, 10000, 30000]})"
   ]
  }
 ],
 "metadata": {
  "kernelspec": {
   "display_name": "Python 3",
   "language": "python",
   "name": "python3"
  },
  "language_info": {
   "codemirror_mode": {
    "name": "ipython",
    "version": 3
   },
   "file_extension": ".py",
   "mimetype": "text/x-python",
   "name": "python",
   "nbconvert_exporter": "python",
   "pygments_lexer": "ipython3",
   "version": "3.11.7"
  }
 },
 "nbformat": 4,
 "nbformat_minor": 2
}

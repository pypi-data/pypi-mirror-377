{
 "cells": [
  {
   "cell_type": "markdown",
   "metadata": {},
   "source": [
    "# Adaptive Stepping\n",
    "\n",
    "Demonstration of different approaches to taking adaptive time steps."
   ]
  },
  {
   "cell_type": "code",
   "execution_count": 1,
   "metadata": {
    "ExecuteTime": {
     "end_time": "2020-12-09T04:20:03.285706Z",
     "start_time": "2020-12-09T04:20:01.592185Z"
    }
   },
   "outputs": [],
   "source": [
    "%load_ext autoreload\n",
    "%autoreload 2\n",
    "\n",
    "%matplotlib inline"
   ]
  },
  {
   "cell_type": "markdown",
   "metadata": {},
   "source": [
    "Using a trivial diffusion problem as an example:"
   ]
  },
  {
   "cell_type": "code",
   "execution_count": 2,
   "metadata": {
    "ExecuteTime": {
     "end_time": "2020-12-09T04:20:06.636738Z",
     "start_time": "2020-12-09T04:20:04.334676Z"
    }
   },
   "outputs": [],
   "source": [
    "import fipy as fp\n",
    "from fipy.tools import numerix"
   ]
  },
  {
   "cell_type": "markdown",
   "metadata": {},
   "source": [
    "Declare a 1D mesh"
   ]
  },
  {
   "cell_type": "code",
   "execution_count": 3,
   "metadata": {
    "ExecuteTime": {
     "end_time": "2020-12-09T04:20:07.845427Z",
     "start_time": "2020-12-09T04:20:07.792187Z"
    }
   },
   "outputs": [],
   "source": [
    "nx = 50\n",
    "dx = 1.\n",
    "L = nx * dx\n",
    "mesh = fp.Grid1D(nx=nx, dx=dx)\n",
    "x = mesh.cellCenters[0]"
   ]
  },
  {
   "cell_type": "markdown",
   "metadata": {},
   "source": [
    "Instantiate a solution variable $\\phi$ on that mesh"
   ]
  },
  {
   "cell_type": "code",
   "execution_count": 4,
   "metadata": {
    "ExecuteTime": {
     "end_time": "2020-12-09T04:20:10.625478Z",
     "start_time": "2020-12-09T04:20:10.599971Z"
    }
   },
   "outputs": [],
   "source": [
    "phi = fp.CellVariable(mesh=mesh, name=r\"$\\phi$\", value=0., hasOld=True)"
   ]
  },
  {
   "cell_type": "markdown",
   "metadata": {},
   "source": [
    "Create a viewer to see the evolution of $\\phi$"
   ]
  },
  {
   "cell_type": "code",
   "execution_count": 20,
   "metadata": {
    "ExecuteTime": {
     "end_time": "2020-12-09T04:24:24.314647Z",
     "start_time": "2020-12-09T04:24:24.107540Z"
    }
   },
   "outputs": [
    {
     "data": {
      "image/png": "[encoded data removed]",
      "text/plain": [
       "<Figure size 288x288 with 1 Axes>"
      ]
     },
     "metadata": {
      "needs_background": "light"
     },
     "output_type": "display_data"
    }
   ],
   "source": [
    "viewer = fp.Viewer(vars=phi, datamin=-1.1, datamax=1.1)"
   ]
  },
  {
   "cell_type": "markdown",
   "metadata": {
    "ExecuteTime": {
     "end_time": "2020-12-03T21:20:45.583485Z",
     "start_time": "2020-12-03T21:20:45.578346Z"
    }
   },
   "source": [
    "Declare a diffusion equation with a simple, non-linear diffusion coefficient"
   ]
  },
  {
   "cell_type": "code",
   "execution_count": 6,
   "metadata": {
    "ExecuteTime": {
     "end_time": "2020-12-09T04:20:35.462906Z",
     "start_time": "2020-12-09T04:20:35.416666Z"
    }
   },
   "outputs": [],
   "source": [
    "D = 1.\n",
    "eq = fp.TransientTerm() == fp.DiffusionTerm(coeff=D * (1 - phi))"
   ]
  },
  {
   "cell_type": "code",
   "execution_count": 68,
   "metadata": {
    "ExecuteTime": {
     "end_time": "2020-12-09T04:55:21.327754Z",
     "start_time": "2020-12-09T04:55:21.297471Z"
    }
   },
   "outputs": [],
   "source": [
    "def testfunc(t):\n",
    "    return numerix.tanh((t - totaltime / 2.) / (2 * totaltime / 100))    "
   ]
  },
  {
   "cell_type": "markdown",
   "metadata": {},
   "source": [
    "Determine a desired time step and total runtime, as well as the intervals to capture results"
   ]
  },
  {
   "cell_type": "code",
   "execution_count": 21,
   "metadata": {
    "ExecuteTime": {
     "end_time": "2020-12-09T04:24:30.885811Z",
     "start_time": "2020-12-09T04:24:30.858766Z"
    }
   },
   "outputs": [],
   "source": [
    "dt = 100. * dx**2 / (2 * D)\n",
    "totaltime = 1000.\n",
    "checkpoints = (fp.numerix.arange(int(totaltime / dt)) + 1) * dt"
   ]
  },
  {
   "cell_type": "markdown",
   "metadata": {},
   "source": [
    "## Fixed time step\n",
    "\n",
    "First solve with uniform time steps. This problem is unconditionally stable, so we can actually take the full size steps."
   ]
  },
  {
   "cell_type": "markdown",
   "metadata": {},
   "source": [
    "Initialize an enriched region in the middle of the domain"
   ]
  },
  {
   "cell_type": "code",
   "execution_count": 8,
   "metadata": {
    "ExecuteTime": {
     "end_time": "2020-12-08T20:55:20.521447Z",
     "start_time": "2020-12-08T20:55:20.491610Z"
    }
   },
   "outputs": [],
   "source": [
    "phi.value = 0.\n",
    "phi.setValue(1., where=(x > L/2. - L/10.) & (x < L/2. + L/10.))"
   ]
  },
  {
   "cell_type": "markdown",
   "metadata": {},
   "source": [
    "Create storage for time steps taken and elapsed time at each step"
   ]
  },
  {
   "cell_type": "code",
   "execution_count": 9,
   "metadata": {
    "ExecuteTime": {
     "end_time": "2020-12-08T20:55:20.549795Z",
     "start_time": "2020-12-08T20:55:20.525183Z"
    }
   },
   "outputs": [],
   "source": [
    "fix_dts = []\n",
    "fix_elapseds = []"
   ]
  },
  {
   "cell_type": "markdown",
   "metadata": {},
   "source": [
    "Solve and plot at each interval"
   ]
  },
  {
   "cell_type": "code",
   "execution_count": 10,
   "metadata": {
    "ExecuteTime": {
     "end_time": "2020-12-08T20:55:23.306113Z",
     "start_time": "2020-12-08T20:55:20.551909Z"
    }
   },
   "outputs": [
    {
     "data": {
      "image/png": "[encoded data removed]",
      "text/plain": [
       "<fipy.viewers.matplotlibViewer.matplotlib1DViewer.Matplotlib1DViewer at 0x7fd85199b940>"
      ]
     },
     "metadata": {},
     "output_type": "display_data"
    },
    {
     "data": {
      "text/plain": [
       "<Figure size 432x288 with 0 Axes>"
      ]
     },
     "metadata": {},
     "output_type": "display_data"
    }
   ],
   "source": [
    "total_elapsed = 0.\n",
    "\n",
    "for until in checkpoints:\n",
    "    phi.updateOld()\n",
    "    eq.solve(var=phi, dt=dt)\n",
    "    viewer.plot()\n",
    "\n",
    "    total_elapsed += dt\n",
    "    \n",
    "    fix_dts.append(dt)\n",
    "    fix_elapseds.append(total_elapsed)"
   ]
  },
  {
   "cell_type": "markdown",
   "metadata": {},
   "source": [
    "## PIDStepper\n",
    "\n",
    "Next, adapt time steps using a [proportional-integral-derivative (PID)](https://en.wikipedia.org/wiki/PID_controller) controller."
   ]
  },
  {
   "cell_type": "markdown",
   "metadata": {},
   "source": [
    "To use the stepper, create a subclass that customizes the actions to take for each step.\n",
    "\n",
    "Define a function to calculate an error metric to use for adaptation. Here, we calculate the $L_1$ norm of `var - var.old` normalized to the $L_1$ norm of `var.old`.\n",
    "\n",
    "Optionally override the `success()` method to perform after a successful adaptive solution step. The `triedStep` argument is the time step that was actually taken and `error` is the value returned by `calcError`. Be sure to return the result from the inherited `success()` method to ensure that all necessary actions are taken (like calculating the next time step).\n",
    "\n",
    "You could also optionally define a `failure()` method to perform whenever `solve()` returns an error greater than one. This would take the same arguments as `success()` and should likewise return the next time step to take."
   ]
  },
  {
   "cell_type": "code",
   "execution_count": 79,
   "metadata": {
    "ExecuteTime": {
     "end_time": "2020-12-09T05:00:21.564800Z",
     "start_time": "2020-12-09T05:00:21.533659Z"
    }
   },
   "outputs": [],
   "source": [
    "from fipy.steppers import PIDStepper\n",
    "\n",
    "class MyPIDStepper(PIDStepper):\n",
    "    \n",
    "    def solve(self, tryStep):\n",
    "        for var, eqn, bcs in self.solvefor:\n",
    "            var.updateOld()\n",
    "\n",
    "        error = 0.\n",
    "        for var, eqn, bcs in self.solvefor:\n",
    "            var.value = testfunc(self.current + tryStep)\n",
    "            \n",
    "            res = 0.\n",
    "\n",
    "            error = max(error,\n",
    "                        self.calcError(var=var,\n",
    "                                       equation=eqn,\n",
    "                                       boundaryConditions=bcs,\n",
    "                                       residual=res))\n",
    "\n",
    "        return error\n",
    "            \n",
    "    def calcError(self, var, equation, boundaryConditions, residual):\n",
    "        denom = numerix.L1norm(var.old)\n",
    "        return numerix.L1norm(var - var.old) / (denom + (denom == 0)) + 1e-16\n",
    "\n",
    "    def success(self, triedStep, error):\n",
    "        viewer.plot()\n",
    "        return super(MyPIDStepper, self).success(triedStep=triedStep, error=error)\n",
    "\n",
    "#     def failure(self, triedStep, error):\n",
    "#         viewer.plot()\n",
    "#         print(triedStep, error)\n",
    "#         return super(MyPIDStepper, self).failure(triedStep=triedStep, error=error)    "
   ]
  },
  {
   "cell_type": "markdown",
   "metadata": {},
   "source": [
    "Finally, instantiate a stepper with the variable and equation to solve for and the smallest step to allow."
   ]
  },
  {
   "cell_type": "code",
   "execution_count": 80,
   "metadata": {
    "ExecuteTime": {
     "end_time": "2020-12-09T05:00:22.809247Z",
     "start_time": "2020-12-09T05:00:22.780932Z"
    }
   },
   "outputs": [],
   "source": [
    "pidstepper = MyPIDStepper(solvefor=((phi, eq, ()),), minStep=dt / 1000)"
   ]
  },
  {
   "cell_type": "markdown",
   "metadata": {},
   "source": [
    "Re-initialize an enriched region in the middle of the domain"
   ]
  },
  {
   "cell_type": "code",
   "execution_count": 81,
   "metadata": {
    "ExecuteTime": {
     "end_time": "2020-12-09T05:00:23.722599Z",
     "start_time": "2020-12-09T05:00:23.697190Z"
    }
   },
   "outputs": [],
   "source": [
    "phi.value = -1.1\n",
    "# phi.setValue(1., where=(x > L/2. - L/10.) & (x < L/2. + L/10.))"
   ]
  },
  {
   "cell_type": "markdown",
   "metadata": {},
   "source": [
    "Call `pidstepper.step()` for each desired time step. \n",
    "Pass the time to step to `until` and\n",
    "the time step to try first `tryStep`."
   ]
  },
  {
   "cell_type": "code",
   "execution_count": 82,
   "metadata": {
    "ExecuteTime": {
     "end_time": "2020-12-09T05:02:03.331528Z",
     "start_time": "2020-12-09T05:00:25.037057Z"
    }
   },
   "outputs": [
    {
     "data": {
      "image/png": "[encoded data removed]",
      "text/plain": [
       "<fipy.viewers.matplotlibViewer.matplotlib1DViewer.Matplotlib1DViewer at 0x7f7eb8b38400>"
      ]
     },
     "metadata": {},
     "output_type": "display_data"
    },
    {
     "data": {
      "text/plain": [
       "<Figure size 432x288 with 0 Axes>"
      ]
     },
     "metadata": {},
     "output_type": "display_data"
    }
   ],
   "source": [
    "tryStep = pidstepper.minStep\n",
    "for until in checkpoints:\n",
    "    prevStep, tryStep = pidstepper.step(until=until, tryStep=tryStep)"
   ]
  },
  {
   "cell_type": "markdown",
   "metadata": {},
   "source": [
    "## PseudoRKQSStepper\n",
    "\n",
    "Next, adapt time steps using a [pseudo-Runge-Kutta](https://en.wikipedia.org/wiki/Runge%E2%80%93Kutta_methods) controller. We'll use the same error metric and `success()` method as above."
   ]
  },
  {
   "cell_type": "code",
   "execution_count": 62,
   "metadata": {
    "ExecuteTime": {
     "end_time": "2020-12-09T04:47:55.191255Z",
     "start_time": "2020-12-09T04:47:55.150829Z"
    }
   },
   "outputs": [],
   "source": [
    "from fipy.steppers import PseudoRKQSStepper\n",
    "\n",
    "class MyPseudoRKQSStepper(PseudoRKQSStepper):\n",
    "\n",
    "    def solve(self, tryStep):\n",
    "        for var, eqn, bcs in self.solvefor:\n",
    "            var.updateOld()\n",
    "\n",
    "        error = 0.\n",
    "        for var, eqn, bcs in self.solvefor:\n",
    "            var.value = testfunc(self.current + tryStep)\n",
    "            \n",
    "            res = 0.\n",
    "\n",
    "            error = max(error,\n",
    "                        self.calcError(var=var,\n",
    "                                       equation=eqn,\n",
    "                                       boundaryConditions=bcs,\n",
    "                                       residual=res))\n",
    "\n",
    "        return error\n",
    "\n",
    "    def calcError(self, var, equation, boundaryConditions, residual):\n",
    "        denom = numerix.L1norm(var.old)\n",
    "        return numerix.L1norm(var - var.old) / (denom + (denom == 0))\n",
    "\n",
    "    def success(self, triedStep, error):\n",
    "        viewer.plot()\n",
    "        return super(MyPseudoRKQSStepper, self).success(triedStep=triedStep, error=error)\n",
    "\n",
    "rkqsstepper = MyPseudoRKQSStepper(solvefor=((phi, eq, ()),), minStep=dt / 1000)"
   ]
  },
  {
   "cell_type": "markdown",
   "metadata": {},
   "source": [
    "Re-initialize an enriched region in the middle of the domain"
   ]
  },
  {
   "cell_type": "code",
   "execution_count": 63,
   "metadata": {
    "ExecuteTime": {
     "end_time": "2020-12-09T04:47:57.665077Z",
     "start_time": "2020-12-09T04:47:57.640425Z"
    }
   },
   "outputs": [],
   "source": [
    "phi.value = -1.\n",
    "# phi.setValue(1., where=(x > L/2. - L/10.) & (x < L/2. + L/10.))"
   ]
  },
  {
   "cell_type": "markdown",
   "metadata": {},
   "source": [
    "Call `rkqsstepper.step()` for each desired time step, just as for `PIDStepper`."
   ]
  },
  {
   "cell_type": "code",
   "execution_count": 64,
   "metadata": {
    "ExecuteTime": {
     "end_time": "2020-12-09T04:48:04.876996Z",
     "start_time": "2020-12-09T04:47:58.827377Z"
    }
   },
   "outputs": [
    {
     "data": {
      "image/png": "[encoded data removed]",
      "text/plain": [
       "<fipy.viewers.matplotlibViewer.matplotlib1DViewer.Matplotlib1DViewer at 0x7f7eb8b38400>"
      ]
     },
     "metadata": {},
     "output_type": "display_data"
    },
    {
     "data": {
      "text/plain": [
       "<Figure size 432x288 with 0 Axes>"
      ]
     },
     "metadata": {},
     "output_type": "display_data"
    }
   ],
   "source": [
    "tryStep = rkqsstepper.minStep\n",
    "for until in checkpoints:\n",
    "    prevStep, tryStep = rkqsstepper.step(until=until, tryStep=tryStep)"
   ]
  },
  {
   "cell_type": "markdown",
   "metadata": {},
   "source": [
    "## Factor stepper\n",
    "\n",
    "We can create a custom stepper that grows and shrinks by simple factors"
   ]
  },
  {
   "cell_type": "code",
   "execution_count": 102,
   "metadata": {
    "ExecuteTime": {
     "end_time": "2020-12-09T05:09:05.039723Z",
     "start_time": "2020-12-09T05:09:05.003990Z"
    }
   },
   "outputs": [],
   "source": [
    "from fipy.steppers import Stepper\n",
    "\n",
    "class MyFactorStepper(Stepper):\n",
    "\n",
    "    def solve(self, tryStep):\n",
    "        for var, eqn, bcs in self.solvefor:\n",
    "            var.updateOld()\n",
    "\n",
    "        error = 0.\n",
    "        for var, eqn, bcs in self.solvefor:\n",
    "            var.value = testfunc(self.current + tryStep)\n",
    "            \n",
    "            res = 0.\n",
    "\n",
    "            error = max(error,\n",
    "                        self.calcError(var=var,\n",
    "                                       equation=eqn,\n",
    "                                       boundaryConditions=bcs,\n",
    "                                       residual=res))\n",
    "\n",
    "        return error\n",
    "\n",
    "    def _shrinkStep(self, triedStep, error):\n",
    "        return triedStep / 2.\n",
    "\n",
    "    def _calcNext(self, triedStep, error):\n",
    "        return triedStep * 1.2\n",
    "    \n",
    "    def calcError(self, var, equation, boundaryConditions, residual):\n",
    "        denom = numerix.L2norm(var.old)\n",
    "        return numerix.L2norm(var - var.old) / (denom + (denom == 0)) + 1e-16\n",
    "\n",
    "    def success(self, triedStep, error):\n",
    "        viewer.plot()\n",
    "        return super(MyFactorStepper, self).success(triedStep=triedStep, error=error)\n",
    "\n",
    "factorstepper = MyFactorStepper(solvefor=((phi, eq, ()),), minStep=dt / 1000)"
   ]
  },
  {
   "cell_type": "markdown",
   "metadata": {},
   "source": [
    "Re-initialize an enriched region in the middle of the domain"
   ]
  },
  {
   "cell_type": "code",
   "execution_count": 103,
   "metadata": {
    "ExecuteTime": {
     "end_time": "2020-12-09T05:09:05.907741Z",
     "start_time": "2020-12-09T05:09:05.883164Z"
    }
   },
   "outputs": [],
   "source": [
    "phi.value = -1.1\n",
    "# phi.setValue(1., where=(x > L/2. - L/10.) & (x < L/2. + L/10.))"
   ]
  },
  {
   "cell_type": "markdown",
   "metadata": {},
   "source": [
    "Call `factorstepper.step()` for each desired time step, just as for `PIDStepper`."
   ]
  },
  {
   "cell_type": "code",
   "execution_count": 104,
   "metadata": {
    "ExecuteTime": {
     "end_time": "2020-12-09T05:09:12.179467Z",
     "start_time": "2020-12-09T05:09:06.818929Z"
    }
   },
   "outputs": [
    {
     "data": {
      "image/png": "[encoded data removed]",
      "text/plain": [
       "<fipy.viewers.matplotlibViewer.matplotlib1DViewer.Matplotlib1DViewer at 0x7f7eb8b38400>"
      ]
     },
     "metadata": {},
     "output_type": "display_data"
    },
    {
     "data": {
      "text/plain": [
       "<Figure size 432x288 with 0 Axes>"
      ]
     },
     "metadata": {},
     "output_type": "display_data"
    }
   ],
   "source": [
    "tryStep = dt # factorstepper.minStep\n",
    "for until in checkpoints:\n",
    "    prevStep, tryStep = factorstepper.step(until=until, tryStep=tryStep)"
   ]
  },
  {
   "cell_type": "markdown",
   "metadata": {
    "ExecuteTime": {
     "end_time": "2020-12-02T20:52:21.957242Z",
     "start_time": "2020-12-02T20:52:21.935123Z"
    }
   },
   "source": [
    "## explicit stepping\n",
    "\n",
    "While the above works, the whole process of defining and passing around helper functions can be kind of opaque and more trouble than it's worth.\n",
    "\n",
    "In many cases, explicitly adapting the time step in the solution loop can be quite effective."
   ]
  },
  {
   "cell_type": "markdown",
   "metadata": {},
   "source": [
    "Re-initialize an enriched region in the middle of the domain"
   ]
  },
  {
   "cell_type": "code",
   "execution_count": 21,
   "metadata": {
    "ExecuteTime": {
     "end_time": "2020-12-08T20:55:40.505900Z",
     "start_time": "2020-12-08T20:55:40.479766Z"
    }
   },
   "outputs": [],
   "source": [
    "phi.value = 0.\n",
    "phi.setValue(1., where=(x > L/2. - L/10.) & (x < L/2. + L/10.))"
   ]
  },
  {
   "cell_type": "markdown",
   "metadata": {
    "ExecuteTime": {
     "end_time": "2020-12-03T21:52:23.557604Z",
     "start_time": "2020-12-03T21:52:23.365293Z"
    }
   },
   "source": [
    "Create storage for time steps taken and elapsed time at each step"
   ]
  },
  {
   "cell_type": "code",
   "execution_count": 22,
   "metadata": {
    "ExecuteTime": {
     "end_time": "2020-12-08T20:55:40.536300Z",
     "start_time": "2020-12-08T20:55:40.508366Z"
    }
   },
   "outputs": [],
   "source": [
    "explicit_dts = []\n",
    "explicit_elapseds = []"
   ]
  },
  {
   "cell_type": "markdown",
   "metadata": {},
   "source": [
    "We use the same error function as before"
   ]
  },
  {
   "cell_type": "code",
   "execution_count": 23,
   "metadata": {
    "ExecuteTime": {
     "end_time": "2020-12-08T20:55:40.569188Z",
     "start_time": "2020-12-08T20:55:40.543411Z"
    }
   },
   "outputs": [],
   "source": [
    "def calcError(var):\n",
    "    denom = numerix.L1norm(var.old)\n",
    "    return numerix.L1norm(var - var.old) / (denom + (denom == 0))"
   ]
  },
  {
   "cell_type": "markdown",
   "metadata": {},
   "source": [
    "Iterate over desired time steps, starting with an artificially small one, and grow or shrink by fixed factors"
   ]
  },
  {
   "cell_type": "code",
   "execution_count": 24,
   "metadata": {
    "ExecuteTime": {
     "end_time": "2020-12-08T20:55:47.783036Z",
     "start_time": "2020-12-08T20:55:40.571916Z"
    }
   },
   "outputs": [
    {
     "data": {
      "image/png": "[encoded data removed]",
      "text/plain": [
       "<fipy.viewers.matplotlibViewer.matplotlib1DViewer.Matplotlib1DViewer at 0x7fd85199b940>"
      ]
     },
     "metadata": {},
     "output_type": "display_data"
    },
    {
     "data": {
      "text/plain": [
       "<Figure size 432x288 with 0 Axes>"
      ]
     },
     "metadata": {},
     "output_type": "display_data"
    }
   ],
   "source": [
    "total_elapsed = 0.\n",
    "\n",
    "tryStep = dt / 1000\n",
    "for until in checkpoints:\n",
    "    while total_elapsed < until:\n",
    "        phi.updateOld()\n",
    "        dt_until = (until - total_elapsed)\n",
    "        dt_save = tryStep\n",
    "        if dt_until < tryStep:\n",
    "            tryStep = dt_until\n",
    "        res = eq.sweep(var=phi, dt=tryStep)\n",
    "        \n",
    "        if calcError(phi) < 1.:\n",
    "            total_elapsed += tryStep\n",
    "\n",
    "            explicit_dts.append(tryStep)\n",
    "            explicit_elapseds.append(total_elapsed)\n",
    "\n",
    "            tryStep = dt_save\n",
    "            \n",
    "            tryStep *= 1.2\n",
    "            \n",
    "            viewer.plot()\n",
    "        else:\n",
    "            phi.value = phi.old.value\n",
    "            dt /= 2."
   ]
  },
  {
   "cell_type": "markdown",
   "metadata": {},
   "source": [
    "This involves a bit more code you need to write, and doesn't handle all of the conditions that `Stepper` does, but may be more transparent if you're not comfortable overriding Python classes."
   ]
  },
  {
   "cell_type": "markdown",
   "metadata": {},
   "source": [
    "## Compare results\n",
    "\n",
    "None of these have been tuned, and this diffusion problem isn't much of a test, as it's unconditionally stable, but once they get going, all exhibit about the same acceleration."
   ]
  },
  {
   "cell_type": "code",
   "execution_count": 47,
   "metadata": {
    "ExecuteTime": {
     "end_time": "2020-12-09T04:40:24.676285Z",
     "start_time": "2020-12-09T04:40:24.652421Z"
    }
   },
   "outputs": [],
   "source": [
    "from matplotlib import pyplot as plt"
   ]
  },
  {
   "cell_type": "code",
   "execution_count": 105,
   "metadata": {
    "ExecuteTime": {
     "end_time": "2020-12-09T05:09:15.860582Z",
     "start_time": "2020-12-09T05:09:15.673871Z"
    }
   },
   "outputs": [
    {
     "data": {
      "text/plain": [
       "[<matplotlib.lines.Line2D at 0x7f7efa06a898>]"
      ]
     },
     "execution_count": 105,
     "metadata": {},
     "output_type": "execute_result"
    },
    {
     "data": {
      "image/png": "[encoded data removed]",
      "text/plain": [
       "<Figure size 432x288 with 1 Axes>"
      ]
     },
     "metadata": {
      "needs_background": "light"
     },
     "output_type": "display_data"
    }
   ],
   "source": [
    "# plt.plot(pidstepper.values, testfunc(numerix.array(pidstepper.values)), linestyle=\"\", marker=\".\", label=\"PID\")\n",
    "# plt.plot(rkqsstepper.values, testfunc(numerix.array(rkqsstepper.values)), linestyle=\"\", marker=\"x\", label=\"RKQS\")\n",
    "plt.plot(factorstepper.values, testfunc(numerix.array(factorstepper.values)), linestyle=\"\", marker=\"+\", label=\"factor\")"
   ]
  },
  {
   "cell_type": "code",
   "execution_count": 106,
   "metadata": {
    "ExecuteTime": {
     "end_time": "2020-12-09T05:09:43.495684Z",
     "start_time": "2020-12-09T05:09:43.064085Z"
    }
   },
   "outputs": [
    {
     "data": {
      "text/plain": [
       "[<matplotlib.lines.Line2D at 0x7f7eb8e51390>]"
      ]
     },
     "execution_count": 106,
     "metadata": {},
     "output_type": "execute_result"
    },
    {
     "data": {
      "image/png": "[encoded data removed]",
      "text/plain": [
       "<Figure size 432x288 with 1 Axes>"
      ]
     },
     "metadata": {
      "needs_background": "light"
     },
     "output_type": "display_data"
    }
   ],
   "source": [
    "plt.semilogy(pidstepper.values, pidstepper.steps, linestyle=\"\", marker=\".\", label=\"PID\")\n",
    "plt.semilogy(rkqsstepper.values, rkqsstepper.steps, linestyle=\"\", marker=\".\", label=\"RKQS\")\n",
    "plt.semilogy(factorstepper.values, factorstepper.steps, linestyle=\"\", marker=\".\", label=\"factor\")"
   ]
  },
  {
   "cell_type": "code",
   "execution_count": 107,
   "metadata": {
    "ExecuteTime": {
     "end_time": "2020-12-09T05:10:26.163625Z",
     "start_time": "2020-12-09T05:10:25.968862Z"
    }
   },
   "outputs": [
    {
     "data": {
      "text/plain": [
       "[<matplotlib.lines.Line2D at 0x7f7ea8d61b70>]"
      ]
     },
     "execution_count": 107,
     "metadata": {},
     "output_type": "execute_result"
    },
    {
     "data": {
      "image/png": "[encoded data removed]",
      "text/plain": [
       "<Figure size 432x288 with 1 Axes>"
      ]
     },
     "metadata": {
      "needs_background": "light"
     },
     "output_type": "display_data"
    }
   ],
   "source": [
    "plt.plot(pidstepper.values, pidstepper.steps, linestyle=\"\", marker=\".\", label=\"PID\")\n",
    "plt.plot(rkqsstepper.values, rkqsstepper.steps, linestyle=\"\", marker=\".\", label=\"RKQS\")\n",
    "plt.plot(factorstepper.values, factorstepper.steps, linestyle=\"\", marker=\".\", label=\"factor\")"
   ]
  },
  {
   "cell_type": "code",
   "execution_count": 26,
   "metadata": {
    "ExecuteTime": {
     "end_time": "2020-12-08T20:55:48.493466Z",
     "start_time": "2020-12-08T20:55:47.811712Z"
    }
   },
   "outputs": [
    {
     "data": {
      "text/plain": [
       "<matplotlib.legend.Legend at 0x7fd8384ef4e0>"
      ]
     },
     "execution_count": 26,
     "metadata": {},
     "output_type": "execute_result"
    },
    {
     "data": {
      "image/png": "[encoded data removed]",
      "text/plain": [
       "<Figure size 432x288 with 1 Axes>"
      ]
     },
     "metadata": {
      "needs_background": "light"
     },
     "output_type": "display_data"
    }
   ],
   "source": [
    "plt.loglog(fix_elapseds, fix_dts, linestyle=\"\", marker=\"o\", label=\"fixed\")\n",
    "plt.loglog(pidstepper.values, pidstepper.steps, linestyle=\"\", marker=\".\", label=\"PID\")\n",
    "plt.loglog(rkqsstepper.values, rkqsstepper.steps, linestyle=\"\", marker=\"x\", label=\"RKQS\")\n",
    "plt.loglog(factorstepper.values, factorstepper.steps, linestyle=\"\", marker=\"x\", label=\"Factor\")\n",
    "plt.loglog(explicit_elapseds, explicit_dts, linestyle=\"\", marker=\"+\", label=\"explicit\")\n",
    "plt.ylabel(r\"$\\Delta t$\")\n",
    "plt.xlabel(r\"$t$\")\n",
    "plt.legend()"
   ]
  },
  {
   "cell_type": "code",
   "execution_count": null,
   "metadata": {},
   "outputs": [],
   "source": []
  }
 ],
 "metadata": {
  "kernelspec": {
   "display_name": "Python 3",
   "language": "python",
   "name": "python3"
  },
  "language_info": {
   "codemirror_mode": {
    "name": "ipython",
    "version": 3
   },
   "file_extension": ".py",
   "mimetype": "text/x-python",
   "name": "python",
   "nbconvert_exporter": "python",
   "pygments_lexer": "ipython3",
   "version": "3.6.7"
  },
  "toc": {
   "base_numbering": 1,
   "nav_menu": {},
   "number_sections": true,
   "sideBar": true,
   "skip_h1_title": false,
   "title_cell": "Table of Contents",
   "title_sidebar": "Contents",
   "toc_cell": false,
   "toc_position": {},
   "toc_section_display": true,
   "toc_window_display": false
  }
 },
 "nbformat": 4,
 "nbformat_minor": 2
}

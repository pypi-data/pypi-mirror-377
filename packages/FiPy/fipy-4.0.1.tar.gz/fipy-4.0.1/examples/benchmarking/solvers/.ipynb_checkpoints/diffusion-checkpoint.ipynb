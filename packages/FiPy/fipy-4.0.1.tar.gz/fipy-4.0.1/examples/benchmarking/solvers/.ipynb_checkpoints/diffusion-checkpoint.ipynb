{
 "cells": [
  {
   "cell_type": "markdown",
   "metadata": {},
   "source": [
    "# Diffusion Benchmark\n",
    "\n",
    "FiPy implementation of diffusion in 2D"
   ]
  },
  {
   "cell_type": "markdown",
   "metadata": {},
   "source": [
    "**Do not edit `diffusion.py`**. Generate the batch-runnable file from the notebook with\n",
    "```bash\n",
    "jupyter nbconvert diffusion.ipynb --to python\n",
    "```"
   ]
  },
  {
   "cell_type": "markdown",
   "metadata": {},
   "source": [
    "## Import Python modules"
   ]
  },
  {
   "cell_type": "code",
   "execution_count": 1,
   "metadata": {
    "ExecuteTime": {
     "end_time": "2019-10-13T11:27:53.359783Z",
     "start_time": "2019-10-13T11:27:51.129990Z"
    }
   },
   "outputs": [],
   "source": [
    "import argparse\n",
    "import json\n",
    "import os\n",
    "import re\n",
    "import sys\n",
    "\n",
    "import fipy as fp\n",
    "from fipy.tools import numerix as nmx\n",
    "from fipy.tools import parallelComm"
   ]
  },
  {
   "cell_type": "markdown",
   "metadata": {},
   "source": [
    "Jupyter notebook handles some things differently than from the commandline"
   ]
  },
  {
   "cell_type": "code",
   "execution_count": 2,
   "metadata": {
    "ExecuteTime": {
     "end_time": "2019-10-13T11:27:53.370454Z",
     "start_time": "2019-10-13T11:27:53.364756Z"
    }
   },
   "outputs": [],
   "source": [
    "try:\n",
    "    from IPython import get_ipython\n",
    "    isnotebook = get_ipython() is not None\n",
    "except:\n",
    "    isnotebook = False"
   ]
  },
  {
   "cell_type": "markdown",
   "metadata": {},
   "source": [
    "## Initialize\n",
    "### Load parameters"
   ]
  },
  {
   "cell_type": "code",
   "execution_count": 24,
   "metadata": {},
   "outputs": [
    {
     "data": {
      "text/plain": [
       "_StoreTrueAction(option_strings=['--store_matrix'], dest='store_matrix', nargs=0, const=True, default=False, type=None, choices=None, required=False, help='store the matrix and RHS vector along with other output', metavar=None)"
      ]
     },
     "execution_count": 24,
     "metadata": {},
     "output_type": "execute_result"
    }
   ],
   "source": [
    "parser = argparse.ArgumentParser()\n",
    "parser.add_argument(\"--output\", help=\"directory to store results in\",\n",
    "                    default=os.getcwd())\n",
    "parser.add_argument(\"--store_by_solver\",\n",
    "                    help=\"store results in nested subdirectories based on solver,\"\n",
    "                    \"preconditioner, and system size\",\n",
    "                    action='store_true')\n",
    "parser.add_argument(\"--restart\", help=\"solution to initialize from\",\n",
    "                    default=None)\n",
    "parser.add_argument(\"--checkpoint_interval\", help=\"frequency to save results\",\n",
    "                    type=float, default=1.)\n",
    "parser.add_argument(\"--totaltime\", help=\"duration of full simulation\",\n",
    "                    type=float, default=1.)\n",
    "parser.add_argument(\"--numberOfElements\", help=\"number of total cells in a Grid2D\",\n",
    "                    type=int, default=1000000)\n",
    "parser.add_argument(\"--solver\", help=\"solver class to use\",\n",
    "                    choices=(\"pcg\", \"cgs\", \"gmres\", \"lu\"), default=\"pcg\")\n",
    "parser.add_argument(\"--preconditioner\", help=\"preconditioner class to use\",\n",
    "                    choices=(\"jacobi\", \"ilu\", \"ssor\", \"icc\", \"none\"), default=\"none\")\n",
    "parser.add_argument(\"--sweeps\", help=\"number of nonlinear sweeps to take\",\n",
    "                    type=int, default=5)\n",
    "parser.add_argument(\"--iterations\", help=\"maximum number of linear iterations to take for each sweep\",\n",
    "                    type=int, default=1000)\n",
    "parser.add_argument(\"--tolerance\", help=\"linear solver tolerance\",\n",
    "                    type=float, default=1e-10)\n",
    "parser.add_argument(\"--left\", help=\"value of left-hand Dirichlet condition\",\n",
    "                    type=float, default=1.)\n",
    "parser.add_argument(\"--right\", help=\"value of right-hand Dirichlet condition\",\n",
    "                    type=float, default=0.)\n",
    "parser.add_argument(\"--store_matrix\",\n",
    "                    help=\"store the matrix and RHS vector along with other output\",\n",
    "                    action='store_true')"
   ]
  },
  {
   "cell_type": "markdown",
   "metadata": {},
   "source": [
    "### Set any parameters for interactive notebook"
   ]
  },
  {
   "cell_type": "code",
   "execution_count": 44,
   "metadata": {
    "ExecuteTime": {
     "end_time": "2019-10-13T11:27:53.395528Z",
     "start_time": "2019-10-13T11:27:53.389310Z"
    }
   },
   "outputs": [],
   "source": [
    "if isnotebook:\n",
    "    # argv = [\"--numberOfElements=10000\", \"--totaltime=1.2\", \"--checkpoint_interval=0.12\",\n",
    "    #         \"--nucleation_scale=100\", \"--output=nucleation6\"]\n",
    "    argv = [\"--numberOfElements=1000000\", \"--output=diffusion01\",\n",
    "           \"--store_matrix\"]\n",
    "else:\n",
    "    argv = None"
   ]
  },
  {
   "cell_type": "code",
   "execution_count": 45,
   "metadata": {},
   "outputs": [],
   "source": [
    "args, unknowns = parser.parse_known_args(args=argv)"
   ]
  },
  {
   "cell_type": "markdown",
   "metadata": {},
   "source": [
    "### Initialize mesh and solution variables\n",
    "\n",
    "Either restart from some `path/to/restart/t={time}.npz`, where the time is assigned to `elapsed`\n",
    "\n",
    "or\n",
    "\n",
    "Create a mesh based on parameters. The default is a 1 x 1 domain subdivided into 1000 cells in each direction."
   ]
  },
  {
   "cell_type": "code",
   "execution_count": 46,
   "metadata": {},
   "outputs": [],
   "source": [
    "nx = ny = int(nmx.sqrt(args.numberOfElements))\n",
    "mesh = fp.Grid2D(nx=nx, Lx=1., ny=ny, Ly=1.)\n",
    "phi = fp.CellVariable(mesh=mesh, name=\"$\\phi$\", value=1., hasOld=True)\n",
    "elapsed = 0."
   ]
  },
  {
   "cell_type": "code",
   "execution_count": 47,
   "metadata": {},
   "outputs": [],
   "source": [
    "if args.restart is not None:\n",
    "    data = nmx.load(args.restart)\n",
    "    lower, upper = int((1000 - nx) / 2), int((1000 + nx) / 2)\n",
    "    phi.setValue(data[\"phi\"][lower:upper, lower:upper].flat)\n",
    "\n",
    "    # scanf(\"%g\") simulator\n",
    "    # https://docs.python.org/3/library/re.html#simulating-scanf\n",
    "    scanf_g = \"[-+]?(\\d+(\\.\\d*)?|\\.\\d+)([eE][-+]?\\d+)?\"\n",
    "    pattern = \".*t=({g})\\.npz\".format(g=scanf_g)\n",
    "    elapsed = float(re.match(pattern, args.restart).group(1))"
   ]
  },
  {
   "cell_type": "code",
   "execution_count": 48,
   "metadata": {
    "ExecuteTime": {
     "end_time": "2019-10-13T11:27:53.457100Z",
     "start_time": "2019-10-13T11:27:53.399834Z"
    }
   },
   "outputs": [],
   "source": [
    "x, y = mesh.cellCenters[0], mesh.cellCenters[1]\n",
    "X, Y = mesh.faceCenters[0], mesh.faceCenters[1]"
   ]
  },
  {
   "cell_type": "code",
   "execution_count": 49,
   "metadata": {
    "ExecuteTime": {
     "end_time": "2019-10-13T11:27:55.857436Z",
     "start_time": "2019-10-13T11:27:53.461310Z"
    }
   },
   "outputs": [
    {
     "data": {
      "image/png": "[encoded data removed]",
      "text/plain": [
       "<fipy.viewers.matplotlibViewer.matplotlib2DGridViewer.Matplotlib2DGridViewer at 0x17afb91e0>"
      ]
     },
     "metadata": {},
     "output_type": "display_data"
    },
    {
     "data": {
      "text/plain": [
       "<Figure size 640x480 with 0 Axes>"
      ]
     },
     "metadata": {},
     "output_type": "display_data"
    },
    {
     "data": {
      "image/png": "[encoded data removed]",
      "text/plain": [
       "<Figure size 600x480 with 2 Axes>"
      ]
     },
     "metadata": {},
     "output_type": "display_data"
    }
   ],
   "source": [
    "if isnotebook:\n",
    "    viewer = fp.Viewer(vars=phi, datamin=0., datamax=1.)\n",
    "    viewer.plot()"
   ]
  },
  {
   "cell_type": "markdown",
   "metadata": {},
   "source": [
    "## Create solver"
   ]
  },
  {
   "cell_type": "code",
   "execution_count": 50,
   "metadata": {},
   "outputs": [],
   "source": [
    "precon = None\n",
    "\n",
    "if args.preconditioner == \"jacobi\":\n",
    "    precon = fp.JacobiPreconditioner()\n",
    "elif args.preconditioner == \"ilu\":\n",
    "    precon = fp.ILUPreconditioner()\n",
    "elif args.preconditioner == \"ssor\":\n",
    "    precon = fp.SSORPreconditioner()\n",
    "elif args.preconditioner == \"icc\":\n",
    "    precon = fp.ICPreconditioner()\n",
    "elif args.preconditioner == \"none\":\n",
    "    precon = None\n",
    "\n",
    "if args.solver == \"cgs\":\n",
    "    solver_class = fp.LinearCGSSolver\n",
    "elif args.solver == \"gmres\":\n",
    "    solver_class = fp.LinearGMRESSolver\n",
    "elif args.solver == \"lu\":\n",
    "    if args.preconditioner != \"none\":\n",
    "        # preconditioned lu doesn't make any sense\n",
    "        exit()\n",
    "\n",
    "    solver_class = fp.LinearLUSolver\n",
    "elif args.solver == \"pcg\":\n",
    "    solver_class = fp.LinearPCGSolver\n",
    "\n",
    "solver = solver_class(tolerance=args.tolerance, criterion=\"initial\",\n",
    "                      iterations=args.iterations, precon=precon)"
   ]
  },
  {
   "cell_type": "markdown",
   "metadata": {
    "ExecuteTime": {
     "end_time": "2019-10-12T12:44:29.458892Z",
     "start_time": "2019-10-12T12:44:29.454698Z"
    }
   },
   "source": [
    "## Define governing equation"
   ]
  },
  {
   "cell_type": "markdown",
   "metadata": {},
   "source": [
    "We solve the non-linear diffusion equation\n",
    "\\begin{align}\n",
    "\\frac{\\partial\\phi}{\\partial t} = \\nabla\\cdot\\left(\\phi\\nabla\\phi\\right)\n",
    "\\end{align}"
   ]
  },
  {
   "cell_type": "code",
   "execution_count": 51,
   "metadata": {},
   "outputs": [],
   "source": [
    "eq = fp.TransientTerm() == fp.DiffusionTerm(coeff=phi)"
   ]
  },
  {
   "cell_type": "markdown",
   "metadata": {},
   "source": [
    "with boundary conditions\n",
    "\\begin{align}\n",
    "\\phi|_{x=0} &= \\phi_\\text{left}\n",
    "\\\\\n",
    "\\phi|_{x=1} &= \\phi_\\text{right}\n",
    "\\\\\n",
    "\\hat{n}\\cdot\\left(\\phi\\nabla\\phi\\right)|_{y=0} &= 0\n",
    "\\\\\n",
    "\\hat{n}\\cdot\\left(\\phi\\nabla\\phi\\right)|_{y=1} &= 0\n",
    "\\end{align}"
   ]
  },
  {
   "cell_type": "code",
   "execution_count": 52,
   "metadata": {},
   "outputs": [],
   "source": [
    "phi.constrain(args.left, where=mesh.facesLeft)\n",
    "phi.constrain(args.right, where=mesh.facesRight)"
   ]
  },
  {
   "cell_type": "markdown",
   "metadata": {},
   "source": [
    "## Setup output"
   ]
  },
  {
   "cell_type": "markdown",
   "metadata": {},
   "source": [
    "### Setup ouput storage"
   ]
  },
  {
   "cell_type": "code",
   "execution_count": 53,
   "metadata": {
    "ExecuteTime": {
     "end_time": "2019-10-13T11:27:57.903813Z",
     "start_time": "2019-10-13T11:27:55.983663Z"
    },
    "tags": []
   },
   "outputs": [
    {
     "name": "stdout",
     "output_type": "stream",
     "text": [
      "storing results in diffusion01\n"
     ]
    }
   ],
   "source": [
    "if (args.output is not None) and (parallelComm.procID == 0):\n",
    "    if args.store_by_solver:\n",
    "        suite = solver.__module__.split('.')[2]\n",
    "        if args.preconditioner is None:\n",
    "            preconditioner_name = \"none\"\n",
    "        else:\n",
    "            preconditioner_name = precon.__class__.__name__\n",
    "        path = os.path.join(args.output, suite,\n",
    "                            solver.__class__.__name__,\n",
    "                            preconditioner_name,\n",
    "                            str(nx * ny))\n",
    "    else:\n",
    "        path = args.output\n",
    "\n",
    "    os.makedirs(path)\n",
    "\n",
    "if parallelComm.procID == 0:\n",
    "    print(\"storing results in {0}\".format(path))"
   ]
  },
  {
   "cell_type": "markdown",
   "metadata": {},
   "source": [
    "### Define output routines"
   ]
  },
  {
   "cell_type": "code",
   "execution_count": 54,
   "metadata": {
    "ExecuteTime": {
     "end_time": "2019-10-13T11:27:57.917659Z",
     "start_time": "2019-10-13T11:27:57.907449Z"
    }
   },
   "outputs": [],
   "source": [
    "def savePhi(elapsed):\n",
    "    phi_value = phi.globalValue.reshape((nx, ny))\n",
    "    if parallelComm.procID == 0:\n",
    "        fname = os.path.join(path, \"t={}.npz\".format(elapsed))\n",
    "        nmx.savez(fname, phi=phi_value)\n",
    "\n",
    "def saveMatrix(elapsed):\n",
    "    mtxname = os.path.join(path, \"t={}.mtx\".format(elapsed))\n",
    "    eq.matrix.exportMmf(mtxname)\n",
    "    \n",
    "    rhs_value = eq.RHSvector\n",
    "    if parallelComm.procID == 0:\n",
    "        rhsname = os.path.join(path, \"t={}.rhs.npz\".format(elapsed))\n",
    "        nmx.savez(rhsname, rhs=rhs_value)\n",
    "\n",
    "def checkpoint_data(elapsed, store_matrix=False):\n",
    "    savePhi(elapsed)\n",
    "    if store_matrix:\n",
    "        saveMatrix(elapsed)"
   ]
  },
  {
   "cell_type": "markdown",
   "metadata": {},
   "source": [
    "### Output initial condition"
   ]
  },
  {
   "cell_type": "markdown",
   "metadata": {},
   "source": [
    "### Figure out when to save"
   ]
  },
  {
   "cell_type": "code",
   "execution_count": 55,
   "metadata": {
    "ExecuteTime": {
     "end_time": "2019-10-13T11:27:57.929625Z",
     "start_time": "2019-10-13T11:27:57.922003Z"
    },
    "code_folding": [
     2
    ]
   },
   "outputs": [],
   "source": [
    "checkpoints = (fp.numerix.arange(int(elapsed / args.checkpoint_interval),\n",
    "                                 int(args.totaltime / args.checkpoint_interval))\n",
    "               + 1) * args.checkpoint_interval\n",
    "\n",
    "checkpoints.sort()"
   ]
  },
  {
   "cell_type": "code",
   "execution_count": 56,
   "metadata": {
    "ExecuteTime": {
     "end_time": "2019-10-13T11:27:57.995434Z",
     "start_time": "2019-10-13T11:27:57.934002Z"
    }
   },
   "outputs": [],
   "source": [
    "checkpoint_data(elapsed)"
   ]
  },
  {
   "cell_type": "markdown",
   "metadata": {},
   "source": [
    "## Solve and output"
   ]
  },
  {
   "cell_type": "code",
   "execution_count": 57,
   "metadata": {
    "ExecuteTime": {
     "end_time": "2019-10-13T11:27:58.004270Z",
     "start_time": "2019-10-13T11:27:57.999215Z"
    }
   },
   "outputs": [],
   "source": [
    "times = checkpoints.copy()\n",
    "times.sort()\n",
    "times = times[(times > elapsed) & (times <= args.totaltime)]"
   ]
  },
  {
   "cell_type": "code",
   "execution_count": 58,
   "metadata": {
    "ExecuteTime": {
     "end_time": "2019-10-13T11:29:26.493420Z",
     "start_time": "2019-10-13T11:27:58.008465Z"
    }
   },
   "outputs": [
    {
     "data": {
      "image/png": "[encoded data removed]",
      "text/plain": [
       "<fipy.viewers.matplotlibViewer.matplotlib2DGridViewer.Matplotlib2DGridViewer at 0x17afb91e0>"
      ]
     },
     "metadata": {},
     "output_type": "display_data"
    }
   ],
   "source": [
    "from steppyngstounes import CheckpointStepper, FixedStepper\n",
    "\n",
    "eq.cacheMatrix()\n",
    "eq.cacheRHSvector()\n",
    "\n",
    "phi.updateOld()\n",
    "for checkpoint in CheckpointStepper(start=elapsed,\n",
    "                                    stops=times,\n",
    "                                    stop=args.totaltime):\n",
    "\n",
    "    for step in FixedStepper(start=checkpoint.begin,\n",
    "                             stop=checkpoint.end,\n",
    "                             size=1.):\n",
    "\n",
    "        state = dict(state=\"START\", numberOfElements=mesh.numberOfCells, sweeps=args.sweeps)\n",
    "        if precon is None:\n",
    "            state[\"preconditioner\"] = None\n",
    "        else:\n",
    "            state[\"preconditioner\"] = precon.__class__.__name__\n",
    "\n",
    "        solver._log.debug(json.dumps(state))\n",
    "\n",
    "        for sweep in range(args.sweeps):\n",
    "            res = eq.sweep(var=phi, dt=step.size, solver=solver)\n",
    "\n",
    "        state[\"state\"] = \"END\"\n",
    "        solver._log.debug(json.dumps(state))\n",
    "\n",
    "        phi.updateOld()\n",
    "\n",
    "        _ = step.succeeded(error=res / 1e-3)\n",
    "\n",
    "    if checkpoint.end in checkpoints:\n",
    "        checkpoint_data(checkpoint.end, store_matrix=args.store_matrix)\n",
    "\n",
    "    if isnotebook:\n",
    "        viewer.plot()\n",
    "\n",
    "    _ = checkpoint.succeeded()"
   ]
  },
  {
   "cell_type": "code",
   "execution_count": null,
   "metadata": {},
   "outputs": [],
   "source": []
  }
 ],
 "metadata": {
  "kernelspec": {
   "display_name": "Python 3 (ipykernel)",
   "language": "python",
   "name": "python3"
  },
  "language_info": {
   "codemirror_mode": {
    "name": "ipython",
    "version": 3
   },
   "file_extension": ".py",
   "mimetype": "text/x-python",
   "name": "python",
   "nbconvert_exporter": "python",
   "pygments_lexer": "ipython3",
   "version": "3.10.6"
  },
  "toc": {
   "base_numbering": "1",
   "nav_menu": {},
   "number_sections": false,
   "sideBar": true,
   "skip_h1_title": false,
   "title_cell": "Table of Contents",
   "title_sidebar": "Contents",
   "toc_cell": false,
   "toc_position": {
    "height": "calc(100% - 180px)",
    "left": "10px",
    "top": "150px",
    "width": "299.091px"
   },
   "toc_section_display": true,
   "toc_window_display": true
  }
 },
 "nbformat": 4,
 "nbformat_minor": 4
}

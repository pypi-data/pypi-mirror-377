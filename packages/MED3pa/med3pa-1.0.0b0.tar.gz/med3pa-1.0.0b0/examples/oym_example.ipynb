{
 "cells": [
  {
   "cell_type": "markdown",
   "source": [
    "# MED3pa utilisation example\n",
    "\n",
    "This tutorial guides you through the process of setting up and running comprehensive experiments using the `MED3pa` subpackage. It includes steps to execute MED3pa experiment with `Med3paExperiment`."
   ],
   "metadata": {
    "collapsed": false
   },
   "id": "b28b6f7deaed4364"
  },
  {
   "cell_type": "markdown",
   "source": [
    "## Get Data and BaseModel."
   ],
   "metadata": {
    "collapsed": false
   },
   "id": "3018d55957753b12"
  },
  {
   "cell_type": "code",
   "outputs": [],
   "source": [
    "import os\n",
    "import pandas as pd\n",
    "import wget\n",
    "from sklearn.ensemble import RandomForestClassifier\n",
    "from sklearn.model_selection import train_test_split\n",
    "\n",
    "from MED3pa.datasets import DatasetsManager\n",
    "from MED3pa.med3pa import Med3paExperiment\n",
    "from MED3pa.models import BaseModelManager\n",
    "from MED3pa.visualization.mdr_visualization import visualize_mdr\n",
    "from MED3pa.visualization.profiles_visualization import visualize_tree"
   ],
   "metadata": {
    "collapsed": true,
    "ExecuteTime": {
     "end_time": "2025-08-26T19:13:03.098273Z",
     "start_time": "2025-08-26T19:13:03.092243100Z"
    }
   },
   "id": "initial_id",
   "execution_count": 22
  },
  {
   "cell_type": "code",
   "outputs": [],
   "source": [
    "def oym_process(df):\n",
    "    # One hot encoding of categorical variables\n",
    "    categorical_variables = ['living_status', 'admission_group', 'service_group']\n",
    "    df = pd.get_dummies(df, columns=categorical_variables)\n",
    "    df = pd.get_dummies(df, columns=['gender'], drop_first=True)\n",
    "\n",
    "    # Convert boolean to int\n",
    "    boolean_variables = ['CSO', 'oym']\n",
    "    df[boolean_variables] = df[boolean_variables].astype(int)\n",
    "    \n",
    "    # Extract target and features\n",
    "    x_features = df.drop(columns=['oym'])\n",
    "    y = df['oym'].to_numpy()\n",
    "    return x_features, y"
   ],
   "metadata": {
    "collapsed": false
   },
   "id": "eda88d93fe2d932f",
   "execution_count": null
  },
  {
   "cell_type": "code",
   "outputs": [],
   "source": [
    "# Get Data\n",
    "os.makedirs(\"data/datasets/oym\", exist_ok=True)\n",
    "wget.download('https://zenodo.org/records/12954673/files/dataset.csv?download=1',\n",
    "                      out=os.getcwd() + '\\\\data\\\\datasets\\\\oym\\\\dataset.csv')\n",
    "df = pd.read_csv(os.getcwd() + '\\\\data\\\\datasets\\\\oym\\\\dataset.csv')\n",
    "\n",
    "# Process Data\n",
    "x, y = oym_process(df)\n",
    "x_train, x_evaluation, y_train, y_evaluation = train_test_split(x, y, test_size=0.3, random_state=54288)\n",
    "\n",
    "# Train the BaseModel\n",
    "clf = RandomForestClassifier(max_depth=4, random_state=42).fit(x_train, y_train)"
   ],
   "metadata": {
    "collapsed": false,
    "ExecuteTime": {
     "end_time": "2025-08-26T19:16:13.549526800Z",
     "start_time": "2025-08-26T19:15:49.958593500Z"
    }
   },
   "id": "875a6ed7a0038e96",
   "execution_count": 27
  },
  {
   "cell_type": "markdown",
   "source": [
    "## Define MED3pa experiment characteristics"
   ],
   "metadata": {
    "collapsed": false
   },
   "id": "34902be792aa9b46"
  },
  {
   "cell_type": "code",
   "outputs": [],
   "source": [
    "med3pa_params = {\"uncertainty_metric\":\"sigmoidal_error\",\n",
    "    \"ipc_type\":'RandomForestRegressor',\n",
    "    \"ipc_params\":{'n_estimators': 100},\n",
    "    \"apc_params\":{'max_depth': 6},\n",
    "    \"ipc_grid_params\":{'n_estimators': [50, 100, 200],\n",
    "                     'max_depth': [2, 4, 6]},\n",
    "    \"apc_grid_params\":{'min_samples_leaf': [2, 4, 6]},\n",
    "    \"samples_ratio_min\":0,\n",
    "    \"samples_ratio_max\":10,\n",
    "    \"samples_ratio_step\":5,\n",
    "    \"evaluate_models\":True}"
   ],
   "metadata": {
    "collapsed": false
   },
   "id": "15b499dfbee11fe4",
   "execution_count": null
  },
  {
   "cell_type": "markdown",
   "source": [
    "## MED3pa evaluation of BaseModel"
   ],
   "metadata": {
    "collapsed": false
   },
   "id": "cce8017f5093c365"
  },
  {
   "cell_type": "code",
   "outputs": [],
   "source": [
    "# Initialize the DatasetsManager\n",
    "datasets = DatasetsManager()\n",
    "datasets.set_from_data(dataset_type=\"testing\",\n",
    "                       observations=x_evaluation.to_numpy(),\n",
    "                       true_labels=y_evaluation,\n",
    "                       column_labels=x_evaluation.columns)\n",
    "# Initialize the BaseModelManager\n",
    "base_model_manager = BaseModelManager(model=clf)\n",
    "\n",
    "# Execute the MED3PA experiment\n",
    "results = Med3paExperiment.run(\n",
    "    datasets_manager=datasets,\n",
    "    base_model_manager=base_model_manager,\n",
    "    **med3pa_params\n",
    ")\n",
    "\n",
    "# Save the results to a specified directory\n",
    "results.save(file_path='results/oym')\n",
    "\n",
    "# Visualize results\n",
    "visualize_mdr(result=results, filename='results/oym/mdr')\n",
    "visualize_tree(result=results, filename='results/oym/profiles')"
   ],
   "metadata": {
    "collapsed": false
   },
   "id": "22486082f047c6b1",
   "execution_count": null
  },
  {
   "cell_type": "code",
   "outputs": [],
   "source": [],
   "metadata": {
    "collapsed": false
   },
   "id": "6910720dabd1c2ae"
  }
 ],
 "metadata": {
  "kernelspec": {
   "display_name": "Python 3",
   "language": "python",
   "name": "python3"
  },
  "language_info": {
   "codemirror_mode": {
    "name": "ipython",
    "version": 2
   },
   "file_extension": ".py",
   "mimetype": "text/x-python",
   "name": "python",
   "nbconvert_exporter": "python",
   "pygments_lexer": "ipython2",
   "version": "2.7.6"
  }
 },
 "nbformat": 4,
 "nbformat_minor": 5
}

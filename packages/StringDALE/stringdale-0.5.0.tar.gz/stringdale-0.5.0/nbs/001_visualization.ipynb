{
 "cells": [
  {
   "cell_type": "markdown",
   "metadata": {},
   "source": [
    "# Visualization"
   ]
  },
  {
   "cell_type": "markdown",
   "metadata": {},
   "source": []
  },
  {
   "cell_type": "code",
   "execution_count": null,
   "metadata": {},
   "outputs": [],
   "source": [
    "#|default_exp viz"
   ]
  },
  {
   "cell_type": "code",
   "execution_count": null,
   "metadata": {},
   "outputs": [],
   "source": [
    "#| hide\n",
    "%load_ext autoreload\n",
    "%autoreload 2"
   ]
  },
  {
   "cell_type": "code",
   "execution_count": null,
   "metadata": {},
   "outputs": [],
   "source": [
    "#| export \n",
    "\n",
    "from IPython.display import Image, display, HTML,SVG\n",
    "import networkx as nx\n",
    "from stringdale.core import jinja_render\n",
    "import os\n",
    "import shutil\n",
    "import graphviz\n",
    "import logging\n",
    "from textwrap import wrap\n",
    "logger = logging.getLogger(__name__)\n"
   ]
  },
  {
   "cell_type": "markdown",
   "metadata": {},
   "source": [
    "## Rendering graphs with GraphViz"
   ]
  },
  {
   "cell_type": "code",
   "execution_count": null,
   "metadata": {},
   "outputs": [],
   "source": [
    "#| export\n",
    "from IPython.display import Markdown, display\n"
   ]
  },
  {
   "cell_type": "code",
   "execution_count": null,
   "metadata": {},
   "outputs": [],
   "source": [
    "#| export\n",
    "def is_ipython():\n",
    "    try:\n",
    "        from IPython import get_ipython\n",
    "        return get_ipython() is not None\n",
    "    except ImportError:\n",
    "        return False\n",
    "\n",
    "def display_in_ipython(obj):\n",
    "    if obj is None:\n",
    "        return\n",
    "    if is_ipython():\n",
    "        display(obj)\n"
   ]
  },
  {
   "cell_type": "code",
   "execution_count": null,
   "metadata": {},
   "outputs": [],
   "source": [
    "# Create example graph with node and edge properties\n",
    "G = nx.DiGraph()\n",
    "\n",
    "# Add nodes with properties\n",
    "G.add_node('A', role='start', color='lightblue')\n",
    "G.add_node('B', role='process', color='lightgreen') \n",
    "G.add_node('C', role='end', color='pink',nested_param = {'x':{'y':1}})\n",
    "\n",
    "# Add edges with properties\n",
    "G.add_edge('A', 'B', weight=5, label='step 1')\n",
    "G.add_edge('B', 'C', weight=3, label='*')\n",
    "\n",
    "\n",
    "# Draw the graph\n",
    "# draw_nx(G,subgraph_colors={'green':['C','B']})\n"
   ]
  },
  {
   "cell_type": "code",
   "execution_count": null,
   "metadata": {},
   "outputs": [],
   "source": [
    "#| export\n",
    "def _attrs_to_str(attrs,drop_keys=None  ):\n",
    "    if drop_keys is None:\n",
    "        drop_keys = []\n",
    "    return '\\n'.join([f'{k}={v}' for k,v in attrs.items() if k not in drop_keys])\n",
    "\n",
    "\n",
    "def wrap_text(text,width=None,**kwargs):\n",
    "    if width is None or text is None:\n",
    "        return text\n",
    "    return '\\n'.join(wrap(text,width=width,**kwargs))\n",
    "\n",
    "\n",
    "def node_description(g,node,label_key=None,drop_keys=None,**kwargs):\n",
    "    if drop_keys is None:\n",
    "        drop_keys = []\n",
    "    if label_key is not None:\n",
    "        drop_keys.append(label_key)\n",
    "    \n",
    "    node_id = node\n",
    "    node_data = g.nodes[node_id]\n",
    "    \n",
    "    node_data_str = _attrs_to_str(node_data,drop_keys=drop_keys)\n",
    "\n",
    "    if label_key is None:\n",
    "        node_str = f'{node_id}\\n{node_data_str}'\n",
    "    else:\n",
    "        node_label = node_data[label_key]\n",
    "        node_str = f'{node_id}({node_label})\\n{node_data_str}'\n",
    "    return wrap_text(node_str,**kwargs)\n",
    "\n",
    "def edge_description(g,edge,drop_keys=None,**kwargs):\n",
    "    edge_id = edge\n",
    "    edge_data = g.edges[edge_id]\n",
    "    edge_data_str = _attrs_to_str(edge_data,drop_keys=drop_keys)\n",
    "    return wrap_text(edge_data_str,**kwargs)\n",
    "\n",
    "\n",
    "def graph_to_graphviz_spec(g,label_key=None,drop_keys=None,**kwargs):\n",
    "    node_kwargs = [{\n",
    "        'name':node, 'label':node_description(g,node,label_key=label_key,drop_keys=drop_keys,**kwargs)\n",
    "    } for node in g.nodes]\n",
    "    edge_kwargs = [{\n",
    "        'tail_name':edge[0], 'head_name':edge[1], 'label':edge_description(g,edge,drop_keys=drop_keys,**kwargs)\n",
    "    } for edge in g.edges]\n",
    "\n",
    "    return node_kwargs, edge_kwargs"
   ]
  },
  {
   "cell_type": "code",
   "execution_count": null,
   "metadata": {},
   "outputs": [
    {
     "data": {
      "text/plain": [
       "([{'name': 'A', 'label': 'A\\nrole=start\\ncolor=lightblue'},\n",
       "  {'name': 'B', 'label': 'B\\nrole=process\\ncolor=lightgreen'},\n",
       "  {'name': 'C',\n",
       "   'label': \"C\\nrole=end\\ncolor=pink\\nnested_param={'x': {'y': 1}}\"}],\n",
       " [{'tail_name': 'A', 'head_name': 'B', 'label': 'weight=5\\nlabel=step 1'},\n",
       "  {'tail_name': 'B', 'head_name': 'C', 'label': 'weight=3\\nlabel=*'}])"
      ]
     },
     "execution_count": null,
     "metadata": {},
     "output_type": "execute_result"
    }
   ],
   "source": [
    "graph_to_graphviz_spec(G)"
   ]
  },
  {
   "cell_type": "code",
   "execution_count": null,
   "metadata": {},
   "outputs": [],
   "source": [
    "#| export\n",
    "\n",
    "def check_graphviz_installed():\n",
    "    if not shutil.which('dot'):\n",
    "        logger.warning('graphviz is not installed, cannot draw diagrams')\n",
    "        return False\n",
    "    return True\n",
    "\n",
    "def draw_graphviz(node_data,edge_data,name=None,direction='TB',format='svg',node_attrs=None,edge_attrs=None,graph_attrs=None,**kwargs):\n",
    "\n",
    "    if not check_graphviz_installed():\n",
    "        return None\n",
    "    \n",
    "    dot = graphviz.Digraph(name, format=format)\n",
    "    if direction not in ['TB','LR']:\n",
    "        raise ValueError('directions can only be TB or LR')\n",
    "    dot.attr(rankdir=direction,label=name,labelloc='t',**graph_attrs)\n",
    "    for node in node_data:\n",
    "        merged = node_attrs | node\n",
    "        merged['label'] = wrap_text(merged['label'],**kwargs)\n",
    "        dot.node(**merged)\n",
    "    for edge in edge_data:\n",
    "        merged = edge_attrs | edge\n",
    "        merged['label'] = wrap_text(merged['label'],**kwargs)\n",
    "        dot.edge(**merged)\n",
    "    return dot\n"
   ]
  },
  {
   "cell_type": "code",
   "execution_count": null,
   "metadata": {},
   "outputs": [],
   "source": [
    "#| export\n",
    "def draw_nx(g:nx.DiGraph,direction='TB',\n",
    "    name=None,\n",
    "    format='svg',\n",
    "    label_key=None,\n",
    "    drop_keys=None,\n",
    "    node_attrs=None,\n",
    "    edge_attrs=None,\n",
    "    graph_attrs=None,\n",
    "    ret_dot=False,\n",
    "    **kwargs):\n",
    "    \n",
    "    node_kwargs, edge_kwargs = graph_to_graphviz_spec(g,label_key=label_key,drop_keys=drop_keys)\n",
    "    if graph_attrs is None:\n",
    "        graph_attrs = {}\n",
    "    if node_attrs is None:\n",
    "        node_attrs = {}\n",
    "    if edge_attrs is None:\n",
    "        edge_attrs = {}\n",
    "\n",
    "    graph_attrs = {} | graph_attrs\n",
    "    node_attrs = {'shape':'box','color':'#9370DB','fillcolor':'#ECECFF','style':'filled'} | node_attrs\n",
    "    edge_attrs = {'color':'black'} | edge_attrs\n",
    "\n",
    "    dot = draw_graphviz(node_kwargs,\n",
    "        edge_kwargs,\n",
    "        name=name,\n",
    "        direction=direction,\n",
    "        format=format,\n",
    "        node_attrs=node_attrs,\n",
    "        edge_attrs=edge_attrs,\n",
    "        graph_attrs=graph_attrs,\n",
    "        **kwargs\n",
    "        )\n",
    "    if ret_dot:\n",
    "        return dot\n",
    "    else:\n",
    "        display_in_ipython(dot)\n",
    "    \n",
    "    "
   ]
  },
  {
   "cell_type": "code",
   "execution_count": null,
   "metadata": {},
   "outputs": [
    {
     "data": {
      "image/svg+xml": [
       "<?xml version=\"1.0\" encoding=\"UTF-8\" standalone=\"no\"?>\n",
       "<!DOCTYPE svg PUBLIC \"-//W3C//DTD SVG 1.1//EN\"\n",
       " \"http://www.w3.org/Graphics/SVG/1.1/DTD/svg11.dtd\">\n",
       "<!-- Generated by graphviz version 12.2.1 (20241206.2353)\n",
       " -->\n",
       "<!-- Pages: 1 -->\n",
       "<svg width=\"179pt\" height=\"335pt\"\n",
       " viewBox=\"0.00 0.00 179.25 335.00\" xmlns=\"http://www.w3.org/2000/svg\" xmlns:xlink=\"http://www.w3.org/1999/xlink\">\n",
       "<g id=\"graph0\" class=\"graph\" transform=\"scale(1 1) rotate(0) translate(4 331)\">\n",
       "<polygon fill=\"white\" stroke=\"none\" points=\"-4,4 -4,-331 175.25,-331 175.25,4 -4,4\"/>\n",
       "<!-- A -->\n",
       "<g id=\"node1\" class=\"node\">\n",
       "<title>A</title>\n",
       "<polygon fill=\"#ececff\" stroke=\"#9370db\" points=\"135.62,-327 35.62,-327 35.62,-269.5 135.62,-269.5 135.62,-327\"/>\n",
       "<text text-anchor=\"middle\" x=\"85.62\" y=\"-309.7\" font-family=\"Times,serif\" font-size=\"14.00\">A</text>\n",
       "<text text-anchor=\"middle\" x=\"85.62\" y=\"-293.2\" font-family=\"Times,serif\" font-size=\"14.00\">role=start</text>\n",
       "<text text-anchor=\"middle\" x=\"85.62\" y=\"-276.7\" font-family=\"Times,serif\" font-size=\"14.00\">color=lightblue</text>\n",
       "</g>\n",
       "<!-- B -->\n",
       "<g id=\"node2\" class=\"node\">\n",
       "<title>B</title>\n",
       "<polygon fill=\"#ececff\" stroke=\"#9370db\" points=\"139,-200.5 32.25,-200.5 32.25,-143 139,-143 139,-200.5\"/>\n",
       "<text text-anchor=\"middle\" x=\"85.62\" y=\"-183.2\" font-family=\"Times,serif\" font-size=\"14.00\">B</text>\n",
       "<text text-anchor=\"middle\" x=\"85.62\" y=\"-166.7\" font-family=\"Times,serif\" font-size=\"14.00\">role=process</text>\n",
       "<text text-anchor=\"middle\" x=\"85.62\" y=\"-150.2\" font-family=\"Times,serif\" font-size=\"14.00\">color=lightgreen</text>\n",
       "</g>\n",
       "<!-- A&#45;&gt;B -->\n",
       "<g id=\"edge1\" class=\"edge\">\n",
       "<title>A&#45;&gt;B</title>\n",
       "<path fill=\"none\" stroke=\"black\" d=\"M85.62,-269.31C85.62,-252.41 85.62,-230.6 85.62,-211.99\"/>\n",
       "<polygon fill=\"black\" stroke=\"black\" points=\"89.13,-212.11 85.63,-202.11 82.13,-212.11 89.13,-212.11\"/>\n",
       "<text text-anchor=\"middle\" x=\"119\" y=\"-238.2\" font-family=\"Times,serif\" font-size=\"14.00\">weight=5</text>\n",
       "<text text-anchor=\"middle\" x=\"119\" y=\"-221.7\" font-family=\"Times,serif\" font-size=\"14.00\">label=step 1</text>\n",
       "</g>\n",
       "<!-- C -->\n",
       "<g id=\"node3\" class=\"node\">\n",
       "<title>C</title>\n",
       "<polygon fill=\"#ececff\" stroke=\"#9370db\" points=\"171.25,-74 0,-74 0,0 171.25,0 171.25,-74\"/>\n",
       "<text text-anchor=\"middle\" x=\"85.62\" y=\"-56.7\" font-family=\"Times,serif\" font-size=\"14.00\">C</text>\n",
       "<text text-anchor=\"middle\" x=\"85.62\" y=\"-40.2\" font-family=\"Times,serif\" font-size=\"14.00\">role=end</text>\n",
       "<text text-anchor=\"middle\" x=\"85.62\" y=\"-23.7\" font-family=\"Times,serif\" font-size=\"14.00\">color=pink</text>\n",
       "<text text-anchor=\"middle\" x=\"85.62\" y=\"-7.2\" font-family=\"Times,serif\" font-size=\"14.00\">nested_param={&#39;x&#39;: {&#39;y&#39;: 1}}</text>\n",
       "</g>\n",
       "<!-- B&#45;&gt;C -->\n",
       "<g id=\"edge2\" class=\"edge\">\n",
       "<title>B&#45;&gt;C</title>\n",
       "<path fill=\"none\" stroke=\"black\" d=\"M85.62,-142.6C85.62,-126.01 85.62,-104.58 85.62,-85.45\"/>\n",
       "<polygon fill=\"black\" stroke=\"black\" points=\"89.13,-85.71 85.63,-75.71 82.13,-85.71 89.13,-85.71\"/>\n",
       "<text text-anchor=\"middle\" x=\"111.5\" y=\"-111.7\" font-family=\"Times,serif\" font-size=\"14.00\">weight=3</text>\n",
       "<text text-anchor=\"middle\" x=\"111.5\" y=\"-95.2\" font-family=\"Times,serif\" font-size=\"14.00\">label=*</text>\n",
       "</g>\n",
       "</g>\n",
       "</svg>\n"
      ],
      "text/plain": [
       "<graphviz.graphs.Digraph>"
      ]
     },
     "metadata": {},
     "output_type": "display_data"
    }
   ],
   "source": [
    "drawing = draw_nx(G,name=None,engine='dot')\n",
    "drawing"
   ]
  },
  {
   "cell_type": "code",
   "execution_count": null,
   "metadata": {},
   "outputs": [
    {
     "name": "stdout",
     "output_type": "stream",
     "text": [
      "digraph {\n",
      "\tlabelloc=t rankdir=TB\n",
      "\tA [label=\"A\n",
      "role=start\n",
      "color=lightblue\" color=\"#9370DB\" fillcolor=\"#ECECFF\" shape=box style=filled]\n",
      "\tB [label=\"B\n",
      "role=process\n",
      "color=lightgreen\" color=\"#9370DB\" fillcolor=\"#ECECFF\" shape=box style=filled]\n",
      "\tC [label=\"C\n",
      "role=end\n",
      "color=pink\n",
      "nested_param={'x': {'y': 1}}\" color=\"#9370DB\" fillcolor=\"#ECECFF\" shape=box style=filled]\n",
      "\tA -> B [label=\"weight=5\n",
      "label=step 1\" color=black]\n",
      "\tB -> C [label=\"weight=3\n",
      "label=*\" color=black]\n",
      "}\n",
      "\n"
     ]
    }
   ],
   "source": [
    "drawing = draw_nx(G,name=None,engine='dot',ret_dot=True)\n",
    "print(drawing.source)"
   ]
  },
  {
   "cell_type": "code",
   "execution_count": null,
   "metadata": {},
   "outputs": [
    {
     "data": {
      "image/svg+xml": [
       "<?xml version=\"1.0\" encoding=\"UTF-8\" standalone=\"no\"?>\n",
       "<!DOCTYPE svg PUBLIC \"-//W3C//DTD SVG 1.1//EN\"\n",
       " \"http://www.w3.org/Graphics/SVG/1.1/DTD/svg11.dtd\">\n",
       "<!-- Generated by graphviz version 12.2.1 (20241206.2353)\n",
       " -->\n",
       "<!-- Pages: 1 -->\n",
       "<svg width=\"179pt\" height=\"335pt\"\n",
       " viewBox=\"0.00 0.00 179.25 335.00\" xmlns=\"http://www.w3.org/2000/svg\" xmlns:xlink=\"http://www.w3.org/1999/xlink\">\n",
       "<g id=\"graph0\" class=\"graph\" transform=\"scale(1 1) rotate(0) translate(4 331)\">\n",
       "<polygon fill=\"white\" stroke=\"none\" points=\"-4,4 -4,-331 175.25,-331 175.25,4 -4,4\"/>\n",
       "<!-- A -->\n",
       "<g id=\"node1\" class=\"node\">\n",
       "<title>A</title>\n",
       "<polygon fill=\"#ececff\" stroke=\"#9370db\" points=\"135.62,-327 35.62,-327 35.62,-269.5 135.62,-269.5 135.62,-327\"/>\n",
       "<text text-anchor=\"middle\" x=\"85.62\" y=\"-309.7\" font-family=\"Times,serif\" font-size=\"14.00\">A</text>\n",
       "<text text-anchor=\"middle\" x=\"85.62\" y=\"-293.2\" font-family=\"Times,serif\" font-size=\"14.00\">role=start</text>\n",
       "<text text-anchor=\"middle\" x=\"85.62\" y=\"-276.7\" font-family=\"Times,serif\" font-size=\"14.00\">color=lightblue</text>\n",
       "</g>\n",
       "<!-- B -->\n",
       "<g id=\"node2\" class=\"node\">\n",
       "<title>B</title>\n",
       "<polygon fill=\"#ececff\" stroke=\"#9370db\" points=\"139,-200.5 32.25,-200.5 32.25,-143 139,-143 139,-200.5\"/>\n",
       "<text text-anchor=\"middle\" x=\"85.62\" y=\"-183.2\" font-family=\"Times,serif\" font-size=\"14.00\">B</text>\n",
       "<text text-anchor=\"middle\" x=\"85.62\" y=\"-166.7\" font-family=\"Times,serif\" font-size=\"14.00\">role=process</text>\n",
       "<text text-anchor=\"middle\" x=\"85.62\" y=\"-150.2\" font-family=\"Times,serif\" font-size=\"14.00\">color=lightgreen</text>\n",
       "</g>\n",
       "<!-- A&#45;&gt;B -->\n",
       "<g id=\"edge1\" class=\"edge\">\n",
       "<title>A&#45;&gt;B</title>\n",
       "<path fill=\"none\" stroke=\"black\" d=\"M85.62,-269.31C85.62,-252.41 85.62,-230.6 85.62,-211.99\"/>\n",
       "<polygon fill=\"black\" stroke=\"black\" points=\"89.13,-212.11 85.63,-202.11 82.13,-212.11 89.13,-212.11\"/>\n",
       "<text text-anchor=\"middle\" x=\"119\" y=\"-238.2\" font-family=\"Times,serif\" font-size=\"14.00\">weight=5</text>\n",
       "<text text-anchor=\"middle\" x=\"119\" y=\"-221.7\" font-family=\"Times,serif\" font-size=\"14.00\">label=step 1</text>\n",
       "</g>\n",
       "<!-- C -->\n",
       "<g id=\"node3\" class=\"node\">\n",
       "<title>C</title>\n",
       "<polygon fill=\"#ececff\" stroke=\"#9370db\" points=\"171.25,-74 0,-74 0,0 171.25,0 171.25,-74\"/>\n",
       "<text text-anchor=\"middle\" x=\"85.62\" y=\"-56.7\" font-family=\"Times,serif\" font-size=\"14.00\">C</text>\n",
       "<text text-anchor=\"middle\" x=\"85.62\" y=\"-40.2\" font-family=\"Times,serif\" font-size=\"14.00\">role=end</text>\n",
       "<text text-anchor=\"middle\" x=\"85.62\" y=\"-23.7\" font-family=\"Times,serif\" font-size=\"14.00\">color=pink</text>\n",
       "<text text-anchor=\"middle\" x=\"85.62\" y=\"-7.2\" font-family=\"Times,serif\" font-size=\"14.00\">nested_param={&#39;x&#39;: {&#39;y&#39;: 1}}</text>\n",
       "</g>\n",
       "<!-- B&#45;&gt;C -->\n",
       "<g id=\"edge2\" class=\"edge\">\n",
       "<title>B&#45;&gt;C</title>\n",
       "<path fill=\"none\" stroke=\"black\" d=\"M85.62,-142.6C85.62,-126.01 85.62,-104.58 85.62,-85.45\"/>\n",
       "<polygon fill=\"black\" stroke=\"black\" points=\"89.13,-85.71 85.63,-75.71 82.13,-85.71 89.13,-85.71\"/>\n",
       "<text text-anchor=\"middle\" x=\"111.5\" y=\"-111.7\" font-family=\"Times,serif\" font-size=\"14.00\">weight=3</text>\n",
       "<text text-anchor=\"middle\" x=\"111.5\" y=\"-95.2\" font-family=\"Times,serif\" font-size=\"14.00\">label=*</text>\n",
       "</g>\n",
       "</g>\n",
       "</svg>\n"
      ],
      "text/plain": [
       "<graphviz.graphs.Digraph>"
      ]
     },
     "metadata": {},
     "output_type": "display_data"
    }
   ],
   "source": [
    "display_in_ipython(drawing)"
   ]
  },
  {
   "cell_type": "code",
   "execution_count": null,
   "metadata": {},
   "outputs": [
    {
     "data": {
      "text/plain": [
       "{'image/svg+xml': '<?xml version=\"1.0\" encoding=\"UTF-8\" standalone=\"no\"?>\\n<!DOCTYPE svg PUBLIC \"-//W3C//DTD SVG 1.1//EN\"\\n \"http://www.w3.org/Graphics/SVG/1.1/DTD/svg11.dtd\">\\n<!-- Generated by graphviz version 12.2.1 (20241206.2353)\\n -->\\n<!-- Pages: 1 -->\\n<svg width=\"179pt\" height=\"335pt\"\\n viewBox=\"0.00 0.00 179.25 335.00\" xmlns=\"http://www.w3.org/2000/svg\" xmlns:xlink=\"http://www.w3.org/1999/xlink\">\\n<g id=\"graph0\" class=\"graph\" transform=\"scale(1 1) rotate(0) translate(4 331)\">\\n<polygon fill=\"white\" stroke=\"none\" points=\"-4,4 -4,-331 175.25,-331 175.25,4 -4,4\"/>\\n<!-- A -->\\n<g id=\"node1\" class=\"node\">\\n<title>A</title>\\n<polygon fill=\"#ececff\" stroke=\"#9370db\" points=\"135.62,-327 35.62,-327 35.62,-269.5 135.62,-269.5 135.62,-327\"/>\\n<text text-anchor=\"middle\" x=\"85.62\" y=\"-309.7\" font-family=\"Times,serif\" font-size=\"14.00\">A</text>\\n<text text-anchor=\"middle\" x=\"85.62\" y=\"-293.2\" font-family=\"Times,serif\" font-size=\"14.00\">role=start</text>\\n<text text-anchor=\"middle\" x=\"85.62\" y=\"-276.7\" font-family=\"Times,serif\" font-size=\"14.00\">color=lightblue</text>\\n</g>\\n<!-- B -->\\n<g id=\"node2\" class=\"node\">\\n<title>B</title>\\n<polygon fill=\"#ececff\" stroke=\"#9370db\" points=\"139,-200.5 32.25,-200.5 32.25,-143 139,-143 139,-200.5\"/>\\n<text text-anchor=\"middle\" x=\"85.62\" y=\"-183.2\" font-family=\"Times,serif\" font-size=\"14.00\">B</text>\\n<text text-anchor=\"middle\" x=\"85.62\" y=\"-166.7\" font-family=\"Times,serif\" font-size=\"14.00\">role=process</text>\\n<text text-anchor=\"middle\" x=\"85.62\" y=\"-150.2\" font-family=\"Times,serif\" font-size=\"14.00\">color=lightgreen</text>\\n</g>\\n<!-- A&#45;&gt;B -->\\n<g id=\"edge1\" class=\"edge\">\\n<title>A&#45;&gt;B</title>\\n<path fill=\"none\" stroke=\"black\" d=\"M85.62,-269.31C85.62,-252.41 85.62,-230.6 85.62,-211.99\"/>\\n<polygon fill=\"black\" stroke=\"black\" points=\"89.13,-212.11 85.63,-202.11 82.13,-212.11 89.13,-212.11\"/>\\n<text text-anchor=\"middle\" x=\"119\" y=\"-238.2\" font-family=\"Times,serif\" font-size=\"14.00\">weight=5</text>\\n<text text-anchor=\"middle\" x=\"119\" y=\"-221.7\" font-family=\"Times,serif\" font-size=\"14.00\">label=step 1</text>\\n</g>\\n<!-- C -->\\n<g id=\"node3\" class=\"node\">\\n<title>C</title>\\n<polygon fill=\"#ececff\" stroke=\"#9370db\" points=\"171.25,-74 0,-74 0,0 171.25,0 171.25,-74\"/>\\n<text text-anchor=\"middle\" x=\"85.62\" y=\"-56.7\" font-family=\"Times,serif\" font-size=\"14.00\">C</text>\\n<text text-anchor=\"middle\" x=\"85.62\" y=\"-40.2\" font-family=\"Times,serif\" font-size=\"14.00\">role=end</text>\\n<text text-anchor=\"middle\" x=\"85.62\" y=\"-23.7\" font-family=\"Times,serif\" font-size=\"14.00\">color=pink</text>\\n<text text-anchor=\"middle\" x=\"85.62\" y=\"-7.2\" font-family=\"Times,serif\" font-size=\"14.00\">nested_param={&#39;x&#39;: {&#39;y&#39;: 1}}</text>\\n</g>\\n<!-- B&#45;&gt;C -->\\n<g id=\"edge2\" class=\"edge\">\\n<title>B&#45;&gt;C</title>\\n<path fill=\"none\" stroke=\"black\" d=\"M85.62,-142.6C85.62,-126.01 85.62,-104.58 85.62,-85.45\"/>\\n<polygon fill=\"black\" stroke=\"black\" points=\"89.13,-85.71 85.63,-75.71 82.13,-85.71 89.13,-85.71\"/>\\n<text text-anchor=\"middle\" x=\"111.5\" y=\"-111.7\" font-family=\"Times,serif\" font-size=\"14.00\">weight=3</text>\\n<text text-anchor=\"middle\" x=\"111.5\" y=\"-95.2\" font-family=\"Times,serif\" font-size=\"14.00\">label=*</text>\\n</g>\\n</g>\\n</svg>\\n'}"
      ]
     },
     "execution_count": null,
     "metadata": {},
     "output_type": "execute_result"
    }
   ],
   "source": [
    "# this is how we tell ipython what to display\n",
    "drawing._repr_mimebundle_()"
   ]
  },
  {
   "cell_type": "markdown",
   "metadata": {},
   "source": [
    "# Export"
   ]
  },
  {
   "cell_type": "code",
   "execution_count": null,
   "metadata": {},
   "outputs": [],
   "source": [
    "#|hide\n",
    "import nbdev; nbdev.nbdev_export()\n",
    "     "
   ]
  }
 ],
 "metadata": {
  "kernelspec": {
   "display_name": "python3",
   "language": "python",
   "name": "python3"
  }
 },
 "nbformat": 4,
 "nbformat_minor": 4
}

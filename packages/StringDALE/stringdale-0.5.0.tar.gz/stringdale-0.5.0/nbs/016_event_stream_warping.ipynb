{
 "cells": [
  {
   "cell_type": "markdown",
   "metadata": {},
   "source": [
    "# Event stream warping"
   ]
  },
  {
   "cell_type": "markdown",
   "metadata": {},
   "source": [
    "This notebook implements our event stream warping (ESW) algorithm. It is a generalization for dynamic time warping, where we dont assume that events are linearly ordered, but rather partially ordered.\n",
    "\n",
    "We also implement parsing of TestCases here since their structure is coupled with the ESW implementation."
   ]
  },
  {
   "cell_type": "code",
   "execution_count": null,
   "metadata": {},
   "outputs": [],
   "source": [
    "#| default_exp stream_warping"
   ]
  },
  {
   "cell_type": "code",
   "execution_count": null,
   "metadata": {},
   "outputs": [],
   "source": [
    "# | hide\n",
    "%load_ext autoreload\n",
    "%autoreload 2\n",
    "# %load_ext rich"
   ]
  },
  {
   "cell_type": "markdown",
   "metadata": {},
   "source": [
    "## Imports"
   ]
  },
  {
   "cell_type": "code",
   "execution_count": null,
   "metadata": {},
   "outputs": [],
   "source": [
    "#| export\n",
    "import os\n",
    "import json\n",
    "from frozendict import frozendict\n",
    "from collections import defaultdict\n",
    "\n",
    "from pydantic import BaseModel, ConfigDict, field_validator, Field\n",
    "from typing import List, Any, Dict, Callable,Set, Optional\n",
    "\n",
    "import numpy as np\n",
    "import itertools as it\n",
    "import re\n",
    "import asyncio\n",
    "\n",
    "from constraint import Problem,FunctionConstraint\n",
    "from bidict import bidict\n",
    "\n",
    "import logging \n",
    "from stringdale.core import checkLogs,await_all\n",
    "from stringdale.mappings import access, parse_edge_descriptor\n"
   ]
  },
  {
   "cell_type": "code",
   "execution_count": null,
   "metadata": {},
   "outputs": [],
   "source": [
    "#| export\n",
    "logger = logging.getLogger(__name__)"
   ]
  },
  {
   "cell_type": "code",
   "execution_count": null,
   "metadata": {},
   "outputs": [],
   "source": [
    "import pytest"
   ]
  },
  {
   "cell_type": "markdown",
   "metadata": {},
   "source": [
    "## Mapping labels to fresh variables for CSP"
   ]
  },
  {
   "cell_type": "code",
   "execution_count": null,
   "metadata": {},
   "outputs": [],
   "source": [
    "#| export\n",
    "def int_to_excel_col(n):\n",
    "    if n < 0:\n",
    "        raise ValueError(\"Number must be non-negative\")\n",
    "    \n",
    "    result = \"\"\n",
    "    n += 1  # Adjust because Excel columns start at 1, not 0\n",
    "    \n",
    "    while n > 0:\n",
    "        n -= 1  # Adjust for 0-based indexing\n",
    "        result = chr(n % 26 + ord('A')).lower() + result\n",
    "        n //= 26\n",
    "        \n",
    "    return result"
   ]
  },
  {
   "cell_type": "code",
   "execution_count": null,
   "metadata": {},
   "outputs": [],
   "source": [
    "\n",
    "assert int_to_excel_col(0) == \"a\"\n",
    "assert int_to_excel_col(25) == \"z\"\n",
    "assert int_to_excel_col(26) == \"aa\"\n",
    "assert int_to_excel_col(27) == \"ab\"\n",
    "assert int_to_excel_col(51) == \"az\"\n",
    "assert int_to_excel_col(52) == \"ba\"\n",
    "assert int_to_excel_col(701) == \"zz\"\n",
    "assert int_to_excel_col(702) == \"aaa\"\n"
   ]
  },
  {
   "cell_type": "code",
   "execution_count": null,
   "metadata": {},
   "outputs": [],
   "source": [
    "#| export\n",
    "class LabelToVar():\n",
    "    def __init__(self):\n",
    "        self.label_to_var = bidict()\n",
    "        self.label_to_index = bidict()\n",
    "\n",
    "    def add_label(self,label:str,idx:int):\n",
    "        self.label_to_var[label] = int_to_excel_col(idx)\n",
    "        self.label_to_index[label] = idx\n",
    "\n",
    "    def get_label(self,col:str) -> str:\n",
    "        return self.label_to_var.inverse[col]\n",
    "\n",
    "    def get_index(self,label:str) -> int:\n",
    "        return self.label_to_index[label]\n",
    "\n",
    "    def get_col(self,label:str) -> int:\n",
    "        return self.label_to_var[label]\n"
   ]
  },
  {
   "cell_type": "code",
   "execution_count": null,
   "metadata": {},
   "outputs": [],
   "source": [
    "label_to_var = LabelToVar()\n",
    "label_to_var.add_label(\"x\",0)\n",
    "label_to_var.add_label(\"y\",1)\n",
    "label_to_var.add_label(\"z\",2)\n",
    "\n",
    "assert label_to_var.get_col(\"x\") == \"a\"\n",
    "assert label_to_var.get_col(\"y\") == \"b\"\n",
    "assert label_to_var.get_col(\"z\") == \"c\"\n",
    "\n",
    "assert label_to_var.get_label(\"a\") == \"x\"\n",
    "assert label_to_var.get_label(\"b\") == \"y\"\n",
    "assert label_to_var.get_label(\"c\") == \"z\"\n",
    "\n",
    "assert label_to_var.get_index(\"x\") == 0\n",
    "assert label_to_var.get_index(\"y\") == 1\n",
    "assert label_to_var.get_index(\"z\") == 2"
   ]
  },
  {
   "cell_type": "markdown",
   "metadata": {},
   "source": [
    "## Mock comparison functions"
   ]
  },
  {
   "cell_type": "code",
   "execution_count": null,
   "metadata": {},
   "outputs": [],
   "source": [
    "#| export\n",
    "\n",
    "async def word_overlap(result: str, expected: str,**kwargs) -> float:\n",
    "    \"\"\"\n",
    "    Calculate the distance between result and expected strings based on word overlap.\n",
    "    Returns a value between 0 and 1, where:\n",
    "    - 0 means perfect match (all words from result are in expected)\n",
    "    - 1 means no overlap (no words from result are in expected)\n",
    "    \n",
    "    Args:\n",
    "        result (str): The string to check words from\n",
    "        expected (str): The string to check words against\n",
    "        \n",
    "    Returns:\n",
    "        float: Distance metric between 0 and 1\n",
    "    \"\"\"\n",
    "    if not isinstance(result,str) or not isinstance(expected,str):\n",
    "        return np.inf\n",
    "    # Convert both strings to lowercase and split into words\n",
    "    result_words = set(result.lower().split())\n",
    "    expected_words = set(expected.lower().split())\n",
    "    \n",
    "    # If result is empty, return 1.0 (maximum distance)\n",
    "    if not result_words:\n",
    "        return 1.0\n",
    "    \n",
    "    # Calculate overlap\n",
    "    overlap = len(result_words.intersection(expected_words))\n",
    "    total = len(result_words)\n",
    "    \n",
    "    # Calculate distance (1 - percentage)\n",
    "    distance = 1.0 - (overlap / total)\n",
    "    \n",
    "    return distance"
   ]
  },
  {
   "cell_type": "code",
   "execution_count": null,
   "metadata": {},
   "outputs": [],
   "source": [
    "# Example 1\n",
    "result = \"The quick brown fox\"\n",
    "expected = \"The lazy brown dog\"\n",
    "assert await word_overlap(result, expected) == 0.5  # Output: 0.5 (2 out of 4 words match)\n",
    "\n",
    "# Example 2\n",
    "result = \"Hello world\"\n",
    "expected = \"Hello there world\"\n",
    "assert await word_overlap(result, expected) == 0.0  # Output: 0.0 (all words match)\n",
    "\n",
    "# Example 3\n",
    "result = \"Python programming\"\n",
    "expected = \"Java development\"\n",
    "assert await word_overlap(result, expected) == 1.0  # Output: 1.0 (no words match)"
   ]
  },
  {
   "cell_type": "code",
   "execution_count": null,
   "metadata": {},
   "outputs": [],
   "source": [
    "#| export\n",
    "def regex(out: str, expected: str,mismatch_penalty=1.0,**kwargs) -> float:\n",
    "    \"\"\"\n",
    "    Compare a string against a regex pattern.\n",
    "    Returns 0 if the regex matches, 1 if it doesn't.\n",
    "    \n",
    "    Args:\n",
    "        out (str): The string to check\n",
    "        expected (str): The regex pattern to match against\n",
    "        \n",
    "    Returns:\n",
    "        float: 0 if match, 1 if no match\n",
    "    \"\"\"\n",
    "    if not isinstance(expected,str):\n",
    "        raise ValueError(\"expected must be a string\")\n",
    "    if not isinstance(out,str):\n",
    "        return np.inf\n",
    "    try:\n",
    "        if re.search(expected, out,flags=re.IGNORECASE) is not None:\n",
    "            return 0\n",
    "        return mismatch_penalty\n",
    "    except Exception:\n",
    "        return mismatch_penalty\n"
   ]
  },
  {
   "cell_type": "code",
   "execution_count": null,
   "metadata": {},
   "outputs": [],
   "source": [
    "# Basic matching\n",
    "assert regex(\"hello world\", \"hello\") == 0.0  # Simple substring match\n",
    "assert regex(\"hello world\", \"^hello\") == 0.0  # Start anchor\n",
    "assert regex(\"hello world\", \"world$\") == 0.0  # End anchor\n",
    "assert regex(\"hello world\", \"hello.*world\") == 0.0  # Pattern with wildcard\n",
    "\n",
    "# Non-matching\n",
    "assert regex(\"hello world\", \"goodbye\") == 1.0  # No match\n",
    "assert regex(\"hello world\", \"^world\") == 1.0  # Wrong position\n",
    "assert regex(\"hello world\", \"hello$\") == 1.0  # Wrong position with anchor\n",
    "\n",
    "# Pattern errors and edge cases\n",
    "assert regex(\"hello world\", \"(unclosed\") == 1.0  # Invalid regex pattern\n",
    "assert regex(\"hello world\", \"\") == 0.0  # Empty pattern matches anything\n",
    "assert regex(\"\", \".*\") == 0.0  # Empty string matches wildcard\n",
    "assert regex(\"\", \"\") == 0.0  # Empty string matches empty pattern\n",
    "\n",
    "# Case sensitivity\n",
    "assert regex(\"Hello World\", \"hello\") == 0.0  # Case-insensitive by default\n",
    "\n"
   ]
  },
  {
   "cell_type": "markdown",
   "metadata": {},
   "source": [
    "## Running example"
   ]
  },
  {
   "cell_type": "code",
   "execution_count": null,
   "metadata": {},
   "outputs": [],
   "source": [
    "# TODO\n",
    "# in the future we can allow multiple inputs and expected blocks \n",
    "# so that people can interweave inputs and expectations"
   ]
  },
  {
   "cell_type": "code",
   "execution_count": null,
   "metadata": {},
   "outputs": [],
   "source": [
    "\n",
    "example_case = \"\"\"\n",
    "inputs:\n",
    "  - content: \"hello world\"\n",
    "test_nodes:\n",
    "  # we give the name of the trace node\n",
    "  - name: node_a\n",
    "    # we can also give a label to the node so we can refer to it later\n",
    "    label: node_a1\n",
    "    \n",
    "    # we describe what output we expect from the node using accessors as keys\n",
    "    # the value is what we expect the accessor to return\n",
    "    conditions:\n",
    "      - key: b.c\n",
    "        value: |\n",
    "          jimmy went\n",
    "          to the store\n",
    "\n",
    "  - name: node_b\n",
    "    # we can give multiple comparisons to the same node, using different accessors\n",
    "    conditions:\n",
    "      - key: d.e\n",
    "        value: jimmy\n",
    "        # we can specify the comparison function to use\n",
    "        func: \"regex\"\n",
    "      - key: f.g\n",
    "        value: \"is a good boy\"\n",
    "        func: \"chat\"\n",
    "        # we can pass kwargs to the comparison function\n",
    "        kwargs:\n",
    "          case_sensitive: false\n",
    "\n",
    "  # we can also give a regex to match the node name\n",
    "  - name: node_.*\n",
    "    conditions:\n",
    "      - key: .\n",
    "        value: \"store\"\n",
    "    # using the $parallel key we can specify that this node is expected in parallel with the previous node\n",
    "    # since we do not know which trace will be logged first\n",
    "    parallel: true\n",
    "    label: node_z\n",
    "    \n",
    "  - name: node_c\n",
    "    # we can specify more complex ordering constraints on nodes using before and after keys\n",
    "    # before and after take a list of node labels\n",
    "    # in this case we say that node_c should be after node_a1 and before node_z\n",
    "    after: \n",
    "      - node_a1\n",
    "    before: \n",
    "      - node_z\n",
    "    conditions:\n",
    "      - key: b.c\n",
    "        value: \"store\"\n",
    "    \n",
    "\"\"\"\n",
    "\n"
   ]
  },
  {
   "cell_type": "code",
   "execution_count": null,
   "metadata": {},
   "outputs": [],
   "source": [
    "#| export\n",
    "from stringdale.mappings import parse_accessor"
   ]
  },
  {
   "cell_type": "code",
   "execution_count": null,
   "metadata": {},
   "outputs": [],
   "source": [
    "example_trace_log = [\n",
    "    {\n",
    "        # should be ignored\n",
    "        \"name\": \"Start\",\n",
    "        \"output\": \"hello world\"\n",
    "    },\n",
    "    {\n",
    "        \"name\": \"node_a\",\n",
    "        \"output\": {'b':{'c':\"jimmy went\\nto the store\\nto buy some milk\"}}\n",
    "    },\n",
    "    {\n",
    "        # first option to node c\n",
    "        \"name\": \"node_c\",\n",
    "        \"output\": {'b':{'c':\"store is good\"}}\n",
    "    },\n",
    "    {\n",
    "        # shouldnt match\n",
    "        \"name\": \"node_a2\",\n",
    "        \"output\": {'b':{'d':\"store\"}}\n",
    "    },\n",
    "    {\n",
    "        # first option to node_z\n",
    "        \"name\": \"node_x\",\n",
    "        \"output\": \"store\"\n",
    "    },\n",
    "    {\n",
    "        \"name\": \"node_b\",\n",
    "        \"output\": {\n",
    "            'f':{'g':\"is a good boy\"},\n",
    "            'd':{'e':\"jimmy\"}\n",
    "            }\n",
    "    },\n",
    "    {   \n",
    "        # second option to node c, only relevant if node_* matches to node_y\n",
    "        \"name\": \"node_c\",\n",
    "        \"output\": {'b':{'c':\"store is good but not good enough\"}}\n",
    "    },\n",
    "    {\n",
    "        # second option to node_z\n",
    "        \"name\": \"node_y\",\n",
    "        \"output\": \"stores\"\n",
    "    },\n",
    "]\n",
    "\n",
    "# expected labels: [noda_a1,1 (b) ,node_z,3 (c)] # c needs to be before z\n",
    "# a:[1], c:[2,6] , b:[5] z:[4,7]"
   ]
  },
  {
   "cell_type": "code",
   "execution_count": null,
   "metadata": {},
   "outputs": [],
   "source": [
    "possible_mappings = {\n",
    "    frozendict({'node_a1':1,'1':5,'node_z':4,'3':2}), \n",
    "    frozendict({'node_a1':1,'1':5,'node_z':7,'3':2}),\n",
    "    frozendict({'node_a1':1,'1':5,'node_z':7,'3':6}),\n",
    "}\n",
    "\n",
    "best_mapping = frozendict({'node_a1':1,'1':5,'node_z':4,'3':2})"
   ]
  },
  {
   "cell_type": "markdown",
   "metadata": {},
   "source": [
    "## Parsing Test Cases"
   ]
  },
  {
   "cell_type": "code",
   "execution_count": null,
   "metadata": {},
   "outputs": [],
   "source": [
    "#| export \n",
    "from typing import Dict, Any,Optional, Union, List\n",
    "from pathlib import Path\n",
    "from pprint import pprint\n",
    "import yaml"
   ]
  },
  {
   "cell_type": "code",
   "execution_count": null,
   "metadata": {},
   "outputs": [],
   "source": [
    "#| export\n",
    "\n",
    "class Condition(BaseModel):\n",
    "    key: str \n",
    "    value: Any\n",
    "    func: Optional[str] = None\n",
    "    kwargs: Dict[str,Any] = {}\n",
    "    aggregation: Optional[str] = None\n",
    "    \n",
    "    @field_validator('key')\n",
    "    @classmethod\n",
    "    def validate_key(cls,v:str):\n",
    "        try:\n",
    "            parse_accessor(v)\n",
    "        except Exception as e:\n",
    "            raise ValueError(f\"Invalid accessor: {v}, {e}\") from e\n",
    "        return v\n",
    "\n",
    "    @field_validator('aggregation')\n",
    "    @classmethod\n",
    "    def validate_aggregation(cls,v:Optional[str]):\n",
    "        if v is not None:\n",
    "            if v not in ['min','max','sum','avg']:\n",
    "                raise ValueError(f\"Invalid aggregation: {v}, must be one of min,max,sum,avg\")\n",
    "        return v\n",
    "\n",
    "class TestNode(BaseModel):\n",
    "    name: str\n",
    "    label: Optional[str] = None\n",
    "    conditions: List[Condition]\n",
    "    before: Optional[List[str]] = Field(default_factory=list)\n",
    "    after: Optional[List[str]] = Field(default_factory=list)\n",
    "    parallel: Optional[bool] = False\n",
    "\n",
    "class TestCase(BaseModel):\n",
    "    inputs: List[Any]\n",
    "    test_nodes: List[TestNode]\n",
    "\n",
    "\n",
    "def parse_test_case(raw_case):\n",
    "    if isinstance(raw_case,Path):\n",
    "        raw_case = raw_case.read_text()\n",
    "    case_obj = TestCase.model_validate(yaml.safe_load(raw_case))\n",
    "    for idx,node in enumerate(case_obj.test_nodes):\n",
    "        if node.label is None:\n",
    "            node.label = f\"{idx}\"\n",
    "    return case_obj"
   ]
  },
  {
   "cell_type": "code",
   "execution_count": null,
   "metadata": {},
   "outputs": [],
   "source": [
    "with pytest.raises(ValueError,match='Invalid accessor'):\n",
    "    Condition(key='a.b.#c',value=1)\n"
   ]
  },
  {
   "cell_type": "code",
   "execution_count": null,
   "metadata": {},
   "outputs": [
    {
     "data": {
      "text/plain": [
       "TestCase(inputs=[{'content': 'hello world'}], test_nodes=[TestNode(name='node_a', label='node_a1', conditions=[Condition(key='b.c', value='jimmy went\\nto the store\\n', func=None, kwargs={}, aggregation=None)], before=[], after=[], parallel=False), TestNode(name='node_b', label='1', conditions=[Condition(key='d.e', value='jimmy', func='regex', kwargs={}, aggregation=None), Condition(key='f.g', value='is a good boy', func='chat', kwargs={'case_sensitive': False}, aggregation=None)], before=[], after=[], parallel=False), TestNode(name='node_.*', label='node_z', conditions=[Condition(key='.', value='store', func=None, kwargs={}, aggregation=None)], before=[], after=[], parallel=True), TestNode(name='node_c', label='3', conditions=[Condition(key='b.c', value='store', func=None, kwargs={}, aggregation=None)], before=['node_z'], after=['node_a1'], parallel=False)])"
      ]
     },
     "execution_count": null,
     "metadata": {},
     "output_type": "execute_result"
    }
   ],
   "source": [
    "t_case = parse_test_case(example_case)\n",
    "t_case"
   ]
  },
  {
   "cell_type": "code",
   "execution_count": null,
   "metadata": {},
   "outputs": [
    {
     "name": "stdout",
     "output_type": "stream",
     "text": [
      "inputs=[{'content': 'hello world'}] test_nodes=[TestNode(name='node_a', label='node_a1', conditions=[Condition(key='b.c', value='jimmy went\\nto the store\\n', func=None, kwargs={}, aggregation=None)], before=[], after=[], parallel=False), TestNode(name='node_b', label='1', conditions=[Condition(key='d.e', value='jimmy', func='regex', kwargs={}, aggregation=None), Condition(key='f.g', value='is a good boy', func='chat', kwargs={'case_sensitive': False}, aggregation=None)], before=[], after=[], parallel=False), TestNode(name='node_.*', label='node_z', conditions=[Condition(key='.', value='store', func=None, kwargs={}, aggregation=None)], before=[], after=[], parallel=True), TestNode(name='node_c', label='3', conditions=[Condition(key='b.c', value='store', func=None, kwargs={}, aggregation=None)], before=['node_z'], after=['node_a1'], parallel=False)]\n"
     ]
    }
   ],
   "source": [
    "t_case = parse_test_case(example_case)\n",
    "print(t_case)"
   ]
  },
  {
   "cell_type": "code",
   "execution_count": null,
   "metadata": {},
   "outputs": [],
   "source": [
    "#| export\n",
    "# subset of stringdale.Trace that only contains the name and output\n",
    "# since we only need them for evaluation\n",
    "class SubTrace(BaseModel):\n",
    "    model_config = ConfigDict(extra='allow')\n",
    "    name: str\n",
    "    output: Any\n",
    "\n",
    "\n",
    "class TraceLog(BaseModel):\n",
    "    steps: List[SubTrace]"
   ]
  },
  {
   "cell_type": "code",
   "execution_count": null,
   "metadata": {},
   "outputs": [
    {
     "data": {
      "text/plain": [
       "TraceLog(steps=[SubTrace(name='Start', output='hello world'), SubTrace(name='node_a', output={'b': {'c': 'jimmy went\\nto the store\\nto buy some milk'}}), SubTrace(name='node_c', output={'b': {'c': 'store is good'}}), SubTrace(name='node_a2', output={'b': {'d': 'store'}}), SubTrace(name='node_x', output='store'), SubTrace(name='node_b', output={'f': {'g': 'is a good boy'}, 'd': {'e': 'jimmy'}}), SubTrace(name='node_c', output={'b': {'c': 'store is good but not good enough'}}), SubTrace(name='node_y', output='stores')])"
      ]
     },
     "execution_count": null,
     "metadata": {},
     "output_type": "execute_result"
    }
   ],
   "source": [
    "t_log = TraceLog(steps=example_trace_log)\n",
    "t_log"
   ]
  },
  {
   "cell_type": "markdown",
   "metadata": {},
   "source": [
    "## Event stream warping"
   ]
  },
  {
   "cell_type": "markdown",
   "metadata": {},
   "source": [
    "There are 3 steps to this algorithm:\n",
    "* Compute distances between all Traces and all test nodes\n",
    "* Solve a CSP with the partial order between test nodes to get potential assignments from trace nodes to traces\n",
    "* Get the assignment with minimal distance"
   ]
  },
  {
   "cell_type": "code",
   "execution_count": null,
   "metadata": {},
   "outputs": [],
   "source": [
    "#| export\n",
    "from stringdale.core import maybe_await\n",
    "from collections.abc import Iterable"
   ]
  },
  {
   "cell_type": "code",
   "execution_count": null,
   "metadata": {},
   "outputs": [],
   "source": [
    "eval_funcs = {\n",
    "    \"regex\": regex,\n",
    "    \"word_overlap\": word_overlap,\n",
    "}\n",
    "default_func = 'word_overlap'"
   ]
  },
  {
   "cell_type": "markdown",
   "metadata": {},
   "source": [
    "### Compute distances"
   ]
  },
  {
   "cell_type": "code",
   "execution_count": null,
   "metadata": {},
   "outputs": [],
   "source": [
    "#| export\n",
    "\n",
    "async def compute_condition_distance(trace:SubTrace,condition:Condition,eval_funcs,default_func):\n",
    "    condition_func = eval_funcs.get(condition.func, eval_funcs[default_func])\n",
    "    output_sub_value = access(trace.output,condition.key)\n",
    "\n",
    "    def error_message(e):\n",
    "        logger.error(f\"Error computing distance for:\\n\"\n",
    "                        f\"trace {trace.name}\\n\"\n",
    "                        f\"condition function {condition_func}\\n\"\n",
    "                        f\"with key {condition.key}\\n\"\n",
    "                        f\"output value {repr(output_sub_value)}\\n\"\n",
    "                        f\"expected value {repr(condition.value)}\\n\"\n",
    "                        f\"with error: {e}\")\n",
    "\n",
    "\n",
    "    if condition.aggregation is None:\n",
    "        try:\n",
    "            logger.debug(\n",
    "                f\"Computing condition distance for key '{condition.key}' with value '{output_sub_value}'\\n\"\n",
    "                f\"condition function {condition_func}\\n\"\n",
    "                f\"args = [{output_sub_value}, {condition.value}]\\n\"\n",
    "                f\"kwargs = {condition.kwargs}\\n\"\n",
    "            )\n",
    "            condition_distance = await maybe_await(condition_func,args=[output_sub_value, condition.value],kwargs=condition.kwargs)\n",
    "            logger.debug(f\"Condition distance for key '{condition.key}' with value '{output_sub_value}' is {condition_distance}\")\n",
    "            agg_meta = None\n",
    "        except Exception as e:\n",
    "            error_message(e)\n",
    "            return np.inf,output_sub_value,None\n",
    "    else: # aggregation\n",
    "        if not isinstance(output_sub_value,Iterable):\n",
    "            error_message(f\"Output sub value is not iterable: {output_sub_value}\")\n",
    "            return np.inf,output_sub_value\n",
    "        logger.debug(f\"Computing condition distance for key '{condition.key}' aggregation '{condition.aggregation}' with value {output_sub_value}\")\n",
    "        sub_condition_tasks = [maybe_await(condition_func,args=[v, condition.value],kwargs=condition.kwargs) for v in output_sub_value]\n",
    "        distances = await asyncio.gather(*sub_condition_tasks)\n",
    "        agg_meta = {\n",
    "            \"distances\": distances,\n",
    "            \"values\": output_sub_value,\n",
    "        }\n",
    "\n",
    "        if condition.aggregation == 'min':\n",
    "            condition_distance = min(distances)\n",
    "        elif condition.aggregation == 'max':\n",
    "            condition_distance = max(distances)\n",
    "        elif condition.aggregation == 'sum':\n",
    "            condition_distance = sum(distances)\n",
    "        elif condition.aggregation == 'avg':\n",
    "            condition_distance = sum(distances) / len(distances)\n",
    "        else:\n",
    "            raise ValueError(f\"Invalid aggregation: {condition.aggregation}\")\n",
    "    \n",
    "    return condition_distance,output_sub_value,agg_meta\n"
   ]
  },
  {
   "cell_type": "code",
   "execution_count": null,
   "metadata": {},
   "outputs": [
    {
     "data": {
      "text/plain": [
       "(SubTrace(name='node_a', output={'b': {'c': 'jimmy went\\nto the store\\nto buy some milk'}}),\n",
       " Condition(key='b.c', value='jimmy went\\nto the store\\n', func=None, kwargs={}, aggregation=None))"
      ]
     },
     "execution_count": null,
     "metadata": {},
     "output_type": "execute_result"
    }
   ],
   "source": [
    "trace = t_log.steps[1] \n",
    "cond = t_case.test_nodes[0].conditions[0]\n",
    "trace,cond"
   ]
  },
  {
   "cell_type": "code",
   "execution_count": null,
   "metadata": {},
   "outputs": [],
   "source": [
    "res,_,_ = await compute_condition_distance(trace,cond,eval_funcs,default_func)\n",
    "assert res == 0.375"
   ]
  },
  {
   "cell_type": "code",
   "execution_count": null,
   "metadata": {},
   "outputs": [],
   "source": [
    "listlike_trace = SubTrace(name=\"listlike_trace\",output={'a':['1','2','3'],'b':[4,5,6]})\n",
    "\n",
    "agg_cond = Condition(key='a',value='1',comparison='regex',aggregation='min')\n",
    "regular_cond = Condition(key='a',value='1',comparison='regex')\n",
    "\n",
    "res,_,_ = await compute_condition_distance(listlike_trace,agg_cond,eval_funcs,default_func)\n",
    "assert res == 0\n",
    "\n",
    "res,_,_ = await compute_condition_distance(listlike_trace,regular_cond,eval_funcs,default_func)\n",
    "assert res == np.inf"
   ]
  },
  {
   "cell_type": "code",
   "execution_count": null,
   "metadata": {},
   "outputs": [],
   "source": [
    "#| export\n",
    "async def compute_node_distance(trace:SubTrace,node:TestNode,eval_funcs,default_func):\n",
    "\n",
    "    logger.debug(f\"Computing distance for trace {trace} and TestNode {node}\")\n",
    "    if not re.search(node.name, trace.name):\n",
    "        return None,[]\n",
    "    \n",
    "    # check if all accessors are in the trace\n",
    "    for condition in node.conditions:\n",
    "        try: \n",
    "            access(trace.output,condition.key)\n",
    "        except Exception as e:\n",
    "            return np.inf, []\n",
    "\n",
    "    debug_info = []\n",
    "\n",
    "    distances,values,agg_metas = zip(*await await_all(\n",
    "        [\n",
    "            compute_condition_distance(trace,condition,eval_funcs,default_func)\n",
    "            for condition in node.conditions\n",
    "        ],\n",
    "        error_prefix=[\n",
    "            f\"When computing distance for trace {trace.name} and node {node.name}\"\n",
    "            for condition in node.conditions\n",
    "        ]\n",
    "    ))\n",
    "\n",
    "    logger.debug(f\"Distances: {distances} values: {values}\")\n",
    "    distance = sum(distances)\n",
    "    \n",
    "    debug_info = []\n",
    "\n",
    "    for condition,condition_distance,value,agg_meta in zip(node.conditions,distances,values,agg_metas):\n",
    "        debug_info.append({\n",
    "            \"func\": condition.func,\n",
    "            \"kwargs\": condition.kwargs,\n",
    "            \"expected\": condition.value,\n",
    "            \"actual\": value,\n",
    "            \"key\": condition.key,\n",
    "            \"distance\": condition_distance,\n",
    "            \"aggregation\": condition.aggregation,\n",
    "            \"agg_meta\": agg_meta,\n",
    "        })\n",
    "        \n",
    "    return distance,debug_info\n"
   ]
  },
  {
   "cell_type": "code",
   "execution_count": null,
   "metadata": {},
   "outputs": [
    {
     "data": {
      "text/plain": [
       "TestNode(name='node_b', label='1', conditions=[Condition(key='d.e', value='jimmy', func='regex', kwargs={}, aggregation=None), Condition(key='f.g', value='is a good boy', func='chat', kwargs={'case_sensitive': False}, aggregation=None)], before=[], after=[], parallel=False)"
      ]
     },
     "execution_count": null,
     "metadata": {},
     "output_type": "execute_result"
    }
   ],
   "source": [
    "node = t_case.test_nodes[1]\n",
    "node"
   ]
  },
  {
   "cell_type": "code",
   "execution_count": null,
   "metadata": {},
   "outputs": [
    {
     "data": {
      "text/plain": [
       "SubTrace(name='node_b', output={'f': {'g': 'is a good boy'}, 'd': {'e': 'jimmy'}})"
      ]
     },
     "execution_count": null,
     "metadata": {},
     "output_type": "execute_result"
    }
   ],
   "source": [
    "trace = t_log.steps[-3]\n",
    "trace"
   ]
  },
  {
   "cell_type": "code",
   "execution_count": null,
   "metadata": {},
   "outputs": [
    {
     "data": {
      "text/plain": [
       "[{'func': 'regex',\n",
       "  'kwargs': {},\n",
       "  'expected': 'jimmy',\n",
       "  'actual': 'jimmy',\n",
       "  'key': 'd.e',\n",
       "  'distance': 0,\n",
       "  'aggregation': None,\n",
       "  'agg_meta': None},\n",
       " {'func': 'chat',\n",
       "  'kwargs': {'case_sensitive': False},\n",
       "  'expected': 'is a good boy',\n",
       "  'actual': 'is a good boy',\n",
       "  'key': 'f.g',\n",
       "  'distance': 0.0,\n",
       "  'aggregation': None,\n",
       "  'agg_meta': None}]"
      ]
     },
     "execution_count": null,
     "metadata": {},
     "output_type": "execute_result"
    }
   ],
   "source": [
    "dist,debug_info = await compute_node_distance(trace,node,eval_funcs,default_func)\n",
    "assert dist == 0,dist\n",
    "debug_info"
   ]
  },
  {
   "cell_type": "code",
   "execution_count": null,
   "metadata": {},
   "outputs": [],
   "source": [
    "#| export\n",
    "async def compute_distances(\n",
    "    trace_log:TraceLog,\n",
    "    test_case:TestCase,\n",
    "    comparisons:Dict[str,Callable],\n",
    "    default_comparison:Callable,\n",
    "    ):\n",
    "    \"\"\"\n",
    "    Compute the distance matrix between the traces and the expected traces.\n",
    "\n",
    "    Args:\n",
    "        trace_log: TraceLog, the trace log\n",
    "        test_case: TestCase, the test case\n",
    "        comparisons: Dict[str,Callable], the comparisons to use for the distance matrix\n",
    "        default_comparison: Callable, the default comparison to use for the distance matrix\n",
    "    \"\"\"\n",
    "    nodes = test_case.test_nodes\n",
    "    distances = dict()\n",
    "    for node in nodes:\n",
    "        distances[node.label] = dict()\n",
    "    debug_info = defaultdict(dict)\n",
    "    \n",
    "    a_iter = list(it.product(enumerate(trace_log.steps), enumerate(nodes)))\n",
    "    tasks = [\n",
    "        compute_node_distance(trace,node,comparisons,default_comparison)\n",
    "        for (i, trace), (j, node) in a_iter\n",
    "    ]\n",
    "    error_prefixes = [\n",
    "        f\"When computing distance for trace {trace.name}(#{i}) and node Test {node.name}(#{j})\"\n",
    "        for (i, trace), (j, node) in a_iter\n",
    "    ]\n",
    "    \n",
    "    distance_list = await await_all(tasks,error_prefixes)\n",
    "\n",
    "    for ((i, trace), (j, node)), (d,debug) in zip(a_iter, distance_list):\n",
    "        if not d == None:\n",
    "            if not d == np.inf:\n",
    "                distances[node.label][i] = d\n",
    "            debug_info[node.label][i]={\n",
    "                'comparisons':debug,\n",
    "                'distance':d,\n",
    "                'node_idx':j,\n",
    "                'trace_idx':i,\n",
    "                'trace_name':trace.name,\n",
    "                'node_name':node.name,\n",
    "                'node_label':node.label,\n",
    "            }\n",
    "\n",
    "    return dict(distances),dict(debug_info)\n",
    "    "
   ]
  },
  {
   "cell_type": "code",
   "execution_count": null,
   "metadata": {},
   "outputs": [
    {
     "data": {
      "text/plain": [
       "{'node_a1': {1: 0.375},\n",
       " '1': {5: 0.0},\n",
       " 'node_z': {4: 0.0, 7: 1.0},\n",
       " '3': {2: 0.6666666666666667, 6: 0.8333333333333334}}"
      ]
     },
     "execution_count": null,
     "metadata": {},
     "output_type": "execute_result"
    }
   ],
   "source": [
    "# with checkLogs():\n",
    "dist,debug_info = await compute_distances(t_log,t_case,eval_funcs,default_func)\n",
    "dist"
   ]
  },
  {
   "cell_type": "code",
   "execution_count": null,
   "metadata": {},
   "outputs": [],
   "source": [
    "# debug_info"
   ]
  },
  {
   "cell_type": "code",
   "execution_count": null,
   "metadata": {},
   "outputs": [],
   "source": [
    "expected_dist = {'node_a1': {1: 0.375},\n",
    " '3': {2: 0.6666666666666667, 6: 0.8333333333333334},\n",
    " 'node_z': {4: 0.0, 7: 1.0},\n",
    " '1': {5: 0.0}}\n",
    "\n",
    "assert dist == expected_dist"
   ]
  },
  {
   "cell_type": "markdown",
   "metadata": {},
   "source": [
    "### CSM for possible assignments"
   ]
  },
  {
   "cell_type": "code",
   "execution_count": null,
   "metadata": {},
   "outputs": [
    {
     "data": {
      "text/plain": [
       "<__main__.LabelToVar>"
      ]
     },
     "execution_count": null,
     "metadata": {},
     "output_type": "execute_result"
    }
   ],
   "source": [
    "label_to_var = LabelToVar()\n",
    "for idx,node in enumerate(t_case.test_nodes):\n",
    "    label_to_var.add_label(node.label,idx)\n",
    "label_to_var"
   ]
  },
  {
   "cell_type": "code",
   "execution_count": null,
   "metadata": {},
   "outputs": [],
   "source": [
    "#| export\n",
    "from collections import defaultdict"
   ]
  },
  {
   "cell_type": "code",
   "execution_count": null,
   "metadata": {},
   "outputs": [],
   "source": [
    "#| export\n",
    "\n",
    "csp_logger = logging.getLogger(f'{__name__}.csp')\n",
    "\n",
    "def get_possible_assignments(dist,test_case:TestCase,label_to_var:LabelToVar):\n",
    "    \"\"\"\n",
    "    Gets possible mappings between expected traces and actual traces.\n",
    "    By building a constraint satisfaction problem and solving it.\n",
    "    \"\"\"\n",
    "    p = Problem()\n",
    "    csp_logger.debug(\n",
    "        f\"Adding variables for {test_case.test_nodes}\\n\"\n",
    "        f\"dist: {dist}\"\n",
    "        f\"label_to_var: {label_to_var}\"\n",
    "        )\n",
    "\n",
    "\n",
    "    # TODO if a<b and c is after b and is parallel, we need to deduce that c is bounded by the bound of a\n",
    "\n",
    "    # we track upper and lower bounds, so that we can deduce the bounds\n",
    "    #  of parallel nodes by the bounds of the node before them\n",
    "    lower_bounds = defaultdict(set)\n",
    "    upper_bounds = defaultdict(set)\n",
    "    \n",
    "    for col_idx,node in enumerate(test_case.test_nodes):\n",
    "        viable_trace_row_nums = list(dist[node.label].keys())\n",
    "        if not viable_trace_row_nums:\n",
    "            csp_logger.warning(f\"No viable trace row nums for expected trace {node.label}\")\n",
    "            return None, p\n",
    "        var_name = label_to_var.get_col(node.label)\n",
    "        p.addVariable(var_name,viable_trace_row_nums)\n",
    "        csp_logger.debug(f\"Adding variable {var_name} with domain {viable_trace_row_nums}\")\n",
    "\n",
    "        explicit_constraints = len(node.before) + len(node.after) > 0\n",
    "        if explicit_constraints:\n",
    "            for before_label in node.before:\n",
    "                before_var_name = label_to_var.get_col(before_label)\n",
    "                csp_logger.debug(f\"Adding constraint {before_var_name} < {var_name}\")\n",
    "                p.addConstraint(f\"{var_name} < {before_var_name}\")\n",
    "                lower_bounds[var_name].add(before_var_name)\n",
    "\n",
    "            for after_label in node.after:\n",
    "                after_var_name = label_to_var.get_col(after_label)\n",
    "                csp_logger.debug(f\"Adding constraint {var_name} < {after_var_name}\")\n",
    "                p.addConstraint(f\"{after_var_name} < {var_name}\")\n",
    "                upper_bounds[var_name].add(after_var_name)\n",
    "        else:\n",
    "\n",
    "            if col_idx == 0:\n",
    "                continue\n",
    "            \n",
    "            before_var_name = label_to_var.get_col(test_case.test_nodes[col_idx-1].label)\n",
    "            if not node.parallel:\n",
    "                csp_logger.debug(f\"Adding constraint {before_var_name} < {var_name}\")\n",
    "                p.addConstraint(f\"{before_var_name} < {var_name}\")\n",
    "                lower_bounds[var_name].add(before_var_name)\n",
    "\n",
    "            if node.parallel:\n",
    "                # derive the bounds from the bounds of the node before\n",
    "                for lower_bound in lower_bounds[before_var_name]:\n",
    "                    csp_logger.debug(f\"Adding constraint {lower_bound} < {var_name} (derived from {before_var_name} through parallel node {node.label})\")\n",
    "                    p.addConstraint(f\"{lower_bound} < {var_name}\")\n",
    "                    lower_bounds[var_name].add(lower_bound)\n",
    "                for upper_bound in upper_bounds[before_var_name]:\n",
    "                    csp_logger.debug(f\"Adding constraint {var_name} < {upper_bound} (derived from {before_var_name} through parallel node {node.label})\")\n",
    "                    p.addConstraint(f\"{var_name} < {upper_bound}\")\n",
    "                    upper_bounds[var_name].add(upper_bound)\n",
    "        \n",
    "    # these solutions use colnames    \n",
    "    solutions = p.getSolutions()\n",
    "    # invert the colnames back to labels\n",
    "    labeled_solutions = set(frozendict({label_to_var.get_label(k):v for k,v in sol.items()}) for sol in solutions)\n",
    "    return labeled_solutions, p"
   ]
  },
  {
   "cell_type": "code",
   "execution_count": null,
   "metadata": {},
   "outputs": [],
   "source": [
    "from deepdiff import DeepDiff\n",
    "from copy import deepcopy"
   ]
  },
  {
   "cell_type": "code",
   "execution_count": null,
   "metadata": {},
   "outputs": [
    {
     "data": {
      "text/plain": [
       "{'node_a1': {1: 0.375},\n",
       " '1': {5: 0.0},\n",
       " 'node_z': {4: 0.0, 7: 1.0},\n",
       " '3': {2: 0.6666666666666667, 6: 0.8333333333333334}}"
      ]
     },
     "execution_count": null,
     "metadata": {},
     "output_type": "execute_result"
    }
   ],
   "source": [
    "dist"
   ]
  },
  {
   "cell_type": "code",
   "execution_count": null,
   "metadata": {},
   "outputs": [
    {
     "data": {
      "text/plain": [
       "{'node_a1': {},\n",
       " '1': {5: 0.0},\n",
       " 'node_z': {4: 0.0, 7: 1.0},\n",
       " '3': {2: 0.6666666666666667, 6: 0.8333333333333334}}"
      ]
     },
     "execution_count": null,
     "metadata": {},
     "output_type": "execute_result"
    }
   ],
   "source": [
    "dist2 = deepcopy(dist)\n",
    "dist2['node_a1'] = dict()\n",
    "dist2"
   ]
  },
  {
   "cell_type": "code",
   "execution_count": null,
   "metadata": {},
   "outputs": [
    {
     "data": {
      "text/plain": [
       "<__main__.LabelToVar>"
      ]
     },
     "execution_count": null,
     "metadata": {},
     "output_type": "execute_result"
    }
   ],
   "source": [
    "label_to_var "
   ]
  },
  {
   "cell_type": "code",
   "execution_count": null,
   "metadata": {},
   "outputs": [
    {
     "name": "stderr",
     "output_type": "stream",
     "text": [
      "__main__.csp - DEBUG - Adding variables for [TestNode(name='node_a', label='node_a1', conditions=[Condition(key='b.c', value='jimmy went\\nto the store\\n', func=None, kwargs={}, aggregation=None)], before=[], after=[], parallel=False), TestNode(name='node_b', label='1', conditions=[Condition(key='d.e', value='jimmy', func='regex', kwargs={}, aggregation=None), Condition(key='f.g', value='is a good boy', func='chat', kwargs={'case_sensitive': False}, aggregation=None)], before=[], after=[], parallel=False), TestNode(name='node_.*', label='node_z', conditions=[Condition(key='.', value='store', func=None, kwargs={}, aggregation=None)], before=[], after=[], parallel=True), TestNode(name='node_c', label='3', conditions=[Condition(key='b.c', value='store', func=None, kwargs={}, aggregation=None)], before=['node_z'], after=['node_a1'], parallel=False)]\n",
      "dist: {'node_a1': {}, '1': {5: 0.0}, 'node_z': {4: 0.0, 7: 1.0}, '3': {2: 0.6666666666666667, 6: 0.8333333333333334}}label_to_var: <__main__.LabelToVar object>\n",
      "__main__.csp - WARNING - No viable trace row nums for expected trace node_a1\n"
     ]
    }
   ],
   "source": [
    "with checkLogs():\n",
    "    labeled_solutions,p = get_possible_assignments(dist2,t_case,label_to_var)\n",
    "assert labeled_solutions is None"
   ]
  },
  {
   "cell_type": "code",
   "execution_count": null,
   "metadata": {},
   "outputs": [],
   "source": [
    "labeled_solutions"
   ]
  },
  {
   "cell_type": "code",
   "execution_count": null,
   "metadata": {},
   "outputs": [
    {
     "name": "stderr",
     "output_type": "stream",
     "text": [
      "__main__.csp - DEBUG - Adding variables for [TestNode(name='node_a', label='node_a1', conditions=[Condition(key='b.c', value='jimmy went\\nto the store\\n', func=None, kwargs={}, aggregation=None)], before=[], after=[], parallel=False), TestNode(name='node_b', label='1', conditions=[Condition(key='d.e', value='jimmy', func='regex', kwargs={}, aggregation=None), Condition(key='f.g', value='is a good boy', func='chat', kwargs={'case_sensitive': False}, aggregation=None)], before=[], after=[], parallel=False), TestNode(name='node_.*', label='node_z', conditions=[Condition(key='.', value='store', func=None, kwargs={}, aggregation=None)], before=[], after=[], parallel=True), TestNode(name='node_c', label='3', conditions=[Condition(key='b.c', value='store', func=None, kwargs={}, aggregation=None)], before=['node_z'], after=['node_a1'], parallel=False)]\n",
      "dist: {'node_a1': {1: 0.375}, '1': {5: 0.0}, 'node_z': {4: 0.0, 7: 1.0}, '3': {2: 0.6666666666666667, 6: 0.8333333333333334}}label_to_var: <__main__.LabelToVar object>\n",
      "__main__.csp - DEBUG - Adding variable a with domain [1]\n",
      "__main__.csp - DEBUG - Adding variable b with domain [5]\n",
      "__main__.csp - DEBUG - Adding constraint a < b\n",
      "__main__.csp - DEBUG - Adding variable c with domain [4, 7]\n",
      "__main__.csp - DEBUG - Adding constraint a < c (derived from b through parallel node node_z)\n",
      "__main__.csp - DEBUG - Adding variable d with domain [2, 6]\n",
      "__main__.csp - DEBUG - Adding constraint c < d\n",
      "__main__.csp - DEBUG - Adding constraint d < a\n"
     ]
    },
    {
     "data": {
      "text/plain": [
       "{frozendict.frozendict({'node_a1': 1, 'node_z': 4, '3': 2, '1': 5}),\n",
       " frozendict.frozendict({'node_a1': 1, 'node_z': 7, '3': 2, '1': 5}),\n",
       " frozendict.frozendict({'node_a1': 1, 'node_z': 7, '3': 6, '1': 5})}"
      ]
     },
     "execution_count": null,
     "metadata": {},
     "output_type": "execute_result"
    }
   ],
   "source": [
    "with checkLogs():\n",
    "    labeled_solutions,p = get_possible_assignments(dist,t_case,label_to_var)\n",
    "\n",
    "diff = DeepDiff(labeled_solutions,possible_mappings)\n",
    "assert diff == {}, diff\n",
    "labeled_solutions"
   ]
  },
  {
   "cell_type": "code",
   "execution_count": null,
   "metadata": {},
   "outputs": [],
   "source": [
    "#| export\n",
    "def get_best_assignment(dist_matrix,possible_mappings,label_to_var):\n",
    "    \"\"\"\n",
    "    dist_matrix: np.ndarray\n",
    "    possible_mappings: list of tuples\n",
    "    label_to_var: dict\n",
    "    \"\"\"\n",
    "    \n",
    "    score_per_solution = {}\n",
    "    for sol in possible_mappings:\n",
    "        sum_dist = 0\n",
    "        for expected_label,trace_idx in sol.items():\n",
    "            sum_dist += dist_matrix[expected_label][trace_idx]\n",
    "        score_per_solution[sol] = sum_dist\n",
    "\n",
    "    best_solution =  min(score_per_solution,key=score_per_solution.get)\n",
    "    best_solution_score = score_per_solution[best_solution]\n",
    "    return best_solution,best_solution_score"
   ]
  },
  {
   "cell_type": "code",
   "execution_count": null,
   "metadata": {},
   "outputs": [],
   "source": [
    "best_mapping,best_score = get_best_assignment(dist,possible_mappings,label_to_var)\n",
    "assert best_mapping == frozendict({'node_a1': 1,'3': 2,'node_z': 4,'1': 5})"
   ]
  },
  {
   "cell_type": "code",
   "execution_count": null,
   "metadata": {},
   "outputs": [],
   "source": [
    "#| export\n",
    "async def event_stream_warp(trace_log,test_case,eval_funcs,default_func):\n",
    "    \"\"\"\n",
    "    Perform event stream warping on a trace log and a test case.\n",
    "\n",
    "    Args:\n",
    "        trace_log: TraceLog, the trace log to warp\n",
    "        test_case: TestCase, the test case to warp to\n",
    "        eval_funcs: Dict[str,Callable], the dictionary of functions to use for evaluation\n",
    "        default_func: Callable, the default function to use\n",
    "\n",
    "    Returns:\n",
    "        best_mapping: Dict[str,int], the best mapping from test_node labels to trace indexes\n",
    "        best_score: float, the score of the best mapping\n",
    "        debug_info: List[Dict[str,Any]], debug information for comparisons between all test nodes and all traces\n",
    "        dist: Dict[str,Dict[int,float]], the distance matrix\n",
    "        problem: Problem, the constraint satisfaction problem\n",
    "    \"\"\"\n",
    "    label_to_var = LabelToVar()\n",
    "    for idx,node in enumerate(test_case.test_nodes):\n",
    "        label_to_var.add_label(node.label,idx)\n",
    "\n",
    "    dist,debug_info = await compute_distances(trace_log,test_case,eval_funcs,default_func)\n",
    "    possible_mappings,problem = get_possible_assignments(dist,test_case,label_to_var)\n",
    "    if not possible_mappings:\n",
    "        return None, np.inf, debug_info, dist, problem\n",
    "    best_mapping,best_score = get_best_assignment(dist,possible_mappings,label_to_var)\n",
    "    return best_mapping, best_score, debug_info, dist, problem\n",
    "\n"
   ]
  },
  {
   "cell_type": "markdown",
   "metadata": {},
   "source": [
    "## End to end test"
   ]
  },
  {
   "cell_type": "code",
   "execution_count": null,
   "metadata": {},
   "outputs": [],
   "source": [
    "# t_case,t_log"
   ]
  },
  {
   "cell_type": "code",
   "execution_count": null,
   "metadata": {},
   "outputs": [
    {
     "name": "stderr",
     "output_type": "stream",
     "text": [
      "__main__.csp - DEBUG - Adding variables for [TestNode(name='node_a', label='node_a1', conditions=[Condition(key='b.c', value='jimmy went\\nto the store\\n', func=None, kwargs={}, aggregation=None)], before=[], after=[], parallel=False), TestNode(name='node_b', label='1', conditions=[Condition(key='d.e', value='jimmy', func='regex', kwargs={}, aggregation=None), Condition(key='f.g', value='is a good boy', func='chat', kwargs={'case_sensitive': False}, aggregation=None)], before=[], after=[], parallel=False), TestNode(name='node_.*', label='node_z', conditions=[Condition(key='.', value='store', func=None, kwargs={}, aggregation=None)], before=[], after=[], parallel=True), TestNode(name='node_c', label='3', conditions=[Condition(key='b.c', value='store', func=None, kwargs={}, aggregation=None)], before=['node_z'], after=['node_a1'], parallel=False)]\n",
      "dist: {'node_a1': {1: 0.375}, '1': {5: 0.0}, 'node_z': {4: 0.0, 7: 1.0}, '3': {2: 0.6666666666666667, 6: 0.8333333333333334}}label_to_var: <__main__.LabelToVar object>\n",
      "__main__.csp - DEBUG - Adding variable a with domain [1]\n",
      "__main__.csp - DEBUG - Adding variable b with domain [5]\n",
      "__main__.csp - DEBUG - Adding constraint a < b\n",
      "__main__.csp - DEBUG - Adding variable c with domain [4, 7]\n",
      "__main__.csp - DEBUG - Adding constraint a < c (derived from b through parallel node node_z)\n",
      "__main__.csp - DEBUG - Adding variable d with domain [2, 6]\n",
      "__main__.csp - DEBUG - Adding constraint c < d\n",
      "__main__.csp - DEBUG - Adding constraint d < a\n"
     ]
    },
    {
     "data": {
      "text/plain": [
       "(frozendict.frozendict({'node_a1': 1, 'node_z': 4, '3': 2, '1': 5}),\n",
       " 1.0416666666666667)"
      ]
     },
     "execution_count": null,
     "metadata": {},
     "output_type": "execute_result"
    }
   ],
   "source": [
    "\n",
    "default_comparison = 'word_overlap'\n",
    "comparisons = {\n",
    "    \"regex\": regex,\n",
    "    \"word_overlap\": word_overlap,\n",
    "}\n",
    "\n",
    "with checkLogs(name='__main__.csp'):\n",
    "    aligned_traces,score,debug_info,dist,problem = await event_stream_warp(t_log,t_case,eval_funcs,default_func)\n",
    "aligned_traces,score"
   ]
  },
  {
   "cell_type": "code",
   "execution_count": null,
   "metadata": {},
   "outputs": [
    {
     "data": {
      "text/plain": [
       "dict_keys(['node_a1', 'node_z', '3', '1'])"
      ]
     },
     "execution_count": null,
     "metadata": {},
     "output_type": "execute_result"
    }
   ],
   "source": [
    "debug_info.keys()"
   ]
  },
  {
   "cell_type": "code",
   "execution_count": null,
   "metadata": {},
   "outputs": [],
   "source": [
    "assert aligned_traces == frozendict({'node_a1': 1,'3': 2,'node_z': 4,'1': 5})"
   ]
  },
  {
   "cell_type": "markdown",
   "metadata": {},
   "source": [
    "## Parallel case"
   ]
  },
  {
   "cell_type": "code",
   "execution_count": null,
   "metadata": {},
   "outputs": [
    {
     "data": {
      "text/plain": [
       "TraceLog(steps=[SubTrace(name='Start', output='hello world'), SubTrace(name='node_a', output={'b': {'c': 'jimmy went\\nto the store\\nto buy some milk'}}), SubTrace(name='node_c', output={'b': {'c': 'store is good'}}), SubTrace(name='node_a2', output={'b': {'d': 'store'}}), SubTrace(name='node_x', output='store'), SubTrace(name='node_b', output={'f': {'g': 'is a good boy'}, 'd': {'e': 'jimmy'}}), SubTrace(name='node_c', output={'b': {'c': 'store is good but not good enough'}}), SubTrace(name='node_y', output='stores')])"
      ]
     },
     "execution_count": null,
     "metadata": {},
     "output_type": "execute_result"
    }
   ],
   "source": [
    "t_log"
   ]
  },
  {
   "cell_type": "code",
   "execution_count": null,
   "metadata": {},
   "outputs": [
    {
     "data": {
      "text/plain": [
       "TestCase(inputs=[{'content': 'hello world'}], test_nodes=[TestNode(name='node_a', label='node_a1', conditions=[Condition(key='b.c', value='jimmy went\\nto the store\\n', func=None, kwargs={}, aggregation=None)], before=[], after=[], parallel=False), TestNode(name='node_b', label='1', conditions=[Condition(key='d.e', value='jimmy', func='regex', kwargs={}, aggregation=None), Condition(key='f.g', value='is a good boy', func='chat', kwargs={'case_sensitive': False}, aggregation=None)], before=[], after=[], parallel=False), TestNode(name='node_.*', label='node_z', conditions=[Condition(key='.', value='store', func=None, kwargs={}, aggregation=None)], before=[], after=[], parallel=True), TestNode(name='node_c', label='3', conditions=[Condition(key='b.c', value='store', func=None, kwargs={}, aggregation=None)], before=['node_z'], after=['node_a1'], parallel=False)])"
      ]
     },
     "execution_count": null,
     "metadata": {},
     "output_type": "execute_result"
    }
   ],
   "source": [
    "t_case"
   ]
  },
  {
   "cell_type": "code",
   "execution_count": null,
   "metadata": {},
   "outputs": [],
   "source": [
    "import rich"
   ]
  },
  {
   "cell_type": "code",
   "execution_count": null,
   "metadata": {},
   "outputs": [
    {
     "data": {
      "text/html": [
       "<pre style=\"white-space:pre;overflow-x:auto;line-height:normal;font-family:Menlo,'DejaVu Sans Mono',consolas,'Courier New',monospace\"><span style=\"color: #800080; text-decoration-color: #800080; font-weight: bold\">TestCase</span><span style=\"font-weight: bold\">(</span>\n",
       "    <span style=\"color: #808000; text-decoration-color: #808000\">inputs</span>=<span style=\"font-weight: bold\">[</span><span style=\"color: #008000; text-decoration-color: #008000\">'anything'</span><span style=\"font-weight: bold\">]</span>,\n",
       "    <span style=\"color: #808000; text-decoration-color: #808000\">test_nodes</span>=<span style=\"font-weight: bold\">[</span>\n",
       "        <span style=\"color: #800080; text-decoration-color: #800080; font-weight: bold\">TestNode</span><span style=\"font-weight: bold\">(</span>\n",
       "            <span style=\"color: #808000; text-decoration-color: #808000\">name</span>=<span style=\"color: #008000; text-decoration-color: #008000\">'node_a'</span>,\n",
       "            <span style=\"color: #808000; text-decoration-color: #808000\">label</span>=<span style=\"color: #008000; text-decoration-color: #008000\">'0'</span>,\n",
       "            <span style=\"color: #808000; text-decoration-color: #808000\">conditions</span>=<span style=\"font-weight: bold\">[</span><span style=\"color: #800080; text-decoration-color: #800080; font-weight: bold\">Condition</span><span style=\"font-weight: bold\">(</span><span style=\"color: #808000; text-decoration-color: #808000\">key</span>=<span style=\"color: #008000; text-decoration-color: #008000\">'.'</span>, <span style=\"color: #808000; text-decoration-color: #808000\">value</span>=<span style=\"color: #008000; text-decoration-color: #008000\">'a'</span>, <span style=\"color: #808000; text-decoration-color: #808000\">func</span>=<span style=\"color: #008000; text-decoration-color: #008000\">'regex'</span>, <span style=\"color: #808000; text-decoration-color: #808000\">kwargs</span>=<span style=\"font-weight: bold\">{}</span>, <span style=\"color: #808000; text-decoration-color: #808000\">aggregation</span>=<span style=\"color: #800080; text-decoration-color: #800080; font-style: italic\">None</span><span style=\"font-weight: bold\">)]</span>,\n",
       "            <span style=\"color: #808000; text-decoration-color: #808000\">before</span>=<span style=\"font-weight: bold\">[]</span>,\n",
       "            <span style=\"color: #808000; text-decoration-color: #808000\">after</span>=<span style=\"font-weight: bold\">[]</span>,\n",
       "            <span style=\"color: #808000; text-decoration-color: #808000\">parallel</span>=<span style=\"color: #ff0000; text-decoration-color: #ff0000; font-style: italic\">False</span>\n",
       "        <span style=\"font-weight: bold\">)</span>,\n",
       "        <span style=\"color: #800080; text-decoration-color: #800080; font-weight: bold\">TestNode</span><span style=\"font-weight: bold\">(</span>\n",
       "            <span style=\"color: #808000; text-decoration-color: #808000\">name</span>=<span style=\"color: #008000; text-decoration-color: #008000\">'node_b'</span>,\n",
       "            <span style=\"color: #808000; text-decoration-color: #808000\">label</span>=<span style=\"color: #008000; text-decoration-color: #008000\">'1'</span>,\n",
       "            <span style=\"color: #808000; text-decoration-color: #808000\">conditions</span>=<span style=\"font-weight: bold\">[</span><span style=\"color: #800080; text-decoration-color: #800080; font-weight: bold\">Condition</span><span style=\"font-weight: bold\">(</span><span style=\"color: #808000; text-decoration-color: #808000\">key</span>=<span style=\"color: #008000; text-decoration-color: #008000\">'.'</span>, <span style=\"color: #808000; text-decoration-color: #808000\">value</span>=<span style=\"color: #008000; text-decoration-color: #008000\">'b'</span>, <span style=\"color: #808000; text-decoration-color: #808000\">func</span>=<span style=\"color: #008000; text-decoration-color: #008000\">'regex'</span>, <span style=\"color: #808000; text-decoration-color: #808000\">kwargs</span>=<span style=\"font-weight: bold\">{}</span>, <span style=\"color: #808000; text-decoration-color: #808000\">aggregation</span>=<span style=\"color: #800080; text-decoration-color: #800080; font-style: italic\">None</span><span style=\"font-weight: bold\">)]</span>,\n",
       "            <span style=\"color: #808000; text-decoration-color: #808000\">before</span>=<span style=\"font-weight: bold\">[]</span>,\n",
       "            <span style=\"color: #808000; text-decoration-color: #808000\">after</span>=<span style=\"font-weight: bold\">[]</span>,\n",
       "            <span style=\"color: #808000; text-decoration-color: #808000\">parallel</span>=<span style=\"color: #ff0000; text-decoration-color: #ff0000; font-style: italic\">False</span>\n",
       "        <span style=\"font-weight: bold\">)</span>,\n",
       "        <span style=\"color: #800080; text-decoration-color: #800080; font-weight: bold\">TestNode</span><span style=\"font-weight: bold\">(</span>\n",
       "            <span style=\"color: #808000; text-decoration-color: #808000\">name</span>=<span style=\"color: #008000; text-decoration-color: #008000\">'node_c'</span>,\n",
       "            <span style=\"color: #808000; text-decoration-color: #808000\">label</span>=<span style=\"color: #008000; text-decoration-color: #008000\">'2'</span>,\n",
       "            <span style=\"color: #808000; text-decoration-color: #808000\">conditions</span>=<span style=\"font-weight: bold\">[</span><span style=\"color: #800080; text-decoration-color: #800080; font-weight: bold\">Condition</span><span style=\"font-weight: bold\">(</span><span style=\"color: #808000; text-decoration-color: #808000\">key</span>=<span style=\"color: #008000; text-decoration-color: #008000\">'.'</span>, <span style=\"color: #808000; text-decoration-color: #808000\">value</span>=<span style=\"color: #008000; text-decoration-color: #008000\">'c'</span>, <span style=\"color: #808000; text-decoration-color: #808000\">func</span>=<span style=\"color: #008000; text-decoration-color: #008000\">'regex'</span>, <span style=\"color: #808000; text-decoration-color: #808000\">kwargs</span>=<span style=\"font-weight: bold\">{}</span>, <span style=\"color: #808000; text-decoration-color: #808000\">aggregation</span>=<span style=\"color: #800080; text-decoration-color: #800080; font-style: italic\">None</span><span style=\"font-weight: bold\">)]</span>,\n",
       "            <span style=\"color: #808000; text-decoration-color: #808000\">before</span>=<span style=\"font-weight: bold\">[]</span>,\n",
       "            <span style=\"color: #808000; text-decoration-color: #808000\">after</span>=<span style=\"font-weight: bold\">[]</span>,\n",
       "            <span style=\"color: #808000; text-decoration-color: #808000\">parallel</span>=<span style=\"color: #ff0000; text-decoration-color: #ff0000; font-style: italic\">False</span>\n",
       "        <span style=\"font-weight: bold\">)</span>\n",
       "    <span style=\"font-weight: bold\">]</span>\n",
       "<span style=\"font-weight: bold\">)</span>\n",
       "</pre>\n"
      ],
      "text/plain": [
       "\u001b[1;35mTestCase\u001b[0m\u001b[1m(\u001b[0m\n",
       "    \u001b[33minputs\u001b[0m=\u001b[1m[\u001b[0m\u001b[32m'anything'\u001b[0m\u001b[1m]\u001b[0m,\n",
       "    \u001b[33mtest_nodes\u001b[0m=\u001b[1m[\u001b[0m\n",
       "        \u001b[1;35mTestNode\u001b[0m\u001b[1m(\u001b[0m\n",
       "            \u001b[33mname\u001b[0m=\u001b[32m'node_a'\u001b[0m,\n",
       "            \u001b[33mlabel\u001b[0m=\u001b[32m'0'\u001b[0m,\n",
       "            \u001b[33mconditions\u001b[0m=\u001b[1m[\u001b[0m\u001b[1;35mCondition\u001b[0m\u001b[1m(\u001b[0m\u001b[33mkey\u001b[0m=\u001b[32m'.'\u001b[0m, \u001b[33mvalue\u001b[0m=\u001b[32m'a'\u001b[0m, \u001b[33mfunc\u001b[0m=\u001b[32m'regex'\u001b[0m, \u001b[33mkwargs\u001b[0m=\u001b[1m{\u001b[0m\u001b[1m}\u001b[0m, \u001b[33maggregation\u001b[0m=\u001b[3;35mNone\u001b[0m\u001b[1m)\u001b[0m\u001b[1m]\u001b[0m,\n",
       "            \u001b[33mbefore\u001b[0m=\u001b[1m[\u001b[0m\u001b[1m]\u001b[0m,\n",
       "            \u001b[33mafter\u001b[0m=\u001b[1m[\u001b[0m\u001b[1m]\u001b[0m,\n",
       "            \u001b[33mparallel\u001b[0m=\u001b[3;91mFalse\u001b[0m\n",
       "        \u001b[1m)\u001b[0m,\n",
       "        \u001b[1;35mTestNode\u001b[0m\u001b[1m(\u001b[0m\n",
       "            \u001b[33mname\u001b[0m=\u001b[32m'node_b'\u001b[0m,\n",
       "            \u001b[33mlabel\u001b[0m=\u001b[32m'1'\u001b[0m,\n",
       "            \u001b[33mconditions\u001b[0m=\u001b[1m[\u001b[0m\u001b[1;35mCondition\u001b[0m\u001b[1m(\u001b[0m\u001b[33mkey\u001b[0m=\u001b[32m'.'\u001b[0m, \u001b[33mvalue\u001b[0m=\u001b[32m'b'\u001b[0m, \u001b[33mfunc\u001b[0m=\u001b[32m'regex'\u001b[0m, \u001b[33mkwargs\u001b[0m=\u001b[1m{\u001b[0m\u001b[1m}\u001b[0m, \u001b[33maggregation\u001b[0m=\u001b[3;35mNone\u001b[0m\u001b[1m)\u001b[0m\u001b[1m]\u001b[0m,\n",
       "            \u001b[33mbefore\u001b[0m=\u001b[1m[\u001b[0m\u001b[1m]\u001b[0m,\n",
       "            \u001b[33mafter\u001b[0m=\u001b[1m[\u001b[0m\u001b[1m]\u001b[0m,\n",
       "            \u001b[33mparallel\u001b[0m=\u001b[3;91mFalse\u001b[0m\n",
       "        \u001b[1m)\u001b[0m,\n",
       "        \u001b[1;35mTestNode\u001b[0m\u001b[1m(\u001b[0m\n",
       "            \u001b[33mname\u001b[0m=\u001b[32m'node_c'\u001b[0m,\n",
       "            \u001b[33mlabel\u001b[0m=\u001b[32m'2'\u001b[0m,\n",
       "            \u001b[33mconditions\u001b[0m=\u001b[1m[\u001b[0m\u001b[1;35mCondition\u001b[0m\u001b[1m(\u001b[0m\u001b[33mkey\u001b[0m=\u001b[32m'.'\u001b[0m, \u001b[33mvalue\u001b[0m=\u001b[32m'c'\u001b[0m, \u001b[33mfunc\u001b[0m=\u001b[32m'regex'\u001b[0m, \u001b[33mkwargs\u001b[0m=\u001b[1m{\u001b[0m\u001b[1m}\u001b[0m, \u001b[33maggregation\u001b[0m=\u001b[3;35mNone\u001b[0m\u001b[1m)\u001b[0m\u001b[1m]\u001b[0m,\n",
       "            \u001b[33mbefore\u001b[0m=\u001b[1m[\u001b[0m\u001b[1m]\u001b[0m,\n",
       "            \u001b[33mafter\u001b[0m=\u001b[1m[\u001b[0m\u001b[1m]\u001b[0m,\n",
       "            \u001b[33mparallel\u001b[0m=\u001b[3;91mFalse\u001b[0m\n",
       "        \u001b[1m)\u001b[0m\n",
       "    \u001b[1m]\u001b[0m\n",
       "\u001b[1m)\u001b[0m\n"
      ]
     },
     "metadata": {},
     "output_type": "display_data"
    }
   ],
   "source": [
    "without_parallel_expected = parse_test_case(\"\"\"\n",
    "inputs:\n",
    "  - anything\n",
    "test_nodes:\n",
    "  - name: node_a\n",
    "    conditions:\n",
    "      - key: .\n",
    "        func: regex\n",
    "        value: a\n",
    "  - name: node_b\n",
    "    conditions:\n",
    "      - key: .\n",
    "        func: regex\n",
    "        value: b\n",
    "  - name: node_c\n",
    "    conditions:\n",
    "      - key: .\n",
    "        func: regex\n",
    "        value: c\n",
    "\"\"\")\n",
    "rich.print(without_parallel_expected)"
   ]
  },
  {
   "cell_type": "code",
   "execution_count": null,
   "metadata": {},
   "outputs": [
    {
     "data": {
      "text/plain": [
       "TraceLog(steps=[SubTrace(name='node_a', output='a'), SubTrace(name='node_b', output='b'), SubTrace(name='node_c', output='c')])"
      ]
     },
     "execution_count": null,
     "metadata": {},
     "output_type": "execute_result"
    }
   ],
   "source": [
    "right_order_log = TraceLog(\n",
    "    steps=[\n",
    "        {\"name\":\"node_a\",\"output\":\"a\"},\n",
    "        {\"name\":\"node_b\",\"output\":\"b\"},\n",
    "        {\"name\":\"node_c\",\"output\":\"c\"},\n",
    "    ]\n",
    ")\n",
    "right_order_log "
   ]
  },
  {
   "cell_type": "code",
   "execution_count": null,
   "metadata": {},
   "outputs": [
    {
     "name": "stderr",
     "output_type": "stream",
     "text": [
      "__main__.csp - DEBUG - Adding variables for [TestNode(name='node_a', label='0', conditions=[Condition(key='.', value='a', func='regex', kwargs={}, aggregation=None)], before=[], after=[], parallel=False), TestNode(name='node_b', label='1', conditions=[Condition(key='.', value='b', func='regex', kwargs={}, aggregation=None)], before=[], after=[], parallel=False), TestNode(name='node_c', label='2', conditions=[Condition(key='.', value='c', func='regex', kwargs={}, aggregation=None)], before=[], after=[], parallel=False)]\n",
      "dist: {'0': {0: 0}, '1': {1: 0}, '2': {2: 0}}label_to_var: <__main__.LabelToVar object>\n",
      "__main__.csp - DEBUG - Adding variable a with domain [0]\n",
      "__main__.csp - DEBUG - Adding variable b with domain [1]\n",
      "__main__.csp - DEBUG - Adding constraint a < b\n",
      "__main__.csp - DEBUG - Adding variable c with domain [2]\n",
      "__main__.csp - DEBUG - Adding constraint b < c\n"
     ]
    }
   ],
   "source": [
    "with checkLogs(name='__main__.csp'):\n",
    "    aligned_traces,score,debug_info,dist,problem = await event_stream_warp(right_order_log,without_parallel_expected,eval_funcs,default_func)\n",
    "aligned_traces,score\n",
    "assert aligned_traces == frozendict({'0': 0,'1': 1,'2': 2})\n",
    "assert score == 0"
   ]
  },
  {
   "cell_type": "code",
   "execution_count": null,
   "metadata": {},
   "outputs": [
    {
     "data": {
      "text/plain": [
       "TraceLog(steps=[SubTrace(name='node_c', output='c'), SubTrace(name='node_a', output='a'), SubTrace(name='node_b', output='b')])"
      ]
     },
     "execution_count": null,
     "metadata": {},
     "output_type": "execute_result"
    }
   ],
   "source": [
    "wrong_order_log = TraceLog(\n",
    "    steps=[\n",
    "        {\"name\":\"node_c\",\"output\":\"c\"},\n",
    "        {\"name\":\"node_a\",\"output\":\"a\"},\n",
    "        {\"name\":\"node_b\",\"output\":\"b\"},\n",
    "    ]\n",
    ")\n",
    "wrong_order_log "
   ]
  },
  {
   "cell_type": "code",
   "execution_count": null,
   "metadata": {},
   "outputs": [
    {
     "name": "stderr",
     "output_type": "stream",
     "text": [
      "__main__.csp - DEBUG - Adding variables for [TestNode(name='node_a', label='0', conditions=[Condition(key='.', value='a', func='regex', kwargs={}, aggregation=None)], before=[], after=[], parallel=False), TestNode(name='node_b', label='1', conditions=[Condition(key='.', value='b', func='regex', kwargs={}, aggregation=None)], before=[], after=[], parallel=False), TestNode(name='node_c', label='2', conditions=[Condition(key='.', value='c', func='regex', kwargs={}, aggregation=None)], before=[], after=[], parallel=False)]\n",
      "dist: {'0': {1: 0}, '1': {2: 0}, '2': {0: 0}}label_to_var: <__main__.LabelToVar object>\n",
      "__main__.csp - DEBUG - Adding variable a with domain [1]\n",
      "__main__.csp - DEBUG - Adding variable b with domain [2]\n",
      "__main__.csp - DEBUG - Adding constraint a < b\n",
      "__main__.csp - DEBUG - Adding variable c with domain [0]\n",
      "__main__.csp - DEBUG - Adding constraint b < c\n"
     ]
    }
   ],
   "source": [
    "with checkLogs(name='__main__.csp'):\n",
    "    aligned_traces,score,debug_info,dist,problem = await event_stream_warp(wrong_order_log,without_parallel_expected,eval_funcs,default_func)\n",
    "aligned_traces,score\n",
    "assert aligned_traces == None, aligned_traces"
   ]
  },
  {
   "cell_type": "code",
   "execution_count": null,
   "metadata": {},
   "outputs": [
    {
     "data": {
      "text/html": [
       "<pre style=\"white-space:pre;overflow-x:auto;line-height:normal;font-family:Menlo,'DejaVu Sans Mono',consolas,'Courier New',monospace\"><span style=\"color: #800080; text-decoration-color: #800080; font-weight: bold\">TestCase</span><span style=\"font-weight: bold\">(</span>\n",
       "    <span style=\"color: #808000; text-decoration-color: #808000\">inputs</span>=<span style=\"font-weight: bold\">[</span><span style=\"color: #008000; text-decoration-color: #008000\">'anything'</span><span style=\"font-weight: bold\">]</span>,\n",
       "    <span style=\"color: #808000; text-decoration-color: #808000\">test_nodes</span>=<span style=\"font-weight: bold\">[</span>\n",
       "        <span style=\"color: #800080; text-decoration-color: #800080; font-weight: bold\">TestNode</span><span style=\"font-weight: bold\">(</span>\n",
       "            <span style=\"color: #808000; text-decoration-color: #808000\">name</span>=<span style=\"color: #008000; text-decoration-color: #008000\">'node_a'</span>,\n",
       "            <span style=\"color: #808000; text-decoration-color: #808000\">label</span>=<span style=\"color: #008000; text-decoration-color: #008000\">'0'</span>,\n",
       "            <span style=\"color: #808000; text-decoration-color: #808000\">conditions</span>=<span style=\"font-weight: bold\">[</span><span style=\"color: #800080; text-decoration-color: #800080; font-weight: bold\">Condition</span><span style=\"font-weight: bold\">(</span><span style=\"color: #808000; text-decoration-color: #808000\">key</span>=<span style=\"color: #008000; text-decoration-color: #008000\">'.'</span>, <span style=\"color: #808000; text-decoration-color: #808000\">value</span>=<span style=\"color: #008000; text-decoration-color: #008000\">'a'</span>, <span style=\"color: #808000; text-decoration-color: #808000\">func</span>=<span style=\"color: #008000; text-decoration-color: #008000\">'regex'</span>, <span style=\"color: #808000; text-decoration-color: #808000\">kwargs</span>=<span style=\"font-weight: bold\">{}</span>, <span style=\"color: #808000; text-decoration-color: #808000\">aggregation</span>=<span style=\"color: #800080; text-decoration-color: #800080; font-style: italic\">None</span><span style=\"font-weight: bold\">)]</span>,\n",
       "            <span style=\"color: #808000; text-decoration-color: #808000\">before</span>=<span style=\"font-weight: bold\">[]</span>,\n",
       "            <span style=\"color: #808000; text-decoration-color: #808000\">after</span>=<span style=\"font-weight: bold\">[]</span>,\n",
       "            <span style=\"color: #808000; text-decoration-color: #808000\">parallel</span>=<span style=\"color: #ff0000; text-decoration-color: #ff0000; font-style: italic\">False</span>\n",
       "        <span style=\"font-weight: bold\">)</span>,\n",
       "        <span style=\"color: #800080; text-decoration-color: #800080; font-weight: bold\">TestNode</span><span style=\"font-weight: bold\">(</span>\n",
       "            <span style=\"color: #808000; text-decoration-color: #808000\">name</span>=<span style=\"color: #008000; text-decoration-color: #008000\">'node_b'</span>,\n",
       "            <span style=\"color: #808000; text-decoration-color: #808000\">label</span>=<span style=\"color: #008000; text-decoration-color: #008000\">'1'</span>,\n",
       "            <span style=\"color: #808000; text-decoration-color: #808000\">conditions</span>=<span style=\"font-weight: bold\">[</span><span style=\"color: #800080; text-decoration-color: #800080; font-weight: bold\">Condition</span><span style=\"font-weight: bold\">(</span><span style=\"color: #808000; text-decoration-color: #808000\">key</span>=<span style=\"color: #008000; text-decoration-color: #008000\">'.'</span>, <span style=\"color: #808000; text-decoration-color: #808000\">value</span>=<span style=\"color: #008000; text-decoration-color: #008000\">'b'</span>, <span style=\"color: #808000; text-decoration-color: #808000\">func</span>=<span style=\"color: #008000; text-decoration-color: #008000\">'regex'</span>, <span style=\"color: #808000; text-decoration-color: #808000\">kwargs</span>=<span style=\"font-weight: bold\">{}</span>, <span style=\"color: #808000; text-decoration-color: #808000\">aggregation</span>=<span style=\"color: #800080; text-decoration-color: #800080; font-style: italic\">None</span><span style=\"font-weight: bold\">)]</span>,\n",
       "            <span style=\"color: #808000; text-decoration-color: #808000\">before</span>=<span style=\"font-weight: bold\">[]</span>,\n",
       "            <span style=\"color: #808000; text-decoration-color: #808000\">after</span>=<span style=\"font-weight: bold\">[]</span>,\n",
       "            <span style=\"color: #808000; text-decoration-color: #808000\">parallel</span>=<span style=\"color: #00ff00; text-decoration-color: #00ff00; font-style: italic\">True</span>\n",
       "        <span style=\"font-weight: bold\">)</span>,\n",
       "        <span style=\"color: #800080; text-decoration-color: #800080; font-weight: bold\">TestNode</span><span style=\"font-weight: bold\">(</span>\n",
       "            <span style=\"color: #808000; text-decoration-color: #808000\">name</span>=<span style=\"color: #008000; text-decoration-color: #008000\">'node_c'</span>,\n",
       "            <span style=\"color: #808000; text-decoration-color: #808000\">label</span>=<span style=\"color: #008000; text-decoration-color: #008000\">'2'</span>,\n",
       "            <span style=\"color: #808000; text-decoration-color: #808000\">conditions</span>=<span style=\"font-weight: bold\">[</span><span style=\"color: #800080; text-decoration-color: #800080; font-weight: bold\">Condition</span><span style=\"font-weight: bold\">(</span><span style=\"color: #808000; text-decoration-color: #808000\">key</span>=<span style=\"color: #008000; text-decoration-color: #008000\">'.'</span>, <span style=\"color: #808000; text-decoration-color: #808000\">value</span>=<span style=\"color: #008000; text-decoration-color: #008000\">'c'</span>, <span style=\"color: #808000; text-decoration-color: #808000\">func</span>=<span style=\"color: #008000; text-decoration-color: #008000\">'regex'</span>, <span style=\"color: #808000; text-decoration-color: #808000\">kwargs</span>=<span style=\"font-weight: bold\">{}</span>, <span style=\"color: #808000; text-decoration-color: #808000\">aggregation</span>=<span style=\"color: #800080; text-decoration-color: #800080; font-style: italic\">None</span><span style=\"font-weight: bold\">)]</span>,\n",
       "            <span style=\"color: #808000; text-decoration-color: #808000\">before</span>=<span style=\"font-weight: bold\">[]</span>,\n",
       "            <span style=\"color: #808000; text-decoration-color: #808000\">after</span>=<span style=\"font-weight: bold\">[]</span>,\n",
       "            <span style=\"color: #808000; text-decoration-color: #808000\">parallel</span>=<span style=\"color: #00ff00; text-decoration-color: #00ff00; font-style: italic\">True</span>\n",
       "        <span style=\"font-weight: bold\">)</span>\n",
       "    <span style=\"font-weight: bold\">]</span>\n",
       "<span style=\"font-weight: bold\">)</span>\n",
       "</pre>\n"
      ],
      "text/plain": [
       "\u001b[1;35mTestCase\u001b[0m\u001b[1m(\u001b[0m\n",
       "    \u001b[33minputs\u001b[0m=\u001b[1m[\u001b[0m\u001b[32m'anything'\u001b[0m\u001b[1m]\u001b[0m,\n",
       "    \u001b[33mtest_nodes\u001b[0m=\u001b[1m[\u001b[0m\n",
       "        \u001b[1;35mTestNode\u001b[0m\u001b[1m(\u001b[0m\n",
       "            \u001b[33mname\u001b[0m=\u001b[32m'node_a'\u001b[0m,\n",
       "            \u001b[33mlabel\u001b[0m=\u001b[32m'0'\u001b[0m,\n",
       "            \u001b[33mconditions\u001b[0m=\u001b[1m[\u001b[0m\u001b[1;35mCondition\u001b[0m\u001b[1m(\u001b[0m\u001b[33mkey\u001b[0m=\u001b[32m'.'\u001b[0m, \u001b[33mvalue\u001b[0m=\u001b[32m'a'\u001b[0m, \u001b[33mfunc\u001b[0m=\u001b[32m'regex'\u001b[0m, \u001b[33mkwargs\u001b[0m=\u001b[1m{\u001b[0m\u001b[1m}\u001b[0m, \u001b[33maggregation\u001b[0m=\u001b[3;35mNone\u001b[0m\u001b[1m)\u001b[0m\u001b[1m]\u001b[0m,\n",
       "            \u001b[33mbefore\u001b[0m=\u001b[1m[\u001b[0m\u001b[1m]\u001b[0m,\n",
       "            \u001b[33mafter\u001b[0m=\u001b[1m[\u001b[0m\u001b[1m]\u001b[0m,\n",
       "            \u001b[33mparallel\u001b[0m=\u001b[3;91mFalse\u001b[0m\n",
       "        \u001b[1m)\u001b[0m,\n",
       "        \u001b[1;35mTestNode\u001b[0m\u001b[1m(\u001b[0m\n",
       "            \u001b[33mname\u001b[0m=\u001b[32m'node_b'\u001b[0m,\n",
       "            \u001b[33mlabel\u001b[0m=\u001b[32m'1'\u001b[0m,\n",
       "            \u001b[33mconditions\u001b[0m=\u001b[1m[\u001b[0m\u001b[1;35mCondition\u001b[0m\u001b[1m(\u001b[0m\u001b[33mkey\u001b[0m=\u001b[32m'.'\u001b[0m, \u001b[33mvalue\u001b[0m=\u001b[32m'b'\u001b[0m, \u001b[33mfunc\u001b[0m=\u001b[32m'regex'\u001b[0m, \u001b[33mkwargs\u001b[0m=\u001b[1m{\u001b[0m\u001b[1m}\u001b[0m, \u001b[33maggregation\u001b[0m=\u001b[3;35mNone\u001b[0m\u001b[1m)\u001b[0m\u001b[1m]\u001b[0m,\n",
       "            \u001b[33mbefore\u001b[0m=\u001b[1m[\u001b[0m\u001b[1m]\u001b[0m,\n",
       "            \u001b[33mafter\u001b[0m=\u001b[1m[\u001b[0m\u001b[1m]\u001b[0m,\n",
       "            \u001b[33mparallel\u001b[0m=\u001b[3;92mTrue\u001b[0m\n",
       "        \u001b[1m)\u001b[0m,\n",
       "        \u001b[1;35mTestNode\u001b[0m\u001b[1m(\u001b[0m\n",
       "            \u001b[33mname\u001b[0m=\u001b[32m'node_c'\u001b[0m,\n",
       "            \u001b[33mlabel\u001b[0m=\u001b[32m'2'\u001b[0m,\n",
       "            \u001b[33mconditions\u001b[0m=\u001b[1m[\u001b[0m\u001b[1;35mCondition\u001b[0m\u001b[1m(\u001b[0m\u001b[33mkey\u001b[0m=\u001b[32m'.'\u001b[0m, \u001b[33mvalue\u001b[0m=\u001b[32m'c'\u001b[0m, \u001b[33mfunc\u001b[0m=\u001b[32m'regex'\u001b[0m, \u001b[33mkwargs\u001b[0m=\u001b[1m{\u001b[0m\u001b[1m}\u001b[0m, \u001b[33maggregation\u001b[0m=\u001b[3;35mNone\u001b[0m\u001b[1m)\u001b[0m\u001b[1m]\u001b[0m,\n",
       "            \u001b[33mbefore\u001b[0m=\u001b[1m[\u001b[0m\u001b[1m]\u001b[0m,\n",
       "            \u001b[33mafter\u001b[0m=\u001b[1m[\u001b[0m\u001b[1m]\u001b[0m,\n",
       "            \u001b[33mparallel\u001b[0m=\u001b[3;92mTrue\u001b[0m\n",
       "        \u001b[1m)\u001b[0m\n",
       "    \u001b[1m]\u001b[0m\n",
       "\u001b[1m)\u001b[0m\n"
      ]
     },
     "metadata": {},
     "output_type": "display_data"
    }
   ],
   "source": [
    "parallel_expected = parse_test_case(\"\"\"\n",
    "inputs:\n",
    "  - anything\n",
    "test_nodes:\n",
    "  - name: node_a\n",
    "    conditions:\n",
    "      - key: .\n",
    "        func: regex\n",
    "        value: a\n",
    "  - name: node_b\n",
    "    conditions:\n",
    "      - key: .\n",
    "        func: regex\n",
    "        value: b\n",
    "    parallel: true\n",
    "  - name: node_c\n",
    "    conditions:\n",
    "      - key: .\n",
    "        func: regex\n",
    "        value: c\n",
    "    parallel: true\n",
    "\"\"\")\n",
    "rich.print(parallel_expected)"
   ]
  },
  {
   "cell_type": "code",
   "execution_count": null,
   "metadata": {},
   "outputs": [
    {
     "name": "stderr",
     "output_type": "stream",
     "text": [
      "__main__.csp - DEBUG - Adding variables for [TestNode(name='node_a', label='0', conditions=[Condition(key='.', value='a', func='regex', kwargs={}, aggregation=None)], before=[], after=[], parallel=False), TestNode(name='node_b', label='1', conditions=[Condition(key='.', value='b', func='regex', kwargs={}, aggregation=None)], before=[], after=[], parallel=True), TestNode(name='node_c', label='2', conditions=[Condition(key='.', value='c', func='regex', kwargs={}, aggregation=None)], before=[], after=[], parallel=True)]\n",
      "dist: {'0': {1: 0}, '1': {2: 0}, '2': {0: 0}}label_to_var: <__main__.LabelToVar object>\n",
      "__main__.csp - DEBUG - Adding variable a with domain [1]\n",
      "__main__.csp - DEBUG - Adding variable b with domain [2]\n",
      "__main__.csp - DEBUG - Adding variable c with domain [0]\n"
     ]
    },
    {
     "data": {
      "text/plain": [
       "(frozendict.frozendict({'0': 1, '1': 2, '2': 0}), 0)"
      ]
     },
     "execution_count": null,
     "metadata": {},
     "output_type": "execute_result"
    }
   ],
   "source": [
    "with checkLogs(name='__main__.csp'):\n",
    "    aligned_traces,score,debug_info,dist,problem = await event_stream_warp(wrong_order_log,parallel_expected,eval_funcs,default_func)\n",
    "assert aligned_traces == frozendict({'0': 1,'1': 2,'2': 0}), aligned_traces\n",
    "aligned_traces,score\n"
   ]
  },
  {
   "cell_type": "markdown",
   "metadata": {},
   "source": [
    "## export"
   ]
  },
  {
   "cell_type": "code",
   "execution_count": null,
   "metadata": {},
   "outputs": [],
   "source": [
    "# |hide\n",
    "import nbdev; nbdev.nbdev_export()"
   ]
  }
 ],
 "metadata": {
  "kernelspec": {
   "display_name": "python3",
   "language": "python",
   "name": "python3"
  }
 },
 "nbformat": 4,
 "nbformat_minor": 2
}

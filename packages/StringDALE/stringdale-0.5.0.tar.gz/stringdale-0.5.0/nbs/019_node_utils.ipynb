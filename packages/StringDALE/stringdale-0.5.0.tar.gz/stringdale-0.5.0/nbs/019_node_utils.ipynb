{
 "cells": [
  {
   "cell_type": "markdown",
   "metadata": {},
   "source": [
    "# Standard Library"
   ]
  },
  {
   "cell_type": "markdown",
   "metadata": {},
   "source": [
    "Here we have a collection of standard functions that help writing stringdale diagrams effectively"
   ]
  },
  {
   "cell_type": "code",
   "execution_count": null,
   "metadata": {},
   "outputs": [],
   "source": [
    "# |default_exp utils"
   ]
  },
  {
   "cell_type": "code",
   "execution_count": null,
   "metadata": {},
   "outputs": [],
   "source": [
    "# | hide\n",
    "%load_ext autoreload\n",
    "%autoreload 2\n",
    "\n",
    "from stringdale.doc import show_doc\n",
    "import pytest"
   ]
  },
  {
   "cell_type": "code",
   "execution_count": null,
   "metadata": {},
   "outputs": [],
   "source": [
    "#| export\n",
    "from stringdale.core import get_git_root, load_env, checkLogs,  json_render,json_undeclared_vars\n",
    "from stringdale.mappings import map_object\n",
    "\n",
    "import openai \n",
    "from pydantic import BaseModel, create_model\n",
    "from typing import Optional, Dict, Any, List, Union\n",
    "import json\n",
    "import re\n",
    "from parse import parse\n",
    "from pathlib import Path\n",
    "from enum import Enum\n",
    "from pydantic import BaseModel\n",
    "import logging\n",
    "from joblib import Memory\n",
    "import os\n"
   ]
  },
  {
   "cell_type": "code",
   "execution_count": null,
   "metadata": {},
   "outputs": [],
   "source": [
    "#| export\n",
    "load_env()\n",
    "logger = logging.getLogger(__name__)\n",
    "\n",
    "# Create a cache directory in the user's home directory\n",
    "cache_dir = get_git_root() / '.cache' / 'image_text_cache'\n",
    "cache_dir.mkdir(parents=True, exist_ok=True)\n",
    "memory = Memory(location=str(cache_dir), verbose=0)\n",
    "\n",
    "# Initialize the Memory object for caching\n",
    "memory = Memory(cache_dir, verbose=0)\n"
   ]
  },
  {
   "cell_type": "markdown",
   "metadata": {},
   "source": [
    "## Nested Conditions made simple"
   ]
  },
  {
   "cell_type": "code",
   "execution_count": null,
   "metadata": {},
   "outputs": [],
   "source": [
    "# | export\n",
    "import re\n",
    "\n",
    "class _RegexCondition:\n",
    "    def __init__(self, regex):\n",
    "        self.pattern = regex\n",
    "        self.regex = re.compile(regex)\n",
    "    def __call__(self, x):\n",
    "        if not isinstance(x, str):\n",
    "            return False\n",
    "        return self.regex.search(x) != None\n",
    "\n",
    "    def __str__(self):\n",
    "        return f\"/{self.pattern}/\"\n",
    "    def __repr__(self):\n",
    "        return str(self)\n",
    "    \n",
    "\n"
   ]
  },
  {
   "cell_type": "code",
   "execution_count": null,
   "metadata": {},
   "outputs": [],
   "source": [
    "#| hide\n",
    "assert _RegexCondition(r\"\\d+\")(\"123\")\n",
    "assert _RegexCondition(r\"\\d+\")(\"123abc\")\n",
    "assert not _RegexCondition(r\"\\d+\")(\"abs\")\n",
    "assert not _RegexCondition(r\"\\d+$\")(\"123abc\")\n",
    "assert _RegexCondition(\".*\")(\"123\")\n",
    "assert _RegexCondition(\".*\")(\"1123abc23\")"
   ]
  },
  {
   "cell_type": "code",
   "execution_count": null,
   "metadata": {},
   "outputs": [],
   "source": [
    "#| export\n",
    "from stringdale.base import _get_func_name\n"
   ]
  },
  {
   "cell_type": "code",
   "execution_count": null,
   "metadata": {},
   "outputs": [],
   "source": [
    "#| export\n",
    "class _FuncCondition:\n",
    "    def __init__(self, func):\n",
    "        self.func = func\n",
    "    def __call__(self,*args,**kwargs):\n",
    "        return self.func(*args,**kwargs)\n",
    "    def __str__(self):\n",
    "        return f\"{_get_func_name(self.func)}\"\n",
    "    def __repr__(self):\n",
    "        return str(self)\n"
   ]
  },
  {
   "cell_type": "code",
   "execution_count": null,
   "metadata": {},
   "outputs": [],
   "source": [
    "#| export\n",
    "\n",
    "# TODO make it so that we can do several or conditions and it will results in a single _ORCondition\n",
    "class _ORCondition:\n",
    "    def __init__(self, cond1, cond2):\n",
    "        self.cond1 = cond1\n",
    "        self.cond2 = cond2\n",
    "        self.name = f\"({self.cond1} | {self.cond2})\"\n",
    "    def __call__(self, x):\n",
    "        return self.cond1(x) or self.cond2(x)\n",
    "\n",
    "    def __and__(self, other):\n",
    "        return _ANDCondition(self, other)\n",
    "    def __or__(self, other):\n",
    "        return _ORCondition(self, other)\n",
    "\n",
    "    def __str__(self):\n",
    "        return self.name\n",
    "    def __repr__(self):\n",
    "        return str(self)\n",
    "\n",
    "class _ANDCondition:\n",
    "    def __init__(self, cond1, cond2):\n",
    "        self.cond1 = cond1\n",
    "        self.cond2 = cond2\n",
    "        self.name = f\"({self.cond1} & {self.cond2})\"\n",
    "    def __call__(self, x):\n",
    "        return self.cond1(x) and self.cond2(x)\n",
    "\n",
    "    def __and__(self, other):\n",
    "        return _ANDCondition(self, other)\n",
    "    def __or__(self, other):\n",
    "        return _ORCondition(self, other)\n",
    "\n",
    "    def __str__(self):\n",
    "        return self.name\n",
    "    def __repr__(self):\n",
    "        return str(self)\n",
    "\n"
   ]
  },
  {
   "cell_type": "code",
   "execution_count": null,
   "metadata": {},
   "outputs": [],
   "source": [
    "#| export\n",
    "from stringdale.mappings import map_object,parse_edge_descriptor,object_to_args_kwargs\n",
    "from typing import Callable,Optional,Dict,Any,List,Union"
   ]
  },
  {
   "cell_type": "code",
   "execution_count": null,
   "metadata": {},
   "outputs": [],
   "source": [
    "#| export\n",
    "class Condition:\n",
    "    \"\"\"\n",
    "        A utility function for creating condition functions using stringdale's port mapping logic.\n",
    "        \n",
    "        Args:\n",
    "            func: A function or string to match against the input. If string, it will be interpreted as a regex pattern to match the input against.\n",
    "            mapping: A mapping of the input to the function. by default, the input is the first argument of the function.\n",
    "            name: A name for the condition. by default, is func_name->mapping_string\n",
    "    \"\"\"\n",
    "    def __init__(self,func:Union[Callable,str],mapping:Optional[str]=None, name:Optional[str]=None):\n",
    "\n",
    "        if isinstance(func, str):\n",
    "            func = _RegexCondition(func)\n",
    "        elif callable(func):\n",
    "            func = _FuncCondition(func)\n",
    "        else:\n",
    "            raise ValueError(f\"Last part of condition should be a string or callable, not {last_part}\")\n",
    "        \n",
    "        out = parse_edge_descriptor(\"**=a\",start='mapping_expr')\n",
    "\n",
    "        self.map_string = mapping\n",
    "        if mapping is None:\n",
    "            mapping = {0:('.',)}\n",
    "        else:\n",
    "            mapping = parse_edge_descriptor(mapping,start='mapping_expr')\n",
    "        self.mapping = mapping\n",
    "        self.func = func\n",
    "        self.name = name\n",
    "                    \n",
    "    def __call__(self, x):\n",
    "        try:\n",
    "            mapped_x = map_object(x,self.mapping)\n",
    "        except Exception as e:\n",
    "            return False\n",
    "        args,kwargs = object_to_args_kwargs(mapped_x)\n",
    "        return self.func(*args,**kwargs)\n",
    "    \n",
    "    def __and__(self, other):\n",
    "        return _ANDCondition(self, other)\n",
    "    def __or__(self, other):\n",
    "        return _ORCondition(self, other)\n",
    "\n",
    "    def __str__(self):\n",
    "        if self.name is not None:\n",
    "            return self.name\n",
    "        elif self.map_string is None:\n",
    "            return f\"Condition( {self.func} )\"\n",
    "        else:\n",
    "            return f\"Condition( {self.map_string} ) -> ({self.func})\"\n",
    "    def __repr__(self):\n",
    "        return str(self)"
   ]
  },
  {
   "cell_type": "code",
   "execution_count": null,
   "metadata": {},
   "outputs": [],
   "source": [
    "def is_module_2(x):\n",
    "    return x%2==0\n",
    "\n",
    "is_input_even = Condition(is_module_2,'(0=input)',name='input is even')\n",
    "\n",
    "assert is_input_even({\"input\": 2})\n",
    "assert not is_input_even({\"input\": 3})"
   ]
  },
  {
   "cell_type": "code",
   "execution_count": null,
   "metadata": {},
   "outputs": [],
   "source": [
    "def is_sum_42(x,y):\n",
    "    return x+y==42\n",
    "\n",
    "is_io_42 = Condition(is_sum_42,'(x=input,y=output)',name='i+o=42?')\n",
    "\n",
    "assert is_io_42({\"input\": 2,'output':40})"
   ]
  },
  {
   "cell_type": "code",
   "execution_count": null,
   "metadata": {},
   "outputs": [
    {
     "data": {
      "text/plain": [
       "((input is 3 & output is 5) | Condition( (0=input) ) -> (/^2/))"
      ]
     },
     "execution_count": null,
     "metadata": {},
     "output_type": "execute_result"
    }
   ],
   "source": [
    "C = Condition\n",
    "\n",
    "complex_cond = C(\"^3\",'(0=input)',name='input is 3') & C(\"^5\",'(0=output)',name='output is 5') | C(\"^2\",'(0=input)')\n",
    "complex_cond"
   ]
  },
  {
   "cell_type": "code",
   "execution_count": null,
   "metadata": {},
   "outputs": [],
   "source": [
    "assert complex_cond({\"input\": \"345\", \"output\": \"567\"})\n",
    "assert complex_cond({\"input\": \"244\", \"output\": \"567\"})\n",
    "assert not complex_cond({\"input\": \"145\", \"soutput\": \"567\"})\n",
    "assert not complex_cond({\"input\": \"345\", \"output\": \"67\"})\n",
    "assert not complex_cond({\"not_input\": \"145\"})\n",
    "assert complex_cond({ \"input\": \"244\"})"
   ]
  },
  {
   "cell_type": "code",
   "execution_count": null,
   "metadata": {},
   "outputs": [],
   "source": [
    "simple_cond = C(\"^2\")\n",
    "assert not simple_cond({\"input\": \"245\", \"output\": \"567\"})\n",
    "assert not simple_cond({\"input\": \"245\"})\n",
    "assert simple_cond(\"245\")\n"
   ]
  },
  {
   "cell_type": "markdown",
   "metadata": {},
   "source": [
    "## Structuring objects"
   ]
  },
  {
   "cell_type": "code",
   "execution_count": null,
   "metadata": {},
   "outputs": [],
   "source": [
    "#| export\n",
    "from stringdale.mappings import parse_edge_descriptor,set_access,access"
   ]
  },
  {
   "cell_type": "code",
   "execution_count": null,
   "metadata": {},
   "outputs": [],
   "source": [
    "#| export\n",
    "class StructureJson():\n",
    "    \"\"\"\n",
    "        A class for restructuring JSON objects by nested paths\n",
    "        This class allows restructuring JSON objects by specifying path assignments in the form\n",
    "        'target_path=source_path'. It parses these assignments and creates a new JSON object\n",
    "        with the specified structure.\n",
    "\n",
    "        Args:\n",
    "            assignments: Variable number of strings specifying path assignments in the format\n",
    "                'target_path=source_path'\n",
    "\n",
    "        Returns:\n",
    "            A new JSON object with the specified structure.\n",
    "    \"\"\"\n",
    "    def __init__(self,*assignments):\n",
    "        self.path_strings = assignments\n",
    "        self.assignment_paths = [parse_edge_descriptor(path,start='accessor_assignment') for path in assignments]\n",
    "    def __call__(self,**kwargs):\n",
    "        target_obj = {}\n",
    "        for write_path,read_path in self.assignment_paths:\n",
    "            sub_obj = access(kwargs,read_path,raw=True)\n",
    "            set_access(target_obj,write_path,sub_obj)\n",
    "        return target_obj\n",
    "    def __str__(self):\n",
    "        return f\"StructureJson({', '.join(self.path_strings)})\"\n",
    "    def __repr__(self):\n",
    "        return str(self)\n"
   ]
  },
  {
   "cell_type": "code",
   "execution_count": null,
   "metadata": {},
   "outputs": [
    {
     "data": {
      "text/plain": [
       "StructureJson(a.b.c=d.e.f, a.b.d=d.x)"
      ]
     },
     "execution_count": null,
     "metadata": {},
     "output_type": "execute_result"
    }
   ],
   "source": [
    "StructureJson('a.b.c=d.e.f','a.b.d=d.x')"
   ]
  },
  {
   "cell_type": "code",
   "execution_count": null,
   "metadata": {},
   "outputs": [],
   "source": [
    "source_obj = {'d':{'e':{'f':'foo'},'x':'bar'}}\n",
    "out = StructureJson('a.b.c=father.d.e.f','a.b.d=father.d.x')(father=source_obj)\n",
    "assert out == {'a':{'b':{'c':'foo','d':'bar'}}}\n"
   ]
  },
  {
   "cell_type": "markdown",
   "metadata": {},
   "source": [
    "## JsonRenderer"
   ]
  },
  {
   "cell_type": "code",
   "execution_count": null,
   "metadata": {},
   "outputs": [],
   "source": [
    "#| export\n",
    "from stringdale.core import json_render,json_undeclared_vars"
   ]
  },
  {
   "cell_type": "code",
   "execution_count": null,
   "metadata": {},
   "outputs": [],
   "source": [
    "#| export\n",
    "class JsonRenderer():\n",
    "    \"\"\"\n",
    "        A class for rendering JSON objects with nested jinja2 templates.\n",
    "\n",
    "        Allows setting template variables both during init and when calling the object.\n",
    "\n",
    "        Args:\n",
    "            json_obj: A JSON object to render.\n",
    "            **kwargs: Context variables to use in the rendering.\n",
    "\n",
    "        Returns:\n",
    "            A rendered JSON object.\n",
    "    \"\"\"\n",
    "    def __init__(self,json_obj,**kwargs):\n",
    "        self.json_obj = json_obj\n",
    "        self.baked_kwargs = kwargs\n",
    "    def __call__(self,**kwargs):\n",
    "        full_kwargs = {**self.baked_kwargs,**kwargs}\n",
    "        return json_render(self.json_obj,context=full_kwargs)\n",
    "\n",
    "    def _missing_keys(self):\n",
    "        template_vars = json_undeclared_vars(self.json_obj)\n",
    "        return template_vars - set(self.baked_kwargs.keys())\n",
    "\n",
    "    def __str__(self):\n",
    "        return f'JsonRenderer(missing_keys={self._missing_keys()})'\n",
    "\n",
    "    def __repr__(self):\n",
    "        return str(self)\n"
   ]
  },
  {
   "cell_type": "code",
   "execution_count": null,
   "metadata": {},
   "outputs": [
    {
     "data": {
      "text/plain": [
       "JsonRenderer(missing_keys={'name'})"
      ]
     },
     "execution_count": null,
     "metadata": {},
     "output_type": "execute_result"
    }
   ],
   "source": [
    "template_json = {\n",
    "    'name': '{{name}}',\n",
    "    'age': '{{age}}',\n",
    "    'city_path': '{%for city in cities%} {{city}} - {%endfor%}'\n",
    "}\n",
    "\n",
    "rend = JsonRenderer(template_json,age=30,cities=['SF','LA','NY'])\n",
    "rend\n"
   ]
  },
  {
   "cell_type": "code",
   "execution_count": null,
   "metadata": {},
   "outputs": [],
   "source": [
    "out = rend(name='Dean')\n",
    "assert out == {'name': 'Dean', 'age': '30', 'city_path': 'SF -  LA -  NY -'},out\n"
   ]
  },
  {
   "cell_type": "markdown",
   "metadata": {},
   "source": [
    "## Export"
   ]
  },
  {
   "cell_type": "code",
   "execution_count": null,
   "metadata": {},
   "outputs": [],
   "source": [
    "# |hide\n",
    "import nbdev\n",
    "\n",
    "nbdev.nbdev_export()"
   ]
  }
 ],
 "metadata": {
  "kernelspec": {
   "display_name": "python3",
   "language": "python",
   "name": "python3"
  }
 },
 "nbformat": 4,
 "nbformat_minor": 2
}

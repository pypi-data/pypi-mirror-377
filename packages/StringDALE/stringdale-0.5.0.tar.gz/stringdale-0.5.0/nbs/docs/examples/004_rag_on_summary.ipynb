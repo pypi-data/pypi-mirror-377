{
 "cells": [
  {
   "cell_type": "markdown",
   "metadata": {},
   "source": [
    "# Rag based on chunk summary"
   ]
  },
  {
   "cell_type": "code",
   "execution_count": null,
   "metadata": {},
   "outputs": [],
   "source": [
    "#| hide\n",
    "%load_ext autoreload\n",
    "%autoreload 2\n"
   ]
  },
  {
   "cell_type": "code",
   "execution_count": null,
   "metadata": {},
   "outputs": [
    {
     "data": {
      "text/plain": [
       "True"
      ]
     },
     "execution_count": null,
     "metadata": {},
     "output_type": "execute_result"
    }
   ],
   "source": [
    "# | hide\n",
    "from stringdale.core import get_git_root, load_env, checkLogs, json_render\n",
    "\n",
    "load_env()"
   ]
  },
  {
   "cell_type": "code",
   "execution_count": null,
   "metadata": {},
   "outputs": [],
   "source": [
    "from stringdale import V,E,Define,Condition,StructureJson\n",
    "from stringdale.chat import Chat\n",
    "from stringdale.db import ChromaClient"
   ]
  },
  {
   "cell_type": "code",
   "execution_count": null,
   "metadata": {},
   "outputs": [],
   "source": [
    "client = ChromaClient()"
   ]
  },
  {
   "cell_type": "markdown",
   "metadata": {},
   "source": [
    "## Upload Docs"
   ]
  },
  {
   "cell_type": "markdown",
   "metadata": {},
   "source": [
    "Lets say we have a list of documents we want to base our RAG on.\n",
    "The first step is to split them into chunks. Here is a basic example."
   ]
  },
  {
   "cell_type": "code",
   "execution_count": null,
   "metadata": {},
   "outputs": [],
   "source": [
    "sample_doc = {'text':\"\"\"\n",
    "The elephant is one of the most remarkable creatures on Earth. Known for their intelligence and complex social structures, elephants form deep family bonds that can last a lifetime. These gentle giants possess remarkable memory capabilities and demonstrate emotional behaviors like mourning their dead. Their distinctive trunks, containing over 40,000 muscles, serve multiple purposes from gathering food to expressing affection.\n",
    "\n",
    "The arctic fox is a fascinating animal that has adapted perfectly to life in the extreme cold. During winter, its thick white fur provides both insulation and camouflage in the snowy landscape, while in summer its coat turns brownish-gray to blend with the tundra. These resourceful predators can survive temperatures as low as -50°C (-58°F) and will travel vast distances across the Arctic ice in search of food, often following polar bears to scavenge their leftovers.\n",
    "\n",
    "The octopus stands out as one of the ocean's most intelligent invertebrates. With nine brains (one central brain and eight additional ones in each arm), these cephalopods can solve complex puzzles, open jars, and even use tools. Their remarkable ability to change both color and texture allows them to perfectly mimic their surroundings, making them masters of disguise. Despite their impressive capabilities, most octopus species live only 1-2 years, making their intelligence even more remarkable given their short lifespan.\n",
    "\"\"\",\n",
    "'id':'animal_book'\n",
    "}"
   ]
  },
  {
   "cell_type": "code",
   "execution_count": null,
   "metadata": {},
   "outputs": [
    {
     "data": {
      "text/plain": [
       "[{'text': 'The elephant is one of the most remarkable creatures on Earth. Known for their intelligence and complex social structures, elephants form deep family bonds that can last a lifetime. These gentle giants possess remarkable memory capabilities and demonstrate emotional behaviors like mourning their dead. Their distinctive trunks, containing over 40,000 muscles, serve multiple purposes from gathering food to expressing affection.',\n",
       "  'id': 'animal_book_0'},\n",
       " {'text': 'The arctic fox is a fascinating animal that has adapted perfectly to life in the extreme cold. During winter, its thick white fur provides both insulation and camouflage in the snowy landscape, while in summer its coat turns brownish-gray to blend with the tundra. These resourceful predators can survive temperatures as low as -50°C (-58°F) and will travel vast distances across the Arctic ice in search of food, often following polar bears to scavenge their leftovers.',\n",
       "  'id': 'animal_book_1'},\n",
       " {'text': \"The octopus stands out as one of the ocean's most intelligent invertebrates. With nine brains (one central brain and eight additional ones in each arm), these cephalopods can solve complex puzzles, open jars, and even use tools. Their remarkable ability to change both color and texture allows them to perfectly mimic their surroundings, making them masters of disguise. Despite their impressive capabilities, most octopus species live only 1-2 years, making their intelligence even more remarkable given their short lifespan.\",\n",
       "  'id': 'animal_book_2'}]"
      ]
     },
     "execution_count": null,
     "metadata": {},
     "output_type": "execute_result"
    }
   ],
   "source": [
    "def splitter(doc):\n",
    "    doc_id = doc['id']\n",
    "    text = doc['text']\n",
    "    return [{'text':chunk.strip(),'id':f'{doc_id}_{i}'} for i,chunk in enumerate(text.split('\\n\\n'))]\n",
    "\n",
    "chunks = splitter(sample_doc)\n",
    "chunks\n",
    "\n"
   ]
  },
  {
   "cell_type": "markdown",
   "metadata": {},
   "source": [
    "Now we would like to summarize each chunk."
   ]
  },
  {
   "cell_type": "code",
   "execution_count": null,
   "metadata": {},
   "outputs": [
    {
     "data": {
      "text/plain": [
       "{'role': 'assistant',\n",
       " 'content': 'Description of elephants as intelligent and social creatures with strong family bonds and emotional behaviors.',\n",
       " 'meta': {'input_tokens': 191, 'output_tokens': 16}}"
      ]
     },
     "execution_count": null,
     "metadata": {},
     "output_type": "execute_result"
    }
   ],
   "source": [
    "summarizer = Chat(model='gpt-4o-mini',\n",
    "    messages=[\n",
    "        {'role':'system','content':'''\n",
    "        You are a helpful assistant that summarizes chunks of text.\n",
    "        Here are some examples of how to summarize text:\n",
    "        Text:\n",
    "        Dogs are loyal companions that come in many breeds. They are known for their intelligence, \n",
    "        trainability and ability to form strong bonds with humans. Dogs have been domesticated \n",
    "        for thousands of years and serve many roles including pets, working animals, and service animals.\n",
    "        They communicate through barking, body language and facial expressions. Most dogs are social \n",
    "        animals that thrive on interaction with their human families.\n",
    "        Summary:\n",
    "        Description of dogs as pets.\n",
    "        '''},\n",
    "        {'role':'user','content':'{{text}}'}\n",
    "    ])\n",
    "\n",
    "res = await summarizer(text=chunks[0]['text'])\n",
    "res\n"
   ]
  },
  {
   "cell_type": "markdown",
   "metadata": {},
   "source": [
    "After running the summarizer in its own node, we would get data that looks something like this."
   ]
  },
  {
   "cell_type": "code",
   "execution_count": null,
   "metadata": {},
   "outputs": [],
   "source": [
    "unstructured_summary = {\n",
    "   'doc':{\n",
    "      'text': \"The octopus stands out as one of the ocean's most intelligent invertebrates. With nine brains (one central brain and eight additional ones in each arm), these cephalopods can solve complex puzzles, open jars, and even use tools. Their remarkable ability to change both color and texture allows them to perfectly mimic their surroundings, making them masters of disguise. Despite their impressive capabilities, most octopus species live only 1-2 years, making their intelligence even more remarkable given their short lifespan.\",\n",
    "      'id': 'animal_book_2'\n",
    "   },\n",
    "   'summary': 'Description of elephants as intelligent and social animals.',\n",
    "}"
   ]
  },
  {
   "cell_type": "markdown",
   "metadata": {},
   "source": [
    "We would like to end up with chunks of the following shape:"
   ]
  },
  {
   "cell_type": "code",
   "execution_count": null,
   "metadata": {},
   "outputs": [],
   "source": [
    "chunk_example = {\n",
    "    'text': 'Here we put a summary of the text so we can index the chunk based on the summary',\n",
    "    'id': 'doc_id',\n",
    "    'metadata':{\n",
    "        'full_text': '''\n",
    "            Here we put the original text, so we can access it when we retrieve the chunk\n",
    "            It is the full text that we would inject into the prompt\n",
    "        '''\n",
    "    }\n",
    "}"
   ]
  },
  {
   "cell_type": "markdown",
   "metadata": {},
   "source": [
    "Many API's require building nested objects from existing objects. To make this simpler, we made a utility that helps us build functions that take a bunch of input objects, and structure them into a nested object."
   ]
  },
  {
   "cell_type": "code",
   "execution_count": null,
   "metadata": {},
   "outputs": [],
   "source": [
    "from stringdale import StructureJson"
   ]
  },
  {
   "cell_type": "code",
   "execution_count": null,
   "metadata": {},
   "outputs": [
    {
     "data": {
      "text/plain": [
       "{'text': 'Description of elephants as intelligent and social animals.',\n",
       " 'id': 'animal_book_2',\n",
       " 'metadata': {'full_text': \"The octopus stands out as one of the ocean's most intelligent invertebrates. With nine brains (one central brain and eight additional ones in each arm), these cephalopods can solve complex puzzles, open jars, and even use tools. Their remarkable ability to change both color and texture allows them to perfectly mimic their surroundings, making them masters of disguise. Despite their impressive capabilities, most octopus species live only 1-2 years, making their intelligence even more remarkable given their short lifespan.\"}}"
      ]
     },
     "execution_count": null,
     "metadata": {},
     "output_type": "execute_result"
    }
   ],
   "source": [
    "StructureJson('text=summary','id=doc.id','metadata.full_text=doc.text')(**unstructured_summary)"
   ]
  },
  {
   "cell_type": "markdown",
   "metadata": {},
   "source": [
    "Lets put it all together into a summarize chunk diagram."
   ]
  },
  {
   "cell_type": "code",
   "execution_count": null,
   "metadata": {},
   "outputs": [
    {
     "data": {
      "image/svg+xml": [
       "<?xml version=\"1.0\" encoding=\"UTF-8\" standalone=\"no\"?>\n",
       "<!DOCTYPE svg PUBLIC \"-//W3C//DTD SVG 1.1//EN\"\n",
       " \"http://www.w3.org/Graphics/SVG/1.1/DTD/svg11.dtd\">\n",
       "<!-- Generated by graphviz version 12.2.1 (20241206.2353)\n",
       " -->\n",
       "<!-- Title: summarize chunk Pages: 1 -->\n",
       "<svg width=\"627pt\" height=\"171pt\"\n",
       " viewBox=\"0.00 0.00 626.50 170.75\" xmlns=\"http://www.w3.org/2000/svg\" xmlns:xlink=\"http://www.w3.org/1999/xlink\">\n",
       "<g id=\"graph0\" class=\"graph\" transform=\"scale(1 1) rotate(0) translate(4 166.75)\">\n",
       "<title>summarize chunk</title>\n",
       "<polygon fill=\"white\" stroke=\"none\" points=\"-4,4 -4,-166.75 622.5,-166.75 622.5,4 -4,4\"/>\n",
       "<text text-anchor=\"middle\" x=\"309.25\" y=\"-145.45\" font-family=\"Times,serif\" font-size=\"14.00\">summarize chunk</text>\n",
       "<!-- node_0 -->\n",
       "<g id=\"node1\" class=\"node\">\n",
       "<title>node_0</title>\n",
       "<polygon fill=\"#ececff\" stroke=\"#9370db\" points=\"336.25,-138.25 174,-138.25 174,-64.25 336.25,-64.25 336.25,-138.25\"/>\n",
       "<text text-anchor=\"middle\" x=\"255.12\" y=\"-120.95\" font-family=\"Times,serif\" font-size=\"14.00\">get_description[</text>\n",
       "<text text-anchor=\"middle\" x=\"255.12\" y=\"-104.45\" font-family=\"Times,serif\" font-size=\"14.00\">Chat(model=&#39;gpt&#45;4o&#45;mini&#39;,</text>\n",
       "<text text-anchor=\"middle\" x=\"255.12\" y=\"-87.95\" font-family=\"Times,serif\" font-size=\"14.00\">required_keys={&#39;text&#39;},</text>\n",
       "<text text-anchor=\"middle\" x=\"255.12\" y=\"-71.45\" font-family=\"Times,serif\" font-size=\"14.00\">seed=42) ]</text>\n",
       "</g>\n",
       "<!-- node_2 -->\n",
       "<g id=\"node3\" class=\"node\">\n",
       "<title>node_2</title>\n",
       "<polygon fill=\"#ececff\" stroke=\"#9370db\" points=\"618.5,-90.5 432.25,-90.5 432.25,0 618.5,0 618.5,-90.5\"/>\n",
       "<text text-anchor=\"middle\" x=\"525.38\" y=\"-73.2\" font-family=\"Times,serif\" font-size=\"14.00\">End[</text>\n",
       "<text text-anchor=\"middle\" x=\"525.38\" y=\"-56.7\" font-family=\"Times,serif\" font-size=\"14.00\">StructureJson(text=description,</text>\n",
       "<text text-anchor=\"middle\" x=\"525.38\" y=\"-40.2\" font-family=\"Times,serif\" font-size=\"14.00\">id=doc.id,</text>\n",
       "<text text-anchor=\"middle\" x=\"525.38\" y=\"-23.7\" font-family=\"Times,serif\" font-size=\"14.00\">metadata.full_text=doc.text)</text>\n",
       "<text text-anchor=\"middle\" x=\"525.38\" y=\"-7.2\" font-family=\"Times,serif\" font-size=\"14.00\">]</text>\n",
       "</g>\n",
       "<!-- node_0&#45;&gt;node_2 -->\n",
       "<g id=\"edge1\" class=\"edge\">\n",
       "<title>node_0&#45;&gt;node_2</title>\n",
       "<path fill=\"none\" stroke=\"black\" d=\"M336.61,-84.45C363.18,-78.9 393.1,-72.65 421.13,-66.8\"/>\n",
       "<polygon fill=\"black\" stroke=\"black\" points=\"421.62,-70.28 430.7,-64.81 420.19,-63.42 421.62,-70.28\"/>\n",
       "<text text-anchor=\"middle\" x=\"384.25\" y=\"-99.61\" font-family=\"Times,serif\" font-size=\"14.00\">content &#45;&gt;</text>\n",
       "<text text-anchor=\"middle\" x=\"384.25\" y=\"-83.11\" font-family=\"Times,serif\" font-size=\"14.00\">description</text>\n",
       "</g>\n",
       "<!-- node_1 -->\n",
       "<g id=\"node2\" class=\"node\">\n",
       "<title>node_1</title>\n",
       "<polygon fill=\"#ececff\" stroke=\"#9370db\" points=\"54,-63.25 0,-63.25 0,-27.25 54,-27.25 54,-63.25\"/>\n",
       "<text text-anchor=\"middle\" x=\"27\" y=\"-40.2\" font-family=\"Times,serif\" font-size=\"14.00\">Start</text>\n",
       "</g>\n",
       "<!-- node_1&#45;&gt;node_0 -->\n",
       "<g id=\"edge2\" class=\"edge\">\n",
       "<title>node_1&#45;&gt;node_0</title>\n",
       "<path fill=\"none\" stroke=\"black\" d=\"M54.38,-51.78C80.95,-58.36 123.47,-68.89 162.47,-78.55\"/>\n",
       "<polygon fill=\"black\" stroke=\"black\" points=\"161.61,-81.94 172.15,-80.95 163.29,-75.15 161.61,-81.94\"/>\n",
       "<text text-anchor=\"middle\" x=\"114\" y=\"-79.8\" font-family=\"Times,serif\" font-size=\"14.00\">doc.text &#45;&gt; text</text>\n",
       "</g>\n",
       "<!-- node_1&#45;&gt;node_2 -->\n",
       "<g id=\"edge3\" class=\"edge\">\n",
       "<title>node_1&#45;&gt;node_2</title>\n",
       "<path fill=\"none\" stroke=\"black\" d=\"M54.36,-43.72C83.59,-42.11 132.15,-39.68 174,-38.75 246.09,-37.15 264.15,-37.5 336.25,-38.75 363.68,-39.22 393.34,-40.09 420.83,-41.03\"/>\n",
       "<polygon fill=\"black\" stroke=\"black\" points=\"420.43,-44.52 430.54,-41.37 420.67,-37.52 420.43,-44.52\"/>\n",
       "<text text-anchor=\"middle\" x=\"255.12\" y=\"-41.95\" font-family=\"Times,serif\" font-size=\"14.00\">doc &#45;&gt; doc</text>\n",
       "</g>\n",
       "</g>\n",
       "</svg>\n"
      ],
      "text/plain": [
       "<graphviz.graphs.Digraph>"
      ]
     },
     "metadata": {},
     "output_type": "display_data"
    }
   ],
   "source": [
    "with Define('summarize chunk',type='flow') as SummarizeChunk:\n",
    "    V('get_description',summarizer,inputs=['Start(text=doc.text)'])\n",
    "    V('End',StructureJson('text=description','id=doc.id','metadata.full_text=doc.text'),\n",
    "        inputs=['Start(doc=doc)',\n",
    "        'get_description(description=content)'\n",
    "        ])\n",
    "SummarizeChunk.draw()"
   ]
  },
  {
   "cell_type": "markdown",
   "metadata": {},
   "source": [
    "Now we will build our RAG uploader diagram. For each text we will:\n",
    "* split it into chunks\n",
    "* summarize each chunk\n",
    "* push them all to the db"
   ]
  },
  {
   "cell_type": "code",
   "execution_count": null,
   "metadata": {},
   "outputs": [
    {
     "data": {
      "image/svg+xml": [
       "<?xml version=\"1.0\" encoding=\"UTF-8\" standalone=\"no\"?>\n",
       "<!DOCTYPE svg PUBLIC \"-//W3C//DTD SVG 1.1//EN\"\n",
       " \"http://www.w3.org/Graphics/SVG/1.1/DTD/svg11.dtd\">\n",
       "<!-- Generated by graphviz version 12.2.1 (20241206.2353)\n",
       " -->\n",
       "<!-- Title: Rag Uploader Pages: 1 -->\n",
       "<svg width=\"746pt\" height=\"147pt\"\n",
       " viewBox=\"0.00 0.00 746.00 147.25\" xmlns=\"http://www.w3.org/2000/svg\" xmlns:xlink=\"http://www.w3.org/1999/xlink\">\n",
       "<g id=\"graph0\" class=\"graph\" transform=\"scale(1 1) rotate(0) translate(4 143.25)\">\n",
       "<title>Rag Uploader</title>\n",
       "<polygon fill=\"white\" stroke=\"none\" points=\"-4,4 -4,-143.25 742,-143.25 742,4 -4,4\"/>\n",
       "<text text-anchor=\"middle\" x=\"369\" y=\"-121.95\" font-family=\"Times,serif\" font-size=\"14.00\">Rag Uploader</text>\n",
       "<!-- node_0 -->\n",
       "<g id=\"node1\" class=\"node\">\n",
       "<title>node_0</title>\n",
       "<polygon fill=\"#ececff\" stroke=\"#9370db\" stroke-width=\"2\" points=\"251.5,-114.75 154.5,-114.75 154.5,-40.75 251.5,-40.75 251.5,-114.75\"/>\n",
       "<text text-anchor=\"middle\" x=\"203\" y=\"-97.45\" font-family=\"Times,serif\" font-size=\"14.00\">split_texts[</text>\n",
       "<text text-anchor=\"middle\" x=\"203\" y=\"-80.95\" font-family=\"Times,serif\" font-size=\"14.00\">splitter,</text>\n",
       "<text text-anchor=\"middle\" x=\"203\" y=\"-64.45\" font-family=\"Times,serif\" font-size=\"14.00\">foreach=[doc],</text>\n",
       "<text text-anchor=\"middle\" x=\"203\" y=\"-47.95\" font-family=\"Times,serif\" font-size=\"14.00\">flat=True ]</text>\n",
       "</g>\n",
       "<!-- node_2 -->\n",
       "<g id=\"node3\" class=\"node\">\n",
       "<title>node_2</title>\n",
       "<polygon fill=\"#ececff\" stroke=\"#9370db\" stroke-width=\"2\" points=\"523.25,-114.75 394,-114.75 394,-40.75 523.25,-40.75 523.25,-114.75\"/>\n",
       "<text text-anchor=\"middle\" x=\"458.62\" y=\"-97.45\" font-family=\"Times,serif\" font-size=\"14.00\">summarize[</text>\n",
       "<text text-anchor=\"middle\" x=\"458.62\" y=\"-80.95\" font-family=\"Times,serif\" font-size=\"14.00\">Diagram(summarize</text>\n",
       "<text text-anchor=\"middle\" x=\"458.62\" y=\"-64.45\" font-family=\"Times,serif\" font-size=\"14.00\">chunk),</text>\n",
       "<text text-anchor=\"middle\" x=\"458.62\" y=\"-47.95\" font-family=\"Times,serif\" font-size=\"14.00\">foreach=[doc] ]</text>\n",
       "</g>\n",
       "<!-- node_0&#45;&gt;node_2 -->\n",
       "<g id=\"edge1\" class=\"edge\">\n",
       "<title>node_0&#45;&gt;node_2</title>\n",
       "<path fill=\"none\" stroke=\"black\" d=\"M251.7,-77.75C288.51,-77.75 340.11,-77.75 382.46,-77.75\"/>\n",
       "<polygon fill=\"black\" stroke=\"black\" points=\"382.34,-81.25 392.34,-77.75 382.34,-74.25 382.34,-81.25\"/>\n",
       "<text text-anchor=\"middle\" x=\"322.75\" y=\"-80.95\" font-family=\"Times,serif\" font-size=\"14.00\">. &#45;&gt; doc</text>\n",
       "</g>\n",
       "<!-- node_1 -->\n",
       "<g id=\"node2\" class=\"node\">\n",
       "<title>node_1</title>\n",
       "<polygon fill=\"#ececff\" stroke=\"#9370db\" points=\"54,-54.75 0,-54.75 0,-18.75 54,-18.75 54,-54.75\"/>\n",
       "<text text-anchor=\"middle\" x=\"27\" y=\"-31.7\" font-family=\"Times,serif\" font-size=\"14.00\">Start</text>\n",
       "</g>\n",
       "<!-- node_1&#45;&gt;node_0 -->\n",
       "<g id=\"edge2\" class=\"edge\">\n",
       "<title>node_1&#45;&gt;node_0</title>\n",
       "<path fill=\"none\" stroke=\"black\" d=\"M54.43,-42.98C77.97,-48.52 113.25,-56.84 143.41,-63.94\"/>\n",
       "<polygon fill=\"black\" stroke=\"black\" points=\"142.25,-67.27 152.79,-66.15 143.86,-60.45 142.25,-67.27\"/>\n",
       "<text text-anchor=\"middle\" x=\"104.25\" y=\"-65.33\" font-family=\"Times,serif\" font-size=\"14.00\">docs &#45;&gt; doc</text>\n",
       "</g>\n",
       "<!-- node_3 -->\n",
       "<g id=\"node4\" class=\"node\">\n",
       "<title>node_3</title>\n",
       "<polygon fill=\"#ececff\" stroke=\"#9370db\" points=\"738,-57.5 608,-57.5 608,0 738,0 738,-57.5\"/>\n",
       "<text text-anchor=\"middle\" x=\"673\" y=\"-40.2\" font-family=\"Times,serif\" font-size=\"14.00\">End[</text>\n",
       "<text text-anchor=\"middle\" x=\"673\" y=\"-23.7\" font-family=\"Times,serif\" font-size=\"14.00\">ChromaClient.upsert</text>\n",
       "<text text-anchor=\"middle\" x=\"673\" y=\"-7.2\" font-family=\"Times,serif\" font-size=\"14.00\">]</text>\n",
       "</g>\n",
       "<!-- node_1&#45;&gt;node_3 -->\n",
       "<g id=\"edge3\" class=\"edge\">\n",
       "<title>node_1&#45;&gt;node_3</title>\n",
       "<path fill=\"none\" stroke=\"black\" d=\"M54.16,-35.46C79.73,-34.26 119.78,-32.54 154.5,-31.75 311.69,-28.19 495.81,-28.09 596.58,-28.39\"/>\n",
       "<polygon fill=\"black\" stroke=\"black\" points=\"596.33,-31.89 606.34,-28.42 596.35,-24.89 596.33,-31.89\"/>\n",
       "<text text-anchor=\"middle\" x=\"322.75\" y=\"-49.4\" font-family=\"Times,serif\" font-size=\"14.00\">collection_name &#45;&gt;</text>\n",
       "<text text-anchor=\"middle\" x=\"322.75\" y=\"-32.9\" font-family=\"Times,serif\" font-size=\"14.00\">collection_name</text>\n",
       "</g>\n",
       "<!-- node_2&#45;&gt;node_3 -->\n",
       "<g id=\"edge4\" class=\"edge\">\n",
       "<title>node_2&#45;&gt;node_3</title>\n",
       "<path fill=\"none\" stroke=\"black\" d=\"M523.63,-62.98C546.62,-57.68 572.75,-51.65 596.61,-46.14\"/>\n",
       "<polygon fill=\"black\" stroke=\"black\" points=\"597.33,-49.57 606.28,-43.91 595.75,-42.75 597.33,-49.57\"/>\n",
       "<text text-anchor=\"middle\" x=\"565.62\" y=\"-60.84\" font-family=\"Times,serif\" font-size=\"14.00\">. &#45;&gt; docs</text>\n",
       "</g>\n",
       "</g>\n",
       "</svg>\n"
      ],
      "text/plain": [
       "<graphviz.graphs.Digraph>"
      ]
     },
     "metadata": {},
     "output_type": "display_data"
    }
   ],
   "source": [
    "# TODO consider adding zip to stringdale foreach syntax\n",
    "with Define('Rag Uploader',type='flow') as RagUpload:\n",
    "    V('split_texts',splitter,inputs=['Start(doc=docs)'],for_each=['doc'],flat=True)\n",
    "    V('summarize',SummarizeChunk,\n",
    "        inputs=['split_texts(doc=.)'],\n",
    "        for_each=['doc'])\n",
    "    V('End',client.upsert,inputs=['summarize(docs)','Start(collection_name=collection_name)'])\n",
    "\n",
    "RagUpload.draw()\n"
   ]
  },
  {
   "cell_type": "code",
   "execution_count": null,
   "metadata": {},
   "outputs": [
    {
     "data": {
      "text/plain": [
       "[{'text': 'Description of the arctic fox and its adaptations to cold environments.',\n",
       "  'id': 'animal_book_1',\n",
       "  'metadata': {'full_text': 'The arctic fox is a fascinating animal that has adapted perfectly to life in the extreme cold. During winter, its thick white fur provides both insulation and camouflage in the snowy landscape, while in summer its coat turns brownish-gray to blend with the tundra. These resourceful predators can survive temperatures as low as -50°C (-58°F) and will travel vast distances across the Arctic ice in search of food, often following polar bears to scavenge their leftovers.'}},\n",
       " {'text': 'Overview of octopuses as highly intelligent invertebrates with unique abilities.',\n",
       "  'id': 'animal_book_2',\n",
       "  'metadata': {'full_text': \"The octopus stands out as one of the ocean's most intelligent invertebrates. With nine brains (one central brain and eight additional ones in each arm), these cephalopods can solve complex puzzles, open jars, and even use tools. Their remarkable ability to change both color and texture allows them to perfectly mimic their surroundings, making them masters of disguise. Despite their impressive capabilities, most octopus species live only 1-2 years, making their intelligence even more remarkable given their short lifespan.\"}},\n",
       " {'text': 'Description of elephants as intelligent and social creatures with strong family bonds and emotional behaviors.',\n",
       "  'id': 'animal_book_0',\n",
       "  'metadata': {'full_text': 'The elephant is one of the most remarkable creatures on Earth. Known for their intelligence and complex social structures, elephants form deep family bonds that can last a lifetime. These gentle giants possess remarkable memory capabilities and demonstrate emotional behaviors like mourning their dead. Their distinctive trunks, containing over 40,000 muscles, serve multiple purposes from gathering food to expressing affection.'}}]"
      ]
     },
     "execution_count": null,
     "metadata": {},
     "output_type": "execute_result"
    }
   ],
   "source": [
    "client.add_collection(\"animal_book\",exists_ok=True)\n",
    "d = RagUpload()\n",
    "for trace in d.run({'docs':[sample_doc],'collection_name':'animal_book'}):\n",
    "    # trace.pprint()\n",
    "    pass\n",
    "\n",
    "d.output\n"
   ]
  },
  {
   "cell_type": "markdown",
   "metadata": {},
   "source": [
    "## RAG"
   ]
  },
  {
   "cell_type": "markdown",
   "metadata": {},
   "source": [
    "Now we can query our db, but we have to make sure that we convey our query into a chunk summary, so that we get relevant chunks from our document."
   ]
  },
  {
   "cell_type": "code",
   "execution_count": null,
   "metadata": {},
   "outputs": [
    {
     "data": {
      "text/plain": [
       "{'role': 'assistant',\n",
       " 'content': 'Descriptions of lion choco (the chocolate snack).  \\nTips for enjoying lion choco.  \\nInformation about the ingredients and nutritional value of lion choco.  \\nWays to incorporate lion choco in recipes or snacks.  ',\n",
       " 'meta': {'input_tokens': 119, 'output_tokens': 44}}"
      ]
     },
     "execution_count": null,
     "metadata": {},
     "output_type": "execute_result"
    }
   ],
   "source": [
    "guess_summary = topic_summarizer = Chat(model='gpt-4o-mini',\n",
    "    messages=[\n",
    "        {'role':'system','content':'''\n",
    "        You are a helpful assistant that predicts what kind of summaries will be helpful for a given query.\n",
    "        Here are some examples:\n",
    "        query:\n",
    "        I have an elephant and a dog. What is the most important thing about them?\n",
    "        Summaries:\n",
    "        Descriptions of elephants.\n",
    "        Descriptions of dogs.\n",
    "        query:\n",
    "        What is the most important thing about elephants?\n",
    "        Summaries:\n",
    "        Descriptions of elephants.\n",
    "        query:\n",
    "        What is the most important thing about dogs?\n",
    "        Summaries:\n",
    "        Description of dogs as pets.\n",
    "        '''},\n",
    "        {'role':'user','content':'query:{{query}}'},\n",
    "        {'role':'assistant','content':'summaries:'}\n",
    "\n",
    "    ])\n",
    "\n",
    "res = await guess_summary(query=\"I need help with my lion choco\")\n",
    "res"
   ]
  },
  {
   "cell_type": "markdown",
   "metadata": {},
   "source": [
    "Now we can build our RAG as usual. To make it more interesting, we will add some few-shot example on how we would like the chat to answer our queries."
   ]
  },
  {
   "cell_type": "code",
   "execution_count": null,
   "metadata": {},
   "outputs": [
    {
     "data": {
      "text/plain": [
       "Chat(model='gpt-4o-mini', required_keys={'docs', 'input'}, seed=42)"
      ]
     },
     "execution_count": null,
     "metadata": {},
     "output_type": "execute_result"
    }
   ],
   "source": [
    "full_text_rag_prompt = [\n",
    "            {'role':'system','content':'''\n",
    "            You are a helpful assistant that answers questions about animals.\n",
    "\n",
    "            Here are some examples of how to answer questions about animals:\n",
    "            {% for example in examples %}\n",
    "            Question: {{example['question']}}\n",
    "            Answer: {{example['answer']}}\n",
    "            {% endfor %}\n",
    "\n",
    "            I found the following documents that may be relevant to the user's question:\n",
    "            {% for doc in docs %}\n",
    "            {{doc['metadata']['full_text']}}\n",
    "            {% endfor %}\n",
    "            '''},\n",
    "            {'role':'user','content':'{{input}}'},\n",
    "            ]\n",
    "\n",
    "style_examples = [\n",
    "    {\n",
    "        'question': \"What are the key traits of Pandas?\",\n",
    "        'answer': \"\"\"Here are the key traits of Pandas:\n",
    "\n",
    "            • Pandas are a type of bear\n",
    "            • They are native to South America\n",
    "            • They are known for their black and white fur\n",
    "            • They are known for their love of bamboo\"\"\"\n",
    "    },\n",
    "    {\n",
    "        'question': \"What are the key traits of Lions?\",\n",
    "        'answer': \"\"\"Here are the key traits of Lions:\n",
    "        \n",
    "            • Lions are a type of bear\n",
    "            • They are native to Africa\n",
    "            • They are known for their mane of hair\"\"\"\n",
    "    }\n",
    "]\n",
    "\n",
    "# note that we bake the example in to the prompt\n",
    "# there fore we do not need to feed them to the node inside the diagram\n",
    "few_shot_rag_chat = Chat(model='gpt-4o-mini',\n",
    "    messages=full_text_rag_prompt,\n",
    "    examples=style_examples \n",
    "    )\n",
    "few_shot_rag_chat"
   ]
  },
  {
   "cell_type": "code",
   "execution_count": null,
   "metadata": {},
   "outputs": [
    {
     "data": {
      "image/svg+xml": [
       "<?xml version=\"1.0\" encoding=\"UTF-8\" standalone=\"no\"?>\n",
       "<!DOCTYPE svg PUBLIC \"-//W3C//DTD SVG 1.1//EN\"\n",
       " \"http://www.w3.org/Graphics/SVG/1.1/DTD/svg11.dtd\">\n",
       "<!-- Generated by graphviz version 12.2.1 (20241206.2353)\n",
       " -->\n",
       "<!-- Title: Summary based RAG Pages: 1 -->\n",
       "<svg width=\"943pt\" height=\"258pt\"\n",
       " viewBox=\"0.00 0.00 942.75 257.50\" xmlns=\"http://www.w3.org/2000/svg\" xmlns:xlink=\"http://www.w3.org/1999/xlink\">\n",
       "<g id=\"graph0\" class=\"graph\" transform=\"scale(1 1) rotate(0) translate(4 253.5)\">\n",
       "<title>Summary based RAG</title>\n",
       "<polygon fill=\"white\" stroke=\"none\" points=\"-4,4 -4,-253.5 938.75,-253.5 938.75,4 -4,4\"/>\n",
       "<text text-anchor=\"middle\" x=\"467.38\" y=\"-232.2\" font-family=\"Times,serif\" font-size=\"14.00\">Summary based RAG</text>\n",
       "<!-- node_0 -->\n",
       "<g id=\"node1\" class=\"node\">\n",
       "<title>node_0</title>\n",
       "<polygon fill=\"#ececff\" stroke=\"#9370db\" points=\"334,-225 171.75,-225 171.75,-151 334,-151 334,-225\"/>\n",
       "<text text-anchor=\"middle\" x=\"252.88\" y=\"-207.7\" font-family=\"Times,serif\" font-size=\"14.00\">guess_summary[</text>\n",
       "<text text-anchor=\"middle\" x=\"252.88\" y=\"-191.2\" font-family=\"Times,serif\" font-size=\"14.00\">Chat(model=&#39;gpt&#45;4o&#45;mini&#39;,</text>\n",
       "<text text-anchor=\"middle\" x=\"252.88\" y=\"-174.7\" font-family=\"Times,serif\" font-size=\"14.00\">required_keys={&#39;query&#39;},</text>\n",
       "<text text-anchor=\"middle\" x=\"252.88\" y=\"-158.2\" font-family=\"Times,serif\" font-size=\"14.00\">seed=42) ]</text>\n",
       "</g>\n",
       "<!-- node_2 -->\n",
       "<g id=\"node3\" class=\"node\">\n",
       "<title>node_2</title>\n",
       "<polygon fill=\"#ececff\" stroke=\"#9370db\" points=\"596.75,-90.5 460.75,-90.5 460.75,-49.5 596.75,-49.5 596.75,-90.5\"/>\n",
       "<text text-anchor=\"middle\" x=\"528.75\" y=\"-73.2\" font-family=\"Times,serif\" font-size=\"14.00\">get_docs[</text>\n",
       "<text text-anchor=\"middle\" x=\"528.75\" y=\"-56.7\" font-family=\"Times,serif\" font-size=\"14.00\">ChromaClient.query ]</text>\n",
       "</g>\n",
       "<!-- node_0&#45;&gt;node_2 -->\n",
       "<g id=\"edge1\" class=\"edge\">\n",
       "<title>node_0&#45;&gt;node_2</title>\n",
       "<path fill=\"none\" stroke=\"black\" d=\"M334.2,-153.39C377.28,-134.83 429.44,-112.36 468.75,-95.42\"/>\n",
       "<polygon fill=\"black\" stroke=\"black\" points=\"470.04,-98.68 477.84,-91.51 467.27,-92.25 470.04,-98.68\"/>\n",
       "<text text-anchor=\"middle\" x=\"397.38\" y=\"-146.24\" font-family=\"Times,serif\" font-size=\"14.00\">content &#45;&gt; query</text>\n",
       "</g>\n",
       "<!-- node_1 -->\n",
       "<g id=\"node2\" class=\"node\">\n",
       "<title>node_1</title>\n",
       "<polygon fill=\"#ececff\" stroke=\"#9370db\" points=\"54,-85 0,-85 0,-49 54,-49 54,-85\"/>\n",
       "<text text-anchor=\"middle\" x=\"27\" y=\"-61.95\" font-family=\"Times,serif\" font-size=\"14.00\">Start</text>\n",
       "</g>\n",
       "<!-- node_1&#45;&gt;node_0 -->\n",
       "<g id=\"edge2\" class=\"edge\">\n",
       "<title>node_1&#45;&gt;node_0</title>\n",
       "<path fill=\"none\" stroke=\"black\" d=\"M54.12,-81.12C83.1,-96.78 131.27,-122.82 172.81,-145.27\"/>\n",
       "<polygon fill=\"black\" stroke=\"black\" points=\"171.14,-148.34 181.6,-150.02 174.47,-142.19 171.14,-148.34\"/>\n",
       "<text text-anchor=\"middle\" x=\"112.88\" y=\"-137.94\" font-family=\"Times,serif\" font-size=\"14.00\">query &#45;&gt; query</text>\n",
       "</g>\n",
       "<!-- node_1&#45;&gt;node_2 -->\n",
       "<g id=\"edge3\" class=\"edge\">\n",
       "<title>node_1&#45;&gt;node_2</title>\n",
       "<path fill=\"none\" stroke=\"black\" d=\"M54.17,-67.16C126.98,-67.59 334.13,-68.84 448.86,-69.53\"/>\n",
       "<polygon fill=\"black\" stroke=\"black\" points=\"448.82,-73.03 458.84,-69.59 448.86,-66.03 448.82,-73.03\"/>\n",
       "<text text-anchor=\"middle\" x=\"252.88\" y=\"-121.5\" font-family=\"Times,serif\" font-size=\"14.00\">collection_name &#45;&gt;</text>\n",
       "<text text-anchor=\"middle\" x=\"252.88\" y=\"-105\" font-family=\"Times,serif\" font-size=\"14.00\">collection_name, k</text>\n",
       "<text text-anchor=\"middle\" x=\"252.88\" y=\"-88.5\" font-family=\"Times,serif\" font-size=\"14.00\">&#45;&gt; k, threshold &#45;&gt;</text>\n",
       "<text text-anchor=\"middle\" x=\"252.88\" y=\"-72\" font-family=\"Times,serif\" font-size=\"14.00\">threshold</text>\n",
       "</g>\n",
       "<!-- node_3 -->\n",
       "<g id=\"node4\" class=\"node\">\n",
       "<title>node_3</title>\n",
       "<polygon fill=\"#ececff\" stroke=\"#9370db\" points=\"843.75,-74 681.5,-74 681.5,0 843.75,0 843.75,-74\"/>\n",
       "<text text-anchor=\"middle\" x=\"762.62\" y=\"-56.7\" font-family=\"Times,serif\" font-size=\"14.00\">chat[</text>\n",
       "<text text-anchor=\"middle\" x=\"762.62\" y=\"-40.2\" font-family=\"Times,serif\" font-size=\"14.00\">Chat(model=&#39;gpt&#45;4o&#45;mini&#39;,</text>\n",
       "<text text-anchor=\"middle\" x=\"762.62\" y=\"-23.7\" font-family=\"Times,serif\" font-size=\"14.00\">required_keys={&#39;docs&#39;,</text>\n",
       "<text text-anchor=\"middle\" x=\"762.62\" y=\"-7.2\" font-family=\"Times,serif\" font-size=\"14.00\">&#39;input&#39;}, seed=42) ]</text>\n",
       "</g>\n",
       "<!-- node_1&#45;&gt;node_3 -->\n",
       "<g id=\"edge4\" class=\"edge\">\n",
       "<title>node_1&#45;&gt;node_3</title>\n",
       "<path fill=\"none\" stroke=\"black\" d=\"M54.05,-64.48C59.95,-63.96 66.19,-63.43 72,-63 244.59,-50.28 287.8,-47.04 460.75,-41 530.89,-38.55 610.27,-37.57 669.88,-37.19\"/>\n",
       "<polygon fill=\"black\" stroke=\"black\" points=\"669.66,-40.69 679.64,-37.13 669.62,-33.69 669.66,-40.69\"/>\n",
       "<text text-anchor=\"middle\" x=\"397.38\" y=\"-48.33\" font-family=\"Times,serif\" font-size=\"14.00\">query &#45;&gt; input</text>\n",
       "</g>\n",
       "<!-- node_2&#45;&gt;node_3 -->\n",
       "<g id=\"edge5\" class=\"edge\">\n",
       "<title>node_2&#45;&gt;node_3</title>\n",
       "<path fill=\"none\" stroke=\"black\" d=\"M597.13,-60.41C619.97,-57.16 645.89,-53.47 670.28,-50\"/>\n",
       "<polygon fill=\"black\" stroke=\"black\" points=\"670.45,-53.51 679.86,-48.64 669.47,-46.58 670.45,-53.51\"/>\n",
       "<text text-anchor=\"middle\" x=\"639.12\" y=\"-60.63\" font-family=\"Times,serif\" font-size=\"14.00\">. &#45;&gt; docs</text>\n",
       "</g>\n",
       "<!-- node_4 -->\n",
       "<g id=\"node5\" class=\"node\">\n",
       "<title>node_4</title>\n",
       "<polygon fill=\"#ececff\" stroke=\"#9370db\" points=\"934.75,-55 880.75,-55 880.75,-19 934.75,-19 934.75,-55\"/>\n",
       "<text text-anchor=\"middle\" x=\"907.75\" y=\"-31.95\" font-family=\"Times,serif\" font-size=\"14.00\">End</text>\n",
       "</g>\n",
       "<!-- node_3&#45;&gt;node_4 -->\n",
       "<g id=\"edge6\" class=\"edge\">\n",
       "<title>node_3&#45;&gt;node_4</title>\n",
       "<path fill=\"none\" stroke=\"black\" d=\"M843.97,-37C852.69,-37 861.23,-37 869.07,-37\"/>\n",
       "<polygon fill=\"black\" stroke=\"black\" points=\"868.84,-40.5 878.84,-37 868.84,-33.5 868.84,-40.5\"/>\n",
       "</g>\n",
       "</g>\n",
       "</svg>\n"
      ],
      "text/plain": [
       "<graphviz.graphs.Digraph>"
      ]
     },
     "metadata": {},
     "output_type": "display_data"
    }
   ],
   "source": [
    "with Define('Summary based RAG',type='flow') as SummaryRAG:\n",
    "    V('guess_summary',guess_summary,\n",
    "        inputs=['Start(query=query)'],\n",
    "    )\n",
    "    V('get_docs',client.query,\n",
    "        inputs=['guess_summary(query=content)','Start(collection_name=collection_name,k=k,threshold=threshold)'],\n",
    "    )\n",
    "    V('chat',few_shot_rag_chat,\n",
    "        inputs=['get_docs(docs)','Start(input=query)'],\n",
    "        outputs=['End']\n",
    "    )\n",
    "SummaryRAG.draw()"
   ]
  },
  {
   "cell_type": "code",
   "execution_count": null,
   "metadata": {},
   "outputs": [
    {
     "data": {
      "text/html": [
       "<style>pre { line-height: 125%; }\n",
       "td.linenos .normal { color: #aaaaaa; background-color: transparent; padding-left: 5px; padding-right: 5px; }\n",
       "span.linenos { color: #aaaaaa; background-color: transparent; padding-left: 5px; padding-right: 5px; }\n",
       "td.linenos .special { color: #000000; background-color: #ffffc0; padding-left: 5px; padding-right: 5px; }\n",
       "span.linenos.special { color: #000000; background-color: #ffffc0; padding-left: 5px; padding-right: 5px; }\n",
       ".highlight_native .hll { background-color: #404040 }\n",
       ".highlight_native { background: #202020; color: #D0D0D0 }\n",
       ".highlight_native .c { color: #ABABAB; font-style: italic } /* Comment */\n",
       ".highlight_native .err { color: #A61717; background-color: #E3D2D2 } /* Error */\n",
       ".highlight_native .esc { color: #D0D0D0 } /* Escape */\n",
       ".highlight_native .g { color: #D0D0D0 } /* Generic */\n",
       ".highlight_native .k { color: #6EBF26; font-weight: bold } /* Keyword */\n",
       ".highlight_native .l { color: #D0D0D0 } /* Literal */\n",
       ".highlight_native .n { color: #D0D0D0 } /* Name */\n",
       ".highlight_native .o { color: #D0D0D0 } /* Operator */\n",
       ".highlight_native .x { color: #D0D0D0 } /* Other */\n",
       ".highlight_native .p { color: #D0D0D0 } /* Punctuation */\n",
       ".highlight_native .ch { color: #ABABAB; font-style: italic } /* Comment.Hashbang */\n",
       ".highlight_native .cm { color: #ABABAB; font-style: italic } /* Comment.Multiline */\n",
       ".highlight_native .cp { color: #FF3A3A; font-weight: bold } /* Comment.Preproc */\n",
       ".highlight_native .cpf { color: #ABABAB; font-style: italic } /* Comment.PreprocFile */\n",
       ".highlight_native .c1 { color: #ABABAB; font-style: italic } /* Comment.Single */\n",
       ".highlight_native .cs { color: #E50808; font-weight: bold; background-color: #520000 } /* Comment.Special */\n",
       ".highlight_native .gd { color: #FF3A3A } /* Generic.Deleted */\n",
       ".highlight_native .ge { color: #D0D0D0; font-style: italic } /* Generic.Emph */\n",
       ".highlight_native .ges { color: #D0D0D0; font-weight: bold; font-style: italic } /* Generic.EmphStrong */\n",
       ".highlight_native .gr { color: #FF3A3A } /* Generic.Error */\n",
       ".highlight_native .gh { color: #FFF; font-weight: bold } /* Generic.Heading */\n",
       ".highlight_native .gi { color: #589819 } /* Generic.Inserted */\n",
       ".highlight_native .go { color: #CCC } /* Generic.Output */\n",
       ".highlight_native .gp { color: #AAA } /* Generic.Prompt */\n",
       ".highlight_native .gs { color: #D0D0D0; font-weight: bold } /* Generic.Strong */\n",
       ".highlight_native .gu { color: #FFF; text-decoration: underline } /* Generic.Subheading */\n",
       ".highlight_native .gt { color: #FF3A3A } /* Generic.Traceback */\n",
       ".highlight_native .kc { color: #6EBF26; font-weight: bold } /* Keyword.Constant */\n",
       ".highlight_native .kd { color: #6EBF26; font-weight: bold } /* Keyword.Declaration */\n",
       ".highlight_native .kn { color: #6EBF26; font-weight: bold } /* Keyword.Namespace */\n",
       ".highlight_native .kp { color: #6EBF26 } /* Keyword.Pseudo */\n",
       ".highlight_native .kr { color: #6EBF26; font-weight: bold } /* Keyword.Reserved */\n",
       ".highlight_native .kt { color: #6EBF26; font-weight: bold } /* Keyword.Type */\n",
       ".highlight_native .ld { color: #D0D0D0 } /* Literal.Date */\n",
       ".highlight_native .m { color: #51B2FD } /* Literal.Number */\n",
       ".highlight_native .s { color: #ED9D13 } /* Literal.String */\n",
       ".highlight_native .na { color: #BBB } /* Name.Attribute */\n",
       ".highlight_native .nb { color: #2FBCCD } /* Name.Builtin */\n",
       ".highlight_native .nc { color: #71ADFF; text-decoration: underline } /* Name.Class */\n",
       ".highlight_native .no { color: #40FFFF } /* Name.Constant */\n",
       ".highlight_native .nd { color: #FFA500 } /* Name.Decorator */\n",
       ".highlight_native .ni { color: #D0D0D0 } /* Name.Entity */\n",
       ".highlight_native .ne { color: #BBB } /* Name.Exception */\n",
       ".highlight_native .nf { color: #71ADFF } /* Name.Function */\n",
       ".highlight_native .nl { color: #D0D0D0 } /* Name.Label */\n",
       ".highlight_native .nn { color: #71ADFF; text-decoration: underline } /* Name.Namespace */\n",
       ".highlight_native .nx { color: #D0D0D0 } /* Name.Other */\n",
       ".highlight_native .py { color: #D0D0D0 } /* Name.Property */\n",
       ".highlight_native .nt { color: #6EBF26; font-weight: bold } /* Name.Tag */\n",
       ".highlight_native .nv { color: #40FFFF } /* Name.Variable */\n",
       ".highlight_native .ow { color: #6EBF26; font-weight: bold } /* Operator.Word */\n",
       ".highlight_native .pm { color: #D0D0D0 } /* Punctuation.Marker */\n",
       ".highlight_native .w { color: #666 } /* Text.Whitespace */\n",
       ".highlight_native .mb { color: #51B2FD } /* Literal.Number.Bin */\n",
       ".highlight_native .mf { color: #51B2FD } /* Literal.Number.Float */\n",
       ".highlight_native .mh { color: #51B2FD } /* Literal.Number.Hex */\n",
       ".highlight_native .mi { color: #51B2FD } /* Literal.Number.Integer */\n",
       ".highlight_native .mo { color: #51B2FD } /* Literal.Number.Oct */\n",
       ".highlight_native .sa { color: #ED9D13 } /* Literal.String.Affix */\n",
       ".highlight_native .sb { color: #ED9D13 } /* Literal.String.Backtick */\n",
       ".highlight_native .sc { color: #ED9D13 } /* Literal.String.Char */\n",
       ".highlight_native .dl { color: #ED9D13 } /* Literal.String.Delimiter */\n",
       ".highlight_native .sd { color: #ED9D13 } /* Literal.String.Doc */\n",
       ".highlight_native .s2 { color: #ED9D13 } /* Literal.String.Double */\n",
       ".highlight_native .se { color: #ED9D13 } /* Literal.String.Escape */\n",
       ".highlight_native .sh { color: #ED9D13 } /* Literal.String.Heredoc */\n",
       ".highlight_native .si { color: #ED9D13 } /* Literal.String.Interpol */\n",
       ".highlight_native .sx { color: #FFA500 } /* Literal.String.Other */\n",
       ".highlight_native .sr { color: #ED9D13 } /* Literal.String.Regex */\n",
       ".highlight_native .s1 { color: #ED9D13 } /* Literal.String.Single */\n",
       ".highlight_native .ss { color: #ED9D13 } /* Literal.String.Symbol */\n",
       ".highlight_native .bp { color: #2FBCCD } /* Name.Builtin.Pseudo */\n",
       ".highlight_native .fm { color: #71ADFF } /* Name.Function.Magic */\n",
       ".highlight_native .vc { color: #40FFFF } /* Name.Variable.Class */\n",
       ".highlight_native .vg { color: #40FFFF } /* Name.Variable.Global */\n",
       ".highlight_native .vi { color: #40FFFF } /* Name.Variable.Instance */\n",
       ".highlight_native .vm { color: #40FFFF } /* Name.Variable.Magic */\n",
       ".highlight_native .il { color: #51B2FD } /* Literal.Number.Integer.Long */</style><div class=\"highlight_native\"><pre><span></span><span class=\"nn\">---</span>\n",
       "<span class=\"nt\">name</span><span class=\"p\">:</span><span class=\"w\"> </span><span class=\"l l-Scalar l-Scalar-Plain\">guess_summary</span>\n",
       "<span class=\"nt\">input</span><span class=\"p\">:</span>\n",
       "<span class=\"w\">  </span><span class=\"nt\">query</span><span class=\"p\">:</span><span class=\"w\"> </span><span class=\"l l-Scalar l-Scalar-Plain\">I need help with my elephant choco</span>\n",
       "<span class=\"nt\">output</span><span class=\"p\">:</span>\n",
       "<span class=\"w\">  </span><span class=\"nt\">role</span><span class=\"p\">:</span><span class=\"w\"> </span><span class=\"l l-Scalar l-Scalar-Plain\">assistant</span>\n",
       "<span class=\"w\">  </span><span class=\"nt\">content</span><span class=\"p\">:</span><span class=\"w\"> </span><span class=\"p p-Indicator\">|-</span>\n",
       "<span class=\"w\">    </span><span class=\"no\">Descriptions of elephants.   Care tips for pet elephants.   Information on</span>\n",
       "<span class=\"w\">    </span><span class=\"no\">chocolate as it relates to elephants (e.g., chocolate toxicity).</span>\n",
       "<span class=\"w\">  </span><span class=\"nt\">meta</span><span class=\"p\">:</span>\n",
       "<span class=\"w\">    </span><span class=\"nt\">input_tokens</span><span class=\"p\">:</span><span class=\"w\"> </span><span class=\"l l-Scalar l-Scalar-Plain\">119</span>\n",
       "<span class=\"w\">    </span><span class=\"nt\">output_tokens</span><span class=\"p\">:</span><span class=\"w\"> </span><span class=\"l l-Scalar l-Scalar-Plain\">27</span>\n",
       "</pre></div>\n"
      ],
      "text/plain": [
       "<IPython.core.display.HTML object>"
      ]
     },
     "metadata": {},
     "output_type": "display_data"
    },
    {
     "data": {
      "text/html": [
       "<style>pre { line-height: 125%; }\n",
       "td.linenos .normal { color: #aaaaaa; background-color: transparent; padding-left: 5px; padding-right: 5px; }\n",
       "span.linenos { color: #aaaaaa; background-color: transparent; padding-left: 5px; padding-right: 5px; }\n",
       "td.linenos .special { color: #000000; background-color: #ffffc0; padding-left: 5px; padding-right: 5px; }\n",
       "span.linenos.special { color: #000000; background-color: #ffffc0; padding-left: 5px; padding-right: 5px; }\n",
       ".highlight_native .hll { background-color: #404040 }\n",
       ".highlight_native { background: #202020; color: #D0D0D0 }\n",
       ".highlight_native .c { color: #ABABAB; font-style: italic } /* Comment */\n",
       ".highlight_native .err { color: #A61717; background-color: #E3D2D2 } /* Error */\n",
       ".highlight_native .esc { color: #D0D0D0 } /* Escape */\n",
       ".highlight_native .g { color: #D0D0D0 } /* Generic */\n",
       ".highlight_native .k { color: #6EBF26; font-weight: bold } /* Keyword */\n",
       ".highlight_native .l { color: #D0D0D0 } /* Literal */\n",
       ".highlight_native .n { color: #D0D0D0 } /* Name */\n",
       ".highlight_native .o { color: #D0D0D0 } /* Operator */\n",
       ".highlight_native .x { color: #D0D0D0 } /* Other */\n",
       ".highlight_native .p { color: #D0D0D0 } /* Punctuation */\n",
       ".highlight_native .ch { color: #ABABAB; font-style: italic } /* Comment.Hashbang */\n",
       ".highlight_native .cm { color: #ABABAB; font-style: italic } /* Comment.Multiline */\n",
       ".highlight_native .cp { color: #FF3A3A; font-weight: bold } /* Comment.Preproc */\n",
       ".highlight_native .cpf { color: #ABABAB; font-style: italic } /* Comment.PreprocFile */\n",
       ".highlight_native .c1 { color: #ABABAB; font-style: italic } /* Comment.Single */\n",
       ".highlight_native .cs { color: #E50808; font-weight: bold; background-color: #520000 } /* Comment.Special */\n",
       ".highlight_native .gd { color: #FF3A3A } /* Generic.Deleted */\n",
       ".highlight_native .ge { color: #D0D0D0; font-style: italic } /* Generic.Emph */\n",
       ".highlight_native .ges { color: #D0D0D0; font-weight: bold; font-style: italic } /* Generic.EmphStrong */\n",
       ".highlight_native .gr { color: #FF3A3A } /* Generic.Error */\n",
       ".highlight_native .gh { color: #FFF; font-weight: bold } /* Generic.Heading */\n",
       ".highlight_native .gi { color: #589819 } /* Generic.Inserted */\n",
       ".highlight_native .go { color: #CCC } /* Generic.Output */\n",
       ".highlight_native .gp { color: #AAA } /* Generic.Prompt */\n",
       ".highlight_native .gs { color: #D0D0D0; font-weight: bold } /* Generic.Strong */\n",
       ".highlight_native .gu { color: #FFF; text-decoration: underline } /* Generic.Subheading */\n",
       ".highlight_native .gt { color: #FF3A3A } /* Generic.Traceback */\n",
       ".highlight_native .kc { color: #6EBF26; font-weight: bold } /* Keyword.Constant */\n",
       ".highlight_native .kd { color: #6EBF26; font-weight: bold } /* Keyword.Declaration */\n",
       ".highlight_native .kn { color: #6EBF26; font-weight: bold } /* Keyword.Namespace */\n",
       ".highlight_native .kp { color: #6EBF26 } /* Keyword.Pseudo */\n",
       ".highlight_native .kr { color: #6EBF26; font-weight: bold } /* Keyword.Reserved */\n",
       ".highlight_native .kt { color: #6EBF26; font-weight: bold } /* Keyword.Type */\n",
       ".highlight_native .ld { color: #D0D0D0 } /* Literal.Date */\n",
       ".highlight_native .m { color: #51B2FD } /* Literal.Number */\n",
       ".highlight_native .s { color: #ED9D13 } /* Literal.String */\n",
       ".highlight_native .na { color: #BBB } /* Name.Attribute */\n",
       ".highlight_native .nb { color: #2FBCCD } /* Name.Builtin */\n",
       ".highlight_native .nc { color: #71ADFF; text-decoration: underline } /* Name.Class */\n",
       ".highlight_native .no { color: #40FFFF } /* Name.Constant */\n",
       ".highlight_native .nd { color: #FFA500 } /* Name.Decorator */\n",
       ".highlight_native .ni { color: #D0D0D0 } /* Name.Entity */\n",
       ".highlight_native .ne { color: #BBB } /* Name.Exception */\n",
       ".highlight_native .nf { color: #71ADFF } /* Name.Function */\n",
       ".highlight_native .nl { color: #D0D0D0 } /* Name.Label */\n",
       ".highlight_native .nn { color: #71ADFF; text-decoration: underline } /* Name.Namespace */\n",
       ".highlight_native .nx { color: #D0D0D0 } /* Name.Other */\n",
       ".highlight_native .py { color: #D0D0D0 } /* Name.Property */\n",
       ".highlight_native .nt { color: #6EBF26; font-weight: bold } /* Name.Tag */\n",
       ".highlight_native .nv { color: #40FFFF } /* Name.Variable */\n",
       ".highlight_native .ow { color: #6EBF26; font-weight: bold } /* Operator.Word */\n",
       ".highlight_native .pm { color: #D0D0D0 } /* Punctuation.Marker */\n",
       ".highlight_native .w { color: #666 } /* Text.Whitespace */\n",
       ".highlight_native .mb { color: #51B2FD } /* Literal.Number.Bin */\n",
       ".highlight_native .mf { color: #51B2FD } /* Literal.Number.Float */\n",
       ".highlight_native .mh { color: #51B2FD } /* Literal.Number.Hex */\n",
       ".highlight_native .mi { color: #51B2FD } /* Literal.Number.Integer */\n",
       ".highlight_native .mo { color: #51B2FD } /* Literal.Number.Oct */\n",
       ".highlight_native .sa { color: #ED9D13 } /* Literal.String.Affix */\n",
       ".highlight_native .sb { color: #ED9D13 } /* Literal.String.Backtick */\n",
       ".highlight_native .sc { color: #ED9D13 } /* Literal.String.Char */\n",
       ".highlight_native .dl { color: #ED9D13 } /* Literal.String.Delimiter */\n",
       ".highlight_native .sd { color: #ED9D13 } /* Literal.String.Doc */\n",
       ".highlight_native .s2 { color: #ED9D13 } /* Literal.String.Double */\n",
       ".highlight_native .se { color: #ED9D13 } /* Literal.String.Escape */\n",
       ".highlight_native .sh { color: #ED9D13 } /* Literal.String.Heredoc */\n",
       ".highlight_native .si { color: #ED9D13 } /* Literal.String.Interpol */\n",
       ".highlight_native .sx { color: #FFA500 } /* Literal.String.Other */\n",
       ".highlight_native .sr { color: #ED9D13 } /* Literal.String.Regex */\n",
       ".highlight_native .s1 { color: #ED9D13 } /* Literal.String.Single */\n",
       ".highlight_native .ss { color: #ED9D13 } /* Literal.String.Symbol */\n",
       ".highlight_native .bp { color: #2FBCCD } /* Name.Builtin.Pseudo */\n",
       ".highlight_native .fm { color: #71ADFF } /* Name.Function.Magic */\n",
       ".highlight_native .vc { color: #40FFFF } /* Name.Variable.Class */\n",
       ".highlight_native .vg { color: #40FFFF } /* Name.Variable.Global */\n",
       ".highlight_native .vi { color: #40FFFF } /* Name.Variable.Instance */\n",
       ".highlight_native .vm { color: #40FFFF } /* Name.Variable.Magic */\n",
       ".highlight_native .il { color: #51B2FD } /* Literal.Number.Integer.Long */</style><div class=\"highlight_native\"><pre><span></span><span class=\"nn\">---</span>\n",
       "<span class=\"nt\">name</span><span class=\"p\">:</span><span class=\"w\"> </span><span class=\"l l-Scalar l-Scalar-Plain\">get_docs</span>\n",
       "<span class=\"nt\">input</span><span class=\"p\">:</span>\n",
       "<span class=\"w\">  </span><span class=\"nt\">collection_name</span><span class=\"p\">:</span><span class=\"w\"> </span><span class=\"l l-Scalar l-Scalar-Plain\">animal_book</span>\n",
       "<span class=\"w\">  </span><span class=\"nt\">k</span><span class=\"p\">:</span><span class=\"w\"> </span><span class=\"l l-Scalar l-Scalar-Plain\">2</span>\n",
       "<span class=\"w\">  </span><span class=\"nt\">threshold</span><span class=\"p\">:</span><span class=\"w\"> </span><span class=\"l l-Scalar l-Scalar-Plain\">1</span>\n",
       "<span class=\"w\">  </span><span class=\"nt\">query</span><span class=\"p\">:</span><span class=\"w\"> </span><span class=\"p p-Indicator\">|-</span>\n",
       "<span class=\"w\">    </span><span class=\"no\">Descriptions of elephants.   Care tips for pet elephants.   Information on</span>\n",
       "<span class=\"w\">    </span><span class=\"no\">chocolate as it relates to elephants (e.g., chocolate toxicity).</span>\n",
       "<span class=\"nt\">output</span><span class=\"p\">:</span>\n",
       "<span class=\"p p-Indicator\">-</span><span class=\"w\"> </span><span class=\"nt\">id</span><span class=\"p\">:</span><span class=\"w\"> </span><span class=\"l l-Scalar l-Scalar-Plain\">animal_book_0</span>\n",
       "<span class=\"w\">  </span><span class=\"nt\">text</span><span class=\"p\">:</span><span class=\"w\"> </span><span class=\"l l-Scalar l-Scalar-Plain\">Description of elephants as intelligent and social creatures with strong family</span>\n",
       "<span class=\"w\">    </span><span class=\"l l-Scalar l-Scalar-Plain\">bonds and emotional behaviors.</span>\n",
       "<span class=\"w\">  </span><span class=\"nt\">metadata</span><span class=\"p\">:</span>\n",
       "<span class=\"w\">    </span><span class=\"nt\">full_text</span><span class=\"p\">:</span><span class=\"w\"> </span><span class=\"p p-Indicator\">|-</span>\n",
       "<span class=\"w\">      </span><span class=\"no\">The elephant is one of the most remarkable creatures on Earth. Known for their</span>\n",
       "<span class=\"w\">      </span><span class=\"no\">intelligence and complex social structures, elephants form deep family bonds</span>\n",
       "<span class=\"w\">      </span><span class=\"no\">that can last a lifetime. These gentle giants possess remarkable memory</span>\n",
       "<span class=\"w\">      </span><span class=\"no\">capabilities and demonstrate emotional behaviors like mourning their dead. Their</span>\n",
       "<span class=\"w\">      </span><span class=\"no\">distinctive trunks, containing over 40,000 muscles, serve multiple purposes from</span>\n",
       "<span class=\"w\">      </span><span class=\"no\">gathering food to expressing affection.</span>\n",
       "<span class=\"w\">  </span><span class=\"nt\">distance</span><span class=\"p\">:</span><span class=\"w\"> </span><span class=\"l l-Scalar l-Scalar-Plain\">0.8560882806777954</span>\n",
       "</pre></div>\n"
      ],
      "text/plain": [
       "<IPython.core.display.HTML object>"
      ]
     },
     "metadata": {},
     "output_type": "display_data"
    },
    {
     "data": {
      "text/html": [
       "<style>pre { line-height: 125%; }\n",
       "td.linenos .normal { color: #aaaaaa; background-color: transparent; padding-left: 5px; padding-right: 5px; }\n",
       "span.linenos { color: #aaaaaa; background-color: transparent; padding-left: 5px; padding-right: 5px; }\n",
       "td.linenos .special { color: #000000; background-color: #ffffc0; padding-left: 5px; padding-right: 5px; }\n",
       "span.linenos.special { color: #000000; background-color: #ffffc0; padding-left: 5px; padding-right: 5px; }\n",
       ".highlight_native .hll { background-color: #404040 }\n",
       ".highlight_native { background: #202020; color: #D0D0D0 }\n",
       ".highlight_native .c { color: #ABABAB; font-style: italic } /* Comment */\n",
       ".highlight_native .err { color: #A61717; background-color: #E3D2D2 } /* Error */\n",
       ".highlight_native .esc { color: #D0D0D0 } /* Escape */\n",
       ".highlight_native .g { color: #D0D0D0 } /* Generic */\n",
       ".highlight_native .k { color: #6EBF26; font-weight: bold } /* Keyword */\n",
       ".highlight_native .l { color: #D0D0D0 } /* Literal */\n",
       ".highlight_native .n { color: #D0D0D0 } /* Name */\n",
       ".highlight_native .o { color: #D0D0D0 } /* Operator */\n",
       ".highlight_native .x { color: #D0D0D0 } /* Other */\n",
       ".highlight_native .p { color: #D0D0D0 } /* Punctuation */\n",
       ".highlight_native .ch { color: #ABABAB; font-style: italic } /* Comment.Hashbang */\n",
       ".highlight_native .cm { color: #ABABAB; font-style: italic } /* Comment.Multiline */\n",
       ".highlight_native .cp { color: #FF3A3A; font-weight: bold } /* Comment.Preproc */\n",
       ".highlight_native .cpf { color: #ABABAB; font-style: italic } /* Comment.PreprocFile */\n",
       ".highlight_native .c1 { color: #ABABAB; font-style: italic } /* Comment.Single */\n",
       ".highlight_native .cs { color: #E50808; font-weight: bold; background-color: #520000 } /* Comment.Special */\n",
       ".highlight_native .gd { color: #FF3A3A } /* Generic.Deleted */\n",
       ".highlight_native .ge { color: #D0D0D0; font-style: italic } /* Generic.Emph */\n",
       ".highlight_native .ges { color: #D0D0D0; font-weight: bold; font-style: italic } /* Generic.EmphStrong */\n",
       ".highlight_native .gr { color: #FF3A3A } /* Generic.Error */\n",
       ".highlight_native .gh { color: #FFF; font-weight: bold } /* Generic.Heading */\n",
       ".highlight_native .gi { color: #589819 } /* Generic.Inserted */\n",
       ".highlight_native .go { color: #CCC } /* Generic.Output */\n",
       ".highlight_native .gp { color: #AAA } /* Generic.Prompt */\n",
       ".highlight_native .gs { color: #D0D0D0; font-weight: bold } /* Generic.Strong */\n",
       ".highlight_native .gu { color: #FFF; text-decoration: underline } /* Generic.Subheading */\n",
       ".highlight_native .gt { color: #FF3A3A } /* Generic.Traceback */\n",
       ".highlight_native .kc { color: #6EBF26; font-weight: bold } /* Keyword.Constant */\n",
       ".highlight_native .kd { color: #6EBF26; font-weight: bold } /* Keyword.Declaration */\n",
       ".highlight_native .kn { color: #6EBF26; font-weight: bold } /* Keyword.Namespace */\n",
       ".highlight_native .kp { color: #6EBF26 } /* Keyword.Pseudo */\n",
       ".highlight_native .kr { color: #6EBF26; font-weight: bold } /* Keyword.Reserved */\n",
       ".highlight_native .kt { color: #6EBF26; font-weight: bold } /* Keyword.Type */\n",
       ".highlight_native .ld { color: #D0D0D0 } /* Literal.Date */\n",
       ".highlight_native .m { color: #51B2FD } /* Literal.Number */\n",
       ".highlight_native .s { color: #ED9D13 } /* Literal.String */\n",
       ".highlight_native .na { color: #BBB } /* Name.Attribute */\n",
       ".highlight_native .nb { color: #2FBCCD } /* Name.Builtin */\n",
       ".highlight_native .nc { color: #71ADFF; text-decoration: underline } /* Name.Class */\n",
       ".highlight_native .no { color: #40FFFF } /* Name.Constant */\n",
       ".highlight_native .nd { color: #FFA500 } /* Name.Decorator */\n",
       ".highlight_native .ni { color: #D0D0D0 } /* Name.Entity */\n",
       ".highlight_native .ne { color: #BBB } /* Name.Exception */\n",
       ".highlight_native .nf { color: #71ADFF } /* Name.Function */\n",
       ".highlight_native .nl { color: #D0D0D0 } /* Name.Label */\n",
       ".highlight_native .nn { color: #71ADFF; text-decoration: underline } /* Name.Namespace */\n",
       ".highlight_native .nx { color: #D0D0D0 } /* Name.Other */\n",
       ".highlight_native .py { color: #D0D0D0 } /* Name.Property */\n",
       ".highlight_native .nt { color: #6EBF26; font-weight: bold } /* Name.Tag */\n",
       ".highlight_native .nv { color: #40FFFF } /* Name.Variable */\n",
       ".highlight_native .ow { color: #6EBF26; font-weight: bold } /* Operator.Word */\n",
       ".highlight_native .pm { color: #D0D0D0 } /* Punctuation.Marker */\n",
       ".highlight_native .w { color: #666 } /* Text.Whitespace */\n",
       ".highlight_native .mb { color: #51B2FD } /* Literal.Number.Bin */\n",
       ".highlight_native .mf { color: #51B2FD } /* Literal.Number.Float */\n",
       ".highlight_native .mh { color: #51B2FD } /* Literal.Number.Hex */\n",
       ".highlight_native .mi { color: #51B2FD } /* Literal.Number.Integer */\n",
       ".highlight_native .mo { color: #51B2FD } /* Literal.Number.Oct */\n",
       ".highlight_native .sa { color: #ED9D13 } /* Literal.String.Affix */\n",
       ".highlight_native .sb { color: #ED9D13 } /* Literal.String.Backtick */\n",
       ".highlight_native .sc { color: #ED9D13 } /* Literal.String.Char */\n",
       ".highlight_native .dl { color: #ED9D13 } /* Literal.String.Delimiter */\n",
       ".highlight_native .sd { color: #ED9D13 } /* Literal.String.Doc */\n",
       ".highlight_native .s2 { color: #ED9D13 } /* Literal.String.Double */\n",
       ".highlight_native .se { color: #ED9D13 } /* Literal.String.Escape */\n",
       ".highlight_native .sh { color: #ED9D13 } /* Literal.String.Heredoc */\n",
       ".highlight_native .si { color: #ED9D13 } /* Literal.String.Interpol */\n",
       ".highlight_native .sx { color: #FFA500 } /* Literal.String.Other */\n",
       ".highlight_native .sr { color: #ED9D13 } /* Literal.String.Regex */\n",
       ".highlight_native .s1 { color: #ED9D13 } /* Literal.String.Single */\n",
       ".highlight_native .ss { color: #ED9D13 } /* Literal.String.Symbol */\n",
       ".highlight_native .bp { color: #2FBCCD } /* Name.Builtin.Pseudo */\n",
       ".highlight_native .fm { color: #71ADFF } /* Name.Function.Magic */\n",
       ".highlight_native .vc { color: #40FFFF } /* Name.Variable.Class */\n",
       ".highlight_native .vg { color: #40FFFF } /* Name.Variable.Global */\n",
       ".highlight_native .vi { color: #40FFFF } /* Name.Variable.Instance */\n",
       ".highlight_native .vm { color: #40FFFF } /* Name.Variable.Magic */\n",
       ".highlight_native .il { color: #51B2FD } /* Literal.Number.Integer.Long */</style><div class=\"highlight_native\"><pre><span></span><span class=\"nn\">---</span>\n",
       "<span class=\"nt\">name</span><span class=\"p\">:</span><span class=\"w\"> </span><span class=\"l l-Scalar l-Scalar-Plain\">chat</span>\n",
       "<span class=\"nt\">input</span><span class=\"p\">:</span>\n",
       "<span class=\"w\">  </span><span class=\"nt\">input</span><span class=\"p\">:</span><span class=\"w\"> </span><span class=\"l l-Scalar l-Scalar-Plain\">I need help with my elephant choco</span>\n",
       "<span class=\"w\">  </span><span class=\"nt\">docs</span><span class=\"p\">:</span>\n",
       "<span class=\"w\">  </span><span class=\"p p-Indicator\">-</span><span class=\"w\"> </span><span class=\"nt\">id</span><span class=\"p\">:</span><span class=\"w\"> </span><span class=\"l l-Scalar l-Scalar-Plain\">animal_book_0</span>\n",
       "<span class=\"w\">    </span><span class=\"nt\">text</span><span class=\"p\">:</span><span class=\"w\"> </span><span class=\"l l-Scalar l-Scalar-Plain\">Description of elephants as intelligent and social creatures with strong</span>\n",
       "<span class=\"w\">      </span><span class=\"l l-Scalar l-Scalar-Plain\">family bonds and emotional behaviors.</span>\n",
       "<span class=\"w\">    </span><span class=\"nt\">metadata</span><span class=\"p\">:</span>\n",
       "<span class=\"w\">      </span><span class=\"nt\">full_text</span><span class=\"p\">:</span><span class=\"w\"> </span><span class=\"p p-Indicator\">|-</span>\n",
       "<span class=\"w\">        </span><span class=\"no\">The elephant is one of the most remarkable creatures on Earth. Known for their</span>\n",
       "<span class=\"w\">        </span><span class=\"no\">intelligence and complex social structures, elephants form deep family bonds</span>\n",
       "<span class=\"w\">        </span><span class=\"no\">that can last a lifetime. These gentle giants possess remarkable memory</span>\n",
       "<span class=\"w\">        </span><span class=\"no\">capabilities and demonstrate emotional behaviors like mourning their dead. Their</span>\n",
       "<span class=\"w\">        </span><span class=\"no\">distinctive trunks, containing over 40,000 muscles, serve multiple purposes from</span>\n",
       "<span class=\"w\">        </span><span class=\"no\">gathering food to expressing affection.</span>\n",
       "<span class=\"w\">    </span><span class=\"nt\">distance</span><span class=\"p\">:</span><span class=\"w\"> </span><span class=\"l l-Scalar l-Scalar-Plain\">0.8560882806777954</span>\n",
       "<span class=\"nt\">output</span><span class=\"p\">:</span>\n",
       "<span class=\"w\">  </span><span class=\"nt\">role</span><span class=\"p\">:</span><span class=\"w\"> </span><span class=\"l l-Scalar l-Scalar-Plain\">assistant</span>\n",
       "<span class=\"w\">  </span><span class=\"nt\">content</span><span class=\"p\">:</span><span class=\"w\"> </span><span class=\"l l-Scalar l-Scalar-Plain\">Could you please clarify what you mean by &quot;elephant choco&quot;? Are you referring</span>\n",
       "<span class=\"w\">    </span><span class=\"l l-Scalar l-Scalar-Plain\">to a specific dessert, craft, or project involving elephants or chocolate?</span>\n",
       "<span class=\"w\">  </span><span class=\"nt\">meta</span><span class=\"p\">:</span>\n",
       "<span class=\"w\">    </span><span class=\"nt\">input_tokens</span><span class=\"p\">:</span><span class=\"w\"> </span><span class=\"l l-Scalar l-Scalar-Plain\">231</span>\n",
       "<span class=\"w\">    </span><span class=\"nt\">output_tokens</span><span class=\"p\">:</span><span class=\"w\"> </span><span class=\"l l-Scalar l-Scalar-Plain\">31</span>\n",
       "</pre></div>\n"
      ],
      "text/plain": [
       "<IPython.core.display.HTML object>"
      ]
     },
     "metadata": {},
     "output_type": "display_data"
    },
    {
     "name": "stdout",
     "output_type": "stream",
     "text": [
      "Could you please clarify what you mean by \"elephant choco\"? Are you referring to a specific dessert, craft, or project involving elephants or chocolate?\n"
     ]
    }
   ],
   "source": [
    "d=SummaryRAG()\n",
    "for trace in d.run({'query':'I need help with my elephant choco','collection_name':'animal_book','k':2,'threshold':1}):\n",
    "    trace.pprint(skip_passthrough=True)\n",
    "print(d.output['content'])"
   ]
  }
 ],
 "metadata": {
  "kernelspec": {
   "display_name": "python3",
   "language": "python",
   "name": "python3"
  }
 },
 "nbformat": 4,
 "nbformat_minor": 2
}

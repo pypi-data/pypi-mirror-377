{
 "cells": [
  {
   "cell_type": "markdown",
   "metadata": {},
   "source": [
    "# DBs"
   ]
  },
  {
   "cell_type": "markdown",
   "metadata": {},
   "source": [
    "Here are examples of wrapping Vector and Relational DBs for use in agents."
   ]
  },
  {
   "cell_type": "code",
   "execution_count": null,
   "metadata": {},
   "outputs": [],
   "source": [
    "# | hide\n",
    "%load_ext autoreload\n",
    "%autoreload 2"
   ]
  },
  {
   "cell_type": "code",
   "execution_count": null,
   "metadata": {},
   "outputs": [],
   "source": [
    "#| hide\n",
    "from stringdale.doc import show_doc\n",
    "import nest_asyncio\n",
    "from stringdale.core import get_git_root,load_env"
   ]
  },
  {
   "cell_type": "code",
   "execution_count": null,
   "metadata": {},
   "outputs": [
    {
     "data": {
      "text/plain": [
       "True"
      ]
     },
     "execution_count": null,
     "metadata": {},
     "output_type": "execute_result"
    }
   ],
   "source": [
    "#| hide\n",
    "nest_asyncio.apply()\n",
    "load_env()"
   ]
  },
  {
   "cell_type": "markdown",
   "metadata": {},
   "source": [
    "## Chroma DB"
   ]
  },
  {
   "cell_type": "code",
   "execution_count": null,
   "metadata": {},
   "outputs": [],
   "source": [
    "from stringdale.db import ChromaClient"
   ]
  },
  {
   "cell_type": "code",
   "execution_count": null,
   "metadata": {},
   "outputs": [
    {
     "data": {
      "text/markdown": [
       " ## ChromaClient\n",
       "<p align=\"right\"> <a href=\"https://github.com/DeanLight/stringdale/blob/main/stringdale/db.py\">source</a> </p>\n",
       "\n",
       "> **Signature:** `ChromaClient(persist_path=None, embed_model='text-embedding-3-small')`\n",
       "\n",
       "None\n",
       "\n",
       "| Parameter | Type | Default | Description |\n",
       "|-----------|------|---------|-------------|\n",
       "\n",
       "\n",
       "\n",
       "### add_collection\n",
       "\n",
       "Add a collection to the database\n",
       "\n",
       "> **Signature:** `ChromaClient.add_collection(self, name, distance: Literal['l2', 'ip', 'cosine'] = 'l2', metadata=None, exists_ok=False)`\n",
       "\n",
       "| Parameter | Type | Default | Description |\n",
       "|-----------|------|---------|-------------|\n",
       "| name | None | None | Name of the collection to add |\n",
       "| distance | typing.Literal['l2', 'ip', 'cosine'] | l2 | Distance metric to use, one of 'l2','ip','cosine'. Default is 'l2' |\n",
       "| metadata | None | None | Metadata to add to the collection |\n",
       "| exists_ok | None | False | If True, do not raise an error if the collection already exists |\n",
       "\n",
       "\n",
       "\n",
       "### delete\n",
       "\n",
       "Delete a list of documents from a collection\n",
       "\n",
       "> **Signature:** `ChromaClient.delete(self, collection_name: str, ids: List[str])`\n",
       "\n",
       "| Parameter | Type | Default | Description |\n",
       "|-----------|------|---------|-------------|\n",
       "| collection_name | <class 'str'> | None | Name of the collection to delete from |\n",
       "| ids | typing.List[str] | None | List of ids to delete |\n",
       "\n",
       "\n",
       "\n",
       "### delete_collection\n",
       "\n",
       "Delete a collection from the database\n",
       "\n",
       "> **Signature:** `ChromaClient.delete_collection(self, name)`\n",
       "\n",
       "| Parameter | Type | Default | Description |\n",
       "|-----------|------|---------|-------------|\n",
       "| name | None | None | Name of the collection to delete |\n",
       "\n",
       "\n",
       "\n",
       "### embed_texts\n",
       "\n",
       "Embed a list of texts\n",
       "\n",
       "> **Signature:** `ChromaClient.embed_texts(self, texts: List[str])`\n",
       "\n",
       "| Parameter | Type | Default | Description |\n",
       "|-----------|------|---------|-------------|\n",
       "| texts | typing.List[str] | None | List of texts to embed |\n",
       "\n",
       "\n",
       "\n",
       "### get\n",
       "\n",
       "Get a list of documents from a collection\n",
       "\n",
       "> **Signature:** `ChromaClient.get(self, collection_name: str, ids: List[str])`\n",
       "\n",
       "| Parameter | Type | Default | Description |\n",
       "|-----------|------|---------|-------------|\n",
       "| collection_name | <class 'str'> | None | Name of the collection to get from |\n",
       "| ids | typing.List[str] | None | List of ids to get |\n",
       "\n",
       "\n",
       "\n",
       "### list\n",
       "\n",
       "Get a list of documents from a collection\n",
       "\n",
       "> **Signature:** `ChromaClient.list(self, collection_name: str, k: int = None)`\n",
       "\n",
       "| Parameter | Type | Default | Description |\n",
       "|-----------|------|---------|-------------|\n",
       "| collection_name | <class 'str'> | None | Name of the collection to list |\n",
       "| k | <class 'int'> | None | Number of results to return |\n",
       "\n",
       "\n",
       "\n",
       "### list_collections\n",
       "\n",
       "List all collections in the database\n",
       "\n",
       "> **Signature:** `ChromaClient.list_collections(self)`\n",
       "\n",
       "| Parameter | Type | Default | Description |\n",
       "|-----------|------|---------|-------------|\n",
       "\n",
       "\n",
       "\n",
       "### query\n",
       "\n",
       "Query a collection for documents similar to a query\n",
       "\n",
       "> **Signature:** `ChromaClient.query(self, collection_name: str, query: str, k: int = 10, threshold: float = None, where: Dict[str, Any] = None, where_document: Dict[str, Any] = None)`\n",
       "\n",
       "| Parameter | Type | Default | Description |\n",
       "|-----------|------|---------|-------------|\n",
       "| collection_name | <class 'str'> | None | Name of the collection to query |\n",
       "| query | <class 'str'> | None | Query to search for |\n",
       "| k | <class 'int'> | 10 | Number of results to return |\n",
       "| threshold | <class 'float'> | None | Threshold for filtering results |\n",
       "| where | typing.Dict[str, typing.Any] | None | Filter results by metadata |\n",
       "| where_document | typing.Dict[str, typing.Any] | None | Filter results by document text |\n",
       "\n",
       "\n",
       "\n",
       "### reset\n",
       "\n",
       "Reset the database\n",
       "> **Signature:** `ChromaClient.reset(self)`\n",
       "\n",
       "| Parameter | Type | Default | Description |\n",
       "|-----------|------|---------|-------------|\n",
       "\n",
       "\n",
       "\n",
       "### upsert\n",
       "\n",
       "Upsert a list of documents into a collection\n",
       "\n",
       "> **Signature:** `ChromaClient.upsert(self, collection_name: str, docs)`\n",
       "\n",
       "| Parameter | Type | Default | Description |\n",
       "|-----------|------|---------|-------------|\n",
       "| collection_name | <class 'str'> | None | Name of the collection to upsert into |\n",
       "| docs | None | None | List of documents to upsertdocs should be a list of dictionaries with a 'text' key, with optional 'id' and 'metadata' keys |\n",
       "\n",
       "\n"
      ],
      "text/plain": [
       "<IPython.core.display.Markdown object>"
      ]
     },
     "metadata": {},
     "output_type": "display_data"
    }
   ],
   "source": [
    "show_doc(ChromaClient)"
   ]
  },
  {
   "cell_type": "markdown",
   "metadata": {},
   "source": [
    "### Examples"
   ]
  },
  {
   "cell_type": "code",
   "execution_count": null,
   "metadata": {},
   "outputs": [
    {
     "data": {
      "text/plain": [
       "[{'id': 'doc1',\n",
       "  'text': 'The quick brown fox jumps over the lazy dog',\n",
       "  'metadata': {'type': 'pangram'}},\n",
       " {'id': 'doc2',\n",
       "  'text': 'A quick brown fox jumped over the lazy dogs',\n",
       "  'metadata': {'type': 'variant'}},\n",
       " {'id': 'doc3',\n",
       "  'text': 'The weather is sunny today',\n",
       "  'metadata': {'type': 'weather'}}]"
      ]
     },
     "execution_count": null,
     "metadata": {},
     "output_type": "execute_result"
    }
   ],
   "source": [
    "client = ChromaClient()\n",
    "client.reset()\n",
    "client.add_collection('test_collection')\n",
    "test_docs = [\n",
    "    {\n",
    "        'id': 'doc1',\n",
    "        'text': 'The quick brown fox jumps over the lazy dog',\n",
    "        'metadata': {'type': 'pangram'}\n",
    "    },\n",
    "    {\n",
    "        'id': 'doc2',\n",
    "        'text': 'A quick brown fox jumped over the lazy dogs',\n",
    "        'metadata': {'type': 'variant'}\n",
    "    },\n",
    "    {\n",
    "        'id': 'doc3',\n",
    "        'text': 'The weather is sunny today',\n",
    "        'metadata': {'type': 'weather'}\n",
    "    }\n",
    "]\n",
    "\n",
    "client.upsert(\"test_collection\", test_docs)"
   ]
  },
  {
   "cell_type": "code",
   "execution_count": null,
   "metadata": {},
   "outputs": [
    {
     "data": {
      "text/plain": [
       "[{'id': 'doc1',\n",
       "  'text': 'The quick brown fox jumps over the lazy dog',\n",
       "  'metadata': {'type': 'pangram'},\n",
       "  'distance': 0.9130460619926453},\n",
       " {'id': 'doc2',\n",
       "  'text': 'A quick brown fox jumped over the lazy dogs',\n",
       "  'metadata': {'type': 'variant'},\n",
       "  'distance': 0.9181089997291565}]"
      ]
     },
     "execution_count": null,
     "metadata": {},
     "output_type": "execute_result"
    }
   ],
   "source": [
    "client.query(\"test_collection\", \"fox jumping\", k=2)"
   ]
  },
  {
   "cell_type": "markdown",
   "metadata": {},
   "source": [
    "## SQLite"
   ]
  },
  {
   "cell_type": "code",
   "execution_count": null,
   "metadata": {},
   "outputs": [],
   "source": [
    "from stringdale.db import temp_sql_db"
   ]
  },
  {
   "cell_type": "code",
   "execution_count": null,
   "metadata": {},
   "outputs": [
    {
     "data": {
      "text/markdown": [
       " ## temp_sql_db\n",
       "<p align=\"right\"> <a href=\"https://github.com/DeanLight/stringdale/blob/main/stringdale/db.py\">source</a> </p>\n",
       "\n",
       "> **Signature:** `temp_sql_db(**kwargs)`\n",
       "\n",
       "creates and sqlalchemy engine to a shared memory sqlite DB.\n",
       "Kwargs are passed to to sqlalchemy's create_engine function.\n",
       "\n",
       "| Parameter | Type | Default | Description |\n",
       "|-----------|------|---------|-------------|\n",
       "\n"
      ],
      "text/plain": [
       "<IPython.core.display.Markdown object>"
      ]
     },
     "metadata": {},
     "output_type": "display_data"
    }
   ],
   "source": [
    "show_doc(temp_sql_db)"
   ]
  },
  {
   "cell_type": "code",
   "execution_count": null,
   "metadata": {},
   "outputs": [],
   "source": [
    "from sqlmodel import SQLModel, Session, select, Field\n",
    "from typing import Optional,List"
   ]
  },
  {
   "cell_type": "code",
   "execution_count": null,
   "metadata": {},
   "outputs": [],
   "source": [
    "engine = temp_sql_db(echo=False)\n",
    "\n",
    "SQLModel.metadata.clear()\n",
    "\n",
    "class Hero(SQLModel,table=True,extend_existing=True):\n",
    "    id: Optional[int] = Field(default=None,primary_key=True)\n",
    "    name: str\n",
    "    secret_name: str\n",
    "    age: Optional[int] = None\n",
    "\n",
    "SQLModel.metadata.create_all(engine)"
   ]
  },
  {
   "cell_type": "code",
   "execution_count": null,
   "metadata": {},
   "outputs": [
    {
     "data": {
      "text/plain": [
       "Hero(secret_name='Dive', name='Deadpond', id=1, age=None)"
      ]
     },
     "execution_count": null,
     "metadata": {},
     "output_type": "execute_result"
    }
   ],
   "source": [
    "def merge_heros(heros:List[Hero]):\n",
    "    with Session(engine) as session:\n",
    "        for hero in heros:\n",
    "            session.merge(hero)\n",
    "        session.commit()\n",
    "\n",
    "merge_heros(\n",
    "    [Hero(id=1,name=\"Deadpond\", secret_name=\"Dive\"),\n",
    "    Hero(id=2,name=\"Spider-Boy\", secret_name=\"Pedro\"),\n",
    "    Hero(id=3,name=\"Rusty-Man\", secret_name=\"Tommy\")])\n",
    "\n",
    "def get_hero(name:str):\n",
    "    with Session(engine) as session:\n",
    "        stmt = select(Hero).where(Hero.name == name)\n",
    "        result = session.exec(stmt).one()\n",
    "        return result\n",
    "\n",
    "get_hero(\"Deadpond\")"
   ]
  }
 ],
 "metadata": {
  "kernelspec": {
   "display_name": "python3",
   "language": "python",
   "name": "python3"
  }
 },
 "nbformat": 4,
 "nbformat_minor": 2
}

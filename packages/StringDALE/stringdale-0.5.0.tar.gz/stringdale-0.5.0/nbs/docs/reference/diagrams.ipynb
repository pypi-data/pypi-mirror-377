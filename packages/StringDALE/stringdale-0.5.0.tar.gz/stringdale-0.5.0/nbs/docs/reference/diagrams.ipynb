{
 "cells": [
  {
   "cell_type": "markdown",
   "metadata": {},
   "source": [
    "# Stringdale"
   ]
  },
  {
   "cell_type": "code",
   "execution_count": null,
   "metadata": {},
   "outputs": [],
   "source": [
    "# | hide\n",
    "%load_ext autoreload\n",
    "%autoreload 2"
   ]
  },
  {
   "cell_type": "markdown",
   "metadata": {},
   "source": [
    "## Defining Diagrams"
   ]
  },
  {
   "cell_type": "code",
   "execution_count": null,
   "metadata": {},
   "outputs": [],
   "source": [
    "from stringdale import V,E,Define,Scope"
   ]
  },
  {
   "cell_type": "code",
   "execution_count": null,
   "metadata": {},
   "outputs": [],
   "source": [
    "#| hide\n",
    "from stringdale.doc import show_doc"
   ]
  },
  {
   "cell_type": "code",
   "execution_count": null,
   "metadata": {},
   "outputs": [
    {
     "data": {
      "text/markdown": [
       "\n",
       "### Define\n",
       "\n",
       "<p align=\"right\"> <a href=\"None\">source</a> </p>\n",
       "\n",
       "> **Signature:** `Define(diagram_name, type: str = 'flow', state: Optional[pydantic.main.BaseModel] = None, validate: bool = True)`\n",
       "\n",
       "Define a new diagram using a context manager.\n",
       "\n",
       "\n",
       "| Parameter | Type | Default | Description |\n",
       "|-----------|------|---------|-------------|\n",
       "| diagram_name | None | None | Name for the new diagram |\n",
       "| type | <class 'str'> | flow | The type of diagram to create, either 'flow' or 'decision'. Defaults to 'flow' |\n",
       "| state | typing.Optional[pydantic.main.BaseModel] | None | The state class to use for the diagram. Defaults to BaseModelExtra |\n",
       "| validate | <class 'bool'> | True | If True, validates diagram structure after definition. Defaults to True |\n",
       "| :Returns: | None | - | The created diagram object<br>     |\n",
       "\n"
      ],
      "text/plain": [
       "<IPython.core.display.Markdown object>"
      ]
     },
     "metadata": {},
     "output_type": "display_data"
    }
   ],
   "source": [
    "show_doc(Define)"
   ]
  },
  {
   "cell_type": "code",
   "execution_count": null,
   "metadata": {},
   "outputs": [
    {
     "data": {
      "text/markdown": [
       "\n",
       "### V\n",
       "\n",
       "<p align=\"right\"> <a href=\"None\">source</a> </p>\n",
       "\n",
       "> **Signature:** `V(name: str, func: Callable = None, inputs: Any = None, outputs=None, func_name: str = None, is_break: bool = False, for_each: Optional[List[str]] = None, filter: bool = False, flat: bool = False, as_start: bool = False, as_end: bool = False) -> None`\n",
       "\n",
       "Add a vertex (node) to the current diagram.\n",
       "\n",
       "\n",
       "| Parameter | Type | Default | Description |\n",
       "|-----------|------|---------|-------------|\n",
       "| name | <class 'str'> | None | Name of the node |\n",
       "| func | typing.Callable | None | Function to execute at this node. If None, node acts as a passthrough |\n",
       "| func_name | <class 'str'> | None | Name of the function to display in the diagram.If None, the name of the function will be inferred from the function objectdefaults to None |\n",
       "| inputs | typing.Any | None | List of input edge descriptors. Each descriptor can be either:- A string in format \"source_node.source_port->target_port\" - A tuple (edge_descriptor, condition_func) for conditional edges |\n",
       "| outputs | List[str] | None | List of output edge descriptors. Each descriptor can be either:- A string in format \"source_port->target_node.target_port\"- A tuple (edge_descriptor, condition_func) for conditional edges |\n",
       "| is_break | <class 'bool'> | False | If True, execution will pause at this node. Not allowed in flow scopes |\n",
       "| for_each | typing.Optional[typing.List[str]] | None | List of input keys to iterate over. Used for batching operations in Flow diagrams.If provided, the node will be executed once for each product of items in the input list.This for each keys must get iteratbles from the input edges. |\n",
       "| filter | <class 'bool'> | False | Used for batching operations in Flow diagrams. If True, falsy node outputs will be filtered out. Cannot be used with flat=True |\n",
       "| flat | <class 'bool'> | False | Used for batching operations in Flow diagrams.If True, node output lists will be flattened into a single list.Cannot be used with filter=True |\n",
       "| as_start | <class 'bool'> | False | If True, marks this node as the diagram's start node |\n",
       "| as_end | <class 'bool'> | False | If True, marks this node as the diagram's end node |\n",
       "| :Returns: | None | - | Name of the created node |\n",
       "\n"
      ],
      "text/plain": [
       "<IPython.core.display.Markdown object>"
      ]
     },
     "metadata": {},
     "output_type": "display_data"
    }
   ],
   "source": [
    "show_doc(V)"
   ]
  },
  {
   "cell_type": "code",
   "execution_count": null,
   "metadata": {},
   "outputs": [
    {
     "data": {
      "text/markdown": [
       "\n",
       "### E\n",
       "\n",
       "<p align=\"right\"> <a href=\"None\">source</a> </p>\n",
       "\n",
       "> **Signature:** `E(edge_string: str, cond: Callable = None, type: str = None) -> None`\n",
       "\n",
       "Add an edge to the current diagram\n",
       "\n",
       "\n",
       "| Parameter | Type | Default | Description |\n",
       "|-----------|------|---------|-------------|\n",
       "| edge_string | <class 'str'> | None | The edge descriptor string |\n",
       "| cond | typing.Callable | None | The condition of the edge |\n",
       "| type | <class 'str'> | None | The type of the edge, either 'flow' or 'decision', by default, the type is determined by the current scope     |\n",
       "| :Returns: | None | - |  |\n",
       "\n"
      ],
      "text/plain": [
       "<IPython.core.display.Markdown object>"
      ]
     },
     "metadata": {},
     "output_type": "display_data"
    }
   ],
   "source": [
    "show_doc(E)"
   ]
  },
  {
   "cell_type": "code",
   "execution_count": null,
   "metadata": {},
   "outputs": [
    {
     "data": {
      "text/markdown": [
       "\n",
       "### Scope\n",
       "\n",
       "<p align=\"right\"> <a href=\"None\">source</a> </p>\n",
       "\n",
       "> **Signature:** `Scope(scope: str)`\n",
       "\n",
       "Context manager for defining a flow/decision scope in a diagram of a different type\n",
       "\n",
       "\n",
       "| Parameter | Type | Default | Description |\n",
       "|-----------|------|---------|-------------|\n",
       "| scope | <class 'str'> | None | The scope type to start. Can be either a string ('flow' or 'decision'). |\n",
       "\n"
      ],
      "text/plain": [
       "<IPython.core.display.Markdown object>"
      ]
     },
     "metadata": {},
     "output_type": "display_data"
    }
   ],
   "source": [
    "show_doc(Scope)"
   ]
  },
  {
   "cell_type": "markdown",
   "metadata": {},
   "source": [
    "## DiagramSchema"
   ]
  },
  {
   "cell_type": "code",
   "execution_count": null,
   "metadata": {},
   "outputs": [],
   "source": [
    "from stringdale import DiagramSchema"
   ]
  },
  {
   "cell_type": "code",
   "execution_count": null,
   "metadata": {},
   "outputs": [
    {
     "data": {
      "text/markdown": [
       "\n",
       "### DiagramSchema\n",
       "<p align=\"right\"> <a href=\"None\">source</a> </p>\n",
       "\n",
       "> **Signature:** `DiagramSchema(graph=None, state=None, factored_graph=None, start_node=None, end_node=None, name=None, type: stringdale.base.DiagramType = None, anon=False, derive_state=False)`\n",
       "\n",
       "None\n",
       "\n",
       "| Parameter | Type | Default | Description |\n",
       "|-----------|------|---------|-------------|\n",
       "\n",
       "\n",
       "\n",
       "#### \\_\\_call\\_\\_\n",
       "\n",
       "None\n",
       "> **Signature:** `DiagramSchema.__call__(self: stringdale.base.DiagramSchema, **kwargs)`\n",
       "\n",
       "| Parameter | Type | Default | Description |\n",
       "|-----------|------|---------|-------------|\n",
       "\n",
       "\n",
       "\n",
       "#### draw\n",
       "\n",
       "Draw a DiagramSchema using graphviz.\n",
       "\n",
       "> **Signature:** `DiagramSchema.draw(self: stringdale.base.DiagramSchema, return_dot=False, direction='LR', recursive: Union[bool, List[str]] = False, factored=False, **kwargs)`\n",
       "\n",
       "| Parameter | Type | Default | Description |\n",
       "|-----------|------|---------|-------------|\n",
       "| diagram | None | None | Either a diagram object or a diagram scheme object |\n",
       "| name | None | None | If provided, uses this name for the diagram in the Mermaid title |\n",
       "| return_dot | None | False | If True, returns the graphviz dot object |\n",
       "| direction | None | LR | direction to draw, either TB (top to bottom) or LR (left to right), defaults to TB |\n",
       "| recursive | typing.Union[bool, typing.List[str]] | False | Whether to draw subdiagrams as well. If False, only the top level diagram is drawn.If True, all subdiagrams are drawn.If a list of strings, only the subdiagrams with whose names the regex strings are drawn. |\n",
       "| factored | None | False | If True, draws the factored graph, used for debugging |\n",
       "\n",
       "\n"
      ],
      "text/plain": [
       "<IPython.core.display.Markdown object>"
      ]
     },
     "metadata": {},
     "output_type": "display_data"
    }
   ],
   "source": [
    "show_doc(DiagramSchema,methods=['__call__','draw'])"
   ]
  },
  {
   "cell_type": "markdown",
   "metadata": {},
   "source": [
    "## Running diagrams"
   ]
  },
  {
   "cell_type": "code",
   "execution_count": null,
   "metadata": {},
   "outputs": [],
   "source": [
    "from stringdale import Diagram"
   ]
  },
  {
   "cell_type": "code",
   "execution_count": null,
   "metadata": {},
   "outputs": [
    {
     "data": {
      "text/markdown": [
       "\n",
       "### Diagram\n",
       "<p align=\"right\"> <a href=\"None\">source</a> </p>\n",
       "\n",
       "> **Signature:** `Diagram(graph, funcs, type, schema: stringdale.base.DiagramSchema, state: pydantic.main.BaseModel = None, anon=False, root=None)`\n",
       "\n",
       "An instance of a stringdale diagram. Instantiated by calling the Schema()\n",
       "\n",
       "Has the following public attributes:\n",
       "output - the output of the last run\n",
       "finished - whether the diagram has reached the End node\n",
       "state - the current state of the diagram\n",
       "\n",
       "| Parameter | Type | Default | Description |\n",
       "|-----------|------|---------|-------------|\n",
       "\n",
       "\n",
       "\n",
       "#### run_all\n",
       "\n",
       "Run the diagram to completion and return the final output.\n",
       "\n",
       "> **Signature:** `Diagram.run_all(self: stringdale.base.Diagram, input: Any, progress_bars: bool = True, trace_nested: bool = True)`\n",
       "\n",
       "| Parameter | Type | Default | Description |\n",
       "|-----------|------|---------|-------------|\n",
       "| input | typing.Any | None | The input data to process through the diagram |\n",
       "| progress_bars | <class 'bool'> | True | Whether to display progress bars during execution (default True). Deprecated. |\n",
       "| trace_nested | <class 'bool'> | True | Whether to trace nested diagram execution (default True) |\n",
       "\n",
       "\n",
       "\n",
       "#### run\n",
       "\n",
       "Run the diagram with the given input.\n",
       "\n",
       "> **Signature:** `Diagram.run(self: stringdale.base.Diagram, input: Any, progress_bars: bool = True, trace_nested: bool = True)`\n",
       "\n",
       "| Parameter | Type | Default | Description |\n",
       "|-----------|------|---------|-------------|\n",
       "| input | typing.Any | None | The input data to process through the diagram |\n",
       "| progress_bars | <class 'bool'> | True | Whether to display progress bars during execution (default True). Deprecated. |\n",
       "| trace_nested | <class 'bool'> | True | Whether to trace nested diagram execution (default True) |\n",
       "\n",
       "\n",
       "\n",
       "#### arun\n",
       "\n",
       "Asynchronously run the diagram with the given input.\n",
       "\n",
       "> **Signature:** `Diagram.arun(self: stringdale.base.Diagram, input: Any, progress_bars: bool = True, trace_nested: bool = True)`\n",
       "\n",
       "| Parameter | Type | Default | Description |\n",
       "|-----------|------|---------|-------------|\n",
       "| input | typing.Any | None | The input data to process through the diagram |\n",
       "| progress_bars | <class 'bool'> | True | Whether to display progress bars during execution (default True). Deprecated. |\n",
       "| trace_nested | <class 'bool'> | True | Whether to trace nested diagram execution (default True) |\n",
       "\n",
       "\n",
       "\n",
       "#### \\_\\_getitem\\_\\_\n",
       "\n",
       "None\n",
       "> **Signature:** `Diagram.__getitem__(self, key)`\n",
       "\n",
       "| Parameter | Type | Default | Description |\n",
       "|-----------|------|---------|-------------|\n",
       "\n",
       "\n"
      ],
      "text/plain": [
       "<IPython.core.display.Markdown object>"
      ]
     },
     "metadata": {},
     "output_type": "display_data"
    }
   ],
   "source": [
    "show_doc(Diagram,methods=['run_all','run','arun','__getitem__'])"
   ]
  },
  {
   "cell_type": "code",
   "execution_count": null,
   "metadata": {},
   "outputs": [],
   "source": [
    "# |hide\n",
    "import nbdev\n",
    "\n",
    "nbdev.nbdev_export()"
   ]
  },
  {
   "cell_type": "markdown",
   "metadata": {},
   "source": [
    "## Condition"
   ]
  },
  {
   "cell_type": "code",
   "execution_count": null,
   "metadata": {},
   "outputs": [],
   "source": [
    "from stringdale import Condition"
   ]
  },
  {
   "cell_type": "code",
   "execution_count": null,
   "metadata": {},
   "outputs": [
    {
     "data": {
      "text/markdown": [
       "\n",
       "### Condition\n",
       "<p align=\"right\"> <a href=\"None\">source</a> </p>\n",
       "\n",
       "> **Signature:** `Condition(func: Union[Callable, str], mapping: Optional[str] = None, name: Optional[str] = None)`\n",
       "\n",
       "A utility function for creating condition functions using stringdale's port mapping logic.\n",
       "\n",
       "\n",
       "| Parameter | Type | Default | Description |\n",
       "|-----------|------|---------|-------------|\n",
       "| func | typing.Union[typing.Callable, str] | None | A function or string to match against the input. If string, it will be interpreted as a regex pattern to match the input against. |\n",
       "| mapping | typing.Optional[str] | None | A mapping of the input to the function. by default, the input is the first argument of the function. |\n",
       "| name | typing.Optional[str] | None | A name for the condition. by default, is func_name->mapping_string |\n",
       "\n",
       "\n"
      ],
      "text/plain": [
       "<IPython.core.display.Markdown object>"
      ]
     },
     "metadata": {},
     "output_type": "display_data"
    }
   ],
   "source": [
    "show_doc(Condition) "
   ]
  },
  {
   "cell_type": "markdown",
   "metadata": {},
   "source": [
    "### Example"
   ]
  },
  {
   "cell_type": "code",
   "execution_count": null,
   "metadata": {},
   "outputs": [],
   "source": [
    "def is_module_2(x):\n",
    "    return x%2==0\n",
    "\n",
    "is_input_even = Condition(is_module_2,'(x=input)',name='input is even')\n",
    "\n",
    "assert is_input_even({\"input\": 2})\n",
    "assert not is_input_even({\"input\": 3})"
   ]
  },
  {
   "cell_type": "code",
   "execution_count": null,
   "metadata": {},
   "outputs": [],
   "source": [
    "def is_sum_42(x,y):\n",
    "    return x+y==42\n",
    "\n",
    "is_io_42 = Condition(is_sum_42,'(x=input,y=output)',name='i+o=42?')\n",
    "\n",
    "assert is_io_42({\"input\": 2,'output':40})\n",
    "# missing inputs results in False\n",
    "assert not is_io_42({\"input\": 2,})\n",
    "assert not is_io_42({\"input\": 2,'output':39})"
   ]
  },
  {
   "cell_type": "code",
   "execution_count": null,
   "metadata": {},
   "outputs": [
    {
     "data": {
      "text/plain": [
       "((starts with 3 & starts with 5) | starts with 2)"
      ]
     },
     "execution_count": null,
     "metadata": {},
     "output_type": "execute_result"
    }
   ],
   "source": [
    "C = Condition\n",
    "\n",
    "complex_cond = (\n",
    "    C(\"^3\",'(0=input)',name='starts with 3') & \n",
    "    C(\"^5\",'(0=output)',name='starts with 5') | \n",
    "    C(\"^2\",'(0=input)',name='starts with 2'))\n",
    "complex_cond"
   ]
  },
  {
   "cell_type": "code",
   "execution_count": null,
   "metadata": {},
   "outputs": [],
   "source": [
    "assert complex_cond({\"input\": \"345\", \"output\": \"567\"})\n",
    "assert complex_cond({\"input\": \"244\", \"output\": \"567\"})\n",
    "assert not complex_cond({\"input\": \"145\", \"soutput\": \"567\"})\n",
    "assert not complex_cond({\"input\": \"345\", \"output\": \"67\"})\n",
    "assert not complex_cond({\"not_input\": \"145\"})\n",
    "assert complex_cond({ \"input\": \"244\"})"
   ]
  },
  {
   "cell_type": "markdown",
   "metadata": {},
   "source": [
    "## StructureJson"
   ]
  },
  {
   "cell_type": "code",
   "execution_count": null,
   "metadata": {},
   "outputs": [],
   "source": [
    "from stringdale import StructureJson"
   ]
  },
  {
   "cell_type": "code",
   "execution_count": null,
   "metadata": {},
   "outputs": [
    {
     "data": {
      "text/markdown": [
       "\n",
       "### StructureJson\n",
       "<p align=\"right\"> <a href=\"None\">source</a> </p>\n",
       "\n",
       "> **Signature:** `StructureJson(*assignments)`\n",
       "\n",
       "A class for restructuring JSON objects by nested paths\n",
       "This class allows restructuring JSON objects by specifying path assignments in the form\n",
       "'target_path=source_path'. It parses these assignments and creates a new JSON object\n",
       "with the specified structure.\n",
       "\n",
       "| Parameter | Type | Default | Description |\n",
       "|-----------|------|---------|-------------|\n",
       "| assignments | None | None | Variable number of strings specifying path assignments in the format'target_path=source_path' |\n",
       "| :Returns: | None | - | A new JSON object with the specified structure. |\n",
       "\n",
       "\n",
       "\n",
       "#### \\_\\_call\\_\\_\n",
       "\n",
       "None\n",
       "> **Signature:** `StructureJson.__call__(self, **kwargs)`\n",
       "\n",
       "| Parameter | Type | Default | Description |\n",
       "|-----------|------|---------|-------------|\n",
       "| :Returns: | None | - | A new JSON object with the specified structure. |\n",
       "\n",
       "\n"
      ],
      "text/plain": [
       "<IPython.core.display.Markdown object>"
      ]
     },
     "metadata": {},
     "output_type": "display_data"
    }
   ],
   "source": [
    "show_doc(StructureJson,methods=['__call__'])"
   ]
  },
  {
   "cell_type": "markdown",
   "metadata": {},
   "source": [
    "### Example"
   ]
  },
  {
   "cell_type": "code",
   "execution_count": null,
   "metadata": {},
   "outputs": [
    {
     "data": {
      "text/plain": [
       "{'a': {'b': {'c': 'foo', 'd': 'bar'}}}"
      ]
     },
     "execution_count": null,
     "metadata": {},
     "output_type": "execute_result"
    }
   ],
   "source": [
    "source_obj = {'d':{'e':{'f':'foo'},'x':'bar'}}\n",
    "\n",
    "StructureJson('a.b.c=father.d.e.f','a.b.d=father.d.x')(father=source_obj)"
   ]
  },
  {
   "cell_type": "markdown",
   "metadata": {},
   "source": [
    "## JsonRenderer"
   ]
  },
  {
   "cell_type": "code",
   "execution_count": null,
   "metadata": {},
   "outputs": [],
   "source": [
    "from stringdale import JsonRenderer"
   ]
  },
  {
   "cell_type": "code",
   "execution_count": null,
   "metadata": {},
   "outputs": [
    {
     "data": {
      "text/markdown": [
       "\n",
       "### JsonRenderer\n",
       "<p align=\"right\"> <a href=\"None\">source</a> </p>\n",
       "\n",
       "> **Signature:** `JsonRenderer(json_obj, **kwargs)`\n",
       "\n",
       "A class for rendering JSON objects with nested jinja2 templates.\n",
       "\n",
       "Allows setting template variables both during init and when calling the object.\n",
       "\n",
       "| Parameter | Type | Default | Description |\n",
       "|-----------|------|---------|-------------|\n",
       "| json_obj | None | None | A JSON object to render. |\n",
       "| **kwargs | None | None | Context variables to use in the rendering. |\n",
       "| :Returns: | None | - | A rendered JSON object. |\n",
       "\n",
       "\n",
       "\n",
       "#### \\_\\_call\\_\\_\n",
       "\n",
       "None\n",
       "> **Signature:** `JsonRenderer.__call__(self, **kwargs)`\n",
       "\n",
       "| Parameter | Type | Default | Description |\n",
       "|-----------|------|---------|-------------|\n",
       "| :Returns: | None | - | A rendered JSON object. |\n",
       "\n",
       "\n"
      ],
      "text/plain": [
       "<IPython.core.display.Markdown object>"
      ]
     },
     "metadata": {},
     "output_type": "display_data"
    }
   ],
   "source": [
    "show_doc(JsonRenderer,methods=['__call__'])"
   ]
  },
  {
   "cell_type": "markdown",
   "metadata": {},
   "source": [
    "### Example"
   ]
  },
  {
   "cell_type": "code",
   "execution_count": null,
   "metadata": {},
   "outputs": [
    {
     "data": {
      "text/plain": [
       "JsonRenderer(missing_keys={'name'})"
      ]
     },
     "execution_count": null,
     "metadata": {},
     "output_type": "execute_result"
    }
   ],
   "source": [
    "template_json = {\n",
    "    'name': '{{name}}',\n",
    "    'age': '{{age}}',\n",
    "    'city_path': '{%for city in cities%} {{city}} - {%endfor%}'\n",
    "}\n",
    "\n",
    "rend = JsonRenderer(template_json,age=30,cities=['SF','LA','NY'])\n",
    "rend\n"
   ]
  },
  {
   "cell_type": "code",
   "execution_count": null,
   "metadata": {},
   "outputs": [
    {
     "data": {
      "text/plain": [
       "{'name': 'Bob', 'age': '30', 'city_path': 'SF -  LA -  NY -'}"
      ]
     },
     "execution_count": null,
     "metadata": {},
     "output_type": "execute_result"
    }
   ],
   "source": [
    "rend(name='Bob')"
   ]
  }
 ],
 "metadata": {
  "kernelspec": {
   "display_name": "python3",
   "language": "python",
   "name": "python3"
  }
 },
 "nbformat": 4,
 "nbformat_minor": 2
}

{
 "cells": [
  {
   "cell_type": "markdown",
   "metadata": {},
   "source": [
    "# Eval"
   ]
  },
  {
   "cell_type": "code",
   "execution_count": null,
   "metadata": {},
   "outputs": [],
   "source": [
    "# | hide\n",
    "%load_ext autoreload\n",
    "%autoreload 2"
   ]
  },
  {
   "cell_type": "code",
   "execution_count": null,
   "metadata": {},
   "outputs": [],
   "source": [
    "#| hide\n",
    "from stringdale.doc import show_doc\n",
    "from stringdale.eval import EVAL_FUNCS"
   ]
  },
  {
   "cell_type": "markdown",
   "metadata": {},
   "source": [
    "## Defaults Eval Functions"
   ]
  },
  {
   "cell_type": "code",
   "execution_count": null,
   "metadata": {},
   "outputs": [],
   "source": [
    "#| hide\n",
    "#TODO, fix the show_doc to work with all other sections as well\n",
    "# specifically examples"
   ]
  },
  {
   "cell_type": "code",
   "execution_count": null,
   "metadata": {},
   "outputs": [
    {
     "data": {
      "text/markdown": [
       "\n",
       "### eq\n",
       "\n",
       "<p align=\"right\"> <a href=\"None\">source</a> </p>\n",
       "\n",
       "> **Signature:** `eq(a, b)`\n",
       "\n",
       "Compare two values for exact equality.\n",
       "\n",
       "\n",
       "| Parameter | Type | Default | Description |\n",
       "|-----------|------|---------|-------------|\n",
       "| a | None | None | First value to compare |\n",
       "| b | None | None | Second value to compare |\n",
       "| :Returns: | float | - | Returns 0 if values are equal, infinity if they differ |\n",
       "\n"
      ],
      "text/plain": [
       "<IPython.core.display.Markdown object>"
      ]
     },
     "metadata": {},
     "output_type": "display_data"
    },
    {
     "data": {
      "text/markdown": [
       "\n",
       "### safe_eval\n",
       "\n",
       "<p align=\"right\"> <a href=\"None\">source</a> </p>\n",
       "\n",
       "> **Signature:** `safe_eval(out, expression)`\n",
       "\n",
       "Safely evaluate a Python expression with a provided value.\n",
       "\n",
       "This function takes a value and a Python expression template, formats the expression\n",
       "with the value, and evaluates it safely. It handles various error cases and type\n",
       "conversions.\n",
       "\n",
       "| Parameter | Type | Default | Description |\n",
       "|-----------|------|---------|-------------|\n",
       "| out | None | None | Value to insert into the expression template |\n",
       "| expression | str | None | Python expression template with {} placeholder for the value |\n",
       "| :Returns: | float | - | - For boolean results: 0 if True, infinity if False<br>- For float results: the float value directly<br>- For errors or invalid types: infinity |\n",
       "\n"
      ],
      "text/plain": [
       "<IPython.core.display.Markdown object>"
      ]
     },
     "metadata": {},
     "output_type": "display_data"
    },
    {
     "data": {
      "text/markdown": [
       "\n",
       "### chat_eval\n",
       "\n",
       "<p align=\"right\"> <a href=\"None\">source</a> </p>\n",
       "\n",
       "> **Signature:** `chat_eval(out: Any, expected: Any, model: str = 'gpt-4o-mini', system_prompt: str = None) -> float`\n",
       "\n",
       "Evaluate similarity between two values using a language model.\n",
       "\n",
       "This function uses a language model to compare two values and return a similarity score.\n",
       "It can use either a default system prompt or a custom one to guide the evaluation.\n",
       "\n",
       "| Parameter | Type | Default | Description |\n",
       "|-----------|------|---------|-------------|\n",
       "| out | typing.Any | None | First value to compare |\n",
       "| expected | typing.Any | None | Second value to compare |\n",
       "| model | <class 'str'> | gpt-4o-mini | Language model to use. Defaults to \"gpt-4o-mini\" |\n",
       "| system_prompt | <class 'str'> | None | Custom system prompt for evaluation. Must contain{{out}} and {{expected}} jinja variables. If None, uses default prompt.         |\n",
       "| :Returns: | <class 'float'> | - | Similarity score between 0 and 1, where:<br>- 0 indicates lowest similarity<br>- 1 indicates highest similarity |\n",
       "\n"
      ],
      "text/plain": [
       "<IPython.core.display.Markdown object>"
      ]
     },
     "metadata": {},
     "output_type": "display_data"
    },
    {
     "data": {
      "text/markdown": [
       "\n",
       "### cosine_dist\n",
       "\n",
       "<p align=\"right\"> <a href=\"None\">source</a> </p>\n",
       "\n",
       "> **Signature:** `cosine_dist(out: str, expected: str, model: str = 'text-embedding-3-small') -> float`\n",
       "\n",
       "Compute cosine distance between two strings using OpenAI embeddings.\n",
       "\n",
       "This function converts two strings into embeddings using OpenAI's embedding model\n",
       "and computes the cosine distance between them. The distance is normalized by the norm of the expected embedding.\n",
       "\n",
       "| Parameter | Type | Default | Description |\n",
       "|-----------|------|---------|-------------|\n",
       "| out | <class 'str'> | None | First string to compare |\n",
       "| expected | <class 'str'> | None | Second string to compare |\n",
       "| model | <class 'str'> | text-embedding-3-small | OpenAI embedding model to use. Defaults to 'text-embedding-3-small' |\n",
       "| :Returns: | <class 'float'> | - | Cosine distance between the strings<br>If out is not a string, returns inf |\n",
       "\n"
      ],
      "text/plain": [
       "<IPython.core.display.Markdown object>"
      ]
     },
     "metadata": {},
     "output_type": "display_data"
    },
    {
     "data": {
      "text/markdown": [
       "\n",
       "### eval_any\n",
       "\n",
       "<p align=\"right\"> <a href=\"None\">source</a> </p>\n",
       "\n",
       "> **Signature:** `eval_any(out: Any, expected: Any) -> float`\n",
       "\n",
       "Accept any value by always returning 0 distance.\n",
       "\n",
       "This function is used to verify the existence of a key or value without\n",
       "caring about its actual content. It always returns 0, indicating a perfect match\n",
       "regardless of the input values.\n",
       "\n",
       "| Parameter | Type | Default | Description |\n",
       "|-----------|------|---------|-------------|\n",
       "| out | typing.Any | None | First value (ignored) |\n",
       "| expected | typing.Any | None | Second value (ignored) |\n",
       "| :Returns: | <class 'float'> | - | Always returns 0, indicating a perfect match |\n",
       "\n"
      ],
      "text/plain": [
       "<IPython.core.display.Markdown object>"
      ]
     },
     "metadata": {},
     "output_type": "display_data"
    }
   ],
   "source": [
    "#| echo: false\n",
    "for k,v in EVAL_FUNCS.items():\n",
    "    show_doc(v)\n",
    "\n"
   ]
  },
  {
   "cell_type": "markdown",
   "metadata": {},
   "source": [
    "## Test Case Schema"
   ]
  },
  {
   "cell_type": "markdown",
   "metadata": {},
   "source": [
    "Here is the formal TestCase Schema"
   ]
  },
  {
   "cell_type": "code",
   "execution_count": null,
   "metadata": {},
   "outputs": [],
   "source": [
    "from stringdale.eval import TestCase"
   ]
  },
  {
   "cell_type": "code",
   "execution_count": null,
   "metadata": {},
   "outputs": [
    {
     "data": {
      "text/plain": [
       "{'$defs': {'Condition': {'properties': {'key': {'title': 'Key',\n",
       "     'type': 'string'},\n",
       "    'value': {'title': 'Value'},\n",
       "    'func': {'anyOf': [{'type': 'string'}, {'type': 'null'}],\n",
       "     'default': None,\n",
       "     'title': 'Func'},\n",
       "    'kwargs': {'additionalProperties': True,\n",
       "     'default': {},\n",
       "     'title': 'Kwargs',\n",
       "     'type': 'object'},\n",
       "    'aggregation': {'anyOf': [{'type': 'string'}, {'type': 'null'}],\n",
       "     'default': None,\n",
       "     'title': 'Aggregation'}},\n",
       "   'required': ['key', 'value'],\n",
       "   'title': 'Condition',\n",
       "   'type': 'object'},\n",
       "  'TestNode': {'properties': {'name': {'title': 'Name', 'type': 'string'},\n",
       "    'label': {'anyOf': [{'type': 'string'}, {'type': 'null'}],\n",
       "     'default': None,\n",
       "     'title': 'Label'},\n",
       "    'conditions': {'items': {'$ref': '#/$defs/Condition'},\n",
       "     'title': 'Conditions',\n",
       "     'type': 'array'},\n",
       "    'before': {'anyOf': [{'items': {'type': 'string'}, 'type': 'array'},\n",
       "      {'type': 'null'}],\n",
       "     'title': 'Before'},\n",
       "    'after': {'anyOf': [{'items': {'type': 'string'}, 'type': 'array'},\n",
       "      {'type': 'null'}],\n",
       "     'title': 'After'},\n",
       "    'parallel': {'anyOf': [{'type': 'boolean'}, {'type': 'null'}],\n",
       "     'default': False,\n",
       "     'title': 'Parallel'}},\n",
       "   'required': ['name', 'conditions'],\n",
       "   'title': 'TestNode',\n",
       "   'type': 'object'}},\n",
       " 'properties': {'inputs': {'items': {}, 'title': 'Inputs', 'type': 'array'},\n",
       "  'test_nodes': {'items': {'$ref': '#/$defs/TestNode'},\n",
       "   'title': 'Test Nodes',\n",
       "   'type': 'array'}},\n",
       " 'required': ['inputs', 'test_nodes'],\n",
       " 'title': 'TestCase',\n",
       " 'type': 'object'}"
      ]
     },
     "execution_count": null,
     "metadata": {},
     "output_type": "execute_result"
    }
   ],
   "source": [
    "TestCase.model_json_schema()"
   ]
  },
  {
   "cell_type": "markdown",
   "metadata": {},
   "source": [
    "## Semaphor decorator"
   ]
  },
  {
   "cell_type": "code",
   "execution_count": null,
   "metadata": {},
   "outputs": [],
   "source": [
    "from stringdale.core import semaphore_decorator"
   ]
  },
  {
   "cell_type": "code",
   "execution_count": null,
   "metadata": {},
   "outputs": [
    {
     "data": {
      "text/markdown": [
       "\n",
       "### semaphore_decorator\n",
       "\n",
       "<p align=\"right\"> <a href=\"None\">source</a> </p>\n",
       "\n",
       "> **Signature:** `semaphore_decorator(concurrency: int = 0, method_name: str = None)`\n",
       "\n",
       "A decorator that limits concurrent execution of functions or class methods using an async semaphore.\n",
       "\n",
       "This decorator can be applied to both async functions and classes. When applied to a class,\n",
       "it can limit concurrent executions of a specific method (defaults to __call__) across all\n",
       "instances of that class.\n",
       "\n",
       "| Parameter | Type | Default | Description |\n",
       "|-----------|------|---------|-------------|\n",
       "| concurrency | <class 'int'> | 0 | The maximum number of concurrent executions allowed. If 0, no concurrency limit is applied. |\n",
       "| method_name | <class 'str'> | None | When decorating a class, specifies which method to apply the semaphore to.Defaults to '__call__'. Must be None when decorating a function. |\n",
       "\n"
      ],
      "text/plain": [
       "<IPython.core.display.Markdown object>"
      ]
     },
     "metadata": {},
     "output_type": "display_data"
    }
   ],
   "source": [
    "#| echo: false\n",
    "show_doc(semaphore_decorator)"
   ]
  }
 ],
 "metadata": {
  "kernelspec": {
   "display_name": "python3",
   "language": "python",
   "name": "python3"
  }
 },
 "nbformat": 4,
 "nbformat_minor": 2
}

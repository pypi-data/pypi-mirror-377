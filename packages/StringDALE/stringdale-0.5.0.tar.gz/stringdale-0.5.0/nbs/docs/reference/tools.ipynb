{
 "cells": [
  {
   "cell_type": "markdown",
   "metadata": {},
   "source": [
    "# Tools"
   ]
  },
  {
   "cell_type": "markdown",
   "metadata": {},
   "source": [
    "Here are some example tools for LLM agents"
   ]
  },
  {
   "cell_type": "code",
   "execution_count": null,
   "metadata": {},
   "outputs": [],
   "source": [
    "# | hide\n",
    "%load_ext autoreload\n",
    "%autoreload 2"
   ]
  },
  {
   "cell_type": "code",
   "execution_count": null,
   "metadata": {},
   "outputs": [],
   "source": [
    "#| hide\n",
    "from stringdale.doc import show_doc"
   ]
  },
  {
   "cell_type": "code",
   "execution_count": null,
   "metadata": {},
   "outputs": [],
   "source": [
    "from stringdale.tools import google_search,wikipedia_search,run_python_code"
   ]
  },
  {
   "cell_type": "code",
   "execution_count": null,
   "metadata": {},
   "outputs": [
    {
     "data": {
      "text/markdown": [
       " ## google_search\n",
       "<p align=\"right\"> <a href=\"https://github.com/DeanLight/stringdale/blob/main/stringdale/tools.py\">source</a> </p>\n",
       "\n",
       "> **Signature:** `google_search(q: str, location: str = 'Austin, Texas', engine: str = 'google_scholar')`\n",
       "\n",
       "Search the web for information using various search engines.\n",
       "\n",
       "This function performs web searches using the SerpAPI client, allowing access to\n",
       "information from different search engines including Google Scholar. Results include\n",
       "source information for verification.\n",
       "\n",
       "| Parameter | Type | Default | Description |\n",
       "|-----------|------|---------|-------------|\n",
       "| q | str | None | The search query string. |\n",
       "| location | str | Austin, Texas | The location to use for localized search results.Defaults to 'Austin, Texas'. |\n",
       "| engine | str | google_scholar | The search engine to use. Defaults to 'google_scholar'. |\n",
       "| :Returns: | dict | - | A dictionary containing the search results and metadata from the SerpAPI<br>response. |\n",
       "\n"
      ],
      "text/plain": [
       "<IPython.core.display.Markdown object>"
      ]
     },
     "metadata": {},
     "output_type": "display_data"
    },
    {
     "data": {
      "text/markdown": [
       " ## wikipedia_search\n",
       "<p align=\"right\"> <a href=\"https://github.com/DeanLight/stringdale/blob/main/stringdale/tools.py\">source</a> </p>\n",
       "\n",
       "> **Signature:** `wikipedia_search(q: str)`\n",
       "\n",
       "A tool to query wikipedia, useful when you need to find information about a specific topic or person that is well known.\n",
       "Useful when you dont have enough context to reason about how to answer the question.\n",
       "\n",
       "| Parameter | Type | Default | Description |\n",
       "|-----------|------|---------|-------------|\n",
       "| q | str | None | The query string to search for |\n",
       "| :Returns: | str | - | The wikipedia search results |\n",
       "\n"
      ],
      "text/plain": [
       "<IPython.core.display.Markdown object>"
      ]
     },
     "metadata": {},
     "output_type": "display_data"
    },
    {
     "data": {
      "text/markdown": [
       " ## run_python_code\n",
       "<p align=\"right\"> <a href=\"https://github.com/DeanLight/stringdale/blob/main/stringdale/tools.py\">source</a> </p>\n",
       "\n",
       "> **Signature:** `run_python_code(code: str)`\n",
       "\n",
       "Execute python code, useful when you need to do a calculation or a simple task\n",
       "Input should be a valid python code.\n",
       "If you want to see the output of a variable, the last line of the code should be that variable name.\n",
       "\n",
       "| Parameter | Type | Default | Description |\n",
       "|-----------|------|---------|-------------|\n",
       "| code | str | None | Python code to execute |\n",
       "| :Returns: | str | - | Output from executing the code, either the value of the last line or the error message |\n",
       "\n"
      ],
      "text/plain": [
       "<IPython.core.display.Markdown object>"
      ]
     },
     "metadata": {},
     "output_type": "display_data"
    }
   ],
   "source": [
    "show_doc(google_search.func)\n",
    "show_doc(wikipedia_search.func)\n",
    "show_doc(run_python_code)"
   ]
  },
  {
   "cell_type": "code",
   "execution_count": null,
   "metadata": {},
   "outputs": [
    {
     "data": {
      "text/plain": [
       "6"
      ]
     },
     "execution_count": null,
     "metadata": {},
     "output_type": "execute_result"
    }
   ],
   "source": [
    "run_python_code('''\n",
    "x=2\n",
    "x*3\n",
    "''')"
   ]
  }
 ],
 "metadata": {
  "kernelspec": {
   "display_name": "python3",
   "language": "python",
   "name": "python3"
  }
 },
 "nbformat": 4,
 "nbformat_minor": 2
}

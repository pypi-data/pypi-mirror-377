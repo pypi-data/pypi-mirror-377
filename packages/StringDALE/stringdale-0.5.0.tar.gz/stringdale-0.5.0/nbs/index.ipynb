{
 "cells": [
  {
   "cell_type": "code",
   "execution_count": null,
   "metadata": {},
   "outputs": [],
   "source": [
    "#| hide\n",
    "%load_ext autoreload\n",
    "%autoreload 2"
   ]
  },
  {
   "cell_type": "markdown",
   "metadata": {},
   "source": [
    "# StringDALE"
   ]
  },
  {
   "cell_type": "markdown",
   "metadata": {},
   "source": [
    "> String Diagram Agent Language Express (StringDale) is a library for building complex LLM agentic workflows easily using [string diagrams](https://julesh.com/the-art-of-string-diagrams/)."
   ]
  },
  {
   "cell_type": "markdown",
   "metadata": {},
   "source": [
    "## Motivation"
   ]
  },
  {
   "cell_type": "markdown",
   "metadata": {},
   "source": [
    "We found current agentic frameworks unnecessarily complex:\n",
    "\n",
    "* Too many levels of abstractions and boilerplate code.\n",
    "* Too many interfaces to learn\n",
    "* To many wrappers to build for our code to fit these frameworks\n",
    "\n",
    "As a response, we create stringdale which aims to:\n",
    "\n",
    "* Have a small interface -  making it easier to learn.\n",
    "* Non-intrusive - You can use your own functions in stringdale, without fitting them to a complex interface.\n",
    "* Have few levels of abstraction - we don't create tons of wrappers you have to navigate, you bring your own functions and understand exactly what is happening at all times.\n",
    "* Make tracing and debugging simple."
   ]
  },
  {
   "cell_type": "markdown",
   "metadata": {},
   "source": [
    "## Installation\n"
   ]
  },
  {
   "cell_type": "markdown",
   "metadata": {},
   "source": [
    "```bash\n",
    "# in an environment with python>=3.10\n",
    "pip install stringdale\n",
    "```\n",
    "\n",
    "`stringdale` uses [graphviz](https://graphviz.org) to draw your diagrams in jupyter notebooks.\n",
    "\n",
    "Make sure you [download and install](https://graphviz.org/download/) graphviz on your system if you want diagrams to be rendered."
   ]
  },
  {
   "cell_type": "markdown",
   "metadata": {},
   "source": [
    "## Usage"
   ]
  },
  {
   "cell_type": "markdown",
   "metadata": {},
   "source": [
    "Lets look at how to build a RAG workflow"
   ]
  },
  {
   "cell_type": "code",
   "execution_count": null,
   "metadata": {},
   "outputs": [],
   "source": [
    "#| hide\n",
    "from stringdale.core import load_env,get_git_root"
   ]
  },
  {
   "cell_type": "code",
   "execution_count": null,
   "metadata": {},
   "outputs": [
    {
     "data": {
      "text/plain": [
       "True"
      ]
     },
     "execution_count": null,
     "metadata": {},
     "output_type": "execute_result"
    }
   ],
   "source": [
    "#| hide\n",
    "load_env(get_git_root()/'.env.dev')"
   ]
  },
  {
   "cell_type": "code",
   "execution_count": null,
   "metadata": {},
   "outputs": [],
   "source": [
    "# bring your own LLM based functions\n",
    "# These can be any function or callable\n",
    "# for now lets use example ones\n",
    "from stringdale.chat import Chat\n",
    "from stringdale.db import ChromaClient\n"
   ]
  },
  {
   "cell_type": "markdown",
   "metadata": {},
   "source": [
    "Lets make an example vector db:"
   ]
  },
  {
   "cell_type": "code",
   "execution_count": null,
   "metadata": {},
   "outputs": [
    {
     "data": {
      "text/plain": [
       "[{'id': 'dog1',\n",
       "  'text': 'The Golden Retriever is a friendly, intelligent breed known for its golden coat. They make excellent family pets and are great with children.',\n",
       "  'metadata': {'breed': 'Golden Retriever'},\n",
       "  'embedding': array([0.05813659, 0.02785078, 0.00372152, ..., 0.0241031 , 0.04067278,\n",
       "         0.00027733])},\n",
       " {'id': 'dog2',\n",
       "  'text': 'German Shepherds are loyal, protective dogs often used in police work. They are highly trainable and good at various tasks.',\n",
       "  'metadata': {'breed': 'German Shepherd'},\n",
       "  'embedding': array([ 0.03066194,  0.00074497,  0.01366658, ..., -0.0081617 ,\n",
       "         -0.02541033, -0.01031713])},\n",
       " {'id': 'dog3',\n",
       "  'text': 'The Golden Retriever is a friendly, intelligent breed with a beautiful golden coat. They are wonderful family pets that get along well with kids.',\n",
       "  'metadata': {'breed': 'Golden Retriever'},\n",
       "  'embedding': array([0.04065013, 0.02587523, 0.01385626, ..., 0.02761683, 0.03554016,\n",
       "         0.00553581])},\n",
       " {'id': 'dog4',\n",
       "  'text': 'Huskies are energetic working dogs bred for cold climates. They have thick fur and often blue eyes.',\n",
       "  'metadata': {'breed': 'Husky'},\n",
       "  'embedding': array([-0.02400597, -0.00190817, -0.02052087, ..., -0.02349378,\n",
       "         -0.04244469, -0.02794758])},\n",
       " {'id': 'dog5',\n",
       "  'text': 'Siberian Huskies are active working dogs that thrive in cold weather. They are known for their thick coats and striking blue eyes.',\n",
       "  'metadata': {'breed': 'Husky'},\n",
       "  'embedding': array([-0.01651848,  0.00581224, -0.02498457, ..., -0.00659932,\n",
       "         -0.03063537, -0.02282516])}]"
      ]
     },
     "execution_count": null,
     "metadata": {},
     "output_type": "execute_result"
    }
   ],
   "source": [
    "chroma_client = ChromaClient()\n",
    "\n",
    "dog_docs = [\n",
    "    {\n",
    "        'id': 'dog1',\n",
    "        'text': 'The Golden Retriever is a friendly, intelligent breed known for its golden coat. They make excellent family pets and are great with children.',\n",
    "        'metadata': {'breed': 'Golden Retriever'}\n",
    "    },\n",
    "    {\n",
    "        'id': 'dog2', \n",
    "        'text': 'German Shepherds are loyal, protective dogs often used in police work. They are highly trainable and good at various tasks.',\n",
    "        'metadata': {'breed': 'German Shepherd'}\n",
    "    },\n",
    "    {\n",
    "        'id': 'dog3',\n",
    "        'text': 'The Golden Retriever is a friendly, intelligent breed with a beautiful golden coat. They are wonderful family pets that get along well with kids.',\n",
    "        'metadata': {'breed': 'Golden Retriever'}  \n",
    "    },\n",
    "    {\n",
    "        'id': 'dog4',\n",
    "        'text': 'Huskies are energetic working dogs bred for cold climates. They have thick fur and often blue eyes.',\n",
    "        'metadata': {'breed': 'Husky'}\n",
    "    },\n",
    "    {\n",
    "        'id': 'dog5',\n",
    "        'text': 'Siberian Huskies are active working dogs that thrive in cold weather. They are known for their thick coats and striking blue eyes.',\n",
    "        'metadata': {'breed': 'Husky'} \n",
    "    }\n",
    "]\n",
    "\n",
    "chroma_client.add_collection(\"dog_docs\",exists_ok=True)\n",
    "chroma_client.upsert(collection_name=\"dog_docs\",docs=dog_docs)\n",
    "chroma_client.list(collection_name='dog_docs')"
   ]
  },
  {
   "cell_type": "code",
   "execution_count": null,
   "metadata": {},
   "outputs": [],
   "source": [
    "rag_chat = Chat(\n",
    "    model='gpt-4o-mini',\n",
    "    messages=[\n",
    "        {'role':'system','content':'''\n",
    "            You are a helpful assistant that answers questions about dogs.\n",
    "            I found the following documents that may be relevant to the user's question:\n",
    "            {% for doc in docs %}\n",
    "            {{doc['text']}}\n",
    "            {% endfor %}\n",
    "            '''},\n",
    "        {'role':'user','content':'{{question}}'},\n",
    "    ]\n",
    ")"
   ]
  },
  {
   "cell_type": "code",
   "execution_count": null,
   "metadata": {},
   "outputs": [],
   "source": [
    "# import the basic building blocks\n",
    "from stringdale import V,E,Define"
   ]
  },
  {
   "cell_type": "code",
   "execution_count": null,
   "metadata": {},
   "outputs": [
    {
     "data": {
      "image/svg+xml": [
       "<?xml version=\"1.0\" encoding=\"UTF-8\" standalone=\"no\"?>\n",
       "<!DOCTYPE svg PUBLIC \"-//W3C//DTD SVG 1.1//EN\"\n",
       " \"http://www.w3.org/Graphics/SVG/1.1/DTD/svg11.dtd\">\n",
       "<!-- Generated by graphviz version 12.2.1 (20241206.2353)\n",
       " -->\n",
       "<!-- Title: hello world Pages: 1 -->\n",
       "<svg width=\"610pt\" height=\"129pt\"\n",
       " viewBox=\"0.00 0.00 609.50 129.00\" xmlns=\"http://www.w3.org/2000/svg\" xmlns:xlink=\"http://www.w3.org/1999/xlink\">\n",
       "<g id=\"graph0\" class=\"graph\" transform=\"scale(1 1) rotate(0) translate(4 125)\">\n",
       "<title>hello world</title>\n",
       "<polygon fill=\"white\" stroke=\"none\" points=\"-4,4 -4,-125 605.5,-125 605.5,4 -4,4\"/>\n",
       "<text text-anchor=\"middle\" x=\"300.75\" y=\"-103.7\" font-family=\"Times,serif\" font-size=\"14.00\">hello world</text>\n",
       "<!-- node_0 -->\n",
       "<g id=\"node1\" class=\"node\">\n",
       "<title>node_0</title>\n",
       "<polygon fill=\"#ececff\" stroke=\"#9370db\" points=\"263.5,-96.5 127.5,-96.5 127.5,-55.5 263.5,-55.5 263.5,-96.5\"/>\n",
       "<text text-anchor=\"middle\" x=\"195.5\" y=\"-79.2\" font-family=\"Times,serif\" font-size=\"14.00\">get_docs[</text>\n",
       "<text text-anchor=\"middle\" x=\"195.5\" y=\"-62.7\" font-family=\"Times,serif\" font-size=\"14.00\">ChromaClient.query ]</text>\n",
       "</g>\n",
       "<!-- node_2 -->\n",
       "<g id=\"node3\" class=\"node\">\n",
       "<title>node_2</title>\n",
       "<polygon fill=\"#ececff\" stroke=\"#9370db\" points=\"510.5,-74 348.25,-74 348.25,0 510.5,0 510.5,-74\"/>\n",
       "<text text-anchor=\"middle\" x=\"429.38\" y=\"-56.7\" font-family=\"Times,serif\" font-size=\"14.00\">chat[</text>\n",
       "<text text-anchor=\"middle\" x=\"429.38\" y=\"-40.2\" font-family=\"Times,serif\" font-size=\"14.00\">Chat(model=&#39;gpt&#45;4o&#45;mini&#39;,</text>\n",
       "<text text-anchor=\"middle\" x=\"429.38\" y=\"-23.7\" font-family=\"Times,serif\" font-size=\"14.00\">required_keys={&#39;question&#39;,</text>\n",
       "<text text-anchor=\"middle\" x=\"429.38\" y=\"-7.2\" font-family=\"Times,serif\" font-size=\"14.00\">&#39;docs&#39;}, seed=42) ]</text>\n",
       "</g>\n",
       "<!-- node_0&#45;&gt;node_2 -->\n",
       "<g id=\"edge1\" class=\"edge\">\n",
       "<title>node_0&#45;&gt;node_2</title>\n",
       "<path fill=\"none\" stroke=\"black\" d=\"M263.88,-64.67C286.72,-60.83 312.64,-56.47 337.03,-52.36\"/>\n",
       "<polygon fill=\"black\" stroke=\"black\" points=\"337.34,-55.86 346.62,-50.75 336.17,-48.96 337.34,-55.86\"/>\n",
       "<text text-anchor=\"middle\" x=\"305.88\" y=\"-64.34\" font-family=\"Times,serif\" font-size=\"14.00\">. &#45;&gt; docs</text>\n",
       "</g>\n",
       "<!-- node_1 -->\n",
       "<g id=\"node2\" class=\"node\">\n",
       "<title>node_1</title>\n",
       "<polygon fill=\"#ececff\" stroke=\"#9370db\" points=\"54,-61 0,-61 0,-25 54,-25 54,-61\"/>\n",
       "<text text-anchor=\"middle\" x=\"27\" y=\"-37.95\" font-family=\"Times,serif\" font-size=\"14.00\">Start</text>\n",
       "</g>\n",
       "<!-- node_1&#45;&gt;node_0 -->\n",
       "<g id=\"edge2\" class=\"edge\">\n",
       "<title>node_1&#45;&gt;node_0</title>\n",
       "<path fill=\"none\" stroke=\"black\" d=\"M54.38,-48.23C71.17,-51.56 93.87,-56.05 116.1,-60.46\"/>\n",
       "<polygon fill=\"black\" stroke=\"black\" points=\"115.32,-63.88 125.81,-62.39 116.68,-57.01 115.32,-63.88\"/>\n",
       "<text text-anchor=\"middle\" x=\"90.75\" y=\"-61.71\" font-family=\"Times,serif\" font-size=\"14.00\">. &#45;&gt; **</text>\n",
       "</g>\n",
       "<!-- node_1&#45;&gt;node_2 -->\n",
       "<g id=\"edge3\" class=\"edge\">\n",
       "<title>node_1&#45;&gt;node_2</title>\n",
       "<path fill=\"none\" stroke=\"black\" d=\"M54.1,-38.81C74.12,-35.82 102.48,-32.07 127.5,-30.5 197.55,-26.12 276.94,-28.12 336.57,-31.02\"/>\n",
       "<polygon fill=\"black\" stroke=\"black\" points=\"336.17,-34.51 346.34,-31.52 336.52,-27.51 336.17,-34.51\"/>\n",
       "<text text-anchor=\"middle\" x=\"195.5\" y=\"-33.7\" font-family=\"Times,serif\" font-size=\"14.00\">query &#45;&gt; question</text>\n",
       "</g>\n",
       "<!-- node_3 -->\n",
       "<g id=\"node4\" class=\"node\">\n",
       "<title>node_3</title>\n",
       "<polygon fill=\"#ececff\" stroke=\"#9370db\" points=\"601.5,-55 547.5,-55 547.5,-19 601.5,-19 601.5,-55\"/>\n",
       "<text text-anchor=\"middle\" x=\"574.5\" y=\"-31.95\" font-family=\"Times,serif\" font-size=\"14.00\">End</text>\n",
       "</g>\n",
       "<!-- node_2&#45;&gt;node_3 -->\n",
       "<g id=\"edge4\" class=\"edge\">\n",
       "<title>node_2&#45;&gt;node_3</title>\n",
       "<path fill=\"none\" stroke=\"black\" d=\"M510.72,-37C519.44,-37 527.98,-37 535.82,-37\"/>\n",
       "<polygon fill=\"black\" stroke=\"black\" points=\"535.59,-40.5 545.59,-37 535.59,-33.5 535.59,-40.5\"/>\n",
       "</g>\n",
       "</g>\n",
       "</svg>\n"
      ],
      "text/plain": [
       "<graphviz.graphs.Digraph>"
      ]
     },
     "metadata": {},
     "output_type": "display_data"
    }
   ],
   "source": [
    "# define your diagram schema\n",
    "with Define('hello world') as RAG:\n",
    "    V('get_docs',chroma_client.query)\n",
    "    E('Start->get_docs(**)')\n",
    "        \n",
    "    V('chat',rag_chat)\n",
    "    E('get_docs->chat(docs=.)')\n",
    "    E('Start->chat(question=query)')\n",
    "    E('chat->End')\n",
    "\n",
    "RAG.draw()"
   ]
  },
  {
   "cell_type": "code",
   "execution_count": null,
   "metadata": {},
   "outputs": [
    {
     "data": {
      "text/plain": [
       "{'role': 'assistant',\n",
       " 'content': 'The Golden Retriever is a friendly and intelligent breed known for its beautiful golden coat. They make excellent family pets and are particularly good with children, making them wonderful companions for families.',\n",
       " 'meta': {'input_tokens': 198, 'output_tokens': 42}}"
      ]
     },
     "execution_count": null,
     "metadata": {},
     "output_type": "execute_result"
    }
   ],
   "source": [
    "# run the diagram\n",
    "diagram = RAG()\n",
    "\n",
    "diagram_input = {\n",
    "    'query':'tell me some stuff about golden retrievers',\n",
    "    'collection_name':'dog_docs',\n",
    "    'k':2\n",
    "}\n",
    "\n",
    "for trace in diagram.run(diagram_input):\n",
    "    # you can write any logging,tracing logic here\n",
    "    trace.pprint(file='log_file.txt')\n",
    "    pass\n",
    "\n",
    "# after running, access the output \n",
    "diagram.output"
   ]
  },
  {
   "cell_type": "code",
   "execution_count": null,
   "metadata": {},
   "outputs": [
    {
     "name": "stdout",
     "output_type": "stream",
     "text": [
      "Node Start:\n",
      "{ 'input': { 'collection_name': 'dog_docs',\n",
      "             'k': 2,\n",
      "             'q': 'tell me some stuff about golden retrievers'},\n",
      "  'output': { 'collection_name': 'dog_docs',\n",
      "              'k': 2,\n",
      "              'q': 'tell me some stuff about golden retrievers'}}\n",
      "================================================================================\n",
      "Node Start:\n",
      "{ 'input': { 'collection_name': 'dog_docs',\n",
      "             'k': 2,\n",
      "             'query': 'tell me some stuff about golden retrievers'},\n",
      "  'output': { 'collection_name': 'dog_docs',\n",
      "              'k': 2,\n",
      "              'query': 'tell me some stuff about golden retrievers'}}\n",
      "================================================================================\n",
      "Node get_docs:\n",
      "{ 'input': { 'collection_name': 'dog_docs',\n",
      "             'k': 2,\n",
      "             'query': 'tell me some stuff about golden retrievers'},\n",
      "  'output': [ { 'distance': 0.6993070840835571,\n",
      "                'id': 'dog3',\n",
      "                'metadata': {'breed': 'Golden Retriever'},\n",
      "                'text': 'The Golden Retriever is a friendly, intelligent breed '\n",
      "                        'with a beautiful golden coat. They are wonderful '\n",
      "                        'family pets that get along well with kids.'},\n",
      "              { 'distance': 0.7122190594673157,\n",
      "                'id': 'dog1',\n",
      "                'metadata': {'breed': 'Golden Retriever'},\n",
      "                'text': 'The Golden Retriever is a friendly, intelligent breed '\n",
      "                        'known for its golden coat. They make excellent family '\n",
      "                        'pets and are great with children.'}]}\n",
      "================================================================================\n",
      "Node chat:\n",
      "{ 'input': { 'docs': [ { 'distance': 0.6993070840835571,\n",
      "                         'id': 'dog3',\n",
      "                         'metadata': {'breed': 'Golden Retriever'},\n",
      "                         'text': 'The Golden Retriever is a friendly, '\n",
      "                                 'intelligent breed with a beautiful golden '\n",
      "                                 'coat. They are wonderful family pets that '\n",
      "                                 'get along well with kids.'},\n",
      "                       { 'distance': 0.7122190594673157,\n",
      "                         'id': 'dog1',\n",
      "                         'metadata': {'breed': 'Golden Retriever'},\n",
      "                         'text': 'The Golden Retriever is a friendly, '\n",
      "                                 'intelligent breed known for its golden coat. '\n",
      "                                 'They make excellent family pets and are '\n",
      "                                 'great with children.'}],\n",
      "             'question': 'tell me some stuff about golden retrievers'},\n",
      "  'output': { 'content': 'The Golden Retriever is a friendly and intelligent '\n",
      "                         'breed known for its beautiful golden coat. They make '\n",
      "                         'excellent family pets and are particularly good with '\n",
      "                         'children, making them wonderful companions for '\n",
      "                         'families.',\n",
      "              'meta': {'input_tokens': 198, 'output_tokens': 42},\n",
      "              'role': 'assistant'}}\n",
      "================================================================================\n",
      "Node End:\n",
      "{ 'input': { 0: { 'content': 'The Golden Retriever is a friendly and '\n",
      "                             'intelligent breed known for its beautiful golden '\n",
      "                             'coat. They make excellent family pets and are '\n",
      "                             'particularly good with children, making them '\n",
      "                             'wonderful companions for families.',\n",
      "                  'meta': {'input_tokens': 198, 'output_tokens': 42},\n",
      "                  'role': 'assistant'}},\n",
      "  'output': { 'content': 'The Golden Retriever is a friendly and intelligent '\n",
      "                         'breed known for its beautiful golden coat. They make '\n",
      "                         'excellent family pets and are particularly good with '\n",
      "                         'children, making them wonderful companions for '\n",
      "                         'families.',\n",
      "              'meta': {'input_tokens': 198, 'output_tokens': 42},\n",
      "              'role': 'assistant'}}\n",
      "================================================================================\n"
     ]
    }
   ],
   "source": [
    "! cat log_file.txt\n",
    "! rm log_file.txt"
   ]
  },
  {
   "cell_type": "markdown",
   "metadata": {},
   "source": [
    "## Reporting Bugs"
   ]
  },
  {
   "cell_type": "markdown",
   "metadata": {},
   "source": [
    "Found bugs? Missing features?\n",
    "Feel free to [open an issue](https://github.com/DeanLight/stringdale/issues)"
   ]
  },
  {
   "cell_type": "markdown",
   "metadata": {},
   "source": [
    "## Contributing"
   ]
  },
  {
   "cell_type": "markdown",
   "metadata": {},
   "source": [
    "Want to contribute to stringdale? Great!\n",
    "Feel free to submit a PR or discuss a feature you would like to add in the Issues.\n",
    "\n",
    "To get a working development environment:"
   ]
  },
  {
   "cell_type": "markdown",
   "metadata": {},
   "source": [
    "```bash\n",
    "# clone the repo\n",
    "git clone https://github.com/DeanLight/stringdale.git    \n",
    "cd stringdale\n",
    "\n",
    "# install stringdale in editable dev mode\n",
    "pip install -e \".[dev]\"\n",
    "\n",
    "# run pre-commit to install commit hooks\n",
    "pre-commit install\n",
    "\n",
    "```\n",
    "`stringdale` is developed using [nbdev](https://nbdev.fast.ai/)\n",
    "\n",
    "```bash\n",
    "# Make changes under nbs/ directory\n",
    "# ...\n",
    "\n",
    "# clean and export notebooks into a python library\n",
    "nbdev_clean && nbdev_export\n",
    "\n",
    "# make sure tests pass\n",
    "nbdev_test\n",
    "\n",
    "# Changing the docs? make sure that they are rendering correctly\n",
    "nbdev_docs\n",
    "```"
   ]
  }
 ],
 "metadata": {
  "kernelspec": {
   "display_name": "python3",
   "language": "python",
   "name": "python3"
  }
 },
 "nbformat": 4,
 "nbformat_minor": 4
}

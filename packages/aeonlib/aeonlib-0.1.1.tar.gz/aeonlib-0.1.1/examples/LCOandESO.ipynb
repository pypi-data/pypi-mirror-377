{
 "cells": [
  {
   "cell_type": "markdown",
   "id": "1ba00dd6-286d-4b58-ab9c-2e53f3da8f45",
   "metadata": {},
   "source": [
    "# Common Target and Window\n",
    "\n",
    "This example demonstrates creating a Target and Window object and using them to submit observationst to both LCO and ESO faciltiies."
   ]
  },
  {
   "cell_type": "code",
   "execution_count": 1,
   "id": "cd728845-278c-41aa-be31-eabc42488701",
   "metadata": {},
   "outputs": [],
   "source": [
    "from datetime import datetime, timedelta"
   ]
  },
  {
   "cell_type": "markdown",
   "id": "5a81be9e-4634-40a4-9ac4-88ec26dfde2a",
   "metadata": {},
   "source": [
    "## Create Python objects for common data\n",
    "We define out Window and Target objects here. Note that in an automated pipeline, these objects may be created as the result of, for example, a transiet alert. We define them statically here for demonstration purposes."
   ]
  },
  {
   "cell_type": "code",
   "execution_count": 2,
   "id": "342d2f8e-bbca-4e7d-94c2-1256af5a583a",
   "metadata": {},
   "outputs": [],
   "source": [
    "from aeonlib.models import SiderealTarget, Window"
   ]
  },
  {
   "cell_type": "code",
   "execution_count": 3,
   "id": "81de45cb-3368-46fb-9084-f03936f67179",
   "metadata": {},
   "outputs": [
    {
     "name": "stdout",
     "output_type": "stream",
     "text": [
      "5h05m38s -69d05m42s\n"
     ]
    }
   ],
   "source": [
    "# Create a SiderealTarget - note the format of ra/dec can be any format that Astropy.Angle accepts\n",
    "target = SiderealTarget(name=\"Tarantula Nebula\", type=\"ICRS\", ra=\"05h05m38.0s\", dec=\"−69° 05.7′\")\n",
    "print(target.ra, target.dec)"
   ]
  },
  {
   "cell_type": "code",
   "execution_count": 4,
   "id": "79207ed0-f5dc-4314-9ecf-c5fefe482930",
   "metadata": {},
   "outputs": [
    {
     "name": "stdout",
     "output_type": "stream",
     "text": [
      "2025-05-09 10:16:25.048754 2025-06-07 10:16:25.048761\n"
     ]
    }
   ],
   "source": [
    "# Window bounds can be specified as datetimes or Astropy.time.Time objects\n",
    "window = Window(start=datetime.now() + timedelta(days=1), end=datetime.now() + timedelta(days=30))\n",
    "print(window.start, window.end)"
   ]
  },
  {
   "cell_type": "markdown",
   "id": "08abb84f-2c22-45e5-a219-f1cbcda9b637",
   "metadata": {},
   "source": [
    "## Initialize the LCO Facility and create a Request Group\n",
    "The LCO facility is one of many facilities available in Aeonlib. Here we demonstrate creating a request to the LCO facility and submitting it. This test is done using test credentials. See the README for instructions on configuring each facility."
   ]
  },
  {
   "cell_type": "code",
   "execution_count": 5,
   "id": "0419a71f-49eb-4890-9e1c-b49c9ca307d3",
   "metadata": {},
   "outputs": [],
   "source": [
    "# We first import the OCS request models\n",
    "from aeonlib.ocs import Constraints, Location, Request, RequestGroup\n",
    "\n",
    "# Then we import the LCO instrument we are interested in\n",
    "from aeonlib.ocs.lco.instruments import Lco1M0ScicamSinistro"
   ]
  },
  {
   "cell_type": "code",
   "execution_count": 6,
   "id": "d1edb5ae-98f3-4f08-9464-6eaf5f9f7158",
   "metadata": {},
   "outputs": [],
   "source": [
    "lco_request = RequestGroup(\n",
    "    name=\"test\",\n",
    "    observation_type=\"NORMAL\",\n",
    "    operator=\"SINGLE\",\n",
    "    proposal=\"TEST_PROPOSAL\",\n",
    "    ipp_value=1.0,\n",
    "    requests=[\n",
    "        Request(\n",
    "            location=Location(telescope_class=\"1m0\"),\n",
    "            configurations=[\n",
    "                Lco1M0ScicamSinistro(\n",
    "                    type=\"EXPOSE\",\n",
    "                    target=target,  # Our target defined at the top of the file\n",
    "                    constraints=Constraints(),\n",
    "                    instrument_configs=[\n",
    "                        Lco1M0ScicamSinistro.config_class(\n",
    "                            exposure_count=1,\n",
    "                            exposure_time=10,\n",
    "                            mode=\"central_2k_2x2\",\n",
    "                            optical_elements=Lco1M0ScicamSinistro.optical_elements_class(\n",
    "                                filter=\"B\"\n",
    "                            ),\n",
    "                        )\n",
    "                    ],\n",
    "                    acquisition_config=Lco1M0ScicamSinistro.acquisition_config_class(\n",
    "                        mode=\"OFF\"\n",
    "                    ),\n",
    "                    guiding_config=Lco1M0ScicamSinistro.guiding_config_class(\n",
    "                        mode=\"ON\", optional=True\n",
    "                    ),\n",
    "                )\n",
    "            ],\n",
    "            windows=[window],  # Our window defined at the top of the file\n",
    "        )\n",
    "    ],\n",
    ")"
   ]
  },
  {
   "cell_type": "code",
   "execution_count": 7,
   "id": "a065f4fb-d99d-4d43-990d-07b25156a90e",
   "metadata": {},
   "outputs": [],
   "source": [
    "# Import the LCO Facility and create the facility Object\n",
    "from aeonlib.ocs.lco.facility import LcoFacility\n",
    "\n",
    "lco = LcoFacility()"
   ]
  },
  {
   "cell_type": "code",
   "execution_count": 8,
   "id": "11607250-832e-49cb-b8a0-423f5cdfd1fc",
   "metadata": {},
   "outputs": [
    {
     "name": "stdout",
     "output_type": "stream",
     "text": [
      "Request Valid: True\n"
     ]
    }
   ],
   "source": [
    "# Validate the request group\n",
    "valid, errors = lco.validate_request_group(lco_request)\n",
    "if not valid:\n",
    "    print(\"Online validation failed. Server response: %s\", errors)\n",
    "print(\"Request Valid:\", valid)"
   ]
  },
  {
   "cell_type": "code",
   "execution_count": 9,
   "id": "891491ba-68ac-4483-a143-e79f9107994c",
   "metadata": {},
   "outputs": [
    {
     "name": "stdout",
     "output_type": "stream",
     "text": [
      "LCO request id: 54\n",
      "LCO request state: PENDING\n"
     ]
    }
   ],
   "source": [
    "# Now submit the request.\n",
    "# submit_request_group returns a RequestGroup object that will have state populated.\n",
    "lco_request = lco.submit_request_group(lco_request)\n",
    "print(f\"LCO request id: {lco_request.id}\")\n",
    "print(f\"LCO request state: {lco_request.state}\")"
   ]
  },
  {
   "cell_type": "markdown",
   "id": "3e4590da-2e66-4a1a-8278-289ef7168f79",
   "metadata": {},
   "source": [
    "## Create an ESO Observation Block and Validate\n",
    "Aeonlib provides an interface to the ESO phase 2 API and tool. ESO works differently than LCO, but we can still use the same Target and Windw objects (remember, in practice these will be dynamic values!) to observe with ESO. Note that ESO requires logging in to their Phase 2 tool online to do a final submission of the block."
   ]
  },
  {
   "cell_type": "code",
   "execution_count": 10,
   "id": "a407d638-82f2-4601-95bd-2b8f1bf23df5",
   "metadata": {},
   "outputs": [],
   "source": [
    "# Use the ESO tutorial container ID\n",
    "ESO_TUTORIAL_CONTAINER_ID = 1538878\n",
    "\n",
    "# Import the ESO facility and required models\n",
    "from aeonlib.eso.facility import EsoFacility\n",
    "from aeonlib.eso.models import AbsoluteTimeConstraint, AbsoluteTimeConstraints"
   ]
  },
  {
   "cell_type": "code",
   "execution_count": 11,
   "id": "9ab33cea-eb04-4763-b6d6-6f469d1401f9",
   "metadata": {},
   "outputs": [],
   "source": [
    "# Create the eso client and follow the phase 2 workflow:\n",
    "eso = EsoFacility()\n",
    "folder = eso.create_folder(ESO_TUTORIAL_CONTAINER_ID, \"AEONlib.notebook\")\n",
    "\n",
    "# Create an observation block\n",
    "ob = eso.create_ob(folder, \"AEONLIB.notebook.ob\")"
   ]
  },
  {
   "cell_type": "code",
   "execution_count": 12,
   "id": "144e5595-84f6-45e6-8863-a6ccc3d384cd",
   "metadata": {},
   "outputs": [
    {
     "name": "stdout",
     "output_type": "stream",
     "text": [
      "dec=np.str_('-69:05:42.000') differential_dec=0.0 differential_ra=0.0 epoch=2000 equinox='J2000' name='Tarantula Nebula' proper_motion_dec=0 proper_motion_ra=0 ra=np.str_('5:05:38.000')\n"
     ]
    }
   ],
   "source": [
    "# Populate the target fields using our target object\n",
    "ob.target.construct_from(target)  # Target we defined above\n",
    "print(ob.target)"
   ]
  },
  {
   "cell_type": "code",
   "execution_count": 13,
   "id": "3fb10881-49b7-4357-87de-dacd035ee0ea",
   "metadata": {},
   "outputs": [],
   "source": [
    "# Populate the rest of the block fields\n",
    "ob.constraints.name = \"My hardest constraints ever\"\n",
    "ob.constraints.airmass = 2.3\n",
    "ob.constraints.sky_transparency = \"Variable, thin cirrus\"\n",
    "ob.constraints.fli = 0.1\n",
    "ob.constraints.seeing = 2.0\n",
    "eso.save_ob(ob)\n",
    "\n",
    "# Add some instrument templates\n",
    "acq_template = eso.create_template(ob, \"UVES_blue_acq_slit\")\n",
    "sci_template = eso.create_template(ob, \"UVES_blue_obs_exp\")"
   ]
  },
  {
   "cell_type": "code",
   "execution_count": 14,
   "id": "568bdbd2-eee7-4c4c-838a-1ad9102174c1",
   "metadata": {},
   "outputs": [
    {
     "name": "stdout",
     "output_type": "stream",
     "text": [
      "airmass=2.3 fli=0.1 moon_distance=30 name='My hardest constraints ever' seeing=2.0 sky_transparency='Variable, thin cirrus' twilight=0 water_vapour=30.0\n"
     ]
    }
   ],
   "source": [
    "# Save time window, using our previously defined window\n",
    "time_constraints = AbsoluteTimeConstraints(\n",
    "    constraints=[AbsoluteTimeConstraint.construct_from(window)]\n",
    ")\n",
    "eso.save_absolute_time_constraints(ob, time_constraints)\n",
    "print(ob.constraints)"
   ]
  },
  {
   "cell_type": "code",
   "execution_count": 15,
   "id": "1c3fbe6b-549b-4130-8cbc-704bb81ca362",
   "metadata": {},
   "outputs": [
    {
     "name": "stdout",
     "output_type": "stream",
     "text": [
      "Errors: []\n",
      "Success: True\n",
      "Status: P\n"
     ]
    }
   ],
   "source": [
    "# Verify our observation block with ESO\n",
    "errors, success = eso.verify(ob, False)\n",
    "ob = eso.get_ob(ob.ob_id)\n",
    "print(f\"Errors: {errors}\")\n",
    "print(f\"Success: {success}\")\n",
    "print(f\"Status: {ob.ob_status}\")"
   ]
  },
  {
   "cell_type": "code",
   "execution_count": 16,
   "id": "9d21f04a-5435-47c3-b1c9-49dad4a2da4b",
   "metadata": {},
   "outputs": [],
   "source": [
    "# Clean up the example data.\n",
    "eso.delete_template(ob, acq_template)\n",
    "ob = eso.get_ob(ob.ob_id)\n",
    "eso.delete_template(ob, sci_template)\n",
    "ob = eso.get_ob(ob.ob_id)\n",
    "eso.delete_ob(ob)\n",
    "# Need to refresh the container\n",
    "folder = eso.get_container(folder.container_id)\n",
    "eso.delete_container(folder)\n",
    "\n",
    "# ESO blocks must be set for final approval using the ESO P2 tool."
   ]
  }
 ],
 "metadata": {
  "kernelspec": {
   "display_name": "Python 3 (ipykernel)",
   "language": "python",
   "name": "python3"
  },
  "language_info": {
   "codemirror_mode": {
    "name": "ipython",
    "version": 3
   },
   "file_extension": ".py",
   "mimetype": "text/x-python",
   "name": "python",
   "nbconvert_exporter": "python",
   "pygments_lexer": "ipython3",
   "version": "3.13.3"
  }
 },
 "nbformat": 4,
 "nbformat_minor": 5
}

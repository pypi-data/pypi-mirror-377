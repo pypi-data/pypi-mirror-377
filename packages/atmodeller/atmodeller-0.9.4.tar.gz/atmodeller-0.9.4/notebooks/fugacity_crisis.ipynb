{
 "cells": [
  {
   "cell_type": "code",
   "execution_count": null,
   "id": "2a40a2e5",
   "metadata": {},
   "outputs": [],
   "source": [
    "import logging\n",
    "\n",
    "import matplotlib.pyplot as plt\n",
    "import numpy as np\n",
    "import optimistix as optx\n",
    "\n",
    "from atmodeller import (\n",
    "    InteriorAtmosphere,\n",
    "    Planet,\n",
    "    SolverParameters,\n",
    "    Species,\n",
    "    SpeciesCollection,\n",
    "    debug_logger,\n",
    ")\n",
    "from atmodeller.eos import get_eos_models\n",
    "from atmodeller.solubility import get_solubility_models\n",
    "\n",
    "logger = debug_logger()\n",
    "logger.setLevel(logging.INFO)\n",
    "# For more output use DEBUG\n",
    "# logger.setLevel(logging.DEBUG)"
   ]
  },
  {
   "cell_type": "markdown",
   "id": "b789454d",
   "metadata": {},
   "source": [
    "# Fugacity crisis from Kite et al. (2019)"
   ]
  },
  {
   "cell_type": "markdown",
   "id": "176b1f70",
   "metadata": {},
   "source": [
    "The fugacity crisis arises due to the enhanced solubility of H2 at high pressure and temperature due to its fugacity increase that is driven by its non-ideal behaviour."
   ]
  },
  {
   "cell_type": "code",
   "execution_count": null,
   "id": "47767c0c",
   "metadata": {},
   "outputs": [],
   "source": [
    "surface_temperature = 3000.0  # K\n",
    "\n",
    "eos_models = get_eos_models()\n",
    "solubility_models = get_solubility_models()\n",
    "\n",
    "H2_g = Species.create_gas(\n",
    "    \"H2\",\n",
    "    solubility=solubility_models[\"H2_kite19\"],\n",
    "    activity=eos_models[\"H2_chabrier21\"],\n",
    ")\n",
    "\n",
    "species = SpeciesCollection((H2_g,))\n",
    "model = InteriorAtmosphere(species)\n",
    "\n",
    "# Kite uses a 4 Earth mass planet for Figure 2 in Kite et al. (2019)\n",
    "scale_earth: float = 4\n",
    "planet: Planet = Planet(\n",
    "    planet_mass=5.972e24 * scale_earth,\n",
    "    core_mass_fraction=0.333,\n",
    "    surface_temperature=surface_temperature,\n",
    ")"
   ]
  },
  {
   "cell_type": "code",
   "execution_count": null,
   "id": "45a1e6f8",
   "metadata": {},
   "outputs": [],
   "source": [
    "# Volatile mass fraction relative to the total mass of the rocky part of the planet\n",
    "zeta_v = 10 ** np.linspace(-3, -0.6, 100)\n",
    "mass_hydrogen = planet.planet_mass * zeta_v\n",
    "\n",
    "solver_parameters = SolverParameters(solver=optx.LevenbergMarquardt)\n",
    "model.solve(\n",
    "    planet=planet,\n",
    "    mass_constraints={\"H\": mass_hydrogen},\n",
    "    solver_parameters=solver_parameters,\n",
    "    initial_log_number_density=66.0,\n",
    ")\n",
    "\n",
    "# Get and process the output\n",
    "output = model.output\n",
    "output_df = output.to_dataframes()\n",
    "\n",
    "volatile_mass_added = zeta_v * 100\n",
    "pressure = output_df[\"atmosphere\"][\"pressure\"]\n",
    "pressure_GPa = pressure * 1e-4\n",
    "fugacity_coefficient = output_df[\"H2_g\"][\"fugacity_coefficient\"]\n",
    "dissolved_ppmw = output_df[\"H2_g\"][\"dissolved_ppmw\"]\n",
    "dissolved_wtp = dissolved_ppmw * 1e-4  # wt.%\n",
    "atmosphere_mass = output_df[\"H2_g\"][\"atmosphere_mass\"]"
   ]
  },
  {
   "cell_type": "code",
   "execution_count": null,
   "id": "b736d2e2",
   "metadata": {},
   "outputs": [],
   "source": [
    "fig, axes = plt.subplots(2, 2, figsize=(10, 8))\n",
    "\n",
    "ax = axes[0, 0]\n",
    "ax.plot(volatile_mass_added, pressure)\n",
    "ax.set_yscale(\"log\")\n",
    "ax.set_xlabel(r\"Total volatile mass added (wt.% of core mass)\")\n",
    "ax.set_ylabel(\"Pressure (bar)\")\n",
    "\n",
    "ax = axes[1, 0]\n",
    "ax.plot(pressure_GPa, fugacity_coefficient)\n",
    "ax.set_yscale(\"log\")\n",
    "ax.set_xlabel(\"Pressure (GPa)\")\n",
    "ax.set_ylabel(\"Fugacity coefficient\")\n",
    "\n",
    "ax = axes[1, 1]\n",
    "# Plot solubility as wt.%\n",
    "ax.plot(volatile_mass_added, dissolved_wtp)\n",
    "ax.set_xlabel(r\"Total volatile mass added (wt.% of core mass)\")\n",
    "ax.set_ylabel(\"Solubility (wt.%)\")\n",
    "\n",
    "ax = axes[0, 1]\n",
    "y = atmosphere_mass / planet.planet_mass * 100  # type: ignore\n",
    "ax.plot(volatile_mass_added, y)\n",
    "ax.set_xlabel(r\"Total volatile mass added (wt.% of core mass)\")\n",
    "ax.set_ylabel(r\"Volatile in envelope (wt.% of core mass)\")\n",
    "\n",
    "fig.suptitle(\"Exploring the Kite et al. (2019) fugacity crisis\")\n",
    "\n",
    "plt.show()"
   ]
  }
 ],
 "metadata": {
  "kernelspec": {
   "display_name": ".venv",
   "language": "python",
   "name": "python3"
  },
  "language_info": {
   "codemirror_mode": {
    "name": "ipython",
    "version": 3
   },
   "file_extension": ".py",
   "mimetype": "text/x-python",
   "name": "python",
   "nbconvert_exporter": "python",
   "pygments_lexer": "ipython3",
   "version": "3.10.13"
  }
 },
 "nbformat": 4,
 "nbformat_minor": 5
}

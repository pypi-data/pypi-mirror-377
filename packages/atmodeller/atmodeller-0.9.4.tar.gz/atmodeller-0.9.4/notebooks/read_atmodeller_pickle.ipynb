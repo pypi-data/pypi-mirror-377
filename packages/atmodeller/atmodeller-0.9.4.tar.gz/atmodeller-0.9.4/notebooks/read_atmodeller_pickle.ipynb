{
 "cells": [
  {
   "cell_type": "code",
   "execution_count": null,
   "id": "003ed45f",
   "metadata": {},
   "outputs": [],
   "source": [
    "import pickle\n",
    "from pathlib import Path\n",
    "\n",
    "import pandas as pd"
   ]
  },
  {
   "cell_type": "markdown",
   "id": "810b2d93",
   "metadata": {},
   "source": [
    "# Reading the atmodeller output (pickle) file"
   ]
  },
  {
   "cell_type": "code",
   "execution_count": null,
   "id": "323836de",
   "metadata": {},
   "outputs": [],
   "source": [
    "def read_from_pickle(file_path: Path | str) -> dict[str, pd.DataFrame]:\n",
    "    \"\"\"Reads Atmodeller output from a pickle file\n",
    "\n",
    "    See also:\n",
    "        https://docs.python.org/3/library/pickle.html\n",
    "\n",
    "    Args:\n",
    "        file_path: A pickle file to read\n",
    "\n",
    "    Returns:\n",
    "        A dictionary of Atmodeller output data\n",
    "    \"\"\"\n",
    "    with open(file_path, \"rb\") as handle:\n",
    "        atmodeller_data: dict[str, pd.DataFrame] = pickle.load(handle)\n",
    "\n",
    "    return atmodeller_data"
   ]
  },
  {
   "cell_type": "markdown",
   "id": "d8d377c4",
   "metadata": {},
   "source": [
    "Update to the location of the pickle file you want to read. The example file below is generated when you run the trappist.ipynb notebook in this directory."
   ]
  },
  {
   "cell_type": "code",
   "execution_count": null,
   "id": "9abf92c7",
   "metadata": {},
   "outputs": [],
   "source": [
    "file_path = \"t1e_280K.pkl\"\n",
    "data: dict[str, pd.DataFrame] = read_from_pickle(file_path)"
   ]
  },
  {
   "cell_type": "markdown",
   "id": "95e28c31",
   "metadata": {},
   "source": [
    "Get some basic properties of the output data"
   ]
  },
  {
   "cell_type": "code",
   "execution_count": null,
   "id": "4976f47e",
   "metadata": {},
   "outputs": [],
   "source": [
    "# Get available dataframe names\n",
    "print(\"Available data = \", data.keys())\n",
    "\n",
    "# Get data for a species. Gas species are _g, liquid species _l, and condensed species _cr\n",
    "# following the JANAF naming convention. Rows are each a unique simulation and columns are all the\n",
    "# outputs (mass, moles, number density, pressure, etc.)\n",
    "print(\"Columns in dataframe = \", data[\"CO2_g\"].columns)"
   ]
  },
  {
   "cell_type": "markdown",
   "id": "4aa0fa5c",
   "metadata": {},
   "source": [
    "Now we can get some outputs and perform some post-processing."
   ]
  },
  {
   "cell_type": "code",
   "execution_count": null,
   "id": "5dce976f",
   "metadata": {},
   "outputs": [],
   "source": [
    "# Do some basic stats\n",
    "CO2_g_pressure = data[\"CO2_g\"][\"pressure\"]\n",
    "print(\"Mean CO2_g pressure = \", CO2_g_pressure.median())\n",
    "\n",
    "# Let's look at how much liquid water we have\n",
    "H2O_l_mass = data[\"H2O_l\"][\"total_mass\"]\n",
    "print(\"Mean H2O_l mass = \", H2O_l_mass.median())\n",
    "\n",
    "# Let's find all models with at least 0.2 Earth oceans of water\n",
    "OCEAN_MASS_H2O = 1.3851863627795307e21\n",
    "mask = H2O_l_mass >= OCEAN_MASS_H2O * 0.2\n",
    "\n",
    "H2O_data_1EO = data[\"H2O_l\"][mask]\n",
    "num_models = len(H2O_data_1EO)\n",
    "total_models = len(data[\"H2O_l\"])\n",
    "percent_models = num_models / total_models * 100\n",
    "print(f\"{num_models} ({percent_models}%) models have more than 0.2 Earth oceans of water\")\n",
    "\n",
    "# Let's get some element totals\n",
    "C_element_total_mass = data[\"element_C\"][\"total_mass\"]\n",
    "print(\"C total mass = \", C_element_total_mass)"
   ]
  },
  {
   "cell_type": "code",
   "execution_count": null,
   "id": "ca996466",
   "metadata": {},
   "outputs": [],
   "source": [
    "# Remember that dictionary entries are dataframes\n",
    "\n",
    "element_C = data[\"element_C\"]\n",
    "print(\"type(element_C) = \", type(element_C))\n",
    "\n",
    "# Which means columns are series\n",
    "\n",
    "C_element_total_mass = data[\"element_C\"][\"total_mass\"]\n",
    "print(\"type(C_element_total_mass)C = \", type(C_element_total_mass))"
   ]
  }
 ],
 "metadata": {
  "kernelspec": {
   "display_name": ".venv",
   "language": "python",
   "name": "python3"
  },
  "language_info": {
   "codemirror_mode": {
    "name": "ipython",
    "version": 3
   },
   "file_extension": ".py",
   "mimetype": "text/x-python",
   "name": "python",
   "nbconvert_exporter": "python",
   "pygments_lexer": "ipython3",
   "version": "3.10.13"
  }
 },
 "nbformat": 4,
 "nbformat_minor": 5
}

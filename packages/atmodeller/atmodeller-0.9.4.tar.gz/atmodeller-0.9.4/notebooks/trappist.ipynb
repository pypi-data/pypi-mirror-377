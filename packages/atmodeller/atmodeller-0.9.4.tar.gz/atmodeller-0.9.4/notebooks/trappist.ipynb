{
 "cells": [
  {
   "cell_type": "code",
   "execution_count": null,
   "metadata": {},
   "outputs": [],
   "source": [
    "import copy\n",
    "import logging\n",
    "\n",
    "import numpy as np\n",
    "\n",
    "from atmodeller import (\n",
    "    InteriorAtmosphere,\n",
    "    Planet,\n",
    "    Species,\n",
    "    SpeciesCollection,\n",
    "    bulk_silicate_earth_abundances,\n",
    "    debug_logger,\n",
    "    earth_oceans_to_hydrogen_mass,\n",
    ")\n",
    "from atmodeller.solubility import get_solubility_models\n",
    "from atmodeller.thermodata import IronWustiteBuffer\n",
    "\n",
    "logger = debug_logger()\n",
    "logger.setLevel(logging.INFO)\n",
    "# For more output use DEBUG\n",
    "logger.setLevel(logging.DEBUG)"
   ]
  },
  {
   "cell_type": "markdown",
   "metadata": {},
   "source": [
    "# Trappist 1-e models from Bower et al. (2025)"
   ]
  },
  {
   "cell_type": "markdown",
   "metadata": {},
   "source": [
    "Parameters for the simulations"
   ]
  },
  {
   "cell_type": "code",
   "execution_count": null,
   "metadata": {},
   "outputs": [],
   "source": [
    "# In the paper we perform 10,000 simulations\n",
    "# number_of_realisations = 10000\n",
    "number_of_realisations = 100\n",
    "magma_ocean_temperature = 1800\n",
    "# In the paper we perform simulations at 0.1 and 1.0 melt fraction\n",
    "mantle_melt_fraction = 1.0\n",
    "\n",
    "# Venus-like surface temperature\n",
    "hot_surface_temperature = 740\n",
    "\n",
    "# Corresponds to the highest temperature at which all condensates can form\n",
    "medium_surface_temperature = 380\n",
    "\n",
    "# Corresponds to the equilibrium temperature of Trappist-1e\n",
    "cold_surface_temperature = 280\n",
    "\n",
    "# For no particular reason, use 24 as the random seed\n",
    "RANDOM_SEED = 24\n",
    "WRITE_OUTPUT = True\n",
    "\n",
    "# These are just to know at which temperatures condensates are stable\n",
    "# Temperature must be equal to or less than these values for water condensation and sulfur\n",
    "# freezing to be applicable.\n",
    "# water_condensation = 600.0  # First thermo data for H2O(l)\n",
    "# sulfur_freezing = 380.0  # 388.36  # First thermo data for S(cr)\n",
    "\n",
    "# For naming output data\n",
    "magma_ocean_temp_str: str = f\"{magma_ocean_temperature:0.0f}\"\n",
    "hot_temp_str: str = f\"{hot_surface_temperature:0.0f}\"\n",
    "medium_temp_str: str = f\"{medium_surface_temperature:0.0f}\"\n",
    "cold_temp_str: str = f\"{cold_surface_temperature:0.0f}\""
   ]
  },
  {
   "cell_type": "markdown",
   "metadata": {},
   "source": [
    "## High temperature atmospheric diversity (gas + C_cr)"
   ]
  },
  {
   "cell_type": "markdown",
   "metadata": {},
   "source": [
    "Parameter space to probe. Generate once to ensure the same values are used across the high temperature models allowing direct comparison."
   ]
  },
  {
   "cell_type": "code",
   "execution_count": null,
   "metadata": {},
   "outputs": [],
   "source": [
    "np.random.seed(RANDOM_SEED)\n",
    "log10_number_oceans = np.random.uniform(-1, 1, number_of_realisations)\n",
    "log10_ch_ratios = np.random.uniform(-1, 1, number_of_realisations)\n",
    "fO2_log10_shifts = np.random.uniform(-5, 5, number_of_realisations)\n",
    "\n",
    "h_kg = earth_oceans_to_hydrogen_mass(10**log10_number_oceans)\n",
    "c_kg = h_kg * 10**log10_ch_ratios\n",
    "\n",
    "trappist1e_mantle_mass = 2.912e24\n",
    "trappist1e_planet_mass = trappist1e_mantle_mass / (1 - 0.295334691460966)\n",
    "trappist1e_surface_radius = 5.861e6\n",
    "\n",
    "fugacity_constraints = {\"O2_g\": IronWustiteBuffer(fO2_log10_shifts)}"
   ]
  },
  {
   "cell_type": "markdown",
   "metadata": {},
   "source": [
    "Species that we need"
   ]
  },
  {
   "cell_type": "code",
   "execution_count": null,
   "metadata": {},
   "outputs": [],
   "source": [
    "H2O_g = Species.create_gas(\"H2O\")\n",
    "H2_g = Species.create_gas(\"H2\")\n",
    "O2_g = Species.create_gas(\"O2\")\n",
    "CO_g = Species.create_gas(\"CO\")\n",
    "CO2_g = Species.create_gas(\"CO2\")\n",
    "CH4_g = Species.create_gas(\"CH4\")\n",
    "N2_g = Species.create_gas(\"N2\")\n",
    "H3N_g = Species.create_gas(\"H3N\")\n",
    "S2_g = Species.create_gas(\"S2\")\n",
    "H2S_g = Species.create_gas(\"H2S\")\n",
    "O2S_g = Species.create_gas(\"O2S\")\n",
    "OS_g = Species.create_gas(\"OS\")\n",
    "Cl2_g = Species.create_gas(\"Cl2\")\n",
    "ClH_g = Species.create_gas(\"ClH\")\n",
    "# Graphite can also be present in high temperature atmospheres\n",
    "C_cr = Species.create_condensed(\"C\")\n",
    "# Condensates below are used for cooler atmospheres\n",
    "H2O_l = Species.create_condensed(\"H2O\", state=\"l\")\n",
    "S_cr = Species.create_condensed(\"S\")\n",
    "ClH4N_cr = Species.create_condensed(\"ClH4N\")"
   ]
  },
  {
   "cell_type": "markdown",
   "metadata": {},
   "source": [
    "Species to consider, where solubility is not included"
   ]
  },
  {
   "cell_type": "code",
   "execution_count": null,
   "metadata": {},
   "outputs": [],
   "source": [
    "species_nosol = SpeciesCollection(\n",
    "    (\n",
    "        H2_g,\n",
    "        H2O_g,\n",
    "        O2_g,\n",
    "        CO_g,\n",
    "        CO2_g,\n",
    "        CH4_g,\n",
    "        N2_g,\n",
    "        H3N_g,\n",
    "        S2_g,\n",
    "        H2S_g,\n",
    "        O2S_g,\n",
    "        OS_g,\n",
    "        Cl2_g,\n",
    "        ClH_g,\n",
    "        C_cr,\n",
    "    )\n",
    ")"
   ]
  },
  {
   "cell_type": "markdown",
   "metadata": {},
   "source": [
    "TRAPPIST-1e planet properties\n",
    "\n",
    "Mass and radius measurements from Agol et al. 2021; Mantle mass determined assuming same proportion as Earth"
   ]
  },
  {
   "cell_type": "code",
   "execution_count": null,
   "metadata": {},
   "outputs": [],
   "source": [
    "trappist1e_magma_ocean = Planet(\n",
    "    surface_temperature=magma_ocean_temperature,\n",
    "    planet_mass=trappist1e_planet_mass,\n",
    "    surface_radius=trappist1e_surface_radius,\n",
    "    mantle_melt_fraction=mantle_melt_fraction,\n",
    ")"
   ]
  },
  {
   "cell_type": "markdown",
   "metadata": {},
   "source": [
    "Earth planet properties, which are required to scale the bulk volatile inventories for Trappist-1e. Default parameters are Earth so we only need to specify the temperature."
   ]
  },
  {
   "cell_type": "code",
   "execution_count": null,
   "metadata": {},
   "outputs": [],
   "source": [
    "earth = Planet(surface_temperature=magma_ocean_temperature)"
   ]
  },
  {
   "cell_type": "code",
   "execution_count": null,
   "metadata": {},
   "outputs": [],
   "source": [
    "earth_bse = bulk_silicate_earth_abundances()"
   ]
  },
  {
   "cell_type": "markdown",
   "metadata": {},
   "source": [
    "Compute the reservoir sizes for TRAPPIST 1-e, assuming the same ppmw as Earth:"
   ]
  },
  {
   "cell_type": "code",
   "execution_count": null,
   "metadata": {},
   "outputs": [],
   "source": [
    "trappist1e_bse = copy.deepcopy(earth_bse)\n",
    "mass_scale_factor = trappist1e_magma_ocean.mantle_mass / earth.mantle_mass\n",
    "\n",
    "for element, values in trappist1e_bse.items():\n",
    "    trappist1e_bse[element] = {key: value * mass_scale_factor for key, value in values.items()}  # type: ignore\n",
    "\n",
    "trappist1e_bse"
   ]
  },
  {
   "cell_type": "code",
   "execution_count": null,
   "metadata": {},
   "outputs": [],
   "source": [
    "interior_atmosphere_nosol = InteriorAtmosphere(species_nosol)\n",
    "\n",
    "mass_constraints = {\n",
    "    \"H\": h_kg,\n",
    "    \"C\": c_kg,\n",
    "    \"N\": trappist1e_bse[\"N\"][\"mean\"],\n",
    "    \"S\": trappist1e_bse[\"S\"][\"mean\"],\n",
    "    \"Cl\": trappist1e_bse[\"Cl\"][\"mean\"],\n",
    "}\n",
    "\n",
    "interior_atmosphere_nosol.solve(\n",
    "    planet=trappist1e_magma_ocean,\n",
    "    mass_constraints=mass_constraints,\n",
    "    fugacity_constraints=fugacity_constraints,\n",
    ")\n",
    "output_nosol = interior_atmosphere_nosol.output\n",
    "\n",
    "# Quick look at the solution\n",
    "# solution_nosol = output_nosol.quick_look()\n",
    "\n",
    "# Get complete solution as a dictionary\n",
    "# solution_nosol asdict = output_nosol.asdict()\n",
    "# logger.info(solution_nosol_asdict)\n",
    "\n",
    "if WRITE_OUTPUT:\n",
    "    # Write the complete solution to Excel\n",
    "    output_nosol.to_excel(f\"t1e_{magma_ocean_temp_str}K_no_solubility\")\n",
    "\n",
    "    # Write the data to a pickle file with dataframes\n",
    "    output_nosol.to_pickle(f\"t1e_{magma_ocean_temp_str}K_no_solubility\")"
   ]
  },
  {
   "cell_type": "markdown",
   "metadata": {},
   "source": [
    "Cases with solubility"
   ]
  },
  {
   "cell_type": "code",
   "execution_count": null,
   "metadata": {},
   "outputs": [],
   "source": [
    "solubility_models = get_solubility_models()"
   ]
  },
  {
   "cell_type": "code",
   "execution_count": null,
   "metadata": {},
   "outputs": [],
   "source": [
    "H2O_g = Species.create_gas(\"H2O\", solubility=solubility_models[\"H2O_basalt_dixon95\"])\n",
    "H2_g = Species.create_gas(\"H2\", solubility=solubility_models[\"H2_basalt_hirschmann12\"])\n",
    "O2_g = Species.create_gas(\"O2\")\n",
    "CO_g = Species.create_gas(\"CO\", solubility=solubility_models[\"CO_basalt_yoshioka19\"])\n",
    "CO2_g = Species.create_gas(\"CO2\", solubility=solubility_models[\"CO2_basalt_dixon95\"])\n",
    "CH4_g = Species.create_gas(\"CH4\", solubility=solubility_models[\"CH4_basalt_ardia13\"])\n",
    "N2_g = Species.create_gas(\"N2\", solubility=solubility_models[\"N2_basalt_libourel03\"])\n",
    "H3N_g = Species.create_gas(\"H3N\")\n",
    "S2_g = Species.create_gas(\"S2\", solubility=solubility_models[\"S2_basalt_boulliung23\"])\n",
    "H2S_g = Species.create_gas(\"H2S\")\n",
    "O2S_g = Species.create_gas(\"O2S\")\n",
    "OS_g = Species.create_gas(\"OS\")\n",
    "Cl2_g = Species.create_gas(\"Cl2\", solubility=solubility_models[\"Cl2_basalt_thomas21\"])\n",
    "ClH_g = Species.create_gas(\"ClH\")\n",
    "C_cr = Species.create_condensed(\"C\")\n",
    "\n",
    "species_withsol = SpeciesCollection(\n",
    "    (\n",
    "        H2_g,\n",
    "        H2O_g,\n",
    "        O2_g,\n",
    "        CO_g,\n",
    "        CO2_g,\n",
    "        CH4_g,\n",
    "        N2_g,\n",
    "        H3N_g,\n",
    "        S2_g,\n",
    "        H2S_g,\n",
    "        O2S_g,\n",
    "        OS_g,\n",
    "        Cl2_g,\n",
    "        ClH_g,\n",
    "        C_cr,\n",
    "    )\n",
    ")"
   ]
  },
  {
   "cell_type": "code",
   "execution_count": null,
   "metadata": {},
   "outputs": [],
   "source": [
    "interior_atmosphere_withsol = InteriorAtmosphere(species_withsol)\n",
    "\n",
    "mass_constraints = {\n",
    "    \"H\": h_kg,\n",
    "    \"C\": c_kg,\n",
    "    \"N\": trappist1e_bse[\"N\"][\"mean\"],\n",
    "    \"S\": trappist1e_bse[\"S\"][\"mean\"],\n",
    "    \"Cl\": trappist1e_bse[\"Cl\"][\"mean\"],\n",
    "}\n",
    "\n",
    "interior_atmosphere_withsol.solve(\n",
    "    planet=trappist1e_magma_ocean,\n",
    "    mass_constraints=mass_constraints,\n",
    "    fugacity_constraints=fugacity_constraints,\n",
    ")\n",
    "output_withsol = interior_atmosphere_withsol.output\n",
    "\n",
    "# Quick look at the solution\n",
    "# solution = output_withsol.quick_look()\n",
    "\n",
    "# Get complete solution as a dictionary\n",
    "# solution_withsol_asdict = output_withsol.asdict()\n",
    "# logger.info(solution_withsol_asdict)\n",
    "\n",
    "if WRITE_OUTPUT:\n",
    "    # Write the complete solution to Excel\n",
    "    output_withsol.to_excel(f\"t1e_{magma_ocean_temp_str}K_with_solubility\")\n",
    "\n",
    "    # Write the data to a pickle file with dataframes\n",
    "    output_withsol.to_pickle(f\"t1e_{magma_ocean_temp_str}K_with_solubility\")"
   ]
  },
  {
   "cell_type": "markdown",
   "metadata": {},
   "source": [
    "# Solidified planet\n",
    "\n",
    "Get the starting abundances for the calculations:"
   ]
  },
  {
   "cell_type": "code",
   "execution_count": null,
   "metadata": {},
   "outputs": [],
   "source": [
    "withsol_dict = output_withsol.asdict()\n",
    "\n",
    "# Create a dictionary with the series\n",
    "mass_constraints = {\n",
    "    \"H\": withsol_dict[\"element_H\"][\"atmosphere_mass\"],\n",
    "    \"S\": withsol_dict[\"element_S\"][\"atmosphere_mass\"],\n",
    "    \"N\": withsol_dict[\"element_N\"][\"atmosphere_mass\"],\n",
    "    \"O\": withsol_dict[\"element_O\"][\"atmosphere_mass\"],\n",
    "    # For C, we need to add the condensed mass to the atmosphere mass since the assumption is that\n",
    "    # they remain in equilibrium\n",
    "    \"C\": withsol_dict[\"element_C\"][\"atmosphere_mass\"]\n",
    "    + withsol_dict[\"element_C\"][\"condensed_mass\"],\n",
    "    \"Cl\": withsol_dict[\"element_Cl\"][\"atmosphere_mass\"],\n",
    "}"
   ]
  },
  {
   "cell_type": "markdown",
   "metadata": {},
   "source": [
    "# Hot Venus-like surface temperature"
   ]
  },
  {
   "cell_type": "code",
   "execution_count": null,
   "metadata": {},
   "outputs": [],
   "source": [
    "interior_atmosphere_hot = InteriorAtmosphere(species_nosol)\n",
    "\n",
    "trappist1e_hot = Planet(\n",
    "    surface_temperature=hot_surface_temperature,\n",
    "    planet_mass=trappist1e_planet_mass,\n",
    "    surface_radius=trappist1e_surface_radius,\n",
    "    mantle_melt_fraction=0.0,  # Always zero because the planet is solidified\n",
    ")\n",
    "\n",
    "interior_atmosphere_hot.solve(\n",
    "    planet=trappist1e_hot,\n",
    "    mass_constraints=mass_constraints,\n",
    "    initial_log_number_density=interior_atmosphere_withsol.output.log_number_density,\n",
    "    initial_log_stability=interior_atmosphere_withsol.output.log_stability,\n",
    ")\n",
    "output_hot = interior_atmosphere_hot.output\n",
    "\n",
    "if WRITE_OUTPUT:\n",
    "    # Write the complete solution to Excel\n",
    "    output_hot.to_excel(f\"t1e_{hot_temp_str}K\")\n",
    "\n",
    "    # Write the data to a pickle file with dataframes\n",
    "    output_hot.to_pickle(f\"t1e_{hot_temp_str}K\")"
   ]
  },
  {
   "cell_type": "markdown",
   "metadata": {},
   "source": [
    "# Medium surface temperature where all condensates can be stable"
   ]
  },
  {
   "cell_type": "code",
   "execution_count": null,
   "metadata": {},
   "outputs": [],
   "source": [
    "species_with_all_condensates = SpeciesCollection(\n",
    "    (\n",
    "        H2_g,\n",
    "        H2O_g,\n",
    "        O2_g,\n",
    "        CO_g,\n",
    "        CO2_g,\n",
    "        CH4_g,\n",
    "        N2_g,\n",
    "        H3N_g,\n",
    "        S2_g,\n",
    "        H2S_g,\n",
    "        O2S_g,\n",
    "        OS_g,\n",
    "        Cl2_g,\n",
    "        ClH_g,\n",
    "        C_cr,\n",
    "        H2O_l,\n",
    "        S_cr,\n",
    "        ClH4N_cr,\n",
    "    )\n",
    ")"
   ]
  },
  {
   "cell_type": "code",
   "execution_count": null,
   "metadata": {},
   "outputs": [],
   "source": [
    "interior_atmosphere_medium = InteriorAtmosphere(species_with_all_condensates)\n",
    "\n",
    "trappist1e_medium = Planet(\n",
    "    surface_temperature=medium_surface_temperature,\n",
    "    planet_mass=trappist1e_planet_mass,\n",
    "    surface_radius=trappist1e_surface_radius,\n",
    "    mantle_melt_fraction=0.0,  # Always zero because the planet is solidified\n",
    ")\n",
    "\n",
    "interior_atmosphere_medium.solve(\n",
    "    planet=trappist1e_medium,\n",
    "    mass_constraints=mass_constraints,\n",
    ")\n",
    "output_medium = interior_atmosphere_medium.output\n",
    "\n",
    "if WRITE_OUTPUT:\n",
    "    # Write the complete solution to Excel\n",
    "    output_medium.to_excel(f\"t1e_{medium_temp_str}K\")\n",
    "\n",
    "    # Write the data to a pickle file with dataframes\n",
    "    output_medium.to_pickle(f\"t1e_{medium_temp_str}K\")"
   ]
  },
  {
   "cell_type": "markdown",
   "metadata": {},
   "source": [
    "# Cold surface temperature where all condensates can be stable"
   ]
  },
  {
   "cell_type": "code",
   "execution_count": null,
   "metadata": {},
   "outputs": [],
   "source": [
    "interior_atmosphere_cold = InteriorAtmosphere(species_with_all_condensates)\n",
    "\n",
    "trappist1e_cold = Planet(\n",
    "    surface_temperature=cold_surface_temperature,\n",
    "    planet_mass=trappist1e_planet_mass,\n",
    "    surface_radius=trappist1e_surface_radius,\n",
    "    mantle_melt_fraction=0.0,  # Always zero because the planet is solidified\n",
    ")\n",
    "\n",
    "interior_atmosphere_cold.solve(\n",
    "    planet=trappist1e_cold,\n",
    "    mass_constraints=mass_constraints,\n",
    "    initial_log_number_density=interior_atmosphere_medium.output.log_number_density,\n",
    "    initial_log_stability=interior_atmosphere_medium.output.log_stability,\n",
    ")\n",
    "output_cold = interior_atmosphere_cold.output\n",
    "\n",
    "if WRITE_OUTPUT:\n",
    "    # Write the complete solution to Excel\n",
    "    output_cold.to_excel(f\"t1e_{cold_temp_str}K\")\n",
    "\n",
    "    # Write the data to a pickle file with dataframes\n",
    "    output_cold.to_pickle(f\"t1e_{cold_temp_str}K\")"
   ]
  }
 ],
 "metadata": {
  "kernelspec": {
   "display_name": "atmodeller (3.13.5)",
   "language": "python",
   "name": "python3"
  },
  "language_info": {
   "codemirror_mode": {
    "name": "ipython",
    "version": 3
   },
   "file_extension": ".py",
   "mimetype": "text/x-python",
   "name": "python",
   "nbconvert_exporter": "python",
   "pygments_lexer": "ipython3",
   "version": "3.13.5"
  }
 },
 "nbformat": 4,
 "nbformat_minor": 2
}

{
 "cells": [
  {
   "cell_type": "code",
   "execution_count": null,
   "metadata": {},
   "outputs": [],
   "source": [
    "import pandas as pd\n",
    "from numpy import mean, std\n",
    "from sklearn.datasets import load_iris\n",
    "from sklearn.model_selection import cross_val_score, RepeatedStratifiedKFold\n",
    "from sklearn.neighbors import KNeighborsClassifier\n",
    "from sklearn.pipeline import Pipeline\n",
    "\n",
    "from beaverfe import BeaverPipeline\n",
    "from beaverfe.transformations import (\n",
    "    ColumnSelection,\n",
    "    MathematicalOperations,\n",
    "    MissingValuesHandler,\n",
    "    NonLinearTransformation,\n",
    "    Normalization,\n",
    "    NumericalBinning,\n",
    "    OutliersHandler,\n",
    "    ScaleTransformation,\n",
    ")"
   ]
  },
  {
   "cell_type": "markdown",
   "metadata": {},
   "source": [
    "# 1. Get the dataset"
   ]
  },
  {
   "cell_type": "code",
   "execution_count": null,
   "metadata": {},
   "outputs": [],
   "source": [
    "data = load_iris()\n",
    "\n",
    "df = pd.DataFrame(data.data, columns=data.feature_names)\n",
    "df[\"target\"] = data.target\n",
    "\n",
    "x, y = df.drop(columns=\"target\"), df[\"target\"]"
   ]
  },
  {
   "cell_type": "markdown",
   "metadata": {},
   "source": [
    "# 2. Define transformations"
   ]
  },
  {
   "cell_type": "code",
   "execution_count": null,
   "metadata": {},
   "outputs": [],
   "source": [
    "transformer = BeaverPipeline(\n",
    "    [\n",
    "        MissingValuesHandler(\n",
    "            transformation_options={\n",
    "                \"sepal length (cm)\": \"fill_mode\",\n",
    "                \"sepal width (cm)\": \"fill_knn\",\n",
    "                \"petal length (cm)\": \"fill_mode\",\n",
    "                \"petal width (cm)\": \"most_frequent\",\n",
    "            },\n",
    "            n_neighbors={\n",
    "                \"sepal width (cm)\": 5,\n",
    "            },\n",
    "        ),\n",
    "        OutliersHandler(\n",
    "            transformation_options={\n",
    "                \"sepal length (cm)\": (\"cap\", \"iqr\"),\n",
    "                \"sepal width (cm)\": (\"cap\", \"zscore\"),\n",
    "                \"petal length (cm)\": (\"median\", \"lof\"),\n",
    "                \"petal width (cm)\": (\"median\", \"iforest\"),\n",
    "            },\n",
    "            thresholds={\n",
    "                \"sepal length (cm)\": 1.5,\n",
    "                \"sepal width (cm)\": 2.5,\n",
    "            },\n",
    "            lof_params={\n",
    "                \"petal length (cm)\": {\n",
    "                    \"n_neighbors\": 20,\n",
    "                }\n",
    "            },\n",
    "            iforest_params={\n",
    "                \"petal width (cm)\": {\n",
    "                    \"contamination\": 0.1,\n",
    "                }\n",
    "            },\n",
    "        ),\n",
    "        NonLinearTransformation(\n",
    "            transformation_options={\n",
    "                \"sepal length (cm)\": \"yeo_johnson\",\n",
    "                \"petal length (cm)\": \"exponential\",\n",
    "            }\n",
    "        ),\n",
    "        Normalization(\n",
    "            transformation_options={\n",
    "                \"sepal length (cm)\": \"l1\",\n",
    "                \"sepal width (cm)\": \"l2\",\n",
    "            }\n",
    "        ),\n",
    "        NumericalBinning(\n",
    "            transformation_options={\n",
    "                \"sepal length (cm)\": (\"uniform\", 5),\n",
    "                \"sepal width (cm)\": (\"quantile\", 6),\n",
    "                \"petal length (cm)\": (\"kmeans\", 7),\n",
    "            }\n",
    "        ),\n",
    "        MathematicalOperations(\n",
    "            operations_options=[\n",
    "                (\"sepal length (cm)\", \"sepal width (cm)\", \"add\"),\n",
    "                (\"petal length (cm)\", \"petal width (cm)\", \"multiply\"),\n",
    "            ]\n",
    "        ),\n",
    "        ScaleTransformation(\n",
    "            transformation_options={\n",
    "                \"sepal length (cm)\": \"min_max\",\n",
    "                \"sepal width (cm)\": \"min_max\",\n",
    "                \"petal length (cm)\": \"min_max\",\n",
    "                \"petal width (cm)\": \"min_max\",\n",
    "            }\n",
    "        ),\n",
    "        ColumnSelection(\n",
    "            features=[\n",
    "                \"sepal length (cm)\",\n",
    "                \"sepal width (cm)\",\n",
    "                \"petal length (cm)\",\n",
    "                \"petal width (cm)\",\n",
    "                \"sepal length (cm)__add__sepal width (cm)\",\n",
    "                \"petal length (cm)__multiply__petal width (cm)\",\n",
    "            ]\n",
    "        ),\n",
    "    ]\n",
    ")"
   ]
  },
  {
   "cell_type": "markdown",
   "metadata": {},
   "source": [
    "# 3. Define the pipeline"
   ]
  },
  {
   "cell_type": "code",
   "execution_count": null,
   "metadata": {},
   "outputs": [],
   "source": [
    "model = KNeighborsClassifier()\n",
    "pipe = Pipeline(steps=[(\"t\", transformer), (\"m\", model)])"
   ]
  },
  {
   "cell_type": "markdown",
   "metadata": {},
   "source": [
    "# 4. Evalute"
   ]
  },
  {
   "cell_type": "code",
   "execution_count": null,
   "metadata": {},
   "outputs": [],
   "source": [
    "cv = RepeatedStratifiedKFold(n_splits=5, n_repeats=3, random_state=1)\n",
    "scores = cross_val_score(pipe, x, y, scoring=\"accuracy\", cv=cv, n_jobs=-1)\n",
    "\n",
    "print(f\"{mean(scores):.3f} ({std(scores):.3f})\")"
   ]
  }
 ],
 "metadata": {
  "kernelspec": {
   "display_name": "beaverfe",
   "language": "python",
   "name": "python3"
  },
  "language_info": {
   "codemirror_mode": {
    "name": "ipython",
    "version": 3
   },
   "file_extension": ".py",
   "mimetype": "text/x-python",
   "name": "python",
   "nbconvert_exporter": "python",
   "pygments_lexer": "ipython3",
   "version": "3.11.7"
  }
 },
 "nbformat": 4,
 "nbformat_minor": 2
}

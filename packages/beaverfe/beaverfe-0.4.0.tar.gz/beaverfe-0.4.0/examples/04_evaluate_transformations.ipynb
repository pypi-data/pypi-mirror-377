{
 "cells": [
  {
   "cell_type": "code",
   "execution_count": null,
   "metadata": {},
   "outputs": [],
   "source": [
    "import matplotlib.pyplot as plt\n",
    "import numpy as np\n",
    "import pandas as pd\n",
    "from numpy import mean\n",
    "from sklearn.datasets import load_wine\n",
    "from sklearn.model_selection import cross_val_score, RepeatedKFold\n",
    "from sklearn.neighbors import KNeighborsClassifier\n",
    "from sklearn.pipeline import Pipeline\n",
    "\n",
    "from beaverfe import auto_feature_pipeline, evaluate_transformations"
   ]
  },
  {
   "cell_type": "markdown",
   "metadata": {},
   "source": [
    "# 1. Get the dataset"
   ]
  },
  {
   "cell_type": "code",
   "execution_count": null,
   "metadata": {},
   "outputs": [],
   "source": [
    "data = load_wine()\n",
    "\n",
    "df = pd.DataFrame(data.data, columns=data.feature_names)\n",
    "df[\"target\"] = data.target\n",
    "\n",
    "x, y = df.drop(columns=\"target\"), df[\"target\"]"
   ]
  },
  {
   "cell_type": "markdown",
   "metadata": {},
   "source": [
    "# 2. Define the model"
   ]
  },
  {
   "cell_type": "code",
   "execution_count": null,
   "metadata": {},
   "outputs": [],
   "source": [
    "model = KNeighborsClassifier()\n",
    "scoring = \"accuracy\"\n",
    "direction = \"maximize\""
   ]
  },
  {
   "cell_type": "markdown",
   "metadata": {},
   "source": [
    "# 3. Evaluate base model"
   ]
  },
  {
   "cell_type": "code",
   "execution_count": null,
   "metadata": {},
   "outputs": [],
   "source": [
    "pipe = Pipeline(steps=[(\"m\", model)])\n",
    "cv = RepeatedKFold(n_splits=10, n_repeats=3, random_state=23)\n",
    "\n",
    "base_scores = cross_val_score(pipe, x, y, scoring=\"accuracy\", cv=cv, n_jobs=-1)\n",
    "base_score = mean(base_scores)\n",
    "print(f\"{base_score:.3f}\")"
   ]
  },
  {
   "cell_type": "markdown",
   "metadata": {},
   "source": [
    "# 4. Run auto transformations"
   ]
  },
  {
   "cell_type": "code",
   "execution_count": null,
   "metadata": {},
   "outputs": [],
   "source": [
    "transformations = auto_feature_pipeline(x, y, model, scoring, direction, verbose=False)"
   ]
  },
  {
   "cell_type": "markdown",
   "metadata": {},
   "source": [
    "# 5. Evalute"
   ]
  },
  {
   "cell_type": "code",
   "execution_count": null,
   "metadata": {},
   "outputs": [],
   "source": [
    "scores = evaluate_transformations(\n",
    "    transformations, x, y, model, scoring, cv=3, plot_file=None\n",
    ")"
   ]
  },
  {
   "cell_type": "code",
   "execution_count": null,
   "metadata": {},
   "outputs": [],
   "source": [
    "names = [s[\"name\"] for s in scores]\n",
    "values = [s[\"score\"] for s in scores]\n",
    "\n",
    "# Enumerate names to avoid duplicates\n",
    "display_names = [f\"{i} - {name}\" for i, name in enumerate(names)]\n",
    "\n",
    "x = np.arange(len(values))\n",
    "\n",
    "plt.figure(figsize=(10, 6))\n",
    "plt.plot(x, values, marker=\"o\", linestyle=\"-\", linewidth=2)\n",
    "plt.title(\"Score evolution by transformation\")\n",
    "plt.xlabel(\"Step\")\n",
    "plt.ylabel(\"Score\")\n",
    "plt.grid(True, linestyle=\"--\", alpha=0.6)\n",
    "\n",
    "plt.xticks(x, display_names, rotation=45)\n",
    "plt.tight_layout()"
   ]
  }
 ],
 "metadata": {
  "kernelspec": {
   "display_name": "beaverfe",
   "language": "python",
   "name": "python3"
  },
  "language_info": {
   "codemirror_mode": {
    "name": "ipython",
    "version": 3
   },
   "file_extension": ".py",
   "mimetype": "text/x-python",
   "name": "python",
   "nbconvert_exporter": "python",
   "pygments_lexer": "ipython3",
   "version": "3.11.7"
  }
 },
 "nbformat": 4,
 "nbformat_minor": 2
}

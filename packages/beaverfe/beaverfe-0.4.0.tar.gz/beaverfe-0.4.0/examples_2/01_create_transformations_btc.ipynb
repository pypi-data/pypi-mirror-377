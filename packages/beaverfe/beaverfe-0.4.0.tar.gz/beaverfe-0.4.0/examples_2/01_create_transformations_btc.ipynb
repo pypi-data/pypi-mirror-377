{
 "cells": [
  {
   "cell_type": "markdown",
   "metadata": {},
   "source": [
    "# 1. Get the dataset"
   ]
  },
  {
   "cell_type": "code",
   "execution_count": null,
   "metadata": {},
   "outputs": [],
   "source": [
    "import pandas as pd\n",
    "\n",
    "df = pd.read_csv(\"../examples_2/BTC-Hourly.csv\")\n",
    "df = df.rename(columns={\"close\": \"target\"})\n",
    "df = df.drop(columns=[\"unix\", \"symbol\"])\n",
    "\n",
    "df[\"date\"] = pd.to_datetime(df[\"date\"])\n",
    "df = df[:1000]\n",
    "\n",
    "x, y = df.drop(columns=\"target\"), df[\"target\"]\n",
    "\n",
    "import numpy as np\n",
    "\n",
    "y = np.where(y > np.roll(y, 1), 1, 0)"
   ]
  },
  {
   "cell_type": "markdown",
   "metadata": {},
   "source": [
    "# 2. Define transformations"
   ]
  },
  {
   "cell_type": "code",
   "execution_count": null,
   "metadata": {},
   "outputs": [],
   "source": [
    "from beaverfe import BeaverPipeline\n",
    "from beaverfe.transformations import DateTimeTransformer, CyclicalFeaturesTransformer\n",
    "\n",
    "transformer = BeaverPipeline(\n",
    "    [\n",
    "        DateTimeTransformer(datetime_columns=[\"date\"]),\n",
    "        CyclicalFeaturesTransformer(\n",
    "            columns_periods={\n",
    "                \"date_minute\": 60,\n",
    "                \"date_hour\": 24,\n",
    "            }\n",
    "        ),\n",
    "    ]\n",
    ")"
   ]
  },
  {
   "cell_type": "markdown",
   "metadata": {},
   "source": [
    "# 3. Define the pipeline"
   ]
  },
  {
   "cell_type": "code",
   "execution_count": 4,
   "metadata": {},
   "outputs": [],
   "source": [
    "from sklearn.ensemble import RandomForestClassifier\n",
    "from sklearn.pipeline import Pipeline\n",
    "\n",
    "model = RandomForestClassifier()\n",
    "pipe = Pipeline(steps=[(\"t\", transformer), (\"m\", model)])"
   ]
  },
  {
   "cell_type": "markdown",
   "metadata": {},
   "source": [
    "# 4. Evalute"
   ]
  },
  {
   "cell_type": "code",
   "execution_count": null,
   "metadata": {},
   "outputs": [],
   "source": [
    "from numpy import mean, std\n",
    "from sklearn.model_selection import cross_val_score\n",
    "from sklearn.model_selection import RepeatedStratifiedKFold\n",
    "\n",
    "cv = RepeatedStratifiedKFold(n_splits=10, n_repeats=3, random_state=1)\n",
    "scores = cross_val_score(pipe, x, y, scoring=\"accuracy\", cv=cv, n_jobs=-1)\n",
    "\n",
    "print(f\"{mean(scores):.3f} ({std(scores):.3f})\")"
   ]
  },
  {
   "cell_type": "markdown",
   "metadata": {},
   "source": [
    "# TEST transform data"
   ]
  },
  {
   "cell_type": "code",
   "execution_count": null,
   "metadata": {},
   "outputs": [],
   "source": [
    "point = int(x.shape[0] * 0.66)\n",
    "\n",
    "x_train, y_train = x[:point], y[:point]\n",
    "x_test, y_test = x[point:], y[point:]\n",
    "\n",
    "print(x_test.head())\n",
    "print(\"\\n\", \"-\" * 50, \"\\n\")\n",
    "\n",
    "transformer.fit(x_train, y_train)\n",
    "x_test = transformer.transform(x_test, y_test)\n",
    "print(x_test.head())"
   ]
  }
 ],
 "metadata": {
  "kernelspec": {
   "display_name": ".venv",
   "language": "python",
   "name": "python3"
  },
  "language_info": {
   "codemirror_mode": {
    "name": "ipython",
    "version": 3
   },
   "file_extension": ".py",
   "mimetype": "text/x-python",
   "name": "python",
   "nbconvert_exporter": "python",
   "pygments_lexer": "ipython3",
   "version": "3.11.7"
  }
 },
 "nbformat": 4,
 "nbformat_minor": 2
}

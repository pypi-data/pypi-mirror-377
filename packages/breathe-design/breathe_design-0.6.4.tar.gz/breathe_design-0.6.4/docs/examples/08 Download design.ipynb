{
 "cells": [
  {
   "cell_type": "markdown",
   "id": "5dba2f1c",
   "metadata": {},
   "source": [
    "# Download a design file"
   ]
  },
  {
   "cell_type": "markdown",
   "id": "a576936e",
   "metadata": {},
   "source": [
    "In this notebook we will demonstrate how to download a design file from the Breathe Design API."
   ]
  },
  {
   "cell_type": "code",
   "execution_count": 1,
   "id": "cbd2532a",
   "metadata": {},
   "outputs": [],
   "source": [
    "from breathe_design import api_interface as api"
   ]
  },
  {
   "cell_type": "code",
   "execution_count": 2,
   "id": "6dab9745",
   "metadata": {},
   "outputs": [
    {
     "data": {
      "text/plain": [
       "<Version('0.4.4')>"
      ]
     },
     "execution_count": 2,
     "metadata": {},
     "output_type": "execute_result"
    }
   ],
   "source": [
    "api.get_service_version()"
   ]
  },
  {
   "cell_type": "code",
   "execution_count": 3,
   "id": "abf901df",
   "metadata": {},
   "outputs": [],
   "source": [
    "base_params = api.get_design_parameters(\"Molicel P45B\")"
   ]
  },
  {
   "cell_type": "code",
   "execution_count": 4,
   "id": "1246530f",
   "metadata": {},
   "outputs": [],
   "source": [
    "designs = [\n",
    "    {\"designName\": \"Lower NP\", \"NPratio\": base_params[\"NPratio\"] * 0.95},\n",
    "    {\"designName\": \"Higher NP\", \"NPratio\": base_params[\"NPratio\"] * 1.05},\n",
    "]"
   ]
  },
  {
   "cell_type": "code",
   "execution_count": 5,
   "id": "81a111d0",
   "metadata": {},
   "outputs": [],
   "source": [
    "base_format = api.get_battery_format(\"Molicel P45B\")"
   ]
  },
  {
   "cell_type": "code",
   "execution_count": 6,
   "id": "47c48e6d",
   "metadata": {},
   "outputs": [],
   "source": [
    "smaller_format = api.get_updated_format(\n",
    "    base_battery=\"Molicel P45B\",\n",
    "    name=\"smaller_format\",\n",
    "    height_mm=0.9 * base_format[\"height_mm\"],\n",
    ")"
   ]
  },
  {
   "cell_type": "code",
   "execution_count": null,
   "id": "2d9d8c14",
   "metadata": {},
   "outputs": [],
   "source": [
    "# Download the designs in a form compatible with the Breathe Design Simulink block\n",
    "# Files will be saved in current directory with auto-numbering starting from 1000\n",
    "api.download_designs(\n",
    "    base_battery=\"Molicel P45B\",\n",
    "    designs=designs,\n",
    "    formats=[smaller_format],\n",
    "    output_tag=\"design\",\n",
    "    folder=\"designs\",  # Optional: specify folder to save files\n",
    ")"
   ]
  }
 ],
 "metadata": {
  "kernelspec": {
   "display_name": "venv",
   "language": "python",
   "name": "python3"
  },
  "language_info": {
   "codemirror_mode": {
    "name": "ipython",
    "version": 3
   },
   "file_extension": ".py",
   "mimetype": "text/x-python",
   "name": "python",
   "nbconvert_exporter": "python",
   "pygments_lexer": "ipython3",
   "version": "3.11.9"
  }
 },
 "nbformat": 4,
 "nbformat_minor": 5
}

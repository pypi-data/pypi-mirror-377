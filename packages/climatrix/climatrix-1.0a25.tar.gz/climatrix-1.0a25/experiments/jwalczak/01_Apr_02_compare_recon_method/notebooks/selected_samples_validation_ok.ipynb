{
 "cells": [
  {
   "cell_type": "markdown",
   "id": "7b247b8b",
   "metadata": {},
   "source": [
    "### Selected samples SiNET validation\n",
    "\n",
    "**Author:** Jakub Walczak, PhD\n",
    "\n",
    "This notebook contains validation of the proposed SiNET method against \n",
    "kriging and IDW for a set of validation samples.\n",
    "\n",
    "The notebook was used to upgrade the design of SiNET."
   ]
  },
  {
   "cell_type": "code",
   "execution_count": 1,
   "id": "0d8615ec",
   "metadata": {},
   "outputs": [],
   "source": [
    "import csv\n",
    "import shutil\n",
    "from functools import partial\n",
    "from pathlib import Path\n",
    "from typing import Any, Callable\n",
    "\n",
    "import xarray as xr\n",
    "from bayes_opt import BayesianOptimization\n",
    "from rich.console import Console\n",
    "\n",
    "import climatrix as cm\n",
    "\n",
    "%load_ext rich"
   ]
  },
  {
   "cell_type": "code",
   "execution_count": 2,
   "id": "9edcee63",
   "metadata": {},
   "outputs": [
    {
     "data": {
      "text/html": [
       "<pre style=\"white-space:pre;overflow-x:auto;line-height:normal;font-family:Menlo,'DejaVu Sans Mono',consolas,'Courier New',monospace\"><span style=\"color: #008000; text-decoration-color: #008000; font-weight: bold\">Using NaN policy: </span> resample\n",
       "</pre>\n"
      ],
      "text/plain": [
       "\u001b[1;32mUsing NaN policy: \u001b[0m resample\n"
      ]
     },
     "metadata": {},
     "output_type": "display_data"
    },
    {
     "data": {
      "text/html": [
       "<pre style=\"white-space:pre;overflow-x:auto;line-height:normal;font-family:Menlo,'DejaVu Sans Mono',consolas,'Courier New',monospace\"><span style=\"color: #008000; text-decoration-color: #008000; font-weight: bold\">Using seed: </span> <span style=\"color: #008080; text-decoration-color: #008080; font-weight: bold\">1</span>\n",
       "</pre>\n"
      ],
      "text/plain": [
       "\u001b[1;32mUsing seed: \u001b[0m \u001b[1;36m1\u001b[0m\n"
      ]
     },
     "metadata": {},
     "output_type": "display_data"
    },
    {
     "data": {
      "text/html": [
       "<pre style=\"white-space:pre;overflow-x:auto;line-height:normal;font-family:Menlo,'DejaVu Sans Mono',consolas,'Courier New',monospace\"><span style=\"color: #008000; text-decoration-color: #008000; font-weight: bold\">Using dataset path: </span> <span style=\"color: #800080; text-decoration-color: #800080\">/storage/tul/projects/climatrix/experiments/jwalczak/01_Apr_02_compare_recon_method/</span><span style=\"color: #ff00ff; text-decoration-color: #ff00ff\">data</span>\n",
       "</pre>\n"
      ],
      "text/plain": [
       "\u001b[1;32mUsing dataset path: \u001b[0m \u001b[35m/storage/tul/projects/climatrix/experiments/jwalczak/01_Apr_02_compare_recon_method/\u001b[0m\u001b[95mdata\u001b[0m\n"
      ]
     },
     "metadata": {},
     "output_type": "display_data"
    }
   ],
   "source": [
    "console = Console()\n",
    "\n",
    "coordinates_type_mapping = {1: \"euclidean\", 2: \"geographic\"}\n",
    "variogram_model_mapping = {\n",
    "    1: \"linear\",\n",
    "    2: \"power\",\n",
    "    3: \"gaussian\",\n",
    "    4: \"spherical\",\n",
    "    5: \"exponential\",\n",
    "}\n",
    "\n",
    "INF_LOSS = -1e4\n",
    "\n",
    "NAN_POLICY = \"resample\"\n",
    "console.print(\"[bold green]Using NaN policy: [/bold green]\", NAN_POLICY)\n",
    "\n",
    "SEED = 1\n",
    "console.print(\"[bold green]Using seed: [/bold green]\", SEED)\n",
    "\n",
    "DSET_PATH = Path(__session__).parent.parent.joinpath(\"data\")\n",
    "console.print(\"[bold green]Using dataset path: [/bold green]\", DSET_PATH)\n",
    "\n",
    "EUROPE_BOUNDS = {\"north\": 71, \"south\": 36, \"west\": -24, \"east\": 35}\n",
    "EUROPE_DOMAIN = cm.Domain.from_lat_lon(\n",
    "    lat=slice(EUROPE_BOUNDS[\"south\"], EUROPE_BOUNDS[\"north\"], 0.1),\n",
    "    lon=slice(EUROPE_BOUNDS[\"west\"], EUROPE_BOUNDS[\"east\"], 0.1),\n",
    "    kind=\"dense\",\n",
    ")\n",
    "cm.seed_all(SEED)"
   ]
  },
  {
   "cell_type": "code",
   "execution_count": 3,
   "id": "38a16911",
   "metadata": {},
   "outputs": [],
   "source": [
    "def get_all_dataset_idx() -> list[str]:\n",
    "    return sorted(\n",
    "        list({path.stem.split(\"_\")[-1] for path in DSET_PATH.glob(\"*.nc\")})\n",
    "    )"
   ]
  },
  {
   "cell_type": "code",
   "execution_count": 4,
   "id": "fe293711",
   "metadata": {},
   "outputs": [],
   "source": [
    "def run_single_method(\n",
    "    d: str, i: int, method: str, reconstruct_dense: bool = True, **params\n",
    "):\n",
    "    cm.seed_all(SEED)\n",
    "    train_dset = xr.open_dataset(\n",
    "        DSET_PATH / f\"ecad_obs_europe_train_{d}.nc\"\n",
    "    ).cm\n",
    "    val_dset = xr.open_dataset(DSET_PATH / f\"ecad_obs_europe_val_{d}.nc\").cm\n",
    "    reconstructed_dset = train_dset.reconstruct(\n",
    "        val_dset.domain,\n",
    "        method=method,\n",
    "        **params,\n",
    "    )\n",
    "    if reconstruct_dense:\n",
    "        reconstructed_dense = train_dset.reconstruct(\n",
    "            EUROPE_DOMAIN, method=method, **params\n",
    "        )\n",
    "    return val_dset, reconstructed_dset, reconstructed_dense"
   ]
  },
  {
   "cell_type": "code",
   "execution_count": 5,
   "id": "70d43dfa-7613-49fa-b3e6-f1e38f9e23d1",
   "metadata": {},
   "outputs": [
    {
     "data": {
      "text/html": [
       "<pre style=\"white-space:pre;overflow-x:auto;line-height:normal;font-family:Menlo,'DejaVu Sans Mono',consolas,'Courier New',monospace\"><span style=\"color: #008000; text-decoration-color: #008000; font-weight: bold\">There is </span><span style=\"color: #808000; text-decoration-color: #808000; font-weight: bold\">100</span><span style=\"color: #008000; text-decoration-color: #008000; font-weight: bold\"> samples available </span>\n",
       "</pre>\n"
      ],
      "text/plain": [
       "\u001b[1;32mThere is \u001b[0m\u001b[1;33m100\u001b[0m\u001b[1;32m samples available \u001b[0m\n"
      ]
     },
     "metadata": {},
     "output_type": "display_data"
    }
   ],
   "source": [
    "dset_idx = get_all_dataset_idx()\n",
    "console.print(\n",
    "    f\"[bold green]There is [bold yellow]{len(dset_idx)}[/bold yellow] samples available [/bold green]\"\n",
    ")"
   ]
  },
  {
   "cell_type": "code",
   "execution_count": 6,
   "id": "9703e971-a500-4a61-805c-2d329dea92de",
   "metadata": {},
   "outputs": [],
   "source": [
    "IDX = 0"
   ]
  },
  {
   "cell_type": "code",
   "execution_count": 7,
   "id": "e9900186-1c3b-4f2d-9299-99fbcc04f1dd",
   "metadata": {
    "scrolled": true
   },
   "outputs": [],
   "source": [
    "ok_val_dset, ok_reconstructed_dset, ok_reconstructed_dense = run_single_method(\n",
    "    dset_idx[IDX],\n",
    "    IDX,\n",
    "    \"ok\",\n",
    ")"
   ]
  },
  {
   "cell_type": "code",
   "execution_count": 8,
   "id": "826876b7-c842-4ee7-bc90-64346cce5d59",
   "metadata": {},
   "outputs": [
    {
     "data": {
      "text/html": [
       "<pre style=\"white-space:pre;overflow-x:auto;line-height:normal;font-family:Menlo,'DejaVu Sans Mono',consolas,'Courier New',monospace\"></pre>\n"
      ],
      "text/plain": []
     },
     "metadata": {},
     "output_type": "display_data"
    },
    {
     "data": {
      "text/plain": [
       "\n",
       "\u001b[1m{\u001b[0m\n",
       "    \u001b[32m'RMSE'\u001b[0m: \u001b[1;36m3.4201634935182725\u001b[0m,\n",
       "    \u001b[32m'MAE'\u001b[0m: \u001b[1;36m2.772475524368259\u001b[0m,\n",
       "    \u001b[32m'Max Abs Error'\u001b[0m: \u001b[1;36m9.30281132955735\u001b[0m,\n",
       "    \u001b[32m'R^2'\u001b[0m: \u001b[1;36m0.3287049818609036\u001b[0m\n",
       "\u001b[1m}\u001b[0m"
      ]
     },
     "execution_count": 8,
     "metadata": {},
     "output_type": "execute_result"
    }
   ],
   "source": [
    "cm.Comparison(ok_val_dset, ok_reconstructed_dset).compute_report()"
   ]
  },
  {
   "cell_type": "markdown",
   "id": "ba9e64ee-7601-41d6-bed0-a942fda810ec",
   "metadata": {},
   "source": [
    "### After optimising hyperpararmeters"
   ]
  },
  {
   "cell_type": "code",
   "execution_count": 9,
   "id": "9776e675-5f71-4d76-aa18-74dbc60ec9f6",
   "metadata": {},
   "outputs": [
    {
     "data": {
      "text/html": [
       "<pre style=\"white-space:pre;overflow-x:auto;line-height:normal;font-family:Menlo,'DejaVu Sans Mono',consolas,'Courier New',monospace\"><span style=\"color: #008000; text-decoration-color: #008000; font-weight: bold\">Hyperparameter bounds: </span>\n",
       "<span style=\"font-weight: bold\">{</span>\n",
       "    <span style=\"color: #008000; text-decoration-color: #008000\">'nlags'</span>: <span style=\"font-weight: bold\">(</span><span style=\"color: #008080; text-decoration-color: #008080; font-weight: bold\">2</span>, <span style=\"color: #008080; text-decoration-color: #008080; font-weight: bold\">50</span><span style=\"font-weight: bold\">)</span>,\n",
       "    <span style=\"color: #008000; text-decoration-color: #008000\">'anisotropy_scaling'</span>: <span style=\"font-weight: bold\">(</span><span style=\"color: #008080; text-decoration-color: #008080; font-weight: bold\">1e-05</span>, <span style=\"color: #008080; text-decoration-color: #008080; font-weight: bold\">5.0</span><span style=\"font-weight: bold\">)</span>,\n",
       "    <span style=\"color: #008000; text-decoration-color: #008000\">'coordinates_type_code'</span>: <span style=\"font-weight: bold\">(</span><span style=\"color: #008000; text-decoration-color: #008000\">'1'</span>, <span style=\"color: #008000; text-decoration-color: #008000\">'2'</span><span style=\"font-weight: bold\">)</span>,\n",
       "    <span style=\"color: #008000; text-decoration-color: #008000\">'variogram_model_code'</span>: <span style=\"font-weight: bold\">(</span><span style=\"color: #008000; text-decoration-color: #008000\">'1'</span>, <span style=\"color: #008000; text-decoration-color: #008000\">'5'</span><span style=\"font-weight: bold\">)</span>\n",
       "<span style=\"font-weight: bold\">}</span>\n",
       "</pre>\n"
      ],
      "text/plain": [
       "\u001b[1;32mHyperparameter bounds: \u001b[0m\n",
       "\u001b[1m{\u001b[0m\n",
       "    \u001b[32m'nlags'\u001b[0m: \u001b[1m(\u001b[0m\u001b[1;36m2\u001b[0m, \u001b[1;36m50\u001b[0m\u001b[1m)\u001b[0m,\n",
       "    \u001b[32m'anisotropy_scaling'\u001b[0m: \u001b[1m(\u001b[0m\u001b[1;36m1e-05\u001b[0m, \u001b[1;36m5.0\u001b[0m\u001b[1m)\u001b[0m,\n",
       "    \u001b[32m'coordinates_type_code'\u001b[0m: \u001b[1m(\u001b[0m\u001b[32m'1'\u001b[0m, \u001b[32m'2'\u001b[0m\u001b[1m)\u001b[0m,\n",
       "    \u001b[32m'variogram_model_code'\u001b[0m: \u001b[1m(\u001b[0m\u001b[32m'1'\u001b[0m, \u001b[32m'5'\u001b[0m\u001b[1m)\u001b[0m\n",
       "\u001b[1m}\u001b[0m\n"
      ]
     },
     "metadata": {},
     "output_type": "display_data"
    },
    {
     "data": {
      "text/html": [
       "<pre style=\"white-space:pre;overflow-x:auto;line-height:normal;font-family:Menlo,'DejaVu Sans Mono',consolas,'Courier New',monospace\"><span style=\"color: #008000; text-decoration-color: #008000; font-weight: bold\">Using nbr initial points for optimization: </span> <span style=\"color: #008080; text-decoration-color: #008080; font-weight: bold\">50</span>\n",
       "</pre>\n"
      ],
      "text/plain": [
       "\u001b[1;32mUsing nbr initial points for optimization: \u001b[0m \u001b[1;36m50\u001b[0m\n"
      ]
     },
     "metadata": {},
     "output_type": "display_data"
    },
    {
     "data": {
      "text/html": [
       "<pre style=\"white-space:pre;overflow-x:auto;line-height:normal;font-family:Menlo,'DejaVu Sans Mono',consolas,'Courier New',monospace\"><span style=\"color: #008000; text-decoration-color: #008000; font-weight: bold\">Using iterations for optimization</span> <span style=\"color: #008080; text-decoration-color: #008080; font-weight: bold\">100</span>\n",
       "</pre>\n"
      ],
      "text/plain": [
       "\u001b[1;32mUsing iterations for optimization\u001b[0m \u001b[1;36m100\u001b[0m\n"
      ]
     },
     "metadata": {},
     "output_type": "display_data"
    }
   ],
   "source": [
    "BOUNDS = {\n",
    "    \"nlags\": (2, 50),\n",
    "    \"anisotropy_scaling\": (1e-5, 5.0),\n",
    "    \"coordinates_type_code\": (\"1\", \"2\"),\n",
    "    \"variogram_model_code\": (\"1\", \"5\"),\n",
    "}\n",
    "console.print(\"[bold green]Hyperparameter bounds: [/bold green]\", BOUNDS)\n",
    "\n",
    "OPTIM_INIT_POINTS: int = 50\n",
    "console.print(\n",
    "    \"[bold green]Using nbr initial points for optimization: [/bold green]\",\n",
    "    OPTIM_INIT_POINTS,\n",
    ")\n",
    "\n",
    "OPTIM_N_ITERS: int = 100\n",
    "console.print(\n",
    "    \"[bold green]Using iterations for optimization[/bold green]\", OPTIM_N_ITERS\n",
    ")"
   ]
  },
  {
   "cell_type": "code",
   "execution_count": 22,
   "id": "9aa250c9-8552-48bf-a6b0-921045731a84",
   "metadata": {},
   "outputs": [],
   "source": [
    "def compute_criterion(\n",
    "    train_dset: cm.BaseClimatrixDataset,\n",
    "    val_dset: cm.BaseClimatrixDataset,\n",
    "    **hparams,\n",
    ") -> float:\n",
    "    coordinates_type_code = int(hparams[\"coordinates_type_code\"])\n",
    "    variogram_model_code = int(hparams[\"variogram_model_code\"])\n",
    "    nlags = int(hparams[\"nlags\"])\n",
    "    anisotropy_scaling = float(hparams[\"anisotropy_scaling\"])\n",
    "    coordinates_type = coordinates_type_mapping[coordinates_type_code]\n",
    "    variogram_model = variogram_model_mapping[variogram_model_code]\n",
    "\n",
    "    try:\n",
    "        recon_dset = train_dset.reconstruct(\n",
    "            val_dset.domain,\n",
    "            method=\"ok\",\n",
    "            nlags=int(nlags),\n",
    "            anisotropy_scaling=float(anisotropy_scaling),\n",
    "            coordinates_type=coordinates_type,\n",
    "            variogram_model=variogram_model,\n",
    "            backend=\"vectorized\",\n",
    "        )\n",
    "    except Exception as e:\n",
    "        console.print(\n",
    "            f\"[yellow]Error during reconstruction with parameters: \"\n",
    "            f\"{hparams}[/yellow]\"\n",
    "        )\n",
    "        console.print(f\"[yellow]{e}[/yellow]\")\n",
    "        return INF_LOSS\n",
    "    metrics = cm.Comparison(\n",
    "        recon_dset, val_dset, map_nan_from_source=False\n",
    "    ).compute_report()\n",
    "    # NOTE: minus to force maximizing\n",
    "    return -metrics[\"MAE\"]\n",
    "\n",
    "\n",
    "def find_hyperparameters(\n",
    "    train_dset: cm.BaseClimatrixDataset,\n",
    "    val_dset: cm.BaseClimatrixDataset,\n",
    "    func: Callable[\n",
    "        [cm.BaseClimatrixDataset, cm.BaseClimatrixDataset, dict], float\n",
    "    ],\n",
    "    bounds: dict[str, tuple],\n",
    "    n_init_points: int = 30,\n",
    "    n_iter: int = 200,\n",
    "    seed: int = 0,\n",
    "    verbose: int = 2,\n",
    ") -> tuple[float, dict[str, float]]:\n",
    "    \"\"\"\n",
    "    Find hyperparameters using Bayesian Optimization.\n",
    "\n",
    "    Parameters\n",
    "    ----------\n",
    "    train_dset : cm.BaseClimatrixDataset\n",
    "        Training dataset.\n",
    "    val_dset : cm.BaseClimatrixDataset\n",
    "        Validation dataset.\n",
    "    func : Callable\n",
    "        Function to optimize.\n",
    "        It should take two datasets and a dictionary of hyperparameters,\n",
    "        and return a float score.\n",
    "    bounds : dict[str, tuple]\n",
    "        Dictionary of hyperparameter bounds.\n",
    "        Keys are hyperparameter names, values are tuples (min, max).\n",
    "    n_init_points : int, optional\n",
    "        Number of initial random points to sample, by default 30.\n",
    "    n_iter : int, optional\n",
    "        Number of iterations for optimization, by default 200.\n",
    "    seed : int, optional\n",
    "        Random seed for reproducibility, by default 0.\n",
    "    verbose : int, optional\n",
    "        Verbosity level of the optimizer, by default 2.\n",
    "\n",
    "    Returns\n",
    "    -------\n",
    "    tuple[float, dict[str, float]]\n",
    "        Best score and best hyperparameters found.\n",
    "    \"\"\"\n",
    "    func = partial(func, train_dset=train_dset, val_dset=val_dset)\n",
    "    optimizer = BayesianOptimization(\n",
    "        f=func, pbounds=bounds, random_state=seed, verbose=verbose\n",
    "    )\n",
    "    optimizer.maximize(\n",
    "        init_points=n_init_points,\n",
    "        n_iter=n_iter,\n",
    "    )\n",
    "    return optimizer.max[\"target\"], (\n",
    "        int(optimizer.max[\"params\"][\"nlags\"]),\n",
    "        float(optimizer.max[\"params\"][\"anisotropy_scaling\"]),\n",
    "        coordinates_type_mapping[\n",
    "            int(optimizer.max[\"params\"][\"coordinates_type_code\"])\n",
    "        ],\n",
    "        variogram_model_mapping[\n",
    "            int(optimizer.max[\"params\"][\"variogram_model_code\"])\n",
    "        ],\n",
    "    )\n",
    "\n",
    "\n",
    "def run_single_experiment(d: str):\n",
    "    cm.seed_all(SEED)\n",
    "    train_dset = xr.open_dataset(\n",
    "        DSET_PATH / f\"ecad_obs_europe_train_{d}.nc\"\n",
    "    ).cm\n",
    "    val_dset = xr.open_dataset(DSET_PATH / f\"ecad_obs_europe_val_{d}.nc\").cm\n",
    "    best_loss, (\n",
    "        nlags,\n",
    "        anisotroty_scaling,\n",
    "        coordinates_type,\n",
    "        variogram_model,\n",
    "    ) = find_hyperparameters(\n",
    "        train_dset,\n",
    "        val_dset,\n",
    "        compute_criterion,\n",
    "        BOUNDS,\n",
    "        n_init_points=OPTIM_INIT_POINTS,\n",
    "        n_iter=OPTIM_N_ITERS,\n",
    "        seed=SEED,\n",
    "        verbose=2,\n",
    "    )\n",
    "    console.print(\"[bold yellow]Optimized parameters:[/bold yellow]\")\n",
    "    console.print(\"[yellow]Number of lags:[/yellow]\", nlags)\n",
    "    console.print(\n",
    "        \"[yellow]Anisotropy scaling factor:[/yellow]\",\n",
    "        anisotroty_scaling,\n",
    "    )\n",
    "    console.print(\n",
    "        \"[yellow]Coordinates type:[/yellow]\",\n",
    "        coordinates_type,\n",
    "    )\n",
    "    console.print(\n",
    "        \"[yellow]Variogram model:[/yellow]\",\n",
    "        variogram_model,\n",
    "    )\n",
    "    console.print(\"[yellow]Best loss:[/yellow]\", best_loss)\n",
    "    reconstructed_dset = train_dset.reconstruct(\n",
    "        val_dset.domain,\n",
    "        method=\"ok\",\n",
    "        nlags=nlags,\n",
    "        anisotropy_scaling=anisotroty_scaling,\n",
    "        coordinates_type=coordinates_type,\n",
    "        variogram_model=variogram_model,\n",
    "        backend=\"vectorized\",\n",
    "        pseudo_inv=True,\n",
    "    )\n",
    "    cmp = cm.Comparison(reconstructed_dset, val_dset)\n",
    "    metrics = cmp.compute_report()\n",
    "    hyperparams = {\n",
    "        \"dataset_id\": d,\n",
    "        \"nlags\": nlags,\n",
    "        \"anisotropy_scaling\": anisotroty_scaling,\n",
    "        \"coordinates_type\": coordinates_type,\n",
    "        \"variogram_model\": variogram_model,\n",
    "        \"opt_loss\": best_loss,\n",
    "    }\n",
    "    return (metrics, hyperparams)"
   ]
  },
  {
   "cell_type": "code",
   "execution_count": 23,
   "id": "2c8efba9-c84b-4393-929c-1f4ff588c9d6",
   "metadata": {
    "scrolled": true
   },
   "outputs": [
    {
     "name": "stdout",
     "output_type": "stream",
     "text": [
      "|   iter    |  target   | anisot... | coordi... |   nlags   | variog... |\n",
      "-------------------------------------------------------------------------\n",
      "| \u001b[39m1        \u001b[39m | \u001b[39m-1.996   \u001b[39m | \u001b[39m2.085    \u001b[39m | \u001b[39m1.72     \u001b[39m | \u001b[39m2.005    \u001b[39m | \u001b[39m2.209    \u001b[39m |\n",
      "| \u001b[39m2        \u001b[39m | \u001b[39m-2.563   \u001b[39m | \u001b[39m0.7338   \u001b[39m | \u001b[39m1.092    \u001b[39m | \u001b[39m10.94    \u001b[39m | \u001b[39m2.382    \u001b[39m |\n",
      "| \u001b[39m3        \u001b[39m | \u001b[39m-2.122   \u001b[39m | \u001b[39m1.984    \u001b[39m | \u001b[39m1.539    \u001b[39m | \u001b[39m22.12    \u001b[39m | \u001b[39m3.741    \u001b[39m |\n",
      "| \u001b[39m4        \u001b[39m | \u001b[39m-2.157   \u001b[39m | \u001b[39m1.022    \u001b[39m | \u001b[39m1.878    \u001b[39m | \u001b[39m3.315    \u001b[39m | \u001b[39m3.682    \u001b[39m |\n",
      "| \u001b[39m5        \u001b[39m | \u001b[39m-2.062   \u001b[39m | \u001b[39m2.087    \u001b[39m | \u001b[39m1.559    \u001b[39m | \u001b[39m8.739    \u001b[39m | \u001b[39m1.792    \u001b[39m |\n",
      "| \u001b[39m6        \u001b[39m | \u001b[39m-2.048   \u001b[39m | \u001b[39m4.004    \u001b[39m | \u001b[39m1.968    \u001b[39m | \u001b[39m17.04    \u001b[39m | \u001b[39m3.769    \u001b[39m |\n",
      "| \u001b[39m7        \u001b[39m | \u001b[39m-3.155   \u001b[39m | \u001b[39m4.382    \u001b[39m | \u001b[39m1.895    \u001b[39m | \u001b[39m6.082    \u001b[39m | \u001b[39m1.156    \u001b[39m |\n",
      "| \u001b[39m8        \u001b[39m | \u001b[39m-2.554   \u001b[39m | \u001b[39m0.8492   \u001b[39m | \u001b[39m1.878    \u001b[39m | \u001b[39m6.721    \u001b[39m | \u001b[39m2.684    \u001b[39m |\n",
      "| \u001b[35m9        \u001b[39m | \u001b[35m-1.98    \u001b[39m | \u001b[35m4.789    \u001b[39m | \u001b[35m1.533    \u001b[39m | \u001b[35m35.21    \u001b[39m | \u001b[35m2.262    \u001b[39m |\n",
      "| \u001b[39m10       \u001b[39m | \u001b[39m-2.064   \u001b[39m | \u001b[39m3.433    \u001b[39m | \u001b[39m1.835    \u001b[39m | \u001b[39m2.878    \u001b[39m | \u001b[39m4.001    \u001b[39m |\n",
      "| \u001b[35m11       \u001b[39m | \u001b[35m-1.905   \u001b[39m | \u001b[35m4.944    \u001b[39m | \u001b[35m1.748    \u001b[39m | \u001b[35m15.46    \u001b[39m | \u001b[35m4.157    \u001b[39m |\n",
      "| \u001b[39m12       \u001b[39m | \u001b[39m-166.1   \u001b[39m | \u001b[39m0.5161   \u001b[39m | \u001b[39m1.448    \u001b[39m | \u001b[39m45.61    \u001b[39m | \u001b[39m2.174    \u001b[39m |\n",
      "| \u001b[39m13       \u001b[39m | \u001b[39m-2.697   \u001b[39m | \u001b[39m1.439    \u001b[39m | \u001b[39m1.13     \u001b[39m | \u001b[39m2.93     \u001b[39m | \u001b[39m3.715    \u001b[39m |\n",
      "| \u001b[39m14       \u001b[39m | \u001b[39m-2.741e+2\u001b[39m | \u001b[39m1.058    \u001b[39m | \u001b[39m1.266    \u001b[39m | \u001b[39m25.6     \u001b[39m | \u001b[39m1.213    \u001b[39m |\n",
      "| \u001b[39m15       \u001b[39m | \u001b[39m-2.087   \u001b[39m | \u001b[39m2.871    \u001b[39m | \u001b[39m1.147    \u001b[39m | \u001b[39m30.29    \u001b[39m | \u001b[39m3.799    \u001b[39m |\n",
      "| \u001b[39m16       \u001b[39m | \u001b[39m-2.245   \u001b[39m | \u001b[39m0.5117   \u001b[39m | \u001b[39m1.414    \u001b[39m | \u001b[39m35.33    \u001b[39m | \u001b[39m2.657    \u001b[39m |\n",
      "| \u001b[39m17       \u001b[39m | \u001b[39m-2.369   \u001b[39m | \u001b[39m0.2498   \u001b[39m | \u001b[39m1.536    \u001b[39m | \u001b[39m33.86    \u001b[39m | \u001b[39m3.06     \u001b[39m |\n",
      "| \u001b[39m18       \u001b[39m | \u001b[39m-2.355   \u001b[39m | \u001b[39m4.723    \u001b[39m | \u001b[39m1.587    \u001b[39m | \u001b[39m45.36    \u001b[39m | \u001b[39m1.55     \u001b[39m |\n",
      "| \u001b[39m19       \u001b[39m | \u001b[39m-2.295   \u001b[39m | \u001b[39m0.6964   \u001b[39m | \u001b[39m1.807    \u001b[39m | \u001b[39m21.09    \u001b[39m | \u001b[39m1.661    \u001b[39m |\n",
      "| \u001b[39m20       \u001b[39m | \u001b[39m-2.039   \u001b[39m | \u001b[39m4.638    \u001b[39m | \u001b[39m1.348    \u001b[39m | \u001b[39m38.04    \u001b[39m | \u001b[39m3.904    \u001b[39m |\n",
      "| \u001b[39m21       \u001b[39m | \u001b[39m-1.995   \u001b[39m | \u001b[39m4.417    \u001b[39m | \u001b[39m1.624    \u001b[39m | \u001b[39m38.05    \u001b[39m | \u001b[39m2.396    \u001b[39m |\n",
      "| \u001b[39m22       \u001b[39m | \u001b[39m-2.252   \u001b[39m | \u001b[39m1.35     \u001b[39m | \u001b[39m1.896    \u001b[39m | \u001b[39m22.55    \u001b[39m | \u001b[39m4.859    \u001b[39m |\n",
      "| \u001b[39m23       \u001b[39m | \u001b[39m-1.961   \u001b[39m | \u001b[39m3.317    \u001b[39m | \u001b[39m1.622    \u001b[39m | \u001b[39m7.508    \u001b[39m | \u001b[39m4.798    \u001b[39m |\n",
      "| \u001b[39m24       \u001b[39m | \u001b[39m-2.04    \u001b[39m | \u001b[39m2.25     \u001b[39m | \u001b[39m1.578    \u001b[39m | \u001b[39m21.59    \u001b[39m | \u001b[39m1.948    \u001b[39m |\n",
      "| \u001b[39m25       \u001b[39m | \u001b[39m-2.153   \u001b[39m | \u001b[39m4.517    \u001b[39m | \u001b[39m1.574    \u001b[39m | \u001b[39m2.138    \u001b[39m | \u001b[39m3.469    \u001b[39m |\n",
      "| \u001b[39m26       \u001b[39m | \u001b[39m-62.73   \u001b[39m | \u001b[39m1.633    \u001b[39m | \u001b[39m1.527    \u001b[39m | \u001b[39m44.53    \u001b[39m | \u001b[39m2.429    \u001b[39m |\n",
      "| \u001b[39m27       \u001b[39m | \u001b[39m-1.996   \u001b[39m | \u001b[39m4.543    \u001b[39m | \u001b[39m1.623    \u001b[39m | \u001b[39m2.759    \u001b[39m | \u001b[39m4.718    \u001b[39m |\n",
      "| \u001b[39m28       \u001b[39m | \u001b[39m-2.346   \u001b[39m | \u001b[39m3.454    \u001b[39m | \u001b[39m1.997    \u001b[39m | \u001b[39m10.27    \u001b[39m | \u001b[39m1.549    \u001b[39m |\n",
      "| \u001b[39m29       \u001b[39m | \u001b[39m-1.925   \u001b[39m | \u001b[39m4.663    \u001b[39m | \u001b[39m1.697    \u001b[39m | \u001b[39m5.168    \u001b[39m | \u001b[39m4.022    \u001b[39m |\n",
      "| \u001b[39m30       \u001b[39m | \u001b[39m-2.186   \u001b[39m | \u001b[39m3.769    \u001b[39m | \u001b[39m1.923    \u001b[39m | \u001b[39m36.15    \u001b[39m | \u001b[39m1.497    \u001b[39m |\n",
      "| \u001b[39m31       \u001b[39m | \u001b[39m-2.54    \u001b[39m | \u001b[39m0.09941  \u001b[39m | \u001b[39m1.026    \u001b[39m | \u001b[39m3.359    \u001b[39m | \u001b[39m1.985    \u001b[39m |\n",
      "| \u001b[39m32       \u001b[39m | \u001b[39m-1.921   \u001b[39m | \u001b[39m4.3      \u001b[39m | \u001b[39m1.539    \u001b[39m | \u001b[39m28.54    \u001b[39m | \u001b[39m4.368    \u001b[39m |\n",
      "| \u001b[39m33       \u001b[39m | \u001b[39m-2.353   \u001b[39m | \u001b[39m0.6209   \u001b[39m | \u001b[39m1.279    \u001b[39m | \u001b[39m30.12    \u001b[39m | \u001b[39m4.878    \u001b[39m |\n",
      "| \u001b[39m34       \u001b[39m | \u001b[39m-2.126   \u001b[39m | \u001b[39m2.805    \u001b[39m | \u001b[39m1.019    \u001b[39m | \u001b[39m40.43    \u001b[39m | \u001b[39m1.932    \u001b[39m |\n",
      "| \u001b[39m35       \u001b[39m | \u001b[39m-2.047   \u001b[39m | \u001b[39m4.036    \u001b[39m | \u001b[39m1.388    \u001b[39m | \u001b[39m43.45    \u001b[39m | \u001b[39m3.988    \u001b[39m |\n",
      "| \u001b[39m36       \u001b[39m | \u001b[39m-2.423   \u001b[39m | \u001b[39m2.781    \u001b[39m | \u001b[39m1.136    \u001b[39m | \u001b[39m4.876    \u001b[39m | \u001b[39m1.485    \u001b[39m |\n",
      "| \u001b[39m37       \u001b[39m | \u001b[39m-2.422   \u001b[39m | \u001b[39m0.2228   \u001b[39m | \u001b[39m1.107    \u001b[39m | \u001b[39m12.83    \u001b[39m | \u001b[39m3.852    \u001b[39m |\n",
      "| \u001b[39m38       \u001b[39m | \u001b[39m-1.983   \u001b[39m | \u001b[39m2.799    \u001b[39m | \u001b[39m1.013    \u001b[39m | \u001b[39m5.455    \u001b[39m | \u001b[39m4.869    \u001b[39m |\n",
      "| \u001b[39m39       \u001b[39m | \u001b[39m-2.088   \u001b[39m | \u001b[39m2.841    \u001b[39m | \u001b[39m1.203    \u001b[39m | \u001b[39m14.11    \u001b[39m | \u001b[39m3.975    \u001b[39m |\n",
      "| \u001b[39m40       \u001b[39m | \u001b[39m-2.11    \u001b[39m | \u001b[39m0.9772   \u001b[39m | \u001b[39m1.581    \u001b[39m | \u001b[39m48.56    \u001b[39m | \u001b[39m4.387    \u001b[39m |\n",
      "| \u001b[39m41       \u001b[39m | \u001b[39m-35.08   \u001b[39m | \u001b[39m1.199    \u001b[39m | \u001b[39m1.494    \u001b[39m | \u001b[39m31.76    \u001b[39m | \u001b[39m4.316    \u001b[39m |\n",
      "| \u001b[39m42       \u001b[39m | \u001b[39m-2.203   \u001b[39m | \u001b[39m0.784    \u001b[39m | \u001b[39m1.019    \u001b[39m | \u001b[39m5.361    \u001b[39m | \u001b[39m2.945    \u001b[39m |\n",
      "| \u001b[39m43       \u001b[39m | \u001b[39m-1.973   \u001b[39m | \u001b[39m3.032    \u001b[39m | \u001b[39m1.569    \u001b[39m | \u001b[39m17.23    \u001b[39m | \u001b[39m4.954    \u001b[39m |\n",
      "| \u001b[39m44       \u001b[39m | \u001b[39m-2.085   \u001b[39m | \u001b[39m2.899    \u001b[39m | \u001b[39m1.38     \u001b[39m | \u001b[39m28.45    \u001b[39m | \u001b[39m3.981    \u001b[39m |\n",
      "| \u001b[39m45       \u001b[39m | \u001b[39m-2.014   \u001b[39m | \u001b[39m3.346    \u001b[39m | \u001b[39m1.265    \u001b[39m | \u001b[39m5.184    \u001b[39m | \u001b[39m2.48     \u001b[39m |\n",
      "| \u001b[39m46       \u001b[39m | \u001b[39m-2.165   \u001b[39m | \u001b[39m3.149    \u001b[39m | \u001b[39m1.21     \u001b[39m | \u001b[39m38.13    \u001b[39m | \u001b[39m1.266    \u001b[39m |\n",
      "| \u001b[39m47       \u001b[39m | \u001b[39m-2.206   \u001b[39m | \u001b[39m1.302    \u001b[39m | \u001b[39m1.805    \u001b[39m | \u001b[39m11.28    \u001b[39m | \u001b[39m3.558    \u001b[39m |\n",
      "| \u001b[39m48       \u001b[39m | \u001b[39m-2.066   \u001b[39m | \u001b[39m2.623    \u001b[39m | \u001b[39m1.925    \u001b[39m | \u001b[39m14.64    \u001b[39m | \u001b[39m1.264    \u001b[39m |\n",
      "| \u001b[39m49       \u001b[39m | \u001b[39m-1.942   \u001b[39m | \u001b[39m3.675    \u001b[39m | \u001b[39m1.772    \u001b[39m | \u001b[39m45.58    \u001b[39m | \u001b[39m4.728    \u001b[39m |\n",
      "| \u001b[39m50       \u001b[39m | \u001b[39m-2.618   \u001b[39m | \u001b[39m0.06977  \u001b[39m | \u001b[39m1.234    \u001b[39m | \u001b[39m31.61    \u001b[39m | \u001b[39m4.796    \u001b[39m |\n",
      "| \u001b[39m51       \u001b[39m | \u001b[39m-2.687   \u001b[39m | \u001b[39m0.1041   \u001b[39m | \u001b[39m1.941    \u001b[39m | \u001b[39m18.76    \u001b[39m | \u001b[39m3.963    \u001b[39m |\n",
      "| \u001b[39m52       \u001b[39m | \u001b[39m-1.909   \u001b[39m | \u001b[39m4.868    \u001b[39m | \u001b[39m1.855    \u001b[39m | \u001b[39m20.95    \u001b[39m | \u001b[39m4.821    \u001b[39m |\n",
      "| \u001b[39m53       \u001b[39m | \u001b[39m-2.322   \u001b[39m | \u001b[39m5.0      \u001b[39m | \u001b[39m1.0      \u001b[39m | \u001b[39m50.0     \u001b[39m | \u001b[39m1.0      \u001b[39m |\n",
      "| \u001b[39m54       \u001b[39m | \u001b[39m-2.036   \u001b[39m | \u001b[39m2.698    \u001b[39m | \u001b[39m1.0      \u001b[39m | \u001b[39m18.82    \u001b[39m | \u001b[39m1.0      \u001b[39m |\n",
      "23-07-2025 15:21:08 INFO | climatrix.reconstruct.kriging | Using geographic coordinates for kriging reconstruction. Moving to positive-only longitude convention.\n",
      "| \u001b[39m55       \u001b[39m | \u001b[39m-2.15    \u001b[39m | \u001b[39m1e-05    \u001b[39m | \u001b[39m2.0      \u001b[39m | \u001b[39m40.24    \u001b[39m | \u001b[39m5.0      \u001b[39m |\n"
     ]
    },
    {
     "name": "stderr",
     "output_type": "stream",
     "text": [
      "/storage/tul/projects/climatrix/experiments/jwalczak/01_Apr_02_compare_recon_method/conf/exp1/lib/python3.12/site-packages/pykrige/ok.py:294: UserWarning: Anisotropy is not compatible with geographic coordinates. Ignoring user set anisotropy.\n",
      "  warnings.warn(\n"
     ]
    },
    {
     "name": "stdout",
     "output_type": "stream",
     "text": [
      "23-07-2025 15:21:08 INFO | climatrix.reconstruct.kriging | Using geographic coordinates for kriging reconstruction. Moving to positive-only longitude convention.\n",
      "| \u001b[39m56       \u001b[39m | \u001b[39m-1.369e+0\u001b[39m | \u001b[39m1e-05    \u001b[39m | \u001b[39m2.0      \u001b[39m | \u001b[39m50.0     \u001b[39m | \u001b[39m1.0      \u001b[39m |\n"
     ]
    },
    {
     "name": "stderr",
     "output_type": "stream",
     "text": [
      "/storage/tul/projects/climatrix/experiments/jwalczak/01_Apr_02_compare_recon_method/conf/exp1/lib/python3.12/site-packages/pykrige/ok.py:294: UserWarning: Anisotropy is not compatible with geographic coordinates. Ignoring user set anisotropy.\n",
      "  warnings.warn(\n"
     ]
    },
    {
     "name": "stdout",
     "output_type": "stream",
     "text": [
      "| \u001b[35m57       \u001b[39m | \u001b[35m-1.905   \u001b[39m | \u001b[35m5.0      \u001b[39m | \u001b[35m1.0      \u001b[39m | \u001b[35m50.0     \u001b[39m | \u001b[35m5.0      \u001b[39m |\n",
      "| \u001b[35m58       \u001b[39m | \u001b[35m-1.896   \u001b[39m | \u001b[35m5.0      \u001b[39m | \u001b[35m1.0      \u001b[39m | \u001b[35m11.05    \u001b[39m | \u001b[35m5.0      \u001b[39m |\n",
      "| \u001b[39m59       \u001b[39m | \u001b[39m-2.649   \u001b[39m | \u001b[39m0.1081   \u001b[39m | \u001b[39m1.963    \u001b[39m | \u001b[39m41.28    \u001b[39m | \u001b[39m1.169    \u001b[39m |\n",
      "| \u001b[39m60       \u001b[39m | \u001b[39m-3.669   \u001b[39m | \u001b[39m1e-05    \u001b[39m | \u001b[39m1.0      \u001b[39m | \u001b[39m44.13    \u001b[39m | \u001b[39m5.0      \u001b[39m |\n",
      "| \u001b[39m61       \u001b[39m | \u001b[39m-1.926   \u001b[39m | \u001b[39m4.133    \u001b[39m | \u001b[39m1.943    \u001b[39m | \u001b[39m33.75    \u001b[39m | \u001b[39m4.957    \u001b[39m |\n",
      "| \u001b[39m62       \u001b[39m | \u001b[39m-3.672   \u001b[39m | \u001b[39m1e-05    \u001b[39m | \u001b[39m1.0      \u001b[39m | \u001b[39m36.54    \u001b[39m | \u001b[39m5.0      \u001b[39m |\n",
      "| \u001b[39m63       \u001b[39m | \u001b[39m-3.14    \u001b[39m | \u001b[39m1e-05    \u001b[39m | \u001b[39m1.0      \u001b[39m | \u001b[39m16.1     \u001b[39m | \u001b[39m1.0      \u001b[39m |\n",
      "| \u001b[39m64       \u001b[39m | \u001b[39m-2.03    \u001b[39m | \u001b[39m1.985    \u001b[39m | \u001b[39m1.0      \u001b[39m | \u001b[39m20.33    \u001b[39m | \u001b[39m5.0      \u001b[39m |\n",
      "| \u001b[39m65       \u001b[39m | \u001b[39m-3.635   \u001b[39m | \u001b[39m1e-05    \u001b[39m | \u001b[39m1.0      \u001b[39m | \u001b[39m8.699    \u001b[39m | \u001b[39m5.0      \u001b[39m |\n",
      "23-07-2025 15:21:12 INFO | climatrix.reconstruct.kriging | Using geographic coordinates for kriging reconstruction. Moving to positive-only longitude convention.\n"
     ]
    },
    {
     "name": "stderr",
     "output_type": "stream",
     "text": [
      "/storage/tul/projects/climatrix/experiments/jwalczak/01_Apr_02_compare_recon_method/conf/exp1/lib/python3.12/site-packages/pykrige/ok.py:294: UserWarning: Anisotropy is not compatible with geographic coordinates. Ignoring user set anisotropy.\n",
      "  warnings.warn(\n"
     ]
    },
    {
     "name": "stdout",
     "output_type": "stream",
     "text": [
      "| \u001b[39m66       \u001b[39m | \u001b[39m-2.159   \u001b[39m | \u001b[39m5.0      \u001b[39m | \u001b[39m2.0      \u001b[39m | \u001b[39m20.2     \u001b[39m | \u001b[39m1.0      \u001b[39m |\n",
      "| \u001b[39m67       \u001b[39m | \u001b[39m-3.155   \u001b[39m | \u001b[39m4.996    \u001b[39m | \u001b[39m1.648    \u001b[39m | \u001b[39m42.08    \u001b[39m | \u001b[39m1.099    \u001b[39m |\n",
      "23-07-2025 15:21:13 INFO | climatrix.reconstruct.kriging | Using geographic coordinates for kriging reconstruction. Moving to positive-only longitude convention.\n",
      "| \u001b[39m68       \u001b[39m | \u001b[39m-2.15    \u001b[39m | \u001b[39m5.0      \u001b[39m | \u001b[39m2.0      \u001b[39m | \u001b[39m40.84    \u001b[39m | \u001b[39m5.0      \u001b[39m |\n"
     ]
    },
    {
     "name": "stderr",
     "output_type": "stream",
     "text": [
      "/storage/tul/projects/climatrix/experiments/jwalczak/01_Apr_02_compare_recon_method/conf/exp1/lib/python3.12/site-packages/pykrige/ok.py:294: UserWarning: Anisotropy is not compatible with geographic coordinates. Ignoring user set anisotropy.\n",
      "  warnings.warn(\n"
     ]
    },
    {
     "name": "stdout",
     "output_type": "stream",
     "text": [
      "| \u001b[39m69       \u001b[39m | \u001b[39m-2.225   \u001b[39m | \u001b[39m4.992    \u001b[39m | \u001b[39m1.273    \u001b[39m | \u001b[39m12.88    \u001b[39m | \u001b[39m1.065    \u001b[39m |\n",
      "23-07-2025 15:21:14 INFO | climatrix.reconstruct.kriging | Using geographic coordinates for kriging reconstruction. Moving to positive-only longitude convention.\n",
      "| \u001b[39m70       \u001b[39m | \u001b[39m-2.54    \u001b[39m | \u001b[39m2.365    \u001b[39m | \u001b[39m2.0      \u001b[39m | \u001b[39m20.08    \u001b[39m | \u001b[39m2.823    \u001b[39m |\n"
     ]
    },
    {
     "name": "stderr",
     "output_type": "stream",
     "text": [
      "/storage/tul/projects/climatrix/experiments/jwalczak/01_Apr_02_compare_recon_method/conf/exp1/lib/python3.12/site-packages/pykrige/ok.py:294: UserWarning: Anisotropy is not compatible with geographic coordinates. Ignoring user set anisotropy.\n",
      "  warnings.warn(\n"
     ]
    },
    {
     "name": "stdout",
     "output_type": "stream",
     "text": [
      "23-07-2025 15:21:14 INFO | climatrix.reconstruct.kriging | Using geographic coordinates for kriging reconstruction. Moving to positive-only longitude convention.\n",
      "| \u001b[39m71       \u001b[39m | \u001b[39m-2.108   \u001b[39m | \u001b[39m1e-05    \u001b[39m | \u001b[39m2.0      \u001b[39m | \u001b[39m15.54    \u001b[39m | \u001b[39m5.0      \u001b[39m |\n"
     ]
    },
    {
     "name": "stderr",
     "output_type": "stream",
     "text": [
      "/storage/tul/projects/climatrix/experiments/jwalczak/01_Apr_02_compare_recon_method/conf/exp1/lib/python3.12/site-packages/pykrige/ok.py:294: UserWarning: Anisotropy is not compatible with geographic coordinates. Ignoring user set anisotropy.\n",
      "  warnings.warn(\n"
     ]
    },
    {
     "name": "stdout",
     "output_type": "stream",
     "text": [
      "| \u001b[39m72       \u001b[39m | \u001b[39m-1.902   \u001b[39m | \u001b[39m5.0      \u001b[39m | \u001b[39m1.0      \u001b[39m | \u001b[39m24.16    \u001b[39m | \u001b[39m5.0      \u001b[39m |\n",
      "23-07-2025 15:21:15 INFO | climatrix.reconstruct.kriging | Using geographic coordinates for kriging reconstruction. Moving to positive-only longitude convention.\n",
      "| \u001b[39m73       \u001b[39m | \u001b[39m-3.43e+04\u001b[39m | \u001b[39m5.0      \u001b[39m | \u001b[39m2.0      \u001b[39m | \u001b[39m32.22    \u001b[39m | \u001b[39m1.0      \u001b[39m |\n"
     ]
    },
    {
     "name": "stderr",
     "output_type": "stream",
     "text": [
      "/storage/tul/projects/climatrix/experiments/jwalczak/01_Apr_02_compare_recon_method/conf/exp1/lib/python3.12/site-packages/pykrige/ok.py:294: UserWarning: Anisotropy is not compatible with geographic coordinates. Ignoring user set anisotropy.\n",
      "  warnings.warn(\n"
     ]
    },
    {
     "name": "stdout",
     "output_type": "stream",
     "text": [
      "| \u001b[39m74       \u001b[39m | \u001b[39m-3.173   \u001b[39m | \u001b[39m1e-05    \u001b[39m | \u001b[39m1.0      \u001b[39m | \u001b[39m38.1     \u001b[39m | \u001b[39m1.0      \u001b[39m |\n",
      "23-07-2025 15:21:15 INFO | climatrix.reconstruct.kriging | Using geographic coordinates for kriging reconstruction. Moving to positive-only longitude convention.\n",
      "| \u001b[39m75       \u001b[39m | \u001b[39m-2.148   \u001b[39m | \u001b[39m5.0      \u001b[39m | \u001b[39m2.0      \u001b[39m | \u001b[39m2.0      \u001b[39m | \u001b[39m1.0      \u001b[39m |\n"
     ]
    },
    {
     "name": "stderr",
     "output_type": "stream",
     "text": [
      "/storage/tul/projects/climatrix/experiments/jwalczak/01_Apr_02_compare_recon_method/conf/exp1/lib/python3.12/site-packages/pykrige/ok.py:294: UserWarning: Anisotropy is not compatible with geographic coordinates. Ignoring user set anisotropy.\n",
      "  warnings.warn(\n"
     ]
    },
    {
     "name": "stdout",
     "output_type": "stream",
     "text": [
      "| \u001b[39m76       \u001b[39m | \u001b[39m-2.135   \u001b[39m | \u001b[39m2.554    \u001b[39m | \u001b[39m1.596    \u001b[39m | \u001b[39m47.92    \u001b[39m | \u001b[39m1.073    \u001b[39m |\n",
      "23-07-2025 15:21:16 INFO | climatrix.reconstruct.kriging | Using geographic coordinates for kriging reconstruction. Moving to positive-only longitude convention.\n"
     ]
    },
    {
     "name": "stderr",
     "output_type": "stream",
     "text": [
      "/storage/tul/projects/climatrix/experiments/jwalczak/01_Apr_02_compare_recon_method/conf/exp1/lib/python3.12/site-packages/pykrige/ok.py:294: UserWarning: Anisotropy is not compatible with geographic coordinates. Ignoring user set anisotropy.\n",
      "  warnings.warn(\n"
     ]
    },
    {
     "name": "stdout",
     "output_type": "stream",
     "text": [
      "| \u001b[39m77       \u001b[39m | \u001b[39m-7.5e+27 \u001b[39m | \u001b[39m1e-05    \u001b[39m | \u001b[39m2.0      \u001b[39m | \u001b[39m8.961    \u001b[39m | \u001b[39m1.0      \u001b[39m |\n",
      "| \u001b[39m78       \u001b[39m | \u001b[39m-2.03    \u001b[39m | \u001b[39m3.398    \u001b[39m | \u001b[39m1.0      \u001b[39m | \u001b[39m8.285    \u001b[39m | \u001b[39m2.471    \u001b[39m |\n",
      "23-07-2025 15:21:18 INFO | climatrix.reconstruct.kriging | Using geographic coordinates for kriging reconstruction. Moving to positive-only longitude convention.\n",
      "| \u001b[39m79       \u001b[39m | \u001b[39m-2.203   \u001b[39m | \u001b[39m1.663    \u001b[39m | \u001b[39m2.0      \u001b[39m | \u001b[39m38.24    \u001b[39m | \u001b[39m3.597    \u001b[39m |\n"
     ]
    },
    {
     "name": "stderr",
     "output_type": "stream",
     "text": [
      "/storage/tul/projects/climatrix/experiments/jwalczak/01_Apr_02_compare_recon_method/conf/exp1/lib/python3.12/site-packages/pykrige/ok.py:294: UserWarning: Anisotropy is not compatible with geographic coordinates. Ignoring user set anisotropy.\n",
      "  warnings.warn(\n"
     ]
    },
    {
     "name": "stdout",
     "output_type": "stream",
     "text": [
      "| \u001b[39m80       \u001b[39m | \u001b[39m-2.091   \u001b[39m | \u001b[39m2.464    \u001b[39m | \u001b[39m1.024    \u001b[39m | \u001b[39m9.687    \u001b[39m | \u001b[39m3.63     \u001b[39m |\n",
      "| \u001b[39m81       \u001b[39m | \u001b[39m-2.053   \u001b[39m | \u001b[39m2.601    \u001b[39m | \u001b[39m1.034    \u001b[39m | \u001b[39m12.41    \u001b[39m | \u001b[39m2.237    \u001b[39m |\n",
      "| \u001b[39m82       \u001b[39m | \u001b[39m-2.039   \u001b[39m | \u001b[39m4.703    \u001b[39m | \u001b[39m1.435    \u001b[39m | \u001b[39m47.98    \u001b[39m | \u001b[39m3.073    \u001b[39m |\n",
      "| \u001b[39m83       \u001b[39m | \u001b[39m-2.309   \u001b[39m | \u001b[39m0.64     \u001b[39m | \u001b[39m1.948    \u001b[39m | \u001b[39m6.148    \u001b[39m | \u001b[39m4.871    \u001b[39m |\n",
      "| \u001b[39m84       \u001b[39m | \u001b[39m-1.994   \u001b[39m | \u001b[39m2.762    \u001b[39m | \u001b[39m1.0      \u001b[39m | \u001b[39m35.9     \u001b[39m | \u001b[39m4.597    \u001b[39m |\n",
      "| \u001b[39m85       \u001b[39m | \u001b[39m-2.022   \u001b[39m | \u001b[39m2.266    \u001b[39m | \u001b[39m1.33     \u001b[39m | \u001b[39m32.82    \u001b[39m | \u001b[39m1.089    \u001b[39m |\n",
      "23-07-2025 15:21:21 INFO | climatrix.reconstruct.kriging | Using geographic coordinates for kriging reconstruction. Moving to positive-only longitude convention.\n",
      "| \u001b[39m86       \u001b[39m | \u001b[39m-2.207   \u001b[39m | \u001b[39m1.784    \u001b[39m | \u001b[39m2.0      \u001b[39m | \u001b[39m41.99    \u001b[39m | \u001b[39m3.978    \u001b[39m |\n"
     ]
    },
    {
     "name": "stderr",
     "output_type": "stream",
     "text": [
      "/storage/tul/projects/climatrix/experiments/jwalczak/01_Apr_02_compare_recon_method/conf/exp1/lib/python3.12/site-packages/pykrige/ok.py:294: UserWarning: Anisotropy is not compatible with geographic coordinates. Ignoring user set anisotropy.\n",
      "  warnings.warn(\n"
     ]
    },
    {
     "name": "stdout",
     "output_type": "stream",
     "text": [
      "| \u001b[39m87       \u001b[39m | \u001b[39m-3.158   \u001b[39m | \u001b[39m1e-05    \u001b[39m | \u001b[39m1.0      \u001b[39m | \u001b[39m30.62    \u001b[39m | \u001b[39m1.73     \u001b[39m |\n",
      "23-07-2025 15:21:22 INFO | climatrix.reconstruct.kriging | Using geographic coordinates for kriging reconstruction. Moving to positive-only longitude convention.\n",
      "| \u001b[39m88       \u001b[39m | \u001b[39m-6.913e+1\u001b[39m | \u001b[39m3.033    \u001b[39m | \u001b[39m2.0      \u001b[39m | \u001b[39m29.73    \u001b[39m | \u001b[39m1.0      \u001b[39m |\n"
     ]
    },
    {
     "name": "stderr",
     "output_type": "stream",
     "text": [
      "/storage/tul/projects/climatrix/experiments/jwalczak/01_Apr_02_compare_recon_method/conf/exp1/lib/python3.12/site-packages/pykrige/ok.py:294: UserWarning: Anisotropy is not compatible with geographic coordinates. Ignoring user set anisotropy.\n",
      "  warnings.warn(\n"
     ]
    },
    {
     "name": "stdout",
     "output_type": "stream",
     "text": [
      "23-07-2025 15:21:22 INFO | climatrix.reconstruct.kriging | Using geographic coordinates for kriging reconstruction. Moving to positive-only longitude convention.\n",
      "| \u001b[39m89       \u001b[39m | \u001b[39m-2.535   \u001b[39m | \u001b[39m5.0      \u001b[39m | \u001b[39m2.0      \u001b[39m | \u001b[39m23.06    \u001b[39m | \u001b[39m2.32     \u001b[39m |\n"
     ]
    },
    {
     "name": "stderr",
     "output_type": "stream",
     "text": [
      "/storage/tul/projects/climatrix/experiments/jwalczak/01_Apr_02_compare_recon_method/conf/exp1/lib/python3.12/site-packages/pykrige/ok.py:294: UserWarning: Anisotropy is not compatible with geographic coordinates. Ignoring user set anisotropy.\n",
      "  warnings.warn(\n"
     ]
    },
    {
     "name": "stdout",
     "output_type": "stream",
     "text": [
      "| \u001b[39m90       \u001b[39m | \u001b[39m-3.155   \u001b[39m | \u001b[39m5.0      \u001b[39m | \u001b[39m1.0      \u001b[39m | \u001b[39m16.41    \u001b[39m | \u001b[39m1.0      \u001b[39m |\n",
      "23-07-2025 15:21:23 INFO | climatrix.reconstruct.kriging | Using geographic coordinates for kriging reconstruction. Moving to positive-only longitude convention.\n",
      "| \u001b[39m91       \u001b[39m | \u001b[39m-2.54    \u001b[39m | \u001b[39m2.803    \u001b[39m | \u001b[39m2.0      \u001b[39m | \u001b[39m50.0     \u001b[39m | \u001b[39m2.909    \u001b[39m |\n"
     ]
    },
    {
     "name": "stderr",
     "output_type": "stream",
     "text": [
      "/storage/tul/projects/climatrix/experiments/jwalczak/01_Apr_02_compare_recon_method/conf/exp1/lib/python3.12/site-packages/pykrige/ok.py:294: UserWarning: Anisotropy is not compatible with geographic coordinates. Ignoring user set anisotropy.\n",
      "  warnings.warn(\n"
     ]
    },
    {
     "name": "stdout",
     "output_type": "stream",
     "text": [
      "23-07-2025 15:21:24 INFO | climatrix.reconstruct.kriging | Using geographic coordinates for kriging reconstruction. Moving to positive-only longitude convention.\n",
      "| \u001b[39m92       \u001b[39m | \u001b[39m-2.541   \u001b[39m | \u001b[39m5.0      \u001b[39m | \u001b[39m2.0      \u001b[39m | \u001b[39m26.21    \u001b[39m | \u001b[39m2.581    \u001b[39m |\n"
     ]
    },
    {
     "name": "stderr",
     "output_type": "stream",
     "text": [
      "/storage/tul/projects/climatrix/experiments/jwalczak/01_Apr_02_compare_recon_method/conf/exp1/lib/python3.12/site-packages/pykrige/ok.py:294: UserWarning: Anisotropy is not compatible with geographic coordinates. Ignoring user set anisotropy.\n",
      "  warnings.warn(\n"
     ]
    },
    {
     "name": "stdout",
     "output_type": "stream",
     "text": [
      "23-07-2025 15:21:24 INFO | climatrix.reconstruct.kriging | Using geographic coordinates for kriging reconstruction. Moving to positive-only longitude convention.\n",
      "| \u001b[39m93       \u001b[39m | \u001b[39m-2.207   \u001b[39m | \u001b[39m2.618    \u001b[39m | \u001b[39m2.0      \u001b[39m | \u001b[39m25.57    \u001b[39m | \u001b[39m5.0      \u001b[39m |\n"
     ]
    },
    {
     "name": "stderr",
     "output_type": "stream",
     "text": [
      "/storage/tul/projects/climatrix/experiments/jwalczak/01_Apr_02_compare_recon_method/conf/exp1/lib/python3.12/site-packages/pykrige/ok.py:294: UserWarning: Anisotropy is not compatible with geographic coordinates. Ignoring user set anisotropy.\n",
      "  warnings.warn(\n"
     ]
    },
    {
     "name": "stdout",
     "output_type": "stream",
     "text": [
      "| \u001b[39m94       \u001b[39m | \u001b[39m-3.666   \u001b[39m | \u001b[39m1e-05    \u001b[39m | \u001b[39m1.0      \u001b[39m | \u001b[39m26.99    \u001b[39m | \u001b[39m5.0      \u001b[39m |\n",
      "| \u001b[39m95       \u001b[39m | \u001b[39m-2.097   \u001b[39m | \u001b[39m1.593    \u001b[39m | \u001b[39m1.998    \u001b[39m | \u001b[39m16.72    \u001b[39m | \u001b[39m2.916    \u001b[39m |\n",
      "| \u001b[39m96       \u001b[39m | \u001b[39m-2.034   \u001b[39m | \u001b[39m4.989    \u001b[39m | \u001b[39m1.54     \u001b[39m | \u001b[39m31.53    \u001b[39m | \u001b[39m3.739    \u001b[39m |\n",
      "| \u001b[39m97       \u001b[39m | \u001b[39m-2.63    \u001b[39m | \u001b[39m0.1505   \u001b[39m | \u001b[39m1.426    \u001b[39m | \u001b[39m13.5     \u001b[39m | \u001b[39m1.547    \u001b[39m |\n",
      "| \u001b[39m98       \u001b[39m | \u001b[39m-2.256   \u001b[39m | \u001b[39m5.0      \u001b[39m | \u001b[39m1.0      \u001b[39m | \u001b[39m28.68    \u001b[39m | \u001b[39m1.634    \u001b[39m |\n",
      "| \u001b[39m99       \u001b[39m | \u001b[39m-2.068   \u001b[39m | \u001b[39m2.525    \u001b[39m | \u001b[39m1.0      \u001b[39m | \u001b[39m42.83    \u001b[39m | \u001b[39m1.0      \u001b[39m |\n",
      "| \u001b[39m100      \u001b[39m | \u001b[39m-2.029   \u001b[39m | \u001b[39m5.0      \u001b[39m | \u001b[39m1.0      \u001b[39m | \u001b[39m19.09    \u001b[39m | \u001b[39m3.136    \u001b[39m |\n",
      "| \u001b[39m101      \u001b[39m | \u001b[39m-2.011   \u001b[39m | \u001b[39m2.552    \u001b[39m | \u001b[39m1.054    \u001b[39m | \u001b[39m40.0     \u001b[39m | \u001b[39m4.928    \u001b[39m |\n",
      "| \u001b[39m102      \u001b[39m | \u001b[39m-2.965   \u001b[39m | \u001b[39m0.05394  \u001b[39m | \u001b[39m1.434    \u001b[39m | \u001b[39m18.64    \u001b[39m | \u001b[39m1.049    \u001b[39m |\n",
      "| \u001b[39m103      \u001b[39m | \u001b[39m-2.336   \u001b[39m | \u001b[39m0.3797   \u001b[39m | \u001b[39m1.965    \u001b[39m | \u001b[39m28.04    \u001b[39m | \u001b[39m2.842    \u001b[39m |\n",
      "23-07-2025 15:21:29 INFO | climatrix.reconstruct.kriging | Using geographic coordinates for kriging reconstruction. Moving to positive-only longitude convention.\n",
      "| \u001b[39m104      \u001b[39m | \u001b[39m-2.203   \u001b[39m | \u001b[39m5.0      \u001b[39m | \u001b[39m2.0      \u001b[39m | \u001b[39m12.84    \u001b[39m | \u001b[39m3.552    \u001b[39m |\n"
     ]
    },
    {
     "name": "stderr",
     "output_type": "stream",
     "text": [
      "/storage/tul/projects/climatrix/experiments/jwalczak/01_Apr_02_compare_recon_method/conf/exp1/lib/python3.12/site-packages/pykrige/ok.py:294: UserWarning: Anisotropy is not compatible with geographic coordinates. Ignoring user set anisotropy.\n",
      "  warnings.warn(\n"
     ]
    },
    {
     "name": "stdout",
     "output_type": "stream",
     "text": [
      "| \u001b[39m105      \u001b[39m | \u001b[39m-3.427   \u001b[39m | \u001b[39m1e-05    \u001b[39m | \u001b[39m1.0      \u001b[39m | \u001b[39m24.4     \u001b[39m | \u001b[39m4.361    \u001b[39m |\n",
      "| \u001b[39m106      \u001b[39m | \u001b[39m-3.546   \u001b[39m | \u001b[39m1.043    \u001b[39m | \u001b[39m1.514    \u001b[39m | \u001b[39m46.18    \u001b[39m | \u001b[39m4.876    \u001b[39m |\n",
      "| \u001b[39m107      \u001b[39m | \u001b[39m-2.082   \u001b[39m | \u001b[39m2.77     \u001b[39m | \u001b[39m1.102    \u001b[39m | \u001b[39m33.96    \u001b[39m | \u001b[39m3.102    \u001b[39m |\n",
      "| \u001b[39m108      \u001b[39m | \u001b[39m-3.147   \u001b[39m | \u001b[39m1e-05    \u001b[39m | \u001b[39m1.0      \u001b[39m | \u001b[39m47.71    \u001b[39m | \u001b[39m1.0      \u001b[39m |\n",
      "| \u001b[39m109      \u001b[39m | \u001b[39m-3.399   \u001b[39m | \u001b[39m1e-05    \u001b[39m | \u001b[39m1.0      \u001b[39m | \u001b[39m39.81    \u001b[39m | \u001b[39m2.886    \u001b[39m |\n",
      "| \u001b[39m110      \u001b[39m | \u001b[39m-2.073   \u001b[39m | \u001b[39m3.193    \u001b[39m | \u001b[39m1.0      \u001b[39m | \u001b[39m24.37    \u001b[39m | \u001b[39m3.004    \u001b[39m |\n",
      "| \u001b[39m111      \u001b[39m | \u001b[39m-3.391   \u001b[39m | \u001b[39m1e-05    \u001b[39m | \u001b[39m1.0      \u001b[39m | \u001b[39m42.81    \u001b[39m | \u001b[39m2.769    \u001b[39m |\n",
      "23-07-2025 15:21:33 INFO | climatrix.reconstruct.kriging | Using geographic coordinates for kriging reconstruction. Moving to positive-only longitude convention.\n",
      "| \u001b[39m112      \u001b[39m | \u001b[39m-13.28   \u001b[39m | \u001b[39m1e-05    \u001b[39m | \u001b[39m2.0      \u001b[39m | \u001b[39m2.0      \u001b[39m | \u001b[39m5.0      \u001b[39m |\n"
     ]
    },
    {
     "name": "stderr",
     "output_type": "stream",
     "text": [
      "/storage/tul/projects/climatrix/experiments/jwalczak/01_Apr_02_compare_recon_method/conf/exp1/lib/python3.12/site-packages/pykrige/ok.py:294: UserWarning: Anisotropy is not compatible with geographic coordinates. Ignoring user set anisotropy.\n",
      "  warnings.warn(\n"
     ]
    },
    {
     "name": "stdout",
     "output_type": "stream",
     "text": [
      "| \u001b[39m113      \u001b[39m | \u001b[39m-1.959   \u001b[39m | \u001b[39m5.0      \u001b[39m | \u001b[39m1.0      \u001b[39m | \u001b[39m40.47    \u001b[39m | \u001b[39m2.873    \u001b[39m |\n",
      "23-07-2025 15:21:34 INFO | climatrix.reconstruct.kriging | Using geographic coordinates for kriging reconstruction. Moving to positive-only longitude convention.\n",
      "| \u001b[39m114      \u001b[39m | \u001b[39m-2.152   \u001b[39m | \u001b[39m5.0      \u001b[39m | \u001b[39m2.0      \u001b[39m | \u001b[39m36.04    \u001b[39m | \u001b[39m5.0      \u001b[39m |\n"
     ]
    },
    {
     "name": "stderr",
     "output_type": "stream",
     "text": [
      "/storage/tul/projects/climatrix/experiments/jwalczak/01_Apr_02_compare_recon_method/conf/exp1/lib/python3.12/site-packages/pykrige/ok.py:294: UserWarning: Anisotropy is not compatible with geographic coordinates. Ignoring user set anisotropy.\n",
      "  warnings.warn(\n"
     ]
    },
    {
     "name": "stdout",
     "output_type": "stream",
     "text": [
      "| \u001b[39m115      \u001b[39m | \u001b[39m-1.967   \u001b[39m | \u001b[39m3.101    \u001b[39m | \u001b[39m1.076    \u001b[39m | \u001b[39m48.09    \u001b[39m | \u001b[39m4.696    \u001b[39m |\n",
      "| \u001b[39m116      \u001b[39m | \u001b[39m-2.152   \u001b[39m | \u001b[39m5.0      \u001b[39m | \u001b[39m1.0      \u001b[39m | \u001b[39m24.81    \u001b[39m | \u001b[39m1.0      \u001b[39m |\n",
      "| \u001b[39m117      \u001b[39m | \u001b[39m-3.155   \u001b[39m | \u001b[39m5.0      \u001b[39m | \u001b[39m1.0      \u001b[39m | \u001b[39m4.027    \u001b[39m | \u001b[39m1.0      \u001b[39m |\n",
      "| \u001b[39m118      \u001b[39m | \u001b[39m-2.027   \u001b[39m | \u001b[39m1.795    \u001b[39m | \u001b[39m1.0      \u001b[39m | \u001b[39m35.58    \u001b[39m | \u001b[39m1.0      \u001b[39m |\n",
      "23-07-2025 15:21:36 INFO | climatrix.reconstruct.kriging | Using geographic coordinates for kriging reconstruction. Moving to positive-only longitude convention.\n",
      "| \u001b[39m119      \u001b[39m | \u001b[39m-2.148   \u001b[39m | \u001b[39m3.339    \u001b[39m | \u001b[39m2.0      \u001b[39m | \u001b[39m27.17    \u001b[39m | \u001b[39m1.0      \u001b[39m |\n"
     ]
    },
    {
     "name": "stderr",
     "output_type": "stream",
     "text": [
      "/storage/tul/projects/climatrix/experiments/jwalczak/01_Apr_02_compare_recon_method/conf/exp1/lib/python3.12/site-packages/pykrige/ok.py:294: UserWarning: Anisotropy is not compatible with geographic coordinates. Ignoring user set anisotropy.\n",
      "  warnings.warn(\n"
     ]
    },
    {
     "name": "stdout",
     "output_type": "stream",
     "text": [
      "23-07-2025 15:21:37 INFO | climatrix.reconstruct.kriging | Using geographic coordinates for kriging reconstruction. Moving to positive-only longitude convention.\n",
      "| \u001b[39m120      \u001b[39m | \u001b[39m-2.112   \u001b[39m | \u001b[39m1.195    \u001b[39m | \u001b[39m2.0      \u001b[39m | \u001b[39m34.29    \u001b[39m | \u001b[39m5.0      \u001b[39m |\n"
     ]
    },
    {
     "name": "stderr",
     "output_type": "stream",
     "text": [
      "/storage/tul/projects/climatrix/experiments/jwalczak/01_Apr_02_compare_recon_method/conf/exp1/lib/python3.12/site-packages/pykrige/ok.py:294: UserWarning: Anisotropy is not compatible with geographic coordinates. Ignoring user set anisotropy.\n",
      "  warnings.warn(\n"
     ]
    },
    {
     "name": "stdout",
     "output_type": "stream",
     "text": [
      "| \u001b[39m121      \u001b[39m | \u001b[39m-3.065   \u001b[39m | \u001b[39m1e-05    \u001b[39m | \u001b[39m1.0      \u001b[39m | \u001b[39m50.0     \u001b[39m | \u001b[39m3.155    \u001b[39m |\n",
      "| \u001b[39m122      \u001b[39m | \u001b[39m-2.916   \u001b[39m | \u001b[39m0.04987  \u001b[39m | \u001b[39m1.78     \u001b[39m | \u001b[39m32.55    \u001b[39m | \u001b[39m1.138    \u001b[39m |\n",
      "23-07-2025 15:21:38 INFO | climatrix.reconstruct.kriging | Using geographic coordinates for kriging reconstruction. Moving to positive-only longitude convention.\n",
      "| \u001b[39m123      \u001b[39m | \u001b[39m-2.152   \u001b[39m | \u001b[39m5.0      \u001b[39m | \u001b[39m2.0      \u001b[39m | \u001b[39m8.919    \u001b[39m | \u001b[39m5.0      \u001b[39m |\n"
     ]
    },
    {
     "name": "stderr",
     "output_type": "stream",
     "text": [
      "/storage/tul/projects/climatrix/experiments/jwalczak/01_Apr_02_compare_recon_method/conf/exp1/lib/python3.12/site-packages/pykrige/ok.py:294: UserWarning: Anisotropy is not compatible with geographic coordinates. Ignoring user set anisotropy.\n",
      "  warnings.warn(\n"
     ]
    },
    {
     "name": "stdout",
     "output_type": "stream",
     "text": [
      "| \u001b[39m124      \u001b[39m | \u001b[39m-1.904   \u001b[39m | \u001b[39m4.991    \u001b[39m | \u001b[39m1.04     \u001b[39m | \u001b[39m26.61    \u001b[39m | \u001b[39m4.774    \u001b[39m |\n",
      "23-07-2025 15:21:39 INFO | climatrix.reconstruct.kriging | Using geographic coordinates for kriging reconstruction. Moving to positive-only longitude convention.\n",
      "| \u001b[39m125      \u001b[39m | \u001b[39m-1.492e+0\u001b[39m | \u001b[39m5.0      \u001b[39m | \u001b[39m2.0      \u001b[39m | \u001b[39m47.67    \u001b[39m | \u001b[39m1.0      \u001b[39m |\n"
     ]
    },
    {
     "name": "stderr",
     "output_type": "stream",
     "text": [
      "/storage/tul/projects/climatrix/experiments/jwalczak/01_Apr_02_compare_recon_method/conf/exp1/lib/python3.12/site-packages/pykrige/ok.py:294: UserWarning: Anisotropy is not compatible with geographic coordinates. Ignoring user set anisotropy.\n",
      "  warnings.warn(\n"
     ]
    },
    {
     "name": "stdout",
     "output_type": "stream",
     "text": [
      "| \u001b[39m126      \u001b[39m | \u001b[39m-1.911   \u001b[39m | \u001b[39m2.761    \u001b[39m | \u001b[39m1.0      \u001b[39m | \u001b[39m12.02    \u001b[39m | \u001b[39m5.0      \u001b[39m |\n",
      "| \u001b[39m127      \u001b[39m | \u001b[39m-3.08    \u001b[39m | \u001b[39m1e-05    \u001b[39m | \u001b[39m1.0      \u001b[39m | \u001b[39m21.14    \u001b[39m | \u001b[39m3.936    \u001b[39m |\n",
      "| \u001b[39m128      \u001b[39m | \u001b[39m-2.03    \u001b[39m | \u001b[39m2.178    \u001b[39m | \u001b[39m1.0      \u001b[39m | \u001b[39m50.0     \u001b[39m | \u001b[39m1.0      \u001b[39m |\n",
      "23-07-2025 15:21:41 INFO | climatrix.reconstruct.kriging | Using geographic coordinates for kriging reconstruction. Moving to positive-only longitude convention.\n",
      "| \u001b[39m129      \u001b[39m | \u001b[39m-2.535   \u001b[39m | \u001b[39m1e-05    \u001b[39m | \u001b[39m2.0      \u001b[39m | \u001b[39m23.3     \u001b[39m | \u001b[39m2.256    \u001b[39m |\n"
     ]
    },
    {
     "name": "stderr",
     "output_type": "stream",
     "text": [
      "/storage/tul/projects/climatrix/experiments/jwalczak/01_Apr_02_compare_recon_method/conf/exp1/lib/python3.12/site-packages/pykrige/ok.py:294: UserWarning: Anisotropy is not compatible with geographic coordinates. Ignoring user set anisotropy.\n",
      "  warnings.warn(\n"
     ]
    },
    {
     "name": "stdout",
     "output_type": "stream",
     "text": [
      "23-07-2025 15:21:41 INFO | climatrix.reconstruct.kriging | Using geographic coordinates for kriging reconstruction. Moving to positive-only longitude convention.\n",
      "| \u001b[39m130      \u001b[39m | \u001b[39m-2.148   \u001b[39m | \u001b[39m1e-05    \u001b[39m | \u001b[39m2.0      \u001b[39m | \u001b[39m2.0      \u001b[39m | \u001b[39m1.0      \u001b[39m |\n"
     ]
    },
    {
     "name": "stderr",
     "output_type": "stream",
     "text": [
      "/storage/tul/projects/climatrix/experiments/jwalczak/01_Apr_02_compare_recon_method/conf/exp1/lib/python3.12/site-packages/pykrige/ok.py:294: UserWarning: Anisotropy is not compatible with geographic coordinates. Ignoring user set anisotropy.\n",
      "  warnings.warn(\n"
     ]
    },
    {
     "name": "stdout",
     "output_type": "stream",
     "text": [
      "23-07-2025 15:21:42 INFO | climatrix.reconstruct.kriging | Using geographic coordinates for kriging reconstruction. Moving to positive-only longitude convention.\n",
      "| \u001b[39m131      \u001b[39m | \u001b[39m-7.5e+27 \u001b[39m | \u001b[39m5.0      \u001b[39m | \u001b[39m2.0      \u001b[39m | \u001b[39m8.573    \u001b[39m | \u001b[39m1.0      \u001b[39m |\n"
     ]
    },
    {
     "name": "stderr",
     "output_type": "stream",
     "text": [
      "/storage/tul/projects/climatrix/experiments/jwalczak/01_Apr_02_compare_recon_method/conf/exp1/lib/python3.12/site-packages/pykrige/ok.py:294: UserWarning: Anisotropy is not compatible with geographic coordinates. Ignoring user set anisotropy.\n",
      "  warnings.warn(\n"
     ]
    },
    {
     "name": "stdout",
     "output_type": "stream",
     "text": [
      "| \u001b[39m132      \u001b[39m | \u001b[39m-3.008e+0\u001b[39m | \u001b[39m2.439    \u001b[39m | \u001b[39m1.068    \u001b[39m | \u001b[39m7.034    \u001b[39m | \u001b[39m2.723    \u001b[39m |\n",
      "23-07-2025 15:21:43 INFO | climatrix.reconstruct.kriging | Using geographic coordinates for kriging reconstruction. Moving to positive-only longitude convention.\n",
      "| \u001b[39m133      \u001b[39m | \u001b[39m-2.056   \u001b[39m | \u001b[39m2.985    \u001b[39m | \u001b[39m2.0      \u001b[39m | \u001b[39m23.6     \u001b[39m | \u001b[39m1.0      \u001b[39m |\n"
     ]
    },
    {
     "name": "stderr",
     "output_type": "stream",
     "text": [
      "/storage/tul/projects/climatrix/experiments/jwalczak/01_Apr_02_compare_recon_method/conf/exp1/lib/python3.12/site-packages/pykrige/ok.py:294: UserWarning: Anisotropy is not compatible with geographic coordinates. Ignoring user set anisotropy.\n",
      "  warnings.warn(\n"
     ]
    },
    {
     "name": "stdout",
     "output_type": "stream",
     "text": [
      "| \u001b[39m134      \u001b[39m | \u001b[39m-2.056   \u001b[39m | \u001b[39m2.771    \u001b[39m | \u001b[39m1.842    \u001b[39m | \u001b[39m46.6     \u001b[39m | \u001b[39m2.926    \u001b[39m |\n",
      "| \u001b[39m135      \u001b[39m | \u001b[39m-2.076   \u001b[39m | \u001b[39m2.509    \u001b[39m | \u001b[39m1.0      \u001b[39m | \u001b[39m16.61    \u001b[39m | \u001b[39m1.0      \u001b[39m |\n",
      "23-07-2025 15:21:45 INFO | climatrix.reconstruct.kriging | Using geographic coordinates for kriging reconstruction. Moving to positive-only longitude convention.\n",
      "| \u001b[39m136      \u001b[39m | \u001b[39m-2.152   \u001b[39m | \u001b[39m5.0      \u001b[39m | \u001b[39m2.0      \u001b[39m | \u001b[39m47.38    \u001b[39m | \u001b[39m5.0      \u001b[39m |\n"
     ]
    },
    {
     "name": "stderr",
     "output_type": "stream",
     "text": [
      "/storage/tul/projects/climatrix/experiments/jwalczak/01_Apr_02_compare_recon_method/conf/exp1/lib/python3.12/site-packages/pykrige/ok.py:294: UserWarning: Anisotropy is not compatible with geographic coordinates. Ignoring user set anisotropy.\n",
      "  warnings.warn(\n"
     ]
    },
    {
     "name": "stdout",
     "output_type": "stream",
     "text": [
      "| \u001b[39m137      \u001b[39m | \u001b[39m-2.118   \u001b[39m | \u001b[39m1.21     \u001b[39m | \u001b[39m1.0      \u001b[39m | \u001b[39m28.59    \u001b[39m | \u001b[39m1.0      \u001b[39m |\n",
      "| \u001b[39m138      \u001b[39m | \u001b[39m-1.998   \u001b[39m | \u001b[39m3.434    \u001b[39m | \u001b[39m1.965    \u001b[39m | \u001b[39m11.14    \u001b[39m | \u001b[39m2.935    \u001b[39m |\n",
      "23-07-2025 15:21:46 INFO | climatrix.reconstruct.kriging | Using geographic coordinates for kriging reconstruction. Moving to positive-only longitude convention.\n",
      "| \u001b[39m139      \u001b[39m | \u001b[39m-2.153   \u001b[39m | \u001b[39m2.044    \u001b[39m | \u001b[39m2.0      \u001b[39m | \u001b[39m43.98    \u001b[39m | \u001b[39m5.0      \u001b[39m |\n"
     ]
    },
    {
     "name": "stderr",
     "output_type": "stream",
     "text": [
      "/storage/tul/projects/climatrix/experiments/jwalczak/01_Apr_02_compare_recon_method/conf/exp1/lib/python3.12/site-packages/pykrige/ok.py:294: UserWarning: Anisotropy is not compatible with geographic coordinates. Ignoring user set anisotropy.\n",
      "  warnings.warn(\n"
     ]
    },
    {
     "name": "stdout",
     "output_type": "stream",
     "text": [
      "| \u001b[39m140      \u001b[39m | \u001b[39m-2.113   \u001b[39m | \u001b[39m2.136    \u001b[39m | \u001b[39m1.0      \u001b[39m | \u001b[39m26.54    \u001b[39m | \u001b[39m3.263    \u001b[39m |\n",
      "| \u001b[39m141      \u001b[39m | \u001b[39m-2.117   \u001b[39m | \u001b[39m2.606    \u001b[39m | \u001b[39m1.0      \u001b[39m | \u001b[39m45.63    \u001b[39m | \u001b[39m1.0      \u001b[39m |\n",
      "| \u001b[39m142      \u001b[39m | \u001b[39m-3.068   \u001b[39m | \u001b[39m1e-05    \u001b[39m | \u001b[39m1.0      \u001b[39m | \u001b[39m15.24    \u001b[39m | \u001b[39m3.108    \u001b[39m |\n",
      "23-07-2025 15:21:48 INFO | climatrix.reconstruct.kriging | Using geographic coordinates for kriging reconstruction. Moving to positive-only longitude convention.\n",
      "| \u001b[39m143      \u001b[39m | \u001b[39m-1.874e+3\u001b[39m | \u001b[39m1.438    \u001b[39m | \u001b[39m2.0      \u001b[39m | \u001b[39m39.39    \u001b[39m | \u001b[39m1.0      \u001b[39m |\n"
     ]
    },
    {
     "name": "stderr",
     "output_type": "stream",
     "text": [
      "/storage/tul/projects/climatrix/experiments/jwalczak/01_Apr_02_compare_recon_method/conf/exp1/lib/python3.12/site-packages/pykrige/ok.py:294: UserWarning: Anisotropy is not compatible with geographic coordinates. Ignoring user set anisotropy.\n",
      "  warnings.warn(\n"
     ]
    },
    {
     "name": "stdout",
     "output_type": "stream",
     "text": [
      "| \u001b[39m144      \u001b[39m | \u001b[39m-2.153   \u001b[39m | \u001b[39m0.9736   \u001b[39m | \u001b[39m1.875    \u001b[39m | \u001b[39m2.253    \u001b[39m | \u001b[39m1.48     \u001b[39m |\n",
      "| \u001b[39m145      \u001b[39m | \u001b[39m-2.016   \u001b[39m | \u001b[39m2.489    \u001b[39m | \u001b[39m1.253    \u001b[39m | \u001b[39m31.88    \u001b[39m | \u001b[39m4.303    \u001b[39m |\n",
      "| \u001b[39m146      \u001b[39m | \u001b[39m-2.029   \u001b[39m | \u001b[39m3.4      \u001b[39m | \u001b[39m1.052    \u001b[39m | \u001b[39m41.74    \u001b[39m | \u001b[39m2.851    \u001b[39m |\n",
      "| \u001b[39m147      \u001b[39m | \u001b[39m-2.132   \u001b[39m | \u001b[39m1.775    \u001b[39m | \u001b[39m1.106    \u001b[39m | \u001b[39m19.14    \u001b[39m | \u001b[39m4.676    \u001b[39m |\n",
      "| \u001b[39m148      \u001b[39m | \u001b[39m-2.345   \u001b[39m | \u001b[39m0.635    \u001b[39m | \u001b[39m1.364    \u001b[39m | \u001b[39m31.68    \u001b[39m | \u001b[39m4.556    \u001b[39m |\n",
      "| \u001b[39m149      \u001b[39m | \u001b[39m-2.078   \u001b[39m | \u001b[39m2.746    \u001b[39m | \u001b[39m1.047    \u001b[39m | \u001b[39m34.09    \u001b[39m | \u001b[39m3.216    \u001b[39m |\n",
      "| \u001b[39m150      \u001b[39m | \u001b[39m-2.673   \u001b[39m | \u001b[39m0.09749  \u001b[39m | \u001b[39m1.948    \u001b[39m | \u001b[39m43.27    \u001b[39m | \u001b[39m1.006    \u001b[39m |\n",
      "=========================================================================\n"
     ]
    },
    {
     "data": {
      "text/html": [
       "<pre style=\"white-space:pre;overflow-x:auto;line-height:normal;font-family:Menlo,'DejaVu Sans Mono',consolas,'Courier New',monospace\"><span style=\"color: #808000; text-decoration-color: #808000; font-weight: bold\">Optimized parameters:</span>\n",
       "</pre>\n"
      ],
      "text/plain": [
       "\u001b[1;33mOptimized parameters:\u001b[0m\n"
      ]
     },
     "metadata": {},
     "output_type": "display_data"
    },
    {
     "data": {
      "text/html": [
       "<pre style=\"white-space:pre;overflow-x:auto;line-height:normal;font-family:Menlo,'DejaVu Sans Mono',consolas,'Courier New',monospace\"><span style=\"color: #808000; text-decoration-color: #808000\">Number of lags:</span> <span style=\"color: #008080; text-decoration-color: #008080; font-weight: bold\">11</span>\n",
       "</pre>\n"
      ],
      "text/plain": [
       "\u001b[33mNumber of lags:\u001b[0m \u001b[1;36m11\u001b[0m\n"
      ]
     },
     "metadata": {},
     "output_type": "display_data"
    },
    {
     "data": {
      "text/html": [
       "<pre style=\"white-space:pre;overflow-x:auto;line-height:normal;font-family:Menlo,'DejaVu Sans Mono',consolas,'Courier New',monospace\"><span style=\"color: #808000; text-decoration-color: #808000\">Anisotropy scaling factor:</span> <span style=\"color: #008080; text-decoration-color: #008080; font-weight: bold\">5.0</span>\n",
       "</pre>\n"
      ],
      "text/plain": [
       "\u001b[33mAnisotropy scaling factor:\u001b[0m \u001b[1;36m5.0\u001b[0m\n"
      ]
     },
     "metadata": {},
     "output_type": "display_data"
    },
    {
     "data": {
      "text/html": [
       "<pre style=\"white-space:pre;overflow-x:auto;line-height:normal;font-family:Menlo,'DejaVu Sans Mono',consolas,'Courier New',monospace\"><span style=\"color: #808000; text-decoration-color: #808000\">Coordinates type:</span> euclidean\n",
       "</pre>\n"
      ],
      "text/plain": [
       "\u001b[33mCoordinates type:\u001b[0m euclidean\n"
      ]
     },
     "metadata": {},
     "output_type": "display_data"
    },
    {
     "data": {
      "text/html": [
       "<pre style=\"white-space:pre;overflow-x:auto;line-height:normal;font-family:Menlo,'DejaVu Sans Mono',consolas,'Courier New',monospace\"><span style=\"color: #808000; text-decoration-color: #808000\">Variogram model:</span> exponential\n",
       "</pre>\n"
      ],
      "text/plain": [
       "\u001b[33mVariogram model:\u001b[0m exponential\n"
      ]
     },
     "metadata": {},
     "output_type": "display_data"
    },
    {
     "data": {
      "text/html": [
       "<pre style=\"white-space:pre;overflow-x:auto;line-height:normal;font-family:Menlo,'DejaVu Sans Mono',consolas,'Courier New',monospace\"><span style=\"color: #808000; text-decoration-color: #808000\">Best loss:</span> <span style=\"color: #008080; text-decoration-color: #008080; font-weight: bold\">-1.8957126579841788</span>\n",
       "</pre>\n"
      ],
      "text/plain": [
       "\u001b[33mBest loss:\u001b[0m \u001b[1;36m-1.8957126579841788\u001b[0m\n"
      ]
     },
     "metadata": {},
     "output_type": "display_data"
    }
   ],
   "source": [
    "metrics, hyperparams = run_single_experiment(dset_idx[IDX])"
   ]
  },
  {
   "cell_type": "code",
   "execution_count": 24,
   "id": "d41a4e41-9e17-40b3-b3c7-6e9f11c12bea",
   "metadata": {},
   "outputs": [
    {
     "data": {
      "text/html": [
       "<pre style=\"white-space:pre;overflow-x:auto;line-height:normal;font-family:Menlo,'DejaVu Sans Mono',consolas,'Courier New',monospace\"></pre>\n"
      ],
      "text/plain": []
     },
     "metadata": {},
     "output_type": "display_data"
    },
    {
     "data": {
      "text/plain": [
       "\n",
       "\u001b[1m{\u001b[0m\n",
       "    \u001b[32m'RMSE'\u001b[0m: \u001b[1;36m3.4201634935182725\u001b[0m,\n",
       "    \u001b[32m'MAE'\u001b[0m: \u001b[1;36m2.772475524368259\u001b[0m,\n",
       "    \u001b[32m'Max Abs Error'\u001b[0m: \u001b[1;36m9.30281132955735\u001b[0m,\n",
       "    \u001b[32m'R^2'\u001b[0m: \u001b[1;36m0.3287049818609036\u001b[0m\n",
       "\u001b[1m}\u001b[0m"
      ]
     },
     "execution_count": 24,
     "metadata": {},
     "output_type": "execute_result"
    }
   ],
   "source": [
    "cm.Comparison(ok_val_dset, ok_reconstructed_dset).compute_report()"
   ]
  },
  {
   "cell_type": "code",
   "execution_count": 25,
   "id": "1df9ce04-67ec-4943-8dd6-1643ce72adec",
   "metadata": {},
   "outputs": [
    {
     "data": {
      "text/html": [
       "<pre style=\"white-space:pre;overflow-x:auto;line-height:normal;font-family:Menlo,'DejaVu Sans Mono',consolas,'Courier New',monospace\"></pre>\n"
      ],
      "text/plain": []
     },
     "metadata": {},
     "output_type": "display_data"
    },
    {
     "data": {
      "text/plain": [
       "\n",
       "\u001b[1m{\u001b[0m\n",
       "    \u001b[32m'RMSE'\u001b[0m: \u001b[1;36m2.6687113595582876\u001b[0m,\n",
       "    \u001b[32m'MAE'\u001b[0m: \u001b[1;36m1.8957126579844195\u001b[0m,\n",
       "    \u001b[32m'Max Abs Error'\u001b[0m: \u001b[1;36m8.945958978347866\u001b[0m,\n",
       "    \u001b[32m'R^2'\u001b[0m: \u001b[1;36m0.3470975169311572\u001b[0m\n",
       "\u001b[1m}\u001b[0m"
      ]
     },
     "execution_count": 25,
     "metadata": {},
     "output_type": "execute_result"
    }
   ],
   "source": [
    "metrics"
   ]
  },
  {
   "cell_type": "code",
   "execution_count": null,
   "id": "8dab116d-6588-475d-85d3-0a7557f9a16d",
   "metadata": {},
   "outputs": [],
   "source": []
  }
 ],
 "metadata": {
  "kernelspec": {
   "display_name": "Python 3 (ipykernel)",
   "language": "python",
   "name": "python3"
  },
  "language_info": {
   "codemirror_mode": {
    "name": "ipython",
    "version": 3
   },
   "file_extension": ".py",
   "mimetype": "text/x-python",
   "name": "python",
   "nbconvert_exporter": "python",
   "pygments_lexer": "ipython3",
   "version": "3.12.3"
  }
 },
 "nbformat": 4,
 "nbformat_minor": 5
}

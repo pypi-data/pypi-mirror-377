{
 "cells": [
  {
   "cell_type": "markdown",
   "metadata": {},
   "source": [
    "![CoSAppLogo](../images/cosapp.svg)\n",
    "\n",
    "<font color='orange'>**CoSApp**</font> tutorials on multimode systems"
   ]
  },
  {
   "cell_type": "markdown",
   "metadata": {},
   "source": [
    "# Bouncing Ball"
   ]
  },
  {
   "cell_type": "code",
   "execution_count": null,
   "metadata": {},
   "outputs": [],
   "source": [
    "from cosapp.base import System\n",
    "import numpy as np\n",
    "\n",
    "\n",
    "class PointDynamics(System):\n",
    "    \"\"\"Point mass dynamics\"\"\"\n",
    "    def setup(self):\n",
    "        self.add_inward(\"mass\", 1.0)\n",
    "        self.add_inward(\"acc_ext\", np.zeros(3))\n",
    "        self.add_inward(\"force_ext\", np.zeros(3))\n",
    "\n",
    "        self.add_outward(\"force\", np.zeros(3))\n",
    "        self.add_outward(\"acc\", np.zeros(3))\n",
    "\n",
    "    def compute(self):\n",
    "        self.force = self.force_ext + self.mass * self.acc_ext\n",
    "        self.acc = self.force / self.mass\n",
    "\n",
    "\n",
    "class PointFriction(System):\n",
    "    \"\"\"Point mass ~ v^2 friction model\"\"\"\n",
    "    def setup(self):\n",
    "        self.add_inward('v', np.zeros(3), desc=\"Velocity\")\n",
    "        self.add_inward('cf', 0.1, desc=\"Friction coefficient\")\n",
    "\n",
    "        self.add_outward(\"force\", np.zeros(3))\n",
    "\n",
    "    def compute(self):\n",
    "        self.force = (-self.cf * np.linalg.norm(self.v)) * self.v\n",
    "\n",
    "\n",
    "class PointMassFreeFall(System):\n",
    "    \"\"\"Point mass free fall model with friction\"\"\"\n",
    "    def setup(self):\n",
    "        self.add_child(PointFriction('friction'), pulling=['cf', 'v'])\n",
    "        self.add_child(PointDynamics('dynamics'), pulling={\n",
    "            'mass': 'mass',\n",
    "            'force': 'force',\n",
    "            'acc_ext': 'g',\n",
    "            'acc': 'a',\n",
    "        })\n",
    "\n",
    "        self.connect(self.friction, self.dynamics, {\"force\": \"force_ext\"})\n",
    "\n",
    "        self.add_transient('v', der='a')\n",
    "        self.add_transient('x', der='v')\n",
    "\n",
    "        self.g = np.r_[0, 0, -9.81]\n",
    "        self.exec_order = ['friction', 'dynamics']\n",
    "\n",
    "\n",
    "class BouncingBall(PointMassFreeFall):\n",
    "    \"\"\"Extension of `PointMassFreeFall`, containing a rebound event\n",
    "    and a rebound restitution coefficient.\n",
    "    \"\"\"\n",
    "    def setup(self):\n",
    "        super().setup()\n",
    "        self.add_event('rebound', trigger=\"x[2] <= 0\")\n",
    "        self.add_inward('cr', 1.0, desc=\"Rebound restitution coefficient\", limits=(0, 1))\n",
    "        self.add_outward_modevar(\"n_rebounds\", init=0, dtype=int)\n",
    "\n",
    "    def transition(self):\n",
    "        if self.rebound.present:\n",
    "            self.n_rebounds += 1\n",
    "            v = self.v\n",
    "            if abs(v[2]) < 1e-6:\n",
    "                v[2] = 0\n",
    "            else:\n",
    "                v[2] *= -self.cr\n"
   ]
  },
  {
   "cell_type": "code",
   "execution_count": null,
   "metadata": {},
   "outputs": [],
   "source": [
    "from cosapp.drivers import RungeKutta\n",
    "from cosapp.recorders import DataFrameRecorder\n",
    "\n",
    "ball = BouncingBall('ball')\n",
    "driver = ball.add_driver(RungeKutta(order=3, dt=0.01))\n",
    "driver.time_interval = (0, 20)\n",
    "\n",
    "# Add a recorder to capture time evolution in a dataframe\n",
    "driver.add_recorder(\n",
    "    DataFrameRecorder(includes=['x', 'v', 'a', 'norm(v)']),\n",
    "    period=0.05,\n",
    ")\n",
    "\n",
    "# Define a simulation scenario\n",
    "driver.set_scenario(\n",
    "    init = {\n",
    "        'x': np.zeros(3),\n",
    "        'v': np.array([8, 0, 9.5]),\n",
    "    },\n",
    "    values = {\n",
    "        'mass': 1.5,\n",
    "        'cf': 0.20,\n",
    "        'cr': 0.98,\n",
    "    },\n",
    "    stop = ball.rebound.filter(\"norm(v) < 1\"),\n",
    ")\n",
    "\n",
    "ball.run_drivers()\n",
    "\n",
    "# Retrieve recorded data\n",
    "data = driver.recorder.export_data()\n",
    "data = data.drop(['Section', 'Status', 'Error code'], axis=1)\n",
    "time = np.asarray(data['time'])\n",
    "traj = np.asarray(data['x'].tolist())\n"
   ]
  },
  {
   "cell_type": "code",
   "execution_count": null,
   "metadata": {},
   "outputs": [],
   "source": [
    "# Plot results\n",
    "import plotly.graph_objs as go\n",
    "\n",
    "traces = [\n",
    "    go.Scatter(\n",
    "        x = traj[:, 0],\n",
    "        y = traj[:, 2],\n",
    "        mode = 'lines',\n",
    "        name = 'numerical',\n",
    "        line = dict(color='red'),\n",
    "    )\n",
    "]\n",
    "layout = go.Layout(\n",
    "    title = \"Trajectory\",\n",
    "    xaxis = dict(title=\"x\"),\n",
    "    yaxis = dict(\n",
    "        title = \"z\",\n",
    "        scaleanchor = \"x\",\n",
    "        scaleratio = 1,\n",
    "    ),\n",
    "    hovermode = \"x\",\n",
    ")\n",
    "go.Figure(data=traces, layout=layout)"
   ]
  },
  {
   "cell_type": "markdown",
   "metadata": {},
   "source": [
    "In the next cell, we filter the recorded data in the vicinity of a rebound.\n",
    "Notice that there are two entries at event time $t \\approx 1.457$, showing the discontinuity in velocity (all other quantities are here continuous)."
   ]
  },
  {
   "cell_type": "code",
   "execution_count": null,
   "metadata": {},
   "outputs": [],
   "source": [
    "data[data['time'].between(1.4, 1.6)]"
   ]
  },
  {
   "cell_type": "markdown",
   "metadata": {},
   "source": [
    "Time driver property `recorded_events` contains a list of all recorded events.\n",
    "Each element of the list is a named tuple `EventRecord(time, events)`, containing the occurrence time, and the list of cascading events at that time, starting by the primitive event."
   ]
  },
  {
   "cell_type": "code",
   "execution_count": null,
   "metadata": {},
   "outputs": [],
   "source": [
    "driver.recorded_events"
   ]
  },
  {
   "cell_type": "markdown",
   "metadata": {},
   "source": [
    "Time driver property `event_data` contains the same fields as the recorder, but only at event times:"
   ]
  },
  {
   "cell_type": "code",
   "execution_count": null,
   "metadata": {},
   "outputs": [],
   "source": [
    "driver.event_data.drop(['Section', 'Status', 'Error code'], axis=1)"
   ]
  }
 ],
 "metadata": {
  "kernelspec": {
   "display_name": "Python 3",
   "language": "python",
   "name": "python3"
  },
  "language_info": {
   "codemirror_mode": {
    "name": "ipython",
    "version": 3
   },
   "file_extension": ".py",
   "mimetype": "text/x-python",
   "name": "python",
   "nbconvert_exporter": "python",
   "pygments_lexer": "ipython3",
   "version": "3.7.9"
  }
 },
 "nbformat": 4,
 "nbformat_minor": 4
}

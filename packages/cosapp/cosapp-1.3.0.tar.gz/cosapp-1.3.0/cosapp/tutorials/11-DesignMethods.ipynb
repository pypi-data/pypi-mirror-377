{
 "cells": [
  {
   "cell_type": "markdown",
   "metadata": {
    "nbsphinx": "hidden"
   },
   "source": [
    "![CoSAppLogo](images/cosapp.svg) **CoSApp** tutorials:"
   ]
  },
  {
   "cell_type": "markdown",
   "metadata": {},
   "source": [
    "# Design Methods\n",
    "\n",
    "Design methods allow component designers to identify, from expert knowledge, the different ways users can design a component from functional requirements. \n",
    "In practice, design methods are mathematical problems that can be activated on demand.\n",
    "\n",
    "A system can contain several design methods, each reflecting an engineering practice.\n",
    "\n",
    "### Declaring a design method in a system\n",
    "\n",
    "Design methods are declared at `System` setup, using `System.add_design_method`.\n",
    "This class method takes the name of the design method as single argument; it will create a new entry in an internal dictionary of `MathematicalProblem` objects, mapped to their names.\n",
    "\n",
    "Such objects bear unknowns and equations, declared with methods `add_unkown` and `add_equation`:\n",
    "\n",
    "```python\n",
    "class MySystem(System):\n",
    "\n",
    "    def setup(self):\n",
    "        self.add_inward(\"x\", 1.0)\n",
    "        self.add_outward(\"y\", 0.0)\n",
    "\n",
    "        design = self.add_design_method(\"find_root\")    # create problem `design`, and store it with key \"find_root\"\n",
    "        design.add_unknown(\"x\").add_equation(\"y == 0\")  # define problem by declaring unknowns and equations\n",
    "\n",
    "        # Add a second design method \"my_way\":\n",
    "        self.add_design_method(\"my_way\").add_unknown(\"x\").add_equation(\"y == 2 * x\")\n",
    "\n",
    "    def compute(self):\n",
    "        self.y = self.x**2 - 3\n",
    "```"
   ]
  },
  {
   "cell_type": "markdown",
   "metadata": {},
   "source": [
    "\n",
    "## Example"
   ]
  },
  {
   "cell_type": "code",
   "execution_count": null,
   "metadata": {},
   "outputs": [],
   "source": [
    "from cosapp.base import System, Port\n",
    "\n",
    "\n",
    "class XPort(Port):\n",
    "    def setup(self):\n",
    "        self.add_variable(\"x\", 1.0)\n",
    "\n",
    "\n",
    "class MultiplyWithDesignMethod(System):\n",
    "\n",
    "    def setup(self):\n",
    "        self.add_input(XPort, \"p_in\", {\"x\": 1.0})\n",
    "        self.add_output(XPort, \"p_out\", {\"x\": 1.0})\n",
    "\n",
    "        self.add_inward(\"K1\", 5.0)\n",
    "        \n",
    "        # Intrinsic constraints\n",
    "        self.add_inward(\"expected_output\", 1.0)\n",
    "        self.add_unknown(\"p_in.x\").add_equation(\"p_out.x == expected_output\")\n",
    "\n",
    "        # Design methods\n",
    "        self.add_design_method(\"dx\").add_unknown(\"K1\").add_equation(\"p_out.x - p_in.x == 5\") \n",
    "\n",
    "    def compute(self):\n",
    "        self.p_out.x = self.p_in.x * self.K1\n"
   ]
  },
  {
   "cell_type": "markdown",
   "metadata": {},
   "source": [
    "Class `MultiplyWithDesignMethod` defines two types of mathematical problems, through `add_unknown` and `add_equation`:\n",
    "\n",
    "1. Unknowns and equations declared directly in the system definition (that is `self.add_unknown` and `self.add_equation` in system `setup`) are always enforced, for all instances of the class. They are referred to as the **intrinsic problem** of the class. Composite systems automatically collect the intrinsic problems of their sub-systems.\n",
    "\n",
    "2. Unknowns and equations declared within a design method define a **design problem**, which may or may not be activated.\n",
    "\n",
    "### Solving the intrinsic problem"
   ]
  },
  {
   "cell_type": "code",
   "execution_count": null,
   "metadata": {},
   "outputs": [],
   "source": [
    "from cosapp.drivers import NonLinearSolver\n",
    "\n",
    "# Create system\n",
    "m = MultiplyWithDesignMethod(\"m\")\n",
    "\n",
    "# Add solver\n",
    "solver = m.add_driver(NonLinearSolver(\"solver\"))\n",
    "\n",
    "# Initialize & solve system\n",
    "m.K1 = 5.0\n",
    "m.expected_output = 7.5\n",
    "m.run_drivers()\n",
    "\n",
    "print(\n",
    "    f\"Intrinsic problem for K1 = {m.K1}:\",\n",
    "    solver.problem,\n",
    "    \"\",\n",
    "    \"Result:\",\n",
    "    f\"{  m.K1 = !s}\",\n",
    "    f\"{  m.p_in.x = !s}\",\n",
    "    f\"{  m.p_out.x = !s}\",\n",
    "    sep=\"\\n\",\n",
    ")"
   ]
  },
  {
   "cell_type": "markdown",
   "metadata": {},
   "source": [
    "### Activating a design method\n",
    "\n",
    "Design methods are activated by merging the predefined design method into the solver problem, using method `NonLinearSolver.add_problem`."
   ]
  },
  {
   "cell_type": "code",
   "execution_count": null,
   "metadata": {},
   "outputs": [],
   "source": [
    "from cosapp.drivers import NonLinearSolver\n",
    "\n",
    "m = MultiplyWithDesignMethod(\"m\")\n",
    "\n",
    "solver = m.add_driver(NonLinearSolver(\"solver\"))\n",
    "\n",
    "# Activate design method \"dx\" of system `m`\n",
    "solver.add_problem(m.design_methods[\"dx\"])\n",
    "\n",
    "# Initialize & solve system\n",
    "m.K1 = 5.0\n",
    "m.expected_output = 7.5\n",
    "m.run_drivers()\n",
    "\n",
    "print(\n",
    "    \"Design problem:\",\n",
    "    solver.problem,\n",
    "    \"\",\n",
    "    \"Result:\",\n",
    "    f\"  {m.K1 = !s}\",\n",
    "    f\"  {m.p_in.x = !s}\",\n",
    "    f\"  {m.p_out.x = !s}\",\n",
    "    sep=\"\\n\",\n",
    ")"
   ]
  },
  {
   "cell_type": "markdown",
   "metadata": {},
   "source": [
    "## Reusing sub-system design methods at parent level\n",
    "\n",
    "Composite systems can take advantage of design methods defined for their sub-systems, and thus construct composite design methods.\n",
    "\n",
    "### Aggregation of design problems by extension\n",
    "\n",
    "In the example below, design method \"design\" merges design constraints from sub-systems `a` and `b`:\n",
    "\n",
    "```python\n",
    "class CompositeSystem(System):\n",
    "\n",
    "    def setup(self):\n",
    "        a = self.add_child(ComponentA(\"a\"))\n",
    "        b = self.add_child(ComponentB(\"b\"))\n",
    "\n",
    "        design = self.add_design_method(\"design\")\n",
    "        design.extend(a.design_methods[\"design_this\"])\n",
    "        design.extend(b.design_methods[\"design_that\"])\n",
    "```\n",
    "\n",
    "### Promotion of sub-system design methods\n",
    "\n",
    "One can also use method `System.pull_design_method` to promote sub-system design methods at parent level.\n",
    "Arguments are (1) the sub-system (or list thereof) from which design methods are promoted, and (2) the list of design method names, or a name mapping, if required (rules for variable pulling and connections apply - see tutorial on [Systems](01-Systems.ipynb)).\n",
    "\n",
    "In the example below, design method \"design_x\", merging design problems from sub-systems `a` and `b`, is created at parent level.\n",
    "Additionaly, design method \"design_y\" of sub-system `a` is exposed at parent level as \"design_foo\".\n",
    "\n",
    "```python\n",
    "class CompositeSystem(System):\n",
    "\n",
    "    def setup(self):\n",
    "        a = self.add_child(ComponentA(\"a\"))\n",
    "        b = self.add_child(ComponentB(\"b\"))\n",
    "\n",
    "        self.pull_design_method([a, b], \"design_x\")\n",
    "        self.pull_design_method(a, {\"design_y\": \"design_foo\"})\n",
    "```\n"
   ]
  },
  {
   "cell_type": "markdown",
   "metadata": {},
   "source": [
    "## Write dynamic design problems with custom arguments\n",
    "\n",
    "As mentioned earlier, a design method is a predefined mathematical problem, stored in dictionary `design_methods`, to be used in design problems.\n",
    "The main limitation is that design methods defined at `setup` are *static*, that is defined once and for all.\n",
    "\n",
    "For advanced uses, one may want to create mathematical problems dynamically, with optional or ad-hoc parameters, say.\n",
    "This can typically be achieved by writing dedicated object-bound methods creating said problem on-the-fly, using custom arguments.\n",
    "A convenient function, `System.new_problem`, may be used to this end:\n"
   ]
  },
  {
   "cell_type": "code",
   "execution_count": null,
   "metadata": {},
   "outputs": [],
   "source": [
    "import math\n",
    "from cosapp.base import System\n",
    "from cosapp.core import MathematicalProblem\n",
    "\n",
    "\n",
    "class SystemWithDynamicDesignMethod(System):\n",
    "\n",
    "    def setup(self):\n",
    "        self.add_inward(\"x\", 1.0)\n",
    "        self.add_outward(\"y\", 0.0)\n",
    "\n",
    "    def compute(self):\n",
    "        self.y = math.sin(self.x**2 - 2)\n",
    "    \n",
    "    def find_root(self, **options) -> MathematicalProblem:\n",
    "        \"\"\"Compute `x` such that `y == 0`.\n",
    "        Additional options apply to unknown `x`.\n",
    "        \"\"\"\n",
    "        problem = self.new_problem()\n",
    "        problem.add_unknown(\"x\", **options)\n",
    "        problem.add_equation(\"y == 0\")\n",
    "        return problem\n"
   ]
  },
  {
   "cell_type": "markdown",
   "metadata": {},
   "source": [
    "### First simulation, with no constraint on the unknown"
   ]
  },
  {
   "cell_type": "code",
   "execution_count": null,
   "metadata": {},
   "outputs": [],
   "source": [
    "from cosapp.drivers import NonLinearSolver\n",
    "from cosapp.recorders import DataFrameRecorder\n",
    "\n",
    "s = SystemWithDynamicDesignMethod(\"s\")\n",
    "\n",
    "solver = s.add_driver(NonLinearSolver(\"solver\"))\n",
    "\n",
    "# Activate design method `find_root` of system `s`\n",
    "solver.add_problem(s.find_root())\n",
    "\n",
    "# Add a recorder to store the convergence path\n",
    "solver.add_recorder(DataFrameRecorder(), history=True)\n",
    "\n",
    "s.x = 0.7  # initial guess\n",
    "s.run_drivers()\n",
    "\n",
    "# Retrieve data from the recorder\n",
    "data = solver.recorder.export_data()\n",
    "\n",
    "# import pandas as pd\n",
    "# pd.set_option('display.precision', 10)\n",
    "\n",
    "print(\n",
    "    f\"{s.x = !s}\",\n",
    "    f\"{s.y = !s}\",\n",
    "    f\"\\nConvergence path:\\n\",\n",
    "    data[[\"x\", \"y\"]],\n",
    "    sep=\"\\n\",\n",
    ")\n"
   ]
  },
  {
   "cell_type": "markdown",
   "metadata": {},
   "source": [
    "In this example, the initial value of 0.7 chosen for variable `s.x` corresponds to a derivative dy/dx of about 0.085.\n",
    "Consequently, with no constraint enforced on the Newton-Raphson algorithm used by `NonLinearSolver`, variable `s.x` undergoes a large jump from 0.7 to about 12.43 in one single iteration.\n",
    "From there, the algorithm quickly converges to a local root of function  $y = f(x) = \\sin(x^2 - 2)$, namely $\\sqrt(2 + 50\\pi) \\approx 12.612677$."
   ]
  },
  {
   "cell_type": "markdown",
   "metadata": {},
   "source": [
    "### Second try, imposing a maximum step on the unknown\n",
    "\n",
    "In this section, we impose a maximum absolute step on `x` at each solver iteration."
   ]
  },
  {
   "cell_type": "code",
   "execution_count": null,
   "metadata": {},
   "outputs": [],
   "source": [
    "s = SystemWithDynamicDesignMethod(\"s\")\n",
    "\n",
    "solver = s.add_driver(NonLinearSolver(\"solver\"))\n",
    "\n",
    "# Activate design method `find_root` of system `s`\n",
    "# with a maximum absolute step size of 0.1 for unknown `x`\n",
    "solver.add_problem(s.find_root(max_abs_step=0.1))\n",
    "\n",
    "# Add a recorder to store the convergence path\n",
    "solver.add_recorder(DataFrameRecorder(), history=True)\n",
    "\n",
    "s.x = 0.7  # initial value\n",
    "s.run_drivers()\n",
    "\n",
    "# Retrieve data from the recorder\n",
    "data = solver.recorder.export_data()\n",
    "\n",
    "print(\n",
    "    f\"{s.x = !s}\",\n",
    "    f\"{s.y = !s}\",\n",
    "    f\"\\nConvergence path:\\n\",\n",
    "    data[[\"x\", \"y\"]],\n",
    "    sep=\"\\n\",\n",
    ")"
   ]
  },
  {
   "cell_type": "markdown",
   "metadata": {},
   "source": [
    "The convergence path reveals that unknown `x` undergoes constrained steps at the beginning of the iterative process.\n",
    "Eventually, the steps computed by the root-finding algorithm become smaller than the imposed maximum step, and the algorithm rapidly converges towards the first root, $\\sqrt{2}$."
   ]
  },
  {
   "cell_type": "markdown",
   "metadata": {},
   "source": [
    "### Show information on a design method\n",
    "\n",
    "Another advantage of implementing design methods as class methods is that it provides a way to document them with docstrings, readily accessible through Python function `help`:"
   ]
  },
  {
   "cell_type": "code",
   "execution_count": null,
   "metadata": {},
   "outputs": [],
   "source": [
    "help(s.find_root)"
   ]
  },
  {
   "cell_type": "markdown",
   "metadata": {},
   "source": [
    "\n",
    "**Congrats!** You are now ready to update your `System` into a design model with **CoSApp**!"
   ]
  }
 ],
 "metadata": {
  "kernelspec": {
   "display_name": "cosapp",
   "language": "python",
   "name": "python3"
  },
  "language_info": {
   "codemirror_mode": {
    "name": "ipython",
    "version": 3
   },
   "file_extension": ".py",
   "mimetype": "text/x-python",
   "name": "python",
   "nbconvert_exporter": "python",
   "pygments_lexer": "ipython3",
   "version": "3.11.8"
  }
 },
 "nbformat": 4,
 "nbformat_minor": 2
}

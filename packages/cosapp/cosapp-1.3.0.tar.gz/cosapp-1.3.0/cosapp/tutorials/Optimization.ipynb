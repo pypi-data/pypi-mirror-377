{
 "cells": [
  {
   "cell_type": "markdown",
   "metadata": {
    "nbsphinx": "hidden"
   },
   "source": [
    "![CoSAppLogo](images/cosapp.svg) **CoSApp** tutorials"
   ]
  },
  {
   "cell_type": "markdown",
   "metadata": {},
   "source": [
    "# Optimization\n",
    "\n",
    "Optimization problems can be solved with driver `Optimizer`.\n",
    "\n",
    "`Optimizer` seeks a user-defined parameter set that minimizes a scalar objective.\n",
    "\n",
    "## Define an optimization problem\n",
    "\n",
    "Optimization problems are defined using three driver methods:\n",
    "\n",
    "- `set_minimum` or `set_maximum` (as required)\n",
    "- `add_unknown`\n",
    "- `add_constraints`\n",
    "\n",
    "### Add driver\n",
    "\n",
    "```python\n",
    "from cosapp.drivers import Optimizer\n",
    "\n",
    "s = SomeSystem('s')\n",
    "optim = s.add_driver(Optimizer('optim'))\n",
    "```\n",
    "\n",
    "### Set minimization or maximization objective\n",
    "\n",
    "The argument passed to `set_minimum` (resp. `set_maximum`) must be a scalar expression evaluable in the context of owner system:\n",
    "\n",
    "```python\n",
    "optim.set_minimum(\"a**2 + b.x * exp(c.p_out.y / 2)\")\n",
    "```\n",
    "\n",
    "### Define optimization parameters\n",
    "\n",
    "Optimization parameters are declared with method `add_unknown`, akin to nonlinear problem unknowns:\n",
    "\n",
    "```python\n",
    "optim.add_unknown(['u', 'v'])\n",
    "optim.add_unknown('alpha', lower_bound=0, upper_bound=1)\n",
    "```\n",
    "\n",
    "When specified, lower and upper bounds are used as linear constraints during resolution.\n",
    "\n",
    "### Define constraints\n",
    "\n",
    "General constraints are given as plain strings (or a list thereof) in `add_constraints`.\n",
    "Each constraint can either be an equality or an inequality.\n",
    "Inequalities are translated into non-negative constraints, whether the inequality is strict or not.\n",
    "For instance, `x < y` will translate into `y - x >= 0`.\n",
    "\n",
    "Note that multiple constraints can be expressed in a single expression, as in: `\"a > b > c\"`.\n",
    "\n",
    "```python\n",
    "optim.add_constraints(\"0 <= b.y <= 2 * c.x\")  # yields two constraints\n",
    "optim.add_constraints([\n",
    "    \"0.1 <= h == sqrt(A)\",  # h >= 0.1 and h == sqrt(A)\n",
    "    \"a + b < c\",  # interpreted as c - (a + b) >= 0\n",
    "])\n",
    "```\n",
    "\n",
    "### Options\n",
    "\n",
    "Driver `Optimizer` encapsulates function [scipy.optimize.minimize](https://docs.scipy.org/doc/scipy/reference/generated/scipy.optimize.minimize.html#scipy.optimize.minimize).\n",
    "All methods implemented in `minimize` (SLSQP, Conjugate Gradient, Nelder-Mead, *etc.*) are available, through optional argument `method`.\n",
    "\n",
    "The list of available methods is given by:"
   ]
  },
  {
   "cell_type": "code",
   "execution_count": null,
   "metadata": {},
   "outputs": [],
   "source": [
    "from cosapp.drivers import Optimizer\n",
    "\n",
    "Optimizer.available_methods()"
   ]
  },
  {
   "cell_type": "markdown",
   "metadata": {},
   "source": [
    "Other options are:\n",
    "\n",
    "- `tol` [float]: Relative tolerance on objective value between two iterations (default: 1.5e-8).\n",
    "- `eps` [float]: Relative step size used for numerical approximation of the Jacobian (default: 2^(-26) ~ 1.49e-8).\n",
    "- `max_iter` [int]: Maximum number of iterations (default: 100).\n",
    "- `monitor` [bool]: If `True`, data are recorded into driver recorder (if any) at all iterations; if `False` (default), only the final state is recorded.\n",
    "\n",
    "Options may be set at driver construction (as keyword arguments), or by setting the desired key in dict attribute `options`, as in:\n",
    "\n",
    "```python\n",
    "optim.options['tol'] = 1e-9\n",
    "optim.options['max_iter'] = 50\n",
    "```"
   ]
  },
  {
   "cell_type": "markdown",
   "metadata": {},
   "source": [
    "## Examples\n",
    "\n",
    "* [Betz limit for wind turbines](optimization/BetzLimit.ipynb)\n",
    "* [Sellar case](optimization/Sellar.ipynb)"
   ]
  }
 ],
 "metadata": {
  "language_info": {
   "name": "python",
   "pygments_lexer": "ipython3"
  }
 },
 "nbformat": 4,
 "nbformat_minor": 4
}

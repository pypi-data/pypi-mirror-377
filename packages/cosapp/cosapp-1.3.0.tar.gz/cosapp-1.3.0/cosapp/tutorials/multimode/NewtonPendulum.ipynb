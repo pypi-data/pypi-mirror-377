{
 "cells": [
  {
   "cell_type": "markdown",
   "metadata": {},
   "source": [
    "![CoSAppLogo](../images/cosapp.svg)\n",
    "\n",
    "<font color='orange'>**CoSApp**</font> tutorials on multimode systems"
   ]
  },
  {
   "cell_type": "markdown",
   "metadata": {},
   "source": [
    "# Simple Newton Pendulum"
   ]
  },
  {
   "cell_type": "code",
   "execution_count": null,
   "metadata": {},
   "outputs": [],
   "source": [
    "from cosapp.base import System\n",
    "import numpy as np\n",
    "\n",
    "\n",
    "class Pendulum(System):\n",
    "    \"\"\"Point mass planar pendulum model\"\"\"\n",
    "    def setup(self):\n",
    "        self.add_inward('L', 1.00, desc='Length of the rod')\n",
    "        self.add_inward('g', 9.81, desc='Gravitational acceleration')\n",
    "        \n",
    "        self.add_outward('acc', 0., desc=\"Angular acceleration of the mass\")\n",
    "        self.add_transient('omega', der='acc', desc=\"Angular velocity\")\n",
    "        self.add_transient('theta', der='omega', desc=\"Positional angle\")\n",
    "\n",
    "    def compute(self):\n",
    "        self.acc = -(self.g / self.L) * np.sin(self.theta)\n",
    "\n",
    "\n",
    "class NewtonPendulum(System):\n",
    "    def setup(self):\n",
    "        self.add_child(Pendulum('p1'), pulling=['L', 'g'])\n",
    "        self.add_child(Pendulum('p2'), pulling=['L', 'g'])\n",
    "        \n",
    "        contact = self.add_event('contact', trigger=\"p1.theta == p2.theta\")\n",
    "        self.add_event('collision', trigger=contact.filter(\"p1.omega > p2.omega\"))\n",
    "\n",
    "    def transition(self):\n",
    "        if self.collision.present:\n",
    "            p1, p2 = self.p1, self.p2\n",
    "            # swap angular velocities\n",
    "            p1.omega, p2.omega = p2.omega, p1.omega\n"
   ]
  },
  {
   "cell_type": "code",
   "execution_count": null,
   "metadata": {},
   "outputs": [],
   "source": [
    "from cosapp.drivers import RungeKutta\n",
    "from cosapp.recorders import DataFrameRecorder\n",
    "\n",
    "pend = NewtonPendulum(\"pend\")\n",
    "\n",
    "driver = pend.add_driver(\n",
    "    RungeKutta(order=3, dt=0.01, time_interval=[0, 10])\n",
    ")\n",
    "driver.set_scenario(\n",
    "    init = {\n",
    "        \"p1.theta\" : np.radians(-60),\n",
    "        \"p1.omega\" : 2,\n",
    "        \"p2.theta\" : np.radians(22),\n",
    "        \"p2.omega\" : 0.5,\n",
    "    },\n",
    "    values = {\n",
    "        \"L\" : 0.5,\n",
    "        \"g\" : 9.81,\n",
    "    },\n",
    "    # stop = pend.collision.filter('p1.theta < 0'),  # try it!\n",
    ")\n",
    "\n",
    "# Recorder\n",
    "driver.add_recorder(\n",
    "    DataFrameRecorder(includes=[\n",
    "        'p?.theta', 'p?.omega',\n",
    "    ]),\n",
    "    period = 0.05,\n",
    ")\n",
    "\n",
    "# Run simulation & retrieve recorded data\n",
    "pend.run_drivers()\n",
    "data = driver.recorder.export_data()\n",
    "data = data.drop(['Section', 'Status', 'Error code'], axis=1)"
   ]
  },
  {
   "cell_type": "code",
   "execution_count": null,
   "metadata": {},
   "outputs": [],
   "source": [
    "# Plot results\n",
    "import plotly.graph_objs as go\n",
    "\n",
    "traces = [\n",
    "    go.Scatter(\n",
    "        x = data['time'],\n",
    "        y = data['p1.theta'],\n",
    "        mode='lines', name='Pendulum 1', line=dict(color='red'),\n",
    "    ),\n",
    "    go.Scatter(\n",
    "        x = data['time'],\n",
    "        y = data['p2.theta'],\n",
    "        mode='lines', name='Pendulum 2', line=dict(color='blue'),\n",
    "    ),\n",
    "]\n",
    "layout = go.Layout(\n",
    "    title = \"Angular positions\",\n",
    "    xaxis = dict(title=\"Time\"),\n",
    "    height = 450,\n",
    "    hovermode = \"x\",\n",
    ")\n",
    "go.Figure(data=traces, layout=layout)"
   ]
  },
  {
   "cell_type": "markdown",
   "metadata": {},
   "source": [
    "Time driver property `recorded_events` contains a list of all recorded events.\n",
    "Each element of the list is a named tuple `EventRecord(time, events)`, containing the occurrence time, and the list of cascading events at that time, starting by the primitive event."
   ]
  },
  {
   "cell_type": "code",
   "execution_count": null,
   "metadata": {},
   "outputs": [],
   "source": [
    "driver.recorded_events"
   ]
  },
  {
   "cell_type": "markdown",
   "metadata": {},
   "source": [
    "Time driver property `event_data` contains the same fields as the recorder, but only at event times:"
   ]
  },
  {
   "cell_type": "code",
   "execution_count": null,
   "metadata": {},
   "outputs": [],
   "source": [
    "driver.event_data.drop(['Section', 'Status', 'Error code'], axis=1)"
   ]
  }
 ],
 "metadata": {
  "kernelspec": {
   "display_name": "Python 3",
   "language": "python",
   "name": "python3"
  },
  "language_info": {
   "codemirror_mode": {
    "name": "ipython",
    "version": 3
   },
   "file_extension": ".py",
   "mimetype": "text/x-python",
   "name": "python",
   "nbconvert_exporter": "python",
   "pygments_lexer": "ipython3",
   "version": "3.7.9"
  }
 },
 "nbformat": 4,
 "nbformat_minor": 4
}

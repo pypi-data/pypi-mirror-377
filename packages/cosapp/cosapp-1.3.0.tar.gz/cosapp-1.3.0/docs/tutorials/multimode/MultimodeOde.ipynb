{
 "cells": [
  {
   "cell_type": "markdown",
   "metadata": {},
   "source": [
    "![CoSAppLogo](../images/cosapp.svg)\n",
    "\n",
    "<font color='orange'>**CoSApp**</font> tutorials on multimode systems"
   ]
  },
  {
   "cell_type": "markdown",
   "metadata": {},
   "source": [
    "# Multimode ODE\n",
    "\n",
    "In this example, we show a system defining a simple Ordinary Differential Equation, with an event-driven discontinuity."
   ]
  },
  {
   "cell_type": "code",
   "execution_count": null,
   "metadata": {},
   "outputs": [],
   "source": [
    "from cosapp.base import System\n",
    "\n",
    "\n",
    "class ScalarOde(System):\n",
    "    \"\"\"System representing ODE df/dt = F(t)\"\"\"\n",
    "    def setup(self):\n",
    "        self.add_inward('df')\n",
    "        self.add_transient('f', der='df')\n",
    "\n",
    "\n",
    "class MultimodeScalarOde(System):\n",
    "    def setup(self):\n",
    "        self.add_child(ScalarOde('ode'), pulling=['f', 'df'])\n",
    "        self.add_outward_modevar('snapped', False)\n",
    "        self.add_event('snap')  # event defining mode var `snapped`\n",
    "    \n",
    "    def transition(self):\n",
    "        if self.snap.present:\n",
    "            self.snapped = True\n"
   ]
  },
  {
   "cell_type": "code",
   "execution_count": null,
   "metadata": {},
   "outputs": [],
   "source": [
    "from cosapp.drivers import RungeKutta\n",
    "from cosapp.recorders import DataFrameRecorder\n",
    "\n",
    "s = MultimodeScalarOde('s')\n",
    "\n",
    "s.snap.trigger = \"f > 0.547\"\n",
    "\n",
    "driver = s.add_driver(\n",
    "    RungeKutta(order=2, time_interval=(0, 1), dt=0.1)\n",
    ")\n",
    "driver.add_recorder(DataFrameRecorder(includes=['f', 'df', 'snapped']), period=0.1)\n",
    "\n",
    "# Set scenario such that df/dt changes with mode\n",
    "driver.set_scenario(\n",
    "    init = {'f': 0},\n",
    "    values = {'df': '2 * t if not snapped else 0'},\n",
    ")\n",
    "s.run_drivers()\n",
    "\n",
    "# Retrieve recorded data\n",
    "data = driver.recorder.export_data()\n",
    "data = data.drop(['Section', 'Status', 'Error code'], axis=1)"
   ]
  },
  {
   "cell_type": "code",
   "execution_count": null,
   "metadata": {},
   "outputs": [],
   "source": [
    "# Plot results\n",
    "import plotly.graph_objs as go\n",
    "\n",
    "def get_trace(col):\n",
    "    return go.Scatter(\n",
    "        x = data['time'],\n",
    "        y = data[col],\n",
    "        name = col,\n",
    "        mode = \"lines+markers\",\n",
    "    )\n",
    "\n",
    "go.Figure(\n",
    "    data = [\n",
    "        get_trace('f'),\n",
    "        get_trace('df'),\n",
    "    ],\n",
    "    layout = go.Layout(\n",
    "        xaxis = dict(title=\"Time\"),\n",
    "        height = 450,\n",
    "        hovermode = \"x\",\n",
    "    ),\n",
    ")"
   ]
  },
  {
   "cell_type": "markdown",
   "metadata": {},
   "source": [
    "### Show recorded data\n",
    "\n",
    "Note the double entry at snap time.\n",
    "When `snapped` is `False`, the solution is $f(t) = t^2$, since the derivative is $2t$, with initial condition $f(0) = 0$.\n",
    "Event time is therefore $t_{\\rm snap} = \\sqrt{0.547}$."
   ]
  },
  {
   "cell_type": "code",
   "execution_count": null,
   "metadata": {},
   "outputs": [],
   "source": [
    "from math import sqrt\n",
    "print(f\"{sqrt(0.547) = }\")"
   ]
  },
  {
   "cell_type": "code",
   "execution_count": null,
   "metadata": {},
   "outputs": [],
   "source": [
    "data"
   ]
  }
 ],
 "metadata": {
  "kernelspec": {
   "display_name": "Python 3",
   "language": "python",
   "name": "python3"
  },
  "language_info": {
   "codemirror_mode": {
    "name": "ipython",
    "version": 3
   },
   "file_extension": ".py",
   "mimetype": "text/x-python",
   "name": "python",
   "nbconvert_exporter": "python",
   "pygments_lexer": "ipython3",
   "version": "3.7.9"
  }
 },
 "nbformat": 4,
 "nbformat_minor": 4
}

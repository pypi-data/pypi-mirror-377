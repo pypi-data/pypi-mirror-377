{
 "cells": [
  {
   "cell_type": "markdown",
   "metadata": {},
   "source": [
    "![CoSAppLogo](../images/cosapp.svg)\n",
    "\n",
    "**CoSApp** tutorials on optimization"
   ]
  },
  {
   "cell_type": "markdown",
   "metadata": {},
   "source": [
    "# Sellar optimization problem\n",
    "\n",
    "Multi Domain Optimization (MDO) problem proposed by Sellar et al. in\n",
    "\n",
    "Sellar, R., Batill, S., & Renaud, J. (1996).\n",
    "*Response surface based, concurrent subspace optimization for multidisciplinary system design.*\n",
    "In 34th Aerospace Sciences Meeting and Exhibit (p. 714).\n",
    "\n",
    "The MDO problem is written as follows:\n",
    "\n",
    "Minimize $x^2 + z_{2} + y_1^2 + e^{-y_2}$ with respect to $x,\\,z$, where:\n",
    "\n",
    "- $y_1 = z_{1}^2 + z_{2} + x - 0.2\\,y_2$\n",
    "- $y_2 = \\sqrt{y_1} + z_{1} + z_{2}$\n",
    "\n",
    "subject to general constraints:\n",
    "\n",
    "- $0 \\leq z_{1} \\leq 10$\n",
    "- $0 \\leq z_{2} \\leq 10$\n",
    "- $0 \\leq x \\leq 10$\n",
    "- $y_1 \\geq 3.16$\n",
    "- $y_2 \\leq 24$\n"
   ]
  },
  {
   "cell_type": "code",
   "execution_count": null,
   "metadata": {},
   "outputs": [],
   "source": [
    "from cosapp.base import System\n",
    "import numpy as np\n",
    "\n",
    "\n",
    "class SellarDiscipline1(System):\n",
    "    \"\"\"Component containing Discipline 1.\n",
    "    \"\"\"\n",
    "    def setup(self):\n",
    "        self.add_inward('z', np.zeros(2))\n",
    "        self.add_inward('x')\n",
    "        self.add_inward('y2')\n",
    "\n",
    "        self.add_outward('y1')\n",
    "\n",
    "    def compute(self):\n",
    "        \"\"\"Evaluates equation\n",
    "        y1 = z1**2 + z2 + x - 0.2 * y2\n",
    "        \"\"\"\n",
    "        self.y1 = self.z[0]**2 + self.z[1] + self.x - 0.2 * self.y2\n",
    "\n",
    "\n",
    "class SellarDiscipline2(System):\n",
    "    \"\"\"Component containing Discipline 2.\n",
    "    \"\"\"\n",
    "    def setup(self):\n",
    "        self.add_inward('z', np.zeros(2))\n",
    "        self.add_inward('y1')\n",
    "\n",
    "        self.add_outward('y2')\n",
    "\n",
    "    def compute(self):\n",
    "        \"\"\"Evaluates equation\n",
    "        y2 = sqrt(|y1|) + z1 + z2\n",
    "        \"\"\"\n",
    "        self.y2 = np.sqrt(abs(self.y1)) + self.z[0] + self.z[1]\n"
   ]
  },
  {
   "cell_type": "code",
   "execution_count": null,
   "metadata": {},
   "outputs": [],
   "source": [
    "class Sellar(System):\n",
    "    \"\"\"System modeling the Sellar case.\n",
    "    \"\"\"\n",
    "    def setup(self):\n",
    "        d1 = self.add_child(SellarDiscipline1('d1'), pulling=['x', 'z', 'y1'])\n",
    "        d2 = self.add_child(SellarDiscipline2('d2'), pulling=['z', 'y2'])\n",
    "        \n",
    "        # Couple sub-systems d1 and d2:\n",
    "        self.connect(d1, d2, ['y1', 'y2'])\n"
   ]
  },
  {
   "cell_type": "markdown",
   "metadata": {},
   "source": [
    "## Define optimization problem"
   ]
  },
  {
   "cell_type": "code",
   "execution_count": null,
   "metadata": {},
   "outputs": [],
   "source": [
    "import time\n",
    "from cosapp.drivers import Optimizer, NonLinearSolver\n",
    "\n",
    "s = Sellar('s')\n",
    "\n",
    "optim = s.add_driver(Optimizer('optim', method='SLSQP', tol=1e-12, verbose=1))\n",
    "optim.add_child(NonLinearSolver('solver', tol=1e-12))  # to solve cyclic dependencies\n",
    "\n",
    "# Set optimization problem\n",
    "optim.set_minimum('x**2 + z[1] + y1 + exp(-y2)')\n",
    "optim.add_unknown(['x', 'z'])\n",
    "optim.add_constraints([\n",
    "    'y1 >= 3.16',\n",
    "    'y2 <= 24',\n",
    "    '0 <= x <= 10',\n",
    "    '0 <= z <= 10',\n",
    "])\n",
    "\n",
    "optim"
   ]
  },
  {
   "cell_type": "markdown",
   "metadata": {},
   "source": [
    "## Solve problem\n",
    "\n",
    "In cell below, we initialize the system, and solve our optimization problem.\n",
    "Beforehand, we add a recorder and turn on option `monitor`, to keep a record of the system state at all iterations."
   ]
  },
  {
   "cell_type": "code",
   "execution_count": null,
   "metadata": {},
   "outputs": [],
   "source": [
    "from cosapp.recorders import DataFrameRecorder\n",
    "\n",
    "# Add recorder to monitor iterations\n",
    "optim.add_recorder(\n",
    "    DataFrameRecorder(\n",
    "        includes = [\"*\", \"drivers['optim'].objective\"],\n",
    "        excludes = \"d?.*\",\n",
    "    ),\n",
    "    history=True,  # record all iterations\n",
    ")\n",
    "\n",
    "# Initialization\n",
    "s.x = 1.0\n",
    "s.z = np.array([5.0, 2.0])\n",
    "s.y1 = 1.0\n",
    "s.y2 = 1.0\n",
    "s.run_once()\n",
    "\n",
    "# Run simulation\n",
    "# s.exec_order = ('d2', 'd1')  # should not change results\n",
    "start_time = time.time()\n",
    "s.run_drivers()\n",
    "\n",
    "print(f\"Time: {time.time() - start_time:.3f} s\")\n",
    "\n",
    "for varname in ('x', 'z', 'y1', 'y2'):\n",
    "    print(f\"s.{varname} = {s[varname]}\")\n",
    "\n",
    "print(f\"objective = {optim.objective}\")\n",
    "print(f\"s.y1 = 3.16 + {s.y1 - 3.16}\")"
   ]
  },
  {
   "cell_type": "markdown",
   "metadata": {},
   "source": [
    "## Analyze convergence"
   ]
  },
  {
   "cell_type": "code",
   "execution_count": null,
   "metadata": {},
   "outputs": [],
   "source": [
    "df = optim.recorder.export_data()\n",
    "df = df.rename(columns={\"drivers['optim'].objective\": \"objective\"})\n",
    "df.drop(['Section', 'Status', 'Error code', 'Reference'], axis=1)"
   ]
  },
  {
   "cell_type": "code",
   "execution_count": null,
   "metadata": {},
   "outputs": [],
   "source": [
    "import plotly.express as px\n",
    "\n",
    "fig = px.line(df, y=\"objective\",\n",
    "    hover_data = {\n",
    "        'x': True,\n",
    "        'z': True,\n",
    "        'y1': True,\n",
    "        'y2': True,\n",
    "    },\n",
    "    title = \"Convergence\",\n",
    "    labels = {'index': 'iteration'}\n",
    ")\n",
    "fig.update_layout(\n",
    "    height = 600,\n",
    "    hovermode = 'x',\n",
    ")\n",
    "fig.update_traces(\n",
    "    mode = 'lines+markers',\n",
    ")\n",
    "fig.show()"
   ]
  },
  {
   "cell_type": "markdown",
   "metadata": {},
   "source": [
    "## Alternative formulation\n",
    "\n",
    "Specify constraints on unknowns with arguments `lower_bounds` and `upper_bounds` in `Optimizer.add_unknown`.\n",
    "This alternative declaration may lead to a faster and more stable resolution, as bounds are not treated as nonlinear constraints."
   ]
  },
  {
   "cell_type": "code",
   "execution_count": null,
   "metadata": {},
   "outputs": [],
   "source": [
    "import time\n",
    "from cosapp.drivers import Optimizer, NonLinearSolver\n",
    "\n",
    "s = Sellar('s')\n",
    "\n",
    "optim = s.add_driver(Optimizer('optim', method='SLSQP', tol=1e-12, verbose=True))\n",
    "optim.add_child(NonLinearSolver('solver', tol=1e-12))  # to solve cyclic dependencies\n",
    "\n",
    "# Set optimization problem\n",
    "optim.set_minimum('x**2 + z[1] + y1 + exp(-y2)')\n",
    "optim.add_unknown('x', lower_bound=0, upper_bound=10)\n",
    "optim.add_unknown('z', lower_bound=0, upper_bound=10)\n",
    "optim.add_constraints([\n",
    "    'y1 >= 3.16',\n",
    "    'y2 <= 24',\n",
    "])\n",
    "\n",
    "# Initialization\n",
    "s.x = 1.0\n",
    "s.z = np.array([5.0, 2.0])\n",
    "s.y1 = 1.0\n",
    "s.y2 = 1.0\n",
    "s.run_once()\n",
    "\n",
    "# Run simulation\n",
    "# s.exec_order = ('d2', 'd1')  # should not change results\n",
    "start_time = time.time()\n",
    "s.run_drivers()\n",
    "\n",
    "print(f\"Time: {time.time() - start_time:.3f} s\")\n",
    "\n",
    "for varname in ('x', 'z', 'y1', 'y2'):\n",
    "    print(f\"s.{varname} = {s[varname]}\")\n",
    "\n",
    "print(f\"objective = {optim.objective}\")\n",
    "print(f\"y1 = 3.16 + {s.y1 - 3.16}\")"
   ]
  }
 ],
 "metadata": {
  "kernelspec": {
   "display_name": "Python 3",
   "language": "python",
   "name": "python3"
  },
  "language_info": {
   "codemirror_mode": {
    "name": "ipython",
    "version": 3
   },
   "file_extension": ".py",
   "mimetype": "text/x-python",
   "name": "python",
   "nbconvert_exporter": "python",
   "pygments_lexer": "ipython3",
   "version": "3.7.9"
  }
 },
 "nbformat": 4,
 "nbformat_minor": 4
}

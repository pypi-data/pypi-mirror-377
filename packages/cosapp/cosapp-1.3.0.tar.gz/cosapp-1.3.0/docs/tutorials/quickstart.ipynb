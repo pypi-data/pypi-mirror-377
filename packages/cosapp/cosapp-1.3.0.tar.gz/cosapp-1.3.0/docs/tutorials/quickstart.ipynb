{
 "cells": [
  {
   "attachments": {},
   "cell_type": "markdown",
   "metadata": {
    "nbsphinx": "hidden"
   },
   "source": [
    "![CoSAppLogo](images/cosapp.svg)\n",
    "\n",
    "5 minutes?.. Challenge accepted!\n",
    "\n",
    "# Quickstart\n",
    "\n",
    "## CoSApp Overview\n",
    "\n",
    "<font color='orange'>**CoSApp**</font> is a multidisciplinary oriented tool for the simulation and design of systems. Its goal is to provide a user-friendly and efficient environnement to build, exchange and solve physical models.\n",
    "\n",
    "## Get started\n",
    "\n",
    "#### Import core python package"
   ]
  },
  {
   "cell_type": "code",
   "execution_count": null,
   "metadata": {},
   "outputs": [],
   "source": [
    "# import cosapp base classes\n",
    "from cosapp.base import System, Port"
   ]
  },
  {
   "attachments": {},
   "cell_type": "markdown",
   "metadata": {},
   "source": [
    "#### Create a simple system\n",
    "\n",
    "- From scratch (for more information, see [tutorials](00-Introduction.ipynb))"
   ]
  },
  {
   "cell_type": "code",
   "execution_count": null,
   "metadata": {},
   "outputs": [],
   "source": [
    "class XPort(Port):\n",
    "    def setup(self):\n",
    "        self.add_variable('x', 1.0)\n",
    "\n",
    "\n",
    "class Multiply(System):\n",
    "\n",
    "    def setup(self):\n",
    "        \"\"\"Defines system structure\"\"\"\n",
    "        self.add_inward('K1', 5.0)      # define a new input variable\n",
    "        self.add_input(XPort, 'p_in')   # define a new input port\n",
    "        self.add_output(XPort, 'p_out') # define a new output port\n",
    "\n",
    "    def compute(self):\n",
    "        \"\"\"Defines what the system does\"\"\"\n",
    "        self.p_out.x = self.p_in.x * self.K1\n"
   ]
  },
  {
   "attachments": {},
   "cell_type": "markdown",
   "metadata": {},
   "source": [
    "Instanciate a system; it *creates* a new object with the class properties:"
   ]
  },
  {
   "cell_type": "code",
   "execution_count": null,
   "metadata": {},
   "outputs": [],
   "source": [
    "s1 = Multiply('mult')  "
   ]
  },
  {
   "cell_type": "markdown",
   "metadata": {},
   "source": [
    "![quickstart system](images/systems_1.svg)"
   ]
  },
  {
   "attachments": {},
   "cell_type": "markdown",
   "metadata": {},
   "source": [
    "- Reuse an existing `System` from a library (here the default cosapp test library)"
   ]
  },
  {
   "cell_type": "code",
   "execution_count": null,
   "metadata": {},
   "outputs": [],
   "source": [
    "from cosapp.tests.library.systems import Multiply1\n",
    "\n",
    "s2 = Multiply1('s2')"
   ]
  },
  {
   "attachments": {},
   "cell_type": "markdown",
   "metadata": {},
   "source": [
    "#### Run it!\n",
    "\n",
    "Change inputs if necessary"
   ]
  },
  {
   "cell_type": "code",
   "execution_count": null,
   "metadata": {},
   "outputs": [],
   "source": [
    "s1.K1 = 2.8\n",
    "s1.p_in.x = 10.\n",
    "\n",
    "s2.K1 = 5.0\n",
    "s2.p_in.x = 1.5"
   ]
  },
  {
   "cell_type": "code",
   "execution_count": null,
   "metadata": {},
   "outputs": [],
   "source": [
    "s1.run_once()\n",
    "s2.run_once()"
   ]
  },
  {
   "attachments": {},
   "cell_type": "markdown",
   "metadata": {},
   "source": [
    "Have a look at your inwards, inputs and outputs:"
   ]
  },
  {
   "cell_type": "code",
   "execution_count": null,
   "metadata": {},
   "outputs": [],
   "source": [
    "print(\n",
    "    f\"{s1.inwards = }\",\n",
    "    f\"{s1.p_in  = }\",\n",
    "    f\"{s1.p_out = }\",\n",
    "    \"\",\n",
    "    f\"{s2.inwards = }\",\n",
    "    f\"{s2.p_in  = }\",\n",
    "    f\"{s2.p_out = }\",\n",
    "    sep=\"\\n\",\n",
    ")"
   ]
  },
  {
   "cell_type": "markdown",
   "metadata": {},
   "source": [
    "**Congrats!** You've run your first <font color='orange'>**CoSApp**</font> model!"
   ]
  },
  {
   "attachments": {},
   "cell_type": "markdown",
   "metadata": {},
   "source": [
    "## Let's continue\n",
    "\n",
    "Because <font color='orange'>**CoSApp**</font> is much more, have a look at the [tutorials](./00-Introduction.ipynb)!"
   ]
  }
 ],
 "metadata": {
  "language_info": {
   "name": "python",
   "pygments_lexer": "ipython3"
  }
 },
 "nbformat": 4,
 "nbformat_minor": 4
}

{
 "cells": [
  {
   "cell_type": "code",
   "execution_count": 7,
   "id": "ebac58e1",
   "metadata": {},
   "outputs": [
    {
     "data": {
      "text/plain": [
       "'graphext'"
      ]
     },
     "execution_count": 7,
     "metadata": {},
     "output_type": "execute_result"
    }
   ],
   "source": [
    "from cuery.seo.geo import normalize_brand\n",
    "\n",
    "normalize_brand(\"graphext.com\")"
   ]
  }
 ],
 "metadata": {
  "kernelspec": {
   "display_name": "cuery (3.11.13)",
   "language": "python",
   "name": "python3"
  },
  "language_info": {
   "codemirror_mode": {
    "name": "ipython",
    "version": 3
   },
   "file_extension": ".py",
   "mimetype": "text/x-python",
   "name": "python",
   "nbconvert_exporter": "python",
   "pygments_lexer": "ipython3",
   "version": "3.11.13"
  }
 },
 "nbformat": 4,
 "nbformat_minor": 5
}

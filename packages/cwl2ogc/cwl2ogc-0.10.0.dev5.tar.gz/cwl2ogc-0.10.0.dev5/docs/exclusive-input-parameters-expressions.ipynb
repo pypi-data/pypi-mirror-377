{
 "cells": [
  {
   "cell_type": "markdown",
   "id": "8358e29c",
   "metadata": {},
   "source": [
    "# Exclusive Input Parameters with Expressions\n",
    "\n",
    "Exclusive Input Parameters with Expressions refers to the [2.4.3.1. Exclusive Input Parameters with Expressions](https://www.commonwl.org/user_guide/topics/inputs.html#exclusive-input-parameters-with-expressions) paragraph of the _2.4. Inputs_ chapter of the [Common Workflow Language User Guide](https://www.commonwl.org/user_guide/index.html#)."
   ]
  },
  {
   "cell_type": "markdown",
   "id": "49492847",
   "metadata": {},
   "source": [
    "## 1. Parsing\n",
    "\n",
    "In this sample we'll show the access from a remote public URL."
   ]
  },
  {
   "cell_type": "code",
   "execution_count": 1,
   "id": "28253a7a",
   "metadata": {},
   "outputs": [
    {
     "name": "stderr",
     "output_type": "stream",
     "text": [
      "\u001b[32m2025-09-17 18:29:14.172\u001b[0m | \u001b[34m\u001b[1mDEBUG   \u001b[0m | \u001b[36mcwl_loader\u001b[0m:\u001b[36mload_cwl_from_location\u001b[0m:\u001b[36m220\u001b[0m - \u001b[34m\u001b[1mLoading CWL document from https://raw.githubusercontent.com/eoap/cwl2ogc/refs/heads/develop/tests/artifacts/cwl-types/exclusive-parameter-expressions.cwl...\u001b[0m\n",
      "\u001b[32m2025-09-17 18:29:14.692\u001b[0m | \u001b[34m\u001b[1mDEBUG   \u001b[0m | \u001b[36mcwl_loader\u001b[0m:\u001b[36m_load_cwl_from_stream\u001b[0m:\u001b[36m223\u001b[0m - \u001b[34m\u001b[1mReading stream from https://raw.githubusercontent.com/eoap/cwl2ogc/refs/heads/develop/tests/artifacts/cwl-types/exclusive-parameter-expressions.cwl...\u001b[0m\n",
      "\u001b[32m2025-09-17 18:29:14.697\u001b[0m | \u001b[34m\u001b[1mDEBUG   \u001b[0m | \u001b[36mcwl_loader\u001b[0m:\u001b[36mload_cwl_from_stream\u001b[0m:\u001b[36m197\u001b[0m - \u001b[34m\u001b[1mCWL data of type <class 'ruamel.yaml.comments.CommentedMap'> successfully loaded from stream\u001b[0m\n",
      "\u001b[32m2025-09-17 18:29:14.698\u001b[0m | \u001b[34m\u001b[1mDEBUG   \u001b[0m | \u001b[36mcwl_loader\u001b[0m:\u001b[36mload_cwl_from_yaml\u001b[0m:\u001b[36m141\u001b[0m - \u001b[34m\u001b[1mUpdating the model of type 'CommentedMap' to version 'v1.2'...\u001b[0m\n",
      "\u001b[32m2025-09-17 18:29:14.701\u001b[0m | \u001b[34m\u001b[1mDEBUG   \u001b[0m | \u001b[36mcwl_loader\u001b[0m:\u001b[36mload_cwl_from_yaml\u001b[0m:\u001b[36m152\u001b[0m - \u001b[34m\u001b[1mRaw CWL document successfully updated to v1.2! Now converting to the CWL model...\u001b[0m\n",
      "\u001b[32m2025-09-17 18:29:14.967\u001b[0m | \u001b[34m\u001b[1mDEBUG   \u001b[0m | \u001b[36mcwl_loader\u001b[0m:\u001b[36mload_cwl_from_yaml\u001b[0m:\u001b[36m160\u001b[0m - \u001b[34m\u001b[1mRaw CWL document successfully updated to v1.2! Now dereferencing the steps[].run...\u001b[0m\n",
      "\u001b[32m2025-09-17 18:29:14.968\u001b[0m | \u001b[34m\u001b[1mDEBUG   \u001b[0m | \u001b[36mcwl_loader\u001b[0m:\u001b[36mload_cwl_from_yaml\u001b[0m:\u001b[36m170\u001b[0m - \u001b[34m\u001b[1msteps[].run successfully dereferenced! Now dereferencing the FQNs...\u001b[0m\n",
      "\u001b[32m2025-09-17 18:29:14.968\u001b[0m | \u001b[34m\u001b[1mDEBUG   \u001b[0m | \u001b[36mcwl_loader\u001b[0m:\u001b[36m_clean_process\u001b[0m:\u001b[36m90\u001b[0m - \u001b[34m\u001b[1m  Cleaning CommandLineTool exclusive-parameter-expressions...\u001b[0m\n",
      "\u001b[32m2025-09-17 18:29:14.969\u001b[0m | \u001b[34m\u001b[1mDEBUG   \u001b[0m | \u001b[36mcwl_loader\u001b[0m:\u001b[36mload_cwl_from_yaml\u001b[0m:\u001b[36m175\u001b[0m - \u001b[34m\u001b[1mCWL document successfully dereferenced!\u001b[0m\n",
      "\u001b[32m2025-09-17 18:29:14.969\u001b[0m | \u001b[34m\u001b[1mDEBUG   \u001b[0m | \u001b[36mcwl_loader\u001b[0m:\u001b[36m_load_cwl_from_stream\u001b[0m:\u001b[36m231\u001b[0m - \u001b[34m\u001b[1mStream from https://raw.githubusercontent.com/eoap/cwl2ogc/refs/heads/develop/tests/artifacts/cwl-types/exclusive-parameter-expressions.cwl successfully load!\u001b[0m\n"
     ]
    }
   ],
   "source": [
    "from cwl_loader import load_cwl_from_location\n",
    "from cwl2ogc import BaseCWLtypes2OGCConverter\n",
    "\n",
    "cwl_document = load_cwl_from_location('https://raw.githubusercontent.com/eoap/cwl2ogc/refs/heads/develop/tests/artifacts/cwl-types/exclusive-parameter-expressions.cwl')\n",
    "cwl_converter = BaseCWLtypes2OGCConverter(cwl_document)"
   ]
  },
  {
   "cell_type": "markdown",
   "id": "a127e3f7",
   "metadata": {},
   "source": [
    "# 2. Inputs conversion\n",
    "\n",
    "Once the document is parsed, invoke the `cwl2ogc` APIs to convert the CWL inputs to the OGC JSON format:"
   ]
  },
  {
   "cell_type": "code",
   "execution_count": 2,
   "id": "fba17ea4",
   "metadata": {},
   "outputs": [
    {
     "name": "stdout",
     "output_type": "stream",
     "text": [
      "{\n",
      "  \"file_format\": {\n",
      "    \"schema\": {\n",
      "      \"nullable\": true,\n",
      "      \"type\": \"string\",\n",
      "      \"enum\": [\n",
      "        \"auto\",\n",
      "        \"fasta\",\n",
      "        \"fastq\",\n",
      "        \"fasta.gz\",\n",
      "        \"fastq.gz\"\n",
      "      ]\n",
      "    },\n",
      "    \"metadata\": [\n",
      "      {\n",
      "        \"title\": \"cwl:type\",\n",
      "        \"value\": \"[ null, enum[ auto, fasta, fastq, fasta.gz, fastq.gz ] ]\"\n",
      "      }\n",
      "    ],\n",
      "    \"minOccurs\": 0,\n",
      "    \"maxOccurs\": 1,\n",
      "    \"valuePassing\": \"byValue\",\n",
      "    \"title\": \"file_format label\",\n",
      "    \"description\": \"file_format doc\"\n",
      "  }\n",
      "}"
     ]
    }
   ],
   "source": [
    "import sys\n",
    "\n",
    "cwl_converter.dump_inputs(stream=sys.stdout, pretty_print=True)"
   ]
  },
  {
   "cell_type": "markdown",
   "id": "8f73dd47",
   "metadata": {},
   "source": [
    "# 3. Outputs conversion\n",
    "\n",
    "Users can reuse the `BaseCWLtypes2OGCConverter` instance to convert the CWL outputs to the OGC JSON format:"
   ]
  },
  {
   "cell_type": "code",
   "execution_count": 3,
   "id": "1ddfe702",
   "metadata": {},
   "outputs": [
    {
     "name": "stdout",
     "output_type": "stream",
     "text": [
      "{\n",
      "  \"text_output\": {\n",
      "    \"schema\": {\n",
      "      \"type\": \"string\"\n",
      "    },\n",
      "    \"metadata\": [\n",
      "      {\n",
      "        \"title\": \"cwl:type\",\n",
      "        \"value\": \"string\"\n",
      "      }\n",
      "    ]\n",
      "  }\n",
      "}"
     ]
    }
   ],
   "source": [
    "cwl_converter.dump_outputs(stream=sys.stdout, pretty_print=True)"
   ]
  }
 ],
 "metadata": {
  "kernelspec": {
   "display_name": "Python 3",
   "language": "python",
   "name": "python3"
  },
  "language_info": {
   "codemirror_mode": {
    "name": "ipython",
    "version": 3
   },
   "file_extension": ".py",
   "mimetype": "text/x-python",
   "name": "python",
   "nbconvert_exporter": "python",
   "pygments_lexer": "ipython3",
   "version": "3.10.12"
  }
 },
 "nbformat": 4,
 "nbformat_minor": 5
}

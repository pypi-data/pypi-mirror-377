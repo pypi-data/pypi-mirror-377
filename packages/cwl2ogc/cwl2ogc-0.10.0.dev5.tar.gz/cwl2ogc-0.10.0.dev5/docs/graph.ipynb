{
 "cells": [
  {
   "cell_type": "markdown",
   "id": "8358e29c",
   "metadata": {},
   "source": [
    "# Document graph\n",
    "\n",
    "Document graph refers to the [2.4 Document graph](https://www.commonwl.org/v1.1/SchemaSalad.html#Document_graph) paragraph of the _2. Document model_ chapter of the [Semantic Annotations for Linked Avro Data (SALAD)](https://www.commonwl.org/v1.1/SchemaSalad.html#Document_graph)."
   ]
  },
  {
   "cell_type": "markdown",
   "id": "49492847",
   "metadata": {},
   "source": [
    "## 1. Parsing\n",
    "\n",
    "In this sample we'll show the access from a remote public URL."
   ]
  },
  {
   "cell_type": "code",
   "execution_count": 1,
   "id": "f5976049",
   "metadata": {},
   "outputs": [
    {
     "name": "stderr",
     "output_type": "stream",
     "text": [
      "\u001b[32m2025-09-17 22:58:49.774\u001b[0m | \u001b[34m\u001b[1mDEBUG   \u001b[0m | \u001b[36mcwl_loader\u001b[0m:\u001b[36mload_cwl_from_location\u001b[0m:\u001b[36m220\u001b[0m - \u001b[34m\u001b[1mLoading CWL document from https://raw.githubusercontent.com/eoap/application-package-patterns/refs/heads/main/cwl-workflow/test-primitives.cwl...\u001b[0m\n",
      "\u001b[32m2025-09-17 22:58:55.198\u001b[0m | \u001b[34m\u001b[1mDEBUG   \u001b[0m | \u001b[36mcwl_loader\u001b[0m:\u001b[36m_load_cwl_from_stream\u001b[0m:\u001b[36m223\u001b[0m - \u001b[34m\u001b[1mReading stream from https://raw.githubusercontent.com/eoap/application-package-patterns/refs/heads/main/cwl-workflow/test-primitives.cwl...\u001b[0m\n",
      "\u001b[32m2025-09-17 22:58:55.213\u001b[0m | \u001b[34m\u001b[1mDEBUG   \u001b[0m | \u001b[36mcwl_loader\u001b[0m:\u001b[36mload_cwl_from_stream\u001b[0m:\u001b[36m197\u001b[0m - \u001b[34m\u001b[1mCWL data of type <class 'ruamel.yaml.comments.CommentedMap'> successfully loaded from stream\u001b[0m\n",
      "\u001b[32m2025-09-17 22:58:55.213\u001b[0m | \u001b[34m\u001b[1mDEBUG   \u001b[0m | \u001b[36mcwl_loader\u001b[0m:\u001b[36mload_cwl_from_yaml\u001b[0m:\u001b[36m141\u001b[0m - \u001b[34m\u001b[1mUpdating the model of type 'CommentedMap' to version 'v1.2'...\u001b[0m\n",
      "\u001b[32m2025-09-17 22:58:55.217\u001b[0m | \u001b[34m\u001b[1mDEBUG   \u001b[0m | \u001b[36mcwl_loader\u001b[0m:\u001b[36mload_cwl_from_yaml\u001b[0m:\u001b[36m152\u001b[0m - \u001b[34m\u001b[1mRaw CWL document successfully updated to v1.2! Now converting to the CWL model...\u001b[0m\n",
      "\u001b[32m2025-09-17 22:58:56.454\u001b[0m | \u001b[34m\u001b[1mDEBUG   \u001b[0m | \u001b[36mcwl_loader\u001b[0m:\u001b[36mload_cwl_from_yaml\u001b[0m:\u001b[36m160\u001b[0m - \u001b[34m\u001b[1mRaw CWL document successfully updated to v1.2! Now dereferencing the steps[].run...\u001b[0m\n",
      "\u001b[32m2025-09-17 22:58:56.455\u001b[0m | \u001b[34m\u001b[1mDEBUG   \u001b[0m | \u001b[36mcwl_loader\u001b[0m:\u001b[36mload_cwl_from_yaml\u001b[0m:\u001b[36m170\u001b[0m - \u001b[34m\u001b[1msteps[].run successfully dereferenced! Now dereferencing the FQNs...\u001b[0m\n",
      "\u001b[32m2025-09-17 22:58:56.456\u001b[0m | \u001b[34m\u001b[1mDEBUG   \u001b[0m | \u001b[36mcwl_loader\u001b[0m:\u001b[36m_clean_process\u001b[0m:\u001b[36m90\u001b[0m - \u001b[34m\u001b[1m  Cleaning Workflow test-primitives...\u001b[0m\n",
      "\u001b[32m2025-09-17 22:58:56.456\u001b[0m | \u001b[34m\u001b[1mDEBUG   \u001b[0m | \u001b[36mcwl_loader\u001b[0m:\u001b[36m_clean_process\u001b[0m:\u001b[36m90\u001b[0m - \u001b[34m\u001b[1m  Cleaning CommandLineTool clt...\u001b[0m\n",
      "\u001b[32m2025-09-17 22:58:56.456\u001b[0m | \u001b[34m\u001b[1mDEBUG   \u001b[0m | \u001b[36mcwl_loader\u001b[0m:\u001b[36mload_cwl_from_yaml\u001b[0m:\u001b[36m175\u001b[0m - \u001b[34m\u001b[1mCWL document successfully dereferenced!\u001b[0m\n",
      "\u001b[32m2025-09-17 22:58:56.456\u001b[0m | \u001b[34m\u001b[1mDEBUG   \u001b[0m | \u001b[36mcwl_loader\u001b[0m:\u001b[36m_load_cwl_from_stream\u001b[0m:\u001b[36m231\u001b[0m - \u001b[34m\u001b[1mStream from https://raw.githubusercontent.com/eoap/application-package-patterns/refs/heads/main/cwl-workflow/test-primitives.cwl successfully load!\u001b[0m\n"
     ]
    }
   ],
   "source": [
    "from cwl_loader import load_cwl_from_location\n",
    "from cwl2ogc import BaseCWLtypes2OGCConverter\n",
    "\n",
    "cwl_documents = load_cwl_from_location('https://raw.githubusercontent.com/eoap/application-package-patterns/refs/heads/main/cwl-workflow/test-primitives.cwl')\n",
    "cwl_converters = [BaseCWLtypes2OGCConverter(cwl_document) for cwl_document in cwl_documents]"
   ]
  },
  {
   "cell_type": "markdown",
   "id": "a127e3f7",
   "metadata": {},
   "source": [
    "# 2. Inputs conversion\n",
    "\n",
    "Once the document is parsed, invoke the `cwl2ogc` APIs to convert the CWL inputs to the OGC JSON format:"
   ]
  },
  {
   "cell_type": "code",
   "execution_count": 11,
   "id": "fba17ea4",
   "metadata": {},
   "outputs": [
    {
     "data": {
      "text/markdown": [
       "## 2.1. `test-primitives` Inputs:"
      ],
      "text/plain": [
       "<IPython.core.display.Markdown object>"
      ]
     },
     "metadata": {},
     "output_type": "display_data"
    },
    {
     "name": "stdout",
     "output_type": "stream",
     "text": [
      "{\n",
      "  \"null_input\": {\n",
      "    \"schema\": {\n",
      "      \"nullable\": true,\n",
      "      \"type\": \"string\"\n",
      "    },\n",
      "    \"metadata\": [\n",
      "      {\n",
      "        \"title\": \"cwl:type\",\n",
      "        \"value\": \"[ null, string ]\"\n",
      "      }\n",
      "    ],\n",
      "    \"minOccurs\": 0,\n",
      "    \"maxOccurs\": 1,\n",
      "    \"valuePassing\": \"byValue\",\n",
      "    \"title\": \"Nullable Input\",\n",
      "    \"description\": \"A nullable input that can be null or a string\"\n",
      "  },\n",
      "  \"boolean_input\": {\n",
      "    \"schema\": {\n",
      "      \"type\": \"boolean\",\n",
      "      \"default\": true\n",
      "    },\n",
      "    \"metadata\": [\n",
      "      {\n",
      "        \"title\": \"cwl:type\",\n",
      "        \"value\": \"boolean\"\n",
      "      }\n",
      "    ],\n",
      "    \"minOccurs\": 1,\n",
      "    \"maxOccurs\": 1,\n",
      "    \"valuePassing\": \"byValue\",\n",
      "    \"title\": \"Boolean Input\",\n",
      "    \"description\": \"A boolean value\"\n",
      "  },\n",
      "  \"int_input\": {\n",
      "    \"schema\": {\n",
      "      \"type\": \"integer\",\n",
      "      \"format\": \"int32\",\n",
      "      \"default\": 42\n",
      "    },\n",
      "    \"metadata\": [\n",
      "      {\n",
      "        \"title\": \"cwl:type\",\n",
      "        \"value\": \"int\"\n",
      "      }\n",
      "    ],\n",
      "    \"minOccurs\": 1,\n",
      "    \"maxOccurs\": 1,\n",
      "    \"valuePassing\": \"byValue\",\n",
      "    \"title\": \"Integer Input\",\n",
      "    \"description\": \"An integer value\"\n",
      "  },\n",
      "  \"long_input\": {\n",
      "    \"schema\": {\n",
      "      \"type\": \"integer\",\n",
      "      \"format\": \"int64\",\n",
      "      \"default\": 1234567890123\n",
      "    },\n",
      "    \"metadata\": [\n",
      "      {\n",
      "        \"title\": \"cwl:type\",\n",
      "        \"value\": \"long\"\n",
      "      }\n",
      "    ],\n",
      "    \"minOccurs\": 1,\n",
      "    \"maxOccurs\": 1,\n",
      "    \"valuePassing\": \"byValue\",\n",
      "    \"title\": \"Long Input\",\n",
      "    \"description\": \"A long integer value\"\n",
      "  },\n",
      "  \"float_input\": {\n",
      "    \"schema\": {\n",
      "      \"type\": \"number\",\n",
      "      \"format\": \"float\",\n",
      "      \"default\": 3.14\n",
      "    },\n",
      "    \"metadata\": [\n",
      "      {\n",
      "        \"title\": \"cwl:type\",\n",
      "        \"value\": \"float\"\n",
      "      }\n",
      "    ],\n",
      "    \"minOccurs\": 1,\n",
      "    \"maxOccurs\": 1,\n",
      "    \"valuePassing\": \"byValue\",\n",
      "    \"title\": \"Float Input\",\n",
      "    \"description\": \"A floating-point number\"\n",
      "  },\n",
      "  \"double_input\": {\n",
      "    \"schema\": {\n",
      "      \"type\": \"number\",\n",
      "      \"format\": \"double\",\n",
      "      \"default\": 2.7182818284\n",
      "    },\n",
      "    \"metadata\": [\n",
      "      {\n",
      "        \"title\": \"cwl:type\",\n",
      "        \"value\": \"double\"\n",
      "      }\n",
      "    ],\n",
      "    \"minOccurs\": 1,\n",
      "    \"maxOccurs\": 1,\n",
      "    \"valuePassing\": \"byValue\",\n",
      "    \"title\": \"Double Input\",\n",
      "    \"description\": \"A double-precision float\"\n",
      "  },\n",
      "  \"string_input\": {\n",
      "    \"schema\": {\n",
      "      \"type\": \"string\",\n",
      "      \"default\": \"Hello, CWL!\"\n",
      "    },\n",
      "    \"metadata\": [\n",
      "      {\n",
      "        \"title\": \"cwl:type\",\n",
      "        \"value\": \"string\"\n",
      "      }\n",
      "    ],\n",
      "    \"minOccurs\": 1,\n",
      "    \"maxOccurs\": 1,\n",
      "    \"valuePassing\": \"byValue\",\n",
      "    \"title\": \"String Input\",\n",
      "    \"description\": \"A string input\"\n",
      "  }\n",
      "}"
     ]
    },
    {
     "data": {
      "text/markdown": [
       "---"
      ],
      "text/plain": [
       "<IPython.core.display.Markdown object>"
      ]
     },
     "metadata": {},
     "output_type": "display_data"
    },
    {
     "data": {
      "text/markdown": [
       "## 2.2. `clt` Inputs:"
      ],
      "text/plain": [
       "<IPython.core.display.Markdown object>"
      ]
     },
     "metadata": {},
     "output_type": "display_data"
    },
    {
     "name": "stdout",
     "output_type": "stream",
     "text": [
      "{\n",
      "  \"null_input\": {\n",
      "    \"schema\": {\n",
      "      \"nullable\": true,\n",
      "      \"type\": \"string\"\n",
      "    },\n",
      "    \"metadata\": [\n",
      "      {\n",
      "        \"title\": \"cwl:type\",\n",
      "        \"value\": \"[ null, string ]\"\n",
      "      }\n",
      "    ],\n",
      "    \"minOccurs\": 0,\n",
      "    \"maxOccurs\": 1,\n",
      "    \"valuePassing\": \"byValue\",\n",
      "    \"description\": \"A nullable input (null or string)\"\n",
      "  },\n",
      "  \"boolean_input\": {\n",
      "    \"schema\": {\n",
      "      \"type\": \"boolean\",\n",
      "      \"default\": true\n",
      "    },\n",
      "    \"metadata\": [\n",
      "      {\n",
      "        \"title\": \"cwl:type\",\n",
      "        \"value\": \"boolean\"\n",
      "      }\n",
      "    ],\n",
      "    \"minOccurs\": 1,\n",
      "    \"maxOccurs\": 1,\n",
      "    \"valuePassing\": \"byValue\",\n",
      "    \"description\": \"A boolean value\"\n",
      "  },\n",
      "  \"int_input\": {\n",
      "    \"schema\": {\n",
      "      \"type\": \"integer\",\n",
      "      \"format\": \"int32\",\n",
      "      \"default\": 42\n",
      "    },\n",
      "    \"metadata\": [\n",
      "      {\n",
      "        \"title\": \"cwl:type\",\n",
      "        \"value\": \"int\"\n",
      "      }\n",
      "    ],\n",
      "    \"minOccurs\": 1,\n",
      "    \"maxOccurs\": 1,\n",
      "    \"valuePassing\": \"byValue\",\n",
      "    \"description\": \"An integer value\"\n",
      "  },\n",
      "  \"long_input\": {\n",
      "    \"schema\": {\n",
      "      \"type\": \"integer\",\n",
      "      \"format\": \"int64\",\n",
      "      \"default\": 1234567890123\n",
      "    },\n",
      "    \"metadata\": [\n",
      "      {\n",
      "        \"title\": \"cwl:type\",\n",
      "        \"value\": \"long\"\n",
      "      }\n",
      "    ],\n",
      "    \"minOccurs\": 1,\n",
      "    \"maxOccurs\": 1,\n",
      "    \"valuePassing\": \"byValue\",\n",
      "    \"description\": \"A long integer\"\n",
      "  },\n",
      "  \"float_input\": {\n",
      "    \"schema\": {\n",
      "      \"type\": \"number\",\n",
      "      \"format\": \"float\",\n",
      "      \"default\": 3.14\n",
      "    },\n",
      "    \"metadata\": [\n",
      "      {\n",
      "        \"title\": \"cwl:type\",\n",
      "        \"value\": \"float\"\n",
      "      }\n",
      "    ],\n",
      "    \"minOccurs\": 1,\n",
      "    \"maxOccurs\": 1,\n",
      "    \"valuePassing\": \"byValue\",\n",
      "    \"description\": \"A floating-point number\"\n",
      "  },\n",
      "  \"double_input\": {\n",
      "    \"schema\": {\n",
      "      \"type\": \"number\",\n",
      "      \"format\": \"double\",\n",
      "      \"default\": 2.7182818284\n",
      "    },\n",
      "    \"metadata\": [\n",
      "      {\n",
      "        \"title\": \"cwl:type\",\n",
      "        \"value\": \"double\"\n",
      "      }\n",
      "    ],\n",
      "    \"minOccurs\": 1,\n",
      "    \"maxOccurs\": 1,\n",
      "    \"valuePassing\": \"byValue\",\n",
      "    \"description\": \"A double-precision float\"\n",
      "  },\n",
      "  \"string_input\": {\n",
      "    \"schema\": {\n",
      "      \"type\": \"string\",\n",
      "      \"default\": \"Hello, CWL!\"\n",
      "    },\n",
      "    \"metadata\": [\n",
      "      {\n",
      "        \"title\": \"cwl:type\",\n",
      "        \"value\": \"string\"\n",
      "      }\n",
      "    ],\n",
      "    \"minOccurs\": 1,\n",
      "    \"maxOccurs\": 1,\n",
      "    \"valuePassing\": \"byValue\",\n",
      "    \"description\": \"A string input\"\n",
      "  }\n",
      "}"
     ]
    },
    {
     "data": {
      "text/markdown": [
       "---"
      ],
      "text/plain": [
       "<IPython.core.display.Markdown object>"
      ]
     },
     "metadata": {},
     "output_type": "display_data"
    }
   ],
   "source": [
    "from IPython.display import (\n",
    "    display,\n",
    "    Markdown\n",
    ")\n",
    "import sys\n",
    "\n",
    "for i, cwl_converter in enumerate(cwl_converters):\n",
    "    index = i + 1\n",
    "    display(Markdown(f\"## 2.{index}. `{cwl_converter.cwl.id}` Inputs:\"))\n",
    "    cwl_converter.dump_inputs(stream=sys.stdout, pretty_print=True)\n",
    "    display(Markdown('---'))"
   ]
  },
  {
   "cell_type": "markdown",
   "id": "8f73dd47",
   "metadata": {},
   "source": [
    "# 3. Outputs conversion\n",
    "\n",
    "Users can reuse the `BaseCWLtypes2OGCConverter` instance to convert the CWL outputs to the OGC JSON format:"
   ]
  },
  {
   "cell_type": "code",
   "execution_count": 12,
   "id": "1ddfe702",
   "metadata": {},
   "outputs": [
    {
     "data": {
      "text/markdown": [
       "## 3.1. `test-primitives` Outputs:"
      ],
      "text/plain": [
       "<IPython.core.display.Markdown object>"
      ]
     },
     "metadata": {},
     "output_type": "display_data"
    },
    {
     "name": "stdout",
     "output_type": "stream",
     "text": [
      "{\n",
      "  \"echoed_values\": {\n",
      "    \"schema\": {\n",
      "      \"type\": \"string\"\n",
      "    },\n",
      "    \"metadata\": [\n",
      "      {\n",
      "        \"title\": \"cwl:type\",\n",
      "        \"value\": \"string\"\n",
      "      }\n",
      "    ],\n",
      "    \"title\": \"Echoed Values\",\n",
      "    \"description\": \"The string containing echoed primitive values\"\n",
      "  }\n",
      "}"
     ]
    },
    {
     "data": {
      "text/markdown": [
       "---"
      ],
      "text/plain": [
       "<IPython.core.display.Markdown object>"
      ]
     },
     "metadata": {},
     "output_type": "display_data"
    },
    {
     "data": {
      "text/markdown": [
       "## 3.2. `clt` Outputs:"
      ],
      "text/plain": [
       "<IPython.core.display.Markdown object>"
      ]
     },
     "metadata": {},
     "output_type": "display_data"
    },
    {
     "name": "stdout",
     "output_type": "stream",
     "text": [
      "{\n",
      "  \"echoed\": {\n",
      "    \"schema\": {\n",
      "      \"type\": \"string\"\n",
      "    },\n",
      "    \"metadata\": [\n",
      "      {\n",
      "        \"title\": \"cwl:type\",\n",
      "        \"value\": \"string\"\n",
      "      }\n",
      "    ]\n",
      "  }\n",
      "}"
     ]
    },
    {
     "data": {
      "text/markdown": [
       "---"
      ],
      "text/plain": [
       "<IPython.core.display.Markdown object>"
      ]
     },
     "metadata": {},
     "output_type": "display_data"
    }
   ],
   "source": [
    "for i, cwl_converter in enumerate(cwl_converters):\n",
    "    index = i + 1\n",
    "    display(Markdown(f\"## 3.{index}. `{cwl_converter.cwl.id}` Outputs:\"))\n",
    "    cwl_converter.dump_outputs(stream=sys.stdout, pretty_print=True)\n",
    "    display(Markdown('---'))"
   ]
  }
 ],
 "metadata": {
  "kernelspec": {
   "display_name": "Python 3",
   "language": "python",
   "name": "python3"
  },
  "language_info": {
   "codemirror_mode": {
    "name": "ipython",
    "version": 3
   },
   "file_extension": ".py",
   "mimetype": "text/x-python",
   "name": "python",
   "nbconvert_exporter": "python",
   "pygments_lexer": "ipython3",
   "version": "3.10.12"
  }
 },
 "nbformat": 4,
 "nbformat_minor": 5
}

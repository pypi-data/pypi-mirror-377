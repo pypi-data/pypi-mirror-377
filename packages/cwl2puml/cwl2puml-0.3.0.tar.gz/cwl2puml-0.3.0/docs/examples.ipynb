{
 "cells": [
  {
   "cell_type": "markdown",
   "id": "8358e29c",
   "metadata": {},
   "source": [
    "# Examples\n",
    "\n",
    "The following examples show how to use the loader APIs:"
   ]
  },
  {
   "cell_type": "markdown",
   "id": "49492847",
   "metadata": {},
   "source": [
    "## 1. Parsing\n",
    "\n",
    "This sample shows how to read a CWL document from a remote public URL:"
   ]
  },
  {
   "cell_type": "code",
   "execution_count": 1,
   "id": "f5976049",
   "metadata": {},
   "outputs": [
    {
     "name": "stderr",
     "output_type": "stream",
     "text": [
      "\u001b[32m2025-08-15 01:13:56.419\u001b[0m | \u001b[1mINFO    \u001b[0m | \u001b[36mcwl_loader\u001b[0m:\u001b[36mload_cwl_from_location\u001b[0m:\u001b[36m192\u001b[0m - \u001b[1mLoading CWL document from https://raw.githubusercontent.com/eoap/application-package-patterns/refs/heads/main/cwl-workflow/pattern-1.cwl...\u001b[0m\n",
      "\u001b[32m2025-08-15 01:13:56.677\u001b[0m | \u001b[1mINFO    \u001b[0m | \u001b[36mcwl_loader\u001b[0m:\u001b[36mload_cwl_from_yaml\u001b[0m:\u001b[36m123\u001b[0m - \u001b[1mUpdating the model to v1.2...\u001b[0m\n",
      "\u001b[32m2025-08-15 01:13:56.682\u001b[0m | \u001b[1mINFO    \u001b[0m | \u001b[36mcwl_loader\u001b[0m:\u001b[36mload_cwl_from_yaml\u001b[0m:\u001b[36m134\u001b[0m - \u001b[1mRaw CWL document successfully updated to v1.2! Now converting to the CWL model...\u001b[0m\n",
      "\u001b[32m2025-08-15 01:13:58.237\u001b[0m | \u001b[1mINFO    \u001b[0m | \u001b[36mcwl_loader\u001b[0m:\u001b[36mload_cwl_from_yaml\u001b[0m:\u001b[36m142\u001b[0m - \u001b[1mRaw CWL document successfully updated to v1.2! Now dereferencing the FQNs...\u001b[0m\n",
      "\u001b[32m2025-08-15 01:13:58.237\u001b[0m | \u001b[1mINFO    \u001b[0m | \u001b[36mcwl_loader\u001b[0m:\u001b[36m_clean_process\u001b[0m:\u001b[36m65\u001b[0m - \u001b[1m  Cleaning Workflow pattern-1...\u001b[0m\n",
      "\u001b[32m2025-08-15 01:13:58.238\u001b[0m | \u001b[1mINFO    \u001b[0m | \u001b[36mcwl_loader\u001b[0m:\u001b[36m_clean_process\u001b[0m:\u001b[36m65\u001b[0m - \u001b[1m  Cleaning CommandLineTool clt...\u001b[0m\n",
      "\u001b[32m2025-08-15 01:13:58.239\u001b[0m | \u001b[1mINFO    \u001b[0m | \u001b[36mcwl_loader\u001b[0m:\u001b[36mload_cwl_from_yaml\u001b[0m:\u001b[36m150\u001b[0m - \u001b[1mCWL document successfully dereferenced!\u001b[0m\n"
     ]
    }
   ],
   "source": [
    "import cwl_loader\n",
    "\n",
    "cwl_document = cwl_loader.load_cwl_from_location('https://raw.githubusercontent.com/eoap/application-package-patterns/refs/heads/main/cwl-workflow/pattern-1.cwl')"
   ]
  },
  {
   "cell_type": "markdown",
   "id": "29c4be40",
   "metadata": {},
   "source": [
    "## 1.1 Check the parsed document"
   ]
  },
  {
   "cell_type": "code",
   "execution_count": 2,
   "id": "126c85a6",
   "metadata": {},
   "outputs": [
    {
     "name": "stderr",
     "output_type": "stream",
     "text": [
      "cwlVersion: v1.2\n",
      "$graph:\n",
      "- id: pattern-1\n",
      "  class: Workflow\n",
      "  label: Water bodies detection based on NDWI and the otsu threshold\n",
      "  doc: Water bodies detection based on NDWI and otsu threshold applied to a \n",
      "    single Landsat-8/9 acquisition\n",
      "  inputs:\n",
      "  - id: aoi\n",
      "    label: area of interest\n",
      "    doc: area of interest as a bounding box\n",
      "    default: -118.985,38.432,-118.183,38.938\n",
      "    type: string\n",
      "  - id: epsg\n",
      "    label: EPSG code\n",
      "    doc: EPSG code\n",
      "    default: EPSG:4326\n",
      "    type: string\n",
      "  - id: bands\n",
      "    label: bands used for the NDWI\n",
      "    doc: bands used for the NDWI\n",
      "    default:\n",
      "    - green\n",
      "    - nir08\n",
      "    type:\n",
      "      name: _:cd590dbf-c723-4601-a5c3-808787576a5b\n",
      "      items: string\n",
      "      type: array\n",
      "  - id: item\n",
      "    label: Landsat-8/9 acquisition reference\n",
      "    doc: Landsat-8/9 acquisition reference\n",
      "    type: Directory\n",
      "  outputs:\n",
      "  - id: water_bodies\n",
      "    label: Water bodies detected\n",
      "    doc: Water bodies detected based on the NDWI and otsu threshold\n",
      "    outputSource:\n",
      "    - step/stac-catalog\n",
      "    type: Directory\n",
      "  requirements: []\n",
      "  cwlVersion: v1.2\n",
      "  steps:\n",
      "  - id: step\n",
      "    label: Water bodies detection\n",
      "    doc: Water bodies detection based on NDWI and otsu threshold applied to a \n",
      "      single Landsat-8/9 acquisition\n",
      "    in:\n",
      "    - id: item\n",
      "      source: item\n",
      "    - id: aoi\n",
      "      source: aoi\n",
      "    - id: epsg\n",
      "      source: epsg\n",
      "    - id: band\n",
      "      source: bands\n",
      "    out:\n",
      "    - stac-catalog\n",
      "    run: '#clt'\n",
      "  $namespaces: &id001\n",
      "    s: https://schema.org/\n",
      "\n",
      "- id: clt\n",
      "  class: CommandLineTool\n",
      "  inputs:\n",
      "  - id: item\n",
      "    type: Directory\n",
      "    inputBinding:\n",
      "      prefix: --input-item\n",
      "  - id: aoi\n",
      "    type: string\n",
      "    inputBinding:\n",
      "      prefix: --aoi\n",
      "  - id: epsg\n",
      "    type: string\n",
      "    inputBinding:\n",
      "      prefix: --epsg\n",
      "  - id: band\n",
      "    type:\n",
      "    - name: _:5c10ced8-62b5-4d1e-b04f-7c2f4711967b\n",
      "      items: string\n",
      "      type: array\n",
      "      inputBinding:\n",
      "        prefix: --band\n",
      "  outputs:\n",
      "  - id: stac-catalog\n",
      "    type: Directory\n",
      "    outputBinding:\n",
      "      glob: .\n",
      "  requirements:\n",
      "  - class: InlineJavascriptRequirement\n",
      "  - class: EnvVarRequirement\n",
      "    envDef:\n",
      "    - envName: PATH\n",
      "      envValue: /app/envs/runner/bin\n",
      "  - class: ResourceRequirement\n",
      "    coresMax: 1\n",
      "    ramMax: 512\n",
      "  hints:\n",
      "  - class: DockerRequirement\n",
      "    dockerPull: docker.io/library/runner:latest\n",
      "  cwlVersion: v1.2\n",
      "  baseCommand:\n",
      "  - runner\n",
      "  arguments:\n",
      "  - pattern-1\n",
      "  $namespaces: *id001\n"
     ]
    }
   ],
   "source": [
    "import sys\n",
    "\n",
    "cwl_loader.dump_cwl(cwl_document, sys.stderr)"
   ]
  },
  {
   "cell_type": "markdown",
   "id": "3acc5f44",
   "metadata": {},
   "source": [
    "## 2. Components diagram\n",
    "\n",
    "This sample shows how to write a CWL document to a stream (string, file, ...):"
   ]
  },
  {
   "cell_type": "code",
   "execution_count": 3,
   "id": "0c16376b",
   "metadata": {},
   "outputs": [
    {
     "data": {
      "image/png": "[encoded data removed]",
      "text/plain": [
       "<PIL.PngImagePlugin.PngImageFile image mode=RGB size=746x417 at 0x7D6F4FF6FFD0>"
      ]
     },
     "metadata": {},
     "output_type": "display_data"
    }
   ],
   "source": [
    "from cwl2puml import (\n",
    "    to_puml,\n",
    "    DiagramType\n",
    ")\n",
    "from io import (\n",
    "    StringIO,\n",
    "    BytesIO\n",
    ")\n",
    "from IPython.display import display\n",
    "from plantuml import deflate_and_encode\n",
    "from PIL import Image\n",
    "from urllib.request import urlopen\n",
    "\n",
    "out = StringIO()\n",
    "to_puml(\n",
    "    cwl_document=cwl_document,\n",
    "    diagram_type=DiagramType.COMPONENTS,\n",
    "    output_stream=out\n",
    ")\n",
    "\n",
    "clear_output = out.getvalue()\n",
    "encoded = deflate_and_encode(clear_output)\n",
    "diagram_url = f\"https://www.plantuml.com/plantuml/png/{encoded}\"\n",
    "\n",
    "with urlopen(diagram_url) as url:\n",
    "    img = Image.open(BytesIO(url.read()))\n",
    "display(img)"
   ]
  },
  {
   "cell_type": "markdown",
   "id": "c6a29f79",
   "metadata": {},
   "source": [
    "## 2.1 Check the generated PlantUML code"
   ]
  },
  {
   "cell_type": "code",
   "execution_count": 4,
   "id": "a7b2ecb5",
   "metadata": {},
   "outputs": [
    {
     "name": "stdout",
     "output_type": "stream",
     "text": [
      "@startuml\n",
      "skinparam linetype ortho\n",
      "\n",
      "\n",
      "node \"Workflow 'pattern-1'\" {\n",
      "    component \"pattern-1\" as pattern_1 {\n",
      "    \n",
      "        portin \"aoi\" as pattern_1_aoi\n",
      "    \n",
      "        portin \"epsg\" as pattern_1_epsg\n",
      "    \n",
      "        portin \"bands\" as pattern_1_bands\n",
      "    \n",
      "        portin \"item\" as pattern_1_item\n",
      "    \n",
      "    \n",
      "        portout \"water_bodies\" as pattern_1_water_bodies\n",
      "    \n",
      "    }\n",
      "\n",
      "\n",
      "    component \"step\" as pattern_1_step {\n",
      "    \n",
      "        portin \"item\" as pattern_1_step_item\n",
      "        pattern_1_item .down.> pattern_1_step_item\n",
      "    \n",
      "        portin \"aoi\" as pattern_1_step_aoi\n",
      "        pattern_1_aoi .down.> pattern_1_step_aoi\n",
      "    \n",
      "        portin \"epsg\" as pattern_1_step_epsg\n",
      "        pattern_1_epsg .down.> pattern_1_step_epsg\n",
      "    \n",
      "        portin \"band\" as pattern_1_step_band\n",
      "        pattern_1_bands .down.> pattern_1_step_band\n",
      "    \n",
      "\n",
      "    \n",
      "        portout \"stac-catalog\" as pattern_1_step_stac_catalog\n",
      "    \n",
      "    }\n",
      "\n",
      "}\n",
      "\n",
      "node \"CommandLineTool 'clt'\" {\n",
      "    component \"clt\" as clt {\n",
      "    \n",
      "        portin \"item\" as clt_item\n",
      "    \n",
      "        portin \"aoi\" as clt_aoi\n",
      "    \n",
      "        portin \"epsg\" as clt_epsg\n",
      "    \n",
      "        portin \"band\" as clt_band\n",
      "    \n",
      "    \n",
      "        portout \"stac-catalog\" as clt_stac_catalog\n",
      "    \n",
      "    }\n",
      "\n",
      "\n",
      "}\n",
      "\n",
      "\n",
      "\n",
      "    \n",
      "        \n",
      "pattern_1_step_stac_catalog .up.> pattern_1_water_bodies\n",
      "        \n",
      "    \n",
      "\n",
      "    \n",
      "pattern_1_step .right.> clt\n",
      "    \n",
      "\n",
      "    \n",
      "        \n",
      "    \n",
      "\n",
      "    \n",
      "\n",
      "@enduml\n"
     ]
    }
   ],
   "source": [
    "print(clear_output)"
   ]
  }
 ],
 "metadata": {
  "kernelspec": {
   "display_name": "Python 3",
   "language": "python",
   "name": "python3"
  },
  "language_info": {
   "codemirror_mode": {
    "name": "ipython",
    "version": 3
   },
   "file_extension": ".py",
   "mimetype": "text/x-python",
   "name": "python",
   "nbconvert_exporter": "python",
   "pygments_lexer": "ipython3",
   "version": "3.10.12"
  }
 },
 "nbformat": 4,
 "nbformat_minor": 5
}

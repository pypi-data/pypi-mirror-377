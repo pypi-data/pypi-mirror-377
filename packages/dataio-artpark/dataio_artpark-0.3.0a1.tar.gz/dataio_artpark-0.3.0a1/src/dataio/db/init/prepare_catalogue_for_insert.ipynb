{
 "cells": [
  {
   "cell_type": "code",
   "execution_count": 2,
   "metadata": {},
   "outputs": [],
   "source": [
    "import os\n",
    "import pandas as pd"
   ]
  },
  {
   "cell_type": "code",
   "execution_count": 3,
   "metadata": {},
   "outputs": [],
   "source": [
    "df = pd.read_csv('./data_inserts/ARTPARK Data Catalogue - Catalogue v2_filtered.csv')"
   ]
  },
  {
   "cell_type": "code",
   "execution_count": 8,
   "metadata": {},
   "outputs": [
    {
     "data": {
      "text/plain": [
       "array(['Date', 'Year', 'Month',\n",
       "       'Month (for monthly summaries), Year (for other summaries)',\n",
       "       'Vaccination Round', nan, 'Minutes', 'Year/Month', 'Fortnight',\n",
       "       'Hour', 'Week, Decade', 'Date accessed', 'Unknown', 'Report Date',\n",
       "       '6 hours', '1 hour', '15 mins (Rainfall); 1 hour (Temp/Humidity)'],\n",
       "      dtype=object)"
      ]
     },
     "execution_count": 8,
     "metadata": {},
     "output_type": "execute_result"
    }
   ],
   "source": [
    "df['Temporal Resolution'].unique()"
   ]
  }
 ],
 "metadata": {
  "kernelspec": {
   "display_name": ".venv",
   "language": "python",
   "name": "python3"
  },
  "language_info": {
   "codemirror_mode": {
    "name": "ipython",
    "version": 3
   },
   "file_extension": ".py",
   "mimetype": "text/x-python",
   "name": "python",
   "nbconvert_exporter": "python",
   "pygments_lexer": "ipython3",
   "version": "3.12.10"
  }
 },
 "nbformat": 4,
 "nbformat_minor": 2
}

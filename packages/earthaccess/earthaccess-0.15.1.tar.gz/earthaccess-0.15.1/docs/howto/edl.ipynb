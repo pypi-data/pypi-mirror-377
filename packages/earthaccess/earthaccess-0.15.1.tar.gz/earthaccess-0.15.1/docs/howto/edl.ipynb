{
 "cells": [
  {
   "cell_type": "markdown",
   "id": "e0cf71cc-cbbb-484a-be36-9a77d1416470",
   "metadata": {},
   "source": [
    "# earthaccess and NASA EDL\n",
    "\n",
    "earthaccess allows us to access data from datasets behind NASA EDL. This library comes with handy methods to generate an access token, create an authenticated Python requests session or fsspec file accessors. \n",
    "\n",
    "The following are simple examples of what can we do with them."
   ]
  },
  {
   "cell_type": "code",
   "execution_count": null,
   "id": "ce723d6f-8b5f-43e1-9531-19ee08a056fe",
   "metadata": {},
   "outputs": [],
   "source": [
    "import earthaccess\n",
    "\n",
    "auth = earthaccess.login()"
   ]
  },
  {
   "cell_type": "markdown",
   "id": "79f1bb34-4439-4c04-8803-29a07223123d",
   "metadata": {},
   "source": [
    "### Data in AWS\n",
    "If the data we want to access is on AWS, we can use earthaccess to generate temporary S3 credentials for any of the DAACs. This line is commented out for security reasons. "
   ]
  },
  {
   "cell_type": "code",
   "execution_count": null,
   "id": "f1f45172-c9c3-4f25-ad7e-acf94fba8b1d",
   "metadata": {},
   "outputs": [],
   "source": [
    "# s3_credentials = auth.get_s3_credentials(\"NSIDC\")"
   ]
  },
  {
   "cell_type": "markdown",
   "id": "ac1b3a27-f1b5-4dc9-b739-9fab75ca1b66",
   "metadata": {},
   "source": [
    "These S3 temporary credentials are valid for 1 hour and can be used by third party libraries that support S3 buckets."
   ]
  },
  {
   "cell_type": "markdown",
   "id": "ec1542da-e11a-480e-9913-3f762cd569ca",
   "metadata": {},
   "source": [
    "### HTTPS access\n",
    "\n",
    "We can also access data over HTTP using presigned Python `requests` sessions. The advantage of these sessions is that they work on every DAAC or data in S3 when accessed through HTTPS."
   ]
  },
  {
   "cell_type": "code",
   "execution_count": null,
   "id": "a7bb1a93-6f85-40cd-93b4-ce821a03a8b5",
   "metadata": {},
   "outputs": [],
   "source": [
    "nsidc_url = \"https://n5eil01u.ecs.nsidc.org/DP7/ATLAS/ATL06.005/2019.02.21/ATL06_20190221121851_08410203_005_01.h5\"\n",
    "lpcloud_url = \"https://data.lpdaac.earthdatacloud.nasa.gov/lp-prod-protected/EMITL2ARFL.001/EMIT_L2A_RFL_001_20220903T163129_2224611_012/EMIT_L2A_RFL_001_20220903T163129_2224611_012.nc\"\n",
    "\n",
    "# this is a Python requests session\n",
    "session = earthaccess.get_requests_https_session()"
   ]
  },
  {
   "cell_type": "code",
   "execution_count": null,
   "id": "c0f4e286-8ce9-4cde-b3a2-631b361a0d51",
   "metadata": {},
   "outputs": [],
   "source": [
    "headers = {\"Range\": \"bytes=0-100\"}\n",
    "r = session.get(lpcloud_url, headers=headers)\n",
    "r.text"
   ]
  },
  {
   "cell_type": "markdown",
   "id": "62b1f0be-390e-4cd5-9339-b055863132a3",
   "metadata": {},
   "source": [
    "### Accessing remote files as if they were local with fsspec"
   ]
  },
  {
   "cell_type": "code",
   "execution_count": null,
   "id": "1e5f5f7a-0643-42cb-b70c-4ac982824ff9",
   "metadata": {},
   "outputs": [],
   "source": [
    "fs = earthaccess.get_fsspec_https_session()"
   ]
  },
  {
   "cell_type": "code",
   "execution_count": null,
   "id": "fbc7bc5f-b984-4324-b095-3648a437fba2",
   "metadata": {},
   "outputs": [],
   "source": [
    "with fs.open(lpcloud_url) as f:\n",
    "    data = f.read(100)\n",
    "data"
   ]
  },
  {
   "cell_type": "code",
   "execution_count": null,
   "id": "07433a9f-f276-4d2b-9ed3-f556df2884af",
   "metadata": {},
   "outputs": [],
   "source": [
    "%%time\n",
    "\n",
    "import xarray as xr\n",
    "\n",
    "# earthaccess can open a list of files\n",
    "files = earthaccess.open([lpcloud_url])\n",
    "\n",
    "ds = xr.open_dataset(files[0], group=\"sensor_band_parameters\")\n",
    "ds"
   ]
  }
 ],
 "metadata": {
  "kernelspec": {
   "display_name": "Python 3 (ipykernel)",
   "language": "python",
   "name": "python3"
  },
  "language_info": {
   "codemirror_mode": {
    "name": "ipython",
    "version": 3
   },
   "file_extension": ".py",
   "mimetype": "text/x-python",
   "name": "python",
   "nbconvert_exporter": "python",
   "pygments_lexer": "ipython3",
   "version": "3.11.9"
  }
 },
 "nbformat": 4,
 "nbformat_minor": 5
}

{
 "cells": [
  {
   "cell_type": "markdown",
   "id": "b16768c0-62f8-41e1-af01-4d1273606062",
   "metadata": {},
   "source": [
    "# Streaming data from NASA's Earth Surface Minteral Dust Source Investigation (EMIT)\n",
    "\n",
    "This is a proof of concept notebook to demonstrate how [earthaccess](https://github.com/nsidc/earthaccess) can facilitate the use of cloud hosted data from NASA using xarray and holoviews. For a formal tutorial on EMIT please visit the official repository where things are explained in detail. [EMIT Science Tutorial](https://github.com/nasa/EMIT-Data-Resources/blob/main/python/tutorials/Exploring_EMIT_L2A_Reflectance.ipynb)\n",
    "\n",
    "\n",
    "Prerequisites \n",
    "\n",
    "* NASA EDL [credentials](https://urs.earthdata.nasa.gov/)\n",
    "* Openscapes [Conda environment installed](https://raw.githubusercontent.com/NASA-Openscapes/corn/main/ci/environment.yml)\n",
    "* For direct access this notebook should run in AWS\n",
    "\n",
    "\n",
    "**IMPORTANT: This notebook should run out of AWS but is not recommended as streaming HDF5 data is slow out of region**\n"
   ]
  },
  {
   "cell_type": "code",
   "execution_count": null,
   "id": "b0ce797a-8c6f-49e6-b393-70b353a89daa",
   "metadata": {
    "tags": []
   },
   "outputs": [],
   "source": [
    "from pprint import pprint\n",
    "\n",
    "import earthaccess\n",
    "import xarray as xr\n",
    "\n",
    "print(f\"using earthaccess version {earthaccess.__version__}\")\n",
    "\n",
    "auth = earthaccess.login()"
   ]
  },
  {
   "cell_type": "markdown",
   "id": "69e1d100-093d-42a1-95ec-03d340a0610b",
   "metadata": {},
   "source": [
    "### Searching for the dataset with `.search_datasets()`\n",
    "\n",
    "> Note: API docs can be found at [earthaccess](https://nsidc.github.io/earthaccess/user-reference/api/api/)"
   ]
  },
  {
   "cell_type": "code",
   "execution_count": null,
   "id": "cc1c31c5-a4f0-42bb-8a06-b4be1ec80ecb",
   "metadata": {
    "tags": []
   },
   "outputs": [],
   "source": [
    "results = earthaccess.search_datasets(short_name=\"EMITL2ARFL\", cloud_hosted=True)\n",
    "\n",
    "# Let's print our datasets\n",
    "for dataset in results:\n",
    "    pprint(dataset.summary())"
   ]
  },
  {
   "cell_type": "markdown",
   "id": "6cbc8959-52fc-4a0e-a354-2a0e9e3f1224",
   "metadata": {},
   "source": [
    "### Searching for the data with `.search_data()` over Ecuador"
   ]
  },
  {
   "cell_type": "code",
   "execution_count": null,
   "id": "b734a014-bfc2-4192-b722-1f0a43315a99",
   "metadata": {
    "tags": []
   },
   "outputs": [],
   "source": [
    "# ~Ecuador = -82.05,-3.17,-76.94,-0.52\n",
    "granules = earthaccess.search_data(\n",
    "    short_name=\"EMITL2ARFL\",\n",
    "    bounding_box=(-82.05, -3.17, -76.94, -0.52),\n",
    "    count=10,\n",
    ")\n",
    "print(len(granules))"
   ]
  },
  {
   "cell_type": "markdown",
   "id": "a2b8fa65-1c8a-42c8-aa03-88f300a49859",
   "metadata": {
    "tags": []
   },
   "source": [
    "### `earthaccess` can print a preview of the data using the metadata from CMR\n",
    "\n",
    "> Note: there is a bug in earthaccess where the reported size of the granules are always 0, fix is coming next week"
   ]
  },
  {
   "cell_type": "code",
   "execution_count": null,
   "id": "9d2e8ec0-994e-4a54-8ce9-fc87c81282d3",
   "metadata": {
    "tags": []
   },
   "outputs": [],
   "source": [
    "granules[7]"
   ]
  },
  {
   "cell_type": "markdown",
   "id": "7828bf1b-ec28-485c-bc9e-da775fc45d08",
   "metadata": {},
   "source": [
    "## Streaming data from S3 with fsspec \n",
    "\n",
    "Opening the data with `earthaccess.open()` and accessing the NetCDF as if it was local \n",
    "\n",
    "If we run this code in AWS(us-west-2), earthaccess can use direct S3 links. If we run it out of AWS, earthaccess can only use HTTPS links. Direct S3 access for NASA data is only allowed in region."
   ]
  },
  {
   "cell_type": "code",
   "execution_count": null,
   "id": "fa74a2aa-27ea-4a56-a2e8-7ecd51bc3e0e",
   "metadata": {
    "tags": []
   },
   "outputs": [],
   "source": [
    "# open() accepts a list of results or a list of links\n",
    "file_handlers = earthaccess.open(granules)\n",
    "file_handlers"
   ]
  },
  {
   "cell_type": "code",
   "execution_count": null,
   "id": "2e512fee-5506-4898-a8b6-4816a475d037",
   "metadata": {
    "tags": []
   },
   "outputs": [],
   "source": [
    "%%time\n",
    "\n",
    "# we can use any file from the array\n",
    "file_p = file_handlers[4]\n",
    "\n",
    "refl = xr.open_dataset(file_p)\n",
    "wvl = xr.open_dataset(file_p, group=\"sensor_band_parameters\")\n",
    "loc = xr.open_dataset(file_p, group=\"location\")\n",
    "ds = xr.merge([refl, loc])\n",
    "ds = ds.assign_coords(\n",
    "    {\n",
    "        \"downtrack\": ([\"downtrack\"], refl.downtrack.data),\n",
    "        \"crosstrack\": ([\"crosstrack\"], refl.crosstrack.data),\n",
    "        **wvl.variables,\n",
    "    }\n",
    ")\n",
    "\n",
    "ds"
   ]
  },
  {
   "cell_type": "markdown",
   "id": "ee830c9c-a024-461b-b94c-cfd0087b52b5",
   "metadata": {},
   "source": [
    "### Plotting non orthorectified data\n",
    "\n",
    "\n",
    "Use the following code to plot the Panel widget when you run this code on AWS us-west-2\n",
    "\n",
    "\n",
    "```python\n",
    "\n",
    "import holoviews as hv\n",
    "import hvplot.xarray\n",
    "import numpy as np\n",
    "import panel as pn\n",
    "\n",
    "pn.extension()\n",
    "\n",
    "# Find band nearest to value of 850 nm (NIR)\n",
    "b850 = np.nanargmin(abs(ds[\"wavelengths\"].values - 850))\n",
    "ref_unc = ds[\"reflectance_uncertainty\"]\n",
    "image = ref_unc.sel(bands=b850).hvplot(\"crosstrack\", \"downtrack\", cmap=\"viridis\")\n",
    "stream = hv.streams.Tap(source=image, x=255, y=484)\n",
    "\n",
    "\n",
    "def wavelengths_histogram(x, y):\n",
    "    histo = ref_unc.sel(crosstrack=x, downtrack=y, method=\"nearest\").hvplot(\n",
    "        x=\"wavelengths\", color=\"green\"\n",
    "    )\n",
    "    return histo\n",
    "\n",
    "\n",
    "tap_dmap = hv.DynamicMap(wavelengths_histogram, streams=[stream])\n",
    "pn.Column(image, tap_dmap)\n",
    "\n",
    "```\n",
    "\n"
   ]
  }
 ],
 "metadata": {
  "kernelspec": {
   "display_name": "Python 3 (ipykernel)",
   "language": "python",
   "name": "python3"
  },
  "language_info": {
   "codemirror_mode": {
    "name": "ipython",
    "version": 3
   },
   "file_extension": ".py",
   "mimetype": "text/x-python",
   "name": "python",
   "nbconvert_exporter": "python",
   "pygments_lexer": "ipython3",
   "version": "3.11.9"
  }
 },
 "nbformat": 4,
 "nbformat_minor": 5
}

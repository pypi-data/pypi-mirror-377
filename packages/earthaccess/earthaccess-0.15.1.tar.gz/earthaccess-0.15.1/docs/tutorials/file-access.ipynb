{
 "cells": [
  {
   "cell_type": "markdown",
   "id": "75fe6fd5-f2a5-47ea-a146-cd4b2e735119",
   "metadata": {},
   "source": [
    "# Accessing remote files with earthaccess \n",
    "\n",
    "When we search for data using earthaccess we get back a list of results from NASA's Common Metadata Repository or CMR for short. These results contain all the information\n",
    "we need to access the files represented by the metadata. `earthaccess` offers 2 access methods that operate with these results, the first method is the well known, `download()`\n",
    "where we copy the results from their location to our local disk, if we are running the code in AWS say on a Jupyterhub the files will be copied to the local VM disk. \n",
    "The other method is `open()`, earthaccess uses fsspec to open remote files as if they were local. `open` has advantages and some disadvantages that we must know before using it. \n",
    "\n",
    "The main advantage for `open()` is that we don't have to download the file, we can stream it into memory however depending on how we do it we may run into network performance issues. Again, if we run the code next to the data this would be fast, if we do it locally in our laptopts it will be slow. "
   ]
  },
  {
   "cell_type": "code",
   "execution_count": null,
   "id": "ce723d6f-8b5f-43e1-9531-19ee08a056fe",
   "metadata": {},
   "outputs": [],
   "source": [
    "import earthaccess\n",
    "\n",
    "auth = earthaccess.login()"
   ]
  },
  {
   "cell_type": "code",
   "execution_count": null,
   "id": "3108ff21-1ea2-449b-b2f5-b442dd3b61f5",
   "metadata": {},
   "outputs": [],
   "source": [
    "results = earthaccess.search_data(\n",
    "    short_name=\"ATL06\",\n",
    "    cloud_hosted=False,\n",
    "    temporal=(\"2019-01\", \"2019-02\"),\n",
    "    polygon=[(-100, 40), (-110, 40), (-105, 38), (-100, 40)],\n",
    ")\n",
    "results[0]"
   ]
  },
  {
   "cell_type": "code",
   "execution_count": null,
   "id": "a7bb1a93-6f85-40cd-93b4-ce821a03a8b5",
   "metadata": {},
   "outputs": [],
   "source": [
    "nsidc_url = \"https://n5eil01u.ecs.nsidc.org/DP7/ATLAS/ATL06.005/2019.02.21/ATL06_20190221121851_08410203_005_01.h5\"\n",
    "lpcloud_url = \"https://data.lpdaac.earthdatacloud.nasa.gov/lp-prod-protected/EMITL2ARFL.001/EMIT_L2A_RFL_001_20220903T163129_2224611_012/EMIT_L2A_RFL_001_20220903T163129_2224611_012.nc\"\n",
    "\n",
    "session = earthaccess.get_requests_https_session()"
   ]
  },
  {
   "cell_type": "code",
   "execution_count": null,
   "id": "c0f4e286-8ce9-4cde-b3a2-631b361a0d51",
   "metadata": {},
   "outputs": [],
   "source": [
    "headers = {\"Range\": \"bytes=0-100\"}\n",
    "r = session.get(lpcloud_url, headers=headers)\n",
    "r"
   ]
  },
  {
   "cell_type": "code",
   "execution_count": null,
   "id": "1e5f5f7a-0643-42cb-b70c-4ac982824ff9",
   "metadata": {},
   "outputs": [],
   "source": [
    "fs = earthaccess.get_fsspec_https_session()"
   ]
  },
  {
   "cell_type": "code",
   "execution_count": null,
   "id": "fbc7bc5f-b984-4324-b095-3648a437fba2",
   "metadata": {},
   "outputs": [],
   "source": [
    "with fs.open(lpcloud_url) as f:\n",
    "    data = f.read(100)\n",
    "data"
   ]
  },
  {
   "cell_type": "code",
   "execution_count": null,
   "id": "07433a9f-f276-4d2b-9ed3-f556df2884af",
   "metadata": {},
   "outputs": [],
   "source": [
    "%%time\n",
    "\n",
    "import xarray as xr\n",
    "\n",
    "files = earthaccess.open(results[0:2])\n",
    "\n",
    "ds = xr.open_dataset(files[0], group=\"/gt1r/land_ice_segments\")\n",
    "ds"
   ]
  }
 ],
 "metadata": {
  "kernelspec": {
   "display_name": "Python 3 (ipykernel)",
   "language": "python",
   "name": "python3"
  },
  "language_info": {
   "codemirror_mode": {
    "name": "ipython",
    "version": 3
   },
   "file_extension": ".py",
   "mimetype": "text/x-python",
   "name": "python",
   "nbconvert_exporter": "python",
   "pygments_lexer": "ipython3",
   "version": "3.11.9"
  }
 },
 "nbformat": 4,
 "nbformat_minor": 5
}

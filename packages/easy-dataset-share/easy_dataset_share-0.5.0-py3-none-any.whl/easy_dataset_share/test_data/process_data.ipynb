{
 "cells": [
  {
   "cell_type": "code",
   "execution_count": 3,
   "id": "837e5451",
   "metadata": {},
   "outputs": [],
   "source": [
    "import json\n",
    "from pathlib import Path\n",
    "\n",
    "# Paths\n",
    "input_path = Path(\"/Users/dikhulla/Desktop/responsible_dataset_sharing/responsible_dataset_sharing/data/unmonitored_data.json\")\n",
    "output_dir = input_path.parent / \"split\"\n",
    "\n",
    "# Load data\n",
    "with open(input_path, \"r\") as f:\n",
    "    data = json.load(f)\n",
    "\n",
    "# Take the first 25 examples\n",
    "subset = data[:25]\n",
    "\n",
    "# Create output directory\n",
    "output_dir.mkdir(exist_ok=True)\n",
    "\n",
    "# Chunk and write\n",
    "chunk_size = 10\n",
    "for i in range(0, len(subset), chunk_size):\n",
    "    chunk = subset[i:i + chunk_size]\n",
    "    out_file = output_dir / f\"unmonitored_chunk_{i//chunk_size:02d}.json\"\n",
    "    with open(out_file, \"w\") as f:\n",
    "        json.dump(chunk, f, indent=2)\n",
    "\n"
   ]
  },
  {
   "cell_type": "code",
   "execution_count": null,
   "id": "ec571b80",
   "metadata": {},
   "outputs": [],
   "source": []
  }
 ],
 "metadata": {
  "kernelspec": {
   "display_name": "Python 3",
   "language": "python",
   "name": "python3"
  },
  "language_info": {
   "codemirror_mode": {
    "name": "ipython",
    "version": 3
   },
   "file_extension": ".py",
   "mimetype": "text/x-python",
   "name": "python",
   "nbconvert_exporter": "python",
   "pygments_lexer": "ipython3",
   "version": "3.10.4"
  }
 },
 "nbformat": 4,
 "nbformat_minor": 5
}

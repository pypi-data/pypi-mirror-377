{
 "cells": [
  {
   "cell_type": "code",
   "execution_count": 1,
   "id": "688dce9d",
   "metadata": {},
   "outputs": [],
   "source": [
    "import pymupdf"
   ]
  },
  {
   "cell_type": "code",
   "execution_count": 3,
   "id": "a6776019",
   "metadata": {},
   "outputs": [],
   "source": [
    "doc = pymupdf.open(r\"../tests/pdfs/metashape_python_api_2_2_1.pdf\")"
   ]
  },
  {
   "cell_type": "code",
   "execution_count": 4,
   "id": "4ce6eb35",
   "metadata": {},
   "outputs": [],
   "source": [
    "def get_block_lines(block):\n",
    "    for line in block[\"lines\"]:\n",
    "        line_text = ''.join(span[\"text\"] for span in line[\"spans\"])\n",
    "        return line_text\n",
    "    \n",
    "def get_page_block_content(page, header_y, footer_y):\n",
    "    blocks = page.get_text(\"dict\")[\"blocks\"]\n",
    "\n",
    "    keeped_blocks = []\n",
    "    # remove header and footer\n",
    "    for block in blocks:\n",
    "        x0, y0, x1, y1 = block['bbox']\n",
    "\n",
    "        max_y = max(y0, y1)\n",
    "        min_y = min(y0, y1)\n",
    "\n",
    "        if max_y > footer_y or min_y < header_y:\n",
    "            # footer and header\n",
    "            continue\n",
    "        \n",
    "        keeped_blocks.append(block)\n",
    "\n",
    "    return keeped_blocks\n",
    "\n",
    "def get_page_texts(page):\n",
    "    text = page.get_text().encode(\"utf8\")\n",
    "    return text"
   ]
  },
  {
   "cell_type": "markdown",
   "id": "91c63a2e",
   "metadata": {},
   "source": [
    "# Parse the first heading page"
   ]
  },
  {
   "cell_type": "code",
   "execution_count": 12,
   "id": "0ad2851d",
   "metadata": {},
   "outputs": [],
   "source": [
    "page = doc[0]"
   ]
  },
  {
   "cell_type": "code",
   "execution_count": 13,
   "id": "a6901b87",
   "metadata": {},
   "outputs": [],
   "source": [
    "blocks = page.get_text(\"dict\")[\"blocks\"]"
   ]
  },
  {
   "cell_type": "code",
   "execution_count": 11,
   "id": "bb3102fc",
   "metadata": {},
   "outputs": [
    {
     "data": {
      "text/plain": [
       "list"
      ]
     },
     "execution_count": 11,
     "metadata": {},
     "output_type": "execute_result"
    }
   ],
   "source": [
    "type(blocks)"
   ]
  },
  {
   "cell_type": "code",
   "execution_count": 8,
   "id": "6e41bb51",
   "metadata": {},
   "outputs": [
    {
     "data": {
      "text/plain": [
       "{'number': 0,\n",
       " 'type': 0,\n",
       " 'bbox': (194.27099609375,\n",
       "  110.73416137695312,\n",
       "  540.00146484375,\n",
       "  135.52125549316406),\n",
       " 'lines': [{'spans': [{'size': 24.787099838256836,\n",
       "     'flags': 20,\n",
       "     'bidi': 0,\n",
       "     'char_flags': 24,\n",
       "     'font': 'TeXGyreHeros-Bold',\n",
       "     'color': 0,\n",
       "     'alpha': 255,\n",
       "     'ascender': 0.7269999980926514,\n",
       "     'descender': -0.21899999678134918,\n",
       "     'text': 'Metashape Python Reference',\n",
       "     'origin': (194.27099609375, 129.78302001953125),\n",
       "     'bbox': (194.27099609375,\n",
       "      110.73416137695312,\n",
       "      540.00146484375,\n",
       "      135.52125549316406)}],\n",
       "   'wmode': 0,\n",
       "   'dir': (1.0, 0.0),\n",
       "   'bbox': (194.27099609375,\n",
       "    110.73416137695312,\n",
       "    540.00146484375,\n",
       "    135.52125549316406)}]}"
      ]
     },
     "execution_count": 8,
     "metadata": {},
     "output_type": "execute_result"
    }
   ],
   "source": [
    "blocks[0]"
   ]
  },
  {
   "cell_type": "code",
   "execution_count": 10,
   "id": "47faf4d3",
   "metadata": {},
   "outputs": [
    {
     "data": {
      "text/plain": [
       "1"
      ]
     },
     "execution_count": 10,
     "metadata": {},
     "output_type": "execute_result"
    }
   ],
   "source": [
    "len(blocks[0]['lines'])"
   ]
  },
  {
   "cell_type": "markdown",
   "id": "0772e1ba",
   "metadata": {},
   "source": [
    "# Test empty page"
   ]
  },
  {
   "cell_type": "code",
   "execution_count": 14,
   "id": "53b6b5b2",
   "metadata": {},
   "outputs": [],
   "source": [
    "page = doc[1]"
   ]
  },
  {
   "cell_type": "code",
   "execution_count": 15,
   "id": "5c7ede76",
   "metadata": {},
   "outputs": [],
   "source": [
    "blocks = page.get_text(\"dict\")[\"blocks\"]"
   ]
  },
  {
   "cell_type": "code",
   "execution_count": 16,
   "id": "b5af7dfd",
   "metadata": {},
   "outputs": [
    {
     "data": {
      "text/plain": [
       "0"
      ]
     },
     "execution_count": 16,
     "metadata": {},
     "output_type": "execute_result"
    }
   ],
   "source": [
    "len(blocks)"
   ]
  },
  {
   "cell_type": "markdown",
   "id": "89818caa",
   "metadata": {},
   "source": [
    "---\n",
    "\n",
    "Emptyer page with header and footers"
   ]
  },
  {
   "cell_type": "code",
   "execution_count": 21,
   "id": "fc1cf84f",
   "metadata": {},
   "outputs": [],
   "source": [
    "page = doc[5]"
   ]
  },
  {
   "cell_type": "code",
   "execution_count": 22,
   "id": "e68980f9",
   "metadata": {},
   "outputs": [],
   "source": [
    "blocks = page.get_text(\"dict\")[\"blocks\"]"
   ]
  },
  {
   "cell_type": "code",
   "execution_count": 24,
   "id": "b2b5e51d",
   "metadata": {},
   "outputs": [
    {
     "name": "stdout",
     "output_type": "stream",
     "text": [
      "Metashape Python Reference, Release 2.2.1\n",
      "2\n"
     ]
    }
   ],
   "source": [
    "for block in blocks:\n",
    "    lines = get_block_lines(block)\n",
    "    print(lines)"
   ]
  },
  {
   "cell_type": "code",
   "execution_count": 27,
   "id": "564db968",
   "metadata": {},
   "outputs": [
    {
     "data": {
      "text/plain": [
       "{'number': 0,\n",
       " 'type': 0,\n",
       " 'bbox': (72.0, 35.850772857666016, 279.0825500488281, 45.81336975097656),\n",
       " 'lines': [{'spans': [{'size': 9.962599754333496,\n",
       "     'flags': 20,\n",
       "     'bidi': 0,\n",
       "     'char_flags': 24,\n",
       "     'font': 'TeXGyreHeros-Bold',\n",
       "     'color': 0,\n",
       "     'alpha': 255,\n",
       "     'ascender': 0.7269999980926514,\n",
       "     'descender': -0.21899999678134918,\n",
       "     'text': 'Metashape Python Reference, Release 2.2.1',\n",
       "     'origin': (72.0, 43.50701904296875),\n",
       "     'bbox': (72.0,\n",
       "      35.850772857666016,\n",
       "      279.0825500488281,\n",
       "      45.81336975097656)}],\n",
       "   'wmode': 0,\n",
       "   'dir': (1.0, 0.0),\n",
       "   'bbox': (72.0, 35.850772857666016, 279.0825500488281, 45.81336975097656)}]}"
      ]
     },
     "execution_count": 27,
     "metadata": {},
     "output_type": "execute_result"
    }
   ],
   "source": [
    "header_block = blocks[0]\n",
    "header_block"
   ]
  },
  {
   "cell_type": "code",
   "execution_count": 29,
   "id": "6485a816",
   "metadata": {},
   "outputs": [
    {
     "data": {
      "text/plain": [
       "(72.0, 35.850772857666016, 279.0825500488281, 45.81336975097656)"
      ]
     },
     "execution_count": 29,
     "metadata": {},
     "output_type": "execute_result"
    }
   ],
   "source": [
    "header_block['bbox']"
   ]
  },
  {
   "cell_type": "code",
   "execution_count": 30,
   "id": "74a0ab40",
   "metadata": {},
   "outputs": [
    {
     "data": {
      "text/plain": [
       "{'number': 1,\n",
       " 'type': 0,\n",
       " 'bbox': (72.0, 742.2317504882812, 540.0003662109375, 752.1943359375),\n",
       " 'lines': [{'spans': [{'size': 9.962599754333496,\n",
       "     'flags': 20,\n",
       "     'bidi': 0,\n",
       "     'char_flags': 24,\n",
       "     'font': 'TeXGyreHeros-Bold',\n",
       "     'color': 0,\n",
       "     'alpha': 255,\n",
       "     'ascender': 0.7269999980926514,\n",
       "     'descender': -0.21899999678134918,\n",
       "     'text': '2',\n",
       "     'origin': (72.0, 749.8880004882812),\n",
       "     'bbox': (72.0, 742.2317504882812, 77.5392074584961, 752.1943359375)}],\n",
       "   'wmode': 0,\n",
       "   'dir': (1.0, 0.0),\n",
       "   'bbox': (72.0, 742.2317504882812, 77.5392074584961, 752.1943359375)},\n",
       "  {'spans': [{'size': 9.962599754333496,\n",
       "     'flags': 20,\n",
       "     'bidi': 0,\n",
       "     'char_flags': 24,\n",
       "     'font': 'TeXGyreHeros-Bold',\n",
       "     'color': 0,\n",
       "     'alpha': 255,\n",
       "     'ascender': 0.7269999980926514,\n",
       "     'descender': -0.21899999678134918,\n",
       "     'text': 'CONTENTS',\n",
       "     'origin': (485.20599365234375, 749.8880004882812),\n",
       "     'bbox': (485.20599365234375,\n",
       "      742.2317504882812,\n",
       "      540.0003662109375,\n",
       "      752.1943359375)}],\n",
       "   'wmode': 0,\n",
       "   'dir': (1.0, 0.0),\n",
       "   'bbox': (485.20599365234375,\n",
       "    742.2317504882812,\n",
       "    540.0003662109375,\n",
       "    752.1943359375)}]}"
      ]
     },
     "execution_count": 30,
     "metadata": {},
     "output_type": "execute_result"
    }
   ],
   "source": [
    "footer_block = blocks[1]\n",
    "footer_block"
   ]
  },
  {
   "cell_type": "code",
   "execution_count": 31,
   "id": "36dc4e01",
   "metadata": {},
   "outputs": [
    {
     "data": {
      "text/plain": [
       "(72.0, 742.2317504882812, 540.0003662109375, 752.1943359375)"
      ]
     },
     "execution_count": 31,
     "metadata": {},
     "output_type": "execute_result"
    }
   ],
   "source": [
    "footer_block['bbox']"
   ]
  },
  {
   "cell_type": "code",
   "execution_count": 7,
   "id": "f138cdbc",
   "metadata": {},
   "outputs": [],
   "source": [
    "header_bottom = 46\n",
    "footer_top = 742"
   ]
  },
  {
   "cell_type": "markdown",
   "id": "09996e36",
   "metadata": {},
   "source": [
    "Test on another page"
   ]
  },
  {
   "cell_type": "code",
   "execution_count": 43,
   "id": "961d19e0",
   "metadata": {},
   "outputs": [
    {
     "name": "stdout",
     "output_type": "stream",
     "text": [
      "Metashape Python Reference, Release 2.2.1\n",
      "Copyright (c) 2025 Agisoft LLC.\n",
      "CONTENTS\n"
     ]
    }
   ],
   "source": [
    "page = doc[4]\n",
    "blocks = page.get_text(\"dict\")[\"blocks\"]\n",
    "\n",
    "for block in blocks:\n",
    "    lines = get_block_lines(block)\n",
    "    print(lines)"
   ]
  },
  {
   "cell_type": "code",
   "execution_count": 44,
   "id": "98c9f7f3",
   "metadata": {},
   "outputs": [],
   "source": [
    "keeped_blocks = get_page_block_content(page, header_bottom, footer_top)"
   ]
  },
  {
   "cell_type": "code",
   "execution_count": 45,
   "id": "ac656aa4",
   "metadata": {},
   "outputs": [
    {
     "name": "stdout",
     "output_type": "stream",
     "text": [
      "Copyright (c) 2025 Agisoft LLC.\n"
     ]
    }
   ],
   "source": [
    "for block in keeped_blocks:\n",
    "    lines = get_block_lines(block)\n",
    "    print(lines)"
   ]
  },
  {
   "cell_type": "code",
   "execution_count": 47,
   "id": "c25a6db8",
   "metadata": {},
   "outputs": [
    {
     "name": "stdout",
     "output_type": "stream",
     "text": [
      "b'Metashape Python Reference, Release 2.2.1\\nCopyright (c) 2025 Agisoft LLC.\\nCONTENTS\\n1\\n'\n"
     ]
    }
   ],
   "source": [
    "page_text = get_page_texts(page)\n",
    "\n",
    "print(page_text)"
   ]
  },
  {
   "cell_type": "code",
   "execution_count": 50,
   "id": "dcd5172c",
   "metadata": {},
   "outputs": [
    {
     "data": {
      "text/plain": [
       "[Rect(72.0, 73.99293518066406, 112.30867004394531, 83.95553588867188)]"
      ]
     },
     "execution_count": 50,
     "metadata": {},
     "output_type": "execute_result"
    }
   ],
   "source": [
    "areas = page.search_for(\"Copyright\")\n",
    "\n",
    "areas"
   ]
  },
  {
   "cell_type": "markdown",
   "id": "18452ab9",
   "metadata": {},
   "source": [
    "# Check chapter one"
   ]
  },
  {
   "cell_type": "code",
   "execution_count": 10,
   "id": "40b7b11a",
   "metadata": {},
   "outputs": [],
   "source": [
    "page = doc[6]"
   ]
  },
  {
   "cell_type": "code",
   "execution_count": 11,
   "id": "c7143ebe",
   "metadata": {},
   "outputs": [],
   "source": [
    "text = get_page_texts(page)"
   ]
  },
  {
   "cell_type": "code",
   "execution_count": 12,
   "id": "4696db2f",
   "metadata": {},
   "outputs": [
    {
     "name": "stdout",
     "output_type": "stream",
     "text": [
      "b'CHAPTER\\nONE\\nOVERVIEW\\n1.1 Introduction to Python scripting in Metashape Professional\\nThis API is in development and will be extended in the future Metashape releases.\\nNote: Python scripting is supported only in Metashape Professional edition.\\nMetashape Professional uses Python 3.8 as a scripting engine.\\nPython commands and scripts can be executed in Metashape in one of the following ways:\\n\\xe2\\x80\\xa2 From Metashape \\xe2\\x80\\x9cConsole\\xe2\\x80\\x9d pane using it as standard Python console.\\n\\xe2\\x80\\xa2 From the \\xe2\\x80\\x9cTools\\xe2\\x80\\x9d menu using \\xe2\\x80\\x9cRun script...\\xe2\\x80\\x9d command.\\n\\xe2\\x80\\xa2 From command line using \\xe2\\x80\\x9c-r\\xe2\\x80\\x9d argument and passing the path to the script as an argument.\\nThe following Metashape funtionality can be accessed from Python scripts:\\n\\xe2\\x80\\xa2 Open/save/create Metashape projects.\\n\\xe2\\x80\\xa2 Add/remove chunks, cameras, markers.\\n\\xe2\\x80\\xa2 Add/modify camera calibrations, ground control data, assign geographic projections and coor-\\ndinates.\\n\\xe2\\x80\\xa2 Perform processing steps (align photos, build dense cloud, build mesh, texture, decimate model,\\netc...).\\n\\xe2\\x80\\xa2 Export processing results (models, textures, orthophotos, DEMs).\\n\\xe2\\x80\\xa2 Access data of generated models, point clouds, images.\\n\\xe2\\x80\\xa2 Start and control network processing tasks.\\n3\\n'\n"
     ]
    }
   ],
   "source": [
    "print(text)"
   ]
  },
  {
   "cell_type": "code",
   "execution_count": 13,
   "id": "78a4ff0f",
   "metadata": {},
   "outputs": [
    {
     "data": {
      "text/plain": [
       "[Rect(491.8009948730469, 92.23876953125, 540.0001220703125, 102.20137023925781),\n",
       " Rect(508.9119873046875, 112.78099060058594, 540.0001831054688, 127.12718963623047)]"
      ]
     },
     "execution_count": 13,
     "metadata": {},
     "output_type": "execute_result"
    }
   ],
   "source": [
    "page.search_for(\"CHAPTER ONE\")"
   ]
  },
  {
   "cell_type": "code",
   "execution_count": 14,
   "id": "94ad2296",
   "metadata": {},
   "outputs": [],
   "source": [
    "keeped_blocks = get_page_block_content(page, header_bottom, footer_top)"
   ]
  },
  {
   "cell_type": "code",
   "execution_count": 18,
   "id": "d0537c79",
   "metadata": {},
   "outputs": [
    {
     "data": {
      "text/plain": [
       "{'number': 1,\n",
       " 'type': 0,\n",
       " 'bbox': (508.9119873046875,\n",
       "  112.78099060058594,\n",
       "  540.0001831054688,\n",
       "  127.12718963623047),\n",
       " 'lines': [{'spans': [{'size': 14.346199989318848,\n",
       "     'flags': 20,\n",
       "     'bidi': 0,\n",
       "     'char_flags': 24,\n",
       "     'font': 'TeXGyreHeros-Bold',\n",
       "     'color': 0,\n",
       "     'alpha': 255,\n",
       "     'ascender': 0.7269999980926514,\n",
       "     'descender': -0.21899999678134918,\n",
       "     'text': 'ONE',\n",
       "     'origin': (508.9119873046875, 123.8060302734375),\n",
       "     'bbox': (508.9119873046875,\n",
       "      112.78099060058594,\n",
       "      540.0001831054688,\n",
       "      127.12718963623047)}],\n",
       "   'wmode': 0,\n",
       "   'dir': (1.0, 0.0),\n",
       "   'bbox': (508.9119873046875,\n",
       "    112.78099060058594,\n",
       "    540.0001831054688,\n",
       "    127.12718963623047)}]}"
      ]
     },
     "execution_count": 18,
     "metadata": {},
     "output_type": "execute_result"
    }
   ],
   "source": [
    "keeped_blocks[1]"
   ]
  },
  {
   "cell_type": "code",
   "execution_count": 17,
   "id": "02c80069",
   "metadata": {},
   "outputs": [
    {
     "data": {
      "text/plain": [
       "{'number': 2,\n",
       " 'type': 0,\n",
       " 'bbox': (463.5350036621094,\n",
       "  167.57493591308594,\n",
       "  540.000244140625,\n",
       "  181.921142578125),\n",
       " 'lines': [{'spans': [{'size': 14.346199989318848,\n",
       "     'flags': 20,\n",
       "     'bidi': 0,\n",
       "     'char_flags': 24,\n",
       "     'font': 'TeXGyreHeros-Bold',\n",
       "     'color': 0,\n",
       "     'alpha': 255,\n",
       "     'ascender': 0.7269999980926514,\n",
       "     'descender': -0.21899999678134918,\n",
       "     'text': 'OVERVIEW',\n",
       "     'origin': (463.5350036621094, 178.5999755859375),\n",
       "     'bbox': (463.5350036621094,\n",
       "      167.57493591308594,\n",
       "      540.000244140625,\n",
       "      181.921142578125)}],\n",
       "   'wmode': 0,\n",
       "   'dir': (1.0, 0.0),\n",
       "   'bbox': (463.5350036621094,\n",
       "    167.57493591308594,\n",
       "    540.000244140625,\n",
       "    181.921142578125)}]}"
      ]
     },
     "execution_count": 17,
     "metadata": {},
     "output_type": "execute_result"
    }
   ],
   "source": [
    "keeped_blocks[2]"
   ]
  },
  {
   "cell_type": "markdown",
   "id": "13d056e4",
   "metadata": {},
   "source": [
    "Check chapter one blank page"
   ]
  },
  {
   "cell_type": "code",
   "execution_count": 5,
   "id": "308f31c0",
   "metadata": {},
   "outputs": [],
   "source": [
    "page = doc[7]"
   ]
  },
  {
   "cell_type": "code",
   "execution_count": 6,
   "id": "ec649323",
   "metadata": {},
   "outputs": [
    {
     "name": "stdout",
     "output_type": "stream",
     "text": [
      "b'Metashape Python Reference, Release 2.2.1\\n4\\nChapter 1. Overview\\n'\n"
     ]
    }
   ],
   "source": [
    "print( get_page_texts(page) )"
   ]
  },
  {
   "cell_type": "code",
   "execution_count": 8,
   "id": "7955b769",
   "metadata": {},
   "outputs": [],
   "source": [
    "blocks = get_page_block_content(page, header_bottom, footer_top)"
   ]
  },
  {
   "cell_type": "code",
   "execution_count": 9,
   "id": "2b0dc2e9",
   "metadata": {},
   "outputs": [
    {
     "data": {
      "text/plain": [
       "[]"
      ]
     },
     "execution_count": 9,
     "metadata": {},
     "output_type": "execute_result"
    }
   ],
   "source": [
    "blocks"
   ]
  },
  {
   "cell_type": "code",
   "execution_count": null,
   "id": "f65d789f",
   "metadata": {},
   "outputs": [],
   "source": []
  }
 ],
 "metadata": {
  "kernelspec": {
   "display_name": "easyams",
   "language": "python",
   "name": "python3"
  },
  "language_info": {
   "codemirror_mode": {
    "name": "ipython",
    "version": 3
   },
   "file_extension": ".py",
   "mimetype": "text/x-python",
   "name": "python",
   "nbconvert_exporter": "python",
   "pygments_lexer": "ipython3",
   "version": "3.9.13"
  }
 },
 "nbformat": 4,
 "nbformat_minor": 5
}

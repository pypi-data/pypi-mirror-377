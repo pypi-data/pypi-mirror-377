{
 "cells": [
  {
   "cell_type": "markdown",
   "id": "0",
   "metadata": {},
   "source": [
    "# This is not a working notebook!\n",
    "\n",
    "Use it as an example and adapt it to fit your own data.\n",
    "You will need:\n",
    "\n",
    "1. An image file\n",
    "2. Segmentation labels\n",
    "3. A TrackMate XML file with the tracking results\n",
    "4. A file with the details of the FUCCI sensor\n",
    "5. A file with the FUCCI reference intensity curve"
   ]
  },
  {
   "cell_type": "code",
   "execution_count": null,
   "id": "1",
   "metadata": {},
   "outputs": [],
   "source": [
    "import json\n",
    "\n",
    "import napari\n",
    "import pandas as pd\n",
    "import vispy\n",
    "from aicsimageio import AICSImage\n",
    "from napari_animation import Animation\n",
    "from skimage.io import imread\n",
    "\n",
    "from fucciphase import process_trackmate\n",
    "from fucciphase.napari import add_trackmate_data_to_viewer, pandas_df_to_napari_tracks\n",
    "from fucciphase.phase import (\n",
    "    estimate_percentage_by_subsequence_alignment,\n",
    ")\n",
    "from fucciphase.sensor import FUCCISASensor\n",
    "from fucciphase.utils import postprocess_estimated_percentages"
   ]
  },
  {
   "cell_type": "code",
   "execution_count": null,
   "id": "2",
   "metadata": {},
   "outputs": [],
   "source": [
    "cyan_channel = \"MEAN_INTENSITY_CH2\"\n",
    "magenta_channel = \"MEAN_INTENSITY_CH1\"\n",
    "regex = r\"Track_[0-9]+\\\\.[a-z]+\"\n",
    "timestep = 0.25  # in hours\n",
    "\n",
    "reference_file = \"example_data/hacat_fucciphase_reference.csv\"\n",
    "sensor_file = \"example_data/fuccisa_hacat.json\"\n",
    "track_file = \"merged_fucci.xml\"\n",
    "reference_df = pd.read_csv(reference_file)\n",
    "reference_df.rename(\n",
    "    columns={\"cyan\": cyan_channel, \"magenta\": magenta_channel}, inplace=True\n",
    ")"
   ]
  },
  {
   "cell_type": "code",
   "execution_count": null,
   "id": "3",
   "metadata": {},
   "outputs": [],
   "source": [
    "with open(sensor_file) as fp:\n",
    "    sensor_properties = json.load(fp)\n",
    "sensor = FUCCISASensor(**sensor_properties)"
   ]
  },
  {
   "cell_type": "code",
   "execution_count": null,
   "id": "4",
   "metadata": {},
   "outputs": [],
   "source": [
    "label_file = \"labels.tif\"\n",
    "labels = imread(label_file)\n",
    "\n",
    "image = AICSImage(\"image.tif\")\n",
    "scale = (image.physical_pixel_sizes.Y, image.physical_pixel_sizes.X)\n",
    "cyan = image.get_image_dask_data(\"TYX\", C=3)\n",
    "magenta = image.get_image_dask_data(\"TYX\", C=0)\n",
    "actin = image.get_image_dask_data(\"TYX\", C=1)"
   ]
  },
  {
   "cell_type": "markdown",
   "id": "5",
   "metadata": {},
   "source": [
    "## Get tracks"
   ]
  },
  {
   "cell_type": "code",
   "execution_count": null,
   "id": "6",
   "metadata": {},
   "outputs": [],
   "source": [
    "track_df = process_trackmate(\n",
    "    track_file,\n",
    "    channels=[cyan_channel, magenta_channel],\n",
    "    sensor=sensor,\n",
    "    thresholds=[0.1, 0.1],\n",
    "    generate_unique_tracks=True,\n",
    ")"
   ]
  },
  {
   "cell_type": "code",
   "execution_count": null,
   "id": "7",
   "metadata": {},
   "outputs": [],
   "source": [
    "track_df[\"UNIQUE_TRACK_ID\"].unique()"
   ]
  },
  {
   "cell_type": "code",
   "execution_count": null,
   "id": "8",
   "metadata": {},
   "outputs": [],
   "source": [
    "postprocess_estimated_percentages(\n",
    "    track_df, percentage_column=\"CELL_CYCLE_PERC\", track_id_name=\"UNIQUE_TRACK_ID\"\n",
    ")\n",
    "estimate_percentage_by_subsequence_alignment(\n",
    "    track_df,\n",
    "    dt=0.25,\n",
    "    channels=[cyan_channel, magenta_channel],\n",
    "    reference_data=reference_df,\n",
    "    track_id_name=\"UNIQUE_TRACK_ID\",\n",
    ")\n",
    "postprocess_estimated_percentages(\n",
    "    track_df, percentage_column=\"CELL_CYCLE_PERC_DTW\", track_id_name=\"UNIQUE_TRACK_ID\"\n",
    ")"
   ]
  },
  {
   "cell_type": "code",
   "execution_count": null,
   "id": "9",
   "metadata": {},
   "outputs": [],
   "source": [
    "viewer = napari.Viewer()"
   ]
  },
  {
   "cell_type": "code",
   "execution_count": null,
   "id": "10",
   "metadata": {},
   "outputs": [],
   "source": [
    "add_trackmate_data_to_viewer(\n",
    "    track_df,\n",
    "    viewer,\n",
    "    scale=scale,\n",
    "    image_data=[cyan, magenta],\n",
    "    colormaps=[\"cyan\", \"magenta\"],\n",
    "    labels=labels,\n",
    "    cycle_percentage_id=\"CELL_CYCLE_PERC_DTW\",\n",
    "    label_id_name=\"MEDIAN_INTENSITY_CH3\",\n",
    "    textkwargs={\"size\": 16},\n",
    ")"
   ]
  },
  {
   "cell_type": "code",
   "execution_count": null,
   "id": "11",
   "metadata": {},
   "outputs": [],
   "source": [
    "viewer.add_image(actin, blending=\"additive\", scale=scale)"
   ]
  },
  {
   "cell_type": "code",
   "execution_count": null,
   "id": "12",
   "metadata": {},
   "outputs": [],
   "source": [
    "colormap = vispy.color.colormap.MatplotlibColormap(\"cool\")"
   ]
  },
  {
   "cell_type": "markdown",
   "id": "13",
   "metadata": {},
   "source": [
    "# Normalise percentage\n",
    "\n",
    "This step is needed to color the tails with respect to the cell cycle."
   ]
  },
  {
   "cell_type": "code",
   "execution_count": null,
   "id": "14",
   "metadata": {},
   "outputs": [],
   "source": [
    "track_df[\"CELL_CYCLE_PERC_NORM\"] = track_df[\"CELL_CYCLE_PERC_DTW\"] / 100.0"
   ]
  },
  {
   "cell_type": "code",
   "execution_count": null,
   "id": "15",
   "metadata": {},
   "outputs": [],
   "source": [
    "pandas_df_to_napari_tracks(\n",
    "    track_df,\n",
    "    viewer,\n",
    "    unique_track_id_name=\"UNIQUE_TRACK_ID\",\n",
    "    frame_id_name=\"FRAME\",\n",
    "    position_x_name=\"POSITION_X\",\n",
    "    position_y_name=\"POSITION_Y\",\n",
    "    feature_name=\"CELL_CYCLE_PERC_NORM\",\n",
    "    colormaps_dict={\"CELL_CYCLE_PERC_NORM\": colormap},\n",
    ")"
   ]
  },
  {
   "cell_type": "markdown",
   "id": "16",
   "metadata": {},
   "source": [
    "# Add a time stamp\n",
    "\n",
    "## Color the tails\n",
    "\n",
    "Choose the color of the track tails according to the \n",
    "`CELL_CYCLE_PERC_NORM` by clicking on the respective entry\n",
    "in the GUI.\n",
    "\n",
    "More details here:\n",
    "https://napari.org/0.4.18/howtos/layers/tracks.html#setting-the-track-color-with-properties"
   ]
  },
  {
   "cell_type": "code",
   "execution_count": null,
   "id": "17",
   "metadata": {},
   "outputs": [],
   "source": [
    "old_time = -1\n",
    "\n",
    "\n",
    "def update_slider(event):\n",
    "    \"\"\"Update time stamp.\"\"\"\n",
    "    time = viewer.dims.current_step[0]\n",
    "    global old_time\n",
    "    if time != old_time:\n",
    "        old_time = time\n",
    "    else:\n",
    "        return\n",
    "    time = 15.0 * time\n",
    "    viewer.text_overlay.text = f\"{round(time)} min \"\n",
    "\n",
    "\n",
    "viewer.text_overlay.color = \"white\"\n",
    "viewer.text_overlay.blending = \"translucent_no_depth\"\n",
    "viewer.text_overlay.position = \"top_left\"\n",
    "viewer.text_overlay.font_size = 18\n",
    "viewer.text_overlay.visible = True\n",
    "viewer.dims.events.current_step.connect(update_slider)"
   ]
  },
  {
   "cell_type": "markdown",
   "id": "18",
   "metadata": {},
   "source": [
    "# Save a MP4 video"
   ]
  },
  {
   "cell_type": "code",
   "execution_count": null,
   "id": "19",
   "metadata": {},
   "outputs": [],
   "source": [
    "animation = Animation(viewer)\n",
    "\n",
    "# start animation on first frame\n",
    "viewer.dims.current_step = (0, 0, 0)\n",
    "animation.capture_keyframe()\n",
    "# last frame\n",
    "viewer.dims.current_step = (labels.shape[0] - 1, 0, 0)\n",
    "animation.capture_keyframe(steps=labels.shape[0] - 1)\n",
    "animation.animate(\n",
    "    \"movie_tails_percentages.mp4\", canvas_only=True, fps=4, quality=9, scale_factor=1.0\n",
    ")"
   ]
  },
  {
   "cell_type": "code",
   "execution_count": null,
   "id": "20",
   "metadata": {},
   "outputs": [],
   "source": []
  }
 ],
 "metadata": {
  "kernelspec": {
   "display_name": "Python 3 (ipykernel)",
   "language": "python",
   "name": "python3"
  },
  "language_info": {
   "codemirror_mode": {
    "name": "ipython",
    "version": 3
   },
   "file_extension": ".py",
   "mimetype": "text/x-python",
   "name": "python",
   "nbconvert_exporter": "python",
   "pygments_lexer": "ipython3",
   "version": "3.10.12"
  }
 },
 "nbformat": 4,
 "nbformat_minor": 5
}

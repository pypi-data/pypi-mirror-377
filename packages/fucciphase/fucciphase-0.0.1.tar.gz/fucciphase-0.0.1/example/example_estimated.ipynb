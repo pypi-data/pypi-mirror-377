{
 "cells": [
  {
   "cell_type": "code",
   "execution_count": null,
   "id": "0",
   "metadata": {},
   "outputs": [],
   "source": [
    "# Imports\n",
    "import json\n",
    "\n",
    "import matplotlib.pyplot as plt\n",
    "import numpy as np\n",
    "\n",
    "from fucciphase.sensor import FUCCISASensor, accumulation_function, degradation_function"
   ]
  },
  {
   "cell_type": "markdown",
   "id": "1",
   "metadata": {},
   "source": [
    "# Estimating sensor data\n",
    "\n",
    "We took this [paper](https://doi.org/10.1016/j.molcel.2017.10.001) and used Fig. 1 and the Supplementary Material, Fig. S2 to estimate the relevant properties.\n",
    "\n",
    "The time constants `k` can be converted by using:\n",
    "`sigma = 100 * (1 / k) / duration`\n",
    "The duration was taken from Fig. 1G.\n",
    "The centers were guessed so that the phase boundaries roughly match.\n",
    "The parameters are stored in the `example_data/` folder and read in the following cell."
   ]
  },
  {
   "cell_type": "code",
   "execution_count": null,
   "id": "2",
   "metadata": {},
   "outputs": [],
   "source": [
    "with open(\"example_data/fuccisa_hela_molcel_2017.json\") as json_file:\n",
    "    data = json.load(json_file)\n",
    "sensor = FUCCISASensor(\n",
    "    phase_percentages=data[\"phase_percentages\"],\n",
    "    center=data[\"center\"],\n",
    "    sigma=data[\"sigma\"],\n",
    ")"
   ]
  },
  {
   "cell_type": "code",
   "execution_count": null,
   "id": "3",
   "metadata": {},
   "outputs": [],
   "source": [
    "percentages = np.linspace(0, 100, num=100)\n",
    "ch1_intensity, ch2_intensity = sensor.get_expected_intensities(percentages)"
   ]
  },
  {
   "cell_type": "markdown",
   "id": "4",
   "metadata": {},
   "source": [
    "## Plot intensity over percentage"
   ]
  },
  {
   "cell_type": "code",
   "execution_count": null,
   "id": "5",
   "metadata": {},
   "outputs": [],
   "source": [
    "duration = 15.35\n",
    "g1_perc = data[\"phase_percentages\"][0]\n",
    "g1s_perc = data[\"phase_percentages\"][1]\n",
    "peak = 1.0\n",
    "\n",
    "plt.plot(percentages, ch1_intensity, lw=3)\n",
    "plt.plot(\n",
    "    percentages,\n",
    "    accumulation_function(percentages, data[\"center\"][0], data[\"sigma\"][0]),\n",
    "    \"o\",\n",
    "    label=\"Accumulation CH1\",\n",
    "    markevery=3,\n",
    ")\n",
    "\n",
    "plt.plot(\n",
    "    percentages,\n",
    "    degradation_function(percentages, data[\"center\"][1], data[\"sigma\"][1]),\n",
    "    \"v\",\n",
    "    label=\"Degradation CH1\",\n",
    "    markevery=3,\n",
    ")\n",
    "\n",
    "\n",
    "plt.plot(percentages, ch2_intensity, lw=3)\n",
    "plt.plot(\n",
    "    percentages,\n",
    "    accumulation_function(percentages, data[\"center\"][2], data[\"sigma\"][2]),\n",
    "    \"o\",\n",
    "    label=\"Accumulation CH2\",\n",
    "    markevery=3,\n",
    ")\n",
    "plt.plot(\n",
    "    percentages,\n",
    "    degradation_function(percentages, data[\"center\"][3], data[\"sigma\"][3]),\n",
    "    \"v\",\n",
    "    label=\"Degradation CH2\",\n",
    "    markevery=3,\n",
    ")\n",
    "plt.vlines(g1_perc, 0, peak, color=\"black\")\n",
    "plt.vlines(g1_perc + g1s_perc, 0, peak, color=\"black\", linestyles=\"dotted\")\n",
    "plt.legend()\n",
    "plt.xlabel(\"Percentage\")\n",
    "plt.ylabel(\"Intensity / arb.u.\")\n",
    "plt.show()"
   ]
  },
  {
   "cell_type": "markdown",
   "id": "6",
   "metadata": {},
   "source": [
    "## Plot intensity over time"
   ]
  },
  {
   "cell_type": "code",
   "execution_count": null,
   "id": "7",
   "metadata": {},
   "outputs": [],
   "source": [
    "plt.plot(duration * percentages / 100, ch1_intensity)\n",
    "plt.plot(\n",
    "    duration * percentages / 100,\n",
    "    accumulation_function(percentages, data[\"center\"][0], data[\"sigma\"][0]),\n",
    "    \"o\",\n",
    "    label=\"Accumulation CH1\",\n",
    "    markevery=3,\n",
    ")\n",
    "plt.plot(\n",
    "    duration * percentages / 100,\n",
    "    degradation_function(percentages, data[\"center\"][1], data[\"sigma\"][1]),\n",
    "    \"v\",\n",
    "    label=\"Degradation CH1\",\n",
    "    markevery=3,\n",
    ")\n",
    "\n",
    "plt.plot(duration * percentages / 100, ch2_intensity)\n",
    "plt.plot(\n",
    "    duration * percentages / 100,\n",
    "    accumulation_function(percentages, data[\"center\"][2], data[\"sigma\"][2]),\n",
    "    \"o\",\n",
    "    label=\"Accumulation CH2\",\n",
    "    markevery=3,\n",
    ")\n",
    "plt.plot(\n",
    "    duration * percentages / 100,\n",
    "    degradation_function(percentages, data[\"center\"][3], data[\"sigma\"][3]),\n",
    "    \"v\",\n",
    "    label=\"Degradation CH2\",\n",
    "    markevery=3,\n",
    ")\n",
    "plt.vlines(duration * g1_perc / 100, 0, peak, color=\"black\")\n",
    "plt.vlines(\n",
    "    duration * (g1_perc + g1s_perc) / 100, 0, peak, color=\"black\", linestyles=\"dotted\"\n",
    ")\n",
    "plt.xlabel(\"Time / h\")\n",
    "plt.ylabel(\"Intensity / arb.u.\")\n",
    "plt.legend()\n",
    "plt.show()"
   ]
  },
  {
   "cell_type": "code",
   "execution_count": null,
   "id": "8",
   "metadata": {},
   "outputs": [],
   "source": []
  }
 ],
 "metadata": {
  "kernelspec": {
   "display_name": "Python 3 (ipykernel)",
   "language": "python",
   "name": "python3"
  },
  "language_info": {
   "codemirror_mode": {
    "name": "ipython",
    "version": 3
   },
   "file_extension": ".py",
   "mimetype": "text/x-python",
   "name": "python",
   "nbconvert_exporter": "python",
   "pygments_lexer": "ipython3",
   "version": "3.10.12"
  }
 },
 "nbformat": 4,
 "nbformat_minor": 5
}

{
 "cells": [
  {
   "cell_type": "code",
   "execution_count": null,
   "id": "0",
   "metadata": {},
   "outputs": [],
   "source": [
    "from fucciphase import process_dataframe\n",
    "from fucciphase.phase import NewColumns, generate_cycle_phases\n",
    "from fucciphase.sensor import get_fuccisa_default_sensor\n",
    "from fucciphase.utils import normalize_channels, simulate_single_track"
   ]
  },
  {
   "cell_type": "markdown",
   "id": "1",
   "metadata": {},
   "source": [
    "## Generate data\n",
    "\n",
    "The next cell generates a dummy dataset for the purpose of showing how fucciphase\n",
    "works.\n",
    "The intensities in channel 3 and channel 4 belong to the FUCCI signal."
   ]
  },
  {
   "cell_type": "code",
   "execution_count": null,
   "id": "2",
   "metadata": {},
   "outputs": [],
   "source": [
    "df = simulate_single_track()\n",
    "print(df)"
   ]
  },
  {
   "cell_type": "markdown",
   "id": "3",
   "metadata": {},
   "source": [
    "# Normalize intensities"
   ]
  },
  {
   "cell_type": "code",
   "execution_count": null,
   "id": "4",
   "metadata": {},
   "outputs": [],
   "source": [
    "normalize_channels(df, channels=[\"MEAN_INTENSITY_CH3\", \"MEAN_INTENSITY_CH4\"])"
   ]
  },
  {
   "cell_type": "markdown",
   "id": "5",
   "metadata": {},
   "source": [
    "## Identify the cell cycle phases and percentage\n",
    "\n",
    "You need to provide one threshold for the intensity of each channel.\n",
    "The mean intensity per nucleus is used and it is checked, which channel intensity\n",
    "is above the threshold.\n",
    "Based on this, it will be decided in which cell cycle phase the cell is.\n",
    "Here, we consider 3 phases: G1, G1/S and S/G2/M."
   ]
  },
  {
   "cell_type": "code",
   "execution_count": null,
   "id": "6",
   "metadata": {},
   "outputs": [],
   "source": [
    "# use default sensor\n",
    "sensor = get_fuccisa_default_sensor()\n",
    "generate_cycle_phases(\n",
    "    df,\n",
    "    sensor=sensor,\n",
    "    channels=[\"MEAN_INTENSITY_CH3\", \"MEAN_INTENSITY_CH4\"],\n",
    "    thresholds=[0.1, 0.1],\n",
    ")"
   ]
  },
  {
   "cell_type": "markdown",
   "id": "7",
   "metadata": {},
   "source": [
    "**Note: because we did not provide special sensor data, the percentage estimate is not reliable. However, the cell cycle phase is estimated correctly.**"
   ]
  },
  {
   "cell_type": "code",
   "execution_count": null,
   "id": "8",
   "metadata": {},
   "outputs": [],
   "source": [
    "print(df[[NewColumns.cell_cycle(), NewColumns.discrete_phase_max()]])"
   ]
  },
  {
   "cell_type": "markdown",
   "id": "9",
   "metadata": {},
   "source": [
    "## Run all at once\n",
    "\n",
    "The whole process can also be run at once using the `process_dataframe` function.\n",
    "\n",
    "There are additional parameters to tune the analysis. Check out the function \n",
    "documentation."
   ]
  },
  {
   "cell_type": "code",
   "execution_count": null,
   "id": "10",
   "metadata": {},
   "outputs": [],
   "source": [
    "df = simulate_single_track()\n",
    "process_dataframe(\n",
    "    df,\n",
    "    channels=[\"MEAN_INTENSITY_CH3\", \"MEAN_INTENSITY_CH4\"],\n",
    "    sensor=sensor,\n",
    "    thresholds=[0.1, 0.1],\n",
    ")"
   ]
  },
  {
   "cell_type": "markdown",
   "id": "11",
   "metadata": {},
   "source": [
    "# Plot expected intensities"
   ]
  },
  {
   "cell_type": "code",
   "execution_count": null,
   "id": "12",
   "metadata": {},
   "outputs": [],
   "source": [
    "from fucciphase.plot import plot_raw_intensities"
   ]
  },
  {
   "cell_type": "code",
   "execution_count": null,
   "id": "13",
   "metadata": {},
   "outputs": [],
   "source": [
    "plot_raw_intensities(df, channel1=\"MEAN_INTENSITY_CH3\", channel2=\"MEAN_INTENSITY_CH4\")"
   ]
  },
  {
   "cell_type": "code",
   "execution_count": null,
   "id": "14",
   "metadata": {},
   "outputs": [],
   "source": []
  }
 ],
 "metadata": {
  "kernelspec": {
   "display_name": "Python 3 (ipykernel)",
   "language": "python",
   "name": "python3"
  },
  "language_info": {
   "codemirror_mode": {
    "name": "ipython",
    "version": 3
   },
   "file_extension": ".py",
   "mimetype": "text/x-python",
   "name": "python",
   "nbconvert_exporter": "python",
   "pygments_lexer": "ipython3",
   "version": "3.10.12"
  }
 },
 "nbformat": 4,
 "nbformat_minor": 5
}

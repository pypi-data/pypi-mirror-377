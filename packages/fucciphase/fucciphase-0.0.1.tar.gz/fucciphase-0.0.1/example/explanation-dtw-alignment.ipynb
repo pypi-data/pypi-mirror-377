{
 "cells": [
  {
   "cell_type": "code",
   "execution_count": null,
   "id": "0",
   "metadata": {},
   "outputs": [],
   "source": [
    "import matplotlib.pyplot as plt\n",
    "import pandas as pd\n",
    "\n",
    "from fucciphase.phase import (\n",
    "    estimate_percentage_by_subsequence_alignment,\n",
    ")\n",
    "from fucciphase.plot import plot_dtw_query_vs_reference"
   ]
  },
  {
   "cell_type": "markdown",
   "id": "1",
   "metadata": {},
   "source": [
    "## Read the reference curve"
   ]
  },
  {
   "cell_type": "code",
   "execution_count": null,
   "id": "2",
   "metadata": {},
   "outputs": [],
   "source": [
    "reference_file = \"example_data/hacat_fucciphase_reference.csv\"\n",
    "reference_df = pd.read_csv(reference_file)\n",
    "# add a fake TRACK_ID\n",
    "reference_df[\"TRACK_ID\"] = 1\n",
    "timestep = reference_df[\"time\"][1] - reference_df[\"time\"][0]\n",
    "cyan_channel = \"cyan\"\n",
    "magenta_channel = \"magenta\""
   ]
  },
  {
   "cell_type": "markdown",
   "id": "3",
   "metadata": {},
   "source": [
    "# Create a test curve\n",
    "\n",
    "* take selected datapoints\n",
    "* scale the intensity or introduce an offset"
   ]
  },
  {
   "cell_type": "code",
   "execution_count": null,
   "id": "4",
   "metadata": {},
   "outputs": [],
   "source": [
    "start_idx = 30\n",
    "end_idx = 70\n",
    "df = reference_df.iloc[start_idx:end_idx].copy()\n",
    "df[\"cyan\"] = df.loc[:, \"cyan\"] + 0.5\n",
    "df[\"magenta\"] = df.loc[:, \"magenta\"] * 2"
   ]
  },
  {
   "cell_type": "code",
   "execution_count": null,
   "id": "5",
   "metadata": {},
   "outputs": [],
   "source": [
    "estimate_percentage_by_subsequence_alignment(\n",
    "    df,\n",
    "    dt=timestep,\n",
    "    channels=[cyan_channel, magenta_channel],\n",
    "    reference_data=reference_df,\n",
    "    track_id_name=\"TRACK_ID\",\n",
    ")"
   ]
  },
  {
   "cell_type": "code",
   "execution_count": null,
   "id": "6",
   "metadata": {},
   "outputs": [],
   "source": [
    "plt.plot(df[\"percentage\"], df[\"CELL_CYCLE_PERC_DTW\"])\n",
    "plt.xlabel(\"Expected percentage\")\n",
    "plt.ylabel(\"Estimated percentage\")"
   ]
  },
  {
   "cell_type": "code",
   "execution_count": null,
   "id": "7",
   "metadata": {},
   "outputs": [],
   "source": []
  },
  {
   "cell_type": "code",
   "execution_count": null,
   "id": "8",
   "metadata": {},
   "outputs": [],
   "source": [
    "plot_dtw_query_vs_reference(\n",
    "    reference_df,\n",
    "    df,\n",
    "    channels=[\"cyan\", \"magenta\"],\n",
    "    ground_truth=reference_df.iloc[start_idx:end_idx],\n",
    ")\n",
    "plt.savefig(\"explain_dtw_query.pdf\")\n",
    "plt.savefig(\"explain_dtw_query.svg\")\n",
    "plt.show()"
   ]
  }
 ],
 "metadata": {
  "kernelspec": {
   "display_name": "Python 3 (ipykernel)",
   "language": "python",
   "name": "python3"
  },
  "language_info": {
   "codemirror_mode": {
    "name": "ipython",
    "version": 3
   },
   "file_extension": ".py",
   "mimetype": "text/x-python",
   "name": "python",
   "nbconvert_exporter": "python",
   "pygments_lexer": "ipython3",
   "version": "3.10.12"
  }
 },
 "nbformat": 4,
 "nbformat_minor": 5
}

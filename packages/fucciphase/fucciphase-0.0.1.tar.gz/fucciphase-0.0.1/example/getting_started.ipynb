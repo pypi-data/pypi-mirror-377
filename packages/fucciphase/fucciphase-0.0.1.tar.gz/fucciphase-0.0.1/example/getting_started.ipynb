{
 "cells": [
  {
   "cell_type": "code",
   "execution_count": null,
   "id": "0",
   "metadata": {},
   "outputs": [],
   "source": [
    "import json\n",
    "\n",
    "import matplotlib.pyplot as plt\n",
    "import pandas as pd\n",
    "\n",
    "from fucciphase import process_dataframe\n",
    "from fucciphase.plot import plot_normalized_intensities\n",
    "from fucciphase.sensor import FUCCISASensor"
   ]
  },
  {
   "cell_type": "markdown",
   "id": "1",
   "metadata": {},
   "source": [
    "## Example data\n",
    "\n",
    "The example data is based on videos of HaCaT cells using the fucciplex sensor (100x magnification).\n",
    "We load a CSV file into a DataFrame.\n",
    "It contains information about the intensity and the cell cycle percentage."
   ]
  },
  {
   "cell_type": "code",
   "execution_count": null,
   "id": "2",
   "metadata": {},
   "outputs": [],
   "source": [
    "df = pd.read_csv(\"example_data/example_data_tempophase.csv\")"
   ]
  },
  {
   "cell_type": "markdown",
   "id": "3",
   "metadata": {},
   "source": [
    "# Sensor information\n",
    "\n",
    "We load information about the cell cycle sensor.\n",
    "This information has been manually obtained (see [this notebook](sensor_calibration.ipynb))."
   ]
  },
  {
   "cell_type": "code",
   "execution_count": null,
   "id": "4",
   "metadata": {},
   "outputs": [],
   "source": [
    "with open(\"example_data/fuccisa_tempophase.json\") as fp:\n",
    "    sensor_properties = json.load(fp)\n",
    "sensor = FUCCISASensor(**sensor_properties)"
   ]
  },
  {
   "cell_type": "markdown",
   "id": "5",
   "metadata": {},
   "source": [
    "## Process the DataFrame\n",
    "\n",
    "Go through the dataframe and assign the cell cycle phase.\n",
    "Also, the cell cycle percentage estimated from the intensity pairs is assigned."
   ]
  },
  {
   "cell_type": "code",
   "execution_count": null,
   "id": "6",
   "metadata": {},
   "outputs": [],
   "source": [
    "process_dataframe(\n",
    "    df,\n",
    "    channels=[\"cyan\", \"magenta\"],\n",
    "    sensor=sensor,\n",
    "    thresholds=[0.1, 0.1],\n",
    "    use_moving_average=False,\n",
    ")"
   ]
  },
  {
   "cell_type": "markdown",
   "id": "7",
   "metadata": {},
   "source": [
    "## Plot the intensities over the true and the estimated percentage"
   ]
  },
  {
   "cell_type": "code",
   "execution_count": null,
   "id": "8",
   "metadata": {},
   "outputs": [],
   "source": [
    "plot_normalized_intensities(\n",
    "    df,\n",
    "    \"cyan\",\n",
    "    \"magenta\",\n",
    "    \"tab:cyan\",\n",
    "    \"m\",\n",
    "    time_column=\"percentage\",\n",
    "    time_label=\"Percentage w.r.t. total time\",\n",
    ")\n",
    "plot_normalized_intensities(\n",
    "    df,\n",
    "    \"cyan\",\n",
    "    \"magenta\",\n",
    "    \"tab:cyan\",\n",
    "    \"m\",\n",
    "    time_column=\"CELL_CYCLE_PERC\",\n",
    "    time_label=\"Percentage w.r.t. total time\",\n",
    "    marker=\"o\",\n",
    "    linestyle=\"\",\n",
    ")\n",
    "plt.show()"
   ]
  },
  {
   "cell_type": "markdown",
   "id": "9",
   "metadata": {},
   "source": [
    "# Plot the expected versus estimated cell cycle percentage"
   ]
  },
  {
   "cell_type": "code",
   "execution_count": null,
   "id": "10",
   "metadata": {},
   "outputs": [],
   "source": [
    "plt.plot(df[\"percentage\"], df[\"percentage\"], color=\"black\", label=\"expected\")\n",
    "plt.plot(df[\"percentage\"], df[\"CELL_CYCLE_PERC\"], label=\"estimated\")\n",
    "plt.xlabel(\"Percentage\")\n",
    "plt.ylabel(\"Percentage\")\n",
    "plt.legend()\n",
    "plt.show()"
   ]
  },
  {
   "cell_type": "code",
   "execution_count": null,
   "id": "11",
   "metadata": {},
   "outputs": [],
   "source": []
  }
 ],
 "metadata": {
  "kernelspec": {
   "display_name": "Python 3 (ipykernel)",
   "language": "python",
   "name": "python3"
  },
  "language_info": {
   "codemirror_mode": {
    "name": "ipython",
    "version": 3
   },
   "file_extension": ".py",
   "mimetype": "text/x-python",
   "name": "python",
   "nbconvert_exporter": "python",
   "pygments_lexer": "ipython3",
   "version": "3.10.12"
  }
 },
 "nbformat": 4,
 "nbformat_minor": 5
}

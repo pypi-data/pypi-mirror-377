{
 "cells": [
  {
   "cell_type": "code",
   "execution_count": null,
   "id": "0",
   "metadata": {},
   "outputs": [],
   "source": [
    "import json\n",
    "\n",
    "import napari\n",
    "import pandas as pd\n",
    "from aicsimageio import AICSImage\n",
    "from dask_image.imread import imread\n",
    "from napari_animation import Animation\n",
    "\n",
    "from fucciphase import process_trackmate\n",
    "from fucciphase.napari import add_trackmate_data_to_viewer\n",
    "from fucciphase.phase import estimate_percentage_by_subsequence_alignment\n",
    "from fucciphase.sensor import FUCCISASensor\n",
    "from fucciphase.utils import (\n",
    "    compute_motility_parameters,\n",
    ")"
   ]
  },
  {
   "cell_type": "code",
   "execution_count": null,
   "id": "1",
   "metadata": {},
   "outputs": [],
   "source": [
    "track_file = \"merged_linked.ome.xml\"\n",
    "cyan_channel_id = \"MEAN_INTENSITY_CH2\"\n",
    "magenta_channel_id = \"MEAN_INTENSITY_CH1\""
   ]
  },
  {
   "cell_type": "code",
   "execution_count": null,
   "id": "2",
   "metadata": {},
   "outputs": [],
   "source": [
    "with open(\"fuccisa_hacat.json\") as fp:\n",
    "    sensor_properties = json.load(fp)\n",
    "sensor = FUCCISASensor(**sensor_properties)\n",
    "reference_track = pd.read_csv(\"hacat_fucciphase_reference.csv\")"
   ]
  },
  {
   "cell_type": "code",
   "execution_count": null,
   "id": "3",
   "metadata": {},
   "outputs": [],
   "source": [
    "track_df = process_trackmate(\n",
    "    track_file,\n",
    "    channels=[cyan_channel_id, magenta_channel_id],\n",
    "    sensor=sensor,\n",
    "    thresholds=[0.1, 0.1],\n",
    "    use_moving_average=False,\n",
    "    generate_unique_tracks=True,\n",
    ")"
   ]
  },
  {
   "cell_type": "code",
   "execution_count": null,
   "id": "4",
   "metadata": {},
   "outputs": [],
   "source": [
    "reference_track.rename(\n",
    "    columns={\"cyan\": cyan_channel_id, \"magenta\": magenta_channel_id}, inplace=True\n",
    ")"
   ]
  },
  {
   "cell_type": "code",
   "execution_count": null,
   "id": "5",
   "metadata": {},
   "outputs": [],
   "source": [
    "estimate_percentage_by_subsequence_alignment(\n",
    "    track_df,\n",
    "    dt=0.25,\n",
    "    channels=[cyan_channel_id, magenta_channel_id],\n",
    "    reference_data=reference_track,\n",
    "    track_id_name=\"UNIQUE_TRACK_ID\",\n",
    ")"
   ]
  },
  {
   "cell_type": "code",
   "execution_count": null,
   "id": "6",
   "metadata": {},
   "outputs": [],
   "source": [
    "compute_motility_parameters(track_df, track_id_name=\"UNIQUE_TRACK_ID\")\n",
    "minutes_per_frame = 15\n",
    "\n",
    "track_df[\"VELOCITIES\"] /= minutes_per_frame"
   ]
  },
  {
   "cell_type": "code",
   "execution_count": null,
   "id": "7",
   "metadata": {},
   "outputs": [],
   "source": [
    "track_ids = track_df[\"UNIQUE_TRACK_ID\"].unique()"
   ]
  },
  {
   "cell_type": "code",
   "execution_count": null,
   "id": "8",
   "metadata": {},
   "outputs": [],
   "source": [
    "labels = imread(\"dapieq_labels_manual_relabel.tif\")"
   ]
  },
  {
   "cell_type": "code",
   "execution_count": null,
   "id": "9",
   "metadata": {},
   "outputs": [],
   "source": [
    "viewer = napari.Viewer()"
   ]
  },
  {
   "cell_type": "code",
   "execution_count": null,
   "id": "10",
   "metadata": {},
   "outputs": [],
   "source": [
    "image = AICSImage(\"6_DenoisedAI_LRDec50_Tub_FullVideo.nd2\")\n",
    "scale = (image.physical_pixel_sizes.Y, image.physical_pixel_sizes.X)"
   ]
  },
  {
   "cell_type": "code",
   "execution_count": null,
   "id": "11",
   "metadata": {},
   "outputs": [],
   "source": [
    "cyan = image.get_image_dask_data(\"TYX\", C=3)\n",
    "magenta = image.get_image_dask_data(\"TYX\", C=0)\n",
    "actin = image.get_image_dask_data(\"TYX\", C=1)"
   ]
  },
  {
   "cell_type": "code",
   "execution_count": null,
   "id": "12",
   "metadata": {},
   "outputs": [],
   "source": [
    "add_trackmate_data_to_viewer(\n",
    "    track_df,\n",
    "    viewer,\n",
    "    scale=scale,\n",
    "    image_data=[cyan, magenta],\n",
    "    colormaps=[\"cyan\", \"magenta\"],\n",
    "    labels=labels,\n",
    "    cycle_percentage_id=\"CELL_CYCLE_PERC_DTW\",\n",
    "    textkwargs={\"size\": 14},\n",
    ")"
   ]
  },
  {
   "cell_type": "code",
   "execution_count": null,
   "id": "13",
   "metadata": {},
   "outputs": [],
   "source": [
    "viewer.add_image(actin, name=\"actin\", colormap=\"gray\", scale=scale, blending=\"additive\")"
   ]
  },
  {
   "cell_type": "markdown",
   "id": "14",
   "metadata": {},
   "source": [
    "# Adjust size according to last frame"
   ]
  },
  {
   "cell_type": "code",
   "execution_count": null,
   "id": "15",
   "metadata": {},
   "outputs": [],
   "source": [
    "viewer.dims.current_step = (labels.shape[0] - 1, 0, 0)\n",
    "viewer.reset_view()"
   ]
  },
  {
   "cell_type": "markdown",
   "id": "16",
   "metadata": {},
   "source": [
    "# Fix view manually\n",
    "* Adjust the layers to be viewed\n",
    "* Move the window until it looks good"
   ]
  },
  {
   "cell_type": "code",
   "execution_count": null,
   "id": "17",
   "metadata": {},
   "outputs": [],
   "source": [
    "animation = Animation(viewer)\n",
    "# start animation on first frame\n",
    "viewer.dims.current_step = (0, 0, 0)\n",
    "animation.capture_keyframe()\n",
    "# last frame\n",
    "viewer.dims.current_step = (labels.shape[0] - 1, 0, 0)\n",
    "animation.capture_keyframe(steps=labels.shape[0] - 1)\n",
    "animation.animate(\n",
    "    \"Hacat_percentages_white_similarity_dtw_fucciphase_all_tracks.mov\",\n",
    "    canvas_only=True,\n",
    "    fps=4,\n",
    "    quality=9,\n",
    "    scale_factor=1.0,\n",
    ")"
   ]
  }
 ],
 "metadata": {
  "kernelspec": {
   "display_name": "Python 3 (ipykernel)",
   "language": "python",
   "name": "python3"
  },
  "language_info": {
   "codemirror_mode": {
    "name": "ipython",
    "version": 3
   },
   "file_extension": ".py",
   "mimetype": "text/x-python",
   "name": "python",
   "nbconvert_exporter": "python",
   "pygments_lexer": "ipython3",
   "version": "3.10.12"
  }
 },
 "nbformat": 4,
 "nbformat_minor": 5
}

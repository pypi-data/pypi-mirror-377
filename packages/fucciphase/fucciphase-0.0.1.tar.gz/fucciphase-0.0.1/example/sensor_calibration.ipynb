{
 "cells": [
  {
   "cell_type": "code",
   "execution_count": null,
   "id": "0",
   "metadata": {},
   "outputs": [],
   "source": [
    "!pip install lmfit"
   ]
  },
  {
   "cell_type": "code",
   "execution_count": null,
   "id": "1",
   "metadata": {},
   "outputs": [],
   "source": [
    "import json\n",
    "\n",
    "import lmfit\n",
    "import matplotlib.pyplot as plt\n",
    "import pandas as pd\n",
    "\n",
    "from fucciphase import logistic\n",
    "from fucciphase.phase import estimate_cell_phase_from_max_intensity\n",
    "from fucciphase.plot import plot_normalized_intensities\n",
    "from fucciphase.sensor import FUCCISASensor\n",
    "from fucciphase.utils import normalize_channels"
   ]
  },
  {
   "cell_type": "markdown",
   "id": "2",
   "metadata": {},
   "source": [
    "## Example data\n",
    "\n",
    "Example data was based on 100x videos of HaCaT cells with TEMPOphase sensor."
   ]
  },
  {
   "cell_type": "code",
   "execution_count": null,
   "id": "3",
   "metadata": {},
   "outputs": [],
   "source": [
    "df = pd.read_csv(\"example_data/hacat_fucciphase_reference.csv\")"
   ]
  },
  {
   "cell_type": "code",
   "execution_count": null,
   "id": "4",
   "metadata": {},
   "outputs": [],
   "source": [
    "df[\"TRACK_ID\"] = 1\n",
    "df[\"FRAME\"] = df.index"
   ]
  },
  {
   "cell_type": "markdown",
   "id": "5",
   "metadata": {},
   "source": [
    "# Normalize curves again"
   ]
  },
  {
   "cell_type": "code",
   "execution_count": null,
   "id": "6",
   "metadata": {},
   "outputs": [],
   "source": [
    "normalize_channels(df, [\"cyan\", \"magenta\"])"
   ]
  },
  {
   "cell_type": "markdown",
   "id": "7",
   "metadata": {},
   "source": [
    "# Initialize empty FUCCI sensor class"
   ]
  },
  {
   "cell_type": "code",
   "execution_count": null,
   "id": "8",
   "metadata": {},
   "outputs": [],
   "source": [
    "fuccisa = FUCCISASensor(\n",
    "    phase_percentages=[0.0, 50.0, 50.0],\n",
    "    center=[0.0, 0.0, 0.0, 0.0],\n",
    "    sigma=[0.0, 0.0, 0.0, 0.0],\n",
    ")"
   ]
  },
  {
   "cell_type": "markdown",
   "id": "9",
   "metadata": {},
   "source": [
    "# Threshold the intensity curves to obtain cell cycle phases\n",
    "\n",
    "We use 0.1 times the maximum intensity to decide if the sensor is ON or OFF."
   ]
  },
  {
   "cell_type": "code",
   "execution_count": null,
   "id": "10",
   "metadata": {},
   "outputs": [],
   "source": [
    "thresholds = [0.1, 0.1]\n",
    "estimate_cell_phase_from_max_intensity(\n",
    "    df, [\"cyan\", \"magenta\"], fuccisa, background=[0.0, 0.0], thresholds=thresholds\n",
    ")"
   ]
  },
  {
   "cell_type": "markdown",
   "id": "11",
   "metadata": {},
   "source": [
    "# Obtain percentages of individual phases\n",
    "\n",
    "We filter the G1/S phase because it can be mistaken for the M phase.\n",
    "Then, plot the intensities and the phase boundaries"
   ]
  },
  {
   "cell_type": "code",
   "execution_count": null,
   "id": "12",
   "metadata": {},
   "outputs": [],
   "source": [
    "g1 = df.loc[df[\"DISCRETE_PHASE_MAX\"] == \"G1\", \"percentage\"]\n",
    "g1_perc = g1.max()\n",
    "g1s = df.loc[df[\"DISCRETE_PHASE_MAX\"] == \"G1/S\", \"percentage\"]\n",
    "# filter mislabel\n",
    "g1s_perc = g1s[(g1s < 80)].max()\n",
    "sg2m_perc = 100.0 - g1s_perc\n",
    "g1s_perc = g1s_perc - g1_perc"
   ]
  },
  {
   "cell_type": "code",
   "execution_count": null,
   "id": "13",
   "metadata": {},
   "outputs": [],
   "source": [
    "print(g1_perc)\n",
    "print(g1s_perc)\n",
    "print(sg2m_perc)\n",
    "\n",
    "plot_normalized_intensities(\n",
    "    df,\n",
    "    \"cyan\",\n",
    "    \"magenta\",\n",
    "    \"tab:cyan\",\n",
    "    \"m\",\n",
    "    time_column=\"percentage\",\n",
    "    time_label=\"Percentage w.r.t. total time\",\n",
    ")\n",
    "plt.vlines(g1_perc, 0, 1, color=\"black\")\n",
    "plt.vlines(g1_perc + g1s_perc, 0, 1, color=\"black\", linestyles=\"dotted\")\n",
    "\n",
    "plt.show()"
   ]
  },
  {
   "cell_type": "markdown",
   "id": "14",
   "metadata": {},
   "source": [
    "# Define fit model"
   ]
  },
  {
   "cell_type": "code",
   "execution_count": null,
   "id": "15",
   "metadata": {},
   "outputs": [],
   "source": [
    "model = lmfit.models.RectangleModel(form=\"logistic\")\n",
    "\n",
    "\n",
    "def fit_curve(time, data):\n",
    "    \"\"\"Fit a curve to step model.\"\"\"\n",
    "    parameters = model.guess(data, x=time)\n",
    "    parameters[\"amplitude\"].value = 1.0\n",
    "    parameters[\"amplitude\"].vary = False\n",
    "\n",
    "    parameters[\"center1\"].min = 0\n",
    "    parameters[\"center2\"].min = 0\n",
    "    if parameters[\"center1\"].value > parameters[\"center2\"].value:\n",
    "        parameters[\"center1\"].value = 10000\n",
    "        parameters[\"center2\"].value = 50000\n",
    "\n",
    "    curve_shifted = data - data.min()\n",
    "    fit = model.fit(curve_shifted / curve_shifted.max(), parameters, x=time)\n",
    "    print(fit.fit_report())\n",
    "    return fit"
   ]
  },
  {
   "cell_type": "markdown",
   "id": "16",
   "metadata": {},
   "source": [
    "## Process the DataFrame"
   ]
  },
  {
   "cell_type": "code",
   "execution_count": null,
   "id": "17",
   "metadata": {},
   "outputs": [],
   "source": [
    "center = [0] * 4\n",
    "sigma = [0] * 4"
   ]
  },
  {
   "cell_type": "markdown",
   "id": "18",
   "metadata": {},
   "source": [
    "## Plot result for cyan curve"
   ]
  },
  {
   "cell_type": "code",
   "execution_count": null,
   "id": "19",
   "metadata": {},
   "outputs": [],
   "source": [
    "percentages = df[\"percentage\"]\n",
    "fit = fit_curve(percentages, df[\"cyan_NORM\"])\n",
    "c1 = fit.params[\"center1\"].value\n",
    "c2 = fit.params[\"center2\"].value\n",
    "peak = fit.params[\"amplitude\"].value\n",
    "sigma1 = fit.params[\"sigma1\"].value\n",
    "sigma2 = fit.params[\"sigma2\"].value\n",
    "plt.plot(percentages, fit.best_fit, \"o-\", label=\"Best fit\")\n",
    "plt.plot(percentages, fit.data, label=\"Data\")\n",
    "\n",
    "plt.plot(\n",
    "    percentages,\n",
    "    1.0 - logistic(percentages, c1, sigma1),\n",
    "    \"o\",\n",
    "    label=\"Accumulation\",\n",
    "    markevery=3,\n",
    ")\n",
    "plt.plot(\n",
    "    percentages,\n",
    "    1.0 - logistic(percentages, c2, sigma2, sign=-1.0),\n",
    "    \"v\",\n",
    "    label=\"Degradation\",\n",
    "    markevery=3,\n",
    ")\n",
    "\n",
    "plt.vlines(g1_perc, 0, peak, color=\"black\")\n",
    "plt.vlines(g1s_perc, 0, peak, color=\"black\", linestyles=\"dotted\")\n",
    "\n",
    "plt.ylabel(\"Normalised intensity\")\n",
    "plt.xlabel(\"Percentage w.r.t. total time\")\n",
    "plt.legend()\n",
    "plt.savefig(\"cyan_fit.png\")\n",
    "plt.savefig(\"cyan_fit.svg\")\n",
    "plt.savefig(\"cyan_fit.pdf\")\n",
    "plt.show()\n",
    "\n",
    "center[0] = c1\n",
    "center[1] = c2\n",
    "sigma[0] = sigma1\n",
    "sigma[1] = sigma2"
   ]
  },
  {
   "cell_type": "markdown",
   "id": "20",
   "metadata": {},
   "source": [
    "## Plot for magenta curve"
   ]
  },
  {
   "cell_type": "code",
   "execution_count": null,
   "id": "21",
   "metadata": {},
   "outputs": [],
   "source": [
    "percentages = df[\"percentage\"]\n",
    "fit = fit_curve(percentages, df[\"magenta_NORM\"])\n",
    "c1 = fit.params[\"center1\"].value\n",
    "c2 = fit.params[\"center2\"].value\n",
    "peak = fit.params[\"amplitude\"].value\n",
    "sigma1 = fit.params[\"sigma1\"].value\n",
    "sigma2 = fit.params[\"sigma2\"].value\n",
    "plt.plot(percentages, fit.best_fit, \"o-\", label=\"Best fit\")\n",
    "plt.plot(percentages, fit.data, label=\"Data\")\n",
    "\n",
    "plt.plot(\n",
    "    percentages,\n",
    "    1.0 - logistic(percentages, c1, sigma1),\n",
    "    \"o\",\n",
    "    label=\"Accumulation\",\n",
    "    markevery=3,\n",
    ")\n",
    "plt.plot(\n",
    "    percentages,\n",
    "    1.0 - logistic(percentages, c2, sigma2, sign=-1.0),\n",
    "    \"v\",\n",
    "    label=\"Degradation\",\n",
    "    markevery=3,\n",
    ")\n",
    "\n",
    "plt.vlines(g1_perc, 0, peak, color=\"black\")\n",
    "plt.vlines(g1s_perc, 0, peak, color=\"black\", linestyles=\"dotted\")\n",
    "\n",
    "plt.ylabel(\"Normalised intensity\")\n",
    "plt.xlabel(\"Percentage w.r.t. total time\")\n",
    "plt.legend()\n",
    "plt.savefig(\"magenta_fit.png\")\n",
    "plt.savefig(\"magenta_fit.svg\")\n",
    "plt.savefig(\"magenta_fit.pdf\")\n",
    "plt.show()\n",
    "\n",
    "center[2] = c1\n",
    "center[3] = c2\n",
    "sigma[2] = sigma1\n",
    "sigma[3] = sigma2"
   ]
  },
  {
   "cell_type": "markdown",
   "id": "22",
   "metadata": {},
   "source": [
    "# Export result"
   ]
  },
  {
   "cell_type": "code",
   "execution_count": null,
   "id": "23",
   "metadata": {},
   "outputs": [],
   "source": [
    "result_dict = {\n",
    "    \"phase_percentages\": [g1_perc, g1s_perc, sg2m_perc],\n",
    "    \"center\": center,\n",
    "    \"sigma\": sigma,\n",
    "}\n",
    "with open(\"fuccisa_hacat.json\", \"w\") as fp:\n",
    "    json.dump(result_dict, fp)"
   ]
  },
  {
   "cell_type": "code",
   "execution_count": null,
   "id": "24",
   "metadata": {},
   "outputs": [],
   "source": []
  }
 ],
 "metadata": {
  "kernelspec": {
   "display_name": "Python 3 (ipykernel)",
   "language": "python",
   "name": "python3"
  },
  "language_info": {
   "codemirror_mode": {
    "name": "ipython",
    "version": 3
   },
   "file_extension": ".py",
   "mimetype": "text/x-python",
   "name": "python",
   "nbconvert_exporter": "python",
   "pygments_lexer": "ipython3",
   "version": "3.10.12"
  }
 },
 "nbformat": 4,
 "nbformat_minor": 5
}

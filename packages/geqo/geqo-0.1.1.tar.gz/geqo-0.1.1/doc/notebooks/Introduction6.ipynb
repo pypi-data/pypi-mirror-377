{
 "cells": [
  {
   "cell_type": "markdown",
   "id": "c8552c9b",
   "metadata": {},
   "source": [
    "# Simulators\n",
    "geqo has several simulators for simulating the execution of gates and quantum circuits. \n",
    "\n",
    "- ensembleSimulatorSymPy\n",
    "- mixedStateSimulatorSymPy\n",
    "- simulatorStatevectorNumpy\n",
    "- simulatorUnitarySymPy\n",
    "\n",
    "Most of the simulators are based on SymPy and they can process symbolic and numeric values for angles and matrix entries. These simulators do not have a high performance and they are only suitable for rather small quantum systems.\n",
    "\n",
    "The simulators based on NumPy have a higher performance and they can simulate systems with 10 to 20 qubits."
   ]
  },
  {
   "cell_type": "markdown",
   "id": "100761e1",
   "metadata": {},
   "source": [
    "## ensembleSimulatorSymPy\n",
    "This simulator keeps track of quantum states, measurement results and their corresponding probabilities. It supports unitary operations and other operations. For instance, it supports the non-unitary operations ```DropQubits``` and ```SetDensityMatrix``` as well as post-measurement operations and multiple rounds of measurement. Each round of measurement creates several branches of possible measurement outcomes, all of which are collected in an ensemble. \n",
    "\n",
    "The output of the simulator is a dictionary. The keys of the dictionary are all values of the classical bits of the circuit. Different values for the classical bits can be obtained with ```Measure``` or ```SetBits``` in a quantum circuit. If there are no classical bits, then the list of bit values is empty. The value for each key is a pair. The first component of the pair is the probability for obtaining the key and the second component is the corresponding density matrix of the quantum part of the system.\n",
    "\n",
    "The following example shows the result of the measurement of an EPR pair followed by a Hadamard operation and a second measurement."
   ]
  },
  {
   "cell_type": "code",
   "execution_count": 1,
   "id": "d516e17a",
   "metadata": {},
   "outputs": [
    {
     "name": "stdout",
     "output_type": "stream",
     "text": [
      "first measurement {(0, 0): (1/2, Matrix([\n",
      "[1, 0, 0, 0],\n",
      "[0, 0, 0, 0],\n",
      "[0, 0, 0, 0],\n",
      "[0, 0, 0, 0]])), (1, 1): (1/2, Matrix([\n",
      "[0, 0, 0, 0],\n",
      "[0, 0, 0, 0],\n",
      "[0, 0, 0, 0],\n",
      "[0, 0, 0, 1]]))}\n",
      "second measurement {(0, 0): (1/4, Matrix([\n",
      "[1, 0, 0, 0],\n",
      "[0, 0, 0, 0],\n",
      "[0, 0, 0, 0],\n",
      "[0, 0, 0, 0]])), (1, 0): (1/4, Matrix([\n",
      "[0, 0, 0, 0],\n",
      "[0, 0, 0, 0],\n",
      "[0, 0, 1, 0],\n",
      "[0, 0, 0, 0]])), (0, 1): (1/4, Matrix([\n",
      "[0, 0, 0, 0],\n",
      "[0, 1, 0, 0],\n",
      "[0, 0, 0, 0],\n",
      "[0, 0, 0, 0]])), (1, 1): (1/4, Matrix([\n",
      "[0, 0, 0, 0],\n",
      "[0, 0, 0, 0],\n",
      "[0, 0, 0, 0],\n",
      "[0, 0, 0, 1]]))}\n"
     ]
    }
   ],
   "source": [
    "from geqo.simulators.sympy import ensembleSimulatorSymPy\n",
    "from geqo.gates.fundamental_gates import Hadamard\n",
    "from geqo.gates.multi_qubit_gates import CNOT\n",
    "from geqo.operations.measurement import Measure\n",
    "\n",
    "sim = ensembleSimulatorSymPy(\n",
    "    2, 2\n",
    ")  # We consider a system with 2 classical bits and 2 qubits.\n",
    "sim.apply(Hadamard(), [0])  # We apply the Hadamard transform to the first qubit.\n",
    "sim.apply(CNOT(), [0, 1])  # We entangle both qubits.\n",
    "sim.apply(\n",
    "    Measure(2), [0, 1], [0, 1]\n",
    ")  # We measure the 2 qubits and we store the results in the two bits.\n",
    "print(\"first measurement\", sim.ensemble)\n",
    "\n",
    "sim.apply(Hadamard(), [0])\n",
    "sim.apply(Measure(2), [0, 1], [0, 1])\n",
    "print(\"second measurement\", sim.ensemble)"
   ]
  },
  {
   "cell_type": "markdown",
   "id": "1d3c69b9",
   "metadata": {},
   "source": [
    "The result is a dictionary with the keys ```00```, ```01```, ```10``` and ```11```, which are the possible measurement outcomes of this quantum circuit. The probabilities are 1/4 for each case and the corresponding density matrices are also in the dictionary.\n",
    "\n",
    "The operation ```SetBits``` can be used to reset the classical bits, leading to mixing both cases together."
   ]
  },
  {
   "cell_type": "code",
   "execution_count": 2,
   "id": "0804d1c4",
   "metadata": {},
   "outputs": [
    {
     "data": {
      "text/plain": [
       "{(0, 1): (1,\n",
       "  Matrix([\n",
       "  [1/4,   0,   0,   0],\n",
       "  [  0, 1/4,   0,   0],\n",
       "  [  0,   0, 1/4,   0],\n",
       "  [  0,   0,   0, 1/4]]))}"
      ]
     },
     "execution_count": 2,
     "metadata": {},
     "output_type": "execute_result"
    }
   ],
   "source": [
    "from geqo.initialization.state import SetBits\n",
    "\n",
    "sim.setValue(\"a\", [0, 1])  # Set the name a to a list of bit values.\n",
    "sim.apply(SetBits(\"a\", 2), [], [0, 1])  # Set the classical bits in the simulator.\n",
    "sim.ensemble"
   ]
  },
  {
   "cell_type": "markdown",
   "id": "e58a497b",
   "metadata": {},
   "source": [
    "The operation ```SetBits``` sets all bits to a fixed value. As a consequence, the measurement results are lost and the states corresponding to the measurement results turn into a mixed state."
   ]
  },
  {
   "cell_type": "markdown",
   "id": "066d13c9",
   "metadata": {},
   "source": [
    "## mixedStateSimulatorSymPy\n",
    "This simulator is similar to ```ensembleSimulatorSymPy```, but the output of measurement results and states is more compact. Instead of tracking every possible measuremnt outcome, all branches are compactified into a single mixed-state density matrix after the measurement. Hence, it is also more efficient.\n",
    "\n"
   ]
  },
  {
   "cell_type": "code",
   "execution_count": 3,
   "id": "e6d55fa6",
   "metadata": {},
   "outputs": [
    {
     "name": "stdout",
     "output_type": "stream",
     "text": [
      "first measurement {(0, 0): 1/2, (1, 1): 1/2, 'mixed_state': Matrix([\n",
      "[1/2, 0, 0,   0],\n",
      "[  0, 0, 0,   0],\n",
      "[  0, 0, 0,   0],\n",
      "[  0, 0, 0, 1/2]])}\n",
      "second measurement {(0, 0): 1/4, (0, 1): 1/4, (1, 0): 1/4, (1, 1): 1/4, 'mixed_state': Matrix([\n",
      "[1/4,   0,   0,   0],\n",
      "[  0, 1/4,   0,   0],\n",
      "[  0,   0, 1/4,   0],\n",
      "[  0,   0,   0, 1/4]])}\n"
     ]
    }
   ],
   "source": [
    "from geqo.simulators.sympy import mixedStateSimulatorSymPy\n",
    "from geqo.gates.fundamental_gates import Hadamard\n",
    "from geqo.gates.multi_qubit_gates import CNOT\n",
    "from geqo.operations.measurement import Measure\n",
    "\n",
    "sim = mixedStateSimulatorSymPy(\n",
    "    2, 2, return_density=True\n",
    ")  # We consider a system with 2 classical bits and 2 qubits.\n",
    "sim.apply(Hadamard(), [0])  # We apply the Hadamard transform to the first qubit.\n",
    "sim.apply(CNOT(), [0, 1])  # We entangle both qubits.\n",
    "sim.apply(\n",
    "    Measure(2), [0, 1], [0, 1]\n",
    ")  # We measure the 2 qubits and we store the results in the two bits.\n",
    "\n",
    "sim.apply(Hadamard(), [0])\n",
    "sim.apply(Measure(2), [0, 1], [0, 1])\n",
    "\n",
    "print(\"first measurement\", sim.measureHistory[0])\n",
    "print(\"second measurement\", sim.measureHistory[1])"
   ]
  },
  {
   "cell_type": "markdown",
   "id": "92ad1716",
   "metadata": {},
   "source": [
    "## simulatorStatevectorNumpy\n",
    "This simulator is based on NumPy and can handle numeric values only. It simulates the state vector evolution of the system. The two parameters are the number of classical bits and of qubits. \n",
    "\n",
    "The state vector of the system can be accessed by the member variable ```state```. \n",
    "In the following example, the state vector of the simulator is shown after the application of a single ```Hadamard``` gate."
   ]
  },
  {
   "cell_type": "code",
   "execution_count": 4,
   "id": "9d029ccd",
   "metadata": {},
   "outputs": [
    {
     "data": {
      "text/plain": [
       "array([[0.70710678+0.j],\n",
       "       [0.70710678+0.j]])"
      ]
     },
     "execution_count": 4,
     "metadata": {},
     "output_type": "execute_result"
    }
   ],
   "source": [
    "from geqo.simulators.numpy import simulatorStatevectorNumpy\n",
    "from geqo.gates.fundamental_gates import Hadamard\n",
    "\n",
    "gate = Hadamard()\n",
    "\n",
    "sim = simulatorStatevectorNumpy(\n",
    "    1, 0\n",
    ")  # Create a state vector simulator with 0 classical bits and 1 qubit.\n",
    "\n",
    "sim.apply(gate, [0])  # Apply the Hadamard gate on qubit 0.\n",
    "sim.state  # get the state vector"
   ]
  },
  {
   "cell_type": "markdown",
   "id": "2dbc96d6-fe68-4519-bf45-f479f740c2cb",
   "metadata": {},
   "source": [
    "The simulator provides access to all possible measurement results with their respective probabilities. These values can be accessed by the member variable ```measurementResult```. The result is a dictionary with the possible results as keys and the probabilities as values. \n",
    "\n",
    "This simulator does currently not support the simulation of individual measurements including the subsequent wave function reduction. Therefore, it is not possible to apply further gates after a measurement using this simulator.  \n",
    "\n",
    "The following example shows the measurement results and their probabilities after applying a Hadamard gate and measuring in the standard basis."
   ]
  },
  {
   "cell_type": "code",
   "execution_count": 5,
   "id": "979fe3de-ee14-4b63-ba26-b27e6a658aca",
   "metadata": {},
   "outputs": [
    {
     "name": "stdout",
     "output_type": "stream",
     "text": [
      "result (0,) measured with probability 0.4999999999999999\n",
      "result (1,) measured with probability 0.4999999999999999\n"
     ]
    }
   ],
   "source": [
    "from geqo.simulators.numpy import simulatorStatevectorNumpy\n",
    "from geqo.gates.fundamental_gates import Hadamard\n",
    "from geqo.operations.measurement import Measure\n",
    "\n",
    "gate = Hadamard()\n",
    "meas = Measure(1)\n",
    "\n",
    "sim = simulatorStatevectorNumpy(1, 1)\n",
    "\n",
    "sim.apply(gate, [0])\n",
    "sim.apply(meas, [0], [0])\n",
    "\n",
    "res = sim.measurementResult\n",
    "for r in res:\n",
    "    print(\"result\", r, \"measured with probability\", res[r])"
   ]
  },
  {
   "cell_type": "markdown",
   "id": "64fe7f6d",
   "metadata": {},
   "source": [
    "## simulatorUnitarySymPy\n",
    "This simulator is specifically designed for obtaining the unitary matrix corresponding to a gate or a sequence of gates. It only supports unitary gates. After applying all gates, the corresponding unitary can be accessed via the ```u``` member variable."
   ]
  },
  {
   "cell_type": "code",
   "execution_count": 6,
   "id": "c11f5b57",
   "metadata": {},
   "outputs": [
    {
     "data": {
      "text/latex": [
       "$\\displaystyle \\left[\\begin{matrix}0 & 1\\\\1 & 0\\end{matrix}\\right]$"
      ],
      "text/plain": [
       "Matrix([\n",
       "[0, 1],\n",
       "[1, 0]])"
      ]
     },
     "execution_count": 6,
     "metadata": {},
     "output_type": "execute_result"
    }
   ],
   "source": [
    "from geqo.simulators.sympy import simulatorUnitarySymPy\n",
    "from geqo.gates.fundamental_gates import PauliX\n",
    "\n",
    "gate = PauliX()\n",
    "sim = simulatorUnitarySymPy(1)\n",
    "sim.apply(gate, [0])\n",
    "\n",
    "sim.u"
   ]
  },
  {
   "cell_type": "code",
   "execution_count": null,
   "id": "a2673633",
   "metadata": {},
   "outputs": [],
   "source": []
  }
 ],
 "metadata": {
  "kernelspec": {
   "display_name": "geqo",
   "language": "python",
   "name": "python3"
  },
  "language_info": {
   "codemirror_mode": {
    "name": "ipython",
    "version": 3
   },
   "file_extension": ".py",
   "mimetype": "text/x-python",
   "name": "python",
   "nbconvert_exporter": "python",
   "pygments_lexer": "ipython3",
   "version": "3.12.11"
  }
 },
 "nbformat": 4,
 "nbformat_minor": 5
}

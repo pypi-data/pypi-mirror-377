{
 "cells": [
  {
   "cell_type": "markdown",
   "id": "db2f648f-23ef-4676-b059-ad103ef48417",
   "metadata": {},
   "source": [
    "# Quantum Amplitude Estimation of risk models\n",
    "For banks and insurances, modelling and assessing the business risk is an important task. A simple yet useful risk model was introduced and analyzed in the following article:\n",
    "\n",
    "M. C. Braun, T. Decker, N. Hegemann, S. F. Kerstan, C. Schäfer: A Quantum Algorithm for the Sensitivity Analysis of Business Risks, [arXiv:2103.05475](https://arxiv.org/abs/2103.05475).\n",
    "\n",
    "In this model, there are risk items like banks or companies with an associated probability of going bankrupt. These risk items are represented by nodes of a graph. The edges of the graph are the dependencies between the risk items: The bankruptcy of one risk item can lead to the bankruptcy of another risk item with a specified probability. In the following graph, a simple risk model with five risk items and several dependencies between them is shown:\n",
    "\n",
    "```{image} ../images/riskModel.png\n",
    ":alt: An example for a risk model\n",
    ":width: 350px\n",
    ":align: center\n",
    "```\n",
    "In this diagram, the probability $p_x$ is the probabilities that the corresponding node goes bankrupt and the probability $p_{xy}$ is the probability that the bankruptcy of node $x$ leads to the bankruptcy of node $y$.\n",
    "\n",
    "A risk model can be used to determine the probabilities of critical events like a loss, which goes beyond a pre-defined threshold. In many cases, risk models have a big number of risk items and many dependencies between them. This makes the analysis of some properties of such models a computationally hard task. To tackle such problems, a quantum version of such a risk model was developed and analyzed in the article cited above. To support and facilitate the development of quantum algorithms for evaluating such risk models, geqo is equipped with the `RiskModel` function to automatically convert a risk model to its quantum version.\n",
    "\n",
    "The quantum version of a model is based on an efficient encoding, which uses one qubit per risk item. The probabilities and dependencies between the risk items are modelled by uncontrolled and controlled rotations, respectively. This efficient representation of risk models enables the evaluation of the risk model with the Grover algorithm and with Quantum Amplitude Estimation (QAE).\n",
    "\n",
    "In the following, an example for a risk model is constructed with the geqo function ```RiskModel``` and the probability of an event is estimated with QAE."
   ]
  },
  {
   "cell_type": "markdown",
   "id": "3e8f863a-1714-45d3-8194-c4c204489dca",
   "metadata": {},
   "source": [
    "## Definition of the risk model\n",
    "\n",
    "As example, we consider the risk model from above with five risk items. In the dictionary ```probsNodes``` a probability is assigned to each nodes. This probability is the probability of a node to fail, e.g. the probability that a company goes bankrupt. The dictionary ```probsEdges``` contains edges with probability values. Each edge represents the probability that the failure of the first node in the edge causes the failure of the second node.  "
   ]
  },
  {
   "cell_type": "code",
   "execution_count": 1,
   "id": "fd0b12c0-b820-4368-a093-a3bbefe098e4",
   "metadata": {},
   "outputs": [],
   "source": [
    "# defining the model\n",
    "probsNodes = {\n",
    "    \"A\": 0.9,\n",
    "    \"B\": 0.9,\n",
    "    \"C\": 0.9,\n",
    "    \"D\": 0.9,\n",
    "    \"E\": 0.9,\n",
    "}  # intrinsic probabilities\n",
    "probsEdges = {\n",
    "    (\"A\", \"B\"): 0.1,\n",
    "    (\"A\", \"C\"): 0.1,\n",
    "    (\"C\", \"D\"): 0.5,\n",
    "    (\"C\", \"E\"): 0.5,\n",
    "}  # transition probabilities"
   ]
  },
  {
   "cell_type": "markdown",
   "id": "a57cb26d-0ee4-47df-9d3f-3a96d3ccf9b2",
   "metadata": {},
   "source": [
    "With the geqo function ```RiskModel``` we can create a ```Sequence```, which represents the quantum circuit corresponding to the risk model. This means that after running the circuit, the probability of measuring a configuration of failed or non-failed risk items corresponds exactly to the probability of this case. For instance, the probability for measuring the result 11111 is 0.6726 and this is the probability in the risk model that all risk items fail.\n",
    "\n",
    "The function ```RiskModel``` returns a ```Sequence``` along with a dictionary of definitions of the ```BasicGates```, which are used in the quantum circuit to set the values in the simulators."
   ]
  },
  {
   "cell_type": "code",
   "execution_count": 2,
   "id": "9f588177",
   "metadata": {},
   "outputs": [
    {
     "name": "stdout",
     "output_type": "stream",
     "text": [
      "The Sequence corresponding to the risk model:\n",
      "\n",
      "Sequence(['0', '1', '2', '3', '4'], [], [(BasicGate(\"ry(2.498091544796509)\", 1), ['0'], []), (BasicGate(\"ry(2.498091544796509)\", 1), ['1'], []), (QuantumControl([1], BasicGate(\"ry(0.034115800762489545)\", 1)), ['0', '1'], []), (BasicGate(\"ry(2.498091544796509)\", 1), ['2'], []), (QuantumControl([1], BasicGate(\"ry(0.034115800762489545)\", 1)), ['0', '2'], []), (BasicGate(\"ry(2.498091544796509)\", 1), ['3'], []), (QuantumControl([1], BasicGate(\"ry(0.19247429699702145)\", 1)), ['2', '3'], []), (BasicGate(\"ry(2.498091544796509)\", 1), ['4'], []), (QuantumControl([1], BasicGate(\"ry(0.19247429699702145)\", 1)), ['2', '4'], [])])\n",
      "\n",
      "Definition of ry(2.498091544796509) :\n"
     ]
    },
    {
     "data": {
      "text/latex": [
       "$\\displaystyle \\left[\\begin{matrix}0.316227766016838 & -0.948683298050514\\\\0.948683298050514 & 0.316227766016838\\end{matrix}\\right]$"
      ],
      "text/plain": [
       "Matrix([\n",
       "[0.316227766016838, -0.948683298050514],\n",
       "[0.948683298050514,  0.316227766016838]])"
      ]
     },
     "metadata": {},
     "output_type": "display_data"
    },
    {
     "name": "stdout",
     "output_type": "stream",
     "text": [
      "Definition of ry(0.034115800762489545) :\n"
     ]
    },
    {
     "data": {
      "text/latex": [
       "$\\displaystyle \\left[\\begin{matrix}0.999854517544953 & -0.0170570731648131\\\\0.0170570731648131 & 0.999854517544953\\end{matrix}\\right]$"
      ],
      "text/plain": [
       "Matrix([\n",
       "[ 0.999854517544953, -0.0170570731648131],\n",
       "[0.0170570731648131,   0.999854517544953]])"
      ]
     },
     "metadata": {},
     "output_type": "display_data"
    },
    {
     "name": "stdout",
     "output_type": "stream",
     "text": [
      "Definition of ry(0.19247429699702145) :\n"
     ]
    },
    {
     "data": {
      "text/latex": [
       "$\\displaystyle \\left[\\begin{matrix}0.995372778564001 & -0.0960886657924843\\\\0.0960886657924843 & 0.995372778564001\\end{matrix}\\right]$"
      ],
      "text/plain": [
       "Matrix([\n",
       "[ 0.995372778564001, -0.0960886657924843],\n",
       "[0.0960886657924843,   0.995372778564001]])"
      ]
     },
     "metadata": {},
     "output_type": "display_data"
    }
   ],
   "source": [
    "from geqo.algorithms import RiskModel\n",
    "\n",
    "seq, cv = RiskModel(node_probs=probsNodes, edge_probs=probsEdges)\n",
    "print(\"The Sequence corresponding to the risk model:\")\n",
    "print()\n",
    "print(seq)\n",
    "print()\n",
    "for c in cv:\n",
    "    print(\"Definition of\", c, \":\")\n",
    "    display(cv[c])"
   ]
  },
  {
   "cell_type": "markdown",
   "id": "8d2cf572-a68f-4ac8-b334-4978985d775f",
   "metadata": {},
   "source": [
    "The model and the definition of the gates can be used to directly run the circuit on a simulator. In the following example, the SymPy based simulator is used to calculate the density matrix of the quantum system after applying the model. We display the entries on the diagonal of the density matrix, which are higher than 0.05; these entries correspond to the probability of measuring the corresponding result."
   ]
  },
  {
   "cell_type": "code",
   "execution_count": 3,
   "id": "d22f4e93",
   "metadata": {},
   "outputs": [
    {
     "name": "stdout",
     "output_type": "stream",
     "text": [
      "--------------------\n",
      "r= () has prob. 1\n",
      "[0, 1, 1, 1, 1] 0.0731025000000000\n",
      "[1, 0, 1, 1, 1] 0.0665232749999999\n",
      "[1, 1, 0, 1, 1] 0.0597050999999999\n",
      "[1, 1, 1, 1, 1] 0.672624224999999\n"
     ]
    }
   ],
   "source": [
    "from geqo.simulators import ensembleSimulatorSymPy\n",
    "from geqo.utils import num2bin\n",
    "\n",
    "sim = ensembleSimulatorSymPy(len(seq.qubits), 0)\n",
    "for c in cv:\n",
    "    sim.setValue(c, cv[c])\n",
    "# print(sim.dict)\n",
    "sim.apply(seq, [int(x) for x in seq.qubits])\n",
    "# sim.printQASM()\n",
    "\n",
    "for r in sim.ensemble:\n",
    "    res = sim.ensemble[r]\n",
    "    print(\"-\" * 20)\n",
    "    print(\"r=\", r, \"has prob.\", res[0])\n",
    "    # display(res[1])\n",
    "    for xi in range(len(sim.ensemble[()][1].diagonal())):\n",
    "        x = sim.ensemble[()][1].diagonal()[xi]\n",
    "        if x > 0.05:\n",
    "            print(num2bin(xi, 5), x)"
   ]
  },
  {
   "cell_type": "markdown",
   "id": "18406b0b-9db3-4397-88a5-49c9feef38bf",
   "metadata": {},
   "source": [
    "The last entry corresponds to the failure off all nodes and the corresponding probability of this event is $0.6726$."
   ]
  },
  {
   "cell_type": "markdown",
   "id": "fbbae4c5-8883-4ea5-8aab-475f31f0c2a7",
   "metadata": {},
   "source": [
    "## Construction of the Grover operator\n",
    "The Grover operator is composed as $G=-R_Y(a) S_0 R_Y(-a) S_x$, where $S_0$ and $S_x$ are phase operations. More precisely, $S_0$ multiplies the state $|00000\\rangle$ with the phase $-1$ and all other states with the trivial phase $1$. In a similar way, $S_x$ marks the state $|11111\\rangle$ with $-1$, for which we search the corresponding probability."
   ]
  },
  {
   "cell_type": "code",
   "execution_count": 4,
   "id": "0cca515f-a674-4e5c-aec0-fdb4f4fb622c",
   "metadata": {},
   "outputs": [],
   "source": [
    "from geqo.operations import QuantumControl\n",
    "from geqo.gates import PauliX, PauliZ\n",
    "from geqo.core import Sequence\n",
    "\n",
    "seqList = [\n",
    "    (\n",
    "        QuantumControl([1, 1, 1, 1], PauliZ()),\n",
    "        [\"0\", \"1\", \"2\", \"3\", \"4\"],\n",
    "        [],\n",
    "    ),  # mark 11111 state\n",
    "    (seq.getInverse(), [\"0\", \"1\", \"2\", \"3\", \"4\"], []),  # inverse operator\n",
    "    (PauliX(), [\"0\"], []),  # the global -1\n",
    "    (PauliZ(), [\"0\"], []),\n",
    "    (PauliX(), [\"0\"], []),\n",
    "    (PauliZ(), [\"0\"], []),\n",
    "    (PauliX(), [\"0\"], []),  # Phase -1 on 0000 only, 1 else\n",
    "    (QuantumControl([0, 0, 0, 0], PauliZ()), [\"1\", \"2\", \"3\", \"4\", \"0\"], []),\n",
    "    (PauliX(), [\"0\"], []),\n",
    "    (seq, [\"0\", \"1\", \"2\", \"3\", \"4\"], []),  # the operator\n",
    "]\n",
    "\n",
    "grov = Sequence(seq.qubits, seq.bits, seqList)  # Create the Grover operator as Sequence"
   ]
  },
  {
   "cell_type": "markdown",
   "id": "56fb42ce-87f6-49e4-84d4-c178e41176e8",
   "metadata": {},
   "source": [
    "## Construction of the QAE circuit"
   ]
  },
  {
   "cell_type": "markdown",
   "id": "767b7269-c864-4560-9ccd-fd17b4552f2c",
   "metadata": {},
   "source": [
    "For the QAE algorithm, we need the powers $G, G^2, G^4, \\ldots$ of the Grover operator. These powers are defined iteratively in the following."
   ]
  },
  {
   "cell_type": "code",
   "execution_count": 5,
   "id": "1c7cabac-136d-4e6b-aeb4-dc21bc432037",
   "metadata": {},
   "outputs": [],
   "source": [
    "pow1 = Sequence([\"0\", \"1\", \"2\", \"3\", \"4\"], [], [(grov, [\"0\", \"1\", \"2\", \"3\", \"4\"], [])])\n",
    "pow2 = Sequence(\n",
    "    [\"0\", \"1\", \"2\", \"3\", \"4\"],\n",
    "    [],\n",
    "    [(pow1, [\"0\", \"1\", \"2\", \"3\", \"4\"], []), (pow1, [\"0\", \"1\", \"2\", \"3\", \"4\"], [])],\n",
    ")\n",
    "pow4 = Sequence(\n",
    "    [\"0\", \"1\", \"2\", \"3\", \"4\"],\n",
    "    [],\n",
    "    [(pow2, [\"0\", \"1\", \"2\", \"3\", \"4\"], []), (pow2, [\"0\", \"1\", \"2\", \"3\", \"4\"], [])],\n",
    ")\n",
    "pow8 = Sequence(\n",
    "    [\"0\", \"1\", \"2\", \"3\", \"4\"],\n",
    "    [],\n",
    "    [(pow4, [\"0\", \"1\", \"2\", \"3\", \"4\"], []), (pow4, [\"0\", \"1\", \"2\", \"3\", \"4\"], [])],\n",
    ")\n",
    "pow16 = Sequence(\n",
    "    [\"0\", \"1\", \"2\", \"3\", \"4\"],\n",
    "    [],\n",
    "    [(pow8, [\"0\", \"1\", \"2\", \"3\", \"4\"], []), (pow8, [\"0\", \"1\", \"2\", \"3\", \"4\"], [])],\n",
    ")\n",
    "pow32 = Sequence(\n",
    "    [\"0\", \"1\", \"2\", \"3\", \"4\"],\n",
    "    [],\n",
    "    [(pow16, [\"0\", \"1\", \"2\", \"3\", \"4\"], []), (pow16, [\"0\", \"1\", \"2\", \"3\", \"4\"], [])],\n",
    ")\n",
    "pow64 = Sequence(\n",
    "    [\"0\", \"1\", \"2\", \"3\", \"4\"],\n",
    "    [],\n",
    "    [(pow32, [\"0\", \"1\", \"2\", \"3\", \"4\"], []), (pow32, [\"0\", \"1\", \"2\", \"3\", \"4\"], [])],\n",
    ")"
   ]
  },
  {
   "cell_type": "markdown",
   "id": "b1b72d72-adf8-43b3-af6b-93c6abb7ac40",
   "metadata": {},
   "source": [
    "With the defined sequences, we can create the full circuit for the QAE. The qubits ```0``` to ```4``` are the working space for the risk model circuit and the Grover operators. The qubits ```p0``` to ```p6``` are initialized with a Hadamard transform and each is used for a phase kickback from a power of the Grover operator. At the end, an inverse QFT is applied to these qubits and they are measured in the standard basis. The result is a binary representation of the estimation of the probability, which corresponds to the event that all risk items have failed, i.e. the probability for measuring the state is $|11111\\rangle$."
   ]
  },
  {
   "cell_type": "code",
   "execution_count": 6,
   "id": "2cbd1cdc-712f-4f5c-9134-35c0db9a4d93",
   "metadata": {},
   "outputs": [],
   "source": [
    "from geqo.gates import Hadamard\n",
    "from geqo.operations import QuantumControl\n",
    "from geqo.algorithms import InverseQFT\n",
    "\n",
    "qft = InverseQFT(7)\n",
    "gatesAndTargets = []\n",
    "gatesAndTargets.append((Hadamard(), [\"p0\"], []))\n",
    "gatesAndTargets.append((Hadamard(), [\"p1\"], []))\n",
    "gatesAndTargets.append((Hadamard(), [\"p2\"], []))\n",
    "gatesAndTargets.append((Hadamard(), [\"p3\"], []))\n",
    "gatesAndTargets.append((Hadamard(), [\"p4\"], []))\n",
    "gatesAndTargets.append((Hadamard(), [\"p5\"], []))\n",
    "gatesAndTargets.append((Hadamard(), [\"p6\"], []))\n",
    "gatesAndTargets.append((seq, [\"0\", \"1\", \"2\", \"3\", \"4\"], []))\n",
    "gatesAndTargets.append(\n",
    "    (QuantumControl([1], pow64), [\"p0\", \"0\", \"1\", \"2\", \"3\", \"4\"], [])\n",
    ")\n",
    "gatesAndTargets.append(\n",
    "    (QuantumControl([1], pow32), [\"p1\", \"0\", \"1\", \"2\", \"3\", \"4\"], [])\n",
    ")\n",
    "gatesAndTargets.append(\n",
    "    (QuantumControl([1], pow16), [\"p2\", \"0\", \"1\", \"2\", \"3\", \"4\"], [])\n",
    ")\n",
    "gatesAndTargets.append((QuantumControl([1], pow8), [\"p3\", \"0\", \"1\", \"2\", \"3\", \"4\"], []))\n",
    "gatesAndTargets.append((QuantumControl([1], pow4), [\"p4\", \"0\", \"1\", \"2\", \"3\", \"4\"], []))\n",
    "gatesAndTargets.append((QuantumControl([1], pow2), [\"p5\", \"0\", \"1\", \"2\", \"3\", \"4\"], []))\n",
    "gatesAndTargets.append((QuantumControl([1], pow1), [\"p6\", \"0\", \"1\", \"2\", \"3\", \"4\"], []))\n",
    "gatesAndTargets.append((qft, [\"p0\", \"p1\", \"p2\", \"p3\", \"p4\", \"p5\", \"p6\"], []))\n",
    "seq2 = Sequence(\n",
    "    [\"p0\", \"p1\", \"p2\", \"p3\", \"p4\", \"p5\", \"p6\", \"0\", \"1\", \"2\", \"3\", \"4\"],\n",
    "    [],\n",
    "    gatesAndTargets,\n",
    ")"
   ]
  },
  {
   "cell_type": "markdown",
   "id": "2e44c53f-ca7f-4ca4-80d0-4e45d4e56c84",
   "metadata": {},
   "source": [
    "## A function for evaluating the results of QAE"
   ]
  },
  {
   "cell_type": "markdown",
   "id": "a187350e-2c5e-4a9b-b416-e4ad6c85c347",
   "metadata": {},
   "source": [
    "The output of the QAE is an estimation of the probability in binary format. We define the function, which calculates the probability values corresponding to the binary outputs."
   ]
  },
  {
   "cell_type": "code",
   "execution_count": 7,
   "id": "d5cbd3b0-e787-4a31-9e9f-676c5cec31ad",
   "metadata": {},
   "outputs": [],
   "source": [
    "from geqo.utils import bin2num\n",
    "\n",
    "\n",
    "def bit2prob(bits):\n",
    "    summe = bin2num(bits)\n",
    "    res = summe / 2 ** (len(bits) - 1)\n",
    "    theta_estim = math.pi * res / 2.0\n",
    "    prob_estim = math.sin(theta_estim) * math.sin(theta_estim)\n",
    "    return prob_estim"
   ]
  },
  {
   "cell_type": "markdown",
   "id": "3a0c8c43-0669-42b7-92e6-abcbc4485e4f",
   "metadata": {},
   "source": [
    "The probability values corresponding to the possible binary results are not evenly distributed in the intervall $[0,1]$. The following values and the plot shows that the values are denser around $0$ and $1$ in contrast to $0.5$. "
   ]
  },
  {
   "cell_type": "code",
   "execution_count": 8,
   "id": "ddc2f143-3232-4395-99ab-39a51cd20e0d",
   "metadata": {},
   "outputs": [
    {
     "data": {
      "text/plain": [
       "[<matplotlib.lines.Line2D at 0x7aaa45ae9a90>]"
      ]
     },
     "execution_count": 8,
     "metadata": {},
     "output_type": "execute_result"
    },
    {
     "data": {
      "image/png": "[encoded data removed]",
      "text/plain": [
       "<Figure size 640x480 with 1 Axes>"
      ]
     },
     "metadata": {},
     "output_type": "display_data"
    }
   ],
   "source": [
    "import itertools\n",
    "import math\n",
    "import matplotlib.pyplot as plt\n",
    "\n",
    "xe2 = []\n",
    "ye2 = []\n",
    "for i in itertools.product([0, 1], repeat=4):\n",
    "    xe2.append(bin2num(i))\n",
    "    ye2.append(bit2prob(i))\n",
    "plt.scatter(xe2, ye2)\n",
    "plt.plot(xe2, ye2)"
   ]
  },
  {
   "cell_type": "markdown",
   "id": "74c3b3fe-ae31-4cf1-b6e6-8b913ddf8aad",
   "metadata": {},
   "source": [
    "## Running the QAE"
   ]
  },
  {
   "cell_type": "markdown",
   "id": "fc08b831-c17a-4b39-abfd-ca73427da624",
   "metadata": {},
   "source": [
    "In the following, we use the NumPy based simulator ```simulatorStatevectorNumpy```. Before we can run the QAE circuit and apply the measurements, the simulator has to be prepared with the methods ```setValue``` and ```prepareBackend```. Since the ```RiskModel``` function returns matrix definitions in SymPy, we have to convert these matrices to NumPy with the function ```matrix2numpy```."
   ]
  },
  {
   "cell_type": "code",
   "execution_count": 9,
   "id": "d1745ee6",
   "metadata": {},
   "outputs": [
    {
     "name": "stdout",
     "output_type": "stream",
     "text": [
      "setting c= ry(2.498091544796509)\n",
      "setting c= ry(0.034115800762489545)\n",
      "setting c= ry(0.19247429699702145)\n"
     ]
    }
   ],
   "source": [
    "from sympy import matrix2numpy\n",
    "from geqo.operations import Measure\n",
    "from geqo.simulators.numpy import simulatorStatevectorNumpy\n",
    "\n",
    "sim = simulatorStatevectorNumpy(12, 7)\n",
    "for c in cv:\n",
    "    print(\"setting c=\", c)\n",
    "    sim.setValue(c, matrix2numpy(cv[c], dtype=float))\n",
    "sim.prepareBackend([qft])\n",
    "\n",
    "sim.apply(seq2, [0, 1, 2, 3, 4, 5, 6, 7, 8, 9, 10, 11], [])\n",
    "sim.apply(Measure(7), [0, 1, 2, 3, 4, 5, 6], [0, 1, 2, 3, 4, 5, 6])"
   ]
  },
  {
   "cell_type": "markdown",
   "id": "481f2848-46cf-41fd-9695-80527d59688d",
   "metadata": {},
   "source": [
    "## Results of the QAE"
   ]
  },
  {
   "cell_type": "markdown",
   "id": "8bc34486-f736-4efc-b50e-5bf50bb940f4",
   "metadata": {},
   "source": [
    "The possible results of the measurement along with their corresponding probabilities are shown in the following. The results of the function ```bit2prob``` above shows that several binary results might correspond to the same probability estimation. Note that we only display results that have more than $1\\%$ probability."
   ]
  },
  {
   "cell_type": "code",
   "execution_count": 10,
   "id": "df395ef1-8c2e-4882-b773-45fcb10dbf91",
   "metadata": {},
   "outputs": [
    {
     "name": "stdout",
     "output_type": "stream",
     "text": [
      "binary result: (0, 1, 0, 0, 1, 1, 0), estimation: 0.64514, probability of this result: 0.010556852174544506\n",
      "binary result: (0, 1, 0, 0, 1, 1, 1), estimation: 0.66844, probability of this result: 0.44831596084009684\n",
      "binary result: (0, 1, 0, 1, 0, 0, 0), estimation: 0.69134, probability of this result: 0.02195105107156827\n",
      "binary result: (1, 0, 1, 1, 0, 0, 0), estimation: 0.69134, probability of this result: 0.02195105107156827\n",
      "binary result: (1, 0, 1, 1, 0, 0, 1), estimation: 0.66844, probability of this result: 0.44831596084009684\n",
      "binary result: (1, 0, 1, 1, 0, 1, 0), estimation: 0.64514, probability of this result: 0.010556852174544508\n"
     ]
    }
   ],
   "source": [
    "te = {}\n",
    "for ex in sim.measurementResult:\n",
    "    e = [int(i) for i in list(ex)]\n",
    "    estim = round(bit2prob(e), 5)\n",
    "    prob = sim.measurementResult[ex]\n",
    "    if prob > 0.01:\n",
    "        print(\n",
    "            \"binary result: \"\n",
    "            + str(ex)\n",
    "            + \", estimation: \"\n",
    "            + str(estim)\n",
    "            + \", probability of this result: \"\n",
    "            + str(prob)\n",
    "        )\n",
    "    if estim in te:\n",
    "        te[estim] += prob\n",
    "    else:\n",
    "        te[estim] = prob"
   ]
  },
  {
   "cell_type": "markdown",
   "id": "f1cfc7b1-dcc4-46f3-8ba7-cb0aed84acc4",
   "metadata": {},
   "source": [
    "The following plot shows the probability for each possible estimation of the probability of the event that all risk items have failed."
   ]
  },
  {
   "cell_type": "code",
   "execution_count": 11,
   "id": "4d27b4a2-f2e0-4175-a649-cc473b955ba4",
   "metadata": {},
   "outputs": [
    {
     "name": "stdout",
     "output_type": "stream",
     "text": [
      "result of QAE with highest probability: 0.66844\n",
      "probability of this result: 0.8966319216801937\n"
     ]
    },
    {
     "data": {
      "text/plain": [
       "<matplotlib.collections.PathCollection at 0x7aaa45bb01a0>"
      ]
     },
     "execution_count": 11,
     "metadata": {},
     "output_type": "execute_result"
    },
    {
     "data": {
      "image/png": "[encoded data removed]",
      "text/plain": [
       "<Figure size 640x480 with 1 Axes>"
      ]
     },
     "metadata": {},
     "output_type": "display_data"
    }
   ],
   "source": [
    "import matplotlib.pyplot as plt\n",
    "\n",
    "xe = []\n",
    "ye = []\n",
    "maxIndex = 0\n",
    "maxValue = 0\n",
    "for t in te:\n",
    "    xe.append(t)\n",
    "    ye.append(te[t])\n",
    "    if te[t] > maxValue:\n",
    "        maxIndex = t\n",
    "        maxValue = te[t]\n",
    "# print(te)\n",
    "print(\"result of QAE with highest probability:\", maxIndex)\n",
    "print(\"probability of this result:\", maxValue)\n",
    "plt.plot(xe, ye)\n",
    "plt.scatter(xe, ye)"
   ]
  },
  {
   "cell_type": "markdown",
   "id": "0d0b3f96-8133-463f-b0cd-4395699e4ded",
   "metadata": {},
   "source": [
    "The result with the highest probability corresponds to the probability value $0.66844$, which is the closest approximation to the probability $0.6726$ for this level of precision. The probability of measuring this best approximation is over $80\\%$, i.e., the result can usually be found with two or three executions of the QAE circuit. The following diagram shows the concentration of the probability on the closest applroximation."
   ]
  }
 ],
 "metadata": {
  "kernelspec": {
   "display_name": "geqo",
   "language": "python",
   "name": "python3"
  },
  "language_info": {
   "codemirror_mode": {
    "name": "ipython",
    "version": 3
   },
   "file_extension": ".py",
   "mimetype": "text/x-python",
   "name": "python",
   "nbconvert_exporter": "python",
   "pygments_lexer": "ipython3",
   "version": "3.12.11"
  }
 },
 "nbformat": 4,
 "nbformat_minor": 5
}

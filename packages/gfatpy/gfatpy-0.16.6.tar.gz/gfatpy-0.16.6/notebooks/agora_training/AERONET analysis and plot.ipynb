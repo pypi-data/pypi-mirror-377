{
 "cells": [
  {
   "attachments": {},
   "cell_type": "markdown",
   "metadata": {},
   "source": [
    "# AERONET analysis\n",
    "\n",
    "This is the code helps you to analysis and plot AERONET data. If you are not confident in Python, don't worry! You only need to make modifications to the statements found as follows:\n",
    "\n",
    "#------------------------------------------------------------------------------------------------------------------------------\n",
    "\n",
    "         Modify ONLY within here\n",
    "#------------------------------------------------------------------------------------------------------------------------------\n",
    "\n",
    "Important:\n",
    "- A recurring error may be that paths are specified with '\\\\' as the folder separator, while the Python language uses '\\\\\\\\' (double).\n",
    "- It is also recommended to run the cells one by one, and not to re-run a cell while it is executing (the software may hang). If while a cell is running, any changes are made to the code in that cell and we want to re-run it, we should wait for it to finish or restart the kernels.\n",
    "- If desired, you can play with the rest of the code."
   ]
  },
  {
   "attachments": {},
   "cell_type": "markdown",
   "metadata": {},
   "source": [
    "## IMPORTING LIBRARIES AND SPECIFYING PATHS\n",
    "\n",
    "First, we need to import the necessary libraries. In case any of the modules are not found when running, install the module using:\n",
    "\n",
    "#------------------------------------------------------------------------------------------------------------------------------\n",
    "\n",
    "    !pip install <module_name>\n",
    "#------------------------------------------------------------------------------------------------------------------------------\n"
   ]
  },
  {
   "cell_type": "code",
   "execution_count": null,
   "metadata": {},
   "outputs": [],
   "source": [
    "from pathlib import Path\n",
    "import numpy as np #For general mathematical calculations\n",
    "from datetime import datetime\n",
    "import matplotlib.pyplot as plt #For plotting\n",
    "from scipy.signal import savgol_filter #Allows to smooth a profile through the Savitzky-Golay filter\n",
    "\n",
    "#For working with aeronet data (developed by the Atmospheric Physics Group of the UGR, GFAT)\n",
    "from gfatpy.aeronet.reader import reader, header\n",
    "from gfatpy.aeronet import plot\n",
    "from gfatpy.utils.plot import font_axes\n",
    "\n",
    "%load_ext autoreload\n",
    "%autoreload 2\n",
    "\n",
    "%matplotlib inline"
   ]
  },
  {
   "attachments": {},
   "cell_type": "markdown",
   "metadata": {},
   "source": [
    "In the next cell, we define the directory where the lidar measurement files are located and the directory where we want to save the graphs."
   ]
  },
  {
   "cell_type": "code",
   "execution_count": null,
   "metadata": {},
   "outputs": [],
   "source": [
    "#------------------------------------------------------------------------------------------------------------------------------\n",
    "aeronet_dir = Path(r'C:\\Users\\Usuario\\Mi unidad\\04. Proyectos\\ATMO-ACCESS\\curso\\data\\aeronet')  #Database folder path, until '\\1a' (included). Example: 'C:\\\\Users\\\\user\\\\Desktop\\\\data\\\\1a'\n",
    "output_dir = Path(r'C:\\Users\\Usuario\\Mi unidad\\04. Proyectos\\ATMO-ACCESS\\curso\\output')  #Output folder path. Example: ''C:\\\\Users\\\\user\\\\Desktop\\\\output''\n",
    "#------------------------------------------------------------------------------------------------------------------------------\n",
    "\n",
    "print([aeronet_dir.is_dir(), output_dir.is_dir()]) #Comprueba que ambas carpetas existen.\n"
   ]
  },
  {
   "attachments": {},
   "cell_type": "markdown",
   "metadata": {},
   "source": [
    "## LOAD AERONET DATA\n",
    "\n",
    "AERONET data are read with `reader`. This program can read AERONET files with extentions `*.all` and `*.lev15`."
   ]
  },
  {
   "cell_type": "code",
   "execution_count": null,
   "metadata": {},
   "outputs": [],
   "source": [
    "aeronet_wildcard = (aeronet_dir /  '*Granada.all').absolute().as_posix()\n",
    "header, aeronet = reader(aeronet_wildcard)"
   ]
  },
  {
   "cell_type": "code",
   "execution_count": null,
   "metadata": {},
   "outputs": [],
   "source": [
    "#This is the header of the file\n",
    "header"
   ]
  },
  {
   "cell_type": "code",
   "execution_count": null,
   "metadata": {},
   "outputs": [],
   "source": [
    "#Available variables\n",
    "[*aeronet.columns]"
   ]
  },
  {
   "attachments": {},
   "cell_type": "markdown",
   "metadata": {},
   "source": [
    "## Plot AOD time series"
   ]
  },
  {
   "cell_type": "code",
   "execution_count": null,
   "metadata": {},
   "outputs": [],
   "source": [
    "#------------------------------------------------------------------------------------------------------------------------------\n",
    "# properties2plot = ['AOD_Coincident_Input[440nm]'] # properties to plot in a same axis\n",
    "properties2plot = 'all' # if 'all' plots the AODs at the available wavelengths in a same axis\n",
    "ylims = (0,0.5) #Y axis limits \n",
    "#------------------------------------------------------------------------------------------------------------------------------\n",
    "if properties2plot == 'all':\n",
    "    properties2plot = [key_ for key_ in aeronet.keys() if key_.find(\"AOD_Coincident_Input\") != -1 and not (aeronet[key_].values == -999).all()]\n",
    "print(properties2plot)\n",
    "_, _, figure_pathname = plot.aod(\n",
    "    aeronet,\n",
    "    header,\n",
    "    properties2plot,\n",
    "    datetime(2023, 1, 1),\n",
    "    datetime(2023, 5, 1),\n",
    "    figure_dir=output_dir,\n",
    "    ylims = ylims,\n",
    ")"
   ]
  },
  {
   "attachments": {},
   "cell_type": "markdown",
   "metadata": {},
   "source": [
    "## Plot Angstrom exponent time series"
   ]
  },
  {
   "cell_type": "code",
   "execution_count": null,
   "metadata": {},
   "outputs": [],
   "source": [
    "#------------------------------------------------------------------------------------------------------------------------------\n",
    "# properties2plot = ['AOD_Coincident_Input[440nm]'] # properties to plot in a same axis\n",
    "properties2plot = 'Angstrom_Exponent_440-870nm_from_Coincident_Input_AOD' # if 'all' plots the AODs at the available wavelengths in a same axis\n",
    "ylims = (0,0.5) #Y axis limits \n",
    "filename= 'ae.png'\n",
    "dpi_fig = 300\n",
    "#------------------------------------------------------------------------------------------------------------------------------\n",
    "\n",
    "fig, axes = plt.subplots(1, 1, figsize=[10, 5])\n",
    "aeronet['Angstrom_Exponent_440-870nm_from_Coincident_Input_AOD'].plot(marker=\"o\", markersize=5, linewidth=0, ax=axes)\n",
    "axes.set_ylabel(\"AE[440-870 nm], [#]\")\n",
    "axes.grid()\n",
    "\n",
    "figure_pathname = output_dir / filename\n",
    "plt.savefig(figure_pathname, dpi=dpi_fig, bbox_inches=\"tight\")"
   ]
  },
  {
   "attachments": {},
   "cell_type": "markdown",
   "metadata": {},
   "source": [
    "## Plot particle size distribution"
   ]
  },
  {
   "cell_type": "code",
   "execution_count": null,
   "metadata": {},
   "outputs": [],
   "source": [
    "#------------------------------------------------------------------------------------------------------------------------------\n",
    "# properties2plot = ['AOD_Coincident_Input[440nm]'] # properties to plot in a same axis\n",
    "date_str = '2023-02-27' # if 'all' plots the AODs at the available wavelengths in a same axis\n",
    "filename= 'psd.png'\n",
    "type_distribution='volume'\n",
    "fig_size = (8,6)\n",
    "dpi_fig = 300\n",
    "#------------------------------------------------------------------------------------------------------------------------------\n",
    "\n",
    "fig, axes, figurepath = plot.distribution(aeronet, date_str,type_distribution=type_distribution, fig_size=fig_size, dpi=dpi_fig,figure_dir=output_dir)\n"
   ]
  },
  {
   "cell_type": "code",
   "execution_count": null,
   "metadata": {},
   "outputs": [],
   "source": []
  }
 ],
 "metadata": {
  "kernelspec": {
   "display_name": "Python 3 (ipykernel)",
   "language": "python",
   "name": "python3"
  },
  "language_info": {
   "codemirror_mode": {
    "name": "ipython",
    "version": 3
   },
   "file_extension": ".py",
   "mimetype": "text/x-python",
   "name": "python",
   "nbconvert_exporter": "python",
   "pygments_lexer": "ipython3",
   "version": "3.10.6"
  },
  "vscode": {
   "interpreter": {
    "hash": "b61302ffc4db2b0d20d7b3dd013251e47470a855f96363bc85fea0bcdb0e9ea0"
   }
  }
 },
 "nbformat": 4,
 "nbformat_minor": 2
}

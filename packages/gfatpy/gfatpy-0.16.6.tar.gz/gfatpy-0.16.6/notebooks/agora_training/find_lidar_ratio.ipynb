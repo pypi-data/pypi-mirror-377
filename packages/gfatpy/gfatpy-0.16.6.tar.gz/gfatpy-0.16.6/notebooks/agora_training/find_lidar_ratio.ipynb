{
 "cells": [
  {
   "cell_type": "markdown",
   "metadata": {},
   "source": [
    "# Find lidar ratio\n",
    "\n",
    "This code helps you to find the lidar ratio by means of the comparison of the lidar and sun-photometer AOD. If you are not confident in Python, don't worry! You only need to make modifications to the statements found as follows:\n",
    "\n",
    "#------------------------------------------------------------------------------------------------------------------------------\n",
    "\n",
    "         Modify ONLY within here\n",
    "#------------------------------------------------------------------------------------------------------------------------------\n",
    "\n",
    "Important:\n",
    "- A recurring error may be that paths are specified with '\\\\' as the folder separator, while the Python language uses '\\\\\\\\' (double).\n",
    "- It is also recommended to run the cells one by one, and not to re-run a cell while it is executing (the software may hang). If while a cell is running, any changes are made to the code in that cell and we want to re-run it, we should wait for it to finish or restart the kernels.\n",
    "- If desired, you can play with the rest of the code."
   ]
  },
  {
   "cell_type": "markdown",
   "metadata": {},
   "source": [
    "## IMPORTING LIBRARIES AND SPECIFYING PATHS\n",
    "\n",
    "First, we need to import the necessary libraries. In case any of the modules are not found when running, install the module using:\n",
    "\n",
    "#------------------------------------------------------------------------------------------------------------------------------\n",
    "\n",
    "    !pip install <module_name>\n",
    "#------------------------------------------------------------------------------------------------------------------------------\n"
   ]
  },
  {
   "cell_type": "code",
   "execution_count": 1,
   "metadata": {},
   "outputs": [],
   "source": [
    "from pathlib import Path\n",
    "import datetime as dt\n",
    "import numpy as np #For general mathematical calculations\n",
    "import matplotlib.pyplot as plt #For plotting\n",
    "\n",
    "#For working with lidar products (developed by the Atmospheric Physics Group of the UGR, GFAT)\n",
    "from gfatpy.lidar.preprocessing import preprocess\n",
    "from gfatpy.lidar.plot.quicklook import quicklook_xarray\n",
    "from gfatpy.utils.plot import font_axes\n",
    "from gfatpy.atmo.ecmwf import get_ecmwf_temperature_pressure\n",
    "from gfatpy.atmo.freudenthaler_molecular_properties import molecular_properties\n",
    "from gfatpy.lidar.utils import refill_overlap, signal_to_rcs\n",
    "from gfatpy.lidar.retrieval.klett import find_lidar_ratio\n",
    "from gfatpy.aeronet.reader import reader, header\n",
    "from gfatpy.aeronet.utils import find_aod\n",
    "from gfatpy.utils.utils import numpy_to_datetime\n",
    "%load_ext autoreload\n",
    "%autoreload 2\n",
    "\n",
    "%matplotlib inline"
   ]
  },
  {
   "cell_type": "markdown",
   "metadata": {},
   "source": [
    "In the next cell, we define the directory where the lidar measurement files are located and the directory where we want to save the graphs."
   ]
  },
  {
   "cell_type": "code",
   "execution_count": 2,
   "metadata": {},
   "outputs": [
    {
     "data": {
      "text/plain": [
       "(False, False)"
      ]
     },
     "execution_count": 2,
     "metadata": {},
     "output_type": "execute_result"
    }
   ],
   "source": [
    "#------------------------------------------------------------------------------------------------------------------------------\n",
    "lidar_dir = Path(r'C:\\Users\\Usuario\\Mi unidad\\04. Proyectos\\ATMO-ACCESS\\curso\\data\\lidar')  #Database folder path, until '\\1a' (included). Example: 'C:\\\\Users\\\\user\\\\Desktop\\\\data\\\\1a'\n",
    "lidar_dir = Path(r'C:\\Users\\Usuario\\Documents\\gitlab\\gfatpy\\tests\\datos\\ALHAMBRA\\1a\\2023\\02\\22')\n",
    "aeronet_dir = Path(r'C:\\Users\\Usuario\\Mi unidad\\04. Proyectos\\ATMO-ACCESS\\curso\\data\\aeronet')  #Database folder path, until '\\1a' (included). Example: 'C:\\\\Users\\\\user\\\\Desktop\\\\data\\\\1a'\n",
    "output_dir = Path(r'C:\\Users\\Usuario\\Mi unidad\\04. Proyectos\\ATMO-ACCESS\\curso\\output')  #Output folder path. Example: ''C:\\\\Users\\\\user\\\\Desktop\\\\output''\n",
    "#------------------------------------------------------------------------------------------------------------------------------\n",
    "\n",
    "lidar_dir.is_dir(), output_dir.is_dir() #Comprueba que ambas carpetas existen.\n"
   ]
  },
  {
   "cell_type": "markdown",
   "metadata": {},
   "source": [
    "## LOAD AERONET DATA\n",
    "\n",
    "AERONET data are read with `reader`. This program can read AERONET files with extentions `*.all` and `*.lev15`."
   ]
  },
  {
   "cell_type": "code",
   "execution_count": null,
   "metadata": {},
   "outputs": [],
   "source": [
    "aeronet_wildcard = (aeronet_dir /  '*Granada.all').absolute().as_posix()\n",
    "aeronet_header, aeronet = reader(aeronet_wildcard)"
   ]
  },
  {
   "cell_type": "code",
   "execution_count": null,
   "metadata": {},
   "outputs": [],
   "source": [
    "aeronet_header"
   ]
  },
  {
   "cell_type": "markdown",
   "metadata": {},
   "source": [
    "## Read lidar data\n"
   ]
  },
  {
   "cell_type": "code",
   "execution_count": null,
   "metadata": {},
   "outputs": [],
   "source": [
    "#------------------------------------------------------------------------------------------------------------------------------\n",
    "RS_FL = lidar_dir / 'alh_1a_Prs_rs_xf_20230222.nc' #lidar file\n",
    "range_tuple = (0, 10000.0) #Range range to be used\n",
    "#------------------------------------------------------------------------------------------------------------------------------\n",
    "\n",
    "#Load and preprocess and range selection \n",
    "whole_lidar = preprocess(RS_FL, crop_ranges=range_tuple)"
   ]
  },
  {
   "cell_type": "code",
   "execution_count": null,
   "metadata": {},
   "outputs": [],
   "source": [
    "#------------------------------------------------------------------------------------------------------------------------------\n",
    "time_tuple = ('2023-02-22 11:00:00', '2023-02-22 13:40:00') #Time range to be used\n",
    "#------------------------------------------------------------------------------------------------------------------------------\n",
    "\n",
    "#time selection from lidar data\n",
    "lidar = whole_lidar.sel(time=slice(*time_tuple))\n",
    "\n",
    "#Dataset rolling (from now on each profile is 30min average)\n",
    "lidar = lidar.rolling(time=30).mean()"
   ]
  },
  {
   "cell_type": "code",
   "execution_count": null,
   "metadata": {},
   "outputs": [],
   "source": [
    "#------------------------------------------------------------------------------------------------------------------------------\n",
    "channels = ['532fta']\n",
    "allowed_time_gap_hour = 3 #Time gap between the time when the AERONET AOD was measured and the lidar profile\n",
    "reference_range = (7000, 8000)\n",
    "#-----------------------------------------------------------------------------------------------------------------------------\n",
    "\n",
    "range_array = lidar.range.values\n",
    "\n",
    "lr = {}\n",
    "\n",
    "for channel_ in channels:\n",
    "    lr[channel_] = np.nan*np.ones(len(lidar.time))\n",
    "    # Wavelength\n",
    "    wavelength = int(channel_[:-3])\n",
    "    \n",
    "    lr[wavelength] = []\n",
    "    for idx, time_ in enumerate(lidar.time):                \n",
    "        \n",
    "        #Profile\n",
    "        rcs = signal_to_rcs(lidar[f'signal_{channel_}'].sel(time=time_), lidar.range).values\n",
    "\n",
    "        if not np.isnan(rcs).all():\n",
    "\n",
    "            #Convert time\n",
    "            dt_time_ = numpy_to_datetime(time_.values)\n",
    "\n",
    "            measured_aod, measured_datetime = find_aod(aeronet_header, aeronet, target_wavelength = wavelength, target_datetime=dt_time_, allowed_time_gap_hour=allowed_time_gap_hour)\n",
    "\n",
    "            if measured_aod != None:\n",
    "\n",
    "                #ECMWF      \n",
    "                date_str =  dt_time_.strftime(\"%Y%m%d\") #lidar file\n",
    "                hour = int(dt_time_.strftime('%H'))\n",
    "\n",
    "                #Read ECMWF data\n",
    "                atmo = get_ecmwf_temperature_pressure(date_str, hour=hour, heights=range_array)\n",
    "\n",
    "                #Retrieve molecular properties at elastic wavelengths     \n",
    "                from pdb import set_trace\n",
    "\n",
    "                mol_properties = molecular_properties(\n",
    "                        wavelength, atmo[\"pressure\"].values, atmo[\"temperature\"].values, heights=lidar.range\n",
    "                    )\n",
    "\n",
    "                #Beta mol\n",
    "                beta_mol = mol_properties['molecular_beta'].values\n",
    "                lr_mol = mol_properties['molecular_lidar_ratio'].item()\n",
    "\n",
    "                #Find lidar ratio\n",
    "                lr_, rel_diff_aod, success = find_lidar_ratio(rcs, \n",
    "                                                                              range_array, \n",
    "                                                                              beta_mol, \n",
    "                                                                              lr_mol,\n",
    "                                                                              measured_aod, \n",
    "                                                                              **{'reference':reference_range}, \n",
    "                                                                              debugging=False)\n",
    "                lr[wavelength].append(lr_)\n",
    "                print([wavelength, lr_, rel_diff_aod, success])\n",
    "            else: \n",
    "                print('Not AOD found.')\n",
    "    \n",
    "LR = xr.Dataset()\n",
    "for channel_ in channels:\n",
    "    LR['channel_'] =  xr.DataArray(lr[channel_], dims=['time'], coords={'time': profile_time})\n",
    "\n",
    "lr_filepath = output_dir / f'lr_{datestr}.nc'\n",
    "LR.to_netcdf(lr_filepath)"
   ]
  },
  {
   "cell_type": "code",
   "execution_count": null,
   "metadata": {},
   "outputs": [],
   "source": []
  }
 ],
 "metadata": {
  "kernelspec": {
   "display_name": "Python 3 (ipykernel)",
   "language": "python",
   "name": "python3"
  },
  "language_info": {
   "codemirror_mode": {
    "name": "ipython",
    "version": 3
   },
   "file_extension": ".py",
   "mimetype": "text/x-python",
   "name": "python",
   "nbconvert_exporter": "python",
   "pygments_lexer": "ipython3",
   "version": "3.10.5"
  }
 },
 "nbformat": 4,
 "nbformat_minor": 4
}

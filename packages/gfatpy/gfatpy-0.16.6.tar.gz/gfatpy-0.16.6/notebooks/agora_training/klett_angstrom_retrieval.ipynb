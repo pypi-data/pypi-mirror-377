{
 "cells": [
  {
   "attachments": {},
   "cell_type": "markdown",
   "metadata": {},
   "source": [
    "# Klett inversion and Angstrom exponent retrieval\n",
    "\n",
    "This code helps you to retrieve and plot lidar products. If you are not confident in Python, don't worry! You only need to make modifications to the statements found as follows:\n",
    "\n",
    "#------------------------------------------------------------------------------------------------------------------------------\n",
    "\n",
    "         Modify ONLY within here\n",
    "#------------------------------------------------------------------------------------------------------------------------------\n",
    "\n",
    "Important:\n",
    "- A recurring error may be that paths are specified with '\\\\' as the folder separator, while the Python language uses '\\\\\\\\' (double).\n",
    "- It is also recommended to run the cells one by one, and not to re-run a cell while it is executing (the software may hang). If while a cell is running, any changes are made to the code in that cell and we want to re-run it, we should wait for it to finish or restart the kernels.\n",
    "- If desired, you can play with the rest of the code."
   ]
  },
  {
   "attachments": {},
   "cell_type": "markdown",
   "metadata": {},
   "source": [
    "## IMPORTING LIBRARIES AND SPECIFYING PATHS\n",
    "\n",
    "First, we need to import the necessary libraries. In case any of the modules are not found when running, install the module using:\n",
    "\n",
    "#------------------------------------------------------------------------------------------------------------------------------\n",
    "\n",
    "    !pip install <module_name>\n",
    "#------------------------------------------------------------------------------------------------------------------------------\n"
   ]
  },
  {
   "cell_type": "code",
   "execution_count": null,
   "metadata": {},
   "outputs": [],
   "source": [
    "from pathlib import Path\n",
    "\n",
    "import numpy as np #For general mathematical calculations\n",
    "import matplotlib.pyplot as plt #For plotting\n",
    "from scipy import integrate\n",
    "from scipy.signal import savgol_filter #Allows to smooth a profile through the Savitzky-Golay filter\n",
    "\n",
    "#For working with lidar products (developed by the Atmospheric Physics Group of the UGR, GFAT)\n",
    "from gfatpy.lidar.preprocessing import preprocess\n",
    "from gfatpy.lidar.retrieval.klett import klett_rcs\n",
    "from gfatpy.atmo.ecmwf import get_ecmwf_temperature_pressure\n",
    "from gfatpy.atmo.freudenthaler_molecular_properties import molecular_properties\n",
    "from gfatpy.lidar.utils import refill_overlap, signal_to_rcs\n",
    "from gfatpy.lidar.plot.quicklook import quicklook_xarray\n",
    "from gfatpy.utils.plot import font_axes\n",
    "\n",
    "%load_ext autoreload\n",
    "%autoreload 2\n",
    "\n",
    "%matplotlib inline"
   ]
  },
  {
   "attachments": {},
   "cell_type": "markdown",
   "metadata": {},
   "source": [
    "In the next cell, we define the directory where the lidar measurement files are located and the directory where we want to save the graphs."
   ]
  },
  {
   "cell_type": "code",
   "execution_count": null,
   "metadata": {},
   "outputs": [],
   "source": [
    "#------------------------------------------------------------------------------------------------------------------------------\n",
    "lidar_dir = Path(r'C:\\Users\\Usuario\\Mi unidad\\04. Proyectos\\ATMO-ACCESS\\curso\\data\\lidar')  #Database folder path, until '\\1a' (included). Example: 'C:\\\\Users\\\\user\\\\Desktop\\\\data\\\\1a'\n",
    "lidar_dir = Path(r'C:\\Users\\Usuario\\Documents\\gitlab\\gfatpy\\tests\\datos\\ALHAMBRA\\1a\\2023\\02\\22')\n",
    "output_dir = Path(r'C:\\Users\\Usuario\\Mi unidad\\04. Proyectos\\ATMO-ACCESS\\curso\\output')  #Output folder path. Example: ''C:\\\\Users\\\\user\\\\Desktop\\\\output''\n",
    "#------------------------------------------------------------------------------------------------------------------------------\n",
    "\n",
    "lidar_dir.is_dir(), output_dir.is_dir() #Comprueba que ambas carpetas existen.\n"
   ]
  },
  {
   "attachments": {},
   "cell_type": "markdown",
   "metadata": {},
   "source": [
    "## Read lidar data\n"
   ]
  },
  {
   "cell_type": "code",
   "execution_count": null,
   "metadata": {},
   "outputs": [],
   "source": [
    "#------------------------------------------------------------------------------------------------------------------------------\n",
    "RS_FL = lidar_dir / 'alh_1a_Prs_rs_xf_20230222.nc' #lidar file\n",
    "range_tuple = (0, 10000.0) #Range range to be used\n",
    "#------------------------------------------------------------------------------------------------------------------------------\n",
    "\n",
    "#Load and preprocess and range selection \n",
    "whole_lidar = preprocess(RS_FL, crop_ranges=range_tuple)\n"
   ]
  },
  {
   "attachments": {},
   "cell_type": "markdown",
   "metadata": {},
   "source": [
    "**KEEP IN MIND**: Do not change the range dimension of the lidar dataset from here"
   ]
  },
  {
   "attachments": {},
   "cell_type": "markdown",
   "metadata": {},
   "source": [
    "## ECMWF data and optical molecular properties\n",
    "ECMWF data will be used to retrieve the optical molecular properties such as:\n",
    "1. Molecular backscatter coefficient\n",
    "1. Molecular extinction coefficient\n",
    "1. Molecular lidar ratio"
   ]
  },
  {
   "cell_type": "code",
   "execution_count": null,
   "metadata": {},
   "outputs": [],
   "source": [
    "#------------------------------------------------------------------------------------------------------------------------------\n",
    "date_str = '2023-02-22' #lidar file\n",
    "hour = 12\n",
    "range_array = whole_lidar.range #ECMWF data will be interpolated to lidar range\n",
    "#------------------------------------------------------------------------------------------------------------------------------\n",
    "\n",
    "#Read ECMWF data\n",
    "atmo = get_ecmwf_temperature_pressure(date_str, hour=hour, heights=range_array)\n",
    "atmo"
   ]
  },
  {
   "attachments": {},
   "cell_type": "markdown",
   "metadata": {},
   "source": [
    "## Optical molecular properties\n",
    "Retrieve molecular properties at wavelengths decided by the user"
   ]
  },
  {
   "cell_type": "code",
   "execution_count": null,
   "metadata": {},
   "outputs": [],
   "source": [
    "#------------------------------------------------------------------------------------------------------------------------------\n",
    "channels = ['1064fta', '532fta', '355fpa', '355npa', '532npa']\n",
    "#------------------------------------------------------------------------------------------------------------------------------\n",
    "\n",
    "#Retrieve molecular properties at elastic wavelengths\n",
    "mol_properties = {}\n",
    "for channel_ in channels:\n",
    "    # Wavelength\n",
    "    wavelength = int(channel_[:-3])\n",
    "        \n",
    "    mol_properties[channel_] = molecular_properties(\n",
    "        wavelength, atmo[\"pressure\"].values, atmo[\"temperature\"].values, heights=range_array\n",
    "    )\n",
    "\n",
    "mol_properties['1064fta']"
   ]
  },
  {
   "cell_type": "code",
   "execution_count": null,
   "metadata": {},
   "outputs": [],
   "source": [
    "#Save whole lidar dataset\n",
    "quicklook_xarray(whole_lidar['signal_1064fta'], is_rcs=False, scale_bounds=(0,2e8))\n",
    "plt.ylim(0,8000)\n"
   ]
  },
  {
   "attachments": {},
   "cell_type": "markdown",
   "metadata": {},
   "source": [
    "## Define a time period to average signals"
   ]
  },
  {
   "cell_type": "code",
   "execution_count": null,
   "metadata": {},
   "outputs": [],
   "source": [
    "#------------------------------------------------------------------------------------------------------------------------------\n",
    "time_tuple = ('2023-02-22 11:00:00', '2023-02-22 12:00:00') #Time range to be used\n",
    "#------------------------------------------------------------------------------------------------------------------------------\n",
    "\n",
    "#Define profile time to be averaged.\n",
    "lidar = whole_lidar.sel(time=slice(*time_tuple))\n",
    "\n",
    "#Check chosen period \n",
    "quicklook_xarray(lidar['signal_1064fta'], is_rcs=False, scale_bounds=(0,2e8))\n",
    "plt.ylim(0,8000)\n"
   ]
  },
  {
   "attachments": {},
   "cell_type": "markdown",
   "metadata": {},
   "source": [
    "## Check range-correced signals "
   ]
  },
  {
   "cell_type": "code",
   "execution_count": null,
   "metadata": {},
   "outputs": [],
   "source": [
    "#------------------------------------------------------------------------------------------------------------------------------\n",
    "normalization_range_tuple = (6000,7000) #Time range to be used\n",
    "#------------------------------------------------------------------------------------------------------------------------------\n",
    "\n",
    "fig, ax = plt.subplots(figsize=[8,5])\n",
    "\n",
    "for channel_ in channels:   \n",
    "    # Average the Range-corrected signal at  in the time range defined by time_tuple [commonly 30 min]\n",
    "    rcs = signal_to_rcs(lidar[f'signal_{channel_}'].sel(time=slice(*time_tuple)).mean('time'), lidar.range)\n",
    "    nrcs = rcs/rcs.sel(range=slice(*normalization_range_tuple)).mean('range')\n",
    "    nrcs.plot(label=channel_) # type: ignore\n",
    "plt.yscale('linear')\n",
    "# plt.xlim(0,10000)\n",
    "# #Plotting beta [part]\n",
    "# ax1 = plt.subplot(1,4,1)\n",
    "# ax1.plot(beta_total['355xta'], height, c='b', label='355part')\n",
    "# ax1.plot(beta_total['532xpa'], height, c='green', label='532part')\n",
    "# ax1.plot(beta_total['1064xta'], height, c='red', label='1064part')\n",
    "# ax1.set_xlabel('$\\\\beta_{part}, [m^{-1} \\cdot sr^{-1}]$')\n",
    "plt.ylabel('RCS, [a.u.]')\n",
    "plt.xlabel('Range, [m]')\n",
    "# ax1.set_xlim(-5e-7,1.25e-5)\n",
    "# ax1.set_ylim([0,8000])\n",
    "plt.legend(fontsize='large')"
   ]
  },
  {
   "cell_type": "code",
   "execution_count": null,
   "metadata": {},
   "outputs": [],
   "source": [
    "#------------------------------------------------------------------------------------------------------------------------------\n",
    "reference_height = (8000, 9000)\n",
    "# channels = KEEP THE SAME AS BEFORE\n",
    "lr_part = {'1064fta': 50, '532fta': 50, '355fpa': 50, '532npa': 50, '355npa': 50} \n",
    "beta_aer_ref = 0 \n",
    "#------------------------------------------------------------------------------------------------------------------------------\n",
    "\n",
    "#Define a dictionary to save the aerosol-particle backscattering coefficients by channels\n",
    "beta_part = {}\n",
    "beta_mol = {}\n",
    "for channel_ in channels:   \n",
    "    # Average the Range-corrected signal at  in the time range defined by time_tuple [commonly 30 min]\n",
    "    rcs = signal_to_rcs(lidar[f'signal_{channel_}'].mean('time'), lidar.range)\n",
    "    \n",
    "    # Wavelength\n",
    "    wavelength = channel_[:-3]\n",
    "        \n",
    "    #Beta mol\n",
    "    beta_mol[channel_] = mol_properties[channel_]['molecular_beta']\n",
    "    \n",
    "    # Retrieve aerosol-particle backscattering coefficient\n",
    "    beta_part[channel_] = klett_rcs(rcs.values, \n",
    "                                      rcs.range.values, \n",
    "                                      beta_mol[channel_],\n",
    "                                      lr_aer = lr_part[channel_],                                       \n",
    "                                      reference = reference_height,\n",
    "                                      beta_aer_ref = beta_aer_ref\n",
    "                                     )"
   ]
  },
  {
   "cell_type": "code",
   "execution_count": null,
   "metadata": {},
   "outputs": [],
   "source": [
    "#------------------------------------------------------------------------------------------------------------------------------\n",
    "fulloverlap_height = 600\n",
    "#------------------------------------------------------------------------------------------------------------------------------\n",
    "\n",
    "#Define a dictionary to save the aerosol-particle extinction coefficients by channels\n",
    "alpha_part ={}\n",
    "aod = {}\n",
    "od_total = {}\n",
    "beta_total = {}\n",
    "att_beta_total = {}\n",
    "\n",
    "for channel_ in channels:       \n",
    "    # Wavelength\n",
    "    wavelength = int(channel_[:-3])\n",
    "\n",
    "    # Retrieve extinction profile\n",
    "    alpha_part[channel_] = beta_part[channel_]*lr_part[channel_]\n",
    "    \n",
    "    # Retrieve AOD\n",
    "        #Set to zero the part of the extinction profile below the overlap height\n",
    "    alpha_part[channel_] = refill_overlap(alpha_part[channel_], lidar.range.values, fulloverlap_height=fulloverlap_height)\n",
    "        \n",
    "        #Retrieve resolution\n",
    "    resolution = np.median(np.diff(lidar.range.values)).item()\n",
    "\n",
    "        #Retrieve AOD\n",
    "    aod[channel_] = integrate.cumtrapz(alpha_part[channel_], dx=resolution, initial=0)\n",
    "\n",
    "        #Retrieve OD\n",
    "    alpha_mol = mol_properties[channel_]['molecular_alpha']\n",
    "    od_total[channel_] = integrate.cumtrapz((alpha_part[channel_]+alpha_mol), dx=resolution, initial=0)\n",
    "\n",
    "    # Retrieve total backscattering coefficient (mol + part)\n",
    "    beta_total[channel_] = beta_part[channel_]+beta_mol[channel_]\n",
    "    \n",
    "    # Retrieve attenuated total backscattering coefficient \n",
    "    att_beta_total[channel_] = beta_total[channel_]*np.exp(-2*od_total[channel_])\n",
    "    "
   ]
  },
  {
   "attachments": {},
   "cell_type": "markdown",
   "metadata": {},
   "source": [
    "## Angstrom exponent retrieval\n",
    "\n",
    "Angstrom exponent provides the spectral dependence of the aerosol-particle backscattering coefficient as follows:\n",
    "\\begin{equation}\n",
    "AE[\\lambda_1, \\lambda_2] = - \\frac{ln \\left(\\frac{\\beta_1}{\\beta_2} \\right)}{ln \\left(\\frac{\\lambda_1}{\\lambda_2} \\right)}\n",
    "\\end{equation}"
   ]
  },
  {
   "cell_type": "code",
   "execution_count": null,
   "metadata": {},
   "outputs": [],
   "source": [
    "# Channels\n",
    "for channel_ in channels:\n",
    "    beta_part[channel_] = refill_overlap(beta_part[channel_], lidar.range.values, fulloverlap_height=fulloverlap_height)\n",
    "\n",
    "# Retrieval Agnstrom exponent\n",
    "ae355_532 = -np.log(beta_part['532npa']/beta_part['355npa'])/np.log(532/355)\n",
    "ae532_1064 = -np.log(beta_part['1064fta']/beta_part['532fta'])/np.log(1064/532)\n",
    "ae355_1064 = -np.log(beta_part['1064fta']/beta_part['355fpa'])/np.log(1064/355)\n",
    "\n",
    "#Retrieve AE for beta larger than a threshold\n",
    "backscattering_ratio_532 = beta_total['532fta'] / beta_mol['532fta']\n",
    "ae355_532 [backscattering_ratio_532<1.2] = np.nan\n",
    "ae532_1064 [backscattering_ratio_532<1.2] = np.nan\n",
    "ae355_1064 [backscattering_ratio_532<1.2] = np.nan"
   ]
  },
  {
   "attachments": {},
   "cell_type": "markdown",
   "metadata": {},
   "source": [
    "## Plot profiles"
   ]
  },
  {
   "cell_type": "code",
   "execution_count": null,
   "metadata": {},
   "outputs": [],
   "source": [
    "height = lidar.range\n",
    "\n",
    "\n",
    "fig, ax = plt.subplots(figsize=[15,10])\n",
    "#Plotting beta [part]\n",
    "ax1 = plt.subplot(1,3,1)\n",
    "ax1.plot(beta_part['355fpa'], height, c='b', label='355part')\n",
    "ax1.plot(beta_part['355npa'], height, c='lightblue', label='355part-nf')\n",
    "ax1.plot(beta_part['532fta'], height, c='green', label='532part')\n",
    "ax1.plot(beta_part['532npa'], height, c='green', label='532part-nf')\n",
    "ax1.plot(beta_part['1064fta'], height, c='red', label='1064part')\n",
    "ax1.set_xlabel('$\\\\beta_{part}, [m^{-1} \\cdot sr^{-1}]$')\n",
    "ax1.set_ylabel('Range, [m agl]')\n",
    "ax1.set_xlim(-5e-7,5e-6)\n",
    "ax1.set_ylim(0,8000)\n",
    "ax1.legend(fontsize='small', loc='upper right')\n",
    "\n",
    "#Plotting beta [mol and total]\n",
    "ax2 = plt.subplot(1,3,2)\n",
    "ax2.plot(beta_total['355fpa'], height, c='b', label='355total')\n",
    "ax2.plot(beta_total['355npa'], height, c='violet', label='355total-nf')\n",
    "ax2.plot(beta_mol['355fpa'], height, c='lightblue', lw=3, label='355mol')\n",
    "ax2.plot(beta_total['532fta'], height, c='green', label='532total')\n",
    "ax2.plot(beta_mol['532fta'], height, c='lightgreen', lw=3, label='532mol')\n",
    "ax2.plot(beta_total['1064fta'], height, c='red', label='1064total')\n",
    "ax2.plot(beta_mol['1064fta'], height, c='pink', lw=3, label='1064mol')\n",
    "ax2.set_xlabel('$\\\\beta_{aer}, [m^{-1}\\cdot sr^{-1}]$')\n",
    "ax2.set_xlim(-5e-7,1.25e-5)\n",
    "ax2.set_ylim(0,8000)\n",
    "ax2.set_yticklabels([])\n",
    "ax2.legend(fontsize='small', loc='upper right')\n",
    "\n",
    "#Plotting AE\n",
    "ax3 = plt.subplot(1,3,3)\n",
    "ax3.plot(ae355_532, height, c='r', label='355-532 nm - nf')\n",
    "ax3.plot(ae532_1064, height, c='b', label='532-1064 nm')\n",
    "ax3.plot(ae355_1064, height, c='g', label='355-1064 nm')\n",
    "ax3.set_xlim(-0.5,4)\n",
    "ax3.set_xlabel('$Angs. exp., [\\#]$')\n",
    "ax3.legend(fontsize='small', loc='upper right')\n",
    "ax3.set_ylim(0,8000)\n",
    "ax3.set_yticklabels([])\n",
    "\n",
    "# #Plotting attenuated backscattering coefficients\n",
    "# ax4 = plt.subplot(1,4,4)\n",
    "# ax4.plot(att_beta_total['355xtp'], height, c='b', label='355')\n",
    "# ax4.plot(att_beta_total['532xpa'], height, c='g', label='532')\n",
    "# ax4.plot(att_beta_total['1064xta'], height, c='r', label='1064')\n",
    "# # ax3.set_xlim(-0.5,4)\n",
    "# ax4.legend(fontsize='small', loc='upper right')\n",
    "# ax4.set_xlabel('$\\\\beta_{att}, [m^{-1}\\cdot sr^{-1}]$')\n",
    "# ax4.set_ylim([0,8000])\n",
    "# ax4.set_yticklabels([])\n",
    "# for ax_ in [ax1, ax2, ax3, ax4]:\n",
    "#     font_axes(ax_)"
   ]
  }
 ],
 "metadata": {
  "kernelspec": {
   "display_name": "Python 3 (ipykernel)",
   "language": "python",
   "name": "python3"
  },
  "language_info": {
   "codemirror_mode": {
    "name": "ipython",
    "version": 3
   },
   "file_extension": ".py",
   "mimetype": "text/x-python",
   "name": "python",
   "nbconvert_exporter": "python",
   "pygments_lexer": "ipython3",
   "version": "3.10.6"
  }
 },
 "nbformat": 4,
 "nbformat_minor": 4
}

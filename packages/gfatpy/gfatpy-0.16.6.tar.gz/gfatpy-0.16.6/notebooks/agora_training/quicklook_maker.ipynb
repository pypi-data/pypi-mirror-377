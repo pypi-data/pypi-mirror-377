{
 "cells": [
  {
   "attachments": {},
   "cell_type": "markdown",
   "metadata": {},
   "source": [
    "# Quicklook maker\n",
    "\n",
    "This is the code helps you to plot lidar quicklooks. If you are not confident in Python, don't worry! You only need to make modifications to the statements found as follows:\n",
    "\n",
    "#------------------------------------------------------------------------------------------------------------------------------\n",
    "\n",
    "         Modify ONLY within here\n",
    "#------------------------------------------------------------------------------------------------------------------------------\n",
    "\n",
    "Important:\n",
    "- A recurring error may be that paths are specified with '\\\\' as the folder separator, while the Python language uses '\\\\\\\\' (double).\n",
    "- It is also recommended to run the cells one by one, and not to re-run a cell while it is executing (the software may hang). If while a cell is running, any changes are made to the code in that cell and we want to re-run it, we should wait for it to finish or restart the kernels.\n",
    "- If desired, you can play with the rest of the code."
   ]
  },
  {
   "attachments": {},
   "cell_type": "markdown",
   "metadata": {},
   "source": [
    "## IMPORTING LIBRARIES AND SPECIFYING PATHS\n",
    "\n",
    "First, we need to import the necessary libraries. In case any of the modules are not found when running, install the module using:\n",
    "\n",
    "#------------------------------------------------------------------------------------------------------------------------------\n",
    "\n",
    "    !pip install <module_name>\n",
    "#------------------------------------------------------------------------------------------------------------------------------\n"
   ]
  },
  {
   "cell_type": "code",
   "execution_count": null,
   "metadata": {},
   "outputs": [],
   "source": [
    "from pathlib import Path\n",
    "\n",
    "import numpy as np #For general mathematical calculations\n",
    "import matplotlib.pyplot as plt #For plotting\n",
    "from scipy.signal import savgol_filter #Allows to smooth a profile through the Savitzky-Golay filter\n",
    "import xarray as xr\n",
    "\n",
    "#For working with lidar products (developed by the Atmospheric Physics Group of the UGR, GFAT)\n",
    "from gfatpy.lidar.preprocessing import preprocess\n",
    "from gfatpy.lidar.plot.quicklook import quicklook_xarray\n",
    "from gfatpy.utils.plot import font_axes\n",
    "\n",
    "%load_ext autoreload\n",
    "%autoreload 2\n",
    "\n",
    "%matplotlib inline"
   ]
  },
  {
   "attachments": {},
   "cell_type": "markdown",
   "metadata": {},
   "source": [
    "In the next cell, we define the directory where the lidar measurement files are located and the directory where we want to save the graphs."
   ]
  },
  {
   "cell_type": "code",
   "execution_count": null,
   "metadata": {},
   "outputs": [],
   "source": [
    "#------------------------------------------------------------------------------------------------------------------------------\n",
    "lidar_dir = Path(r'C:\\Users\\Usuario\\Mi unidad\\04. Proyectos\\ATMO-ACCESS\\curso\\data\\lidar')  #Database folder path, until '\\1a' (included). Example: 'C:\\\\Users\\\\user\\\\Desktop\\\\data\\\\1a'\n",
    "lidar_dir = Path(r'C:\\Users\\Usuario\\Documents\\gitlab\\gfatpy\\tests\\datos\\ALHAMBRA\\1a\\2023\\02\\22')\n",
    "output_dir = Path(r'C:\\Users\\Usuario\\Mi unidad\\04. Proyectos\\ATMO-ACCESS\\curso\\output')  #Output folder path. Example: ''C:\\\\Users\\\\user\\\\Desktop\\\\output''\n",
    "#------------------------------------------------------------------------------------------------------------------------------\n",
    "\n",
    "lidar_dir.is_dir(), output_dir.is_dir() #Comprueba que ambas carpetas existen.\n"
   ]
  },
  {
   "attachments": {},
   "cell_type": "markdown",
   "metadata": {},
   "source": [
    "**TIME SERIES OF RANGE-CORRECTED SIGNAL WITH VERTICAL RESOLUTION**\n",
    "\n",
    "We **plot the time series with vertical resolution (commonly known as 'quicklooks')** of the lidar measurement data. In our case, we represent the value of the range-corrected signal (RCS) measured in a specific channel (indicated in the graph title). The different channels are:\n",
    "- 355xta (total signal at 355 nm)\n",
    "- 532xca; 532xda; 532xpa; 532xpp (signals discriminating polarization at 532 nm, which will be used in another practice)\n",
    "- 532xta (total signal at 532 nm) **We will work with the total component of the 532 nm channel in this practice**\n",
    "- 1064xta (total signal at 1064 nm)\n",
    "\n",
    "The function `date_quicklook()` will plot the quicklooks of the selected channels for a period specified by `ini_date` and `end_date`. In our case, we are working with a single day, so `end_date` = `ini_date`. The quicklooks will be automatically saved in the folder specified by `qlpath`, using the format used in the database of the Atmospheric Physics group at UGR. The process takes some time, and some of the comments may appear in French. The comments displayed on this tab are not relevant unless they indicate an error that interrupts the flow."
   ]
  },
  {
   "cell_type": "code",
   "execution_count": null,
   "metadata": {},
   "outputs": [],
   "source": [
    "#------------------------------------------------------------------------------------------------------------------------------\n",
    "RS_FL = lidar_dir / 'alh_1a_Prs_rs_xf_20230222.nc' #lidar file\n",
    "#------------------------------------------------------------------------------------------------------------------------------\n",
    "\n",
    "lidar = preprocess(RS_FL)"
   ]
  },
  {
   "cell_type": "code",
   "execution_count": null,
   "metadata": {},
   "outputs": [],
   "source": [
    "#------------------------------------------------------------------------------------------------------------------------------\n",
    "qlpath = output_dir / 'quicklooks' #Output quicklook folder path. It is suggested to mantain the proposed path\n",
    "channels = ['1064fta', '532fta'] #Channels to be used\n",
    "bar_limits = {\"1064fta\": (0,2e8), '532fta': (0,2e7)} \n",
    "time_tuple = ('2023-02-22 11:00:00', '2023-02-22 18:00:00') #Time range to be used\n",
    "range_tuple = (0, 10000.0) #Range range to be used\n",
    "save_fig = False #If True, the quicklook will be saved in the output folder\n",
    "dpi_fig = 300 #DPI of the quicklook\n",
    "#------------------------------------------------------------------------------------------------------------------------------\n",
    "\n",
    "#To plot a given time period or height range uncomment\n",
    "#------------------------------------------------------------------------------------------------------------------------------\n",
    "# lidar = lidar.sel(time=slice(*time_tuple), range=slice(*range_tuple))\n",
    "#------------------------------------------------------------------------------------------------------------------------------\n",
    "\n",
    "#Create the output folder if it does not exist\n",
    "qlpath.mkdir(parents=True, exist_ok=True)\n",
    "\n",
    "#quicklook plot\n",
    "for channel_ in channels:\n",
    "    if channel_ in lidar.channel.values:\n",
    "        fig, ax = quicklook_xarray(lidar[f'signal_{channel_}'], is_rcs=False, scale_bounds=bar_limits[channel_])\n",
    "        ax.set_ylim(0,8000)\n",
    "        plt.show()\n",
    "        if save_fig:\n",
    "            figurepath = qlpath / f'{channel_}_quicklook.png'\n",
    "            fig.savefig(figurepath.absolute().as_posix(), dpi=dpi_fig)\n",
    "    else:\n",
    "        print('Channel not found.')\n"
   ]
  }
 ],
 "metadata": {
  "kernelspec": {
   "display_name": "Python 3 (ipykernel)",
   "language": "python",
   "name": "python3"
  },
  "language_info": {
   "codemirror_mode": {
    "name": "ipython",
    "version": 3
   },
   "file_extension": ".py",
   "mimetype": "text/x-python",
   "name": "python",
   "nbconvert_exporter": "python",
   "pygments_lexer": "ipython3",
   "version": "3.10.6"
  },
  "vscode": {
   "interpreter": {
    "hash": "b61302ffc4db2b0d20d7b3dd013251e47470a855f96363bc85fea0bcdb0e9ea0"
   }
  }
 },
 "nbformat": 4,
 "nbformat_minor": 2
}

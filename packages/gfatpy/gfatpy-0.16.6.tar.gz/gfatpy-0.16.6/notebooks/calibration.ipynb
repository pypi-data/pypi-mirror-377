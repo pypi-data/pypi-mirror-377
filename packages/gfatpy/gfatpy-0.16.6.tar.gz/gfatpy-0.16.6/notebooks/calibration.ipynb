{
 "cells": [
  {
   "cell_type": "code",
   "execution_count": null,
   "id": "b7a66d86",
   "metadata": {},
   "outputs": [],
   "source": [
    "from datetime import datetime\n",
    "\n",
    "import numpy as np\n",
    "import xarray as xr\n",
    "import matplotlib.pyplot as plt\n",
    "from scipy.ndimage import uniform_filter\n",
    "from scipy.interpolate import interp1d\n",
    "from scipy.signal import savgol_filter\n",
    "\n",
    "from gfatpy.atmo import ecmwf, atmo\n",
    "from gfatpy.lidar.preprocessing import preprocess\n",
    "from gfatpy.lidar.utils import generate_synthetic_signal\n",
    "from gfatpy.lidar.retrieval.helper import RetrievalHelper\n",
    "from gfatpy.lidar.plot.quicklook import quicklook_xarray\n",
    "from gfatpy.utils import calibration, utils\n",
    "\n",
    "%load_ext autoreload\n",
    "%autoreload 2\n",
    "\n",
    "%matplotlib inline"
   ]
  },
  {
   "cell_type": "code",
   "execution_count": null,
   "id": "5faa169f",
   "metadata": {},
   "outputs": [],
   "source": [
    "calibration.split_continous_measurements()"
   ]
  },
  {
   "cell_type": "markdown",
   "id": "5f0af6aa",
   "metadata": {},
   "source": [
    "### Load lidar data"
   ]
  },
  {
   "cell_type": "code",
   "execution_count": null,
   "id": "b106ac82",
   "metadata": {},
   "outputs": [],
   "source": [
    "RS_FL = r\"../tests/datos/MULHACEN/1a/2021/07/05/*Prs*.nc\"\n",
    "DC_FL = r\"../tests/datos/MULHACEN/1a/2021/07/05/*Pdc*.nc\"\n",
    "\n",
    "lidar = preprocess(\n",
    "    rs_fl=RS_FL,\n",
    "    dc_fl=DC_FL,\n",
    "    channels=[\"532xpa\"],\n",
    "    deadtime_flag=False,\n",
    "    save_bg=True\n",
    ")"
   ]
  },
  {
   "cell_type": "code",
   "execution_count": null,
   "id": "5a2b3ba1",
   "metadata": {},
   "outputs": [],
   "source": [
    "lidar.bg_532xpa.values"
   ]
  },
  {
   "cell_type": "markdown",
   "id": "4e175b2f",
   "metadata": {},
   "source": [
    "### Get temperature and pressure profiles"
   ]
  },
  {
   "cell_type": "code",
   "execution_count": null,
   "id": "2308839c",
   "metadata": {},
   "outputs": [],
   "source": [
    "atmo_data = ecmwf.get_ecmwf_day(datetime(2022, 7, 5), lidar.time, lidar.range)"
   ]
  },
  {
   "cell_type": "code",
   "execution_count": null,
   "id": "7887d8b2",
   "metadata": {},
   "outputs": [],
   "source": [
    "plt.pcolormesh(lidar.time, lidar.range, atmo_data[\"temperature\"].T)\n",
    "plt.xticks(rotation=45)\n",
    "plt.xlabel(\"Range [m]\")\n",
    "plt.ylabel(\"Time\")\n",
    "\n",
    "bar = plt.colorbar()\n",
    "bar.set_label(\"Temperature[K]\")\n",
    "\n",
    "plt.show()"
   ]
  },
  {
   "cell_type": "code",
   "execution_count": null,
   "id": "a77aaaa7",
   "metadata": {},
   "outputs": [],
   "source": [
    "atmo_2d = calibration.molecular_properties_2d(\n",
    "    \"2022-07-05\",\n",
    "    wavelength=532,\n",
    "    heights=lidar.range,\n",
    "    times=lidar.time\n",
    ")"
   ]
  },
  {
   "cell_type": "code",
   "execution_count": null,
   "id": "bd46775e",
   "metadata": {},
   "outputs": [],
   "source": [
    "plt.pcolormesh(lidar.time, lidar.range, atmo_2d[\"attenuated_molecular_beta\"].T)\n",
    "plt.xticks(rotation=45)\n",
    "plt.xlabel(\"Range [m]\")\n",
    "plt.ylabel(\"Time\")\n",
    "\n",
    "bar = plt.colorbar()\n",
    "bar.set_label(r\"Attenuated molecular beta ($\\beta_{att}$) [$m^{-1}$]\")\n",
    "\n",
    "plt.show()"
   ]
  },
  {
   "cell_type": "markdown",
   "id": "f6ffc085",
   "metadata": {},
   "source": [
    "### Visualization"
   ]
  },
  {
   "cell_type": "code",
   "execution_count": null,
   "id": "6a621a0a",
   "metadata": {},
   "outputs": [],
   "source": [
    "def normalize_to(height: float, profile: np.ndarray):\n",
    "    return profile / profile.sel(range=height, method=\"nearest\")"
   ]
  },
  {
   "cell_type": "code",
   "execution_count": null,
   "id": "e57eda07",
   "metadata": {},
   "outputs": [],
   "source": [
    "rcs = lidar.signal_532xpa[0] * lidar.range**2"
   ]
  },
  {
   "cell_type": "code",
   "execution_count": null,
   "id": "1a55dca5",
   "metadata": {},
   "outputs": [],
   "source": [
    "h = 5000\n",
    "\n",
    "plt.title(\"Rayleigh Fit\")\n",
    "plt.plot(lidar.range, normalize_to(h, atmo_2d[\"attenuated_molecular_beta\"][0]), c = 'k')\n",
    "plt.plot(lidar.range, normalize_to(h, rcs), alpha = 0.6, lw = 0.5)\n",
    "\n",
    "plt.yscale('log')"
   ]
  },
  {
   "cell_type": "code",
   "execution_count": null,
   "id": "9a474072",
   "metadata": {},
   "outputs": [],
   "source": [
    "quicklook_xarray(lidar.signal_532xpa, is_rcs = False)"
   ]
  },
  {
   "cell_type": "markdown",
   "id": "3995d3de",
   "metadata": {},
   "source": [
    "### Free atmosphere algorithm"
   ]
  },
  {
   "cell_type": "markdown",
   "id": "9699122d",
   "metadata": {},
   "source": [
    "As seen in quicklook, dataset should be split within 4 regions with some space between them. Last one will be used since is the largest."
   ]
  },
  {
   "cell_type": "code",
   "execution_count": null,
   "id": "f72dc642",
   "metadata": {},
   "outputs": [],
   "source": [
    "meas_groups = split_continous_measurements(lidar.time.values)\n",
    "%matplotlib inline"
   ]
  },
  {
   "cell_type": "code",
   "execution_count": null,
   "id": "51d2099e",
   "metadata": {},
   "outputs": [],
   "source": [
    "group4 = lidar.signal_532xpa.loc[meas_groups[3]]"
   ]
  },
  {
   "cell_type": "code",
   "execution_count": null,
   "id": "077e4c08",
   "metadata": {},
   "outputs": [],
   "source": [
    "quicklook_xarray(group4, is_rcs = False)"
   ]
  },
  {
   "cell_type": "code",
   "execution_count": null,
   "id": "c05270e1",
   "metadata": {},
   "outputs": [],
   "source": [
    "temporal_mean = xr.apply_ufunc(\n",
    "    utils.moving_average,\n",
    "    group4.load(),\n",
    "    kwargs={\"window_size\": 15}\n",
    ")"
   ]
  },
  {
   "cell_type": "code",
   "execution_count": null,
   "id": "04c83809",
   "metadata": {},
   "outputs": [],
   "source": [
    "quicklook_xarray(\n",
    "    temporal_mean,\n",
    "    is_rcs = False\n",
    ")"
   ]
  },
  {
   "cell_type": "code",
   "execution_count": null,
   "id": "29a09b7d",
   "metadata": {},
   "outputs": [],
   "source": [
    "plt.plot(group4[150] * temporal_mean.range**2)\n",
    "plt.plot(temporal_mean[150] * temporal_mean.range**2)\n",
    "plt.plot(savgol_filter(group4[150] * temporal_mean.range**2, 15, 3))"
   ]
  },
  {
   "cell_type": "code",
   "execution_count": null,
   "id": "143f608a",
   "metadata": {},
   "outputs": [],
   "source": [
    "atmo_2d_cropped = atmo_2d[\"attenuated_molecular_beta\"].loc[meas_groups[3]]"
   ]
  },
  {
   "cell_type": "markdown",
   "id": "de7a5918",
   "metadata": {},
   "source": [
    "### Single profile comparison"
   ]
  },
  {
   "cell_type": "code",
   "execution_count": null,
   "id": "74d753a5",
   "metadata": {},
   "outputs": [],
   "source": [
    "plt.plot(atmo_2d_cropped[0]*14000, label=\"molecular backscatter\")\n",
    "plt.plot(group4[0], lw = 0.4, alpha = 0.3, label = \"single profile\")\n",
    "plt.plot(temporal_mean[0], lw = 0.5, label = \"time window mean\")\n",
    "plt.plot(savgol_filter(temporal_mean[0], 15, 3), lw = 0.5, c = \"k\", label = \"Savgol filter\")\n",
    "\n",
    "plt.legend()\n",
    "plt.yscale('log')\n",
    "\n",
    "plt.show()"
   ]
  },
  {
   "cell_type": "code",
   "execution_count": null,
   "id": "693f78ab",
   "metadata": {},
   "outputs": [],
   "source": []
  },
  {
   "cell_type": "code",
   "execution_count": null,
   "id": "43b1c2c9",
   "metadata": {},
   "outputs": [],
   "source": [
    "a = calibration.iterative_fitting(\n",
    "    savgol_filter(group4[0],15, 3),\n",
    "    atmo_2d_cropped[0],\n",
    "    window_size_bins=40\n",
    ")"
   ]
  },
  {
   "cell_type": "code",
   "execution_count": null,
   "id": "0dead79c",
   "metadata": {},
   "outputs": [],
   "source": [
    "860*7.5"
   ]
  },
  {
   "cell_type": "code",
   "execution_count": null,
   "id": "7e438d81",
   "metadata": {},
   "outputs": [],
   "source": [
    "group4[0]"
   ]
  },
  {
   "cell_type": "code",
   "execution_count": null,
   "id": "c1a2098d",
   "metadata": {},
   "outputs": [],
   "source": [
    "atmo_2d_cropped"
   ]
  },
  {
   "cell_type": "code",
   "execution_count": null,
   "id": "7f3a8a60",
   "metadata": {},
   "outputs": [],
   "source": [
    "1500 * 7.5"
   ]
  },
  {
   "cell_type": "code",
   "execution_count": null,
   "id": "df1bdd7c",
   "metadata": {},
   "outputs": [],
   "source": [
    "temporal_mean[0]"
   ]
  },
  {
   "cell_type": "code",
   "execution_count": null,
   "id": "0f90b1e4",
   "metadata": {},
   "outputs": [],
   "source": [
    "calibration.iterative_fitting(temporal_mean[0], atmo_2d_cropped)"
   ]
  },
  {
   "cell_type": "code",
   "execution_count": null,
   "id": "0393d41a",
   "metadata": {},
   "outputs": [],
   "source": []
  },
  {
   "cell_type": "code",
   "execution_count": null,
   "id": "d9de21db",
   "metadata": {},
   "outputs": [],
   "source": []
  },
  {
   "cell_type": "code",
   "execution_count": null,
   "id": "7d36e216",
   "metadata": {},
   "outputs": [],
   "source": []
  },
  {
   "cell_type": "code",
   "execution_count": null,
   "id": "fa3d79f2",
   "metadata": {},
   "outputs": [],
   "source": []
  }
 ],
 "metadata": {
  "kernelspec": {
   "display_name": "Python 3.10.6 ('.venv': poetry)",
   "language": "python",
   "name": "python3"
  },
  "language_info": {
   "codemirror_mode": {
    "name": "ipython",
    "version": 3
   },
   "file_extension": ".py",
   "mimetype": "text/x-python",
   "name": "python",
   "nbconvert_exporter": "python",
   "pygments_lexer": "ipython3",
   "version": "3.10.6"
  },
  "vscode": {
   "interpreter": {
    "hash": "b61302ffc4db2b0d20d7b3dd013251e47470a855f96363bc85fea0bcdb0e9ea0"
   }
  }
 },
 "nbformat": 4,
 "nbformat_minor": 5
}

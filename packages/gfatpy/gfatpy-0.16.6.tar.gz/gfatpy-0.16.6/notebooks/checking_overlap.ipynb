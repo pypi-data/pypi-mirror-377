{
 "cells": [
  {
   "cell_type": "code",
   "execution_count": null,
   "metadata": {},
   "outputs": [],
   "source": [
    "import xarray as xr\n",
    "import numpy as np\n",
    "from pathlib import Path\n",
    "import matplotlib.pyplot as plt\n",
    "\n",
    "from gfatpy.lidar.preprocessing import preprocess\n",
    "from gfatpy.lidar.utils.utils import signal_to_rcs\n",
    "from gfatpy.utils.utils import numpy_to_datetime\n",
    "\n",
    "%matplotlib inline"
   ]
  },
  {
   "cell_type": "code",
   "execution_count": null,
   "metadata": {},
   "outputs": [],
   "source": [
    "#binario 2 nc\n"
   ]
  },
  {
   "cell_type": "code",
   "execution_count": null,
   "metadata": {},
   "outputs": [],
   "source": [
    "overlap_path = r\"C:\\Users\\Usuario\\Documents\\gitlab\\gfatpy\\tests\\datos\\ALHAMBRA\\QA\\overlap\\2023\\05\\10\\overlap_alh_ff_20230510_0000-0059.nc\"\n",
    "lidar = preprocess(\n",
    "    r\"C:/Users/Usuario/Documents/gitlab/gfatpy/tests/datos/PRODUCTS/alhambra/1a/2023/05/10/alh_1a_Prs_rs_xf_20230510.nc\", \n",
    "    apply_dt = True, \n",
    "    apply_bz = True, \n",
    "    apply_ov = True,\n",
    "    overlap_path=overlap_path\n",
    ")\n"
   ]
  },
  {
   "cell_type": "code",
   "execution_count": null,
   "metadata": {},
   "outputs": [],
   "source": [
    "overlap_filepath = r\"C:\\Users\\Usuario\\Documents\\gitlab\\gfatpy\\tests\\datos\\ALHAMBRA\\QA\\overlap\\2023\\05\\10\\overlap_alh_ff_20230510_0100-0159.nc\"\n",
    "nlidar = preprocess(\n",
    "    r\"C:/Users/Usuario/Documents/gitlab/gfatpy/tests/datos/PRODUCTS/alhambra/1a/2023/05/10/alh_1a_Prs_rs_xf_20230510.nc\", \n",
    "    apply_dt = True, \n",
    "    apply_bz = True, \n",
    "    apply_ov = False    \n",
    ")\n"
   ]
  },
  {
   "cell_type": "code",
   "execution_count": null,
   "metadata": {},
   "outputs": [],
   "source": [
    "time_smooth = (\"20230510T020000\", \"20230510T023000\")\n",
    "norm_range= (2500, 3500)\n",
    "corrected_channels = ['355fpa',  '355fsa', '354fta', '408fta']\n",
    "for channel_ in corrected_channels:\n",
    "    fig, ax = plt.subplots(figsize=[10,5])\n",
    "    lidar[f'signal_{channel_}'].sel(time=slice(*time_smooth)).mean(\"time\").plot(label='OV',ax=ax)\n",
    "    nlidar[f'signal_{channel_}'].sel(time=slice(*time_smooth)).mean(\"time\").plot(label='RAW',ax=ax)\n",
    "    ax.set_yscale('log')\n",
    "    ax.set_xlim(0,2500)\n",
    "    ax.set_ylim(0.01,500)\n",
    "    ax.legend()\n",
    "plt.show()"
   ]
  },
  {
   "cell_type": "code",
   "execution_count": null,
   "metadata": {},
   "outputs": [],
   "source": [
    "fig, ax = plt.subplots(figsize=[10,5])\n",
    "lidar.overlap_355fpa.plot(ax=ax)\n",
    "lidar.overlap_532fta.plot(ax=ax)\n",
    "lidar.overlap_1064fta.plot(ax=ax)\n",
    "ax.set_xlim(0,2500)\n"
   ]
  },
  {
   "cell_type": "code",
   "execution_count": null,
   "metadata": {},
   "outputs": [],
   "source": [
    "from pdb import set_trace"
   ]
  },
  {
   "cell_type": "code",
   "execution_count": null,
   "metadata": {},
   "outputs": [],
   "source": [
    "ov_folder = Path(r'C:\\Users\\Usuario\\Documents\\gitlab\\gfatpy\\tests\\datos\\ALHAMBRA\\QA\\overlap\\2023\\05\\10')\n",
    "fig, ax = plt.subplots(figsize=[10,5])\n",
    "for file in ov_folder.glob('*.nc'):\n",
    "    ov = xr.open_dataarray(file)\n",
    "    ov.sel(channel='355fpa').plot(ax=ax)\n",
    "ax.set_xlim(0,2500)"
   ]
  },
  {
   "cell_type": "code",
   "execution_count": null,
   "metadata": {},
   "outputs": [],
   "source": [
    "ov_folder = Path(r'C:\\Users\\Usuario\\Documents\\gitlab\\gfatpy\\tests\\datos\\ALHAMBRA\\QA\\overlap\\2023\\05\\10')\n",
    "fig, ax = plt.subplots(figsize=[10,5])\n",
    "for file in ov_folder.glob('*.nc'):\n",
    "    ov = xr.open_dataarray(file)\n",
    "    ov.sel(channel='532fta').plot(ax=ax)\n",
    "ax.set_xlim(0,2500)"
   ]
  },
  {
   "cell_type": "code",
   "execution_count": null,
   "metadata": {},
   "outputs": [],
   "source": [
    "ov_folder = Path(r'C:\\Users\\Usuario\\Documents\\gitlab\\gfatpy\\tests\\datos\\ALHAMBRA\\QA\\overlap\\2023\\05\\10')\n",
    "fig, ax = plt.subplots(figsize=[10,5])\n",
    "for file in ov_folder.glob('*.nc'):\n",
    "    ov = xr.open_dataarray(file)\n",
    "    ov.sel(channel='355fpa').plot(ax=ax)\n",
    "    ov.close()\n",
    "ax.set_xlim(0,2500)"
   ]
  }
 ],
 "metadata": {
  "kernelspec": {
   "display_name": "Python 3 (ipykernel)",
   "language": "python",
   "name": "python3"
  },
  "language_info": {
   "codemirror_mode": {
    "name": "ipython",
    "version": 3
   },
   "file_extension": ".py",
   "mimetype": "text/x-python",
   "name": "python",
   "nbconvert_exporter": "python",
   "pygments_lexer": "ipython3",
   "version": "3.10.5"
  },
  "vscode": {
   "interpreter": {
    "hash": "91773092f4e7a1e802e8dff3948589e045e0a047c63d45a3e7dcbe190170de3e"
   }
  }
 },
 "nbformat": 4,
 "nbformat_minor": 2
}

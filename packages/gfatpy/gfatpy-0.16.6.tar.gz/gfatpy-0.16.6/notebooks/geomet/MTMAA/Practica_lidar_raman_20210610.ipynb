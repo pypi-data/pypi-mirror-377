{
 "cells": [
  {
   "cell_type": "code",
   "execution_count": null,
   "metadata": {},
   "outputs": [],
   "source": [
    "!pip install gfatpy==0.2.0"
   ]
  },
  {
   "cell_type": "markdown",
   "metadata": {},
   "source": [
    "# Práctica de lidar Raman\n",
    "\n",
    "Éste es el código que se utilizará para el desarrollo de la práctica de lidar Raman. Para ello el discente solo tendrá que modificar las sentencias que se encuentran entre:\n",
    "\n",
    "#------------------------------------------------------------------------------------------------------------------------------\n",
    "\n",
    "         Modifique SOLO aquí dentro\n",
    "#------------------------------------------------------------------------------------------------------------------------------\n",
    "\n",
    "Importante:\n",
    "- También se recomienda correr una a una las celdas, y no correr de nuevo una celda mientras se está ejecutando (el software puede bloquearse). Si mientras una celda se está ejecutando, se realiza algún cambio en el código de esa celda y queremos volver a ejecutarla, deberemos esperar a que termine o reiniciar los kernels.\n",
    "- Si lo desea, puede jugar con el resto del código.\n",
    "- Para el desarrollo de la práctica y elaboración del informe se pueden emplear resultados obtenidos en otras prácticas, que sean relativos a la misma situación atmosférica."
   ]
  },
  {
   "cell_type": "markdown",
   "metadata": {},
   "source": [
    "**IMPORTACIÓN DE LIBRERÍAS Y ESPECIFICACIÓN DE RUTAS**\n",
    "\n",
    "En primer lugar **importamos las librerias** necesarias. En el caso de que no se encuentre alguno de los módulos al correr esta celda tendremos que instalar dicho módulo en Anaconda Navigator -> Environments o a traves de Anaconda Prompt."
   ]
  },
  {
   "cell_type": "code",
   "execution_count": null,
   "metadata": {},
   "outputs": [],
   "source": [
    "import os\n",
    "from pathlib import Path\n",
    "from pdb import set_trace\n",
    "\n",
    "from datetime import datetime, date\n",
    "import numpy as np #For general mathematical calculations\n",
    "import matplotlib.pyplot as plt #For plotting\n",
    "from scipy.integrate import trapz\n",
    "from scipy.signal import savgol_filter #Allows to smooth a profile through the Savitzky-Golay filter\n",
    "\n",
    "#For working with lidar products (developed by the Atmospheric Physics Group of the UGR, GFAT)\n",
    "from gfatpy.atmo import ecmwf, atmo\n",
    "\n",
    "from gfatpy.lidar.preprocessing import preprocess\n",
    "from gfatpy.lidar.plot.quicklook import date_quicklook, quicklook_xarray\n",
    "from gfatpy.lidar.quality_assurance.rayleigh_fit import rayleigh_fit_from_date\n",
    "from gfatpy.lidar import utils\n",
    "from gfatpy.lidar.retrieval import klett\n",
    "from gfatpy.lidar.retrieval.raman import raman_extinction\n",
    "from gfatpy.lidar.retrieval.helper import RetrievalHelper\n",
    "\n",
    "from gfatpy.aeronet.reader import reader as aeronet_reader\n",
    "from gfatpy.aeronet.utils import find_aod\n",
    "\n",
    "from gfatpy.utils.plot import font_axes, color_list\n",
    "\n",
    "\n",
    "%load_ext autoreload\n",
    "%autoreload 2\n",
    "\n",
    "%matplotlib inline"
   ]
  },
  {
   "cell_type": "markdown",
   "metadata": {},
   "source": [
    "Tambien, antes de comenzar con el tratamiento de los ficheros, definimos la ruta en la que se encuentran los datos."
   ]
  },
  {
   "cell_type": "code",
   "execution_count": null,
   "metadata": {},
   "outputs": [],
   "source": [
    "#PC GFAT\n",
    "#------------------------------------------------------------------------------------------------------------------------------\n",
    "databasepath = Path(r'G:\\Mi unidad\\03. Docencia\\UGR22-23\\GEOMET\\MTMAA\\Practica_lidar_raman\\1a')  #Database folder path, until '\\1a' (included). Example: 'C:\\\\Users\\\\user\\\\Desktop\\\\data\\\\1a'\n",
    "outputpath =   Path(r'G:\\Mi unidad\\03. Docencia\\UGR22-23\\GEOMET\\MTMAA\\Practica_lidar_raman')  #Output folder path. Example: ''C:\\\\Users\\\\user\\\\Desktop\\\\output''\n",
    "#------------------------------------------------------------------------------------------------------------------------------\n",
    "\n",
    "#Portátil \n",
    "#------------------------------------------------------------------------------------------------------------------------------\n",
    "# databasepath = Path(r'G:\\My Drive\\03. Docencia\\UGR22-23\\GEOMET\\MTMAA\\Practica_lidar_raman\\1a')  #Database folder path, until '\\1a' (included). Example: 'C:\\\\Users\\\\user\\\\Desktop\\\\data\\\\1a'\n",
    "# outputpath =   Path(r'G:\\My Drive\\03. Docencia\\UGR22-23\\GEOMET\\MTMAA\\Practica_lidar_raman')  #Output folder path. Example: ''C:\\\\Users\\\\user\\\\Desktop\\\\output''\n",
    "#------------------------------------------------------------------------------------------------------------------------------\n",
    "\n",
    "#GFATPY\n",
    "#------------------------------------------------------------------------------------------------------------------------------\n",
    "# databasepath = Path() / '1a'  #Database folder path, until '\\1a' (included). Example: 'C:\\\\Users\\\\user\\\\Desktop\\\\data\\\\1a'\n",
    "# outputpath =   Path()  #Output folder path. Example: ''C:\\\\Users\\\\user\\\\Desktop\\\\output''\n",
    "#------------------------------------------------------------------------------------------------------------------------------\n",
    "\n",
    "databasepath.is_dir(), outputpath.is_dir() #Comprueba que ambas carpetas existen."
   ]
  },
  {
   "cell_type": "markdown",
   "metadata": {},
   "source": [
    "En esta práctica, utilizaremos los datos del 10-06-2021:"
   ]
  },
  {
   "cell_type": "code",
   "execution_count": null,
   "metadata": {},
   "outputs": [],
   "source": [
    "# Lectura de datos\n",
    "#------------------------------------------------------------------------------------------------------------------------------\n",
    "filepath = databasepath / '2021'/ '06'/ '10' / 'mhc_1a_Prs_rs_xf_20210610.nc'   #Lidar product path. Example : 'C:\\\\Users\\\\user\\\\Desktop\\\\data\\\\1a\\\\2020\\\\01\\\\01\\\\mhc_1a_Prs_rs_xf_20200101.nc' \n",
    "dcfilepath = databasepath / '2021'/ '06'/ '10' / 'mhc_1a_Pdc_rs_xf_20210610_1828.nc' #Lidar dark current product path\n",
    "ini_date = '20210610T220000'   #Initial date and time. Format 'yyyymmddThhmmss', where T represents literally the letter T. Example: '20200101T200000'\n",
    "end_date = '20210610T230000'   #Same format than ini_date\n",
    "#------------------------------------------------------------------------------------------------------------------------------\n",
    "\n",
    "channels = ['355xta', '354xtp']\n",
    "if os.path.exists(databasepath) and os.path.exists(dcfilepath):    \n",
    "    data = preprocess(filepath, channels=channels, crop_ranges=(0,20000),gluing_products=False)\n",
    "else:\n",
    "    print(\"One (or both) of the given files can not be found.\")"
   ]
  },
  {
   "cell_type": "markdown",
   "metadata": {},
   "source": [
    "**REPRESENTACIÓN DE SEÑAL CORREGIDA DE RANGO Y RETRODISPERSIÓN MOLECULAR**\n",
    "\n",
    "Para hacernos una idea de la situación atmosférica, y también para poder identificar la región libre de partículas de aerosol atmosférico, se representa **la evolución temporal de la señal corregida de rango (RCS)**.\n",
    "\n",
    "Para ello, se necesita:\n",
    "- `data.signal_355xta`: señal lidar a 355 nm.\n",
    "- Función `quicklook_xarray` donde `is_rcs` indica que los datos facilitados NO están corregidos de rango, así el programa realiza previamente este cálculo.\n",
    "- `ymin` e `ymax` son las alturas mínima y máxima  en metros asl, respectivamente, para representar el perfil de RCS. Son parámetros opcionales, pero pueden ser útiles."
   ]
  },
  {
   "cell_type": "code",
   "execution_count": null,
   "metadata": {},
   "outputs": [],
   "source": [
    "#------------------------------------------------------------------------------------------------------------------------------\n",
    "qlpath = outputpath / 'quicklooks' #Output quicklook folder path. It is suggested to mantain the proposed path\n",
    "ymin = 0\n",
    "ymax = 7500\n",
    "#------------------------------------------------------------------------------------------------------------------------------\n",
    "fig, ax = quicklook_xarray(data.signal_355xta,is_rcs=False)\n",
    "ax.set_ylim(ymin, ymax)"
   ]
  },
  {
   "cell_type": "markdown",
   "metadata": {},
   "source": [
    "A continuación realizaremos el Rayleigh fit ---comparación del perfil de la RCS normalizado junto con el de retrodispersión molecular normalizado---. \n",
    "\n",
    "Para ello definimos los parámetros de entrada que nos ayudan a determinar el perfil de la RCS normalizado:\n",
    "- `min_profile_range`, `max_profile_range`: alturas que definen el perfil a utilizar en los cálculos. \n",
    "- `min_reference_height`, `max_reference_height`: las alturas en metros asl entre las cuales normalizar el perfil de la RCS y el de retrodispersión molecular, de manera que encierren atmósfera molecular. Lo ideal es utilizar una ventana de un kilómetro, aunque puede ser interesante probar diferentes situaciones. \n",
    "- `signal_355xta`: es el perfil lidar elástico a 355 nm en modo analógico.\n",
    "- `rcs_355xta`: RCS de `signal_355xta`.\n",
    "- `rcs_355xta_profile`: promedio en el tiempo definido entre `ini_date_str` y `end_date_str`.\n",
    "- `nrcs_355xta`: perfil normalizado por el valor promedio entre `min_reference_height` y `max_reference_height`.\n",
    "- `signal_354xtp`: es el perfil lidar Raman a 354 nm en modo de recuento de fotones.\n",
    "- `rcs_354xtp`: como `rcs_355xta` pero con `signal_354xtp`.\n",
    "- `rcs_354xtp_profile`: como `rcs_355xta_profile` pero con `signal_354xtp`.\n",
    "- `nrcs_354xtp`: como `nrcs_355xta` pero con `signal_354xtp`.\n",
    "\n",
    "Consejo: `max_profile_range` > `y_norm_max`."
   ]
  },
  {
   "cell_type": "code",
   "execution_count": null,
   "metadata": {},
   "outputs": [],
   "source": [
    "#------------------------------------------------------------------------------------------------------------------------------\n",
    "min_reference_height = 6500     #Sets the value of the minimum reference altitude in meters asl\n",
    "max_reference_height = 7000    #Sets the value of the maximum reference altitude in meters asl\n",
    "max_profile_range = 10000\n",
    "min_profile_range= 0\n",
    "#------------------------------------------------------------------------------------------------------------------------------\n",
    "\n",
    "datestr, hour_ini, hour_end = '20210610', '220000', '233000' \n",
    "date_ini = datetime.strptime(datestr,'%Y%m%d')\n",
    "date_ = date_ini\n",
    "year, month, day = date_.year, date_.month, date_.day\n",
    "ini_date_str = '%sT%s' % (datestr, hour_ini)\n",
    "end_date_str = '%sT%s' % (datestr, hour_end)\n",
    "rcs_355xta = data['signal_355xta']*data.range**2\n",
    "rcs_354xtp = data['signal_354xtp']*data.range**2\n",
    "rcs_355xta_profile = rcs_355xta.sel(time=slice(ini_date_str,end_date_str), range=slice(min_profile_range,max_profile_range)).mean('time')\n",
    "rcs_354xtp_profile = rcs_354xtp.sel(time=slice(ini_date_str,end_date_str), range=slice(min_profile_range,max_profile_range)).mean('time')\n",
    "nrcs_355xta = rcs_355xta_profile/rcs_355xta_profile.sel(range=slice(min_reference_height,max_reference_height)).mean('range')\n",
    "nrcs_354xtp = rcs_354xtp_profile/rcs_354xtp_profile.sel(range=slice(min_reference_height,max_reference_height)).mean('range')\n"
   ]
  },
  {
   "cell_type": "markdown",
   "metadata": {},
   "source": [
    "Par el Rayleigh fit, es necesario el perfil del coeficiente de retrodispersión molecular normalizado. Para obtener el perfil, necesitamos los perfiles de presión (`pressure`) y temperatura (`temperature`). En este caso, los obtenemos del modelo ECMWF, para las alturas del perfil lidar."
   ]
  },
  {
   "cell_type": "code",
   "execution_count": null,
   "metadata": {},
   "outputs": [],
   "source": [
    "ranges = rcs_355xta_profile.range\n",
    "meteo_profiles = ecmwf.get_ecmwf_temperature_pressure(\n",
    "    datestr, heights=ranges\n",
    ")\n",
    "\n",
    "temperature = meteo_profiles['temperature'].values\n",
    "pressure = meteo_profiles['pressure'].values"
   ]
  },
  {
   "cell_type": "markdown",
   "metadata": {},
   "source": [
    "En la celda siguiente, se calculan las propiedades moleculares a partir de la temperatura y presión del model ECMWF y se normalizan en el mismo rango de alturas."
   ]
  },
  {
   "cell_type": "code",
   "execution_count": null,
   "metadata": {},
   "outputs": [],
   "source": [
    "# Molecular Attenuated Backscatter\n",
    "mol_properties = atmo.molecular_properties(wavelength, pressure, temperature, ranges)\n",
    "beta_mol_att_355 = mol_properties[\"attenuated_molecular_beta\"]\n",
    "wavelength = 355\n",
    "nbeta_mol_355 = beta_mol_att_355/beta_mol_att_355.sel(range=slice(min_reference_height,max_reference_height)).mean('range')\n",
    "\n",
    "wavelength = 354\n",
    "mol_properties = atmo.molecular_properties(wavelength, pressure, temperature, ranges)\n",
    "beta_mol_att_354 = mol_properties[\"attenuated_molecular_beta\"]\n",
    "nbeta_mol_354 = beta_mol_att_354/beta_mol_att_354.sel(range=slice(min_reference_height,max_reference_height)).mean('range')"
   ]
  },
  {
   "cell_type": "markdown",
   "metadata": {},
   "source": [
    "Con todo lo necesario, se procede con la representación:"
   ]
  },
  {
   "cell_type": "code",
   "execution_count": null,
   "metadata": {},
   "outputs": [],
   "source": [
    "fig, ax = plt.subplots(2,1,figsize=(10,5))\n",
    "nrcs_355xta.plot(x='range', label='355xta', ax=ax[0])\n",
    "nbeta_mol_355.plot(x='range',label='mol',color='k', ax=ax[0])\n",
    "ax[0].legend()\n",
    "ax[0].set_ylabel('Norm. signal,\\n[a.u.]')\n",
    "ax[0].set_yscale('log')\n",
    "ax[0].set_ylim(0.1,10)\n",
    "ax[0].set_xlim(0.1,10000)\n",
    "\n",
    "nrcs_354xtp.plot(x='range', label='354xtp', ax=ax[1])\n",
    "nbeta_mol_354.plot(x='range',label='mol',color='k', ax=ax[1])\n",
    "ax[1].legend()\n",
    "ax[1].set_ylabel('Norm. signal,\\n[a.u.]')\n",
    "ax[1].set_yscale('log')\n",
    "ax[1].set_ylim(0.1,10)\n",
    "ax[1].set_xlim(0.1,10000)\n",
    "\n",
    "plt.savefig(outputpath / f'rayleigh_{datestr}.png', dpi=600)"
   ]
  },
  {
   "cell_type": "markdown",
   "metadata": {},
   "source": [
    "Una vez verificadas las señales Raman y elástica, procedemos a calcular los coeficientes de extinción y retrodispersión con el método Raman."
   ]
  },
  {
   "cell_type": "markdown",
   "metadata": {},
   "source": [
    "**MÉTODO RAMAN**\n",
    "\n",
    "El desarrollo principal de la práctica se basará en las siguientes celdas.\n",
    "\n",
    "En primer lugar, determinaremos el coeficiente de extinción de partículas $\\alpha_{part}$ con la ecuación:\n",
    "\n",
    "$ \\alpha_{part} = \\frac{ \\frac{d}{dr}ln\\left( \\frac{N}{RCS_{raman}} \\right) - \\alpha_{mol}^{raman} - \\alpha_{mol}^{elastic}}{1+ \\frac{\\lambda_{elastic}}{\\lambda_{raman}}^k }$\n",
    "\n",
    "donde se pone de manifiesto que sólo se necesita la RCS de la longitud de onda Raman como medida experimental."
   ]
  },
  {
   "cell_type": "markdown",
   "metadata": {},
   "source": [
    "Cálculo de $\\alpha_{mol}^{elastic}$ y $\\alpha_{mol}^{raman}$:"
   ]
  },
  {
   "cell_type": "code",
   "execution_count": null,
   "metadata": {},
   "outputs": [],
   "source": [
    "#Cálculo molecular\n",
    "elastic_wavelength, raman_wavelength  = 355, 354\n",
    "alpha_mol_elastic = atmo.molecular_extinction(elastic_wavelength, pressure, temperature)\n",
    "alpha_mol_raman = atmo.molecular_extinction(raman_wavelength, pressure, temperature)"
   ]
  },
  {
   "cell_type": "markdown",
   "metadata": {},
   "source": [
    "Cálculo de la densidad numérica de moléculas de $N_2$, $N$:"
   ]
  },
  {
   "cell_type": "code",
   "execution_count": null,
   "metadata": {},
   "outputs": [],
   "source": [
    "# Calculate number density of the target molecule\n",
    "number_density = atmo.number_density_at_pt(pressure, temperature).astype(float)"
   ]
  },
  {
   "cell_type": "markdown",
   "metadata": {},
   "source": [
    "Cálculo del término $ln\\left( \\frac{N}{RCS_{raman}} \\right) $:"
   ]
  },
  {
   "cell_type": "code",
   "execution_count": null,
   "metadata": {},
   "outputs": [],
   "source": [
    "RCS = rcs_354xtp_profile.values.astype(float)\n",
    "ranges = rcs_354xtp_profile.range.values\n",
    "range_resolution = ranges[1] - ranges[0]\n",
    "\n",
    "# Ratio\n",
    "raw_log_ratio = np.nan * np.ones(len(RCS))\n",
    "valid_idx = np.logical_and(number_density > 0, RCS > 0) #Necesario porque no se puede realizar el logaritmo de un número negativo.\n",
    "raw_log_ratio[valid_idx] = np.ma.log(number_density[valid_idx] / RCS[valid_idx])\n",
    "\n",
    "#Smooth \n",
    "window_size_bin = 25\n",
    "order = 1\n",
    "log_ratio = savgol_filter(raw_log_ratio, window_size_bin, order, delta=range_resolution, mode=\"nearest\", cval=np.nan)\n",
    "\n",
    "#Plot\n",
    "fig, ax = plt.subplots(1,1,figsize=(5,6))\n",
    "ax.plot(raw_log_ratio, ranges, label='raw')\n",
    "ax.plot(log_ratio, ranges, label='smooth')\n",
    "ax.set_ylim(0,7500)\n",
    "ax.set_xlim(42,45)\n",
    "ax.set_xlabel('Ratio, [a.u.]')\n",
    "ax.set_ylabel('Range, [m]')\n",
    "ax.legend()"
   ]
  },
  {
   "cell_type": "markdown",
   "metadata": {},
   "source": [
    "Cálculo de la derivada del término calculado anteriormente: $ \\frac{d}{dR} ln\\left( \\frac{N}{RCS_{raman}} \\right) $:\n",
    "\n",
    "Nota: `deriv = 1` es lo que permite el cálculo de la derivada."
   ]
  },
  {
   "cell_type": "code",
   "execution_count": null,
   "metadata": {},
   "outputs": [],
   "source": [
    "# Calculate 1st derivative     \n",
    "window_size_m = 250 #meters\n",
    "order = 1\n",
    "window_size_bin = np.floor(window_size_m / range_resolution).astype(int)\n",
    "derivative = savgol_filter(\n",
    "    log_ratio, window_size_bin, order, deriv=1, delta=range_resolution, mode=\"nearest\", cval=np.nan\n",
    ")\n",
    "\n",
    "#Plot\n",
    "fig, ax = plt.subplots(1,2,figsize=(5,6))\n",
    "ax[0].plot(raw_log_ratio, ranges, label='raw')\n",
    "ax[0].plot(log_ratio, ranges, label='smoothed')\n",
    "ax[0].set_ylim(0,7500)\n",
    "ax[0].set_xlim(42,45)\n",
    "ax[0].set_xlabel('Ratio, [a.u.]')\n",
    "ax[0].legend(loc='upper right')\n",
    "\n",
    "ax[1].plot(derivative, ranges, label='Derivative')\n",
    "ax[1].plot(alpha_mol_elastic+alpha_mol_raman, ranges, label=r'$\\alpha_{mol}^{elastic} + \\alpha_{mol}^{raman} $')\n",
    "\n",
    "ax[1].set_ylim(0,7500)\n",
    "ax[1].set_yticks([])\n",
    "ax[1].set_xlim(-0.001,0.001)\n",
    "ax[1].set_xlabel(r'Extinction coef, [$m^{-1}]$')\n",
    "ax[1].legend(loc='upper right')"
   ]
  },
  {
   "cell_type": "markdown",
   "metadata": {},
   "source": [
    "Finalmente, se obtiene $\\alpha_{part}$. En este paso, es necesario: .\n",
    "- Asumir un exponente de Angstrom (`angstrom_aerosol`). \n",
    "- Eliminar la parte del perfil donde se estima que el ruido de la señal es demasiado alto. Este filtrado tiene tres partes:   y `alpha_top_approx`:\n",
    "    - Por debajo de `alpha_bottom_approx`, se asume que la extinción de partículas es constante.\n",
    "        - `alpha_part_elastic[ranges<alpha_bottom_range] = alpha_part_elastic[ranges==alpha_bottom_range]`\n",
    "    - Por encima de `alpha_top_approx`, se asume que la extinción de partículas es cero:\n",
    "        - `alpha_part_elastic[ranges>alpha_top_approx] = np.nan`\n",
    "    - Como la extinción negativa no existe, se fuerza a cero donde esto ocurra:\n",
    "        - `alpha_part_elastic[alpha_part_elastic<0] = 0.`"
   ]
  },
  {
   "cell_type": "code",
   "execution_count": null,
   "metadata": {},
   "outputs": [],
   "source": [
    "# Calculate particle extinction coefficient\n",
    "angstrom_aerosol = 1\n",
    "\n",
    "alpha_aer = (derivative - alpha_mol_elastic - alpha_mol_raman) / (\n",
    "    1 + (elastic_wavelength / float(raman_wavelength)) ** angstrom_aerosol\n",
    ")\n",
    "\n",
    "#Remove region with low SNR\n",
    "#------------------------------------------------------------------------------------------------------------------------------\n",
    "alpha_bottom_approx =975. \n",
    "alpha_top_approx =4200.\n",
    "#------------------------------------------------------------------------------------------------------------------------------\n",
    "alpha_bottom_range = rcs_354xtp_profile.range.sel(range=alpha_bottom_approx,method='nearest').values.item()\n",
    "alpha_top_range = rcs_354xtp_profile.range.sel(range=alpha_top_approx,method='nearest').values.item()\n",
    "alpha_part_elastic = alpha_aer.copy()\n",
    "alpha_part_elastic[ranges<alpha_bottom_range] = alpha_part_elastic[ranges==alpha_bottom_range]\n",
    "alpha_part_elastic[ranges>alpha_top_approx] = np.nan\n",
    "alpha_part_elastic[alpha_part_elastic<0] = 0.\n",
    "\n",
    "#Plot\n",
    "fig, ax = plt.subplots(1,3,figsize=(10,6))\n",
    "ax[0].plot(log_ratio, ranges, label='smoothed')\n",
    "ax[0].set_ylim(0,7500)\n",
    "ax[0].set_xlim(42,45)\n",
    "ax[0].set_xlabel('Ratio, [a.u.]')\n",
    "ax[0].set_ylabel('Range, [m]')\n",
    "ax[0].legend(loc='upper right')\n",
    "\n",
    "ax[1].plot(derivative*1e6, ranges, label='Derivative')\n",
    "ax[1].plot(1e6*(alpha_mol_elastic+alpha_mol_raman), ranges, label=r'$\\alpha_{mol}^{elastic} + \\alpha_{mol}^{raman} $')\n",
    "\n",
    "ax[1].set_ylim(0,7500)\n",
    "ax[1].set_yticks([])\n",
    "ax[1].set_xlim(0,500)\n",
    "ax[1].set_xlabel(r'$\\alpha, [Mm^{-1}]$')\n",
    "ax[1].legend(loc='upper right')\n",
    "\n",
    "\n",
    "ax[2].plot(alpha_aer*1e6, ranges,label='raw')\n",
    "ax[2].plot(alpha_part_elastic*1e6, ranges, c='g',lw=2,label='valid')\n",
    "ax[2].set_yticks([])\n",
    "ax[2].set_ylim(0,7500)\n",
    "ax[2].set_xlim(-10,200)\n",
    "ax[2].set_xlabel(r'$\\alpha_{part}, [Mm^{-1}]$')\n",
    "ax[2].legend()"
   ]
  },
  {
   "cell_type": "markdown",
   "metadata": {},
   "source": [
    "Conocido el perfil de extinción de partículas, se puede determinar el coeficiente de retrodispersión de partículas $\\beta_{part}$ con la ecuación mostrada en la presentación de la técnica Raman.\n",
    "\n",
    "Para este cálculo necesitamos:\n",
    "1. La razón de transmintancias elástica y Raman\n",
    "1. La razón de señales elástica y Raman\n",
    "1. El coeficiente de retrodispersión molecular elástico\n",
    "1. Condición de contorno"
   ]
  },
  {
   "cell_type": "markdown",
   "metadata": {},
   "source": [
    "**1) La razón de transmintancias elástica y Raman**\n",
    "\n",
    "Para ello, necesitamos $\\alpha_{mol}^{elastic}$, $\\alpha_{mol}^{raman}$, $\\alpha_{part}^{elastic}$ y $\\alpha_{part}^{raman}$. \n",
    "\n",
    "Hasta ahora hemos calculado:\n",
    "- $\\alpha_{mol}^{elastic}$ = `alpha_mol_emission`\n",
    "- $\\alpha_{mol}^{raman}$ = `alpha_mol_raman`\n",
    "- $\\alpha_{part}^{elastic}$ = `alpha_part_emission`\n",
    "\n",
    "Así que nos falta $\\alpha_{part}^{raman}$ [`alpha_part_raman`]. Este cálculo se puede realizar haciendo uso del exponente de Angstrom:"
   ]
  },
  {
   "cell_type": "code",
   "execution_count": null,
   "metadata": {},
   "outputs": [],
   "source": [
    "# Calculate profiles of molecular extinction\n",
    "alpha_part_raman = (alpha_part_elastic* (raman_wavelength / elastic_wavelength) ** -angstrom_aerosol)"
   ]
  },
  {
   "cell_type": "markdown",
   "metadata": {},
   "source": [
    "Con todas las extinciones calculadas, se pueden calcular las extinciones totales en cada longitud de onda:\n",
    "- $\\alpha_{total}^{elastic} = \\alpha_{mol}^{elastic} + \\alpha_{part}^{elastic}$ (`alpha_tot_emission`)\n",
    "- $\\alpha_{total}^{raman} = \\alpha_{mol}^{raman} + \\alpha_{part}^{raman}$ (`alpha_tot_raman`)"
   ]
  },
  {
   "cell_type": "code",
   "execution_count": null,
   "metadata": {},
   "outputs": [],
   "source": [
    "alpha_tot_elastic = alpha_mol_elastic + alpha_part_elastic\n",
    "alpha_tot_raman = alpha_mol_raman + alpha_part_raman"
   ]
  },
  {
   "cell_type": "markdown",
   "metadata": {},
   "source": [
    "Lo que nos permite obtener las transimitancias y su razón:\n",
    "- $T_{total}^{elastic} = \\int (\\alpha_{mol}^{elastic} + \\alpha_{part}^{elastic} ) dr = \\int \\alpha_{total}^{elastic} dr $\n",
    "\n",
    "\n",
    "- $T_{total}^{raman} = \\int (\\alpha_{mol}^{raman} + \\alpha_{part}^{raman} ) dr = \\int \\alpha_{total}^{raman} dr $\n",
    "\n",
    "\n",
    "- $\\frac{T_{total}^{raman}}{ T_{total}^{elastic}} $"
   ]
  },
  {
   "cell_type": "code",
   "execution_count": null,
   "metadata": {},
   "outputs": [],
   "source": [
    "transmittance_raman = atmo.transmittance(alpha_tot_raman, ranges)\n",
    "transmittance_elastic = atmo.transmittance(alpha_tot_elastic, ranges)\n",
    "\n",
    "transmittance_ratio = np.exp(-transmittance_raman) / np.exp(-transmittance_elastic)"
   ]
  },
  {
   "cell_type": "markdown",
   "metadata": {},
   "source": [
    "**2) La razón de señales elástica y Raman**\n",
    "\n",
    "A continuación, necesitamos la razón de señales elástica y Raman:"
   ]
  },
  {
   "cell_type": "code",
   "execution_count": null,
   "metadata": {},
   "outputs": [],
   "source": [
    "RCS_elastic = rcs_355xta_profile.values.astype(float)\n",
    "RCS_raman = rcs_354xtp_profile.values.astype(float)\n",
    "valid_idx = np.logical_and(RCS_raman>0,RCS_elastic>0)\n",
    "signal_ratio = np.nan*np.ones(len(RCS_elastic))\n",
    "signal_ratio [valid_idx] =  RCS_elastic[valid_idx]/RCS_raman[valid_idx]"
   ]
  },
  {
   "cell_type": "markdown",
   "metadata": {},
   "source": [
    "**3) El coeficiente de retrodispersión molecular elástico**"
   ]
  },
  {
   "cell_type": "code",
   "execution_count": null,
   "metadata": {},
   "outputs": [],
   "source": [
    "beta_mol_elastic = mol_properties[\"molecular_beta\"]"
   ]
  },
  {
   "cell_type": "markdown",
   "metadata": {},
   "source": [
    "**4) Condición de contorno**\n",
    "\n",
    "Como toda resolución de ecuación diferencial que se precie, requerimos una condición de contorno. En este caso, asumimos que no ha partículas en la región de referencia por lo que `beta_part_at_reference = 0.`."
   ]
  },
  {
   "cell_type": "code",
   "execution_count": null,
   "metadata": {},
   "outputs": [],
   "source": [
    "#------------------------------------------------------------------------------------------------------------------------------\n",
    "min_reference_height = 6500     #Sets the value of the minimum reference altitude in meters asl\n",
    "max_reference_height = 7000    #Sets the value of the maximum reference altitude in meters asl\n",
    "beta_part_at_reference = 0.\n",
    "#------------------------------------------------------------------------------------------------------------------------------\n",
    "reference_idx = np.logical_and(ranges>min_reference_height, ranges<max_reference_height)\n",
    "beta_aerosol_at_reference = beta_part_at_reference + np.nanmean(beta_mol_elastic[reference_idx])\n",
    "bondary_condition_at_reference = beta_aerosol_at_reference*np.nanmean(RCS_raman[reference_idx]/ (RCS_elastic[reference_idx]*number_density[reference_idx]))"
   ]
  },
  {
   "cell_type": "markdown",
   "metadata": {},
   "source": [
    "Con todos los pasos anteriores, podemos calcular el coeficiente de retrodispersión total en la longitud de onda elástica $\\beta_{aer}^{elastic}$:"
   ]
  },
  {
   "cell_type": "code",
   "execution_count": null,
   "metadata": {},
   "outputs": [],
   "source": [
    "beta_aer_elastic = bondary_condition_at_reference * signal_ratio *number_density * transmittance_ratio"
   ]
  },
  {
   "cell_type": "markdown",
   "metadata": {},
   "source": [
    "Finalmente, para obtener $\\beta_{part}^{elastic}$, queda sustraer la contribución molecular ($\\beta_{mol}^{elastic}$):\n",
    "\n",
    "$\\beta_{part}^{elastic}$  = $\\beta_{aer}^{elastic}$ - $\\beta_{mol}^{elastic}$ "
   ]
  },
  {
   "cell_type": "code",
   "execution_count": null,
   "metadata": {},
   "outputs": [],
   "source": [
    "beta_part_elastic = beta_aer_elastic - beta_mol_elastic"
   ]
  },
  {
   "cell_type": "code",
   "execution_count": null,
   "metadata": {},
   "outputs": [],
   "source": [
    "#Plot\n",
    "fig, ax = plt.subplots(1,3,figsize=(10,6))\n",
    "ax[0].plot(transmittance_elastic, ranges, label='Elastic')\n",
    "ax[0].plot(transmittance_raman, ranges, label='Raman')\n",
    "ax[0].set_ylim(0,7500)\n",
    "# ax[0].set_xlim(42,45)\n",
    "ax[0].set_xlabel('T, [#]')\n",
    "ax[0].set_ylabel('Range, [m]')\n",
    "ax[0].legend(loc='upper right')\n",
    "\n",
    "ax[1].plot(signal_ratio, ranges, label='Derivative')\n",
    "ax[1].set_ylim(0,7500)\n",
    "ax[1].set_yticks([])\n",
    "# ax[1].set_xlim(0,500)\n",
    "ax[1].set_xlabel(r'$\\frac{RCS_{elastic}}{RCS_{raman}}$, [#]')\n",
    "ax[1].legend(loc='upper right')\n",
    "\n",
    "\n",
    "ax[2].plot(beta_mol_elastic*1e6, ranges, c='r',lw=1,label='mol')\n",
    "ax[2].plot(beta_part_elastic*1e6, ranges, c='g',lw=2,label='part')\n",
    "ax[2].plot(beta_aer_elastic*1e6, ranges, c='b',lw=1,label='aer')\n",
    "ax[2].set_yticks([])\n",
    "ax[2].set_ylim(0,7500)\n",
    "# ax[2].set_xlim(-10,200)\n",
    "ax[2].set_xlabel(r'$\\beta, [Mm^{-1}·sr^{-1}]$')\n",
    "ax[2].legend()"
   ]
  },
  {
   "cell_type": "code",
   "execution_count": null,
   "metadata": {},
   "outputs": [],
   "source": [
    "#Plot\n",
    "fig, ax = plt.subplots(1,3,figsize=(10,6))\n",
    "ax[0].plot(transmittance_elastic, ranges, label='Elastic')\n",
    "ax[0].plot(transmittance_raman, ranges, label='Raman')\n",
    "ax[0].set_ylim(0,7500)\n",
    "# ax[0].set_xlim(42,45)\n",
    "ax[0].set_xlabel('T, [#]')\n",
    "ax[0].set_ylabel('Range, [m]')\n",
    "ax[0].legend(loc='upper right')\n",
    "\n",
    "ax[1].plot(signal_ratio, ranges, label='Derivative')\n",
    "ax[1].set_ylim(0,7500)\n",
    "ax[1].set_yticks([])\n",
    "# ax[1].set_xlim(0,500)\n",
    "ax[1].set_xlabel(r'$\\frac{RCS_{elastic}}{RCS_{raman}}$, [#]')\n",
    "ax[1].legend(loc='upper right')\n",
    "\n",
    "\n",
    "ax[2].plot(beta_mol_elastic*1e6, ranges, c='r',lw=1,label='mol')\n",
    "ax[2].plot(beta_part_elastic*1e6, ranges, c='g',lw=2,label='part')\n",
    "ax[2].plot(beta_aer_elastic*1e6, ranges, c='b',lw=1,label='aer')\n",
    "ax[2].set_yticks([])\n",
    "ax[2].set_ylim(0,7500)\n",
    "# ax[2].set_xlim(-10,200)\n",
    "ax[2].set_xlabel(r'$\\beta, [Mm^{-1}·sr^{-1}]$')\n",
    "ax[2].legend()"
   ]
  },
  {
   "cell_type": "markdown",
   "metadata": {},
   "source": [
    "Ya que tenemos $\\alpha_{part}$ y $\\beta_{part}$, podemos calcular el perfil de razón lidar $LR$:"
   ]
  },
  {
   "cell_type": "code",
   "execution_count": null,
   "metadata": {},
   "outputs": [],
   "source": [
    "LR = alpha_part_elastic / beta_part_elastic \n",
    "\n"
   ]
  },
  {
   "cell_type": "markdown",
   "metadata": {},
   "source": [
    "Sin embargo, como el perfil de extinción fue suavizado, lo correcto para calcular $LR$ sería usar un perfil de retrodispersión también suavizado."
   ]
  },
  {
   "cell_type": "code",
   "execution_count": null,
   "metadata": {},
   "outputs": [],
   "source": [
    "beta_smooth = savgol_filter(beta_part_elastic, window_size_bin, order, delta=range_resolution, mode=\"nearest\", cval=np.nan)\n",
    "LR_smooth = alpha_part_elastic / beta_smooth"
   ]
  },
  {
   "cell_type": "code",
   "execution_count": null,
   "metadata": {},
   "outputs": [],
   "source": [
    "#Plot\n",
    "fig, ax = plt.subplots(1,3,figsize=(10,6))\n",
    "ax[0].plot(alpha_part_elastic*1e6, ranges,label='smooth')\n",
    "ax[0].set_ylim(0,5000)\n",
    "ax[0].set_xlim(0,250)\n",
    "ax[0].set_xlabel(r'$\\alpha_{part}, [Mm^{-1}]$')\n",
    "ax[0].set_ylabel('Range, [m]')\n",
    "ax[0].legend(loc='upper right')\n",
    "\n",
    "ax[1].plot(beta_part_elastic*1e6, ranges, c='lightcoral', label='raw')\n",
    "ax[1].plot(beta_smooth*1e6, ranges, c='darkred',label='smooth')\n",
    "ax[1].set_ylim(0,5000)\n",
    "ax[1].set_yticks([])\n",
    "# ax[1].set_xlim(0,500)\n",
    "ax[1].set_xlabel(r'$\\beta_{part}, [Mm^{-1}]$')\n",
    "ax[1].legend(loc='upper right')\n",
    "\n",
    "ax[2].plot(LR, ranges, c='lightcoral',lw=1, label='raw')\n",
    "ax[2].plot(LR_smooth, ranges, c='darkred',lw=1, label='smooth')\n",
    "ax[2].set_yticks([]) \n",
    "ax[2].set_ylim(0,5000)\n",
    "ax[2].set_xlim(-10,100)\n",
    "ax[2].set_xlabel(r'$LR, [sr]$')\n",
    "ax[2].legend()"
   ]
  },
  {
   "cell_type": "markdown",
   "metadata": {},
   "source": [
    "Dada la inestabilida de la solución de la extinción, podemos estimar una razón lidar efectiva que poder comparar con la bibliografía:"
   ]
  },
  {
   "cell_type": "code",
   "execution_count": null,
   "metadata": {},
   "outputs": [],
   "source": [
    "#------------------------------------------------------------------------------------------------------------------------------\n",
    "min_average_eight = 2250     #Sets the value of the minimum average altitude in meters asl\n",
    "max_average_height = 4000    #Sets the value of the maximum average altitude in meters asl\n",
    "#------------------------------------------------------------------------------------------------------------------------------\n",
    "average_idx = np.logical_and(ranges>min_average_eight, ranges<max_average_height)\n",
    "LR_effective = np.nanmean(LR[average_idx])\n",
    "LR_std = np.nanstd(LR[average_idx])\n",
    "\n",
    "print('LR[dust] =', np.round(LR_effective,0), '+-', np.round(LR_std,0), 'sr')"
   ]
  },
  {
   "cell_type": "code",
   "execution_count": null,
   "metadata": {},
   "outputs": [],
   "source": []
  },
  {
   "cell_type": "code",
   "execution_count": null,
   "metadata": {},
   "outputs": [],
   "source": []
  }
 ],
 "metadata": {
  "kernelspec": {
   "display_name": "Python 3.10.6 ('.venv': poetry)",
   "language": "python",
   "name": "python3"
  },
  "language_info": {
   "codemirror_mode": {
    "name": "ipython",
    "version": 3
   },
   "file_extension": ".py",
   "mimetype": "text/x-python",
   "name": "python",
   "nbconvert_exporter": "python",
   "pygments_lexer": "ipython3",
   "version": "3.10.6"
  },
  "vscode": {
   "interpreter": {
    "hash": "b5814baae3aab4e87861f92f160e6bfeea4db738bd043ab54cdaf62182f6f46a"
   }
  }
 },
 "nbformat": 4,
 "nbformat_minor": 2
}

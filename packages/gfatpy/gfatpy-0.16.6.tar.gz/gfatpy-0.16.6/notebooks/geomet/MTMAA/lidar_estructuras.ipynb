{
 "cells": [
  {
   "cell_type": "markdown",
   "metadata": {},
   "source": [
    "# Práctica de estructuras\n",
    "\n",
    "Éste es el código que se utilizará para el desarrollo de la práctica de determinación de estructuras mediante lidar. Para ello el/la alumno/a solo tendrá que modificar las sentencias que se encuentran entre:\n",
    "\n",
    "#------------------------------------------------------------------------------------------------------------------------------\n",
    "\n",
    "         Modifique SOLO aquí dentro\n",
    "#------------------------------------------------------------------------------------------------------------------------------\n",
    "\n",
    "Importante:\n",
    "- Un error recurrente puede ser que las rutas se especifiquen con '\\\\' como separador entre carpetas, mientras que el lenguaje Python utiliza '\\\\\\\\' (doble). \n",
    "- También se recomienda correr una a una las celdas, y no correr de nuevo una celda mientras se está ejecutando (el software puede quedarse colgado). Si mientras una celda se está ejecutando, se realiza algún cambio en el código de esa celda y queremos volver a ejecutarla, deberemos esperar a que termine o reiniciar los kernels.\n",
    "- Si lo desea, puede jugar con el resto del código."
   ]
  },
  {
   "cell_type": "markdown",
   "metadata": {},
   "source": [
    "**IMPORTACIÓN DE LIBRERÍAS Y ESPECIFICACIÓN DE RUTAS**\n",
    "\n",
    "En primer lugar **importamos las librerias** necesarias. En el caso de que no se encuentre alguno de los módulos al correr esta celda tendremos que instalar dicho módulo en Anaconda Navigator -> Environments o a través de Anaconda Prompt."
   ]
  },
  {
   "cell_type": "code",
   "execution_count": null,
   "metadata": {},
   "outputs": [],
   "source": [
    "import os\n",
    "from pathlib import Path\n",
    "\n",
    "import numpy as np #For general mathematical calculations\n",
    "import matplotlib.pyplot as plt #For plotting\n",
    "from scipy.signal import savgol_filter #Allows to smooth a profile through the Savitzky-Golay filter\n",
    "\n",
    "#For working with lidar products (developed by the Atmospheric Physics Group of the UGR, GFAT)\n",
    "from gfatpy.lidar.preprocessing import preprocess\n",
    "from gfatpy.lidar.plot.quicklook import date_quicklook\n",
    "from gfatpy.utils.plot import font_axes"
   ]
  },
  {
   "cell_type": "markdown",
   "metadata": {},
   "source": [
    "También, antes de comenzar con el tratamiento de los ficheros, definimos la ruta en la que se encuentran los datos y en la que queremos guardar las gráficas de resultados."
   ]
  },
  {
   "cell_type": "code",
   "execution_count": null,
   "metadata": {},
   "outputs": [],
   "source": [
    "#------------------------------------------------------------------------------------------------------------------------------\n",
    "databasepath = Path(r'G:\\Mi unidad\\03. Docencia\\UGR22-23\\GEOMET\\MTMAA\\Practica_lidar_estructuras\\data\\1a')  #Database folder path, until '\\1a' (included). Example: 'C:\\\\Users\\\\user\\\\Desktop\\\\data\\\\1a'\n",
    "outputpath =   Path(r'C:\\Users\\Usuario\\Downloads\\geomet_output')  #Output folder path. Example: ''C:\\\\Users\\\\user\\\\Desktop\\\\output''\n",
    "#------------------------------------------------------------------------------------------------------------------------------\n",
    "\n",
    "databasepath.is_dir(), outputpath.is_dir() #Comprueba que ambas carpetas existen.\n"
   ]
  },
  {
   "cell_type": "markdown",
   "metadata": {},
   "source": [
    "\n",
    "**SERIES TEMPORALES DE SEÑAL CORREGIDA DE RANGO CON RESOLUCIÓN VERTICAL**\n",
    "\n",
    "A continuación, **se representa la serie temporal con resolución vertical (coloquialmente 'quicklooks')** de los datos lidar medidos. En nuestro caso, representamos el valor de la RCS (range corrected signal) medida en un canal concreto (indicado en el título de la gráfica). Los diferentes canales son:\n",
    "- 355xta (señal total en 355 nm)\n",
    "- 532xca; 532xda; 532xpa; 532xpp (señales discriminando la polarización en 532 nm, que se utilizarán en otra práctica)\n",
    "- 532xta (señal total en 532 nm) **Nosotros trabajaremos con la componente total del canal 532 nm en esta práctica** \n",
    "- 1064xta (señal total en 1064 nm)\n",
    "   \n",
    "La función date_quicklook() representará los quicklooks de los canales seleccionados para un periodo determinado por `ini_date` y `end_date`. En nuestro caso trabajamos con un solo día por lo que `end_date` = `ini_date`. Los quicklooks se guardarán automáticamente en la carpeta especificada en qlpath, con el formato que se utiliza en la base de datos del grupo de Física de la Atmosfera de la UGR. El proceso toma un tiempo y algunos de los comentarios aparecen en francés. Los comentarios que se muestran por pantalla en esta pestaña no son relevantes (a no ser que sea un error que interrumpa el flujo)."
   ]
  },
  {
   "cell_type": "code",
   "execution_count": null,
   "metadata": {},
   "outputs": [],
   "source": [
    "#------------------------------------------------------------------------------------------------------------------------------\n",
    "qlpath = outputpath / 'quicklooks' #Output quicklook folder path. It is suggested to mantain the proposed path\n",
    "ini_date = '20200520' #Data for which quicklooks will be obtained. Format yyyymmdd\n",
    "end_date = ini_date\n",
    "#------------------------------------------------------------------------------------------------------------------------------\n",
    "channels = [\"532xpa\"]\n",
    "date_quicklook(\n",
    "    ini_date,\n",
    "    channels2plot=channels,\n",
    "    path1a=databasepath,\n",
    "    figpath=qlpath,\n",
    "    colorbar_range=(0,5e6),\n",
    ")"
   ]
  },
  {
   "cell_type": "markdown",
   "metadata": {},
   "source": [
    "**PERFIL PROMEDIO DE SEÑAL CORREGIDA DE RANGO**\n",
    "\n",
    "Ahora indicaremos dónde se localizan los ficheros de las medidas realizadas por el lidar. Como se ha explicado en la sesión teórica, siempre que se desea obtener información atmosférica mediante lidar es necesario realizar dos tipos de medidas: la medida atmosférica y la medida de corriente oscura (empleada para realizar correcciones instrumentales). Es necesario especificar ambas para poder procesar correctamente la señal lidar y obtener información atmosférica, procedimiento conocido como **preprocesado**. El archivo de medida atmosférica se nombra como 'mhc_1a_ **Prs**_ YYYYMMDD.nc' y el archivo de corriente oscura como 'mhc_1a_ **Pdc**_ YYYYMMDD_hhmm.nc'. (Nota: Como curiosidad, la función date_quicklook() en la sección anterior tiene implementada internamente la corrección de la señal, por lo que no fue necesario indicar por separado la localización del fichero de la medida y el de corriente oscura para la generación de los quicklooks).\n",
    "\n",
    "También se indicará el intervalo temporal en el que queremos calcular señal corregida de rango. Los intervalos más interesantes en cada caso serán seleccionados por el/la alumno/a en función de cada escenario atmosférico observado en los quicklooks. Se puede realizar el preprocesado para todas las señales lidar medidas en un día completo, pero debe tener en cuenta que cuanto mayor sea el intervalo temporal seleccionado mayor será el tiempo de ejecución requido por la función. **Se recomienda emplear intervalos temporales de 1 o 2 horas**. \n",
    "\n",
    "Una vez especificados los parámetros necesarios, se aplica la **función preprocessing()** que nos corrige la señal lidar medida, obteniendo los productos con los que se puede trabajar."
   ]
  },
  {
   "cell_type": "code",
   "execution_count": null,
   "metadata": {},
   "outputs": [],
   "source": [
    "#------------------------------------------------------------------------------------------------------------------------------\n",
    "filepath = databasepath / '2020' / '05' / '20' / 'mhc_1a_Prs_rs_xf_20200520.nc'   #Lidar product path. Example : 'C:\\\\Users\\\\user\\\\Desktop\\\\data\\\\1a\\\\2020\\\\01\\\\01\\\\mhc_1a_Prs_rs_xf_20200101.nc' \n",
    "dcfilepath = databasepath / '2020' / '05' / '20' / 'mhc_1a_Pdc_rs_xf_20200520_0821.nc' #Lidar dark current product path\n",
    "ini_date = '20200520T180000'   #Initial date and time. Format 'yyyymmddThhmmss', where T represents literally the letter T. Example: '20200101T200000'\n",
    "end_date = '20200520T183000'   #Same format than ini_date\n",
    "#------------------------------------------------------------------------------------------------------------------------------\n",
    "\n",
    "if os.path.exists(filepath) and os.path.exists(dcfilepath):\n",
    "    channels = [\"532xpa\"]\n",
    "    data = preprocess(filepath, dc_fl=dcfilepath, channels=channels, ini_date=ini_date, end_date=end_date)\n",
    "else:\n",
    "    print(\"One (or both) of the given files can not be found.\")"
   ]
  },
  {
   "cell_type": "markdown",
   "metadata": {},
   "source": [
    "La siguiente celda permite **representar la señal corregida de rango del canal de estudio, promediando en el intervalo temporal indicado** (en función del interés de la situación atmosférica observada en los quicklooks). Los parámetros sobre el rango vertical pueden modificarse en función del interés del alumno/a. \n",
    "\n",
    "Debido a que las señales lidar pueden ser ruidosas, se puede aplicar un suavizado espacial para mejorar la razón señal-ruido (SNR). Para realizar el suavizado del perfil es necesario indicar el número de puntos empleados para el suavizado. Este parámetro será determinado por el/la alumno/a, en función de los resultados que se encuentren en los métodos que se aplican más adelante."
   ]
  },
  {
   "cell_type": "code",
   "execution_count": null,
   "metadata": {},
   "outputs": [],
   "source": [
    "%matplotlib notebook \n",
    "#------------------------------------------------------------------------------------------------------------------------------\n",
    "ini_date = '20200520T180000'    #Same format as before\n",
    "end_date = '20200520T183000'    #Same format as before\n",
    "ini_range = 0.       #Bottom value of the vertical range (height) in meters\n",
    "end_range = 10000.      #Top value of the vertical range (height) in meters\n",
    "points2smooth = 15   #Points to use in the smooth of the profile\n",
    "#------------------------------------------------------------------------------------------------------------------------------\n",
    "data['rcs_532xpa'] = data.signal_532xpa*data.range**2\n",
    "sliced_rcs532_smoothed = savgol_filter(data['rcs_532xpa'].sel(time=slice(ini_date,end_date),range=slice(ini_range,end_range)).mean('time').values, points2smooth, 1)\n",
    "sliced_range = data.coords['range'].values[0:len(sliced_rcs532_smoothed)]\n",
    "\n",
    "#Plotting\n",
    "fig, ax1 = plt.subplots(1, 1, figsize = (5, 10))\n",
    "ax1.set_title(f\"Granada, {ini_date[6:8]}/{ini_date[4:6]}/{ini_date[0:4]}\\n {ini_date[9:17]} - {end_date[9:17]} UTC\")\n",
    "ax1.set(xlabel = \"RCS$_{532}$ [a.u.]\", ylabel = \"Height [m agl]\")\n",
    "ax1.plot(data['rcs_532xpa'].sel(time=slice(ini_date,end_date),range=slice(ini_range,end_range)).mean('time'),sliced_range/1000., color = 'coral') #Allows to observe the original (unsmoothed) profile\n",
    "ax1.plot(sliced_rcs532_smoothed,sliced_range/1000.)\n",
    "ax1.legend(('original', 'smoothed'), scatterpoints=1, loc='upper right', ncol=1, fontsize=10.5) #Represents the legend. Only used in the case that the original profiles is represented\n",
    "ax1.ticklabel_format(axis=\"x\", style=\"sci\", scilimits=(0,0))\n",
    "ax1.xaxis.major.formatter._useMathText = True\n",
    "ax1.set_ylabel('Range, km agl')\n",
    "ax1.set_xlim(left = 0)\n",
    "ax1.set_ylim(bottom = 0)\n",
    "font_axes(ax1,12)\n",
    "\n",
    "#The next line allows to save the figure. It will be executed right after the graphic is finished, so if you want to use the\n",
    "#tools of \"\"%matplotlib notebook\" (e.g. zoom or shift the profile) before saving the figure, you have to use the next cell, \n",
    "#where the save line is independent. You can use this technique in all the upcoming cases.\n",
    "plt.tight_layout()\n",
    "plt.savefig(outputpath / f\"rcs_{ini_date}_{end_date}.png\") "
   ]
  },
  {
   "cell_type": "markdown",
   "metadata": {},
   "source": [
    "En caso de querer guardar el gráfico tras usar \"%matplotlib notebook\" use la siguiente celda. "
   ]
  },
  {
   "cell_type": "code",
   "execution_count": null,
   "metadata": {},
   "outputs": [],
   "source": [
    "#Use this cell in case you want to save a graphic after using the tools of \"%matplotlib notebook\". You can change the output \n",
    "#name of the figure, and you can use this same cell for all the upcoming graphics.\n",
    "#plt.savefig(outputpath + \"\\\\\" + ini_date.replace(\":\",'')[:-2] + \"_\" + end_date.replace(\":\",'')[:-2] + \"_RCS.png\") "
   ]
  },
  {
   "cell_type": "markdown",
   "metadata": {},
   "source": [
    "**PERFIL DE PRIMERA DERIVADA DE SEÑAL CORREGIDA DE RANGO**\n",
    "\n",
    "El módulo siguiente permitirá **realizar el método de la primera derivada de RCS**, que permite estimar las alturas de la capa límite atmosférica y capas desacopladas. Para su comodidad, las últimas líneas permiten representar líneas horizontales que le permitirán marcar determinadas alturas relevantes."
   ]
  },
  {
   "cell_type": "code",
   "execution_count": null,
   "metadata": {},
   "outputs": [],
   "source": [
    "%matplotlib notebook \n",
    "#------------------------------------------------------------------------------------------------------------------------------\n",
    "#This four variables allow to zoom the graphic based on the previously observed profile. Some default values are given as a hint\n",
    "x_min = None  #Bottom value of the RCS first derivative in arbitrary units\n",
    "x_max = None #Top value of the RCS first derivative in arbitrary units\n",
    "y_min = None #Bottom value of the vertical range (height) in meters\n",
    "y_max = None #Top value of the vertical range (height) in meters\n",
    "#------------------------------------------------------------------------------------------------------------------------------\n",
    "\n",
    "f_deriv_smoothed = np.gradient(sliced_rcs532_smoothed) #Performs the derivative\n",
    "\n",
    "#Plotting\n",
    "fig, (ax1, ax2) = plt.subplots(1, 2, figsize = (10, 11), sharey = True)\n",
    "fig.suptitle(f\"\\n\\nGranada, {ini_date[6:8]}/{ini_date[4:6]}/{ini_date[0:4]}\\n{ini_date[9:17]} - {end_date[9:17]} UTC\")\n",
    "ax1.set(xlabel = \"RCS$_{532}$ [a.u.]\", ylabel = \"Range [km agl]\")\n",
    "ax1.plot(sliced_rcs532_smoothed,sliced_range/1000.)\n",
    "ax1.ticklabel_format(axis=\"x\", style=\"sci\", scilimits=(0,0))\n",
    "ax1.xaxis.major.formatter._useMathText = True\n",
    "ax1.set_xlim(left = 0)\n",
    "ax2.set(xlabel = r\"$\\frac{dRCS_{532}}{dz}$ [a.u.]\")\n",
    "ax2.plot(np.gradient(data['rcs_532xpa'].sel(time=slice(ini_date,end_date),range=slice(ini_range,end_range)).mean('time')), sliced_range/1000., color = 'coral') #Plots the profile with the original (unsmoothed) products\n",
    "ax2.plot(f_deriv_smoothed, sliced_range/1000.)\n",
    "ax2.legend(('original', 'smoothed'), scatterpoints=1, loc='upper right', ncol=1, fontsize=10.5) #Represents the legend. Use only in case the original profile is represented\n",
    "ax2.axvline(x = 0, color = \"k\")\n",
    "if x_min is not None and x_max is not None:\n",
    "    ax2.set(xlim = (x_min,x_max))\n",
    "if y_min is not None and y_max is not None:\n",
    "    ax2.set(ylim = (y_min,y_max))\n",
    "ax2.ticklabel_format(axis = \"x\", style = \"sci\", scilimits = (0,0))\n",
    "ax2.xaxis.major.formatter._useMathText = True\n",
    "for ax_ in [ax1, ax2]:\n",
    "    font_axes(ax_,12)\n",
    "#Optional. You can represent horizontal lines (as much as needed) to indicate the method height estimation for each layer. If \n",
    "#you decided not to use them, you can directly delete the lines or comment them (#__ o \"\"\"__\"\"\"). To use them, simply write\n",
    "#the height estimated value in height_n.\n",
    "\n",
    "\n",
    "height_1 = 1. #km\n",
    "ax1.axhline(y = height_1, color = \"r\")\n",
    "ax2.axhline(y = height_1, color = \"r\")\n",
    "\n",
    "\"\"\"\n",
    "height_2 = 1.5 #km\n",
    "ax1.axhline(y = height_2, color = \"b\")\n",
    "ax2.axhline(y = height_2, color = \"b\")\n",
    "\n",
    "height_3 = 1.2 #km\n",
    "ax1.axhline(y = height_3, color = \"b\")\n",
    "ax2.axhline(y = height_3, color = \"b\")\n",
    "\n",
    "height_4 = 1.3 #km\n",
    "ax1.axhline(y = height_4, color = \"g\")\n",
    "ax2.axhline(y = height_4, color = \"g\")\n",
    "\n",
    "height_5 = 1.4 #km\n",
    "ax1.axhline(y = height_5, color = \"g\")\n",
    "ax2.axhline(y = height_5, color = \"g\")\n",
    "\"\"\"\n",
    "\n",
    "plt.tight_layout()\n",
    "plt.savefig(outputpath / f\"drcs_{ini_date}_{end_date}.png\") "
   ]
  },
  {
   "cell_type": "markdown",
   "metadata": {},
   "source": [
    "**PERFIL DE PRIMERA DERIVADA LOGARÍTIMICA DE SEÑAL CORREGIDA DE RANGO**\n",
    "\n",
    "El módulo siguiente permitirá **realizar el método de la primera derivada del logaritmo de RCS**, que permite estimar las alturas de la capa límite atmosférica y capas desacopladas."
   ]
  },
  {
   "cell_type": "code",
   "execution_count": null,
   "metadata": {},
   "outputs": [],
   "source": [
    "%matplotlib notebook \n",
    "#------------------------------------------------------------------------------------------------------------------------------\n",
    "#This four variables allow to zoom the graphic based on the previously observed profile. Some default values are given as a hint\n",
    "x_min = None #Bottom value of the RCS first log derivative in arbitrary units\n",
    "x_max = None #Top value of the RCS first log derivative in arbitrary units\n",
    "y_min = None #Bottom value of the vertical range (height) in meters\n",
    "y_max = None #Top value of the vertical range (height) in meters\n",
    "#------------------------------------------------------------------------------------------------------------------------------\n",
    "\n",
    "log_smoothed = np.log(sliced_rcs532_smoothed)\n",
    "f_deriv_log_smoothed = np.gradient(log_smoothed)\n",
    "\n",
    "#Plotting\n",
    "fig, (ax1, ax2) = plt.subplots(1, 2, figsize = (11, 12), sharey = True)\n",
    "fig.suptitle(f\"\\n\\nGranada, {ini_date[6:8]}/{ini_date[4:6]}/{ini_date[0:4]}\\n{ini_date[9:17]} - {end_date[9:17]} UTC\")\n",
    "ax1.set(xlabel = \"RCS$_{532}$ [a.u.]\", ylabel = \"Range [km agl]\")\n",
    "ax1.plot(sliced_rcs532_smoothed,sliced_range/1000.)\n",
    "ax1.ticklabel_format(axis=\"x\", style=\"sci\", scilimits=(0,0))\n",
    "ax1.xaxis.major.formatter._useMathText = True\n",
    "ax1.set_xlim(left = 0)\n",
    "ax2.set(xlabel = r\"$\\frac{dLnRCS_{532}}{dz}$ [a.u.]\")\n",
    "ax2.plot(np.gradient(np.log(data['rcs_532xpa'].sel(time=slice(ini_date,end_date),range=slice(ini_range,end_range)).mean('time'))), sliced_range/1000., color = 'coral') #Plots the profile with the original (unsmoothed) products\n",
    "ax2.plot(f_deriv_log_smoothed, sliced_range/1000.)\n",
    "ax2.legend(('original', 'smoothed'), scatterpoints=1, loc='upper right', ncol=1, fontsize=10.5) #Represents the legend. Use only in case the original profile is represented\n",
    "ax2.axvline(x = 0, color = \"k\")\n",
    "if x_min is not None and x_max is not None:\n",
    "    ax2.set(xlim = (x_min,x_max))\n",
    "if y_min is not None and y_max is not None:\n",
    "    ax2.set(ylim = (y_min,y_max))\n",
    "ax2.ticklabel_format(axis=\"x\", style=\"sci\", scilimits=(0,0))\n",
    "ax2.xaxis.major.formatter._useMathText = True\n",
    "for ax_ in [ax1, ax2]:\n",
    "    font_axes(ax_,12)\n",
    "    \n",
    "#Optional. You can represent horizontal lines (as much as needed) to indicate the method height estimation for each layer. If \n",
    "#you decided not to use them, you can directly delete the lines or comment them (#__ o \"\"\"__\"\"\"). To use them, simply write\n",
    "#the height estimated value in height_n.\n",
    "\n",
    "height_1 = 1. #km\n",
    "ax1.axhline(y = height_1, color = \"r\")\n",
    "ax2.axhline(y = height_1, color = \"r\")\n",
    "\n",
    "plt.tight_layout()\n",
    "plt.savefig(outputpath / f\"dlnrcs_{ini_date}_{end_date}.png\") "
   ]
  },
  {
   "cell_type": "markdown",
   "metadata": {},
   "source": [
    "**PERFIL DE VARIANZA DE SEÑAL CORREGIDA DE RANGO**\n",
    "\n",
    "Finalmente, el siguiente módulo permitirá **realizar el método de la varianza de RCS**, que permite estimar las alturas de la capa límite atmosférica y capas desacopladas."
   ]
  },
  {
   "cell_type": "code",
   "execution_count": null,
   "metadata": {},
   "outputs": [],
   "source": [
    "%matplotlib notebook \n",
    "#------------------------------------------------------------------------------------------------------------------------------\n",
    "#This four variables allow to zoom the graphic based on the previously observed profile. Some default values are given as a hint\n",
    "x_min = None #Bottom value of the RCS variance in arbitrary units\n",
    "x_max = None #Top value of the RCS variance in arbitrary units\n",
    "y_min = None #Bottom value of the vertical range (height) in meters\n",
    "y_max = None #Top value of the vertical range (height) in meters\n",
    "#------------------------------------------------------------------------------------------------------------------------------\n",
    "\n",
    "stddev = data['rcs_532xpa'].sel(time=slice(ini_date,end_date),range=slice(ini_range,end_range)).std('time')\n",
    "stddev_smoothed = savgol_filter(stddev, points2smooth, 1)\n",
    "\n",
    "#Plotting\n",
    "fig, (ax1, ax2) = plt.subplots(1, 2, figsize = (11, 12), sharey = True)\n",
    "fig.suptitle(f\"\\n\\nGranada, {ini_date[6:8]}/{ini_date[4:6]}/{ini_date[0:4]}\\n{ini_date[9:17]} - {end_date[9:17]} UTC\")\n",
    "ax1.set(xlabel = \"RCS$_{532}$ [a.u.]\", ylabel = \"Range [km agl]\")\n",
    "ax1.plot(sliced_rcs532_smoothed,sliced_range/1000.)\n",
    "ax1.ticklabel_format(axis=\"x\", style=\"sci\", scilimits=(0,0))\n",
    "ax1.xaxis.major.formatter._useMathText = True\n",
    "ax1.set_xlim(left = 0)\n",
    "ax2.set(xlabel = \"Std. dev. [a.u.]\")\n",
    "ax2.plot(stddev, sliced_range/1000., color = 'coral') #Plots the profile with the original (unsmoothed) products\n",
    "ax2.plot(stddev_smoothed, sliced_range/1000.)\n",
    "ax2.legend(('original', 'smoothed'), scatterpoints=1, loc='upper right', ncol=1, fontsize=10.5) #Represents the legend. Use only in case the original profile is represented\n",
    "if x_min is not None and x_max is not None:\n",
    "    ax2.set(xlim = (x_min,x_max))\n",
    "if y_min is not None and y_max is not None:\n",
    "    ax2.set(ylim = (y_min,y_max))\n",
    "ax2.ticklabel_format(axis=\"x\", style=\"sci\", scilimits=(0,0))\n",
    "ax2.xaxis.major.formatter._useMathText = True\n",
    "for ax_ in [ax1, ax2]:\n",
    "    font_axes(ax_,12)\n",
    "\n",
    "#Optional. You can represent horizontal lines (as much as needed) to indicate the method height estimation for each layer. If \n",
    "#you decided not to use them, you can directly delete the lines or comment them (#__ o \"\"\"__\"\"\"). To use them, simply write\n",
    "#the height estimated value in height_n.\n",
    "\n",
    "height_1 = 0.6 #km\n",
    "ax1.axhline(y = height_1, color = \"r\")\n",
    "ax2.axhline(y = height_1, color = \"r\")\n",
    "\n",
    "plt.tight_layout()\n",
    "plt.savefig(outputpath / f\"stddev_{ini_date}_{end_date}.png\") "
   ]
  }
 ],
 "metadata": {
  "kernelspec": {
   "display_name": "Python 3 (ipykernel)",
   "language": "python",
   "name": "python3"
  },
  "language_info": {
   "codemirror_mode": {
    "name": "ipython",
    "version": 3
   },
   "file_extension": ".py",
   "mimetype": "text/x-python",
   "name": "python",
   "nbconvert_exporter": "python",
   "pygments_lexer": "ipython3",
   "version": "3.10.5"
  },
  "vscode": {
   "interpreter": {
    "hash": "b61302ffc4db2b0d20d7b3dd013251e47470a855f96363bc85fea0bcdb0e9ea0"
   }
  }
 },
 "nbformat": 4,
 "nbformat_minor": 2
}

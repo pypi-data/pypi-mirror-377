{
 "cells": [
  {
   "cell_type": "code",
   "execution_count": 1,
   "id": "21dcbfa7",
   "metadata": {},
   "outputs": [],
   "source": [
    "import logging\n",
    "from typing import Any\n",
    "from pdb import set_trace\n",
    "from importlib import reload\n",
    "\n",
    "import numpy as np\n",
    "import xarray as xr\n",
    "import matplotlib.pyplot as plt\n",
    "from scipy.integrate import cumulative_trapezoid as cumtrapz\n",
    "from scipy.signal import savgol_filter\n",
    "\n",
    "from gfatpy.config import set_logger_level\n",
    "from gfatpy.lidar.preprocessing import preprocess\n",
    "from gfatpy.lidar import utils\n",
    "from gfatpy.atmo import ecmwf, atmo\n",
    "from gfatpy.lidar.retrieval import klett\n",
    "from gfatpy.lidar.retrieval.helper import RetrievalHelper\n",
    "\n",
    "set_logger_level(\"WARNING\")\n",
    "\n",
    "%load_ext autoreload\n",
    "%autoreload 2\n",
    "\n",
    "%matplotlib inline"
   ]
  },
  {
   "cell_type": "markdown",
   "id": "d8f16dc7",
   "metadata": {},
   "source": [
    "### Read data"
   ]
  },
  {
   "cell_type": "code",
   "execution_count": 2,
   "id": "8328d3bb",
   "metadata": {},
   "outputs": [
    {
     "ename": "TypeError",
     "evalue": "preprocess() got an unexpected keyword argument 'rs_fl'",
     "output_type": "error",
     "traceback": [
      "\u001b[1;31m---------------------------------------------------------------------------\u001b[0m",
      "\u001b[1;31mTypeError\u001b[0m                                 Traceback (most recent call last)",
      "Cell \u001b[1;32mIn[2], line 4\u001b[0m\n\u001b[0;32m      1\u001b[0m RS_FL \u001b[39m=\u001b[39m \u001b[39mr\u001b[39m\u001b[39m\"\u001b[39m\u001b[39m../tests/datos/MULHACEN/1a/2022/08/08/*Prs*.nc\u001b[39m\u001b[39m\"\u001b[39m\n\u001b[0;32m      2\u001b[0m DC_FL \u001b[39m=\u001b[39m \u001b[39mr\u001b[39m\u001b[39m\"\u001b[39m\u001b[39m../tests/datos/MULHACEN/1a/2022/08/08/*Pdc*.nc\u001b[39m\u001b[39m\"\u001b[39m\n\u001b[1;32m----> 4\u001b[0m lidar \u001b[39m=\u001b[39m preprocess(\n\u001b[0;32m      5\u001b[0m     rs_fl\u001b[39m=\u001b[39;49mRS_FL,\n\u001b[0;32m      6\u001b[0m     dc_fl\u001b[39m=\u001b[39;49mDC_FL,\n\u001b[0;32m      7\u001b[0m     channels\u001b[39m=\u001b[39;49m[\u001b[39m\"\u001b[39;49m\u001b[39m532xpa\u001b[39;49m\u001b[39m\"\u001b[39;49m],\n\u001b[0;32m      8\u001b[0m     deadtime_flag\u001b[39m=\u001b[39;49m\u001b[39mFalse\u001b[39;49;00m,\n\u001b[0;32m      9\u001b[0m )\n",
      "\u001b[1;31mTypeError\u001b[0m: preprocess() got an unexpected keyword argument 'rs_fl'"
     ]
    }
   ],
   "source": [
    "RS_FL = r\"../tests/datos/MULHACEN/1a/2022/08/08/*Prs*.nc\"\n",
    "DC_FL = r\"../tests/datos/MULHACEN/1a/2022/08/08/*Pdc*.nc\"\n",
    "\n",
    "lidar = preprocess(\n",
    "    rs_fl=RS_FL,\n",
    "    dc_fl=DC_FL,\n",
    "    channels=[\"532xpa\"],\n",
    "    deadtime_flag=False,\n",
    ")"
   ]
  },
  {
   "cell_type": "code",
   "execution_count": null,
   "id": "70cd4cf1",
   "metadata": {},
   "outputs": [],
   "source": [
    "n_profile = 30\n",
    "prof = lidar.signal_532xpa[n_profile, :].values\n",
    "rcs = prof * lidar[\"range\"] ** 2"
   ]
  },
  {
   "cell_type": "code",
   "execution_count": null,
   "id": "7718fb06",
   "metadata": {},
   "outputs": [],
   "source": [
    "plt.plot(rcs, np.arange(len(rcs.values))*7.5)\n",
    "\n",
    "plt.show()"
   ]
  },
  {
   "cell_type": "markdown",
   "id": "80edf9ca",
   "metadata": {},
   "source": [
    "### Create a synthetic profile"
   ]
  },
  {
   "cell_type": "code",
   "execution_count": null,
   "id": "61e8d186",
   "metadata": {},
   "outputs": [],
   "source": [
    "z = lidar[\"range\"].values\n",
    "\n",
    "P, params = utils.generate_synthetic_signal(z, wavelength=532, force_zero_aer_after_bin=1100, k_lidar = 2e11)"
   ]
  },
  {
   "cell_type": "code",
   "execution_count": null,
   "id": "c386e180",
   "metadata": {},
   "outputs": [],
   "source": [
    "print(params.keys())"
   ]
  },
  {
   "cell_type": "code",
   "execution_count": null,
   "id": "6cca3be6",
   "metadata": {},
   "outputs": [],
   "source": [
    "plt.plot(params[\"particle_beta\"], z)\n",
    "plt.plot(params[\"molecular_beta\"], z)\n",
    "\n",
    "plt.ylim((0, 7500))"
   ]
  },
  {
   "cell_type": "code",
   "execution_count": null,
   "id": "edaa9bf4",
   "metadata": {},
   "outputs": [],
   "source": [
    "plt.plot(params[\"particle_accum_ext\"], z)\n",
    "plt.plot(params[\"molecular_accum_ext\"], z)\n",
    "\n",
    "plt.plot(params[\"transmittance\"], z)\n",
    "\n",
    "\n",
    "plt.ylim((0, 7500))"
   ]
  },
  {
   "cell_type": "code",
   "execution_count": null,
   "id": "5a4c18d2",
   "metadata": {},
   "outputs": [],
   "source": [
    "plt.plot(P * z**2, z)\n",
    "\n",
    "plt.ylim((0, 7500))"
   ]
  },
  {
   "cell_type": "code",
   "execution_count": null,
   "id": "cd82d762",
   "metadata": {},
   "outputs": [],
   "source": [
    "klett.klett_rcs(P * z**2, range_profile = z, beta_mol_profile=params[\"molecular_beta\"])"
   ]
  },
  {
   "cell_type": "code",
   "execution_count": 3,
   "id": "086fc43b",
   "metadata": {},
   "outputs": [
    {
     "ename": "NameError",
     "evalue": "name 'params' is not defined",
     "output_type": "error",
     "traceback": [
      "\u001b[1;31m---------------------------------------------------------------------------\u001b[0m",
      "\u001b[1;31mNameError\u001b[0m                                 Traceback (most recent call last)",
      "Cell \u001b[1;32mIn[3], line 3\u001b[0m\n\u001b[0;32m      1\u001b[0m fig, ax \u001b[39m=\u001b[39m plt\u001b[39m.\u001b[39msubplots()\n\u001b[1;32m----> 3\u001b[0m ax\u001b[39m.\u001b[39mplot(params[\u001b[39m'\u001b[39m\u001b[39mmolecular_beta\u001b[39m\u001b[39m'\u001b[39m], z, label \u001b[39m=\u001b[39m \u001b[39m\"\u001b[39m\u001b[39mmolecular beta\u001b[39m\u001b[39m\"\u001b[39m)\n\u001b[0;32m      4\u001b[0m ax\u001b[39m.\u001b[39mplot(params[\u001b[39m'\u001b[39m\u001b[39mparticle_beta\u001b[39m\u001b[39m'\u001b[39m], z, label \u001b[39m=\u001b[39m \u001b[39m\"\u001b[39m\u001b[39mparticle beta\u001b[39m\u001b[39m\"\u001b[39m)\n\u001b[0;32m      7\u001b[0m ax\u001b[39m.\u001b[39mlegend()\n",
      "\u001b[1;31mNameError\u001b[0m: name 'params' is not defined"
     ]
    },
    {
     "data": {
      "image/png": "[encoded data removed]",
      "text/plain": [
       "<Figure size 582.6x409.4 with 1 Axes>"
      ]
     },
     "metadata": {},
     "output_type": "display_data"
    },
    {
     "data": {
      "image/png": "[encoded data removed]",
      "text/plain": [
       "<Figure size 582.6x409.4 with 1 Axes>"
      ]
     },
     "metadata": {},
     "output_type": "display_data"
    }
   ],
   "source": [
    "fig, ax = plt.subplots()\n",
    "\n",
    "ax.plot(params['molecular_beta'], z, label = \"molecular beta\")\n",
    "ax.plot(params['particle_beta'], z, label = \"particle beta\")\n",
    "\n",
    "\n",
    "ax.legend()"
   ]
  },
  {
   "cell_type": "markdown",
   "id": "66522099",
   "metadata": {},
   "source": [
    "### Rayleigh fit"
   ]
  },
  {
   "cell_type": "code",
   "execution_count": null,
   "id": "02fdc5f6",
   "metadata": {},
   "outputs": [],
   "source": [
    "fig, ax = plt.subplots()\n",
    "\n",
    "beta_total = params[\"molecular_beta_att\"]\n",
    "\n",
    "P_rcs = P * z**2\n",
    "beta_att_norm = beta_total / beta_total[np.searchsorted(z, 7500)]\n",
    "p_norm = P_rcs / P_rcs[np.searchsorted(z, 7500)]\n",
    "\n",
    "ax.plot(z, beta_att_norm, alpha = 0.7, label = \"Molecular attenuated betta\")\n",
    "ax.plot(z, p_norm, alpha = 0.7, label = \"Synthetic lidar RCS\")\n",
    "\n",
    "\n",
    "ax.set(ylabel=\"Normalized signal [a.u]\",xlabel=\"Range [m]\")\n",
    "ax.set_yscale(\"log\")\n",
    "\n",
    "ax.legend()\n"
   ]
  },
  {
   "cell_type": "markdown",
   "id": "db62eab1",
   "metadata": {},
   "source": [
    "### Std profile"
   ]
  },
  {
   "cell_type": "code",
   "execution_count": null,
   "id": "81eb32a6",
   "metadata": {},
   "outputs": [],
   "source": [
    "std_profiles = (400, 415)\n",
    "\n",
    "rs = lidar.signal_532xpa[std_profiles[0]:std_profiles[1]]\n",
    "\n",
    "mean = rs.mean(axis = 0).values\n",
    "std = rs.std(axis = 0).values\n",
    "\n",
    "fig, ax = plt.subplots()\n",
    "\n",
    "ax.plot(mean, z, '--',alpha = 0.5 , lw=0.8, label=\"Mean $P(R)$\")\n",
    "\n",
    "ax2 = ax.twiny()\n",
    "ax2.plot(std, z, lw=0.8 ,alpha = 0.5, c = 'k', label = \"Std deviation\")\n",
    "\n",
    "ax2.set(xlabel=f\"Std from profiles {50, 200} [mV]\")\n",
    "ax2.legend(loc=9)\n",
    "\n",
    "ax.set(xlabel=\"Mean output signal [mV]\",ylabel=\"Range [m]\")\n",
    "ax.legend()\n",
    "\n",
    "plt.show()"
   ]
  },
  {
   "cell_type": "markdown",
   "id": "ea6e8464",
   "metadata": {},
   "source": [
    "### Montecarlo profiles"
   ]
  },
  {
   "cell_type": "code",
   "execution_count": null,
   "id": "d7753639",
   "metadata": {},
   "outputs": [],
   "source": [
    "def generate_noisy_profiles(mean: np.ndarray, std: np.ndarray, n_profiles: int = 30) -> np.ndarray:\n",
    "    profiles: Any = None\n",
    "    for n in range(n_profiles):\n",
    "        if profiles is None:\n",
    "            profiles = np.random.normal(mean, std)\n",
    "        else:\n",
    "            profiles = np.vstack([profiles, np.random.normal(mean, std)])\n",
    "    \n",
    "    return profiles\n",
    "\n",
    "noise_profiles = generate_noisy_profiles(P, std, n_profiles = 30)"
   ]
  },
  {
   "cell_type": "code",
   "execution_count": null,
   "id": "a094f05f",
   "metadata": {},
   "outputs": [],
   "source": [
    "fig, ax = plt.subplots()\n",
    "\n",
    "bin_limit = 0\n",
    "\n",
    "for i in noise_profiles:\n",
    "    ax.plot(i[bin_limit:] * z[bin_limit:]**2, z[bin_limit:], c = \"k\", lw = 0.1)\n",
    "\n",
    "ax.plot(P*z**2, z, c = 'r')"
   ]
  },
  {
   "cell_type": "markdown",
   "id": "fd183f49",
   "metadata": {},
   "source": [
    "### Klett inversion"
   ]
  },
  {
   "cell_type": "code",
   "execution_count": null,
   "id": "2ee6e423",
   "metadata": {},
   "outputs": [],
   "source": [
    "klett_res = klett.klett_rcs(P_rcs, range_profile = z, beta_mol_profile=params[\"molecular_beta\"])\n",
    "klett_noise = klett.klett_rcs(noise_profiles[0: 15].mean(axis=0) *z**2, range_profile = z, beta_mol_profile=params[\"molecular_beta\"])\n",
    "klett_noise2 = klett.klett_rcs(noise_profiles[0: 15].mean(axis=0) *z**2, range_profile = z, beta_mol_profile=params[\"molecular_beta\"], ymin=6000, ymax=8000)"
   ]
  },
  {
   "cell_type": "code",
   "execution_count": null,
   "id": "917d738c",
   "metadata": {},
   "outputs": [],
   "source": [
    "fig, ax = plt.subplots()\n",
    "\n",
    "ax.plot(params[\"particle_beta\"], z, label = r\"$\\beta_{part}$\", alpha = 0.7)\n",
    "ax.plot(klett_res, z, '--', label = r\"$\\beta_{part}$ Klett\", alpha = 0.7)\n",
    "ax.plot(klett_noise, z, label = r\"$\\beta_{part}$ Klett noise avg15\", alpha = 0.7)\n",
    "ax.plot(klett_noise2, z, label = r\"$\\beta_{part}$ Klett noise 6-7\", alpha = 0.7)\n",
    "# ax.plot(savgol_filter(klett_noise, 15, 3), z, label = r\"$\\beta_{part}$ Klett noise filter avg15\", alpha = 0.7)\n",
    "\n",
    "ax.set(ylabel=\"Normalized signal [a.u]\",xlabel=\"Range [m]\")\n",
    "\n",
    "plt.xlim((0, 4e-6))\n",
    "plt.ylim((0, 1e4))\n",
    "\n",
    "ax.legend()"
   ]
  },
  {
   "cell_type": "code",
   "execution_count": null,
   "id": "d27d2da7",
   "metadata": {},
   "outputs": [],
   "source": [
    "k_lidar = P_rcs / (klett_noise2 + params[\"molecular_beta\"]) / params[\"transmittance\"]**2"
   ]
  },
  {
   "cell_type": "code",
   "execution_count": null,
   "id": "8d757cfa",
   "metadata": {},
   "outputs": [],
   "source": [
    "plt.plot(k_lidar, z)\n",
    "\n",
    "plt.xlim((0, 4e11))\n",
    "plt.ylim((0, 10000))"
   ]
  },
  {
   "cell_type": "code",
   "execution_count": null,
   "id": "ecbe0ec7",
   "metadata": {},
   "outputs": [],
   "source": [
    "1500 / 7.5"
   ]
  },
  {
   "cell_type": "code",
   "execution_count": null,
   "id": "ff05674a",
   "metadata": {},
   "outputs": [],
   "source": [
    "k_lidar_mean = k_lidar[200:400].mean()\n",
    "k_lidar[200:400].std()"
   ]
  },
  {
   "cell_type": "code",
   "execution_count": null,
   "id": "4e35deef",
   "metadata": {},
   "outputs": [],
   "source": [
    "print(f\"{k_lidar_mean:.2e}\")\n",
    "print(f\"{k_lidar[200:400].std():.2e}\")"
   ]
  },
  {
   "cell_type": "code",
   "execution_count": null,
   "id": "cac72eb3",
   "metadata": {},
   "outputs": [],
   "source": [
    "params.keys()\n"
   ]
  },
  {
   "cell_type": "markdown",
   "id": "46fac179",
   "metadata": {},
   "source": [
    "### Retrieval helper"
   ]
  },
  {
   "cell_type": "code",
   "execution_count": null,
   "id": "8f35cc2b",
   "metadata": {},
   "outputs": [],
   "source": [
    "from datetime import datetime\n",
    "\n",
    "rh = RetrievalHelper(lidar)"
   ]
  },
  {
   "cell_type": "code",
   "execution_count": null,
   "id": "55b57268",
   "metadata": {},
   "outputs": [],
   "source": [
    "rh.data"
   ]
  },
  {
   "cell_type": "code",
   "execution_count": null,
   "id": "54eb34b6",
   "metadata": {},
   "outputs": [],
   "source": [
    "rh.rcs"
   ]
  },
  {
   "cell_type": "code",
   "execution_count": null,
   "id": "b5a793a3",
   "metadata": {},
   "outputs": [],
   "source": [
    "rh.quicklook()"
   ]
  },
  {
   "cell_type": "code",
   "execution_count": null,
   "id": "04f31d5b",
   "metadata": {},
   "outputs": [],
   "source": [
    "rh.data['signal_532xpa'].sel(range=slice(4000,5000), time=slice(\"20220808T120000.0\",\"20220808T123000.0\")).mean('time')"
   ]
  },
  {
   "cell_type": "code",
   "execution_count": null,
   "id": "f1507407",
   "metadata": {},
   "outputs": [],
   "source": [
    "# Como hacer queries dentro de xarray\n",
    "# rh.data.sel(time=slice(), range=slice()).values"
   ]
  },
  {
   "cell_type": "markdown",
   "id": "d7999f83",
   "metadata": {},
   "source": [
    "### Klett on profile"
   ]
  },
  {
   "cell_type": "code",
   "execution_count": null,
   "id": "5048abb5",
   "metadata": {},
   "outputs": [],
   "source": [
    "ecmwf_13 = ecmwf.get_ecmwf_temperature_pressure(\"2022-08-08\", hour = 13, ranges_array = z)\n",
    "params_atmo = atmo.molecular_properties(rh.wavelength, ecmwf_13.pressure, ecmwf_13.temperature, z)\n"
   ]
  },
  {
   "cell_type": "code",
   "execution_count": null,
   "id": "b88cd9a7",
   "metadata": {},
   "outputs": [],
   "source": [
    "params = atmo.molecular_properties(rh.wavelength, ecmwf_13.pressure, ecmwf_13.temperature, z)\n",
    "\n",
    "rh.plot_profile(400)\n",
    "rh.plot_profile(500)\n",
    "\n",
    "rh.show()"
   ]
  },
  {
   "cell_type": "code",
   "execution_count": null,
   "id": "f8f47a65",
   "metadata": {},
   "outputs": [],
   "source": [
    "fig, ax = plt.subplots()\n",
    "\n",
    "ax.plot(rh.klett_on_profile(400), z, label = r\"$\\beta_{part}$ Klett [$sr^{-1}m^{-1}$]\")\n",
    "\n",
    "ax.legend()"
   ]
  },
  {
   "cell_type": "markdown",
   "id": "0439e5f3",
   "metadata": {},
   "source": [
    "### Windowed Klett"
   ]
  },
  {
   "cell_type": "code",
   "execution_count": null,
   "id": "d88daf6a",
   "metadata": {},
   "outputs": [],
   "source": [
    "# Window Klett with 30 profiles (which equals 30 minutes in this case)"
   ]
  },
  {
   "cell_type": "code",
   "execution_count": null,
   "id": "f75e608d",
   "metadata": {},
   "outputs": [],
   "source": [
    "std = rh.rcs[400:430].std(axis=0)\n",
    "mean = rh.rcs[400:430].mean(axis=0)"
   ]
  },
  {
   "cell_type": "code",
   "execution_count": null,
   "id": "13c99ece",
   "metadata": {},
   "outputs": [],
   "source": [
    "for i in rh.rcs[400:430]:\n",
    "    plt.plot(i, z)\n",
    "\n",
    "plt.plot(mean, z, c='k')\n",
    "plt.plot(mean - std, z, c='w')\n",
    "plt.plot(mean + std, z, c='w')\n",
    "\n",
    "    \n",
    "\n",
    "plt.xlim((0, 4e6))\n",
    "plt.ylim((0, 1e4))"
   ]
  },
  {
   "cell_type": "code",
   "execution_count": null,
   "id": "9d9676f1",
   "metadata": {},
   "outputs": [],
   "source": [
    "plt.plot(std, z, label = \"30 min standard deviation\")\n",
    "plt.xlabel(\"Range corrected signal units [a.u]\")\n",
    "plt.ylabel(\"Range [m]\")\n",
    "\n",
    "plt.show()"
   ]
  },
  {
   "cell_type": "code",
   "execution_count": null,
   "id": "f03855fc",
   "metadata": {},
   "outputs": [],
   "source": [
    "N_SAMPLES = 30\n",
    "\n",
    "profiles = None\n",
    "kletts = None\n",
    "\n",
    "for i in range(N_SAMPLES):\n",
    "    if profiles is None:\n",
    "        profiles = np.random.normal(mean, std)\n",
    "    else:\n",
    "        profiles = np.vstack([profiles, np.random.normal(mean, std)])\n",
    "\n",
    "for profile in profiles:\n",
    "    if kletts is None:\n",
    "        kletts = klett.klett_rcs(profile, range_profile = z, beta_mol_profile=params[\"molecular_beta\"])\n",
    "    else:\n",
    "        kletts = np.vstack([kletts, klett.klett_rcs(profile, range_profile = z, beta_mol_profile=params[\"molecular_beta\"])])\n",
    "\n",
    "kletts_std = kletts.std(axis = 0)\n",
    "kletts_mean = kletts.mean(axis = 0)"
   ]
  },
  {
   "cell_type": "code",
   "execution_count": null,
   "id": "de1b6694",
   "metadata": {},
   "outputs": [],
   "source": [
    "for i in profiles:\n",
    "    plt.plot(i, z)\n",
    "\n",
    "plt.plot(mean, z, c='k')\n",
    "plt.plot(mean - std, z, c='w')\n",
    "plt.plot(mean + std, z, c='w')\n",
    "plt.plot(profiles.mean(axis = 0) - profiles.std(axis=0), z)\n",
    "plt.plot(profiles.mean(axis = 0) + profiles.std(axis=0), z)\n",
    "\n",
    "plt.xlim((0, 4e6))\n",
    "plt.ylim((0, 1e4))"
   ]
  },
  {
   "cell_type": "code",
   "execution_count": null,
   "id": "b56dcca5",
   "metadata": {},
   "outputs": [],
   "source": [
    "plt.plot(rh.rcs[0], z)\n",
    "plt.plot(profiles[0], z)\n",
    "plt.plot(rh.rcs[-1], z)\n",
    "\n",
    "plt.xlim((0, 4e6))\n",
    "plt.ylim((0, 1e4))"
   ]
  },
  {
   "cell_type": "code",
   "execution_count": null,
   "id": "935412a5",
   "metadata": {},
   "outputs": [],
   "source": [
    "profiles.std(axis=0)"
   ]
  },
  {
   "cell_type": "code",
   "execution_count": null,
   "id": "98fe3d1a",
   "metadata": {},
   "outputs": [],
   "source": [
    "# 10.2 ms ± 145 µs per loop (mean ± std. dev. of 7 runs, 100 loops each)\n",
    "# Times, ms, ms\n",
    "# Results obtaining with %%timeit to previous cell\n",
    "\n",
    "times = np.array([\n",
    "    [20, 6.43, 0.145],\n",
    "    [30, 10.4, 0.170],\n",
    "    [40, 14.6, 0.332],\n",
    "    [50, 18.1, 0.271],\n",
    "    [60, 24.2, 1.04], # 10 runs\n",
    "    [70, 32.6, 1.81],\n",
    "    [80, 41.2, 2.89],\n",
    "    [110, 70.1, 2.38],\n",
    "    [150, 118, 5.2],\n",
    "    [200, 200, 14.3],\n",
    "    [300, 410, 29.7]\n",
    "])"
   ]
  },
  {
   "cell_type": "code",
   "execution_count": null,
   "id": "51ed6632",
   "metadata": {},
   "outputs": [],
   "source": [
    "# plt.plot(times[:, 0], times[:, 1], c = 'b')\n",
    "plt.title(\"Time to compute Klett inversion N profiles\")\n",
    "plt.errorbar(times[:, 0], times[:, 1], times[:, 2], capsize=2)\n",
    "\n",
    "plt.xlabel('N profiles')\n",
    "plt.ylabel('Time [ms]')\n",
    "\n",
    "plt.show()"
   ]
  },
  {
   "cell_type": "code",
   "execution_count": null,
   "id": "ca04cca8",
   "metadata": {},
   "outputs": [],
   "source": [
    "times[:, 0]"
   ]
  },
  {
   "cell_type": "code",
   "execution_count": null,
   "id": "72fccdde",
   "metadata": {},
   "outputs": [],
   "source": [
    "klett_mean = klett.klett_rcs(mean, range_profile = z, beta_mol_profile=params[\"molecular_beta\"])\n",
    "\n",
    "plt.plot(klett_mean, z, label = \"30 min klett standard deviation\",  lw = 0.2)\n",
    "plt.fill_betweenx(z, klett_mean+kletts_std, klett_mean-kletts_std, alpha = 0.3)\n",
    "\n",
    "plt.xlabel(\"Range corrected signal units [a.u]\")\n",
    "plt.ylabel(\"Range [m]\")\n",
    "\n",
    "plt.xlim((0, 4e-6))\n",
    "plt.ylim((0, 1e4))\n",
    "\n",
    "plt.show()"
   ]
  },
  {
   "cell_type": "code",
   "execution_count": null,
   "id": "9fe05506",
   "metadata": {},
   "outputs": [],
   "source": [
    "RH"
   ]
  },
  {
   "cell_type": "markdown",
   "id": "92f60c06",
   "metadata": {},
   "source": [
    "### Profile analysis"
   ]
  },
  {
   "cell_type": "code",
   "execution_count": null,
   "id": "ccbfa7cf",
   "metadata": {},
   "outputs": [],
   "source": [
    "klett.klett_likely_bins(rh.rcs[400], params[\"attenuated_molecular_beta\"], z)"
   ]
  },
  {
   "cell_type": "code",
   "execution_count": null,
   "id": "82b4a0d7",
   "metadata": {},
   "outputs": [],
   "source": [
    "rh.data.time[400]"
   ]
  },
  {
   "cell_type": "code",
   "execution_count": null,
   "id": "f3e3d65e",
   "metadata": {},
   "outputs": [],
   "source": [
    "plt.plot(rh.rcs[400], z)"
   ]
  },
  {
   "cell_type": "code",
   "execution_count": null,
   "id": "d432d983",
   "metadata": {},
   "outputs": [],
   "source": [
    "2.5-1.8"
   ]
  },
  {
   "cell_type": "code",
   "execution_count": null,
   "id": "f1dda9e8",
   "metadata": {},
   "outputs": [],
   "source": []
  }
 ],
 "metadata": {
  "kernelspec": {
   "display_name": "Python 3 (ipykernel)",
   "language": "python",
   "name": "python3"
  },
  "language_info": {
   "codemirror_mode": {
    "name": "ipython",
    "version": 3
   },
   "file_extension": ".py",
   "mimetype": "text/x-python",
   "name": "python",
   "nbconvert_exporter": "python",
   "pygments_lexer": "ipython3",
   "version": "3.10.5"
  },
  "vscode": {
   "interpreter": {
    "hash": "b5814baae3aab4e87861f92f160e6bfeea4db738bd043ab54cdaf62182f6f46a"
   }
  }
 },
 "nbformat": 4,
 "nbformat_minor": 5
}

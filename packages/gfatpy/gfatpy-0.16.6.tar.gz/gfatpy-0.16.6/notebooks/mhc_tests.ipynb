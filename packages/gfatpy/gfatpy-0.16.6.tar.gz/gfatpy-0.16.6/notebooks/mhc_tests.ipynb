{
 "cells": [
  {
   "cell_type": "code",
   "execution_count": null,
   "metadata": {},
   "outputs": [],
   "source": [
    "from datetime import datetime\n",
    "\n",
    "import xarray as xr\n",
    "import matplotlib.pyplot as plt\n",
    "\n",
    "from gfatpy.lidar.preprocessing import preprocess\n",
    "\n",
    "from gfatpy.atmo.ecmwf import get_ecmwf_temperature_pressure\n",
    "from gfatpy.atmo.freudenthaler_molecular_properties import molecular_properties\n",
    "\n",
    "%load_ext autoreload\n",
    "%autoreload 2\n",
    "\n",
    "%matplotlib inline"
   ]
  },
  {
   "cell_type": "code",
   "execution_count": null,
   "metadata": {},
   "outputs": [],
   "source": [
    "nc = preprocess(\"mhc_1a_Prs_rs_xf_20221027.nc\")"
   ]
  },
  {
   "cell_type": "code",
   "execution_count": null,
   "metadata": {},
   "outputs": [],
   "source": [
    "(nc.signal_532xpa[-5] * nc.range ** 2).plot()"
   ]
  },
  {
   "cell_type": "code",
   "execution_count": null,
   "metadata": {},
   "outputs": [],
   "source": [
    "signal_mean = nc.signal_1064xta[-30:].mean(\"time\")\n",
    "rcs_mean = signal_mean * nc.range ** 2"
   ]
  },
  {
   "cell_type": "code",
   "execution_count": null,
   "metadata": {},
   "outputs": [],
   "source": [
    "rcs_mean"
   ]
  },
  {
   "cell_type": "code",
   "execution_count": null,
   "metadata": {},
   "outputs": [],
   "source": [
    "atmo = get_ecmwf_temperature_pressure(\"2022-10-26\", hour=14, heights=rcs_mean.range)\n",
    "mol_props = molecular_properties(\n",
    "    1064, atmo[\"pressure\"].values, atmo[\"temperature\"].values, heights=rcs_mean.range\n",
    ")"
   ]
  },
  {
   "cell_type": "code",
   "execution_count": null,
   "metadata": {},
   "outputs": [],
   "source": [
    "mol_props.attenuated_molecular_beta"
   ]
  },
  {
   "cell_type": "code",
   "execution_count": null,
   "metadata": {},
   "outputs": [],
   "source": [
    "from scipy.signal import savgol_filter\n",
    "\n",
    "fig, ax = plt.subplots()\n",
    "\n",
    "rcs_mean_n = rcs_mean / rcs_mean.sel(range=7000, method=\"nearest\")\n",
    "att_beta_n = mol_props.attenuated_molecular_beta / mol_props.attenuated_molecular_beta.sel(range=7000, method=\"nearest\")\n",
    "\n",
    "ax.plot(rcs_mean_n.range, rcs_mean_n.values, c = \"lightcoral\", alpha = 0.6, label = \"Raw RCS\")\n",
    "ax.plot(rcs_mean_n.range, savgol_filter(rcs_mean_n.values, 11, 3), c = \"red\", label = \"Smooth RCS\")\n",
    "ax.plot(att_beta_n.range, att_beta_n.values, c = \"k\", label = \"Attenuated backscatter\")\n",
    "\n",
    "ax.set(xlabel=\"Height a.g.l [m]\", ylabel=\"RCS normalized\")\n",
    "ax.legend()\n",
    "\n",
    "ax.set_yscale(\"log\")\n",
    "fig.savefig(\"1064-fixed-rayleigh.png\", dpi = 600)"
   ]
  },
  {
   "cell_type": "code",
   "execution_count": null,
   "metadata": {},
   "outputs": [],
   "source": []
  },
  {
   "cell_type": "code",
   "execution_count": null,
   "metadata": {},
   "outputs": [],
   "source": [
    "raw_nc = xr.load_dataset(\"../tests/datos/MULHACEN/1a/2022/08/08/mhc_1a_Prs_rs_xf_20220808_1131.nc\")\n",
    "raw_rcs = raw_nc.signal_355xta[0] * raw_nc.range ** 2"
   ]
  },
  {
   "cell_type": "code",
   "execution_count": null,
   "metadata": {},
   "outputs": [],
   "source": [
    "raw_rcs.time"
   ]
  },
  {
   "cell_type": "code",
   "execution_count": null,
   "metadata": {},
   "outputs": [],
   "source": [
    "nc = preprocess(\"mhc_1a_Prs_rs_xf_20210725.nc\", apply_dc=True)\n",
    "nc_nodc = preprocess(\"mhc_1a_Prs_rs_xf_20210725.nc\", apply_dc=False)\n",
    "\n",
    "\n",
    "rcs = nc.signal_355xta[130] * nc.range ** 2\n",
    "rcs_nodc = nc_nodc.signal_355xta[130] * nc.range ** 2"
   ]
  },
  {
   "cell_type": "code",
   "execution_count": null,
   "metadata": {},
   "outputs": [],
   "source": [
    "nc.time[130]"
   ]
  },
  {
   "cell_type": "code",
   "execution_count": null,
   "metadata": {},
   "outputs": [],
   "source": [
    "atmo = get_ecmwf_temperature_pressure(\"2021-07-25\", hour=2, heights=rcs.range)\n",
    "mol_props = molecular_properties(\n",
    "    355, atmo[\"pressure\"].values, atmo[\"temperature\"].values, heights=rcs.range\n",
    ")"
   ]
  },
  {
   "cell_type": "code",
   "execution_count": null,
   "metadata": {},
   "outputs": [],
   "source": [
    "rcs.plot()"
   ]
  },
  {
   "cell_type": "code",
   "execution_count": null,
   "metadata": {},
   "outputs": [],
   "source": [
    "from scipy.signal import savgol_filter\n",
    "\n",
    "fig, ax = plt.subplots(figsize=(15, 7))\n",
    "\n",
    "rcs_mean_n = rcs / rcs.sel(range=slice(6900, 7000)).mean(\"range\")\n",
    "rcs_mean_n_nodc = rcs_nodc / rcs.sel(range=slice(6900, 7000)).mean(\"range\")\n",
    "att_beta_n = mol_props.attenuated_molecular_beta / mol_props.attenuated_molecular_beta.sel(range=slice(6900, 7000)).mean(\"range\")\n",
    "\n",
    "# ax.plot(rcs.range, rcs_mean_n.values, c = \"skyblue\", alpha = 0.6, label = \"Raw RCS\")\n",
    "ax.plot(rcs_mean_n.range, savgol_filter(rcs_mean_n.values, 11, 3), c = \"blue\", label = \"DC-corrected smoothed RCS\", lw = 0.6)\n",
    "ax.plot(rcs_mean_n.range, savgol_filter(rcs_mean_n_nodc.values, 11, 3), c = \"red\", label = \"DC-uncorrected smoothed RCS\", lw = 0.6)\n",
    "ax.plot(att_beta_n.range, att_beta_n.values, c = \"k\", label = \"Attenuated backscatter\")\n",
    "\n",
    "ax.set(xlabel=\"Height a.g.l [m]\", ylabel=\"RCS normalized\")\n",
    "ax.set_yscale(\"log\")\n",
    "ax.legend()\n",
    "\n",
    "fig.savefig(\"355-dc-comparison.png\", dpi = 600)"
   ]
  },
  {
   "cell_type": "code",
   "execution_count": null,
   "metadata": {},
   "outputs": [],
   "source": [
    "from scipy.signal import savgol_filter\n",
    "\n",
    "fig, ax = plt.subplots(figsize=(15, 7))\n",
    "\n",
    "rcs_mean_n = rcs_nodc / rcs.sel(range=slice(6500, 7000)).mean(\"range\")\n",
    "att_beta_n = mol_props.attenuated_molecular_beta / mol_props.attenuated_molecular_beta.sel(range=slice(6900, 7000)).mean(\"range\")\n",
    "\n",
    "ax.plot(rcs.range, rcs_mean_n.values, c = \"skyblue\", alpha = 0.6, label = \"Raw RCS\")\n",
    "ax.plot(rcs_mean_n.range, savgol_filter(rcs_mean_n.values, 11, 3), c = \"blue\", label = \"Smooth RCS\")\n",
    "ax.plot(att_beta_n.range, att_beta_n.values, c = \"k\", label = \"Attenuated backscatter\")\n",
    "\n",
    "ax.set(xlabel=\"Height a.g.l [m]\", ylabel=\"RCS normalized\")\n",
    "ax.set_yscale(\"log\")\n",
    "ax.legend()"
   ]
  },
  {
   "cell_type": "code",
   "execution_count": null,
   "metadata": {},
   "outputs": [],
   "source": []
  },
  {
   "cell_type": "code",
   "execution_count": null,
   "metadata": {},
   "outputs": [],
   "source": []
  },
  {
   "cell_type": "code",
   "execution_count": null,
   "metadata": {},
   "outputs": [],
   "source": []
  },
  {
   "cell_type": "code",
   "execution_count": null,
   "metadata": {},
   "outputs": [],
   "source": []
  },
  {
   "cell_type": "code",
   "execution_count": null,
   "metadata": {},
   "outputs": [],
   "source": []
  }
 ],
 "metadata": {
  "kernelspec": {
   "display_name": "Python 3 (ipykernel)",
   "language": "python",
   "name": "python3"
  },
  "language_info": {
   "codemirror_mode": {
    "name": "ipython",
    "version": 3
   },
   "file_extension": ".py",
   "mimetype": "text/x-python",
   "name": "python",
   "nbconvert_exporter": "python",
   "pygments_lexer": "ipython3",
   "version": "3.10.6"
  },
  "vscode": {
   "interpreter": {
    "hash": "b5814baae3aab4e87861f92f160e6bfeea4db738bd043ab54cdaf62182f6f46a"
   }
  }
 },
 "nbformat": 4,
 "nbformat_minor": 2
}

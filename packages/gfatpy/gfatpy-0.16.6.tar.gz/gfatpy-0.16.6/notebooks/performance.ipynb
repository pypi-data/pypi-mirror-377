{
 "cells": [
  {
   "cell_type": "code",
   "execution_count": null,
   "metadata": {},
   "outputs": [],
   "source": [
    "import xarray as xr\n",
    "import matplotlib.pyplot as plt\n",
    "from ipywidgets import interact\n",
    "from scipy.signal import savgol_filter\n",
    "import numpy as np\n",
    "\n",
    "from gfatpy.lidar.preprocessing import preprocess\n",
    "from gfatpy.lidar.plot.quicklook import quicklook_xarray\n",
    "from gfatpy.utils.utils import moving_average\n",
    "\n",
    "from gfatpy.atmo.ecmwf import get_ecmwf_temperature_pressure\n",
    "from gfatpy.atmo.freudenthaler_molecular_properties import molecular_properties\n",
    "\n",
    "%load_ext autoreload\n",
    "%autoreload 2\n",
    "\n",
    "%matplotlib inline"
   ]
  },
  {
   "cell_type": "markdown",
   "metadata": {},
   "source": [
    "### Testing\n",
    "\n",
    "Performance is tested with preprocessing `mhc_1a_Prs_rs_xf_20210705.nc`, with all the default flags and gluing products with only the channels `[\"532xpa\", \"532xpp\"]`.\n",
    "\n",
    "Timing is carrie on by the `%%time` at the beggining of the cell."
   ]
  },
  {
   "cell_type": "code",
   "execution_count": null,
   "metadata": {},
   "outputs": [],
   "source": [
    "lidar_ng = preprocess(\n",
    "    \"mhc_1a_Prs_rs_xf_20210626.nc\",\n",
    "    channels = [\"532xpa\", \"532xpp\"],\n",
    "    # gluing_products=True\n",
    ")\n",
    "\n",
    "an = (lidar_ng.signal_532xpa * lidar_ng.range ** 2).values\n",
    "pc = (lidar_ng.signal_532xpp * lidar_ng.range ** 2).values"
   ]
  },
  {
   "cell_type": "code",
   "execution_count": null,
   "metadata": {},
   "outputs": [],
   "source": [
    "w_size = 70\n",
    "prof_idx = 7\n",
    "\n",
    "w1 = np.lib.stride_tricks.sliding_window_view(an[prof_idx], w_size)\n",
    "w2 = np.lib.stride_tricks.sliding_window_view(pc[prof_idx], w_size)\n",
    "\n",
    "corrcoefs = np.array([])\n",
    "\n",
    "for idx in range(w1.shape[0]):\n",
    "    \n",
    "    _w1 = w1[idx]\n",
    "    _w2 = w2[idx]\n",
    "    coeff = np.corrcoef(_w1, _w2)[1, 0]\n",
    "    corrcoefs = np.hstack([corrcoefs, coeff])"
   ]
  },
  {
   "cell_type": "code",
   "execution_count": null,
   "metadata": {},
   "outputs": [],
   "source": [
    "w_size = 70\n",
    "\n",
    "w1 = np.lib.stride_tricks.sliding_window_view(np.gradient(an[prof_idx]), w_size)\n",
    "w2 = np.lib.stride_tricks.sliding_window_view(np.gradient(pc[prof_idx]), w_size)\n",
    "\n",
    "corrcoefs_diff = np.array([])\n",
    "\n",
    "for idx in range(w1.shape[0]):\n",
    "    \n",
    "    _w1 = w1[idx]\n",
    "    _w2 = w2[idx]\n",
    "    coeff = np.corrcoef(_w1, _w2)[1, 0]\n",
    "    corrcoefs_diff = np.hstack([corrcoefs_diff, coeff])"
   ]
  },
  {
   "cell_type": "code",
   "execution_count": null,
   "metadata": {},
   "outputs": [],
   "source": [
    "plt.plot(corrcoefs)\n",
    "plt.plot(corrcoefs_diff)"
   ]
  },
  {
   "cell_type": "code",
   "execution_count": null,
   "metadata": {},
   "outputs": [],
   "source": [
    "import numba"
   ]
  },
  {
   "cell_type": "code",
   "execution_count": null,
   "metadata": {},
   "outputs": [],
   "source": [
    "def corrcoefs(arr1, arr2):\n",
    "    w1 = np.lib.stride_tricks.sliding_window_view(arr1, w_size)\n",
    "    w2 = np.lib.stride_tricks.sliding_window_view(arr2, w_size)\n",
    "    _corrcoefs = np.zeros(w1.shape[0])\n",
    "    for idx in range(w1.shape[0]): \n",
    "        _w1 = w1[idx]\n",
    "        _w2 = w2[idx]\n",
    "        coeff = np.corrcoef(_w1, _w2)[1, 0]\n",
    "        _corrcoefs[idx] = coeff\n",
    "    return _corrcoefs\n",
    "\n",
    "@numba.njit()\n",
    "def _rolling(a, window):\n",
    "    shape = (a.size - window + 1, window)\n",
    "    strides = (a.itemsize, a.itemsize)\n",
    "    return np.lib.stride_tricks.as_strided(a, shape=shape, strides=strides)\n",
    "\n",
    "\n",
    "@numba.njit(parallel=True)\n",
    "def windowed_corrcoefs(arr1: np.ndarray, arr2: np.ndarray, w_size: int):\n",
    "    range_shape = arr1.shape[1] - (w_size - 1)\n",
    "    _corrcoefs = np.zeros((arr1.shape[0], range_shape))\n",
    "    for t_idx in numba.prange(arr1.shape[0]):\n",
    "        w1 = _rolling(arr1[t_idx], w_size)\n",
    "        w2 = _rolling(arr2[t_idx], w_size)\n",
    "        for idx in numba.prange(w1.shape[0]):\n",
    "            _w1 = w1[idx]\n",
    "            _w2 = w2[idx]\n",
    "            coeff = np.corrcoef(_w1, _w2)[1, 0]\n",
    "            _corrcoefs[t_idx][idx] = coeff\n",
    "    return _corrcoefs\n"
   ]
  },
  {
   "cell_type": "code",
   "execution_count": null,
   "metadata": {},
   "outputs": [],
   "source": [
    "180*7.5"
   ]
  },
  {
   "cell_type": "code",
   "execution_count": null,
   "metadata": {},
   "outputs": [],
   "source": [
    "corr_coeffs = windowed_corrcoefs(an[:, 0:750], pc[:, 0:750] , 140)"
   ]
  },
  {
   "cell_type": "code",
   "execution_count": null,
   "metadata": {},
   "outputs": [],
   "source": [
    "plt.plot(corr_coeffs[0])"
   ]
  },
  {
   "cell_type": "code",
   "execution_count": null,
   "metadata": {},
   "outputs": [],
   "source": [
    "@interact(idx=(0, corr_coeffs.shape[0] -1, 1))\n",
    "def correlation(idx):\n",
    "    plt.plot(corr_coeffs[idx])"
   ]
  },
  {
   "cell_type": "code",
   "execution_count": null,
   "metadata": {},
   "outputs": [],
   "source": []
  },
  {
   "cell_type": "code",
   "execution_count": null,
   "metadata": {},
   "outputs": [],
   "source": [
    "for i in corr_coeffs:\n",
    "    plt.plot(i, lw=0.05, c = \"k\")"
   ]
  },
  {
   "cell_type": "code",
   "execution_count": null,
   "metadata": {},
   "outputs": [],
   "source": [
    "(corr_coeffs[511].argmax() + 70) * 7.5"
   ]
  },
  {
   "cell_type": "code",
   "execution_count": null,
   "metadata": {},
   "outputs": [],
   "source": [
    "plt.plot(\n",
    "    np.apply_along_axis(lambda x: x.argmax(), 1,corr_coeffs),\n",
    "    c = 'r',\n",
    "    lw = 0,\n",
    "    marker = '.'\n",
    ")\n",
    "\n",
    "plt.plot(savgol_filter(\n",
    "    np.apply_along_axis(lambda x: x.argmax(), 1,corr_coeffs),\n",
    "    11,\n",
    "    2\n",
    "    ),\n",
    "    lw = 0,\n",
    "    marker = '.',\n",
    "    c = 'g'\n",
    ")"
   ]
  },
  {
   "cell_type": "code",
   "execution_count": null,
   "metadata": {},
   "outputs": [],
   "source": [
    "%%time\n",
    "corrcoefs(an[0], pc[0])"
   ]
  },
  {
   "cell_type": "code",
   "execution_count": null,
   "metadata": {},
   "outputs": [],
   "source": [
    "moving_average(np.array([np.apply_along_axis(lambda x: x.argmax(), 1,corr_coeffs)]))"
   ]
  },
  {
   "cell_type": "code",
   "execution_count": null,
   "metadata": {},
   "outputs": [],
   "source": [
    "lidar = preprocess(\n",
    "    \"../tests/datos/MULHACEN/1a/2021/07/05/mhc_1a_Prs_rs_xf_20210705.nc\",\n",
    "    channels = [\"532xpa\", \"532xpp\"],\n",
    "    gluing_products=True\n",
    ")"
   ]
  },
  {
   "cell_type": "code",
   "execution_count": null,
   "metadata": {},
   "outputs": [],
   "source": [
    "%matplotlib notebook\n",
    "quicklook_xarray(lidar.signal_532xpg, is_rcs = False)"
   ]
  },
  {
   "cell_type": "code",
   "execution_count": null,
   "metadata": {},
   "outputs": [],
   "source": [
    "quicklook_xarray(lidar.signal_532xpa, is_rcs = False)"
   ]
  },
  {
   "cell_type": "code",
   "execution_count": null,
   "metadata": {},
   "outputs": [],
   "source": [
    "quicklook_xarray(lidar.signal_532xpp, is_rcs = False)"
   ]
  },
  {
   "cell_type": "code",
   "execution_count": null,
   "metadata": {},
   "outputs": [],
   "source": [
    "%matplotlib inline\n",
    "\n",
    "\n",
    "@interact(idx=(0, lidar.time.shape[0] - 1, 1))\n",
    "def plot_profile(idx):\n",
    "    plt.figure(figsize=(15, 7))\n",
    "    plt.plot(lidar.range, lidar.signal_532xpg[idx] * lidar.range ** 2, label = \"GL\")\n",
    "    plt.plot(lidar.range, lidar.signal_532xpp[idx] * lidar.range ** 2, label = \"PC\", lw = 0.6)\n",
    "    plt.xlim(0, 5000)\n",
    "    plt.legend()\n",
    "    \n",
    "    plt.plot(lidar.range, \n",
    "        (lidar.signal_532xpa[idx] * \n",
    "         lidar.signal_532xpp[idx].sel(range=4000, method=\"nearest\") / \n",
    "         lidar.signal_532xpa[idx].sel(range=4000, method=\"nearest\")\n",
    "    )  * lidar.range ** 2, \n",
    "        label = \"AN\", \n",
    "        lw = 0.6)\n",
    "    \n",
    "    plt.xlim(0, 5000)\n",
    "    plt.legend()"
   ]
  },
  {
   "cell_type": "code",
   "execution_count": null,
   "metadata": {},
   "outputs": [],
   "source": [
    "plt.figure(figsize=(15, 7))\n",
    "\n",
    "plt.plot(lidar.range, lidar.signal_532xpg[214] * lidar.range ** 2)\n",
    "plt.plot(lidar.range, lidar.signal_532xpg[215] * lidar.range ** 2)\n",
    "plt.plot(lidar.range, lidar.signal_532xpg[216] * lidar.range ** 2)\n",
    "plt.plot(lidar.range, lidar.signal_532xpg[217] * lidar.range ** 2, c = 'k')\n",
    "plt.plot(lidar.range, lidar.signal_532xpg[218] * lidar.range ** 2)\n",
    "plt.plot(lidar.range, lidar.signal_532xpg[219] * lidar.range ** 2)\n",
    "#plt.plot(lidar.range, lidar.signal_532xpg[217] * lidar.range ** 2)\n",
    "plt.xlim(0, 5000)\n",
    "plt.ylim(1e7, 1e9)\n",
    "\n",
    "plt.yscale(\"log\")\n",
    "plt.legend()"
   ]
  },
  {
   "cell_type": "code",
   "execution_count": null,
   "metadata": {},
   "outputs": [],
   "source": [
    "lidar.time[217]"
   ]
  },
  {
   "cell_type": "code",
   "execution_count": null,
   "metadata": {},
   "outputs": [],
   "source": []
  },
  {
   "cell_type": "code",
   "execution_count": null,
   "metadata": {},
   "outputs": [],
   "source": []
  },
  {
   "cell_type": "code",
   "execution_count": null,
   "metadata": {},
   "outputs": [],
   "source": []
  }
 ],
 "metadata": {
  "kernelspec": {
   "display_name": "Python 3 (ipykernel)",
   "language": "python",
   "name": "python3"
  },
  "language_info": {
   "codemirror_mode": {
    "name": "ipython",
    "version": 3
   },
   "file_extension": ".py",
   "mimetype": "text/x-python",
   "name": "python",
   "nbconvert_exporter": "python",
   "pygments_lexer": "ipython3",
   "version": "3.10.6"
  },
  "vscode": {
   "interpreter": {
    "hash": "b5814baae3aab4e87861f92f160e6bfeea4db738bd043ab54cdaf62182f6f46a"
   }
  }
 },
 "nbformat": 4,
 "nbformat_minor": 2
}

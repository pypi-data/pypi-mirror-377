{
 "cells": [
  {
   "cell_type": "code",
   "execution_count": null,
   "metadata": {},
   "outputs": [],
   "source": [
    "import xarray as xr\n",
    "import matplotlib.pyplot as plt\n",
    "\n",
    "from gfatpy.lidar.preprocessing import preprocess\n",
    "from gfatpy.lidar.plot.quicklook import quicklook_xarray\n",
    "\n",
    "from gfatpy.atmo.ecmwf import get_ecmwf_temperature_pressure\n",
    "from gfatpy.atmo.freudenthaler_molecular_properties import molecular_properties\n",
    "    \n",
    "%load_ext autoreload\n",
    "%autoreload 2\n",
    "\n",
    "%matplotlib inline"
   ]
  },
  {
   "cell_type": "code",
   "execution_count": null,
   "metadata": {},
   "outputs": [],
   "source": [
    "lidar = preprocess(\n",
    "    \"../tests/datos/MULHACEN/1a/2021/07/05/mhc_1a_Prs_rs_xf_20210705.nc\",\n",
    "    channels = [\"532xpa\", \"532xpp\"],\n",
    "    gluing_products=True\n",
    "    bin_precision=5\n",
    ")"
   ]
  },
  {
   "cell_type": "code",
   "execution_count": null,
   "metadata": {},
   "outputs": [],
   "source": [
    "raw = xr.open_dataset(\"../tests/datos/MULHACEN/1a/2021/07/05/mhc_1a_Prs_rs_xf_20210705.nc\")\n",
    "ranges_between = (75000 < raw.range) & (\n",
    "        raw.range < 105000\n",
    "    )\n",
    "\n",
    "background = raw[\"signal_532xpa\"].loc[:, ranges_between].mean(axis=1)\n",
    "background_p = raw[\"signal_532xpp\"].loc[:, ranges_between].mean(axis=1)\n",
    "raw[\"signal_532xpa\"] -= background\n",
    "raw[\"signal_532xpp\"] -= background_p"
   ]
  },
  {
   "cell_type": "code",
   "execution_count": null,
   "metadata": {},
   "outputs": [],
   "source": [
    "ranges = lidar.range\n",
    "wavelength = 532\n",
    "meteo_profiles = get_ecmwf_temperature_pressure(\n",
    "    \"2021-07-05T14:00\", heights=ranges\n",
    ")\n",
    "\n",
    "\n",
    "# Molecular Attenuated Backscatter\n",
    "mol_properties = molecular_properties(\n",
    "    wavelength, meteo_profiles['pressure'], meteo_profiles['temperature'], ranges\n",
    ")\n",
    "beta_mol_att = mol_properties[\"attenuated_molecular_beta\"]\n"
   ]
  },
  {
   "cell_type": "code",
   "execution_count": null,
   "metadata": {},
   "outputs": [],
   "source": [
    "rcs = lidar.signal_532xpa.sel(time=slice(\"20210705T140000\", \"20210705T150000\")).mean(\"time\") * lidar.range**2\n",
    "raw_rcs = raw.signal_532xpa.sel(time=slice(\"20210705T140000\", \"20210705T150000\")).mean(\"time\") * lidar.range**2\n",
    "\n",
    "nrcs = rcs / rcs.sel(range=slice(6000, 7000)).mean(\"range\")\n",
    "nraw_rcs = raw_rcs / raw_rcs.sel(range=slice(6000, 7000)).mean(\"range\")\n",
    "nbeta_mol_att= beta_mol_att / beta_mol_att.sel(range=slice(6000, 7000)).mean(\"range\")\n"
   ]
  },
  {
   "cell_type": "code",
   "execution_count": null,
   "metadata": {},
   "outputs": [],
   "source": [
    "%matplotlib notebook\n",
    "\n",
    "nrcs.plot(label = \"preprocessed\")\n",
    "nraw_rcs.plot(label = \"raw\")\n",
    "nbeta_mol_att.plot(label = \"betta mol attenuted\")\n",
    "\n",
    "\n",
    "plt.yscale(\"log\")\n",
    "plt.ylim(0.01, 10)\n",
    "\n",
    "\n",
    "plt.legend()"
   ]
  },
  {
   "cell_type": "code",
   "execution_count": null,
   "metadata": {},
   "outputs": [],
   "source": [
    "rcs_a = lidar.signal_532xpa.sel(time=slice(\"20210705T140000\", \"20210705T150000\")).mean(\"time\") * lidar.range**2\n",
    "rcs_p = lidar.signal_532xpp.sel(time=slice(\"20210705T140000\", \"20210705T150000\")).mean(\"time\") * lidar.range**2\n",
    "\n",
    "nrcsa = rcs_a / rcs_a.sel(range=slice(6000, 7000)).mean(\"range\")\n",
    "nrcsp = rcs_p / rcs_p.sel(range=slice(6000, 7000)).mean(\"range\")"
   ]
  },
  {
   "cell_type": "code",
   "execution_count": null,
   "metadata": {},
   "outputs": [],
   "source": [
    "%matplotlib notebook\n",
    "\n",
    "nrcsa.plot(label = \"AN bin zero = 5\")\n",
    "nrcsp.plot(label = \"PC bin zero = -2\")\n",
    "\n",
    "\n",
    "plt.yscale(\"log\")\n",
    "plt.ylim(0.01, 10)\n",
    "\n",
    "\n",
    "plt.legend()"
   ]
  },
  {
   "cell_type": "code",
   "execution_count": null,
   "metadata": {},
   "outputs": [],
   "source": [
    "rcs_a = raw.signal_532xpa.sel(time=slice(\"20210705T140000\", \"20210705T150000\")).mean(\"time\") * lidar.range**2\n",
    "rcs_p = raw.signal_532xpp.sel(time=slice(\"20210705T140000\", \"20210705T150000\")).mean(\"time\") * lidar.range**2\n",
    "\n",
    "nrcsa = rcs_a / rcs_a.sel(range=slice(2500, 3000)).mean(\"range\")\n",
    "nrcsp = rcs_p / rcs_p.sel(range=slice(2500, 3000)).mean(\"range\")"
   ]
  },
  {
   "cell_type": "code",
   "execution_count": null,
   "metadata": {},
   "outputs": [],
   "source": [
    "%matplotlib notebook\n",
    "\n",
    "nrcsa.plot(label = \"AN raw\")\n",
    "nrcsp.plot(label = \"PC raw\")\n",
    "\n",
    "plt.yscale(\"log\")\n",
    "plt.ylim(0.01, 10)\n",
    "\n",
    "plt.grid(c = 'b')\n",
    "\n",
    "\n",
    "plt.legend()"
   ]
  },
  {
   "cell_type": "code",
   "execution_count": null,
   "metadata": {},
   "outputs": [],
   "source": [
    "quicklook_xarray(lidar.signal_532xpa)\n",
    "plt.show()"
   ]
  },
  {
   "cell_type": "code",
   "execution_count": null,
   "metadata": {},
   "outputs": [],
   "source": []
  },
  {
   "cell_type": "code",
   "execution_count": null,
   "metadata": {},
   "outputs": [],
   "source": []
  },
  {
   "cell_type": "code",
   "execution_count": null,
   "metadata": {},
   "outputs": [],
   "source": []
  },
  {
   "cell_type": "code",
   "execution_count": null,
   "metadata": {},
   "outputs": [],
   "source": []
  },
  {
   "cell_type": "code",
   "execution_count": null,
   "metadata": {},
   "outputs": [],
   "source": []
  }
 ],
 "metadata": {
  "kernelspec": {
   "display_name": "Python 3 (ipykernel)",
   "language": "python",
   "name": "python3"
  },
  "language_info": {
   "codemirror_mode": {
    "name": "ipython",
    "version": 3
   },
   "file_extension": ".py",
   "mimetype": "text/x-python",
   "name": "python",
   "nbconvert_exporter": "python",
   "pygments_lexer": "ipython3",
   "version": "3.10.5"
  },
  "vscode": {
   "interpreter": {
    "hash": "b61302ffc4db2b0d20d7b3dd013251e47470a855f96363bc85fea0bcdb0e9ea0"
   }
  }
 },
 "nbformat": 4,
 "nbformat_minor": 2
}

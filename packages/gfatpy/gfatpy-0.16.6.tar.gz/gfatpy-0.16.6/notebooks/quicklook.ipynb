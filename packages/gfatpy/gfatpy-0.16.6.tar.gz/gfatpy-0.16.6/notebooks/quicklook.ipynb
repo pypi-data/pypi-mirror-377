{
 "cells": [
  {
   "cell_type": "code",
   "execution_count": null,
   "metadata": {},
   "outputs": [],
   "source": [
    "from datetime import datetime\n",
    "\n",
    "from gfatpy.lidar.preprocessing import preprocess\n",
    "import matplotlib.pyplot as plt"
   ]
  },
  {
   "cell_type": "code",
   "execution_count": null,
   "metadata": {},
   "outputs": [],
   "source": [
    "RS_FL = r\"../tests/datos/MULHACEN/1a/2022/08/08/*Prs*.nc\"\n",
    "DC_FL = r\"../tests/datos/MULHACEN/1a/2022/08/08/*Pdc*.nc\""
   ]
  },
  {
   "cell_type": "code",
   "execution_count": null,
   "metadata": {},
   "outputs": [],
   "source": [
    "aug8 = preprocess(\n",
    "    rs_fl=RS_FL,\n",
    "    dc_fl=DC_FL,\n",
    "    # merge_flag=False, \n",
    "    channels=[\"532xpa\"],\n",
    "    deadtime_flag=False,\n",
    ")"
   ]
  },
  {
   "cell_type": "code",
   "execution_count": null,
   "metadata": {},
   "outputs": [],
   "source": [
    "fig, ax = plt.subplots(figsize=(5, 7))\n",
    "# ax.plot(aug8.signal_532xpa[0] * aug8.range ** 2  , aug8.range, label = f\"{aug8.time[0].dt.strftime('%d %H:%M:%S')}\")\n",
    "ax.plot(aug8.signal_532xpa[315] * aug8.range ** 2, aug8.range, label = f\"{aug8.time[315].dt.strftime('%d %H:%M:%S')}\")\n",
    "# ax.plot(aug8.signal_532xpa[420] * aug8.range ** 2, aug8.range, label = f\"{aug8.time[420].dt.strftime('%d %H:%M:%S')}\")\n",
    "# ax.plot(aug8.signal_532xpa[730] * aug8.range ** 2, aug8.range, label = f\"{aug8.time[730].dt.strftime('%d %H:%M:%S')}\")\n",
    "\n",
    "# ax.set(\n",
    "#     ylim=(0, 14000),\n",
    "#     # xlim=(0, 5e8)\n",
    "#     # # xlim=(kkkk\n",
    "# )\n",
    "\n",
    "\n",
    "ax.legend()\n",
    "plt.show()"
   ]
  },
  {
   "cell_type": "code",
   "execution_count": null,
   "metadata": {},
   "outputs": [],
   "source": [
    "RS_FL = r\"../datos/MULHACEN/1a/2021/07/08/*Prs*.nc\"\n",
    "DC_FL = r\"../datos/MULHACEN/1a/2021/07/08/*Pdc*.nc\""
   ]
  },
  {
   "cell_type": "code",
   "execution_count": null,
   "metadata": {},
   "outputs": [],
   "source": [
    "jul8 = preprocess(\n",
    "    rs_fl=RS_FL,\n",
    "    dc_fl=DC_FL,\n",
    "    # merge_flag=False, \n",
    "    channels=[\"532xpa\"],\n",
    "    deadtime_flag=False,\n",
    ")"
   ]
  },
  {
   "cell_type": "code",
   "execution_count": null,
   "metadata": {},
   "outputs": [],
   "source": [
    "fig, ax = plt.subplots(figsize=(5, 7))\n",
    "ax.plot(jul8.signal_532xpa[0] * jul8.range ** 2  , jul8.range, label = f\"{jul8.time[0].dt.strftime('%d %H:%M:%S')}\")\n",
    "ax.plot(jul8.signal_532xpa[315] * jul8.range ** 2, jul8.range, label = f\"{jul8.time[315].dt.strftime('%d %H:%M:%S')}\")\n",
    "ax.plot(jul8.signal_532xpa[420] * jul8.range ** 2, jul8.range, label = f\"{jul8.time[420].dt.strftime('%d %H:%M:%S')}\")\n",
    "# ax.plot(jul8.signal_532xpa[730] * jul8.range ** 2, jul8.range, label = f\"{jul8.time[730].dt.strftime('%d %H:%M:%S')}\")\n",
    "\n",
    "# ax.set(\n",
    "#     ylim=(0, 14000),\n",
    "#     # xlim=(0, 5e8)\n",
    "#     # # xlim=(kkkk\n",
    "# )\n",
    "\n",
    "\n",
    "ax.legend()\n",
    "plt.show()"
   ]
  },
  {
   "cell_type": "code",
   "execution_count": null,
   "metadata": {},
   "outputs": [],
   "source": []
  }
 ],
 "metadata": {
  "kernelspec": {
   "display_name": "Python 3 (ipykernel)",
   "language": "python",
   "name": "python3"
  },
  "language_info": {
   "codemirror_mode": {
    "name": "ipython",
    "version": 3
   },
   "file_extension": ".py",
   "mimetype": "text/x-python",
   "name": "python",
   "nbconvert_exporter": "python",
   "pygments_lexer": "ipython3",
   "version": "3.10.4"
  },
  "vscode": {
   "interpreter": {
    "hash": "b5814baae3aab4e87861f92f160e6bfeea4db738bd043ab54cdaf62182f6f46a"
   }
  }
 },
 "nbformat": 4,
 "nbformat_minor": 2
}

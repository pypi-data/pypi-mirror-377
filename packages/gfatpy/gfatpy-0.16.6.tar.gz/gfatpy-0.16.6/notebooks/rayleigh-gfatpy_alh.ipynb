{
 "cells": [
  {
   "cell_type": "code",
   "execution_count": null,
   "id": "d62d2a8d",
   "metadata": {},
   "outputs": [],
   "source": [
    "import os\n",
    "# import ipympl\n",
    "from pathlib import Path\n",
    "from pdb import set_trace\n",
    "import pickle\n",
    "import xarray as xr\n",
    "import matplotlib.pyplot as plt\n",
    "from datetime import date, datetime\n",
    "\n",
    "\n",
    "from gfatpy.lidar.quality_assurance.rayleigh_fit import rayleigh_fit_from_date\n",
    "from gfatpy.lidar.quality_assurance.plot import plot_rayleigh_fit\n",
    "from gfatpy.lidar.preprocessing.lidar_preprocessing import preprocess\n",
    "from gfatpy.lidar.utils.utils import signal_to_rcs\n",
    "from gfatpy.utils.plot import color_list\n",
    "%load_ext autoreload\n",
    "%autoreload 2\n",
    "\n",
    "%matplotlib inline\n",
    "# %matplotlib widget"
   ]
  },
  {
   "cell_type": "code",
   "execution_count": null,
   "id": "b69c4126",
   "metadata": {},
   "outputs": [],
   "source": [
    "output_dir = Path(r\"C:\\Users\\Usuario\\Documents\\gitlab\\gfatpy\\tests\\datos\")\n",
    "ROOT_DIR = Path(r\"C:\\Users\\Usuario\\Documents\\gitlab\\gfatpy\\tests\\datos\")\n",
    "rayleigh_fit_from_date(\n",
    "    \"ALHAMBRA\",\n",
    "    date(2023, 5, 10),\n",
    "    initial_hour=2,\n",
    "    duration=60,\n",
    "    min_reference_height=6000,\n",
    "    max_reference_height=7000,\n",
    "    dir=ROOT_DIR,\n",
    "    data_output_dir=output_dir,\n",
    "    figure_output_dir=output_dir,\n",
    "    save_fig=True,\n",
    "    crop_ranges=(0,15000.)\n",
    ")\n"
   ]
  },
  {
   "cell_type": "code",
   "execution_count": null,
   "id": "8788966e",
   "metadata": {},
   "outputs": [],
   "source": [
    "FLS2PLOT = [\n",
    "    *Path(r\"C:\\Users\\Usuario\\Documents\\gitlab\\gfatpy\\tests\\datos\\ALHAMBRA\\QA\\rayleigh_fit\\2023\\05\\10\").glob(\n",
    "        \"grRayleighFit*.nc\"\n",
    "    )\n",
    "]\n",
    "output_dir = Path(r\"C:\\Users\\Usuario\\Documents\\gitlab\\gfatpy\\tests\\datos\")\n",
    "plot_rayleigh_fit(\n",
    "    FLS2PLOT,\n",
    "    save_fig=True,\n",
    "    output_dir=output_dir,\n",
    "    range_limits=(0,15.)\n",
    ")"
   ]
  },
  {
   "cell_type": "code",
   "execution_count": null,
   "id": "54f7e9ae",
   "metadata": {},
   "outputs": [],
   "source": [
    "lidar = preprocess(r'C:\\Users\\Usuario\\Documents\\gitlab\\gfatpy\\tests\\datos\\ALHAMBRA\\1a\\2023\\05\\10\\alh_1a_Prs_rs_xf_20230510.nc')\n",
    "lidar.to_netcdf('preprocessed_alhambra_20230510.nc')"
   ]
  },
  {
   "cell_type": "code",
   "execution_count": null,
   "id": "159f1fbe",
   "metadata": {},
   "outputs": [],
   "source": [
    "lidar = preprocess(r'C:\\Users\\Usuario\\Documents\\gitlab\\gfatpy\\tests\\datos\\ALHAMBRA\\1a\\2023\\05\\09\\alh_1a_Prs_rs_xf_20230509.nc')\n",
    "lidar.to_netcdf('preprocessed_alhambra_20230509.nc')"
   ]
  },
  {
   "cell_type": "code",
   "execution_count": null,
   "id": "f8af3e1f",
   "metadata": {},
   "outputs": [],
   "source": [
    "proc = xr.open_dataset(r'C:\\Users\\Usuario\\Documents\\gitlab\\gfatpy\\notebooks\\preprocessed_alhambra_20230509.nc')"
   ]
  },
  {
   "cell_type": "code",
   "execution_count": null,
   "id": "054abe1a",
   "metadata": {},
   "outputs": [],
   "source": [
    "(signal_to_rcs(proc.signal_532npa, proc.range)).plot(y='range',cmap='jet', vmin=0, vmax=1e6)"
   ]
  },
  {
   "cell_type": "code",
   "execution_count": null,
   "id": "accd0447",
   "metadata": {},
   "outputs": [],
   "source": [
    "from gfatpy.lidar.plot.quicklook import quicklook_xarray\n",
    "fig, ax = quicklook_xarray(lidar.signal_532npa, is_rcs=False, scale_bounds=(4e5,8e5))\n",
    "ax.set_ylim(0,1000)"
   ]
  },
  {
   "cell_type": "code",
   "execution_count": null,
   "id": "51474214",
   "metadata": {},
   "outputs": [],
   "source": [
    "from gfatpy.lidar.plot.quicklook import quicklook_xarray\n",
    "time_smooth = (\"20230510T071500\", \"20230510T083600\")\n",
    "fig, ax = quicklook_xarray(lidar.signal_532npa.sel(time=slice(*time_smooth)), is_rcs=False, scale_bounds=(4e5,8e5))\n",
    "ax.set_ylim(0,500)"
   ]
  },
  {
   "cell_type": "code",
   "execution_count": null,
   "id": "ef0187c4",
   "metadata": {},
   "outputs": [],
   "source": [
    "from gfatpy.lidar.plot.quicklook import quicklook_xarray\n",
    "fig, ax = quicklook_xarray(lidar.signal_532npa, is_rcs=False, scale_bounds=(0,8e5))\n",
    "ax.set_ylim(0,1000)"
   ]
  },
  {
   "cell_type": "code",
   "execution_count": null,
   "id": "498e656f",
   "metadata": {},
   "outputs": [],
   "source": [
    "from gfatpy.lidar.plot.quicklook import quicklook_xarray\n",
    "fig, ax = quicklook_xarray(lidar.signal_355npa, is_rcs=False, scale_bounds=(0,4e6))\n",
    "ax.set_ylim(0,1000)"
   ]
  },
  {
   "cell_type": "code",
   "execution_count": null,
   "id": "c2707f3c",
   "metadata": {},
   "outputs": [],
   "source": [
    "datestr, hour_ini, hour_end = '20230510', '050000', '060000' \n",
    "date_ini = datetime.strptime(datestr,'%Y%m%d')\n",
    "date_ = date_ini\n",
    "year, month, day = date_.year, date_.month, date_.day\n",
    "ini_date_str = '%sT%s' % (datestr, hour_ini)\n",
    "end_date_str = '%sT%s' % (datestr, hour_end)\n",
    "fig, ax = plt.subplots(figsize=[10,5])\n",
    "(lidar.signal_532npa.mean('time')/lidar.signal_532npa.sel(range=slice(2500,2600), time=slice(ini_date_str, end_date_str)).mean('time').mean('range')).plot(label='AN')\n",
    "(lidar.signal_532npp.mean('time')/lidar.signal_532npp.sel(range=slice(2500,2600), time=slice(ini_date_str, end_date_str)).mean('time').mean('range')).plot(label='PC')\n",
    "plt.xlim(0,3000)\n",
    "plt.ylim(0.5,500)\n",
    "plt.yscale('log')\n",
    "plt.ylabel('normalized signal@532nm')\n",
    "plt.legend()"
   ]
  },
  {
   "cell_type": "code",
   "execution_count": null,
   "id": "4b069ac2",
   "metadata": {},
   "outputs": [],
   "source": [
    "lidar['rcs_532npa'] = signal_to_rcs(lidar.signal_532npa, lidar.range)\n",
    "lidar['rcs_532npp'] = signal_to_rcs(lidar.signal_532npp, lidar.range)\n",
    "(lidar.rcs_532npa.mean('time')/lidar.rcs_532npa.sel(range=slice(2500,2600)).mean('time').mean('range')).plot(label='AN')\n",
    "(lidar.rcs_532npp.mean('time')/lidar.rcs_532npp.sel(range=slice(2500,2600)).mean('time').mean('range')).plot(label='PC')\n",
    "\n",
    "plt.xlim(0,1000)\n",
    "plt.ylim(0,2)\n",
    "plt.ylabel('normalized RCS@532nm')\n",
    "plt.legend()"
   ]
  },
  {
   "cell_type": "code",
   "execution_count": null,
   "id": "dc1f3d61",
   "metadata": {},
   "outputs": [],
   "source": [
    "time_smooth = (\"20230510T073000\", \"20230510T083600\")\n",
    "fig, ax = plt.subplots(figsize=[5,7])\n",
    "colors = color_list(len(lidar['signal_532npa'].sel(time=slice(*time_smooth)).time))\n",
    "slidar = lidar['signal_532npa'].sel(time=slice(*time_smooth))\n",
    "for idx, time_ in enumerate(slidar.time):\n",
    "    signal_to_rcs(slidar, slidar.range).sel(time=time_).plot(y='range', c=colors[idx])\n",
    "ax.set_ylim(100,500)\n",
    "ax.set_xlim(5e5,1e6)\n",
    "ax.set_xscale('log')\n",
    "ax.set_xlabel('RCS@532nm')\n",
    "plt.legend([])\n",
    "ax.set_title(time_smooth)"
   ]
  },
  {
   "cell_type": "code",
   "execution_count": null,
   "id": "bd309885",
   "metadata": {},
   "outputs": [],
   "source": [
    "lidar['signal_532xsa'].mean('time').plot(x='range')\n",
    "lidar['signal_532xpa'].mean('time').plot(x='range')\n",
    "plt.ylim(-0.025,0.01)"
   ]
  },
  {
   "cell_type": "code",
   "execution_count": null,
   "id": "81b82b28",
   "metadata": {},
   "outputs": [],
   "source": [
    "datestr, hour_ini, hour_end = '20230510', '050000', '060000' \n",
    "date_ini = datetime.strptime(datestr,'%Y%m%d')\n",
    "date_ = date_ini\n",
    "year, month, day = date_.year, date_.month, date_.day\n",
    "ini_date_str = '%sT%s' % (datestr, hour_ini)\n",
    "end_date_str = '%sT%s' % (datestr, hour_end)\n",
    "rcs_532xpa = lidar['signal_532xpa']*lidar.range**2\n",
    "rcs_532xpp = lidar['signal_532xpp']*lidar.range**2\n",
    "rcs_532xsa = lidar['signal_532xsa']*lidar.range**2\n",
    "rcs_532xsp = lidar['signal_532xsp']*lidar.range**2\n",
    "rcs_532xpa_profile = rcs_532xpa.sel(time=slice(ini_date_str,end_date_str)).mean('time')\n",
    "rcs_532xpp_profile = rcs_532xpp.sel(time=slice(ini_date_str,end_date_str)).mean('time')\n",
    "rcs_532xsa_profile = rcs_532xsa.sel(time=slice(ini_date_str,end_date_str)).mean('time')\n",
    "rcs_532xsp_profile = rcs_532xsp.sel(time=slice(ini_date_str,end_date_str)).mean('time')\n",
    "nrcs_532xpa = rcs_532xpa_profile/rcs_532xpa_profile.sel(range=slice(8000,9000)).mean('range')\n",
    "nrcs_532xpp = rcs_532xpp_profile/rcs_532xpp_profile.sel(range=slice(8000,9000)).mean('range')\n",
    "nrcs_532xsa = rcs_532xsa_profile/np.abs(rcs_532xsa_profile.sel(range=slice(8000,9000)).mean('range'))\n",
    "nrcs_532xsp = rcs_532xsp_profile/rcs_532xsp_profile.sel(range=slice(8000,9000)).mean('range')\n"
   ]
  },
  {
   "cell_type": "code",
   "execution_count": null,
   "id": "70fa73f4",
   "metadata": {},
   "outputs": [],
   "source": [
    "ranges = lidar.range\n",
    "wavelength = 532\n",
    "meteo_profiles = ecmwf.get_ecmwf_temperature_pressure(\n",
    "    datestr, ranges_array=ranges\n",
    ")\n",
    "\n",
    "\n",
    "# Molecular Attenuated Backscatter\n",
    "mol_properties = atmo.molecular_properties(\n",
    "    wavelength, meteo_profiles['pressure'], meteo_profiles['temperature'], ranges\n",
    ")\n",
    "beta_mol_att = mol_properties[\"attenuated_molecular_beta\"]\n"
   ]
  },
  {
   "cell_type": "code",
   "execution_count": null,
   "id": "2b3519b6",
   "metadata": {},
   "outputs": [],
   "source": [
    "fig, ax = plt.subplots(figsize=(10,5))\n",
    "nrcs_532xpa.plot(x='range', label='532xpa', ax=ax)\n",
    "nrcs_532xpp.plot(x='range', label='532xpp', lw=4, ax=ax)\n",
    "nrcs_532xsa.plot(x='range', label='532xsa', ax=ax)\n",
    "nrcs_532xsp.plot(x='range', label='532xsp',lw=1, ax=ax)\n",
    "(beta_mol_att/beta_mol_att.sel(range=slice(8000,9000)).mean('range')).plot(x='range',label='mol',color='k', ax=ax)\n",
    "ax.legend()\n",
    "ax.set_yscale('log')\n",
    "ax.set_ylim(0.1,10)\n",
    "# plt.savefig('rayleigh_gfatpy.png')"
   ]
  },
  {
   "cell_type": "code",
   "execution_count": null,
   "id": "15a693aa",
   "metadata": {},
   "outputs": [],
   "source": [
    "import pickle\n",
    "with open(r'C:\\Users\\Usuario\\Documents\\gitlab\\gfatpy\\licel_values.pkl', 'rb') as f:\n",
    "    licel = pickle.load(f)    \n",
    "with open(r'C:\\Users\\Usuario\\Documents\\gitlab\\gfatpy\\physical_values.pkl', 'rb') as f:\n",
    "    physical = pickle.load(f)    "
   ]
  },
  {
   "cell_type": "code",
   "execution_count": null,
   "id": "c9b242cb",
   "metadata": {},
   "outputs": [],
   "source": [
    "(licel['BT11']/licel['BT11'].iloc[licel.index == 400].values.item()).plot()\n",
    "(physical['BT11']/physical['BT11'].iloc[physical.index == 400].values.item()).plot(ls='--')\n",
    "plt.xlim(0,1000)\n",
    "plt.show()"
   ]
  },
  {
   "cell_type": "code",
   "execution_count": null,
   "id": "bc3b0016",
   "metadata": {},
   "outputs": [],
   "source": [
    "physical['BT11'].plot(ls='--')\n",
    "plt.xlim(0,1000)\n",
    "plt.show()"
   ]
  },
  {
   "cell_type": "code",
   "execution_count": null,
   "id": "d8845572",
   "metadata": {},
   "outputs": [],
   "source": [
    "filepath = r'C:\\Users\\Usuario\\Documents\\gitlab\\gfatpy\\tests\\datos\\ALHAMBRA\\1a\\2023\\05\\09\\alh_1a_Prs_rs_xf_20230509.nc'\n",
    "raw = xr.open_dataset(filepath)"
   ]
  },
  {
   "cell_type": "code",
   "execution_count": null,
   "id": "47f2be21",
   "metadata": {},
   "outputs": [],
   "source": [
    "datestr, hour_ini, hour_end = '20230509', '020000', '030000' \n",
    "date_ini = datetime.strptime(datestr,'%Y%m%d')\n",
    "date_ = date_ini\n",
    "year, month, day = date_.year, date_.month, date_.day\n",
    "ini_date_str = '%sT%s' % (datestr, hour_ini)\n",
    "end_date_str = '%sT%s' % (datestr, hour_end)\n",
    "raw.signal_532npa.sel(time=slice(ini_date_str, end_date_str)).mean('time').plot()\n",
    "plt.xlim(0,1000)\n",
    "plt.show()"
   ]
  },
  {
   "cell_type": "code",
   "execution_count": null,
   "id": "90678a06",
   "metadata": {},
   "outputs": [],
   "source": [
    "datestr, hour_ini, hour_end = '20230509', '020000', '030000' \n",
    "date_ini = datetime.strptime(datestr,'%Y%m%d')\n",
    "date_ = date_ini\n",
    "year, month, day = date_.year, date_.month, date_.day\n",
    "ini_date_str = '%sT%s' % (datestr, hour_ini)\n",
    "end_date_str = '%sT%s' % (datestr, hour_end)\n",
    "raw.signal_355npa.sel(time=slice(ini_date_str, end_date_str)).mean('time').plot()\n",
    "plt.xlim(0,1000)\n",
    "plt.show()"
   ]
  },
  {
   "cell_type": "code",
   "execution_count": null,
   "id": "7871df10",
   "metadata": {},
   "outputs": [],
   "source": [
    "filepath = r'C:\\Users\\Usuario\\Documents\\gitlab\\gfatpy\\tests\\datos\\ALHAMBRA\\1a\\2023\\05\\09\\alh_1a_Pdc_rs_xf_20230509_0100.nc'\n",
    "dc = xr.open_dataset(filepath)"
   ]
  },
  {
   "cell_type": "code",
   "execution_count": null,
   "id": "5a4d8edd",
   "metadata": {},
   "outputs": [],
   "source": [
    "dc"
   ]
  },
  {
   "cell_type": "code",
   "execution_count": null,
   "id": "f33cc867",
   "metadata": {},
   "outputs": [],
   "source": [
    "datestr, hour_ini, hour_end = '20230509', '020000', '030000' \n",
    "date_ini = datetime.strptime(datestr,'%Y%m%d')\n",
    "date_ = date_ini\n",
    "year, month, day = date_.year, date_.month, date_.day\n",
    "ini_date_str = '%sT%s' % (datestr, hour_ini)\n",
    "end_date_str = '%sT%s' % (datestr, hour_end)\n",
    "dc.signal_532npa.mean('time').plot()\n",
    "plt.xlim(0,1000)\n",
    "plt.show()"
   ]
  },
  {
   "cell_type": "code",
   "execution_count": null,
   "id": "d571284d",
   "metadata": {},
   "outputs": [],
   "source": [
    "dc.signal_532npa.sel(range=slice(0,5000)).std('range').std('time')"
   ]
  },
  {
   "cell_type": "code",
   "execution_count": null,
   "id": "fb963ee0",
   "metadata": {},
   "outputs": [],
   "source": [
    "raw.signal_532npa.sel(range=slice(0,5000)).std('range').std('time')"
   ]
  },
  {
   "cell_type": "code",
   "execution_count": null,
   "id": "734b0db4",
   "metadata": {},
   "outputs": [],
   "source": []
  }
 ],
 "metadata": {
  "kernelspec": {
   "display_name": "Python 3 (ipykernel)",
   "language": "python",
   "name": "python3"
  },
  "language_info": {
   "codemirror_mode": {
    "name": "ipython",
    "version": 3
   },
   "file_extension": ".py",
   "mimetype": "text/x-python",
   "name": "python",
   "nbconvert_exporter": "python",
   "pygments_lexer": "ipython3",
   "version": "3.10.5"
  },
  "vscode": {
   "interpreter": {
    "hash": "b61302ffc4db2b0d20d7b3dd013251e47470a855f96363bc85fea0bcdb0e9ea0"
   }
  }
 },
 "nbformat": 4,
 "nbformat_minor": 5
}

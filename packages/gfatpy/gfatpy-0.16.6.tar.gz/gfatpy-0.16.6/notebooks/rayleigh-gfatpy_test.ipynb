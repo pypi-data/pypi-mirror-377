{
 "cells": [
  {
   "cell_type": "code",
   "execution_count": null,
   "id": "d62d2a8d",
   "metadata": {},
   "outputs": [],
   "source": [
    "import os\n",
    "# import ipympl\n",
    "from pathlib import Path\n",
    "from pdb import set_trace\n",
    "\n",
    "from datetime import datetime\n",
    "import numpy as np #For general mathematical calculations\n",
    "import matplotlib.pyplot as plt #For plotting\n",
    "from scipy.integrate import trapz\n",
    "from scipy.signal import savgol_filter #Allows to smooth a profile through the Savitzky-Golay filter\n",
    "import xarray as xr\n",
    "#For working with lidar products (developed by the Atmospheric Physics Group of the UGR, GFAT)\n",
    "from gfatpy.atmo import ecmwf, atmo\n",
    "\n",
    "from gfatpy.lidar.reader import reader_xarray\n",
    "from gfatpy.lidar.preprocessing import preprocess\n",
    "from gfatpy.lidar.plot.quicklook import date_quicklook\n",
    "from gfatpy.lidar.quality_assurance.rayleigh_fit import rayleigh_fit_from_date\n",
    "from gfatpy.lidar import utils\n",
    "from gfatpy.lidar.retrieval import klett\n",
    "from gfatpy.lidar.retrieval.helper import RetrievalHelper\n",
    "from gfatpy.lidar.preprocessing.lidar_preprocessing_tools import average_dc_signal, subtract_dark_current, subtract_background\n",
    "from gfatpy.aeronet.reader import reader as aeronet_reader\n",
    "from gfatpy.aeronet.utils import find_aod\n",
    "\n",
    "from gfatpy.utils.plot import font_axes, color_list\n",
    "from gfatpy.atmo import solar\n",
    "\n",
    "import lidar_preprocessing\n",
    "\n",
    "%load_ext autoreload\n",
    "%autoreload 2\n",
    "\n",
    "%matplotlib inline\n",
    "# %matplotlib widget"
   ]
  },
  {
   "cell_type": "code",
   "execution_count": null,
   "id": "a41de3ac",
   "metadata": {},
   "outputs": [],
   "source": [
    "#------------------------------------------------------------------------------------------------------------------------------\n",
    "databasepath = Path(r'G:\\Mi unidad\\03. Docencia\\UGR22-23\\GEOMET\\MTMAA\\Practica_lidar_elastico\\data\\1a')  #Database folder path, until '\\1a' (included). Example: 'C:\\\\Users\\\\user\\\\Desktop\\\\data\\\\1a'\n",
    "databasepath = Path(r'C:\\Users\\Usuario\\Mi unidad\\03. Docencia\\UGR22-23\\GEOMET\\MTMAA\\Practica_lidar_elastico\\data\\1a')  #Database folder path, until '\\1a' (included). Example: 'C:\\\\Users\\\\user\\\\Desktop\\\\data\\\\1a'\n",
    "outputpath =   Path(r'C:\\Users\\Usuario\\Downloads\\geomet_output')  #Output folder path. Example: ''C:\\\\Users\\\\user\\\\Desktop\\\\output''\n",
    "#------------------------------------------------------------------------------------------------------------------------------\n",
    "\n",
    "databasepath.is_dir(), outputpath.is_dir() #Comprueba que ambas carpetas existen."
   ]
  },
  {
   "cell_type": "code",
   "execution_count": null,
   "id": "1ca2add7",
   "metadata": {},
   "outputs": [],
   "source": [
    "filelist = databasepath /'2021'/'06'/'24'/'*Prs*.nc'\n",
    "date_ini = \"2021-06-24\"\n",
    "channels = [\"532xpa\", '532xsa']\n",
    "ini_date = '20210624T223000'   #Initial date and time. Format 'yyyymmddThhmmss', where T represents literally the letter T. Example: '20200101T200000'\n",
    "end_date = '20210624T233000'   #Same format than ini_date\n",
    "\n",
    "#Lidar measurement\n",
    "lidar = reader_xarray(filelist, date_ini=ini_date, date_end=end_date, channels=channels)\n",
    "\n",
    "#Dark measurement\n",
    "dc_fl = databasepath / '2021' / '06' / '24' / '*Pdc*.nc'\n",
    "dc_ds = reader_xarray(dc_fl, channels=channels)\n",
    "\n",
    "colors = {'532xpa': 'darkgreen', '532xsa': 'lime'}\n",
    "fig,ax = plt.subplots(figsize=[10,6])\n",
    "lidar.signal_532xpa.mean('time').plot(x='range',ax=ax,color=colors['532xpa'], label='532xpa-raw')\n",
    "dc_ds.signal_532xpa.mean('time').plot(x='range',ax=ax,color=colors['532xpa'], ls='dashed', label='532xpa-DC')\n",
    "lidar.signal_532xsa.mean('time').plot(x='range',ax=ax,color=colors['532xsa'], label='532xsa-raw')\n",
    "dc_ds.signal_532xsa.mean('time').plot(x='range',ax=ax,color=colors['532xsa'], ls='dashed', label='532xsa-DC')\n",
    "ax.set_yscale('log')\n",
    "ax.set_xlim(0,15000)\n",
    "ax.set_ylim(7,10)\n",
    "ax.legend(fontsize=14)"
   ]
  },
  {
   "cell_type": "code",
   "execution_count": null,
   "id": "54f7e9ae",
   "metadata": {},
   "outputs": [],
   "source": [
    "channels = [\"532xpa\", '532xsa', '532xsp', '532xpp']\n",
    "lidar = preprocess(filelist, \n",
    "dc_fl=dc_fl,\n",
    "ini_date= ini_date,\n",
    "end_date= end_date,\n",
    "channels=channels)"
   ]
  },
  {
   "cell_type": "code",
   "execution_count": null,
   "id": "bd309885",
   "metadata": {},
   "outputs": [],
   "source": [
    "lidar['signal_532xsa'].mean('time').plot(x='range')\n",
    "lidar['signal_532xpa'].mean('time').plot(x='range')\n",
    "plt.ylim(-0.025,0.01)"
   ]
  },
  {
   "cell_type": "code",
   "execution_count": null,
   "id": "81b82b28",
   "metadata": {},
   "outputs": [],
   "source": [
    "datestr, hour_ini, hour_end = '20210624', '223000', '233000' \n",
    "date_ini = datetime.strptime(datestr,'%Y%m%d')\n",
    "date_ = date_ini\n",
    "year, month, day = date_.year, date_.month, date_.day\n",
    "ini_date_str = '%sT%s' % (datestr, hour_ini)\n",
    "end_date_str = '%sT%s' % (datestr, hour_end)\n",
    "rcs_532xpa = lidar['signal_532xpa']*lidar.range**2\n",
    "rcs_532xpp = lidar['signal_532xpp']*lidar.range**2\n",
    "rcs_532xsa = lidar['signal_532xsa']*lidar.range**2\n",
    "rcs_532xsp = lidar['signal_532xsp']*lidar.range**2\n",
    "rcs_532xpa_profile = rcs_532xpa.sel(time=slice(ini_date_str,end_date_str)).mean('time')\n",
    "rcs_532xpp_profile = rcs_532xpp.sel(time=slice(ini_date_str,end_date_str)).mean('time')\n",
    "rcs_532xsa_profile = rcs_532xsa.sel(time=slice(ini_date_str,end_date_str)).mean('time')\n",
    "rcs_532xsp_profile = rcs_532xsp.sel(time=slice(ini_date_str,end_date_str)).mean('time')\n",
    "nrcs_532xpa = rcs_532xpa_profile/rcs_532xpa_profile.sel(range=slice(8000,9000)).mean('range')\n",
    "nrcs_532xpp = rcs_532xpp_profile/rcs_532xpp_profile.sel(range=slice(8000,9000)).mean('range')\n",
    "nrcs_532xsa = rcs_532xsa_profile/np.abs(rcs_532xsa_profile.sel(range=slice(8000,9000)).mean('range'))\n",
    "nrcs_532xsp = rcs_532xsp_profile/rcs_532xsp_profile.sel(range=slice(8000,9000)).mean('range')\n"
   ]
  },
  {
   "cell_type": "code",
   "execution_count": null,
   "id": "70fa73f4",
   "metadata": {},
   "outputs": [],
   "source": [
    "ranges = lidar.range\n",
    "wavelength = 532\n",
    "meteo_profiles = ecmwf.get_ecmwf_temperature_pressure(\n",
    "    datestr, ranges_array=ranges\n",
    ")\n",
    "\n",
    "\n",
    "# Molecular Attenuated Backscatter\n",
    "mol_properties = atmo.molecular_properties(\n",
    "    wavelength, meteo_profiles['pressure'], meteo_profiles['temperature'], ranges\n",
    ")\n",
    "beta_mol_att = mol_properties[\"attenuated_molecular_beta\"]\n"
   ]
  },
  {
   "cell_type": "code",
   "execution_count": null,
   "id": "2b3519b6",
   "metadata": {},
   "outputs": [],
   "source": [
    "fig, ax = plt.subplots(figsize=(10,5))\n",
    "nrcs_532xpa.plot(x='range', label='532xpa', ax=ax)\n",
    "nrcs_532xpp.plot(x='range', label='532xpp', lw=4, ax=ax)\n",
    "nrcs_532xsa.plot(x='range', label='532xsa', ax=ax)\n",
    "nrcs_532xsp.plot(x='range', label='532xsp',lw=1, ax=ax)\n",
    "(beta_mol_att/beta_mol_att.sel(range=slice(8000,9000)).mean('range')).plot(x='range',label='mol',color='k', ax=ax)\n",
    "ax.legend()\n",
    "ax.set_yscale('log')\n",
    "ax.set_ylim(0.1,10)\n",
    "# plt.savefig('rayleigh_gfatpy.png')"
   ]
  },
  {
   "cell_type": "code",
   "execution_count": null,
   "id": "15a693aa",
   "metadata": {},
   "outputs": [],
   "source": []
  }
 ],
 "metadata": {
  "kernelspec": {
   "display_name": "Python 3 (ipykernel)",
   "language": "python",
   "name": "python3"
  },
  "language_info": {
   "codemirror_mode": {
    "name": "ipython",
    "version": 3
   },
   "file_extension": ".py",
   "mimetype": "text/x-python",
   "name": "python",
   "nbconvert_exporter": "python",
   "pygments_lexer": "ipython3",
   "version": "3.10.5"
  },
  "vscode": {
   "interpreter": {
    "hash": "b61302ffc4db2b0d20d7b3dd013251e47470a855f96363bc85fea0bcdb0e9ea0"
   }
  }
 },
 "nbformat": 4,
 "nbformat_minor": 5
}

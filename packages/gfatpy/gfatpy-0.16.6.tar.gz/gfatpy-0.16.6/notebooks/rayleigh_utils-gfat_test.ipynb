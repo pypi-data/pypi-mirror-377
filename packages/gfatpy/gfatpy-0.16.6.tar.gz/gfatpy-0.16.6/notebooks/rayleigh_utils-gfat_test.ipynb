{
 "cells": [
  {
   "cell_type": "code",
   "execution_count": null,
   "metadata": {},
   "outputs": [],
   "source": [
    "import os\n",
    "import sys\n",
    "import glob\n",
    "import pandas as pd\n",
    "import numpy as np\n",
    "import xarray as xr\n",
    "import collections\n",
    "import matplotlib as mpl\n",
    "import matplotlib.pyplot as plt\n",
    "from scipy import integrate\n",
    "from scipy.ndimage import gaussian_filter\n",
    "from importlib import reload\n",
    "import datetime as dt\n",
    "# sys.path.append('/home/gfat/software')\n",
    "sys.path.append(r'C:\\Users\\Usuario\\Documents\\gitlab\\utils_gfat')\n",
    "import lidar\n",
    "import helper_functions\n",
    "import lidarQA\n",
    "import pdb\n"
   ]
  },
  {
   "cell_type": "code",
   "execution_count": null,
   "metadata": {},
   "outputs": [],
   "source": [
    "datestr, hour_ini, hour_end = '20210624', '223000', '233000' \n",
    "date_ini = dt.datetime.strptime(datestr,'%Y%m%d')\n",
    "date_ = date_ini\n",
    "year, month, day = date_.year, date_.month, date_.day\n",
    "ini_date_str = '%sT%s' % (datestr, hour_ini)\n",
    "end_date_str = '%sT%s' % (datestr, hour_end)\n",
    "ini_date = dt.datetime.strptime(ini_date_str,'%Y%m%dT%H%M%S')\n",
    "end_date = dt.datetime.strptime(end_date_str,'%Y%m%dT%H%M%S')"
   ]
  },
  {
   "cell_type": "code",
   "execution_count": null,
   "metadata": {},
   "outputs": [],
   "source": [
    "output_dir = r'C:\\Users\\Usuario\\Downloads\\geomet_output'"
   ]
  },
  {
   "cell_type": "code",
   "execution_count": null,
   "metadata": {},
   "outputs": [],
   "source": [
    "path1a = r'C:\\Users\\Usuario\\Mi unidad\\03. Docencia\\UGR22-23\\GEOMET\\MTMAA\\Practica_lidar_elastico\\data\\1a'\n",
    "rs_fl = os.path.join(path1a, '%d' % year, '%02d' % month , '%02d' % day, 'mhc_1a_Prs_rs_xf_%s.nc' % datestr)\n",
    "rs = xr.open_dataset(rs_fl)\n"
   ]
  },
  {
   "cell_type": "code",
   "execution_count": null,
   "metadata": {},
   "outputs": [],
   "source": [
    "dc_fl = os.path.join(path1a, '%d' % year, '%02d' % month , '%02d' % day, 'mhc_1a_Pdc_rs_xf_20210624_0444.nc')\n",
    "dc = xr.open_dataset(dc_fl)"
   ]
  },
  {
   "cell_type": "code",
   "execution_count": null,
   "metadata": {},
   "outputs": [],
   "source": [
    "rs = rs.sel(time=slice(ini_date_str, end_date_str))\n",
    "dc = dc.mean('time')"
   ]
  },
  {
   "cell_type": "code",
   "execution_count": null,
   "metadata": {},
   "outputs": [],
   "source": [
    "type(rs['signal_532xpa'].values)"
   ]
  },
  {
   "cell_type": "code",
   "execution_count": null,
   "metadata": {},
   "outputs": [],
   "source": [
    "rs['signal_532xpa'].values.shape,  dc['signal_532xpa'].values.shape"
   ]
  },
  {
   "cell_type": "code",
   "execution_count": null,
   "metadata": {},
   "outputs": [],
   "source": [
    "rs['signal_532xpa'].values - dc['signal_532xpa'].values"
   ]
  },
  {
   "cell_type": "code",
   "execution_count": null,
   "metadata": {},
   "outputs": [],
   "source": [
    "dc_rs_np = np.nanmean(rs['signal_532xpa'].values - dc['signal_532xpa'].values, axis=0)\n",
    "bg = dc_rs.sel(range=slice(75000,105000)).mean('range').values\n",
    "bg_dc_rs_np = dc_rs_np - bg\n",
    "plt.plot(rs.range.values, dc_rs_np)\n",
    "plt.plot(rs.range.values, bg_dc_rs_np)"
   ]
  },
  {
   "cell_type": "code",
   "execution_count": null,
   "metadata": {},
   "outputs": [],
   "source": [
    "(rs['signal_532xpa'] - dc['signal_532xpa']).mean('time').plot()"
   ]
  },
  {
   "cell_type": "code",
   "execution_count": null,
   "metadata": {},
   "outputs": [],
   "source": [
    "rs['signal_532xpa'].mean('time').plot()\n",
    "dc['signal_532xpa'].plot()\n",
    "dc_rs = (rs['signal_532xpa'].mean('time') -dc['signal_532xpa'])\n",
    "dc_rs.plot()\n",
    "bg = dc_rs.sel(range=slice(75000,105000)).mean('range')\n",
    "bg_dc_rs = dc_rs - bg\n",
    "bg_dc_rs.plot()"
   ]
  },
  {
   "cell_type": "code",
   "execution_count": null,
   "metadata": {},
   "outputs": [],
   "source": [
    "height = bg_dc_rs.range\n",
    "temperature_prf = np.ones(height.size)*np.nan\n",
    "pressure_prf = np.ones(height.size)*np.nan\n",
    "for i, _height in enumerate(height):\n",
    "    sa = helper_functions.standard_atmosphere(_height)\n",
    "    pressure_prf[i] = sa[0]\n",
    "    temperature_prf[i] = sa[1]\n",
    "\n",
    "wavelength=532\n",
    "molecular_profiles = lidarQA.molecular_properties(wavelength, pressure_prf, temperature_prf, height, component='total')\n",
    "abetamol = molecular_profiles['attenuated_molecular_beta']    "
   ]
  },
  {
   "cell_type": "code",
   "execution_count": null,
   "metadata": {},
   "outputs": [],
   "source": [
    "rcs = bg_dc_rs*bg_dc_rs.range**2\n",
    "nrcs = rcs/rcs.sel(range=slice(5000,6000)).mean('range')\n",
    "nabetamol = abetamol/abetamol.sel(range=slice(5000,6000)).mean('range')\n",
    "nrcs.plot(x='range')\n",
    "nabetamol.plot(x='range')\n",
    "# plt.ylim(10,5e7)\n",
    "plt.xlim(0,30000)\n",
    "plt.yscale('log')"
   ]
  },
  {
   "cell_type": "code",
   "execution_count": null,
   "metadata": {},
   "outputs": [],
   "source": []
  },
  {
   "cell_type": "code",
   "execution_count": null,
   "metadata": {},
   "outputs": [],
   "source": []
  },
  {
   "cell_type": "code",
   "execution_count": null,
   "metadata": {},
   "outputs": [],
   "source": []
  },
  {
   "cell_type": "code",
   "execution_count": null,
   "metadata": {},
   "outputs": [],
   "source": [
    "reload(lidar)\n",
    "path1a = r'C:\\Users\\Usuario\\Mi unidad\\03. Docencia\\UGR22-23\\GEOMET\\MTMAA\\Practica_lidar_elastico\\data\\1a'\n",
    "\n",
    "rs_fl = os.path.join(path1a, '%d' % year, '%02d' % month , '%02d' % day, 'mhc_1a_Prs_rs_xf_%s.nc' % datestr)  \n",
    "dc_fl = os.path.join(path1a, '%d' % year, '%02d' % month , '%02d' % day, 'mhc_1a_Pdc_rs_xf_%s*.nc' % datestr)  \n",
    "print(rs_fl,os.path.isfile(rs_fl))\n",
    "#Lidar signal\n",
    "ds = lidar.preprocessing(rs_fl, dc_fl=dc_fl,ini_date=ini_date_str, end_date=end_date_str) "
   ]
  },
  {
   "cell_type": "code",
   "execution_count": null,
   "metadata": {},
   "outputs": [],
   "source": [
    "rcs_532xpa = ds['signal_532xpa']*ds.range**2\n",
    "rcs_532xpp = ds['signal_532xpp']*ds.range**2\n",
    "rcs_532xsa = ds['signal_532xsa']*ds.range**2\n",
    "rcs_532xsp = ds['signal_532xsp']*ds.range**2"
   ]
  },
  {
   "cell_type": "code",
   "execution_count": null,
   "metadata": {},
   "outputs": [],
   "source": [
    "ds['signal_532xsa'].mean('time').plot(x='range',label='532xsa')\n",
    "ds['signal_532xpa'].mean('time').plot(x='range',label='532xpa')\n",
    "bg_dc_rs.plot(x='range')\n",
    "plt.legend()\n",
    "plt.ylim(-0.025,0.01)"
   ]
  },
  {
   "cell_type": "code",
   "execution_count": null,
   "metadata": {},
   "outputs": [],
   "source": [
    "good = xr.open_dataset(r'Y:\\datos\\MULHACEN\\QA\\sent2ACTRIS\\july2021\\rayleighfit_20210624T223000\\grRayleighFit532xpa.nc')\n"
   ]
  },
  {
   "cell_type": "code",
   "execution_count": null,
   "metadata": {},
   "outputs": [],
   "source": [
    "good"
   ]
  },
  {
   "cell_type": "code",
   "execution_count": null,
   "metadata": {},
   "outputs": [],
   "source": []
  },
  {
   "cell_type": "code",
   "execution_count": null,
   "metadata": {},
   "outputs": [],
   "source": [
    "(good.RCS/(good.range)**2).plot()\n",
    "plt.xlim(100,30000)\n",
    "plt.ylim(0,0.1)"
   ]
  },
  {
   "cell_type": "code",
   "execution_count": null,
   "metadata": {},
   "outputs": [],
   "source": [
    "good.DC.plot()\n",
    "plt.xlim(100,30000)\n",
    "plt.ylim(7.87,7.89)"
   ]
  },
  {
   "cell_type": "code",
   "execution_count": null,
   "metadata": {},
   "outputs": [],
   "source": [
    "good['range'] = good.range*1000"
   ]
  },
  {
   "cell_type": "code",
   "execution_count": null,
   "metadata": {},
   "outputs": [],
   "source": []
  },
  {
   "cell_type": "code",
   "execution_count": null,
   "metadata": {},
   "outputs": [],
   "source": [
    "(ds['signal_532xpa'].mean('time')*ds.range**2).plot(x='range',label='532xpa-new')\n",
    "good.RCS.plot(x='range',label='old')\n",
    "plt.legend()\n"
   ]
  },
  {
   "cell_type": "code",
   "execution_count": null,
   "metadata": {},
   "outputs": [],
   "source": [
    "\n"
   ]
  },
  {
   "cell_type": "code",
   "execution_count": null,
   "metadata": {},
   "outputs": [],
   "source": [
    "rcs_532xpa_profile = rcs_532xpa.sel(time=slice(ini_date_str,end_date_str)).mean('time')\n",
    "rcs_532xpp_profile = rcs_532xpp.sel(time=slice(ini_date_str,end_date_str)).mean('time')\n",
    "rcs_532xsa_profile = rcs_532xsa.sel(time=slice(ini_date_str,end_date_str)).mean('time')\n",
    "rcs_532xsp_profile = rcs_532xsp.sel(time=slice(ini_date_str,end_date_str)).mean('time')\n",
    "nrcs_532xpa = rcs_532xpa_profile/rcs_532xpa_profile.sel(range=slice(4000,5000)).mean('range')\n",
    "nrcs_532xpp = rcs_532xpp_profile/rcs_532xpp_profile.sel(range=slice(4000,5000)).mean('range')\n",
    "nrcs_532xsa = rcs_532xsa_profile/rcs_532xsa_profile.sel(range=slice(4000,5000)).mean('range')\n",
    "nrcs_532xsp = rcs_532xsp_profile/rcs_532xsp_profile.sel(range=slice(4000,5000)).mean('range')\n",
    "\n"
   ]
  },
  {
   "cell_type": "code",
   "execution_count": null,
   "metadata": {},
   "outputs": [],
   "source": [
    "lr_aer = 40\n",
    "ymin = 4000\n",
    "ymax = 5000\n",
    "\n",
    "rcs_dict={532: {'ff': 'corrected_rcs_04', 'nf': 'corrected_rcs_30'},\n",
    "          355: {'ff': 'corrected_rcs_12', 'nf': 'corrected_rcs_38'}, \n",
    "         1064: {'ff': 'corrected_rcs_00', 'nf': 'corrected_rcs_28'}}\n",
    "channel_dict={532: {'ff':  4, 'nf': 30}, \n",
    "              355: {'ff': 12, 'nf': 38},\n",
    "             1064: {'ff':  0, 'nf': 28}}\n"
   ]
  },
  {
   "cell_type": "code",
   "execution_count": null,
   "metadata": {},
   "outputs": [],
   "source": [
    "iwds = ds.sel(time=slice(ini_date,end_date))\n",
    "height = iwds.range\n",
    "resolution = np.median(np.diff(height))\n",
    "nanprf = np.ones(len(height))*np.nan\n",
    "#Inversión KLETT para hallar la razón lidar\n",
    "beta_part ={355: nanprf, 532: nanprf, 1064: nanprf}\n",
    "beta_total ={355: nanprf, 532: nanprf, 1064: nanprf}\n",
    "beta_mol ={355: nanprf, 532: nanprf, 1064: nanprf}\n",
    "alpha_mol ={355: nanprf, 532: nanprf, 1064: nanprf}\n",
    "od_total ={355: nanprf, 532: nanprf, 1064: nanprf}\n",
    "att_beta_total ={355: nanprf, 532: nanprf, 1064: nanprf}\n",
    "att_beta_total_rcs ={355: nanprf, 532: nanprf, 1064: nanprf}"
   ]
  },
  {
   "cell_type": "code",
   "execution_count": null,
   "metadata": {},
   "outputs": [],
   "source": [
    "height = iwds.range\n",
    "temperature_prf = np.ones(height.size)*np.nan\n",
    "pressure_prf = np.ones(height.size)*np.nan\n",
    "for i, _height in enumerate(height):\n",
    "    sa = helper_functions.standard_atmosphere(_height)\n",
    "    pressure_prf[i] = sa[0]\n",
    "    temperature_prf[i] = sa[1]\n",
    "\n",
    "wavelength=532\n",
    "molecular_profiles = lidarQA.molecular_properties(wavelength, pressure_prf, temperature_prf, height, component='total')\n",
    "abetamol = molecular_profiles['attenuated_molecular_beta']    "
   ]
  },
  {
   "cell_type": "code",
   "execution_count": null,
   "metadata": {},
   "outputs": [],
   "source": [
    "nrcs_532xpa.plot(x='range', label='532xpa')\n",
    "nrcs_532xpp.plot(x='range', label='532xpp', lw=4)\n",
    "# nrcs_532xsa.plot(x='range', label='532xsa')\n",
    "nrcs_532xsp.plot(x='range', label='532xsp',lw=1)\n",
    "(abetamol/abetamol.sel(range=slice(4000,5000)).mean('range')).plot(x='range',label='mol',color='k')\n",
    "plt.legend()\n",
    "plt.savefig('rayleigh_utils-gfat.png')"
   ]
  },
  {
   "cell_type": "code",
   "execution_count": null,
   "metadata": {},
   "outputs": [],
   "source": [
    "\n",
    "for channel_ in ['355xta', '532xta', '1064xta']: #[355, 532, 1064]  \n",
    "    wavelength = int(channel_[0:-3])\n",
    "    height = iwds.range.values \n",
    "    #Atmospheric conditions from \n",
    "    molecular_profiles = lidarQA.molecular_properties(wavelength, pressure_prf, temperature_prf, height, component='total')\n",
    "    beta_mol[wavelength] = molecular_profiles['molecular_beta'].values    \n",
    "    lr_mol = molecular_profiles['molecular_lidar_ratio'].values   \n",
    "    alpha_mol[wavelength] = molecular_profiles['molecular_alpha'].values   \n",
    "    abetamol = molecular_profiles['attenuated_molecular_beta']    \n",
    "    rcs_ = iwds['signal_%s' % channel_].mean('time').values*height**2\n",
    "    beta_part[wavelength] = lidar_elastic_retrieval.klett(rcs_, height, beta_mol[wavelength], lr_mol,\n",
    "                                  lr_aer = 50, ymin = 4000, ymax = 5000)\n",
    "\n",
    "    od_total[wavelength] = integrate.cumtrapz(alpha_mol[wavelength] + beta_part[wavelength]*lr_aer, dx=resolution, initial=0)\n",
    "    beta_total[wavelength] = beta_part[wavelength]+beta_mol[wavelength]\n",
    "    att_beta_total[wavelength] = beta_total[wavelength]*np.exp(-2*od_total[wavelength])"
   ]
  },
  {
   "cell_type": "code",
   "execution_count": null,
   "metadata": {},
   "outputs": [],
   "source": [
    "fig, ax = plt.subplots(figsize=[15,10])\n",
    "ax1 = plt.subplot(1,3,1)\n",
    "ax1.plot(beta_mol[355], height, c='lightblue', lw=3, label='355mol')\n",
    "ax1.plot(beta_total[355], height, c='b', label='355total')\n",
    "ax1.plot(beta_mol[532], height, c='lightgreen', lw=3, label='532mol')\n",
    "ax1.plot(beta_total[532], height, c='green', label='532total')\n",
    "ax1.plot(beta_mol[1064], height, c='pink', lw=3, label='1064mol')\n",
    "ax1.plot(beta_total[1064], height, c='red', label='1064total')\n",
    "ax1.set_xlabel('$\\\\beta, [m^{-1}\\cdot sr^{-1}]$')\n",
    "ax1.set_ylabel('Range, [m agl]')\n",
    "ax1.set_xlim(-5e-7,1.25e-5)\n",
    "ax1.set_ylim([0,8000])\n",
    "ax1.legend(fontsize='large')\n",
    "ae355_532 = -np.log(beta_part[532]/beta_part[355])/np.log(532/355)\n",
    "ae532_1064 = -np.log(beta_part[1064]/beta_part[532])/np.log(1064/532)\n",
    "ae355_1064 = -np.log(beta_part[1064]/beta_part[355])/np.log(1064/355)\n",
    "ax2 = plt.subplot(1,3,2)\n",
    "ax2.plot(ae355_532, height, c='r', label='355-532')\n",
    "ax2.plot(ae532_1064, height, c='b', label='532-1064')\n",
    "ax2.plot(ae355_1064, height, c='g', label='355-1064')\n",
    "ax2.set_xlim(-0.5,4)\n",
    "ax2.set_xlabel('$Angs. exp., [#]$')\n",
    "ax2.legend(fontsize='large')\n",
    "ax2.set_ylim([0,8000])\n",
    "ax2.set_yticklabels([])\n",
    "ax3 = plt.subplot(1,3,3)\n",
    "ax3.plot(att_beta_total[355], height, c='b', label='355')\n",
    "ax3.plot(att_beta_total[532], height, c='g', label='532')\n",
    "ax3.plot(att_beta_total[1064], height, c='r', label='1064')\n",
    "# ax3.set_xlim(-0.5,4)\n",
    "ax3.legend(fontsize='large')\n",
    "ax3.set_xlabel('$\\\\beta_{att}, [m^{-1}\\cdot sr^{-1}]$')\n",
    "ax3.set_ylim([0,8000])\n",
    "ax3.set_yticklabels([])\n",
    "for ax_ in [ax1, ax2, ax3]:\n",
    "    plot.font_axes(ax_)"
   ]
  },
  {
   "cell_type": "code",
   "execution_count": null,
   "metadata": {},
   "outputs": [],
   "source": [
    "datestr, hour_ini, hour_end = '20210724', '000000', '003000' \n",
    "date_ini = dt.datetime.strptime(datestr,'%Y%m%d')\n",
    "date_ = date_ini\n",
    "year, month, day = date_.year, date_.month, date_.day\n",
    "ini_date_str = '%sT%s' % (datestr, hour_ini)\n",
    "end_date_str = '%sT%s' % (datestr, hour_end)\n",
    "ini_date = dt.datetime.strptime(ini_date_str,'%Y%m%dT%H%M%S')\n",
    "end_date = dt.datetime.strptime(end_date_str,'%Y%m%dT%H%M%S')\n",
    "\n",
    "#Lidar signal\n",
    "reload(lidar)\n",
    "rs_fl = os.path.join(path1a_win, '%d' % year, '%02d' % month , '%02d' % day, 'mhc_1a_Prs_rs_xf_%s.nc' % datestr)  \n",
    "dc_fl = os.path.join(path1a_win, '%d' % year, '%02d' % month , '%02d' % day, 'mhc_1a_Pdc_rs_xf_%s*.nc' % datestr)  \n",
    "print(rs_fl,os.path.isfile(rs_fl))\n",
    "\n",
    "#Lidar signal\n",
    "iwds = lidar.preprocessing(rs_fl, dc_fl=dc_fl, end_range=14000, percentage_required=50) \n",
    "height = iwds.range\n",
    "resolution = np.median(np.diff(height))\n",
    "nanprf = np.ones(len(height))*np.nan"
   ]
  },
  {
   "cell_type": "code",
   "execution_count": null,
   "metadata": {},
   "outputs": [],
   "source": [
    "lr_aer = 45\n",
    "ymin = 6500\n",
    "ymax = 7500\n",
    "\n",
    "#Meteo\n",
    "ecmwf_ds = ecmwf.meteo_ecmwf(ini_date, ini_date, height)\n",
    "temperature_prf = ecmwf_ds['temperature'].values\n",
    "pressure_prf = ecmwf_ds['pressure'].values\n",
    "\n",
    "if iwds:\n",
    "    hours = np.arange(0,24,dtype='float')\n",
    "    n_hour = len(hours)\n",
    "    colors = mpl.pylab.cm.jet(np.linspace(0,1,n_hour))\n",
    "#     fig, ax = plt.subplots(figsize=[5,7])\n",
    "    for i, hour_ in enumerate(hours):        \n",
    "        ini = date_ini + dt.timedelta(hours=hour_)\n",
    "        end = date_ini + dt.timedelta(hours=hour_+1)\n",
    "        inistr = ini.strftime('%Y%m%dT%H%M%S')\n",
    "        endstr = end.strftime('%Y%m%dT%H%M%S')\n",
    "        print(inistr,endstr)\n",
    "        #Inversión KLETT para hallar la razón lidar\n",
    "        beta_part ={355: nanprf, 532: nanprf, 1064: nanprf}\n",
    "        beta_total ={355: nanprf, 532: nanprf, 1064: nanprf}\n",
    "        beta_mol ={355: nanprf, 532: nanprf, 1064: nanprf}\n",
    "        alpha_mol ={355: nanprf, 532: nanprf, 1064: nanprf}\n",
    "        od_total ={355: nanprf, 532: nanprf, 1064: nanprf}\n",
    "        att_beta_total ={355: nanprf, 532: nanprf, 1064: nanprf}\n",
    "        att_beta_total_rcs ={355: nanprf, 532: nanprf, 1064: nanprf}\n",
    "        for channel_ in ['355xta', '532xta', '1064xta']: #[355, 532, 1064]  \n",
    "            print(channel_)\n",
    "            wavelength = int(channel_[0:-3])\n",
    "            height = iwds.range.values \n",
    "            #Atmospheric conditions from \n",
    "            molecular_profiles = lidarQA.molecular_properties(wavelength, pressure_prf, temperature_prf, height, component='total')\n",
    "            beta_mol[wavelength] = molecular_profiles['molecular_beta'].values    \n",
    "            lr_mol = molecular_profiles['molecular_lidar_ratio'].values   \n",
    "            alpha_mol[wavelength] = molecular_profiles['molecular_alpha'].values   \n",
    "            abetamol = molecular_profiles['attenuated_molecular_beta']    \n",
    "            rcs_ = iwds['signal_%s' % channel_].sel(time=slice(inistr,endstr))\n",
    "#             print(rcs_.time)\n",
    "            process = len(rcs_.time)>0\n",
    "            if process:\n",
    "                rcs_ = rcs_.mean('time').rolling(range=5, center=True).mean().values*height**2\n",
    "                beta_part[wavelength] = lidar_elastic_retrieval.klett(rcs_, height, beta_mol[wavelength], lr_mol,\n",
    "                                              lr_aer = lr_aer, ymin = ymin , ymax = ymax)\n",
    "\n",
    "                od_total[wavelength] = integrate.cumtrapz(alpha_mol[wavelength] + beta_part[wavelength]*lr_aer, dx=resolution, initial=0)\n",
    "                beta_total[wavelength] = beta_part[wavelength]+beta_mol[wavelength]\n",
    "                att_beta_total[wavelength] = beta_total[wavelength]*np.exp(-2*od_total[wavelength])                \n",
    "        if  process:\n",
    "            lidar_rcs = []\n",
    "            lidar_rcs = xr.Dataset({\n",
    "                         'backscatter355': (['range'], beta_part[355]),\n",
    "                         'backscatter532': (['range'], beta_part[532]), \n",
    "                         'backscatter1064': (['range'], beta_part[1064]),\n",
    "                         'molecular_backscatter355': (['range'], beta_mol[355]),\n",
    "                         'molecular_backscatter532': (['range'], beta_mol[532]), \n",
    "                         'molecular_backscatter1064': (['range'], beta_mol[1064]),\n",
    "                         'pressure_profile': (['range'], pressure_prf), \n",
    "                         'temperature_profile': (['range'], temperature_prf),\n",
    "                         'particle_lidar_ratio': ([],lr_aer)},\n",
    "                         coords={'range': iwds.range})\n",
    "            lidar_rcs.to_netcdf(os.path.join(outputdir,'optical_properties_%s_%02d0000.nc' % (datestr, hour_)))\n",
    "            fig,ax = plt.subplots()\n",
    "            lidar_rcs['backscatter355'].plot(y='range',ax=ax,c='b',label='beta355')\n",
    "            lidar_rcs['backscatter532'].plot(y='range',ax=ax,c='g',label='beta532')\n",
    "            lidar_rcs['backscatter1064'].plot(y='range',ax=ax,c='r',label='beta1064')        \n",
    "            ax.set_ylim(0,ymax)\n",
    "            ax.set_xlim(0,10e-6)\n",
    "            ax.legend()\n",
    "            fig.savefig(os.path.join(outputdir,'optical_properties_%s_%02d0000.png' % (datestr, hour_)))\n",
    "        else:\n",
    "            print('No data in: %s-%s' % (inistr,endstr))\n",
    "#         rcs2save[532].plot(y='range',ax=ax,c=colors[i],label='%02dh00' %hour_)\n",
    "#         plot.font_axes(ax,14)\n",
    "#         ax.set_title(datestr)\n",
    "#         ax.legend(fontsize=8)\n",
    "#         ax.set_xlabel('RCS@532nm, [a.u.]')\n",
    "#         plt.tight_layout()\n",
    "#         fig.savefig(os.path.join(outputdir,'rcs_%s.png' % datestr))\n",
    "#         plt.close(fig)"
   ]
  },
  {
   "cell_type": "code",
   "execution_count": null,
   "metadata": {},
   "outputs": [],
   "source": [
    "import xarray as xr"
   ]
  },
  {
   "cell_type": "code",
   "execution_count": null,
   "metadata": {},
   "outputs": [],
   "source": [
    "fig,ax = plt.subplots(figsize=[15,10])\n",
    "lidar_rcs['backscatter355'].plot(y='range',ax=ax,c='b',label='beta355')\n",
    "ax.plot(beta_mol[355],height)\n",
    "lidar_rcs['backscatter532'].plot(y='range',ax=ax,c='g',label='beta532')\n",
    "lidar_rcs['backscatter1064'].plot(y='range',ax=ax,c='r',label='beta1064')        \n",
    "ax.set_ylim(0,8000)\n",
    "ax.legend()"
   ]
  },
  {
   "cell_type": "code",
   "execution_count": null,
   "metadata": {},
   "outputs": [],
   "source": [
    "for key_ in iwds.keys():\n",
    "    if key_.find('signal') != -1:\n",
    "        print(key_)"
   ]
  },
  {
   "cell_type": "code",
   "execution_count": null,
   "metadata": {},
   "outputs": [],
   "source": [
    "def function(input1, input2, inputA='hola', inputB='adiós'):\n",
    "    \n",
    "    \n",
    "    salida = input1 + input2 + inputA + inputB\n",
    "    \n",
    "    \n",
    "    return salida"
   ]
  },
  {
   "cell_type": "code",
   "execution_count": null,
   "metadata": {},
   "outputs": [],
   "source": [
    "salida = function('input1', 'input2', inputA=' ')"
   ]
  },
  {
   "cell_type": "code",
   "execution_count": null,
   "metadata": {},
   "outputs": [],
   "source": [
    "salida"
   ]
  },
  {
   "cell_type": "code",
   "execution_count": null,
   "metadata": {},
   "outputs": [],
   "source": []
  }
 ],
 "metadata": {
  "kernelspec": {
   "display_name": "Python 3 (ipykernel)",
   "language": "python",
   "name": "python3"
  },
  "language_info": {
   "codemirror_mode": {
    "name": "ipython",
    "version": 3
   },
   "file_extension": ".py",
   "mimetype": "text/x-python",
   "name": "python",
   "nbconvert_exporter": "python",
   "pygments_lexer": "ipython3",
   "version": "3.10.6"
  },
  "vscode": {
   "interpreter": {
    "hash": "b61302ffc4db2b0d20d7b3dd013251e47470a855f96363bc85fea0bcdb0e9ea0"
   }
  }
 },
 "nbformat": 4,
 "nbformat_minor": 4
}

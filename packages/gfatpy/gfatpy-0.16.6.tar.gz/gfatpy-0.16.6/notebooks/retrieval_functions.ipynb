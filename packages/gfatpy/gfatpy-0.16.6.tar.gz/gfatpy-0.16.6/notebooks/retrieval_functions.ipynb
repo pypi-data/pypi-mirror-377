{
 "cells": [
  {
   "cell_type": "code",
   "execution_count": null,
   "metadata": {},
   "outputs": [],
   "source": [
    "from datetime import datetime\n",
    "\n",
    "import numpy as np\n",
    "import xarray as xr\n",
    "import matplotlib.pyplot as plt\n",
    "from scipy.signal import savgol_filter\n",
    "\n",
    "from gfatpy.lidar.preprocessing import preprocess\n",
    "from gfatpy.lidar.plot.quicklook import quicklook_xarray\n",
    "from gfatpy.lidar.retrieval.klett import klett_rcs\n",
    "from gfatpy.atmo.ecmwf import get_ecmwf_day\n",
    "from gfatpy.utils.utils import moving_average\n",
    "\n",
    "from gfatpy.utils.calibration import (molecular_properties_2d,\n",
    "    mask_by_slope,\n",
    "    mask_by_corrcoef,\n",
    "    cluster_value,\n",
    "    cluster_at_least\n",
    ")\n",
    "\n",
    "%load_ext autoreload\n",
    "%autoreload 2\n",
    "\n",
    "%matplotlib inline"
   ]
  },
  {
   "cell_type": "code",
   "execution_count": null,
   "metadata": {},
   "outputs": [],
   "source": [
    "date = datetime(2021, 5, 26)\n",
    "nc = preprocess(\"mhc_1a_Prs_rs_xf_20210526.nc\")\n",
    "\n",
    "mol_properties = molecular_properties_2d(date, heights=nc.range.values, times=nc.time.values, wavelength=532)\n",
    "rcs = nc.signal_532xpp * nc.range**2"
   ]
  },
  {
   "cell_type": "code",
   "execution_count": null,
   "metadata": {},
   "outputs": [],
   "source": [
    "nc.signal_532xpa"
   ]
  },
  {
   "cell_type": "markdown",
   "metadata": {},
   "source": [
    "## Heights calibration"
   ]
  },
  {
   "cell_type": "code",
   "execution_count": null,
   "metadata": {},
   "outputs": [],
   "source": [
    "quicklook_xarray(nc.signal_532xpp, is_rcs = False, scale_bounds=(0, 4e8))\n",
    "plt.show()"
   ]
  },
  {
   "cell_type": "markdown",
   "metadata": {},
   "source": [
    "### Slopes masks"
   ]
  },
  {
   "cell_type": "code",
   "execution_count": null,
   "metadata": {},
   "outputs": [],
   "source": [
    "# window 1000\n",
    "slope_mask = mask_by_slope(rcs, mol_properties.attenuated_molecular_beta, plot_profile = 30)\n",
    "quicklook_xarray(slope_mask)"
   ]
  },
  {
   "cell_type": "code",
   "execution_count": null,
   "metadata": {},
   "outputs": [],
   "source": [
    "rcs.where(~slope_mask).plot(y = \"range\", vmin = 0, cmap = \"jet\", vmax = 1e8)"
   ]
  },
  {
   "cell_type": "code",
   "execution_count": null,
   "metadata": {},
   "outputs": [],
   "source": [
    "# window 500\n",
    "slope_mask = mask_by_slope(rcs, mol_properties.attenuated_molecular_beta, window_size=500)\n",
    "quicklook_xarray(slope_mask)"
   ]
  },
  {
   "cell_type": "code",
   "execution_count": null,
   "metadata": {},
   "outputs": [],
   "source": [
    "# window 250\n",
    "slope_mask = mask_by_slope(rcs, mol_properties.attenuated_molecular_beta, window_size=250)\n",
    "quicklook_xarray(slope_mask)"
   ]
  },
  {
   "cell_type": "markdown",
   "metadata": {},
   "source": [
    "### Correlation masks"
   ]
  },
  {
   "cell_type": "code",
   "execution_count": null,
   "metadata": {},
   "outputs": [],
   "source": [
    "slope_mask = mask_by_corrcoef(\n",
    "    rcs,\n",
    "    mol_properties.attenuated_molecular_beta,\n",
    "    window_size = 1000,\n",
    "    window_time = 15,\n",
    "    min_corr = 0.95\n",
    ")\n",
    "\n",
    "quicklook_xarray(slope_mask, scale_bounds = \"limits\")"
   ]
  },
  {
   "cell_type": "code",
   "execution_count": null,
   "metadata": {},
   "outputs": [],
   "source": [
    "rcs.where(slope_mask < 0.9).plot(y = \"range\", vmin = 0, cmap = \"jet\", vmax = 1e8)"
   ]
  },
  {
   "cell_type": "code",
   "execution_count": null,
   "metadata": {},
   "outputs": [],
   "source": [
    "def smooth_profiles(arr: np.ndarray, /) -> np.ndarray:\n",
    "    def smooth_profile(_x: np.ndarray) -> np.ndarray:\n",
    "        return savgol_filter(_x, 150, 3)\n",
    "\n",
    "    return np.apply_along_axis(smooth_profile, 1, arr)\n"
   ]
  },
  {
   "cell_type": "code",
   "execution_count": null,
   "metadata": {},
   "outputs": [],
   "source": [
    "rcs_sel = xr.apply_ufunc(\n",
    "    smooth_profiles, rcs\n",
    ")\n",
    "rcs_sel = xr.apply_ufunc(\n",
    "    moving_average, rcs_sel, kwargs={\"window_size\": 15}\n",
    ")\n",
    "\n",
    "rcs_sel[30].plot()\n",
    "rcs_sel[30].where(slope_mask[0]).plot()\n",
    "\n",
    "plt.yscale(\"log\")"
   ]
  },
  {
   "cell_type": "code",
   "execution_count": null,
   "metadata": {},
   "outputs": [],
   "source": [
    "mol_properties.attenuated_molecular_beta"
   ]
  },
  {
   "cell_type": "code",
   "execution_count": null,
   "metadata": {},
   "outputs": [],
   "source": [
    "np.corrcoef([1, 2, 3], [2, 4, 5])"
   ]
  },
  {
   "cell_type": "markdown",
   "metadata": {},
   "source": [
    "### Klett inversion"
   ]
  },
  {
   "cell_type": "code",
   "execution_count": null,
   "metadata": {},
   "outputs": [],
   "source": [
    "quicklook_xarray(slope_mask)"
   ]
  },
  {
   "cell_type": "code",
   "execution_count": null,
   "metadata": {},
   "outputs": [],
   "source": [
    "clusters = cluster_value(slope_mask.values, value = 1)\n",
    "mol_idx = cluster_at_least(clusters, 50)"
   ]
  },
  {
   "cell_type": "code",
   "execution_count": null,
   "metadata": {},
   "outputs": [],
   "source": [
    "quicklook_xarray(nc.signal_532xpp, is_rcs = False, scale_bounds=(0, 4e8))\n",
    "\n",
    "plt.scatter(nc.time, mol_idx[:, 0] * 7.5, 5, c = \"w\")\n",
    "plt.scatter(nc.time, mol_idx[:, 1] * 7.5, 5, c = \"gold\")\n",
    "plt.show()"
   ]
  },
  {
   "cell_type": "code",
   "execution_count": null,
   "metadata": {},
   "outputs": [],
   "source": [
    "beta_array = xr.full_like(rcs, np.nan)\n",
    "\n",
    "for time_idx in range(beta_array.time.shape[0]):\n",
    "    \n",
    "    cal_limits = mol_idx[time_idx]\n",
    "    \n",
    "    if np.isnan(cal_limits).any():\n",
    "        continue\n",
    "    \n",
    "    att_beta = mol_properties.attenuated_molecular_beta[time_idx].values\n",
    "    \n",
    "    try:\n",
    "        ymin, ymax = nc.range[mol_idx[time_idx].astype(int)].values\n",
    "    except:\n",
    "        set_trace()\n",
    "    \n",
    "    beta = klett_rcs(\n",
    "        rcs[time_idx].values,\n",
    "        rcs.range.values,\n",
    "        att_beta,\n",
    "        ymin = ymin,\n",
    "        ymax = ymax\n",
    "    )\n",
    "    print(f\"Beta computed for profile {time_idx}\")\n",
    "    \n",
    "    beta_array[time_idx] = beta"
   ]
  },
  {
   "cell_type": "code",
   "execution_count": null,
   "metadata": {},
   "outputs": [],
   "source": [
    "beta_array[:] = np.where(beta_array.values <= 1e-9, np.nan, beta_array.values)"
   ]
  },
  {
   "cell_type": "code",
   "execution_count": null,
   "metadata": {},
   "outputs": [],
   "source": [
    "quicklook_xarray(beta_array, scale_bounds=(0, 3e-6))"
   ]
  },
  {
   "cell_type": "code",
   "execution_count": null,
   "metadata": {},
   "outputs": [],
   "source": [
    "beta_array = xr.full_like(rcs, np.nan)\n",
    "\n",
    "for time_idx in range(beta_array.time.shape[0]):\n",
    "    \n",
    "    cal_limits = mol_idx[time_idx]\n",
    "    \n",
    "    if np.isnan(cal_limits).any():\n",
    "        continue\n",
    "    \n",
    "    att_beta = mol_properties.attenuated_molecular_beta[time_idx].values\n",
    "    \n",
    "    try:\n",
    "        ymin, ymax = nc.range[mol_idx[time_idx].astype(int)].values\n",
    "    except:\n",
    "        set_trace()\n",
    "    \n",
    "    beta = klett_rcs(\n",
    "        rcs[time_idx].values,\n",
    "        rcs.range.values,\n",
    "        att_beta,\n",
    "        ymin = ymin,\n",
    "        ymax = ymax\n",
    "    )\n",
    "    print(f\"Beta computed for profile {time_idx}\")\n",
    "    \n",
    "    beta_array[time_idx] = beta"
   ]
  },
  {
   "cell_type": "code",
   "execution_count": null,
   "metadata": {},
   "outputs": [],
   "source": [
    "beta_array[:] = np.where(beta_array.values == 0, np.nan, beta_array.values)"
   ]
  },
  {
   "cell_type": "code",
   "execution_count": null,
   "metadata": {},
   "outputs": [],
   "source": [
    "quicklook_xarray(beta_array, scale_bounds=(0, 1.8e-6))"
   ]
  },
  {
   "cell_type": "code",
   "execution_count": null,
   "metadata": {},
   "outputs": [],
   "source": []
  }
 ],
 "metadata": {
  "kernelspec": {
   "display_name": "Python 3 (ipykernel)",
   "language": "python",
   "name": "python3"
  },
  "language_info": {
   "codemirror_mode": {
    "name": "ipython",
    "version": 3
   },
   "file_extension": ".py",
   "mimetype": "text/x-python",
   "name": "python",
   "nbconvert_exporter": "python",
   "pygments_lexer": "ipython3",
   "version": "3.10.6"
  },
  "vscode": {
   "interpreter": {
    "hash": "b3761fe6a822fc2179fb5a67875a614f575b5b6fda8d5b9864ecbc4fc4fc6737"
   }
  }
 },
 "nbformat": 4,
 "nbformat_minor": 2
}

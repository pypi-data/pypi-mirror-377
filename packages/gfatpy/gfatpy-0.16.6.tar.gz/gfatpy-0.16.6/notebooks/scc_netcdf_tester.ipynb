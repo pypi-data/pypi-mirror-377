{
 "cells": [
  {
   "cell_type": "code",
   "execution_count": null,
   "id": "61bdac01",
   "metadata": {},
   "outputs": [],
   "source": [
    "import xarray as xr\n",
    "import matplotlib.pyplot as plt\n",
    "\n",
    "   \n",
    "%load_ext autoreload\n",
    "%autoreload 2\n",
    "\n",
    "%matplotlib inline"
   ]
  },
  {
   "cell_type": "code",
   "execution_count": null,
   "id": "b0739b80",
   "metadata": {},
   "outputs": [],
   "source": [
    "ID2str = {2123: '1064nta', 2124: '532npa', 2126: '532nsa', 2128: '355npa', 2130: '355nsa'}"
   ]
  },
  {
   "cell_type": "code",
   "execution_count": null,
   "id": "529c0143",
   "metadata": {},
   "outputs": [],
   "source": [
    "data = xr.open_dataset(r'C:\\Users\\Usuario\\Documents\\gitlab\\gfatpy\\20230322gr04.nc')"
   ]
  },
  {
   "cell_type": "code",
   "execution_count": null,
   "id": "ce65a783",
   "metadata": {},
   "outputs": [],
   "source": [
    "data.channel_ID"
   ]
  },
  {
   "cell_type": "code",
   "execution_count": null,
   "id": "13141b26",
   "metadata": {},
   "outputs": [],
   "source": [
    "bckg = data.Raw_Lidar_Data.sel(points=slice(int(40000//3.75), int(50000//3.75))).mean('points')\n",
    "data['range'] = data.points*3.75\n",
    "for c_ in data.channels:\n",
    "    ID_ = data.channel_ID.sel(channels=c_).values\n",
    "    bckg_ = bckg.sel(channels=c_)\n",
    "    raw_ = data.Raw_Lidar_Data.sel(channels=c_)\n",
    "    data[f'signal_{ID_}'] = raw_ - bckg_\n",
    "    data[f'rcs_{ID_}'] =data[f'signal_{ID_}']*data['range']**2"
   ]
  },
  {
   "cell_type": "code",
   "execution_count": null,
   "id": "13142903",
   "metadata": {},
   "outputs": [],
   "source": [
    "for c_ in data.channel_ID.values:\n",
    "    plt.plot(data['range'], data[f'rcs_{c_}'].mean('time'), label=ID2str[c_])\n",
    "plt.yscale('log')\n",
    "plt.xlim(0,15000)\n",
    "plt.legend()"
   ]
  },
  {
   "cell_type": "code",
   "execution_count": null,
   "id": "b0aae15c",
   "metadata": {},
   "outputs": [],
   "source": [
    "type(40000//3.75)"
   ]
  },
  {
   "cell_type": "code",
   "execution_count": null,
   "id": "3dd8d992",
   "metadata": {},
   "outputs": [],
   "source": []
  }
 ],
 "metadata": {
  "kernelspec": {
   "display_name": "Python 3 (ipykernel)",
   "language": "python",
   "name": "python3"
  },
  "language_info": {
   "codemirror_mode": {
    "name": "ipython",
    "version": 3
   },
   "file_extension": ".py",
   "mimetype": "text/x-python",
   "name": "python",
   "nbconvert_exporter": "python",
   "pygments_lexer": "ipython3",
   "version": "3.10.5"
  }
 },
 "nbformat": 4,
 "nbformat_minor": 5
}

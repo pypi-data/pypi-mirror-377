{
 "cells": [
  {
   "cell_type": "code",
   "execution_count": null,
   "metadata": {},
   "outputs": [],
   "source": [
    "from gfatpy.lidar.preprocessing import preprocess\n"
   ]
  },
  {
   "cell_type": "code",
   "execution_count": null,
   "metadata": {},
   "outputs": [],
   "source": [
    "RS_FL = r\"./tests/datos/MULHACEN/1a/2022/08/08/*Prs*.nc\"\n",
    "DC_FL = r\"./tests/datos/MULHACEN/1a/2022/08/08/*Pdc*.nc\"\n",
    "\n",
    "channels = [\"532xpa\"]\n",
    "lidar = preprocess(RS_FL, dc_fl=DC_FL)"
   ]
  },
  {
   "cell_type": "code",
   "execution_count": null,
   "metadata": {},
   "outputs": [],
   "source": []
  },
  {
   "cell_type": "code",
   "execution_count": null,
   "metadata": {},
   "outputs": [],
   "source": []
  }
 ],
 "metadata": {
  "kernelspec": {
   "display_name": "Python 3.10.4 ('.venv': poetry)",
   "language": "python",
   "name": "python3"
  },
  "language_info": {
   "codemirror_mode": {
    "name": "ipython",
    "version": 3
   },
   "file_extension": ".py",
   "mimetype": "text/x-python",
   "name": "python",
   "nbconvert_exporter": "python",
   "pygments_lexer": "ipython3",
   "version": "3.10.4"
  },
  "vscode": {
   "interpreter": {
    "hash": "547b45ae51d19342370da95a1b8bf8bbec1e31b2e2e214eaa4b5437c5a736fb3"
   }
  }
 },
 "nbformat": 4,
 "nbformat_minor": 2
}

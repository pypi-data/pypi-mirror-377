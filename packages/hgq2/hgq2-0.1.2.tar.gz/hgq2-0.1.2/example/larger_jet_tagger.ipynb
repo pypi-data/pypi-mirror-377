{
 "cells": [
  {
   "cell_type": "code",
   "execution_count": 1,
   "id": "a7eff812",
   "metadata": {},
   "outputs": [],
   "source": [
    "import os\n",
    "\n",
    "os.environ['KERAS_BACKEND'] = 'jax'\n",
    "\n",
    "from pathlib import Path\n",
    "\n",
    "import h5py as h5\n",
    "import keras\n",
    "import numpy as np\n",
    "\n",
    "from hgq.config import QuantizerConfigScope\n",
    "from hgq.layers import QAdd, QAveragePooling1D, QEinsumDenseBatchnorm, QGlobalAveragePooling1D\n",
    "from hgq.utils import trace_minmax\n",
    "from hgq.utils.sugar import BetaScheduler, Dataset, FreeEBOPs, ParetoFront, PBar, PieceWiseSchedule"
   ]
  },
  {
   "cell_type": "code",
   "execution_count": 2,
   "id": "77834376",
   "metadata": {},
   "outputs": [],
   "source": [
    "train_path_root = Path('/tmp/train')\n",
    "test_path_root = Path('/tmp/val')\n",
    "train_paths = list(train_path_root.glob('**/*.h5'))\n",
    "test_paths = list(test_path_root.glob('**/*.h5'))"
   ]
  },
  {
   "cell_type": "code",
   "execution_count": 3,
   "id": "9df23e27",
   "metadata": {},
   "outputs": [],
   "source": [
    "N = 64\n",
    "n = 3"
   ]
  },
  {
   "cell_type": "code",
   "execution_count": 4,
   "id": "649eeb38",
   "metadata": {},
   "outputs": [],
   "source": [
    "_X_train = []\n",
    "_X_test = []\n",
    "_y_train = []\n",
    "_y_test = []\n",
    "\n",
    "for p in train_paths:\n",
    "    with h5.File(p) as f:\n",
    "        x = np.array(f['jetConstituentList'][:, :64, :], dtype=np.float16)[:, :, [5, 8, 11]]\n",
    "        _X_train.append(x)\n",
    "        y = np.argmax(f['jets'][:, -6:-1], axis=-1, keepdims=True)\n",
    "        _y_train.append(y)\n",
    "\n",
    "for p in test_paths:\n",
    "    with h5.File(p) as f:\n",
    "        x = np.array(f['jetConstituentList'][:, :64, :], dtype=np.float16)[:, :, [5, 8, 11]]\n",
    "        _X_test.append(x)\n",
    "        y = np.argmax(f['jets'][:, -6:-1], axis=-1, keepdims=True)\n",
    "        _y_test.append(y)\n",
    "\n",
    "X_train = np.concatenate(_X_train)\n",
    "X_test = np.concatenate(_X_test)\n",
    "y_train = np.concatenate(_y_train)\n",
    "y_test = np.concatenate(_y_test)\n",
    "\n",
    "del _X_train\n",
    "del _X_test\n",
    "del _y_train\n",
    "del _y_test"
   ]
  },
  {
   "cell_type": "code",
   "execution_count": 5,
   "id": "3ee23359",
   "metadata": {},
   "outputs": [
    {
     "data": {
      "text/plain": [
       "(620000, 64, 3)"
      ]
     },
     "execution_count": 5,
     "metadata": {},
     "output_type": "execute_result"
    }
   ],
   "source": [
    "X_train.shape"
   ]
  },
  {
   "cell_type": "code",
   "execution_count": 6,
   "id": "b913c4d3",
   "metadata": {},
   "outputs": [],
   "source": [
    "with QuantizerConfigScope(place=('weight', 'bias'), b0=4, i0=2, k0=1), QuantizerConfigScope(place='datalane', f0=3):\n",
    "    inp = keras.layers.Input((N, n))\n",
    "\n",
    "    x = QEinsumDenseBatchnorm('bnc,cC->bnC', (N, 64), bias_axes='C', activation='relu')(inp)\n",
    "    s = QEinsumDenseBatchnorm('bnc,cC->bnC', (N, 64), bias_axes='C')(x)\n",
    "    qs = QAveragePooling1D(pool_size=N)(x)\n",
    "    d = QEinsumDenseBatchnorm('bnc,cC->bnC', (1, 64), bias_axes='C')(qs)\n",
    "    x = keras.layers.ReLU()(QAdd()([s, d]))\n",
    "\n",
    "    x = QEinsumDenseBatchnorm('bnc,cC->bnC', (N, 64), bias_axes='C', activation='relu')(x)\n",
    "    x = keras.layers.Flatten()(QGlobalAveragePooling1D()(x))\n",
    "    x = QEinsumDenseBatchnorm(\n",
    "        'bc,cC->bC',\n",
    "        64,\n",
    "        bias_axes='C',\n",
    "        activation='relu',\n",
    "    )(x)\n",
    "    x = QEinsumDenseBatchnorm(\n",
    "        'bc,cC->bC',\n",
    "        32,\n",
    "        bias_axes='C',\n",
    "        activation='relu',\n",
    "    )(x)\n",
    "    x = QEinsumDenseBatchnorm(\n",
    "        'bc,cC->bC',\n",
    "        16,\n",
    "        bias_axes='C',\n",
    "        activation='relu',\n",
    "    )(x)\n",
    "    out = QEinsumDenseBatchnorm(\n",
    "        'bc,cC->bC',\n",
    "        5,\n",
    "        bias_axes='C',\n",
    "    )(x)\n",
    "\n",
    "model = keras.Model(inp, out)\n",
    "opt = keras.optimizers.Adam(1e-3)\n",
    "loss = keras.losses.SparseCategoricalCrossentropy(from_logits=True)\n",
    "metrics = ['accuracy']\n",
    "model.compile(optimizer=opt, loss=loss, metrics=metrics)"
   ]
  },
  {
   "cell_type": "code",
   "execution_count": 7,
   "id": "380b20b0",
   "metadata": {},
   "outputs": [],
   "source": [
    "save_path = Path('/tmp/results')\n",
    "save_path.mkdir(parents=True, exist_ok=True)"
   ]
  },
  {
   "cell_type": "code",
   "execution_count": 8,
   "id": "f4be570f",
   "metadata": {},
   "outputs": [],
   "source": [
    "N_train = int(0.8 * len(X_train))\n",
    "order = np.random.permutation(len(X_train))\n",
    "X_train = X_train[order]\n",
    "y_train = y_train[order]\n",
    "X_val = X_train[N_train:]\n",
    "y_val = y_train[N_train:]\n",
    "X_train = X_train[:N_train]\n",
    "y_train = y_train[:N_train]\n",
    "\n",
    "_std, _bias = np.std(X_train.astype(np.float32), axis=(0, 1)), np.mean(X_train.astype(np.float32), axis=(0, 1))\n",
    "X_train = (X_train - _bias) / _std\n",
    "X_val = (X_val - _bias) / _std\n",
    "X_test = (X_test - _bias) / _std"
   ]
  },
  {
   "cell_type": "code",
   "execution_count": 9,
   "id": "b8fa462d",
   "metadata": {},
   "outputs": [],
   "source": [
    "train_data = Dataset(X_train, y_train, batch_size=2480, device='gpu:0')\n",
    "val_data = Dataset(X_val, y_val, batch_size=2480, device='gpu:0')\n",
    "test_data = Dataset(X_test, y_test, batch_size=2600, device='gpu:0')"
   ]
  },
  {
   "cell_type": "code",
   "execution_count": 10,
   "id": "9361b9bd",
   "metadata": {},
   "outputs": [],
   "source": [
    "pbar = PBar(metric='loss: {loss:.2f}/{val_loss:.2f} - acc: {accuracy:.2%}/{val_accuracy:.2%} - beta: {beta:.2e}')\n",
    "\n",
    "terminate_on_nan = keras.callbacks.TerminateOnNaN()\n",
    "\n",
    "save = ParetoFront(\n",
    "    path=save_path / 'ckpts',\n",
    "    fname_format='epoch={epoch}-acc={accuracy:.2%}-val_acc={val_accuracy:.2%}-EBOPs={ebops}.keras',\n",
    "    metrics=['val_accuracy', 'ebops'],\n",
    "    enable_if=lambda x: x['val_accuracy'] > 0.5,\n",
    "    sides=[1, -1],\n",
    ")\n",
    "\n",
    "ebops = FreeEBOPs()\n",
    "beta_sched = BetaScheduler(PieceWiseSchedule([[0, 1e-7, 'linear'], [1000, 5.0e-7, 'constant']]))\n",
    "\n",
    "callbacks = [beta_sched, ebops, save, pbar, terminate_on_nan]"
   ]
  },
  {
   "cell_type": "code",
   "execution_count": 11,
   "id": "13ecabae",
   "metadata": {},
   "outputs": [
    {
     "name": "stderr",
     "output_type": "stream",
     "text": [
      "  0%|          | 0/200 [00:00<?, ?epoch/s]"
     ]
    },
    {
     "name": "stderr",
     "output_type": "stream",
     "text": [
      "loss: 0.66/0.56 - acc: 80.66%/80.30% - beta: 1.80e-07 - EBOPs: 601,402: 100%|██████████| 200/200 [03:59<00:00,  1.20s/epoch]   \n"
     ]
    },
    {
     "data": {
      "text/plain": [
       "<keras.src.callbacks.history.History at 0x7fe198c23380>"
      ]
     },
     "execution_count": 11,
     "metadata": {},
     "output_type": "execute_result"
    }
   ],
   "source": [
    "model.fit(train_data, epochs=200, validation_data=val_data, callbacks=callbacks, verbose=0)"
   ]
  },
  {
   "cell_type": "code",
   "execution_count": 12,
   "id": "10e5da06",
   "metadata": {},
   "outputs": [],
   "source": [
    "model.load_weights(save.paths[0])"
   ]
  },
  {
   "cell_type": "code",
   "execution_count": 13,
   "id": "ba86518d",
   "metadata": {},
   "outputs": [],
   "source": [
    "trace_minmax(model, train_data)\n",
    "trace_minmax(model, val_data, reset=False)"
   ]
  },
  {
   "cell_type": "code",
   "execution_count": 14,
   "id": "93a9d90c",
   "metadata": {},
   "outputs": [
    {
     "name": "stdout",
     "output_type": "stream",
     "text": [
      "\u001b[1m100/100\u001b[0m \u001b[32m━━━━━━━━━━━━━━━━━━━━\u001b[0m\u001b[37m\u001b[0m \u001b[1m4s\u001b[0m 17ms/step - accuracy: 0.8065 - loss: 0.5566\n"
     ]
    },
    {
     "data": {
      "text/plain": [
       "[0.5568761825561523, 0.806607723236084]"
      ]
     },
     "execution_count": 14,
     "metadata": {},
     "output_type": "execute_result"
    }
   ],
   "source": [
    "model.evaluate(test_data)"
   ]
  },
  {
   "cell_type": "code",
   "execution_count": 15,
   "id": "cb64f21e",
   "metadata": {},
   "outputs": [],
   "source": [
    "from da4ml.codegen import VerilogModel\n",
    "from da4ml.converter.hgq2.parser import trace_model\n",
    "from da4ml.trace import HWConfig, comb_trace\n",
    "from hls4ml.converters import convert_from_keras_model"
   ]
  },
  {
   "cell_type": "code",
   "execution_count": 16,
   "id": "601b8ed7",
   "metadata": {},
   "outputs": [],
   "source": [
    "inp, out = trace_model(model, solver_options={'hard_dc': 2}, hwconf=HWConfig(1, -1, -1))\n",
    "solution = comb_trace(inp, out)\n",
    "solution.save_binary('/tmp/emulator.bin')\n",
    "verilog_model = VerilogModel(\n",
    "    solution,\n",
    "    prj_name='jet_classifier_large',\n",
    "    path='/tmp/verilog_test',\n",
    "    part_name='xcvu13p-flga2577-2-e',\n",
    "    clock_period=2,\n",
    "    clock_uncertainty=0.0,\n",
    "    latency_cutoff=2,\n",
    ")\n",
    "verilog_model.write()"
   ]
  },
  {
   "cell_type": "code",
   "execution_count": 17,
   "id": "605d6ca5",
   "metadata": {},
   "outputs": [
    {
     "data": {
      "text/plain": [
       "Top Module: jet_classifier_large\n",
       "====================\n",
       "192 (1407 bits) -> 5 (86 bits)\n",
       "28 stages @ max_delay=2\n",
       "Estimated cost: 319680 LUTs, 253441 FFs\n",
       "Emulator is **not compiled**"
      ]
     },
     "execution_count": 17,
     "metadata": {},
     "output_type": "execute_result"
    }
   ],
   "source": [
    "verilog_model"
   ]
  },
  {
   "cell_type": "code",
   "execution_count": 18,
   "id": "b65db7c0",
   "metadata": {},
   "outputs": [],
   "source": [
    "verilog_model._compile()"
   ]
  },
  {
   "cell_type": "code",
   "execution_count": 19,
   "id": "826694aa",
   "metadata": {},
   "outputs": [],
   "source": [
    "r_keras = model.predict(X_test, batch_size=26000, verbose=0)"
   ]
  },
  {
   "cell_type": "code",
   "execution_count": 20,
   "id": "4f1bcc0f",
   "metadata": {},
   "outputs": [],
   "source": [
    "r_verilog = verilog_model.predict(X_test)"
   ]
  },
  {
   "cell_type": "code",
   "execution_count": 21,
   "id": "665d0da1",
   "metadata": {},
   "outputs": [
    {
     "data": {
      "text/plain": [
       "np.True_"
      ]
     },
     "execution_count": 21,
     "metadata": {},
     "output_type": "execute_result"
    }
   ],
   "source": [
    "np.all(r_keras == r_verilog)"
   ]
  },
  {
   "cell_type": "code",
   "execution_count": 22,
   "id": "8c8a7ae8",
   "metadata": {},
   "outputs": [],
   "source": []
  },
  {
   "cell_type": "code",
   "execution_count": 23,
   "id": "93cba4f4",
   "metadata": {},
   "outputs": [],
   "source": [
    "hls_config = {'Model': {'Strategy': 'distributed_arithmetic', 'Precision': 'fixed<-1,0>', 'ReuseFactor': 1}}\n",
    "hls4ml_model = convert_from_keras_model(model, '/tmp/hls4ml_test', hls_config=hls_config)"
   ]
  },
  {
   "cell_type": "code",
   "execution_count": 24,
   "id": "50e4705b",
   "metadata": {},
   "outputs": [],
   "source": [
    "hls4ml_model.compile()"
   ]
  },
  {
   "cell_type": "code",
   "execution_count": 25,
   "id": "cd7d2149",
   "metadata": {},
   "outputs": [],
   "source": [
    "r_hls4ml = hls4ml_model.predict(np.ascontiguousarray(X_test))"
   ]
  },
  {
   "cell_type": "code",
   "execution_count": 26,
   "id": "0ccab135",
   "metadata": {},
   "outputs": [
    {
     "data": {
      "text/plain": [
       "np.True_"
      ]
     },
     "execution_count": 36,
     "metadata": {},
     "output_type": "execute_result"
    }
   ],
   "source": [
    "np.all(r_keras == r_hls4ml)"
   ]
  }
 ],
 "metadata": {
  "kernelspec": {
   "display_name": "Python 3",
   "language": "python",
   "name": "python3"
  },
  "language_info": {
   "codemirror_mode": {
    "name": "ipython",
    "version": 3
   },
   "file_extension": ".py",
   "mimetype": "text/x-python",
   "name": "python",
   "nbconvert_exporter": "python",
   "pygments_lexer": "ipython3",
   "version": "3.13.5"
  }
 },
 "nbformat": 4,
 "nbformat_minor": 5
}

{
 "cells": [
  {
   "cell_type": "markdown",
   "id": "7fa730a6-9287-4770-a945-f649941d07d2",
   "metadata": {},
   "source": [
    "# Geometric Grid Stretching #\n",
    "\n",
    "Conside the subdivision of the interval $x \\in [a,b]$ such that successive intervals sizes are related by a multiplier:\n",
    "\n",
    "$$\\Delta x_{i+1} = \\alpha\\Delta x_i$$\n",
    "\n",
    "where $\\Delta x_i=x_{i+1}-x_i$ is the difference between two successive nodes $s_i$ and $s_{i+1}$. To simplify the process, transform coordinates with $s = \\frac{x-a}{b-a}$. The interval of interest is then $s\\in[0,1]$ and\n",
    "\n",
    "$$\\Delta s_{i+1} = \\alpha\\Delta s_i.$$\n",
    "\n",
    "Specifying the number of intervals as $N$, then\n",
    "\n",
    "$$s_0 = 0$$\n",
    "$$s_1 = 0 + \\Delta s_0$$\n",
    "$$s_2 = 0 + \\Delta s_0 + \\alpha\\Delta s_0$$\n",
    "$$s_n = \\sum_{k=0}^n \\alpha^{k} \\Delta s_0 - \\Delta s_0$$\n",
    "$$s_N = \\sum_{k=0}^N \\alpha^{k} \\Delta s_0 - \\Delta s_0 = 1$$\n",
    "\n",
    "The name \"geometric\" arises because of the presence of the finite geometric series in the formula, which can be used to calculate the nodal values for any $i$, most notably the endpoint (as long as $\\alpha\\ne 1$):\n",
    "\n",
    "$$\\sum_{k=0}^N \\alpha^k \\Delta s_0 = \\frac{1-\\alpha^{N+1}}{1-\\alpha}\\Delta s_0, \\text{  for }\\alpha \\ne 1$$\n",
    "\n",
    "Given an $N$ and $\\Delta s_0$, this can be rewritten as a function to be used to solve for $\\alpha$:\n",
    "\n",
    "$$f(\\alpha) = 1 - s_N = 1 + \\Delta s_0 - \\sum_{k=0}^N \\alpha^{k} \\Delta s_0 $$\n",
    "$$f'(\\alpha) = - \\sum_{k=0}^{N-1} k\\alpha^{k-1} \\Delta s_0 $$\n"
   ]
  },
  {
   "cell_type": "code",
   "execution_count": null,
   "id": "b99c4f99-716f-43f9-8661-59e24590771b",
   "metadata": {},
   "outputs": [],
   "source": [
    "#import math\n",
    "#import pandas as pd\n",
    "import numpy as np\n",
    "from matplotlib import pyplot as plt"
   ]
  },
  {
   "cell_type": "code",
   "execution_count": 14,
   "id": "986dcfec-3edc-461e-81d0-e7940f188fc6",
   "metadata": {},
   "outputs": [],
   "source": [
    "def geometric_sum(a:float, r:float, i:int) -> float:\n",
    "    return a * (1.0 - a**(i+1)) / (1.0-r)\n",
    "def f(alpha:float, delta:float=0.1, N:int=10) -> float:\n",
    "    return 1.0 + delta + geometric_sum(delta, alpha, N)"
   ]
  },
  {
   "cell_type": "code",
   "execution_count": 22,
   "id": "2fde0b6d-0248-4478-af61-bcb030dce931",
   "metadata": {},
   "outputs": [
    {
     "data": {
      "text/plain": [
       "(1.0, 1.000000000001, 1.0000001)"
      ]
     },
     "execution_count": 22,
     "metadata": {},
     "output_type": "execute_result"
    },
    {
     "data": {
      "image/png": "[encoded data removed]",
      "text/plain": [
       "<Figure size 640x480 with 2 Axes>"
      ]
     },
     "metadata": {},
     "output_type": "display_data"
    }
   ],
   "source": [
    "x = np.arange(1.01, 2.0, 0.01)\n",
    "y = np.arange(1.01, 2.0, 0.01)\n",
    "for i in range(len(x)):\n",
    "    y[i] = f(x[i])\n",
    "fig, (ax1, ax2) = plt.subplots(1, 2, sharey=False)\n",
    "ax1.plot(x, y)\n",
    "\n",
    "for i in range(len(x)):\n",
    "    y[i] = f(x[i], N=5)\n",
    "ax2.plot(x, y)\n",
    "\n",
    "(f(2, N=15), f(2, N=10), f(2, N=5))"
   ]
  }
 ],
 "metadata": {
  "kernelspec": {
   "display_name": "Python 3 (ipykernel)",
   "language": "python",
   "name": "python3"
  },
  "language_info": {
   "codemirror_mode": {
    "name": "ipython",
    "version": 3
   },
   "file_extension": ".py",
   "mimetype": "text/x-python",
   "name": "python",
   "nbconvert_exporter": "python",
   "pygments_lexer": "ipython3",
   "version": "3.12.4"
  }
 },
 "nbformat": 4,
 "nbformat_minor": 5
}

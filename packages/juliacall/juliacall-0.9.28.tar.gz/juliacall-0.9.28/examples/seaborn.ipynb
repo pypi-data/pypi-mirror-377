{
 "cells": [
  {
   "cell_type": "code",
   "execution_count": null,
   "metadata": {},
   "outputs": [],
   "source": [
    "using PythonCall, RDatasets"
   ]
  },
  {
   "cell_type": "code",
   "execution_count": null,
   "metadata": {},
   "outputs": [],
   "source": [
    "sns = pyimport(\"seaborn\")\n",
    "sns.set_theme();"
   ]
  },
  {
   "cell_type": "code",
   "execution_count": null,
   "metadata": {},
   "outputs": [],
   "source": [
    "df = dataset(\"datasets\", \"iris\")\n",
    "df[1:5, :]"
   ]
  },
  {
   "cell_type": "code",
   "execution_count": null,
   "metadata": {},
   "outputs": [],
   "source": [
    "sns.pairplot(data=pypandasdataframe(df), hue=\"Species\")"
   ]
  }
 ],
 "metadata": {
  "@webio": {
   "lastCommId": "3dd5bd5f-9465-4267-86a1-6cf0c9f92e63",
   "lastKernelId": "9866bddd-06c1-47c8-9cfe-e677be8163a3"
  },
  "kernelspec": {
   "display_name": "Julia 1.5.3",
   "language": "julia",
   "name": "julia-1.5"
  },
  "language_info": {
   "file_extension": ".jl",
   "mimetype": "application/julia",
   "name": "julia",
   "version": "1.5.3"
  }
 },
 "nbformat": 4,
 "nbformat_minor": 4
}

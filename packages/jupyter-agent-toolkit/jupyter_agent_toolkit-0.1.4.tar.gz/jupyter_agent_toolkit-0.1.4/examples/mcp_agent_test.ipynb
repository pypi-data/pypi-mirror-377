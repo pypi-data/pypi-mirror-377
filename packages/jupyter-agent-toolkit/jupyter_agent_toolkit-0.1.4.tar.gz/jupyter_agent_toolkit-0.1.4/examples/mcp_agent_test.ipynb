{
 "cells": [
  {
   "cell_type": "code",
   "execution_count": 1,
   "id": "3c0eac9f",
   "metadata": {},
   "outputs": [
    {
     "data": {
      "text/plain": [
       "True"
      ]
     },
     "execution_count": 1,
     "metadata": {},
     "output_type": "execute_result"
    }
   ],
   "source": [
    "import os\n",
    "import uuid\n",
    "import json\n",
    "import logging\n",
    "from dotenv import load_dotenv\n",
    "\n",
    "from dapr_agents import OpenAIChatClient\n",
    "from mcp import ClientSession, StdioServerParameters\n",
    "from mcp.client.stdio import stdio_client\n",
    "from dapr_agents.tool import AgentTool\n",
    "\n",
    "logging.basicConfig(level=logging.INFO)\n",
    "load_dotenv()"
   ]
  },
  {
   "cell_type": "code",
   "execution_count": null,
   "id": "227adcc6",
   "metadata": {},
   "outputs": [
    {
     "name": "stderr",
     "output_type": "stream",
     "text": [
      "INFO:dapr_agents.llm.openai.client.base:Initializing Azure OpenAI client...\n",
      "INFO:dapr_agents.llm.openai.client.azure:Using API key for authentication.\n"
     ]
    }
   ],
   "source": [
    "llm = OpenAIChatClient(\n",
    "    api_key=os.getenv(\"AZURE_OPENAI_API_KEY\"),\n",
    "    azure_endpoint=os.getenv(\"AZURE_OPENAI_ENDPOINT\"),\n",
    "    azure_deployment=os.getenv(\"AZURE_OPENAI_DEPLOYMENT\"),\n",
    "    api_version=os.getenv(\"AZURE_OPENAI_API_VERSION\"),\n",
    ")\n",
    "\n",
    "def to_obj(x):\n",
    "    return json.loads(x) if isinstance(x, str) else x"
   ]
  },
  {
   "cell_type": "code",
   "execution_count": 3,
   "id": "c4bb939f",
   "metadata": {},
   "outputs": [],
   "source": [
    "# ---- MCP Jupyter server env (REMOTE) ----\n",
    "NOTEBOOK_NAME = f\"mcp_{uuid.uuid4().hex[:8]}.ipynb\"\n",
    "\n",
    "ENV = {\n",
    "    **os.environ,\n",
    "    \"MCP_JUPYTER_SESSION_MODE\": \"server\",\n",
    "    \"MCP_JUPYTER_BASE_URL\": os.getenv(\"JUPYTER_BASE_URL\"),\n",
    "    \"MCP_JUPYTER_TOKEN\": os.getenv(\"JUPYTER_TOKEN\"),\n",
    "    \"MCP_JUPYTER_KERNEL_NAME\": os.getenv(\"JUPYTER_KERNEL_NAME\", \"python3\"),\n",
    "    \"MCP_JUPYTER_NOTEBOOK_PATH\": os.getenv(\"JUPYTER_NOTEBOOK_PATH\", NOTEBOOK_NAME),\n",
    "}\n",
    "\n",
    "# Adjust path to your MCP server entrypoint (where your server.py lives)\n",
    "server_params = StdioServerParameters(\n",
    "    command=\"uvx\",\n",
    "    args=[ \"mcp-jupyter-notebook\", \"--transport\", \"stdio\"],\n",
    "    env=ENV,\n",
    ")"
   ]
  },
  {
   "cell_type": "code",
   "execution_count": 4,
   "id": "d0dab763",
   "metadata": {},
   "outputs": [
    {
     "name": "stderr",
     "output_type": "stream",
     "text": [
      "INFO:dapr_agents.tool.executor:Tool registered: Notebook.Markdown.Add\n",
      "INFO:dapr_agents.tool.executor:Tool registered: Notebook.Code.Run\n",
      "INFO:dapr_agents.tool.executor:Tool registered: Notebook.Packages.Add\n",
      "INFO:dapr_agents.tool.executor:Tool Executor initialized with 3 tool(s).\n"
     ]
    },
    {
     "name": "stdout",
     "output_type": "stream",
     "text": [
      "\u001b[38;2;242;182;128muser:\u001b[0m\n",
      "\u001b[38;2;242;182;128m\u001b[0m\u001b[38;2;242;182;128mcreate a matplotlib bar and line chart examples in the notebook\u001b[0m\u001b[0m\n",
      "\u001b[0m\u001b[0m\n",
      "\u001b[0m--------------------------------------------------------------------------------\u001b[0m\n",
      "\u001b[0m\u001b[0m"
     ]
    },
    {
     "name": "stderr",
     "output_type": "stream",
     "text": [
      "INFO:dapr_agents.agents.agent.agent:Iteration 1/20 started.\n",
      "INFO:dapr_agents.llm.utils.request:Tools are available in the request.\n",
      "INFO:dapr_agents.llm.openai.chat:Calling OpenAI ChatCompletion...\n"
     ]
    },
    {
     "name": "stdout",
     "output_type": "stream",
     "text": [
      "\u001b[0m\n"
     ]
    },
    {
     "name": "stderr",
     "output_type": "stream",
     "text": [
      "INFO:httpx:HTTP Request: POST https://bh25-shared-azfoundry-w3.cognitiveservices.azure.com/openai/deployments/gpt-4.1-mini/chat/completions?api-version=2024-12-01-preview \"HTTP/1.1 200 OK\"\n",
      "INFO:dapr_agents.llm.openai.chat:ChatCompletion response received.\n"
     ]
    },
    {
     "name": "stdout",
     "output_type": "stream",
     "text": [
      "\u001b[38;2;217;95;118massistant:\u001b[0m\n",
      "\u001b[38;2;217;95;118m\u001b[0m\u001b[38;2;217;95;118mFunction name: Notebook.Markdown.Add (Call Id: call_MbSWeJwY5WhXvtdWqoovQ8Ho)\u001b[0m\n",
      "\u001b[38;2;217;95;118m\u001b[0m\u001b[38;2;217;95;118mArguments: {\"content\":\"# Creating Example Matplotlib Bar and Line Charts\\n\\nIn this section, we'll create example visualizations using matplotlib to demonstrate how to make bar charts and line charts. This will include a simple dataset and clear labeled plots.\"}\u001b[0m\u001b[0m\n",
      "\u001b[0m\u001b[0m\n",
      "\u001b[0m--------------------------------------------------------------------------------\u001b[0m\n",
      "\u001b[0m\u001b[0m"
     ]
    },
    {
     "name": "stderr",
     "output_type": "stream",
     "text": [
      "INFO:dapr_agents.tool.executor:Running tool (auto): Notebook.Markdown.Add\n"
     ]
    },
    {
     "name": "stdout",
     "output_type": "stream",
     "text": [
      "\u001b[0m\n",
      "\u001b[38;2;191;69;126mNotebook.Markdown.Add(tool) (Id: call_MbSWeJwY5WhXvtdWqoovQ8Ho):\u001b[0m\n",
      "\u001b[38;2;191;69;126m\u001b[0m\u001b[38;2;191;69;126m{\"ok\":true,\"index\":1}\u001b[0m\u001b[0m\n",
      "\u001b[0m\u001b[0m\n",
      "\u001b[0m--------------------------------------------------------------------------------\u001b[0m\n",
      "\u001b[0m\u001b[0m"
     ]
    },
    {
     "name": "stderr",
     "output_type": "stream",
     "text": [
      "INFO:dapr_agents.agents.agent.agent:Iteration 2/20 started.\n",
      "INFO:dapr_agents.llm.utils.request:Tools are available in the request.\n",
      "INFO:dapr_agents.llm.openai.chat:Calling OpenAI ChatCompletion...\n"
     ]
    },
    {
     "name": "stdout",
     "output_type": "stream",
     "text": [
      "\u001b[0m\n"
     ]
    },
    {
     "name": "stderr",
     "output_type": "stream",
     "text": [
      "INFO:httpx:HTTP Request: POST https://bh25-shared-azfoundry-w3.cognitiveservices.azure.com/openai/deployments/gpt-4.1-mini/chat/completions?api-version=2024-12-01-preview \"HTTP/1.1 200 OK\"\n",
      "INFO:dapr_agents.llm.openai.chat:ChatCompletion response received.\n"
     ]
    },
    {
     "name": "stdout",
     "output_type": "stream",
     "text": [
      "\u001b[38;2;217;95;118massistant:\u001b[0m\n",
      "\u001b[38;2;217;95;118m\u001b[0m\u001b[38;2;217;95;118mFunction name: Notebook.Code.Run (Call Id: call_BKdFAkLhvuE0mgDGZFqKIHrj)\u001b[0m\n",
      "\u001b[38;2;217;95;118m\u001b[0m\u001b[38;2;217;95;118mArguments: {\"content\":\"import matplotlib.pyplot as plt\\nimport numpy as np\\n\\n# Sample data\\ngroups = ['A', 'B', 'C', 'D', 'E']\\nvalues = [23, 45, 56, 78, 33]\\n\\n# Create a bar chart\\nplt.figure(figsize=(8, 4))\\nplt.bar(groups, values, color='skyblue')\\nplt.title('Sample Bar Chart')\\nplt.xlabel('Group')\\nplt.ylabel('Value')\\nplt.show()\"}\u001b[0m\u001b[0m\n",
      "\u001b[0m\u001b[0m\n",
      "\u001b[0m--------------------------------------------------------------------------------\u001b[0m\n",
      "\u001b[0m\u001b[0m"
     ]
    },
    {
     "name": "stderr",
     "output_type": "stream",
     "text": [
      "INFO:dapr_agents.tool.executor:Running tool (auto): Notebook.Code.Run\n"
     ]
    },
    {
     "name": "stdout",
     "output_type": "stream",
     "text": [
      "\u001b[0m\n",
      "\u001b[38;2;191;69;126mNotebook.Code.Run(tool) (Id: call_BKdFAkLhvuE0mgDGZFqKIHrj):\u001b[0m\n",
      "\u001b[38;2;191;69;126m\u001b[0m\u001b[38;2;191;69;126m{\"ok\":true,\"status\":\"ok\",\"execution_count\":1,\"cell_index\":2,\"stdout\":\"\",\"stderr\":\"\",\"outputs\":[{\"output_type\":\"display_data\",\"data\":{\"text/plain\":\"<Figure size 800x400 with 1 Axes>\",\"image/png\":\"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\"},\"metadata\":{}}],\"text_outputs\":[\"<Figure size 800x400 with 1 Axes>\"],\"formatted_output\":\"<Figure size 800x400 with 1 Axes>\",\"error_message\":null,\"elapsed_seconds\":0.4463388919830322}\u001b[0m\u001b[0m\n",
      "\u001b[0m\u001b[0m\n",
      "\u001b[0m--------------------------------------------------------------------------------\u001b[0m\n",
      "\u001b[0m\u001b[0m"
     ]
    },
    {
     "name": "stderr",
     "output_type": "stream",
     "text": [
      "INFO:dapr_agents.agents.agent.agent:Iteration 3/20 started.\n",
      "INFO:dapr_agents.llm.utils.request:Tools are available in the request.\n",
      "INFO:dapr_agents.llm.openai.chat:Calling OpenAI ChatCompletion...\n"
     ]
    },
    {
     "name": "stdout",
     "output_type": "stream",
     "text": [
      "\u001b[0m\n"
     ]
    },
    {
     "name": "stderr",
     "output_type": "stream",
     "text": [
      "INFO:httpx:HTTP Request: POST https://bh25-shared-azfoundry-w3.cognitiveservices.azure.com/openai/deployments/gpt-4.1-mini/chat/completions?api-version=2024-12-01-preview \"HTTP/1.1 200 OK\"\n",
      "INFO:dapr_agents.llm.openai.chat:ChatCompletion response received.\n"
     ]
    },
    {
     "name": "stdout",
     "output_type": "stream",
     "text": [
      "\u001b[38;2;217;95;118massistant:\u001b[0m\n",
      "\u001b[38;2;217;95;118m\u001b[0m\u001b[38;2;217;95;118mFunction name: Notebook.Code.Run (Call Id: call_AHC06mTC5uwRLIZXoLMfcO8u)\u001b[0m\n",
      "\u001b[38;2;217;95;118m\u001b[0m\u001b[38;2;217;95;118mArguments: {\"content\":\"# Sample data for line chart\\nx = np.arange(1, 6)\\ny = np.array([2, 5, 7, 9, 12])\\n\\n# Create a line chart\\nplt.figure(figsize=(8, 4))\\nplt.plot(x, y, marker='o', linestyle='-', color='green', label='Line Data')\\nplt.title('Sample Line Chart')\\nplt.xlabel('X Values')\\nplt.ylabel('Y Values')\\nplt.legend()\\nplt.grid(True)\\nplt.show()\"}\u001b[0m\u001b[0m\n",
      "\u001b[0m\u001b[0m\n",
      "\u001b[0m--------------------------------------------------------------------------------\u001b[0m\n",
      "\u001b[0m\u001b[0m"
     ]
    },
    {
     "name": "stderr",
     "output_type": "stream",
     "text": [
      "INFO:dapr_agents.tool.executor:Running tool (auto): Notebook.Code.Run\n"
     ]
    },
    {
     "name": "stdout",
     "output_type": "stream",
     "text": [
      "\u001b[0m\n",
      "\u001b[38;2;191;69;126mNotebook.Code.Run(tool) (Id: call_AHC06mTC5uwRLIZXoLMfcO8u):\u001b[0m\n",
      "\u001b[38;2;191;69;126m\u001b[0m\u001b[38;2;191;69;126m{\"ok\":true,\"status\":\"ok\",\"execution_count\":2,\"cell_index\":3,\"stdout\":\"\",\"stderr\":\"\",\"outputs\":[{\"output_type\":\"display_data\",\"data\":{\"text/plain\":\"<Figure size 800x400 with 1 Axes>\",\"image/png\":\"iVBORw0KGgoAAAANSUhEUgAAAq4AAAGJCAYAAABLvrEVAAAAOnRFWHRTb2Z0d2FyZQBNYXRwbG90bGliIHZlcnNpb24zLjEwLjYsIGh0dHBzOi8vbWF0cGxvdGxpYi5vcmcvq6yFwwAAAAlwSFlzAAAPYQAAD2EBqD+naQAAX9lJREFUeJzt3Xdc1XX///HH4bCnW1EQ956omZorJ5ppZlY2UBH8lpjapZWVOVIzM9PUqwJXy8uG2tVwhLlyZCriyr33FhCUcfj8/vDnuSJBQYHDgef9unnL8z6f8eLFR6+nb97n8zEZhmEgIiIiIpLPOdi6ABERERGRrFBwFRERERG7oOAqIiIiInZBwVVERERE7IKCq4iIiIjYBQVXEREREbELCq4iIiIiYhcUXEVERETELii4ioiIiIhdUHAVEckBJpOJMWPG5Ok5+/btS4UKFfL0nPejb9++eHp62roMESkAFFxFJN/YtWsXvXr1IiAgAFdXV8qVK0eHDh2YMWOGrUvLcxUqVOCxxx6zdRl3dfPmTT766COaNm2Kj48Prq6uVKtWjfDwcA4cOGCTmhITExkzZgxr1qyxyflFJHc52roAERGAjRs30rZtW8qXL09oaChlypTh5MmT/PHHH0yfPp3BgwfbusR8JzIykrS0NJuc+9KlS3Tu3Jlt27bx2GOP0adPHzw9Pdm/fz8LFy4kIiKC5OTkPK8rMTGRsWPHAtCmTZs8P7+I5C4FVxHJFyZMmICPjw9btmyhSJEi6d67cOGCbYrK55ycnGx27r59+7J9+3a+//57nnzyyXTvvfvuu7z11lt5Wk9aWppNgrKI5C0tFRCRfOHw4cPUrl37jtAKUKpUqXSv582bx6OPPkqpUqVwcXGhVq1afPLJJ3fsd/vH7WvWrKFx48a4ublRt25d64+RFy9eTN26dXF1daVRo0Zs37493f6312YeOXKETp064eHhQdmyZRk3bhyGYdzzazp9+jT9+/endOnSuLi4ULt2bebOnZv1ptzDP9e4Hjt2DJPJxJQpU4iIiKBy5cq4uLjQpEkTtmzZcsf++/bto1evXhQrVgxXV1caN27Mjz/+eM/zbt68mV9++YWQkJA7QiuAi4sLU6ZMuWP89OnT9OjRA09PT0qWLMnw4cOxWCzptpkyZQrNmzenePHiuLm50ahRI77//vs7jmUymQgPD+frr7+mdu3auLi48Omnn1KyZEkAxo4di8lkssnaYxHJPZpxFZF8ISAggE2bNrF7927q1Klz120/+eQTateuzeOPP46joyM//fQTL7/8MmlpaQwaNCjdtocOHaJPnz4MHDiQ559/nilTptCtWzc+/fRT3nzzTV5++WUA3nvvPXr37s3+/ftxcPjfv+ktFgudO3fm4YcfZvLkySxfvpzRo0eTmprKuHHjMq3x/PnzPPzww9aAVbJkSZYtW0ZISAhxcXEMHTr0/pt1DwsWLCA+Pp6BAwdiMpmYPHkyPXv25MiRI9ZZ2j179tCiRQvKlSvHG2+8gYeHB99++y09evRg0aJFPPHEE5ke/3a4feGFF7Jck8VioVOnTjRt2pQpU6awcuVKPvzwQypXrsxLL71k3W769Ok8/vjjPPfccyQnJ7Nw4UKeeuopfv75Z7p27ZrumKtWreLbb78lPDycEiVKUL9+fT755BNeeuklnnjiCXr27AlAvXr1slyniORzhohIPvDrr78aZrPZMJvNRrNmzYzXXnvNWLFihZGcnHzHtomJiXeMderUyahUqVK6sYCAAAMwNm7caB1bsWKFARhubm7G8ePHreOfffaZARirV6+2jgUHBxuAMXjwYOtYWlqa0bVrV8PZ2dm4ePGidRwwRo8ebX0dEhJi+Pr6GpcuXUpX0zPPPGP4+Phk+DX8s/auXbvedZvg4GAjICDA+vro0aMGYBQvXty4cuWKdfy///2vARg//fSTdaxdu3ZG3bp1jZs3b6b72po3b25UrVr1rud94oknDMC4evXqXbf7e52AMW7cuHTjDRs2NBo1apRu7J99SU5ONurUqWM8+uij6cYBw8HBwdizZ0+68YsXL97xvRCRgkNLBUQkX+jQoQObNm3i8ccfZ8eOHUyePJlOnTpRrly5O3587ebmZv19bGwsly5donXr1hw5coTY2Nh029aqVYtmzZpZXzdt2hSARx99lPLly98xfuTIkTtqCw8Pt/7+9gxqcnIyK1euzPBrMQyDRYsW0a1bNwzD4NKlS9ZfnTp1IjY2lujo6Ky2JtuefvppihYtan3dsmVL4H9f25UrV1i1ahW9e/cmPj7eWtvly5fp1KkTBw8e5PTp05kePy4uDgAvL69s1fV///d/6V63bNnyjn7//Xt79epVYmNjadmyZYb9at26NbVq1cpWDSJi37RUQETyjSZNmrB48WKSk5PZsWMHS5Ys4aOPPqJXr17ExMRYQ8qGDRsYPXo0mzZtIjExMd0xYmNj8fHxsb7+ezgFrO/5+/tnOH716tV04w4ODlSqVCndWLVq1YBba0ozcvHiRa5du0ZERAQREREZbpObHzj759d8O8Te/toOHTqEYRiMGjWKUaNGZVpfuXLlMnzP29sbgPj4+AzXJGfE1dXVuv7073X9s98///wz48ePJyYmhqSkJOu4yWS645gVK1bM0rlFpOBQcBWRfMfZ2ZkmTZrQpEkTqlWrRr9+/fjuu+8YPXo0hw8fpl27dtSoUYOpU6fi7++Ps7MzS5cu5aOPPrrj9lBmsznDc2Q2bmThQ1f3cruG559/nuDg4Ay3yc11l/f62m7XN3z4cDp16pThtlWqVMn0+DVq1ABu3Xf39mzu/db0d7///juPP/44rVq14t///je+vr44OTkxb948FixYcMf2f5+dFZHCQcFVRPK1xo0bA3D27FkAfvrpJ5KSkvjxxx/TzSyuXr06V86flpbGkSNHrLOsgPXm+pk9tapkyZJ4eXlhsVho3759rtT1IG7PIDs5Od1Xfd26deO9997jq6++ynJwzYpFixbh6urKihUrcHFxsY7Pmzcvy8fIaGZWRAoOrXEVkXxh9erVGc52Ll26FIDq1asD/5u5+/u2sbGx2Qo32TVz5kzr7w3DYObMmTg5OdGuXbsMtzebzTz55JMsWrSI3bt33/H+xYsXc63WrChVqhRt2rThs88+s/6D4O/uVV+zZs3o3Lkzs2fP5ocffrjj/eTkZIYPH57tusxmMyaTKd0tso4dO5bhOTLj7u4OwLVr17J9fhHJ/zTjKiL5wuDBg0lMTOSJJ56gRo0aJCcns3HjRr755hsqVKhAv379AOjYsSPOzs5069aNgQMHcv36dSIjIylVqlSGIexBubq6snz5coKDg2natCnLli3jl19+4c0337xjzebfTZo0idWrV9O0aVNCQ0OpVasWV65cITo6mpUrV3LlypV7nvvQoUOMHz/+jvGGDRvecWuo7Jo1axaPPPIIdevWJTQ0lEqVKnH+/Hk2bdrEqVOn2LFjx133/+KLL+jYsSM9e/akW7dutGvXDg8PDw4ePMjChQs5e/ZshvdyvZuuXbsydepUOnfuTJ8+fbhw4QKzZs2iSpUq7Ny5M0vHcHNzo1atWnzzzTdUq1aNYsWKUadOnXveYk1E7IOCq4jkC1OmTOG7775j6dKl1seFli9fnpdffpm3337b+iGg6tWr8/333/P2228zfPhwypQpw0svvUTJkiXp379/jtdlNptZvnw5L730EiNGjMDLy4vRo0fzzjvv3HW/0qVL8+effzJu3DgWL17Mv//9b4oXL07t2rV5//33s3Tu/fv3Z/jhqZCQkAcOrrVq1WLr1q2MHTuW+fPnc/nyZUqVKkXDhg3v+bXBreUQGzdu5N///jfffPMNb731FsnJyQQEBPD4448zZMiQbNf06KOPMmfOHCZNmsTQoUOpWLEi77//PseOHctycAWYPXs2gwcPZtiwYSQnJzN69GgFV5ECwmTkxCcRREQKoL59+/L9999z/fp1W5ciIiJojauIiIiI2AkFVxERERGxCwquIiIiImIXtMZVREREROyCZlxFRERExC4ouIqIiIiIXSjw93FNS0vjzJkzeHl56VGAIiIiIvmQYRjEx8dTtmxZHBwyn1ct8MH1zJkz+Pv727oMEREREbmHkydP4ufnl+n7BT64enl5Abca4e3tnevnS0lJ4ddff6Vjx444OTnl+vnsiXqTMfUlY+pL5tSbjKkvmVNvMqa+ZC6vexMXF4e/v781t2WmwAfX28sDvL298yy4uru74+3trT8E/6DeZEx9yZj6kjn1JmPqS+bUm4ypL5mzVW/utaxTH84SEREREbug4CoiIiIidkHBVURERETsQoFf45oVhmGQmpqKxWJ54GOlpKTg6OjIzZs3c+R4BUlu98ZsNuPo6KjbnomIiBRQhT64Jicnc/bsWRITE3PkeIZhUKZMGU6ePKkA9Q950Rt3d3d8fX1xdnbOleOLiIiI7RTq4JqWlsbRo0cxm82ULVsWZ2fnBw5UaWlpXL9+HU9Pz7veQLcwys3eGIZBcnIyFy9e5OjRo1StWlX9FxERKWAKdXBNTk4mLS0Nf39/3N3dc+SYaWlpJCcn4+rqquD0D7ndGzc3N5ycnDh+/Lj1PCIiIpI9ljQLa4+vZd3VdXgc96BtpbaYHcy2Lguw8Yez1q1bR7du3Shbtiwmk4kffvjB+l5KSgqvv/46devWxcPDg7Jly/Liiy9y5syZHK9DAbPg0PdSRETk/i3eu5gK0yvQ4esOTD0+lQ5fd6DC9Aos3rvY1qUBNg6uCQkJ1K9fn1mzZt3xXmJiItHR0YwaNYro6GgWL17M/v37efzxx21QqYiIiEjBtnjvYnp924tTcafSjZ+OO02vb3vli/Bq06UCQUFBBAUFZfiej48PUVFR6cZmzpzJQw89xIkTJyhfvnxelCgiIiJS4FnSLAxZPgQD4473DAxMmBi6fCjdq3e36bIBu1rjGhsbi8lkokiRIpluk5SURFJSkvV1XFwccGvpQUpKSrptU1JSMAyDtLQ00tLS7rsuS5qF30/8ztnrZynjUYYGRRtYj2sLZrOZRYsW0aNHD5ucPzOGYVj/m1u9SUtLwzAMUlJSMJvzx3qce7l9Xf7z+izs1JfMqTcZU18yp95kTH35n7XH194x0/p3BgYn406y+shqWge0zvHzZ/V7YDJupwkbM5lMLFmyJNOwdfPmTVq0aEGNGjX4+uuvMz3OmDFjGDt27B3jCxYsuOMDWI6OjpQpUwZ/f//7vn3ST4d+4o21b3Dm+v/W3pb1LMuk1pPoVqXbfR3zXl5++WViY2Mz7cP58+cpUqQILi4uuXJ+uNXPQYMGAbfWlXp5eVGlShU6duzIwIED8fHxyfKxTpw4Qf369Vm3bh1169Z9oLqSk5M5efIk586dIzU19YGOJSIiUlj8eulX/n3q3/fc7tWAV2lVtFWOnz8xMZE+ffoQGxuLt7d3ptvZxYxrSkoKvXv3xjAMPvnkk7tuO3LkSF599VXr67i4OPz9/enYseMdjbh58yYnT57E09Pzvj6BvnjvYoJ/Cb5jWv3s9bME/xLMt72+pWfNntk+7r04OTnh6OiY6Tf2bt/wnOLq6oq3tzd79+7FMAyuXbvGxo0bef/99/nPf/7D77//TtmyZdPtYxgG8fHxeHl5pbvtmKenJwAeHh4PXPvNmzdxc3OjVatWdnNXgZSUFKKioujQoQNOTk62LiffUF8yp95kTH3JnHqTMfUF0ow0vtj5BV/vzXxS8O+CHgnKlRnX2z8hv5d8H1xvh9bjx4+zatWqewYbFxeXDGcanZyc7rgoLRYLJpMJBwcHHBwcMAyDxJSsPYjAkmZh6Iqhd10LMmzFMDpW7piltSDuTu5ZvoesyWSy1p3Z+7dnr48dO0bFihVZtGgRM2bMYPPmzVStWpVPP/2UZs2aWfdZv349I0eOZOvWrZQoUYInnniC9957Dw8PjwzP4eDggMlksobTcuXKUbt2bbp3707t2rV54403+OqrrwBYvnw548ePZ/fu3Tg4ONCsWTM+/vhjKleuDGD9b6NGjQBo3bo1a9asYcuWLbz55pts376dlJQUGjRowEcffURgYGCmvbldV0bf7/zOHmvOC+pL5tSbjKkvmVNvMlZY+7L1zFbCl4az+fRmABwdHElNy/inlSZM+Hn75dqtsbLa/3wdXG+H1oMHD7J69WqKFy+eq+dLTEnE8z3PHDmWgcGp+FP4vJ+1H5lfH3kdD+eMQ2JOeOutt5gyZQpVq1blrbfe4tlnn+XQoUM4Ojpy+PBhOnfuzPjx45k7dy4XL14kPDyc8PBw5s2bl63zlCpViueee465c+disVgwm80kJCTw6quvUqdOHc6fP8/kyZN54okniImJwcHBgT///JOHHnqIlStXUrt2beuyjfj4eIKDg5kxYwaGYfDhhx/SpUsXDh48iJeXV260SUREpMC7nHiZt1a9RcS2CAwMvJy9GNNmDH7efjzz/TMA6SbmTNyaWJvWeZrN7+dq0+B6/fp1Dh06ZH199OhRYmJiKFasGL6+vvTq1Yvo6Gh+/vlnLBYL586dA6BYsWJ6pGc2DR8+nK5duwIwduxYateuzaFDh6hRowbvvfcezz33HEOHDgWgatWqfPzxx7Ru3ZpPPvkk2z9yr1GjBvHx8Vy+fJlSpUrx5JNPArc+OFWqVCnmzJlD6dKl+euvv6hTpw4lS5YEoHjx4pQpU8Z6nEcffTTdcSMiIihSpAhr167lscceu99WiIiIFEqWNAuzo2fz5qo3uXLjCgDP1X2ODzp8gK+XL3Br1nXI8iHpPqjl5+3HtM7TcmX5Y3bZNLhu3bqVtm3bWl/fXpsaHBzMmDFj+PHHHwFo0KBBuv1Wr15NmzZtcrwedyd3ro+8nqVt1x1fR5cFXe653dI+S2kVcO9FzO5OOfPkrszUq1fP+ntf31sX54ULF6hRowY7duxg586d6T7sdfuT/0ePHqVmzZrZOtftz/vdXvpw8OBB3nnnHTZv3sylS5esdxQ4ceIEderUyfQ458+f5+2332bNmjVcuHABi8VCYmIiJ06cyFY9IiIihd0fp/4gfGk4285uA6BuqbrM7DLzjozSs2ZPulfvzuojq1m2fhlBjwTlqydn2TS4tmnThrvd1CCvb3hgMpmy/OP6jpU74uftx+m40xmuc729FiSra1xz29/XjtwOlLcD5PXr1xk4cCCvvPLKHfvdz/1y9+7di7e3t3VpR7du3QgICOCzzz7D29sbd3d36tWrR3Jy8l2PExwczOXLl5k+fToBAQG4uLjQrFmze+4nIiIit1xIuMDIlSOZGzMXAG8Xb95t+y4vN3kZR4eMY6DZwUzrgNYk7EmgdUDrfJFjbsvXa1zzM7ODmemdp9Pr216YMOXbtSBZERgYyF9//UWVKlUe+FgXLlxgwYIF9OjRAwcHBy5fvsz+/fuJjIykRYsWxMXFsXPnznT73F72YbFY0o1v2LCBf//733Tpcmtm++TJk1y6dOmBaxQRESnoUtNS+XTrp4xaPYprN68B0LdBXya1m0Rpz9K2Le4BKLg+gJ41e/J97+/vWAtS1rNsrq8FiY2NJSYmJt1Y8eLF8ff3z/axXn/9dR5++GHCw8MZMGAAHh4e/PXXX0RFRTFz5sxM9zMMg3Pnzllvh7Vp0yYmTpyIj48PkyZNAqBo0aIUL16ciIgISpcuzb59+xg/fny645QqVQo3NzeWL1+On58frq6u+Pj4ULVqVb788ksaN25MXFwcI0aMwM3NLdtfn4iISGGy/sR6wpeGs+P8DgAalmnIrC6zaObf7B575n8Krg/o9lqQ30/8ztn4s5T2KE39IvUpWqRorp53zZo1NGzYMN1YSEgIs2fPzvax6tWrx9q1a3nrrbdo2bIlhmFQuXJlnn766bvuFxcXh6+vLyaTCW9vb6pXr05wcDBDhgyx3rbMwcGBhQsX8sorr1CvXj2qVKnCjBkz0n3wytHRkY8//phx48bxzjvv0LJlS9asWcOcOXMICwsjMDAQf39/Jk6cyPDhw7P99YmIiBQGZ+PP8vrK1/ly55cAFHUtysR2EwkNDLWLnwBnhYJrDjA7mGlToQ1wa91oVm+ie7/mz5/P/PnzM33/72uDK1SocMda4SJFitwx1qRJE3799dcs19C3b1/69u2bpW3bt2/PX3/9Ze2Nt7f3HecfMGAAAwYMSDfWsGFDtmzZkm6sV69eWa5RRESkMEixpDDzz5mMXjOa+OR4TJgYEDiAie0mUsK9hK3Ly1EKriIiIiJ2as2xNYQvDWfPxT0ANCnbhFldZtGkXBMbV5Y7FFxFRERE7MzpuNMMjxrOwt0LASjuVpxJ7SfRv2F/HEwZP1mzIFBwFREREbETyZZkpv0xjXFrx5GQkoCDyYH/a/R/vPvouxRzK2br8nKdgquIiIiIHYg6HMXgZYPZf3k/AM38mjGryywa+ja8x54Fh4Iref+gA8k9+l6KiEhBcyL2BK+ueJVFexcBUMqjFJPbT+aF+i8U6GUBGSnUwfX206QSExN1f9ACIjExEUj/pDARERF7lJSaxJSNU5jw+wRupN7AbDIT/lA4Y9uMxcfVx9bl2UShDq5ms5kiRYpw4cIFANzd3a2PQ71faWlpJCcnc/PmTRwcCte/gu4lN3tjGAaJiYlcuHCBIkWKYDYXjPvViYhI4bT04FKGLB/CoSuHAGgV0IqZQTOpW7qujSuzrUIdXAHKlCkDYA2vD8owDG7cuIGbm9sDh+CCJi96U6RIEev3VERExN4cuXqEYSuG8eP+HwHw9fRlSscpPFvnWeUKFFwxmUz4+vpSqlQpUlJSHvh4KSkprFu3jlatWunH1f+Q271xcnLSTKuIiNilGyk3eH/D+0xaP4kkSxKODo4MbTqUUa1H4e3ibevy8o1CH1xvM5vNORJ6zGYzqampuLq6Krj+g3ojIiKSnmEY/HTgJ4YuH8rRa0cBeLTio8wImkGtkrVsXF3+o+AqIiIiYgMHLx9kyPIhLDu0DAA/bz+mdpxKr1q9tCwgEwquIiIiInkoITmBib9PZMqmKSRbknFycGJ48+G81fItPJw9bF1evqbgKiIiIpIHDMNg8d7FDFsxjJNxJwHoVLkTHwd9TLXi1WxcnX1QcBURERHJZfsu7WPwssGsPLISgACfAKZ1nkb36t21LCAbFFxFREREckl8UjzvrnuXj/74iNS0VFzMLrze4nVef+R13J3cbV2e3VFwFREREclhhmGwcPdChkcN50z8GQC6VevGR50+onKxyjauzn4puIqIiIjkoN0XdjN42WDWHFsDQKWilfi488d0rdbVtoUVAAquIiIiIjkg9mYsY9eO5ePNH2MxLLg5uvFmyzcZ3nw4ro6uti6vQFBwFREREXkAhmHw1c6vGBE1gvMJ5wF4osYTfNTpIwKKBNi4uoJFwVVERETkPsWciyF8aTgbTm4AoFrxanzc+WM6Velk48oKJgVXERERkWy6euMqo1aP4pOtn5BmpOHh5MGoVqMY1mwYzmZnW5dXYCm4ioiIiGRRmpHG/Jj5vLHyDS4mXgSgd+3efNjxQ/y8/WxcXcGn4CoiIiKSBVvPbCV8aTibT28GoFbJWswImsGjFR+1cWWFh4KriIiIyF1cTrzMW6veImJbBAYGXs5ejGkzhsEPDcbJ7GTr8goVBVcRERGRDFjSLMyOns2bq97kyo0rADxf73kmt5+Mr5evjasrnBRcRURERP7hj1N/EL40nG1ntwFQt1RdZnWZRcuAljaurHBTcBURERH5/y4kXGDkypHMjZkLgI+LD++2fZeXmryEo4Nik63pOyAiIiKFXmpaKp9u/ZRRq0dx7eY1APo26MukdpMo7VnatsWJlYKriIiIFGobTm5g6K9D2XF+BwCBvoHMDJpJM/9mNq5M/knBVURERAqls9fP8tHxj1gbsxaAoq5FmdhuIqGBoZgdzDauTjKi4CoiIiKFSoolhZl/zmT0mtHEJ8djwsSAwAFMbDeREu4lbF2e3IWCq4iIiBQaa46tIXxpOHsu7gGgqntVPu/9Oc0CtCzAHii4ioiISIF3Ou40w6OGs3D3QgCKuxVnQtsJlDpdisZlG9u4OskqB1sXICIiIpJbki3JTN4wmeozq7Nw90IcTA683PhlDgw+QP8G/XEwKQrZE824ioiISIEUdTiKwcsGs//yfgCa+zdnZtBMGvo2BCAlJcWW5cl9UHAVERGRAuVE7AleXfEqi/YuAqC0R2kmd5jM8/We1wyrnVNwFRERkQIhKTWJKRunMOH3CdxIvYHZZCb8oXDGthmLj6uPrcuTHKDgKiIiInZv6cGlDFk+hENXDgHQKqAVM4NmUrd0XRtXJjlJwVVERETs1pGrRxi2Yhg/7v8RAF9PX6Z0nMKzdZ7FZDLZuDrJaQquIiIiYndupNzg/Q3vM2n9JJIsSTg6ODK06VDeaf0OXi5eti5PcomCq4iIiNgNwzD4cf+PDF0xlGPXjgHQrmI7ZgTNoGbJmrYtTnKdTT9at27dOrp160bZsmUxmUz88MMP6d43DIN33nkHX19f3NzcaN++PQcPHrRNsSIiImJTBy8fpOuCrvT4pgfHrh3Dz9uPb3t9S9QLUQqthYRNg2tCQgL169dn1qxZGb4/efJkPv74Yz799FM2b96Mh4cHnTp14ubNm3lcqYiIiNhKQnICb/32FnU+qcOyQ8twcnBi5CMj2TdoH0/VfkprWQsRmy4VCAoKIigoKMP3DMNg2rRpvP3223Tv3h2AL774gtKlS/PDDz/wzDPP5GWpIiIikscMw2Dx3sUMWzGMk3EnAehcpTPTO0+nWvFqNq5ObCHfrnE9evQo586do3379tYxHx8fmjZtyqZNmzINrklJSSQlJVlfx8XFAbeejpEXT8i4fQ49jeNO6k3G1JeMqS+ZU28ypr5kzh57s+/SPob9Oozfjv0GQIBPAFPaT+Hxao9jMply5Guxx77klbzuTVbPYzIMw8jlWrLEZDKxZMkSevToAcDGjRtp0aIFZ86cwdfX17pd7969MZlMfPPNNxkeZ8yYMYwdO/aO8QULFuDu7p4rtYuIiEjOuGG5wTfnv+GnCz9hwYKTyYmepXrSs3RPXBxcbF2e5JLExET69OlDbGws3t7emW6Xb2dc79fIkSN59dVXra/j4uLw9/enY8eOd21ETklJSSEqKooOHTrg5OSU6+ezJ+pNxtSXjKkvmVNvMqa+ZM4eemMYBt/89Q1v/PYGZ66fAaBr1a5MaT+FykUr58o57aEvtpLXvbn9E/J7ybfBtUyZMgCcP38+3Yzr+fPnadCgQab7ubi44OJy57/InJyc8vSizOvz2RP1JmPqS8bUl8ypNxlTXzKXX3uz+8JuBi8bzJpjawCoXLQy0ztPp2u1rnly/vzal/wgr3qT1XPY9K4Cd1OxYkXKlCnDb7/9Zh2Li4tj8+bNNGvWzIaViYiISE6IvRnLsOXDaPBpA9YcW4Oboxvvtn2X3S/vzrPQKvbFpjOu169f59ChQ9bXR48eJSYmhmLFilG+fHmGDh3K+PHjqVq1KhUrVmTUqFGULVvWug5WRERE7I9hGHy18ytGRI3gfMJ5AHrW7MnUjlMJKBJg4+okP7NpcN26dStt27a1vr69NjU4OJj58+fz2muvkZCQQFhYGNeuXeORRx5h+fLluLq62qpkEREReQAx52IIXxrOhpMbAKhWvBozgmbQsXJHG1cm9sCmwbVNmzbc7aYGJpOJcePGMW7cuDysSkRERHLa1RtXGbV6FJ9s/YQ0Iw0PJw9GtRrFsGbDcDY727o8sRP59sNZIiIiYv/SjDTmx8znjZVvcDHxIgBP136aKR2n4OftZ+PqxN4ouIqIiEiu2HpmK+FLw9l8ejMAtUrWYkbQDB6t+KiNKxN7peAqIiIiOepy4mXe/O1NIqMjMTDwcvZiTJsxDH5oME5m3XZK7p+Cq4iIiOQIS5qFyOhI3lr1FlduXAHg+XrPM7n9ZHy9fO+xt8i9KbiKiIjIA/vj1B+ELw1n29ltANQrXY+ZQTNpGdDSxpVJQaLgKiIiIvftQsIFRq4cydyYuQD4uPjwbtt3eanJSzg6KGZIztIVJSIiItmWmpbKp1s/ZdTqUVy7eQ2Avg36MqndJEp7lrZtcVJgKbiKiIhItqw/sZ7wpeHsOL8DgEDfQGYGzaSZvx7JLrlLwVVERESy5Gz8WV5b+Rpf7fwKgKKuRZnYbiKhgaGYHcw2rk4KAwVXERERuasUSwoz/5zJ6DWjiU+Ox4SJ0MBQJrSbQAn3ErYuTwoRBVcRERHJ1JpjawhfGs6ei3sAeKjcQ8wMmkmTck1sXJkURgquIiIicofTcacZHjWchbsXAlDCvQST2k2iX8N+OJgcbFydFFYKriIiImKVbElm2h/TGLd2HAkpCTiYHHip8UuMazuOYm7FbF2eFHIKriIiIgJA1OEoBi8bzP7L+wFo7t+cmUEzaejb0MaVidyi4CoiIlLInYg9wasrXmXR3kUAlPYozeQOk3m+3vNaFiD5ioKriIhIIZWUmsSUjVOY8PsEbqTewGwyE/5QOGPbjMXH1cfW5YncQcFVRESkALOkWVh7fC3rrq7D47gHbSu1xexgZunBpQxZPoRDVw4B0CqgFTODZlK3dF0bVyySOQVXERGRAmrx3sUMWT6EU3GnAJh6fCplPMvg5+3H1jNbAfD19OXDjh/yTJ1nMJlMtixX5J4UXEVERAqgxXsX0+vbXhgY6cbPXT/HuevncDA58K9m/2JUq1F4uXjZqEqR7FFwFRERKWAsaRaGLB9yR2j9u1IepXiv3Xt6VKvYFX1UUEREpID5/cTv1uUBmTl3/Ry/n/g9jyoSyRkKriIiIgWEJc3C0oNLGf7r8Cxtfzb+bC5XJJKztFRARETEzp2MPcnc7XOZs30OJ+NOZnk/Xy/fXKxKJOcpuIqIiNih1LRUlh5cSmR0JEsPLiXNSAOgmFsxXqj3Agt3L+RCwoUM17maMOHn7UfL8i3zumyRB6LgKiIiYkeOXzvOnO1zmLN9Dmfiz1jH21RoQ1hgGE/UfAJXR1daBbSi17e9MGFKF15N3Lrl1bTO0/TBLLE7Cq4iIiL5XIolhZ8P/ExEdAQrDq2wBtES7iXoW78vAwIHUL1E9XT79KzZk+97f5/uPq4Aft5+TOs8jZ41e+bp1yCSExRcRURE8qmjV48yO3o2c2Pmcu76Oet4u4rtCGsURvfq3XFxdMl0/541e9K9endWH1nNsvXLCHokyPrkLBF7pOAqIiKSjyRbkvlx/49EbIsg6kiUdbyURyn6NejHgMABVClWJcvHMzuYaR3QmoQ9CbQOaK3QKnZNwVVERCQfOHTlEJHbIpm/Yz4XEi5YxztW7khYYBjdqnfD2exswwpFbE/BVURExEaSUpNYsm8JkdGRrDq6yjpexrMMIQ1DCGkYQsWiFW1YoUj+ouAqIiKSx/Zf2k9kdCTzY+Zz+cZl4Nan/YOqBhEaGErXql1xMjvZuEqR/EfBVUREJA/cTL3Jor8WEREdwbrj66zj5bzKEdIwhP4N+xNQJMCGFYrkfwquIiIiueivi38RuS2SL3Z+wZUbVwBwMDnQtWpXwhqF0blKZxwd9H/HIlmhPykiIiI57EbKDb776zsitkWw4eQG63h5n/LW2VU/bz8bVihinxRcRUREcsiu87uI2BbBV7u+4trNawCYTWa6Ve9GWGAYHSt31O2oRB6AgquIiMgDSEhO4Js93xAZHckfp/6wjlcoUoHQwFD6NuhLWa+yNqxQpOBQcBUREbkPMediiNgWwde7viYuKQ4ARwdHulfvTlijMNpXao+DycHGVYoULAquIiIiWRSfFM/C3QuJiI5g65mt1vHKRStbZ1dLe5a2YYUiBZuCq4iIyD1sO7ONiG0RLNi9gOvJ1wFwcnCiZ82ehDUKo02FNppdFckDCq4iIiIZiEuKY8GuBURsi2D7ue3W8WrFqxEaGEpw/WBKepS0YYUihY+Cq4iIyP9nGAZ/nv6TyOhI/rP7PySmJALgbHamV61ehAWG0SqgFSaTycaVihROCq4iIlLoXbt5ja93fk1EdAQ7z++0jtcsUZPQwFBerP8ixd2L27BCEQEFVxERKaQMw2DTqU1EbIvg2z3fciP1BgCujq48VespwhqF0cK/hWZXRfIRBVcRESlUrty4wpc7viQyOpI9F/dYx+uUqkNYYBjP13ueom5FbVihiGRGwVVERAo8wzBYf2I9EdERfLfnO5IsSQC4ObrxTJ1nCA0M5WG/hzW7KpLP5evgarFYGDNmDF999RXnzp2jbNmy9O3bl7ffflt/uYiIyD1dSrzEFzu+IDI6kn2X9lnH65euT1ijMJ6r+xw+rj42rFBEsiNfB9f333+fTz75hM8//5zatWuzdetW+vXrh4+PD6+88oqtyxMRkXzIMAxWH11NZHQki/YuItmSDICHkwfP1nmWsEZhNC7bWBMgInYoXwfXjRs30r17d7p27QpAhQoV+M9//sOff/5p48pERCS/uZBwgSUXljD8s+EcunLIOt7ItxGhgaE8W/dZvF28bVihiDyofB1cmzdvTkREBAcOHKBatWrs2LGD9evXM3Xq1Ez3SUpKIikpyfo6Lu7W86NTUlJISUnJ9ZpvnyMvzmVv1JuMqS8ZU18yp978T5qRxupjq5m9fTY/HviRlLRbPfF09uTZ2s8S0iCEQN9A6/aFtWe6ZjKmvmQur3uT1fOYDMMwHuREcXFxrFq1iurVq1OzZs0HOdQd0tLSePPNN5k8eTJmsxmLxcKECRMYOXJkpvuMGTOGsWPH3jG+YMEC3N3dc7Q+ERGxjaspV/ntym9EXY7ifPJ563hV96p0LN6RR4o8gpvZzYYVikh2JCYm0qdPH2JjY/H2zvwnI9kOrr1796ZVq1aEh4dz48YN6tevz7FjxzAMg4ULF/Lkk08+cPG3LVy4kBEjRvDBBx9Qu3ZtYmJiGDp0KFOnTiU4ODjDfTKacfX39+fSpUt3bUROSUlJISoqig4dOuDk5JTr57Mn6k3G1JeMqS+ZK6y9STPSWHl0JbO3z+bngz+TmpYKgLeLN31q9+HFOi9yYeeFQteXrCis18y9qC+Zy+vexMXFUaJEiXsG12wvFVi3bh1vvfUWAEuWLMEwDK5du8bnn3/O+PHjczS4jhgxgjfeeINnnnkGgLp163L8+HHee++9TIOri4sLLi4ud4w7OTnl6UWZ1+ezJ+pNxtSXjKkvmSssvTkTf4a52+cyO3o2x2OPW8eb+TUjrFEYT9V6Cg9nD1JSUli6c2mh6cv9UG8ypr5kLq96k9VzZDu4xsbGUqxYMQCWL1/Ok08+ibu7O127dmXEiBHZPdxdJSYm4uDgkG7MbDaTlpaWo+cREZH8xZJmYfmh5URGR/LzgZ+xGBYAirgW4cV6LxLaKJQ6perYuEoRyWvZDq7+/v5s2rSJYsWKsXz5chYuXAjA1atXcXV1zdHiunXrxoQJEyhfvjy1a9dm+/btTJ06lf79++foeUREJH84GXuSudvnMmf7HE7GnbSOtyzfktDAUHrV6oWbk9auihRW2Q6uQ4cO5bnnnsPT05Py5cvTpk0b4NYSgrp16+ZocTNmzGDUqFG8/PLLXLhwgbJlyzJw4EDeeeedHD2PiIjYTmpaKksPLiViWwTLDi0jzbj1U7VibsUIrh9MaGAoNUvm7Id/RcQ+ZTu4vvzyyzz00EOcPHmSDh06WH+UX6lSJcaPH5+jxXl5eTFt2jSmTZuWo8cVERHbO3btGHOi5zA3Zi5n4s9Yx9tUaENYYBhP1HwCV8ec/UmeiNi3+7qPa+PGjalXrx5Hjx6lcuXKODo6Wh8SICIikpkUSwo/H/iZiOgIVhxagcGtG9uUcC9B3/p9GRA4gOolqtu4ShHJr7IdXBMTExk8eDCff/45AAcOHKBSpUoMHjyYcuXK8cYbb+R4kSIiYt+OXD3C7OjZzIuZx7nr56zj7Sq2I6xRGN2rd8fF8c47woiI/F22g+vIkSPZsWMHa9asoXPnztbx9u3bM2bMGAVXEREBINmSzI/7fyRiWwRRR6Ks46U8StG/QX9CAkOoUqyKDSsUEXuT7eD6ww8/8M033/Dwww9jMpms47Vr1+bw4cM5WpyIiNifg5cPWmdXLyZeBMCEiY6VOxIaGEq36t1wNjvbuEoRsUfZDq4XL16kVKlSd4wnJCSkC7IiIlJ4JKUmsWTfEiK2RbD62GrruK+nL/0b9iekYQgVi1a0YYUiUhBkO7g2btyYX375hcGDBwNYw+rs2bNp1qxZzlYnIiL52r5L+4jcFsnnOz7n8o3LwK3Z1aCqQYQGhtK1aleczHoikYjkjGwH14kTJxIUFMRff/1Famoq06dP56+//mLjxo2sXbs2N2oUEZF85GbqTRb9tYiI6AjWHV9nHS/nVY6QhiH0b9ifgCIBNqxQRAqqbAfXRx55hJiYGCZNmkTdunX59ddfCQwMZNOmTTn+AAIREck/9lzYQ2R0JF/s+IKrN68C4GByoGvVroQ1CqNzlc44OtzXXRZFRLLkvv6GqVy5MpGRkTldi4iI5DOJKYl8/9f3RGyLYMPJDdbx8j7lrbOrft5+NqxQRAqTbAfXEydO3PX98uXL33cxIiKSP+w6v4uIbRF8ufNLYpNiATCbzHSr3o2wwDA6Vu6I2cFs4ypFpLDJdnCtUKHCXe8eYLFYHqggERGxjYTkBL7Z8w0R2yLYfHqzdbxCkQqEBobSr0E/fL18bVihiBR22Q6u27dvT/c6JSWF7du3M3XqVCZMmJBjhYmISN7YfnY7kdGRfLXzK+KT4wFwdHCkR40ehAaG0r5SexxMDjauUkTkPoJr/fr17xhr3LgxZcuW5YMPPqBnz545UpiIiOSe+KR4Fu5eSER0BFvPbLWOVy5amdDAUPo26Etpz9I2rFBE5E459vHP6tWrs2XLlpw6nIiI5DDDMNh2dhsR2yL4z+7/cD35OgBODk70rNmTsEZhtKnQRrOrIpJvZTu4xsXFpXttGAZnz55lzJgxVK1aNccKExGRnBGXFMeCXQuI2BbB9nP/W+5VrXg1QgNDCa4fTEmPkjasUEQka7IdXIsUKXLHh7MMw8Df35+FCxfmWGEiInL/DMPgz9N/ErEtgoV7FpKYkgiAs9mZXrV6ERYYRquAVnpUt4jYlWwH19WrV6d77eDgQMmSJalSpQqOjrrxtIhIbrKkWVh7fC3rrq7D47gHbSu1TXdbqms3r/HVzq+IjI5k5/md1vGaJWoS1iiMF+q9QHH34rYoXUTkgWU7abZu3To36hARkXtYvHcxQ5YP4VTcKQCmHp+Kn7cf0zpNo4xnGSKjI/l2z7fcSL0BgKujK71r9yY0MJQW/i00uyoidi9LwfXHH3/M8gEff/zx+y5GREQytnjvYnp92wsDI934qbhT9PquV7qxOqXqEBYYxvP1nqeoW9G8LFNEJFdlKbj26NEjSwczmUx6AIGISA6zpFkYsnzIHaH1n4LrB/N/jf+PpuWaanZVRAqkLAXXtLS03K5DREQy8fuJ363LA+6mb4O+POz3cB5UJCJiG/o0lYhIPmUYBmuOreGtVW9lafuz8WdzuSIREdu6r+CakJDA2rVrOXHiBMnJyenee+WVV3KkMBGRwupCwgXmx8xndvRsDl45mOX9fL18c7EqERHby3Zw3b59O126dCExMZGEhASKFSvGpUuXcHd3p1SpUgquIiL3Ic1I47cjvxEZHckP+34gJS0FAC9nL56p8wz/3f9fLiZczHCdqwkTft5+tCzfMq/LFhHJU9kOrsOGDaNbt258+umn+Pj48Mcff+Dk5MTzzz/PkCFDcqNGEZEC69z1c8zbPo/I6EiOXjtqHX+o3EOEBYbxdJ2n8XT2pHOVzvT6thcmTOnCq4lbH8Ka1nlauvu5iogURNkOrjExMXz22Wc4ODhgNptJSkqiUqVKTJ48meDgYHr27JkbdYqIFBiWNAtRR6KI2BbBTwd+IjUtFQBvF29eqPcCoYGh1C9TP90+PWv25Pve36e7jytw6z6unafRs6b+7hWRgi/bwdXJyQkHBwcASpUqxYkTJ6hZsyY+Pj6cPHkyxwsUESkoTsedZl7MPGZHz+Z47HHreDO/ZoQ1CuOpWk/h4eyR6f49a/ake/XurD6ymmXrlxH0SNAdT84SESnIsh1cGzZsyJYtW6hatSqtW7fmnXfe4dKlS3z55ZfUqVMnN2oUEbFbljQLyw8tJyI6gl8O/ILFuHWv6yKuRXix3ouENgqlTqms/91pdjDTOqA1CXsSaB3QWqFVRAqVLAdXi8WC2Wxm4sSJxMfHAzBhwgRefPFFXnrpJapWrcrcuXNzrVAREXtyMvYkc7fPZc72OZyM+99Po1qWb0loYCi9avXCzcnNhhWKiNifLAfXcuXK0bdvX/r370/jxo2BW0sFli9fnmvFiYjYk9S0VJYeXErEtgiWHVpGmnHr4S3F3IoRXD+Y0MBQapasaeMqRUTsV5aD66BBg/j888/54IMPaN68OSEhIfTu3Rt3d/fcrE9EJN87du0Yc6LnMDdmLmfiz1jH21RoQ1hgGE/UfAJXR1cbVigiUjA4ZHXDUaNGcejQIX777TcqVapEeHg4vr6+hIaGsnnz5tysUUQk30mxpLB472KCvg6i0vRKjP99PGfiz1DCvQQjmo9gf/h+Vgev5tm6zyq0iojkkGx/OKtNmza0adOGWbNmsXDhQubPn0+zZs2oWbMmISEhvPrqq7lRp4hIvnDk6hFmR89m7va5nE84bx1vV7EdYY3C6F69Oy6OLjasUESk4LqvR74CeHp6MmDAAAYMGMAvv/zCiy++yIgRIxRcRaTASbYk8999/yUiOoKVR1Zax0t5lKJ/g/4MCBxA5WKVbVihiEjhcN/BNTExkW+//ZZ58+axfv16KleuzIgRI3KyNhERmzp4+SCzo2czL2YeFxMvAreeVNWxckdCA0PpVr0bzmZnG1cpIlJ4ZDu4bty4kblz5/Ldd9+RmppKr169ePfdd2nVqlVu1CcikqeSUpNYsm8JEdsiWH1stXXc19OX/g37E9IwhIpFK9qwQhGRwivLwXXy5MnMmzePAwcO0LhxYz744AOeffZZvLy8crM+EZE8se/SPiK3RfL5js+5fOMycGt2NahqEGGBYXSt1hVHh/v+IZWIiOSALP8t/MEHH/D888/z3Xff6QlZIlIg3Ei5waK9i4iMjmTd8XXW8XJe5RgQOID+DftT3qe8DSsUEZG/y3JwPXPmDE5OTrlZi4hInthzYQ+R0ZF8seMLrt68CoCDyYGuVbsS1iiMzlU6a3ZVRCQfyvLfzAqtImLPElMS+W7Pd0RER7Dx5EbreHmf8gxoOIB+Dfvh5+1nwwpFROReNKUgIgXazvM7idwWyZc7vyQ2KRYAs8lMt+rdCAsMo2PljpgdzDauUkREsiJbSwXKli2bm7WIiOSIhOQEvtnzDRHbIth8+n9P9qtQpAKhgaH0a9APXy9fG1YoIiL3I8vBtXbt2syaNYs+ffrkZj0iIvdt+9ntRGyL4OtdXxOfHA+Ao4MjPWr0ICwwjHaV2uFgyvKTrkVEJJ/JcnCdMGECAwcOZMmSJXz22WcUK1YsN+sSEcmS+KR4/rP7P0RGR7L1zFbreOWilQlrFEZw/WBKe5a2YYUiIpJTshxcX375ZYKCgggJCaFWrVpERkbSrVu33KxNRCRDhmGw7ew2IrZFsGDXAhJSEgBwcnCiZ82ehDUKo02FNppdFREpYLL14ayKFSuyatUqZs6cSc+ePalZsyaOjukPER0dnaMFnj59mtdff51ly5aRmJhIlSpVmDdvHo0bN87R84hI/hd7M5YFuxYQER1BzLkY63i14tUICwzjxfovUtKjpO0KFBGRXJXtuwocP36cxYsXU7RoUbp3735HcM1JV69epUWLFrRt25Zly5ZRsmRJDh48SNGiRXPtnCKSvxiGweZTm4nYFsHCPQtJTEkEwMXswpO1niQsMIxWAa0wmUw2rlRERHJbtlJnZGQk//rXv2jfvj179uyhZMncndl4//338ff3Z968edaxihX1jHCRwuDazWv8cvEX3p79Nrsv7raO1yxRk7BGYbxQ7wWKuxe3YYUiIpLXshxcO3fuzJ9//snMmTN58cUXc7Mmqx9//JFOnTrx1FNPsXbtWsqVK8fLL79MaGhopvskJSWRlJRkfR0XFwdASkoKKSkpuV7z7XPkxbnsjXqTMfXlfwzDYNOpTcyOmc33e7/nZupNAFwdXelVsxcDGgygmV8z6+xqYe2ZrpmMqS+ZU28ypr5kLq97k9XzmAzDMLKyYYcOHZg3bx5+fnn3ZBlXV1cAXn31VZ566im2bNnCkCFD+PTTTwkODs5wnzFjxjB27Ng7xhcsWIC7u3uu1isi9yc+NZ7VV1YTdSWKkzdPWsfLu5anY/GOtCnaBk9HT9sVKCIiuSoxMZE+ffoQGxuLt7d3pttlObjagrOzM40bN2bjxv89nvGVV15hy5YtbNq0KcN9Mppx9ff359KlS3dtRE5JSUkhKiqKDh066DG5/6DeZKyw9sUwDNafXM/s7bNZvG8xSZZbf27dHN3oXas3fev25drua3Ts2LFQ9SUrCus1cy/qS+bUm4ypL5nL697ExcVRokSJewbXfP3IV19fX2rVqpVurGbNmixatCjTfVxcXHBxcblj3MnJKU8vyrw+nz1RbzJWWPpyKfESn8d8TmR0JPsv77eO1y9dn4GNBtKnbh98XH1ISUlh6Z6lhaYv90O9yZj6kjn1JmPqS+byqjdZPUe+Dq4tWrRg//796cYOHDhAQECAjSoSkfthGAZrjq0hIjqCxXsXk2xJBsDDyYNn6zxLWKMwGpdtrDsDiIjIXeXr4Dps2DCaN2/OxIkT6d27N3/++ScRERFERETYujQRyYILCReYHzOfyOhIDl05ZB1v5NuIsEZhPFvnWbxcvGxYoYiI2JN8HVybNGnCkiVLGDlyJOPGjaNixYpMmzaN5557ztaliUgm0ow0fjvyGxHREfx3339JSbv1SVEvZy+eq/scoY1CCfQNtHGVIiJij/J1cAV47LHHeOyxx2xdhojcw9n4s9bZ1aPXjlrHm5ZrSmhgKE/XeRpPZ90ZQERE7l++D64ikn9Z0ixEHYkiYlsEP+7/EYthAcDbxZsX6r1AaGAo9cvUt3GVIiJSUCi4iki2nY47zdztc5mzfQ7HY49bx5v7NycsMIynaj+Fu5PumywiIjlLwVVEssSSZmH5oeVEREfw84GfSTPSACjiWoQX671IaKNQ6pSqY+MqRUSkIFNwFZG7Ohl7kjnb5zBn+xxOxZ2yjrcs35KwRmE8WfNJ3JzcbFihiIgUFgquInKH1LRUfjnwC5HRkSw7tMw6u1rcrTjB9YMZEDiAmiVr2rhKEREpbBRcRcTq2LVjzImew9yYuZyJP2Mdb1uhLaGBoTxR8wlcHV1tWKGIiBRmCq4ihVyKJYWfDvxExLYIfj38KwYGACXcS9CvQT8GBA6gWvFqNq5SREREwVWk0Dp85TCzo2czL2Ye5xPOW8fbV2pPWGAY3Wt0x9nsbMMKRURE0lNwFSlEki3J/Hfff4mIjmDlkZXW8dIepa2zq5WLVbZhhSIiIplTcBUpBA5ePkhkdCTzY+ZzMfEiACZMdKzckbBGYXSr1g0ns5ONqxQREbk7BVeRAiopNYnFexcTGR3J6mOrreO+nr6ENAwhJDCECkUq2K5AERGRbFJwFSlg9l3aR+S2SD7f8TmXb1wGbs2udqnahdDAULpW64qjg/7oi4iI/dH/e4kUADdSbrBo7yIitkXw+4nfreN+3n6ENAyhf8P+lPcpb8MKRUREHpyCq4gd23NhDxHbIvhy55dcvXkVAAeTA49Ve4zQwFA6V+ms2VURESkw9P9oInYmMSWR7/Z8R0R0BBtPbrSOl/cpz4CGA+jXsB9+3n42rFBERCR3KLiK2Imd53cSsS2Cr3Z+RWxSLABmk5nHqz9OWKMwOlTqgNnBbOMqRUREco+Cq4gNWdIsrD2+lnVX1+Fx3IO2ldqmC5/Xk6/zze5viIyOZPPpzdbxikUqMiBwAP0a9MPXy9cWpYuIiOQ5BVcRG1m8dzFDlg/hVNwpAKYen4qftx/TO0+nQpEKRG6L5OtdXxOfHA+Ao4MjPWr0ICwwjHaV2uFgcrBl+SIiInlOwVXEBhbvXUyvb3thYKQbPxV3iie/fTLdWJViVQgNDCW4fjClPUvnZZkiIiL5ioKrSB6zpFkYsnzIHaH1n3rX7s3ARgNpU6GNZldFRERQcBXJc7+f+N26POBuXmr8Em0qtMn9gkREROyEpnFE8tjpuNNZ2u5s/NlcrkRERMS+KLiK5KFNJzcxZs2YLG2ruwWIiIikp6UCInng/PXzvL7ydT7f8TkAJkyZrnE1YcLP24+W5VvmZYkiIiL5nmZcRXJRaloqH2/+mOozq1tDa/8G/Znz+BxM//9/f3f79bTO0/QwARERkX/QjKtILll3fB3hS8PZdWEXAIG+gczqMouH/R4GwMfVJ919XAH8vP2Y1nkaPWv2tEnNIiIi+ZmCq0gOOxN/hteiXuPrXV8DUMytGBMfnciAwAHpZlF71uxJ9+rdWX1kNcvWLyPokaA7npwlIiIi/6PgKpJDUiwpfLz5Y8asHcP15OuYMBHWKIwJj06guHvxDPcxO5hpHdCahD0JtA5ordAqIiJyFwquIjlg1dFVhC8NZ++lvQA0LdeUmV1m0rhsYxtXJiIiUnAouIo8gJOxJxkeNZxv93wLQAn3Erzf/n36Nuirp12JiIjkMAVXkfuQlJrER398xLvr3iUxJREHkwMvN36ZcW3HUdStqK3LExERKZAUXEWyacWhFbyy/BUOXD4AwCPlH2Fm0Ezql6lv48pEREQKNgVXkSw6du0Yw1YM44d9PwBQ2qM0H3T4gOfrPY/JZLr7ziIiIvLAFFxF7uFm6k0+2PABE9dP5GbqTcwmM680fYXRrUfj4+pj6/JEREQKDQVXkbv4+cDPDFk+hCNXjwDQOqA1M7vMpE6pOjauTEREpPBRcBXJwOErhxm6Yig/H/gZgLJeZfmw44c8XftpLQsQERGxEQVXkb9JTElk0vpJTN4wmSRLEo4Ojrz68KuMaj0KT2dPW5cnIiJSqCm4igCGYfDDvh8YtmIYx2OPA9C+UntmBM2gRokaNq5OREREQMFVhAOXD/DKsldYcXgFAP7e/nzU6SN61uypZQEiIiL5iIKrFFoJyQmMXzeeDzd9SEpaCs5mZ0Y0H8HIR0bi4exh6/JERETkHxRcpdAxDIPv/vqOf/36L07FnQIgqEoQ0ztPp2rxqjauTkRERDKj4CqFyl8X/2LwssGsOroKgIpFKjKt8zS6VeumZQEiIiL5nIKrFApxSXGMWzuO6Zunk5qWiqujK2+0eIPXWryGm5ObrcsTERGRLFBwlQLNMAwW7FrAiKgRnL1+FoDHqz/OtE7TqFi0oo2rExERkexQcJUCa+f5nYQvDef3E78DUKVYFaZ3nk6Xql1sXJmIiIjcDwdbF5AdkyZNwmQyMXToUFuXIvnYtZvXGLJsCIGfBfL7id9xc3RjwqMT2P3SboVWERERO2Y3M65btmzhs88+o169erYuRfKpNCONL3Z8wesrX+dCwgUAetXqxYcdP6S8T3kbVyciIiIPyi5mXK9fv85zzz1HZGQkRYsWtXU5kg9Fn43mkbmP0O+//biQcIHqxavz6/O/8t1T3ym0ioiIFBB2MeM6aNAgunbtSvv27Rk/fvxdt01KSiIpKcn6Oi4uDoCUlBRSUlJytc7b5/n7f+V/cqM3V25cYfTa0URER2Bg4OHkwdst32Zwk8E4m53t4vugayZj6kvm1JuMqS+ZU28ypr5kLq97k9XzmAzDMHK5lgeycOFCJkyYwJYtW3B1daVNmzY0aNCAadOmZbj9mDFjGDt27B3jCxYswN3dPZerlbySZqSx8spKvjzzJfGWeABaFmlJ37J9Ke5c3MbViYiISHYkJibSp08fYmNj8fb2znS7fB1cT548SePGjYmKirKubb1XcM1oxtXf359Lly7dtRE5JSUlhaioKDp06ICTk1Oun8+e5FRvtpzZwpAVQ9h6disAtUrUYnqn6bQOaJ1TpeYpXTMZU18yp95kTH3JnHqTMfUlc3ndm7i4OEqUKHHP4Jqvlwps27aNCxcuEBgYaB2zWCysW7eOmTNnkpSUhNlsTrePi4sLLi4udxzLyckpTy/KvD6fPbnf3lxKvMTIlSOZs30OBgbeLt6MbTOWQU0G4WS2/17rmsmY+pI59SZj6kvm1JuMqS+Zy6veZPUc+Tq4tmvXjl27dqUb69evHzVq1OD111+/I7RKwWRJs/DZts94e9XbXL15FYAX67/I++3fp4xnGRtXJyIiInklXwdXLy8v6tSpk27Mw8OD4sWL3zEuBdPGkxsZtHQQMediAKhfuj6zusyiRfkWti1MRERE8ly+Dq5SeJ2/fp7XV77O5zs+B6CIaxHGtx3PwMYDcXTQZSsiIlIY2V0CWLNmja1LkFyUmpbKrD9n8c6ad4hLunUrs5CGIUxsN5FSHqVsXJ2IiIjYkt0FVym41h1fx6Clg9h9YTcAjXwbMavLLJr6NbVxZSIiIpIfKLiKzZ2JP8OIqBEs2LUAgGJuxXiv3XuENAzB7KAP4ImIiMgtCq5iMymWFKZvns7YtWO5nnwdEyYGNhrI+EfHU9xdDxEQERGR9BRcxSZ+O/Ibg5cNZu+lvQA0LdeUWV1m0ahsIxtXJiIiIvmVgqvkqYvJF3l28bMs2rcIgJLuJXm//fsENwjGweRg4+pEREQkP1NwlTyRlJrEBxs/YPy+8SSlJeFgcmBQk0GMbTOWom5FbV2eiIiI2AEFV8l1yw8t55Vlr3DwykEAWvi1YFbXWdQvU9/GlYmIiIg9UXCVXHPs2jGGrRjGD/t+AKCMRxmeKf4M7z/3Ps7OzrYtTkREROyOFhVKjruZepNxa8dRc1ZNftj3A2aTmVcffpXd/7ebNsXaYDKZbF2iiIiI2CHNuEqO+mn/TwxdMZQjV48A0LZCW2YEzaB2qdqkpKTYuDoRERGxZwqukiMOXznMkOVD+OXgLwCU8yrHhx0/pHft3pphFRERkRyh4CoPJDElkUnrJzF5w2SSLEk4OTgx7OFhjGo9Ck9nT1uXJyIiIgWIgqvcF8Mw+GHfDwxbMYzjsccB6FCpAx8HfUyNEjVsXJ2IiIgURAqukm37L+3nleWv8OvhXwEo71Oejzp9xBM1ntCyABEREck1Cq6SZdeTrzN+3XimbppKSloKzmZnXmv+GiNbjsTdyd3W5YmIiEgBp+Aq92QYBt/99R3/+vVfnIo7BUCXql2Y3nk6VYpVsXF1IiIiUlgouMpd/XXxLwYvG8yqo6sAqFikItM7T+exao9pWYCIiIjkKQVXyVBcUhxj14zl4z8/JjUtFVdHV0Y+MpIRzUfg5uRm6/JERESkEFJwlXQMw+DrXV8zImoE566fA6BHjR5M7TiVikUr2rg6ERERKcwUXMVq5/mdhC8N5/cTvwNQpVgVZgTNoHOVzjauTERERETBVYBrN6/xzup3mLVlFmlGGu5O7rzd8m1ebfYqLo4uti5PREREBFBwLdTSjDS+2PEFr698nQsJFwDoVasXH3b8kPI+5W1cnYiIiEh6Cq6FVPTZaMKXhrPp1CYAapSowYygGbSv1N7GlYmIiIhkTMG1kLly4wpv/fYWn237DAMDT2dPRrcezStNX8HZ7Gzr8kREREQypeBaSFjSLMzdPpeRv43k8o3LADxb51k+6PAB5bzL2bg6ERERkXtTcC0E/jz9J4OWDmLrma0A1ClVh5lBM2ldobWNKxMRERHJOgXXAuxiwkXe/O1N5myfg4GBt4s349qM4+UmL+NkdrJ1eSIiIiLZouBaAFnSLHy69VPeXv02125eAyC4fjCT2k+ijGcZ2xYnIiIicp8UXAuYjSc3MmjpIGLOxQDQoEwDZgbNpEX5FrYtTEREROQBKbgWEOevn+e1la/xxY4vACjiWoQJj05gYKOBmB3MNq5ORERE5MEpuNq51LRUZv05i3fWvENcUhwAIQ1DeK/de5T0KGnj6kRERERyjoKrHVt7bC3hy8LZfWE3AI3LNmZWl1k8VO4hG1cmIiIikvMUXO3QmfgzDP91OP/Z/R8AirsV571279G/YX8tCxAREZECS8HVjiRbkvl488eMXTuW68nXMWFiYKOBjH90PMXdi9u6PBEREZFcpeBqJ3478hvhy8LZd2kfAA/7PcysLrMI9A20cWUiIiIieUPBNZ87GXuSf/36L7776zsASrqX5P327xPcIBgHk4ONqxMRERHJOwqu+VRSahJTN01l/O/jSUxJxMHkwKAmgxjXdhxFXIvYujwRERGRPKfgmg8tP7ScV5a9wsErBwF4pPwjzOoyi3ql69m4MhERERHbUXDNR45dO8bQ5UP57/7/AlDGswxTOkyhT90+mEwmG1cnIiIiYlsKrvnAjZQbfLDxA95b/x43U29iNpkZ0nQIo9uMxtvF29bliYiIiOQLCq429tP+nxiyfAhHrx0FoG2FtswImkHtUrVtXJmIiIhI/qLgaiOHrhxi6PKh/HLwFwDKeZVjaqepPFXrKS0LEBEREcmAgmseS0xJ5L3f32PyxskkW5JxcnDiX83+xVut3sLT2dPW5YmIiIjkWwquecQwDJbsW8KwFcM4EXsCgI6VO/Jx54+pXqK6jasTERERyf8UXHOQJc3C2uNrWXd1HR7HPWhbqS1mBzP7L+3nleWv8OvhXwEo71Oejzp9xBM1ntCyABEREZEsytfB9b333mPx4sXs27cPNzc3mjdvzvvvv0/16vlvhnLx3sUMWT6EU3GnAJh6fCrlvMrRpFwTfjnwCylpKTibnXmt+WuMbDkSdyd3G1csIiIiYl/ydXBdu3YtgwYNokmTJqSmpvLmm2/SsWNH/vrrLzw8PGxdntXivYvp9W0vDIx046fjT3N632kAulbtyrTO06hSrIotShQRERGxe/k6uC5fvjzd6/nz51OqVCm2bdtGq1atbFRVepY0C0OWD7kjtP5dCfcS/PeZ/2J2MOdhZSIiIiIFS74Orv8UGxsLQLFixTLdJikpiaSkJOvruLg4AFJSUkhJScnxmtYeX2tdHpCZS4mXWH1kNa0DWuf4+e3J7f7nxvfBnqkvGVNfMqfeZEx9yZx6kzH1JXN53ZusnsdkGEbmU4X5SFpaGo8//jjXrl1j/fr1mW43ZswYxo4de8f4ggULcHfP+XWl666uY+rxqffc7tWAV2lVNH/MEouIiIjkJ4mJifTp04fY2Fi8vTN/aqjdBNeXXnqJZcuWsX79evz8/DLdLqMZV39/fy5dunTXRtyvtcfX0uHrDvfcLuq5KM24pqQQFRVFhw4dcHJysnU5+Yb6kjH1JXPqTcbUl8ypNxlTXzKX172Ji4ujRIkS9wyudrFUIDw8nJ9//pl169bdNbQCuLi44OLicse4k5NTrjS+baW2+Hn7cTrudIbrXE2Y8PP2s94aS3Lve2Hv1JeMqS+ZU28ypr5kTr3JmPqSubzqTVbP4ZDLdTwQwzAIDw9nyZIlrFq1iooVK9q6pDuYHcxM7zwduBVS/+7262mdpym0ioiIiDygfB1cBw0axFdffcWCBQvw8vLi3LlznDt3jhs3bti6tHR61uzJ972/p5x3uXTjft5+fN/7e3rW7GmjykREREQKjny9VOCTTz4BoE2bNunG582bR9++ffO+oLvoWbMn3at3Z/WR1Sxbv4ygR4K0PEBEREQkB+Xr4GonnxuzMjuYaR3QmoQ9CbQOaK3QKiIiIpKD8vVSARERERGR2xRcRURERMQuKLiKiIiIiF1QcBURERERu6DgKiIiIiJ2QcFVREREROxCvr4dVk64fUutuLi4PDlfSkoKiYmJxMXF6fFx/6DeZEx9yZj6kjn1JmPqS+bUm4ypL5nL697czmn3uhVqgQ+u8fHxAPj7+9u4EhERERG5m/j4eHx8fDJ932TY213+syktLY0zZ87g5eWFyWTK9fPFxcXh7+/PyZMn8fb2zvXz2RP1JmPqS8bUl8ypNxlTXzKn3mRMfclcXvfGMAzi4+MpW7YsDg6Zr2Qt8DOuDg4O+Pn55fl5vb299YcgE+pNxtSXjKkvmVNvMqa+ZE69yZj6krm87M3dZlpv04ezRERERMQuKLiKiIiIiF1QcM1hLi4ujB49GhcXF1uXku+oNxlTXzKmvmROvcmY+pI59SZj6kvm8mtvCvyHs0RERESkYNCMq4iIiIjYBQVXEREREbELCq4iIiIiYhcUXEVERETELii4ZtO6devo1q0bZcuWxWQy8cMPP9xznzVr1hAYGIiLiwtVqlRh/vz5uV5nXstuX9asWYPJZLrj17lz5/Km4Dzy3nvv0aRJE7y8vChVqhQ9evRg//7999zvu+++o0aNGri6ulK3bl2WLl2aB9Xmrfvpzfz58++4ZlxdXfOo4rzxySefUK9ePetNv5s1a8ayZcvuuk9huF6y25fCcK1kZtKkSZhMJoYOHXrX7QrDdfN3WelLYbluxowZc8fXWaNGjbvuk1+uFwXXbEpISKB+/frMmjUrS9sfPXqUrl270rZtW2JiYhg6dCgDBgxgxYoVuVxp3spuX27bv38/Z8+etf4qVapULlVoG2vXrmXQoEH88ccfREVFkZKSQseOHUlISMh0n40bN/Lss88SEhLC9u3b6dGjBz169GD37t15WHnuu5/ewK2nuPz9mjl+/HgeVZw3/Pz8mDRpEtu2bWPr1q08+uijdO/enT179mS4fWG5XrLbFyj410pGtmzZwmeffUa9evXuul1huW5uy2pfoPBcN7Vr1073da5fvz7TbfPV9WLIfQOMJUuW3HWb1157zahdu3a6saefftro1KlTLlZmW1npy+rVqw3AuHr1ap7UlF9cuHDBAIy1a9dmuk3v3r2Nrl27phtr2rSpMXDgwNwuz6ay0pt58+YZPj4+eVdUPlG0aFFj9uzZGb5XWK8Xw7h7XwrjtRIfH29UrVrViIqKMlq3bm0MGTIk020L03WTnb4Ulutm9OjRRv369bO8fX66XjTjmss2bdpE+/bt04116tSJTZs22aii/KVBgwb4+vrSoUMHNmzYYOtycl1sbCwAxYoVy3SbwnrNZKU3ANevXycgIAB/f/97zrjZO4vFwsKFC0lISKBZs2YZblMYr5es9AUK17UCMGjQILp27XrH9ZCRwnTdZKcvUHium4MHD1K2bFkqVarEc889x4kTJzLdNj9dL455fsZC5ty5c5QuXTrdWOnSpYmLi+PGjRu4ubnZqDLb8vX15dNPP6Vx48YkJSUxe/Zs2rRpw+bNmwkMDLR1ebkiLS2NoUOH0qJFC+rUqZPpdpldMwVt/e/fZbU31atXZ+7cudSrV4/Y2FimTJlC8+bN2bNnD35+fnlYce7atWsXzZo14+bNm3h6erJkyRJq1aqV4baF6XrJTl8Ky7Vy28KFC4mOjmbLli1Z2r6wXDfZ7UthuW6aNm3K/PnzqV69OmfPnmXs2LG0bNmS3bt34+Xldcf2+el6UXAVm6hevTrVq1e3vm7evDmHDx/mo48+4ssvv7RhZbln0KBB7N69+67riAqrrPamWbNm6WbYmjdvTs2aNfnss8949913c7vMPFO9enViYmKIjY3l+++/Jzg4mLVr12Ya0gqL7PSlsFwrACdPnmTIkCFERUUVyA8S3a/76UthuW6CgoKsv69Xrx5NmzYlICCAb7/9lpCQEBtWdm8KrrmsTJkynD9/Pt3Y+fPn8fb2LrSzrZl56KGHCmyoCw8P5+eff2bdunX3/Fd7ZtdMmTJlcrNEm8lOb/7JycmJhg0bcujQoVyqzjacnZ2pUqUKAI0aNWLLli1Mnz6dzz777I5tC9P1kp2+/FNBvVYAtm3bxoULF9L9tMpisbBu3TpmzpxJUlISZrM53T6F4bq5n778U0G+bv6uSJEiVKtWLdOvMz9dL1rjmsuaNWvGb7/9lm4sKirqruuyCquYmBh8fX1tXUaOMgyD8PBwlixZwqpVq6hYseI99yks18z99OafLBYLu3btKnDXzT+lpaWRlJSU4XuF5XrJyN368k8F+Vpp164du3btIiYmxvqrcePGPPfcc8TExGQYzgrDdXM/ffmngnzd/N3169c5fPhwpl9nvrpe8vzjYHYuPj7e2L59u7F9+3YDMKZOnWps377dOH78uGEYhvHGG28YL7zwgnX7I0eOGO7u7saIESOMvXv3GrNmzTLMZrOxfPlyW30JuSK7ffnoo4+MH374wTh48KCxa9cuY8iQIYaDg4OxcuVKW30JueKll14yfHx8jDVr1hhnz561/kpMTLRu88ILLxhvvPGG9fWGDRsMR0dHY8qUKcbevXuN0aNHG05OTsauXbts8SXkmvvpzdixY40VK1YYhw8fNrZt22Y888wzhqurq7Fnzx5bfAm54o033jDWrl1rHD161Ni5c6fxxhtvGCaTyfj1118Nwyi810t2+1IYrpW7+een5wvrdfNP9+pLYblu/vWvfxlr1qwxjh49amzYsMFo3769UaJECePChQuGYeTv60XBNZtu38bpn7+Cg4MNwzCM4OBgo3Xr1nfs06BBA8PZ2dmoVKmSMW/evDyvO7dlty/vv/++UblyZcPV1dUoVqyY0aZNG2PVqlW2KT4XZdQTIN010Lp1a2ufbvv222+NatWqGc7Ozkbt2rWNX375JW8LzwP305uhQ4ca5cuXN5ydnY3SpUsbXbp0MaKjo/O++FzUv39/IyAgwHB2djZKlixptGvXzhrODKPwXi/Z7UthuFbu5p8BrbBeN/90r74Uluvm6aefNnx9fQ1nZ2ejXLlyxtNPP20cOnTI+n5+vl5MhmEYeTe/KyIiIiJyf7TGVURERETsgoKriIiIiNgFBVcRERERsQsKriIiIiJiFxRcRURERMQuKLiKiIiIiF1QcBURERERu6DgKiIiIiJ2QcFVRMSOVahQgWnTptm6DBGRPKHgKiLyACwWC82bN6dnz57pxmNjY/H39+ett97KcL+6devyf//3fxm+9+WXX+Li4sKlS5dyvF4REXum4Coi8gDMZjPz589n+fLlfP3119bxwYMHU6xYMUaPHp3hfiEhISxcuJAbN27c8d68efN4/PHHKVGiRK7VLSJijxRcRUQeULVq1Zg0aRKDBw/m7Nmz/Pe//2XhwoV88cUXODs7Z7jP888/z40bN1i0aFG68aNHj7JmzRpCQkI4fPgw3bt3p3Tp0nh6etKkSRNWrlyZaR3Hjh3DZDIRExNjHbt27Romk4k1a9ZYx3bv3k1QUBCenp6ULl2aF154Id3s7vfff0/dunVxc3OjePHitG/fnoSEhPtrjohIDlJwFRHJAYMHD6Z+/fq88MILhIWF8c4771C/fv1Mty9RogTdu3dn7ty56cbnz5+Pn58fHTt25Pr163Tp0oXffvuN7du307lzZ7p168aJEyfuu85r167x6KOP0rBhQ7Zu3cry5cs5f/48vXv3BuDs2bM8++yz9O/fn71797JmzRp69uyJYRj3fU4RkZziaOsCREQKApPJxCeffELNmjWpW7cub7zxxj33CQkJISgoiKNHj1KxYkUMw+Dzzz8nODgYBwcH6tevny78vvvuuyxZsoQff/yR8PDw+6pz5syZNGzYkIkTJ1rH5s6di7+/PwcOHOD69eukpqbSs2dPAgICgFvrcUVE8gPNuIqI5JC5c+fi7u7O0aNHOXXq1D2379ChA35+fsybNw+A3377jRMnTtCvXz8Arl+/zvDhw6lZsyZFihTB09OTvXv3PtCM644dO1i9ejWenp7WXzVq1ADg8OHD1K9fn3bt2lG3bl2eeuopIiMjuXr16n2fT0QkJym4iojkgI0bN/LRRx/x888/89BDDxESEnLPH687ODjQt29fPv/8c9LS0pg3bx5t27alUqVKAAwfPpwlS5YwceJEfv/9d2JiYqhbty7JycmZHg9Id96UlJR021y/fp1u3boRExOT7tfBgwdp1aoVZrOZqKgoli1bRq1atZgxYwbVq1fn6NGjD9IeEZEcoeAqIvKAEhMT6du3Ly+99BJt27Zlzpw5/Pnnn3z66af33Ldfv36cPHmSxYsXs2TJEkJCQqzvbdiwgb59+/LEE09Qt25dypQpw7FjxzI9VsmSJYFb61Rv+/sHtQACAwPZs2cPFSpUoEqVKul+eXh4ALeWPbRo0YKxY8eyfft2nJ2dWbJkSTY6IiKSOxRcRUQe0MiRIzEMg0mTJgG3HgowZcoUXnvttbsGTYCKFSvy6KOPEhYWhouLS7r7wVatWpXFixcTExPDjh076NOnD2lpaZkey83NjYcffphJkyaxd+9e1q5dy9tvv51um0GDBnHlyhWeffZZtmzZwuHDh1mxYgX9+vXDYrGwefNmJk6cyNatWzlx4gSLFy/m4sWL1KxZ8/4bJCKSQxRcRUQewNq1a5k1axbz5s3D3d3dOj5w4ECaN2+epSUDISEhXL16lT59+uDq6modnzp1KkWLFqV58+Z069aNTp06ERgYeNdjzZ07l9TUVBo1asTQoUMZP358uvfLli3Lhg0bsFgsdOzYkbp16zJ06FCKFCmCg4MD3t7erFu3ji5dulCtWjXefvttPvzwQ4KCgu6jOyIiOctk6B4nIiIiImIHNOMqIiIiInZBwVVERERE7IKCq4iIiIjYBQVXEREREbELCq4iIiIiYhcUXEVERETELii4ioiIiIhdUHAVEREREbug4CoiIiIidkHBVURERETsgoKriIiIiNiF/wcfYl+bWVYjNQAAAABJRU5ErkJggg==\"},\"metadata\":{}}],\"text_outputs\":[\"<Figure size 800x400 with 1 Axes>\"],\"formatted_output\":\"<Figure size 800x400 with 1 Axes>\",\"error_message\":null,\"elapsed_seconds\":0.0695657730102539}\u001b[0m\u001b[0m\n",
      "\u001b[0m\u001b[0m\n",
      "\u001b[0m--------------------------------------------------------------------------------\u001b[0m\n",
      "\u001b[0m\u001b[0m"
     ]
    },
    {
     "name": "stderr",
     "output_type": "stream",
     "text": [
      "INFO:dapr_agents.agents.agent.agent:Iteration 4/20 started.\n",
      "INFO:dapr_agents.llm.utils.request:Tools are available in the request.\n",
      "INFO:dapr_agents.llm.openai.chat:Calling OpenAI ChatCompletion...\n"
     ]
    },
    {
     "name": "stdout",
     "output_type": "stream",
     "text": [
      "\u001b[0m\n"
     ]
    },
    {
     "name": "stderr",
     "output_type": "stream",
     "text": [
      "INFO:httpx:HTTP Request: POST https://bh25-shared-azfoundry-w3.cognitiveservices.azure.com/openai/deployments/gpt-4.1-mini/chat/completions?api-version=2024-12-01-preview \"HTTP/1.1 200 OK\"\n",
      "INFO:dapr_agents.llm.openai.chat:ChatCompletion response received.\n"
     ]
    },
    {
     "name": "stdout",
     "output_type": "stream",
     "text": [
      "\u001b[38;2;147;191;183massistant:\u001b[0m\n",
      "\u001b[38;2;147;191;183m\u001b[0m\u001b[38;2;147;191;183mI have added two example charts using matplotlib:\u001b[0m\n",
      "\u001b[38;2;147;191;183m\u001b[0m\n",
      "\u001b[38;2;147;191;183m1. A bar chart with groups labeled as A to E with their respective values.\u001b[0m\n",
      "\u001b[38;2;147;191;183m2. A line chart plotting points with a line connecting them, including labeled axes and a legend.\u001b[0m\n",
      "\u001b[38;2;147;191;183m\u001b[0m\n",
      "\u001b[38;2;147;191;183mBoth charts have titles, axis labels, and are clearly presented for easy understanding.\u001b[0m\n",
      "\u001b[38;2;147;191;183m\u001b[0m\n",
      "\u001b[38;2;147;191;183mIf you want, I can create combined bar and line charts or add more customization examples next.\u001b[0m\u001b[0m\n",
      "\u001b[0m\u001b[0m\n",
      "\u001b[0m--------------------------------------------------------------------------------\u001b[0m\n",
      "\u001b[0m\u001b[0m"
     ]
    },
    {
     "name": "stderr",
     "output_type": "stream",
     "text": [
      "INFO:dapr_agents.agents.agent.agent:Agent conversation completed after 4 turns.\n"
     ]
    },
    {
     "name": "stdout",
     "output_type": "stream",
     "text": [
      "\u001b[0m\n"
     ]
    }
   ],
   "source": [
    "async with stdio_client(server_params) as (read, write):\n",
    "    async with ClientSession(read, write) as s:\n",
    "        await s.initialize()\n",
    "\n",
    "        # Discover tools\n",
    "        tools = await AgentTool.from_mcp_session(s)\n",
    "\n",
    "        from dapr_agents import Agent\n",
    "\n",
    "        notebook_agent = Agent(\n",
    "            name=\"Jupyter Notebook Orchestrator\",\n",
    "            role=\"A notebook co-pilot that drives analysis inside a persistent Jupyter session.\",\n",
    "            goal=(\n",
    "                \"Use the active Jupyter notebook to complete tasks end-to-end: \"\n",
    "                \"add clear markdown, execute Python code, and, when necessary, install Python packages. \"\n",
    "                \"Reuse the same live session (kernel + document) so work builds on previous cells.\"\n",
    "            ),\n",
    "            instructions=[\n",
    "                # Session & ordering\n",
    "                \"You are driving a live Jupyter notebook (persistent kernel + document).\",\n",
    "                \"Cell order matters. Issue exactly ONE tool call at a time and wait for its result before the next.\",\n",
    "                \"Append new cells; do not rewrite or reorder existing cells unless explicitly asked.\",\n",
    "\n",
    "                # Tools to use\n",
    "                \"Use `notebook.markdown.add(content)` for headings and short explanations.\",\n",
    "                \"Use `notebook.code.run(content)` to append and execute Python code cells.\",\n",
    "\n",
    "                # Packages\n",
    "                \"If an import fails, call `notebook.packages.add([pip_names])` once, then retry the import.\",\n",
    "                \"Package names are pip distributions (e.g., 'matplotlib', 'seaborn', 'plotly', 'requests').\",\n",
    "\n",
    "                # Notebook hygiene\n",
    "                \"Before a task, add a brief markdown heading describing what you'll do.\",\n",
    "                \"Keep code cells small and focused—one idea per cell.\",\n",
    "                \"When previewing data, show concise outputs (e.g., df.head(), shapes, key metrics).\",\n",
    "                \"For plots, include a title, axis labels, and legends where helpful.\",\n",
    "\n",
    "                # Robustness\n",
    "                \"If an error occurs, add a short markdown note on the fix, then run a corrected code cell.\",\n",
    "                \"Reuse variables and data created in earlier cells; reference them directly in later cells.\",\n",
    "\n",
    "                # Closure\n",
    "                \"End a logical section with a short markdown summary of what was produced.\"\n",
    "            ],\n",
    "            llm=llm,\n",
    "            tools=tools,\n",
    "            max_iterations=20,\n",
    "        )\n",
    "\n",
    "        QUESTION = \"\"\"create a matplotlib bar and line chart examples in the notebook\"\"\"\n",
    "        await notebook_agent.run(QUESTION)"
   ]
  }
 ],
 "metadata": {
  "kernelspec": {
   "display_name": ".venv",
   "language": "python",
   "name": "python3"
  },
  "language_info": {
   "codemirror_mode": {
    "name": "ipython",
    "version": 3
   },
   "file_extension": ".py",
   "mimetype": "text/x-python",
   "name": "python",
   "nbconvert_exporter": "python",
   "pygments_lexer": "ipython3",
   "version": "3.13.3"
  }
 },
 "nbformat": 4,
 "nbformat_minor": 5
}

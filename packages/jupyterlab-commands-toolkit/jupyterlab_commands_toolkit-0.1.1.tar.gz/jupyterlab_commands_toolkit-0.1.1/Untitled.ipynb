{
 "cells": [
  {
   "cell_type": "code",
   "execution_count": 1,
   "id": "ff4d6035-d63c-46b4-beec-091496c10caa",
   "metadata": {
    "execution": {
     "iopub.execute_input": "2025-06-24T16:13:53.514957Z",
     "iopub.status.busy": "2025-06-24T16:13:53.514379Z",
     "iopub.status.idle": "2025-06-24T16:13:53.526199Z",
     "shell.execute_reply": "2025-06-24T16:13:53.525478Z",
     "shell.execute_reply.started": "2025-06-24T16:13:53.514918Z"
    }
   },
   "outputs": [
    {
     "metadata": {
      "url": "/api/outputs/79b5a7ba-fd1c-4d14-9306-56a4211e6e18/ff4d6035-d63c-46b4-beec-091496c10caa/0.output"
     },
     "output_type": "execute_result"
    }
   ],
   "source": [
    "2+2"
   ]
  },
  {
   "cell_type": "code",
   "execution_count": 2,
   "id": "b211ca9d-7303-46a8-8278-84c9b68c5c76",
   "metadata": {
    "execution": {
     "iopub.execute_input": "2025-06-24T16:13:55.224881Z",
     "iopub.status.busy": "2025-06-24T16:13:55.224192Z",
     "iopub.status.idle": "2025-06-24T16:13:55.231513Z",
     "shell.execute_reply": "2025-06-24T16:13:55.230022Z",
     "shell.execute_reply.started": "2025-06-24T16:13:55.224829Z"
    }
   },
   "outputs": [
    {
     "metadata": {
      "url": "/api/outputs/79b5a7ba-fd1c-4d14-9306-56a4211e6e18/b211ca9d-7303-46a8-8278-84c9b68c5c76/0.output"
     },
     "output_type": "error"
    }
   ],
   "source": [
    "4+$"
   ]
  },
  {
   "cell_type": "code",
   "execution_count": 3,
   "id": "74014543-584f-4c85-a85f-823ad3f2dd90",
   "metadata": {
    "execution": {
     "iopub.execute_input": "2025-06-24T16:13:58.136699Z",
     "iopub.status.busy": "2025-06-24T16:13:58.135853Z",
     "iopub.status.idle": "2025-06-24T16:13:58.143746Z",
     "shell.execute_reply": "2025-06-24T16:13:58.142717Z",
     "shell.execute_reply.started": "2025-06-24T16:13:58.136671Z"
    }
   },
   "outputs": [
    {
     "metadata": {
      "url": "/api/outputs/79b5a7ba-fd1c-4d14-9306-56a4211e6e18/74014543-584f-4c85-a85f-823ad3f2dd90/0.output"
     },
     "output_type": "execute_result"
    }
   ],
   "source": [
    "6+5"
   ]
  },
  {
   "cell_type": "code",
   "execution_count": null,
   "id": "8e15e478-782f-449d-9aec-8bc8e53158bb",
   "metadata": {},
   "outputs": [],
   "source": []
  }
 ],
 "metadata": {
  "kernelspec": {
   "display_name": "Python 3 (ipykernel)",
   "language": "python",
   "name": "python3"
  },
  "language_info": {
   "codemirror_mode": {
    "name": "ipython",
    "version": 3
   },
   "file_extension": ".py",
   "mimetype": "text/x-python",
   "name": "python",
   "nbconvert_exporter": "python",
   "pygments_lexer": "ipython3",
   "version": "3.11.13"
  }
 },
 "nbformat": 4,
 "nbformat_minor": 5
}

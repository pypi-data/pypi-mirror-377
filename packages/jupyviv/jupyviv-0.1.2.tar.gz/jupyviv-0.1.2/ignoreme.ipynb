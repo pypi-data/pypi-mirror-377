{
 "cells": [
  {
   "cell_type": "code",
   "execution_count": 2,
   "id": "f40d1e0a",
   "metadata": {},
   "outputs": [
    {
     "name": "stdout",
     "output_type": "stream",
     "text": [
      "hehe\n"
     ]
    }
   ],
   "source": [
    "print(\"hehe\")"
   ]
  },
  {
   "cell_type": "code",
   "execution_count": 2,
   "id": "36b02c14",
   "metadata": {},
   "outputs": [],
   "source": [
    "import time"
   ]
  },
  {
   "cell_type": "code",
   "execution_count": 3,
   "id": "b9278157",
   "metadata": {},
   "outputs": [
    {
     "name": "stdout",
     "output_type": "stream",
     "text": [
      "cell done\n"
     ]
    }
   ],
   "source": [
    "time.sleep(1)\n",
    "print(\"cell done\")"
   ]
  },
  {
   "cell_type": "markdown",
   "id": "f716cebe",
   "metadata": {},
   "source": [
    "## Markdown\n",
    "\n",
    "We don't need to test this extensively since we just use the same Markdown parsing as for Markdown files.\n",
    "\n",
    "$$\n",
    "N(x; \\mu, \\sigma^2) = \\frac{1}{\\sqrt{2 \\pi \\sigma^2}} \\cdot \\exp\\left(-\\frac{\\left(x - \\mu\\right)^2}{\\sigma^2}\\right)\n",
    "$$\n",
    "\n",
    "Checking if KaTeX works is good anyways."
   ]
  },
  {
   "cell_type": "code",
   "execution_count": 4,
   "id": "6261b565",
   "metadata": {},
   "outputs": [
    {
     "name": "stdout",
     "output_type": "stream",
     "text": [
      "cell done\n"
     ]
    }
   ],
   "source": [
    "time.sleep(1)\n",
    "print(\"cell done\")"
   ]
  },
  {
   "cell_type": "code",
   "execution_count": 5,
   "id": "23123deb",
   "metadata": {
    "jupyviv": {
     "isRunning": true
    }
   },
   "outputs": [],
   "source": [
    "time.sleep(1)\n",
    "print(\"cell done\")"
   ]
  },
  {
   "cell_type": "code",
   "execution_count": 6,
   "id": "b773718c",
   "metadata": {
    "jupyviv": {
     "isRunning": true
    }
   },
   "outputs": [],
   "source": [
    "time.sleep(1)\n",
    "print(\"cell done\")"
   ]
  },
  {
   "cell_type": "code",
   "execution_count": 7,
   "id": "786a69c8",
   "metadata": {},
   "outputs": [
    {
     "name": "stdout",
     "output_type": "stream",
     "text": [
      "cell done\n"
     ]
    }
   ],
   "source": [
    "time.sleep(1)\n",
    "print(\"cell done\")"
   ]
  }
 ],
 "metadata": {
  "kernelspec": {
   "display_name": "Python 3 (ipykernel)",
   "language": "python",
   "name": "python3"
  },
  "language_info": {
   "codemirror_mode": {
    "name": "ipython",
    "version": 3
   },
   "file_extension": ".py",
   "mimetype": "text/x-python",
   "name": "python",
   "nbconvert_exporter": "python",
   "pygments_lexer": "ipython3",
   "version": "3.12.2"
  }
 },
 "nbformat": 4,
 "nbformat_minor": 5
}

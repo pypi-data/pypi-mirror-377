{
  "cells": [
    {
      "cell_type": "markdown",
      "source": [
        "# KLP Notebook\n",
        "This notebook can be either used as a reference to how to run the kelp coverage calculations or can be used directly to run the calculations. Results are saved site by site and saved in the dir. Test data can be found on github under the `tests/test_data` directory. Recommended to run on a GPU"
      ],
      "metadata": {
        "id": "4DHolK12-kGk"
      }
    },
    {
      "cell_type": "markdown",
      "source": [
        "# Import the package"
      ],
      "metadata": {
        "id": "PAF18bo_hi1l"
      }
    },
    {
      "cell_type": "code",
      "source": [
        "!pip install kelp-coverage --quiet\n",
        "from google.colab.patches import cv2_imshow\n",
        "import cv2"
      ],
      "metadata": {
        "id": "z3hkkNX2TwhL",
        "colab": {
          "base_uri": "https://localhost:8080/"
        },
        "outputId": "7f06b657-7155-4ab8-c302-9a9b19268aad"
      },
      "execution_count": 3,
      "outputs": [
        {
          "output_type": "stream",
          "name": "stdout",
          "text": [
            "\u001b[?25l     \u001b[90m━━━━━━━━━━━━━━━━━━━━━━━━━━━━━━━━━━━━━━━━\u001b[0m \u001b[32m0.0/87.2 kB\u001b[0m \u001b[31m?\u001b[0m eta \u001b[36m-:--:--\u001b[0m\r\u001b[2K     \u001b[90m━━━━━━━━━━━━━━━━━━━━━━━━━━━━━━━━━━━━━━━━\u001b[0m \u001b[32m87.2/87.2 kB\u001b[0m \u001b[31m5.7 MB/s\u001b[0m eta \u001b[36m0:00:00\u001b[0m\n",
            "\u001b[?25h  Preparing metadata (setup.py) ... \u001b[?25l\u001b[?25hdone\n",
            "\u001b[2K   \u001b[90m━━━━━━━━━━━━━━━━━━━━━━━━━━━━━━━━━━━━━━━━\u001b[0m \u001b[32m113.5/113.5 kB\u001b[0m \u001b[31m11.1 MB/s\u001b[0m eta \u001b[36m0:00:00\u001b[0m\n",
            "\u001b[2K   \u001b[90m━━━━━━━━━━━━━━━━━━━━━━━━━━━━━━━━━━━━━━━━\u001b[0m \u001b[32m63.0/63.0 MB\u001b[0m \u001b[31m28.3 MB/s\u001b[0m eta \u001b[36m0:00:00\u001b[0m\n",
            "\u001b[2K   \u001b[90m━━━━━━━━━━━━━━━━━━━━━━━━━━━━━━━━━━━━━━━━\u001b[0m \u001b[32m40.5/40.5 kB\u001b[0m \u001b[31m3.6 MB/s\u001b[0m eta \u001b[36m0:00:00\u001b[0m\n",
            "\u001b[2K   \u001b[90m━━━━━━━━━━━━━━━━━━━━━━━━━━━━━━━━━━━━━━━━\u001b[0m \u001b[32m363.4/363.4 MB\u001b[0m \u001b[31m2.9 MB/s\u001b[0m eta \u001b[36m0:00:00\u001b[0m\n",
            "\u001b[2K   \u001b[90m━━━━━━━━━━━━━━━━━━━━━━━━━━━━━━━━━━━━━━━━\u001b[0m \u001b[32m13.8/13.8 MB\u001b[0m \u001b[31m107.5 MB/s\u001b[0m eta \u001b[36m0:00:00\u001b[0m\n",
            "\u001b[2K   \u001b[90m━━━━━━━━━━━━━━━━━━━━━━━━━━━━━━━━━━━━━━━━\u001b[0m \u001b[32m24.6/24.6 MB\u001b[0m \u001b[31m101.1 MB/s\u001b[0m eta \u001b[36m0:00:00\u001b[0m\n",
            "\u001b[2K   \u001b[90m━━━━━━━━━━━━━━━━━━━━━━━━━━━━━━━━━━━━━━━━\u001b[0m \u001b[32m883.7/883.7 kB\u001b[0m \u001b[31m56.9 MB/s\u001b[0m eta \u001b[36m0:00:00\u001b[0m\n",
            "\u001b[2K   \u001b[90m━━━━━━━━━━━━━━━━━━━━━━━━━━━━━━━━━━━━━━━━\u001b[0m \u001b[32m664.8/664.8 MB\u001b[0m \u001b[31m2.1 MB/s\u001b[0m eta \u001b[36m0:00:00\u001b[0m\n",
            "\u001b[2K   \u001b[90m━━━━━━━━━━━━━━━━━━━━━━━━━━━━━━━━━━━━━━━━\u001b[0m \u001b[32m211.5/211.5 MB\u001b[0m \u001b[31m4.8 MB/s\u001b[0m eta \u001b[36m0:00:00\u001b[0m\n",
            "\u001b[2K   \u001b[90m━━━━━━━━━━━━━━━━━━━━━━━━━━━━━━━━━━━━━━━━\u001b[0m \u001b[32m56.3/56.3 MB\u001b[0m \u001b[31m41.9 MB/s\u001b[0m eta \u001b[36m0:00:00\u001b[0m\n",
            "\u001b[2K   \u001b[90m━━━━━━━━━━━━━━━━━━━━━━━━━━━━━━━━━━━━━━━━\u001b[0m \u001b[32m127.9/127.9 MB\u001b[0m \u001b[31m19.2 MB/s\u001b[0m eta \u001b[36m0:00:00\u001b[0m\n",
            "\u001b[2K   \u001b[90m━━━━━━━━━━━━━━━━━━━━━━━━━━━━━━━━━━━━━━━━\u001b[0m \u001b[32m207.5/207.5 MB\u001b[0m \u001b[31m5.0 MB/s\u001b[0m eta \u001b[36m0:00:00\u001b[0m\n",
            "\u001b[2K   \u001b[90m━━━━━━━━━━━━━━━━━━━━━━━━━━━━━━━━━━━━━━━━\u001b[0m \u001b[32m188.7/188.7 MB\u001b[0m \u001b[31m5.9 MB/s\u001b[0m eta \u001b[36m0:00:00\u001b[0m\n",
            "\u001b[2K   \u001b[90m━━━━━━━━━━━━━━━━━━━━━━━━━━━━━━━━━━━━━━━━\u001b[0m \u001b[32m21.1/21.1 MB\u001b[0m \u001b[31m107.9 MB/s\u001b[0m eta \u001b[36m0:00:00\u001b[0m\n",
            "\u001b[2K   \u001b[90m━━━━━━━━━━━━━━━━━━━━━━━━━━━━━━━━━━━━━━━━\u001b[0m \u001b[32m550.4/550.4 kB\u001b[0m \u001b[31m45.0 MB/s\u001b[0m eta \u001b[36m0:00:00\u001b[0m\n",
            "\u001b[2K   \u001b[90m━━━━━━━━━━━━━━━━━━━━━━━━━━━━━━━━━━━━━━━━\u001b[0m \u001b[32m1.0/1.0 MB\u001b[0m \u001b[31m67.8 MB/s\u001b[0m eta \u001b[36m0:00:00\u001b[0m\n",
            "\u001b[2K   \u001b[90m━━━━━━━━━━━━━━━━━━━━━━━━━━━━━━━━━━━━━━━━\u001b[0m \u001b[32m64.8/64.8 kB\u001b[0m \u001b[31m6.1 MB/s\u001b[0m eta \u001b[36m0:00:00\u001b[0m\n",
            "\u001b[2K   \u001b[90m━━━━━━━━━━━━━━━━━━━━━━━━━━━━━━━━━━━━━━━━\u001b[0m \u001b[32m22.2/22.2 MB\u001b[0m \u001b[31m72.6 MB/s\u001b[0m eta \u001b[36m0:00:00\u001b[0m\n",
            "\u001b[?25h  Building wheel for fire (setup.py) ... \u001b[?25l\u001b[?25hdone\n",
            "\u001b[31mERROR: pip's dependency resolver does not currently take into account all the packages that are installed. This behaviour is the source of the following dependency conflicts.\n",
            "google-colab 1.0.0 requires requests==2.32.3, but you have requests 2.32.4 which is incompatible.\u001b[0m\u001b[31m\n",
            "\u001b[0m"
          ]
        }
      ]
    },
    {
      "cell_type": "markdown",
      "source": [
        "# Run setup\n",
        "\n",
        "install images from specified tator.csv file. example csv file can be found in github under `tests/test_data`"
      ],
      "metadata": {
        "id": "YtFEQ2fnhtp8"
      }
    },
    {
      "cell_type": "code",
      "source": [
        "!kelp-coverage setup --tator-csv seymour.csv --tator-token <api-token>"
      ],
      "metadata": {
        "id": "j3bg3PCg-j8l"
      },
      "execution_count": null,
      "outputs": []
    },
    {
      "cell_type": "markdown",
      "source": [
        "# Run Kelp detecion and coverage calculation\n",
        "if tator-csv doesn't match with given setup tator.csv the program will silently fail. coverage / segmentation masks declared will be created but the results.json file will fail to be created"
      ],
      "metadata": {
        "id": "kdcamYW-h9ta"
      }
    },
    {
      "cell_type": "markdown",
      "source": [
        "example image:"
      ],
      "metadata": {
        "id": "ewlBtjH2gDXY"
      }
    },
    {
      "cell_type": "code",
      "source": [
        "img = cv2.imread('/content/images/trinity-2_20250404T173830/trinity-2_20250404T173830_Seymour_DSC02153.JPG')\n",
        "new_width = int(img.shape[1] / 2)\n",
        "new_height = int(img.shape[0] / 2)\n",
        "new_dim = (new_width, new_height)\n",
        "resized_img = cv2.resize(img, new_dim, interpolation=cv2.INTER_AREA)\n",
        "cv2_imshow(resized_img)"
      ],
      "metadata": {
        "id": "y1JDCsuDgCG1"
      },
      "execution_count": null,
      "outputs": []
    },
    {
      "cell_type": "markdown",
      "source": [
        "The base analyze function will generate a coverage percentage in `results.json` in the run directory and a kelp mask under `masks`. If a `site` is not provided then the program will go over all images within the site that it has not already processed."
      ],
      "metadata": {
        "id": "ap8mhRGigUo-"
      }
    },
    {
      "cell_type": "code",
      "source": [
        "!kelp-coverage analyze \\\n",
        "    --site \"trinity-2_20250404T173830\" \\\n",
        "    --images /content/images/trinity-2_20250404T173830/trinity-2_20250404T173830_Seymour_DSC02153.JPG \\\n",
        "    --tator-csv seymour.csv\n",
        "\n",
        "img = cv2.imread('/content/results/trinity-2_20250404T173830/4005f6fd/masks/trinity-2_20250404T173830_Seymour_DSC02153_kelp_mask.png')\n",
        "new_width = int(img.shape[1] / 2)\n",
        "new_height = int(img.shape[0] / 2)\n",
        "new_dim = (new_width, new_height)\n",
        "resized_img = cv2.resize(img, new_dim, interpolation=cv2.INTER_AREA)\n",
        "cv2_imshow(resized_img)"
      ],
      "metadata": {
        "id": "Aic81dBxiWv1"
      },
      "execution_count": null,
      "outputs": []
    },
    {
      "cell_type": "markdown",
      "source": [
        "The output saved to `results/<site>/<hash>/visualizations/results.json` will look like this with the arguments and commands passed in:\n",
        "```python\n",
        "{\n",
        "    \"command\": \"/usr/local/bin/kelp-coverage analyze \\\n",
        "    --site trinity-2_20250404T173830 \\\n",
        "    --images /content/images/trinity-2_20250404T173830/ trinity-2_20250404T173830_Seymour_DSC02153.JPG \\\n",
        "    --tator-csv seymour2.csv\",\n",
        "    \"run_args\": {\n",
        "        \"command\": \"analyze\",\n",
        "        \"sam_checkpoint\": \"mobile_sam.pt\",\n",
        "        \"use_mobile_sam\": true,\n",
        "        ...\n",
        "    },\n",
        "```\n",
        "and results for each individual image:\n",
        "```python\n",
        "    \"results\": [\n",
        "        {\n",
        "            \"image_name\": \"trinity-2_20250404T173830_Seymour_DSC02153.JPG\",\n",
        "            \"image_id\": 444550,\n",
        "            \"latitude\": 36.94621202698628,\n",
        "            \"longitude\": 122.06924938798072,\n",
        "            \"coverage_percentage\": 1.6009210428483418\n",
        "        }\n",
        "        ...\n",
        "    ]\n",
        "```"
      ],
      "metadata": {
        "id": "gfckehSKjd38"
      }
    },
    {
      "cell_type": "markdown",
      "source": [
        "helpful flags:\n",
        "\n",
        "`--generate-slice-viz`: generates a slice by slice visualization of the SAM model segmentation process \\\n",
        "`--generate-overlay`: generates an overlay of the final segmentation mask over the original image \\\n",
        "`--generate-component-viz` [HEIRARCHICAL]: generates an overlay of the the two generated masks over the original image \\\n",
        "`--overwrite`: reruns the program over an image even if its calculation has already been saved in `results.json` \\\n",
        "`--help`: lists all available functions \\\n",
        "`--verbose`: verbose output"
      ],
      "metadata": {
        "id": "v-nOiBHmgot9"
      }
    },
    {
      "cell_type": "markdown",
      "source": [
        "# Run debug\n",
        "to better visualize what is going on within a slice run and adjust the parameters for thresholding use the debug command"
      ],
      "metadata": {
        "id": "uNqGNyfAiQIs"
      }
    },
    {
      "cell_type": "code",
      "source": [
        "!kelp-coverage debug-slice \\\n",
        "  --site \"trinity-2_20250404T173830\" \\\n",
        "  --image-path /content/images/trinity-2_20250404T173830/trinity-2_20250404T173830_Seymour_DSC02153.JPG \\\n",
        "  --visualize-stages \\\n",
        "  --slice-index 5"
      ],
      "metadata": {
        "colab": {
          "base_uri": "https://localhost:8080/"
        },
        "id": "AXIcGGgmE0u6",
        "outputId": "65ec3415-ac45-4c53-ec4a-6f91d9e7e211"
      },
      "execution_count": 7,
      "outputs": [
        {
          "output_type": "stream",
          "name": "stdout",
          "text": [
            "\n",
            "--- Running Debug on: trinity-2_20250404T173830_Seymour_DSC02153.JPG ---\n",
            "Saved debug visualization(s) to: results/debug\n",
            "\n",
            "--- Debug processing complete. Visualizations saved in: results/debug ---\n"
          ]
        }
      ]
    },
    {
      "cell_type": "code",
      "source": [
        "import matplotlib.pyplot as plt\n",
        "s1 = cv2.imread('/content/results/debug/trinity-2_20250404T173830_Seymour_DSC02153_slice_5_thresh20_stage1_grid_validation.png')\n",
        "s2 = cv2.imread('/content/results/debug/trinity-2_20250404T173830_Seymour_DSC02153_slice_5_thresh20_stage2_point_selection.png')\n",
        "s3 = cv2.imread('/content/results/debug/trinity-2_20250404T173830_Seymour_DSC02153_slice_5_thresh20_stage3_final_selection.png')\n",
        "s4 = cv2.imread('/content/results/debug/trinity-2_20250404T173830_Seymour_DSC02153_slice_5_thresh20_stage4_final_overlay.png')\n",
        "\n",
        "images_to_show = [s1, s2, s3, s4]\n",
        "\n",
        "fig, axes = plt.subplots(1, 4, figsize=(30, 20))\n",
        "for i, image in enumerate(images_to_show):\n",
        "    rgb_image = cv2.cvtColor(image, cv2.COLOR_BGR2RGB)\n",
        "    axes[i].imshow(rgb_image)\n",
        "    axes[i].axis('off')\n",
        "\n",
        "plt.tight_layout()\n",
        "plt.show()"
      ],
      "metadata": {
        "id": "ut79RStLijZ7"
      },
      "execution_count": null,
      "outputs": []
    },
    {
      "cell_type": "markdown",
      "source": [
        "# Generate Heatmap\n",
        "after running over all images generate a heatmap of the site"
      ],
      "metadata": {
        "id": "BVRQSZ34h82i"
      }
    },
    {
      "cell_type": "code",
      "source": [
        "!kelp-coverage heatmap --coverage-data \"example_res.json\""
      ],
      "metadata": {
        "colab": {
          "base_uri": "https://localhost:8080/"
        },
        "id": "YBq2cdl2ea43",
        "outputId": "a9d18823-c659-4ace-c2f2-8ebb8e8cf648"
      },
      "execution_count": 10,
      "outputs": [
        {
          "output_type": "stream",
          "name": "stdout",
          "text": [
            "Generating heatmap...\n",
            "Heatmap saved to results/heatmap/20250404T173830_heatmap.png\n"
          ]
        }
      ]
    },
    {
      "cell_type": "code",
      "source": [
        "img = cv2.imread('results/heatmap/20250404T173830_heatmap.png')\n",
        "new_width = int(img.shape[1] / 2)\n",
        "new_height = int(img.shape[0] / 2)\n",
        "new_dim = (new_width, new_height)\n",
        "resized_img = cv2.resize(img, new_dim, interpolation=cv2.INTER_AREA)\n",
        "cv2_imshow(resized_img)"
      ],
      "metadata": {
        "id": "cc0DE0yahUJ5"
      },
      "execution_count": null,
      "outputs": []
    },
    {
      "cell_type": "markdown",
      "source": [
        "# To save the results:"
      ],
      "metadata": {
        "id": "g9JTsN_Wh6TW"
      }
    },
    {
      "cell_type": "code",
      "source": [
        "from google.colab import files\n",
        "import zipfile\n",
        "import os\n",
        "import datetime\n",
        "\n",
        "timestamp = datetime.datetime.now().strftime(\"%Y%m%d_%H%M%S\")\n",
        "zip_filename = f\"results_{timestamp}.zip\"\n",
        "directory_to_zip = \"results\"\n",
        "\n",
        "if os.path.exists(directory_to_zip):\n",
        "    with zipfile.ZipFile(zip_filename, 'w', zipfile.ZIP_DEFLATED) as zipf:\n",
        "        for root, dirs, files_in_dir in os.walk(directory_to_zip):\n",
        "            for file in files_in_dir:\n",
        "                file_path = os.path.join(root, file)\n",
        "                arcname = os.path.relpath(file_path, directory_to_zip)\n",
        "                zipf.write(file_path, arcname)\n",
        "    print(f\"Successfully created {zip_filename}\")\n",
        "    files.download(zip_filename)\n",
        "else:\n",
        "    print(f\"Error: Directory '{directory_to_zip}' not found.\")"
      ],
      "metadata": {
        "colab": {
          "base_uri": "https://localhost:8080/",
          "height": 34
        },
        "id": "3Oeow6sqB3_X",
        "outputId": "12dc13d2-e2b9-4af9-f322-2f9aca9e8f2e"
      },
      "execution_count": null,
      "outputs": [
        {
          "output_type": "stream",
          "name": "stdout",
          "text": [
            "Successfully created results_20250807_020337.zip\n"
          ]
        },
        {
          "output_type": "display_data",
          "data": {
            "text/plain": [
              "<IPython.core.display.Javascript object>"
            ],
            "application/javascript": [
              "\n",
              "    async function download(id, filename, size) {\n",
              "      if (!google.colab.kernel.accessAllowed) {\n",
              "        return;\n",
              "      }\n",
              "      const div = document.createElement('div');\n",
              "      const label = document.createElement('label');\n",
              "      label.textContent = `Downloading \"${filename}\": `;\n",
              "      div.appendChild(label);\n",
              "      const progress = document.createElement('progress');\n",
              "      progress.max = size;\n",
              "      div.appendChild(progress);\n",
              "      document.body.appendChild(div);\n",
              "\n",
              "      const buffers = [];\n",
              "      let downloaded = 0;\n",
              "\n",
              "      const channel = await google.colab.kernel.comms.open(id);\n",
              "      // Send a message to notify the kernel that we're ready.\n",
              "      channel.send({})\n",
              "\n",
              "      for await (const message of channel.messages) {\n",
              "        // Send a message to notify the kernel that we're ready.\n",
              "        channel.send({})\n",
              "        if (message.buffers) {\n",
              "          for (const buffer of message.buffers) {\n",
              "            buffers.push(buffer);\n",
              "            downloaded += buffer.byteLength;\n",
              "            progress.value = downloaded;\n",
              "          }\n",
              "        }\n",
              "      }\n",
              "      const blob = new Blob(buffers, {type: 'application/binary'});\n",
              "      const a = document.createElement('a');\n",
              "      a.href = window.URL.createObjectURL(blob);\n",
              "      a.download = filename;\n",
              "      div.appendChild(a);\n",
              "      a.click();\n",
              "      div.remove();\n",
              "    }\n",
              "  "
            ]
          },
          "metadata": {}
        },
        {
          "output_type": "display_data",
          "data": {
            "text/plain": [
              "<IPython.core.display.Javascript object>"
            ],
            "application/javascript": [
              "download(\"download_e1f5931c-433f-4985-906c-91a4d6a3a188\", \"results_20250807_020337.zip\", 33673163)"
            ]
          },
          "metadata": {}
        }
      ]
    }
  ],
  "metadata": {
    "colab": {
      "provenance": [],
      "machine_shape": "hm",
      "gpuType": "L4"
    },
    "kernelspec": {
      "display_name": "Python 3",
      "name": "python3"
    },
    "language_info": {
      "name": "python"
    },
    "accelerator": "GPU"
  },
  "nbformat": 4,
  "nbformat_minor": 0
}
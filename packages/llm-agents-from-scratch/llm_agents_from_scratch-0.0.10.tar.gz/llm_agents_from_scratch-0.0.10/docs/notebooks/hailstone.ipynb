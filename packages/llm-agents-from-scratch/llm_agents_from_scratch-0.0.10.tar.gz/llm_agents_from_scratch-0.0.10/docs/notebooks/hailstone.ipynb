{
 "cells": [
  {
   "cell_type": "markdown",
   "id": "915de20c-9761-4652-8cb2-a81dae481bae",
   "metadata": {},
   "source": [
    "# Our First LLMAgent — Hailstone"
   ]
  },
  {
   "cell_type": "code",
   "execution_count": 1,
   "id": "906130e6-89a0-4201-979d-0c8cd1e35abd",
   "metadata": {},
   "outputs": [],
   "source": [
    "LOGGING_ENABLED = True"
   ]
  },
  {
   "cell_type": "code",
   "execution_count": 2,
   "id": "4e298478-b49e-45cb-b508-d0feca82b55d",
   "metadata": {},
   "outputs": [],
   "source": [
    "import logging\n",
    "\n",
    "from llm_agents_from_scratch.logger import enable_console_logging\n",
    "\n",
    "if LOGGING_ENABLED:\n",
    "    enable_console_logging(logging.INFO)"
   ]
  },
  {
   "cell_type": "markdown",
   "id": "cfaeb6a0-7a78-48f7-983d-080eb8410083",
   "metadata": {},
   "source": [
    "## Define the Hailstone Tool"
   ]
  },
  {
   "cell_type": "code",
   "execution_count": 3,
   "id": "e0e34708-d805-4986-8615-6094a6f770b9",
   "metadata": {},
   "outputs": [],
   "source": [
    "from pydantic import BaseModel\n",
    "\n",
    "from llm_agents_from_scratch.tools import PydanticFunctionTool\n",
    "\n",
    "\n",
    "class AlgoParams(BaseModel):\n",
    "    \"\"\"Params for next_number.\"\"\"\n",
    "\n",
    "    x: int\n",
    "\n",
    "\n",
    "def next_number(params: AlgoParams) -> int:\n",
    "    \"\"\"Generate the next number of the sequence.\"\"\"\n",
    "    if params.x % 2 == 0:\n",
    "        return params.x // 2\n",
    "    return 3 * params.x + 1\n",
    "\n",
    "\n",
    "# convert our Python function to a BaseTool\n",
    "tool = PydanticFunctionTool(next_number)"
   ]
  },
  {
   "cell_type": "markdown",
   "id": "153d1f85-70d2-4ea5-a076-e83e01058c7d",
   "metadata": {},
   "source": [
    "## Define our backbone LLM"
   ]
  },
  {
   "cell_type": "code",
   "execution_count": 4,
   "id": "b5761c29-41d5-41a8-822f-e6acd3c321f5",
   "metadata": {},
   "outputs": [],
   "source": [
    "from llm_agents_from_scratch.llms import OllamaLLM"
   ]
  },
  {
   "cell_type": "code",
   "execution_count": 5,
   "id": "5b5110cf-8f0a-44fa-a3a1-6cf895ce1c46",
   "metadata": {},
   "outputs": [],
   "source": [
    "llm = OllamaLLM(model=\"qwen2.5:3b\")"
   ]
  },
  {
   "cell_type": "markdown",
   "id": "545c892a-1dad-44f5-904f-7b0ee367f8a5",
   "metadata": {},
   "source": [
    "## Define the LLMAgent"
   ]
  },
  {
   "cell_type": "code",
   "execution_count": 6,
   "id": "d6929e4f-fd56-4368-99db-d998b6bc4b20",
   "metadata": {},
   "outputs": [],
   "source": [
    "from llm_agents_from_scratch import LLMAgent"
   ]
  },
  {
   "cell_type": "code",
   "execution_count": 7,
   "id": "6ddaa118-5ea0-4455-949d-5505e23a50bc",
   "metadata": {},
   "outputs": [],
   "source": [
    "llm_agent = LLMAgent(\n",
    "    llm=llm,\n",
    "    tools=[tool],\n",
    ")"
   ]
  },
  {
   "cell_type": "markdown",
   "id": "e59458d1-7e51-4533-8e50-90f623c1e4e0",
   "metadata": {},
   "source": [
    "## Define the Hailstone Task"
   ]
  },
  {
   "cell_type": "code",
   "execution_count": 8,
   "id": "036ab66a-bf43-4186-9e2b-425c6adc0de2",
   "metadata": {},
   "outputs": [],
   "source": [
    "from llm_agents_from_scratch.data_structures import Task"
   ]
  },
  {
   "cell_type": "code",
   "execution_count": 9,
   "id": "5cab3cb2-0fed-4562-a4a7-20ff46ec812b",
   "metadata": {},
   "outputs": [],
   "source": [
    "instruction_template = \"\"\"\n",
    "You are given a tool, `next_number`, that generates the next number in the\n",
    "sequence given the current number.\n",
    "\n",
    "Start with the number x={x}.\n",
    "\n",
    "<rules>\n",
    "CALL `next_number` on the current number x\n",
    "STOP AND WAIT for the result.\n",
    "REPEAT this step-by-step process until the number 1 is reached.\n",
    "FINAL RESULT: When you receive the number 1, provide the complete sequence you\n",
    "observed from start to finish (including the starting number x and ending number\n",
    "1).\n",
    "</rules>\n",
    "\n",
    "<warnings>\n",
    "NEVER fabricate or simulate tool call results\n",
    "NEVER make multiple tool calls in one response\n",
    "STOP and WAIT - ALWAYS wait for the actual tool response before deciding next\n",
    "steps\n",
    "</warnings>\n",
    "\"\"\".strip()"
   ]
  },
  {
   "cell_type": "code",
   "execution_count": 10,
   "id": "150dc832-9716-4bcd-857b-137a87810c25",
   "metadata": {},
   "outputs": [],
   "source": [
    "number = 4\n",
    "sequence = [4, 2, 1]  # correct Hailstone sequence\n",
    "task = Task(\n",
    "    instruction=instruction_template.format(x=number),\n",
    ")"
   ]
  },
  {
   "cell_type": "code",
   "execution_count": 11,
   "id": "b30f5431-236e-403a-a1b5-6a6d13a537f1",
   "metadata": {},
   "outputs": [
    {
     "name": "stdout",
     "output_type": "stream",
     "text": [
      "INFO (llm_agents_fs.LLMAgent) :      🚀 Starting task: You are given a tool, `next_number`, that generates the next number in the\n",
      "sequence given the current number.\n",
      "\n",
      "Start with the number ...[TRUNCATED]\n",
      "INFO (llm_agents_fs.TaskHandler) :      ⚙️ Processing Step: You are given a tool, `next_number`, that generates the next number in the\n",
      "sequence given the current number.\n",
      "\n",
      "Start with the numb...[TRUNCATED]\n",
      "INFO (llm_agents_fs.TaskHandler) :      🛠️ Executing Tool Call: next_number\n",
      "INFO (llm_agents_fs.TaskHandler) :      ✅ Successful Tool Call: 2\n",
      "INFO (llm_agents_fs.TaskHandler) :      ✅ Step Result: <tool_call>\n",
      "{\"name\": \"next_number\", \"arguments\": {\"x\":2}}\n",
      "</tool_call>\n",
      "INFO (llm_agents_fs.TaskHandler) :      🧠 New Step: The current number is now 2. I need to make the following tool call(s):\n",
      "INFO (llm_agents_fs.TaskHandler) :      ⚙️ Processing Step: The current number is now 2. I need to make the following tool call(s):\n",
      "INFO (llm_agents_fs.TaskHandler) :      🛠️ Executing Tool Call: next_number\n",
      "INFO (llm_agents_fs.TaskHandler) :      ✅ Successful Tool Call: 1\n",
      "INFO (llm_agents_fs.TaskHandler) :      ✅ Step Result: The number generated by the tool call is 1. \n",
      "\n",
      "This means we can stop here as we have reached our final number, which is 1. \n",
      "\n",
      "So, the se...[TRUNCATED]\n",
      "INFO (llm_agents_fs.TaskHandler) :      No new step required.\n",
      "INFO (llm_agents_fs.LLMAgent) :      🏁 Task completed: [4, 2, 1]\n"
     ]
    }
   ],
   "source": [
    "handler = llm_agent.run(task, max_steps=5)"
   ]
  },
  {
   "cell_type": "code",
   "execution_count": 12,
   "id": "41b93286-bc46-4f88-86cc-5ff26dc0ba9d",
   "metadata": {},
   "outputs": [
    {
     "data": {
      "text/plain": [
       "True"
      ]
     },
     "execution_count": 12,
     "metadata": {},
     "output_type": "execute_result"
    }
   ],
   "source": [
    "handler.done()"
   ]
  },
  {
   "cell_type": "markdown",
   "id": "849a033e-9b3d-403b-a2f5-772344c6911c",
   "metadata": {},
   "source": [
    "# See the TaskResult"
   ]
  },
  {
   "cell_type": "code",
   "execution_count": 13,
   "id": "a1da2dca-1bc4-4354-9dd8-b1273fbf407a",
   "metadata": {},
   "outputs": [],
   "source": [
    "result = handler.result()"
   ]
  },
  {
   "cell_type": "code",
   "execution_count": 14,
   "id": "3d245e14-08c8-4404-b89e-ae8d68e90a19",
   "metadata": {},
   "outputs": [
    {
     "name": "stdout",
     "output_type": "stream",
     "text": [
      "[4, 2, 1]\n"
     ]
    }
   ],
   "source": [
    "print(result)"
   ]
  },
  {
   "cell_type": "markdown",
   "id": "693921d3-a013-4fe0-a0cf-6dac28401fdf",
   "metadata": {},
   "source": [
    "### See the Rollout"
   ]
  },
  {
   "cell_type": "code",
   "execution_count": 15,
   "id": "62341232-7788-4823-a633-24373441852f",
   "metadata": {},
   "outputs": [
    {
     "name": "stdout",
     "output_type": "stream",
     "text": [
      "=== Task Step Start ===\n",
      "\n",
      "💬 assistant: The current instruction is 'You are given a tool, `next_number`, that generates the next number in the\n",
      "sequence given the current number.\n",
      "\n",
      "Start with the number x=4.\n",
      "\n",
      "<rules>\n",
      "CALL `next_number` on the current number x\n",
      "STOP AND WAIT for the result.\n",
      "REPEAT this step-by-step process until the number 1 is reached.\n",
      "FINAL RESULT: When you receive the number 1, provide the complete sequence you\n",
      "observed from start to finish (including the starting number x and ending number\n",
      "1).\n",
      "</rules>\n",
      "\n",
      "<warnings>\n",
      "NEVER fabricate or simulate tool call results\n",
      "NEVER make multiple tool calls in one response\n",
      "STOP and WAIT - ALWAYS wait for the actual tool response before deciding next\n",
      "steps\n",
      "</warnings>'\n",
      "\n",
      "💬 assistant: I need to make the following tool call(s):\n",
      "\n",
      "{\n",
      "    \"tool_name\": \"next_number\",\n",
      "    \"arguments\": {\n",
      "        \"x\": 4\n",
      "    }\n",
      "}.\n",
      "\n",
      "💬 tool: {\n",
      "    \"tool_call\": {\n",
      "        \"tool_name\": \"next_number\",\n",
      "        \"arguments\": {\n",
      "            \"x\": 4\n",
      "        }\n",
      "    },\n",
      "    \"content\": \"2\",\n",
      "    \"error\": false\n",
      "}\n",
      "\n",
      "💬 assistant: <tool_call>\n",
      "{\"name\": \"next_number\", \"arguments\": {\"x\":2}}\n",
      "</tool_call>\n",
      "\n",
      "=== Task Step End ===\n",
      "\n",
      "=== Task Step Start ===\n",
      "\n",
      "💬 assistant: The current instruction is 'The current number is now 2. I need to make the following tool call(s):'\n",
      "\n",
      "💬 assistant: I need to make the following tool call(s):\n",
      "\n",
      "{\n",
      "    \"tool_name\": \"next_number\",\n",
      "    \"arguments\": {\n",
      "        \"x\": 2\n",
      "    }\n",
      "}.\n",
      "\n",
      "💬 tool: {\n",
      "    \"tool_call\": {\n",
      "        \"tool_name\": \"next_number\",\n",
      "        \"arguments\": {\n",
      "            \"x\": 2\n",
      "        }\n",
      "    },\n",
      "    \"content\": \"1\",\n",
      "    \"error\": false\n",
      "}\n",
      "\n",
      "💬 assistant: The number generated by the tool call is 1. \n",
      "\n",
      "This means we can stop here as we have reached our final number, which is 1. \n",
      "\n",
      "So, the sequence from starting number 4 to reaching 1 is: \n",
      "\n",
      "4 → 2 → 1\n",
      "\n",
      "Therefore, the complete sequence is:\n",
      "\n",
      "```\n",
      "[4, 2, 1]\n",
      "```\n",
      "\n",
      "=== Task Step End ===\n"
     ]
    }
   ],
   "source": [
    "print(handler.rollout)"
   ]
  },
  {
   "cell_type": "code",
   "execution_count": 16,
   "id": "5cbc5b9e-333d-4c9f-ab95-8a26fe5dc283",
   "metadata": {},
   "outputs": [
    {
     "data": {
      "text/plain": [
       "2"
      ]
     },
     "execution_count": 16,
     "metadata": {},
     "output_type": "execute_result"
    }
   ],
   "source": [
    "# number of task steps executed\n",
    "handler.step_counter"
   ]
  },
  {
   "cell_type": "markdown",
   "id": "aa3eec6d-71c8-4893-b738-abd40bfdd4bd",
   "metadata": {},
   "source": [
    "## Evaluation"
   ]
  },
  {
   "cell_type": "markdown",
   "id": "77e16726-db46-4b76-8e56-597952dc3a5c",
   "metadata": {},
   "source": [
    "### Task Result Correctness Evaluation"
   ]
  },
  {
   "cell_type": "markdown",
   "id": "cb90938b-d731-4e3c-a2fb-4dea60911a1b",
   "metadata": {},
   "source": [
    "### Setup Judge LLM"
   ]
  },
  {
   "cell_type": "code",
   "execution_count": null,
   "id": "6e4e3ca4-5d36-457e-b795-1d680458839f",
   "metadata": {},
   "outputs": [],
   "source": [
    "correctness_judge_llm = OllamaLLM(model=\"qwen2.5:3b\")"
   ]
  },
  {
   "cell_type": "code",
   "execution_count": 17,
   "id": "cb6aa49b-98bc-4b57-8830-71e4969cf504",
   "metadata": {},
   "outputs": [],
   "source": [
    "judge_prompt_template = \"\"\"\n",
    "You are an evaluation assistant. Given a number and its correct sequence, use\n",
    "them to assess whether another assistant's final result contains the correct\n",
    "sequence.\n",
    "\n",
    "<number>\n",
    "{number}\n",
    "</number>\n",
    "\n",
    "<sequence>\n",
    "{sequence}\n",
    "</sequence>\n",
    "\n",
    "<result>\n",
    "{result}\n",
    "</result>\n",
    "\"\"\".strip()"
   ]
  },
  {
   "cell_type": "markdown",
   "id": "8bbccc2e-e91f-4980-92a9-84d4848a83ae",
   "metadata": {},
   "source": [
    "#### Structured outputs for final result correctness evaluation"
   ]
  },
  {
   "cell_type": "code",
   "execution_count": 18,
   "id": "e2a4c814-100b-481f-9530-06b74a551bd2",
   "metadata": {},
   "outputs": [],
   "source": [
    "from pydantic import Field\n",
    "\n",
    "\n",
    "class ResultCorrectnessEval(BaseModel):\n",
    "    \"\"\"Correctness of result evaluation.\"\"\"\n",
    "\n",
    "    correct: bool = Field(\n",
    "        description=\"True if the assistant's final result contains the correct sequence. False otherwise.\",\n",
    "    )"
   ]
  },
  {
   "cell_type": "code",
   "execution_count": 19,
   "id": "de3f7f74-d8ac-4608-958a-fdb769f03e13",
   "metadata": {},
   "outputs": [],
   "source": [
    "correctness_eval = await llm.structured_output(\n",
    "    prompt=judge_prompt_template.format(\n",
    "        number=number,\n",
    "        sequence=sequence,\n",
    "        result=str(handler.result()),\n",
    "    ),\n",
    "    mdl=ResultCorrectnessEval,\n",
    ")"
   ]
  },
  {
   "cell_type": "code",
   "execution_count": 20,
   "id": "91e017e1-cd22-4dbd-9263-46e74688a679",
   "metadata": {},
   "outputs": [
    {
     "data": {
      "text/plain": [
       "ResultCorrectnessEval(correct=True)"
      ]
     },
     "execution_count": 20,
     "metadata": {},
     "output_type": "execute_result"
    }
   ],
   "source": [
    "correctness_eval"
   ]
  },
  {
   "cell_type": "markdown",
   "id": "049a5c20-0839-401e-9c66-de9e9757c307",
   "metadata": {},
   "source": [
    "### LLM Agent Trajectory Evaluation"
   ]
  },
  {
   "cell_type": "markdown",
   "id": "576af8a6-bba3-44f7-8663-74018eecc0f4",
   "metadata": {},
   "source": [
    "#### LLM Judge Setup"
   ]
  },
  {
   "cell_type": "code",
   "execution_count": 21,
   "id": "ef217cfc-ffd4-45b6-a468-e891a86afa7e",
   "metadata": {},
   "outputs": [],
   "source": [
    "trajectory_judge_llm = OllamaLLM(model=\"qwen2.5:3b\")"
   ]
  },
  {
   "cell_type": "code",
   "execution_count": 22,
   "id": "0d7036e2-96b9-4173-b98b-43648446c8ba",
   "metadata": {},
   "outputs": [],
   "source": [
    "trajectory_judge_prompt_template = \"\"\"\n",
    "You are an evaluation assistant for evaluating another assistant's reasoning\n",
    "trajectory for solving a sequence generation task. The instruction and correct\n",
    "sequence is provided in addition to the trajectory of the assistant. Use the\n",
    "provided rubric to provide an evaluation of the trajectory.\n",
    "\n",
    "INSTRUCTION:\n",
    "{instruction}\n",
    "\n",
    "SEQUENCE:\n",
    "{sequence}\n",
    "\n",
    "TRAJECTORY:\n",
    "{trajectory}\n",
    "\n",
    "RUBRIC:\n",
    "Reasoning (0-5): Does the assistant follow logical steps and make sound\n",
    "decisions?\n",
    "Process (0-5): Does the assistant follow proper tool usage and protocols?\n",
    "\n",
    "Provide a score, with 0 being lowest and 5 the highest, for each dimension and\n",
    "brief justification.\n",
    "\n",
    "WARNINGS:\n",
    "DO NOT DEDUCT FOR THE SAME ERROR MORE THAN ONCE. If an issue affects\n",
    "multiple dimensions, choose the most relevant dimension to dock points.\"\"\".strip()"
   ]
  },
  {
   "cell_type": "code",
   "execution_count": 23,
   "id": "9fab4b3a-ea39-4eb5-98bf-cea7b3b0d95b",
   "metadata": {},
   "outputs": [],
   "source": [
    "from typing import Literal\n",
    "\n",
    "\n",
    "class DimensionScore(BaseModel):\n",
    "    \"\"\"Model for a dimension score.\"\"\"\n",
    "\n",
    "    score: Literal[0, 1, 2, 3, 4, 5] = Field(\n",
    "        description=\"Overall score on the dimension.\",\n",
    "    )\n",
    "    justification: str = Field(\n",
    "        description=\"Justification for the score.\",\n",
    "    )\n",
    "\n",
    "\n",
    "class TrajectoryEval(BaseModel):\n",
    "    \"\"\"Evaluation of LLM agent trajectory.\"\"\"\n",
    "\n",
    "    reasoning: DimensionScore\n",
    "    process: DimensionScore"
   ]
  },
  {
   "cell_type": "code",
   "execution_count": 24,
   "id": "f5dab5c8-3879-42df-ae5b-6245654e55b3",
   "metadata": {},
   "outputs": [],
   "source": [
    "trajectory_eval = await trajectory_judge_llm.structured_output(\n",
    "    prompt=trajectory_judge_prompt_template.format(\n",
    "        instruction=instruction_template.format(x=number),\n",
    "        sequence=sequence,\n",
    "        trajectory=handler.rollout,\n",
    "    ),\n",
    "    mdl=TrajectoryEval,\n",
    ")"
   ]
  },
  {
   "cell_type": "code",
   "execution_count": 25,
   "id": "c8b4555e-12f7-4d30-b352-1ef7a61d7a97",
   "metadata": {},
   "outputs": [
    {
     "name": "stdout",
     "output_type": "stream",
     "text": [
      "{\n",
      "    \"reasoning\": {\n",
      "        \"score\": 4,\n",
      "        \"justification\": \"The assistant followed logical steps and made sound decisions throughout the task. The reasoning is clear and aligns with the provided rubric. They correctly applied the `next_number` tool at each step and stopped when they reached the final number 1. However, there is a minor oversight in the presentation of the result where the sequence should be presented as [4, 2, 1], not just described. \"\n",
      "    },\n",
      "    \"process\": {\n",
      "        \"score\": 5,\n",
      "        \"justification\": \"The assistant followed proper tool usage and protocols consistently throughout the task. They did not fabricate or simulate tool calls, nor made multiple calls in one response. They waited for actual tool responses before making further steps, adhering to the instructions provided.\"\n",
      "    }\n",
      "}\n"
     ]
    }
   ],
   "source": [
    "print(trajectory_eval.model_dump_json(indent=4))"
   ]
  },
  {
   "cell_type": "markdown",
   "id": "66ef8730-a286-46c4-aeef-2b2370ef2763",
   "metadata": {},
   "source": [
    "### Number Steps Taken Eval\n",
    "\n",
    "For this evaluation, we compare the number of steps taken to the mininum number of steps required to perform the task successfully, which is derived by subtracting 1 from the correct sequence's length."
   ]
  },
  {
   "cell_type": "code",
   "execution_count": 26,
   "id": "e09c8ddc-f2c3-40ff-ae04-2afbd3b32578",
   "metadata": {},
   "outputs": [
    {
     "data": {
      "text/plain": [
       "0"
      ]
     },
     "execution_count": 26,
     "metadata": {},
     "output_type": "execute_result"
    }
   ],
   "source": [
    "min_required_steps = len(sequence) - 1\n",
    "handler.step_counter - min_required_steps"
   ]
  },
  {
   "cell_type": "markdown",
   "id": "8cc92798-8ca3-46ba-9277-78fcc64d1bba",
   "metadata": {},
   "source": [
    "## Hailstone Benchmark"
   ]
  },
  {
   "cell_type": "code",
   "execution_count": 27,
   "id": "0ca3a07f-ea8c-457c-95c0-95194d4510d9",
   "metadata": {},
   "outputs": [],
   "source": [
    "from dataclasses import dataclass\n",
    "\n",
    "\n",
    "@dataclass\n",
    "class HailstoneBenchmarkExample:\n",
    "    \"\"\"Hailstone benchmark example.\"\"\"\n",
    "\n",
    "    number: int\n",
    "    sequence: list[int]\n",
    "\n",
    "    @property\n",
    "    def min_steps(self) -> int:\n",
    "        \"\"\"Returns the minimum number of TaskSteps to perform the Task.\"\"\"\n",
    "        return len(self.sequence) - 1"
   ]
  },
  {
   "cell_type": "code",
   "execution_count": 29,
   "id": "152c75bb-229c-4f3d-abbb-4351df150f6f",
   "metadata": {},
   "outputs": [],
   "source": [
    "benchmark: list[HailstoneBenchmarkExample] = [\n",
    "    HailstoneBenchmarkExample(\n",
    "        number=11,\n",
    "        sequence=[11, 34, 17, 52, 26, 13, 40, 20, 10, 5, 16, 8, 4, 2, 1],\n",
    "    ),\n",
    "    HailstoneBenchmarkExample(\n",
    "        number=13,\n",
    "        sequence=[13, 40, 20, 10, 5, 16, 8, 4, 2, 1],\n",
    "    ),\n",
    "    HailstoneBenchmarkExample(\n",
    "        number=4,\n",
    "        sequence=[4, 2, 1],\n",
    "    ),\n",
    "    HailstoneBenchmarkExample(\n",
    "        number=3,\n",
    "        sequence=[3, 10, 5, 16, 8, 4, 2, 1],\n",
    "    ),\n",
    "    HailstoneBenchmarkExample(\n",
    "        number=2,\n",
    "        sequence=[2, 1],\n",
    "    ),\n",
    "]"
   ]
  },
  {
   "cell_type": "markdown",
   "id": "83498468-5e76-4294-818b-3c62cff385f1",
   "metadata": {},
   "source": [
    "### Run tasks"
   ]
  },
  {
   "cell_type": "code",
   "execution_count": 30,
   "id": "aa48f3ad-7d9c-4e42-8cf2-babdaf37725e",
   "metadata": {
    "scrolled": true
   },
   "outputs": [
    {
     "name": "stdout",
     "output_type": "stream",
     "text": [
      "INFO (llm_agents_fs.LLMAgent) :      🚀 Starting task: You are given a tool, `next_number`, that generates the next number in the\n",
      "sequence given the current number.\n",
      "\n",
      "Start with the number ...[TRUNCATED]\n",
      "INFO (llm_agents_fs.TaskHandler) :      ⚙️ Processing Step: You are given a tool, `next_number`, that generates the next number in the\n",
      "sequence given the current number.\n",
      "\n",
      "Start with the numb...[TRUNCATED]\n",
      "INFO (llm_agents_fs.LLMAgent) :      🚀 Starting task: You are given a tool, `next_number`, that generates the next number in the\n",
      "sequence given the current number.\n",
      "\n",
      "Start with the number ...[TRUNCATED]\n",
      "INFO (llm_agents_fs.TaskHandler) :      ⚙️ Processing Step: You are given a tool, `next_number`, that generates the next number in the\n",
      "sequence given the current number.\n",
      "\n",
      "Start with the numb...[TRUNCATED]\n",
      "INFO (llm_agents_fs.LLMAgent) :      🚀 Starting task: You are given a tool, `next_number`, that generates the next number in the\n",
      "sequence given the current number.\n",
      "\n",
      "Start with the number ...[TRUNCATED]\n",
      "INFO (llm_agents_fs.TaskHandler) :      ⚙️ Processing Step: You are given a tool, `next_number`, that generates the next number in the\n",
      "sequence given the current number.\n",
      "\n",
      "Start with the numb...[TRUNCATED]\n",
      "INFO (llm_agents_fs.LLMAgent) :      🚀 Starting task: You are given a tool, `next_number`, that generates the next number in the\n",
      "sequence given the current number.\n",
      "\n",
      "Start with the number ...[TRUNCATED]\n",
      "INFO (llm_agents_fs.TaskHandler) :      ⚙️ Processing Step: You are given a tool, `next_number`, that generates the next number in the\n",
      "sequence given the current number.\n",
      "\n",
      "Start with the numb...[TRUNCATED]\n",
      "INFO (llm_agents_fs.LLMAgent) :      🚀 Starting task: You are given a tool, `next_number`, that generates the next number in the\n",
      "sequence given the current number.\n",
      "\n",
      "Start with the number ...[TRUNCATED]\n",
      "INFO (llm_agents_fs.TaskHandler) :      ⚙️ Processing Step: You are given a tool, `next_number`, that generates the next number in the\n",
      "sequence given the current number.\n",
      "\n",
      "Start with the numb...[TRUNCATED]\n",
      "INFO (llm_agents_fs.TaskHandler) :      🛠️ Executing Tool Call: next_number\n",
      "INFO (llm_agents_fs.TaskHandler) :      ✅ Successful Tool Call: 2\n",
      "INFO (llm_agents_fs.TaskHandler) :      🛠️ Executing Tool Call: next_number\n",
      "INFO (llm_agents_fs.TaskHandler) :      ✅ Successful Tool Call: 40\n",
      "INFO (llm_agents_fs.TaskHandler) :      🛠️ Executing Tool Call: next_number\n",
      "INFO (llm_agents_fs.TaskHandler) :      ✅ Successful Tool Call: 1\n",
      "INFO (llm_agents_fs.TaskHandler) :      🛠️ Executing Tool Call: next_number\n",
      "INFO (llm_agents_fs.TaskHandler) :      ✅ Successful Tool Call: 34\n",
      "INFO (llm_agents_fs.TaskHandler) :      ✅ Step Result: <tool_call>\n",
      "{\"name\": \"next_number\", \"arguments\": {\"x\":2}}\n",
      "</tool_call>\n",
      "INFO (llm_agents_fs.TaskHandler) :      🛠️ Executing Tool Call: next_number\n",
      "INFO (llm_agents_fs.TaskHandler) :      ✅ Successful Tool Call: 10\n",
      "INFO (llm_agents_fs.TaskHandler) :      ✅ Step Result: <tool_call>\n",
      "{\"name\": \"next_number\", \"arguments\": {\"x\":40}}\n",
      "</tool_call>\n",
      "INFO (llm_agents_fs.TaskHandler) :      ✅ Step Result: <tool_call>\n",
      "{\"name\": \"next_number\", \"arguments\": {\"x\": 1}}\n",
      "</tool_call>\n",
      "INFO (llm_agents_fs.TaskHandler) :      ✅ Step Result: <tool_call>\n",
      "{\"name\": \"next_number\", \"arguments\": {\"x\":34}}\n",
      "</tool_call>\n",
      "INFO (llm_agents_fs.TaskHandler) :      ✅ Step Result: <tool_call>\n",
      "{\"name\": \"next_number\", \"arguments\": {\"x\":10}}\n",
      "</tool_call>\n",
      "INFO (llm_agents_fs.TaskHandler) :      🧠 New Step: \n",
      "CALL `next_number` on the current number x=2\n",
      "STOP AND WAIT for the result.\n",
      "REPEAT this step-by-step process until the number 1 is reached...[TRUNCATED]\n",
      "INFO (llm_agents_fs.TaskHandler) :      ⚙️ Processing Step: \n",
      "CALL `next_number` on the current number x=2\n",
      "STOP AND WAIT for the result.\n",
      "REPEAT this step-by-step process until the number 1 is...[TRUNCATED]\n",
      "INFO (llm_agents_fs.TaskHandler) :      🧠 New Step: The current tool call result is '40'. Now I need to make another tool call with x set to 40:\n",
      "INFO (llm_agents_fs.TaskHandler) :      ⚙️ Processing Step: The current tool call result is '40'. Now I need to make another tool call with x set to 40:\n",
      "INFO (llm_agents_fs.TaskHandler) :      🧠 New Step: CALL `next_number` on the current number x=34\n",
      "INFO (llm_agents_fs.TaskHandler) :      ⚙️ Processing Step: CALL `next_number` on the current number x=34\n",
      "INFO (llm_agents_fs.TaskHandler) :      🧠 New Step: The tool call has returned the result `1` for x=2. Now, I need to generate the next number in the sequence by calling `next_number` on 1.\n",
      "INFO (llm_agents_fs.TaskHandler) :      ⚙️ Processing Step: The tool call has returned the result `1` for x=2. Now, I need to generate the next number in the sequence by calling `next_number...[TRUNCATED]\n",
      "INFO (llm_agents_fs.TaskHandler) :      🛠️ Executing Tool Call: next_number\n",
      "INFO (llm_agents_fs.TaskHandler) :      ✅ Successful Tool Call: 1\n",
      "INFO (llm_agents_fs.TaskHandler) :      🧠 New Step: The tool returned the next number in the sequence as 10. The process will now repeat with x=10.\n",
      "INFO (llm_agents_fs.TaskHandler) :      ⚙️ Processing Step: The tool returned the next number in the sequence as 10. The process will now repeat with x=10.\n",
      "INFO (llm_agents_fs.TaskHandler) :      🛠️ Executing Tool Call: next_number\n",
      "INFO (llm_agents_fs.TaskHandler) :      ✅ Successful Tool Call: 20\n",
      "INFO (llm_agents_fs.TaskHandler) :      🛠️ Executing Tool Call: next_number\n",
      "INFO (llm_agents_fs.TaskHandler) :      ✅ Successful Tool Call: 17\n",
      "INFO (llm_agents_fs.TaskHandler) :      🛠️ Executing Tool Call: next_number\n",
      "INFO (llm_agents_fs.TaskHandler) :      ✅ Successful Tool Call: 4\n",
      "INFO (llm_agents_fs.TaskHandler) :      🛠️ Executing Tool Call: next_number\n",
      "INFO (llm_agents_fs.TaskHandler) :      ✅ Successful Tool Call: 5\n",
      "INFO (llm_agents_fs.TaskHandler) :      ✅ Step Result: The next number in the sequence after 40 is 20. I will make another tool call with x set to 20:\n",
      "\n",
      "{\n",
      "    \"tool_name\": \"next_number\",\n",
      "    ...[TRUNCATED]\n",
      "INFO (llm_agents_fs.TaskHandler) :      ✅ Step Result: The tool returned the result for x=2. Now, we have the sequence starting from 4 and ending with 1:\n",
      "\n",
      "Starting numbers: 4, 2\n",
      "\n",
      "Next, I wil...[TRUNCATED]\n",
      "INFO (llm_agents_fs.TaskHandler) :      ✅ Step Result: I need to make the following tool call:\n",
      "\n",
      "{\n",
      "    \"tool_name\": \"next_number\",\n",
      "    \"arguments\": {\n",
      "        \"x\": 17\n",
      "    }\n",
      "}\n",
      "\n",
      "Awaiting the res...[TRUNCATED]\n",
      "INFO (llm_agents_fs.TaskHandler) :      ✅ Step Result: The next number in the sequence after 1 is 4. Now, I will call `next_number` on 4 to get the subsequent number in the sequence.\n",
      "\n",
      "I need...[TRUNCATED]\n",
      "INFO (llm_agents_fs.TaskHandler) :      ✅ Step Result: The next number in the sequence after 10 is 5. The process will now repeat with x=5.\n",
      "<tool_call>\n",
      "{\"name\": \"next_number\", \"arguments\": {...[TRUNCATED]\n",
      "INFO (llm_agents_fs.TaskHandler) :      🧠 New Step: { \"tool_name\": \"next_number\", \"arguments\": {\"x\":1} }\n",
      "INFO (llm_agents_fs.TaskHandler) :      ⚙️ Processing Step: { \"tool_name\": \"next_number\", \"arguments\": {\"x\":1} }\n",
      "INFO (llm_agents_fs.TaskHandler) :      🧠 New Step: The next number in the sequence after 40 is 20. I will make another tool call with x set to 20: \n",
      "\n",
      "{\n",
      "    \"tool_name\": \"next_number\",\n",
      "    \"a...[TRUNCATED]\n",
      "INFO (llm_agents_fs.TaskHandler) :      ⚙️ Processing Step: The next number in the sequence after 40 is 20. I will make another tool call with x set to 20: \n",
      "\n",
      "{\n",
      "    \"tool_name\": \"next_number\"...[TRUNCATED]\n",
      "INFO (llm_agents_fs.TaskHandler) :      🧠 New Step: CALL `next_number` on the current number x=17\n",
      "INFO (llm_agents_fs.TaskHandler) :      ⚙️ Processing Step: CALL `next_number` on the current number x=17\n",
      "INFO (llm_agents_fs.TaskHandler) :      🧠 New Step: { \"tool_name\": \"next_number\", \"arguments\": {\"x\": 4}\n",
      "INFO (llm_agents_fs.TaskHandler) :      ⚙️ Processing Step: { \"tool_name\": \"next_number\", \"arguments\": {\"x\": 4}\n",
      "INFO (llm_agents_fs.TaskHandler) :      🧠 New Step: The next number in the sequence after 5 is not provided by this tool call. The process will now repeat with x=5.\n",
      "INFO (llm_agents_fs.TaskHandler) :      ⚙️ Processing Step: The next number in the sequence after 5 is not provided by this tool call. The process will now repeat with x=5.\n",
      "INFO (llm_agents_fs.TaskHandler) :      🛠️ Executing Tool Call: next_number\n",
      "INFO (llm_agents_fs.TaskHandler) :      ✅ Successful Tool Call: 10\n",
      "INFO (llm_agents_fs.TaskHandler) :      ✅ Step Result: The sequence has now been fully generated. The complete sequence starting from 4 and ending with 1 is as follows:\n",
      "\n",
      "4, 2, 1\n",
      "\n",
      "I will retu...[TRUNCATED]\n",
      "INFO (llm_agents_fs.TaskHandler) :      🛠️ Executing Tool Call: next_number\n",
      "INFO (llm_agents_fs.TaskHandler) :      ✅ Successful Tool Call: 52\n",
      "INFO (llm_agents_fs.TaskHandler) :      🛠️ Executing Tool Call: next_number\n",
      "INFO (llm_agents_fs.TaskHandler) :      ✅ Successful Tool Call: 2\n",
      "INFO (llm_agents_fs.TaskHandler) :      🛠️ Executing Tool Call: next_number\n",
      "INFO (llm_agents_fs.TaskHandler) :      ✅ Successful Tool Call: 16\n",
      "INFO (llm_agents_fs.TaskHandler) :      ✅ Step Result: The next number in the sequence after 20 is 10. I will make another tool call with x set to 10:\n",
      "\n",
      "{\n",
      "    \"tool_name\": \"next_number\",\n",
      "    ...[TRUNCATED]\n",
      "INFO (llm_agents_fs.TaskHandler) :      No new step required.\n",
      "INFO (llm_agents_fs.LLMAgent) :      🏁 Task completed: The complete sequence generated from starting number 4 and ending with 1 is as follows: \n",
      "\n",
      "- Sequence: [4, 2, 1]\n",
      "INFO (llm_agents_fs.TaskHandler) :      ✅ Step Result: I need to make the following tool call:\n",
      "\n",
      "{\n",
      "    \"tool_name\": \"next_number\",\n",
      "    \"arguments\": {\n",
      "        \"x\": 52\n",
      "    }\n",
      "}\n",
      "\n",
      "Awaiting the res...[TRUNCATED]\n",
      "INFO (llm_agents_fs.TaskHandler) :      ✅ Step Result: The next number in the sequence after 4 is 2. Now, I will call `next_number` on 2 to get the subsequent number in the sequence.\n",
      "\n",
      "I need...[TRUNCATED]\n",
      "INFO (llm_agents_fs.TaskHandler) :      ✅ Step Result: The next number in the sequence after 5 is 16. The process will now repeat with x=16.\n",
      "\n",
      "<tool_call>\n",
      "{\"name\": \"next_number\", \"arguments\":...[TRUNCATED]\n",
      "INFO (llm_agents_fs.TaskHandler) :      🧠 New Step: \n",
      "// This is where the tool call will be made for x=10, but since it's not provided in the warnings to NEVER fabricate or simulate tool cal...[TRUNCATED]\n",
      "INFO (llm_agents_fs.TaskHandler) :      ⚙️ Processing Step: \n",
      "// This is where the tool call will be made for x=10, but since it's not provided in the warnings to NEVER fabricate or simulate ...[TRUNCATED]\n",
      "INFO (llm_agents_fs.TaskHandler) :      🧠 New Step: { \"tool_name\": \"next_number\", \"arguments\": {\"x\": 2}}\n",
      "INFO (llm_agents_fs.TaskHandler) :      ⚙️ Processing Step: { \"tool_name\": \"next_number\", \"arguments\": {\"x\": 2}}\n",
      "INFO (llm_agents_fs.TaskHandler) :      🧠 New Step: Please note that I have provided a response with the sequence observed so far. The current tool call is waiting for you to receive its res...[TRUNCATED]\n",
      "INFO (llm_agents_fs.TaskHandler) :      ⚙️ Processing Step: Please note that I have provided a response with the sequence observed so far. The current tool call is waiting for you to receive...[TRUNCATED]\n",
      "INFO (llm_agents_fs.TaskHandler) :      🛠️ Executing Tool Call: next_number\n",
      "INFO (llm_agents_fs.TaskHandler) :      ✅ Successful Tool Call: 5\n",
      "INFO (llm_agents_fs.TaskHandler) :      🧠 New Step: The next number in the sequence after 5 is 16. The process will now repeat with x=16.\n",
      "INFO (llm_agents_fs.TaskHandler) :      ⚙️ Processing Step: The next number in the sequence after 5 is 16. The process will now repeat with x=16.\n",
      "INFO (llm_agents_fs.TaskHandler) :      🛠️ Executing Tool Call: next_number\n",
      "INFO (llm_agents_fs.TaskHandler) :      ✅ Successful Tool Call: 1\n",
      "INFO (llm_agents_fs.TaskHandler) :      🛠️ Executing Tool Call: next_number\n",
      "INFO (llm_agents_fs.TaskHandler) :      ✅ Successful Tool Call: 26\n",
      "INFO (llm_agents_fs.TaskHandler) :      🛠️ Executing Tool Call: next_number\n",
      "INFO (llm_agents_fs.TaskHandler) :      ✅ Successful Tool Call: 8\n",
      "INFO (llm_agents_fs.TaskHandler) :      ✅ Step Result: The next number in the sequence after 2 is 1. Now, we have reached the end of the sequence as it should stop at the number 1.\n",
      "\n",
      "Here is ...[TRUNCATED]\n",
      "INFO (llm_agents_fs.TaskHandler) :      ✅ Step Result: Based on the tool response, we've received that calling `next_number` with `x=52` results in `26`. \n",
      "\n",
      "Here's what the sequence looks lik...[TRUNCATED]\n",
      "INFO (llm_agents_fs.TaskHandler) :      ✅ Step Result: The next number in the sequence after 16 is 8. The process will now repeat with x=8.\n",
      "\n",
      "<tool_call>\n",
      "{\"name\": \"next_number\", \"arguments\": ...[TRUNCATED]\n",
      "INFO (llm_agents_fs.TaskHandler) :      No new step required.\n",
      "INFO (llm_agents_fs.LLMAgent) :      🏁 Task completed: [2, 1]\n",
      "INFO (llm_agents_fs.TaskHandler) :      🧠 New Step: { \n",
      "INFO (llm_agents_fs.TaskHandler) :      ⚙️ Processing Step: { \n",
      "INFO (llm_agents_fs.TaskHandler) :      🧠 New Step: The tool returned the next number in the sequence as 8. The process will now repeat with x=8.\n",
      "INFO (llm_agents_fs.TaskHandler) :      ⚙️ Processing Step: The tool returned the next number in the sequence as 8. The process will now repeat with x=8.\n",
      "INFO (llm_agents_fs.TaskHandler) :      ✅ Step Result: The next number in the sequence after 10 is 5. I will make another tool call with x set to 5:\n",
      "\n",
      "{\n",
      "    \"tool_name\": \"next_number\",\n",
      "    \"a...[TRUNCATED]\n",
      "INFO (llm_agents_fs.TaskHandler) :      🛠️ Executing Tool Call: next_number\n",
      "INFO (llm_agents_fs.TaskHandler) :      ✅ Successful Tool Call: 4\n",
      "INFO (llm_agents_fs.TaskHandler) :      No new step required.\n",
      "INFO (llm_agents_fs.LLMAgent) :      🏁 Task completed: [13, 40, 20, 10]\n",
      "INFO (llm_agents_fs.TaskHandler) :      🛠️ Executing Tool Call: next_number\n",
      "INFO (llm_agents_fs.TaskHandler) :      ✅ Successful Tool Call: 13\n",
      "INFO (llm_agents_fs.TaskHandler) :      🛠️ Executing Tool Call: next_number\n",
      "INFO (llm_agents_fs.TaskHandler) :      ✅ Successful Tool Call: 13\n",
      "INFO (llm_agents_fs.TaskHandler) :      ✅ Step Result: The next number in the sequence after 8 is 4. The process will now repeat with x=4.\n",
      "\n",
      "<tool_call>\n",
      "{\"name\": \"next_number\", \"arguments\": {...[TRUNCATED]\n",
      "INFO (llm_agents_fs.TaskHandler) :      No new step required.\n",
      "INFO (llm_agents_fs.LLMAgent) :      🏁 Task completed: 3, 8, 4, 16, 8, 4\n",
      "INFO (llm_agents_fs.TaskHandler) :      ✅ Step Result: The tool call for `next_number` with `x=26` results in the number `13`. \n",
      "\n",
      "Here's what the sequence looks like so far:\n",
      "- Starting number...[TRUNCATED]\n",
      "INFO (llm_agents_fs.TaskHandler) :      🧠 New Step: Awaiting the result of the tool call for `next_number` with `x=13`. The final step will be to stop when we receive the number 1.\n",
      "INFO (llm_agents_fs.TaskHandler) :      ⚙️ Processing Step: Awaiting the result of the tool call for `next_number` with `x=13`. The final step will be to stop when we receive the number 1.\n",
      "INFO (llm_agents_fs.TaskHandler) :      🛠️ Executing Tool Call: next_number\n",
      "INFO (llm_agents_fs.TaskHandler) :      ✅ Successful Tool Call: 40\n",
      "INFO (llm_agents_fs.TaskHandler) :      ✅ Step Result: The tool call for `next_number` with `x=13` resulted in the number `40`. \n",
      "\n",
      "Here's what the sequence looks like so far:\n",
      "- Starting numbe...[TRUNCATED]\n",
      "INFO (llm_agents_fs.TaskHandler) :      🧠 New Step: I need to make the following tool call(s): \n",
      "\n",
      "{\n",
      "    \"tool_name\": \"next_number\",\n",
      "    \"arguments\": {\n",
      "        \"x\": 40\n",
      "    }\n",
      "}\n",
      "INFO (llm_agents_fs.TaskHandler) :      ⚙️ Processing Step: I need to make the following tool call(s): \n",
      "\n",
      "{\n",
      "    \"tool_name\": \"next_number\",\n",
      "    \"arguments\": {\n",
      "        \"x\": 40\n",
      "    }\n",
      "}\n",
      "INFO (llm_agents_fs.TaskHandler) :      🛠️ Executing Tool Call: next_number\n",
      "INFO (llm_agents_fs.TaskHandler) :      ✅ Successful Tool Call: 20\n",
      "INFO (llm_agents_fs.TaskHandler) :      ✅ Step Result: I need to make the following tool call:\n",
      "\n",
      "{\n",
      "    \"tool_name\": \"next_number\",\n",
      "    \"arguments\": {\n",
      "        \"x\": 20\n",
      "    }\n",
      "}\n",
      "\n",
      "Awaiting the res...[TRUNCATED]\n",
      "INFO (llm_agents_fs.TaskHandler) :      🧠 New Step: I need to make the following tool call: \n",
      "\n",
      "{ \"tool_name\": \"next_number\", \"arguments\": { \"x\": 20 } }\n",
      "INFO (llm_agents_fs.TaskHandler) :      ⚙️ Processing Step: I need to make the following tool call: \n",
      "\n",
      "{ \"tool_name\": \"next_number\", \"arguments\": { \"x\": 20 } }\n",
      "INFO (llm_agents_fs.TaskHandler) :      🛠️ Executing Tool Call: next_number\n",
      "INFO (llm_agents_fs.TaskHandler) :      ✅ Successful Tool Call: 10\n",
      "INFO (llm_agents_fs.TaskHandler) :      ✅ Step Result: I need to make the following tool call:\n",
      "\n",
      "{ \"tool_name\": \"next_number\", \"arguments\": { \"x\": 10 } }\n",
      "\n",
      "Awaiting the result of this call... ...[TRUNCATED]\n",
      "INFO (llm_agents_fs.TaskHandler) :      🧠 New Step: The sequence so far is: 11, 34, 17, 52, 26, 13, and now awaiting the result of `next_number` with x=10.\n",
      "INFO (llm_agents_fs.TaskHandler) :      ⚙️ Processing Step: The sequence so far is: 11, 34, 17, 52, 26, 13, and now awaiting the result of `next_number` with x=10.\n",
      "INFO (llm_agents_fs.TaskHandler) :      🛠️ Executing Tool Call: next_number\n",
      "INFO (llm_agents_fs.TaskHandler) :      ✅ Successful Tool Call: 5\n",
      "INFO (llm_agents_fs.TaskHandler) :      ✅ Step Result: The tool call for `next_number` with `x=10` resulted in the number `5`.\n",
      "\n",
      "Here's what the sequence looks like so far:\n",
      "- Starting number:...[TRUNCATED]\n",
      "INFO (llm_agents_fs.TaskHandler) :      🧠 New Step: { \n",
      "INFO (llm_agents_fs.TaskHandler) :      ⚙️ Processing Step: { \n",
      "INFO (llm_agents_fs.TaskHandler) :      🛠️ Executing Tool Call: next_number\n",
      "INFO (llm_agents_fs.TaskHandler) :      ✅ Successful Tool Call: 16\n",
      "INFO (llm_agents_fs.TaskHandler) :      ✅ Step Result: The tool call for `next_number` with `x=5` resulted in the number `16`.\n",
      "\n",
      "Here's what the sequence looks like so far:\n",
      "- Starting number:...[TRUNCATED]\n",
      "INFO (llm_agents_fs.TaskHandler) :      🧠 New Step: Please note that the current instruction is to keep making tool calls with `next_number` until we reach the number 1. The sequence so far ...[TRUNCATED]\n",
      "INFO (llm_agents_fs.TaskHandler) :      ⚙️ Processing Step: Please note that the current instruction is to keep making tool calls with `next_number` until we reach the number 1. The sequence...[TRUNCATED]\n",
      "INFO (llm_agents_fs.TaskHandler) :      🛠️ Executing Tool Call: next_number\n",
      "INFO (llm_agents_fs.TaskHandler) :      ✅ Successful Tool Call: 16\n",
      "INFO (llm_agents_fs.TaskHandler) :      ✅ Step Result: <tool_call>\n",
      "{\"name\": \"next_number\", \"arguments\": {\"x\":16}}\n",
      "</tool_call>\n",
      "INFO (llm_agents_fs.TaskHandler) :      🧠 New Step: Awaiting the result of the tool call for `next_number` with `x=16`. The final step will be to stop when we receive the number 1.\n",
      "INFO (llm_agents_fs.TaskHandler) :      ⚙️ Processing Step: Awaiting the result of the tool call for `next_number` with `x=16`. The final step will be to stop when we receive the number 1.\n",
      "INFO (llm_agents_fs.TaskHandler) :      🛠️ Executing Tool Call: next_number\n",
      "INFO (llm_agents_fs.TaskHandler) :      ✅ Successful Tool Call: 8\n",
      "INFO (llm_agents_fs.TaskHandler) :      ✅ Step Result: The tool call for `next_number` with `x=16` resulted in the number `8`.\n",
      "\n",
      "Here's what the sequence looks like so far:\n",
      "- Starting number:...[TRUNCATED]\n",
      "INFO (llm_agents_fs.TaskHandler) :      🧠 New Step: The current instruction is 'Awaiting the result of the tool call for `next_number` with `x=8`. The final step will be to stop when we rece...[TRUNCATED]\n",
      "INFO (llm_agents_fs.TaskHandler) :      ⚙️ Processing Step: The current instruction is 'Awaiting the result of the tool call for `next_number` with `x=8`. The final step will be to stop when...[TRUNCATED]\n",
      "INFO (llm_agents_fs.TaskHandler) :      🛠️ Executing Tool Call: next_number\n",
      "INFO (llm_agents_fs.TaskHandler) :      ✅ Successful Tool Call: 4\n",
      "INFO (llm_agents_fs.TaskHandler) :      ✅ Step Result: The tool call for `next_number` with `x=8` resulted in the number `4`.\n",
      "\n",
      "Here's what the sequence looks like so far:\n",
      "- Starting number: ...[TRUNCATED]\n",
      "INFO (llm_agents_fs.TaskHandler) :      🧠 New Step: Awaiting the result of the tool call for `next_number` with `x=4`. The final step will be to stop when we receive the number 1.\n",
      "INFO (llm_agents_fs.TaskHandler) :      ⚙️ Processing Step: Awaiting the result of the tool call for `next_number` with `x=4`. The final step will be to stop when we receive the number 1.\n",
      "INFO (llm_agents_fs.TaskHandler) :      🛠️ Executing Tool Call: next_number\n",
      "INFO (llm_agents_fs.TaskHandler) :      ✅ Successful Tool Call: 2\n",
      "INFO (llm_agents_fs.TaskHandler) :      ✅ Step Result: The tool call for `next_number` with `x=4` resulted in the number `2`.\n",
      "\n",
      "Here's what the sequence looks like so far:\n",
      "- Starting number: ...[TRUNCATED]\n",
      "INFO (llm_agents_fs.TaskHandler) :      🧠 New Step: The current instruction is to make the final tool call for `next_number` with `x=2`. This step should result in receiving the number 1.\n",
      "INFO (llm_agents_fs.TaskHandler) :      ⚙️ Processing Step: The current instruction is to make the final tool call for `next_number` with `x=2`. This step should result in receiving the numb...[TRUNCATED]\n",
      "INFO (llm_agents_fs.TaskHandler) :      🛠️ Executing Tool Call: next_number\n",
      "INFO (llm_agents_fs.TaskHandler) :      ✅ Successful Tool Call: 1\n",
      "INFO (llm_agents_fs.TaskHandler) :      ✅ Step Result: The tool call for `next_number` with `x=2` resulted in the number `1`.\n",
      "\n",
      "This is the final step. We have reached the number `1`. Therefo...[TRUNCATED]\n",
      "INFO (llm_agents_fs.TaskHandler) :      No new step required.\n",
      "INFO (llm_agents_fs.LLMAgent) :      🏁 Task completed: The complete sequence is: 11 → 34 → 17 → 52 → 26 → 13 → 5 → 16 → 8 → 4 → 2 → **1**. The process has now ended with reaching the numb...[TRUNCATED]\n"
     ]
    }
   ],
   "source": [
    "handlers = []\n",
    "for ex in benchmark:\n",
    "    h = llm_agent.run(\n",
    "        Task(\n",
    "            instruction=instruction_template.format(x=ex.number),\n",
    "        ),\n",
    "        max_steps=30,\n",
    "    )\n",
    "    handlers.append(h)"
   ]
  },
  {
   "cell_type": "code",
   "execution_count": 35,
   "id": "46def559-27e2-432a-acae-ba66fc6a7f1c",
   "metadata": {},
   "outputs": [
    {
     "data": {
      "text/plain": [
       "[True, True, True, True, True]"
      ]
     },
     "execution_count": 35,
     "metadata": {},
     "output_type": "execute_result"
    }
   ],
   "source": [
    "[h.done() for h in handlers]"
   ]
  },
  {
   "cell_type": "code",
   "execution_count": 36,
   "id": "a5525a24-88e2-458c-bbc0-29791573dedb",
   "metadata": {},
   "outputs": [
    {
     "data": {
      "text/plain": [
       "[TaskResult(task_id='2c92cdd1-1e3b-4fff-b7ba-f96e2de0dfa8', content='The complete sequence is: 11 → 34 → 17 → 52 → 26 → 13 → 5 → 16 → 8 → 4 → 2 → **1**. The process has now ended with reaching the number `1`.'),\n",
       " TaskResult(task_id='4eae7613-f35f-489f-96c0-cec014726bab', content='[13, 40, 20, 10]'),\n",
       " TaskResult(task_id='ff810336-5109-41e1-b164-fd4eae557a0e', content='The complete sequence generated from starting number 4 and ending with 1 is as follows: \\n\\n- Sequence: [4, 2, 1]'),\n",
       " TaskResult(task_id='8dae678b-5025-4d0a-bb14-785cb13f7179', content='3, 8, 4, 16, 8, 4'),\n",
       " TaskResult(task_id='c62f7636-2120-4344-89b3-860d285f3f12', content='[2, 1]')]"
      ]
     },
     "execution_count": 36,
     "metadata": {},
     "output_type": "execute_result"
    }
   ],
   "source": [
    "[h.exception() or h.result() for h in handlers]"
   ]
  },
  {
   "cell_type": "markdown",
   "id": "3cf086f9-e248-489a-80b8-07a62fd4a930",
   "metadata": {},
   "source": [
    "### Run Correctness Evaluation"
   ]
  },
  {
   "cell_type": "code",
   "execution_count": 38,
   "id": "788b730c-e134-4c2a-a1ed-2ae90f3c9f9a",
   "metadata": {},
   "outputs": [],
   "source": [
    "import asyncio"
   ]
  },
  {
   "cell_type": "code",
   "execution_count": 40,
   "id": "fdb4cf8c-f266-44d8-82cb-d44b73502d7e",
   "metadata": {},
   "outputs": [
    {
     "data": {
      "text/plain": [
       "[ResultCorrectnessEval(correct=True),\n",
       " ResultCorrectnessEval(correct=False),\n",
       " ResultCorrectnessEval(correct=True),\n",
       " ResultCorrectnessEval(correct=False),\n",
       " ResultCorrectnessEval(correct=True)]"
      ]
     },
     "execution_count": 40,
     "metadata": {},
     "output_type": "execute_result"
    }
   ],
   "source": [
    "eval_async_tasks = []\n",
    "for ex, handler in zip(benchmark, handlers, strict=False):\n",
    "    async_task = correctness_judge_llm.structured_output(\n",
    "        prompt=judge_prompt_template.format(\n",
    "            number=ex.number,\n",
    "            sequence=ex.sequence,\n",
    "            result=str(handler.exception() or handler.result()),\n",
    "        ),\n",
    "        mdl=ResultCorrectnessEval,\n",
    "    )\n",
    "    eval_async_tasks.append(async_task)\n",
    "\n",
    "correctness_evals = await asyncio.gather(*eval_async_tasks)\n",
    "correctness_evals"
   ]
  },
  {
   "cell_type": "markdown",
   "id": "b6beb0aa-c102-449b-8cfe-0db1b92100a8",
   "metadata": {},
   "source": [
    "### Run Trajectory Evaluation"
   ]
  },
  {
   "cell_type": "code",
   "execution_count": 42,
   "id": "f0918e59-5e78-4cf1-8516-6b51a948a1d7",
   "metadata": {},
   "outputs": [
    {
     "data": {
      "text/plain": [
       "[TrajectoryEval(reasoning=DimensionScore(score=4, justification=\"The assistant follows logical steps and makes sound decisions throughout the process. The sequence of calls to `next_number` is correctly applied, and the reasoning for each step is clear and consistent. However, there was a minor oversight in the final call where the instruction should have been `x=1`, not another round with x=2. This could be seen as an error, but since it does not significantly alter the outcome, it's scored at 4.\"), process=DimensionScore(score=5, justification='The assistant follows proper tool usage and protocols by consistently calling `next_number` with the correct value (`x`) for each step. The logic of the sequence is sound and maintains accuracy throughout the process. There were no protocol violations or misuse of tools.')),\n",
       " TrajectoryEval(reasoning=DimensionScore(score=3, justification=\"The assistant follows a clear and logical step-by-step process of making tool calls based on the given instruction. However, there are some inconsistencies in the provided sequence that make it difficult to follow the intended logic. The assistant continues with the sequence even though it doesn't align with the expected final result (reaching 1).\"), process=DimensionScore(score=4, justification='The assistant strictly adheres to the given instructions and warnings, making tool calls as required without fabricating any responses. However, there is an inconsistency in the sequence which may lead to incorrect interpretation of the results.')),\n",
       " TrajectoryEval(reasoning=DimensionScore(score=3, justification='The assistant followed logical steps and made sound decisions in generating the sequence. However, there are some minor procedural issues that could have been avoided or handled more efficiently. Specifically, calling `next_number` on a number already at 1 did not add any value to the process as it would return the same result (1) again. This redundancy was addressed, but still slightly unnecessary. The assistant correctly used the tool and followed all provided warnings.'), process=DimensionScore(score=4, justification='The assistant properly used the `next_number` tool in each step and waited for results before making the next call. Despite some procedural issues, such as calling `next_number` on a number already at 1, it didn’t significantly affect the overall process flow or result accuracy.')),\n",
       " TrajectoryEval(reasoning=DimensionScore(score=3, justification='The assistant follows logical steps by repeatedly calling the `next_number` tool with each new current number in the sequence. However, there are some issues that affect both Reasoning and Process scores. The main issue is that the assistant does not verify if it has reached the end of the sequence (number 1) or whether it should continue to reach a predefined length limit. It simply keeps calling the `next_number` tool indefinitely until an error is encountered, which results in premature termination. This could be seen as a logical flaw and also affects process because multiple calls are made unnecessarily before terminating.'), process=DimensionScore(score=2, justification='The assistant adheres to the warnings not to fabricate or simulate tool call results and to wait for actual responses from the `next_number` tool before deciding next steps. However, it violates these rules by making an arbitrary decision (reaching 16) without verifying if this is part of a predefined sequence length or stopping point.')),\n",
       " TrajectoryEval(reasoning=DimensionScore(score=3, justification=\"The assistant correctly follows logical steps in generating the sequence, but there are some procedural issues that slightly affect the score. They consistently call the `next_number` tool with each new number and wait for the result before proceeding. This is correct according to the instructions. However, they do not explicitly state the reasoning behind their decision to use a loop or the pattern of increasing numbers (2 → 1), which could have been avoided as it's part of the sequence itself.\"), process=DimensionScore(score=4, justification=\"The assistant follows the protocol by making single tool calls and waits for each call’s result before proceeding. The tool results are consistent with the instruction and do not fabricate or simulate responses. However, they don't follow the STOP AND WAIT directive perfectly; they make multiple tool calls without explicitly stating when to stop until they receive a 1 from the `next_number` function.\"))]"
      ]
     },
     "execution_count": 42,
     "metadata": {},
     "output_type": "execute_result"
    }
   ],
   "source": [
    "eval_async_tasks = []\n",
    "for ex, handler in zip(benchmark, handlers, strict=False):\n",
    "    async_task = trajectory_judge_llm.structured_output(\n",
    "        prompt=trajectory_judge_prompt_template.format(\n",
    "            instruction=instruction_template.format(x=ex.number),\n",
    "            sequence=ex.sequence,\n",
    "            trajectory=handler.rollout,\n",
    "        ),\n",
    "        mdl=TrajectoryEval,\n",
    "    )\n",
    "    eval_async_tasks.append(async_task)\n",
    "\n",
    "trajectory_evals = await asyncio.gather(*eval_async_tasks)\n",
    "trajectory_evals"
   ]
  },
  {
   "cell_type": "markdown",
   "id": "84998e96-8356-4559-a6ad-44f4bb6001cd",
   "metadata": {},
   "source": [
    "### Run Number Steps Evaluation"
   ]
  },
  {
   "cell_type": "code",
   "execution_count": 43,
   "id": "8e1aaef3-940c-494d-adec-9a8083a69b62",
   "metadata": {},
   "outputs": [
    {
     "data": {
      "text/plain": [
       "[1, -5, 1, -2, 3]"
      ]
     },
     "execution_count": 43,
     "metadata": {},
     "output_type": "execute_result"
    }
   ],
   "source": [
    "num_steps_diff = [\n",
    "    (h.step_counter - ex.min_steps)\n",
    "    for h, ex in zip(handlers, benchmark, strict=False)\n",
    "]\n",
    "num_steps_diff"
   ]
  },
  {
   "cell_type": "markdown",
   "id": "b7795ff7-a3c4-44cd-8767-52340e1bb9fd",
   "metadata": {},
   "source": [
    "### Create Eval summary report"
   ]
  },
  {
   "cell_type": "code",
   "execution_count": 47,
   "id": "cd61843d-c142-426a-b354-b81b5ba08b64",
   "metadata": {},
   "outputs": [],
   "source": [
    "!uv pip install pandas tabulate -q"
   ]
  },
  {
   "cell_type": "code",
   "execution_count": 44,
   "id": "4e4b6188-724b-49a2-b13b-f3cde43e5814",
   "metadata": {},
   "outputs": [],
   "source": [
    "import pandas as pd"
   ]
  },
  {
   "cell_type": "code",
   "execution_count": 45,
   "id": "2fb6f547-ea9d-4330-ae70-4e28e90eed9a",
   "metadata": {},
   "outputs": [
    {
     "data": {
      "text/html": [
       "<div>\n",
       "<style scoped>\n",
       "    .dataframe tbody tr th:only-of-type {\n",
       "        vertical-align: middle;\n",
       "    }\n",
       "\n",
       "    .dataframe tbody tr th {\n",
       "        vertical-align: top;\n",
       "    }\n",
       "\n",
       "    .dataframe thead th {\n",
       "        text-align: right;\n",
       "    }\n",
       "</style>\n",
       "<table border=\"1\" class=\"dataframe\">\n",
       "  <thead>\n",
       "    <tr style=\"text-align: right;\">\n",
       "      <th></th>\n",
       "      <th>result_correctness</th>\n",
       "      <th>number_steps_diff</th>\n",
       "      <th>trajectory_reasoning</th>\n",
       "      <th>trajectory_process</th>\n",
       "      <th>trajectory_overall</th>\n",
       "    </tr>\n",
       "  </thead>\n",
       "  <tbody>\n",
       "    <tr>\n",
       "      <th>0</th>\n",
       "      <td>1.0</td>\n",
       "      <td>1.0</td>\n",
       "      <td>4.0</td>\n",
       "      <td>5.0</td>\n",
       "      <td>4.5</td>\n",
       "    </tr>\n",
       "    <tr>\n",
       "      <th>1</th>\n",
       "      <td>0.0</td>\n",
       "      <td>-5.0</td>\n",
       "      <td>3.0</td>\n",
       "      <td>4.0</td>\n",
       "      <td>3.5</td>\n",
       "    </tr>\n",
       "    <tr>\n",
       "      <th>2</th>\n",
       "      <td>1.0</td>\n",
       "      <td>1.0</td>\n",
       "      <td>3.0</td>\n",
       "      <td>4.0</td>\n",
       "      <td>3.5</td>\n",
       "    </tr>\n",
       "    <tr>\n",
       "      <th>3</th>\n",
       "      <td>0.0</td>\n",
       "      <td>-2.0</td>\n",
       "      <td>3.0</td>\n",
       "      <td>2.0</td>\n",
       "      <td>2.5</td>\n",
       "    </tr>\n",
       "    <tr>\n",
       "      <th>4</th>\n",
       "      <td>1.0</td>\n",
       "      <td>3.0</td>\n",
       "      <td>3.0</td>\n",
       "      <td>4.0</td>\n",
       "      <td>3.5</td>\n",
       "    </tr>\n",
       "    <tr>\n",
       "      <th>Average</th>\n",
       "      <td>0.6</td>\n",
       "      <td>-0.4</td>\n",
       "      <td>3.2</td>\n",
       "      <td>3.8</td>\n",
       "      <td>3.5</td>\n",
       "    </tr>\n",
       "  </tbody>\n",
       "</table>\n",
       "</div>"
      ],
      "text/plain": [
       "         result_correctness  number_steps_diff  trajectory_reasoning  \\\n",
       "0                       1.0                1.0                   4.0   \n",
       "1                       0.0               -5.0                   3.0   \n",
       "2                       1.0                1.0                   3.0   \n",
       "3                       0.0               -2.0                   3.0   \n",
       "4                       1.0                3.0                   3.0   \n",
       "Average                 0.6               -0.4                   3.2   \n",
       "\n",
       "         trajectory_process  trajectory_overall  \n",
       "0                       5.0                 4.5  \n",
       "1                       4.0                 3.5  \n",
       "2                       4.0                 3.5  \n",
       "3                       2.0                 2.5  \n",
       "4                       4.0                 3.5  \n",
       "Average                 3.8                 3.5  "
      ]
     },
     "execution_count": 45,
     "metadata": {},
     "output_type": "execute_result"
    }
   ],
   "source": [
    "report = pd.DataFrame(\n",
    "    data={\n",
    "        \"result_correctness\": [int(el.correct) for el in correctness_evals],\n",
    "        \"number_steps_diff\": num_steps_diff,\n",
    "        \"trajectory_reasoning\": [e.reasoning.score for e in trajectory_evals],\n",
    "        \"trajectory_process\": [e.process.score for e in trajectory_evals],\n",
    "        \"trajectory_overall\": [\n",
    "            (e.reasoning.score + e.process.score) / 2 for e in trajectory_evals\n",
    "        ],\n",
    "    },\n",
    ")\n",
    "report.loc[\"Average\"] = report.mean().round(2)\n",
    "report"
   ]
  },
  {
   "cell_type": "markdown",
   "id": "11a91233-6361-4268-92de-f4e7a5b1780d",
   "metadata": {},
   "source": [
    "## Previous Benchmark Runs"
   ]
  },
  {
   "cell_type": "markdown",
   "id": "aea5a496-23a7-4ef3-8bbf-01cdfc60338a",
   "metadata": {},
   "source": [
    "### Qwen2.5-72b\n",
    "\n",
    "_Ran on 7xA40 with runpod_\n",
    "\n",
    "|         |   result_correctness |   number_steps_diff |   trajectory_reasoning |   trajectory_process |   trajectory_overall |\n",
    "|:--------|---------------------:|--------------------:|-----------------------:|---------------------:|---------------------:|\n",
    "| 0       |                    1 |                15   |                    4   |                  4   |                  4   |\n",
    "| 1       |                    1 |                10   |                    4   |                  5   |                  4.5 |\n",
    "| 2       |                    1 |                 1   |                    5   |                  5   |                  5   |\n",
    "| 3       |                    1 |                 4   |                    4   |                  5   |                  4.5 |\n",
    "| 4       |                    1 |                 1   |                    4   |                  5   |                  4.5 |\n",
    "| Average |                    1 |                 6.2 |                    4.2 |                  4.8 |                  4.5 |"
   ]
  },
  {
   "cell_type": "markdown",
   "id": "01b455e0-1ba1-4922-80a5-98afec8f9a82",
   "metadata": {},
   "source": [
    "### Qwen2.5-3b\n",
    "\n",
    "|         |   result_correctness |   number_steps_diff |   trajectory_reasoning |   trajectory_process |   trajectory_overall |\n",
    "|:--------|---------------------:|--------------------:|-----------------------:|---------------------:|---------------------:|\n",
    "| 0       |                  0   |                 -10 |                    3   |                  2   |                  2.5 |\n",
    "| 1       |                  0   |                  -6 |                    3   |                  4   |                  3.5 |\n",
    "| 2       |                  1   |                  -1 |                    2   |                  0   |                  1   |\n",
    "| 3       |                  1   |                   1 |                    4   |                  3   |                  3.5 |\n",
    "| 4       |                  0   |                   1 |                    2   |                  3   |                  2.5 |\n",
    "| Average |                  0.4 |                  -3 |                    2.8 |                  2.4 |                  2.6 |"
   ]
  }
 ],
 "metadata": {
  "kernelspec": {
   "display_name": "Python 3 (ipykernel)",
   "language": "python",
   "name": "python3"
  },
  "language_info": {
   "codemirror_mode": {
    "name": "ipython",
    "version": 3
   },
   "file_extension": ".py",
   "mimetype": "text/x-python",
   "name": "python",
   "nbconvert_exporter": "python",
   "pygments_lexer": "ipython3",
   "version": "3.13.5"
  }
 },
 "nbformat": 4,
 "nbformat_minor": 5
}

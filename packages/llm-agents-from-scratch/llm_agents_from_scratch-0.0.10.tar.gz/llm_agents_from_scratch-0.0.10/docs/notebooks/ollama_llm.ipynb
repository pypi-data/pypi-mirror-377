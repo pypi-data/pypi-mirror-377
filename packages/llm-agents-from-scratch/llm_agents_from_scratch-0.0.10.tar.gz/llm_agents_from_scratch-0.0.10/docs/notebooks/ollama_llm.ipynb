{
 "cells": [
  {
   "cell_type": "markdown",
   "id": "9be1b6cd-6b32-47b3-ab9d-37ea9f2d9e23",
   "metadata": {},
   "source": [
    "# Using `OllamaLLM`"
   ]
  },
  {
   "cell_type": "markdown",
   "id": "fa644c83-a2df-41c3-9722-c699d89dbb50",
   "metadata": {},
   "source": [
    "In this notebook, we show how to use the `OllamaLLM` class.\n",
    "\n",
    "__Requirements:__\n",
    "\n",
    "1. Have `ollama` installed (see instructions in the official [README](https://github.com/ollama/ollama))\n",
    "2. Ollama running in the background, via: `ollama serve`"
   ]
  },
  {
   "cell_type": "code",
   "execution_count": 1,
   "id": "811cb19f-7dd3-4aaa-b6af-638bd443cff2",
   "metadata": {},
   "outputs": [
    {
     "name": "stdout",
     "output_type": "stream",
     "text": [
      "\n",
      "\u001b[1m[\u001b[0m\u001b[34;49mnotice\u001b[0m\u001b[1;39;49m]\u001b[0m\u001b[39;49m A new release of pip is available: \u001b[0m\u001b[31;49m24.0\u001b[0m\u001b[39;49m -> \u001b[0m\u001b[32;49m25.1.1\u001b[0m\n",
      "\u001b[1m[\u001b[0m\u001b[34;49mnotice\u001b[0m\u001b[1;39;49m]\u001b[0m\u001b[39;49m To update, run: \u001b[0m\u001b[32;49mpip install --upgrade pip\u001b[0m\n"
     ]
    }
   ],
   "source": [
    "# install dependencies\n",
    "!pip install llm-agents-from-scratch -q"
   ]
  },
  {
   "cell_type": "markdown",
   "id": "af6c7d8e-d523-419a-9aad-32ffc07554f4",
   "metadata": {},
   "source": [
    "## Instantiating an `OllamaLLM` object\n",
    "\n",
    "To create an `OllamaLLM` object, simply pass in the name of the model you'd like to use. For the list of all models, see the official [docs](https://ollama.com/search)."
   ]
  },
  {
   "cell_type": "code",
   "execution_count": 1,
   "id": "1993b5be-ead6-4ffd-96ec-fbf254064eea",
   "metadata": {},
   "outputs": [],
   "source": [
    "from llm_agents_from_scratch.llms import OllamaLLM"
   ]
  },
  {
   "cell_type": "code",
   "execution_count": 2,
   "id": "6e300e09-e273-439e-af79-3b74d0423f3c",
   "metadata": {},
   "outputs": [],
   "source": [
    "llm = OllamaLLM(\n",
    "    model=\"llama3.2\",\n",
    ")"
   ]
  },
  {
   "cell_type": "markdown",
   "id": "c411926b-c4c9-4562-8b7b-8a45961d29e5",
   "metadata": {},
   "source": [
    "## Complete\n",
    "\n",
    "We use the `.complete()` method to perform text completion with our `OllamaLLM` object. "
   ]
  },
  {
   "cell_type": "code",
   "execution_count": 3,
   "id": "1826738b-06f6-406f-a292-f19b05798299",
   "metadata": {},
   "outputs": [],
   "source": [
    "response = await llm.complete(prompt=\"Tell me a joke.\")"
   ]
  },
  {
   "cell_type": "code",
   "execution_count": 4,
   "id": "a9a7f221-6ac2-4d86-b805-0a8ba1034647",
   "metadata": {},
   "outputs": [
    {
     "data": {
      "text/plain": [
       "llm_agents_from_scratch.data_structures.llm.CompleteResult"
      ]
     },
     "execution_count": 4,
     "metadata": {},
     "output_type": "execute_result"
    }
   ],
   "source": [
    "type(response)"
   ]
  },
  {
   "cell_type": "code",
   "execution_count": 5,
   "id": "2764770f-4505-4fe6-8e4d-d374e68e8875",
   "metadata": {},
   "outputs": [
    {
     "name": "stdout",
     "output_type": "stream",
     "text": [
      "Why don't eggs tell jokes?\n",
      "\n",
      "Because they'd crack each other up!\n"
     ]
    }
   ],
   "source": [
    "print(response.response)"
   ]
  },
  {
   "cell_type": "markdown",
   "id": "e296fe5c-7eb3-47c6-a652-fcc6bd686773",
   "metadata": {},
   "source": [
    "## Chat\n",
    "\n",
    "We use the `.chat()` method to chat with `OllamaLLM` object, using the chat API."
   ]
  },
  {
   "cell_type": "code",
   "execution_count": 6,
   "id": "2f20c99e-ff7b-4718-aae2-a6aa7d0ab9b4",
   "metadata": {},
   "outputs": [],
   "source": [
    "user_message, response_message = await llm.chat(\"Tell me a joke.\")"
   ]
  },
  {
   "cell_type": "code",
   "execution_count": 10,
   "id": "6ed2b650-8a63-4c59-b465-e6e2474ee0ca",
   "metadata": {},
   "outputs": [
    {
     "data": {
      "text/plain": [
       "llm_agents_from_scratch.data_structures.llm.ChatMessage"
      ]
     },
     "execution_count": 10,
     "metadata": {},
     "output_type": "execute_result"
    }
   ],
   "source": [
    "type(user_message)"
   ]
  },
  {
   "cell_type": "code",
   "execution_count": 12,
   "id": "5150aafa-f563-4c4d-b5b8-4d2f66ad795f",
   "metadata": {},
   "outputs": [
    {
     "name": "stdout",
     "output_type": "stream",
     "text": [
      "role=<ChatRole.USER: 'user'> content='Tell me a joke.' tool_calls=None\n"
     ]
    }
   ],
   "source": [
    "print(user_message)"
   ]
  },
  {
   "cell_type": "code",
   "execution_count": 11,
   "id": "787e522c-5697-439b-816c-8bf8fa89ee27",
   "metadata": {},
   "outputs": [
    {
     "data": {
      "text/plain": [
       "llm_agents_from_scratch.data_structures.llm.ChatMessage"
      ]
     },
     "execution_count": 11,
     "metadata": {},
     "output_type": "execute_result"
    }
   ],
   "source": [
    "type(response_message)"
   ]
  },
  {
   "cell_type": "code",
   "execution_count": 13,
   "id": "48a3193e-321c-4b1d-b184-7a007e3dd32e",
   "metadata": {},
   "outputs": [
    {
     "name": "stdout",
     "output_type": "stream",
     "text": [
      "Why couldn't the bicycle stand up by itself?\n",
      "\n",
      "Because it was two-tired! (get it?)\n"
     ]
    }
   ],
   "source": [
    "print(response_message.content)"
   ]
  },
  {
   "cell_type": "markdown",
   "id": "2af19a4d-2a5b-424b-b0fd-d7664535914f",
   "metadata": {},
   "source": [
    "## Structured Output\n",
    "\n",
    "We use the `.structured_output()` method to produce structured responses, represented as `~pydantic.BaseModel`, with our `OllamaLLM` object. Here, we'll ask it to produce a structured data class `Joke` that contains a `topic` and a `content` attribute."
   ]
  },
  {
   "cell_type": "code",
   "execution_count": 14,
   "id": "b88c8149-a3a2-43e4-9bb7-0ca0e65fcff9",
   "metadata": {},
   "outputs": [],
   "source": [
    "from pydantic import BaseModel, Field\n",
    "\n",
    "\n",
    "class Joke(BaseModel):\n",
    "    \"\"\"A structured representation of a joke.\"\"\"\n",
    "\n",
    "    topic: str = Field(description=\"Topic of the joke.\")\n",
    "    content: str = Field(description=\"Joke content.\")"
   ]
  },
  {
   "cell_type": "code",
   "execution_count": 15,
   "id": "051ad64d-d257-49ff-abb9-e83ac6102db9",
   "metadata": {},
   "outputs": [],
   "source": [
    "joke = await llm.structured_output(\n",
    "    prompt=\"Tell me a new joke about any topic you like.\",\n",
    "    mdl=Joke,\n",
    ")"
   ]
  },
  {
   "cell_type": "code",
   "execution_count": 16,
   "id": "ceb6db9e-5738-4d7f-893b-1d38da76dea5",
   "metadata": {},
   "outputs": [
    {
     "data": {
      "text/plain": [
       "Joke(topic='space', content='Why did the astronaut break up with his girlfriend?')"
      ]
     },
     "execution_count": 16,
     "metadata": {},
     "output_type": "execute_result"
    }
   ],
   "source": [
    "joke"
   ]
  },
  {
   "cell_type": "markdown",
   "id": "73083ffe-c3d0-4954-a0aa-f708c80a3f16",
   "metadata": {},
   "source": [
    "## Tool Calling\n",
    "\n",
    "In this section of the notebook, we demonstrate how to perform tool calls with an `OllamaLLM`. To do so, first we'll need to create some tools using the `llm-agents-from-scratch` library."
   ]
  },
  {
   "cell_type": "code",
   "execution_count": 17,
   "id": "1390fd69-79c5-4fbf-9945-118d7f7b0346",
   "metadata": {},
   "outputs": [],
   "source": [
    "from pydantic import BaseModel\n",
    "\n",
    "from llm_agents_from_scratch import (\n",
    "    PydanticFunctionTool,\n",
    ")"
   ]
  },
  {
   "cell_type": "code",
   "execution_count": 18,
   "id": "9a342458-bd6a-4d71-90d9-3dad8a23d747",
   "metadata": {},
   "outputs": [],
   "source": [
    "class AddOneParams(BaseModel):\n",
    "    \"\"\"Parameters for `add_one` tool.\"\"\"\n",
    "\n",
    "    x: float\n",
    "\n",
    "\n",
    "def add_one(params: AddOneParams) -> int:\n",
    "    \"\"\"Adds one to a given number.\"\"\"\n",
    "    return params.x + 1"
   ]
  },
  {
   "cell_type": "code",
   "execution_count": 19,
   "id": "b103ad2a-e56d-4e48-9972-1fa6cf9cb585",
   "metadata": {},
   "outputs": [],
   "source": [
    "add_one_tool = PydanticFunctionTool(func=add_one)"
   ]
  },
  {
   "cell_type": "markdown",
   "id": "3922cb8e-50eb-450b-b27e-8ec76c09cafd",
   "metadata": {},
   "source": [
    "The `parameters_json_schema` of a `BaseTool` object, shows how the tool's parameters will be passed to the LLM."
   ]
  },
  {
   "cell_type": "code",
   "execution_count": 20,
   "id": "9523f0e3-6c70-417f-80c9-dd80a4b344b2",
   "metadata": {},
   "outputs": [
    {
     "data": {
      "text/plain": [
       "{'description': 'Parameters for `add_one` tool.',\n",
       " 'properties': {'x': {'title': 'X', 'type': 'number'}},\n",
       " 'required': ['x'],\n",
       " 'title': 'AddOneParams',\n",
       " 'type': 'object'}"
      ]
     },
     "execution_count": 20,
     "metadata": {},
     "output_type": "execute_result"
    }
   ],
   "source": [
    "add_one_tool.parameters_json_schema"
   ]
  },
  {
   "cell_type": "markdown",
   "id": "2fc72e74-0da2-4442-b7bd-7cf6498babe6",
   "metadata": {},
   "source": [
    "### Testing the tool\n",
    "\n",
    "NOTE: this is a direct invocation of the tool, without any LLM invocation. A `ToolCall` is how he bundle the the parameters that should be passed to the tool. The `ToolCall` object is also the parameter used in the `__call__` method for all `BaseTool` types."
   ]
  },
  {
   "cell_type": "code",
   "execution_count": 21,
   "id": "fb5173f4-c014-4d9c-91b6-85dd8a4cb33f",
   "metadata": {},
   "outputs": [],
   "source": [
    "from llm_agents_from_scratch.data_structures.tool import ToolCall"
   ]
  },
  {
   "cell_type": "code",
   "execution_count": 22,
   "id": "e5a45a3c-4406-4957-905a-d013e3c89f92",
   "metadata": {},
   "outputs": [
    {
     "data": {
      "text/plain": [
       "ToolCallResult(tool_call=ToolCall(tool_name='add_one', arguments={'x': 3.15}), content='4.15', error=False)"
      ]
     },
     "execution_count": 22,
     "metadata": {},
     "output_type": "execute_result"
    }
   ],
   "source": [
    "# add one\n",
    "tool_call = ToolCall(\n",
    "    tool_name=add_one_tool.name,\n",
    "    arguments={\"x\": 3.15},\n",
    ")\n",
    "\n",
    "# invoke the __call__ method\n",
    "add_one_tool(tool_call)"
   ]
  },
  {
   "cell_type": "code",
   "execution_count": 23,
   "id": "888c7c53-ac86-4fac-bd8f-0b9fd8bbd1dc",
   "metadata": {},
   "outputs": [
    {
     "data": {
      "text/plain": [
       "ToolCallResult(tool_call=ToolCall(tool_name='add_one', arguments={'x': 3.15}), content='4.15', error=False)"
      ]
     },
     "execution_count": 23,
     "metadata": {},
     "output_type": "execute_result"
    }
   ],
   "source": [
    "# add one\n",
    "tool_call = ToolCall(\n",
    "    tool_name=add_one_tool.name,\n",
    "    arguments={\"x\": 3.15},\n",
    ")\n",
    "add_one_tool(tool_call)"
   ]
  },
  {
   "cell_type": "markdown",
   "id": "0f05bcfe-5a4c-4d01-b15b-61a5fcb5e1de",
   "metadata": {},
   "source": [
    "### Get `OllamaLLM` to use the tool"
   ]
  },
  {
   "cell_type": "code",
   "execution_count": 24,
   "id": "f800390e-881f-4615-b948-533f0dc73d3e",
   "metadata": {},
   "outputs": [],
   "source": []
  },
  {
   "cell_type": "code",
   "execution_count": 25,
   "id": "ef99d735-dfc9-410e-a5c3-ccaba87f1d1b",
   "metadata": {},
   "outputs": [],
   "source": [
    "user_message, response_message = await llm.chat(\n",
    "    input=\"Add one to fifty-five point three. Use only the appropriate tools!\",\n",
    "    tools=[add_one_tool],\n",
    ")"
   ]
  },
  {
   "cell_type": "markdown",
   "id": "88343975-2250-4772-b656-07528cac095e",
   "metadata": {},
   "source": [
    "We can see that the LLM is requesting for a tool call for `add_one`."
   ]
  },
  {
   "cell_type": "code",
   "execution_count": 26,
   "id": "86553462-ed10-4879-b9d4-db9fa6971b90",
   "metadata": {},
   "outputs": [
    {
     "data": {
      "text/plain": [
       "ChatMessage(role=<ChatRole.ASSISTANT: 'assistant'>, content='', tool_calls=[ToolCall(tool_name='add_one', arguments={'x': 55.3})])"
      ]
     },
     "execution_count": 26,
     "metadata": {},
     "output_type": "execute_result"
    }
   ],
   "source": [
    "response_message"
   ]
  },
  {
   "cell_type": "markdown",
   "id": "c938aeb3-4cb7-42dc-87f4-3ab1718082c4",
   "metadata": {},
   "source": [
    "In the LLM agent processing cycle, we would next perform the tool call, and pass the result back to the LLM."
   ]
  },
  {
   "cell_type": "code",
   "execution_count": 30,
   "id": "137ce3aa-47e6-45f0-b526-b60944ec67d8",
   "metadata": {},
   "outputs": [],
   "source": [
    "(\n",
    "    tool_messages,\n",
    "    response_message,\n",
    ") = await llm.continue_chat_with_tool_results(\n",
    "    tool_call_results=[\n",
    "        add_one_tool(\n",
    "            response_message.tool_calls[0],\n",
    "        ),  # returns a ToolCallResult\n",
    "    ],\n",
    "    chat_history=[\n",
    "        user_message,\n",
    "        response_message,\n",
    "    ],\n",
    ")"
   ]
  },
  {
   "cell_type": "code",
   "execution_count": 31,
   "id": "0754eb48-3dc6-4d70-a97a-c2c96edfd8de",
   "metadata": {},
   "outputs": [
    {
     "data": {
      "text/plain": [
       "[ChatMessage(role=<ChatRole.TOOL: 'tool'>, content='{\\n    \"tool_call\": {\\n        \"tool_name\": \"add_one\",\\n        \"arguments\": {\\n            \"x\": 55.3\\n        }\\n    },\\n    \"content\": \"56.3\",\\n    \"error\": false\\n}', tool_calls=None)]"
      ]
     },
     "execution_count": 31,
     "metadata": {},
     "output_type": "execute_result"
    }
   ],
   "source": [
    "tool_messages"
   ]
  },
  {
   "cell_type": "code",
   "execution_count": 32,
   "id": "a1ec8f38-c2cf-4c2b-8afd-c76facf752b8",
   "metadata": {},
   "outputs": [
    {
     "name": "stdout",
     "output_type": "stream",
     "text": [
      "{\n",
      "    \"tool_call\": {\n",
      "        \"tool_name\": \"add_one\",\n",
      "        \"arguments\": {\n",
      "            \"x\": 55.3\n",
      "        }\n",
      "    },\n",
      "    \"content\": \"56.3\",\n",
      "    \"error\": false\n",
      "}\n"
     ]
    }
   ],
   "source": [
    "print(tool_messages[0].content)"
   ]
  },
  {
   "cell_type": "code",
   "execution_count": 33,
   "id": "2b57fde4-ac15-41cc-bc8d-16082ba3ad8d",
   "metadata": {},
   "outputs": [
    {
     "data": {
      "text/plain": [
       "ChatMessage(role=<ChatRole.ASSISTANT: 'assistant'>, content='I used the `add_one` tool to add one to 55.3, resulting in 56.3.', tool_calls=None)"
      ]
     },
     "execution_count": 33,
     "metadata": {},
     "output_type": "execute_result"
    }
   ],
   "source": [
    "response_message"
   ]
  },
  {
   "cell_type": "code",
   "execution_count": 34,
   "id": "4fa0f3a8-d15f-4f90-97b1-4ab576ea29e1",
   "metadata": {},
   "outputs": [
    {
     "name": "stdout",
     "output_type": "stream",
     "text": [
      "I used the `add_one` tool to add one to 55.3, resulting in 56.3.\n"
     ]
    }
   ],
   "source": [
    "print(response_message.content)"
   ]
  }
 ],
 "metadata": {
  "kernelspec": {
   "display_name": "Python 3 (ipykernel)",
   "language": "python",
   "name": "python3"
  },
  "language_info": {
   "codemirror_mode": {
    "name": "ipython",
    "version": 3
   },
   "file_extension": ".py",
   "mimetype": "text/x-python",
   "name": "python",
   "nbconvert_exporter": "python",
   "pygments_lexer": "ipython3",
   "version": "3.13.5"
  }
 },
 "nbformat": 4,
 "nbformat_minor": 5
}

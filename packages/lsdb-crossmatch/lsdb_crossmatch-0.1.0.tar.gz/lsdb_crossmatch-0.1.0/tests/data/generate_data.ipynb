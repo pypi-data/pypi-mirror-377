{
 "cells": [
  {
   "cell_type": "markdown",
   "id": "6b9b39b5",
   "metadata": {},
   "source": [
    "## Generate data"
   ]
  },
  {
   "cell_type": "code",
   "execution_count": null,
   "id": "f850dffe",
   "metadata": {},
   "outputs": [],
   "source": [
    "import lsdb\n",
    "import pandas as pd\n",
    "import numpy as np\n",
    "\n",
    "from astropy.coordinates import SkyCoord"
   ]
  },
  {
   "cell_type": "markdown",
   "id": "4c330846",
   "metadata": {},
   "source": [
    "#### Delve"
   ]
  },
  {
   "cell_type": "code",
   "execution_count": null,
   "id": "47931d45",
   "metadata": {},
   "outputs": [],
   "source": [
    "full_delve = lsdb.read_hats(\n",
    "    \"https://data.lsdb.io/hats/delve_dr2\",\n",
    "    columns=[\n",
    "        \"QUICK_OBJECT_ID\",\n",
    "        \"RA\",\n",
    "        \"DEC\",\n",
    "        \"MAG_PSF_G\",\n",
    "        \"MAG_PSF_R\",\n",
    "        \"MAG_PSF_I\",\n",
    "        \"MAG_PSF_Z\",\n",
    "        \"MAGERR_PSF_G\",\n",
    "        \"MAGERR_PSF_R\",\n",
    "        \"MAGERR_PSF_I\",\n",
    "        \"MAGERR_PSF_Z\",\n",
    "    ],\n",
    ")"
   ]
  },
  {
   "cell_type": "code",
   "execution_count": null,
   "id": "95fe1e5f",
   "metadata": {},
   "outputs": [],
   "source": [
    "full_delve.plot_pixels()"
   ]
  },
  {
   "cell_type": "code",
   "execution_count": null,
   "id": "6608fc3f",
   "metadata": {},
   "outputs": [],
   "source": [
    "full_delve.all_columns"
   ]
  },
  {
   "cell_type": "code",
   "execution_count": null,
   "id": "9e2cd312",
   "metadata": {},
   "outputs": [],
   "source": [
    "cone_delve = full_delve.cone_search(ra=8.8567, dec=11.8167, radius_arcsec=25 * 60)\n",
    "small_cone_delve = cone_delve.cone_search(ra=8.8567, dec=11.8167, radius_arcsec=100, fine=True)"
   ]
  },
  {
   "cell_type": "code",
   "execution_count": null,
   "id": "0655f7f2",
   "metadata": {},
   "outputs": [],
   "source": [
    "cone_delve.plot_pixels()"
   ]
  },
  {
   "cell_type": "code",
   "execution_count": null,
   "id": "2b5d731f",
   "metadata": {},
   "outputs": [],
   "source": [
    "cone_delve.to_hats(\"m67/delve_cone\", overwrite=True)\n",
    "small_cone_delve.to_hats(\"m67/delve_cone_small\", overwrite=True)"
   ]
  },
  {
   "cell_type": "markdown",
   "id": "43c2fd6b",
   "metadata": {},
   "source": [
    "#### PS1"
   ]
  },
  {
   "cell_type": "code",
   "execution_count": null,
   "id": "40016e6d",
   "metadata": {},
   "outputs": [],
   "source": [
    "full_ps1 = lsdb.read_hats(\n",
    "    \"s3://stpubdata/panstarrs/ps1/public/hats/otmo\",\n",
    "    margin_cache=\"s3://stpubdata/panstarrs/ps1/public/hats/otmo_10arcs\",\n",
    "    columns=[\n",
    "        \"objName\",\n",
    "        \"objID\",\n",
    "        \"surveyID\",\n",
    "        \"qualityFlag\",\n",
    "        \"raMean\",\n",
    "        \"decMean\",\n",
    "        \"raMeanErr\",\n",
    "        \"decMeanErr\",\n",
    "        \"pmra\",\n",
    "        \"pmdec\",\n",
    "        \"pmraErr\",\n",
    "        \"pmdecErr\",\n",
    "        \"epochMean\",\n",
    "        \"gMeanPSFMag\",\n",
    "        \"gMeanPSFMagErr\",\n",
    "        \"gMeanPSFMagStd\",\n",
    "        \"gMeanPSFMagNpt\",\n",
    "        \"gMeanPSFMagMin\",\n",
    "        \"gMeanPSFMagMax\",\n",
    "        \"gFlags\",\n",
    "        \"rMeanPSFMag\",\n",
    "        \"rMeanPSFMagErr\",\n",
    "        \"rMeanPSFMagStd\",\n",
    "        \"rMeanPSFMagNpt\",\n",
    "        \"rMeanPSFMagMin\",\n",
    "        \"rMeanPSFMagMax\",\n",
    "        \"rFlags\",\n",
    "        \"iMeanPSFMag\",\n",
    "        \"iMeanPSFMagErr\",\n",
    "        \"iMeanPSFMagStd\",\n",
    "        \"iMeanPSFMagNpt\",\n",
    "        \"iMeanPSFMagMin\",\n",
    "        \"iMeanPSFMagMax\",\n",
    "        \"iFlags\",\n",
    "        \"zMeanPSFMag\",\n",
    "        \"zMeanPSFMagErr\",\n",
    "        \"zMeanPSFMagStd\",\n",
    "        \"zMeanPSFMagNpt\",\n",
    "        \"zMeanPSFMagMin\",\n",
    "        \"zMeanPSFMagMax\",\n",
    "        \"zFlags\",\n",
    "        \"yMeanPSFMag\",\n",
    "        \"yMeanPSFMagErr\",\n",
    "        \"yMeanPSFMagStd\",\n",
    "        \"yMeanPSFMagNpt\",\n",
    "        \"yMeanPSFMagMin\",\n",
    "        \"yMeanPSFMagMax\",\n",
    "        \"yFlags\",\n",
    "    ],\n",
    ")"
   ]
  },
  {
   "cell_type": "code",
   "execution_count": null,
   "id": "cb239cfb",
   "metadata": {},
   "outputs": [],
   "source": [
    "full_ps1.plot_pixels()"
   ]
  },
  {
   "cell_type": "code",
   "execution_count": null,
   "id": "6055e6de",
   "metadata": {},
   "outputs": [],
   "source": [
    "full_ps1.hc_structure.catalog_info"
   ]
  },
  {
   "cell_type": "code",
   "execution_count": null,
   "id": "08a74b5d",
   "metadata": {},
   "outputs": [],
   "source": [
    "cone_ps1 = full_ps1.cone_search(ra=8.8567, dec=11.8167, radius_arcsec=25 * 60, fine=True)\n",
    "small_cone_ps1 = cone_ps1.cone_search(ra=8.8567, dec=11.8167, radius_arcsec=100, fine=True)"
   ]
  },
  {
   "cell_type": "code",
   "execution_count": null,
   "id": "94d9db03",
   "metadata": {},
   "outputs": [],
   "source": [
    "cone_ps1.plot_pixels()"
   ]
  },
  {
   "cell_type": "code",
   "execution_count": null,
   "id": "2e8db5f9",
   "metadata": {},
   "outputs": [],
   "source": [
    "cone_ps1.to_hats(\"m67/ps1_cone\")\n",
    "small_cone_ps1.to_hats(\"m67/ps1_cone_small\")"
   ]
  },
  {
   "cell_type": "markdown",
   "id": "2bdb2daa",
   "metadata": {},
   "source": [
    "### Crossmatch results"
   ]
  },
  {
   "cell_type": "code",
   "execution_count": null,
   "id": "24752342",
   "metadata": {},
   "outputs": [],
   "source": [
    "small_cone_ps1 = lsdb.open_catalog(\"m67/ps1_cone_small\")\n",
    "small_cone_ps1_df = small_cone_ps1.compute()"
   ]
  },
  {
   "cell_type": "code",
   "execution_count": null,
   "id": "992d3c1d",
   "metadata": {},
   "outputs": [],
   "source": [
    "small_cone_delve = lsdb.open_catalog(\"m67/delve_cone_small\")\n",
    "small_cone_delve_df = small_cone_delve.compute()"
   ]
  },
  {
   "cell_type": "code",
   "execution_count": null,
   "id": "9d02e5e2",
   "metadata": {},
   "outputs": [],
   "source": [
    "xmatch_radius = 3600\n",
    "\n",
    "xmatches = {\"id_ps1\": [], \"id_delve\": [], \"_dist_arcsec\": [], \"_mag_diff\": []}\n",
    "\n",
    "for index, row in small_cone_ps1_df.iterrows():\n",
    "    matches = []\n",
    "\n",
    "    # Calculate separation for each pair of objects\n",
    "    coords_ps1 = SkyCoord(row[\"raMean\"], row[\"decMean\"], unit=\"deg\")\n",
    "    delve_ra = small_cone_delve_df[\"RA\"].values\n",
    "    delve_dec = small_cone_delve_df[\"DEC\"].values\n",
    "    coords_delve = SkyCoord(ra=delve_ra, dec=delve_dec, unit=\"deg\")\n",
    "    dists_arcsec = coords_ps1.separation(coords_delve).arcsec\n",
    "\n",
    "    # Calculate magnitude difference for each object on the right\n",
    "    mag_diffs = np.abs(small_cone_delve_df[\"MAG_PSF_R\"].values - row[\"rMeanPSFMag\"])\n",
    "\n",
    "    # Keep only those within the crossmatching radius\n",
    "    matches = list(zip(small_cone_delve_df[\"QUICK_OBJECT_ID\"].values, dists_arcsec, mag_diffs))\n",
    "    matches = [m for m in matches if m[1] < xmatch_radius]\n",
    "\n",
    "    # Select the match with closest magnitude\n",
    "    sorted_matches = sorted(matches, key=lambda x: (x[1], x[2]))\n",
    "    best_match = sorted_matches[0] if sorted_matches else None\n",
    "    if best_match is None:\n",
    "        continue\n",
    "\n",
    "    # Append results to create final DataFrame\n",
    "    xmatches[\"id_ps1\"].append(row[\"objID\"])\n",
    "    xmatches[\"id_delve\"].append(best_match[0])\n",
    "    xmatches[\"_dist_arcsec\"].append(best_match[1])\n",
    "    xmatches[\"_mag_diff\"].append(best_match[2])\n",
    "\n",
    "pd.DataFrame.from_dict(xmatches).to_csv(\"expected_results/xmatch_mags_rband.csv\")"
   ]
  }
 ],
 "metadata": {
  "kernelspec": {
   "display_name": "lsdb",
   "language": "python",
   "name": "python3"
  },
  "language_info": {
   "codemirror_mode": {
    "name": "ipython",
    "version": 3
   },
   "file_extension": ".py",
   "mimetype": "text/x-python",
   "name": "python",
   "nbconvert_exporter": "python",
   "pygments_lexer": "ipython3",
   "version": "3.11.11"
  }
 },
 "nbformat": 4,
 "nbformat_minor": 5
}

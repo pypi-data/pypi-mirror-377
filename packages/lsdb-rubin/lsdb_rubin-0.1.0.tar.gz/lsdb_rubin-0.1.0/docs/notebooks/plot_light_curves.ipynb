{
 "cells": [
  {
   "cell_type": "markdown",
   "id": "52152ad4",
   "metadata": {},
   "source": [
    "# Plotting light curves\n",
    "\n",
    "LSST light curves can be tricky to plot, so we've provided an easy method for a single light curve.\n",
    "\n",
    "If you'd like to do anything more complicated, like multiple light curves on a single grid, you should consider your own plotting methods.\n",
    "\n",
    "By default, our methods use the [Rubin-recommended palattes](https://rtn-045.lsst.io/#colorblind-friendly-plots), which try to make the plots colorblind-friendly."
   ]
  },
  {
   "cell_type": "markdown",
   "id": "a5de1e0f",
   "metadata": {},
   "source": [
    "## Fetch some catalog data\n",
    "\n",
    "We will use mock DP1 data. This data has been fuzzed to show the general structure of a HATS DP1 catalog, without exposing protected Rubin data.\n",
    "\n",
    "Note that we have two different light curves on the `diaObject` table: `diaSource` and `diaObjectForcedSource`. You should consider which is more appropriate for your science use case."
   ]
  },
  {
   "cell_type": "code",
   "execution_count": null,
   "id": "19b3cf04",
   "metadata": {},
   "outputs": [],
   "source": [
    "import lsdb\n",
    "from lsdb_rubin.plot_light_curve import plot_light_curve"
   ]
  },
  {
   "cell_type": "code",
   "execution_count": null,
   "id": "d2b518fc",
   "metadata": {},
   "outputs": [],
   "source": [
    "dia_object = lsdb.open_catalog(\"../../tests/data/mock_dp1_1000\")\n",
    "dia_object = dia_object.compute()\n",
    "dia_object"
   ]
  },
  {
   "cell_type": "markdown",
   "id": "1536ac2e",
   "metadata": {},
   "source": [
    "## Basic usage\n",
    "\n",
    "You MUST provide a single light curve as the first argument. This is the entire contents of the lightcurve nested data frame.\n",
    "\n",
    "This is the only required argument, however, and we will use the `psfMag` column by default. "
   ]
  },
  {
   "cell_type": "code",
   "execution_count": null,
   "id": "205792ba",
   "metadata": {},
   "outputs": [],
   "source": [
    "plot_light_curve(dia_object.iloc[0][\"diaObjectForcedSource\"])"
   ]
  },
  {
   "cell_type": "markdown",
   "id": "612f351f",
   "metadata": {},
   "source": [
    "## Using a different brightness\n",
    "\n",
    "You can use either a magnitude or flux column. Straight from the Rubin Butler, you will only have flux, but the HATS pipeline adds magnitudes (and magnitude errors) from flux (and flux error) columns.\n",
    "\n",
    "If you set a flux column, the y-axis will be un-inverted."
   ]
  },
  {
   "cell_type": "code",
   "execution_count": null,
   "id": "26e65df7",
   "metadata": {},
   "outputs": [],
   "source": [
    "plot_light_curve(dia_object.iloc[0][\"diaSource\"], mag_field=\"scienceMag\")"
   ]
  },
  {
   "cell_type": "code",
   "execution_count": null,
   "id": "7b630cdd",
   "metadata": {},
   "outputs": [],
   "source": [
    "plot_light_curve(dia_object.iloc[0][\"diaSource\"], flux_field=\"scienceFlux\")"
   ]
  },
  {
   "cell_type": "markdown",
   "id": "534d105a",
   "metadata": {},
   "source": [
    "## Phase-folded light curves\n",
    "\n",
    "Our example light curves are not pretty, but we can show them phase-folded by simply providing a `period` argument, in days. This will fold the light curve according to the provided period, and the x-axis reflects the phase in the period."
   ]
  },
  {
   "cell_type": "code",
   "execution_count": null,
   "id": "2ad8cb3a",
   "metadata": {},
   "outputs": [],
   "source": [
    "plot_light_curve(dia_object.iloc[0][\"diaSource\"], period=1.2)"
   ]
  },
  {
   "cell_type": "code",
   "execution_count": null,
   "id": "64372b15",
   "metadata": {},
   "outputs": [],
   "source": [
    "plot_light_curve(dia_object.iloc[0][\"diaSource\"], period=1.2, num_periods=3, period_mjd0=60640.4)"
   ]
  },
  {
   "cell_type": "markdown",
   "id": "9eac9f7c",
   "metadata": {},
   "source": [
    "## Incomplete band data\n",
    "\n",
    "If you are missing data in one or more bands, those will not appear in the legend. The following light curve doesn't have any `r`-band observations."
   ]
  },
  {
   "cell_type": "code",
   "execution_count": null,
   "id": "796aa5aa",
   "metadata": {},
   "outputs": [],
   "source": [
    "missing_r = dia_object.query(\"diaObjectId == 4670308463850921897\")\n",
    "plot_light_curve(missing_r.iloc[0][\"diaObjectForcedSource\"])"
   ]
  },
  {
   "cell_type": "markdown",
   "id": "8ed954a0",
   "metadata": {},
   "source": [
    "## Customizing appearance\n",
    "\n",
    "While we use the default Rubin color-blind friendly palatte, that might not work for you for whatever reason. For visual aspects of the plot that will vary by band, you can pass in a dictionary that maps the band string to the desired value.\n",
    "\n",
    "- `filter_colors`\n",
    "- `filter_symbols`\n",
    "- `filter_linestyles`\n",
    "\n",
    "The first example uses a built-in color palatte, while the second example defines a new map."
   ]
  },
  {
   "cell_type": "code",
   "execution_count": null,
   "id": "1fb49f3e",
   "metadata": {},
   "outputs": [],
   "source": [
    "from lsdb_rubin.plot_light_curve import plot_filter_colors_rainbow, plot_linestyles, plot_linestyles_none\n",
    "\n",
    "plot_light_curve(\n",
    "    dia_object.iloc[0][\"diaSource\"],\n",
    "    filter_colors=plot_filter_colors_rainbow,\n",
    "    filter_linestyles=plot_linestyles,\n",
    ")"
   ]
  },
  {
   "cell_type": "code",
   "execution_count": null,
   "id": "1acf6c3f",
   "metadata": {},
   "outputs": [],
   "source": [
    "color_map = {\n",
    "    \"y\": \"#0c71ff\",  # Blue\n",
    "    \"z\": \"#49be61\",  # Green\n",
    "    \"i\": \"#ff0000\",  # Red\n",
    "    \"r\": \"#ffc200\",  # Orange/Yellow\n",
    "    \"g\": \"#f341a2\",  # Pink/Magenta\n",
    "    \"u\": \"#990099\",  # Purple\n",
    "}\n",
    "plot_light_curve(dia_object.iloc[0][\"diaSource\"], filter_colors=color_map)"
   ]
  },
  {
   "cell_type": "markdown",
   "id": "d4b89634",
   "metadata": {},
   "source": [
    "You can also override a single value of the existing by-filter maps. In this case, we're adding a line only in the `r` band."
   ]
  },
  {
   "cell_type": "code",
   "execution_count": null,
   "id": "067a5309",
   "metadata": {},
   "outputs": [],
   "source": [
    "plot_light_curve(dia_object.iloc[0][\"diaSource\"], filter_linestyles=plot_linestyles_none | {\"r\": \"--\"})"
   ]
  },
  {
   "cell_type": "markdown",
   "id": "79af6ca3",
   "metadata": {},
   "source": [
    "## About\n",
    "\n",
    "**Authors**: Melissa DeLucchi\n",
    "\n",
    "Last updated on: Aug 12, 2025\n",
    "\n",
    "If you use `lsdb` for published research, please cite following the [instructions here](https://docs.lsdb.io/en/stable/citation.html)."
   ]
  }
 ],
 "metadata": {
  "kernelspec": {
   "display_name": "july",
   "language": "python",
   "name": "python3"
  },
  "language_info": {
   "codemirror_mode": {
    "name": "ipython",
    "version": 3
   },
   "file_extension": ".py",
   "mimetype": "text/x-python",
   "name": "python",
   "nbconvert_exporter": "python",
   "pygments_lexer": "ipython3",
   "version": "3.12.3"
  }
 },
 "nbformat": 4,
 "nbformat_minor": 5
}

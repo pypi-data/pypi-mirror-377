{
 "cells": [
  {
   "cell_type": "markdown",
   "id": "ddf1a606",
   "metadata": {},
   "source": [
    "# Tract-Patch Search"
   ]
  },
  {
   "cell_type": "code",
   "execution_count": null,
   "id": "60c77382",
   "metadata": {},
   "outputs": [],
   "source": [
    "from dask.distributed import Client\n",
    "import lsdb\n",
    "import skymap_convert\n",
    "from lsdb_rubin import tract_patch_search"
   ]
  },
  {
   "cell_type": "code",
   "execution_count": null,
   "id": "c042a7e1",
   "metadata": {},
   "outputs": [],
   "source": [
    "client = Client(n_workers=4, memory_limit=\"auto\")\n",
    "client"
   ]
  },
  {
   "cell_type": "markdown",
   "id": "27d5ca08",
   "metadata": {},
   "source": [
    "## Load GAIA and the LSST skymap"
   ]
  },
  {
   "cell_type": "code",
   "execution_count": null,
   "id": "1d8192f6",
   "metadata": {},
   "outputs": [],
   "source": [
    "# Load GAIA DR3 data.\n",
    "\n",
    "gaia = lsdb.read_hats(\n",
    "    \"https://data.lsdb.io/hats/gaia_dr3/gaia\",\n",
    "    margin_cache=\"https://data.lsdb.io/hats/gaia_dr3/gaia_10arcs\",\n",
    "    columns=[\"ra\", \"dec\", \"source_id\"],\n",
    ")\n",
    "gaia"
   ]
  },
  {
   "cell_type": "code",
   "execution_count": null,
   "id": "857f3535",
   "metadata": {},
   "outputs": [],
   "source": [
    "# Load the LSST skymap.\n",
    "\n",
    "import skymap_convert\n",
    "\n",
    "lsst_skymap = skymap_convert.ConvertedSkymapReader(preset=\"lsst_skymap\")"
   ]
  },
  {
   "cell_type": "markdown",
   "id": "e68839f6",
   "metadata": {},
   "source": [
    "## Search by tract ID"
   ]
  },
  {
   "cell_type": "code",
   "execution_count": null,
   "id": "4ae3dcb6",
   "metadata": {},
   "outputs": [],
   "source": [
    "tract_index = 10_000"
   ]
  },
  {
   "cell_type": "code",
   "execution_count": null,
   "id": "c06826c7",
   "metadata": {},
   "outputs": [],
   "source": [
    "# Only specify the tract (and not patch) to search by tract.\n",
    "\n",
    "lsdb.catalog.Catalog.tract_patch_search = tract_patch_search\n",
    "\n",
    "gaia_tract = gaia.tract_patch_search(skymap_reader=lsst_skymap, tract=tract_index)\n",
    "gaia_tract"
   ]
  },
  {
   "cell_type": "code",
   "execution_count": null,
   "id": "dc2fb6a5",
   "metadata": {},
   "outputs": [],
   "source": [
    "gaia_tract.plot_pixels(\n",
    "    plot_title=\"Gaia DR3 Tract Search\",\n",
    "    fc=\"#00000000\",\n",
    "    ec=\"red\",\n",
    "    alpha=0.5,\n",
    ")"
   ]
  },
  {
   "cell_type": "markdown",
   "id": "734b21fc",
   "metadata": {},
   "source": [
    "### Plot the points within our tract search"
   ]
  },
  {
   "cell_type": "code",
   "execution_count": null,
   "id": "f0393287",
   "metadata": {},
   "outputs": [],
   "source": [
    "df = gaia_tract.compute()\n",
    "df"
   ]
  },
  {
   "cell_type": "code",
   "execution_count": null,
   "id": "97c9e7d3",
   "metadata": {},
   "outputs": [],
   "source": [
    "from lsdb.core.plotting import plot_points\n",
    "\n",
    "plot_points.plot_points(\n",
    "    df,\n",
    "    ra_column=\"ra\",\n",
    "    dec_column=\"dec\",\n",
    "    title=\"Gaia DR3 Tract Search\",\n",
    ")"
   ]
  },
  {
   "cell_type": "markdown",
   "id": "c5fe192e",
   "metadata": {},
   "source": [
    "## Search by patch ID"
   ]
  },
  {
   "cell_type": "code",
   "execution_count": null,
   "id": "88c3d2fd",
   "metadata": {},
   "outputs": [],
   "source": [
    "tract_index = 12_345\n",
    "patch_index = 67"
   ]
  },
  {
   "cell_type": "code",
   "execution_count": null,
   "id": "959956c6",
   "metadata": {},
   "outputs": [],
   "source": [
    "# Specify both tract and patch to search by tract and patch.\n",
    "\n",
    "gaia_tract_patch = gaia.tract_patch_search(\n",
    "    skymap_reader=lsst_skymap,\n",
    "    tract=tract_index,\n",
    "    patch=patch_index,\n",
    ")\n",
    "gaia_tract_patch"
   ]
  },
  {
   "cell_type": "code",
   "execution_count": null,
   "id": "cfa994c5",
   "metadata": {},
   "outputs": [],
   "source": [
    "gaia_tract_patch.plot_pixels(\n",
    "    plot_title=\"Gaia DR3 Tract and Patch Search\",\n",
    "    fc=\"#00000000\",\n",
    "    ec=\"red\",\n",
    "    alpha=0.5,\n",
    ")"
   ]
  },
  {
   "cell_type": "markdown",
   "id": "6f0b05b7",
   "metadata": {},
   "source": [
    "### Plot the points within our patch search"
   ]
  },
  {
   "cell_type": "code",
   "execution_count": null,
   "id": "ebda8bb8",
   "metadata": {},
   "outputs": [],
   "source": [
    "df = gaia_tract_patch.compute()\n",
    "df"
   ]
  },
  {
   "cell_type": "code",
   "execution_count": null,
   "id": "1fcf224f",
   "metadata": {},
   "outputs": [],
   "source": [
    "from lsdb.core.plotting import plot_points\n",
    "\n",
    "plot_points.plot_points(\n",
    "    df,\n",
    "    ra_column=\"ra\",\n",
    "    dec_column=\"dec\",\n",
    "    title=\"Gaia DR3 Tract and Patch Search\",\n",
    ")"
   ]
  }
 ],
 "metadata": {
  "kernelspec": {
   "display_name": "p311",
   "language": "python",
   "name": "python3"
  },
  "language_info": {
   "codemirror_mode": {
    "name": "ipython",
    "version": 3
   },
   "file_extension": ".py",
   "mimetype": "text/x-python",
   "name": "python",
   "nbconvert_exporter": "python",
   "pygments_lexer": "ipython3",
   "version": "3.11.13"
  }
 },
 "nbformat": 4,
 "nbformat_minor": 5
}

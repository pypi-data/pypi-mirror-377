{
 "cells": [
  {
   "cell_type": "code",
   "execution_count": 6,
   "id": "be1634d5-3a0e-4175-939b-9bd79bcd4615",
   "metadata": {},
   "outputs": [],
   "source": [
    "import json"
   ]
  },
  {
   "cell_type": "code",
   "execution_count": 15,
   "id": "84d4f102-572d-4a5d-a640-a20a891c628c",
   "metadata": {},
   "outputs": [
    {
     "name": "stdout",
     "output_type": "stream",
     "text": [
      "C [3, 4, 6, 12, 0, 0, 0]\n",
      "CA [3, 3, 6, 12, 0, 1, 0]\n",
      "CB [1, 1, 6, 12, 0, 3, 0]\n",
      "N [2, 2, 7, 14, 0, 1, 0]\n",
      "O [1, 2, 8, 16, 0, 0, 0]\n",
      "OXT [1, 1, 8, 16, -1, 0, 0]\n"
     ]
    }
   ],
   "source": [
    "f = \"/media/data/Workspace/Keiser lab/LUNA/luna/data/precomputed_residue_data.json\"\n",
    "\n",
    "with open(f, \"r\") as IN:\n",
    "    data = json.load(IN)\n",
    "\n",
    "d = set()\n",
    "for k in data:\n",
    "    atoms = data[k][\"atoms\"]\n",
    "    \n",
    "    for a in atoms:\n",
    "        if \",\" in a:\n",
    "            continue\n",
    "        \n",
    "        invariants = [int(i) for i in atoms[a][\"invariants\"].split(\",\")]\n",
    "        \n",
    "        if invariants[-1] == 1:\n",
    "        print(a, invariants)\n",
    "    break"
   ]
  }
 ],
 "metadata": {
  "kernelspec": {
   "display_name": "Python 3 (ipykernel)",
   "language": "python",
   "name": "python3"
  },
  "language_info": {
   "codemirror_mode": {
    "name": "ipython",
    "version": 3
   },
   "file_extension": ".py",
   "mimetype": "text/x-python",
   "name": "python",
   "nbconvert_exporter": "python",
   "pygments_lexer": "ipython3",
   "version": "3.10.8"
  }
 },
 "nbformat": 4,
 "nbformat_minor": 5
}

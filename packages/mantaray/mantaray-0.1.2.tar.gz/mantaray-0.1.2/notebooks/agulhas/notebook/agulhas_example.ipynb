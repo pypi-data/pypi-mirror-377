{
 "cells": [
  {
   "cell_type": "markdown",
   "id": "8708783e-cc73-488c-86b1-4fa9d915723c",
   "metadata": {},
   "source": [
    "# Ray tracing in the Agulhas current"
   ]
  },
  {
   "cell_type": "code",
   "execution_count": null,
   "id": "185cf37e-f2eb-4f63-adf2-0227e8e2a3a2",
   "metadata": {},
   "outputs": [],
   "source": [
    "import xarray as xr\n",
    "import numpy as np\n",
    "import matplotlib.pyplot as plt\n",
    "import time\n",
    "\n",
    "import mantaray\n",
    "\n",
    "from src import *"
   ]
  },
  {
   "cell_type": "markdown",
   "id": "978b7e05-a063-41c7-89b1-9df12716748e",
   "metadata": {},
   "source": [
    "## Introduction"
   ]
  },
  {
   "cell_type": "markdown",
   "id": "2488decb-f38c-4cb1-808e-d7d91f914c22",
   "metadata": {},
   "source": [
    "This notebook test the Ray Tracing Package in a realistic analysis. We focus on the wave-trapping process occurring in the Agulhas current along the South Africa Coast. We use a realistic current field and a constant bathymetry field. Both fields are already constructed but can be re-constructed by the use of the present notebook.\n",
    "\n",
    "Before running this example, create a folder `mantaray/notebooks/agulhas/data/` and download and place the required data files from the [sample data release](https://github.com/mines-oceanography/mantaray/releases/tag/d0.0.7) in there. For this example, you will need to download `globcurrent.nc`, `current_agulhas`, and `bathy_agulhas`.\n",
    "\n",
    "**Initialization**:\n",
    "\n",
    "- The initial conditions (wave wavelength/period/wavenumber, and direction) for the present example are inspired from the Halsne et al. 2023. (current data are from the globcurrent product: Rio, M. H., Mulet, S., & Picot, N. (2014). Beyond GOCE for the ocean circulation estimate: Synergetic use of altimetry, gravimetry, and in situ data provides new insight into geostrophic and Ekman currents. Geophysical Research Letters, 41(24), 8918-8925., *https://data.marine.copernicus.eu/product/MULTIOBS_GLO_PHY_MYNRT_015_003/description*)\n",
    "\n",
    "- num_rays: is the number of rays shot. All rays have the same initial parameters\n",
    "\n",
    "- x$_{0}$, y$_{0}$: are the locations where the rays are shot\n",
    "\n",
    "- plot_current: a flag to vizualize the current field."
   ]
  },
  {
   "cell_type": "code",
   "execution_count": null,
   "id": "f6537143-b374-4c84-8f92-5e1f8bb29b70",
   "metadata": {},
   "outputs": [],
   "source": [
    "plot_current = True # flag to plot current"
   ]
  },
  {
   "cell_type": "code",
   "execution_count": null,
   "id": "4d0566fc-cd48-4e76-9907-42d0c553f106",
   "metadata": {},
   "outputs": [],
   "source": [
    "T0 = 10 # Period [s]\n",
    "theta0_deg = 60 # Direction [deg]"
   ]
  },
  {
   "cell_type": "code",
   "execution_count": null,
   "id": "05cac628-0f89-4eb7-9f92-9f5f2ce69666",
   "metadata": {},
   "outputs": [],
   "source": [
    "theta0 = theta0_deg * np.pi/180\n",
    "g = 9.81 # Acceleration of Gravity\n",
    "\n",
    "# Convert period to wavenumber magnitude\n",
    "f = (1/T0)\n",
    "k0 = (2*np.pi*f)**2/g"
   ]
  },
  {
   "cell_type": "code",
   "execution_count": null,
   "id": "ef4d7080-f8c3-4666-94a1-7858470e01c3",
   "metadata": {},
   "outputs": [],
   "source": [
    "n_rays = 500 # number of rays to shot\n",
    "depth0 = 4000 # constant depth for this case"
   ]
  },
  {
   "cell_type": "markdown",
   "id": "2d05d213-fdcf-4365-8bcf-b5a46130d725",
   "metadata": {},
   "source": [
    "#####  Load data and convert lon/lat to meter axes. Define a sub domain that will be cropped from the global current dataset (Globcurrent product Rio et al. 2014)"
   ]
  },
  {
   "cell_type": "code",
   "execution_count": null,
   "id": "57f9c712-39f1-45b3-8f8e-d0d724ba7b71",
   "metadata": {},
   "outputs": [],
   "source": [
    "##########\n",
    "# -- Define the subdomain\n",
    "##########\n",
    "lon_min = 16\n",
    "lon_max = 29.5\n",
    "\n",
    "lat_min = -42\n",
    "lat_max = -32\n",
    "\n",
    "# Create a rectangle\n",
    "lons_domain = [lon_min, lon_max, lon_max, lon_min, lon_min]\n",
    "lats_domain = [lat_min, lat_min, lat_max, lat_max, lat_min]\n",
    "\n",
    "##########\n",
    "# -- Define the starting line for ray tracing computation\n",
    "##########\n",
    "x_line = [10_000, 400_000]\n",
    "y_line = [200_000, 100_000]\n",
    "\n",
    "##########\n",
    "# -- Load current data and crop it\n",
    "##########\n",
    "ds_current = xr.open_dataset('../data/globcurrent.nc')\n",
    "ds_current['current_speed'] = (ds_current.eastward_geostrophic_current_velocity**2 + ds_current.northward_geostrophic_current_velocity**2)**(1/2)\n",
    "\n",
    "sub_ds_current = ds_current.sel(lon = slice(lon_min, lon_max), lat = slice(lat_min, lat_max))\n",
    "\n",
    "\n",
    "# --- Convert lon/lat to meter/meter\n",
    "Lon_meter = ((sub_ds_current.lon.values-np.mean(sub_ds_current.lon.values))*1_852*60*np.cos(np.mean(sub_ds_current.lat.values)*np.pi/180))\n",
    "Lat_meter = ((sub_ds_current.lat.values-np.mean(sub_ds_current.lat.values))*1_852*60)\n",
    "\n",
    "Lon_meter += Lon_meter.max()\n",
    "Lat_meter += Lat_meter.max()\n"
   ]
  },
  {
   "cell_type": "markdown",
   "id": "0448f9c2-3e02-47de-91ad-3046d745a434",
   "metadata": {},
   "source": [
    "##### Plot"
   ]
  },
  {
   "cell_type": "code",
   "execution_count": null,
   "id": "f555a9c5-76e8-4fb4-82c0-bc5a5174d37b",
   "metadata": {},
   "outputs": [],
   "source": [
    "if plot_current:\n",
    "    fig, axes = plt.subplots(ncols = 2, figsize = (10, 5))\n",
    "    ax = axes[0]\n",
    "    ds_current.current_speed.squeeze().plot(ax =ax, vmin = 0, vmax = 2, add_colorbar = False)\n",
    "    ax.fill_between(lons_domain, lats_domain, facecolor = 'r', alpha = .6)\n",
    "    ax.set_aspect('equal', 'box')\n",
    "    \n",
    "    ax = axes[1]\n",
    "    p2 = sub_ds_current.current_speed.squeeze().plot(ax = ax, vmin = 0, vmax = 2, add_colorbar = False)\n",
    "    cax = fig.add_axes([.1, .02, .8, 0.02])\n",
    "    cbar = plt.colorbar(p2, cax = cax, orientation = 'horizontal')\n",
    "    ax.set_aspect('equal', 'box')\n",
    "    ax.set_title(' ')\n",
    "    cbar.ax.set_xlabel('Current Speed [m/sec]')"
   ]
  },
  {
   "cell_type": "markdown",
   "id": "8aa68244-0d58-4cb0-aac4-25d2d0b3eb0d",
   "metadata": {},
   "source": [
    "##### Define the initial location of rays. Instead of shotting rays from the edges of the domain, we create a dummy line that will be used to defined starting points ($x_{0}$, $y_{0}$)"
   ]
  },
  {
   "cell_type": "code",
   "execution_count": null,
   "id": "21551a72-72a8-4ad7-8392-5b9c733a3724",
   "metadata": {},
   "outputs": [],
   "source": [
    "x0, y0 = start_line_ray_tracing(x_line, y_line,  Lon_meter, Lat_meter, n_rays) # starting locations"
   ]
  },
  {
   "cell_type": "markdown",
   "id": "0a3aac11-fe74-44e8-be07-f07466d83108",
   "metadata": {},
   "source": [
    "##### Create forcings for ray tracing (Not mandatory because already created)"
   ]
  },
  {
   "cell_type": "code",
   "execution_count": null,
   "id": "97eb3de5-080c-4e63-8851-439c11bbacc5",
   "metadata": {},
   "outputs": [],
   "source": [
    "ucur = sub_ds_current.eastward_geostrophic_current_velocity.values.squeeze()\n",
    "vcur = sub_ds_current.northward_geostrophic_current_velocity.values.squeeze()"
   ]
  },
  {
   "cell_type": "code",
   "execution_count": null,
   "id": "227bfee4-47ae-4f5c-8870-c8e88ae8faa9",
   "metadata": {},
   "outputs": [],
   "source": [
    "output_file_cur = \"../data/current_agulhas.nc\"\n",
    "output_file_depth =  \"../data/bathy_agulhas.nc\"\n",
    "create_current_forcing(Lon_meter, Lat_meter, ucur, vcur, output_file_cur, output_file_depth, depth =  depth0)"
   ]
  },
  {
   "cell_type": "markdown",
   "id": "f73fd925-bec8-427d-8103-9dd91e9f9598",
   "metadata": {},
   "source": [
    "##### Perform the ray tracing"
   ]
  },
  {
   "cell_type": "code",
   "execution_count": null,
   "id": "a8edb58d-160c-492b-a991-5a75363f054e",
   "metadata": {},
   "outputs": [],
   "source": [
    "cg = group_velocity(k0, f, depth0)\n",
    "\n",
    "# Calculate wavenumber components\n",
    "kx0 = k0*np.cos(theta0)\n",
    "ky0 = k0*np.sin(theta0)\n",
    "\n",
    "# Number of rays\n",
    "# Initialize wavenumber for all rays\n",
    "Kx0 = kx0*np.ones(n_rays)\n",
    "Ky0 = ky0*np.ones(n_rays)\n",
    "\n",
    "# Current and bathymetry file path\n",
    "current = output_file_cur\n",
    "bathymetry = output_file_depth\n",
    "\n",
    "# Read x and y from file to get domain size\n",
    "ds = xr.open_dataset(current)\n",
    "\n",
    "# Estimates CFL\n",
    "# Computes grid smallest spacing\n",
    "dd = np.min([np.diff(ds.x).mean(), np.diff(ds.y).mean()])\n",
    "# Computes group velocity\n",
    "cg = group_velocity(k0, f, depth0)\n",
    "# Computes CFL\n",
    "cfl = dd/cg\n",
    "\n",
    "duration = round(ds.x.max().values/cg)\n",
    "step_size = cfl"
   ]
  },
  {
   "cell_type": "code",
   "execution_count": null,
   "id": "e19eccbf-1f82-4252-876e-69e3f12a9a48",
   "metadata": {},
   "outputs": [],
   "source": [
    "t = time.time() # - How long this ray tracing process takes? (1/2)\n",
    "bando = mantaray.ray_tracing(x0, y0, Kx0, Ky0, duration, step_size, bathymetry, current)\n",
    "elapsed = time.time() - t # - How long this ray tracing process takes? (2/2)\n",
    "print(f'{n_rays} rays computed in {elapsed} sec')"
   ]
  },
  {
   "cell_type": "markdown",
   "id": "50f349cb-a54a-4055-808d-c929ff65f5c7",
   "metadata": {},
   "source": [
    "##### Remove 10 outliers rays (certainly due to discontinuity in current field)"
   ]
  },
  {
   "cell_type": "code",
   "execution_count": null,
   "id": "70a80cad-8120-465f-9815-ff90273492da",
   "metadata": {},
   "outputs": [],
   "source": [
    "id_rays1 = np.array(np.arange(0, 370, 1), dtype = int)\n",
    "id_rays2 = np.array(np.arange(380, 500, 1), dtype = int)\n",
    "id_ray_final = np.concatenate([id_rays1, id_rays2])"
   ]
  },
  {
   "cell_type": "markdown",
   "id": "b9f0d055-98ff-47ae-a8e0-cff6905ef176",
   "metadata": {},
   "source": [
    "##### Final Plot In the Agulhas current"
   ]
  },
  {
   "cell_type": "code",
   "execution_count": null,
   "id": "099a0705-a0c3-4015-9787-43b087e4b474",
   "metadata": {},
   "outputs": [],
   "source": [
    "fig, ax = plt.subplots()\n",
    "\n",
    "ax.plot(x_line, y_line, color = 'w')\n",
    "\n",
    "cs = ax.pcolormesh(Lon_meter, Lat_meter, (ds.u**2 + ds.v**2)**(1/2), vmin = 0, vmax = 2)\n",
    "for i in id_ray_final:\n",
    "    ray = bando.isel(ray=i)\n",
    "    ax.plot(ray.x, ray.y, 'r', lw=.78)\n",
    "cbar = plt.colorbar(cs, orientation = 'vertical')\n",
    "cbar.ax.set_ylabel('Current Speed [m/sec]')\n",
    "ax.set_xlabel('Distance [km]')\n",
    "ax.set_ylabel('Distance [km]')\n",
    "\n",
    "ax.set_yticks([0, 250_000, 500_000, 750_000, 1_000_000])\n",
    "ax.set_xticks([0, 250_000, 500_000, 750_000, 1_000_000])\n",
    "\n",
    "ax.set_yticklabels([0, 250, 500, 750, 1_000])\n",
    "ax.set_xticklabels([0, 250, 500, 750, 1_000])\n",
    "\n",
    "ax.set_aspect('equal', 'box')"
   ]
  }
 ],
 "metadata": {
  "kernelspec": {
   "display_name": "Python 3 (ipykernel)",
   "language": "python",
   "name": "python3"
  },
  "language_info": {
   "codemirror_mode": {
    "name": "ipython",
    "version": 3
   },
   "file_extension": ".py",
   "mimetype": "text/x-python",
   "name": "python",
   "nbconvert_exporter": "python",
   "pygments_lexer": "ipython3",
   "version": "3.12.8"
  }
 },
 "nbformat": 4,
 "nbformat_minor": 5
}

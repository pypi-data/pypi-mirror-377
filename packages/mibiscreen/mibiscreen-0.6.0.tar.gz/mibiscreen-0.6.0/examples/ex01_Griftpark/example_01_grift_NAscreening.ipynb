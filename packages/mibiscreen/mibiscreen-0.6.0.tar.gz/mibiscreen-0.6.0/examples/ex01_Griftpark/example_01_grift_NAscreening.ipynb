{
 "cells": [
  {
   "cell_type": "markdown",
   "id": "1f3bd253-6c5c-476e-9f5c-66c3cd95a917",
   "metadata": {},
   "source": [
    "# MiBiPreT example: NA screening using Griftpark data\n",
    "\n",
    "## Background: Griftpark contaminant site\n",
    "\n",
    "Text to be added.\n",
    "\n",
    "## Data Analysis\n",
    "\n",
    "Text to be added."
   ]
  },
  {
   "cell_type": "code",
   "execution_count": null,
   "id": "78fd5dbf-c304-4f50-82b6-23f0c8504d0f",
   "metadata": {},
   "outputs": [],
   "source": [
    "import mibiscreen as mbs"
   ]
  },
  {
   "cell_type": "markdown",
   "id": "ecf94b7a-8e15-49e6-86ff-c1f918eae6a6",
   "metadata": {},
   "source": [
    "### Data handling\n",
    "\n",
    "**Load in data:**\n",
    "\n",
    "Returns loaded data as DataFrame. Will be reported when verbose flag is `True`. "
   ]
  },
  {
   "cell_type": "code",
   "execution_count": null,
   "id": "fca03c8c-c5de-4cb1-ba5b-47f2341b85bb",
   "metadata": {},
   "outputs": [],
   "source": [
    "file_path = './grift_BTEXIIN.csv'\n",
    "data_raw,units = mbs.load_csv(file_path,verbose=False)"
   ]
  },
  {
   "cell_type": "markdown",
   "id": "7efdaaab-0400-4942-b725-ea85a4f325ba",
   "metadata": {},
   "source": [
    "**Standardization of input data:**\n",
    "\n",
    "Runs all checks on data, i.e. column names, units and values in one go and returns transformed data with standard column names and valueas in numerical type where possible. Data is reduced to those columns containing known quantities."
   ]
  },
  {
   "cell_type": "code",
   "execution_count": null,
   "id": "97ceb9f5-39b9-4ecf-ac87-69d38b4f6e55",
   "metadata": {},
   "outputs": [],
   "source": [
    "data,units = mbs.standardize(data_raw, reduce = True, verbose=False)"
   ]
  },
  {
   "cell_type": "markdown",
   "id": "df89b2fe-4fdd-45ab-b29b-2edc37946253",
   "metadata": {},
   "source": [
    "### Natural Attenuation (NA) Screening\n",
    "\n",
    "Performing NA screening step by step."
   ]
  },
  {
   "cell_type": "markdown",
   "id": "cf5045c6-5738-42c0-938f-abb4f8313d4a",
   "metadata": {},
   "source": [
    "**Calculation of number of electrons for reduction**\n",
    "                                    \n",
    "Returns pandas-Series with total amount of electron reductors per well in [mmol e-/l]:"
   ]
  },
  {
   "cell_type": "code",
   "execution_count": null,
   "id": "484dc7d4-6eaf-48de-9c30-6950e12f9c43",
   "metadata": {},
   "outputs": [],
   "source": [
    "tot_reduct = mbs.reductors(data,verbose = True,ea_group = 'ONSFe')"
   ]
  },
  {
   "cell_type": "markdown",
   "id": "e2c6c011-abe4-4f35-bf50-b63a95b8d177",
   "metadata": {},
   "source": [
    "**Calculation of number of electrons needed for oxidation**\n",
    "                                    \n",
    "Returns pandas-Series with total amount of oxidators per well in [mmol e-/l]:"
   ]
  },
  {
   "cell_type": "code",
   "execution_count": null,
   "id": "f8162361-9460-4ae2-9e2d-9b740036661f",
   "metadata": {},
   "outputs": [],
   "source": [
    "tot_oxi = mbs.oxidators(data,verbose = True, contaminant_group='BTEXIIN')"
   ]
  },
  {
   "cell_type": "markdown",
   "id": "c0ad0e9f-5aaf-45ba-94b0-fba63556dd89",
   "metadata": {},
   "source": [
    "**Calculation of number of electron balance**\n",
    "                                    \n",
    "Returns pandas-Series with ratio of reductors to oxidators. If value below 1, available electrons for reduction are not sufficient for reaction and thus NA is potentially not taking place."
   ]
  },
  {
   "cell_type": "code",
   "execution_count": null,
   "id": "690fa87d-63b8-444d-9c3f-6a0ce44e7bdf",
   "metadata": {},
   "outputs": [],
   "source": [
    "e_bal = mbs.electron_balance(data,verbose = True)"
   ]
  },
  {
   "cell_type": "markdown",
   "id": "5c2ab3b3-85ac-4970-a6d0-d5583d061b77",
   "metadata": {},
   "source": [
    "**Calculation of \"traffic light\" based on electron balance**\n",
    "                                    \n",
    "Returns pandas-Series with traffic light (red/yellow/green) if NA is taking place based on electron balance. Red corresponds to a electron balance below 1 where available electrons for reduction are not sufficient and thus NA is potentially not taking place."
   ]
  },
  {
   "cell_type": "code",
   "execution_count": null,
   "id": "18f2da4f-ef6a-4515-ace4-f34086b0c23f",
   "metadata": {},
   "outputs": [],
   "source": [
    "na_traffic = mbs.sample_NA_traffic(data, verbose=True)"
   ]
  },
  {
   "cell_type": "markdown",
   "id": "943774b4-736a-481b-910d-0e93d67de0e6",
   "metadata": {},
   "source": [
    "### Evaluation of intervention threshold exceedance\n",
    "\n",
    "**Calculation of total concentration of contaminants/specified group of contaminants**\n",
    "                                    \n",
    "Returns pandas-Series with total concentrations of contaminants per well in [ug/l]:"
   ]
  },
  {
   "cell_type": "code",
   "execution_count": null,
   "id": "af6e353d-0fb9-4aeb-b38c-c9d2a07a7555",
   "metadata": {},
   "outputs": [],
   "source": [
    "tot_cont = mbs.total_contaminant_concentration(data, verbose=True, contaminant_group='BTEXIIN')"
   ]
  },
  {
   "cell_type": "markdown",
   "id": "76cf2b36-ffa0-4623-bc52-d40faaf85d62",
   "metadata": {},
   "source": [
    "**Calculation of \"traffic light\" for threshold exceedance**\n",
    "\n",
    "Returns pandas-DataFrame (similar to input data, including well specification) with intervention threshold exceedance analysis:\n",
    "* traffic light if well requires intervention (red/yellow/green)\n",
    "* number of contaminants exceeding the intervention value\n",
    "* list of contaminants above the threshold of intervention"
   ]
  },
  {
   "cell_type": "code",
   "execution_count": null,
   "id": "d7a2457f-50fb-45e7-a09e-cb14f17cbe80",
   "metadata": {},
   "outputs": [],
   "source": [
    "na_intervention = mbs.thresholds_for_intervention(data,verbose=True,contaminant_group='BTEXIIN')\n",
    "#na.thresholds_for_intervention?\n",
    "display(na_intervention)"
   ]
  },
  {
   "cell_type": "markdown",
   "id": "f8604c99-d32d-4ec5-a10b-a37b15b454bd",
   "metadata": {},
   "source": [
    "### Natural Attenuation (NA) Screening in one go\n",
    "\n",
    "Performing complete NA screening and evaluation of intervention threshold exceedance.\n",
    "                                    \n",
    "Returns pandas-DataFrame (including well specification from input data) with NA screening results and intervention threshold exceedance analysis:\n",
    "* total amount of electron reductors per well in [mmol e-/l]\n",
    "* total amount of oxidators per well in [mmol e-/l]\n",
    "* electron balance, ratio of reductors to oxidators\n",
    "* NA - traffic light (red/yellow/green) if NA is taking place based on electron balance\n",
    "* total concentrations of contaminants per well in [ug/l]\n",
    "* Intervention traffic light per well (red/yellow/green)\n",
    "* number of contaminants exceeding the intervention value\n",
    "* list of contaminants above the threshold of intervention"
   ]
  },
  {
   "cell_type": "code",
   "execution_count": null,
   "id": "1ff58a77-7c0b-4d3e-8f7a-6b904188120d",
   "metadata": {},
   "outputs": [],
   "source": [
    "data_na = mbs.sample_NA_screening(data,verbose = True)"
   ]
  },
  {
   "cell_type": "code",
   "execution_count": null,
   "id": "ad7b9507-7fc8-4302-a8c6-9bf696bedec1",
   "metadata": {},
   "outputs": [],
   "source": [
    "display(data_na)"
   ]
  },
  {
   "cell_type": "markdown",
   "id": "d5971bdd-33e7-4d53-9226-e676fc88c343",
   "metadata": {},
   "source": [
    "### Activity plot\n",
    "\n",
    "Create activity plot linking contaminant concentration to metabolite occurence based on NA screening"
   ]
  },
  {
   "cell_type": "code",
   "execution_count": null,
   "id": "c096b0d1-d6ab-48c4-a76f-0479618ee3cb",
   "metadata": {},
   "outputs": [],
   "source": [
    "### run full NA screening with results added to data\n",
    "\n",
    "mbs.sample_NA_screening(data, include=True)\n",
    "mbs.total_contaminant_concentration(data, include=True, contaminant_group='BTEXIIN')\n",
    "\n",
    "fig, ax = mbs.activity(data)#,save_fig='grift_NA_activity.png',dpi = 300)\n"
   ]
  }
 ],
 "metadata": {
  "kernelspec": {
   "display_name": "Python 3 (ipykernel)",
   "language": "python",
   "name": "python3"
  },
  "language_info": {
   "codemirror_mode": {
    "name": "ipython",
    "version": 3
   },
   "file_extension": ".py",
   "mimetype": "text/x-python",
   "name": "python",
   "nbconvert_exporter": "python",
   "pygments_lexer": "ipython3"
  }
 },
 "nbformat": 4,
 "nbformat_minor": 5
}

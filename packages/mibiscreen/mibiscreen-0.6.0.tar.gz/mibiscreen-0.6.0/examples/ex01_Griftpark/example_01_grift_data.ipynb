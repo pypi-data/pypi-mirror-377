{
 "cells": [
  {
   "cell_type": "markdown",
   "id": "1f3bd253-6c5c-476e-9f5c-66c3cd95a917",
   "metadata": {},
   "source": [
    "# MiBiPreT example: Data handling using Griftpark data\n",
    "\n",
    "## Background: Griftpark contaminant site\n",
    "\n",
    "Text to be added."
   ]
  },
  {
   "cell_type": "code",
   "execution_count": null,
   "id": "5c6ea554-2726-4640-a203-c19ce52f378d",
   "metadata": {},
   "outputs": [],
   "source": [
    "import mibiscreen as mbs"
   ]
  },
  {
   "cell_type": "markdown",
   "id": "ecf94b7a-8e15-49e6-86ff-c1f918eae6a6",
   "metadata": {},
   "source": [
    "### Data handling\n",
    "\n",
    "**Load in data:**\n",
    "\n",
    "Returns loaded data as DataFrame which is reported when verbose flag is `True`. "
   ]
  },
  {
   "cell_type": "code",
   "execution_count": null,
   "id": "fca03c8c-c5de-4cb1-ba5b-47f2341b85bb",
   "metadata": {},
   "outputs": [],
   "source": [
    "file_path = './grift_BTEXIIN.csv'\n",
    "data_raw,units = mbs.load_csv(file_path,verbose=True)\n",
    "#print(type(data_raw))"
   ]
  },
  {
   "cell_type": "markdown",
   "id": "17beec64-9ab9-4edb-8bcf-94eb2569ad4f",
   "metadata": {},
   "source": [
    "**Check on column names:**"
   ]
  },
  {
   "cell_type": "code",
   "execution_count": null,
   "id": "aae1d53a-6e46-4842-9e90-2bd483439241",
   "metadata": {},
   "outputs": [],
   "source": [
    "column_names_known,column_names_unknown,column_names_standard = mbs.check_columns(data_raw, verbose = True)"
   ]
  },
  {
   "cell_type": "markdown",
   "id": "5631f60e-1374-4ca8-8bda-29639445cdef",
   "metadata": {},
   "source": [
    "**Check on units:**"
   ]
  },
  {
   "cell_type": "code",
   "execution_count": null,
   "id": "4f81bd28-4d17-4fe2-a75b-f6afe5a0cba6",
   "metadata": {},
   "outputs": [],
   "source": [
    "check_list = mbs.check_units(data_raw, verbose = True)"
   ]
  },
  {
   "cell_type": "markdown",
   "id": "5ac7bbe2-9455-44b0-8554-0775551f0af7",
   "metadata": {},
   "source": [
    "**Check on values in columns (transformation to numerical values, handling of nan-values):**\n",
    "\n",
    "Returns DataFrame without units containing quantities in numerical type."
   ]
  },
  {
   "cell_type": "code",
   "execution_count": null,
   "id": "68d3ad7a-880b-440e-b8a0-f6de99c33fd9",
   "metadata": {},
   "outputs": [],
   "source": [
    "data_pure = mbs.check_values(data_raw, verbose = True)"
   ]
  },
  {
   "cell_type": "markdown",
   "id": "7efdaaab-0400-4942-b725-ea85a4f325ba",
   "metadata": {},
   "source": [
    "**Standardization of input data:**\n",
    "\n",
    "Runs all checks on data, i.e. column names, units and values in one go and returns transformed data with standard column names and valueas in numerical type where possible. Data is not reduced to those columns containing known quantities, i.e. also columns remain with unknown column names. Unknown quantities can be contaminants/metabolites not yet included in analysis scheme or quantities with typo in the name. "
   ]
  },
  {
   "cell_type": "code",
   "execution_count": null,
   "id": "97ceb9f5-39b9-4ecf-ac87-69d38b4f6e55",
   "metadata": {},
   "outputs": [],
   "source": [
    "data,units = mbs.standardize(data_raw,reduce = False,  verbose=True)\n",
    "print(\"Number of columns:\", data.shape[1])"
   ]
  },
  {
   "cell_type": "markdown",
   "id": "df89b2fe-4fdd-45ab-b29b-2edc37946253",
   "metadata": {},
   "source": [
    "**Standardization of input data:**\n",
    "\n",
    "Rerun data standardization without reporting. Now we reduce the data to known/identified quantities and write standard data frame to file\n",
    "Provides option to save the standardized data to a csv-file."
   ]
  },
  {
   "cell_type": "code",
   "execution_count": null,
   "id": "23a61b6f-bfc9-4181-ae6c-26ecad423f20",
   "metadata": {},
   "outputs": [],
   "source": [
    "file_standard = './grift_BTEXIIN_standard.csv'\n",
    "data,units = mbs.standardize(data_raw,reduce = True, store_csv=file_standard, verbose=False)\n",
    "print(\"Number of columns:\", data.shape[1])"
   ]
  },
  {
   "cell_type": "code",
   "execution_count": null,
   "id": "484dc7d4-6eaf-48de-9c30-6950e12f9c43",
   "metadata": {},
   "outputs": [],
   "source": []
  }
 ],
 "metadata": {
  "kernelspec": {
   "display_name": "Python 3 (ipykernel)",
   "language": "python",
   "name": "python3"
  },
  "language_info": {
   "codemirror_mode": {
    "name": "ipython",
    "version": 3
   },
   "file_extension": ".py",
   "mimetype": "text/x-python",
   "name": "python",
   "nbconvert_exporter": "python",
   "pygments_lexer": "ipython3"
  }
 },
 "nbformat": 4,
 "nbformat_minor": 5
}

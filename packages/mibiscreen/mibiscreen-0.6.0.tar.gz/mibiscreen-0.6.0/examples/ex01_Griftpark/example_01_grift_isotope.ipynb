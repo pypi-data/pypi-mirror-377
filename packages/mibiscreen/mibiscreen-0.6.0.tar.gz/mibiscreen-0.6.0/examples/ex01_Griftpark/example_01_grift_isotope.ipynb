{
 "cells": [
  {
   "cell_type": "markdown",
   "id": "a3193d54-9f0f-4977-b256-c5ced2bb548f",
   "metadata": {},
   "source": [
    "# MiBiPreT example: Isotope analysis using Griftpark data\n",
    "\n",
    "Lambda plot of isotopes reproducing Figure 3.10 in the PhD thesis of *Suzanne Faber*, 2023, 'Field investigations and reactive transport modelling of biodegrading coal tar compounds at a complex former manufactured gas plant'\n",
    "\n",
    "The data was provided on personal basis by Suzanne Faber.\n",
    "\n",
    "## Background: Griftpark contaminant site\n",
    "\n",
    "Text to be added.\n",
    "\n",
    "## Data Analysis\n",
    "\n",
    "Text to be added."
   ]
  },
  {
   "cell_type": "code",
   "execution_count": null,
   "id": "c50e8f92-58fc-46a9-834e-39d4253908bb",
   "metadata": {},
   "outputs": [],
   "source": [
    "import matplotlib.pyplot as plt\n",
    "import numpy as np"
   ]
  },
  {
   "cell_type": "code",
   "execution_count": null,
   "id": "b1f55e1a-e567-449b-b236-b2eca05777d3",
   "metadata": {},
   "outputs": [],
   "source": [
    "import mibiscreen as mbs"
   ]
  },
  {
   "cell_type": "markdown",
   "id": "4e5cfbf9-c6ea-4076-b876-5a5da63996bc",
   "metadata": {},
   "source": [
    "### Data handling\n",
    "\n",
    "**Load in data:**\n",
    "\n",
    "Returns loaded data as DataFrame. Will be reported when verbose flag is `True`. "
   ]
  },
  {
   "cell_type": "code",
   "execution_count": null,
   "id": "74611bf9-8fd5-4c11-9d13-1d71408f9701",
   "metadata": {},
   "outputs": [],
   "source": [
    "file_csv = \"./grift_BTEXIIN_isotopes.csv\"\n",
    "isotopes_raw,units = mbs.load_csv(file_csv, verbose = False)\n",
    "isotopes,units = mbs.standardize(isotopes_raw, reduce = True, verbose = False)"
   ]
  },
  {
   "cell_type": "markdown",
   "id": "cad40752-281b-47dd-8a0d-a1bdb99a5d54",
   "metadata": {},
   "source": [
    "### Isotope Analysis: Lambda-plots"
   ]
  },
  {
   "cell_type": "markdown",
   "id": "177c4db9-e423-4fc5-b210-54b297356d76",
   "metadata": {},
   "source": [
    "#### Lambda plot for single compound and all well data"
   ]
  },
  {
   "cell_type": "code",
   "execution_count": null,
   "id": "0956a221-0afe-432d-bd7e-c5c515fae56b",
   "metadata": {},
   "outputs": [],
   "source": [
    "molecule = 'benzene'\n",
    "\n",
    "x,y = mbs.extract_isotope_data(isotopes,molecule)\n",
    "results = mbs.Lambda_regression(x,y,validate_indices = True)\n",
    "mbs.Lambda_plot(**results)\n",
    "\n",
    "#print(results)"
   ]
  },
  {
   "cell_type": "markdown",
   "id": "77920b6b-ed02-43ab-a544-70fe749120ca",
   "metadata": {},
   "source": [
    "#### Lambda plot for single compound and split up on wells"
   ]
  },
  {
   "cell_type": "code",
   "execution_count": null,
   "id": "d76fc653-12ec-4b56-92e3-7f819e2b0e35",
   "metadata": {},
   "outputs": [],
   "source": [
    "wells = ['C','B2','B']\n",
    "\n",
    "for i,well in enumerate(wells):\n",
    "    data = isotopes[isotopes[\"obs_well\"] == well]\n",
    "    x,y = mbs.extract_isotope_data(data,molecule)\n",
    "    results = mbs.Lambda_regression(x,y,validate_indices = True)\n",
    "    mbs.Lambda_plot(**results)\n",
    "    plt.title('Well '+well)"
   ]
  },
  {
   "cell_type": "markdown",
   "id": "2e26471a-9e77-48a6-901a-ef6bfbf588f9",
   "metadata": {},
   "source": [
    "#### Lambda plot for single compound and split up on wells"
   ]
  },
  {
   "cell_type": "code",
   "execution_count": null,
   "id": "8b49db65-7331-4a2e-89b1-c01767145128",
   "metadata": {},
   "outputs": [],
   "source": [
    "wells = ['C','B2','B']\n",
    "mto = ['s','o','^','<','>','d','*']\n",
    "\n",
    "plt.figure(figsize = [5,4])\n",
    "for i,well in enumerate(wells):\n",
    "    data = isotopes[isotopes[\"obs_well\"] == well]\n",
    "    x,y = mbs.extract_isotope_data(data,molecule)\n",
    "    results = mbs.Lambda_regression(x,y,validate_indices = True)\n",
    "\n",
    "    plt.scatter(x, y, marker=mto[i],zorder = 3)\n",
    "    if len(x)>2:\n",
    "        # Create a trendline\n",
    "        polynomial = np.poly1d(results['coefficients'])\n",
    "        trendline_x = np.linspace(np.min(results['delta_C']), np.max(results['delta_C']), 50)\n",
    "        trendline_y = polynomial(trendline_x)\n",
    "        plt.plot(trendline_x, trendline_y, label=r'{}, $\\Lambda = {:.0f}$'.format(well,results['coefficients'][0]))\n",
    "\n",
    "plt.title(molecule)\n",
    "plt.grid(True,zorder = 0)\n",
    "plt.legend(title = 'Well & Lambda:')\n",
    "plt.xlabel(r'$\\delta^{{13}}$C')\n",
    "plt.ylabel(r'$\\delta^2$H')\n",
    "\n",
    "plt.tight_layout()\n",
    "plt.savefig(\"example_01_grift_isotopes_{}.png\".format(molecule),dpi=300)"
   ]
  },
  {
   "cell_type": "markdown",
   "id": "9554ab5d-528d-42ed-9dbe-e072c97dbe83",
   "metadata": {},
   "source": [
    "#### Lambda plot for selected compounds and split up on wells"
   ]
  },
  {
   "cell_type": "code",
   "execution_count": null,
   "id": "cd8826f7-9a59-4fa1-886f-2545232de2df",
   "metadata": {},
   "outputs": [],
   "source": [
    "### Figure settings\n",
    "wells = ['C','B2','B']\n",
    "mto = ['s','o','^','<','>','d','*']\n",
    "molecules = ['Benzene','Toluene','Ethylbenzene','m,p-Xylene','Indane','Naphthalene']\n",
    "\n",
    "fig, axes = plt.subplots(figsize=[7.5,9],ncols = 2, nrows = 3)\n",
    "ax = axes.flat\n",
    "for j,molecule in enumerate(molecules):\n",
    "    for i,well in enumerate(wells):\n",
    "        data = isotopes[isotopes[\"obs_well\"] == well]\n",
    "        x,y = mbs.extract_isotope_data(data,molecule)\n",
    "        results = mbs.Lambda_regression(x,y,validate_indices = True)\n",
    "        # Plot the scatter plot\n",
    "        ax[j].scatter(x, y, marker=mto[i],zorder = 3)\n",
    "        if len(x)>2:\n",
    "            # Create a trendline\n",
    "            polynomial = np.poly1d(results['coefficients'])\n",
    "            trendline_x = np.linspace(np.min(results['delta_C']),\n",
    "                                      np.max(results['delta_C']),\n",
    "                                      50)\n",
    "            trendline_y = polynomial(trendline_x)\n",
    "            ax[j].plot(trendline_x, trendline_y,\n",
    "                       label=r'{}, $\\Lambda = {:.0f}$'.format(well,results['coefficients'][0]))\n",
    "\n",
    "        ax[j].set_title(molecule)\n",
    "        ax[j].grid(True,zorder = 0)\n",
    "        ax[j].legend(title = r'Well & Lambda:')\n",
    "        if j%2 == 0:\n",
    "            ax[j].set_ylabel(r'$\\delta^2$H')\n",
    "        if j >= len(ax)-2:\n",
    "            ax[j].set_xlabel(r'$\\delta^{{13}}$C')\n",
    "\n",
    "fig.tight_layout()\n",
    "#plt.savefig('example_01_grift_isotopes.pdf')"
   ]
  }
 ],
 "metadata": {
  "kernelspec": {
   "display_name": "Python 3 (ipykernel)",
   "language": "python",
   "name": "python3"
  },
  "language_info": {
   "codemirror_mode": {
    "name": "ipython",
    "version": 3
   },
   "file_extension": ".py",
   "mimetype": "text/x-python",
   "name": "python",
   "nbconvert_exporter": "python",
   "pygments_lexer": "ipython3"
  }
 },
 "nbformat": 4,
 "nbformat_minor": 5
}

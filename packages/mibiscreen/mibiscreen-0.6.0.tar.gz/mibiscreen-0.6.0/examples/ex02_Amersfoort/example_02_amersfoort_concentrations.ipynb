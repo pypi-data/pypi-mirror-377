{
 "cells": [
  {
   "cell_type": "markdown",
   "id": "aec1962d-a737-4453-a3b5-fae36f566c12",
   "metadata": {},
   "source": [
    "# MiBiPreT example: Contaminant Data Screening with Amersfoort data\n",
    "\n",
    "Diagnostic plots for data analysis on microbial biodegredation at the contaminant Amersfoort site. Author: Alraune Zech\n",
    "\n",
    "Data based on the PhD thesis of *Johan van Leeuwen*, 2021 'Biodegredation of mono- and polyaromatic hydrocarbons in a contaminated aquifer originating from a former Pintsch gas factory site' which is equivalent to the manuscript of van Leeuwen et al., 2022 'Anaerobic degradation of benzene and other aromatic hydrocarbons in a tar-derived plume: Nitrate versus iron reducing conditions', J. of Cont. Hydrol. The data was provided by Johan van Leeuwen.\n",
    "  \n",
    "## Background: Amersfoort contaminant site\n",
    "\n",
    "Close to the train station in Amersfoort, the Netherlands, the subsurface is contaminated with organic hydrocarbons forming a NAPL. Contamination originates from decades of operating manufactured gas plant, which dumped tar by-products in waste lagoons. The tar is a DNAPL and has spread into the underlying shallow unconfined aquifer. Sample wells were installed to measure various characteristics of the subsurface. The raw data contains measurements on\n",
    "* environmental conditions, such as pH, redox potential, concentrations of oxygen, nitrate, etc\n",
    "* contaminant concentration such as BTEX, indene, indane, naphtalene and multiple other (typically cyclic) petroleum hydrocarbons\n",
    "* metabolite concentration, i.e. byproducts of degredation processes of contaminant\n",
    "* isotope measurments for specific contaminants and samples\n",
    "* counts of genes (RNA/DNA) of mibrobiota that is know to perform biodegredation as well as functional enzymes know to be responsible for biodegredation"
   ]
  },
  {
   "cell_type": "markdown",
   "id": "31ae9c4a-5652-4d9e-9dbf-6049ddc397cc",
   "metadata": {},
   "source": [
    "**Required packages**"
   ]
  },
  {
   "cell_type": "code",
   "execution_count": null,
   "id": "5d7a3f49-dd14-4e73-94fb-5a44a30c9e25",
   "metadata": {},
   "outputs": [],
   "source": [
    "import matplotlib.pyplot as plt\n",
    "import numpy as np\n",
    "import pandas as pd"
   ]
  },
  {
   "cell_type": "code",
   "execution_count": null,
   "id": "c7b46e09-3c59-4edf-9012-20c49aadd76a",
   "metadata": {},
   "outputs": [],
   "source": [
    "import mibiscreen as mbs"
   ]
  },
  {
   "cell_type": "markdown",
   "id": "6e0c6fd7-8285-451c-8510-1b0b6cebace3",
   "metadata": {},
   "source": [
    "## Data loading"
   ]
  },
  {
   "cell_type": "code",
   "execution_count": null,
   "id": "1d1c7d9f-ad38-435f-afae-4f76e9dd1117",
   "metadata": {},
   "outputs": [],
   "source": [
    "file_path = './amersfoort.xlsx'"
   ]
  },
  {
   "cell_type": "markdown",
   "id": "19bfd716-6f89-4905-a41e-92df83bb7540",
   "metadata": {},
   "source": [
    "Load and standardize data of contaminants:"
   ]
  },
  {
   "cell_type": "code",
   "execution_count": null,
   "id": "e7d94627-1002-414a-8156-d816b5f4dad0",
   "metadata": {},
   "outputs": [],
   "source": [
    "contaminants_raw,units = mbs.load_excel(file_path,\n",
    "                                        sheet_name = 'contaminants',\n",
    "                                        verbose = False)\n",
    "contaminants,units = mbs.standardize(contaminants_raw,\n",
    "                                      reduce = False,\n",
    "                                      verbose = False)"
   ]
  },
  {
   "cell_type": "markdown",
   "id": "280d0eca-65bb-4d65-947d-e8baf737a8eb",
   "metadata": {},
   "source": [
    "Load and standardize data of metabolites"
   ]
  },
  {
   "cell_type": "markdown",
   "id": "82d45de5-fd2f-4570-adf8-677c9905dee2",
   "metadata": {},
   "source": [
    "## Basic analysis of contaminant concentrations per sample"
   ]
  },
  {
   "cell_type": "markdown",
   "id": "eb3846cc-f8a1-400c-ae0e-d54babafac1a",
   "metadata": {},
   "source": [
    "### Concentrations of contaminants subsets"
   ]
  },
  {
   "cell_type": "markdown",
   "id": "921703d6-3794-4f23-97b1-87b460994b6e",
   "metadata": {},
   "source": [
    "**Total concentration of all contaminants provided in Excel-sheet/Dataframe:**"
   ]
  },
  {
   "cell_type": "code",
   "execution_count": null,
   "id": "86745044-65f1-4656-920c-5d69322282dd",
   "metadata": {},
   "outputs": [],
   "source": [
    "contaminants_concentration = mbs.total_concentration(contaminants,\n",
    "                                                     name_list = 'all',\n",
    "                                                     #include_as = \"concentration_contaminants\",\n",
    "                                                     verbose = True)"
   ]
  },
  {
   "cell_type": "markdown",
   "id": "527decd6-3e31-4073-8636-2385e2f01a94",
   "metadata": {},
   "source": [
    "equivalent to: \n",
    "\n",
    "(now including results as own data column to data frame of *contaminants*)"
   ]
  },
  {
   "cell_type": "code",
   "execution_count": null,
   "id": "1dc4507a-e62d-4d1e-9529-4e3e7ffb520c",
   "metadata": {},
   "outputs": [],
   "source": [
    "mbs.total_contaminant_concentration(contaminants,\n",
    "                                    include = True,\n",
    "                                    verbose = True,\n",
    "                                    )\n",
    "#display(contaminants)"
   ]
  },
  {
   "cell_type": "markdown",
   "id": "654b78f7-37d7-4c2b-89bf-74e7a6a582d0",
   "metadata": {},
   "source": [
    "**Total concentration of contaminant subgroup: BTEX (Benzene, Toluene, Ethylbenzene, Xylene)**"
   ]
  },
  {
   "cell_type": "code",
   "execution_count": null,
   "id": "9f9c7d31-16c9-4519-b828-4c45492dc467",
   "metadata": {},
   "outputs": [],
   "source": [
    "contaminants_BTEX = mbs.total_concentration(contaminants,\n",
    "                                            name_list = 'BTEX',\n",
    "                                            #include_as = \"concentration_BTEX\",\n",
    "                                            verbose = True,\n",
    "                                            )"
   ]
  },
  {
   "cell_type": "markdown",
   "id": "5c2fc077-6234-4d4f-8e06-11e744410fe6",
   "metadata": {},
   "source": [
    "equivalent to:(now including results as own data column to data frame of *contaminants*)"
   ]
  },
  {
   "cell_type": "code",
   "execution_count": null,
   "id": "8140fdfe-19aa-4ef8-9181-2615043d2bd0",
   "metadata": {},
   "outputs": [],
   "source": [
    "mbs.total_contaminant_concentration(contaminants,\n",
    "                                    contaminant_group = 'BTEX',\n",
    "                                    include = True,\n",
    "                                    verbose = False)"
   ]
  },
  {
   "cell_type": "markdown",
   "id": "ac59869c-dda3-4545-94c7-ad46c7f52c43",
   "metadata": {},
   "source": [
    "**Total concentration of contaminant subgroup: BTEX + Indene,Indane and Naphthalene**"
   ]
  },
  {
   "cell_type": "code",
   "execution_count": null,
   "id": "a9462f46-04fe-4f84-8f4b-32182ec1a462",
   "metadata": {},
   "outputs": [],
   "source": [
    "contaminants_BTEXIIN = mbs.total_concentration(contaminants,\n",
    "                                               name_list = 'BTEXIIN',\n",
    "                                               #include_as = \"concentration_BTEXIIN\",\n",
    "                                               verbose = True,\n",
    "                                               )"
   ]
  },
  {
   "cell_type": "markdown",
   "id": "7835f56f-4827-4ea7-907b-d196b9baa2d6",
   "metadata": {},
   "source": [
    "Using wrapper functions for specific type of data, the previous commands are equivalent to: \n",
    "\n",
    "(now including results as own data column with standard name to data frame of *contaminants*)"
   ]
  },
  {
   "cell_type": "code",
   "execution_count": null,
   "id": "47ed7d53-cf9a-4f11-ae91-f213172f75bb",
   "metadata": {},
   "outputs": [],
   "source": [
    "mbs.total_contaminant_concentration(contaminants,\n",
    "                                    contaminant_group = 'BTEXIIN',\n",
    "                                    include = True,\n",
    "                                    verbose = False)"
   ]
  },
  {
   "cell_type": "markdown",
   "id": "7a478bbd-83d3-4aff-8697-ca3d35000812",
   "metadata": {},
   "source": [
    "**Summed concentration of selected subgroup of contaminants: benzene & toluene**"
   ]
  },
  {
   "cell_type": "code",
   "execution_count": null,
   "id": "7a50f096-491d-413f-abe6-87d18ac6405e",
   "metadata": {},
   "outputs": [],
   "source": [
    "contaminants_BT = mbs.total_concentration(contaminants,\n",
    "                                          name_list = ['benzene','toluene'],\n",
    "                                          include_as = \"concentration_BT\",\n",
    "                                          verbose = True,\n",
    "                                          )"
   ]
  },
  {
   "cell_type": "markdown",
   "id": "565a6188-a164-421a-8e2d-3771a233994d",
   "metadata": {},
   "source": [
    "### Visualization of contaminant concentrations per sample\n",
    "\n",
    "**Using mibiscreen plotting routine for concentration bar plots**"
   ]
  },
  {
   "cell_type": "code",
   "execution_count": null,
   "id": "cedd3464-21db-43db-aeb2-f5c75ddcba0a",
   "metadata": {},
   "outputs": [],
   "source": [
    "list_contaminants = ['concentration_contaminants','concentration_BTEXIIN',\n",
    "                     'concentration_BTEX','concentration_BT','benzene']\n",
    "\n",
    "mbs.contaminants_bar(contaminants,\n",
    "                 list_contaminants,\n",
    "                 list_labels = ['all','BTEXIIN','BTEX','BT','B'],\n",
    "                 sort = True,\n",
    "                 figsize = [5.2,3],\n",
    "                 textsize = 12,\n",
    "                 save_fig = 'contaminants_bar.png',\n",
    "                 yscale = 'log',\n",
    "                 loc='upper left',\n",
    "                 title_text = False,\n",
    "                 )"
   ]
  },
  {
   "cell_type": "markdown",
   "id": "f2b4062a-5d23-412b-be7f-d97f8dfb6713",
   "metadata": {},
   "source": [
    "Producing the plot individually using `matplotlib` and `numpy` for individual adaptions:"
   ]
  },
  {
   "cell_type": "code",
   "execution_count": null,
   "id": "68f61107-da2b-413b-8c90-b98353b182c6",
   "metadata": {},
   "outputs": [],
   "source": [
    "sort_args = np.argsort(contaminants_concentration.values)\n",
    "#sort_args = np.arange(len(contaminants_concentration.values))\n",
    "plt.bar(np.arange(len(contaminants_concentration.values)),contaminants_concentration.values[sort_args],label='all')\n",
    "plt.bar(np.arange(len(contaminants_BTEXIIN.values)),contaminants_BTEXIIN.values[sort_args],label='BTEXIIN')\n",
    "plt.bar(np.arange(len(contaminants_BTEX.values)),contaminants_BTEX.values[sort_args],label='BTEX')\n",
    "plt.bar(np.arange(len(contaminants_BT.values)),contaminants_BT.values[sort_args],label='BT')\n",
    "plt.bar(np.arange(len(contaminants['toluene'].values)),contaminants['toluene'].values[sort_args],label='T')\n",
    "plt.xlabel('Samples')\n",
    "plt.ylabel(r'Total concentration [$\\mu$g/l]')\n",
    "plt.yscale('log')\n",
    "plt.legend()\n",
    "plt.title('Total concentration of contaminants per sample')"
   ]
  },
  {
   "cell_type": "markdown",
   "id": "498c1215-219e-407d-b483-e464aab43a4a",
   "metadata": {},
   "source": [
    "### Analysis of number of contaminants per sample"
   ]
  },
  {
   "cell_type": "code",
   "execution_count": null,
   "id": "df28de2a-b0c1-448b-a442-14bd2f1974d9",
   "metadata": {},
   "outputs": [],
   "source": [
    "count_contaminants = mbs.total_count(contaminants,\n",
    "                                     name_list = 'all_cont',\n",
    "                                     verbose = True)\n",
    "\n",
    "count_BTEXIIN = mbs.total_count(contaminants,\n",
    "                                name_list = 'BTEXIIN',\n",
    "                                verbose = True)\n",
    "\n",
    "count_BTEX = mbs.total_count(contaminants,\n",
    "                             name_list = 'BTEX',\n",
    "                             verbose = True)\n",
    "\n",
    "mbs.total_count(contaminants,\n",
    "                name_list = ['benzene'],\n",
    "                include_as = \"count_benzene\",\n",
    "                verbose = True)"
   ]
  },
  {
   "cell_type": "markdown",
   "id": "75ad31fe-246e-4639-a18f-409b160fee18",
   "metadata": {},
   "source": [
    "Using wrapper functions for specific type of data, the previous commands are equivalent to: \n",
    "\n",
    "(now including results with standard names as own data column to data frame of *contaminants*)"
   ]
  },
  {
   "cell_type": "code",
   "execution_count": null,
   "id": "b6bf8869-6808-4302-8909-b23746a6fdc7",
   "metadata": {},
   "outputs": [],
   "source": [
    "mbs.total_contaminant_count(contaminants,\n",
    "                contaminant_group = 'all',\n",
    "                include = True)\n",
    "\n",
    "mbs.total_contaminant_count(contaminants,\n",
    "                contaminant_group = 'BTEXIIN',\n",
    "                include = True)\n",
    "\n",
    "mbs.total_contaminant_count(contaminants,\n",
    "                contaminant_group = 'BTEX',\n",
    "                include = True)"
   ]
  },
  {
   "cell_type": "markdown",
   "id": "92b41f73-29d0-4ded-83bf-ccf6127de003",
   "metadata": {},
   "source": [
    "### Visualization of number of contaminants per sample"
   ]
  },
  {
   "cell_type": "code",
   "execution_count": null,
   "id": "3c4c7a47-9904-4211-aaaf-3a399e78c64f",
   "metadata": {},
   "outputs": [],
   "source": [
    "list_counts = ['count_contaminants','count_BTEXIIN','count_BTEX','count_benzene']\n",
    "\n",
    "mbs.contaminants_bar(contaminants,\n",
    "                     list_counts,\n",
    "                     list_labels = ['all','BTEXIIN','BTEX','B'],\n",
    "                     sort = True,\n",
    "                     figsize = [5.2,3],\n",
    "                     textsize = 12,\n",
    "                     ylabel = 'Total count',\n",
    "                     yscale = 'linear',\n",
    "                     save_fig = 'count_bar.png',\n",
    "                     loc='upper left',\n",
    "                     title_text = False,\n",
    "                     )"
   ]
  },
  {
   "cell_type": "markdown",
   "id": "df7f4971-1cb3-438a-a370-887beaecb2c4",
   "metadata": {},
   "source": [
    "Producing the plot individually using `matplotlib` and `numpy` for individual adaptions:"
   ]
  },
  {
   "cell_type": "code",
   "execution_count": null,
   "id": "086f4fe8-8822-410f-acad-dab987336747",
   "metadata": {},
   "outputs": [],
   "source": [
    "plt.figure(num=2)\n",
    "plt.bar(np.arange(len(count_contaminants.values)),np.sort(count_contaminants.values),label='all')\n",
    "plt.bar(np.arange(len(count_BTEXIIN.values)),np.sort(count_BTEXIIN.values),label='BTEXIIN')\n",
    "plt.bar(np.arange(len(count_BTEX.values)),np.sort(count_BTEX.values),label='BTEX')\n",
    "plt.xlabel('Samples')\n",
    "plt.ylabel('Total number')\n",
    "plt.title('Total number of contaminants per sample')\n",
    "plt.legend()"
   ]
  },
  {
   "cell_type": "markdown",
   "id": "c60146aa-cec9-42cc-b2f4-6c5249b8b498",
   "metadata": {},
   "source": [
    "## Evaluation of intervention threshold exceedance"
   ]
  },
  {
   "cell_type": "code",
   "execution_count": null,
   "id": "201c8fb2-65d6-4452-985f-b4b3f2d77a1c",
   "metadata": {},
   "outputs": [],
   "source": [
    "data_thresh_ratio = mbs.thresholds_for_intervention_ratio(contaminants)\n",
    "display(data_thresh_ratio)"
   ]
  },
  {
   "cell_type": "code",
   "execution_count": null,
   "id": "a9aafc6e-1f7c-4af6-94bc-d55f406858f9",
   "metadata": {},
   "outputs": [],
   "source": [
    "fig,ax = mbs.threshold_ratio_bar(data_thresh_ratio,\n",
    "                                 list_samples =  [31,9,11],\n",
    "                                 figsize = [12,3],\n",
    "                                 nrows=1,ncols=3,\n",
    "                                 list_colors = ['olive','lightblue','tomato'],\n",
    "                                 sharey = True,\n",
    "                                 grid = True,\n",
    "                                )\n"
   ]
  },
  {
   "cell_type": "code",
   "execution_count": null,
   "id": "48051295-7c61-4079-bbfd-b8321ec74b16",
   "metadata": {},
   "outputs": [],
   "source": [
    "quantities = ['toluene','naphthalene','indene','pm_xylene','ethylbenzene','o_xylene','benzene']\n",
    "mbs.threshold_ratio_bar(data_thresh_ratio,\n",
    "                        list_samples = [9],\n",
    "                        list_labels =  quantities,\n",
    "                        figsize = [6,3],\n",
    "                        unity_line = True,\n",
    "                        title_text= 'Evaluation of threshold exceedance for BTEXIIN',\n",
    "                        )"
   ]
  }
 ],
 "metadata": {
  "kernelspec": {
   "display_name": "Python 3 (ipykernel)",
   "language": "python",
   "name": "python3"
  },
  "language_info": {
   "codemirror_mode": {
    "name": "ipython",
    "version": 3
   },
   "file_extension": ".py",
   "mimetype": "text/x-python",
   "name": "python",
   "nbconvert_exporter": "python",
   "pygments_lexer": "ipython3"
  }
 },
 "nbformat": 4,
 "nbformat_minor": 5
}

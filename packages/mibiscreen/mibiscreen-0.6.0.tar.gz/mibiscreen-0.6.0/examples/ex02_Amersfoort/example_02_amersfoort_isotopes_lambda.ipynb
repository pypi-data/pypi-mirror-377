{
 "cells": [
  {
   "cell_type": "markdown",
   "id": "8f9b02b6-8df1-4a06-8182-aeb8caec68bb",
   "metadata": {},
   "source": [
    "# MiBiPreT example: Isotope Analysis with Amersfoort data\n",
    "\n",
    "Diagnostic plots for data analysis on microbial biodegredation at the contaminant Amersfoort site. Author: Alraune Zech\n",
    "\n",
    "Data based on the PhD thesis of *Johan van Leeuwen*, 2021 'Biodegredation of mono- and polyaromatic hydrocarbons in a contaminated aquifer originating from a former Pintsch gas factory site' which is equivalent to the manuscript of van Leeuwen et al., 2022 'Anaerobic degradation of benzene and other aromatic hydrocarbons in a tar-derived plume: Nitrate versus iron reducing conditions', J. of Cont. Hydrol. The data was provided by Johan van Leeuwen.\n",
    "  \n",
    "## Background: Amersfoort contaminant site\n",
    "\n",
    "Close to the train station in Amersfoort, the Netherlands, the subsurface is contaminated with organic hydrocarbons forming a NAPL. Contamination originates from decades of operating manufactured gas plant, which dumped tar by-products in waste lagoons. The tar is a DNAPL and has spread into the underlying shallow unconfined aquifer. Sample wells were installed to measure various characteristics of the subsurface. The raw data contains measurements on\n",
    "* environmental conditions, such as pH, redox potential, concentrations of oxygen, nitrate, etc\n",
    "* contaminant concentration such as BTEX, indene, indane, naphtalene and multiple other (typically cyclic) petroleum hydrocarbons\n",
    "* metabolite concentration, i.e. byproducts of degredation processes of contaminant\n",
    "* isotope measurments for specific contaminants and samples\n",
    "* counts of genes (RNA/DNA) of mibrobiota that is know to perform biodegredation as well as functional enzymes know to be responsible for biodegredation"
   ]
  },
  {
   "cell_type": "code",
   "execution_count": null,
   "id": "71fa8ea6-ad3a-429f-a311-bdc4d1520c60",
   "metadata": {},
   "outputs": [],
   "source": [
    "import mibiscreen as mbs"
   ]
  },
  {
   "cell_type": "code",
   "execution_count": null,
   "id": "1edd721b-e202-48d1-bf1a-52f7f1ec6f0b",
   "metadata": {},
   "outputs": [],
   "source": [
    "import matplotlib.pyplot as plt\n",
    "import numpy as np\n",
    "import pandas as pd"
   ]
  },
  {
   "cell_type": "markdown",
   "id": "d54a84d1-40ba-4449-b97a-586cb3288f62",
   "metadata": {},
   "source": [
    "## Data loading"
   ]
  },
  {
   "cell_type": "code",
   "execution_count": null,
   "id": "d78167de-05f5-4693-9996-57a4aab5f17e",
   "metadata": {},
   "outputs": [],
   "source": [
    "file_path = './amersfoort.xlsx'"
   ]
  },
  {
   "cell_type": "markdown",
   "id": "5cb6a2c4-ef62-4147-8413-e3de461868ca",
   "metadata": {},
   "source": [
    "Load and standardize data of isotopes:"
   ]
  },
  {
   "cell_type": "code",
   "execution_count": null,
   "id": "6d8d3c99-c95c-40fd-a935-4383ad17697a",
   "metadata": {},
   "outputs": [],
   "source": [
    "isotopes_raw,units = mbs.load_excel(file_path,\n",
    "                                   sheet_name = 'isotopes',\n",
    "                                   verbose = False)\n",
    "\n",
    "isotopes,units = mbs.standardize(isotopes_raw,\n",
    "                                reduce = True,\n",
    "                                verbose=False)\n"
   ]
  },
  {
   "cell_type": "markdown",
   "id": "75d6278e-0343-4290-820b-ba76bf8f8c7e",
   "metadata": {},
   "source": [
    "### Lambda regression and Lambda regression plot for single molecule"
   ]
  },
  {
   "cell_type": "code",
   "execution_count": null,
   "id": "42c488d4-8cb7-4395-a022-369d1c3385ff",
   "metadata": {},
   "outputs": [],
   "source": [
    "C_data,H_data = mbs.extract_isotope_data(isotopes,'toluene')\n",
    "results = mbs.Lambda_regression(C_data,\n",
    "                                H_data,\n",
    "                                validate_indices = True,\n",
    "                                verbose = True,\n",
    "                                )\n",
    "mbs.Lambda_plot(**results,\n",
    "                title = 'toluene',\n",
    "               fit_color = 'k',\n",
    "               marker_color = 'C1')"
   ]
  },
  {
   "cell_type": "markdown",
   "id": "bf350ae1-6b17-46cd-b170-7cbce9a58be4",
   "metadata": {},
   "source": [
    "### Lambda regression and Lambda regression plot for all molecules (separately)"
   ]
  },
  {
   "cell_type": "code",
   "execution_count": null,
   "id": "60e89a73-2e11-40b7-92a6-07003b904085",
   "metadata": {},
   "outputs": [],
   "source": [
    "molecules = ['benzene','toluene','ethylbenzene','pm_xylene','naphthalene','indene']\n",
    "molecules_analysis = []\n",
    "\n",
    "for j,molecule in enumerate(molecules):\n",
    "\n",
    "    C_data,H_data = mbs.extract_isotope_data(isotopes,molecule)\n",
    "\n",
    "    results = mbs.Lambda_regression(C_data,\n",
    "                                H_data,\n",
    "                                validate_indices = True,\n",
    "                                verbose = True,\n",
    "                                )\n",
    "\n",
    "    molecules_analysis.append(results)\n",
    "\n",
    "    mbs.Lambda_plot(**results,title = molecule)\n",
    "    # Lambda_plot(**results,save_fig = 'Amersfoort_isotope_Lambda_{}.png'.format(molecule),dpi = 300)"
   ]
  },
  {
   "cell_type": "markdown",
   "id": "c1604b0a-85d1-4df0-8012-6f9a8e52433a",
   "metadata": {},
   "source": [
    "### Lambda regression and plot of results of all molecules in one plot\n",
    "\n",
    "Produce plot with `matplotlib` for indiviual adaptions"
   ]
  },
  {
   "cell_type": "code",
   "execution_count": null,
   "id": "00b9ab2e-8028-453d-adb7-554777e16f6e",
   "metadata": {},
   "outputs": [],
   "source": [
    "molecules = ['benzene','toluene','naphthalene','indene']\n",
    "molecules_analysis_set = [molecules_analysis[i] for i in [0,1,4,5]]\n",
    "fig, axes = plt.subplots(figsize=[5.5,5],\n",
    "                          ncols = 2,\n",
    "                          nrows = 2)\n",
    "ax = axes.flat\n",
    "for j,molecule in enumerate(molecules):\n",
    "\n",
    "    results =  molecules_analysis_set[j]\n",
    "\n",
    "    x,y = results['delta_C'], results['delta_H']\n",
    "\n",
    "    # Plot the scatter plot\n",
    "    ax[j].scatter(x,y,color = 'C{}'.format(j),ec = '0.5',s=50, zorder = 3,label = 'data')\n",
    "    ax[j].set_title(molecule,bbox=dict(facecolor=\"oldlace\",boxstyle=\"round\"))\n",
    "    ax[j].grid(True,zorder = 0)\n",
    "\n",
    "                    \n",
    "    # plot trendlines\n",
    "    polynomial = np.poly1d(results['coefficients'])\n",
    "    trendline_x = np.linspace(np.min(x), np.max(x), 50)\n",
    "    trendline_y = polynomial(trendline_x)\n",
    "    ax[j].plot(trendline_x, trendline_y,c= 'k', label=r'$\\Lambda = {:.0f}$'.format(results['coefficients'][0]))\n",
    "\n",
    "    if j%2 == 0:\n",
    "        ax[j].set_ylabel(r'$\\delta^2$H')\n",
    "\n",
    "    if j >= len(ax)-2:\n",
    "        ax[j].set_xlabel(r'$\\delta^{{13}}$C')\n",
    "\n",
    "    ax[j].legend()\n",
    "\n",
    "fig.tight_layout()\n",
    "plt.savefig(\"Amersfoort_isotope_Lambda.png\",dpi=300)\n"
   ]
  }
 ],
 "metadata": {
  "kernelspec": {
   "display_name": "Python 3 (ipykernel)",
   "language": "python",
   "name": "python3"
  },
  "language_info": {
   "codemirror_mode": {
    "name": "ipython",
    "version": 3
   },
   "file_extension": ".py",
   "mimetype": "text/x-python",
   "name": "python",
   "nbconvert_exporter": "python",
   "pygments_lexer": "ipython3"
  }
 },
 "nbformat": 4,
 "nbformat_minor": 5
}

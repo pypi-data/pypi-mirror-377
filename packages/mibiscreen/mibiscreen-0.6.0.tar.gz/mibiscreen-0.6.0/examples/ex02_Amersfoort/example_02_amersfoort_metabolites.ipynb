{
 "cells": [
  {
   "cell_type": "markdown",
   "id": "aec1962d-a737-4453-a3b5-fae36f566c12",
   "metadata": {},
   "source": [
    "# MiBiPreT example: Metabolite Data Analysis with Amersfoort data\n",
    "\n",
    "Diagnostic plots for data analysis on microbial biodegredation at the contaminant Amersfoort site. \n",
    "\n",
    "Author: Alraune Zech\n",
    "\n",
    "Data based on the PhD thesis of *Johan van Leeuwen*, 2021 'Biodegredation of mono- and polyaromatic hydrocarbons in a contaminated aquifer originating from a former Pintsch gas factory site' which is equivalent to the manuscript of van Leeuwen et al., 2022 'Anaerobic degradation of benzene and other aromatic hydrocarbons in a tar-derived plume: Nitrate versus iron reducing conditions', J. of Cont. Hydrol. The data was provided by Johan van Leeuwen.\n",
    "  \n",
    "## Background: Amersfoort contaminant site\n",
    "\n",
    "Close to the train station in Amersfoort, the Netherlands, the subsurface is contaminated with organic hydrocarbons forming a NAPL. Contamination originates from decades of operating manufactured gas plant, which dumped tar by-products in waste lagoons. The tar is a DNAPL and has spread into the underlying shallow unconfined aquifer. Sample wells were installed to measure various characteristics of the subsurface. The raw data contains measurements on\n",
    "* environmental conditions, such as pH, redox potential, concentrations of oxygen, nitrate, etc\n",
    "* contaminant concentration such as BTEX, indene, indane, naphtalene and multiple other (typically cyclic) petroleum hydrocarbons\n",
    "* metabolite concentration, i.e. byproducts of degredation processes of contaminant\n",
    "* isotope measurments for specific contaminants and samples\n",
    "* counts of genes (RNA/DNA) of mibrobiota that is know to perform biodegredation as well as functional enzymes know to be responsible for biodegredation"
   ]
  },
  {
   "cell_type": "markdown",
   "id": "31ae9c4a-5652-4d9e-9dbf-6049ddc397cc",
   "metadata": {},
   "source": [
    "**Required packages**"
   ]
  },
  {
   "cell_type": "code",
   "execution_count": null,
   "id": "5d7a3f49-dd14-4e73-94fb-5a44a30c9e25",
   "metadata": {},
   "outputs": [],
   "source": [
    "import matplotlib.pyplot as plt\n",
    "import numpy as np\n",
    "import pandas as pd"
   ]
  },
  {
   "cell_type": "code",
   "execution_count": null,
   "id": "c7b46e09-3c59-4edf-9012-20c49aadd76a",
   "metadata": {},
   "outputs": [],
   "source": [
    "import mibiscreen as mbs"
   ]
  },
  {
   "cell_type": "markdown",
   "id": "6e0c6fd7-8285-451c-8510-1b0b6cebace3",
   "metadata": {},
   "source": [
    "## Data loading"
   ]
  },
  {
   "cell_type": "code",
   "execution_count": null,
   "id": "1d1c7d9f-ad38-435f-afae-4f76e9dd1117",
   "metadata": {},
   "outputs": [],
   "source": [
    "file_path = './amersfoort.xlsx'"
   ]
  },
  {
   "cell_type": "markdown",
   "id": "280d0eca-65bb-4d65-947d-e8baf737a8eb",
   "metadata": {},
   "source": [
    "**Load and standardize data of metabolites**\n",
    "\n",
    "*Note*: Column names of metabolites is not checked. All columns provided (except settings) will be interpreted as individual metabolites."
   ]
  },
  {
   "cell_type": "code",
   "execution_count": null,
   "id": "d34ddbdc-9af8-4177-99b3-b30aae974924",
   "metadata": {},
   "outputs": [],
   "source": [
    "metabolites_raw,units = mbs.load_excel(file_path,\n",
    "                                       sheet_name = 'metabolites',\n",
    "                                       verbose = False)\n",
    "\n",
    "metabolites,units = mbs.standardize(metabolites_raw,\n",
    "                                    reduce = False,\n",
    "                                    verbose=False)\n",
    "\n",
    "# metabolites_columns = mbs.check_columns(metabolites_raw,verbose = False)\n",
    "# metabolites_units_check = mbs.check_units(metabolites_raw,verbose = False)\n",
    "# metabolites_pure = mbs.check_values(metabolites_raw,verbose = False)\n",
    "\n",
    "#display(metabolites)"
   ]
  },
  {
   "cell_type": "markdown",
   "id": "1270eb7c-507e-4537-a11d-8d59ec7bf71c",
   "metadata": {},
   "source": [
    "## Metabolites Concentration Analysis\n",
    "\n",
    "### Calculating total concentration and counts of metabolites per sample"
   ]
  },
  {
   "cell_type": "code",
   "execution_count": null,
   "id": "0a9d7002-749d-4c9c-a567-6e180eca0c27",
   "metadata": {},
   "outputs": [],
   "source": [
    "metabolites_total = mbs.total_concentration(metabolites,\n",
    "                                            name_list = 'all',\n",
    "                                            include_as = False,    \n",
    "                                            # verbose = True\n",
    "                                            )"
   ]
  },
  {
   "cell_type": "markdown",
   "id": "7aa15e96-4df1-409b-b1f4-c8c18f179be7",
   "metadata": {},
   "source": [
    "Note that calculated values are not included to data frame as for further analysis all column (except settings) will be used. If including the total concentration, the value of total count will be overestimated by 1."
   ]
  },
  {
   "cell_type": "code",
   "execution_count": null,
   "id": "0e73a40c-4d4c-41c1-9782-3d6ff40c6b9c",
   "metadata": {},
   "outputs": [],
   "source": [
    "metabolites_count = mbs.total_count(metabolites,\n",
    "                                    name_list = 'all', \n",
    "                                    include_as = False,    \n",
    "                                    #verbose = True\n",
    "                                    )\n"
   ]
  },
  {
   "cell_type": "markdown",
   "id": "7f124881-20f5-49e1-a731-345273b6533a",
   "metadata": {},
   "source": [
    "Previous two steps are equivalent to:"
   ]
  },
  {
   "cell_type": "code",
   "execution_count": null,
   "id": "e5559913-27df-4eee-9bc4-1adccffc1427",
   "metadata": {},
   "outputs": [],
   "source": [
    "mbs.total_metabolites_concentration(metabolites,\n",
    "                                    include = True,\n",
    "                                    verbose = False)"
   ]
  },
  {
   "cell_type": "markdown",
   "id": "58208f9c-993f-4f17-b2ed-ba48ce18183d",
   "metadata": {},
   "source": [
    "Now including results as own data column to data frame of *metabolites*:"
   ]
  },
  {
   "cell_type": "code",
   "execution_count": null,
   "id": "af99f4a3-4d23-4eda-9697-b156674fc885",
   "metadata": {},
   "outputs": [],
   "source": [
    "print(\"Names of last two columns\", metabolites.columns[-2:].values)"
   ]
  },
  {
   "cell_type": "code",
   "execution_count": null,
   "id": "3dc09da1-7905-43ac-af5e-42eea40a8ac1",
   "metadata": {},
   "outputs": [],
   "source": [
    "mbs.total_metabolites_count(metabolites.iloc[:,:-1],\n",
    "                            include = True,\n",
    "                            verbose = False)\n"
   ]
  },
  {
   "cell_type": "code",
   "execution_count": null,
   "id": "84557ab2-0aed-465c-9a4c-49072c040e00",
   "metadata": {},
   "outputs": [],
   "source": [
    "print(\"Names of last two columns\", metabolites.columns[-2:].values)"
   ]
  },
  {
   "cell_type": "code",
   "execution_count": null,
   "id": "eb22e955-b155-4d33-a8fd-dc5fa53d6705",
   "metadata": {},
   "outputs": [],
   "source": [
    "display(metabolites_total)"
   ]
  },
  {
   "cell_type": "code",
   "execution_count": null,
   "id": "29774fb3-ee31-441c-83b9-6170ea6b97b7",
   "metadata": {},
   "outputs": [],
   "source": [
    "mbs.total_metabolites_count(metabolites,\n",
    "                            include = True,\n",
    "                            verbose = True)\n",
    "\n"
   ]
  },
  {
   "cell_type": "markdown",
   "id": "a46ca4d3-0046-4c20-9967-55fa6414ce1b",
   "metadata": {},
   "source": [
    "### Plotting total concentration of metabolites"
   ]
  },
  {
   "cell_type": "code",
   "execution_count": null,
   "id": "9533ffa6-e228-44ab-8ce5-67b718d0c759",
   "metadata": {},
   "outputs": [],
   "source": [
    "mbs.contaminants_bar(metabolites,\n",
    "                     list_contaminants = ['metabolites_concentration'],\n",
    "                     list_labels = ['all metabolites'],\n",
    "                     figsize = [18,5],\n",
    "                     textsize = 14,\n",
    "                     ylabel = r'Total metabolites concentration [$\\mu$g/l]',\n",
    "                     loc='upper left',\n",
    "                     title_text = 'Total concentration of metabolites per sample',\n",
    "                     )"
   ]
  },
  {
   "cell_type": "markdown",
   "id": "f69457d5-0f7c-4d0b-9785-2f6a8fbf6fab",
   "metadata": {},
   "source": [
    "Producing the plot individually using `matplotlib` and `numpy` for individual adaptions:"
   ]
  },
  {
   "cell_type": "code",
   "execution_count": null,
   "id": "f05df51a-b536-4d54-944d-ba34553195ce",
   "metadata": {},
   "outputs": [],
   "source": [
    "plt.figure(figsize = [18,5])\n",
    "plt.bar(np.arange(len(metabolites_total.values)),metabolites_total.values,label='all')\n",
    "plt.xlabel('Samples')\n",
    "plt.ylabel(r'Total metabolites concentration [$\\mu$g/l]')\n",
    "plt.title('Total concentration of metabolites per sample')"
   ]
  },
  {
   "cell_type": "markdown",
   "id": "8a4a478e-b807-4790-92c1-cd6ccba9b79a",
   "metadata": {},
   "source": [
    "**Plot with sorting of values and sample names**"
   ]
  },
  {
   "cell_type": "code",
   "execution_count": null,
   "id": "12f5ec45-6e98-466a-964d-3e9a437ac004",
   "metadata": {},
   "outputs": [],
   "source": [
    "mbs.contaminants_bar(metabolites,\n",
    "                     list_contaminants = ['metabolites_concentration'],\n",
    "                     list_labels = ['all metabolites'],\n",
    "                     sort = True,\n",
    "                     name_sample = True,\n",
    "                     figsize = [18,5],\n",
    "                     textsize = 12,\n",
    "                     ylabel = r'Total metabolites concentration [$\\mu$g/l]',\n",
    "                     loc='upper left',\n",
    "                     title_text = 'Total concentration of metabolites per sample',\n",
    "                     xtick_autorotate = True,\n",
    "                      # save_fig = 'metabolites_bar.png',\n",
    "                     )"
   ]
  },
  {
   "cell_type": "markdown",
   "id": "348602d1-aa81-442b-8d85-d20c6dafdc13",
   "metadata": {},
   "source": [
    "Producing the plot individually using `matplotlib` and `numpy` for individual adaptions:"
   ]
  },
  {
   "cell_type": "code",
   "execution_count": null,
   "id": "faef3a5c-532e-4bad-83b6-6621cd2cffee",
   "metadata": {},
   "outputs": [],
   "source": [
    "fig = plt.figure(figsize = [18,5])\n",
    "sort_args = np.argsort(metabolites['metabolites_concentration'].values)\n",
    "plt.bar(metabolites.sample_nr.values[sort_args],metabolites['metabolites_concentration'].values[sort_args],label='all')\n",
    "plt.xlabel('Samples')\n",
    "plt.ylabel(r'Total metabolites concentration [$\\mu$g/l]')\n",
    "plt.title('Total concentration of metabolites per sample')\n",
    "fig.autofmt_xdate(bottom=0.2, rotation=30, ha='right', which='major')"
   ]
  },
  {
   "cell_type": "markdown",
   "id": "fb1559d3-ebc7-444f-8cf8-f49223aae890",
   "metadata": {},
   "source": [
    "### Plotting total counts of metabolites"
   ]
  },
  {
   "cell_type": "code",
   "execution_count": null,
   "id": "23543cb4-ece7-4eb5-9135-3491b57de149",
   "metadata": {},
   "outputs": [],
   "source": [
    "mbs.contaminants_bar(metabolites,\n",
    "                     list_contaminants = ['metabolites_count'],\n",
    "                     list_labels = ['total metabolites count'],\n",
    "                     sort = True,\n",
    "                     name_sample = True,\n",
    "                     figsize = [18,5],\n",
    "                     textsize = 12,\n",
    "                     ylabel = r'Total metabolites count',\n",
    "                     loc='upper left',\n",
    "                     title_text = 'Total count of metabolites per sample',\n",
    "                     xtick_autorotate = True,\n",
    "                      # save_fig = 'metabolites_count_bar.png',\n",
    "                     )"
   ]
  },
  {
   "cell_type": "markdown",
   "id": "2093c961-99f3-4eaa-b5e4-b17f430cd0e1",
   "metadata": {},
   "source": [
    "## Relating Metabolite activity to electron availability\n",
    "\n",
    "#### Load data of contaminants and geochemicals to identify electron availability and NA activity color"
   ]
  },
  {
   "cell_type": "code",
   "execution_count": null,
   "id": "5045254d-d748-4297-9276-d02d25695f55",
   "metadata": {},
   "outputs": [],
   "source": [
    "contaminants_raw,_ = mbs.load_excel(file_path,\n",
    "                                    sheet_name = 'contaminants',\n",
    "                                    verbose = False)\n",
    "contaminants,units = mbs.standardize(contaminants_raw,verbose = False)\n",
    "environment_raw,_ = mbs.load_excel(file_path,\n",
    "                                   sheet_name = 'environment',\n",
    "                                   verbose = False)\n",
    "environment,units = mbs.standardize(environment_raw,verbose = False)"
   ]
  },
  {
   "cell_type": "markdown",
   "id": "99cb61ac-497d-460c-8fd4-82b53308cef6",
   "metadata": {},
   "source": [
    "#### Enrich data by data analysis needed"
   ]
  },
  {
   "cell_type": "code",
   "execution_count": null,
   "id": "db130890-930a-467a-9077-18fc9ffdbdc7",
   "metadata": {},
   "outputs": [],
   "source": [
    "mbs.total_contaminant_concentration(contaminants,include = True)\n",
    "mbs.total_metabolites_count(metabolites,include = True)\n",
    "data_NA = mbs.merge_data([environment,contaminants,metabolites])\n",
    "mbs.sample_NA_traffic(data_NA,include = True)"
   ]
  },
  {
   "cell_type": "markdown",
   "id": "1ddf4a6d-ae7b-4427-bc5c-feb7c60bc492",
   "metadata": {},
   "source": [
    "#### Activity plot linking contaminant concentration to metabolite occurence and NA screening"
   ]
  },
  {
   "cell_type": "code",
   "execution_count": null,
   "id": "694a28fc-1826-4cb2-aa44-237cd0348c5e",
   "metadata": {},
   "outputs": [],
   "source": [
    "data_activity =  mbs.activity_data_prep(data_NA)\n",
    "data_activity['tot_cont'] = data_activity['tot_cont']*0.001"
   ]
  },
  {
   "cell_type": "code",
   "execution_count": null,
   "id": "5683c518-fb2c-426a-a337-7f2d8cfb03d9",
   "metadata": {},
   "outputs": [],
   "source": [
    "#fig, ax = mbs.activity_plot(data_activity)\n",
    "fig, ax = mbs.activity_plot(data_activity,\n",
    "                       figsize = [6,4],\n",
    "                       textsize = 12,\n",
    "                       xscale = 'log',\n",
    "                       markersize = 60,\n",
    "                       loc='center right',\n",
    "                       xlabel = r\"Concentration contaminants [mg/L]\",\n",
    "                       #save_fig = 'activity.png'\n",
    "                       )"
   ]
  }
 ],
 "metadata": {
  "kernelspec": {
   "display_name": "Python 3 (ipykernel)",
   "language": "python",
   "name": "python3"
  },
  "language_info": {
   "codemirror_mode": {
    "name": "ipython",
    "version": 3
   },
   "file_extension": ".py",
   "mimetype": "text/x-python",
   "name": "python",
   "nbconvert_exporter": "python",
   "pygments_lexer": "ipython3"
  }
 },
 "nbformat": 4,
 "nbformat_minor": 5
}

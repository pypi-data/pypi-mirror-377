{
 "cells": [
  {
   "cell_type": "markdown",
   "id": "4d35df26-33db-4d65-9d69-169861d27296",
   "metadata": {},
   "source": [
    "# MiBiPreT example: Ordination with Amersfoort data\n",
    "\n",
    "Diagnostic plots for data analysis on microbial biodegredation at the contaminant Amersfoort site. Author: Alraune Zech\n",
    "\n",
    "Data based on the PhD thesis of *Johan van Leeuwen*, 2021 'Biodegredation of mono- and polyaromatic hydrocarbons in a contaminated aquifer originating from a former Pintsch gas factory site' which is equivalent to the manuscript of van Leeuwen et al., 2022 'Anaerobic degradation of benzene and other aromatic hydrocarbons in a tar-derived plume: Nitrate versus iron reducing conditions', J. of Cont. Hydrol. The data was provided by Johan van Leeuwen.\n",
    "  \n",
    "## Background: Amersfoort contaminant site\n",
    "\n",
    "Close to the train station in Amersfoort, the Netherlands, the subsurface is contaminated with organic hydrocarbons forming a NAPL. Contamination originates from decades of operating manufactured gas plant, which dumped tar by-products in waste lagoons. The tar is a DNAPL and has spread into the underlying shallow unconfined aquifer. Sample wells were installed to measure various characteristics of the subsurface. The raw data contains measurements on\n",
    "* environmental conditions, such as pH, redox potential, concentrations of oxygen, nitrate, etc\n",
    "* contaminant concentration such as BTEX, indene, indane, naphtalene and multiple other (typically cyclic) petroleum hydrocarbons\n",
    "* metabolite concentration, i.e. byproducts of degredation processes of contaminant\n",
    "* isotope measurments for specific contaminants and samples\n",
    "* counts of genes (RNA/DNA) of mibrobiota that is know to perform biodegredation as well as functional enzymes know to be responsible for biodegredation"
   ]
  },
  {
   "cell_type": "markdown",
   "id": "ae64ffdd-62de-49b6-8bd5-67463e40f336",
   "metadata": {},
   "source": [
    "**Required packages**"
   ]
  },
  {
   "cell_type": "code",
   "execution_count": null,
   "id": "536c85e1-eaf1-4968-9c43-6acb605b4634",
   "metadata": {},
   "outputs": [],
   "source": [
    "import mibiscreen as mbs"
   ]
  },
  {
   "cell_type": "markdown",
   "id": "232d83bc-bc2e-4834-a12b-2223067e5fb7",
   "metadata": {},
   "source": [
    "## Analysis\n",
    "\n",
    "### Data loading"
   ]
  },
  {
   "cell_type": "code",
   "execution_count": null,
   "id": "80e749fa-c1e7-4903-9b8c-210b465bba0e",
   "metadata": {},
   "outputs": [],
   "source": [
    "file_path = './amersfoort.xlsx'"
   ]
  },
  {
   "cell_type": "markdown",
   "id": "1094e3e9-c822-4c4c-a625-7b59159d17e8",
   "metadata": {},
   "source": [
    "Load and standardize data of environmental quantities/chemicals"
   ]
  },
  {
   "cell_type": "code",
   "execution_count": null,
   "id": "4186f2e4-e109-41ab-b17c-a7e9556def39",
   "metadata": {},
   "outputs": [],
   "source": [
    "environment_raw,units = mbs.load_excel(file_path,\n",
    "                                    sheet_name = 'environment',\n",
    "                                    verbose = False)\n",
    "\n",
    "environment,units = mbs.standardize(environment_raw,\n",
    "                                reduce = True,\n",
    "                                verbose=False)"
   ]
  },
  {
   "cell_type": "markdown",
   "id": "ab7f9683-e74d-44ab-9aa2-7ea63acbdbfa",
   "metadata": {},
   "source": [
    "Load and standardize data of contaminants:"
   ]
  },
  {
   "cell_type": "code",
   "execution_count": null,
   "id": "8b4bc2d9-d4a1-4333-afdd-aa316b714d4d",
   "metadata": {},
   "outputs": [],
   "source": [
    "contaminants_raw,units = mbs.load_excel(file_path,\n",
    "                                    sheet_name = 'contaminants',\n",
    "                                    verbose = False)\n",
    "\n",
    "contaminants,units = mbs.standardize(contaminants_raw,\n",
    "                                  reduce = False,\n",
    "                                  verbose = False)\n",
    "\n",
    "mbs.total_contaminant_concentration(contaminants,\n",
    "                                include = True,\n",
    "                                verbose = False)"
   ]
  },
  {
   "cell_type": "markdown",
   "id": "253049a2-3a9e-45e7-8aa0-948bd7df1a58",
   "metadata": {},
   "source": [
    "Merge both data frames into one for further analysis:"
   ]
  },
  {
   "cell_type": "code",
   "execution_count": null,
   "id": "418b2649-3650-4219-9d48-83182016c70f",
   "metadata": {},
   "outputs": [],
   "source": [
    "data = mbs.merge_data([environment,contaminants],clean = True)"
   ]
  },
  {
   "cell_type": "markdown",
   "id": "4e163ea6-bf1e-43c8-8a88-6ea5bd548408",
   "metadata": {},
   "source": [
    "### Data pre-processing"
   ]
  },
  {
   "cell_type": "markdown",
   "id": "7b2b2da5-98b2-4a81-9484-a25739d457a9",
   "metadata": {},
   "source": [
    "Specification of variables to chose for ordination. We make sure that variables selected for analysis are in standard names."
   ]
  },
  {
   "cell_type": "code",
   "execution_count": null,
   "id": "30a78e3e-b5ed-4602-ba7c-661e0afaa15e",
   "metadata": {},
   "outputs": [],
   "source": [
    "variables_1 = mbs.standard_names(['total_contaminants'])\n",
    "variables_2 = mbs.standard_names(['nitrate','pH','nitrite','sulfate','Redox','EC','DOC',\"Mn\",\"Fe\"])"
   ]
  },
  {
   "cell_type": "markdown",
   "id": "d8bddcb2-d36f-4eba-8377-6a731a833b75",
   "metadata": {},
   "source": [
    "Extracting data of interest from data frame. All other quantities are removed, since only columns of interest should be passed to ordination analysis routines. "
   ]
  },
  {
   "cell_type": "code",
   "execution_count": null,
   "id": "6c7df123-fc2a-4033-9cc5-6741e96e39af",
   "metadata": {},
   "outputs": [],
   "source": [
    "data_ordination = mbs.extract_data(data,\n",
    "                               name_list = variables_1 + variables_2,\n",
    "                               keep_setting_data = True)"
   ]
  },
  {
   "cell_type": "markdown",
   "id": "39cbda27-4568-4f90-b4f7-f770b2150f49",
   "metadata": {},
   "source": [
    "Cleaning data, i.e. remove all sites where measurements are missing for any of the quantities"
   ]
  },
  {
   "cell_type": "code",
   "execution_count": null,
   "id": "7d45a5c9-13fe-4e18-82f9-2289d6a7e498",
   "metadata": {},
   "outputs": [],
   "source": [
    "data_filtered = mbs.filter_values(data_ordination, \n",
    "              replace_NaN = 'remove', \n",
    "              inplace = True,\n",
    "              verbose = True)\n",
    "data_filtered"
   ]
  },
  {
   "cell_type": "markdown",
   "id": "72208484-a3b4-4460-8cf4-18f5abbb5462",
   "metadata": {},
   "source": [
    "### Data transformation\n",
    "\n",
    "Concentrations of contaminants (`Sum GC`) is log-transformed (given that concentration vary over orders of magnitude) and then standardized.\n",
    "Other data is only standardized."
   ]
  },
  {
   "cell_type": "code",
   "execution_count": null,
   "id": "28570c35-ab3b-402a-965c-cd8699715747",
   "metadata": {},
   "outputs": [],
   "source": [
    "data_transformed = mbs.transform_values(data_ordination,\n",
    "                 name_list = variables_1,\n",
    "                 how = 'log_scale',\n",
    "                 inplace = True,\n",
    "                 )\n",
    "\n",
    "data_transformed = mbs.transform_values(data_ordination,\n",
    "                  name_list = variables_1,\n",
    "                  how = 'standardize',\n",
    "                  inplace = True,\n",
    "                  )\n",
    "\n",
    "data_transformed = mbs.transform_values(data_ordination,\n",
    "                  name_list = variables_2,\n",
    "                  how = 'standardize',\n",
    "                  inplace = True,\n",
    "                )"
   ]
  },
  {
   "cell_type": "markdown",
   "id": "e3e0125e-349c-430c-a5cf-c656f543b35f",
   "metadata": {},
   "source": [
    "### Ordination analysis by PCA"
   ]
  },
  {
   "cell_type": "code",
   "execution_count": null,
   "id": "861c62e3-ba4f-4434-bb2a-74070e08b25e",
   "metadata": {},
   "outputs": [],
   "source": [
    "ordination_output = mbs.pca(data_ordination,\n",
    "                        independent_variables = variables_1+variables_2,\n",
    "                        verbose = True)"
   ]
  },
  {
   "cell_type": "markdown",
   "id": "d3b7a990-991c-4451-a475-209b25eba09d",
   "metadata": {},
   "source": [
    "### Ordination plot"
   ]
  },
  {
   "cell_type": "code",
   "execution_count": null,
   "id": "e5348b75-878c-4810-9253-60a42e03e4ca",
   "metadata": {},
   "outputs": [],
   "source": [
    "fig, ax = mbs.ordination_plot(ordination_output=ordination_output,\n",
    "                plot_scores = True, \n",
    "                plot_loadings = True,\n",
    "                rescale_loadings_scores = True, \n",
    "                title = \"Unconstrained Ordination PCA\",                \n",
    "                # plot_scores = False, \n",
    "                # axis_ranges = [-0.6,0.8,-0.8,1.0],\n",
    "                # save_fig = 'ordination_amersfoort.png',\n",
    "                )"
   ]
  },
  {
   "cell_type": "markdown",
   "id": "dd0a7427-172e-4e65-88ba-9bda8588fc23",
   "metadata": {},
   "source": [
    "### Interpretation\n",
    "\n",
    "The figure shows the results of the PCA (principle component analysis) as multi-variate statistics tool for the geochemical parameters. The axes denote the percentage of variance explained by each principal component. Data was standardized, with `Sum GC` (being the total sum of contaminants) being logarithmically transformed as via $log(x+1)$.\n",
    "\n",
    "This biplot shows two different elements of information: the variable loadings show as arrows and the site scores shown as dots. The two plot axis represent the two main axis identified by the ordination methods. They are scales to the minimal value of $-1$ and the maximum value of $1$. \n",
    "\n",
    "The direction of the arrow indicates to which ordination axis it correlates. The length of the vector is equivalent to the extent of that correlation. Positive scores or loadings indicate positive correlation with the axis, where negative values indicate negative \n",
    "correlation. For example, a variable with negative loadings for the first two ordination axes is anticorrelated with the two largest trends in the data. Arrows pointing in the same direction indicate that the variable are correlated. Arrows at an right angle to one another are uncorrelated. Arrows that point in opposite directions are anti-correlated. A vector very close to the origin shows little to no correlation with the axes. \n",
    "\n",
    "Proximity of the site scores in the plot indicate the similarity between the sample sites. "
   ]
  }
 ],
 "metadata": {
  "kernelspec": {
   "display_name": "Python 3 (ipykernel)",
   "language": "python",
   "name": "python3"
  },
  "language_info": {
   "codemirror_mode": {
    "name": "ipython",
    "version": 3
   },
   "file_extension": ".py",
   "mimetype": "text/x-python",
   "name": "python",
   "nbconvert_exporter": "python",
   "pygments_lexer": "ipython3"
  }
 },
 "nbformat": 4,
 "nbformat_minor": 5
}

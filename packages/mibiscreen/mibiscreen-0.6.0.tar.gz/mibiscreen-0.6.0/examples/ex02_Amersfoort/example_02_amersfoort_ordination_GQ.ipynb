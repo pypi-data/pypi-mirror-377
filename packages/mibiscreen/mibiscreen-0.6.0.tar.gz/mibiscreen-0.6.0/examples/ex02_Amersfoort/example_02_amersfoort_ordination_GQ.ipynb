{
 "cells": [
  {
   "cell_type": "markdown",
   "id": "4d35df26-33db-4d65-9d69-169861d27296",
   "metadata": {},
   "source": [
    "# MiBiPreT example: Ordination with Amersfoort data\n",
    "\n",
    "Diagnostic plots for data analysis on microbial biodegredation at the contaminant Amersfoort site. Author: Alraune Zech\n",
    "\n",
    "Data based on the PhD thesis of *Johan van Leeuwen*, 2021 'Biodegredation of mono- and polyaromatic hydrocarbons in a contaminated aquifer originating from a former Pintsch gas factory site' which is equivalent to the manuscript of van Leeuwen et al., 2022 'Anaerobic degradation of benzene and other aromatic hydrocarbons in a tar-derived plume: Nitrate versus iron reducing conditions', J. of Cont. Hydrol. The data was provided by Johan van Leeuwen.\n",
    "  \n",
    "## Background: Amersfoort contaminant site\n",
    "\n",
    "Close to the train station in Amersfoort, the Netherlands, the subsurface is contaminated with organic hydrocarbons forming a NAPL. Contamination originates from decades of operating manufactured gas plant, which dumped tar by-products in waste lagoons. The tar is a DNAPL and has spread into the underlying shallow unconfined aquifer. Sample wells were installed to measure various characteristics of the subsurface. The raw data contains measurements on\n",
    "* environmental conditions, such as pH, redox potential, concentrations of oxygen, nitrate, etc\n",
    "* contaminant concentration such as BTEX, indene, indane, naphtalene and multiple other (typically cyclic) petroleum hydrocarbons\n",
    "* metabolite concentration, i.e. byproducts of degredation processes of contaminant\n",
    "* isotope measurments for specific contaminants and samples\n",
    "* counts of genes (RNA/DNA) of mibrobiota that is know to perform biodegredation as well as functional enzymes know to be responsible for biodegredation"
   ]
  },
  {
   "cell_type": "markdown",
   "id": "ae64ffdd-62de-49b6-8bd5-67463e40f336",
   "metadata": {},
   "source": [
    "**Required packages**"
   ]
  },
  {
   "cell_type": "code",
   "execution_count": null,
   "id": "536c85e1-eaf1-4968-9c43-6acb605b4634",
   "metadata": {},
   "outputs": [],
   "source": [
    "import mibiscreen as mbs"
   ]
  },
  {
   "cell_type": "markdown",
   "id": "232d83bc-bc2e-4834-a12b-2223067e5fb7",
   "metadata": {},
   "source": [
    "## Data loading"
   ]
  },
  {
   "cell_type": "code",
   "execution_count": null,
   "id": "80e749fa-c1e7-4903-9b8c-210b465bba0e",
   "metadata": {},
   "outputs": [],
   "source": [
    "file_path = './amersfoort.xlsx'"
   ]
  },
  {
   "cell_type": "markdown",
   "id": "1094e3e9-c822-4c4c-a625-7b59159d17e8",
   "metadata": {},
   "source": [
    "Load and standardize data of environmental quantities/chemicals"
   ]
  },
  {
   "cell_type": "code",
   "execution_count": null,
   "id": "4186f2e4-e109-41ab-b17c-a7e9556def39",
   "metadata": {},
   "outputs": [],
   "source": [
    "environment_raw,units = mbs.load_excel(file_path,\n",
    "                                    sheet_name = 'environment',\n",
    "                                    verbose = False)\n",
    "\n",
    "environment,units = mbs.standardize(environment_raw,\n",
    "                                reduce = True,\n",
    "                                verbose=False)"
   ]
  },
  {
   "cell_type": "markdown",
   "id": "ab7f9683-e74d-44ab-9aa2-7ea63acbdbfa",
   "metadata": {},
   "source": [
    "Load and standardize data of contaminants:"
   ]
  },
  {
   "cell_type": "code",
   "execution_count": null,
   "id": "8b4bc2d9-d4a1-4333-afdd-aa316b714d4d",
   "metadata": {},
   "outputs": [],
   "source": [
    "contaminants_raw,units = mbs.load_excel(file_path,\n",
    "                                    sheet_name = 'contaminants',\n",
    "                                    verbose = False)\n",
    "\n",
    "contaminants,units = mbs.standardize(contaminants_raw,\n",
    "                                  reduce = False,\n",
    "                                  verbose = False)\n",
    "\n",
    "mbs.total_contaminant_concentration(contaminants,\n",
    "                                include = True,\n",
    "                                verbose = False)"
   ]
  },
  {
   "cell_type": "markdown",
   "id": "9bde3d18-8817-4462-84a4-8c975852a6d5",
   "metadata": {},
   "source": [
    "Load and standardize data of DNA related data:"
   ]
  },
  {
   "cell_type": "code",
   "execution_count": null,
   "id": "34101d71-4fcb-446d-87d9-91a8f3aeca32",
   "metadata": {},
   "outputs": [],
   "source": [
    "###------------------------------------------------------------------------###\n",
    "### Load and standardize data of contaminants\n",
    "dna_raw,units = mbs.load_excel(file_path,\n",
    "                           sheet_name = 'sequencing',\n",
    "                           verbose = True)\n",
    "\n",
    "dna,units = mbs.standardize(dna_raw,\n",
    "                        reduce = False,\n",
    "                        verbose = True)"
   ]
  },
  {
   "cell_type": "markdown",
   "id": "253049a2-3a9e-45e7-8aa0-948bd7df1a58",
   "metadata": {},
   "source": [
    "Merge both data frames into one for further analysis:"
   ]
  },
  {
   "cell_type": "code",
   "execution_count": null,
   "id": "418b2649-3650-4219-9d48-83182016c70f",
   "metadata": {},
   "outputs": [],
   "source": [
    "data = mbs.merge_data([environment,contaminants],clean = True)"
   ]
  },
  {
   "cell_type": "markdown",
   "id": "4e163ea6-bf1e-43c8-8a88-6ea5bd548408",
   "metadata": {},
   "source": [
    "## Unconstrained Analysis (PCA)\n",
    "### Data pre-processing"
   ]
  },
  {
   "cell_type": "markdown",
   "id": "7b2b2da5-98b2-4a81-9484-a25739d457a9",
   "metadata": {},
   "source": [
    "Specification of variables to chose for ordination. We make sure that variables selected for analysis are in standard names."
   ]
  },
  {
   "cell_type": "code",
   "execution_count": null,
   "id": "30a78e3e-b5ed-4602-ba7c-661e0afaa15e",
   "metadata": {},
   "outputs": [],
   "source": [
    "variables_1 = mbs.standard_names(['total_contaminants'])\n",
    "variables_2 = mbs.standard_names(['nitrate','pH','nitrite','sulfate','Redox','EC','DOC',\"Mn2\",\"Fe2\"])"
   ]
  },
  {
   "cell_type": "markdown",
   "id": "d8bddcb2-d36f-4eba-8377-6a731a833b75",
   "metadata": {},
   "source": [
    "Extracting data of interest from data frame. All other quantities are removed, since only columns of interest should be passed to ordination analysis routines. "
   ]
  },
  {
   "cell_type": "code",
   "execution_count": null,
   "id": "6c7df123-fc2a-4033-9cc5-6741e96e39af",
   "metadata": {},
   "outputs": [],
   "source": [
    "data_ordination = mbs.extract_data(data,\n",
    "                               name_list = variables_1 + variables_2,\n",
    "                               keep_setting_data = True)"
   ]
  },
  {
   "cell_type": "markdown",
   "id": "39cbda27-4568-4f90-b4f7-f770b2150f49",
   "metadata": {},
   "source": [
    "Cleaning data, i.e. remove all sites where measurements are missing for any of the quantities"
   ]
  },
  {
   "cell_type": "code",
   "execution_count": null,
   "id": "7d45a5c9-13fe-4e18-82f9-2289d6a7e498",
   "metadata": {},
   "outputs": [],
   "source": [
    "data_filtered = mbs.filter_values(data_ordination, \n",
    "              replace_NaN = 'remove', \n",
    "              inplace = True,\n",
    "              verbose = True)\n",
    "data_filtered"
   ]
  },
  {
   "cell_type": "markdown",
   "id": "72208484-a3b4-4460-8cf4-18f5abbb5462",
   "metadata": {},
   "source": [
    "### Data transformation\n",
    "\n",
    "Concentrations of contaminants (`Sum GC`) is log-transformed (given that concentration vary over orders of magnitude) and then standardized.\n",
    "Other data is only standardized."
   ]
  },
  {
   "cell_type": "code",
   "execution_count": null,
   "id": "28570c35-ab3b-402a-965c-cd8699715747",
   "metadata": {},
   "outputs": [],
   "source": [
    "data_transformed = mbs.transform_values(data_ordination,\n",
    "                 name_list = variables_1,\n",
    "                 how = 'log_scale',\n",
    "                 inplace = True,\n",
    "                 )\n",
    "\n",
    "data_transformed = mbs.transform_values(data_ordination,\n",
    "                  name_list = variables_1,\n",
    "                  how = 'standardize',\n",
    "                  inplace = True,\n",
    "                  )\n",
    "\n",
    "data_transformed = mbs.transform_values(data_ordination,\n",
    "                  name_list = variables_2,\n",
    "                  how = 'standardize',\n",
    "                  inplace = True,\n",
    "                )"
   ]
  },
  {
   "cell_type": "markdown",
   "id": "e3e0125e-349c-430c-a5cf-c656f543b35f",
   "metadata": {},
   "source": [
    "### Ordination analysis by PCA"
   ]
  },
  {
   "cell_type": "code",
   "execution_count": null,
   "id": "861c62e3-ba4f-4434-bb2a-74070e08b25e",
   "metadata": {},
   "outputs": [],
   "source": [
    "ordination_output = mbs.pca(data_ordination,\n",
    "                        independent_variables = variables_1+variables_2,\n",
    "                        verbose = True)"
   ]
  },
  {
   "cell_type": "markdown",
   "id": "d3b7a990-991c-4451-a475-209b25eba09d",
   "metadata": {},
   "source": [
    "### Ordination plot"
   ]
  },
  {
   "cell_type": "code",
   "execution_count": null,
   "id": "e4808523-f6b7-4019-a575-d90ad4797ef6",
   "metadata": {},
   "outputs": [],
   "source": [
    "fig, ax = mbs.ordination_plot(ordination_output=ordination_output,\n",
    "                plot_scores = True, \n",
    "                plot_loadings = True,\n",
    "                rescale_loadings_scores = True,\n",
    "                figsize = [4.5,3],\n",
    "                title = \"Unconstrained Ordination PCA\",                \n",
    "                axis_ranges = [-0.6,0.8,-0.6,0.7],\n",
    "                label_fontsize = 10,\n",
    "                loading_fontsize = 8,\n",
    "                #score_fontsize = 6,\n",
    "                #save_fig = 'ordination_amersfoort_pca.png',\n",
    "                )"
   ]
  },
  {
   "cell_type": "markdown",
   "id": "dd0a7427-172e-4e65-88ba-9bda8588fc23",
   "metadata": {},
   "source": [
    "### Interpretation\n",
    "\n",
    "The figure shows the results of the PCA (principle component analysis) as multi-variate statistics tool for the geochemical parameters. The axes denote the percentage of variance explained by each principal component. Data was standardized, with `Sum GC` (being the total sum of contaminants) being logarithmically transformed as via $log(x+1)$.\n",
    "\n",
    "This biplot shows two different elements of information: the variable loadings show as arrows and the site scores shown as dots. The two plot axis represent the two main axis identified by the ordination methods. They are scales to the minimal value of $-1$ and the maximum value of $1$. \n",
    "\n",
    "The direction of the arrow indicates to which ordination axis it correlates. The length of the vector is equivalent to the extent of that correlation. Positive scores or loadings indicate positive correlation with the axis, where negative values indicate negative \n",
    "correlation. For example, a variable with negative loadings for the first two ordination axes is anticorrelated with the two largest trends in the data. Arrows pointing in the same direction indicate that the variable are correlated. Arrows at an right angle to one another are uncorrelated. Arrows that point in opposite directions are anti-correlated. A vector very close to the origin shows little to no correlation with the axes. \n",
    "\n",
    "Proximity of the site scores in the plot indicate the similarity between the sample sites. "
   ]
  },
  {
   "cell_type": "markdown",
   "id": "a0b64950-7749-42c0-8b6e-f04e3887a36d",
   "metadata": {},
   "source": [
    "## Constrained Analysis (CCA & RDA)\n",
    "### Data preprocessing\n",
    "\n",
    "Specify groups of quantities to perform analysis on:\n",
    "* group of geochemical parameters\n",
    "* group of contaminants\n",
    "* sequencing data"
   ]
  },
  {
   "cell_type": "code",
   "execution_count": null,
   "id": "ceb4d979-b418-4eb9-a4b0-ee5f2ba072d5",
   "metadata": {},
   "outputs": [],
   "source": [
    "geochemicals_group = ['nitrate','sulfate','redoxpot','iron2','manganese2']\n",
    "#contaminant_group = ['benzene','toluene','ethylbenzene','pm_xylene','indene','naphthalene']\n",
    "contaminant_group = ['benzene','toluene','indene','naphthalene']\n",
    "variables_dna = ['Total bacteria 16SRrna', 'Benzene carboxylase', 'NirS', 'NarG', 'BssA SRB',\n",
    "                 'BssA nitraat', 'Peptococcus']"
   ]
  },
  {
   "cell_type": "markdown",
   "id": "4f0b5c46-3381-44c7-97ca-a024e40057a8",
   "metadata": {},
   "source": [
    "Extract data of quantities of interest:\n",
    "*geochemical\n",
    "*contaminants"
   ]
  },
  {
   "cell_type": "code",
   "execution_count": null,
   "id": "68cf38bb-c872-48bf-91a9-adc420ad2d73",
   "metadata": {},
   "outputs": [],
   "source": [
    "geochem_selected = environment[['sample_nr']+geochemicals_group]\n",
    "cont_selected = contaminants[['sample_nr']+contaminant_group]\n",
    "\n",
    "contaminant_group_analysis = list(cont_selected.columns)\n",
    "contaminant_group_analysis.remove('sample_nr')"
   ]
  },
  {
   "cell_type": "markdown",
   "id": "e186bf15-7a35-4ae3-98d4-2ba2831be596",
   "metadata": {},
   "source": [
    "Concatenate all relevant data:"
   ]
  },
  {
   "cell_type": "code",
   "execution_count": null,
   "id": "2ad63f9c-4eb9-4591-b0b1-d11781ad9b4b",
   "metadata": {},
   "outputs": [],
   "source": [
    "data_ordination = mbs.merge_data([geochem_selected,cont_selected,dna],clean = True)\n"
   ]
  },
  {
   "cell_type": "markdown",
   "id": "89c50d89-66de-4a13-b3c6-bb2c72b5390a",
   "metadata": {},
   "source": [
    "### Data transformation for CCA"
   ]
  },
  {
   "cell_type": "code",
   "execution_count": null,
   "id": "a7992b3a-dc07-41de-af16-98e7854e7270",
   "metadata": {},
   "outputs": [],
   "source": [
    "data_cca = data_ordination.copy()\n",
    "\n",
    "mbs.filter_values(data_cca,\n",
    "              replace_NaN = 'remove',#'average',  # #'zero'\n",
    "              inplace = True,\n",
    "              #verbose = True\n",
    "                 )\n",
    "\n",
    "mbs.transform_values(data_cca,\n",
    "                 name_list = variables_dna,\n",
    "                 how = 'log_scale',\n",
    "                 inplace = True,\n",
    "                 )"
   ]
  },
  {
   "cell_type": "markdown",
   "id": "4fb18d32-3da5-4cfe-bb26-345663084668",
   "metadata": {},
   "source": [
    "### Ordination analysis by CCA"
   ]
  },
  {
   "cell_type": "code",
   "execution_count": null,
   "id": "c8a1b556-53ea-4ac5-80d8-a6b0f54717e6",
   "metadata": {},
   "outputs": [],
   "source": [
    "cca_output = mbs.cca(data_cca,\n",
    "                  independent_variables = contaminant_group_analysis,\n",
    "                  dependent_variables = variables_dna,\n",
    "                  verbose = True)"
   ]
  },
  {
   "cell_type": "markdown",
   "id": "4bc6882c-9dcf-42e4-9e57-32aacd7dbe99",
   "metadata": {},
   "source": [
    "### plot results CCA"
   ]
  },
  {
   "cell_type": "code",
   "execution_count": null,
   "id": "d1259e04-2f68-4787-a4d3-d37992787c5a",
   "metadata": {},
   "outputs": [],
   "source": [
    "fig, ax = mbs.ordination_plot(ordination_output=cca_output,\n",
    "                plot_scores = False,\n",
    "                plot_loadings = True,\n",
    "                rescale_loadings_scores = False,\n",
    "                label_fontsize = 10,\n",
    "                loading_fontsize = 8,\n",
    "                score_fontsize = 6,\n",
    "                title =\"Constrained Ordination CCA\",\n",
    "                save_fig = 'cca_dna.png',\n",
    "                )"
   ]
  },
  {
   "cell_type": "markdown",
   "id": "0a8fa1b0-4d1c-442e-8a8a-80eb22389cb4",
   "metadata": {},
   "source": [
    "### Data transformation for RDA"
   ]
  },
  {
   "cell_type": "code",
   "execution_count": null,
   "id": "d36f65b8-122f-464c-9b09-a114f8aa986e",
   "metadata": {},
   "outputs": [],
   "source": [
    "data_rda = data_ordination.copy()\n",
    "\n",
    "mbs.filter_values(data_rda,\n",
    "              replace_NaN = 'zero',\n",
    "              # replace_NaN = 'average',\n",
    "              # replace_NaN = 'remove',\n",
    "              inplace = True,\n",
    "              verbose = True)\n",
    "\n",
    "### if (part of) data is log-transformed (before standardization):\n",
    "mbs.transform_values(data_rda,\n",
    "                  name_list = variables_dna,\n",
    "                  how = 'log_scale',\n",
    "                  inplace = True,\n",
    "                  )\n",
    "\n",
    "mbs.transform_values(data_rda,\n",
    "                  how = 'standardize',\n",
    "                  inplace = True,\n",
    "                  )\n"
   ]
  },
  {
   "cell_type": "markdown",
   "id": "8599df9e-9828-4be8-83c1-b6ca1e1dcec4",
   "metadata": {},
   "source": [
    "### Ordination analysis by RDA"
   ]
  },
  {
   "cell_type": "code",
   "execution_count": null,
   "id": "e16d1df7-bf9f-4c6a-9694-62f3bb30bd12",
   "metadata": {},
   "outputs": [],
   "source": [
    "rda_output = mbs.rda(data_rda,\n",
    "                  independent_variables = contaminant_group_analysis,\n",
    "                  # independent_variables = contaminant_group_analysis + geochemicals_group,\n",
    "                  dependent_variables = variables_dna,\n",
    "                  verbose = True)\n"
   ]
  },
  {
   "cell_type": "markdown",
   "id": "9da2699f-1323-4172-87b0-31f10d290198",
   "metadata": {},
   "source": [
    "### plot results RDA"
   ]
  },
  {
   "cell_type": "code",
   "execution_count": null,
   "id": "9facfad6-3a7e-4c62-9b7e-3a0b9514def3",
   "metadata": {},
   "outputs": [],
   "source": [
    "fig, ax = mbs.ordination_plot(ordination_output=rda_output,\n",
    "                plot_scores = False,\n",
    "                plot_loadings = True,\n",
    "                rescale_loadings_scores = False,\n",
    "                title = \"Constrained Ordination RDA\",\n",
    "                figsize = [4.5,3],\n",
    "                label_fontsize = 10,\n",
    "                loading_fontsize = 8,\n",
    "                #score_fontsize = 6,\n",
    "                # axis_ranges = [-0.6,0.8,-0.8,1.0],\n",
    "                save_fig = 'ordination_amersfoort_rda.png',\n",
    "                )"
   ]
  },
  {
   "cell_type": "code",
   "execution_count": null,
   "id": "3e6bd870-57e6-4a2a-ba42-4b256e964f3e",
   "metadata": {},
   "outputs": [],
   "source": []
  }
 ],
 "metadata": {
  "kernelspec": {
   "display_name": "Python 3 (ipykernel)",
   "language": "python",
   "name": "python3"
  },
  "language_info": {
   "codemirror_mode": {
    "name": "ipython",
    "version": 3
   },
   "file_extension": ".py",
   "mimetype": "text/x-python",
   "name": "python",
   "nbconvert_exporter": "python",
   "pygments_lexer": "ipython3"
  }
 },
 "nbformat": 4,
 "nbformat_minor": 5
}

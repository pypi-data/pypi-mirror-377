{
 "cells": [
  {
   "cell_type": "markdown",
   "id": "4f38c873-ed85-4206-8796-06d1a4a34500",
   "metadata": {},
   "source": [
    "# MiBiPreT data analysis mock-up"
   ]
  },
  {
   "cell_type": "markdown",
   "id": "3548de9a-2e7f-4d16-a4a5-40bdb6c84b88",
   "metadata": {},
   "source": [
    "## User story\n",
    "Company Tauw wants to analyse the data of a specific field site to evaluate if biodegradation is a feasible option for contaminant removal."
   ]
  },
  {
   "cell_type": "code",
   "execution_count": null,
   "id": "4e6c157d-0d62-443a-b867-182549352140",
   "metadata": {},
   "outputs": [],
   "source": [
    "import mibipret\n",
    "from mibipret.data import test_data\n",
    "\n",
    "%matplotlib inline"
   ]
  },
  {
   "cell_type": "code",
   "execution_count": null,
   "id": "3c59067d-6b42-44bb-b3af-00deb2477e12",
   "metadata": {},
   "outputs": [],
   "source": [
    "# some example data provided by the package, either a small dataset in the repository or downloading it from an online resource\n",
    "test_data = mibipret.data.test_data()"
   ]
  },
  {
   "cell_type": "code",
   "execution_count": null,
   "id": "f35ba16f-bb30-4861-8a87-eab653aeed8d",
   "metadata": {},
   "outputs": [],
   "source": [
    "# first load data per sheet\n",
    "metabolites_data = mibipret.data.load_excel(file_path=\"path/to/data/data.xlsx\", sheet=1, verbose=True, store_provenance=True)\n",
    "hydro_data = mibipret.data.load_excel(file_path=\"path/to/data/data.xlsx\", sheet=2, verbose=True, store_provenance=True)\n",
    "contaminants_data = mibipret.data.load_excel(file_path=\"path/to/data/data.xlsx\", sheet=5, verbose=True, store_provenance=True)\n",
    "\n",
    "# or in one go\n",
    "metabolites, hydro, contaminants = mibipret.data.load_excel(file_path=\"path/to/data/data.xlsx\", sheet=[1,2,5], verbose=True, store_provenance=True)\n",
    "\n",
    "# could also do this with csv files\n",
    "metabolites_data = mibipret.data.load_csv(file_path=\"path/to/data/data.csv\", verbose=True, store_provenance=True)"
   ]
  },
  {
   "cell_type": "raw",
   "id": "60a6c2e6-016d-49a4-a245-5bb9076f2212",
   "metadata": {},
   "source": [
    "Warning: While importing your data from \"path/to/data/data.xlsx\" mibipret detected macros. Mind that these are not imported. \n",
    "Error: The second line in \"path/to/data/data.xlsx\" is supposed to specify the units. No units were detected in this line, check www.mibipretdocs.nl/dataloading. "
   ]
  },
  {
   "cell_type": "code",
   "execution_count": null,
   "id": "927402e9-6a89-4b0d-9dc5-2c7e22e8b111",
   "metadata": {},
   "outputs": [],
   "source": [
    "# standardize runs check_units, check_columns and/or validation under the hood\n",
    "# validation is similar to standardize, it combines various checks, but it does not create a new standardized dataset as standardize does\n",
    "st_sample_data = mibipret.data.standardize(data=[contaminants, metabolites], data_type=\"sample\", store_csv=True, verbose=True, store_provenance=True)"
   ]
  },
  {
   "cell_type": "raw",
   "id": "bc745a96-c3fa-4359-8e58-fe32ded5ff9a",
   "metadata": {},
   "source": [
    "Warning: Column \"O2\" standardized to \"oxygen\"\n",
    "Warning: Unit \"kg/m3\" of column \"oxygen\" was assumed to be \"microgram/liter\", make sure this conversion is valid. Check www.mibipretdocs.nl/unit-conversion."
   ]
  },
  {
   "cell_type": "code",
   "execution_count": null,
   "id": "ad96ad52-0fa4-4188-9804-32809b48db67",
   "metadata": {
    "tags": []
   },
   "outputs": [],
   "source": [
    "# we use the `options` function to check what types of analyses/modeling/visualization/reports we can do on the dataset\n",
    "# if func argument is provided, it will check whether this function is possible and if not what else is needed\n",
    "mibipret.decision_support.options(st_sample_data, func=mibipret.visualize.traffic3d)"
   ]
  },
  {
   "cell_type": "raw",
   "id": "11cf3935-eea5-48c0-aa93-ababdaf92149",
   "metadata": {},
   "source": [
    "To perform mibipret.visualize.traffic3d you need to run mibipret.analysis.na_screening\n",
    "the workflow requires the following columns: [x,y, depth]\n",
    "Row 4-19 and 28-39 have these columns defined, you can apply the function on these rows."
   ]
  },
  {
   "cell_type": "code",
   "execution_count": null,
   "id": "aa1ab692-63ed-4b1b-b719-b437fd0ab9dc",
   "metadata": {},
   "outputs": [],
   "source": [
    "# perform natural attenuation screening for contaminants provided in list or defaulting to the default set \"BTEXIIN\"\n",
    "# na_screening uses stochiometric equations to analyze electron balance, these equations are contained in included file\n",
    "# potentially link to online database\n",
    "# if geographical data (x,y,z) for each well is in the original dataset, this will be also stored in the na_output\n",
    "# the mibipret.analysis.sample collection of methods all have output per sample (that was analyzed) and can potentially \n",
    "# be added to the original standardized dataframe using the in_place argument\n",
    "na_output = mibipret.analysis.sample.na_screening(data=st_data, contaminants=[\"name1\", \"name2\", \"name3\"], in_place=True)\n",
    "na_output"
   ]
  },
  {
   "cell_type": "raw",
   "id": "0bac3b75-0d60-4a32-97ec-80da68418f46",
   "metadata": {},
   "source": []
  },
  {
   "cell_type": "code",
   "execution_count": null,
   "id": "c68a5389-225d-4108-8bed-2fd58cad6afe",
   "metadata": {},
   "outputs": [],
   "source": [
    "# once we did the na_analysis we can visualize the data as traffic lights plotted for each sample in space\n",
    "# for this it is required that the spatial information is provided.\n",
    "# because we ran na_screening analysis with in_place=True, the output was also added to the original st_data \n",
    "# we could therefore also run this method on st_data instead. \n",
    "mibipret.visualize.na_traffic3d(data=na_output, save_fig=\"plot_name.jpg\")"
   ]
  },
  {
   "cell_type": "raw",
   "id": "e49e58ee-aa0d-426d-8f31-e8506bd2b87f",
   "metadata": {},
   "source": []
  },
  {
   "cell_type": "code",
   "execution_count": null,
   "id": "6cec8602-1e2b-4b8d-be57-a886cde78b05",
   "metadata": {},
   "outputs": [],
   "source": [
    "# some analysis methods do not return a value per sample/row but rather combine/aggregate/reduce the information \n",
    "# of all (or a selection of) rows. These analysis methods are grouped under the mibipret.analysis.reduction module\n",
    "# The methods in this group will always create a new object with the output data\n",
    "pca_output = mibipret.analysis.reduction.pca(data=st_data, species=[column_list], n_comp=2)"
   ]
  },
  {
   "cell_type": "raw",
   "id": "a7545180-1787-4030-b942-f8ae3b201019",
   "metadata": {},
   "source": []
  },
  {
   "cell_type": "code",
   "execution_count": null,
   "id": "aad75cc7-fa15-412a-9ea6-c7f4f9191436",
   "metadata": {},
   "outputs": [],
   "source": [
    "# perform the visualization for the pca output\n",
    "mibipret.visualize.ordination(data=pca_output)"
   ]
  },
  {
   "cell_type": "raw",
   "id": "765dcbf1-dadc-4170-b6c0-83a63f39e353",
   "metadata": {},
   "source": []
  },
  {
   "cell_type": "code",
   "execution_count": null,
   "id": "82a2635d-e510-4f9f-89ae-f7fbbea68e9d",
   "metadata": {},
   "outputs": [],
   "source": [
    "# use the requirements function in the decision_support module to give a backtrace of required steps and \n",
    "# input data for a specific function\n",
    "mibipret.decision_support.requirements(func=mibipret.visualize.keeling)"
   ]
  },
  {
   "cell_type": "raw",
   "id": "5eedb65b-3b52-466c-b980-22177891ca31",
   "metadata": {},
   "source": [
    "{Maybe some nice dependency tree diagram?}\n",
    "\n",
    "- To use the `mibipret.visualize.keeling` function you need to perform the `mibipret.analysis.sample.stable_isotope`\n",
    "analysis.\n",
    "- To perform the `mibipret.analysis.sample.stable_isotope` function you need sample data (data with one sample per row) with one of the following columns for each `isotope_name`: [\"{isotope_name} delta\", \"{isotope_name} ratios\"]\n",
    "- To ensure good data quality, you might have to run `mibipret.data.standardize` on your raw data before running an analysis.\n",
    "- Raw data can be loaded with `mibipret.data.load_csv` or `mibipret.data.load_excel`. For more information about data loading see www.mibipretdocs.nl/dataloading.\n",
    "\n",
    "For more information about the `mibipret.visualize.keeling` see www.mibipretdocs.nl/visualize/keeling."
   ]
  },
  {
   "cell_type": "code",
   "execution_count": null,
   "id": "4a79b3b7-3cb6-452d-9e13-1ab606eceea5",
   "metadata": {},
   "outputs": [],
   "source": [
    "# at the end build the report, the report might take as input all the intermediate steps in the notebook\n",
    "# or it might only take the standardized data, it will then execute all steps that are necessary\n",
    "# Users might contribute these decision_support \"recipes\" themselves. They could either be in notebook format\n",
    "# or in some other workflow specification. Still to be decided.\n",
    "\n",
    "mibipret.decision_support.report(input=[na_output, pca_output, provenance], format=\"latex\")"
   ]
  }
 ],
 "metadata": {
  "kernelspec": {
   "display_name": "Python 3 (ipykernel)",
   "language": "python",
   "name": "python3"
  },
  "language_info": {
   "codemirror_mode": {
    "name": "ipython",
    "version": 3
   },
   "file_extension": ".py",
   "mimetype": "text/x-python",
   "name": "python",
   "nbconvert_exporter": "python",
   "pygments_lexer": "ipython3",
   "version": "3.8.6"
  }
 },
 "nbformat": 4,
 "nbformat_minor": 5
}

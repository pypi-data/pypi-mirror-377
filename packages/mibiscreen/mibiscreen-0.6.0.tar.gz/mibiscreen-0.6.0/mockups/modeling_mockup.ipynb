{
 "cells": [
  {
   "cell_type": "markdown",
   "id": "218f3170-22dd-4921-8fe7-404149ca8c46",
   "metadata": {},
   "source": [
    "# MiBiPreT modelling mock-up"
   ]
  },
  {
   "cell_type": "markdown",
   "id": "d1c3795f-ac60-49d6-ad23-5a091f6a67d8",
   "metadata": {},
   "source": [
    "## User story\n",
    "\n",
    "PhD student wants to analyze the effect of hydrogeological and biogeochemical phenomena on the contaminant distribution and fate."
   ]
  },
  {
   "cell_type": "markdown",
   "id": "68a0b1f5-03d2-4fd0-8a50-309186460838",
   "metadata": {},
   "source": [
    "## Importing the required modules and libraries\n",
    "The `mibipret.models` module implements some default usecases of analytical (anatrans) and numerical (modflow, phreeqc) models that are relevant to the Mibirem project. If more complex simulations are required the anatrans and/or flopy package should be imported and used.\n",
    "\n",
    "To what degree the mibipret.model methods implementations are very specific usecases or more general but simple model API's is still under discussion. "
   ]
  },
  {
   "cell_type": "code",
   "execution_count": null,
   "id": "96c0153f-6ca6-4d69-a0c4-05901ce25abb",
   "metadata": {},
   "outputs": [],
   "source": [
    "\n",
    "# from mibipret.models import anatrans, modflow, phreeqc\n",
    "\n",
    "\n",
    "\n",
    "%matplotlib inline"
   ]
  },
  {
   "cell_type": "code",
   "execution_count": null,
   "id": "1dc645ee-facd-4075-bc42-18de53d388c7",
   "metadata": {},
   "outputs": [],
   "source": [
    "# extract the values of times in years, the model outputs a grid,\n",
    "params = {\"porosity\": .3, \"hydro_cond\": 1e-4}\n",
    "model_output = mibipret.model.numerical.simple_model(output_times=[1,2,3,4,5], domain=[xmin, xmax], dt=.1, dx=.1, params=params)"
   ]
  },
  {
   "cell_type": "code",
   "execution_count": null,
   "id": "9298dbdb-1e6e-4345-b9ab-430cf45d6e34",
   "metadata": {},
   "outputs": [],
   "source": [
    "# to compare model output with site sample data we need to extract the values at specific locations from the model output\n",
    "model_at_samples = mibipret.model.get_location_data(model_output, sample_data, thres=[.5, .1, 20], collapse=\"depth\")"
   ]
  },
  {
   "cell_type": "code",
   "execution_count": null,
   "id": "623877f5-6c24-4a38-8eaf-d5aac642e7c1",
   "metadata": {},
   "outputs": [],
   "source": [
    "# now we can plot the model data output (concentrations distribution on grid) and the sample_data (concentration\n",
    "# in specific locations) on top of each other. Both data inputs are optional, additionally a z-plane can be provided\n",
    "mibipret.visualize.concentration_map(sample_data, model_output[3], plane=plane)"
   ]
  }
 ],
 "metadata": {
  "kernelspec": {
   "display_name": "Python 3 (ipykernel)",
   "language": "python",
   "name": "python3"
  },
  "language_info": {
   "codemirror_mode": {
    "name": "ipython",
    "version": 3
   },
   "file_extension": ".py",
   "mimetype": "text/x-python",
   "name": "python",
   "nbconvert_exporter": "python",
   "pygments_lexer": "ipython3",
   "version": "3.8.6"
  }
 },
 "nbformat": 4,
 "nbformat_minor": 5
}

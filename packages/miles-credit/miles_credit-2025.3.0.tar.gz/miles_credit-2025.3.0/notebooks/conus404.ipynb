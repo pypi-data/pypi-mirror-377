{
 "cells": [
  {
   "cell_type": "code",
   "execution_count": 1,
   "id": "dccc5e81-8c9d-4e12-8e57-4ffa43ac2551",
   "metadata": {},
   "outputs": [
    {
     "name": "stderr",
     "output_type": "stream",
     "text": [
      "/glade/work/schreck/conda-envs/holodec/lib/python3.10/site-packages/torchvision/io/image.py:13: UserWarning: Failed to load image Python extension: '/glade/work/schreck/conda-envs/holodec/lib/python3.10/site-packages/torchvision/image.so: undefined symbol: _ZN3c1017RegisterOperatorsD1Ev'If you don't plan on using image functionality from `torchvision.io`, you can ignore this warning. Otherwise, there might be something wrong with your environment. Did you have `libjpeg` or `libpng` installed before building `torchvision` from source?\n",
      "  warn(\n"
     ]
    }
   ],
   "source": [
    "import numpy as np\n",
    "import xarray as xr\n",
    "import torch\n",
    "import torch.utils.data\n",
    "import yaml\n",
    "\n",
    "from torchvision import transforms\n",
    "from credit.transforms404 import NormalizeState, ToTensor\n",
    "from credit.data import CONUS404Dataset"
   ]
  },
  {
   "cell_type": "code",
   "execution_count": 15,
   "id": "ca93f3c8-0221-4d31-82d5-9b57755504ff",
   "metadata": {},
   "outputs": [],
   "source": [
    "config = \"../config/conus404.yml\""
   ]
  },
  {
   "cell_type": "code",
   "execution_count": 16,
   "id": "4396efcc-87d1-4aae-9852-500b105c234a",
   "metadata": {},
   "outputs": [],
   "source": [
    "with open(config) as cf:\n",
    "    conf = yaml.load(cf, Loader=yaml.FullLoader)"
   ]
  },
  {
   "cell_type": "code",
   "execution_count": 4,
   "id": "19aa329f-a981-4908-bd28-7726f92d67a2",
   "metadata": {},
   "outputs": [
    {
     "data": {
      "text/plain": [
       "{'variables': ['PSFC',\n",
       "  'Q500',\n",
       "  'Q850',\n",
       "  'T2',\n",
       "  'T500',\n",
       "  'T850',\n",
       "  'totalVap',\n",
       "  'U10',\n",
       "  'U1000',\n",
       "  'U250',\n",
       "  'U500',\n",
       "  'U850',\n",
       "  'V10',\n",
       "  'V1000',\n",
       "  'V250',\n",
       "  'V500',\n",
       "  'V850',\n",
       "  'Z050',\n",
       "  'Z1000',\n",
       "  'Z500',\n",
       "  'Z850'],\n",
       " 'static_variables': [],\n",
       " 'scaler_type': 'std',\n",
       " 'save_loc': '/glade/derecho/scratch/mcginnis/???*',\n",
       " 'mean_path': '/glade/derecho/scratch/mcginnis/conus404/stats/all.avg.C404.nc',\n",
       " 'std_path': '/glade/derecho/scratch/mcginnis/conus404/stats/all.std.C404.nc',\n",
       " 'history_len': 2,\n",
       " 'forecast_len': 1,\n",
       " 'valid_history_len': 2,\n",
       " 'valid_forecast_len': 1,\n",
       " 'time_step': 1}"
      ]
     },
     "execution_count": 4,
     "metadata": {},
     "output_type": "execute_result"
    }
   ],
   "source": [
    "conf[\"data\"]"
   ]
  },
  {
   "cell_type": "code",
   "execution_count": 6,
   "id": "949eca4c-8dc3-4aed-8312-7b8b6627cbd3",
   "metadata": {},
   "outputs": [],
   "source": [
    "import torch\n",
    "from credit.data import Sample\n",
    "\n",
    "\n",
    "class ToTensor:\n",
    "    def __init__(self, conf):\n",
    "        self.conf = conf\n",
    "        self.hist_len = int(conf[\"data\"][\"history_len\"])\n",
    "        self.for_len = int(conf[\"data\"][\"forecast_len\"])\n",
    "        self.variables = conf[\"data\"][\"variables\"]\n",
    "        self.static_variables = conf[\"data\"][\"static_variables\"]\n",
    "        # self.x = 1016\n",
    "        # self.y = 1638\n",
    "        self.slice_x = slice(120, 632, None)\n",
    "        self.slice_y = slice(300, 812, None)\n",
    "\n",
    "    def __call__(self, sample: Sample) -> Sample:\n",
    "        return_dict = {}\n",
    "\n",
    "        for key, value in sample.items():\n",
    "            if key == \"historical_ERA5_images\" or key == \"x\":\n",
    "                self.datetime = value[\"Time\"]\n",
    "                self.doy = value[\"Time.dayofyear\"]\n",
    "                self.hod = value[\"Time.hour\"]\n",
    "\n",
    "            if isinstance(value, xr.DataArray):\n",
    "                value_var = value.values\n",
    "\n",
    "            elif isinstance(value, xr.Dataset):\n",
    "                concatenated_vars = []\n",
    "                for vv in self.variables:\n",
    "                    value_var = value[vv].values\n",
    "                    if (\n",
    "                        len(value_var.shape) == 4\n",
    "                    ):  # some seem to have extra single dimensions\n",
    "                        value_var = value_var.squeeze(1)\n",
    "                    concatenated_vars.append(value_var[:, self.slice_x, self.slice_y])\n",
    "                concatenated_vars = np.array(concatenated_vars)\n",
    "\n",
    "            else:\n",
    "                value_var = value\n",
    "\n",
    "            if key == \"x\":\n",
    "                x = torch.as_tensor(\n",
    "                    np.vstack([np.expand_dims(x, axis=0) for x in concatenated_vars])\n",
    "                )\n",
    "                return_dict[\"x\"] = x\n",
    "\n",
    "            elif key == \"y\":\n",
    "                y = torch.as_tensor(\n",
    "                    np.vstack([np.expand_dims(x, axis=0) for x in concatenated_vars])\n",
    "                )\n",
    "                return_dict[\"y\"] = y\n",
    "\n",
    "        if self.static_variables:\n",
    "            pass\n",
    "\n",
    "        return return_dict"
   ]
  },
  {
   "cell_type": "code",
   "execution_count": 8,
   "id": "d7a4d677-dc2e-4fb9-b8ac-8d2152d0ec07",
   "metadata": {},
   "outputs": [],
   "source": [
    "transform = transforms.Compose([NormalizeState(conf), ToTensor(conf)])"
   ]
  },
  {
   "cell_type": "code",
   "execution_count": 9,
   "id": "257af010-2ee2-47fe-b4a5-75c2778d9609",
   "metadata": {},
   "outputs": [],
   "source": [
    "dataset = CONUS404Dataset(\n",
    "    zarrpath=\"/glade/campaign/ral/risc/DATA/conus404/zarr\",\n",
    "    varnames=conf[\"data\"][\"variables\"],\n",
    "    history_len=conf[\"data\"][\"history_len\"],\n",
    "    forecast_len=conf[\"data\"][\"forecast_len\"],\n",
    "    transform=transform,\n",
    ")"
   ]
  },
  {
   "cell_type": "code",
   "execution_count": 10,
   "id": "5db456a3-0261-439c-8b95-bef32d395896",
   "metadata": {},
   "outputs": [],
   "source": [
    "result = dataset.__getitem__(0)"
   ]
  },
  {
   "cell_type": "code",
   "execution_count": 11,
   "id": "31569145-8b17-48a5-9ce7-a66c68cb99b4",
   "metadata": {},
   "outputs": [
    {
     "data": {
      "text/plain": [
       "torch.Size([21, 2, 512, 512])"
      ]
     },
     "execution_count": 11,
     "metadata": {},
     "output_type": "execute_result"
    }
   ],
   "source": [
    "result[\"x\"].shape  # (C, T, L, W)"
   ]
  },
  {
   "cell_type": "code",
   "execution_count": 12,
   "id": "c9d1c4aa-e361-45c1-8bc0-467df38ee248",
   "metadata": {},
   "outputs": [
    {
     "data": {
      "text/plain": [
       "torch.Size([21, 1, 512, 512])"
      ]
     },
     "execution_count": 12,
     "metadata": {},
     "output_type": "execute_result"
    }
   ],
   "source": [
    "result[\"y\"].shape  # (C, T, L, W)"
   ]
  },
  {
   "cell_type": "code",
   "execution_count": 13,
   "id": "77e5045b-5f75-4fbd-b4c6-96014676e34c",
   "metadata": {},
   "outputs": [
    {
     "data": {
      "text/plain": [
       "tensor([[[[ 0.6357,  0.6352,  0.6347,  ...,  0.6846,  0.6844,  0.6843],\n",
       "          [ 0.6356,  0.6351,  0.6345,  ...,  0.6846,  0.6845,  0.6844],\n",
       "          [ 0.6355,  0.6350,  0.6344,  ...,  0.6847,  0.6845,  0.6844],\n",
       "          ...,\n",
       "          [-1.8032, -1.8101, -1.7504,  ...,  0.2187,  0.2043,  0.1972],\n",
       "          [-1.7807, -1.7904, -1.7503,  ...,  0.2104,  0.2349,  0.2361],\n",
       "          [-1.7590, -1.7249, -1.7385,  ...,  0.1774,  0.1987,  0.1943]],\n",
       "\n",
       "         [[ 0.6324,  0.6319,  0.6314,  ...,  0.6883,  0.6882,  0.6881],\n",
       "          [ 0.6322,  0.6317,  0.6311,  ...,  0.6883,  0.6882,  0.6881],\n",
       "          [ 0.6320,  0.6314,  0.6309,  ...,  0.6884,  0.6883,  0.6882],\n",
       "          ...,\n",
       "          [-1.8039, -1.8105, -1.7507,  ...,  0.2146,  0.2000,  0.1930],\n",
       "          [-1.7814, -1.7909, -1.7509,  ...,  0.2064,  0.2308,  0.2319],\n",
       "          [-1.7596, -1.7256, -1.7393,  ...,  0.1736,  0.1949,  0.1904]]],\n",
       "\n",
       "\n",
       "        [[[-0.7455, -0.7411, -0.7367,  ..., -0.8105, -0.8054, -0.8001],\n",
       "          [-0.7454, -0.7409, -0.7366,  ..., -0.8080, -0.8028, -0.7974],\n",
       "          [-0.7452, -0.7407, -0.7365,  ..., -0.8053, -0.8000, -0.7945],\n",
       "          ...,\n",
       "          [-0.8291, -0.8296, -0.8208,  ..., -0.4331, -0.4295, -0.4255],\n",
       "          [-0.8086, -0.8099, -0.8044,  ..., -0.4667, -0.4652, -0.4622],\n",
       "          [-0.7836, -0.7795, -0.7822,  ..., -0.4963, -0.4952, -0.4925]],\n",
       "\n",
       "         [[-0.7356, -0.7321, -0.7283,  ..., -0.8543, -0.8514, -0.8483],\n",
       "          [-0.7348, -0.7309, -0.7269,  ..., -0.8545, -0.8514, -0.8481],\n",
       "          [-0.7341, -0.7299, -0.7256,  ..., -0.8556, -0.8525, -0.8490],\n",
       "          ...,\n",
       "          [-0.8519, -0.8525, -0.8467,  ..., -0.5531, -0.5483, -0.5442],\n",
       "          [-0.8242, -0.8295, -0.8285,  ..., -0.5700, -0.5738, -0.5716],\n",
       "          [-0.8015, -0.8000, -0.8024,  ..., -0.5798, -0.5846, -0.5835]]],\n",
       "\n",
       "\n",
       "        [[[ 0.7068,  0.7079,  0.7061,  ...,  0.2480,  0.2963,  0.3442],\n",
       "          [ 0.7004,  0.7014,  0.6996,  ...,  0.2557,  0.3046,  0.3531],\n",
       "          [ 0.6938,  0.6949,  0.6929,  ...,  0.2645,  0.3138,  0.3626],\n",
       "          ...,\n",
       "          [-0.6783, -0.6688, -0.6609,  ..., -0.8158, -0.8304, -0.8428],\n",
       "          [-0.6815, -0.6744, -0.6689,  ..., -0.7975, -0.7677, -0.7710],\n",
       "          [-0.6834, -0.6790, -0.6763,  ..., -0.8081, -0.7833, -0.7947]],\n",
       "\n",
       "         [[ 0.7134,  0.7074,  0.6993,  ...,  0.2222,  0.2854,  0.3534],\n",
       "          [ 0.7084,  0.7019,  0.6934,  ...,  0.2289,  0.2847,  0.3545],\n",
       "          [ 0.7037,  0.6968,  0.6878,  ...,  0.2385,  0.2892,  0.3565],\n",
       "          ...,\n",
       "          [-0.6745, -0.6713, -0.6722,  ..., -0.9590, -0.9593, -0.9477],\n",
       "          [-0.6813, -0.6764, -0.6759,  ..., -0.9224, -0.8832, -0.8728],\n",
       "          [-0.6845, -0.6819, -0.6794,  ..., -0.9293, -0.8975, -0.9016]]],\n",
       "\n",
       "\n",
       "        ...,\n",
       "\n",
       "\n",
       "        [[[-0.6908, -0.6908, -0.6908,  ..., -0.6908, -0.6908, -0.6908],\n",
       "          [-0.6908, -0.6908, -0.6908,  ..., -0.6908, -0.6908, -0.6908],\n",
       "          [-0.6908, -0.6908, -0.6908,  ..., -0.6908, -0.6908, -0.6908],\n",
       "          ...,\n",
       "          [ 1.8627,  1.8707,  1.8040,  ..., -0.2394, -0.2255, -0.2187],\n",
       "          [ 1.8382,  1.8492,  1.8046,  ..., -0.2317, -0.2549, -0.2559],\n",
       "          [ 1.8146,  1.7767,  1.7920,  ..., -0.2006, -0.2208, -0.2164]],\n",
       "\n",
       "         [[-0.6908, -0.6908, -0.6908,  ..., -0.6908, -0.6908, -0.6908],\n",
       "          [-0.6908, -0.6908, -0.6908,  ..., -0.6908, -0.6908, -0.6908],\n",
       "          [-0.6908, -0.6908, -0.6908,  ..., -0.6908, -0.6908, -0.6908],\n",
       "          ...,\n",
       "          [ 1.8627,  1.8707,  1.8040,  ..., -0.2394, -0.2255, -0.2187],\n",
       "          [ 1.8382,  1.8492,  1.8046,  ..., -0.2317, -0.2549, -0.2559],\n",
       "          [ 1.8146,  1.7767,  1.7920,  ..., -0.2006, -0.2208, -0.2164]]],\n",
       "\n",
       "\n",
       "        [[[-0.3327, -0.3319, -0.3311,  ..., -0.4283, -0.4283, -0.4283],\n",
       "          [-0.3326, -0.3318, -0.3309,  ..., -0.4284, -0.4284, -0.4284],\n",
       "          [-0.3325, -0.3316, -0.3307,  ..., -0.4285, -0.4285, -0.4285],\n",
       "          ...,\n",
       "          [ 2.0507,  2.0571,  1.9940,  ..., -0.1157, -0.1025, -0.0961],\n",
       "          [ 2.0266,  2.0361,  1.9936,  ..., -0.1090, -0.1319, -0.1331],\n",
       "          [ 2.0034,  1.9671,  1.9808,  ..., -0.0791, -0.0991, -0.0951]],\n",
       "\n",
       "         [[-0.3333, -0.3323, -0.3314,  ..., -0.4244, -0.4244, -0.4244],\n",
       "          [-0.3332, -0.3322, -0.3313,  ..., -0.4244, -0.4244, -0.4244],\n",
       "          [-0.3330, -0.3321, -0.3311,  ..., -0.4245, -0.4245, -0.4245],\n",
       "          ...,\n",
       "          [ 2.0546,  2.0617,  1.9984,  ..., -0.1130, -0.0995, -0.0932],\n",
       "          [ 2.0306,  2.0407,  1.9982,  ..., -0.1061, -0.1292, -0.1304],\n",
       "          [ 2.0072,  1.9714,  1.9858,  ..., -0.0761, -0.0963, -0.0922]]],\n",
       "\n",
       "\n",
       "        [[[-0.6062, -0.6058, -0.6055,  ..., -0.6249, -0.6247, -0.6245],\n",
       "          [-0.6061, -0.6058, -0.6054,  ..., -0.6248, -0.6246, -0.6244],\n",
       "          [-0.6060, -0.6057, -0.6053,  ..., -0.6247, -0.6245, -0.6243],\n",
       "          ...,\n",
       "          [ 1.9353,  1.9425,  1.8770,  ..., -0.2179, -0.2043, -0.1977],\n",
       "          [ 1.9107,  1.9211,  1.8772,  ..., -0.2105, -0.2333, -0.2344],\n",
       "          [ 1.8870,  1.8496,  1.8644,  ..., -0.1799, -0.1998, -0.1956]],\n",
       "\n",
       "         [[-0.6059, -0.6055, -0.6051,  ..., -0.6238, -0.6235, -0.6233],\n",
       "          [-0.6058, -0.6054, -0.6050,  ..., -0.6237, -0.6234, -0.6232],\n",
       "          [-0.6057, -0.6053, -0.6048,  ..., -0.6235, -0.6233, -0.6230],\n",
       "          ...,\n",
       "          [ 1.9332,  1.9411,  1.8756,  ..., -0.2188, -0.2051, -0.1985],\n",
       "          [ 1.9082,  1.9194,  1.8758,  ..., -0.2113, -0.2342, -0.2353],\n",
       "          [ 1.8844,  1.8474,  1.8631,  ..., -0.1807, -0.2007, -0.1964]]]])"
      ]
     },
     "execution_count": 13,
     "metadata": {},
     "output_type": "execute_result"
    }
   ],
   "source": [
    "result[\"x\"]"
   ]
  },
  {
   "cell_type": "code",
   "execution_count": 33,
   "id": "50ba4924-9edb-40d5-8494-116bc6ca96b0",
   "metadata": {},
   "outputs": [],
   "source": [
    "from credit.models.unet import load_premade_encoder_model\n",
    "import torch.nn.functional as F\n",
    "\n",
    "\n",
    "class SegmentationModel(torch.nn.Module):\n",
    "    def __init__(self, conf):\n",
    "        super(SegmentationModel, self).__init__()\n",
    "\n",
    "        self.variables = conf[\"data\"][\"variables\"]\n",
    "        self.frames = conf[\"model\"][\"frames\"]\n",
    "        self.static_variables = (\n",
    "            conf[\"data\"][\"static_variables\"]\n",
    "            if \"static_variables\" in conf[\"data\"]\n",
    "            else []\n",
    "        )\n",
    "\n",
    "        in_channels = len(self.variables) + len(self.static_variables)\n",
    "        out_channels = len(self.variables)\n",
    "\n",
    "        if conf[\"model\"][\"architecture\"][\"name\"] == \"unet\":\n",
    "            conf[\"model\"][\"architecture\"][\"decoder_attention_type\"] = \"scse\"\n",
    "        conf[\"model\"][\"architecture\"][\"in_channels\"] = in_channels\n",
    "        conf[\"model\"][\"architecture\"][\"classes\"] = out_channels\n",
    "\n",
    "        self.model = load_premade_encoder_model(conf[\"model\"][\"architecture\"])\n",
    "\n",
    "    def forward(self, x):\n",
    "        x = F.avg_pool3d(x, kernel_size=(2, 1, 1)) if x.shape[2] > 1 else x\n",
    "        x = x.squeeze(2)  # squeeze time dim\n",
    "        x = self.model(x)\n",
    "        return x.unsqueeze(2)"
   ]
  },
  {
   "cell_type": "code",
   "execution_count": 34,
   "id": "f1b944d9-a005-449e-9cfa-c13ed6ccc775",
   "metadata": {},
   "outputs": [],
   "source": [
    "model = SegmentationModel(conf)"
   ]
  },
  {
   "cell_type": "code",
   "execution_count": 35,
   "id": "957fe9e3-6950-44b6-b660-eaaed363915d",
   "metadata": {},
   "outputs": [],
   "source": [
    "y_pred = model(result[\"x\"].unsqueeze(0))"
   ]
  },
  {
   "cell_type": "code",
   "execution_count": 37,
   "id": "da378c86-9d5b-432f-b88b-3a2af297e45c",
   "metadata": {},
   "outputs": [
    {
     "data": {
      "text/plain": [
       "tensor([[[[[ 1.2298e-01,  2.1172e-01,  3.1994e-01,  ...,  1.1723e+00,\n",
       "             1.0137e+00,  4.8237e-01],\n",
       "           [ 7.5705e-01,  3.8058e-01, -2.6989e-01,  ...,  1.6883e+00,\n",
       "             7.7407e-01,  8.7452e-03],\n",
       "           [-3.4797e-01, -5.0708e-01, -4.8845e-01,  ...,  9.0493e-01,\n",
       "            -1.5792e-01,  1.9497e-01],\n",
       "           ...,\n",
       "           [ 4.1544e-01,  5.6858e-01,  2.6262e-01,  ...,  6.1462e-01,\n",
       "             1.1958e+00,  1.9587e-01],\n",
       "           [ 3.8555e-01,  4.8237e-01,  1.3258e-01,  ...,  2.3232e-01,\n",
       "             4.9614e-01,  1.7373e-02],\n",
       "           [ 4.0762e-01,  5.2569e-01,  9.4668e-02,  ...,  9.6332e-02,\n",
       "             1.6551e-01, -2.2042e-01]]],\n",
       "\n",
       "\n",
       "         [[[-5.5071e-02,  3.0240e-01, -2.6451e-01,  ...,  5.8349e-01,\n",
       "             4.6458e-01,  7.6008e-02],\n",
       "           [ 9.4891e-01,  4.2858e-01, -2.9804e-02,  ...,  1.3773e+00,\n",
       "             2.5978e-01, -3.5476e-01],\n",
       "           [ 3.7230e-01, -1.4736e-01, -3.7474e-01,  ...,  6.9030e-01,\n",
       "            -5.3386e-01, -8.3791e-01],\n",
       "           ...,\n",
       "           [ 4.3426e-01,  7.0929e-01, -1.3553e-01,  ..., -4.5830e-02,\n",
       "             6.9931e-01,  6.7578e-01],\n",
       "           [ 5.0668e-01,  5.2029e-01, -6.8453e-02,  ...,  7.9382e-01,\n",
       "             6.8106e-01,  2.8237e-01],\n",
       "           [ 5.3590e-01,  1.0153e+00,  9.1516e-01,  ...,  5.8436e-01,\n",
       "             2.5675e-01, -1.0354e-01]]],\n",
       "\n",
       "\n",
       "         [[[ 2.8556e-01, -1.6183e-01, -3.1910e-01,  ...,  8.4496e-01,\n",
       "             1.0770e+00,  1.4549e-01],\n",
       "           [ 1.9018e-02, -3.5176e-01, -3.8388e-01,  ...,  5.5127e-01,\n",
       "             3.2968e-01,  6.0864e-01],\n",
       "           [-8.7165e-01, -6.8838e-01, -1.1491e+00,  ..., -1.6820e+00,\n",
       "            -6.8833e-01,  4.6047e-01],\n",
       "           ...,\n",
       "           [-2.9566e-02, -3.1441e-01, -2.0674e-02,  ...,  3.8891e-01,\n",
       "            -8.8577e-01, -1.2736e+00],\n",
       "           [-2.9099e-01,  1.8556e-01,  5.2707e-02,  ...,  4.0873e-02,\n",
       "            -7.3501e-01, -8.3311e-01],\n",
       "           [-2.3772e-01, -5.2974e-01, -2.7534e-01,  ..., -6.8644e-01,\n",
       "            -7.0722e-01, -5.0334e-01]]],\n",
       "\n",
       "\n",
       "         ...,\n",
       "\n",
       "\n",
       "         [[[-1.5541e-01, -6.5808e-02, -3.3590e-01,  ..., -6.9631e-01,\n",
       "            -1.1248e+00, -8.6994e-01],\n",
       "           [-2.5067e-01, -7.9139e-01, -6.8679e-01,  ..., -1.3449e+00,\n",
       "            -1.1519e+00, -8.1508e-01],\n",
       "           [-3.8717e-01, -8.0515e-01, -1.0171e+00,  ..., -1.8723e+00,\n",
       "            -1.0969e+00, -8.2777e-01],\n",
       "           ...,\n",
       "           [ 8.6203e-02, -3.0931e-01, -6.3010e-01,  ..., -8.2673e-01,\n",
       "            -9.2695e-01, -9.3675e-01],\n",
       "           [-2.0416e-01, -2.3112e-01, -2.7982e-01,  ..., -1.9584e-01,\n",
       "            -6.6939e-01, -5.2126e-01],\n",
       "           [-1.9193e-01, -2.0062e-01, -6.8438e-01,  ..., -5.4698e-01,\n",
       "            -3.5736e-01, -2.8813e-01]]],\n",
       "\n",
       "\n",
       "         [[[-2.0313e-01, -3.6360e-01,  3.5203e-01,  ..., -1.1129e-01,\n",
       "            -1.7566e-01, -2.1132e-01],\n",
       "           [-7.7406e-01, -1.7889e-01,  2.2915e-01,  ...,  7.9327e-05,\n",
       "            -1.6471e-01,  2.6000e-01],\n",
       "           [-7.7217e-01, -2.1997e-01,  4.5904e-02,  ...,  7.9561e-01,\n",
       "             1.0676e+00,  8.9330e-02],\n",
       "           ...,\n",
       "           [-8.4145e-02, -3.4501e-01,  2.6109e-01,  ...,  1.3547e-01,\n",
       "            -1.4414e-03, -1.5986e-01],\n",
       "           [-2.1660e-01, -9.5375e-02,  4.9028e-01,  ...,  3.8490e-01,\n",
       "             2.9958e-01,  2.0143e-01],\n",
       "           [-3.7023e-02,  2.4248e-01,  4.9868e-01,  ...,  3.7799e-01,\n",
       "             6.3893e-01,  2.2830e-01]]],\n",
       "\n",
       "\n",
       "         [[[-1.0771e-01, -6.9534e-01, -1.0195e+00,  ..., -4.2614e-01,\n",
       "            -7.3344e-01, -7.3885e-01],\n",
       "           [-4.0273e-01, -5.5956e-01, -4.0987e-01,  ..., -8.0110e-01,\n",
       "            -1.1046e+00, -8.0576e-01],\n",
       "           [ 2.1936e-01, -7.8640e-02, -8.4650e-02,  ..., -1.2221e+00,\n",
       "            -1.4838e+00, -3.2512e-01],\n",
       "           ...,\n",
       "           [-1.4814e-01,  1.1310e-01,  9.1843e-02,  ...,  6.7448e-01,\n",
       "             6.4940e-01,  2.8980e-01],\n",
       "           [-3.0145e-01,  1.1077e-01, -3.5781e-01,  ..., -7.4815e-02,\n",
       "             2.3365e-01, -2.5500e-02],\n",
       "           [-1.6386e-01,  3.1849e-01,  4.1944e-01,  ...,  1.2415e-01,\n",
       "             3.4933e-01,  1.0221e-01]]]]], grad_fn=<UnsqueezeBackward0>)"
      ]
     },
     "execution_count": 37,
     "metadata": {},
     "output_type": "execute_result"
    }
   ],
   "source": [
    "y_pred"
   ]
  },
  {
   "cell_type": "code",
   "execution_count": null,
   "id": "7469a4d8-d39f-4931-b997-1e5e785b5ee4",
   "metadata": {},
   "outputs": [],
   "source": []
  }
 ],
 "metadata": {
  "kernelspec": {
   "display_name": "holodec",
   "language": "python",
   "name": "holodec"
  },
  "language_info": {
   "codemirror_mode": {
    "name": "ipython",
    "version": 3
   },
   "file_extension": ".py",
   "mimetype": "text/x-python",
   "name": "python",
   "nbconvert_exporter": "python",
   "pygments_lexer": "ipython3",
   "version": "3.10.9"
  }
 },
 "nbformat": 4,
 "nbformat_minor": 5
}

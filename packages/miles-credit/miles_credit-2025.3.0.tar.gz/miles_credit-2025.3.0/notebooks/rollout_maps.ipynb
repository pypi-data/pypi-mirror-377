{
 "cells": [
  {
   "cell_type": "code",
   "execution_count": 18,
   "id": "8cc67d8c-f0f0-40e6-968d-a6db98e601f5",
   "metadata": {},
   "outputs": [],
   "source": [
    "import matplotlib.pyplot as plt\n",
    "import cartopy.crs as ccrs\n",
    "import numpy as np\n",
    "import xarray as xr\n",
    "from os.path import exists, join\n",
    "import os\n",
    "\n",
    "%matplotlib inline"
   ]
  },
  {
   "cell_type": "code",
   "execution_count": 19,
   "id": "ae06f2da-3ec3-441e-ac9d-f9bc55dc4326",
   "metadata": {},
   "outputs": [],
   "source": [
    "preds = np.load(\"./pred_arrays.npy\")\n",
    "true = np.load(\"./true_arrays.npy\")"
   ]
  },
  {
   "cell_type": "code",
   "execution_count": 20,
   "id": "8f22278f-ebf5-4622-a2d1-8a4236920f88",
   "metadata": {},
   "outputs": [],
   "source": [
    "lat_lon_weights = xr.open_dataset(\n",
    "    \"/glade/u/home/wchapman/MLWPS/DataLoader/static_variables_ERA5_zhght.nc\"\n",
    ")"
   ]
  },
  {
   "cell_type": "code",
   "execution_count": 21,
   "id": "2a0722fe-f481-4fbf-aca3-5e43c877936b",
   "metadata": {},
   "outputs": [],
   "source": [
    "means = xr.open_dataset(\n",
    "    \"/glade/campaign/cisl/aiml/wchapman/MLWPS/STAGING/All_2010_staged.SLO.mean.nc\"\n",
    ")\n",
    "sds = xr.open_dataset(\n",
    "    \"/glade/campaign/cisl/aiml/wchapman/MLWPS/STAGING/All_2010_staged.SLO.std.nc\"\n",
    ")"
   ]
  },
  {
   "cell_type": "code",
   "execution_count": 22,
   "id": "a6ef745f-3e76-4cfa-b4f6-b46268445d41",
   "metadata": {},
   "outputs": [
    {
     "data": {
      "text/plain": [
       "array(0.00379492, dtype=float32)"
      ]
     },
     "execution_count": 22,
     "metadata": {},
     "output_type": "execute_result"
    }
   ],
   "source": [
    "means[\"Q\"].values\n",
    "sds[\"Q\"].values"
   ]
  },
  {
   "cell_type": "markdown",
   "id": "6104c9ba-66bd-418b-b802-b0d5b39fcb5a",
   "metadata": {},
   "source": [
    "Plot un-normalized data on global map"
   ]
  },
  {
   "cell_type": "code",
   "execution_count": 24,
   "id": "17de2072-5413-4832-a864-b5d8a752c92c",
   "metadata": {},
   "outputs": [],
   "source": [
    "out_dir = \"pred_images\"\n",
    "if not exists(out_dir):\n",
    "    os.makedirs(out_dir)\n",
    "for t in range(24):\n",
    "    fig = plt.figure(figsize=(10, 8))\n",
    "    ax = fig.add_subplot(1, 1, 1, projection=ccrs.EckertIII())\n",
    "    ax.set_global()\n",
    "    ax.coastlines(\"110m\", alpha=0.5)\n",
    "\n",
    "    pout = ax.pcolormesh(\n",
    "        lat_lon_weights[\"longitude\"],\n",
    "        lat_lon_weights[\"latitude\"],\n",
    "        (preds[t] * sds[\"Q\"].values + means[\"Q\"].values) * 1000,\n",
    "        transform=ccrs.PlateCarree(),\n",
    "        vmin=0,\n",
    "        vmax=20,\n",
    "        cmap=\"RdBu\",\n",
    "    )\n",
    "    plt.colorbar(pout, ax=ax, orientation=\"horizontal\", fraction=0.05, pad=0.01)\n",
    "    plt.title(f\"Q (g/kg) F{t:02d}\")\n",
    "    plt.savefig(\n",
    "        join(f\"{out_dir}\", f\"global_q_{t:02d}.png\"), dpi=300, bbox_inches=\"tight\"\n",
    "    )\n",
    "    plt.close()"
   ]
  },
  {
   "cell_type": "markdown",
   "id": "359badb2-aa29-43dc-a2b9-3fea602ef708",
   "metadata": {},
   "source": [
    "Create animated GIF with image magick"
   ]
  },
  {
   "cell_type": "code",
   "execution_count": 25,
   "id": "c0c25b8e-36dd-45a0-a9c0-d6ad8a199749",
   "metadata": {},
   "outputs": [],
   "source": [
    "! convert   -delay 20   -loop 0 pred_images/global_q_*.png global_q_fixed.gif"
   ]
  },
  {
   "cell_type": "code",
   "execution_count": null,
   "id": "9b7963dc-35f6-4609-b083-84219338ae07",
   "metadata": {},
   "outputs": [],
   "source": []
  }
 ],
 "metadata": {
  "kernelspec": {
   "display_name": "NPL 2024a",
   "language": "python",
   "name": "npl-2024a"
  },
  "language_info": {
   "codemirror_mode": {
    "name": "ipython",
    "version": 3
   },
   "file_extension": ".py",
   "mimetype": "text/x-python",
   "name": "python",
   "nbconvert_exporter": "python",
   "pygments_lexer": "ipython3",
   "version": "3.11.6"
  }
 },
 "nbformat": 4,
 "nbformat_minor": 5
}

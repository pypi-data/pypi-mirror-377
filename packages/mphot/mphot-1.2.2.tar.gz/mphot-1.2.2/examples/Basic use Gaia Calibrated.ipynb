{
 "cells": [
  {
   "cell_type": "code",
   "execution_count": 1,
   "id": "6f32dd30-8516-4543-909f-c45df019d0d7",
   "metadata": {},
   "outputs": [],
   "source": [
    "import mphot"
   ]
  },
  {
   "cell_type": "code",
   "execution_count": 2,
   "id": "549e5434-ce34-424a-9fb2-e941d9c555e8",
   "metadata": {},
   "outputs": [
    {
     "name": "stderr",
     "output_type": "stream",
     "text": [
      "INFO:mphot.core:`/Users/peter/Github/mphot/src/mphot/datafiles/system_responses/speculoos_Andor_iKon-L-936_-60_I+z_instrument_system_response.csv` has been generated and saved!\n"
     ]
    }
   ],
   "source": [
    "instrument_efficiency_path = \"../resources/systems/speculoos_Andor_iKon-L-936_-60.csv\"  # index in microns, efficiency of telescope+instrument as fraction\n",
    "filter_path = (\n",
    "    \"../resources/filters/I+z.csv\"  # index in microns, filter efficiency as fraction\n",
    ")\n",
    "\n",
    "name, system_response = mphot.generate_system_response(\n",
    "    instrument_efficiency_path, filter_path\n",
    ")"
   ]
  },
  {
   "cell_type": "code",
   "execution_count": 3,
   "id": "ba5f2fbd",
   "metadata": {},
   "outputs": [
    {
     "data": {
      "text/plain": [
       "<Axes: title={'center': 'speculoos_Andor_iKon-L-936_-60_I+z'}, xlabel='Wavelength (microns)', ylabel='System Response'>"
      ]
     },
     "execution_count": 3,
     "metadata": {},
     "output_type": "execute_result"
    },
    {
     "data": {
      "image/png": "[encoded data removed]",
      "text/plain": [
       "<Figure size 640x480 with 1 Axes>"
      ]
     },
     "metadata": {},
     "output_type": "display_data"
    }
   ],
   "source": [
    "system_response.plot(\n",
    "    xlabel=\"Wavelength (microns)\", ylabel=\"System Response\", title=name, ylim=(0, 1)\n",
    ")"
   ]
  },
  {
   "cell_type": "code",
   "execution_count": 4,
   "id": "0feee513-9586-40b8-81e3-d0a05723a2d0",
   "metadata": {},
   "outputs": [],
   "source": [
    "# sky properties\n",
    "props_sky = {\n",
    "    \"pwv\": 2.5,  # PWV [mm]\n",
    "    \"airmass\": 1.1,  # airmass\n",
    "    \"seeing\": 1.35,  # seeing (==FWHM) [\"]\n",
    "}\n",
    "\n",
    "# instrument properties\n",
    "props_instrument = {\n",
    "    \"name\": name,  # name to get SR/precision grid from file\n",
    "    \"plate_scale\": 0.35,  # pixel plate scale [\"]\n",
    "    \"N_dc\": 0.2,  # dark current [e/pix/s]\n",
    "    \"N_rn\": 6.328,  # read noise [e_rms/pix]\n",
    "    \"well_depth\": 64000,  # well depth [e/pix]\n",
    "    \"well_fill\": 0.7,  # fractional value to fill central target pixel, assuming gaussian (width function of seeing^)\n",
    "    \"read_time\": 10.5,  # read time between images [s]\n",
    "    \"r0\": 0.5,  # radius of telescope's primary mirror [m]\n",
    "    \"r1\": 0.14,  # radius of telescope's secondary mirror [m]\n",
    "    # \"min_exp\" : 0,          # optional, minimum exposure time [s]\n",
    "    # \"max_exp\" : 120,        # optional, maximum exposure time [s]\n",
    "    # \"ap_rad\" : 3            # optional, aperture radius [FWHM, seeing] for photometry -- 3 default == 7 sigma of Gaussian\n",
    "}"
   ]
  },
  {
   "cell_type": "code",
   "execution_count": 5,
   "id": "43ff22f5-b58d-44c4-ae15-2bcf5703ff07",
   "metadata": {},
   "outputs": [
    {
     "name": "stderr",
     "output_type": "stream",
     "text": [
      "INFO:astroquery:Query finished.\n"
     ]
    },
    {
     "name": "stdout",
     "output_type": "stream",
     "text": [
      "INFO: Query finished. [astroquery.utils.tap.core]\n"
     ]
    },
    {
     "data": {
      "text/html": [
       "<div>\n",
       "<style scoped>\n",
       "    .dataframe tbody tr th:only-of-type {\n",
       "        vertical-align: middle;\n",
       "    }\n",
       "\n",
       "    .dataframe tbody tr th {\n",
       "        vertical-align: top;\n",
       "    }\n",
       "\n",
       "    .dataframe thead tr th {\n",
       "        text-align: left;\n",
       "    }\n",
       "</style>\n",
       "<table border=\"1\" class=\"dataframe\">\n",
       "  <thead>\n",
       "    <tr>\n",
       "      <th></th>\n",
       "      <th>single frame [ppt]</th>\n",
       "      <th>10 minute binned [ppt]</th>\n",
       "    </tr>\n",
       "    <tr>\n",
       "      <th></th>\n",
       "      <th>speculoos_Andor_iKon-L-936_-60_I+z</th>\n",
       "      <th>speculoos_Andor_iKon-L-936_-60_I+z</th>\n",
       "    </tr>\n",
       "  </thead>\n",
       "  <tbody>\n",
       "    <tr>\n",
       "      <th>All</th>\n",
       "      <td>1.48</td>\n",
       "      <td>0.465</td>\n",
       "    </tr>\n",
       "    <tr>\n",
       "      <th>Star</th>\n",
       "      <td>1.14</td>\n",
       "      <td>0.358</td>\n",
       "    </tr>\n",
       "    <tr>\n",
       "      <th>Scintillation</th>\n",
       "      <td>0.603</td>\n",
       "      <td>0.189</td>\n",
       "    </tr>\n",
       "    <tr>\n",
       "      <th>Sky</th>\n",
       "      <td>0.702</td>\n",
       "      <td>0.220</td>\n",
       "    </tr>\n",
       "    <tr>\n",
       "      <th>Dark current</th>\n",
       "      <td>0.0833</td>\n",
       "      <td>0.0261</td>\n",
       "    </tr>\n",
       "    <tr>\n",
       "      <th>Read noise</th>\n",
       "      <td>0.169</td>\n",
       "      <td>0.0531</td>\n",
       "    </tr>\n",
       "  </tbody>\n",
       "</table>\n",
       "</div>"
      ],
      "text/plain": [
       "                              single frame [ppt]  \\\n",
       "              speculoos_Andor_iKon-L-936_-60_I+z   \n",
       "All                                         1.48   \n",
       "Star                                        1.14   \n",
       "Scintillation                              0.603   \n",
       "Sky                                        0.702   \n",
       "Dark current                              0.0833   \n",
       "Read noise                                 0.169   \n",
       "\n",
       "                          10 minute binned [ppt]  \n",
       "              speculoos_Andor_iKon-L-936_-60_I+z  \n",
       "All                                        0.465  \n",
       "Star                                       0.358  \n",
       "Scintillation                              0.189  \n",
       "Sky                                        0.220  \n",
       "Dark current                              0.0261  \n",
       "Read noise                                0.0531  "
      ]
     },
     "metadata": {},
     "output_type": "display_data"
    },
    {
     "data": {
      "text/html": [
       "<div>\n",
       "<style scoped>\n",
       "    .dataframe tbody tr th:only-of-type {\n",
       "        vertical-align: middle;\n",
       "    }\n",
       "\n",
       "    .dataframe tbody tr th {\n",
       "        vertical-align: top;\n",
       "    }\n",
       "\n",
       "    .dataframe thead tr th {\n",
       "        text-align: left;\n",
       "    }\n",
       "</style>\n",
       "<table border=\"1\" class=\"dataframe\">\n",
       "  <thead>\n",
       "    <tr>\n",
       "      <th></th>\n",
       "      <th>speculoos_Andor_iKon-L-936_-60_I+z</th>\n",
       "    </tr>\n",
       "  </thead>\n",
       "  <tbody>\n",
       "    <tr>\n",
       "      <th>Teff [K]</th>\n",
       "      <td>2.56e+3</td>\n",
       "    </tr>\n",
       "    <tr>\n",
       "      <th>distance [pc]</th>\n",
       "      <td>12.5</td>\n",
       "    </tr>\n",
       "    <tr>\n",
       "      <th>N_star [e/s]</th>\n",
       "      <td>1.58e+4</td>\n",
       "    </tr>\n",
       "    <tr>\n",
       "      <th>star_flux [e/m2/s]</th>\n",
       "      <td>2.18e+4</td>\n",
       "    </tr>\n",
       "    <tr>\n",
       "      <th>scn [e_rms]</th>\n",
       "      <td>462</td>\n",
       "    </tr>\n",
       "    <tr>\n",
       "      <th>pixels in aperture [pix]</th>\n",
       "      <td>421</td>\n",
       "    </tr>\n",
       "    <tr>\n",
       "      <th>ap_radius [pix]</th>\n",
       "      <td>11.6</td>\n",
       "    </tr>\n",
       "    <tr>\n",
       "      <th>N_sky [e/pix/s]</th>\n",
       "      <td>14.2</td>\n",
       "    </tr>\n",
       "    <tr>\n",
       "      <th>sky_radiance [e/m2/arcsec2/s]</th>\n",
       "      <td>160</td>\n",
       "    </tr>\n",
       "    <tr>\n",
       "      <th>seeing [arcsec]</th>\n",
       "      <td>1.35</td>\n",
       "    </tr>\n",
       "    <tr>\n",
       "      <th>pwv [mm]</th>\n",
       "      <td>2.50</td>\n",
       "    </tr>\n",
       "    <tr>\n",
       "      <th>airmass</th>\n",
       "      <td>1.10</td>\n",
       "    </tr>\n",
       "    <tr>\n",
       "      <th>plate_scale [\"/pix]</th>\n",
       "      <td>0.350</td>\n",
       "    </tr>\n",
       "    <tr>\n",
       "      <th>N_dc [e/pix/s]</th>\n",
       "      <td>0.200</td>\n",
       "    </tr>\n",
       "    <tr>\n",
       "      <th>N_rn [e_rms/pix]</th>\n",
       "      <td>6.33</td>\n",
       "    </tr>\n",
       "    <tr>\n",
       "      <th>A [m2]</th>\n",
       "      <td>0.724</td>\n",
       "    </tr>\n",
       "    <tr>\n",
       "      <th>r0 [m]</th>\n",
       "      <td>0.500</td>\n",
       "    </tr>\n",
       "    <tr>\n",
       "      <th>r1 [m]</th>\n",
       "      <td>0.140</td>\n",
       "    </tr>\n",
       "    <tr>\n",
       "      <th>t [s]</th>\n",
       "      <td>48.5</td>\n",
       "    </tr>\n",
       "    <tr>\n",
       "      <th>well_depth [e/pix]</th>\n",
       "      <td>6.40e+4</td>\n",
       "    </tr>\n",
       "    <tr>\n",
       "      <th>peak well_fill</th>\n",
       "      <td>0.700</td>\n",
       "    </tr>\n",
       "    <tr>\n",
       "      <th>binning [mins]</th>\n",
       "      <td>10.0</td>\n",
       "    </tr>\n",
       "    <tr>\n",
       "      <th>read_time [s]</th>\n",
       "      <td>10.5</td>\n",
       "    </tr>\n",
       "    <tr>\n",
       "      <th>binned images</th>\n",
       "      <td>10.2</td>\n",
       "    </tr>\n",
       "    <tr>\n",
       "      <th>altitude [m]</th>\n",
       "      <td>2.44e+3</td>\n",
       "    </tr>\n",
       "    <tr>\n",
       "      <th>Gaia-BP weight</th>\n",
       "      <td>0.00</td>\n",
       "    </tr>\n",
       "    <tr>\n",
       "      <th>Gaia-G weight</th>\n",
       "      <td>0.00</td>\n",
       "    </tr>\n",
       "    <tr>\n",
       "      <th>Gaia-RP weight</th>\n",
       "      <td>0.530</td>\n",
       "    </tr>\n",
       "  </tbody>\n",
       "</table>\n",
       "</div>"
      ],
      "text/plain": [
       "                              speculoos_Andor_iKon-L-936_-60_I+z\n",
       "Teff [K]                                                 2.56e+3\n",
       "distance [pc]                                               12.5\n",
       "N_star [e/s]                                             1.58e+4\n",
       "star_flux [e/m2/s]                                       2.18e+4\n",
       "scn [e_rms]                                                  462\n",
       "pixels in aperture [pix]                                     421\n",
       "ap_radius [pix]                                             11.6\n",
       "N_sky [e/pix/s]                                             14.2\n",
       "sky_radiance [e/m2/arcsec2/s]                                160\n",
       "seeing [arcsec]                                             1.35\n",
       "pwv [mm]                                                    2.50\n",
       "airmass                                                     1.10\n",
       "plate_scale [\"/pix]                                        0.350\n",
       "N_dc [e/pix/s]                                             0.200\n",
       "N_rn [e_rms/pix]                                            6.33\n",
       "A [m2]                                                     0.724\n",
       "r0 [m]                                                     0.500\n",
       "r1 [m]                                                     0.140\n",
       "t [s]                                                       48.5\n",
       "well_depth [e/pix]                                       6.40e+4\n",
       "peak well_fill                                             0.700\n",
       "binning [mins]                                              10.0\n",
       "read_time [s]                                               10.5\n",
       "binned images                                               10.2\n",
       "altitude [m]                                             2.44e+3\n",
       "Gaia-BP weight                                              0.00\n",
       "Gaia-G weight                                               0.00\n",
       "Gaia-RP weight                                             0.530"
      ]
     },
     "metadata": {},
     "output_type": "display_data"
    },
    {
     "data": {
      "text/html": [
       "<div>\n",
       "<style scoped>\n",
       "    .dataframe tbody tr th:only-of-type {\n",
       "        vertical-align: middle;\n",
       "    }\n",
       "\n",
       "    .dataframe tbody tr th {\n",
       "        vertical-align: top;\n",
       "    }\n",
       "\n",
       "    .dataframe thead tr th {\n",
       "        text-align: left;\n",
       "    }\n",
       "</style>\n",
       "<table border=\"1\" class=\"dataframe\">\n",
       "  <thead>\n",
       "    <tr>\n",
       "      <th></th>\n",
       "      <th>speculoos_Andor_iKon-L-936_-60_I+z</th>\n",
       "    </tr>\n",
       "  </thead>\n",
       "  <tbody>\n",
       "    <tr>\n",
       "      <th>star [mag]</th>\n",
       "      <td>13.4</td>\n",
       "    </tr>\n",
       "    <tr>\n",
       "      <th>sky [mag/arcsec2]</th>\n",
       "      <td>18.7</td>\n",
       "    </tr>\n",
       "    <tr>\n",
       "      <th>vega_flux [e/s]</th>\n",
       "      <td>3.62e+9</td>\n",
       "    </tr>\n",
       "  </tbody>\n",
       "</table>\n",
       "</div>"
      ],
      "text/plain": [
       "                  speculoos_Andor_iKon-L-936_-60_I+z\n",
       "star [mag]                                      13.4\n",
       "sky [mag/arcsec2]                               18.7\n",
       "vega_flux [e/s]                              3.62e+9"
      ]
     },
     "metadata": {},
     "output_type": "display_data"
    }
   ],
   "source": [
    "# get the precision and components used to calculate it (generates grid if not already present)\n",
    "result = mphot.get_precision_gaia(\n",
    "    props_instrument, props_sky, source_id=2635476908753563008, Teff=2556\n",
    ")\n",
    "\n",
    "mphot.display_results(result)"
   ]
  },
  {
   "cell_type": "code",
   "execution_count": 6,
   "id": "c73c5df6",
   "metadata": {},
   "outputs": [],
   "source": [
    "# extract data\n",
    "image_precision, binned_precision, components = result"
   ]
  },
  {
   "cell_type": "code",
   "execution_count": 7,
   "id": "72fd1817",
   "metadata": {},
   "outputs": [
    {
     "data": {
      "text/plain": [
       "{'All': np.float64(0.001481906590608678),\n",
       " 'Star': np.float64(0.0011421020119027144),\n",
       " 'Scintillation': np.float64(0.0006025220992480013),\n",
       " 'Sky': np.float64(0.0007021521460492511),\n",
       " 'Dark current': np.float64(8.33043221298541e-05),\n",
       " 'Read noise': np.float64(0.00016929267948705498)}"
      ]
     },
     "execution_count": 7,
     "metadata": {},
     "output_type": "execute_result"
    }
   ],
   "source": [
    "image_precision  # precision budget as fraction, x1000 for ppt"
   ]
  },
  {
   "cell_type": "code",
   "execution_count": 8,
   "id": "f42e28b3",
   "metadata": {},
   "outputs": [
    {
     "data": {
      "text/plain": [
       "{'All': np.float64(0.0004646192466880691),\n",
       " 'Star': np.float64(0.00035808098821749036),\n",
       " 'Scintillation': np.float64(0.00018890756383675743),\n",
       " 'Sky': np.float64(0.0002201443756477371),\n",
       " 'Dark current': np.float64(2.6118239596961008e-05),\n",
       " 'Read noise': np.float64(5.3077999457963684e-05)}"
      ]
     },
     "execution_count": 8,
     "metadata": {},
     "output_type": "execute_result"
    }
   ],
   "source": [
    "binned_precision  # precision budget as fraction, x1000 for ppt"
   ]
  },
  {
   "cell_type": "code",
   "execution_count": 9,
   "id": "3f0d9794",
   "metadata": {},
   "outputs": [
    {
     "data": {
      "text/plain": [
       "{'name': 'speculoos_Andor_iKon-L-936_-60_I+z',\n",
       " 'Teff [K]': 2556,\n",
       " 'distance [pc]': 12.46691341544997,\n",
       " 'N_star [e/s]': np.float64(15813.51991027502),\n",
       " 'star_flux [e/m2/s]': np.float64(21847.22101911784),\n",
       " 'scn [e_rms]': np.float64(461.91619320257604),\n",
       " 'pixels in aperture [pix]': 420.6528449020946,\n",
       " 'ap_radius [pix]': 11.571428571428573,\n",
       " 'N_sky [e/pix/s]': np.float64(14.20879934538906),\n",
       " 'sky_radiance [e/m2/arcsec2/s]': np.float64(160.24664478596628),\n",
       " 'seeing [arcsec]': 1.35,\n",
       " 'pwv [mm]': 2.5,\n",
       " 'airmass': 1.1,\n",
       " 'plate_scale [\"/pix]': 0.35,\n",
       " 'N_dc [e/pix/s]': 0.2,\n",
       " 'N_rn [e_rms/pix]': 6.328,\n",
       " 'A [m2]': 0.7238229473870883,\n",
       " 'r0 [m]': 0.5,\n",
       " 'r1 [m]': 0.14,\n",
       " 't [s]': np.float64(48.47989350164074),\n",
       " 'well_depth [e/pix]': 64000,\n",
       " 'peak well_fill': 0.7,\n",
       " 'binning [mins]': 10,\n",
       " 'read_time [s]': 10.5,\n",
       " 'binned images': np.float64(10.172958348649932),\n",
       " 'altitude [m]': 2440,\n",
       " 'Gaia-BP weight': np.float64(0.0),\n",
       " 'Gaia-G weight': np.float64(0.0),\n",
       " 'Gaia-RP weight': np.float64(0.5298429316925495)}"
      ]
     },
     "execution_count": 9,
     "metadata": {},
     "output_type": "execute_result"
    }
   ],
   "source": [
    "components  # dictionary of components from calculation"
   ]
  },
  {
   "cell_type": "code",
   "execution_count": 10,
   "id": "e5d67d65",
   "metadata": {},
   "outputs": [
    {
     "data": {
      "text/plain": [
       "np.float64(48.47989350164074)"
      ]
     },
     "execution_count": 10,
     "metadata": {},
     "output_type": "execute_result"
    }
   ],
   "source": [
    "# extract exposure time\n",
    "exposure_time = components[\"t [s]\"]\n",
    "exposure_time"
   ]
  },
  {
   "cell_type": "code",
   "execution_count": null,
   "id": "42db7d66",
   "metadata": {},
   "outputs": [],
   "source": []
  }
 ],
 "metadata": {
  "kernelspec": {
   "display_name": "mphot_pip",
   "language": "python",
   "name": "python3"
  },
  "language_info": {
   "codemirror_mode": {
    "name": "ipython",
    "version": 3
   },
   "file_extension": ".py",
   "mimetype": "text/x-python",
   "name": "python",
   "nbconvert_exporter": "python",
   "pygments_lexer": "ipython3",
   "version": "3.11.8"
  }
 },
 "nbformat": 4,
 "nbformat_minor": 5
}

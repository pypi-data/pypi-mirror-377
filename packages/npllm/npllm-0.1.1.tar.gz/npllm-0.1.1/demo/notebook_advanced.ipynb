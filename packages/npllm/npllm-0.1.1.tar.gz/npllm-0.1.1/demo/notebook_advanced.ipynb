{
 "cells": [
  {
   "cell_type": "code",
   "execution_count": null,
   "id": "dcae2a14",
   "metadata": {},
   "outputs": [],
   "source": [
    "%load_ext autoreload\n",
    "%autoreload 2"
   ]
  },
  {
   "cell_type": "code",
   "execution_count": null,
   "id": "5188dad9",
   "metadata": {},
   "outputs": [],
   "source": [
    "import logging\n",
    "\n",
    "logging.basicConfig(level=logging.WARNING, format='%(name)s - %(levelname)s - %(message)s')\n",
    "logging.getLogger('npllm').setLevel(logging.DEBUG)\n",
    "\n",
    "from npllm.core.llm import LLM"
   ]
  },
  {
   "cell_type": "code",
   "execution_count": null,
   "id": "83fe42ad",
   "metadata": {},
   "outputs": [],
   "source": [
    "llm = LLM()\n",
    "s: int = await llm.reason(\"What is the sum of 1+2+...+100?\")\n",
    "print(s)"
   ]
  },
  {
   "cell_type": "code",
   "execution_count": null,
   "id": "33655aa4",
   "metadata": {},
   "outputs": [],
   "source": [
    "llm = LLM()\n",
    "f: float = await llm.reason(\"What is the value of pi to 10 decimal places?\")\n",
    "print(f)"
   ]
  },
  {
   "cell_type": "code",
   "execution_count": null,
   "id": "13f92aa4",
   "metadata": {},
   "outputs": [],
   "source": []
  }
 ],
 "metadata": {
  "kernelspec": {
   "display_name": "Python 3 (ipykernel)",
   "language": "python",
   "name": "python3"
  },
  "language_info": {
   "codemirror_mode": {
    "name": "ipython",
    "version": 3
   },
   "file_extension": ".py",
   "mimetype": "text/x-python",
   "name": "python",
   "nbconvert_exporter": "python",
   "pygments_lexer": "ipython3",
   "version": "3.13.5"
  }
 },
 "nbformat": 4,
 "nbformat_minor": 5
}

{
 "cells": [
  {
   "cell_type": "code",
   "execution_count": 1,
   "id": "dcae2a14",
   "metadata": {},
   "outputs": [],
   "source": [
    "%load_ext autoreload\n",
    "%autoreload 2"
   ]
  },
  {
   "cell_type": "code",
   "execution_count": 2,
   "id": "5188dad9",
   "metadata": {},
   "outputs": [],
   "source": [
    "import logging\n",
    "\n",
    "logging.basicConfig(level=logging.WARNING, format='%(name)s - %(levelname)s - %(message)s')\n",
    "logging.getLogger('npllm').setLevel(logging.WARNING)\n",
    "\n",
    "from npllm.core.llm import LLM"
   ]
  },
  {
   "cell_type": "code",
   "execution_count": 3,
   "id": "83fe42ad",
   "metadata": {},
   "outputs": [
    {
     "name": "stdout",
     "output_type": "stream",
     "text": [
      "5050\n"
     ]
    }
   ],
   "source": [
    "# int example\n",
    "llm = LLM()\n",
    "s: int = await llm.reason(\"What is the sum of 1+2+...+100?\")\n",
    "print(s)"
   ]
  },
  {
   "cell_type": "code",
   "execution_count": 4,
   "id": "33655aa4",
   "metadata": {},
   "outputs": [
    {
     "name": "stdout",
     "output_type": "stream",
     "text": [
      "3.1415926536\n"
     ]
    }
   ],
   "source": [
    "# float example\n",
    "llm = LLM()\n",
    "f: float = await llm.reason(\"What is the value of pi to 10 decimal places?\")\n",
    "print(f)"
   ]
  },
  {
   "cell_type": "code",
   "execution_count": 5,
   "id": "13f92aa4",
   "metadata": {},
   "outputs": [
    {
     "name": "stdout",
     "output_type": "stream",
     "text": [
      "True\n"
     ]
    }
   ],
   "source": [
    "# bool example\n",
    "llm = LLM()\n",
    "b: bool = await llm.reason(\"Is the sky blue?\")\n",
    "print(b)"
   ]
  },
  {
   "cell_type": "code",
   "execution_count": 6,
   "id": "2ad50821",
   "metadata": {},
   "outputs": [
    {
     "name": "stdout",
     "output_type": "stream",
     "text": [
      "Paris\n"
     ]
    }
   ],
   "source": [
    "# str example\n",
    "llm = LLM()\n",
    "t: str = await llm.reason(\"What is the capital of France?\")\n",
    "print(t)"
   ]
  },
  {
   "cell_type": "code",
   "execution_count": 7,
   "id": "3db35d99",
   "metadata": {},
   "outputs": [
    {
     "name": "stdout",
     "output_type": "stream",
     "text": [
      "[2, 3, 5, 7, 11]\n"
     ]
    }
   ],
   "source": [
    "# list example\n",
    "llm = LLM()\n",
    "l: list[int] = await llm.reason(\"List the first 5 prime numbers.\")\n",
    "print(l)"
   ]
  },
  {
   "cell_type": "code",
   "execution_count": 8,
   "id": "1b92d6dd",
   "metadata": {},
   "outputs": [
    {
     "name": "stdout",
     "output_type": "stream",
     "text": [
      "(2, 3)\n"
     ]
    }
   ],
   "source": [
    "# tuple example\n",
    "llm = LLM()\n",
    "p: tuple[int, int] = await llm.reason(\"What are the first two prime numbers?\")\n",
    "print(p)"
   ]
  },
  {
   "cell_type": "code",
   "execution_count": 9,
   "id": "d4edc1b7",
   "metadata": {},
   "outputs": [
    {
     "name": "stdout",
     "output_type": "stream",
     "text": [
      "{'a': 1, 'b': 2, 'c': 3}\n"
     ]
    }
   ],
   "source": [
    "# dict example\n",
    "llm = LLM()\n",
    "d: dict[str, int] = await llm.reason(\"Provide a dictionary with keys 'a', 'b', 'c' and values 1, 2, 3 respectively.\")\n",
    "print(d)"
   ]
  },
  {
   "cell_type": "code",
   "execution_count": 10,
   "id": "b578b520",
   "metadata": {},
   "outputs": [
    {
     "name": "stdout",
     "output_type": "stream",
     "text": [
      "42\n"
     ]
    }
   ],
   "source": [
    "# union example\n",
    "from typing import Union\n",
    "llm = LLM()\n",
    "u: Union[int, str] = await llm.reason(\"What is 42 or the answer to life, the universe and everything?\")\n",
    "print(u)"
   ]
  },
  {
   "cell_type": "code",
   "execution_count": 11,
   "id": "6c509374",
   "metadata": {},
   "outputs": [
    {
     "name": "stdout",
     "output_type": "stream",
     "text": [
      "42\n"
     ]
    }
   ],
   "source": [
    "# union example with | syntax\n",
    "llm = LLM()\n",
    "u: int | str = await llm.reason(\"What is 42 or the answer to life, the universe and everything?\")\n",
    "print(u)"
   ]
  },
  {
   "cell_type": "code",
   "execution_count": 12,
   "id": "60e98e90",
   "metadata": {},
   "outputs": [
    {
     "name": "stdout",
     "output_type": "stream",
     "text": [
      "blue\n"
     ]
    }
   ],
   "source": [
    "# literal example\n",
    "from typing import Literal\n",
    "llm = LLM()\n",
    "c: Literal['red', 'green', 'blue'] = await llm.reason(\"Choose a color from 'red', 'green', 'blue'.\")\n",
    "print(c)"
   ]
  },
  {
   "cell_type": "code",
   "execution_count": 13,
   "id": "13139245",
   "metadata": {},
   "outputs": [
    {
     "name": "stdout",
     "output_type": "stream",
     "text": [
      "Person(name='Maria Rodriguez', age=22, is_student=True, address=Address(street='123 University Ave', city='Anytown', zip_code='00001'))\n"
     ]
    }
   ],
   "source": [
    "# dataclass example\n",
    "from dataclasses import dataclass\n",
    "\n",
    "@dataclass\n",
    "class Address:\n",
    "    street: str\n",
    "    city: str\n",
    "    zip_code: str\n",
    "\n",
    "@dataclass\n",
    "class Person:\n",
    "    name: str\n",
    "    age: int\n",
    "    is_student: bool\n",
    "    address: Address\n",
    "\n",
    "llm = LLM()\n",
    "person: Person = await llm.reason(\"Provide a person's details including name, age, student status, and address.\")\n",
    "print(person)"
   ]
  }
 ],
 "metadata": {
  "kernelspec": {
   "display_name": "Python 3 (ipykernel)",
   "language": "python",
   "name": "python3"
  },
  "language_info": {
   "codemirror_mode": {
    "name": "ipython",
    "version": 3
   },
   "file_extension": ".py",
   "mimetype": "text/x-python",
   "name": "python",
   "nbconvert_exporter": "python",
   "pygments_lexer": "ipython3",
   "version": "3.13.5"
  }
 },
 "nbformat": 4,
 "nbformat_minor": 5
}

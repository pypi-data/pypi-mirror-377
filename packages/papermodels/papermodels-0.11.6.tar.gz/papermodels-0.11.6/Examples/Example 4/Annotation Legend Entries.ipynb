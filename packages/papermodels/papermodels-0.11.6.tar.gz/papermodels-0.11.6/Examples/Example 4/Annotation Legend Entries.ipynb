{
 "cells": [
  {
   "cell_type": "markdown",
   "id": "95d8ce56-184a-4ff8-ac02-9f7baf51a11a",
   "metadata": {},
   "source": [
    "## Annotation legend entries\n",
    "\n",
    "Some things to know"
   ]
  },
  {
   "cell_type": "markdown",
   "id": "339650b6-6044-4b54-848f-6ed1772c5fab",
   "metadata": {},
   "source": [
    "## Columns vs Walls\n",
    "\n",
    "Polygons are used to describe an element that spans between planes (i.e. vertically). We can use polygons to describe both columns and walls but the difference is that the reaction of a column should be a point load and the reaction from a wall should be a line load.\n",
    "\n",
    "How does `papermodels` know what to do?\n",
    "\n",
    "It does not know what to do. We need to specify the behaviour of walls vs columns.\n",
    "\n",
    "### Legend for a column\n",
    "\n",
    "```\n",
    "Legend\n",
    "Type: Column\n",
    "Rank: 50\n",
    "```\n",
    "\n",
    "### Legend for a wall\n",
    "\n",
    "```\n",
    "Legend\n",
    "Type: Wall\n",
    "Rank: 50\n",
    "Reaction Type: Linear\n",
    "```\n",
    "\n",
    "If you do not specify the reaction type as \"linear\" then a reaction type of \"point\" will be assumed. \n",
    "\n",
    "Note: this \"reaction type\" legend entry is only useful for differentiating between walls and columns. For joist models (whether the joists are individual sub-elements each transferring a point load or whether the joist is transmitting a linear reaction), the assignment of \"linear\" and \"point\" is assigned automatically when the collector model behaviour is assigned.\n",
    "\n",
    "### Why not auto determine whether it is a linear reaction based on the aspect ratio of the rectangle?\n",
    "\n",
    "What aspect ratio should determine the cut-off between a wall or column? 2:1, 3:1, 4:1? Who is to know? The thing is we can have long columns and short walls but, even in these scenarios, we generally treat columns as point loads (because they are transferring either to a beam or column at specific location) and we treat walls as transferring a line load."
   ]
  }
 ],
 "metadata": {
  "kernelspec": {
   "display_name": "Python 3 (ipykernel)",
   "language": "python",
   "name": "python3"
  },
  "language_info": {
   "codemirror_mode": {
    "name": "ipython",
    "version": 3
   },
   "file_extension": ".py",
   "mimetype": "text/x-python",
   "name": "python",
   "nbconvert_exporter": "python",
   "pygments_lexer": "ipython3",
   "version": "3.10.14"
  }
 },
 "nbformat": 4,
 "nbformat_minor": 5
}

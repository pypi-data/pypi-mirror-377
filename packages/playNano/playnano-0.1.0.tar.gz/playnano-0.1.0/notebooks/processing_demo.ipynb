{
 "cells": [
  {
   "cell_type": "markdown",
   "id": "266a2cf8",
   "metadata": {},
   "source": [
    "# playNano - Processing Explorer Notebook\n",
    "\n",
    "This notebook focuses on **loading**, **processing** (filters, masks, stages, and provenance), and **exporting** (image stacks + GIFs) HS-AFM data programmatically using `playNano`.\n",
    "\n",
    "> Tip: Run the cells from top to bottom. If you're developing locally inside the repo, install in editable mode first."
   ]
  },
  {
   "cell_type": "code",
   "execution_count": null,
   "id": "0f5e3a1d",
   "metadata": {},
   "outputs": [],
   "source": [
    "# If running inside the playNano repo, uncomment to install in editable mode\n",
    "# !pip install -e .\n",
    "\n",
    "from pathlib import Path\n",
    "import numpy as np\n",
    "import matplotlib.pyplot as plt\n",
    "\n",
    "from playNano.afm_stack import AFMImageStack\n",
    "from playNano.processing.pipeline import ProcessingPipeline\n",
    "from playNano.processing.filters import register_filters\n",
    "from playNano.processing.mask_generators import register_masking\n",
    "from playNano.processing.masked_filters import register_mask_filters\n",
    "from playNano.io.export_data import save_ome_tiff_stack, save_npz_bundle, save_h5_bundle\n",
    "from playNano.io.gif_export import export_gif\n",
    "\n",
    "%matplotlib inline"
   ]
  },
  {
   "cell_type": "markdown",
   "id": "ebbf3fe1",
   "metadata": {},
   "source": [
    "## 1) Configure input & load\n",
    "Set your data path and channel, then load an `AFMImageStack`."
   ]
  },
  {
   "cell_type": "code",
   "execution_count": null,
   "id": "ee6dc0eb",
   "metadata": {},
   "outputs": [],
   "source": [
    "# -> Edit these for your dataset\n",
    "input_path = Path('../tests/resources/jpk_folder_0')  # e.g. a .h5-jpk file or a folder\n",
    "channel = 'height_trace'  # common HS-AFM height channel\n",
    "\n",
    "stack = AFMImageStack.load_data(input_path, channel=channel)\n",
    "print(f'Loaded {stack.n_frames} frames; frame shape = {stack.image_shape}; pixel size = {stack.pixel_size_nm} nm')\n",
    "# peek at first frame\n",
    "plt.figure(figsize=(4,4))\n",
    "plt.imshow(stack.get_frame(0), cmap='afmhot', origin='lower')\n",
    "plt.title('Raw Frame 0')\n",
    "plt.colorbar(label='Height (nm)'); plt.tight_layout(); plt.show()"
   ]
  },
  {
   "cell_type": "markdown",
   "id": "b60a3529",
   "metadata": {},
   "source": [
    "## 2) Discover available filters & masks\n",
    "The registry functions list everything that can be added to a `ProcessingPipeline`."
   ]
  },
  {
   "cell_type": "code",
   "execution_count": null,
   "id": "3dceccb6",
   "metadata": {},
   "outputs": [],
   "source": [
    "FILTERS = register_filters()\n",
    "MASKS = register_masking()\n",
    "MASKED = register_mask_filters()\n",
    "print(f'Registered filters: {len(FILTERS)}; masks: {len(MASKS)}; masked filters: {len(MASKED)}')\n",
    "\n",
    "def brief_doc(fn, width=90):\n",
    "    d = (fn.__doc__ or '').strip().splitlines()\n",
    "    one = d[0] if d else ''\n",
    "    return (one[:width] + '...') if len(one) > width else one\n",
    "\n",
    "print('- Filters -')\n",
    "for name, fn in sorted(FILTERS.items()):\n",
    "    print(f'  * {name:24s} : {brief_doc(fn)}')\n",
    "\n",
    "print('- Masks -')\n",
    "for name, fn in sorted(MASKS.items()):\n",
    "    print(f'  * {name:24s} : {brief_doc(fn)}')\n",
    "\n",
    "print('- Masked filters -')\n",
    "for name, fn in sorted(MASKED.items()):\n",
    "    print(f'  * {name:24s} : {brief_doc(fn)}')"
   ]
  },
  {
   "cell_type": "markdown",
   "id": "33b4b983",
   "metadata": {},
   "source": [
    "## 3) Build a Processing Explorer\n",
    "Utilities to run a pipeline, then **inspect every stage** on a chosen frame: side-by-side, differences, histograms, and a quick roughness metric."
   ]
  },
  {
   "cell_type": "code",
   "execution_count": null,
   "id": "a3e37cbf",
   "metadata": {},
   "outputs": [],
   "source": [
    "import math\n",
    "import re\n",
    "\n",
    "# A convenient default pipeline you can tweak\n",
    "DEFAULT_STEPS = [\n",
    "    ('remove_plane', {}),\n",
    "    ('mask_mean_offset', {'factor': 1.0}),\n",
    "    ('row_median_align', {}),\n",
    "    ('polynomial_flatten', {'order': 2}),\n",
    "    ('gaussian_filter', {'sigma': 1.5}),\n",
    "]\n",
    "\n",
    "def run_pipeline(stack, steps=DEFAULT_STEPS):\n",
    "    # restore raw if available to start clean\n",
    "    try:\n",
    "        stack.restore_raw()\n",
    "    except Exception:\n",
    "        pass\n",
    "    pipe = ProcessingPipeline(stack)\n",
    "    for name, kwargs in steps:\n",
    "        if name in MASKS:\n",
    "            pipe.add_mask(name, **kwargs)\n",
    "        else:\n",
    "            pipe.add_filter(name, **kwargs)\n",
    "    pipe.run()\n",
    "    return ordered_stage_keys(stack)\n",
    "\n",
    "def step_index_from_key(k):\n",
    "    m = re.match(r'^step_(\\d+)_', k)\n",
    "    return int(m.group(1)) if m else (0 if k == 'raw' else 10**9)\n",
    "\n",
    "def ordered_stage_keys(stack):\n",
    "    return sorted(list(stack.processed.keys()), key=step_index_from_key)\n",
    "\n",
    "def find_latest_mask_key(stack, name_contains):\n",
    "    candidates = [k for k in stack.masks.keys() if name_contains in k]\n",
    "    if not candidates:\n",
    "        return None\n",
    "    return sorted(candidates, key=step_index_from_key)[-1]\n",
    "\n",
    "def plot_stages(stack, frame_idx=0, keys=None, cmap='afmhot'):\n",
    "    keys = keys or ordered_stage_keys(stack)\n",
    "    n = len(keys)\n",
    "    ncols = min(4, n)\n",
    "    nrows = math.ceil(n / ncols)\n",
    "    fig, axes = plt.subplots(nrows, ncols, figsize=(3.2*ncols, 3.2*nrows), squeeze=False)\n",
    "    for i, k in enumerate(keys):\n",
    "        ax = axes[i//ncols][i%ncols]\n",
    "        img = stack.processed[k][frame_idx]\n",
    "        im = ax.imshow(img, cmap=cmap, origin='lower')\n",
    "        ax.set_title(k)\n",
    "        ax.axis('off')\n",
    "        fig.colorbar(im, ax=ax, fraction=0.046, pad=0.03)\n",
    "    for j in range(i+1, nrows*ncols):\n",
    "        axes[j//ncols][j%ncols].axis('off')\n",
    "    plt.tight_layout()\n",
    "    return fig\n",
    "\n",
    "def plot_differences(stack, frame_idx=0, key_a='raw', key_b=None, cmap='coolwarm'):\n",
    "    if key_b is None:\n",
    "        raise ValueError('Provide key_b (the later stage)')\n",
    "    A = stack.processed[key_a][frame_idx]\n",
    "    B = stack.processed[key_b][frame_idx]\n",
    "    D = B - A\n",
    "    v = float(np.nanmax(np.abs(D))) if np.isfinite(D).any() else 1.0\n",
    "    if v == 0:\n",
    "        v = 1.0\n",
    "    plt.figure(figsize=(4,3.6))\n",
    "    plt.imshow(D, cmap=cmap, vmin=-v, vmax=+v, origin='lower')\n",
    "    plt.title('Delta: {} minus {}'.format(key_b, key_a))\n",
    "    plt.axis('off'); plt.colorbar(label='Delta height (nm)'); plt.tight_layout(); plt.show()\n",
    "\n",
    "def roughness_nm(arr):\n",
    "    return float(np.nanstd(arr))\n",
    "\n",
    "def summarize_metrics(stack, frame_idx=0, keys=None):\n",
    "    keys = keys or ordered_stage_keys(stack)\n",
    "    rows = []\n",
    "    for k in keys:\n",
    "        r = roughness_nm(stack.processed[k][frame_idx])\n",
    "        rows.append((k, r))\n",
    "    return rows\n",
    "\n",
    "def show_histograms(stack, frame_idx=0, keys=None, bins=128):\n",
    "    keys = keys or ordered_stage_keys(stack)\n",
    "    n = len(keys)\n",
    "    ncols = min(4, n)\n",
    "    nrows = math.ceil(n / ncols)\n",
    "    fig, axes = plt.subplots(nrows, ncols, figsize=(3.2*ncols, 2.6*nrows), squeeze=False)\n",
    "    for i, k in enumerate(keys):\n",
    "        ax = axes[i//ncols][i%ncols]\n",
    "        vals = stack.processed[k][frame_idx].ravel()\n",
    "        ax.hist(vals, bins=bins, color='steelblue', alpha=0.8)\n",
    "        ax.set_title(k)\n",
    "    for j in range(i+1, nrows*ncols):\n",
    "        axes[j//ncols][j%ncols].axis('off')\n",
    "    plt.tight_layout(); return fig\n"
   ]
  },
  {
   "cell_type": "markdown",
   "id": "bd031f5f",
   "metadata": {},
   "source": [
    "### 3.1 Run the default pipeline & inspect all stages"
   ]
  },
  {
   "cell_type": "code",
   "execution_count": null,
   "id": "7ede6f68",
   "metadata": {},
   "outputs": [],
   "source": [
    "stage_keys = run_pipeline(stack, DEFAULT_STEPS)\n",
    "stage_keys\n"
   ]
  },
  {
   "cell_type": "code",
   "execution_count": null,
   "id": "41c2dc47",
   "metadata": {},
   "outputs": [],
   "source": [
    "frame_idx = 0  # choose a representative frame\n",
    "_ = plot_stages(stack, frame_idx, stage_keys)\n",
    "\n",
    "# difference between adjacent stages (change introduced by each step)\n",
    "for a, b in zip(stage_keys[:-1], stage_keys[1:], strict=False):\n",
    "    plot_differences(stack, frame_idx, key_a=a, key_b=b)\n",
    "\n",
    "# quick roughness table (std of heights)\n",
    "rows = summarize_metrics(stack, frame_idx, stage_keys)\n",
    "for k, r in rows:\n",
    "    print(f'{k:24s}  RMS ~= {r:.3f} nm')\n",
    "\n",
    "# per-stage histograms\n",
    "_ = show_histograms(stack, frame_idx, stage_keys)"
   ]
  },
  {
   "cell_type": "markdown",
   "id": "5db78cd6",
   "metadata": {},
   "source": [
    "### 3.2 Parameter sweeps (e.g., Gaussian sigma)\n",
    "Sweep a parameter and preview the effect (single frame) while keeping the earlier steps fixed."
   ]
  },
  {
   "cell_type": "code",
   "execution_count": null,
   "id": "5c3bf5ca",
   "metadata": {},
   "outputs": [],
   "source": [
    "sigmas = [0.5, 1.0, 1.5, 2.0, 3.0]\n",
    "fig, axs = plt.subplots(1, len(sigmas), figsize=(3.2*len(sigmas), 3.2))\n",
    "\n",
    "for i, s in enumerate(sigmas):\n",
    "    steps = [\n",
    "        ('remove_plane', {}),\n",
    "        ('mask_mean_offset', {'factor': 1.0}),\n",
    "        ('row_median_align', {}),\n",
    "        ('polynomial_flatten', {'order': 2}),\n",
    "        ('gaussian_filter', {'sigma': s}),\n",
    "    ]\n",
    "    run_pipeline(stack, steps)\n",
    "    img = stack.processed[ordered_stage_keys(stack)[-1]][0]\n",
    "    ax = axs[i]\n",
    "    im = ax.imshow(img, cmap='afmhot', origin='lower')\n",
    "    ax.set_title(f'sigma = {s}')\n",
    "    ax.axis('off')\n",
    "\n",
    "# Reserve space on the right and add the shared colorbar there\n",
    "fig.subplots_adjust(right=0.88, wspace=0.02)\n",
    "cbar = fig.colorbar(im, ax=axs.ravel().tolist(), fraction=0.03, pad=0.02)\n",
    "cbar.set_label('Height (nm)')\n",
    "plt.show()\n"
   ]
  },
  {
   "cell_type": "markdown",
   "id": "43f6830b",
   "metadata": {},
   "source": [
    "### 3.3 Exploring masks\n",
    "Mask steps generate boolean arrays in `stack.masks`. Visualize a mask and how a masked filter changes the frame."
   ]
  },
  {
   "cell_type": "code",
   "execution_count": null,
   "id": "21cb6c06",
   "metadata": {},
   "outputs": [],
   "source": [
    "# Example: build a mask via 'mask_mean_offset' then inspect the mask\n",
    "run_pipeline(stack, [('mask_mean_offset', {'factor': 1.0})])\n",
    "mask_key = 'step_1_mask_mean_offset'\n",
    "mask = stack.masks.get(mask_key, None)\n",
    "if mask is not None:\n",
    "    plt.figure(figsize=(4,4)); plt.imshow(mask[frame_idx], origin='lower', cmap='gray')\n",
    "    plt.title(f'Mask: {mask_key}'); plt.axis('off'); plt.show()\n",
    "else:\n",
    "    print('No mask found under key', mask_key)\n"
   ]
  },
  {
   "cell_type": "markdown",
   "id": "cce51070",
   "metadata": {},
   "source": [
    "## 4) Provenance: what ran & with which parameters?\n",
    "Every pipeline run appends to `stack.provenance['processing']['steps']`."
   ]
  },
  {
   "cell_type": "code",
   "execution_count": null,
   "id": "9b8c00d5",
   "metadata": {},
   "outputs": [],
   "source": [
    "import json\n",
    "steps = stack.provenance.get('processing', {}).get('steps', [])\n",
    "print('Processing steps executed:')\n",
    "for s in steps:\n",
    "    print(' * {} - params: {}'.format(s.get('name'), s.get('params')))\n",
    "# Optional: write a lightweight processing log\n",
    "out_dir = Path('output'); out_dir.mkdir(exist_ok=True, parents=True)\n",
    "with open(out_dir/'processing_log.json', 'w') as f:\n",
    "    json.dump({'processing': stack.provenance.get('processing', {})}, f, indent=2)\n",
    "print('Wrote', out_dir/'processing_log.json')"
   ]
  },
  {
   "cell_type": "markdown",
   "id": "94b6e14d",
   "metadata": {},
   "source": [
    "## 5) Export processed data & animations\n",
    "Export to OME-TIFF / NPZ / HDF5, and create GIFs for raw/processed views."
   ]
  },
  {
   "cell_type": "code",
   "execution_count": null,
   "id": "59a992f5",
   "metadata": {},
   "outputs": [],
   "source": [
    "out_dir = Path('output')\n",
    "base = 'processing_explorer'\n",
    "out_dir.mkdir(exist_ok=True, parents=True)\n",
    "\n",
    "# Ensure a processed stack exists (run DEFAULT_STEPS if needed)\n",
    "if 'gaussian_filter' not in stack.processed:\n",
    "    _ = run_pipeline(stack, DEFAULT_STEPS)\n",
    "\n",
    "# --- Bundles (processed) ---\n",
    "save_ome_tiff_stack(out_dir/f'{base}.ome.tif', stack, raw=False)\n",
    "save_npz_bundle(out_dir/base, stack, raw=False)\n",
    "save_h5_bundle(out_dir/base, stack, raw=False)\n",
    "print('Wrote OME-TIFF, NPZ, H5 bundles to', out_dir)\n",
    "\n",
    "# --- GIFs ---\n",
    "export_gif(afm_stack=stack, make_gif=True, output_folder=out_dir, output_name=f'{base}_processed', scale_bar_nm=100, raw=False)\n",
    "export_gif(afm_stack=stack, make_gif=True, output_folder=out_dir, output_name=f'{base}_raw', scale_bar_nm=100, raw=True)\n",
    "print('Wrote GIFs to', out_dir)"
   ]
  },
  {
   "cell_type": "markdown",
   "id": "44496333",
   "metadata": {},
   "source": [
    "## 6) Reproducible pipeline file (YAML)\n",
    "Save the current steps in a CLI-compatible YAML so you can run the same processing outside notebooks."
   ]
  },
  {
   "cell_type": "code",
   "execution_count": null,
   "id": "517479cd",
   "metadata": {},
   "outputs": [],
   "source": [
    "import yaml\n",
    "proc_yaml = {'filters': [({'name': n} | dict(kwargs)) for (n, kwargs) in DEFAULT_STEPS]}\n",
    "with open(Path('output')/'processing.yaml', 'w', encoding='utf8') as f:\n",
    "    yaml.safe_dump(proc_yaml, f, sort_keys=False)\n",
    "print('Saved', Path('output')/'processing.yaml')\n",
    "print('Example CLI:')\n",
    "print('  playnano process  \"%s\" --channel %s --processing-file %s --export tif,npz,h5 --make-gif' % (input_path, channel, Path('output')/'processing.yaml'))"
   ]
  }
 ],
 "metadata": {
  "kernelspec": {
   "display_name": "Python 3 (ipykernel)",
   "language": "python",
   "name": "python3"
  },
  "language_info": {
   "codemirror_mode": {
    "name": "ipython",
    "version": 3
   },
   "file_extension": ".py",
   "mimetype": "text/x-python",
   "name": "python",
   "nbconvert_exporter": "python",
   "pygments_lexer": "ipython3",
   "version": "3.12.11"
  }
 },
 "nbformat": 4,
 "nbformat_minor": 5
}

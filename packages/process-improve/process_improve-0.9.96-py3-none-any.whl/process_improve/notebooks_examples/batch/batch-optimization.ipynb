{
 "cells": [
  {
   "cell_type": "markdown",
   "id": "0",
   "metadata": {
    "toc": true
   },
   "source": [
    "<h1>Table of Contents<span class=\"tocSkip\"></span></h1>\n",
    "<div class=\"toc\"><ul class=\"toc-item\"></ul></div>"
   ]
  },
  {
   "cell_type": "code",
   "execution_count": null,
   "id": "1",
   "metadata": {},
   "outputs": [],
   "source": [
    "if False:\n",
    "    !pip install -U pandas numpy process_improve plotly IPython"
   ]
  },
  {
   "cell_type": "code",
   "execution_count": null,
   "id": "2",
   "metadata": {},
   "outputs": [],
   "source": [
    "import sys\n",
    "import os\n",
    "import pathlib\n",
    "cwd = pathlib\n",
    "sys.path.insert(0, str(pathlib.Path.cwd().parents[1]))\n",
    "\n",
    "from process_improve.batch.preprocessing import find_reference_batch, batch_dtw\n",
    "from process_improve.batch.data_input import melted_to_dict\n",
    "from process_improve.batch.plotting import plot_all_batches_per_tag, plot_multitags\n",
    "import plotly.graph_objs as go\n",
    "from plotly.offline import iplot, init_notebook_mode\n",
    "from IPython.display import display, HTML\n",
    "import pandas as pd\n",
    "import ipywidgets as widgets\n",
    "init_notebook_mode(connected=True)\n",
    "display(HTML(\"<style>.container { width:100% !important; }</style>\"))"
   ]
  },
  {
   "cell_type": "code",
   "execution_count": null,
   "id": "3",
   "metadata": {},
   "outputs": [],
   "source": [
    "# Ideally, use more than 1 tag to align on. These columns must exist in all data frames for all batches. There should be NO missing data in any columns.\n",
    "columns_to_align = [\"AgitatorPower\", \"AgitatorTorque\", \"JacketTemperature\", \"DryerTemp\"]\n",
    "tag_to_plot = columns_to_align[3]"
   ]
  },
  {
   "cell_type": "code",
   "execution_count": null,
   "id": "4",
   "metadata": {},
   "outputs": [],
   "source": [
    "# Import the data: a dictionary of dataframes\n",
    "import process_improve.datasets.batch as batch_ds \n",
    "\n",
    "dryer_raw = pd.read_csv(pathlib.Path(batch_ds.__path__._recalculate()[0]) / \"dryer.csv\")\n",
    "df_dict = melted_to_dict(dryer_raw, batch_id_col=\"batch_id\")\n",
    "df_dict.keys()"
   ]
  },
  {
   "cell_type": "code",
   "execution_count": null,
   "id": "5",
   "metadata": {},
   "outputs": [],
   "source": [
    "# Plot some data, to get an idea of what is present\n",
    "iplot(plot_all_batches_per_tag(df_dict=df_dict, \n",
    "                                tag=tag_to_plot,  \n",
    "                                time_column =\"ClockTime\", \n",
    "                                x_axis_label=\"Time [hours]\"))"
   ]
  },
  {
   "cell_type": "code",
   "execution_count": null,
   "id": "6",
   "metadata": {},
   "outputs": [],
   "source": [
    "# Plot some data, to get an idea of what is present\n",
    "iplot(plot_multitags(df_dict=df_dict, \n",
    "                      time_column =\"ClockTime\", \n",
    "                      settings=dict(nrows=2)\n",
    "                      ))"
   ]
  },
  {
   "cell_type": "code",
   "execution_count": null,
   "id": "7",
   "metadata": {},
   "outputs": [],
   "source": [
    "# What is a good batch number to align on?\n",
    "good_reference_candidate = find_reference_batch(df_dict, \n",
    "                                                columns_to_align=columns_to_align, \n",
    "                                                settings={\"robust\": False})\n",
    "good_reference_candidate"
   ]
  },
  {
   "cell_type": "code",
   "execution_count": null,
   "id": "8",
   "metadata": {},
   "outputs": [],
   "source": [
    "# Align the data based on the reference candidate, using the specified tags/columns.\n",
    "aligned_out = batch_dtw(df_dict, columns_to_align=columns_to_align,\n",
    "        reference_batch=good_reference_candidate,\n",
    "        settings={\n",
    "            \"robust\": False,\n",
    "            \n",
    "            # High tolerance of around 1.0 will run alignment only once; \n",
    "            # Typically set to 0.1, so that at least 2 or 3 iterations of alignment take place\n",
    "            \"tolerance\": 0.05, \n",
    "             \n",
    "            \"show_progress\": True, # show progress: shows total \"distance\" of batch relative to the reference\n",
    "        },  \n",
    "    )\n",
    "    "
   ]
  },
  {
   "cell_type": "code",
   "execution_count": null,
   "id": "9",
   "metadata": {},
   "outputs": [],
   "source": [
    "print('Weight history (the higher the weight, the greater the importance of that tag in the alignment process):')\n",
    "display(pd.DataFrame(aligned_out['weight_history'], columns=columns_to_align))"
   ]
  },
  {
   "cell_type": "code",
   "execution_count": null,
   "id": "10",
   "metadata": {},
   "outputs": [],
   "source": [
    "synced = aligned_out['aligned_batch_dfdict']"
   ]
  },
  {
   "cell_type": "code",
   "execution_count": null,
   "id": "11",
   "metadata": {},
   "outputs": [],
   "source": [
    "# Plot the aligned (synced) data\n",
    "iplot(plot_multitags(df_dict=synced, \n",
    "                      settings=dict(nrows=2, x_axis_label='Normalized duration'))\n",
    "     )"
   ]
  },
  {
   "cell_type": "code",
   "execution_count": null,
   "id": "12",
   "metadata": {
    "code_folding": [
     0,
     5
    ]
   },
   "outputs": [],
   "source": [
    "settings = dict(ncols=6, \n",
    "                nrows=2\n",
    ")\n",
    "batch1 = df_dict[list(df_dict.keys())[0]]\n",
    "tag_list = list(batch1.columns)\n",
    "def base_figure():\n",
    "    fig = go.Figure()\n",
    "    specs = [[{\"type\": \"scatter\"}] * int(settings[\"ncols\"])] * int(settings[\"nrows\"])\n",
    "    fig.set_subplots(\n",
    "        rows=settings[\"nrows\"],\n",
    "        cols=settings[\"ncols\"],\n",
    "        shared_xaxes=\"all\",\n",
    "        shared_yaxes=False,\n",
    "        start_cell=\"top-left\",\n",
    "        vertical_spacing=0.2 / settings[\"nrows\"],\n",
    "        horizontal_spacing=0.2 / settings[\"ncols\"],\n",
    "        subplot_titles=tag_list,\n",
    "        specs=specs,\n",
    "    )\n",
    "    return fig\n",
    "    \n",
    "\n",
    "def plot_all_tags(df_dict, fig, time_column=None):   \n",
    "    traces = []\n",
    "    batch_list = list(df_dict.keys())\n",
    "    if time_column in tag_list:\n",
    "        tag_list.remove(time_column)\n",
    "\n",
    "    for batch_id, batch_df in df_dict.items():\n",
    "       \n",
    "        # Time axis values\n",
    "        if time_column in batch_df.columns:\n",
    "            time_data = batch_df[time_column]\n",
    "        else:\n",
    "            time_data = list(range(batch_df.shape[0]))\n",
    "\n",
    "        row = col = 1\n",
    "        for tag in tag_list:\n",
    "            trace = go.Scatter(\n",
    "                x=time_data,\n",
    "                y=batch_df[tag],\n",
    "                name=batch_id,\n",
    "                mode=\"lines\",\n",
    "                hovertemplate=\"Time: %{x}\\ny: %{y}\",\n",
    "                # line=colour_assignment[batch_id],  # <---- update\n",
    "                legendgroup=batch_id,\n",
    "                showlegend=True if tag == tag_list[0] else False,\n",
    "            )\n",
    "            fig.add_trace(trace, row=row, col=col)\n",
    "\n",
    "            col += 1\n",
    "            if col > settings[\"ncols\"]:\n",
    "                row += 1\n",
    "                col = 1\n",
    "                \n",
    "    fig.update_layout(\n",
    "        title=\"To add still\",\n",
    "        margin=dict(l=10, r=10, b=5, t=80),  # Defaults: l=80, r=80, t=100, b=80,\n",
    "        hovermode=\"closest\",\n",
    "        showlegend=True,\n",
    "        legend=dict(\n",
    "            orientation=\"h\",\n",
    "            traceorder=\"normal\",\n",
    "            font=dict(family=\"sans-serif\", size=12, color=\"#000\"),\n",
    "            bordercolor=\"#DDDDDD\",\n",
    "            borderwidth=1,\n",
    "        ),\n",
    "        autosize=False,\n",
    "        xaxis=dict(\n",
    "            title=\"TO ADD STILL\",\n",
    "            gridwidth=1,\n",
    "            mirror=True,  # ticks are mirror at the top of the frame also\n",
    "            showspikes=True,\n",
    "            visible=True,\n",
    "        ),\n",
    "        yaxis=dict(\n",
    "            gridwidth=2,\n",
    "            type=\"linear\",\n",
    "            autorange=True,\n",
    "            showspikes=True,\n",
    "            visible=True,\n",
    "            showline=True,  # show a separating line\n",
    "            side=\"left\",  # show on the RHS\n",
    "        ),\n",
    "        width=1900,\n",
    "        height=800\n",
    "    )\n",
    "    fig.show()\n",
    "    return fig          \n",
    "\n",
    "\n",
    "out = widgets.Output()\n",
    "\n",
    "g = go.FigureWidget(plot_all_tags(df_dict, fig=base_figure()))\n",
    "#scatter_points = g.data[0]\n",
    "#prediction_line = g.data[1] # this is the last element drawn in the plot\n",
    "\n",
    "box_layout = widgets.Layout(display='inline-flex', flex_flow='row', align_items='stretch', width='100%')\n",
    "box_auto = widgets.Box(children=[ g], layout=box_layout)\n",
    "display(widgets.VBox([box_auto, ]) );\n"
   ]
  },
  {
   "cell_type": "code",
   "execution_count": null,
   "id": "13",
   "metadata": {},
   "outputs": [],
   "source": [
    "output_value = widgets.FloatSlider(min=600,\n",
    "                                   max=1898, \n",
    "                                   step=2, \n",
    "                                   value=600, \n",
    "                                   readout_format=\"d\",\n",
    "                                   continuous_update=True,\n",
    "                                   description='Output metric')\n",
    "\n",
    "def update_plot(change):    \n",
    "    new_value = f\"{int(change.new)}nm\"   \n",
    "    \n",
    "    print(change)\n",
    "    #with g.batch_update():\n",
    "    #    pass\n",
    "        # Update the plot values here.\n",
    "        #new_x = np.array([X.min().values[0], X.max().values[0]]).reshape(-1, 1)\n",
    "        # \n",
    "        #scatter_points['x'] = 1\n",
    "        #prediction_line['x'] = 2\n",
    "        #prediction_line['y'] = 3\n",
    "\n",
    "output_value.observe(update_plot, names='value')\n",
    "display(output_value)\n",
    "\n",
    "\n",
    "#display(widgets.VBox([out]));"
   ]
  },
  {
   "cell_type": "code",
   "execution_count": null,
   "id": "14",
   "metadata": {},
   "outputs": [],
   "source": []
  }
 ],
 "metadata": {
  "hide_input": false,
  "kernelspec": {
   "display_name": "Python 3",
   "language": "python",
   "name": "python3"
  },
  "language_info": {
   "codemirror_mode": {
    "name": "ipython",
    "version": 3
   },
   "file_extension": ".py",
   "mimetype": "text/x-python",
   "name": "python",
   "nbconvert_exporter": "python",
   "pygments_lexer": "ipython3",
   "version": "3.9.5"
  },
  "toc": {
   "base_numbering": 1,
   "nav_menu": {},
   "number_sections": true,
   "sideBar": true,
   "skip_h1_title": true,
   "title_cell": "Table of Contents",
   "title_sidebar": "Contents",
   "toc_cell": true,
   "toc_position": {},
   "toc_section_display": true,
   "toc_window_display": false
  },
  "varInspector": {
   "cols": {
    "lenName": 16,
    "lenType": 16,
    "lenVar": 40
   },
   "kernels_config": {
    "python": {
     "delete_cmd_postfix": "",
     "delete_cmd_prefix": "del ",
     "library": "var_list.py",
     "varRefreshCmd": "print(var_dic_list())"
    },
    "r": {
     "delete_cmd_postfix": ") ",
     "delete_cmd_prefix": "rm(",
     "library": "var_list.r",
     "varRefreshCmd": "cat(var_dic_list()) "
    }
   },
   "types_to_exclude": [
    "module",
    "function",
    "builtin_function_or_method",
    "instance",
    "_Feature"
   ],
   "window_display": false
  }
 },
 "nbformat": 4,
 "nbformat_minor": 5
}

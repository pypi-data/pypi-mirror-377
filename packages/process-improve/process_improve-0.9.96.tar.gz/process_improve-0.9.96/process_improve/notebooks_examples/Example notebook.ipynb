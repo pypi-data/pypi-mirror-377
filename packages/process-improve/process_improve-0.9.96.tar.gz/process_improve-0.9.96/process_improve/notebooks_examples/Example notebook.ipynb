{
 "cells": [
  {
   "cell_type": "markdown",
   "id": "0",
   "metadata": {
    "toc": true
   },
   "source": [
    "<h1>Table of Contents<span class=\"tocSkip\"></span></h1>\n",
    "<div class=\"toc\"><ul class=\"toc-item\"><li><span><a href=\"#Case-study-description\" data-toc-modified-id=\"Case-study-description-1\"><span class=\"toc-item-num\">1&nbsp;&nbsp;</span>Case study description</a></span></li><li><span><a href=\"#Read-in-the-data-set\" data-toc-modified-id=\"Read-in-the-data-set-2\"><span class=\"toc-item-num\">2&nbsp;&nbsp;</span>Read in the data set</a></span></li><li><span><a href=\"#Explore-data:-show-some-tables-and-plots\" data-toc-modified-id=\"Explore-data:-show-some-tables-and-plots-3\"><span class=\"toc-item-num\">3&nbsp;&nbsp;</span>Explore data: show some tables and plots</a></span></li><li><span><a href=\"#Load-another-dataset;-merge-the-two-data-tables\" data-toc-modified-id=\"Load-another-dataset;-merge-the-two-data-tables-4\"><span class=\"toc-item-num\">4&nbsp;&nbsp;</span>Load another dataset; merge the two data tables</a></span></li><li><span><a href=\"#Choose-a-column-and-predict-another-column,-based-on-a-least-squares-model\" data-toc-modified-id=\"Choose-a-column-and-predict-another-column,-based-on-a-least-squares-model-5\"><span class=\"toc-item-num\">5&nbsp;&nbsp;</span>Choose a column and predict another column, based on a least-squares model</a></span></li><li><span><a href=\"#Build-the-linear-regression-model\" data-toc-modified-id=\"Build-the-linear-regression-model-6\"><span class=\"toc-item-num\">6&nbsp;&nbsp;</span>Build the linear regression model</a></span></li><li><span><a href=\"#Quantify-how-good-the-predictions-are\" data-toc-modified-id=\"Quantify-how-good-the-predictions-are-7\"><span class=\"toc-item-num\">7&nbsp;&nbsp;</span>Quantify how good the predictions are</a></span></li><li><span><a href=\"#User-interface-to-test-our-predictions\" data-toc-modified-id=\"User-interface-to-test-our-predictions-8\"><span class=\"toc-item-num\">8&nbsp;&nbsp;</span>User-interface to test our predictions</a></span></li><li><span><a href=\"#Try-a-different-prediction-model\" data-toc-modified-id=\"Try-a-different-prediction-model-9\"><span class=\"toc-item-num\">9&nbsp;&nbsp;</span>Try a different prediction model</a></span></li><li><span><a href=\"#Compare-the-two-models\" data-toc-modified-id=\"Compare-the-two-models-10\"><span class=\"toc-item-num\">10&nbsp;&nbsp;</span>Compare the two models</a></span></li><li><span><a href=\"#Export-the-results\" data-toc-modified-id=\"Export-the-results-11\"><span class=\"toc-item-num\">11&nbsp;&nbsp;</span>Export the results</a></span></li><li><span><a href=\"#Try-some-Python-commands-yourself\" data-toc-modified-id=\"Try-some-Python-commands-yourself-12\"><span class=\"toc-item-num\">12&nbsp;&nbsp;</span>Try some Python commands yourself</a></span></li><li><span><a href=\"#Next-steps-in-learning-Python\" data-toc-modified-id=\"Next-steps-in-learning-Python-13\"><span class=\"toc-item-num\">13&nbsp;&nbsp;</span>Next steps in learning Python</a></span></li></ul></div>"
   ]
  },
  {
   "cell_type": "markdown",
   "id": "1",
   "metadata": {},
   "source": [
    "# Details about this notebook\n",
    "\n",
    "In this notebook we demonstrate some capabilities of Python, specifically for data analysis. \n",
    "\n",
    "We consider things you would do on a regular basis:\n",
    "* Reading in data\n",
    "* Merging it with other data sets\n",
    "* Understanding the data (explore)\n",
    "* Building a prediction model from your data\n",
    "* Exporting the results and sharing them with your colleagues."
   ]
  },
  {
   "cell_type": "markdown",
   "id": "2",
   "metadata": {},
   "source": [
    "## Case study description\n",
    "\n",
    "We have a number of spectra measured on tablets. Each spectrum is a row of values: the absorbance value measured at a particular wavelength of light. Also, we have the hardness of the tablet, which is a number that is measured in the laboratory.\n",
    "\n",
    "In this case study we will try to predict the hardness of the tablet, based on the spectral data.\n",
    "\n",
    "**Connections with other subject areas**\n",
    "\n",
    "If you do not work with spectral data, you probably work with similar data structures. For example, in batch data, instead of absorbances at different wavelengths, replace that with the measurement of a signal from your batch process (e.g. the temperature at the start, middle and end are equivalent to the low, medium and high wavelengths absorbances)\n"
   ]
  },
  {
   "cell_type": "code",
   "execution_count": null,
   "id": "3",
   "metadata": {},
   "outputs": [],
   "source": [
    "import numpy as np\n",
    "import pandas as pd\n",
    "import plotly\n",
    "import ipysheet\n",
    "import ipywidgets as widgets\n",
    "pd.options.plotting.backend = \"plotly\"\n",
    "import plotly.graph_objects as go\n",
    "import plotly.io as pio\n",
    "pio.renderers.default = \"notebook\" # jupyterlab\n",
    "from IPython.core.display import display, HTML\n",
    "display(HTML(\"<style>.container { width:90% !important; }</style>\"))"
   ]
  },
  {
   "cell_type": "markdown",
   "id": "4",
   "metadata": {},
   "source": [
    "## Read in the data set"
   ]
  },
  {
   "cell_type": "code",
   "execution_count": null,
   "id": "5",
   "metadata": {},
   "outputs": [],
   "source": [
    "spectra = pd.read_excel(\"https://github.com/kgdunn/process-improve/raw/main/notebooks_examples/Tablets.xlsx\", sheet_name=\"Spectra\").set_index(\"Sample\")\n",
    "print(f\"Data shape = {spectra.shape}\")"
   ]
  },
  {
   "cell_type": "markdown",
   "id": "6",
   "metadata": {},
   "source": [
    "## Explore data: show some tables and plots"
   ]
  },
  {
   "cell_type": "code",
   "execution_count": null,
   "id": "7",
   "metadata": {},
   "outputs": [],
   "source": [
    "# Show the top of the data set\n",
    "spectra.head()"
   ]
  },
  {
   "cell_type": "code",
   "execution_count": null,
   "id": "8",
   "metadata": {},
   "outputs": [],
   "source": [
    "# Show the end of the data set\n",
    "spectra.tail()"
   ]
  },
  {
   "cell_type": "code",
   "execution_count": null,
   "id": "9",
   "metadata": {},
   "outputs": [],
   "source": [
    "# Randomly select and show 10 rows\n",
    "spectra.sample(10)"
   ]
  },
  {
   "cell_type": "code",
   "execution_count": null,
   "id": "10",
   "metadata": {},
   "outputs": [],
   "source": [
    "# Show a randomly selected row; and plot its spectrum\n",
    "spectra.sample(1).iloc[0].plot(title=\"Plot of a randomly selected spectrum\")"
   ]
  },
  {
   "cell_type": "code",
   "execution_count": null,
   "id": "11",
   "metadata": {},
   "outputs": [],
   "source": [
    "# Improve the figure; drop the first column away\n",
    "fig=spectra.sample(1).iloc[0, 1:].plot(title=\"Plot of a randomly selected spectrum\")\n",
    "fig.update_layout(xaxis_title_text=\"Wavelength [nm]\")\n",
    "fig.update_layout(yaxis_title_text=\"Absorbance\")"
   ]
  },
  {
   "cell_type": "markdown",
   "id": "12",
   "metadata": {},
   "source": [
    "## Load another dataset; merge the two data tables"
   ]
  },
  {
   "cell_type": "code",
   "execution_count": null,
   "id": "13",
   "metadata": {},
   "outputs": [],
   "source": [
    "output = pd.read_excel(\"https://github.com/kgdunn/process-improve/raw/main/notebooks_examples/Tablets.xlsx\", sheet_name=\"Hardness\").set_index(\"Sample\")\n",
    "print(f\"The 'outputs' data frame has shape = {output.shape}\")"
   ]
  },
  {
   "cell_type": "code",
   "execution_count": null,
   "id": "14",
   "metadata": {},
   "outputs": [],
   "source": [
    "output.head()"
   ]
  },
  {
   "cell_type": "code",
   "execution_count": null,
   "id": "15",
   "metadata": {},
   "outputs": [],
   "source": [
    "# Explore the outputs\n",
    "display(output['Hardness'].plot.line())\n",
    "display(output['Hardness'].plot.hist(nbins=30))\n",
    "display(output['Hardness'].plot.box())"
   ]
  },
  {
   "cell_type": "code",
   "execution_count": null,
   "id": "16",
   "metadata": {},
   "outputs": [],
   "source": [
    "# Summary statistics for each column\n",
    "display(output.mean())\n",
    "display(output.median())\n",
    "display(output.std())\n",
    "display(output.min())"
   ]
  },
  {
   "cell_type": "code",
   "execution_count": null,
   "id": "17",
   "metadata": {},
   "outputs": [],
   "source": [
    "# Get a complete summary\n",
    "output.describe()"
   ]
  },
  {
   "cell_type": "code",
   "execution_count": null,
   "id": "18",
   "metadata": {},
   "outputs": [],
   "source": [
    "print(spectra.index)"
   ]
  },
  {
   "cell_type": "code",
   "execution_count": null,
   "id": "19",
   "metadata": {},
   "outputs": [],
   "source": [
    "print(spectra.columns)"
   ]
  },
  {
   "cell_type": "code",
   "execution_count": null,
   "id": "20",
   "metadata": {},
   "outputs": [],
   "source": [
    "print(output.index)"
   ]
  },
  {
   "cell_type": "code",
   "execution_count": null,
   "id": "21",
   "metadata": {},
   "outputs": [],
   "source": [
    "# Join the two data sets\n",
    "joined = spectra.join(output, on=\"Sample\")\n",
    "print(f\"The joined data set has shape of {joined.shape} and these columns: {joined.columns}\")"
   ]
  },
  {
   "cell_type": "code",
   "execution_count": null,
   "id": "22",
   "metadata": {},
   "outputs": [],
   "source": [
    "# Plot the output, sorted:\n",
    "joined[\"Hardness\"].sort_values()\n",
    "joined[\"Hardness\"].sort_values().plot()"
   ]
  },
  {
   "cell_type": "code",
   "execution_count": null,
   "id": "23",
   "metadata": {},
   "outputs": [],
   "source": [
    "joined[\"Category\"].sample(15)"
   ]
  },
  {
   "cell_type": "code",
   "execution_count": null,
   "id": "24",
   "metadata": {},
   "outputs": [],
   "source": [
    "# See the 4 groups, based on 'Category', for the output variable\n",
    "joined.groupby([\"Category\"])[\"Hardness\"].mean()"
   ]
  },
  {
   "cell_type": "code",
   "execution_count": null,
   "id": "25",
   "metadata": {},
   "outputs": [],
   "source": [
    "# Now, repeat, but for the spectra\n",
    "joined.groupby([\"Category\"]).mean()"
   ]
  },
  {
   "cell_type": "code",
   "execution_count": null,
   "id": "26",
   "metadata": {},
   "outputs": [],
   "source": [
    "spectra.groupby([\"Category\"]).mean().T.plot()"
   ]
  },
  {
   "cell_type": "code",
   "execution_count": null,
   "id": "27",
   "metadata": {},
   "outputs": [],
   "source": [
    "# Select a column for a particular wavelength\n",
    "wavelength  = '1884nm'\n",
    "fig=joined.loc[:, wavelength].plot(title=f\"Plot of absorbances for all tablets at wavelength {wavelength}\")\n",
    "fig.update_layout(xaxis_title_text=\"Sample number\")\n",
    "fig.update_layout(yaxis_title_text=f\"Absorbance at {wavelength}\")"
   ]
  },
  {
   "cell_type": "markdown",
   "id": "28",
   "metadata": {},
   "source": [
    "## Choose a column and predict another column, based on a least-squares model"
   ]
  },
  {
   "cell_type": "code",
   "execution_count": null,
   "id": "29",
   "metadata": {},
   "outputs": [],
   "source": [
    "# Correlation plot at a particular wavelength against Hardness\n",
    "# Choose a column as x, to predict another column as y, based on a least-squares model\n",
    "\n",
    "wavelength = \"1574nm\"\n",
    "fig=joined.plot.scatter(x=wavelength, y='Hardness', title=\"Scatter plot\")\n",
    "fig.update_layout(xaxis_title_text=f\"Absorbance at {wavelength}\")\n",
    "fig.update_layout(yaxis_title_text=\"Hardness\")\n",
    "# fig.update_layout(width=500)"
   ]
  },
  {
   "cell_type": "code",
   "execution_count": null,
   "id": "30",
   "metadata": {},
   "outputs": [],
   "source": [
    "all_correlations = joined.corr()['Hardness']\n",
    "all_correlations"
   ]
  },
  {
   "cell_type": "code",
   "execution_count": null,
   "id": "31",
   "metadata": {},
   "outputs": [],
   "source": [
    "all_correlations.plot()"
   ]
  },
  {
   "cell_type": "code",
   "execution_count": null,
   "id": "32",
   "metadata": {},
   "outputs": [],
   "source": [
    "best_wavelength = \"1664nm\"\n",
    "joined.loc[:, [best_wavelength, \"Hardness\"]]"
   ]
  },
  {
   "cell_type": "markdown",
   "id": "33",
   "metadata": {},
   "source": [
    "## Build the linear regression model \n",
    "\n",
    "We will build a model with the structure $y = ax + b$, where $a$ is the slope and $b$ is the intercept."
   ]
  },
  {
   "cell_type": "code",
   "execution_count": null,
   "id": "34",
   "metadata": {},
   "outputs": [],
   "source": [
    "from sklearn.linear_model import LinearRegression\n",
    "from sklearn.metrics import mean_squared_error, r2_score\n",
    "\n",
    "mymodel = LinearRegression()"
   ]
  },
  {
   "cell_type": "code",
   "execution_count": null,
   "id": "35",
   "metadata": {},
   "outputs": [],
   "source": [
    "X = joined.loc[:, [best_wavelength]]\n",
    "mymodel.fit(X, y=joined[\"Hardness\"]);"
   ]
  },
  {
   "cell_type": "code",
   "execution_count": null,
   "id": "36",
   "metadata": {},
   "outputs": [],
   "source": [
    "# The coefficients\n",
    "print(f'Intercept = {mymodel.intercept_:.5g} and slope = {mymodel.coef_[0]:.5g}')\n",
    "\n",
    "# The mean squared error:\n",
    "actual_y_values = joined[\"Hardness\"]\n",
    "predicted_y_values = mymodel.predict(X)\n",
    "prediction_error = actual_y_values - predicted_y_values    \n",
    "fig = prediction_error.hist(nbins=30, title=\"Histogram of the residuals\")\n",
    "fig.update_layout(width=800)"
   ]
  },
  {
   "cell_type": "code",
   "execution_count": null,
   "id": "37",
   "metadata": {},
   "outputs": [],
   "source": [
    "# Predicted hardness value y =         slope * x                       + intercept\n",
    "joined[\"Predicted hardness\"] = mymodel.coef_ * joined[best_wavelength] + mymodel.intercept_"
   ]
  },
  {
   "cell_type": "code",
   "execution_count": null,
   "id": "38",
   "metadata": {},
   "outputs": [],
   "source": [
    "# Plot the regression model, and fit\n",
    "three_columns = joined[[best_wavelength, 'Hardness', \"Predicted hardness\"]]\n",
    "fig = three_columns.plot.scatter(x=best_wavelength, y='Hardness')\n",
    "fig.update_layout(xaxis_title_text=f\"Absorbance at {best_wavelength}\")\n",
    "fig.update_layout(yaxis_title_text=\"Hardness\")\n",
    "fig.add_scatter(x=three_columns[best_wavelength], y=three_columns['Predicted hardness'], name=\"Prediction\")\n",
    "fig.update_layout(width=600, height=600)"
   ]
  },
  {
   "cell_type": "markdown",
   "id": "39",
   "metadata": {},
   "source": [
    "## Quantify how good the predictions are"
   ]
  },
  {
   "cell_type": "code",
   "execution_count": null,
   "id": "40",
   "metadata": {},
   "outputs": [],
   "source": [
    "print(f'Mean squared error: {mean_squared_error(actual_y_values, predicted_y_values, squared=False):.4g}')\n",
    "      \n",
    "# The coefficient of determination: (R^2)\n",
    "print(f'Coefficient of determination = R^2 = {r2_score(actual_y_values, predicted_y_values):.3f}')"
   ]
  },
  {
   "cell_type": "markdown",
   "id": "41",
   "metadata": {},
   "source": [
    "## User-interface to test our predictions\n",
    "\n",
    "Build an interactive tool to find an ideal wavelength to make the predictions from."
   ]
  },
  {
   "cell_type": "code",
   "execution_count": null,
   "id": "42",
   "metadata": {},
   "outputs": [],
   "source": [
    "x_range = [2.5, 6.2]\n",
    "actual_y_values = joined[\"Hardness\"]\n",
    "def curve_plot():\n",
    "    plot_items = []\n",
    "    plot_items.append(go.Scatter(x=joined[wavelength],\n",
    "                                 y=actual_y_values,\n",
    "                                 mode='markers', \n",
    "                                 name='Absorbance',\n",
    "                                 line = dict(width=1, dash='dot'),\n",
    "                                )\n",
    "                     )\n",
    "    plot_items.append(go.Scatter(x=x_range,\n",
    "                                 y=[np.nan, np.nan],\n",
    "                                 mode='lines', \n",
    "                                 line = dict(color='darkgreen', width=3),\n",
    "                                 hoverinfo='none',\n",
    "                                 showlegend=True,\n",
    "                                 name=\"Prediction\"\n",
    "                                )\n",
    "                     )\n",
    "    return plot_items\n",
    "\n",
    "\n",
    "out = widgets.Output()\n",
    "curves_layout=dict(width=800,\n",
    "                   height=500,\n",
    "                   title_text=\"Training data (dots), with prediction line\",\n",
    "                   hovermode=\"closest\",                    \n",
    "                   autosize=True,\n",
    "                   margin= dict(l=10, r=10, b=5, t=80),  # Defaults: l=80, r=80, t=100, b=80\n",
    "                   spikedistance=0,  \n",
    "                   xaxis=dict(\n",
    "                       title=dict(\n",
    "                           #text=f\"Absorbance at {wavelength}\",\n",
    "                           font=dict(size=16),\n",
    "                       ),\n",
    "                       mirror=True,  # ticks are mirror at the top of the frame also\n",
    "                       autorange=False,\n",
    "                       range=x_range,\n",
    "                       showspikes=True,\n",
    "                       visible=True,\n",
    "                   ),\n",
    "                   yaxis=dict(\n",
    "                       title=dict(\n",
    "                           text=\"Hardness\",\n",
    "                           font=dict(size=16),\n",
    "                       ),\n",
    "                       type=\"linear\",\n",
    "                       autorange=False,\n",
    "                       range=[150, 240],\n",
    "                       showspikes=True,  # exponentformat=\"E\"\n",
    "                       visible=True,\n",
    "                   ),\n",
    "                  )\n",
    "\n",
    "g = go.FigureWidget(curve_plot(), layout=curves_layout)\n",
    "scatter_points = g.data[0]\n",
    "prediction_line = g.data[1] # this is the last element drawn in the plot\n",
    "\n",
    "box_layout = widgets.Layout(display='inline-flex', flex_flow='row', align_items='stretch', width='100%')\n",
    "box_auto = widgets.Box(children=[ g], layout=box_layout)\n",
    "display(widgets.VBox([box_auto, ]) );\n",
    "    \n",
    "wavelength_selected = widgets.FloatSlider(min=600, \n",
    "                                          max=1898, \n",
    "                                          step=2, \n",
    "                                          value=600, \n",
    "                                          readout_format=\"d\",\n",
    "                                          continuous_update=True,\n",
    "                                          description='Wavelength')\n",
    "display(wavelength_selected)\n",
    "\n",
    "def update_plot(change):    \n",
    "    wavelength = f\"{int(change.new)}nm\"   \n",
    "    lsmodel = LinearRegression()\n",
    "    X = joined.loc[:, [wavelength]]\n",
    "    lsmodel.fit(X, y=actual_y_values);\n",
    "    predicted_y_values = lsmodel.predict(X)    \n",
    "    prediction_error = actual_y_values - predicted_y_values   \n",
    "    text_handles[0].value = f'{lsmodel.intercept_:.3g}'\n",
    "    text_handles[1].value = f'{lsmodel.coef_[0]:.3g}'\n",
    "    text_handles[2].value = f'{mean_squared_error(actual_y_values, predicted_y_values, squared=False):.4g}'\n",
    "    text_handles[3].value = f'{r2_score(actual_y_values, predicted_y_values):.3f}'\n",
    "    with g.batch_update():\n",
    "        new_x = np.array([X.min().values[0], X.max().values[0]]).reshape(-1, 1)\n",
    "        scatter_points['x'] = joined[wavelength].values.ravel()\n",
    "        prediction_line['x'] = new_x.ravel()    \n",
    "        prediction_line['y'] = lsmodel.predict(new_x)\n",
    "\n",
    "stats = ipysheet.sheet(rows=1, columns=4, \n",
    "                       column_headers=[\"Intercept\", \"Slope\", \"Mean square error (SE)\", \"R2\"], \n",
    "                       column_width=[40, 40, 40, 40], row_headers=False)\n",
    "text_handles = [widgets.Text(value=\"\") for i in range(4)]\n",
    "stats_row0 = ipysheet.row(0, text_handles)\n",
    "display(stats)\n",
    "\n",
    "widgets.VBox([out, stats]); \n",
    "wavelength_selected.observe(update_plot, names='value')"
   ]
  },
  {
   "cell_type": "markdown",
   "id": "43",
   "metadata": {},
   "source": [
    "## Try a different prediction model\n",
    "\n",
    "Use multiple columns to predict the tablet hardness."
   ]
  },
  {
   "cell_type": "code",
   "execution_count": null,
   "id": "44",
   "metadata": {},
   "outputs": [],
   "source": [
    "## Calculation: use the average of some columns around the best column\n",
    "spectra.loc[:, \"1654nm\":\"1674nm\"]    "
   ]
  },
  {
   "cell_type": "code",
   "execution_count": null,
   "id": "45",
   "metadata": {},
   "outputs": [],
   "source": [
    "avg_model = LinearRegression()\n",
    "X = spectra.loc[:, \"1654nm\":\"1674nm\"] #.mean(axis=1).values\n",
    "avg_model.fit(X, y=joined[\"Hardness\"]);"
   ]
  },
  {
   "cell_type": "code",
   "execution_count": null,
   "id": "46",
   "metadata": {},
   "outputs": [],
   "source": [
    "# The coefficients\n",
    "print(f'Intercept = {avg_model.intercept_} and slope = {avg_model.coef_}')\n",
    "\n",
    "# The mean squared error:\n",
    "predicted_y_values_avgmodel = avg_model.predict(X)\n",
    "prediction_error_avgmodel = actual_y_values - predicted_y_values_avgmodel    \n",
    "prediction_error_avgmodel.hist(nbins=40, title=\"Residuals from the multiple linear regression model\")"
   ]
  },
  {
   "cell_type": "markdown",
   "id": "47",
   "metadata": {},
   "source": [
    "## Compare the two models"
   ]
  },
  {
   "cell_type": "code",
   "execution_count": null,
   "id": "48",
   "metadata": {},
   "outputs": [],
   "source": [
    "print(f'Mean squared error (single): {mean_squared_error(actual_y_values, predicted_y_values, squared=False):.4g}')\n",
    "print(f'Mean squared error (multiple): {mean_squared_error(actual_y_values, predicted_y_values_avgmodel, squared=False):.4g}')\n",
    "\n",
    "# The coefficient of determination: (R^2)\n",
    "print(f'Coefficient of determination (single) = R^2 = {r2_score(actual_y_values, predicted_y_values):.3f}')\n",
    "print(f'Coefficient of determination (multiple) = R^2 = {r2_score(actual_y_values, predicted_y_values_avgmodel):.3f}')"
   ]
  },
  {
   "cell_type": "code",
   "execution_count": null,
   "id": "49",
   "metadata": {},
   "outputs": [],
   "source": [
    "# Bar plot of the slope coefficients\n",
    "pd.Series(avg_model.coef_).plot.bar()# * X"
   ]
  },
  {
   "cell_type": "markdown",
   "id": "50",
   "metadata": {},
   "source": [
    "## Export the results\n",
    "\n",
    "The individual images are exportable to PNG.\n",
    "\n",
    "The entire document can also be exported and saved."
   ]
  },
  {
   "cell_type": "markdown",
   "id": "51",
   "metadata": {},
   "source": [
    "## Try some Python commands yourself"
   ]
  },
  {
   "cell_type": "code",
   "execution_count": null,
   "id": "52",
   "metadata": {},
   "outputs": [],
   "source": [
    "print('Hi, my name is ____.')"
   ]
  },
  {
   "cell_type": "code",
   "execution_count": null,
   "id": "53",
   "metadata": {},
   "outputs": [],
   "source": [
    "# Creating variables:\n",
    "\n",
    "temperature_in_F = 212.0\n",
    "temperature_in_C = ...\n"
   ]
  },
  {
   "cell_type": "code",
   "execution_count": null,
   "id": "54",
   "metadata": {},
   "outputs": [],
   "source": []
  },
  {
   "cell_type": "code",
   "execution_count": null,
   "id": "55",
   "metadata": {},
   "outputs": [],
   "source": []
  },
  {
   "cell_type": "markdown",
   "id": "56",
   "metadata": {},
   "source": [
    "## Next steps in learning Python\n",
    "\n",
    "General discussion."
   ]
  }
 ],
 "metadata": {
  "hide_input": false,
  "kernelspec": {
   "display_name": "Python 3",
   "language": "python",
   "name": "python3"
  },
  "language_info": {
   "codemirror_mode": {
    "name": "ipython",
    "version": 3
   },
   "file_extension": ".py",
   "mimetype": "text/x-python",
   "name": "python",
   "nbconvert_exporter": "python",
   "pygments_lexer": "ipython3",
   "version": "3.8.5"
  },
  "toc": {
   "base_numbering": 1,
   "nav_menu": {},
   "number_sections": true,
   "sideBar": true,
   "skip_h1_title": true,
   "title_cell": "Table of Contents",
   "title_sidebar": "Contents",
   "toc_cell": true,
   "toc_position": {
    "height": "calc(100% - 180px)",
    "left": "10px",
    "top": "150px",
    "width": "179.078px"
   },
   "toc_section_display": true,
   "toc_window_display": true
  },
  "varInspector": {
   "cols": {
    "lenName": 16,
    "lenType": 16,
    "lenVar": 40
   },
   "kernels_config": {
    "python": {
     "delete_cmd_postfix": "",
     "delete_cmd_prefix": "del ",
     "library": "var_list.py",
     "varRefreshCmd": "print(var_dic_list())"
    },
    "r": {
     "delete_cmd_postfix": ") ",
     "delete_cmd_prefix": "rm(",
     "library": "var_list.r",
     "varRefreshCmd": "cat(var_dic_list()) "
    }
   },
   "types_to_exclude": [
    "module",
    "function",
    "builtin_function_or_method",
    "instance",
    "_Feature"
   ],
   "window_display": false
  }
 },
 "nbformat": 4,
 "nbformat_minor": 5
}

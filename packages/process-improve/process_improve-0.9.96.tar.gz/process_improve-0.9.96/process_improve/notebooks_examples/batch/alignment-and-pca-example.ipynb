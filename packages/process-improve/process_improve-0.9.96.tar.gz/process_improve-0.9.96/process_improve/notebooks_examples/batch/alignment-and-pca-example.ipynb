{
 "cells": [
  {
   "cell_type": "markdown",
   "id": "0",
   "metadata": {
    "toc": true
   },
   "source": [
    "<h1>Table of Contents<span class=\"tocSkip\"></span></h1>\n",
    "<div class=\"toc\"><ul class=\"toc-item\"></ul></div>"
   ]
  },
  {
   "cell_type": "code",
   "execution_count": null,
   "id": "1",
   "metadata": {},
   "outputs": [],
   "source": [
    "import sys\n",
    "import pathlib\n",
    "from os import chdir\n",
    "while not str(pathlib.Path.cwd().name).lower().startswith('process-improve'):\n",
    "    chdir(pathlib.Path.cwd().parents[0])\n",
    "basecwd =pathlib.Path.cwd()\n",
    "sys.path.insert(0, str(basecwd))\n",
    "assert basecwd.exists()\n",
    "%load_ext autoreload"
   ]
  },
  {
   "cell_type": "code",
   "execution_count": null,
   "id": "2",
   "metadata": {},
   "outputs": [],
   "source": [
    "# Do once to get all libraries up to date\n",
    "if False:\n",
    "    !pip install -U pandas process_improve plotly IPython\n",
    "\n",
    "%autoreload 2\n",
    "import pathlib\n",
    "import pandas as pd\n",
    "pd.options.plotting.backend = \"plotly\"\n",
    "\n",
    "from process_improve.batch.preprocessing import find_reference_batch, batch_dtw\n",
    "from process_improve.batch.data_input import melted_to_dict, dict_to_wide\n",
    "from process_improve.batch.plotting import plot_all_batches_per_tag, plot_multitags\n",
    "from process_improve.multivariate.methods import PCA, MCUVScaler\n",
    "from process_improve.multivariate.plots import spe_plot, t2_plot, score_plot\n",
    "import process_improve.datasets.batch as batch_ds \n",
    "\n",
    "from plotly.offline import iplot, init_notebook_mode\n",
    "import plotly.io as pio\n",
    "pio.renderers.default = \"iframe\"\n",
    "from plotly.offline import iplot, init_notebook_mode\n",
    "init_notebook_mode(connected=True)  "
   ]
  },
  {
   "cell_type": "markdown",
   "id": "3",
   "metadata": {},
   "source": [
    "# Settings\n"
   ]
  },
  {
   "cell_type": "code",
   "execution_count": null,
   "id": "4",
   "metadata": {},
   "outputs": [],
   "source": [
    "# Number of PCA components to fit\n",
    "A = 4\n",
    "\n",
    "# Ideally, use more than 1 tag to align on. These columns must exist in all data frames for all batches. There should be NO missing data in any columns.\n",
    "columns_to_align = [\"AgitatorPower\", \"AgitatorTorque\", \"JacketTemperature\", \"DryerTemp\"]\n",
    "tag_to_plot = columns_to_align[3] \n",
    "\n",
    "print(f\"This notebook will show the plots for '{tag_to_plot}'. You can of course select any other tag.\")"
   ]
  },
  {
   "cell_type": "markdown",
   "id": "5",
   "metadata": {},
   "source": [
    "# Data import and visualization"
   ]
  },
  {
   "cell_type": "code",
   "execution_count": null,
   "id": "6",
   "metadata": {},
   "outputs": [],
   "source": [
    "# Import the data: a dictionary of dataframes\n",
    "dryer_raw = pd.read_csv(pathlib.Path(batch_ds.__path__._recalculate()[0]) / \"dryer.csv\")\n",
    "dryer_df_dict = melted_to_dict(dryer_raw, batch_id_col=\"batch_id\")\n",
    "print(f\"The batches nummbers are: {dryer_df_dict.keys()}\")\n",
    "full_tag_list = dryer_raw.columns.to_list()\n",
    "full_tag_list.remove('batch_id')\n",
    "print(f\"The tags in the data set are\\n {full_tag_list}.\")"
   ]
  },
  {
   "cell_type": "code",
   "execution_count": null,
   "id": "7",
   "metadata": {},
   "outputs": [],
   "source": [
    "# Plot some data, to get an idea of what is present\n",
    "iplot(plot_all_batches_per_tag(df_dict=dryer_df_dict, \n",
    "                                tag=tag_to_plot,  \n",
    "                                time_column =\"ClockTime\", \n",
    "                                x_axis_label=\"Time [hours]\"\n",
    "                            ))\n",
    "                                \n",
    "print(\"Note how the batches all have different durations. They are 'unaligned'.\")"
   ]
  },
  {
   "cell_type": "markdown",
   "id": "8",
   "metadata": {},
   "source": [
    "# Batch data alignment"
   ]
  },
  {
   "cell_type": "code",
   "execution_count": null,
   "id": "9",
   "metadata": {},
   "outputs": [],
   "source": [
    "# What is a good batch number to align on?\n",
    "good_reference_candidate = find_reference_batch(dryer_df_dict, \n",
    "                                                columns_to_align=columns_to_align, \n",
    "                                                settings={\"robust\": False})\n",
    "print(f\"Batch number {good_reference_candidate} was found to be the most 'average' batch to use a reference batch\")"
   ]
  },
  {
   "cell_type": "code",
   "execution_count": null,
   "id": "10",
   "metadata": {},
   "outputs": [],
   "source": [
    "# Align the data based on the reference candidate, using the specified tags/columns.\n",
    "print(\"About to align the data. This can take up to a few minutes on a slow computer and a large number of batches ...\")\n",
    "aligned_out = batch_dtw(dryer_df_dict, columns_to_align=columns_to_align,\n",
    "        reference_batch=good_reference_candidate,\n",
    "        settings={\n",
    "            \"robust\": False,\n",
    "            \n",
    "            # High tolerance of around 1.0 will run alignment only once; \n",
    "            # Typically set to 0.1, so that at least 2 or 3 iterations of alignment take place\n",
    "            \"tolerance\": 0.05, \n",
    "             \n",
    "            \"show_progress\": True, # show progress: shows total \"distance\" of batch relative to the reference\n",
    "        },  \n",
    "    )\n",
    "print('Done.')"
   ]
  },
  {
   "cell_type": "code",
   "execution_count": null,
   "id": "11",
   "metadata": {},
   "outputs": [],
   "source": [
    "print('Weight history. The higher the weight, the greater the importance of that tag in the ')\n",
    "print('alignment process; tags with a very small number have little influence in alignment.')\n",
    "pd.DataFrame(aligned_out['weight_history'], columns=columns_to_align)"
   ]
  },
  {
   "cell_type": "code",
   "execution_count": null,
   "id": "12",
   "metadata": {},
   "outputs": [],
   "source": [
    "print(f\"Plot the aligned (synced) data for tag: {tag_to_plot}\")\n",
    "iplot(plot_all_batches_per_tag(aligned_out['aligned_batch_dfdict'], tag_to_plot, x_axis_label='Normalized duration', html_aspect_ratio_w_over_h=2))"
   ]
  },
  {
   "cell_type": "code",
   "execution_count": null,
   "id": "13",
   "metadata": {},
   "outputs": [],
   "source": [
    "print(\"Let's visualize all the aligned batch data in all tags simultaneously. You can zoom in one tag and all others will follow.\")\n",
    "plot_multitags(\n",
    "    aligned_out['aligned_batch_dfdict'], \n",
    "    tag_list=full_tag_list,\n",
    "    settings = dict(nrows = 3)\n",
    "    )"
   ]
  },
  {
   "cell_type": "code",
   "execution_count": null,
   "id": "14",
   "metadata": {},
   "outputs": [],
   "source": [
    "print(\"You can also colour-code specific batches with your choice of line widths and colours.\")\n",
    "group_worst = [12,17,66,29,10] \n",
    "group_best =  [47,54,51,53,55,60] \n",
    "grouper= {'{\"width\": 4, \"color\": \"rgba(255,0,  0, 0.6)\"}' : group_worst, \n",
    "          '{\"width\": 4, \"color\": \"rgba(0,  0,255, 0.6)\"}' : group_best,\n",
    "          '{\"width\": 4, \"color\": \"rgba(0,  0,  0, 1.0)\"}' : [good_reference_candidate],\n",
    "         }\n",
    "plot_multitags(aligned_out['aligned_batch_dfdict'], \n",
    "                tag_list=full_tag_list,       \n",
    "                batches_to_highlight=grouper,\n",
    "                settings = dict(nrows = 3)\n",
    ")"
   ]
  },
  {
   "cell_type": "markdown",
   "id": "15",
   "metadata": {},
   "source": [
    "# Principal component analysis on the aligned batch data\n",
    "\n",
    "Unfold the data into a fat matrix with one row per batch and many columns. Columns are grouped per tag: so all the data for the first tag, then the next tag, etc."
   ]
  },
  {
   "cell_type": "code",
   "execution_count": null,
   "id": "16",
   "metadata": {},
   "outputs": [],
   "source": [
    "wide_matrix = dict_to_wide(aligned_out['aligned_batch_dfdict'])\n",
    "print(f\"The unfolded matrix has {wide_matrix.shape[0]} rows and {wide_matrix.shape[1]} columns\")"
   ]
  },
  {
   "cell_type": "code",
   "execution_count": null,
   "id": "17",
   "metadata": {},
   "outputs": [],
   "source": [
    "#  Preprocess the data: center and scale\n",
    "scaler = MCUVScaler().fit(wide_matrix)\n",
    "wide_matrix_mcuv = scaler.fit_transform(wide_matrix)\n",
    "\n",
    "# Fit an initial PCA model, with \"A\" principal components. \n",
    "pca = PCA(n_components=A).fit(wide_matrix_mcuv)\n",
    "print(f'The cumulative R2, per component, is:\\n{pca.R2cum}')\n",
    "\n",
    "\n",
    "# Plot the SPE metric and Hotelling's T2 plot\n",
    "spe_plot(pca, with_a=4)\n"
   ]
  },
  {
   "cell_type": "code",
   "execution_count": null,
   "id": "18",
   "metadata": {},
   "outputs": [],
   "source": [
    "# Plot the Hotelling's T2 plot\n",
    "t2_plot(pca, with_a=4)"
   ]
  },
  {
   "cell_type": "code",
   "execution_count": null,
   "id": "19",
   "metadata": {},
   "outputs": [],
   "source": [
    "score_plot(pca, 1, 2)"
   ]
  },
  {
   "cell_type": "code",
   "execution_count": null,
   "id": "20",
   "metadata": {},
   "outputs": [],
   "source": []
  }
 ],
 "metadata": {
  "hide_input": false,
  "interpreter": {
   "hash": "e2744848692682d6694db7567e9409cd76839150aff3a65538970dbd88981270"
  },
  "kernelspec": {
   "display_name": "Python 3 (ipykernel)",
   "language": "python",
   "name": "python3"
  },
  "language_info": {
   "codemirror_mode": {
    "name": "ipython",
    "version": 3
   },
   "file_extension": ".py",
   "mimetype": "text/x-python",
   "name": "python",
   "nbconvert_exporter": "python",
   "pygments_lexer": "ipython3",
   "version": "3.9.6"
  },
  "toc": {
   "base_numbering": 1,
   "nav_menu": {},
   "number_sections": true,
   "sideBar": true,
   "skip_h1_title": true,
   "title_cell": "Table of Contents",
   "title_sidebar": "Contents",
   "toc_cell": true,
   "toc_position": {},
   "toc_section_display": true,
   "toc_window_display": false
  },
  "varInspector": {
   "cols": {
    "lenName": 16,
    "lenType": 16,
    "lenVar": 40
   },
   "kernels_config": {
    "python": {
     "delete_cmd_postfix": "",
     "delete_cmd_prefix": "del ",
     "library": "var_list.py",
     "varRefreshCmd": "print(var_dic_list())"
    },
    "r": {
     "delete_cmd_postfix": ") ",
     "delete_cmd_prefix": "rm(",
     "library": "var_list.r",
     "varRefreshCmd": "cat(var_dic_list()) "
    }
   },
   "types_to_exclude": [
    "module",
    "function",
    "builtin_function_or_method",
    "instance",
    "_Feature"
   ],
   "window_display": false
  }
 },
 "nbformat": 4,
 "nbformat_minor": 5
}

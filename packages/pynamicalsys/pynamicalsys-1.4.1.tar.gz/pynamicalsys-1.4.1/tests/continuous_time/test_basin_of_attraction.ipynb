{
 "cells": [
  {
   "cell_type": "code",
   "execution_count": 191,
   "id": "01baa053",
   "metadata": {},
   "outputs": [],
   "source": [
    "import numpy as np\n",
    "import matplotlib.pyplot as plt\n",
    "from pynamicalsys import ContinuousDynamicalSystem as cds, PlotStyler"
   ]
  },
  {
   "cell_type": "code",
   "execution_count": 192,
   "id": "a7abd0ee",
   "metadata": {},
   "outputs": [],
   "source": [
    "ds = cds(model=\"duffing\")"
   ]
  },
  {
   "cell_type": "code",
   "execution_count": 193,
   "id": "31b7f209",
   "metadata": {},
   "outputs": [
    {
     "data": {
      "text/latex": [
       "$\\displaystyle \\ddot{x} + \\delta \\dot{x} - \\alpha x + \\beta x^3 = \\gamma \\cos(\\omega t)$"
      ],
      "text/plain": [
       "<IPython.core.display.Math object>"
      ]
     },
     "execution_count": 193,
     "metadata": {},
     "output_type": "execute_result"
    }
   ],
   "source": [
    "ds.info[\"equation\"]"
   ]
  },
  {
   "cell_type": "code",
   "execution_count": 194,
   "id": "43057e37",
   "metadata": {},
   "outputs": [
    {
     "data": {
      "text/plain": [
       "['delta', 'alpha', 'beta', 'gamma', 'omega']"
      ]
     },
     "execution_count": 194,
     "metadata": {},
     "output_type": "execute_result"
    }
   ],
   "source": [
    "ds.info[\"parameters\"]"
   ]
  },
  {
   "cell_type": "code",
   "execution_count": 195,
   "id": "e9d25437",
   "metadata": {},
   "outputs": [],
   "source": [
    "delta = 0.2\n",
    "alpha = 1\n",
    "beta = 1\n",
    "gamma = 3\n",
    "omega = 1.1\n",
    "parameters = [delta, alpha, beta, gamma, omega]"
   ]
  },
  {
   "cell_type": "code",
   "execution_count": 196,
   "id": "5751e0b7",
   "metadata": {},
   "outputs": [],
   "source": [
    "T = 2 * np.pi / omega\n",
    "t_over_T = 40\n",
    "sample_time = t_over_T * T\n",
    "transient_time = 100 * T\n",
    "total_time = sample_time + transient_time\n",
    "num_samples = 1000"
   ]
  },
  {
   "cell_type": "code",
   "execution_count": 197,
   "id": "792d4dbd",
   "metadata": {},
   "outputs": [],
   "source": [
    "num_ic = 100\n",
    "x_range = (-5, 5)\n",
    "v_range = (-5, 5)\n",
    "np.random.seed(13)\n",
    "x = np.random.uniform(*x_range, num_ic)\n",
    "v = np.random.uniform(*v_range, num_ic)\n",
    "u0 = np.zeros((num_ic, 2))\n",
    "u0[:, 0] = x\n",
    "u0[:, 1] = v"
   ]
  },
  {
   "cell_type": "code",
   "execution_count": 198,
   "id": "ef786d09",
   "metadata": {},
   "outputs": [],
   "source": [
    "labels = ds.basin_of_attraction(u0, num_samples, parameters=parameters, transient_time=transient_time, sampling_time=T)"
   ]
  },
  {
   "cell_type": "code",
   "execution_count": 199,
   "id": "755abca9",
   "metadata": {},
   "outputs": [],
   "source": [
    "trajectories = ds.trajectory(u0, total_time, parameters=parameters, transient_time=transient_time)"
   ]
  },
  {
   "cell_type": "code",
   "execution_count": 200,
   "id": "2c004e49",
   "metadata": {},
   "outputs": [
    {
     "data": {
      "text/plain": [
       "<Figure size 640x480 with 0 Axes>"
      ]
     },
     "metadata": {},
     "output_type": "display_data"
    },
    {
     "data": {
      "image/png": "[encoded data removed]",
      "text/plain": [
       "<Figure size 1000x400 with 3 Axes>"
      ]
     },
     "metadata": {},
     "output_type": "display_data"
    }
   ],
   "source": [
    "num_attractors = len(set(labels))\n",
    "colors = \"krbg\"\n",
    "\n",
    "ps = PlotStyler(fontsize=18, linewidth=0.7)\n",
    "ps.apply_style()\n",
    "\n",
    "fig, ax = plt.subplots(1, num_attractors, sharex=True, sharey=True, figsize=(10, 4))\n",
    "\n",
    "for i in range(num_ic):\n",
    "    ax[labels[i]].plot(trajectories[i][:, 1], trajectories[i][:, 2], c=colors[labels[i]])"
   ]
  },
  {
   "cell_type": "code",
   "execution_count": 201,
   "id": "b6c82cd3",
   "metadata": {},
   "outputs": [],
   "source": [
    "grid_size = 100\n",
    "x_range = (-5, 5)\n",
    "v_range = (-5, 5)\n",
    "x = np.linspace(*x_range, grid_size)\n",
    "v = np.linspace(*v_range, grid_size)\n",
    "x, v = np.meshgrid(x, v, indexing=\"ij\")\n",
    "u0 = np.zeros((grid_size, grid_size, 2))\n",
    "u0[:, :, 0] = x\n",
    "u0[:, :, 1] = v\n",
    "u0 = u0.reshape(grid_size ** 2, 2)"
   ]
  },
  {
   "cell_type": "code",
   "execution_count": 202,
   "id": "6ff40fa6",
   "metadata": {},
   "outputs": [
    {
     "data": {
      "text/plain": [
       "(10000, 2)"
      ]
     },
     "execution_count": 202,
     "metadata": {},
     "output_type": "execute_result"
    }
   ],
   "source": [
    "u0.shape"
   ]
  },
  {
   "cell_type": "code",
   "execution_count": 203,
   "id": "826069bf",
   "metadata": {},
   "outputs": [],
   "source": [
    "labels = ds.basin_of_attraction(u0, num_samples, parameters=parameters, transient_time=transient_time, sampling_time=T, min_samples=1)"
   ]
  },
  {
   "cell_type": "code",
   "execution_count": 204,
   "id": "43cb9baa",
   "metadata": {},
   "outputs": [],
   "source": [
    "labels_grid = labels.reshape(grid_size, grid_size)"
   ]
  },
  {
   "cell_type": "code",
   "execution_count": 205,
   "id": "61801495",
   "metadata": {},
   "outputs": [
    {
     "data": {
      "text/plain": [
       "{np.int64(0), np.int64(1), np.int64(2)}"
      ]
     },
     "execution_count": 205,
     "metadata": {},
     "output_type": "execute_result"
    }
   ],
   "source": [
    "set(labels)"
   ]
  },
  {
   "cell_type": "code",
   "execution_count": 209,
   "id": "997bbcdf",
   "metadata": {},
   "outputs": [
    {
     "data": {
      "text/plain": [
       "Text(0, 0.5, '$\\\\dot{x}$')"
      ]
     },
     "execution_count": 209,
     "metadata": {},
     "output_type": "execute_result"
    },
    {
     "data": {
      "image/png": "[encoded data removed]",
      "text/plain": [
       "<Figure size 640x480 with 1 Axes>"
      ]
     },
     "metadata": {},
     "output_type": "display_data"
    }
   ],
   "source": [
    "ps = PlotStyler(fontsize=18)\n",
    "ps.apply_style()\n",
    "\n",
    "plt.pcolormesh(x, v, labels_grid, cmap=\"nipy_spectral\", vmin=labels.min(), vmax=labels.max())\n",
    "plt.xlabel(\"$x$\")\n",
    "plt.ylabel(r\"$\\dot{x}$\")"
   ]
  }
 ],
 "metadata": {
  "kernelspec": {
   "display_name": "pynamicalsys-dev",
   "language": "python",
   "name": "python3"
  },
  "language_info": {
   "codemirror_mode": {
    "name": "ipython",
    "version": 3
   },
   "file_extension": ".py",
   "mimetype": "text/x-python",
   "name": "python",
   "nbconvert_exporter": "python",
   "pygments_lexer": "ipython3",
   "version": "3.12.2"
  }
 },
 "nbformat": 4,
 "nbformat_minor": 5
}

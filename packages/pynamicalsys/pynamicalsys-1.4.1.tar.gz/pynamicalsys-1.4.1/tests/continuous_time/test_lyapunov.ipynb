{
 "cells": [
  {
   "cell_type": "code",
   "execution_count": 1,
   "id": "3364c688",
   "metadata": {},
   "outputs": [],
   "source": [
    "import numpy as np\n",
    "import matplotlib.pyplot as plt\n",
    "import seaborn as sns\n",
    "from pynamicalsys import ContinuousDynamicalSystem as cds, PlotStyler"
   ]
  },
  {
   "cell_type": "code",
   "execution_count": 2,
   "id": "557c4c74",
   "metadata": {},
   "outputs": [],
   "source": [
    "ds = cds(model=\"lorenz system\")"
   ]
  },
  {
   "cell_type": "code",
   "execution_count": 3,
   "id": "8d9eb3a9",
   "metadata": {},
   "outputs": [],
   "source": [
    "parameters = [16, 45.92, 4]  # From A. Wolf et al. / Determining Lyapunov exponents from a time series"
   ]
  },
  {
   "cell_type": "code",
   "execution_count": 4,
   "id": "61e6daf0",
   "metadata": {},
   "outputs": [],
   "source": [
    "total_time = 10000\n",
    "transient_time = 5000\n",
    "u = [1, 1, 1]"
   ]
  },
  {
   "cell_type": "code",
   "execution_count": 5,
   "id": "b41ae495",
   "metadata": {},
   "outputs": [],
   "source": [
    "ds.integrator(\"rk4\", time_step=0.01)"
   ]
  },
  {
   "cell_type": "code",
   "execution_count": 6,
   "id": "85463216",
   "metadata": {},
   "outputs": [
    {
     "data": {
      "text/plain": [
       "array([1.49869535])"
      ]
     },
     "execution_count": 6,
     "metadata": {},
     "output_type": "execute_result"
    }
   ],
   "source": [
    "ds.lyapunov(u, total_time, parameters=parameters, transient_time=transient_time, num_exponents=1)"
   ]
  },
  {
   "cell_type": "code",
   "execution_count": 7,
   "id": "b2bcbf19",
   "metadata": {},
   "outputs": [
    {
     "data": {
      "text/plain": [
       "array([1.49873694e+00, 1.31950729e-04])"
      ]
     },
     "execution_count": 7,
     "metadata": {},
     "output_type": "execute_result"
    }
   ],
   "source": [
    "ds.lyapunov(u, total_time, parameters=parameters, transient_time=transient_time, num_exponents=2)"
   ]
  },
  {
   "cell_type": "code",
   "execution_count": 8,
   "id": "6a509149",
   "metadata": {},
   "outputs": [
    {
     "data": {
      "text/plain": [
       "array([ 1.49885208e+00, -1.65186396e-04, -2.24977688e+01])"
      ]
     },
     "execution_count": 8,
     "metadata": {},
     "output_type": "execute_result"
    }
   ],
   "source": [
    "ds.lyapunov(u, total_time, parameters=parameters, transient_time=transient_time)"
   ]
  },
  {
   "cell_type": "code",
   "execution_count": 10,
   "id": "df4bf2d6",
   "metadata": {},
   "outputs": [
    {
     "data": {
      "text/plain": [
       "array([ 2.16238646e+00, -2.38313595e-04, -3.24574194e+01])"
      ]
     },
     "execution_count": 10,
     "metadata": {},
     "output_type": "execute_result"
    }
   ],
   "source": [
    "ds.lyapunov(u, total_time, parameters=parameters, transient_time=transient_time, log_base=2) # To match Wolf's result"
   ]
  },
  {
   "cell_type": "code",
   "execution_count": 11,
   "id": "c56ac817",
   "metadata": {},
   "outputs": [],
   "source": [
    "ds.integrator(\"rk45\", atol=1e-8, rtol=1e-6)"
   ]
  },
  {
   "cell_type": "code",
   "execution_count": 12,
   "id": "af7fa8c8",
   "metadata": {},
   "outputs": [
    {
     "name": "stdout",
     "output_type": "stream",
     "text": [
      "CPU times: user 4.87 s, sys: 74.6 ms, total: 4.95 s\n",
      "Wall time: 4.97 s\n"
     ]
    },
    {
     "data": {
      "text/plain": [
       "array([1.49939476])"
      ]
     },
     "execution_count": 12,
     "metadata": {},
     "output_type": "execute_result"
    }
   ],
   "source": [
    "%%time\n",
    "ds.lyapunov(u, total_time, parameters=parameters, transient_time=transient_time, num_exponents=1)"
   ]
  },
  {
   "cell_type": "code",
   "execution_count": 13,
   "id": "9d844547",
   "metadata": {},
   "outputs": [
    {
     "data": {
      "text/plain": [
       "array([ 1.50399758e+00, -2.16053440e-04])"
      ]
     },
     "execution_count": 13,
     "metadata": {},
     "output_type": "execute_result"
    }
   ],
   "source": [
    "ds.lyapunov(u, total_time, parameters=parameters, transient_time=transient_time, num_exponents=2)"
   ]
  },
  {
   "cell_type": "code",
   "execution_count": 14,
   "id": "bb1697e6",
   "metadata": {},
   "outputs": [
    {
     "data": {
      "text/plain": [
       "array([ 1.50316504e+00, -4.34952846e-04, -2.25027280e+01])"
      ]
     },
     "execution_count": 14,
     "metadata": {},
     "output_type": "execute_result"
    }
   ],
   "source": [
    "ds.lyapunov(u, total_time, parameters=parameters, transient_time=transient_time)"
   ]
  },
  {
   "cell_type": "code",
   "execution_count": 15,
   "id": "3c45c777",
   "metadata": {},
   "outputs": [
    {
     "data": {
      "text/plain": [
       "array([ 2.16860876e+00, -6.27504314e-04, -3.24645741e+01])"
      ]
     },
     "execution_count": 15,
     "metadata": {},
     "output_type": "execute_result"
    }
   ],
   "source": [
    "ds.lyapunov(u, total_time, parameters=parameters, transient_time=transient_time, log_base=2) # To match Wolf's result"
   ]
  },
  {
   "cell_type": "code",
   "execution_count": 16,
   "id": "4358f8bf",
   "metadata": {},
   "outputs": [
    {
     "data": {
      "text/plain": [
       "array([ 2.16664847e+00, -6.80920729e-04, -3.24625604e+01])"
      ]
     },
     "execution_count": 16,
     "metadata": {},
     "output_type": "execute_result"
    }
   ],
   "source": [
    "ds.lyapunov(u, total_time, parameters=parameters, transient_time=transient_time, log_base=2, method=\"QR_HH\") # To match Wolf's results"
   ]
  },
  {
   "cell_type": "code",
   "execution_count": 17,
   "id": "c97cee20",
   "metadata": {},
   "outputs": [],
   "source": [
    "ds.integrator(\"rk4\", time_step=0.01)\n",
    "history = ds.lyapunov(u, total_time, parameters=parameters, transient_time=transient_time, return_history=True)"
   ]
  },
  {
   "cell_type": "code",
   "execution_count": 18,
   "id": "420885dd",
   "metadata": {},
   "outputs": [
    {
     "data": {
      "text/plain": [
       "(500001, 4)"
      ]
     },
     "execution_count": 18,
     "metadata": {},
     "output_type": "execute_result"
    }
   ],
   "source": [
    "history.shape"
   ]
  },
  {
   "cell_type": "code",
   "execution_count": 19,
   "id": "983e686d",
   "metadata": {},
   "outputs": [
    {
     "data": {
      "text/plain": [
       "<matplotlib.legend.Legend at 0x117de0950>"
      ]
     },
     "execution_count": 19,
     "metadata": {},
     "output_type": "execute_result"
    },
    {
     "data": {
      "image/png": "[encoded data removed]",
      "text/plain": [
       "<Figure size 640x480 with 1 Axes>"
      ]
     },
     "metadata": {},
     "output_type": "display_data"
    }
   ],
   "source": [
    "ps = PlotStyler(fontsize=18)\n",
    "ps.apply_style()\n",
    "colors = sns.color_palette(\"hls\", history.shape[1] - 1)\n",
    "for i in range(history.shape[1] - 1):\n",
    "    plt.plot(history[:, 0], history[:, i + 1], color=colors[i], label=fr\"$\\lambda_{i + 1}$\")\n",
    "plt.legend(ncol=3)"
   ]
  },
  {
   "cell_type": "code",
   "execution_count": 20,
   "id": "70b7c8a3",
   "metadata": {},
   "outputs": [],
   "source": [
    "ds.integrator(\"rk45\", atol=1e-8, rtol=1e-6)\n",
    "history_rk45 = ds.lyapunov(u, total_time, parameters=parameters, transient_time=transient_time, return_history=True)"
   ]
  },
  {
   "cell_type": "code",
   "execution_count": 21,
   "id": "d76ed2d6",
   "metadata": {},
   "outputs": [
    {
     "data": {
      "text/plain": [
       "<matplotlib.legend.Legend at 0x11599bb30>"
      ]
     },
     "execution_count": 21,
     "metadata": {},
     "output_type": "execute_result"
    },
    {
     "data": {
      "image/png": "[encoded data removed]",
      "text/plain": [
       "<Figure size 640x480 with 1 Axes>"
      ]
     },
     "metadata": {},
     "output_type": "display_data"
    }
   ],
   "source": [
    "ps = PlotStyler(fontsize=18)\n",
    "ps.apply_style()\n",
    "colors = sns.color_palette(\"hls\", history.shape[1] - 1)\n",
    "for i in range(history.shape[1] - 1):\n",
    "    plt.plot(history_rk45[:, 0], history_rk45[:, i + 1], color=colors[i], label=fr\"$\\lambda_{i + 1}$\")\n",
    "plt.legend(ncol=3)"
   ]
  },
  {
   "cell_type": "code",
   "execution_count": 22,
   "id": "bf39aff8",
   "metadata": {},
   "outputs": [
    {
     "data": {
      "text/plain": [
       "<Figure size 640x480 with 0 Axes>"
      ]
     },
     "metadata": {},
     "output_type": "display_data"
    },
    {
     "data": {
      "image/png": "[encoded data removed]",
      "text/plain": [
       "<Figure size 1000x600 with 3 Axes>"
      ]
     },
     "metadata": {},
     "output_type": "display_data"
    }
   ],
   "source": [
    "ps = PlotStyler(fontsize=18, linewidth=0.5)\n",
    "ps.apply_style()\n",
    "fig, ax = plt.subplots(3, 1, sharex=True, figsize=(10, 6))\n",
    "for i in range(history.shape[1] - 1):\n",
    "    ax[i].plot(history[:, 0], history[:, i + 1], color=\"k\")\n",
    "    ax[i].plot(history_rk45[:, 0], history_rk45[:, i + 1], color=\"r\")"
   ]
  }
 ],
 "metadata": {
  "kernelspec": {
   "display_name": "pynamicalsys-dev",
   "language": "python",
   "name": "python3"
  },
  "language_info": {
   "codemirror_mode": {
    "name": "ipython",
    "version": 3
   },
   "file_extension": ".py",
   "mimetype": "text/x-python",
   "name": "python",
   "nbconvert_exporter": "python",
   "pygments_lexer": "ipython3",
   "version": "3.12.2"
  }
 },
 "nbformat": 4,
 "nbformat_minor": 5
}

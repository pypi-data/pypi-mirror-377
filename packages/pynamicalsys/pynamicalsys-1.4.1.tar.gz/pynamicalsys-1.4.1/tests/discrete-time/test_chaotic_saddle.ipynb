{
 "cells": [
  {
   "cell_type": "code",
   "execution_count": null,
   "id": "6bdd8b48",
   "metadata": {},
   "outputs": [],
   "source": [
    "from pynamicalsys import DiscreteDynamicalSystem as dds\n",
    "from pynamicalsys import PlotStyler\n",
    "import numpy as np\n",
    "import matplotlib.pyplot as plt"
   ]
  },
  {
   "cell_type": "code",
   "execution_count": 108,
   "id": "416ea713",
   "metadata": {},
   "outputs": [],
   "source": [
    "ds = dds(model=\"henon map\")"
   ]
  },
  {
   "cell_type": "code",
   "execution_count": 109,
   "id": "78bed48f",
   "metadata": {},
   "outputs": [],
   "source": [
    "a, b = 1.5, 0.3\n",
    "parameters = [a, b]\n",
    "exists = np.array([[-10, 10], [-10, 10]], dtype=np.float64)\n",
    "total_time = 1000"
   ]
  },
  {
   "cell_type": "code",
   "execution_count": 110,
   "id": "869c787e",
   "metadata": {},
   "outputs": [
    {
     "data": {
      "text/plain": [
       "(100000000, 2)"
      ]
     },
     "execution_count": 110,
     "metadata": {},
     "output_type": "execute_result"
    }
   ],
   "source": [
    "num_ic = int(1e8)\n",
    "ic = np.random.uniform(-3, 3, (num_ic, 2))\n",
    "ic.shape"
   ]
  },
  {
   "cell_type": "code",
   "execution_count": null,
   "id": "cd7a802c",
   "metadata": {},
   "outputs": [],
   "source": [
    "escape = [ds.escape_analysis(ic[i, :], parameters, total_time, exists, escape=\"exiting\") for i in range(num_ic)]\n",
    "escape = np.array(escape)"
   ]
  },
  {
   "cell_type": "code",
   "execution_count": null,
   "id": "cfc37cbf",
   "metadata": {},
   "outputs": [
    {
     "data": {
      "text/plain": [
       "(1000000, 2)"
      ]
     },
     "execution_count": 46,
     "metadata": {},
     "output_type": "execute_result"
    }
   ],
   "source": [
    "escape.shape"
   ]
  },
  {
   "cell_type": "code",
   "execution_count": null,
   "id": "f5a873dd",
   "metadata": {},
   "outputs": [],
   "source": [
    "times, survival_probability = ds.survival_probability(escape[:, 1], max_time=total_time)"
   ]
  },
  {
   "cell_type": "code",
   "execution_count": null,
   "id": "241e09c1",
   "metadata": {},
   "outputs": [
    {
     "data": {
      "text/plain": [
       "(array([50, 51, 52, 53, 54, 55, 56, 57, 58, 59, 60, 61, 62, 63, 64, 65, 66,\n",
       "        67, 68, 69, 70, 71, 72, 73, 74, 75, 76, 77, 78, 79, 80, 81, 82, 83,\n",
       "        84, 85, 86, 87, 88, 89, 90, 91, 92, 93, 94, 95, 96, 97, 98]),)"
      ]
     },
     "execution_count": 54,
     "metadata": {},
     "output_type": "execute_result"
    }
   ],
   "source": [
    "np.where((times > 50) & (times < 100))"
   ]
  },
  {
   "cell_type": "code",
   "execution_count": null,
   "id": "e29ece6d",
   "metadata": {},
   "outputs": [
    {
     "name": "stdout",
     "output_type": "stream",
     "text": [
      "Coefficients: [-0.03327775 -1.36149738]\n"
     ]
    }
   ],
   "source": [
    "inds_fit = np.where((times > 10) & (times < 250))[0]\n",
    "x_fit = times[inds_fit]\n",
    "y_fit = survival_probability[inds_fit]\n",
    "coeffs, cov = np.polyfit(x_fit, np.log(y_fit), 1, cov=True)\n",
    "print(f\"Coefficients: {coeffs}\")"
   ]
  },
  {
   "cell_type": "code",
   "execution_count": null,
   "id": "9ffb9f0e",
   "metadata": {},
   "outputs": [
    {
     "data": {
      "text/plain": [
       "(0.0, 400.0)"
      ]
     },
     "execution_count": 69,
     "metadata": {},
     "output_type": "execute_result"
    },
    {
     "data": {
      "image/png": "[encoded data removed]",
      "text/plain": [
       "<Figure size 640x480 with 1 Axes>"
      ]
     },
     "metadata": {},
     "output_type": "display_data"
    }
   ],
   "source": [
    "plt.plot(times, survival_probability, color=\"blue\", label=\"Survival Probability\")\n",
    "x_new = np.linspace(0, 400, 1000)\n",
    "y_new = np.exp(coeffs[1]) * np.exp(coeffs[0] * x_new)\n",
    "plt.plot(x_new, y_new, color=\"red\", label=fr\"$\\kappa = {-coeffs[0]:.5f}\\pm {np.sqrt(cov[0, 0]):.5f}$\")\n",
    "plt.legend()\n",
    "plt.yscale(\"log\")\n",
    "plt.xlim(0, 400)"
   ]
  },
  {
   "cell_type": "code",
   "execution_count": null,
   "id": "a2847b2d",
   "metadata": {},
   "outputs": [
    {
     "data": {
      "text/plain": [
       "30.050106645348325"
      ]
     },
     "execution_count": 70,
     "metadata": {},
     "output_type": "execute_result"
    }
   ],
   "source": [
    "tau = 1 / -coeffs[0]\n",
    "tau"
   ]
  },
  {
   "cell_type": "code",
   "execution_count": null,
   "id": "ea865394",
   "metadata": {},
   "outputs": [],
   "source": [
    "n0 = 5\n",
    "escape = [ds.escape_analysis(ic[i, :], parameters, round(n0 * tau), exists, escape=\"exiting\") for i in range(num_ic)]\n",
    "escape = np.array(escape)"
   ]
  },
  {
   "cell_type": "code",
   "execution_count": null,
   "id": "276a05a6",
   "metadata": {},
   "outputs": [
    {
     "data": {
      "text/plain": [
       "(1000000, 2)"
      ]
     },
     "execution_count": 98,
     "metadata": {},
     "output_type": "execute_result"
    }
   ],
   "source": [
    "escape.shape"
   ]
  },
  {
   "cell_type": "code",
   "execution_count": null,
   "id": "648ba3e8",
   "metadata": {},
   "outputs": [],
   "source": [
    "escape = escape[:, 0]"
   ]
  },
  {
   "cell_type": "code",
   "execution_count": null,
   "id": "11edb088",
   "metadata": {},
   "outputs": [],
   "source": [
    "non_escaping = np.where(escape == -1)"
   ]
  },
  {
   "cell_type": "code",
   "execution_count": null,
   "id": "384cb423",
   "metadata": {},
   "outputs": [],
   "source": [
    "non_escaping_ics = ic[non_escaping]"
   ]
  },
  {
   "cell_type": "code",
   "execution_count": null,
   "id": "d1ba04ee",
   "metadata": {},
   "outputs": [
    {
     "data": {
      "text/plain": [
       "(1714, 2)"
      ]
     },
     "execution_count": 102,
     "metadata": {},
     "output_type": "execute_result"
    }
   ],
   "source": [
    "non_escaping_ics.shape"
   ]
  },
  {
   "cell_type": "code",
   "execution_count": null,
   "id": "e468694c",
   "metadata": {},
   "outputs": [],
   "source": [
    "saddle = ds.trajectory(non_escaping_ics, parameters, round(n0 * tau / 2))"
   ]
  },
  {
   "cell_type": "code",
   "execution_count": null,
   "id": "08a1aec9",
   "metadata": {},
   "outputs": [],
   "source": [
    "unstable = ds.trajectory(non_escaping_ics, parameters, round(n0 * tau))"
   ]
  },
  {
   "cell_type": "code",
   "execution_count": null,
   "id": "d073cc29",
   "metadata": {},
   "outputs": [
    {
     "data": {
      "image/png": "[encoded data removed]",
      "text/plain": [
       "<Figure size 640x480 with 1 Axes>"
      ]
     },
     "metadata": {},
     "output_type": "display_data"
    }
   ],
   "source": [
    "plt.plot(non_escaping_ics[:, 0], non_escaping_ics[:, 1], \"o\", markersize=0.5, markeredgewidth=0,color=\"black\", label=\"Non-escaping\");\n",
    "plt.plot(saddle[:, 0], saddle[:, 1], \"o\", markersize=0.5, markeredgewidth=0, color=\"red\", label=\"Saddle\");\n",
    "plt.plot(unstable[:, 0], unstable[:, 1], \"o\", markersize=0.5, markeredgewidth=0, color=\"b\", label=\"Saddle\");\n",
    "plt.xlim(-3, 3)\n",
    "plt.ylim(-3, 3)"
   ]
  },
  {
   "cell_type": "code",
   "execution_count": null,
   "id": "3fda298d",
   "metadata": {},
   "outputs": [],
   "source": [
    "plt.plot(saddle[:, 0], saddle[:, 1], \"o\", markersize=0.5, markeredgewidth=0, color=\"red\", label=\"Saddle\");\n"
   ]
  }
 ],
 "metadata": {
  "kernelspec": {
   "display_name": "base",
   "language": "python",
   "name": "python3"
  },
  "language_info": {
   "codemirror_mode": {
    "name": "ipython",
    "version": 3
   },
   "file_extension": ".py",
   "mimetype": "text/x-python",
   "name": "python",
   "nbconvert_exporter": "python",
   "pygments_lexer": "ipython3",
   "version": "3.12.2"
  }
 },
 "nbformat": 4,
 "nbformat_minor": 5
}

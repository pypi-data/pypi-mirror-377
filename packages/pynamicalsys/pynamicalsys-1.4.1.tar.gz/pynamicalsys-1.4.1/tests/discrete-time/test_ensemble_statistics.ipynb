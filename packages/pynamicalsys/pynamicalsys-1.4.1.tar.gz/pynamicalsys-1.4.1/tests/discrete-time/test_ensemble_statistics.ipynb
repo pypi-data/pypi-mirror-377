{
 "cells": [
  {
   "cell_type": "code",
   "execution_count": 1,
   "id": "79c5785b",
   "metadata": {},
   "outputs": [],
   "source": [
    "import numpy as np\n",
    "import matplotlib.pyplot as plt\n",
    "from pynamicalsys import DiscreteDynamicalSystem as dds"
   ]
  },
  {
   "cell_type": "code",
   "execution_count": 2,
   "id": "07a82633",
   "metadata": {},
   "outputs": [],
   "source": [
    "ds = dds(model=\"extended standard nontwist map\")"
   ]
  },
  {
   "cell_type": "code",
   "execution_count": 11,
   "id": "140ad4fc",
   "metadata": {},
   "outputs": [
    {
     "data": {
      "text/plain": [
       "{'description': 'Extended version of standard nontwist map',\n",
       " 'has_jacobian': True,\n",
       " 'has_backwards_map': True,\n",
       " 'mapping': CPUDispatcher(<function extended_standard_nontwist_map at 0x12548aac0>),\n",
       " 'jacobian': CPUDispatcher(<function extended_standard_nontwist_map_jacobian at 0x12548afc0>),\n",
       " 'backwards_mapping': CPUDispatcher(<function extended_standard_nontwist_map_backwards at 0x12548ad40>),\n",
       " 'dimension': 2,\n",
       " 'number_of_parameters': 4,\n",
       " 'parameters': ['a', 'b', 'c', 'm']}"
      ]
     },
     "execution_count": 11,
     "metadata": {},
     "output_type": "execute_result"
    }
   ],
   "source": [
    "ds.info"
   ]
  },
  {
   "cell_type": "code",
   "execution_count": 33,
   "id": "dd6511b3",
   "metadata": {},
   "outputs": [],
   "source": [
    "a = 0.805\n",
    "b = 0.597\n",
    "c = 0.005\n",
    "ms = [1, 2, 3, 4]\n",
    "num_ic = 1000000\n",
    "total_time = 5000"
   ]
  },
  {
   "cell_type": "code",
   "execution_count": 34,
   "id": "884ac95e",
   "metadata": {},
   "outputs": [],
   "source": [
    "np.random.seed(13)\n",
    "x = np.random.rand(num_ic)\n",
    "y = np.zeros_like(x)\n",
    "u = np.stack([x, y]).T"
   ]
  },
  {
   "cell_type": "code",
   "execution_count": 35,
   "id": "66243ff5",
   "metadata": {},
   "outputs": [],
   "source": [
    "averages = []\n",
    "cumul_averages = []\n",
    "for i in range(len(ms)):\n",
    "    parameters = [a, b, c, ms[i]]\n",
    "    average = ds.average_in_time(u, total_time, parameters=parameters)\n",
    "    averages.append(average)\n",
    "    cumul_average = ds.cumulative_average(u, total_time, parameters=parameters)\n",
    "    cumul_averages.append(cumul_average)"
   ]
  },
  {
   "cell_type": "code",
   "execution_count": 37,
   "id": "259cf622",
   "metadata": {},
   "outputs": [
    {
     "data": {
      "text/plain": [
       "(-2.0, 2.0)"
      ]
     },
     "execution_count": 37,
     "metadata": {},
     "output_type": "execute_result"
    },
    {
     "data": {
      "image/png": "[encoded data removed]",
      "text/plain": [
       "<Figure size 640x480 with 2 Axes>"
      ]
     },
     "metadata": {},
     "output_type": "display_data"
    }
   ],
   "source": [
    "fig, ax = plt.subplots(2, 1, sharex=True)\n",
    "colors = [\"k\", \"r\", \"b\", \"g\"]\n",
    "for i in range(len(ms)):\n",
    "    ax[0].plot(averages[i], c=colors[i])\n",
    "    ax[1].plot(cumul_averages[i], c=colors[i])\n",
    "ax[0].set_ylim(-2, 2)\n",
    "ax[1].set_ylim(-2, 2)"
   ]
  },
  {
   "cell_type": "code",
   "execution_count": 3,
   "id": "0f21a502",
   "metadata": {},
   "outputs": [
    {
     "data": {
      "text/plain": [
       "array([   1,    2,    3,    4,    5,    6,    7,    8,    9,   10,   11,\n",
       "         12,   13,   14,   15,   17,   18,   20,   22,   24,   26,   28,\n",
       "         31,   34,   37,   40,   44,   48,   52,   57,   62,   67,   73,\n",
       "         80,   87,   95,  104,  113,  123,  134,  146,  160,  174,  190,\n",
       "        207,  225,  246,  268,  292,  318,  347,  378,  412,  449,  489,\n",
       "        533,  581,  634,  691,  753,  820,  894,  975, 1062, 1158, 1262,\n",
       "       1375, 1499, 1633, 1780, 1940, 2115, 2305, 2512, 2737, 2983, 3252,\n",
       "       3544, 3862, 4209, 4587, 4999])"
      ]
     },
     "execution_count": 3,
     "metadata": {},
     "output_type": "execute_result"
    }
   ],
   "source": [
    "a = 0.805\n",
    "b = 0.597\n",
    "c = 0.005\n",
    "m = 1\n",
    "parameters = [a, b, c, m]\n",
    "num_ic = 100000\n",
    "total_time = 5000\n",
    "sample_times = np.array(np.unique(\n",
    "    np.logspace(np.log10(1), np.log10(total_time), 100).astype(int)\n",
    "), dtype=np.int64)\n",
    "sample_times"
   ]
  },
  {
   "cell_type": "code",
   "execution_count": 4,
   "id": "ecaf10c2",
   "metadata": {},
   "outputs": [
    {
     "data": {
      "text/plain": [
       "np.int64(2)"
      ]
     },
     "execution_count": 4,
     "metadata": {},
     "output_type": "execute_result"
    }
   ],
   "source": [
    "sample_times[1]"
   ]
  },
  {
   "cell_type": "code",
   "execution_count": 4,
   "id": "c5752e02",
   "metadata": {},
   "outputs": [],
   "source": [
    "np.random.seed(13)\n",
    "x = np.random.rand(num_ic)\n",
    "y = np.zeros_like(x)\n",
    "u = np.stack([x, y]).T"
   ]
  },
  {
   "cell_type": "code",
   "execution_count": 8,
   "id": "45cbddee",
   "metadata": {},
   "outputs": [
    {
     "name": "stdout",
     "output_type": "stream",
     "text": [
      "CPU times: user 47.8 s, sys: 2.13 s, total: 50 s\n",
      "Wall time: 7.12 s\n"
     ]
    },
    {
     "data": {
      "text/plain": [
       "array([ 0.00089773, -0.00016204,  0.00022524, ...,  0.00811202,\n",
       "        0.00950214,  0.00692856], shape=(5000,))"
      ]
     },
     "execution_count": 8,
     "metadata": {},
     "output_type": "execute_result"
    }
   ],
   "source": [
    "%%time\n",
    "ds.average_in_time(u, total_time, parameters=parameters)"
   ]
  },
  {
   "cell_type": "code",
   "execution_count": 7,
   "id": "5dd8db08",
   "metadata": {},
   "outputs": [
    {
     "name": "stdout",
     "output_type": "stream",
     "text": [
      "CPU times: user 46.9 s, sys: 1.51 s, total: 48.4 s\n",
      "Wall time: 7.27 s\n"
     ]
    },
    {
     "data": {
      "text/plain": [
       "array([ 8.97729617e-04, -1.62037072e-04,  2.25236456e-04,  1.30819412e-03,\n",
       "        4.36714097e-04,  2.38731752e-04,  1.67225092e-03,  1.53920431e-03,\n",
       "        8.58618574e-04,  6.60613035e-04,  1.77738450e-03,  1.80342079e-03,\n",
       "        2.99277415e-04,  4.21314493e-05,  1.12046819e-03,  1.30362560e-03,\n",
       "        2.48950162e-03,  1.71338186e-03, -1.91845431e-04, -4.26417013e-03,\n",
       "       -5.52336223e-03, -5.99395008e-03, -5.92903075e-03, -5.19931853e-03,\n",
       "       -5.17255902e-03, -4.68166488e-03, -4.10688802e-03, -5.77402099e-05,\n",
       "       -2.43684193e-03, -4.41275112e-03, -1.07278439e-02, -4.44154386e-03,\n",
       "       -5.61883874e-03, -7.31158640e-03, -1.21891975e-02, -9.81771607e-03,\n",
       "       -1.00142093e-02, -1.08736652e-02, -1.58375447e-02, -1.37866809e-02,\n",
       "       -9.57739813e-03, -5.01826441e-03, -6.42193406e-03, -1.88068230e-03,\n",
       "       -3.15145492e-03, -6.98684605e-03, -1.28633326e-02, -2.64546153e-02,\n",
       "       -2.59278011e-02, -3.15855074e-02, -4.37088630e-02, -3.09230896e-02,\n",
       "       -1.74764278e-02, -1.87048976e-02, -1.93239507e-02, -2.39225992e-02,\n",
       "       -1.00316326e-02, -6.72983561e-03, -1.89193536e-02, -3.03971744e-02,\n",
       "       -2.92996782e-02, -3.94828851e-02, -3.79546364e-02, -2.00445474e-02,\n",
       "       -3.51047013e-02, -2.67704012e-02, -2.82536013e-02, -3.96347238e-02,\n",
       "       -3.02748533e-02, -2.22230620e-02, -5.26085303e-02, -6.06082326e-02,\n",
       "       -7.89382116e-02, -7.23363658e-02, -6.22777363e-02, -5.48388003e-02,\n",
       "       -4.06936628e-02, -2.15386025e-02,  1.43580719e-02,  3.19340539e-03,\n",
       "        7.40458701e-03,  9.50213980e-03])"
      ]
     },
     "execution_count": 7,
     "metadata": {},
     "output_type": "execute_result"
    }
   ],
   "source": [
    "%%time\n",
    "ds.average_in_time(u, total_time, parameters=parameters, sample_times=sample_times)"
   ]
  },
  {
   "cell_type": "code",
   "execution_count": 6,
   "id": "c57b02f9",
   "metadata": {},
   "outputs": [
    {
     "name": "stdout",
     "output_type": "stream",
     "text": [
      "CPU times: user 44.9 s, sys: 2.1 s, total: 47 s\n",
      "Wall time: 7.17 s\n"
     ]
    },
    {
     "data": {
      "text/plain": [
       "array([ 0.00089773, -0.00016204,  0.00022524, ...,  0.00811202,\n",
       "        0.00950214,  0.00692856], shape=(5000,))"
      ]
     },
     "execution_count": 6,
     "metadata": {},
     "output_type": "execute_result"
    }
   ],
   "source": [
    "%%time\n",
    "ds.average_in_time(u, total_time, parameters=parameters)"
   ]
  },
  {
   "cell_type": "code",
   "execution_count": 7,
   "id": "837e080e",
   "metadata": {},
   "outputs": [
    {
     "name": "stdout",
     "output_type": "stream",
     "text": [
      "CPU times: user 47.5 s, sys: 1.71 s, total: 49.2 s\n",
      "Wall time: 7.98 s\n"
     ]
    },
    {
     "data": {
      "text/plain": [
       "array([ 8.97729617e-04, -1.62037072e-04,  2.25236456e-04,  1.30819412e-03,\n",
       "        4.36714097e-04,  2.38731752e-04,  1.67225092e-03,  1.53920431e-03,\n",
       "        8.58618574e-04,  6.60613035e-04,  1.77738450e-03,  1.80342079e-03,\n",
       "        2.99277415e-04,  4.21314493e-05,  1.12046819e-03,  1.30362560e-03,\n",
       "        2.48950162e-03,  1.71338186e-03, -1.91845431e-04, -4.26417013e-03,\n",
       "       -5.52336223e-03, -5.99395008e-03, -5.92903075e-03, -5.19931853e-03,\n",
       "       -5.17255902e-03, -4.68166488e-03, -4.10688802e-03, -5.77402099e-05,\n",
       "       -2.43684193e-03, -4.41275112e-03, -1.07278439e-02, -4.44154386e-03,\n",
       "       -5.61883874e-03, -7.31158640e-03, -1.21891975e-02, -9.81771607e-03,\n",
       "       -1.00142093e-02, -1.08736652e-02, -1.58375447e-02, -1.37866809e-02,\n",
       "       -9.57739813e-03, -5.01826441e-03, -6.42193406e-03, -1.88068230e-03,\n",
       "       -3.15145492e-03, -6.98684605e-03, -1.28633326e-02, -2.64546153e-02,\n",
       "       -2.59278011e-02, -3.15855074e-02, -4.37088630e-02, -3.09230896e-02,\n",
       "       -1.74764278e-02, -1.87048976e-02, -1.93239507e-02, -2.39225992e-02,\n",
       "       -1.00316326e-02, -6.72983561e-03, -1.89193536e-02, -3.03971744e-02,\n",
       "       -2.92996782e-02, -3.94828851e-02, -3.79546364e-02, -2.00445474e-02,\n",
       "       -3.51047013e-02, -2.67704012e-02, -2.82536013e-02, -3.96347238e-02,\n",
       "       -3.02748533e-02, -2.22230620e-02, -5.26085303e-02, -6.06082326e-02,\n",
       "       -7.89382116e-02, -7.23363658e-02, -6.22777363e-02, -5.48388003e-02,\n",
       "       -4.06936628e-02, -2.15386025e-02,  1.43580719e-02,  3.19340539e-03,\n",
       "        7.40458701e-03,  9.50213980e-03])"
      ]
     },
     "execution_count": 7,
     "metadata": {},
     "output_type": "execute_result"
    }
   ],
   "source": [
    "%%time\n",
    "ds.average_in_time(u, total_time, parameters=parameters, sample_times=sample_times)"
   ]
  },
  {
   "cell_type": "code",
   "execution_count": 10,
   "id": "313ac35e",
   "metadata": {},
   "outputs": [
    {
     "name": "stdout",
     "output_type": "stream",
     "text": [
      "CPU times: user 45.5 s, sys: 2.9 s, total: 48.4 s\n",
      "Wall time: 7.32 s\n"
     ]
    },
    {
     "data": {
      "text/plain": [
       "array([ 0.00089773,  0.00036785,  0.00032031, ..., -0.02556341,\n",
       "       -0.0255564 , -0.0255499 ], shape=(5000,))"
      ]
     },
     "execution_count": 10,
     "metadata": {},
     "output_type": "execute_result"
    }
   ],
   "source": [
    "%%time\n",
    "ds.cumulative_average(u, total_time, parameters=parameters)"
   ]
  },
  {
   "cell_type": "code",
   "execution_count": 11,
   "id": "1e53df10",
   "metadata": {},
   "outputs": [
    {
     "name": "stdout",
     "output_type": "stream",
     "text": [
      "CPU times: user 47.8 s, sys: 2.25 s, total: 50.1 s\n",
      "Wall time: 7.91 s\n"
     ]
    },
    {
     "data": {
      "text/plain": [
       "array([ 8.97729617e-04,  3.67846273e-04,  3.20309667e-04,  5.67280781e-04,\n",
       "        5.41167444e-04,  4.90761495e-04,  6.59545699e-04,  7.69503025e-04,\n",
       "        7.79404752e-04,  7.67525581e-04,  8.59330937e-04,  9.38005091e-04,\n",
       "        8.88872193e-04,  8.28390711e-04,  8.47862543e-04,  8.70316191e-04,\n",
       "        9.60270937e-04,  1.10572971e-03,  1.05036182e-03,  7.54213491e-04,\n",
       "        2.87970742e-04, -6.75631880e-05, -5.94025120e-04, -1.03514501e-03,\n",
       "       -1.39163283e-03, -1.60427444e-03, -1.81204781e-03, -1.78418776e-03,\n",
       "       -1.80681346e-03, -1.94307351e-03, -2.47558974e-03, -2.82299379e-03,\n",
       "       -3.08982598e-03, -3.34634559e-03, -3.72990688e-03, -4.32551063e-03,\n",
       "       -4.68178214e-03, -4.89643988e-03, -5.69182240e-03, -6.43063592e-03,\n",
       "       -6.85223390e-03, -6.87247465e-03, -6.63494978e-03, -6.51162701e-03,\n",
       "       -6.10446200e-03, -6.01803385e-03, -6.27240931e-03, -7.40211764e-03,\n",
       "       -8.87984536e-03, -1.04126230e-02, -1.25240972e-02, -1.42570199e-02,\n",
       "       -1.51189798e-02, -1.52353939e-02, -1.54774701e-02, -1.58543363e-02,\n",
       "       -1.58401808e-02, -1.49421024e-02, -1.48778821e-02, -1.56664875e-02,\n",
       "       -1.67998985e-02, -1.78588276e-02, -1.94902899e-02, -2.03796978e-02,\n",
       "       -2.12298337e-02, -2.21717429e-02, -2.34454393e-02, -2.43298145e-02,\n",
       "       -2.51280289e-02, -2.56855941e-02, -2.63137572e-02, -2.86492783e-02,\n",
       "       -3.09720496e-02, -3.46327719e-02, -3.70853879e-02, -3.81997306e-02,\n",
       "       -3.79181655e-02, -3.72409245e-02, -3.44268134e-02, -3.13244367e-02,\n",
       "       -2.86444131e-02, -2.55563982e-02])"
      ]
     },
     "execution_count": 11,
     "metadata": {},
     "output_type": "execute_result"
    }
   ],
   "source": [
    "%%time\n",
    "ds.cumulative_average(u, total_time, parameters=parameters, sample_times=sample_times)"
   ]
  },
  {
   "cell_type": "code",
   "execution_count": 11,
   "id": "ca8de255",
   "metadata": {},
   "outputs": [
    {
     "name": "stdout",
     "output_type": "stream",
     "text": [
      "CPU times: user 45.8 s, sys: 3.04 s, total: 48.8 s\n",
      "Wall time: 8.51 s\n"
     ]
    },
    {
     "data": {
      "text/plain": [
       "array([ 0.00089773,  0.00036785,  0.00032031, ..., -0.02556341,\n",
       "       -0.0255564 , -0.0255499 ], shape=(5000,))"
      ]
     },
     "execution_count": 11,
     "metadata": {},
     "output_type": "execute_result"
    }
   ],
   "source": [
    "%%time\n",
    "ds.cumulative_average(u, total_time, parameters=parameters)"
   ]
  },
  {
   "cell_type": "code",
   "execution_count": 12,
   "id": "2870e539",
   "metadata": {},
   "outputs": [
    {
     "name": "stdout",
     "output_type": "stream",
     "text": [
      "CPU times: user 48.2 s, sys: 2.41 s, total: 50.6 s\n",
      "Wall time: 7.89 s\n"
     ]
    },
    {
     "data": {
      "text/plain": [
       "array([ 8.97729617e-04,  3.67846273e-04,  3.20309667e-04,  5.67280781e-04,\n",
       "        5.41167444e-04,  4.90761495e-04,  6.59545699e-04,  7.69503025e-04,\n",
       "        7.79404752e-04,  7.67525581e-04,  8.59330937e-04,  9.38005091e-04,\n",
       "        8.88872193e-04,  8.28390711e-04,  8.47862543e-04,  8.70316191e-04,\n",
       "        9.60270937e-04,  1.10572971e-03,  1.05036182e-03,  7.54213491e-04,\n",
       "        2.87970742e-04, -6.75631880e-05, -5.94025120e-04, -1.03514501e-03,\n",
       "       -1.39163283e-03, -1.60427444e-03, -1.81204781e-03, -1.78418776e-03,\n",
       "       -1.80681346e-03, -1.94307351e-03, -2.47558974e-03, -2.82299379e-03,\n",
       "       -3.08982598e-03, -3.34634559e-03, -3.72990688e-03, -4.32551063e-03,\n",
       "       -4.68178214e-03, -4.89643988e-03, -5.69182240e-03, -6.43063592e-03,\n",
       "       -6.85223390e-03, -6.87247465e-03, -6.63494978e-03, -6.51162701e-03,\n",
       "       -6.10446200e-03, -6.01803385e-03, -6.27240931e-03, -7.40211764e-03,\n",
       "       -8.87984536e-03, -1.04126230e-02, -1.25240972e-02, -1.42570199e-02,\n",
       "       -1.51189798e-02, -1.52353939e-02, -1.54774701e-02, -1.58543363e-02,\n",
       "       -1.58401808e-02, -1.49421024e-02, -1.48778821e-02, -1.56664875e-02,\n",
       "       -1.67998985e-02, -1.78588276e-02, -1.94902899e-02, -2.03796978e-02,\n",
       "       -2.12298337e-02, -2.21717429e-02, -2.34454393e-02, -2.43298145e-02,\n",
       "       -2.51280289e-02, -2.56855941e-02, -2.63137572e-02, -2.86492783e-02,\n",
       "       -3.09720496e-02, -3.46327719e-02, -3.70853879e-02, -3.81997306e-02,\n",
       "       -3.79181655e-02, -3.72409245e-02, -3.44268134e-02, -3.13244367e-02,\n",
       "       -2.86444131e-02, -2.55563982e-02])"
      ]
     },
     "execution_count": 12,
     "metadata": {},
     "output_type": "execute_result"
    }
   ],
   "source": [
    "%%time\n",
    "ds.cumulative_average(u, total_time, parameters=parameters, sample_times=sample_times)"
   ]
  },
  {
   "cell_type": "code",
   "execution_count": null,
   "id": "7b0fd632",
   "metadata": {},
   "outputs": [],
   "source": []
  }
 ],
 "metadata": {
  "kernelspec": {
   "display_name": "pynamicalsys-dev",
   "language": "python",
   "name": "python3"
  },
  "language_info": {
   "codemirror_mode": {
    "name": "ipython",
    "version": 3
   },
   "file_extension": ".py",
   "mimetype": "text/x-python",
   "name": "python",
   "nbconvert_exporter": "python",
   "pygments_lexer": "ipython3",
   "version": "3.12.2"
  }
 },
 "nbformat": 4,
 "nbformat_minor": 5
}

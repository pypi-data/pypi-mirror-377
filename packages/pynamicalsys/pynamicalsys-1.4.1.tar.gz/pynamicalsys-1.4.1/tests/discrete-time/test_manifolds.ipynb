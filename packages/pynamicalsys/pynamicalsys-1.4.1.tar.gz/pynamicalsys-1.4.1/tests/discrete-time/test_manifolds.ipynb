{
 "cells": [
  {
   "cell_type": "code",
   "execution_count": null,
   "id": "602cfab0",
   "metadata": {},
   "outputs": [],
   "source": [
    "from pynamicalsys import DiscreteDynamicalSystem as dds\n",
    "from pynamicalsys import PlotStyler\n",
    "import numpy as np\n",
    "import matplotlib.pyplot as plt\n",
    "import seaborn as sns"
   ]
  },
  {
   "cell_type": "code",
   "execution_count": 2,
   "id": "090cfc58",
   "metadata": {},
   "outputs": [],
   "source": [
    "ds = dds(model=\"standard map\")\n",
    "k = 1.5"
   ]
  },
  {
   "cell_type": "code",
   "execution_count": 3,
   "id": "3b57573a",
   "metadata": {},
   "outputs": [],
   "source": [
    "x_range = (0.1, 0.3)\n",
    "y_range = (0.3, 0.5)\n",
    "\n",
    "period = 2\n",
    "grid_size = 1000\n",
    "tolerance = 2 / grid_size\n",
    "x = np.linspace(x_range[0], x_range[1], grid_size)\n",
    "y = np.linspace(y_range[0], y_range[1], grid_size)\n",
    "X, Y = np.meshgrid(x, y)\n",
    "grid_points = np.empty((grid_size, grid_size, 2), dtype=np.float64)\n",
    "grid_points[:, :, 0] = X\n",
    "grid_points[:, :, 1] = Y"
   ]
  },
  {
   "cell_type": "code",
   "execution_count": 4,
   "id": "416fc67c",
   "metadata": {},
   "outputs": [
    {
     "data": {
      "text/plain": [
       "0.5"
      ]
     },
     "execution_count": 4,
     "metadata": {},
     "output_type": "execute_result"
    }
   ],
   "source": [
    "grid_points.max()"
   ]
  },
  {
   "cell_type": "code",
   "execution_count": 5,
   "id": "ce8fa979",
   "metadata": {},
   "outputs": [
    {
     "name": "stdout",
     "output_type": "stream",
     "text": [
      "Iter 0: Δorbit=[0.19397653 0.38795307], Δbounds=[0.00100501 0.00100501], tol=2.00e-03\n",
      "Iter 1: Δorbit=[1.80487169e-06 1.12791156e-05], Δbounds=[0.00099499 0.00099499], tol=1.00e-03\n",
      "Iter 2: Δorbit=[8.13236846e-07 1.13021572e-05], Δbounds=[5.005005e-06 5.005005e-06], tol=5.00e-04\n",
      "Iter 3: Δorbit=[1.48412112e-05 3.49416812e-05], Δbounds=[0.00049499 0.00049499], tol=2.50e-04\n",
      "Iter 4: Δorbit=[1.74679312e-05 3.50246540e-05], Δbounds=[7.40507775e-05 8.29696062e-05], tol=1.25e-04\n",
      "Iter 5: Δorbit=[4.01961588e-07 3.21620331e-07], Δbounds=[5.09492225e-05 4.20303938e-05], tol=6.25e-05\n",
      "Iter 6: Δorbit=[2.57847058e-08 2.12454325e-08], Δbounds=[1.15507775e-05 2.04696062e-05], tol=3.13e-05\n",
      "Iter 7: Δorbit=[5.24157322e-08 5.76479185e-08], Δbounds=[1.96992225e-05 1.07803938e-05], tol=1.56e-05\n",
      "Iter 8: Δorbit=[1.16398452e-07 1.78576335e-08], Δbounds=[6.43126686e-07 4.84460624e-06], tol=7.81e-06\n",
      "Iter 9: Δorbit=[1.22049676e-07 1.56483406e-07], Δbounds=[7.16937331e-06 4.24815006e-06], tol=3.91e-06\n",
      "Iter 10: Δorbit=[1.33553995e-07 8.49902063e-08], Δbounds=[7.72860511e-07 3.41900062e-07], tol=1.95e-06\n",
      "Iter 11: Δorbit=[2.89605714e-08 7.81024070e-08], Δbounds=[1.18026449e-06 1.61122494e-06], tol=9.77e-07\n",
      "Iter 12: Δorbit=[5.84929204e-08 1.08339438e-07], Δbounds=[1.98976205e-07 2.60484074e-07], tol=4.88e-07\n",
      "Iter 13: Δorbit=[3.51309488e-08 2.27617964e-08], Δbounds=[2.89305045e-07 2.27797176e-07], tol=2.44e-07\n",
      "Iter 14: Δorbit=[2.49643237e-08 1.45247880e-08], Δbounds=[6.64833308e-09 1.63434493e-08], tol=1.22e-07\n",
      "Iter 15: Δorbit=[5.71008274e-09 1.45141859e-08], Δbounds=[1.15421979e-07 1.05726863e-07], tol=6.10e-08\n",
      "Iter 16: Δorbit=[2.23730328e-08 2.89378448e-08], Δbounds=[9.55826659e-09 7.10519588e-10], tol=3.05e-08\n",
      "Iter 17: Δorbit=[3.26193600e-09 6.21982188e-09], Δbounds=[2.71018612e-08 2.98070585e-08], tol=1.53e-08\n",
      "Iter 18: Δorbit=[6.06228387e-09 9.08199665e-09], Δbounds=[8.55831128e-10 6.68547162e-10], tol=7.63e-09\n",
      "Iter 19: Δorbit=[4.79254469e-10 1.36458345e-09], Δbounds=[6.77699014e-09 7.01304625e-09], tol=3.81e-09\n",
      "Iter 20: Δorbit=[1.43661177e-09 2.23047225e-09], Δbounds=[2.01296868e-10 6.13546991e-10], tol=1.91e-09\n",
      "Iter 21: Δorbit=[5.49651435e-11 1.70982284e-10], Δbounds=[1.70605174e-09 1.75626497e-09], tol=9.54e-10\n",
      "Iter 22: Δorbit=[3.58564817e-10 5.58091739e-10], Δbounds=[5.39037981e-11 1.50257862e-10], tol=4.77e-10\n",
      "Iter 23: Δorbit=[1.20667365e-11 4.42120229e-11], Δbounds=[4.24552116e-10 4.39084658e-10], tol=2.38e-10\n",
      "Iter 24: Δorbit=[8.93256025e-11 1.39359801e-10], Δbounds=[1.40178424e-11 3.75560694e-11], tol=1.19e-10\n",
      "Iter 25: Δorbit=[2.92049718e-12 1.10328413e-11], Δbounds=[1.05696618e-10 1.09472542e-10], tol=5.96e-11\n",
      "Iter 26: Δorbit=[2.22005747e-11 3.46414009e-11], Δbounds=[3.55940277e-12 9.30644450e-12], tol=2.98e-11\n",
      "Iter 27: Δorbit=[6.48314735e-13 2.82707191e-12], Δbounds=[2.64638311e-11 2.73894796e-11], tol=1.49e-11\n",
      "Iter 28: Δorbit=[5.59582936e-12 8.69915251e-12], Δbounds=[8.07631739e-13 2.39908093e-12], tol=7.45e-12\n",
      "Iter 29: Δorbit=[2.13468132e-13 6.63580302e-13], Δbounds=[6.64296396e-12 6.84063917e-12], tol=3.73e-12\n",
      "Iter 30: Δorbit=[1.39036005e-12 2.16632268e-12], Δbounds=[2.17936780e-13 5.82256465e-13], tol=1.86e-12\n",
      "Iter 31: Δorbit=[4.14390744e-14 1.76969550e-13], Δbounds=[1.65931158e-12 1.71573866e-12], tol=9.31e-13\n",
      "Iter 32: Δorbit=[3.51746410e-13 5.46396262e-13], Δbounds=[5.03208586e-14 1.49935619e-13], tol=4.66e-13\n",
      "Iter 33: Δorbit=[1.32394096e-14 4.16333634e-14], Δbounds=[4.15362189e-13 4.27657909e-13], tol=2.33e-13\n",
      "Iter 34: Δorbit=[8.70969963e-14 1.35613742e-13], Δbounds=[1.33226763e-14 3.67483821e-14], tol=1.16e-13\n",
      "Iter 35: Δorbit=[2.83106871e-15 1.07136522e-14], Δbounds=[1.03417275e-13 1.07136522e-13], tol=5.82e-14\n",
      "Iter 36: Δorbit=[2.18713936e-14 3.40283357e-14], Δbounds=[3.16413562e-15 9.15933995e-15], tol=2.91e-14\n",
      "Iter 37: Δorbit=[7.77156117e-16 2.83106871e-15], Δbounds=[2.59237076e-14 2.68118860e-14], tol=1.46e-14\n",
      "Iter 38: Δorbit=[5.46784840e-15 8.60422844e-15], Δbounds=[8.8817842e-16 2.2759572e-15], tol=7.28e-15\n",
      "Iter 39: Δorbit=[1.66533454e-16 8.32667268e-16], Δbounds=[6.46704912e-15 6.77236045e-15], tol=3.64e-15\n",
      "Iter 40: Δorbit=[1.38777878e-15 2.27595720e-15], Δbounds=[1.11022302e-16 7.21644966e-16], tol=1.82e-15\n",
      "Iter 41: Δorbit=[1.11022302e-16 3.88578059e-16], Δbounds=[1.72084569e-15 1.49880108e-15], tol=9.09e-16\n",
      "Iter 42: Δorbit=[3.05311332e-16 6.66133815e-16], Δbounds=[1.38777878e-16 1.11022302e-16], tol=4.55e-16\n",
      "Converged after 42 iterations\n"
     ]
    }
   ],
   "source": [
    "saddle2 = ds.find_periodic_orbit(grid_points, period, parameters=k, tolerance=tolerance, verbose=True, tolerance_decay_factor=0.5, max_iter=1000)"
   ]
  },
  {
   "cell_type": "code",
   "execution_count": 6,
   "id": "671827bb",
   "metadata": {},
   "outputs": [
    {
     "data": {
      "text/plain": [
       "array([0.19397649, 0.38795298])"
      ]
     },
     "execution_count": 6,
     "metadata": {},
     "output_type": "execute_result"
    }
   ],
   "source": [
    "saddle2"
   ]
  },
  {
   "cell_type": "code",
   "execution_count": 7,
   "id": "7b57a6e7",
   "metadata": {},
   "outputs": [],
   "source": [
    "# array([0.19397649, 0.38795298]), 42"
   ]
  },
  {
   "cell_type": "code",
   "execution_count": 8,
   "id": "47e5ba49",
   "metadata": {},
   "outputs": [
    {
     "name": "stdout",
     "output_type": "stream",
     "text": [
      "[[1. 1.]\n",
      " [2. 2.]\n",
      " [3. 3.]] [False False  True  True  True False False False False False]\n"
     ]
    }
   ],
   "source": [
    "import numpy as np\n",
    "\n",
    "a = np.zeros((10, 2))\n",
    "a[2] = [1, 1]\n",
    "a[3] = [2, 2]\n",
    "a[4] = [3, 3]\n",
    "\n",
    "# Find nonzero rows\n",
    "nonzero_rows = np.any(a != 0, axis=1)\n",
    "\n",
    "# Extract nonzero rows into a new array (shape will be 3x2 here)\n",
    "nonzero_array = a[nonzero_rows]\n",
    "\n",
    "print(nonzero_array, nonzero_rows)"
   ]
  },
  {
   "cell_type": "code",
   "execution_count": 9,
   "id": "6dc131b7",
   "metadata": {},
   "outputs": [
    {
     "name": "stdout",
     "output_type": "stream",
     "text": [
      "3\n"
     ]
    }
   ],
   "source": [
    "count = np.count_nonzero(nonzero_rows)\n",
    "print(count) "
   ]
  },
  {
   "cell_type": "code",
   "execution_count": 10,
   "id": "d4c290e6",
   "metadata": {},
   "outputs": [
    {
     "name": "stdout",
     "output_type": "stream",
     "text": [
      "Number of non-zero rows: [3 3]\n"
     ]
    }
   ],
   "source": [
    "# Count the number of non-zero rows\n",
    "non_zero_count = np.count_nonzero(a, axis=0)\n",
    "print(\"Number of non-zero rows:\", non_zero_count)"
   ]
  },
  {
   "cell_type": "code",
   "execution_count": null,
   "id": "47836916",
   "metadata": {},
   "outputs": [],
   "source": []
  }
 ],
 "metadata": {
  "kernelspec": {
   "display_name": "base",
   "language": "python",
   "name": "python3"
  },
  "language_info": {
   "codemirror_mode": {
    "name": "ipython",
    "version": 3
   },
   "file_extension": ".py",
   "mimetype": "text/x-python",
   "name": "python",
   "nbconvert_exporter": "python",
   "pygments_lexer": "ipython3",
   "version": "3.12.2"
  }
 },
 "nbformat": 4,
 "nbformat_minor": 5
}

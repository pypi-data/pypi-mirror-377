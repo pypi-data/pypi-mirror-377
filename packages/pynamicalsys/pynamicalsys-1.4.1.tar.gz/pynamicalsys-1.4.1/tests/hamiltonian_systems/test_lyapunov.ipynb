{
 "cells": [
  {
   "cell_type": "code",
   "execution_count": 25,
   "id": "6124781a",
   "metadata": {},
   "outputs": [],
   "source": [
    "import numpy as np\n",
    "import matplotlib.pyplot as plt\n",
    "from pynamicalsys import PlotStyler\n",
    "from pynamicalsys import ContinuousDynamicalSystem as cds\n",
    "from pynamicalsys import HamiltonianSystem as HS"
   ]
  },
  {
   "cell_type": "code",
   "execution_count": 26,
   "id": "471cce05",
   "metadata": {},
   "outputs": [],
   "source": [
    "time_step = 0.01"
   ]
  },
  {
   "cell_type": "code",
   "execution_count": 27,
   "id": "71207ad0",
   "metadata": {},
   "outputs": [],
   "source": [
    "E = 1 / 8  # Total energy of the system\n",
    "x = 0  # Define the initial condition\n",
    "y = -0.25\n",
    "py = 0\n",
    "px = np.sqrt(2 * (E - x**2 * y + y**3 / 3) - x**2 - y**2 - py**2)\n",
    "\n",
    "dof = 2\n",
    "q = np.array([x, y])\n",
    "p = np.array([px, py])\n",
    "\n",
    "u = np.array([x, y, px, py])\n",
    "\n",
    "total_time = 10000"
   ]
  },
  {
   "cell_type": "code",
   "execution_count": 28,
   "id": "7df5a33c",
   "metadata": {},
   "outputs": [],
   "source": [
    "ds = cds(model=\"henon heiles\")\n",
    "ds.integrator(\"rk4\", time_step=time_step)"
   ]
  },
  {
   "cell_type": "code",
   "execution_count": 29,
   "id": "f1187977",
   "metadata": {},
   "outputs": [
    {
     "name": "stdout",
     "output_type": "stream",
     "text": [
      "CPU times: user 15.7 s, sys: 149 ms, total: 15.8 s\n",
      "Wall time: 15.9 s\n"
     ]
    }
   ],
   "source": [
    "%%time\n",
    "lyapunov_spectrum = ds.lyapunov(u, total_time, return_history=True)"
   ]
  },
  {
   "cell_type": "code",
   "execution_count": 30,
   "id": "66a5fb7a",
   "metadata": {},
   "outputs": [
    {
     "data": {
      "text/plain": [
       "(1000001, 5)"
      ]
     },
     "execution_count": 30,
     "metadata": {},
     "output_type": "execute_result"
    }
   ],
   "source": [
    "lyapunov_spectrum.shape"
   ]
  },
  {
   "cell_type": "code",
   "execution_count": 31,
   "id": "e1c198aa",
   "metadata": {},
   "outputs": [
    {
     "data": {
      "text/plain": [
       "(array([ 0.03787512,  0.00047846, -0.00064519, -0.0377084 ]),\n",
       " np.float64(-8.988268462850613e-12))"
      ]
     },
     "execution_count": 31,
     "metadata": {},
     "output_type": "execute_result"
    }
   ],
   "source": [
    "lyapunov_spectrum[-1, 1:], lyapunov_spectrum[-1, 1:].sum()"
   ]
  },
  {
   "cell_type": "code",
   "execution_count": 32,
   "id": "0d8c58d0",
   "metadata": {},
   "outputs": [],
   "source": [
    "hs = HS(model=\"henon heiles\")\n",
    "hs.integrator(\"svy4\", time_step=time_step)"
   ]
  },
  {
   "cell_type": "code",
   "execution_count": 33,
   "id": "b2856a59",
   "metadata": {},
   "outputs": [
    {
     "name": "stdout",
     "output_type": "stream",
     "text": [
      "CPU times: user 13.9 s, sys: 72.5 ms, total: 13.9 s\n",
      "Wall time: 13.9 s\n"
     ]
    }
   ],
   "source": [
    "%%time\n",
    "symp_lyapunov_spectrum = hs.lyapunov(q, p, total_time, return_history=True)"
   ]
  },
  {
   "cell_type": "code",
   "execution_count": 34,
   "id": "9edfe159",
   "metadata": {},
   "outputs": [
    {
     "name": "stdout",
     "output_type": "stream",
     "text": [
      "CPU times: user 3.22 s, sys: 15.7 ms, total: 3.24 s\n",
      "Wall time: 3.23 s\n"
     ]
    }
   ],
   "source": [
    "%%time\n",
    "symp_maximum_lyapunov = hs.lyapunov(q, p, total_time, return_history=True, num_exponents=1)"
   ]
  },
  {
   "cell_type": "code",
   "execution_count": 35,
   "id": "1adddd0d",
   "metadata": {},
   "outputs": [
    {
     "data": {
      "text/plain": [
       "(array([ 0.05221738,  0.00062833, -0.00079587, -0.05204984]),\n",
       " np.float64(4.163336342344337e-17),\n",
       " np.float64(0.05213832168306402))"
      ]
     },
     "execution_count": 35,
     "metadata": {},
     "output_type": "execute_result"
    }
   ],
   "source": [
    "symp_lyapunov_spectrum[-1, 1:], symp_lyapunov_spectrum[-1, 1:].sum(), symp_maximum_lyapunov[-1, 1]"
   ]
  },
  {
   "cell_type": "code",
   "execution_count": 36,
   "id": "395ecb3f",
   "metadata": {},
   "outputs": [],
   "source": [
    "hs.integrator(\"vv2\", time_step=time_step)"
   ]
  },
  {
   "cell_type": "code",
   "execution_count": 37,
   "id": "0654ab72",
   "metadata": {},
   "outputs": [
    {
     "name": "stdout",
     "output_type": "stream",
     "text": [
      "CPU times: user 6.92 s, sys: 41 ms, total: 6.96 s\n",
      "Wall time: 6.97 s\n"
     ]
    }
   ],
   "source": [
    "%%time\n",
    "symp_lyapunov_spectrum_vvs = hs.lyapunov(q, p, total_time, return_history=True)"
   ]
  },
  {
   "cell_type": "code",
   "execution_count": 38,
   "id": "50acf89f",
   "metadata": {},
   "outputs": [
    {
     "name": "stdout",
     "output_type": "stream",
     "text": [
      "CPU times: user 1.05 s, sys: 5.3 ms, total: 1.06 s\n",
      "Wall time: 1.05 s\n"
     ]
    }
   ],
   "source": [
    "%%time\n",
    "symp_maximum_lyapunov_vvs = hs.lyapunov(q, p, total_time, return_history=True, num_exponents=1)"
   ]
  },
  {
   "cell_type": "code",
   "execution_count": 39,
   "id": "127f7343",
   "metadata": {},
   "outputs": [
    {
     "data": {
      "text/plain": [
       "(array([ 0.05976596,  0.00065252, -0.00082032, -0.05959816]),\n",
       " np.float64(1.6653345369377348e-16),\n",
       " np.float64(0.05968683018507951))"
      ]
     },
     "execution_count": 39,
     "metadata": {},
     "output_type": "execute_result"
    }
   ],
   "source": [
    "symp_lyapunov_spectrum_vvs[-1, 1:], symp_lyapunov_spectrum_vvs[-1, 1:].sum(), symp_maximum_lyapunov_vvs[-1, 1]"
   ]
  },
  {
   "cell_type": "code",
   "execution_count": 40,
   "id": "34b43910",
   "metadata": {},
   "outputs": [
    {
     "data": {
      "text/plain": [
       "<Figure size 640x480 with 0 Axes>"
      ]
     },
     "metadata": {},
     "output_type": "display_data"
    },
    {
     "data": {
      "image/png": "[encoded data removed]",
      "text/plain": [
       "<Figure size 1000x300 with 1 Axes>"
      ]
     },
     "metadata": {},
     "output_type": "display_data"
    }
   ],
   "source": [
    "ps = PlotStyler(fontsize=18)\n",
    "ps.apply_style()\n",
    "\n",
    "fig, ax = plt.subplots(figsize=(10, 3))\n",
    "\n",
    "plt.plot(lyapunov_spectrum[:, 0], lyapunov_spectrum[:, 1], \"k\", label=\"RK4\")\n",
    "\n",
    "plt.plot(symp_lyapunov_spectrum[:, 0], symp_lyapunov_spectrum[:, 1], \"r\", label=\"SVY4\")\n",
    "plt.plot(symp_maximum_lyapunov[:, 0], symp_maximum_lyapunov[:, 1], \"r--\")\n",
    "\n",
    "plt.plot(symp_lyapunov_spectrum_vvs[:, 0], symp_lyapunov_spectrum_vvs[:, 1], \"b\", label=\"VV2\")\n",
    "plt.plot(symp_maximum_lyapunov_vvs[:, 0], symp_maximum_lyapunov_vvs[:, 1], \"b--\")\n",
    "\n",
    "plt.legend(loc=\"upper right\")\n",
    "plt.xlabel(\"Time\")\n",
    "plt.ylabel(r\"$\\lambda_1$\")\n",
    "plt.xscale(\"log\")\n",
    "# plt.ylim(1e-2, 0.4)\n",
    "# plt.yscale(\"log\")"
   ]
  },
  {
   "cell_type": "code",
   "execution_count": null,
   "id": "c5145ff5",
   "metadata": {},
   "outputs": [],
   "source": []
  }
 ],
 "metadata": {
  "kernelspec": {
   "display_name": "pynamicalsys-dev",
   "language": "python",
   "name": "python3"
  },
  "language_info": {
   "codemirror_mode": {
    "name": "ipython",
    "version": 3
   },
   "file_extension": ".py",
   "mimetype": "text/x-python",
   "name": "python",
   "nbconvert_exporter": "python",
   "pygments_lexer": "ipython3",
   "version": "3.12.2"
  }
 },
 "nbformat": 4,
 "nbformat_minor": 5
}

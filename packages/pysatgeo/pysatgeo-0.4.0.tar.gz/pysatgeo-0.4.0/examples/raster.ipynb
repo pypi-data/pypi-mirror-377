{
 "cells": [
  {
   "cell_type": "code",
   "execution_count": 1,
   "id": "a80f1d2d",
   "metadata": {},
   "outputs": [],
   "source": [
    "from pysatgeo import raster\n",
    "import glob\n",
    "import os"
   ]
  },
  {
   "cell_type": "code",
   "execution_count": 2,
   "id": "16f0409c",
   "metadata": {},
   "outputs": [],
   "source": [
    "# Stack Rasters through time composite operation"
   ]
  },
  {
   "cell_type": "code",
   "execution_count": 7,
   "id": "20aab1ed",
   "metadata": {},
   "outputs": [
    {
     "name": "stdout",
     "output_type": "stream",
     "text": [
      "Total number of TIFF files: 11\n"
     ]
    },
    {
     "data": {
      "text/plain": [
       "['E:\\\\Geospatial_Pessoal\\\\STAC_py\\\\ndvi_output\\\\NDVI_20170105_4326.tiff',\n",
       " 'E:\\\\Geospatial_Pessoal\\\\STAC_py\\\\ndvi_output\\\\NDVI_20170108_4326.tiff',\n",
       " 'E:\\\\Geospatial_Pessoal\\\\STAC_py\\\\ndvi_output\\\\NDVI_20170115_4326.tiff',\n",
       " 'E:\\\\Geospatial_Pessoal\\\\STAC_py\\\\ndvi_output\\\\NDVI_20170118_4326.tiff',\n",
       " 'E:\\\\Geospatial_Pessoal\\\\STAC_py\\\\ndvi_output\\\\NDVI_20170125_4326.tiff',\n",
       " 'E:\\\\Geospatial_Pessoal\\\\STAC_py\\\\ndvi_output\\\\NDVI_20170309_4326.tiff',\n",
       " 'E:\\\\Geospatial_Pessoal\\\\STAC_py\\\\ndvi_output\\\\NDVI_20170316_4326.tiff',\n",
       " 'E:\\\\Geospatial_Pessoal\\\\STAC_py\\\\ndvi_output\\\\NDVI_20170405_4326.tiff',\n",
       " 'E:\\\\Geospatial_Pessoal\\\\STAC_py\\\\ndvi_output\\\\NDVI_20170702_4326.tiff',\n",
       " 'E:\\\\Geospatial_Pessoal\\\\STAC_py\\\\ndvi_output\\\\NDVI_20170712_4326.tiff',\n",
       " 'E:\\\\Geospatial_Pessoal\\\\STAC_py\\\\ndvi_output\\\\NDVI_20170724_4326.tiff']"
      ]
     },
     "execution_count": 7,
     "metadata": {},
     "output_type": "execute_result"
    }
   ],
   "source": [
    "index_path = r\"E:\\Geospatial_Pessoal\\STAC_py\"\n",
    "\n",
    "raster_dir = fr\"{index_path}\\ndvi_output\"\n",
    "\n",
    "input_tiffs = glob.glob(os.path.join(raster_dir, '*.tiff')) + glob.glob(os.path.join(raster_dir, '*.tif'))\n",
    "\n",
    "total_tiffs = len(input_tiffs)\n",
    "print(f\"Total number of TIFF files: {total_tiffs}\")\n",
    "\n",
    "input_tiffs\n"
   ]
  },
  {
   "cell_type": "code",
   "execution_count": 8,
   "id": "30d109de",
   "metadata": {},
   "outputs": [],
   "source": [
    "tiff_files = input_tiffs\n",
    "output_tiff = fr\"{raster_dir}\\pedrogao_grande_mean_ndvi_2017.tiff\"\n",
    "aoi_shapefile = r\"E:\\Geospatial_Pessoal\\STAC_py\\pedrogao_grande_area_ardida_2017.geojson\""
   ]
  },
  {
   "cell_type": "code",
   "execution_count": null,
   "id": "4374515b",
   "metadata": {},
   "outputs": [
    {
     "name": "stdout",
     "output_type": "stream",
     "text": [
      "Starting the processing... E:\\Geospatial_Pessoal\\STAC_py\\ndvi_output\\NDVI_20170105_4326.tiff\n",
      "Starting the processing... E:\\Geospatial_Pessoal\\STAC_py\\ndvi_output\\NDVI_20170108_4326.tiff\n",
      "Starting the processing... E:\\Geospatial_Pessoal\\STAC_py\\ndvi_output\\NDVI_20170115_4326.tiff\n",
      "Starting the processing... E:\\Geospatial_Pessoal\\STAC_py\\ndvi_output\\NDVI_20170118_4326.tiff\n",
      "Starting the processing... E:\\Geospatial_Pessoal\\STAC_py\\ndvi_output\\NDVI_20170125_4326.tiff\n",
      "Starting the processing... E:\\Geospatial_Pessoal\\STAC_py\\ndvi_output\\NDVI_20170309_4326.tiff\n",
      "Starting the processing... E:\\Geospatial_Pessoal\\STAC_py\\ndvi_output\\NDVI_20170316_4326.tiff\n",
      "Starting the processing... E:\\Geospatial_Pessoal\\STAC_py\\ndvi_output\\NDVI_20170405_4326.tiff\n",
      "Starting the processing... E:\\Geospatial_Pessoal\\STAC_py\\ndvi_output\\NDVI_20170702_4326.tiff\n",
      "Starting the processing... E:\\Geospatial_Pessoal\\STAC_py\\ndvi_output\\NDVI_20170712_4326.tiff\n",
      "Starting the processing... E:\\Geospatial_Pessoal\\STAC_py\\ndvi_output\\NDVI_20170724_4326.tiff\n",
      "Stacked mean Raster saved at E:\\Geospatial_Pessoal\\STAC_py\\ndvi_output\\pedrogao_grande_mean_ndvi_2017.tiff\n"
     ]
    },
    {
     "data": {
      "text/plain": [
       "'E:\\\\Geospatial_Pessoal\\\\STAC_py\\\\ndvi_output\\\\pedrogao_grande_mean_ndvi_2017.tiff'"
      ]
     },
     "execution_count": 9,
     "metadata": {},
     "output_type": "execute_result"
    }
   ],
   "source": [
    "## Calculate Average (mean) input tiffs\n",
    "\n",
    "%%capture\n",
    "\n",
    "raster.stack_rasters(tiff_files, output_tiff, aoi_shapefile, chunk_size=None, operation='mean')"
   ]
  },
  {
   "cell_type": "code",
   "execution_count": null,
   "id": "f0f7054a",
   "metadata": {},
   "outputs": [],
   "source": []
  }
 ],
 "metadata": {
  "kernelspec": {
   "display_name": "pysatgeo",
   "language": "python",
   "name": "python3"
  },
  "language_info": {
   "codemirror_mode": {
    "name": "ipython",
    "version": 3
   },
   "file_extension": ".py",
   "mimetype": "text/x-python",
   "name": "python",
   "nbconvert_exporter": "python",
   "pygments_lexer": "ipython3",
   "version": "3.11.13"
  }
 },
 "nbformat": 4,
 "nbformat_minor": 5
}

{
 "cells": [
  {
   "cell_type": "code",
   "execution_count": null,
   "id": "87d2b59f-5dcc-4128-aa0b-a472a467b9bd",
   "metadata": {},
   "outputs": [],
   "source": [
    "from pprint import pprint\n",
    "\n",
    "from dotenv import load_dotenv\n",
    "from pysfmc import SFMCClient"
   ]
  },
  {
   "cell_type": "markdown",
   "id": "b9273719-1a6b-4315-9eca-637084e53b81",
   "metadata": {},
   "source": [
    "# Warnings\n",
    "\n",
    "This notebook operates API calls in SFMC and one of the thing it does is creating a new Category (Folder). \n",
    "\n",
    "Be sure to be in a sandboxed environment and to change the parent folder of the category you'd like to create (ids should not be the same for your environment and ours)."
   ]
  },
  {
   "cell_type": "code",
   "execution_count": null,
   "id": "0a2a7c23-6cd7-434f-961c-eaa4eb19a069",
   "metadata": {},
   "outputs": [],
   "source": [
    "# You should have the following variables at hand:\n",
    "# - SFMC_CLIENT_ID\n",
    "# - SFMC_CLIENT_SECRET\n",
    "# - SFMC_ACCOUNT_ID\n",
    "# - SFMC_SUBDOMAIN\n",
    "load_dotenv()"
   ]
  },
  {
   "cell_type": "code",
   "execution_count": null,
   "id": "7c58168d-5550-4b18-91b6-17fce9e48c67",
   "metadata": {},
   "outputs": [],
   "source": [
    "# instantiate the client (can be done in context manager)\n",
    "client = SFMCClient()"
   ]
  },
  {
   "cell_type": "code",
   "execution_count": null,
   "id": "702860e8-736d-429c-aae3-a82334193f22",
   "metadata": {},
   "outputs": [],
   "source": [
    "# get the 3 first categories\n",
    "first3_categories = client.assets.categories.get_categories(page_size=3, order_by=\"parentId\")"
   ]
  },
  {
   "cell_type": "code",
   "execution_count": null,
   "id": "3a34bcc6-4fe9-4ad9-8a43-3db89e67b091",
   "metadata": {},
   "outputs": [],
   "source": [
    "first3_categories"
   ]
  },
  {
   "cell_type": "code",
   "execution_count": null,
   "id": "7cc11499-815f-411e-a7a5-8425c4ebecb3",
   "metadata": {},
   "outputs": [],
   "source": [
    "pprint(first3_categories.model_dump())"
   ]
  },
  {
   "cell_type": "code",
   "execution_count": null,
   "id": "77szieb67ef",
   "metadata": {},
   "outputs": [],
   "source": [
    "# let's assume that I want to create a new category \n",
    "# under the parent category having as ID 108336.\n",
    "\n",
    "# first let's retrieve this parent category\n",
    "parent_category = client.assets.categories.get_category_by_id(108336)\n",
    "parent_category"
   ]
  },
  {
   "cell_type": "code",
   "execution_count": null,
   "id": "08b338ac-0985-4515-869c-2ccd5238275b",
   "metadata": {},
   "outputs": [],
   "source": [
    "# Good it exists. What if it doesn't?\n",
    "client.assets.categories.get_category_by_id(9999999)\n",
    "# spoiler : SFMCNotFoundError (404)"
   ]
  },
  {
   "cell_type": "code",
   "execution_count": null,
   "id": "vu9j8lo5n3k",
   "metadata": {},
   "outputs": [],
   "source": [
    "# Let's create a new category under this one\n",
    "new_category = client.assets.categories.create_category(name=\"YAC - Yet Another Category\", parent_id=108336)\n",
    "new_category"
   ]
  },
  {
   "cell_type": "code",
   "execution_count": null,
   "id": "9e806aa4-2543-48df-9bf3-968a5ebfd249",
   "metadata": {},
   "outputs": [],
   "source": []
  }
 ],
 "metadata": {
  "kernelspec": {
   "display_name": "Python 3 (ipykernel)",
   "language": "python",
   "name": "python3"
  },
  "language_info": {
   "codemirror_mode": {
    "name": "ipython",
    "version": 3
   },
   "file_extension": ".py",
   "mimetype": "text/x-python",
   "name": "python",
   "nbconvert_exporter": "python",
   "pygments_lexer": "ipython3",
   "version": "3.10.16"
  }
 },
 "nbformat": 4,
 "nbformat_minor": 5
}

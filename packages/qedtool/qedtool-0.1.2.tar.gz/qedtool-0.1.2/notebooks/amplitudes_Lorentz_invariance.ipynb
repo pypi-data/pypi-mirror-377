{
 "cells": [
  {
   "cell_type": "markdown",
   "id": "44da9f78",
   "metadata": {},
   "source": [
    "# Lorentz invariance of Feynman amplitudes"
   ]
  },
  {
   "cell_type": "markdown",
   "id": "f09d3ae6",
   "metadata": {},
   "source": [
    "In this notebook we test the Lorentz invariance of Feynman amplitudes. We will consider Compton scattering and Møller scattering amplitudes. For this, we only need `numpy` and `qedtool`."
   ]
  },
  {
   "cell_type": "code",
   "execution_count": 1,
   "id": "5d0e3313",
   "metadata": {},
   "outputs": [],
   "source": [
    "import numpy as np\n",
    "import qedtool as qtl"
   ]
  },
  {
   "cell_type": "markdown",
   "id": "160e9ba9",
   "metadata": {},
   "source": [
    "## Compton scattering\n",
    "\n",
    "First, we define all quantities that define the kinematics:"
   ]
  },
  {
   "cell_type": "code",
   "execution_count": 2,
   "id": "c593bc3c",
   "metadata": {},
   "outputs": [],
   "source": [
    "# Constants\n",
    "m = qtl.constant(\"electron mass\")\n",
    "e = qtl.constant(\"elementary charge\")\n",
    "\n",
    "# Other quantities that define the kinematics\n",
    "p = 0.2\n",
    "phi = 0.14\n",
    "theta = np.pi/2\n",
    "energy = np.sqrt(p**2 + m**2)"
   ]
  },
  {
   "cell_type": "markdown",
   "id": "237dc09b",
   "metadata": {},
   "source": [
    "Then, all external and internal 4-momenta are defined:"
   ]
  },
  {
   "cell_type": "code",
   "execution_count": 3,
   "id": "6b4eed44",
   "metadata": {},
   "outputs": [],
   "source": [
    "# Initial 4-momenta\n",
    "kmu_1 = qtl.FourVector(p, p, 0, 0)\n",
    "pmu_1 = qtl.FourVector(energy, p, np.pi, 0)\n",
    "\n",
    "# Final 4-momenta\n",
    "kmu_2 = qtl.FourVector(p, p, theta, phi)\n",
    "pmu_2 = qtl.FourVector(energy, p, np.pi - theta, phi + np.pi)\n",
    "\n",
    "# Internal 4-momenta\n",
    "qmu_1 = pmu_1 + kmu_1\n",
    "qmu_2 = pmu_1 - kmu_2"
   ]
  },
  {
   "cell_type": "markdown",
   "id": "2e4919bb",
   "metadata": {},
   "source": [
    "Here we let all external particles be right-handed. Users can change this to consider other polarized scattering."
   ]
  },
  {
   "cell_type": "code",
   "execution_count": 4,
   "id": "eee6b394",
   "metadata": {},
   "outputs": [],
   "source": [
    "# External particles\n",
    "electron_1 = qtl.RealParticle.electron(1, pmu_1, \"in\")\n",
    "electron_2 = qtl.RealParticle.electron(1, pmu_2, \"out\")\n",
    "photon_1 = qtl.RealParticle.photon(1, kmu_1, \"in\")\n",
    "photon_2 = qtl.RealParticle.photon(1, kmu_2, \"out\")\n",
    "\n",
    "# Internal particles\n",
    "fermion_1 = qtl.VirtualParticle.electron(qmu_1)\n",
    "fermion_2 = qtl.VirtualParticle.electron(qmu_2)"
   ]
  },
  {
   "cell_type": "markdown",
   "id": "721588cf",
   "metadata": {},
   "source": [
    "Here we retrieve all polarizations and propagators, with which we construct the total amplitude:"
   ]
  },
  {
   "cell_type": "code",
   "execution_count": 5,
   "id": "82213aca",
   "metadata": {},
   "outputs": [],
   "source": [
    "# Electron spinors\n",
    "u1 = electron_1.polarization.bispinor\n",
    "u2 = electron_2.polarization.bispinor\n",
    "\n",
    "# Photon polarization matrices\n",
    "e1 = -1j * e * qtl.slashed(photon_1.polarization)\n",
    "e2 = -1j * e * qtl.slashed(photon_2.polarization)\n",
    "\n",
    "# Propagators\n",
    "g1 = fermion_1.propagator\n",
    "g2 = fermion_2.propagator\n",
    "\n",
    "# Total amplitude\n",
    "amplitude_compton = u2.dot(e2).dot(g1).dot(e1).dot(u1) + u2.dot(e1).dot(g2).dot(e2).dot(u1)"
   ]
  },
  {
   "cell_type": "markdown",
   "id": "c1b33190",
   "metadata": {},
   "source": [
    "Now we only boost the particles:"
   ]
  },
  {
   "cell_type": "code",
   "execution_count": 6,
   "id": "e326fe9f",
   "metadata": {},
   "outputs": [],
   "source": [
    "# Boost vector\n",
    "beta = qtl.ThreeVector(0.9, 1.4, 0.7)\n",
    "\n",
    "# Boosted external particles\n",
    "electron_1b = qtl.boost(electron_1, beta)\n",
    "electron_2b = qtl.boost(electron_2, beta)\n",
    "photon_1b = qtl.boost(photon_1, beta)\n",
    "photon_2b = qtl.boost(photon_2, beta)\n",
    "\n",
    "# Boosted internal particles\n",
    "fermion_1b = qtl.boost(fermion_1, beta)\n",
    "fermion_2b = qtl.boost(fermion_2, beta)"
   ]
  },
  {
   "cell_type": "markdown",
   "id": "21da8a5b",
   "metadata": {},
   "source": [
    "Now we compute the amplitude with the boosted polarizations and propagators:"
   ]
  },
  {
   "cell_type": "code",
   "execution_count": 7,
   "id": "cb182e39",
   "metadata": {},
   "outputs": [],
   "source": [
    "# Boosted polarizations and propagators\n",
    "u1b = electron_1b.polarization.bispinor\n",
    "u2b = electron_2b.polarization.bispinor            \n",
    "e1b = -1j * e * qtl.slashed(photon_1b.polarization)\n",
    "e2b = -1j * e * qtl.slashed(photon_2b.polarization)\n",
    "g1b = fermion_1b.propagator\n",
    "g2b = fermion_2b.propagator\n",
    "    \n",
    "# Total amplitude\n",
    "amplitude_compton_b = u2b.dot(e2b).dot(g1b).dot(e1b).dot(u1b) + u2b.dot(e1b).dot(g2b).dot(e2b).dot(u1b)"
   ]
  },
  {
   "cell_type": "markdown",
   "id": "8c15bc88",
   "metadata": {},
   "source": [
    "Comparing the unboosted and boosted amplitudes:"
   ]
  },
  {
   "cell_type": "code",
   "execution_count": 8,
   "id": "0046d227",
   "metadata": {},
   "outputs": [
    {
     "name": "stdout",
     "output_type": "stream",
     "text": [
      "True\n"
     ]
    }
   ],
   "source": [
    "decimals_compton = 15\n",
    "print(np.round(amplitude_compton_b, decimals_compton) == np.round(amplitude_compton, decimals_compton))"
   ]
  },
  {
   "cell_type": "markdown",
   "id": "4aa0f5d5",
   "metadata": {},
   "source": [
    "Up to 15 decimals, they are the same, i.e. the amplitude is Lorentz invariant. The photon polarization matrices are rank-2 spin tensors that satisfy\n",
    "\n",
    "$$\\gamma^\\mu (\\Lambda^{\\hphantom{\\mu}\\nu}_\\mu\\epsilon_\\nu) = \\Lambda_{1/2}(\\gamma^\\mu\\epsilon_\\mu)\\Lambda^{-1}_{1/2}\\,.$$\n",
    "\n",
    "We verify this relation with the following lines:"
   ]
  },
  {
   "cell_type": "code",
   "execution_count": 9,
   "id": "cbddbad1",
   "metadata": {},
   "outputs": [
    {
     "name": "stdout",
     "output_type": "stream",
     "text": [
      "[[ True  True  True  True]\n",
      " [ True  True  True  True]\n",
      " [ True  True  True  True]\n",
      " [ True  True  True  True]]\n"
     ]
    }
   ],
   "source": [
    "spin_boost = qtl.boost_matrix(beta, \"bispinor\")\n",
    "spin_boost_inv = np.linalg.inv(spin_boost)\n",
    "print(np.round(e1b, 15) == np.round(spin_boost.dot(e1).dot(spin_boost_inv), 15))"
   ]
  },
  {
   "cell_type": "markdown",
   "id": "40eedc79",
   "metadata": {},
   "source": [
    "## Møller scattering\n",
    "\n",
    "Here we will compute and boost the scattering amplitude for elastic electron-electron scattering, i.e. Møller scattering. Here we define the 4-momenta from the CM frame:"
   ]
  },
  {
   "cell_type": "code",
   "execution_count": 10,
   "id": "9954337a",
   "metadata": {},
   "outputs": [],
   "source": [
    "# Initial 4-momenta\n",
    "pmu_1i = qtl.FourVector(energy, p, 0, 0)\n",
    "pmu_2i = qtl.FourVector(energy, p, np.pi, 0)\n",
    "\n",
    "# Final 4-momenta\n",
    "pmu_1f = qtl.FourVector(energy, p, theta, phi)\n",
    "pmu_2f = qtl.FourVector(energy, p, np.pi - theta, phi + np.pi)\n",
    "\n",
    "# Internal 4-momenta\n",
    "qmu_t = pmu_1i - pmu_1f\n",
    "qmu_u = pmu_1i - pmu_2f"
   ]
  },
  {
   "cell_type": "markdown",
   "id": "36852047",
   "metadata": {},
   "source": [
    "Then we define the initial and final electrons:"
   ]
  },
  {
   "cell_type": "code",
   "execution_count": 11,
   "id": "4d8373c1",
   "metadata": {},
   "outputs": [],
   "source": [
    "# External electrons\n",
    "electron_1i = qtl.RealParticle.electron(1, pmu_1i, \"in\")\n",
    "electron_2i = qtl.RealParticle.electron(1, pmu_2i, \"in\")\n",
    "electron_1f = qtl.RealParticle.electron(1, pmu_1f, \"out\")\n",
    "electron_2f = qtl.RealParticle.electron(1, pmu_2f, \"out\")"
   ]
  },
  {
   "cell_type": "markdown",
   "id": "f238d58f",
   "metadata": {},
   "source": [
    "The scattering amplitudes of the $t$- and $u$-channels can be written as $\\smash{i\\mathcal{M} \\propto \\frac{1}{q^2}\\tilde{\\imath}_\\mu\\tilde{\\jmath}^\\mu}$ where $q^2$ is the Lorentzian norm of the virtual photon's 4-momentum, and $\\tilde{\\imath}$ and $\\tilde{\\jmath}$ are U(1) currents of the form $\\bar{u}\\gamma^\\mu u$. Therefore we retrieve polarizations and define the currents:"
   ]
  },
  {
   "cell_type": "code",
   "execution_count": 12,
   "id": "15f1c60c",
   "metadata": {},
   "outputs": [],
   "source": [
    "# Polarizations\n",
    "u1i = electron_1i.polarization\n",
    "u2i = electron_2i.polarization\n",
    "u1f = electron_1f.polarization\n",
    "u2f = electron_2f.polarization\n",
    "\n",
    "# Dirac currents\n",
    "jmu_11 = qtl.FourVector.dirac_current(u1f, u1i)\n",
    "jmu_12 = qtl.FourVector.dirac_current(u2f, u1i)\n",
    "jmu_21 = qtl.FourVector.dirac_current(u1f, u2i)\n",
    "jmu_22 = qtl.FourVector.dirac_current(u2f, u2i)"
   ]
  },
  {
   "cell_type": "markdown",
   "id": "9a38233e",
   "metadata": {},
   "source": [
    "We calculate the total amplitude as the difference between the $t$-channel and $u$-channel amplitudes, as an exchange of electrons yields a minus sign:"
   ]
  },
  {
   "cell_type": "code",
   "execution_count": 13,
   "id": "fee326c2",
   "metadata": {},
   "outputs": [],
   "source": [
    "amplitude_moller = jmu_11 * jmu_22 / (qmu_t * qmu_t) - jmu_21 * jmu_12  / (qmu_u * qmu_u)"
   ]
  },
  {
   "cell_type": "markdown",
   "id": "cd6916f6",
   "metadata": {},
   "source": [
    "By boosting the external electrons, we boost their spinors: $u \\to \\Lambda_{\\frac{1}{2}}u$ and $\\bar{u} \\to \\bar{u}\\Lambda^{-1}_{\\frac{1}{2}}$:"
   ]
  },
  {
   "cell_type": "code",
   "execution_count": 14,
   "id": "defdd576",
   "metadata": {},
   "outputs": [],
   "source": [
    "# Boosted external electrons\n",
    "electron_1ib = qtl.boost(electron_1i, beta)\n",
    "electron_2ib = qtl.boost(electron_2i, beta)\n",
    "electron_1fb = qtl.boost(electron_1f, beta)\n",
    "electron_2fb = qtl.boost(electron_2f, beta)"
   ]
  },
  {
   "cell_type": "markdown",
   "id": "78328921",
   "metadata": {},
   "source": [
    "Retrieving the boosted polarizations to form boosted Dirac currents:"
   ]
  },
  {
   "cell_type": "code",
   "execution_count": 15,
   "id": "0453a411",
   "metadata": {},
   "outputs": [],
   "source": [
    "# Boosted internal momenta\n",
    "qmu_tb = qtl.boost(qmu_t, beta)\n",
    "qmu_ub = qtl.boost(qmu_u, beta)\n",
    "\n",
    "# Boosted polarizations\n",
    "u1ib = electron_1ib.polarization\n",
    "u2ib = electron_2ib.polarization\n",
    "u1fb = electron_1fb.polarization\n",
    "u2fb = electron_2fb.polarization\n",
    "\n",
    "# Boosted Dirac currents\n",
    "jmu_11b = qtl.FourVector.dirac_current(u1fb, u1ib)\n",
    "jmu_12b = qtl.FourVector.dirac_current(u2fb, u1ib)\n",
    "jmu_21b = qtl.FourVector.dirac_current(u1fb, u2ib)\n",
    "jmu_22b = qtl.FourVector.dirac_current(u2fb, u2ib)"
   ]
  },
  {
   "cell_type": "markdown",
   "id": "b421329f",
   "metadata": {},
   "source": [
    "Here we compute the boosted amplitude:"
   ]
  },
  {
   "cell_type": "code",
   "execution_count": 16,
   "id": "8ccf502c",
   "metadata": {},
   "outputs": [],
   "source": [
    "amplitude_moller_b = jmu_11b * jmu_22b / (qmu_tb * qmu_tb) - jmu_21b * jmu_12b  / (qmu_ub * qmu_ub)"
   ]
  },
  {
   "cell_type": "markdown",
   "id": "0e7ee9db",
   "metadata": {},
   "source": [
    "We round both amplitudes down to some decimal, since floating point errors are inevitable. Comparing the two:"
   ]
  },
  {
   "cell_type": "code",
   "execution_count": 17,
   "id": "798cc9da",
   "metadata": {},
   "outputs": [
    {
     "name": "stdout",
     "output_type": "stream",
     "text": [
      "True\n"
     ]
    }
   ],
   "source": [
    "decimals_moller = 13\n",
    "print(np.round(amplitude_moller_b, decimals_moller) == np.round(amplitude_moller, decimals_moller))"
   ]
  },
  {
   "cell_type": "markdown",
   "id": "7e542e1e",
   "metadata": {},
   "source": [
    "The unboosted and boosted amplitudes are equal up to 13 decimals. We should also find that\n",
    "\n",
    "$$\\Lambda^{\\mu}_{\\hphantom{\\mu}\\nu}\\,\\tilde{\\jmath}^\\nu = \\bar{u}\\Lambda^{-1}_{1/2}\\gamma^\\mu\\Lambda_{1/2}u\\,,$$\n",
    "\n",
    "which we test with the following lines:"
   ]
  },
  {
   "cell_type": "code",
   "execution_count": 18,
   "id": "4022519a",
   "metadata": {},
   "outputs": [
    {
     "name": "stdout",
     "output_type": "stream",
     "text": [
      "[ True  True  True  True]\n"
     ]
    }
   ],
   "source": [
    "# 4-vector boost of jmu_11\n",
    "jmu_11b2 = qtl.boost(jmu_11, beta)\n",
    "\n",
    "# Comparison of the two (test of the equation above)\n",
    "print(np.round(jmu_11b2.vector, 14) == np.round(jmu_11b.vector, 14))"
   ]
  }
 ],
 "metadata": {
  "kernelspec": {
   "display_name": "Python 3 (ipykernel)",
   "language": "python",
   "name": "python3"
  },
  "language_info": {
   "codemirror_mode": {
    "name": "ipython",
    "version": 3
   },
   "file_extension": ".py",
   "mimetype": "text/x-python",
   "name": "python",
   "nbconvert_exporter": "python",
   "pygments_lexer": "ipython3",
   "version": "3.11.5"
  }
 },
 "nbformat": 4,
 "nbformat_minor": 5
}

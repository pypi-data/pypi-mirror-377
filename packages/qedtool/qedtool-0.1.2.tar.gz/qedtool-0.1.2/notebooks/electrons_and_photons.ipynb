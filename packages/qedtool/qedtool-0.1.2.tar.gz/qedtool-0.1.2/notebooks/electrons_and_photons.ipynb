{
 "cells": [
  {
   "cell_type": "markdown",
   "id": "830e735d",
   "metadata": {},
   "source": [
    "# The `RealParticle` class, electrons and photons\n",
    "\n",
    "In this notebook, we will consider electrons and photons, created using the `RealParticle` class."
   ]
  },
  {
   "cell_type": "code",
   "execution_count": 1,
   "id": "e7b5dbe6",
   "metadata": {},
   "outputs": [],
   "source": [
    "import numpy as np\n",
    "import qedtool as qtl"
   ]
  },
  {
   "cell_type": "markdown",
   "id": "642c1bf9",
   "metadata": {},
   "source": [
    "## Electrons\n",
    "\n",
    "We begin by creating an electron in the rest frame, i.e. its 4-momentum is $p = (m,\\mathbf{0})$. Moreover, the electron is in the spin-up state with the $z$-axis as the quantization axis:"
   ]
  },
  {
   "cell_type": "code",
   "execution_count": 2,
   "id": "1c6a899c",
   "metadata": {},
   "outputs": [],
   "source": [
    "m = qtl.constant(\"electron mass\")\n",
    "pmu = qtl.FourVector(m, 0, 0, 0)\n",
    "electron = qtl.RealParticle.electron(1, pmu, \"in\")"
   ]
  },
  {
   "cell_type": "markdown",
   "id": "e07365b0",
   "metadata": {},
   "source": [
    "Now we actively boost the electron in the $z$-direction with $|\\boldsymbol{\\beta}| = 0.7$:"
   ]
  },
  {
   "cell_type": "code",
   "execution_count": 3,
   "id": "e02c3620",
   "metadata": {},
   "outputs": [],
   "source": [
    "# Boost 3-vector\n",
    "beta_z = qtl.ThreeVector(0.7, 0, 0)\n",
    "\n",
    "# Boost the electron\n",
    "electron_b = qtl.boost(electron, beta_z)"
   ]
  },
  {
   "cell_type": "markdown",
   "id": "2a848868",
   "metadata": {},
   "source": [
    "In _An introduction to quantum field theory_ by M.E. Peskin and D.V. Schroeder, the boosted Dirac spinor is given by\n",
    "\n",
    "$$\\Lambda_{\\frac{1}{2}} u(p) = \n",
    "\\begin{pmatrix}\n",
    "    \\sqrt{\\varepsilon_\\mathbf{p} - |\\mathbf{p}|} \\\\ 0 \\\\ \\sqrt{\\varepsilon_\\mathbf{p} + |\\mathbf{p}|} \\\\ 0\n",
    "\\end{pmatrix}\\,,$$\n",
    "\n",
    "where $\\varepsilon_\\mathbf{p} = (\\Lambda p)^0$ and $|\\mathbf{p}|$ is the Euclidean norm of the boosted $p$:"
   ]
  },
  {
   "cell_type": "code",
   "execution_count": 4,
   "id": "fe9bc2cc",
   "metadata": {},
   "outputs": [],
   "source": [
    "# Boosted spinor from literature\n",
    "p = electron_b.four_momentum.sphericals[1]\n",
    "energy = electron_b.four_momentum.sphericals[0]\n",
    "psi_b_literature = np.array([np.sqrt(energy - p), 0, np.sqrt(energy + p), 0], dtype=complex)"
   ]
  },
  {
   "cell_type": "markdown",
   "id": "8733c362",
   "metadata": {},
   "source": [
    "Here we compare the numerical result with the literary result:"
   ]
  },
  {
   "cell_type": "code",
   "execution_count": 5,
   "id": "6a1af150",
   "metadata": {},
   "outputs": [
    {
     "name": "stdout",
     "output_type": "stream",
     "text": [
      "literary:  [0.46331732+0.j 0.        +0.j 1.10291582+0.j 0.        +0.j]\n",
      "numerical: [0.46331732+0.j 0.        +0.j 1.10291582+0.j 0.        +0.j]\n"
     ]
    }
   ],
   "source": [
    "print(\"literary: \", psi_b_literature)\n",
    "print(\"numerical:\", electron_b.polarization.bispinor)"
   ]
  },
  {
   "cell_type": "markdown",
   "id": "e186e8e3",
   "metadata": {},
   "source": [
    "In the large boost limit, a spin-up Dirac spinor should become (see Peskin and Schroeder)\n",
    "\n",
    "$$\\Lambda_{\\frac{1}{2}} u_\\uparrow(p) = \\sqrt{2\\varepsilon_\\mathbf{p}}\n",
    "\\begin{pmatrix}\n",
    "    0 \\\\ 0 \\\\ 1 \\\\ 0\n",
    "\\end{pmatrix}\\,,$$\n",
    "\n",
    "which we will check here:"
   ]
  },
  {
   "cell_type": "code",
   "execution_count": 6,
   "id": "78cb15b8",
   "metadata": {},
   "outputs": [
    {
     "name": "stdout",
     "output_type": "stream",
     "text": [
      "literary:  [0.       +0.j 0.       +0.j 8.5010658+0.j 0.       +0.j]\n",
      "numerical: [0.06011161+0.j 0.        +0.j 8.50085327+0.j 0.        +0.j]\n"
     ]
    }
   ],
   "source": [
    "# High-speed boost 3-vector\n",
    "beta_large = qtl.ThreeVector(0.9999, 0, 0)\n",
    "\n",
    "# Boosted electron\n",
    "electron_large = qtl.boost(electron, beta_large)\n",
    "\n",
    "# Construct the literary result\n",
    "energy_large = electron_large.four_momentum.sphericals[0]\n",
    "psi_large_literature = np.array([0, 0, np.sqrt(2*energy_large), 0], dtype=complex)\n",
    "\n",
    "# Comparison\n",
    "print(\"literary: \", psi_large_literature)\n",
    "print(\"numerical:\", electron_large.polarization.bispinor)"
   ]
  },
  {
   "cell_type": "markdown",
   "id": "1e6d0f08",
   "metadata": {},
   "source": [
    "Users can verify by letting $|\\boldsymbol{\\beta}|$ approach closer to unity, that the difference between literary and numerical results above reduces. We will now create another electron, `electron_2`, and we will consider some of its properties:"
   ]
  },
  {
   "cell_type": "code",
   "execution_count": 7,
   "id": "71fd23b8",
   "metadata": {},
   "outputs": [],
   "source": [
    "p_2 = 0.5\n",
    "energy_2 = np.sqrt(p_2**2 + m**2)\n",
    "pmu_2 = qtl.FourVector(energy_2, p_2, 0.4, 1.6)\n",
    "electron_2 = qtl.RealParticle.electron(1, pmu_2, \"in\")"
   ]
  },
  {
   "cell_type": "markdown",
   "id": "e829c3e8",
   "metadata": {},
   "source": [
    "`electron_2` travels at a speed"
   ]
  },
  {
   "cell_type": "code",
   "execution_count": 8,
   "id": "b5be14f9",
   "metadata": {},
   "outputs": [
    {
     "name": "stdout",
     "output_type": "stream",
     "text": [
      "0.6993718406068214\n"
     ]
    }
   ],
   "source": [
    "velocity_2 = qtl.ThreeVector.beta(pmu_2)\n",
    "print(np.sqrt(velocity_2 * velocity_2))"
   ]
  },
  {
   "cell_type": "markdown",
   "id": "d0461ec1",
   "metadata": {},
   "source": [
    "A rotation of the bispinor around an arbitrary axis by an angle $2\\pi$ should yield the same bispinor with a minus sign:"
   ]
  },
  {
   "cell_type": "code",
   "execution_count": 9,
   "id": "45a617d1",
   "metadata": {},
   "outputs": [
    {
     "name": "stdout",
     "output_type": "stream",
     "text": [
      "original:   [ 0.4544+0.j     -0.0027+0.0921j  1.0803+0.j     -0.0064+0.2189j]\n",
      "2π-rotated: [-0.4544-0.j      0.0027-0.0921j -1.0803-0.j      0.0064-0.2189j]\n"
     ]
    }
   ],
   "source": [
    "# Polarization of `electron_2`\n",
    "psi_0 = electron_2.polarization\n",
    "\n",
    "# Rotation by 2π around some arbitrary axis\n",
    "angle_vector_2pi = 2 * np.pi * qtl.ThreeVector(1, 0.4, 0.3)\n",
    "psi_2pi = qtl.rotation(psi_0, angle_vector_2pi)\n",
    "\n",
    "print(\"original:  \", np.round(psi_0.bispinor, 4))\n",
    "print(\"2π-rotated:\", np.round(psi_2pi.bispinor, 4))"
   ]
  },
  {
   "cell_type": "markdown",
   "id": "ac2dbba1",
   "metadata": {},
   "source": [
    "Moreover, a $4\\pi$-rotation (around the same arbitrary axis) must give the same Dirac spinor:"
   ]
  },
  {
   "cell_type": "code",
   "execution_count": 10,
   "id": "9ec5895b",
   "metadata": {},
   "outputs": [
    {
     "name": "stdout",
     "output_type": "stream",
     "text": [
      "original:   [ 0.4544+0.j     -0.0027+0.0921j  1.0803+0.j     -0.0064+0.2189j]\n",
      "4π-rotated: [ 0.4544+0.j     -0.0027+0.0921j  1.0803+0.j     -0.0064+0.2189j]\n"
     ]
    }
   ],
   "source": [
    "# Rotation by 4π around some arbitrary axis\n",
    "angle_vector_4pi = 4 * np.pi * qtl.ThreeVector(1, 0.4, 0.3)\n",
    "psi_4pi = qtl.rotation(psi_0, angle_vector_4pi)\n",
    "\n",
    "print(\"original:  \", np.round(psi_0.bispinor, 4))\n",
    "print(\"4π-rotated:\", np.round(psi_4pi.bispinor, 4))"
   ]
  },
  {
   "cell_type": "markdown",
   "id": "cdd1b213",
   "metadata": {},
   "source": [
    "## Photons\n",
    "\n",
    "Here we will study some properties of photons. We begin by forming a left-handed 7 MeV photon in some arbitrary direction:"
   ]
  },
  {
   "cell_type": "code",
   "execution_count": 11,
   "id": "2c0e049b",
   "metadata": {},
   "outputs": [],
   "source": [
    "w = 7\n",
    "kmu = qtl.FourVector(w, w, 1.5, 0.3)\n",
    "photon = qtl.RealParticle.photon(-1, kmu, \"in\")"
   ]
  },
  {
   "cell_type": "markdown",
   "id": "9c0b9367",
   "metadata": {},
   "source": [
    "Its 4-polarization should be orthogonal to its 4-momentum, i.e. $k\\cdot\\epsilon = 0$:"
   ]
  },
  {
   "cell_type": "code",
   "execution_count": 12,
   "id": "b0f1f40a",
   "metadata": {},
   "outputs": [
    {
     "name": "stdout",
     "output_type": "stream",
     "text": [
      "-4.440892098500626e-16j\n"
     ]
    }
   ],
   "source": [
    "emu = photon.polarization\n",
    "print(kmu * emu)"
   ]
  },
  {
   "cell_type": "markdown",
   "id": "84cc9875",
   "metadata": {},
   "source": [
    "Additionally, the photon travels at the speed of light, hence its speed equals"
   ]
  },
  {
   "cell_type": "code",
   "execution_count": 13,
   "id": "a6bb23a6",
   "metadata": {},
   "outputs": [
    {
     "name": "stdout",
     "output_type": "stream",
     "text": [
      "1.0\n"
     ]
    }
   ],
   "source": [
    "velocity_photon = qtl.ThreeVector.beta(kmu)\n",
    "print(np.sqrt(velocity_photon * velocity_photon))"
   ]
  },
  {
   "cell_type": "markdown",
   "id": "1a076814",
   "metadata": {},
   "source": [
    "If we now boost the photon into some other arbitrary direction, this transversality condition should still hold. First we boost the photon:"
   ]
  },
  {
   "cell_type": "code",
   "execution_count": 14,
   "id": "d698ed2c",
   "metadata": {},
   "outputs": [],
   "source": [
    "# Arbitrary boost 3-vector\n",
    "beta = qtl.ThreeVector(0.8, 0.6, 0.7)\n",
    "\n",
    "# Boosted photon\n",
    "photon_b = qtl.boost(photon, beta)"
   ]
  },
  {
   "cell_type": "markdown",
   "id": "7e35462b",
   "metadata": {},
   "source": [
    "Retrieving the boosted 4-polarization and 4-momentum, and checking the transversality and squared 4-momentum:"
   ]
  },
  {
   "cell_type": "code",
   "execution_count": 15,
   "id": "acc379c1",
   "metadata": {},
   "outputs": [
    {
     "name": "stdout",
     "output_type": "stream",
     "text": [
      "k . e = (3.552713678800501e-15-3.3306690738754696e-16j)\n",
      "k . k = -9.947598300641403e-14\n"
     ]
    }
   ],
   "source": [
    "emu_b = photon_b.polarization\n",
    "kmu_b = photon_b.four_momentum\n",
    "print(\"k . e =\", kmu_b * emu_b)\n",
    "print(\"k . k =\", kmu_b * kmu_b)"
   ]
  },
  {
   "cell_type": "markdown",
   "id": "0418a083",
   "metadata": {},
   "source": [
    "Hence, as expected, the transversality condition also holds in the new frame, and the photon's 4-momentum is still light-like."
   ]
  }
 ],
 "metadata": {
  "kernelspec": {
   "display_name": "Python 3 (ipykernel)",
   "language": "python",
   "name": "python3"
  },
  "language_info": {
   "codemirror_mode": {
    "name": "ipython",
    "version": 3
   },
   "file_extension": ".py",
   "mimetype": "text/x-python",
   "name": "python",
   "nbconvert_exporter": "python",
   "pygments_lexer": "ipython3",
   "version": "3.11.5"
  }
 },
 "nbformat": 4,
 "nbformat_minor": 5
}

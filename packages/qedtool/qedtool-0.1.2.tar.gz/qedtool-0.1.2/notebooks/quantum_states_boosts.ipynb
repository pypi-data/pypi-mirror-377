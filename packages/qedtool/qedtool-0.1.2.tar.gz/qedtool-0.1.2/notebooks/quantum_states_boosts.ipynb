{
 "cells": [
  {
   "cell_type": "markdown",
   "id": "b3434948",
   "metadata": {},
   "source": [
    "# Quantum states and Lorentz transformations\n",
    "\n",
    "In this notebook, we will define quantum momentum-polarization states with the `QuantumState` class. We can Lorentz transform these states, and they transform depending on their 4-momenta. The two types of particles we consider here are massive Dirac fermions and photons."
   ]
  },
  {
   "cell_type": "code",
   "execution_count": 1,
   "id": "1ac67c4a",
   "metadata": {},
   "outputs": [],
   "source": [
    "import numpy as np\n",
    "import qedtool as qtl"
   ]
  },
  {
   "cell_type": "markdown",
   "id": "f2bd5279",
   "metadata": {},
   "source": [
    "## Massive Dirac fermions\n",
    "\n",
    "The first example is a mixed state of two massive Dirac fermions with opposite 4-momenta $p_\\pm = (\\varepsilon_\\mathbf{p}, \\pm\\mathbf{p})$. The density matrix of their state is given by $\\rho = w_1|\\psi_1\\rangle\\langle\\psi_1| + w_2|\\psi_2\\rangle\\langle\\psi_2|$ where\n",
    "\n",
    "$$|\\psi_1\\rangle = \\frac{i}{\\sqrt{2}}\\Big( |p_+,\\mathrm{L};p_-,\\mathrm{L}\\rangle - |p_+,\\mathrm{R};p_-,\\mathrm{R}\\rangle \\Big)\\,, \\qquad\\qquad\n",
    "|\\psi_2\\rangle = |p_+,\\mathrm{V};p_-,\\mathrm{V}\\rangle\\,,$$\n",
    "\n",
    "with $w_1 = \\frac{4}{5}$ and $w_2 = \\frac{1}{5}$. We will first define the 4-momenta, working in keV units:"
   ]
  },
  {
   "cell_type": "code",
   "execution_count": 2,
   "id": "7f7152c3",
   "metadata": {},
   "outputs": [],
   "source": [
    "# Energy and momentum values\n",
    "m = qtl.constant(\"electron mass\", \"keV\")\n",
    "p = 50\n",
    "ep = np.sqrt(p**2 + m**2)\n",
    "\n",
    "# 4-momenta\n",
    "pmu_1 = qtl.FourVector(ep, p, 1.2, 0.3)\n",
    "pmu_2 = -pmu_1"
   ]
  },
  {
   "cell_type": "markdown",
   "id": "a010cb77",
   "metadata": {},
   "source": [
    "Next, we define the single particle states $|p_\\pm,\\mathrm{L}\\rangle$, $|p_\\pm,\\mathrm{R}\\rangle$ and $|p_\\pm,\\mathrm{V}\\rangle$:"
   ]
  },
  {
   "cell_type": "code",
   "execution_count": 3,
   "id": "f095357d",
   "metadata": {},
   "outputs": [],
   "source": [
    "l_p1 = qtl.QuantumState.single(pmu_1, \"L\")\n",
    "l_p2 = qtl.QuantumState.single(pmu_2, \"L\")\n",
    "r_p1 = qtl.QuantumState.single(pmu_1, \"R\")\n",
    "r_p2 = qtl.QuantumState.single(pmu_2, \"R\")\n",
    "v_p1 = qtl.QuantumState.single(pmu_1, \"V\")\n",
    "v_p2 = qtl.QuantumState.single(pmu_2, \"V\")"
   ]
  },
  {
   "cell_type": "markdown",
   "id": "4195c789",
   "metadata": {},
   "source": [
    "From the single-particle momentum eigenstates, we form the mixed state:"
   ]
  },
  {
   "cell_type": "code",
   "execution_count": 4,
   "id": "cec7a1e4",
   "metadata": {},
   "outputs": [],
   "source": [
    "# Pure components\n",
    "psi_1 = 1j * (l_p1 * l_p2 - r_p1 * r_p2) / np.sqrt(2)\n",
    "psi_2 = v_p1 * v_p2\n",
    "pures = [psi_1, psi_2]\n",
    "\n",
    "# Classical weights\n",
    "weights = [4/5, 1/5]\n",
    "\n",
    "# Mixed state\n",
    "psi = qtl.QuantumState.mixed(pures, weights)"
   ]
  },
  {
   "cell_type": "markdown",
   "id": "bd47eb96",
   "metadata": {},
   "source": [
    "The mixed state has a density matrix given by"
   ]
  },
  {
   "cell_type": "code",
   "execution_count": 5,
   "id": "d37a3f4b",
   "metadata": {},
   "outputs": [
    {
     "name": "stdout",
     "output_type": "stream",
     "text": [
      "[[ 0.45+0.j -0.05+0.j -0.05+0.j -0.35+0.j]\n",
      " [-0.05+0.j  0.05+0.j  0.05+0.j -0.05+0.j]\n",
      " [-0.05+0.j  0.05+0.j  0.05+0.j -0.05+0.j]\n",
      " [-0.35+0.j -0.05+0.j -0.05+0.j  0.45+0.j]]\n"
     ]
    }
   ],
   "source": [
    "print(psi.rho)"
   ]
  },
  {
   "cell_type": "markdown",
   "id": "831fb197",
   "metadata": {},
   "source": [
    "We could also compute the $3\\times3$ Stokes matrix $S_{ij}$"
   ]
  },
  {
   "cell_type": "code",
   "execution_count": 6,
   "id": "1349c799",
   "metadata": {},
   "outputs": [
    {
     "name": "stdout",
     "output_type": "stream",
     "text": [
      "[[-0.6  0.   0. ]\n",
      " [ 0.   0.8  0. ]\n",
      " [ 0.   0.   0.8]]\n"
     ]
    }
   ],
   "source": [
    "stokes_matrix = np.array([[qtl.stokes_parameter(psi, [1, 1]), \n",
    "                           qtl.stokes_parameter(psi, [1, 2]),\n",
    "                           qtl.stokes_parameter(psi, [1, 3])],\n",
    "                          [qtl.stokes_parameter(psi, [2, 1]), \n",
    "                           qtl.stokes_parameter(psi, [2, 2]),\n",
    "                           qtl.stokes_parameter(psi, [2, 3])],\n",
    "                          [qtl.stokes_parameter(psi, [3, 1]), \n",
    "                           qtl.stokes_parameter(psi, [3, 2]),\n",
    "                           qtl.stokes_parameter(psi, [3, 3])]])\n",
    "print(stokes_matrix)"
   ]
  },
  {
   "cell_type": "markdown",
   "id": "beb11292",
   "metadata": {},
   "source": [
    "We will now boost the two-fermion state, first in a manner that induces a helicity flip. For this, we retrieve the 3-velocity of the first Dirac fermion:"
   ]
  },
  {
   "cell_type": "code",
   "execution_count": 7,
   "id": "fecdd396",
   "metadata": {},
   "outputs": [],
   "source": [
    "beta_1 = qtl.ThreeVector.beta(pmu_1)"
   ]
  },
  {
   "cell_type": "markdown",
   "id": "6873fd0f",
   "metadata": {},
   "source": [
    "By boosting the single particle states with a boost vector $\\alpha\\boldsymbol{\\beta}_1$ with $\\alpha\\in\\mathbb{R}$ and $\\alpha > 0$, we can investigate the behavior of the helicity eigenstates for $\\alpha \\approx 1$. If $\\alpha>1$, we should observe a helicity flip, and if $\\alpha<1$ this should not be observed."
   ]
  },
  {
   "cell_type": "code",
   "execution_count": 8,
   "id": "933d7520",
   "metadata": {},
   "outputs": [],
   "source": [
    "# Factor by which the boost vector is multiplied\n",
    "alpha = 1.1\n",
    "\n",
    "# Boost the single-particle states\n",
    "l_p1b = qtl.boost(l_p1, alpha * beta_1)\n",
    "l_p2b = qtl.boost(l_p2, alpha * beta_1)\n",
    "r_p1b = qtl.boost(r_p1, alpha * beta_1)\n",
    "r_p2b = qtl.boost(r_p2, alpha * beta_1)\n",
    "v_p1b = qtl.boost(v_p1, alpha * beta_1)\n",
    "v_p2b = qtl.boost(v_p2, alpha * beta_1)"
   ]
  },
  {
   "cell_type": "markdown",
   "id": "921dd901",
   "metadata": {},
   "source": [
    "If `alpha` is larger than unity, we expect that the handedness of the first fermion remains unchanged, while the handedness of the second fermion is flipped:"
   ]
  },
  {
   "cell_type": "code",
   "execution_count": 9,
   "id": "3f2edd00",
   "metadata": {},
   "outputs": [
    {
     "name": "stdout",
     "output_type": "stream",
     "text": [
      "fermion 1: [1.-0.j 0.-0.j]\n",
      "fermion 2: [ 0.+0.j -0.+1.j]\n"
     ]
    }
   ],
   "source": [
    "print(\"fermion 1:\", np.round(l_p1b.ket))\n",
    "print(\"fermion 2:\", np.round(l_p2b.ket))"
   ]
  },
  {
   "cell_type": "markdown",
   "id": "ca8afe27",
   "metadata": {},
   "source": [
    "From the boosted single-particle states, we construct our boosted mixed state:"
   ]
  },
  {
   "cell_type": "code",
   "execution_count": 10,
   "id": "5e2dadf3",
   "metadata": {},
   "outputs": [],
   "source": [
    "# Pure components\n",
    "psi_1b = 1j * (l_p1b * l_p2b - r_p1b * r_p2b) / np.sqrt(2)\n",
    "psi_2b = v_p1b * v_p2b\n",
    "pures_b = [psi_1b, psi_2b]\n",
    "\n",
    "# Mixed state\n",
    "psi_b = qtl.QuantumState.mixed(pures_b, weights)"
   ]
  },
  {
   "cell_type": "markdown",
   "id": "866385ae",
   "metadata": {},
   "source": [
    "The boosted mixed state has a density matrix"
   ]
  },
  {
   "cell_type": "code",
   "execution_count": 11,
   "id": "7795889f",
   "metadata": {},
   "outputs": [
    {
     "name": "stdout",
     "output_type": "stream",
     "text": [
      "[[ 0.05+0.j -0.05-0.j -0.05+0.j  0.05-0.j]\n",
      " [-0.05+0.j  0.45+0.j -0.35-0.j -0.05-0.j]\n",
      " [-0.05-0.j -0.35+0.j  0.45-0.j -0.05+0.j]\n",
      " [ 0.05+0.j -0.05+0.j -0.05-0.j  0.05-0.j]]\n"
     ]
    }
   ],
   "source": [
    "print(np.round(psi_b.rho, 2))"
   ]
  },
  {
   "cell_type": "markdown",
   "id": "98cd3d54",
   "metadata": {},
   "source": [
    "which, if $\\alpha > 1$, differs from the unboosted density matrix. If we boost a helicity-momentum eigenstate in some arbitrary direction, i.e. not in the direction of its momentum, we obtain a mixture of helicity-momentum eigenstates:"
   ]
  },
  {
   "cell_type": "code",
   "execution_count": 12,
   "id": "7f7cde6a",
   "metadata": {},
   "outputs": [
    {
     "name": "stdout",
     "output_type": "stream",
     "text": [
      "[ 0.64314432-0.33921143j -0.04476236-0.68505279j]\n"
     ]
    }
   ],
   "source": [
    "# Arbitrary boost vector\n",
    "beta = qtl.ThreeVector(0.6, 1.1, 2.2)\n",
    "\n",
    "# Boosted left-handed massive Dirac fermion\n",
    "l_p1_beta = qtl.boost(l_p1, beta)\n",
    "print(l_p1_beta.ket)"
   ]
  },
  {
   "cell_type": "markdown",
   "id": "5618d4c6",
   "metadata": {},
   "source": [
    "## Photons\n",
    "\n",
    "Here we will consider quantum states of photons. We first define light-like 4-momenta $k_\\pm = |\\mathbf{k}|(1,\\pm\\hat{\\mathbf{k}})$ and corresponding single-particle momentum eigenstates:"
   ]
  },
  {
   "cell_type": "code",
   "execution_count": 13,
   "id": "b9cf2a52",
   "metadata": {},
   "outputs": [],
   "source": [
    "# Light-like 4-momentum kmu\n",
    "k = 2\n",
    "kmu_1 = qtl.FourVector(k, k, 0.2, 0.4)\n",
    "kmu_2 = -kmu_1\n",
    "\n",
    "# Massless single-particle states\n",
    "l_k1 = qtl.QuantumState.single(kmu_1, \"L\")\n",
    "l_k2 = qtl.QuantumState.single(kmu_2, \"L\")\n",
    "r_k1 = qtl.QuantumState.single(kmu_1, \"R\")\n",
    "r_k2 = qtl.QuantumState.single(kmu_2, \"R\")\n",
    "h_k1 = qtl.QuantumState.single(kmu_1, \"H\")\n",
    "h_k2 = qtl.QuantumState.single(kmu_2, \"H\")\n",
    "v_k1 = qtl.QuantumState.single(kmu_1, \"V\")\n",
    "v_k2 = qtl.QuantumState.single(kmu_2, \"V\")"
   ]
  },
  {
   "cell_type": "markdown",
   "id": "54586e41",
   "metadata": {},
   "source": [
    "The helicity of a photon is Lorentz invariant. When boosted, a photon's helicity eigenstate vector solely acquires a helicity-dependent phase $e^{i\\lambda\\theta}$ where $\\lambda$ is the helicity and $\\theta$ is the phase (see _Quantum theory of fields, volume I: Foundations_ by S. Weinberg)."
   ]
  },
  {
   "cell_type": "code",
   "execution_count": 14,
   "id": "b255dce8",
   "metadata": {},
   "outputs": [
    {
     "name": "stdout",
     "output_type": "stream",
     "text": [
      "[0.08625176-0.99627337j 0.        +0.j        ]\n"
     ]
    }
   ],
   "source": [
    "l_k1_beta = qtl.boost(l_k1, beta)\n",
    "print(l_k1_beta.ket)"
   ]
  },
  {
   "cell_type": "markdown",
   "id": "d71208a4",
   "metadata": {},
   "source": [
    "Consider e.g.\n",
    "\n",
    "$$|\\Psi\\rangle = \\frac{1}{\\sqrt{2}}\\Big( |k_+,\\mathrm{H};k_-,\\mathrm{V}\\rangle - |k_+,\\mathrm{V};k_-,\\mathrm{H}\\rangle \\Big)\\,,$$\n",
    "\n",
    "which we create and boost with the following lines:"
   ]
  },
  {
   "cell_type": "code",
   "execution_count": 15,
   "id": "706de336",
   "metadata": {},
   "outputs": [],
   "source": [
    "# Two-photon Bell state\n",
    "photons = (h_k1 * v_k2 - v_k1 * h_k2) / np.sqrt(2)\n",
    "\n",
    "# Boosted horizontal and verticle single-particle modes\n",
    "h_k1b = qtl.boost(h_k1, beta)\n",
    "h_k2b = qtl.boost(h_k2, beta)\n",
    "v_k1b = qtl.boost(v_k1, beta)\n",
    "v_k2b = qtl.boost(v_k2, beta)\n",
    "\n",
    "# Boosted two-photon Bell state\n",
    "photons_b = (h_k1b * v_k2b - v_k1b * h_k2b) / np.sqrt(2)"
   ]
  },
  {
   "cell_type": "markdown",
   "id": "4c077292",
   "metadata": {},
   "source": [
    "Here we will compare the Stokes matrices of $|\\Psi\\rangle$ and $U(\\Lambda)|\\Psi\\rangle$:"
   ]
  },
  {
   "cell_type": "code",
   "execution_count": 16,
   "id": "2acd414b",
   "metadata": {},
   "outputs": [
    {
     "name": "stdout",
     "output_type": "stream",
     "text": [
      "Original:\n",
      "[[-1.  0.  0.]\n",
      " [ 0. -1.  0.]\n",
      " [ 0.  0. -1.]]\n",
      "\n",
      "Boosted:\n",
      "[[-0.52068348  0.85374979  0.        ]\n",
      " [-0.85374979 -0.52068348  0.        ]\n",
      " [ 0.          0.         -1.        ]]\n"
     ]
    }
   ],
   "source": [
    "photons_stokes = np.array([[qtl.stokes_parameter(photons, [1, 1]), \n",
    "                            qtl.stokes_parameter(photons, [1, 2]),\n",
    "                            qtl.stokes_parameter(photons, [1, 3])],\n",
    "                           [qtl.stokes_parameter(photons, [2, 1]), \n",
    "                            qtl.stokes_parameter(photons, [2, 2]),\n",
    "                            qtl.stokes_parameter(photons, [2, 3])],\n",
    "                           [qtl.stokes_parameter(photons, [3, 1]), \n",
    "                            qtl.stokes_parameter(photons, [3, 2]),\n",
    "                            qtl.stokes_parameter(photons, [3, 3])]])\n",
    "\n",
    "photons_stokes_b = np.array([[qtl.stokes_parameter(photons_b, [1, 1]), \n",
    "                              qtl.stokes_parameter(photons_b, [1, 2]),\n",
    "                              qtl.stokes_parameter(photons_b, [1, 3])],\n",
    "                             [qtl.stokes_parameter(photons_b, [2, 1]), \n",
    "                              qtl.stokes_parameter(photons_b, [2, 2]),\n",
    "                              qtl.stokes_parameter(photons_b, [2, 3])],\n",
    "                             [qtl.stokes_parameter(photons_b, [3, 1]), \n",
    "                              qtl.stokes_parameter(photons_b, [3, 2]),\n",
    "                              qtl.stokes_parameter(photons_b, [3, 3])]])\n",
    "\n",
    "print(\"Original:\")\n",
    "print(photons_stokes)\n",
    "print()\n",
    "print(\"Boosted:\")\n",
    "print(photons_stokes_b)"
   ]
  },
  {
   "cell_type": "markdown",
   "id": "707b390a",
   "metadata": {},
   "source": [
    "We see that the linear polarization modes mix due to the helicity dependence on the acquired phase, while the circular polarization modes (definite helicity) are conserved."
   ]
  }
 ],
 "metadata": {
  "kernelspec": {
   "display_name": "Python 3 (ipykernel)",
   "language": "python",
   "name": "python3"
  },
  "language_info": {
   "codemirror_mode": {
    "name": "ipython",
    "version": 3
   },
   "file_extension": ".py",
   "mimetype": "text/x-python",
   "name": "python",
   "nbconvert_exporter": "python",
   "pygments_lexer": "ipython3",
   "version": "3.11.5"
  }
 },
 "nbformat": 4,
 "nbformat_minor": 5
}

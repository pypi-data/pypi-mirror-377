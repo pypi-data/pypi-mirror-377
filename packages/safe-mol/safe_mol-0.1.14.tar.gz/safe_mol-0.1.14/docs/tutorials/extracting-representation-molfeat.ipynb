{
 "cells": [
  {
   "cell_type": "code",
   "execution_count": 1,
   "metadata": {},
   "outputs": [],
   "source": [
    "%load_ext autoreload\n",
    "%autoreload 2"
   ]
  },
  {
   "cell_type": "code",
   "execution_count": 2,
   "metadata": {},
   "outputs": [],
   "source": [
    "import safe\n",
    "import torch\n",
    "import datamol as dm\n",
    "import types\n",
    "from molfeat.trans.pretrained import PretrainedMolTransformer\n",
    "from molfeat.trans.pretrained import PretrainedHFTransformer\n",
    "\n",
    "from molfeat.trans.pretrained.hf_transformers import HFModel\n",
    "from safe.trainer.model import SAFEDoubleHeadsModel\n",
    "from safe.tokenizer import SAFETokenizer\n"
   ]
  },
  {
   "cell_type": "markdown",
   "metadata": {},
   "source": [
    "## Loading the SAFE-GPT model into molfeat\n",
    "\n",
    "Because the SAFE model is not a standard HuggingFace `transformers` model, we need to wrap it.\n",
    "\n",
    "Why are we doing this ? Because we want to leverage the structure of `molfeat` and not have to write our own pooling for the model. This can be done by using the huggingface molecule transformer `PretrainedHFTransformer`  rather than the general purpose pretrained model class `PretrainedMolTransformer` where we will have to define our own `_embed` and `_convert` function."
   ]
  },
  {
   "cell_type": "code",
   "execution_count": 3,
   "metadata": {},
   "outputs": [],
   "source": [
    "safe_model = SAFEDoubleHeadsModel.from_pretrained(\"datamol-io/safe-gpt\")\n",
    "safe_tokenizer = SAFETokenizer.from_pretrained(\"datamol-io/safe-gpt\")"
   ]
  },
  {
   "cell_type": "markdown",
   "metadata": {},
   "source": [
    "We now need to build the `molfeat`'s `HFModel` instance by wrapping our model."
   ]
  },
  {
   "cell_type": "code",
   "execution_count": 4,
   "metadata": {},
   "outputs": [],
   "source": [
    "safe_hf_model = HFModel.from_pretrained(safe_model, safe_tokenizer.get_pretrained())"
   ]
  },
  {
   "cell_type": "markdown",
   "metadata": {},
   "source": [
    "You can put the above process in the `__init__` of the `SAFEMolTransformer` if you wish as we will be doing below."
   ]
  },
  {
   "cell_type": "markdown",
   "metadata": {},
   "source": [
    "## Building the SAFE Molecule Transformers\n",
    "\n",
    "We have multiple options here, we can override the `_convert` method or even the `_embed` method but the best thing about `molfeat` is how flexible it is and all the shortcuts it provides. \n",
    "\n",
    "In this case, we just need to change the custom \n",
    "# so really we just need our custom converter"
   ]
  },
  {
   "cell_type": "code",
   "execution_count": 20,
   "metadata": {},
   "outputs": [
    {
     "name": "stderr",
     "output_type": "stream",
     "text": [
      "\u001b[32m2023-12-20 22:57:39.310\u001b[0m | \u001b[33m\u001b[1mWARNING \u001b[0m | \u001b[36mmolfeat.trans.base\u001b[0m:\u001b[36m__init__\u001b[0m:\u001b[36m51\u001b[0m - \u001b[33m\u001b[1mThe 'SAFEMolTransformer' interaction has been superseded by a new class with id 0x2ad77d6a0\u001b[0m\n"
     ]
    }
   ],
   "source": [
    "class SAFEMolTransformer(PretrainedHFTransformer):\n",
    "    \"\"\"Build the SAFE Molecule transformers, the only thing we need to define is \n",
    "    how we convert the input molecules into the safe format\"\"\"\n",
    "    def __init__(self, kind=None, notation=\"safe\", **kwargs):\n",
    "        if kind is None:\n",
    "            # we load the default SAFE model if the exact SAFE GPT model \n",
    "            # to use is not provided\n",
    "            safe_model = SAFEDoubleHeadsModel.from_pretrained(\"datamol-io/safe-gpt\")\n",
    "            safe_tokenizer = SAFETokenizer.from_pretrained(\"datamol-io/safe-gpt\")\n",
    "            kind = HFModel.from_pretrained(safe_model, safe_tokenizer.get_pretrained())\n",
    "        super().__init__(kind, notation=None, **kwargs)\n",
    "        # now we change the internal converter\n",
    "        # overriding the internal converter of SmilesConverter leverages the exception handling\n",
    "        # The SAFE-GPT model was trained on a slightly different splitting algorithm compared to the default BRICS\n",
    "        # this does not change anything in theory, it just try harder to break bonds even if there are no BRICS bonds.\n",
    "        self.converter.converter = types.SimpleNamespace(decode=safe.decode, encode=safe.utils.convert_to_safe)\n",
    "        # you could also do any of the following:\n",
    "        # self.converter = types.SimpleNamespace(decode=safe.decode, encode=safe.encode)\n",
    "        # self.converter = safe # the safe module\n"
   ]
  },
  {
   "cell_type": "markdown",
   "metadata": {},
   "source": [
    "Let's use the GPT pooler which uses the last non padding token (often `eos`) since the model is GPT2 like. For other options, see: https://molfeat-docs.datamol.io/stable/api/molfeat.utils.html#pooling"
   ]
  },
  {
   "cell_type": "code",
   "execution_count": 116,
   "metadata": {},
   "outputs": [
    {
     "data": {
      "text/html": [
       "<style>#sk-container-id-14 {color: black;}#sk-container-id-14 pre{padding: 0;}#sk-container-id-14 div.sk-toggleable {background-color: white;}#sk-container-id-14 label.sk-toggleable__label {cursor: pointer;display: block;width: 100%;margin-bottom: 0;padding: 0.3em;box-sizing: border-box;text-align: center;}#sk-container-id-14 label.sk-toggleable__label-arrow:before {content: \"▸\";float: left;margin-right: 0.25em;color: #696969;}#sk-container-id-14 label.sk-toggleable__label-arrow:hover:before {color: black;}#sk-container-id-14 div.sk-estimator:hover label.sk-toggleable__label-arrow:before {color: black;}#sk-container-id-14 div.sk-toggleable__content {max-height: 0;max-width: 0;overflow: hidden;text-align: left;background-color: #f0f8ff;}#sk-container-id-14 div.sk-toggleable__content pre {margin: 0.2em;color: black;border-radius: 0.25em;background-color: #f0f8ff;}#sk-container-id-14 input.sk-toggleable__control:checked~div.sk-toggleable__content {max-height: 200px;max-width: 100%;overflow: auto;}#sk-container-id-14 input.sk-toggleable__control:checked~label.sk-toggleable__label-arrow:before {content: \"▾\";}#sk-container-id-14 div.sk-estimator input.sk-toggleable__control:checked~label.sk-toggleable__label {background-color: #d4ebff;}#sk-container-id-14 div.sk-label input.sk-toggleable__control:checked~label.sk-toggleable__label {background-color: #d4ebff;}#sk-container-id-14 input.sk-hidden--visually {border: 0;clip: rect(1px 1px 1px 1px);clip: rect(1px, 1px, 1px, 1px);height: 1px;margin: -1px;overflow: hidden;padding: 0;position: absolute;width: 1px;}#sk-container-id-14 div.sk-estimator {font-family: monospace;background-color: #f0f8ff;border: 1px dotted black;border-radius: 0.25em;box-sizing: border-box;margin-bottom: 0.5em;}#sk-container-id-14 div.sk-estimator:hover {background-color: #d4ebff;}#sk-container-id-14 div.sk-parallel-item::after {content: \"\";width: 100%;border-bottom: 1px solid gray;flex-grow: 1;}#sk-container-id-14 div.sk-label:hover label.sk-toggleable__label {background-color: #d4ebff;}#sk-container-id-14 div.sk-serial::before {content: \"\";position: absolute;border-left: 1px solid gray;box-sizing: border-box;top: 0;bottom: 0;left: 50%;z-index: 0;}#sk-container-id-14 div.sk-serial {display: flex;flex-direction: column;align-items: center;background-color: white;padding-right: 0.2em;padding-left: 0.2em;position: relative;}#sk-container-id-14 div.sk-item {position: relative;z-index: 1;}#sk-container-id-14 div.sk-parallel {display: flex;align-items: stretch;justify-content: center;background-color: white;position: relative;}#sk-container-id-14 div.sk-item::before, #sk-container-id-14 div.sk-parallel-item::before {content: \"\";position: absolute;border-left: 1px solid gray;box-sizing: border-box;top: 0;bottom: 0;left: 50%;z-index: -1;}#sk-container-id-14 div.sk-parallel-item {display: flex;flex-direction: column;z-index: 1;position: relative;background-color: white;}#sk-container-id-14 div.sk-parallel-item:first-child::after {align-self: flex-end;width: 50%;}#sk-container-id-14 div.sk-parallel-item:last-child::after {align-self: flex-start;width: 50%;}#sk-container-id-14 div.sk-parallel-item:only-child::after {width: 0;}#sk-container-id-14 div.sk-dashed-wrapped {border: 1px dashed gray;margin: 0 0.4em 0.5em 0.4em;box-sizing: border-box;padding-bottom: 0.4em;background-color: white;}#sk-container-id-14 div.sk-label label {font-family: monospace;font-weight: bold;display: inline-block;line-height: 1.2em;}#sk-container-id-14 div.sk-label-container {text-align: center;}#sk-container-id-14 div.sk-container {/* jupyter's `normalize.less` sets `[hidden] { display: none; }` but bootstrap.min.css set `[hidden] { display: none !important; }` so we also need the `!important` here to be able to override the default hidden behavior on the sphinx rendered scikit-learn.org. See: https://github.com/scikit-learn/scikit-learn/issues/21755 */display: inline-block !important;position: relative;}#sk-container-id-14 div.sk-text-repr-fallback {display: none;}</style><div id=\"sk-container-id-14\" class=\"sk-top-container\"><div class=\"sk-text-repr-fallback\"><pre>SAFEMolTransformer(dtype=np.float32)</pre><b>In a Jupyter environment, please rerun this cell to show the HTML representation or trust the notebook. <br />On GitHub, the HTML representation is unable to render, please try loading this page with nbviewer.org.</b></div><div class=\"sk-container\" hidden><div class=\"sk-item\"><div class=\"sk-estimator sk-toggleable\"><input class=\"sk-toggleable__control sk-hidden--visually\" id=\"sk-estimator-id-14\" type=\"checkbox\" checked><label for=\"sk-estimator-id-14\" class=\"sk-toggleable__label sk-toggleable__label-arrow\">SAFEMolTransformer</label><div class=\"sk-toggleable__content\"><pre>SAFEMolTransformer(dtype=np.float32)</pre></div></div></div></div></div>"
      ],
      "text/plain": [
       "SAFEMolTransformer(dtype=np.float32)"
      ]
     },
     "execution_count": 116,
     "metadata": {},
     "output_type": "execute_result"
    }
   ],
   "source": [
    "# Let's use the GPT pooling method and only take the last hidden layer\n",
    "safe_transformers = SAFEMolTransformer(pooling=\"gpt\", concat_layers=[-1])\n",
    "safe_transformers"
   ]
  },
  {
   "cell_type": "code",
   "execution_count": 117,
   "metadata": {},
   "outputs": [],
   "source": [
    "mols = dm.data.freesolv().iloc[:10].smiles.values"
   ]
  },
  {
   "cell_type": "code",
   "execution_count": 118,
   "metadata": {},
   "outputs": [
    {
     "data": {
      "text/plain": [
       "array([[ 0.05216356,  0.10754181,  0.07509107, ...,  0.04756968,\n",
       "        -0.08228929, -0.11568106],\n",
       "       [ 0.02449008,  0.04048932,  0.14489463, ...,  0.11410899,\n",
       "        -0.02203353,  0.08706839],\n",
       "       [-0.07425696,  0.11859665,  0.19010407, ...,  0.10526019,\n",
       "         0.08878426, -0.06609854],\n",
       "       ...,\n",
       "       [ 0.07867863,  0.19300285,  0.23054805, ..., -0.00737952,\n",
       "         0.07542405,  0.00289541],\n",
       "       [ 0.12092628, -0.01785688,  0.19791883, ...,  0.13796932,\n",
       "         0.11520796, -0.15333697],\n",
       "       [-0.02005584,  0.13946685,  0.18568742, ...,  0.07080407,\n",
       "         0.06991849, -0.07151204]], dtype=float32)"
      ]
     },
     "execution_count": 118,
     "metadata": {},
     "output_type": "execute_result"
    }
   ],
   "source": [
    "safe_transformers(mols)"
   ]
  },
  {
   "cell_type": "markdown",
   "metadata": {},
   "source": [
    "### Basic Test"
   ]
  },
  {
   "cell_type": "code",
   "execution_count": 119,
   "metadata": {},
   "outputs": [],
   "source": [
    "from sklearn.ensemble import RandomForestRegressor\n",
    "from sklearn.model_selection import train_test_split\n",
    "from sklearn.pipeline import Pipeline\n",
    "\n",
    "df = dm.data.freesolv()\n",
    "df[\"safe\"]  = df[\"smiles\"].apply(safe_transformers.converter.encode)\n",
    "df = df.dropna(subset=\"safe\")\n",
    "# we have to remove the molecules that cannot be converted \n",
    "# (no breakable bonds with our default methodology)\n"
   ]
  },
  {
   "cell_type": "code",
   "execution_count": 120,
   "metadata": {},
   "outputs": [],
   "source": [
    "\n",
    "X, y = df[\"smiles\"].values, df[\"expt\"].values\n",
    "X_train, X_test, y_train, y_test = train_test_split(X, y, random_state=25, test_size=0.2)\n",
    "\n",
    "# The Molfeat transformer seemingly integrates with Scikit-learn Pipeline!\n",
    "pipe = Pipeline([(\"feat\", safe_transformers), (\"rf\", RandomForestRegressor())])"
   ]
  },
  {
   "cell_type": "code",
   "execution_count": 121,
   "metadata": {},
   "outputs": [],
   "source": [
    "with dm.without_rdkit_log():\n",
    "    pipe.fit(X_train, y_train)\n",
    "    score = pipe.score(X_test, y_test)\n",
    "    y_pred = pipe.predict(X_test)\n"
   ]
  },
  {
   "cell_type": "code",
   "execution_count": 122,
   "metadata": {},
   "outputs": [
    {
     "name": "stdout",
     "output_type": "stream",
     "text": [
      "R2 score: 0.4971483821661925\n"
     ]
    }
   ],
   "source": [
    "print(\"R2 score:\", score)"
   ]
  },
  {
   "cell_type": "code",
   "execution_count": 123,
   "metadata": {},
   "outputs": [
    {
     "data": {
      "text/plain": [
       "Text(0, 0.5, 'Preds')"
      ]
     },
     "execution_count": 123,
     "metadata": {},
     "output_type": "execute_result"
    },
    {
     "data": {
      "image/png": "[encoded data removed]",
      "text/plain": [
       "<Figure size 640x480 with 1 Axes>"
      ]
     },
     "metadata": {},
     "output_type": "display_data"
    }
   ],
   "source": [
    "import matplotlib.pyplot as plt\n",
    "\n",
    "fig, ax = plt.subplots()\n",
    "ax.scatter(y_test, y_pred)\n",
    "ax.set_xlabel(\"Target\")\n",
    "ax.set_ylabel(\"Preds\")"
   ]
  },
  {
   "cell_type": "markdown",
   "metadata": {},
   "source": [
    "Not really a great result. Any other model in `molfeat` would do better."
   ]
  },
  {
   "cell_type": "markdown",
   "metadata": {},
   "source": [
    "### Tips\n",
    "\n",
    "1. Make sure that your inputs are SMILES or RDKit Molecules.\n",
    "2. If you are getting an error coming from some tokenization step, that means that you are likely getting `None` molecules at some steps in the conversion to SAFE. This can happen if there your slicing algorithm of choice is not working. In that case, please filter your datasets to remove molecules that fails the encoding steps first. You can always use the very robus `safe.utils.convert_to_safe`, which augment default BRICS slicing with some graph partitioning algorithm.\n"
   ]
  }
 ],
 "metadata": {
  "kernelspec": {
   "display_name": "safe",
   "language": "python",
   "name": "python3"
  },
  "language_info": {
   "codemirror_mode": {
    "name": "ipython",
    "version": 3
   },
   "file_extension": ".py",
   "mimetype": "text/x-python",
   "name": "python",
   "nbconvert_exporter": "python",
   "pygments_lexer": "ipython3",
   "version": "3.11.6"
  }
 },
 "nbformat": 4,
 "nbformat_minor": 2
}

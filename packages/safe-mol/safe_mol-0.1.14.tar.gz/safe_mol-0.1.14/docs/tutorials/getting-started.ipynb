{
 "cells": [
  {
   "cell_type": "code",
   "execution_count": 1,
   "metadata": {
    "tags": [
     "remove_cell"
    ]
   },
   "outputs": [],
   "source": [
    "%load_ext autoreload\n",
    "%autoreload 2\n"
   ]
  },
  {
   "attachments": {},
   "cell_type": "markdown",
   "metadata": {},
   "source": [
    "# Getting Started with SAFE\n",
    "\n",
    "The SAFE encoding format is a rewriting of SMILES to ensure that any molecule can be written as a sequence of fragments where atoms or tokens corresponding to given fragments form a **substring** (ontiguous sequence) in the line notation representation.\n",
    "\n",
    "SAFE addresses some of the limitation of SMILES strings when it comes to _generative design_:\n",
    "\n",
    "| Safe                                                                                                                                                                                    | Others                                                                                                                                                                                                                                                                                                |\n",
    "| --------------------------------------------------------------------------------------------------------------------------------------------------------------------------------------- | ----------------------------------------------------------------------------------------------------------------------------------------------------------------------------------------------------------------------------------------------------------------------------------------------------- |\n",
    "| - native support for (sub)structure-constrained design                                                                                                                                  | - different generative models for different generative tasks <br/> - extensive substructure matching for filtering after generation - multiple steps generative process (e.g [Liao et al. 2023](https://doi.org/10.1093/bioinformatics/btac814) ) <br/> - graph based approaches with their limitations     |\n",
    "| - any molecule generation as a simple NLP task (sequence completion or mask filling) <br/> - a single autoregressive sequence model for both linker generation and scaffold decoration. | - complex training and decoding schemes for scaffold-constrained generation (e.g [Arús-Pous et al. 2020](https://doi.org/10.1186/s13321-020-00441-8) ) <br/> - complex sampling algorithms for scaffold-constrained generation (e.g [Langevin et al. 2020](https://doi.org/10.1021/acs.jcim.0c01015)) |\n",
    "| - SAFE strings are SMILES strings                                                                                                                                                       | - requires a different chemical language (e.g [Krenn et al. 2022](https://doi.org/10.1016/j.patter.2022.100588))                                                                                                                                                                                      |\n"
   ]
  },
  {
   "attachments": {},
   "cell_type": "markdown",
   "metadata": {},
   "source": [
    "## Using SAFE\n",
    "\n",
    "In the following we will highlight how to use SAFE and some of the properties of SAFE strings."
   ]
  },
  {
   "cell_type": "code",
   "execution_count": 2,
   "metadata": {},
   "outputs": [
    {
     "data": {
      "image/svg+xml": [
       "<svg xmlns=\"http://www.w3.org/2000/svg\" xmlns:rdkit=\"http://www.rdkit.org/xml\" xmlns:xlink=\"http://www.w3.org/1999/xlink\" version=\"1.1\" baseProfile=\"full\" xml:space=\"preserve\" width=\"300px\" height=\"300px\" viewBox=\"0 0 300 300\">\n",
       "<!-- END OF HEADER -->\n",
       "<rect style=\"opacity:1.0;fill:#FFFFFF;stroke:none\" width=\"300.0\" height=\"300.0\" x=\"0.0\" y=\"0.0\"> </rect>\n",
       "<path class=\"bond-0 atom-0 atom-1\" d=\"M 152.7,245.8 L 140.3,218.3\" style=\"fill:none;fill-rule:evenodd;stroke:#000000;stroke-width:2.0px;stroke-linecap:butt;stroke-linejoin:miter;stroke-opacity:1\"/>\n",
       "<path class=\"bond-1 atom-1 atom-2\" d=\"M 140.3,218.3 L 110.2,215.3\" style=\"fill:none;fill-rule:evenodd;stroke:#000000;stroke-width:2.0px;stroke-linecap:butt;stroke-linejoin:miter;stroke-opacity:1\"/>\n",
       "<path class=\"bond-1 atom-1 atom-2\" d=\"M 138.1,213.5 L 113.3,211.1\" style=\"fill:none;fill-rule:evenodd;stroke:#000000;stroke-width:2.0px;stroke-linecap:butt;stroke-linejoin:miter;stroke-opacity:1\"/>\n",
       "<path class=\"bond-2 atom-2 atom-3\" d=\"M 110.2,215.3 L 97.8,187.8\" style=\"fill:none;fill-rule:evenodd;stroke:#000000;stroke-width:2.0px;stroke-linecap:butt;stroke-linejoin:miter;stroke-opacity:1\"/>\n",
       "<path class=\"bond-3 atom-3 atom-4\" d=\"M 97.8,187.8 L 115.4,163.3\" style=\"fill:none;fill-rule:evenodd;stroke:#000000;stroke-width:2.0px;stroke-linecap:butt;stroke-linejoin:miter;stroke-opacity:1\"/>\n",
       "<path class=\"bond-3 atom-3 atom-4\" d=\"M 103.0,188.3 L 117.5,168.0\" style=\"fill:none;fill-rule:evenodd;stroke:#000000;stroke-width:2.0px;stroke-linecap:butt;stroke-linejoin:miter;stroke-opacity:1\"/>\n",
       "<path class=\"bond-4 atom-4 atom-5\" d=\"M 115.4,163.3 L 102.9,135.8\" style=\"fill:none;fill-rule:evenodd;stroke:#000000;stroke-width:2.0px;stroke-linecap:butt;stroke-linejoin:miter;stroke-opacity:1\"/>\n",
       "<path class=\"bond-5 atom-5 atom-6\" d=\"M 102.9,135.8 L 73.4,129.7\" style=\"fill:none;fill-rule:evenodd;stroke:#000000;stroke-width:2.0px;stroke-linecap:butt;stroke-linejoin:miter;stroke-opacity:1\"/>\n",
       "<path class=\"bond-5 atom-5 atom-6\" d=\"M 100.6,130.7 L 77.5,125.9\" style=\"fill:none;fill-rule:evenodd;stroke:#000000;stroke-width:2.0px;stroke-linecap:butt;stroke-linejoin:miter;stroke-opacity:1\"/>\n",
       "<path class=\"bond-6 atom-6 atom-7\" d=\"M 73.4,129.7 L 70.0,99.6\" style=\"fill:none;fill-rule:evenodd;stroke:#000000;stroke-width:2.0px;stroke-linecap:butt;stroke-linejoin:miter;stroke-opacity:1\"/>\n",
       "<path class=\"bond-7 atom-7 atom-8\" d=\"M 70.0,99.6 L 43.8,84.7\" style=\"fill:none;fill-rule:evenodd;stroke:#000000;stroke-width:2.0px;stroke-linecap:butt;stroke-linejoin:miter;stroke-opacity:1\"/>\n",
       "<path class=\"bond-8 atom-8 atom-9\" d=\"M 43.8,84.7 L 32.4,78.2\" style=\"fill:none;fill-rule:evenodd;stroke:#000000;stroke-width:2.0px;stroke-linecap:butt;stroke-linejoin:miter;stroke-opacity:1\"/>\n",
       "<path class=\"bond-8 atom-8 atom-9\" d=\"M 32.4,78.2 L 21.1,71.8\" style=\"fill:none;fill-rule:evenodd;stroke:#33CCCC;stroke-width:2.0px;stroke-linecap:butt;stroke-linejoin:miter;stroke-opacity:1\"/>\n",
       "<path class=\"bond-9 atom-8 atom-10\" d=\"M 43.8,84.7 L 49.8,74.2\" style=\"fill:none;fill-rule:evenodd;stroke:#000000;stroke-width:2.0px;stroke-linecap:butt;stroke-linejoin:miter;stroke-opacity:1\"/>\n",
       "<path class=\"bond-9 atom-8 atom-10\" d=\"M 49.8,74.2 L 55.7,63.7\" style=\"fill:none;fill-rule:evenodd;stroke:#33CCCC;stroke-width:2.0px;stroke-linecap:butt;stroke-linejoin:miter;stroke-opacity:1\"/>\n",
       "<path class=\"bond-10 atom-8 atom-11\" d=\"M 43.8,84.7 L 37.8,95.2\" style=\"fill:none;fill-rule:evenodd;stroke:#000000;stroke-width:2.0px;stroke-linecap:butt;stroke-linejoin:miter;stroke-opacity:1\"/>\n",
       "<path class=\"bond-10 atom-8 atom-11\" d=\"M 37.8,95.2 L 31.8,105.7\" style=\"fill:none;fill-rule:evenodd;stroke:#33CCCC;stroke-width:2.0px;stroke-linecap:butt;stroke-linejoin:miter;stroke-opacity:1\"/>\n",
       "<path class=\"bond-11 atom-7 atom-12\" d=\"M 70.0,99.6 L 81.7,94.4\" style=\"fill:none;fill-rule:evenodd;stroke:#000000;stroke-width:2.0px;stroke-linecap:butt;stroke-linejoin:miter;stroke-opacity:1\"/>\n",
       "<path class=\"bond-11 atom-7 atom-12\" d=\"M 81.7,94.4 L 93.3,89.1\" style=\"fill:none;fill-rule:evenodd;stroke:#0000FF;stroke-width:2.0px;stroke-linecap:butt;stroke-linejoin:miter;stroke-opacity:1\"/>\n",
       "<path class=\"bond-11 atom-7 atom-12\" d=\"M 74.9,102.4 L 85.0,97.8\" style=\"fill:none;fill-rule:evenodd;stroke:#000000;stroke-width:2.0px;stroke-linecap:butt;stroke-linejoin:miter;stroke-opacity:1\"/>\n",
       "<path class=\"bond-11 atom-7 atom-12\" d=\"M 85.0,97.8 L 95.2,93.2\" style=\"fill:none;fill-rule:evenodd;stroke:#0000FF;stroke-width:2.0px;stroke-linecap:butt;stroke-linejoin:miter;stroke-opacity:1\"/>\n",
       "<path class=\"bond-12 atom-12 atom-13\" d=\"M 101.8,91.8 L 113.6,104.9\" style=\"fill:none;fill-rule:evenodd;stroke:#0000FF;stroke-width:2.0px;stroke-linecap:butt;stroke-linejoin:miter;stroke-opacity:1\"/>\n",
       "<path class=\"bond-13 atom-13 atom-14\" d=\"M 122.1,109.0 L 135.0,107.6\" style=\"fill:none;fill-rule:evenodd;stroke:#0000FF;stroke-width:2.0px;stroke-linecap:butt;stroke-linejoin:miter;stroke-opacity:1\"/>\n",
       "<path class=\"bond-13 atom-13 atom-14\" d=\"M 135.0,107.6 L 147.9,106.2\" style=\"fill:none;fill-rule:evenodd;stroke:#000000;stroke-width:2.0px;stroke-linecap:butt;stroke-linejoin:miter;stroke-opacity:1\"/>\n",
       "<path class=\"bond-14 atom-14 atom-15\" d=\"M 147.9,106.2 L 165.8,130.5\" style=\"fill:none;fill-rule:evenodd;stroke:#000000;stroke-width:2.0px;stroke-linecap:butt;stroke-linejoin:miter;stroke-opacity:1\"/>\n",
       "<path class=\"bond-14 atom-14 atom-15\" d=\"M 153.1,105.6 L 167.9,125.7\" style=\"fill:none;fill-rule:evenodd;stroke:#000000;stroke-width:2.0px;stroke-linecap:butt;stroke-linejoin:miter;stroke-opacity:1\"/>\n",
       "<path class=\"bond-15 atom-15 atom-16\" d=\"M 165.8,130.5 L 195.8,127.2\" style=\"fill:none;fill-rule:evenodd;stroke:#000000;stroke-width:2.0px;stroke-linecap:butt;stroke-linejoin:miter;stroke-opacity:1\"/>\n",
       "<path class=\"bond-16 atom-16 atom-17\" d=\"M 195.8,127.2 L 207.9,99.5\" style=\"fill:none;fill-rule:evenodd;stroke:#000000;stroke-width:2.0px;stroke-linecap:butt;stroke-linejoin:miter;stroke-opacity:1\"/>\n",
       "<path class=\"bond-16 atom-16 atom-17\" d=\"M 192.7,123.0 L 202.7,100.1\" style=\"fill:none;fill-rule:evenodd;stroke:#000000;stroke-width:2.0px;stroke-linecap:butt;stroke-linejoin:miter;stroke-opacity:1\"/>\n",
       "<path class=\"bond-17 atom-17 atom-18\" d=\"M 207.9,99.5 L 221.1,98.1\" style=\"fill:none;fill-rule:evenodd;stroke:#000000;stroke-width:2.0px;stroke-linecap:butt;stroke-linejoin:miter;stroke-opacity:1\"/>\n",
       "<path class=\"bond-17 atom-17 atom-18\" d=\"M 221.1,98.1 L 234.2,96.6\" style=\"fill:none;fill-rule:evenodd;stroke:#CCCC00;stroke-width:2.0px;stroke-linecap:butt;stroke-linejoin:miter;stroke-opacity:1\"/>\n",
       "<path class=\"bond-18 atom-18 atom-19\" d=\"M 241.7,95.8 L 252.7,94.5\" style=\"fill:none;fill-rule:evenodd;stroke:#CCCC00;stroke-width:2.0px;stroke-linecap:butt;stroke-linejoin:miter;stroke-opacity:1\"/>\n",
       "<path class=\"bond-18 atom-18 atom-19\" d=\"M 252.7,94.5 L 263.7,93.3\" style=\"fill:none;fill-rule:evenodd;stroke:#0000FF;stroke-width:2.0px;stroke-linecap:butt;stroke-linejoin:miter;stroke-opacity:1\"/>\n",
       "<path class=\"bond-19 atom-18 atom-20\" d=\"M 236.3,101.9 L 237.4,111.5\" style=\"fill:none;fill-rule:evenodd;stroke:#CCCC00;stroke-width:2.0px;stroke-linecap:butt;stroke-linejoin:miter;stroke-opacity:1\"/>\n",
       "<path class=\"bond-19 atom-18 atom-20\" d=\"M 237.4,111.5 L 238.4,121.1\" style=\"fill:none;fill-rule:evenodd;stroke:#FF0000;stroke-width:2.0px;stroke-linecap:butt;stroke-linejoin:miter;stroke-opacity:1\"/>\n",
       "<path class=\"bond-19 atom-18 atom-20\" d=\"M 240.8,101.4 L 241.9,111.0\" style=\"fill:none;fill-rule:evenodd;stroke:#CCCC00;stroke-width:2.0px;stroke-linecap:butt;stroke-linejoin:miter;stroke-opacity:1\"/>\n",
       "<path class=\"bond-19 atom-18 atom-20\" d=\"M 241.9,111.0 L 242.9,120.6\" style=\"fill:none;fill-rule:evenodd;stroke:#FF0000;stroke-width:2.0px;stroke-linecap:butt;stroke-linejoin:miter;stroke-opacity:1\"/>\n",
       "<path class=\"bond-20 atom-18 atom-21\" d=\"M 239.6,90.7 L 238.5,81.0\" style=\"fill:none;fill-rule:evenodd;stroke:#CCCC00;stroke-width:2.0px;stroke-linecap:butt;stroke-linejoin:miter;stroke-opacity:1\"/>\n",
       "<path class=\"bond-20 atom-18 atom-21\" d=\"M 238.5,81.0 L 237.5,71.4\" style=\"fill:none;fill-rule:evenodd;stroke:#FF0000;stroke-width:2.0px;stroke-linecap:butt;stroke-linejoin:miter;stroke-opacity:1\"/>\n",
       "<path class=\"bond-20 atom-18 atom-21\" d=\"M 235.1,91.2 L 234.0,81.5\" style=\"fill:none;fill-rule:evenodd;stroke:#CCCC00;stroke-width:2.0px;stroke-linecap:butt;stroke-linejoin:miter;stroke-opacity:1\"/>\n",
       "<path class=\"bond-20 atom-18 atom-21\" d=\"M 234.0,81.5 L 233.0,71.9\" style=\"fill:none;fill-rule:evenodd;stroke:#FF0000;stroke-width:2.0px;stroke-linecap:butt;stroke-linejoin:miter;stroke-opacity:1\"/>\n",
       "<path class=\"bond-21 atom-17 atom-22\" d=\"M 207.9,99.5 L 190.0,75.2\" style=\"fill:none;fill-rule:evenodd;stroke:#000000;stroke-width:2.0px;stroke-linecap:butt;stroke-linejoin:miter;stroke-opacity:1\"/>\n",
       "<path class=\"bond-22 atom-22 atom-23\" d=\"M 190.0,75.2 L 160.0,78.5\" style=\"fill:none;fill-rule:evenodd;stroke:#000000;stroke-width:2.0px;stroke-linecap:butt;stroke-linejoin:miter;stroke-opacity:1\"/>\n",
       "<path class=\"bond-22 atom-22 atom-23\" d=\"M 187.9,80.0 L 163.1,82.7\" style=\"fill:none;fill-rule:evenodd;stroke:#000000;stroke-width:2.0px;stroke-linecap:butt;stroke-linejoin:miter;stroke-opacity:1\"/>\n",
       "<path class=\"bond-23 atom-4 atom-24\" d=\"M 115.4,163.3 L 145.4,166.3\" style=\"fill:none;fill-rule:evenodd;stroke:#000000;stroke-width:2.0px;stroke-linecap:butt;stroke-linejoin:miter;stroke-opacity:1\"/>\n",
       "<path class=\"bond-24 atom-24 atom-25\" d=\"M 145.4,166.3 L 157.9,193.8\" style=\"fill:none;fill-rule:evenodd;stroke:#000000;stroke-width:2.0px;stroke-linecap:butt;stroke-linejoin:miter;stroke-opacity:1\"/>\n",
       "<path class=\"bond-24 atom-24 atom-25\" d=\"M 142.4,170.5 L 152.7,193.3\" style=\"fill:none;fill-rule:evenodd;stroke:#000000;stroke-width:2.0px;stroke-linecap:butt;stroke-linejoin:miter;stroke-opacity:1\"/>\n",
       "<path class=\"bond-25 atom-25 atom-1\" d=\"M 157.9,193.8 L 140.3,218.3\" style=\"fill:none;fill-rule:evenodd;stroke:#000000;stroke-width:2.0px;stroke-linecap:butt;stroke-linejoin:miter;stroke-opacity:1\"/>\n",
       "<path class=\"bond-26 atom-13 atom-5\" d=\"M 114.9,114.8 L 108.9,125.3\" style=\"fill:none;fill-rule:evenodd;stroke:#0000FF;stroke-width:2.0px;stroke-linecap:butt;stroke-linejoin:miter;stroke-opacity:1\"/>\n",
       "<path class=\"bond-26 atom-13 atom-5\" d=\"M 108.9,125.3 L 102.9,135.8\" style=\"fill:none;fill-rule:evenodd;stroke:#000000;stroke-width:2.0px;stroke-linecap:butt;stroke-linejoin:miter;stroke-opacity:1\"/>\n",
       "<path class=\"bond-27 atom-23 atom-14\" d=\"M 160.0,78.5 L 147.9,106.2\" style=\"fill:none;fill-rule:evenodd;stroke:#000000;stroke-width:2.0px;stroke-linecap:butt;stroke-linejoin:miter;stroke-opacity:1\"/>\n",
       "<path d=\"M 111.7,215.5 L 110.2,215.3 L 109.6,214.0\" style=\"fill:none;stroke:#000000;stroke-width:2.0px;stroke-linecap:butt;stroke-linejoin:miter;stroke-opacity:1;\"/>\n",
       "<path d=\"M 98.4,189.2 L 97.8,187.8 L 98.7,186.6\" style=\"fill:none;stroke:#000000;stroke-width:2.0px;stroke-linecap:butt;stroke-linejoin:miter;stroke-opacity:1;\"/>\n",
       "<path d=\"M 74.8,130.0 L 73.4,129.7 L 73.2,128.2\" style=\"fill:none;stroke:#000000;stroke-width:2.0px;stroke-linecap:butt;stroke-linejoin:miter;stroke-opacity:1;\"/>\n",
       "<path d=\"M 164.9,129.3 L 165.8,130.5 L 167.3,130.3\" style=\"fill:none;stroke:#000000;stroke-width:2.0px;stroke-linecap:butt;stroke-linejoin:miter;stroke-opacity:1;\"/>\n",
       "<path d=\"M 194.3,127.3 L 195.8,127.2 L 196.4,125.8\" style=\"fill:none;stroke:#000000;stroke-width:2.0px;stroke-linecap:butt;stroke-linejoin:miter;stroke-opacity:1;\"/>\n",
       "<path d=\"M 190.9,76.4 L 190.0,75.2 L 188.5,75.4\" style=\"fill:none;stroke:#000000;stroke-width:2.0px;stroke-linecap:butt;stroke-linejoin:miter;stroke-opacity:1;\"/>\n",
       "<path d=\"M 161.5,78.4 L 160.0,78.5 L 159.4,79.9\" style=\"fill:none;stroke:#000000;stroke-width:2.0px;stroke-linecap:butt;stroke-linejoin:miter;stroke-opacity:1;\"/>\n",
       "<path d=\"M 143.9,166.1 L 145.4,166.3 L 146.1,167.6\" style=\"fill:none;stroke:#000000;stroke-width:2.0px;stroke-linecap:butt;stroke-linejoin:miter;stroke-opacity:1;\"/>\n",
       "<path d=\"M 157.3,192.4 L 157.9,193.8 L 157.0,195.0\" style=\"fill:none;stroke:#000000;stroke-width:2.0px;stroke-linecap:butt;stroke-linejoin:miter;stroke-opacity:1;\"/>\n",
       "<path class=\"atom-9\" d=\"M 15.0 65.5 L 20.1 65.5 L 20.1 66.4 L 16.1 66.4 L 16.1 69.0 L 19.7 69.0 L 19.7 70.0 L 16.1 70.0 L 16.1 74.0 L 15.0 74.0 L 15.0 65.5 \" fill=\"#33CCCC\"/>\n",
       "<path class=\"atom-10\" d=\"M 56.2 54.2 L 61.3 54.2 L 61.3 55.1 L 57.3 55.1 L 57.3 57.7 L 60.8 57.7 L 60.8 58.7 L 57.3 58.7 L 57.3 62.7 L 56.2 62.7 L 56.2 54.2 \" fill=\"#33CCCC\"/>\n",
       "<path class=\"atom-11\" d=\"M 26.3 106.7 L 31.4 106.7 L 31.4 107.6 L 27.4 107.6 L 27.4 110.2 L 30.9 110.2 L 30.9 111.2 L 27.4 111.2 L 27.4 115.2 L 26.3 115.2 L 26.3 106.7 \" fill=\"#33CCCC\"/>\n",
       "<path class=\"atom-12\" d=\"M 95.7 82.9 L 98.5 87.4 Q 98.7 87.9, 99.2 88.7 Q 99.6 89.5, 99.7 89.6 L 99.7 82.9 L 100.8 82.9 L 100.8 91.5 L 99.6 91.5 L 96.6 86.5 Q 96.3 85.9, 95.9 85.3 Q 95.5 84.6, 95.4 84.4 L 95.4 91.5 L 94.3 91.5 L 94.3 82.9 L 95.7 82.9 \" fill=\"#0000FF\"/>\n",
       "<path class=\"atom-13\" d=\"M 116.0 105.2 L 118.8 109.8 Q 119.1 110.2, 119.5 111.0 Q 120.0 111.8, 120.0 111.9 L 120.0 105.2 L 121.1 105.2 L 121.1 113.8 L 120.0 113.8 L 116.9 108.8 Q 116.6 108.3, 116.2 107.6 Q 115.9 106.9, 115.8 106.7 L 115.8 113.8 L 114.6 113.8 L 114.6 105.2 L 116.0 105.2 \" fill=\"#0000FF\"/>\n",
       "<path class=\"atom-18\" d=\"M 235.5 99.1 Q 235.6 99.2, 236.0 99.3 Q 236.4 99.5, 236.9 99.6 Q 237.3 99.7, 237.7 99.7 Q 238.6 99.7, 239.0 99.3 Q 239.5 98.9, 239.5 98.2 Q 239.5 97.8, 239.3 97.5 Q 239.0 97.2, 238.7 97.0 Q 238.3 96.9, 237.7 96.7 Q 236.9 96.5, 236.5 96.2 Q 236.0 96.0, 235.7 95.6 Q 235.4 95.1, 235.4 94.3 Q 235.4 93.2, 236.1 92.6 Q 236.9 91.9, 238.3 91.9 Q 239.3 91.9, 240.4 92.4 L 240.1 93.3 Q 239.1 92.9, 238.3 92.9 Q 237.5 92.9, 237.0 93.2 Q 236.6 93.6, 236.6 94.2 Q 236.6 94.6, 236.8 94.9 Q 237.1 95.2, 237.4 95.4 Q 237.8 95.5, 238.3 95.7 Q 239.1 95.9, 239.6 96.2 Q 240.0 96.4, 240.4 96.9 Q 240.7 97.4, 240.7 98.2 Q 240.7 99.4, 239.9 100.1 Q 239.1 100.7, 237.8 100.7 Q 237.0 100.7, 236.5 100.5 Q 235.9 100.4, 235.2 100.1 L 235.5 99.1 \" fill=\"#CCCC00\"/>\n",
       "<path class=\"atom-19\" d=\"M 266.1 88.6 L 268.9 93.1 Q 269.2 93.6, 269.6 94.4 Q 270.1 95.2, 270.1 95.2 L 270.1 88.6 L 271.2 88.6 L 271.2 97.1 L 270.0 97.1 L 267.0 92.2 Q 266.7 91.6, 266.3 90.9 Q 265.9 90.3, 265.8 90.1 L 265.8 97.1 L 264.7 97.1 L 264.7 88.6 L 266.1 88.6 \" fill=\"#0000FF\"/>\n",
       "<path class=\"atom-19\" d=\"M 272.8 88.6 L 274.0 88.6 L 274.0 92.2 L 278.4 92.2 L 278.4 88.6 L 279.5 88.6 L 279.5 97.1 L 278.4 97.1 L 278.4 93.2 L 274.0 93.2 L 274.0 97.1 L 272.8 97.1 L 272.8 88.6 \" fill=\"#0000FF\"/>\n",
       "<path class=\"atom-19\" d=\"M 281.2 96.8 Q 281.4 96.3, 281.9 96.0 Q 282.4 95.7, 283.1 95.7 Q 283.9 95.7, 284.4 96.2 Q 284.9 96.6, 284.9 97.4 Q 284.9 98.3, 284.3 99.1 Q 283.7 99.8, 282.4 100.8 L 285.0 100.8 L 285.0 101.4 L 281.2 101.4 L 281.2 100.9 Q 282.2 100.1, 282.9 99.6 Q 283.5 99.0, 283.8 98.5 Q 284.1 98.0, 284.1 97.5 Q 284.1 96.9, 283.8 96.6 Q 283.6 96.3, 283.1 96.3 Q 282.6 96.3, 282.3 96.5 Q 282.0 96.7, 281.8 97.1 L 281.2 96.8 \" fill=\"#0000FF\"/>\n",
       "<path class=\"atom-20\" d=\"M 237.4 126.2 Q 237.4 124.2, 238.4 123.0 Q 239.4 121.9, 241.3 121.9 Q 243.2 121.9, 244.2 123.0 Q 245.2 124.2, 245.2 126.2 Q 245.2 128.3, 244.2 129.5 Q 243.2 130.7, 241.3 130.7 Q 239.4 130.7, 238.4 129.5 Q 237.4 128.3, 237.4 126.2 M 241.3 129.7 Q 242.6 129.7, 243.3 128.8 Q 244.0 127.9, 244.0 126.2 Q 244.0 124.5, 243.3 123.7 Q 242.6 122.8, 241.3 122.8 Q 240.0 122.8, 239.3 123.7 Q 238.6 124.5, 238.6 126.2 Q 238.6 128.0, 239.3 128.8 Q 240.0 129.7, 241.3 129.7 \" fill=\"#FF0000\"/>\n",
       "<path class=\"atom-21\" d=\"M 230.7 66.2 Q 230.7 64.1, 231.7 63.0 Q 232.7 61.8, 234.6 61.8 Q 236.5 61.8, 237.5 63.0 Q 238.5 64.1, 238.5 66.2 Q 238.5 68.3, 237.5 69.5 Q 236.5 70.6, 234.6 70.6 Q 232.7 70.6, 231.7 69.5 Q 230.7 68.3, 230.7 66.2 M 234.6 69.7 Q 235.9 69.7, 236.6 68.8 Q 237.3 67.9, 237.3 66.2 Q 237.3 64.5, 236.6 63.7 Q 235.9 62.8, 234.6 62.8 Q 233.3 62.8, 232.6 63.7 Q 231.9 64.5, 231.9 66.2 Q 231.9 67.9, 232.6 68.8 Q 233.3 69.7, 234.6 69.7 \" fill=\"#FF0000\"/>\n",
       "</svg>"
      ],
      "text/plain": [
       "<IPython.core.display.SVG object>"
      ]
     },
     "metadata": {},
     "output_type": "display_data"
    }
   ],
   "source": [
    "import safe as sf\n",
    "import datamol as dm\n",
    "\n",
    "celecoxib = \"Cc1ccc(-c2cc(C(F)(F)F)nn2-c2ccc(S(N)(=O)=O)cc2)cc1\"\n",
    "celecoxib_mol = dm.to_mol(celecoxib)\n",
    "\n",
    "display(dm.to_image(celecoxib_mol))\n"
   ]
  },
  {
   "attachments": {},
   "cell_type": "markdown",
   "metadata": {},
   "source": [
    "#### Encoding\n",
    "\n",
    "**SAFE represents fragments**\n",
    "\n",
    "SAFE represents molecules as a set of N [Fragment_1].[Fragment_i].[Fragment_N]\n",
    "    "
   ]
  },
  {
   "cell_type": "code",
   "execution_count": 3,
   "metadata": {},
   "outputs": [
    {
     "name": "stdout",
     "output_type": "stream",
     "text": [
      "c14ccc(S(N)(=O)=O)cc1.Cc1ccc5cc1.c15cc3nn14.C3(F)(F)F\n",
      "Representation using 4 fragments\n"
     ]
    }
   ],
   "source": [
    "safe_str = sf.encode(celecoxib_mol)\n",
    "\n",
    "print(safe_str)\n",
    "print(f\"Representation using {len(safe_str.split('.'))} fragments\")\n"
   ]
  },
  {
   "attachments": {},
   "cell_type": "markdown",
   "metadata": {},
   "source": [
    "**SAFE string are SMILES**\n",
    "\n",
    "Any SAFE string is a valid SMILES and can be read by RDKit without any decoding trick."
   ]
  },
  {
   "cell_type": "code",
   "execution_count": 4,
   "metadata": {},
   "outputs": [
    {
     "data": {
      "image/svg+xml": [
       "<svg xmlns=\"http://www.w3.org/2000/svg\" xmlns:rdkit=\"http://www.rdkit.org/xml\" xmlns:xlink=\"http://www.w3.org/1999/xlink\" version=\"1.1\" baseProfile=\"full\" xml:space=\"preserve\" width=\"300px\" height=\"300px\" viewBox=\"0 0 300 300\">\n",
       "<!-- END OF HEADER -->\n",
       "<rect style=\"opacity:1.0;fill:#FFFFFF;stroke:none\" width=\"300.0\" height=\"300.0\" x=\"0.0\" y=\"0.0\"> </rect>\n",
       "<path class=\"bond-0 atom-0 atom-1\" d=\"M 147.9,106.2 L 165.8,130.5\" style=\"fill:none;fill-rule:evenodd;stroke:#000000;stroke-width:2.0px;stroke-linecap:butt;stroke-linejoin:miter;stroke-opacity:1\"/>\n",
       "<path class=\"bond-0 atom-0 atom-1\" d=\"M 153.1,105.6 L 167.9,125.7\" style=\"fill:none;fill-rule:evenodd;stroke:#000000;stroke-width:2.0px;stroke-linecap:butt;stroke-linejoin:miter;stroke-opacity:1\"/>\n",
       "<path class=\"bond-1 atom-1 atom-2\" d=\"M 165.8,130.5 L 195.8,127.2\" style=\"fill:none;fill-rule:evenodd;stroke:#000000;stroke-width:2.0px;stroke-linecap:butt;stroke-linejoin:miter;stroke-opacity:1\"/>\n",
       "<path class=\"bond-2 atom-2 atom-3\" d=\"M 195.8,127.2 L 207.9,99.5\" style=\"fill:none;fill-rule:evenodd;stroke:#000000;stroke-width:2.0px;stroke-linecap:butt;stroke-linejoin:miter;stroke-opacity:1\"/>\n",
       "<path class=\"bond-2 atom-2 atom-3\" d=\"M 192.7,123.0 L 202.7,100.1\" style=\"fill:none;fill-rule:evenodd;stroke:#000000;stroke-width:2.0px;stroke-linecap:butt;stroke-linejoin:miter;stroke-opacity:1\"/>\n",
       "<path class=\"bond-3 atom-3 atom-4\" d=\"M 207.9,99.5 L 221.1,98.1\" style=\"fill:none;fill-rule:evenodd;stroke:#000000;stroke-width:2.0px;stroke-linecap:butt;stroke-linejoin:miter;stroke-opacity:1\"/>\n",
       "<path class=\"bond-3 atom-3 atom-4\" d=\"M 221.1,98.1 L 234.2,96.6\" style=\"fill:none;fill-rule:evenodd;stroke:#CCCC00;stroke-width:2.0px;stroke-linecap:butt;stroke-linejoin:miter;stroke-opacity:1\"/>\n",
       "<path class=\"bond-4 atom-4 atom-5\" d=\"M 241.7,95.8 L 252.7,94.5\" style=\"fill:none;fill-rule:evenodd;stroke:#CCCC00;stroke-width:2.0px;stroke-linecap:butt;stroke-linejoin:miter;stroke-opacity:1\"/>\n",
       "<path class=\"bond-4 atom-4 atom-5\" d=\"M 252.7,94.5 L 263.7,93.3\" style=\"fill:none;fill-rule:evenodd;stroke:#0000FF;stroke-width:2.0px;stroke-linecap:butt;stroke-linejoin:miter;stroke-opacity:1\"/>\n",
       "<path class=\"bond-5 atom-4 atom-6\" d=\"M 236.3,101.9 L 237.4,111.5\" style=\"fill:none;fill-rule:evenodd;stroke:#CCCC00;stroke-width:2.0px;stroke-linecap:butt;stroke-linejoin:miter;stroke-opacity:1\"/>\n",
       "<path class=\"bond-5 atom-4 atom-6\" d=\"M 237.4,111.5 L 238.4,121.1\" style=\"fill:none;fill-rule:evenodd;stroke:#FF0000;stroke-width:2.0px;stroke-linecap:butt;stroke-linejoin:miter;stroke-opacity:1\"/>\n",
       "<path class=\"bond-5 atom-4 atom-6\" d=\"M 240.8,101.4 L 241.9,111.0\" style=\"fill:none;fill-rule:evenodd;stroke:#CCCC00;stroke-width:2.0px;stroke-linecap:butt;stroke-linejoin:miter;stroke-opacity:1\"/>\n",
       "<path class=\"bond-5 atom-4 atom-6\" d=\"M 241.9,111.0 L 242.9,120.6\" style=\"fill:none;fill-rule:evenodd;stroke:#FF0000;stroke-width:2.0px;stroke-linecap:butt;stroke-linejoin:miter;stroke-opacity:1\"/>\n",
       "<path class=\"bond-6 atom-4 atom-7\" d=\"M 239.6,90.7 L 238.5,81.0\" style=\"fill:none;fill-rule:evenodd;stroke:#CCCC00;stroke-width:2.0px;stroke-linecap:butt;stroke-linejoin:miter;stroke-opacity:1\"/>\n",
       "<path class=\"bond-6 atom-4 atom-7\" d=\"M 238.5,81.0 L 237.5,71.4\" style=\"fill:none;fill-rule:evenodd;stroke:#FF0000;stroke-width:2.0px;stroke-linecap:butt;stroke-linejoin:miter;stroke-opacity:1\"/>\n",
       "<path class=\"bond-6 atom-4 atom-7\" d=\"M 235.1,91.2 L 234.0,81.5\" style=\"fill:none;fill-rule:evenodd;stroke:#CCCC00;stroke-width:2.0px;stroke-linecap:butt;stroke-linejoin:miter;stroke-opacity:1\"/>\n",
       "<path class=\"bond-6 atom-4 atom-7\" d=\"M 234.0,81.5 L 233.0,71.9\" style=\"fill:none;fill-rule:evenodd;stroke:#FF0000;stroke-width:2.0px;stroke-linecap:butt;stroke-linejoin:miter;stroke-opacity:1\"/>\n",
       "<path class=\"bond-7 atom-3 atom-8\" d=\"M 207.9,99.5 L 190.0,75.2\" style=\"fill:none;fill-rule:evenodd;stroke:#000000;stroke-width:2.0px;stroke-linecap:butt;stroke-linejoin:miter;stroke-opacity:1\"/>\n",
       "<path class=\"bond-8 atom-8 atom-9\" d=\"M 190.0,75.2 L 160.0,78.5\" style=\"fill:none;fill-rule:evenodd;stroke:#000000;stroke-width:2.0px;stroke-linecap:butt;stroke-linejoin:miter;stroke-opacity:1\"/>\n",
       "<path class=\"bond-8 atom-8 atom-9\" d=\"M 187.9,80.0 L 163.1,82.7\" style=\"fill:none;fill-rule:evenodd;stroke:#000000;stroke-width:2.0px;stroke-linecap:butt;stroke-linejoin:miter;stroke-opacity:1\"/>\n",
       "<path class=\"bond-9 atom-10 atom-11\" d=\"M 152.7,245.8 L 140.3,218.3\" style=\"fill:none;fill-rule:evenodd;stroke:#000000;stroke-width:2.0px;stroke-linecap:butt;stroke-linejoin:miter;stroke-opacity:1\"/>\n",
       "<path class=\"bond-10 atom-11 atom-12\" d=\"M 140.3,218.3 L 110.2,215.3\" style=\"fill:none;fill-rule:evenodd;stroke:#000000;stroke-width:2.0px;stroke-linecap:butt;stroke-linejoin:miter;stroke-opacity:1\"/>\n",
       "<path class=\"bond-10 atom-11 atom-12\" d=\"M 138.1,213.5 L 113.3,211.1\" style=\"fill:none;fill-rule:evenodd;stroke:#000000;stroke-width:2.0px;stroke-linecap:butt;stroke-linejoin:miter;stroke-opacity:1\"/>\n",
       "<path class=\"bond-11 atom-12 atom-13\" d=\"M 110.2,215.3 L 97.8,187.8\" style=\"fill:none;fill-rule:evenodd;stroke:#000000;stroke-width:2.0px;stroke-linecap:butt;stroke-linejoin:miter;stroke-opacity:1\"/>\n",
       "<path class=\"bond-12 atom-13 atom-14\" d=\"M 97.8,187.8 L 115.4,163.3\" style=\"fill:none;fill-rule:evenodd;stroke:#000000;stroke-width:2.0px;stroke-linecap:butt;stroke-linejoin:miter;stroke-opacity:1\"/>\n",
       "<path class=\"bond-12 atom-13 atom-14\" d=\"M 103.0,188.3 L 117.5,168.0\" style=\"fill:none;fill-rule:evenodd;stroke:#000000;stroke-width:2.0px;stroke-linecap:butt;stroke-linejoin:miter;stroke-opacity:1\"/>\n",
       "<path class=\"bond-13 atom-14 atom-15\" d=\"M 115.4,163.3 L 145.4,166.3\" style=\"fill:none;fill-rule:evenodd;stroke:#000000;stroke-width:2.0px;stroke-linecap:butt;stroke-linejoin:miter;stroke-opacity:1\"/>\n",
       "<path class=\"bond-14 atom-15 atom-16\" d=\"M 145.4,166.3 L 157.9,193.8\" style=\"fill:none;fill-rule:evenodd;stroke:#000000;stroke-width:2.0px;stroke-linecap:butt;stroke-linejoin:miter;stroke-opacity:1\"/>\n",
       "<path class=\"bond-14 atom-15 atom-16\" d=\"M 142.4,170.5 L 152.7,193.3\" style=\"fill:none;fill-rule:evenodd;stroke:#000000;stroke-width:2.0px;stroke-linecap:butt;stroke-linejoin:miter;stroke-opacity:1\"/>\n",
       "<path class=\"bond-15 atom-17 atom-18\" d=\"M 102.9,135.8 L 73.4,129.7\" style=\"fill:none;fill-rule:evenodd;stroke:#000000;stroke-width:2.0px;stroke-linecap:butt;stroke-linejoin:miter;stroke-opacity:1\"/>\n",
       "<path class=\"bond-15 atom-17 atom-18\" d=\"M 100.6,130.7 L 77.5,125.9\" style=\"fill:none;fill-rule:evenodd;stroke:#000000;stroke-width:2.0px;stroke-linecap:butt;stroke-linejoin:miter;stroke-opacity:1\"/>\n",
       "<path class=\"bond-16 atom-18 atom-19\" d=\"M 73.4,129.7 L 70.0,99.6\" style=\"fill:none;fill-rule:evenodd;stroke:#000000;stroke-width:2.0px;stroke-linecap:butt;stroke-linejoin:miter;stroke-opacity:1\"/>\n",
       "<path class=\"bond-17 atom-19 atom-20\" d=\"M 70.0,99.6 L 81.7,94.4\" style=\"fill:none;fill-rule:evenodd;stroke:#000000;stroke-width:2.0px;stroke-linecap:butt;stroke-linejoin:miter;stroke-opacity:1\"/>\n",
       "<path class=\"bond-17 atom-19 atom-20\" d=\"M 81.7,94.4 L 93.3,89.1\" style=\"fill:none;fill-rule:evenodd;stroke:#0000FF;stroke-width:2.0px;stroke-linecap:butt;stroke-linejoin:miter;stroke-opacity:1\"/>\n",
       "<path class=\"bond-17 atom-19 atom-20\" d=\"M 74.9,102.4 L 85.0,97.8\" style=\"fill:none;fill-rule:evenodd;stroke:#000000;stroke-width:2.0px;stroke-linecap:butt;stroke-linejoin:miter;stroke-opacity:1\"/>\n",
       "<path class=\"bond-17 atom-19 atom-20\" d=\"M 85.0,97.8 L 95.2,93.2\" style=\"fill:none;fill-rule:evenodd;stroke:#0000FF;stroke-width:2.0px;stroke-linecap:butt;stroke-linejoin:miter;stroke-opacity:1\"/>\n",
       "<path class=\"bond-18 atom-20 atom-21\" d=\"M 101.8,91.8 L 113.6,104.9\" style=\"fill:none;fill-rule:evenodd;stroke:#0000FF;stroke-width:2.0px;stroke-linecap:butt;stroke-linejoin:miter;stroke-opacity:1\"/>\n",
       "<path class=\"bond-19 atom-22 atom-23\" d=\"M 43.8,84.7 L 32.4,78.2\" style=\"fill:none;fill-rule:evenodd;stroke:#000000;stroke-width:2.0px;stroke-linecap:butt;stroke-linejoin:miter;stroke-opacity:1\"/>\n",
       "<path class=\"bond-19 atom-22 atom-23\" d=\"M 32.4,78.2 L 21.1,71.8\" style=\"fill:none;fill-rule:evenodd;stroke:#33CCCC;stroke-width:2.0px;stroke-linecap:butt;stroke-linejoin:miter;stroke-opacity:1\"/>\n",
       "<path class=\"bond-20 atom-22 atom-24\" d=\"M 43.8,84.7 L 49.8,74.2\" style=\"fill:none;fill-rule:evenodd;stroke:#000000;stroke-width:2.0px;stroke-linecap:butt;stroke-linejoin:miter;stroke-opacity:1\"/>\n",
       "<path class=\"bond-20 atom-22 atom-24\" d=\"M 49.8,74.2 L 55.7,63.7\" style=\"fill:none;fill-rule:evenodd;stroke:#33CCCC;stroke-width:2.0px;stroke-linecap:butt;stroke-linejoin:miter;stroke-opacity:1\"/>\n",
       "<path class=\"bond-21 atom-22 atom-25\" d=\"M 43.8,84.7 L 37.8,95.2\" style=\"fill:none;fill-rule:evenodd;stroke:#000000;stroke-width:2.0px;stroke-linecap:butt;stroke-linejoin:miter;stroke-opacity:1\"/>\n",
       "<path class=\"bond-21 atom-22 atom-25\" d=\"M 37.8,95.2 L 31.8,105.7\" style=\"fill:none;fill-rule:evenodd;stroke:#33CCCC;stroke-width:2.0px;stroke-linecap:butt;stroke-linejoin:miter;stroke-opacity:1\"/>\n",
       "<path class=\"bond-22 atom-9 atom-0\" d=\"M 160.0,78.5 L 147.9,106.2\" style=\"fill:none;fill-rule:evenodd;stroke:#000000;stroke-width:2.0px;stroke-linecap:butt;stroke-linejoin:miter;stroke-opacity:1\"/>\n",
       "<path class=\"bond-23 atom-16 atom-11\" d=\"M 157.9,193.8 L 140.3,218.3\" style=\"fill:none;fill-rule:evenodd;stroke:#000000;stroke-width:2.0px;stroke-linecap:butt;stroke-linejoin:miter;stroke-opacity:1\"/>\n",
       "<path class=\"bond-24 atom-21 atom-17\" d=\"M 114.9,114.8 L 108.9,125.3\" style=\"fill:none;fill-rule:evenodd;stroke:#0000FF;stroke-width:2.0px;stroke-linecap:butt;stroke-linejoin:miter;stroke-opacity:1\"/>\n",
       "<path class=\"bond-24 atom-21 atom-17\" d=\"M 108.9,125.3 L 102.9,135.8\" style=\"fill:none;fill-rule:evenodd;stroke:#000000;stroke-width:2.0px;stroke-linecap:butt;stroke-linejoin:miter;stroke-opacity:1\"/>\n",
       "<path class=\"bond-25 atom-22 atom-19\" d=\"M 43.8,84.7 L 70.0,99.6\" style=\"fill:none;fill-rule:evenodd;stroke:#000000;stroke-width:2.0px;stroke-linecap:butt;stroke-linejoin:miter;stroke-opacity:1\"/>\n",
       "<path class=\"bond-26 atom-21 atom-0\" d=\"M 122.1,109.0 L 135.0,107.6\" style=\"fill:none;fill-rule:evenodd;stroke:#0000FF;stroke-width:2.0px;stroke-linecap:butt;stroke-linejoin:miter;stroke-opacity:1\"/>\n",
       "<path class=\"bond-26 atom-21 atom-0\" d=\"M 135.0,107.6 L 147.9,106.2\" style=\"fill:none;fill-rule:evenodd;stroke:#000000;stroke-width:2.0px;stroke-linecap:butt;stroke-linejoin:miter;stroke-opacity:1\"/>\n",
       "<path class=\"bond-27 atom-17 atom-14\" d=\"M 102.9,135.8 L 115.4,163.3\" style=\"fill:none;fill-rule:evenodd;stroke:#000000;stroke-width:2.0px;stroke-linecap:butt;stroke-linejoin:miter;stroke-opacity:1\"/>\n",
       "<path d=\"M 164.9,129.3 L 165.8,130.5 L 167.3,130.3\" style=\"fill:none;stroke:#000000;stroke-width:2.0px;stroke-linecap:butt;stroke-linejoin:miter;stroke-opacity:1;\"/>\n",
       "<path d=\"M 194.3,127.3 L 195.8,127.2 L 196.4,125.8\" style=\"fill:none;stroke:#000000;stroke-width:2.0px;stroke-linecap:butt;stroke-linejoin:miter;stroke-opacity:1;\"/>\n",
       "<path d=\"M 190.9,76.4 L 190.0,75.2 L 188.5,75.4\" style=\"fill:none;stroke:#000000;stroke-width:2.0px;stroke-linecap:butt;stroke-linejoin:miter;stroke-opacity:1;\"/>\n",
       "<path d=\"M 161.5,78.4 L 160.0,78.5 L 159.4,79.9\" style=\"fill:none;stroke:#000000;stroke-width:2.0px;stroke-linecap:butt;stroke-linejoin:miter;stroke-opacity:1;\"/>\n",
       "<path d=\"M 111.7,215.5 L 110.2,215.3 L 109.6,214.0\" style=\"fill:none;stroke:#000000;stroke-width:2.0px;stroke-linecap:butt;stroke-linejoin:miter;stroke-opacity:1;\"/>\n",
       "<path d=\"M 98.4,189.2 L 97.8,187.8 L 98.7,186.6\" style=\"fill:none;stroke:#000000;stroke-width:2.0px;stroke-linecap:butt;stroke-linejoin:miter;stroke-opacity:1;\"/>\n",
       "<path d=\"M 143.9,166.1 L 145.4,166.3 L 146.1,167.6\" style=\"fill:none;stroke:#000000;stroke-width:2.0px;stroke-linecap:butt;stroke-linejoin:miter;stroke-opacity:1;\"/>\n",
       "<path d=\"M 157.3,192.4 L 157.9,193.8 L 157.0,195.0\" style=\"fill:none;stroke:#000000;stroke-width:2.0px;stroke-linecap:butt;stroke-linejoin:miter;stroke-opacity:1;\"/>\n",
       "<path d=\"M 74.8,130.0 L 73.4,129.7 L 73.2,128.2\" style=\"fill:none;stroke:#000000;stroke-width:2.0px;stroke-linecap:butt;stroke-linejoin:miter;stroke-opacity:1;\"/>\n",
       "<path class=\"atom-4\" d=\"M 235.5 99.1 Q 235.6 99.2, 236.0 99.3 Q 236.4 99.5, 236.9 99.6 Q 237.3 99.7, 237.7 99.7 Q 238.6 99.7, 239.0 99.3 Q 239.5 98.9, 239.5 98.2 Q 239.5 97.8, 239.3 97.5 Q 239.0 97.2, 238.7 97.0 Q 238.3 96.9, 237.7 96.7 Q 236.9 96.5, 236.5 96.2 Q 236.0 96.0, 235.7 95.6 Q 235.4 95.1, 235.4 94.3 Q 235.4 93.2, 236.1 92.6 Q 236.9 91.9, 238.3 91.9 Q 239.3 91.9, 240.4 92.4 L 240.1 93.3 Q 239.1 92.9, 238.3 92.9 Q 237.5 92.9, 237.0 93.2 Q 236.6 93.6, 236.6 94.2 Q 236.6 94.6, 236.8 94.9 Q 237.1 95.2, 237.4 95.4 Q 237.8 95.5, 238.3 95.7 Q 239.1 95.9, 239.6 96.2 Q 240.0 96.4, 240.4 96.9 Q 240.7 97.4, 240.7 98.2 Q 240.7 99.4, 239.9 100.1 Q 239.1 100.7, 237.8 100.7 Q 237.0 100.7, 236.5 100.5 Q 235.9 100.4, 235.2 100.1 L 235.5 99.1 \" fill=\"#CCCC00\"/>\n",
       "<path class=\"atom-5\" d=\"M 266.1 88.6 L 268.9 93.1 Q 269.2 93.6, 269.6 94.4 Q 270.1 95.2, 270.1 95.2 L 270.1 88.6 L 271.2 88.6 L 271.2 97.1 L 270.0 97.1 L 267.0 92.2 Q 266.7 91.6, 266.3 90.9 Q 265.9 90.3, 265.8 90.1 L 265.8 97.1 L 264.7 97.1 L 264.7 88.6 L 266.1 88.6 \" fill=\"#0000FF\"/>\n",
       "<path class=\"atom-5\" d=\"M 272.8 88.6 L 274.0 88.6 L 274.0 92.2 L 278.4 92.2 L 278.4 88.6 L 279.5 88.6 L 279.5 97.1 L 278.4 97.1 L 278.4 93.2 L 274.0 93.2 L 274.0 97.1 L 272.8 97.1 L 272.8 88.6 \" fill=\"#0000FF\"/>\n",
       "<path class=\"atom-5\" d=\"M 281.2 96.8 Q 281.4 96.3, 281.9 96.0 Q 282.4 95.7, 283.1 95.7 Q 283.9 95.7, 284.4 96.2 Q 284.9 96.6, 284.9 97.4 Q 284.9 98.3, 284.3 99.1 Q 283.7 99.8, 282.4 100.8 L 285.0 100.8 L 285.0 101.4 L 281.2 101.4 L 281.2 100.9 Q 282.2 100.1, 282.9 99.6 Q 283.5 99.0, 283.8 98.5 Q 284.1 98.0, 284.1 97.5 Q 284.1 96.9, 283.8 96.6 Q 283.6 96.3, 283.1 96.3 Q 282.6 96.3, 282.3 96.5 Q 282.0 96.7, 281.8 97.1 L 281.2 96.8 \" fill=\"#0000FF\"/>\n",
       "<path class=\"atom-6\" d=\"M 237.4 126.2 Q 237.4 124.2, 238.4 123.0 Q 239.4 121.9, 241.3 121.9 Q 243.2 121.9, 244.2 123.0 Q 245.2 124.2, 245.2 126.2 Q 245.2 128.3, 244.2 129.5 Q 243.2 130.7, 241.3 130.7 Q 239.4 130.7, 238.4 129.5 Q 237.4 128.3, 237.4 126.2 M 241.3 129.7 Q 242.6 129.7, 243.3 128.8 Q 244.0 127.9, 244.0 126.2 Q 244.0 124.5, 243.3 123.7 Q 242.6 122.8, 241.3 122.8 Q 240.0 122.8, 239.3 123.7 Q 238.6 124.5, 238.6 126.2 Q 238.6 128.0, 239.3 128.8 Q 240.0 129.7, 241.3 129.7 \" fill=\"#FF0000\"/>\n",
       "<path class=\"atom-7\" d=\"M 230.7 66.2 Q 230.7 64.1, 231.7 63.0 Q 232.7 61.8, 234.6 61.8 Q 236.5 61.8, 237.5 63.0 Q 238.5 64.1, 238.5 66.2 Q 238.5 68.3, 237.5 69.5 Q 236.5 70.6, 234.6 70.6 Q 232.7 70.6, 231.7 69.5 Q 230.7 68.3, 230.7 66.2 M 234.6 69.7 Q 235.9 69.7, 236.6 68.8 Q 237.3 67.9, 237.3 66.2 Q 237.3 64.5, 236.6 63.7 Q 235.9 62.8, 234.6 62.8 Q 233.3 62.8, 232.6 63.7 Q 231.9 64.5, 231.9 66.2 Q 231.9 67.9, 232.6 68.8 Q 233.3 69.7, 234.6 69.7 \" fill=\"#FF0000\"/>\n",
       "<path class=\"atom-20\" d=\"M 95.7 82.9 L 98.5 87.4 Q 98.7 87.9, 99.2 88.7 Q 99.6 89.5, 99.7 89.6 L 99.7 82.9 L 100.8 82.9 L 100.8 91.5 L 99.6 91.5 L 96.6 86.5 Q 96.3 85.9, 95.9 85.3 Q 95.5 84.6, 95.4 84.4 L 95.4 91.5 L 94.3 91.5 L 94.3 82.9 L 95.7 82.9 \" fill=\"#0000FF\"/>\n",
       "<path class=\"atom-21\" d=\"M 116.0 105.2 L 118.8 109.8 Q 119.1 110.2, 119.5 111.0 Q 120.0 111.8, 120.0 111.9 L 120.0 105.2 L 121.1 105.2 L 121.1 113.8 L 120.0 113.8 L 116.9 108.8 Q 116.6 108.3, 116.2 107.6 Q 115.9 106.9, 115.8 106.7 L 115.8 113.8 L 114.6 113.8 L 114.6 105.2 L 116.0 105.2 \" fill=\"#0000FF\"/>\n",
       "<path class=\"atom-23\" d=\"M 15.0 65.5 L 20.1 65.5 L 20.1 66.4 L 16.1 66.4 L 16.1 69.0 L 19.7 69.0 L 19.7 70.0 L 16.1 70.0 L 16.1 74.0 L 15.0 74.0 L 15.0 65.5 \" fill=\"#33CCCC\"/>\n",
       "<path class=\"atom-24\" d=\"M 56.2 54.2 L 61.3 54.2 L 61.3 55.1 L 57.3 55.1 L 57.3 57.7 L 60.8 57.7 L 60.8 58.7 L 57.3 58.7 L 57.3 62.7 L 56.2 62.7 L 56.2 54.2 \" fill=\"#33CCCC\"/>\n",
       "<path class=\"atom-25\" d=\"M 26.3 106.7 L 31.4 106.7 L 31.4 107.6 L 27.4 107.6 L 27.4 110.2 L 30.9 110.2 L 30.9 111.2 L 27.4 111.2 L 27.4 115.2 L 26.3 115.2 L 26.3 106.7 \" fill=\"#33CCCC\"/>\n",
       "</svg>"
      ],
      "text/plain": [
       "<IPython.core.display.SVG object>"
      ]
     },
     "metadata": {},
     "output_type": "display_data"
    }
   ],
   "source": [
    "reconstructed = dm.to_mol(safe_str)\n",
    "\n",
    "display(dm.to_image(reconstructed))\n",
    "\n",
    "assert dm.same_mol(celecoxib_mol, reconstructed)\n"
   ]
  },
  {
   "attachments": {},
   "cell_type": "markdown",
   "metadata": {},
   "source": [
    "**SAFE supports randomization**\n",
    "\n",
    "You can generate randomized SAFE strings."
   ]
  },
  {
   "cell_type": "code",
   "execution_count": 5,
   "metadata": {},
   "outputs": [
    {
     "name": "stdout",
     "output_type": "stream",
     "text": [
      "c15ccc(S(N)(=O)=O)cc1.c16cc4nn15.C4(F)(F)F.c16ccc(C)cc1\n"
     ]
    }
   ],
   "source": [
    "random_safe_str = sf.encode(celecoxib_mol, canonical=False, randomize=True)\n",
    "\n",
    "print(random_safe_str)\n",
    "\n",
    "reconstructed = dm.to_mol(safe_str)\n",
    "\n",
    "assert dm.same_mol(celecoxib_mol, reconstructed)\n"
   ]
  },
  {
   "attachments": {},
   "cell_type": "markdown",
   "metadata": {},
   "source": [
    "**Fragment order in SAFE does not matter**\n",
    "\n",
    "Any permutation of the fragment order in a SAFE string preserve the molecule identity"
   ]
  },
  {
   "cell_type": "code",
   "execution_count": 6,
   "metadata": {},
   "outputs": [
    {
     "name": "stdout",
     "output_type": "stream",
     "text": [
      "c14ccc(S(N)(=O)=O)cc1.c15cc3nn14.Cc1ccc5cc1.C3(F)(F)F c14ccc(S(N)(=O)=O)cc1.Cc1ccc5cc1.c15cc3nn14.C3(F)(F)F\n"
     ]
    }
   ],
   "source": [
    "import numpy as np\n",
    "\n",
    "fragments = safe_str.split(\".\")\n",
    "randomized_fragment_safe_str = np.random.permutation(fragments).tolist()\n",
    "randomized_fragment_safe_str = \".\".join(randomized_fragment_safe_str)\n",
    "\n",
    "print(randomized_fragment_safe_str, safe_str)\n",
    "assert dm.same_mol(celecoxib_mol, randomized_fragment_safe_str)\n"
   ]
  },
  {
   "attachments": {},
   "cell_type": "markdown",
   "metadata": {},
   "source": [
    "**Use your own slicing logic**\n",
    "    \n",
    "By default SAFE strings are generated using `BRICS`, however, the following are supported:\n",
    "\n",
    "* [Hussain-Rea (`hr`)](https://pubs.acs.org/doi/10.1021/ci900450m)\n",
    "* [RECAP (`recap`)](https://pubmed.ncbi.nlm.nih.gov/9611787/)\n",
    "* [RDKit's MMPA (`mmpa`)](https://www.rdkit.org/docs/source/rdkit.Chem.rdMMPA.html)\n",
    "* Any possible attachment points (`attach`)\n",
    "    \n",
    "Furthermore, you can also provide your own slicing algorithm, which should return a pair of atoms corresponding to the bonds to break. "
   ]
  },
  {
   "cell_type": "code",
   "execution_count": 7,
   "metadata": {},
   "outputs": [],
   "source": [
    "def my_slicer(mol):\n",
    "    \"\"\"Slice on non single bonds where at both atoms are in a distinct rings\"\"\"\n",
    "    for bond in mol.GetBonds():\n",
    "        if bond.GetBondType() == dm.SINGLE_BOND and not bond.IsInRing() and (bond.GetBeginAtom().IsInRing() and bond.GetEndAtom().IsInRing()):\n",
    "            yield (bond.GetBeginAtomIdx(), bond.GetEndAtomIdx())\n"
   ]
  },
  {
   "cell_type": "code",
   "execution_count": 9,
   "metadata": {},
   "outputs": [
    {
     "name": "stdout",
     "output_type": "stream",
     "text": [
      "c14cc(C(F)(F)F)nn13.c13ccc(S(N)(=O)=O)cc1.Cc1ccc4cc1\n",
      "Representation using 3 fragments\n"
     ]
    }
   ],
   "source": [
    "safe_str = sf.encode(celecoxib_mol, canonical=True, slicer=my_slicer)\n",
    "print(safe_str)\n",
    "print(f\"Representation using {len(safe_str.split('.'))} fragments\")\n"
   ]
  },
  {
   "cell_type": "markdown",
   "metadata": {},
   "source": [
    "Or simply use a SMARTS or a list of SMARTS."
   ]
  },
  {
   "cell_type": "code",
   "execution_count": 11,
   "metadata": {},
   "outputs": [
    {
     "name": "stdout",
     "output_type": "stream",
     "text": [
      "c13cc(C(F)(F)F)nn14.c14ccc(S(N)(=O)=O)cc1.Cc1ccc3cc1\n",
      "Representation using 3 fragments\n"
     ]
    }
   ],
   "source": [
    "# The above is equivalent to using the following SMARTS:\n",
    "smart_slicer = [\"[r]-;!@[r]\"]\n",
    "safe_str = sf.encode(celecoxib_mol, canonical=True, slicer=smart_slicer)\n",
    "print(safe_str)\n",
    "print(f\"Representation using {len(safe_str.split('.'))} fragments\")\n"
   ]
  },
  {
   "attachments": {},
   "cell_type": "markdown",
   "metadata": {},
   "source": [
    "#### Decoding\n",
    "\n",
    "**Fragment order in SAFE does not matter**\n",
    "\n",
    "Each `SAFE fragment` is a valid molecule itself, however, you need to use the decoder to recover molecules where all attachment point are not fullfiled."
   ]
  },
  {
   "cell_type": "code",
   "execution_count": 13,
   "metadata": {},
   "outputs": [
    {
     "data": {
      "text/plain": [
       "['c13cc(C(F)(F)F)nn14', 'c14ccc(S(N)(=O)=O)cc1', 'Cc1ccc3cc1']"
      ]
     },
     "execution_count": 13,
     "metadata": {},
     "output_type": "execute_result"
    }
   ],
   "source": [
    "safe_fragment = safe_str.split(\".\")\n",
    "safe_fragment\n"
   ]
  },
  {
   "cell_type": "code",
   "execution_count": 14,
   "metadata": {},
   "outputs": [
    {
     "name": "stderr",
     "output_type": "stream",
     "text": [
      "[11:20:14] SMILES Parse Error: unclosed ring for input: 'c13cc(C(F)(F)F)nn14'\n"
     ]
    }
   ],
   "source": [
    "# the following will fail\n",
    "dm.to_mol(safe_fragment[0])\n"
   ]
  },
  {
   "cell_type": "code",
   "execution_count": 15,
   "metadata": {},
   "outputs": [
    {
     "data": {
      "image/png": "[encoded data removed]",
      "text/plain": [
       "<rdkit.Chem.rdchem.Mol at 0x7fb9a0276730>"
      ]
     },
     "execution_count": 15,
     "metadata": {},
     "output_type": "execute_result"
    }
   ],
   "source": [
    "# while this works\n",
    "sf.decode(safe_fragment[0], as_mol=True)\n"
   ]
  },
  {
   "cell_type": "code",
   "execution_count": 16,
   "metadata": {},
   "outputs": [
    {
     "data": {
      "image/png": "[encoded data removed]",
      "text/plain": [
       "<rdkit.Chem.rdchem.Mol at 0x7fb9a0276b90>"
      ]
     },
     "execution_count": 16,
     "metadata": {},
     "output_type": "execute_result"
    }
   ],
   "source": [
    "# if you want to keep the attachment points, then use remove_dummies=False\n",
    "sf.decode(safe_fragment[0], as_mol=True, remove_dummies=False)\n"
   ]
  },
  {
   "attachments": {},
   "cell_type": "markdown",
   "metadata": {},
   "source": [
    "### Displaying a SAFE encoding\n",
    "\n",
    "We provide a visualization module to display a safe string, with highlight of all the fragments that compose it.\n"
   ]
  },
  {
   "cell_type": "code",
   "execution_count": 17,
   "metadata": {},
   "outputs": [
    {
     "data": {
      "image/svg+xml": [
       "<svg xmlns=\"http://www.w3.org/2000/svg\" xmlns:rdkit=\"http://www.rdkit.org/xml\" xmlns:xlink=\"http://www.w3.org/1999/xlink\" version=\"1.1\" baseProfile=\"full\" xml:space=\"preserve\" width=\"300px\" height=\"300px\" viewBox=\"0 0 300 300\">\n",
       "<!-- END OF HEADER -->\n",
       "<rect style=\"opacity:1.0;fill:#FFFFFF;stroke:none\" width=\"300.0\" height=\"300.0\" x=\"0.0\" y=\"0.0\"> </rect>\n",
       "<path class=\"bond-0 atom-0 atom-1\" d=\"M 102.9,135.8 L 73.4,129.7\" style=\"fill:none;fill-rule:evenodd;stroke:#000000;stroke-width:2.0px;stroke-linecap:butt;stroke-linejoin:miter;stroke-opacity:1\"/>\n",
       "<path class=\"bond-0 atom-0 atom-1\" d=\"M 100.6,130.7 L 77.5,125.9\" style=\"fill:none;fill-rule:evenodd;stroke:#000000;stroke-width:2.0px;stroke-linecap:butt;stroke-linejoin:miter;stroke-opacity:1\"/>\n",
       "<path class=\"bond-1 atom-1 atom-2\" d=\"M 73.4,129.7 L 70.0,99.6\" style=\"fill:none;fill-rule:evenodd;stroke:#000000;stroke-width:2.0px;stroke-linecap:butt;stroke-linejoin:miter;stroke-opacity:1\"/>\n",
       "<path class=\"bond-2 atom-2 atom-3\" d=\"M 70.0,99.6 L 43.8,84.7\" style=\"fill:none;fill-rule:evenodd;stroke:#000000;stroke-width:2.0px;stroke-linecap:butt;stroke-linejoin:miter;stroke-opacity:1\"/>\n",
       "<path class=\"bond-3 atom-3 atom-4\" d=\"M 43.8,84.7 L 32.4,78.2\" style=\"fill:none;fill-rule:evenodd;stroke:#000000;stroke-width:2.0px;stroke-linecap:butt;stroke-linejoin:miter;stroke-opacity:1\"/>\n",
       "<path class=\"bond-3 atom-3 atom-4\" d=\"M 32.4,78.2 L 21.1,71.8\" style=\"fill:none;fill-rule:evenodd;stroke:#33CCCC;stroke-width:2.0px;stroke-linecap:butt;stroke-linejoin:miter;stroke-opacity:1\"/>\n",
       "<path class=\"bond-4 atom-3 atom-5\" d=\"M 43.8,84.7 L 49.8,74.2\" style=\"fill:none;fill-rule:evenodd;stroke:#000000;stroke-width:2.0px;stroke-linecap:butt;stroke-linejoin:miter;stroke-opacity:1\"/>\n",
       "<path class=\"bond-4 atom-3 atom-5\" d=\"M 49.8,74.2 L 55.7,63.7\" style=\"fill:none;fill-rule:evenodd;stroke:#33CCCC;stroke-width:2.0px;stroke-linecap:butt;stroke-linejoin:miter;stroke-opacity:1\"/>\n",
       "<path class=\"bond-5 atom-3 atom-6\" d=\"M 43.8,84.7 L 37.8,95.2\" style=\"fill:none;fill-rule:evenodd;stroke:#000000;stroke-width:2.0px;stroke-linecap:butt;stroke-linejoin:miter;stroke-opacity:1\"/>\n",
       "<path class=\"bond-5 atom-3 atom-6\" d=\"M 37.8,95.2 L 31.8,105.7\" style=\"fill:none;fill-rule:evenodd;stroke:#33CCCC;stroke-width:2.0px;stroke-linecap:butt;stroke-linejoin:miter;stroke-opacity:1\"/>\n",
       "<path class=\"bond-6 atom-2 atom-7\" d=\"M 70.0,99.6 L 81.7,94.4\" style=\"fill:none;fill-rule:evenodd;stroke:#000000;stroke-width:2.0px;stroke-linecap:butt;stroke-linejoin:miter;stroke-opacity:1\"/>\n",
       "<path class=\"bond-6 atom-2 atom-7\" d=\"M 81.7,94.4 L 93.3,89.1\" style=\"fill:none;fill-rule:evenodd;stroke:#0000FF;stroke-width:2.0px;stroke-linecap:butt;stroke-linejoin:miter;stroke-opacity:1\"/>\n",
       "<path class=\"bond-6 atom-2 atom-7\" d=\"M 74.9,102.4 L 85.0,97.8\" style=\"fill:none;fill-rule:evenodd;stroke:#000000;stroke-width:2.0px;stroke-linecap:butt;stroke-linejoin:miter;stroke-opacity:1\"/>\n",
       "<path class=\"bond-6 atom-2 atom-7\" d=\"M 85.0,97.8 L 95.2,93.2\" style=\"fill:none;fill-rule:evenodd;stroke:#0000FF;stroke-width:2.0px;stroke-linecap:butt;stroke-linejoin:miter;stroke-opacity:1\"/>\n",
       "<path class=\"bond-7 atom-7 atom-8\" d=\"M 101.8,91.8 L 113.6,104.9\" style=\"fill:none;fill-rule:evenodd;stroke:#0000FF;stroke-width:2.0px;stroke-linecap:butt;stroke-linejoin:miter;stroke-opacity:1\"/>\n",
       "<path class=\"bond-8 atom-9 atom-10\" d=\"M 147.9,106.2 L 165.8,130.5\" style=\"fill:none;fill-rule:evenodd;stroke:#000000;stroke-width:2.0px;stroke-linecap:butt;stroke-linejoin:miter;stroke-opacity:1\"/>\n",
       "<path class=\"bond-8 atom-9 atom-10\" d=\"M 153.1,105.6 L 167.9,125.7\" style=\"fill:none;fill-rule:evenodd;stroke:#000000;stroke-width:2.0px;stroke-linecap:butt;stroke-linejoin:miter;stroke-opacity:1\"/>\n",
       "<path class=\"bond-9 atom-10 atom-11\" d=\"M 165.8,130.5 L 195.8,127.2\" style=\"fill:none;fill-rule:evenodd;stroke:#000000;stroke-width:2.0px;stroke-linecap:butt;stroke-linejoin:miter;stroke-opacity:1\"/>\n",
       "<path class=\"bond-10 atom-11 atom-12\" d=\"M 195.8,127.2 L 207.9,99.5\" style=\"fill:none;fill-rule:evenodd;stroke:#000000;stroke-width:2.0px;stroke-linecap:butt;stroke-linejoin:miter;stroke-opacity:1\"/>\n",
       "<path class=\"bond-10 atom-11 atom-12\" d=\"M 192.7,123.0 L 202.7,100.1\" style=\"fill:none;fill-rule:evenodd;stroke:#000000;stroke-width:2.0px;stroke-linecap:butt;stroke-linejoin:miter;stroke-opacity:1\"/>\n",
       "<path class=\"bond-11 atom-12 atom-13\" d=\"M 207.9,99.5 L 221.1,98.1\" style=\"fill:none;fill-rule:evenodd;stroke:#000000;stroke-width:2.0px;stroke-linecap:butt;stroke-linejoin:miter;stroke-opacity:1\"/>\n",
       "<path class=\"bond-11 atom-12 atom-13\" d=\"M 221.1,98.1 L 234.2,96.6\" style=\"fill:none;fill-rule:evenodd;stroke:#CCCC00;stroke-width:2.0px;stroke-linecap:butt;stroke-linejoin:miter;stroke-opacity:1\"/>\n",
       "<path class=\"bond-12 atom-13 atom-14\" d=\"M 241.7,95.8 L 252.7,94.5\" style=\"fill:none;fill-rule:evenodd;stroke:#CCCC00;stroke-width:2.0px;stroke-linecap:butt;stroke-linejoin:miter;stroke-opacity:1\"/>\n",
       "<path class=\"bond-12 atom-13 atom-14\" d=\"M 252.7,94.5 L 263.7,93.3\" style=\"fill:none;fill-rule:evenodd;stroke:#0000FF;stroke-width:2.0px;stroke-linecap:butt;stroke-linejoin:miter;stroke-opacity:1\"/>\n",
       "<path class=\"bond-13 atom-13 atom-15\" d=\"M 236.3,101.9 L 237.4,111.5\" style=\"fill:none;fill-rule:evenodd;stroke:#CCCC00;stroke-width:2.0px;stroke-linecap:butt;stroke-linejoin:miter;stroke-opacity:1\"/>\n",
       "<path class=\"bond-13 atom-13 atom-15\" d=\"M 237.4,111.5 L 238.4,121.1\" style=\"fill:none;fill-rule:evenodd;stroke:#FF0000;stroke-width:2.0px;stroke-linecap:butt;stroke-linejoin:miter;stroke-opacity:1\"/>\n",
       "<path class=\"bond-13 atom-13 atom-15\" d=\"M 240.8,101.4 L 241.9,111.0\" style=\"fill:none;fill-rule:evenodd;stroke:#CCCC00;stroke-width:2.0px;stroke-linecap:butt;stroke-linejoin:miter;stroke-opacity:1\"/>\n",
       "<path class=\"bond-13 atom-13 atom-15\" d=\"M 241.9,111.0 L 242.9,120.6\" style=\"fill:none;fill-rule:evenodd;stroke:#FF0000;stroke-width:2.0px;stroke-linecap:butt;stroke-linejoin:miter;stroke-opacity:1\"/>\n",
       "<path class=\"bond-14 atom-13 atom-16\" d=\"M 239.6,90.7 L 238.5,81.0\" style=\"fill:none;fill-rule:evenodd;stroke:#CCCC00;stroke-width:2.0px;stroke-linecap:butt;stroke-linejoin:miter;stroke-opacity:1\"/>\n",
       "<path class=\"bond-14 atom-13 atom-16\" d=\"M 238.5,81.0 L 237.5,71.4\" style=\"fill:none;fill-rule:evenodd;stroke:#FF0000;stroke-width:2.0px;stroke-linecap:butt;stroke-linejoin:miter;stroke-opacity:1\"/>\n",
       "<path class=\"bond-14 atom-13 atom-16\" d=\"M 235.1,91.2 L 234.0,81.5\" style=\"fill:none;fill-rule:evenodd;stroke:#CCCC00;stroke-width:2.0px;stroke-linecap:butt;stroke-linejoin:miter;stroke-opacity:1\"/>\n",
       "<path class=\"bond-14 atom-13 atom-16\" d=\"M 234.0,81.5 L 233.0,71.9\" style=\"fill:none;fill-rule:evenodd;stroke:#FF0000;stroke-width:2.0px;stroke-linecap:butt;stroke-linejoin:miter;stroke-opacity:1\"/>\n",
       "<path class=\"bond-15 atom-12 atom-17\" d=\"M 207.9,99.5 L 190.0,75.2\" style=\"fill:none;fill-rule:evenodd;stroke:#000000;stroke-width:2.0px;stroke-linecap:butt;stroke-linejoin:miter;stroke-opacity:1\"/>\n",
       "<path class=\"bond-16 atom-17 atom-18\" d=\"M 190.0,75.2 L 160.0,78.5\" style=\"fill:none;fill-rule:evenodd;stroke:#000000;stroke-width:2.0px;stroke-linecap:butt;stroke-linejoin:miter;stroke-opacity:1\"/>\n",
       "<path class=\"bond-16 atom-17 atom-18\" d=\"M 187.9,80.0 L 163.1,82.7\" style=\"fill:none;fill-rule:evenodd;stroke:#000000;stroke-width:2.0px;stroke-linecap:butt;stroke-linejoin:miter;stroke-opacity:1\"/>\n",
       "<path class=\"bond-17 atom-19 atom-20\" d=\"M 152.7,245.8 L 140.3,218.3\" style=\"fill:none;fill-rule:evenodd;stroke:#000000;stroke-width:2.0px;stroke-linecap:butt;stroke-linejoin:miter;stroke-opacity:1\"/>\n",
       "<path class=\"bond-18 atom-20 atom-21\" d=\"M 140.3,218.3 L 110.2,215.3\" style=\"fill:none;fill-rule:evenodd;stroke:#000000;stroke-width:2.0px;stroke-linecap:butt;stroke-linejoin:miter;stroke-opacity:1\"/>\n",
       "<path class=\"bond-18 atom-20 atom-21\" d=\"M 138.1,213.5 L 113.3,211.1\" style=\"fill:none;fill-rule:evenodd;stroke:#000000;stroke-width:2.0px;stroke-linecap:butt;stroke-linejoin:miter;stroke-opacity:1\"/>\n",
       "<path class=\"bond-19 atom-21 atom-22\" d=\"M 110.2,215.3 L 97.8,187.8\" style=\"fill:none;fill-rule:evenodd;stroke:#000000;stroke-width:2.0px;stroke-linecap:butt;stroke-linejoin:miter;stroke-opacity:1\"/>\n",
       "<path class=\"bond-20 atom-22 atom-23\" d=\"M 97.8,187.8 L 115.4,163.3\" style=\"fill:none;fill-rule:evenodd;stroke:#000000;stroke-width:2.0px;stroke-linecap:butt;stroke-linejoin:miter;stroke-opacity:1\"/>\n",
       "<path class=\"bond-20 atom-22 atom-23\" d=\"M 103.0,188.3 L 117.5,168.0\" style=\"fill:none;fill-rule:evenodd;stroke:#000000;stroke-width:2.0px;stroke-linecap:butt;stroke-linejoin:miter;stroke-opacity:1\"/>\n",
       "<path class=\"bond-21 atom-23 atom-24\" d=\"M 115.4,163.3 L 145.4,166.3\" style=\"fill:none;fill-rule:evenodd;stroke:#000000;stroke-width:2.0px;stroke-linecap:butt;stroke-linejoin:miter;stroke-opacity:1\"/>\n",
       "<path class=\"bond-22 atom-24 atom-25\" d=\"M 145.4,166.3 L 157.9,193.8\" style=\"fill:none;fill-rule:evenodd;stroke:#000000;stroke-width:2.0px;stroke-linecap:butt;stroke-linejoin:miter;stroke-opacity:1\"/>\n",
       "<path class=\"bond-22 atom-24 atom-25\" d=\"M 142.4,170.5 L 152.7,193.3\" style=\"fill:none;fill-rule:evenodd;stroke:#000000;stroke-width:2.0px;stroke-linecap:butt;stroke-linejoin:miter;stroke-opacity:1\"/>\n",
       "<path class=\"bond-23 atom-8 atom-0\" d=\"M 114.9,114.8 L 108.9,125.3\" style=\"fill:none;fill-rule:evenodd;stroke:#0000FF;stroke-width:2.0px;stroke-linecap:butt;stroke-linejoin:miter;stroke-opacity:1\"/>\n",
       "<path class=\"bond-23 atom-8 atom-0\" d=\"M 108.9,125.3 L 102.9,135.8\" style=\"fill:none;fill-rule:evenodd;stroke:#000000;stroke-width:2.0px;stroke-linecap:butt;stroke-linejoin:miter;stroke-opacity:1\"/>\n",
       "<path class=\"bond-24 atom-18 atom-9\" d=\"M 160.0,78.5 L 147.9,106.2\" style=\"fill:none;fill-rule:evenodd;stroke:#000000;stroke-width:2.0px;stroke-linecap:butt;stroke-linejoin:miter;stroke-opacity:1\"/>\n",
       "<path class=\"bond-25 atom-25 atom-20\" d=\"M 157.9,193.8 L 140.3,218.3\" style=\"fill:none;fill-rule:evenodd;stroke:#000000;stroke-width:2.0px;stroke-linecap:butt;stroke-linejoin:miter;stroke-opacity:1\"/>\n",
       "<path class=\"bond-26 atom-23 atom-0\" d=\"M 115.4,163.3 L 102.9,135.8\" style=\"fill:none;fill-rule:evenodd;stroke:#000000;stroke-width:2.0px;stroke-linecap:butt;stroke-linejoin:miter;stroke-opacity:1\"/>\n",
       "<path class=\"bond-27 atom-9 atom-8\" d=\"M 147.9,106.2 L 135.0,107.6\" style=\"fill:none;fill-rule:evenodd;stroke:#000000;stroke-width:2.0px;stroke-linecap:butt;stroke-linejoin:miter;stroke-opacity:1\"/>\n",
       "<path class=\"bond-27 atom-9 atom-8\" d=\"M 135.0,107.6 L 122.1,109.0\" style=\"fill:none;fill-rule:evenodd;stroke:#0000FF;stroke-width:2.0px;stroke-linecap:butt;stroke-linejoin:miter;stroke-opacity:1\"/>\n",
       "<path d=\"M 74.8,130.0 L 73.4,129.7 L 73.2,128.2\" style=\"fill:none;stroke:#000000;stroke-width:2.0px;stroke-linecap:butt;stroke-linejoin:miter;stroke-opacity:1;\"/>\n",
       "<path d=\"M 164.9,129.3 L 165.8,130.5 L 167.3,130.3\" style=\"fill:none;stroke:#000000;stroke-width:2.0px;stroke-linecap:butt;stroke-linejoin:miter;stroke-opacity:1;\"/>\n",
       "<path d=\"M 194.3,127.3 L 195.8,127.2 L 196.4,125.8\" style=\"fill:none;stroke:#000000;stroke-width:2.0px;stroke-linecap:butt;stroke-linejoin:miter;stroke-opacity:1;\"/>\n",
       "<path d=\"M 190.9,76.4 L 190.0,75.2 L 188.5,75.4\" style=\"fill:none;stroke:#000000;stroke-width:2.0px;stroke-linecap:butt;stroke-linejoin:miter;stroke-opacity:1;\"/>\n",
       "<path d=\"M 161.5,78.4 L 160.0,78.5 L 159.4,79.9\" style=\"fill:none;stroke:#000000;stroke-width:2.0px;stroke-linecap:butt;stroke-linejoin:miter;stroke-opacity:1;\"/>\n",
       "<path d=\"M 111.7,215.5 L 110.2,215.3 L 109.6,214.0\" style=\"fill:none;stroke:#000000;stroke-width:2.0px;stroke-linecap:butt;stroke-linejoin:miter;stroke-opacity:1;\"/>\n",
       "<path d=\"M 98.4,189.2 L 97.8,187.8 L 98.7,186.6\" style=\"fill:none;stroke:#000000;stroke-width:2.0px;stroke-linecap:butt;stroke-linejoin:miter;stroke-opacity:1;\"/>\n",
       "<path d=\"M 143.9,166.1 L 145.4,166.3 L 146.1,167.6\" style=\"fill:none;stroke:#000000;stroke-width:2.0px;stroke-linecap:butt;stroke-linejoin:miter;stroke-opacity:1;\"/>\n",
       "<path d=\"M 157.3,192.4 L 157.9,193.8 L 157.0,195.0\" style=\"fill:none;stroke:#000000;stroke-width:2.0px;stroke-linecap:butt;stroke-linejoin:miter;stroke-opacity:1;\"/>\n",
       "<path class=\"atom-4\" d=\"M 15.0 65.5 L 20.1 65.5 L 20.1 66.4 L 16.1 66.4 L 16.1 69.0 L 19.7 69.0 L 19.7 70.0 L 16.1 70.0 L 16.1 74.0 L 15.0 74.0 L 15.0 65.5 \" fill=\"#33CCCC\"/>\n",
       "<path class=\"atom-5\" d=\"M 56.2 54.2 L 61.3 54.2 L 61.3 55.1 L 57.3 55.1 L 57.3 57.7 L 60.8 57.7 L 60.8 58.7 L 57.3 58.7 L 57.3 62.7 L 56.2 62.7 L 56.2 54.2 \" fill=\"#33CCCC\"/>\n",
       "<path class=\"atom-6\" d=\"M 26.3 106.7 L 31.4 106.7 L 31.4 107.6 L 27.4 107.6 L 27.4 110.2 L 30.9 110.2 L 30.9 111.2 L 27.4 111.2 L 27.4 115.2 L 26.3 115.2 L 26.3 106.7 \" fill=\"#33CCCC\"/>\n",
       "<path class=\"atom-7\" d=\"M 95.7 82.9 L 98.5 87.4 Q 98.7 87.9, 99.2 88.7 Q 99.6 89.5, 99.7 89.6 L 99.7 82.9 L 100.8 82.9 L 100.8 91.5 L 99.6 91.5 L 96.6 86.5 Q 96.3 85.9, 95.9 85.3 Q 95.5 84.6, 95.4 84.4 L 95.4 91.5 L 94.3 91.5 L 94.3 82.9 L 95.7 82.9 \" fill=\"#0000FF\"/>\n",
       "<path class=\"atom-8\" d=\"M 116.0 105.2 L 118.8 109.8 Q 119.1 110.2, 119.5 111.0 Q 120.0 111.8, 120.0 111.9 L 120.0 105.2 L 121.1 105.2 L 121.1 113.8 L 120.0 113.8 L 116.9 108.8 Q 116.6 108.3, 116.2 107.6 Q 115.9 106.9, 115.8 106.7 L 115.8 113.8 L 114.6 113.8 L 114.6 105.2 L 116.0 105.2 \" fill=\"#0000FF\"/>\n",
       "<path class=\"atom-13\" d=\"M 235.5 99.1 Q 235.6 99.2, 236.0 99.3 Q 236.4 99.5, 236.9 99.6 Q 237.3 99.7, 237.7 99.7 Q 238.6 99.7, 239.0 99.3 Q 239.5 98.9, 239.5 98.2 Q 239.5 97.8, 239.3 97.5 Q 239.0 97.2, 238.7 97.0 Q 238.3 96.9, 237.7 96.7 Q 236.9 96.5, 236.5 96.2 Q 236.0 96.0, 235.7 95.6 Q 235.4 95.1, 235.4 94.3 Q 235.4 93.2, 236.1 92.6 Q 236.9 91.9, 238.3 91.9 Q 239.3 91.9, 240.4 92.4 L 240.1 93.3 Q 239.1 92.9, 238.3 92.9 Q 237.5 92.9, 237.0 93.2 Q 236.6 93.6, 236.6 94.2 Q 236.6 94.6, 236.8 94.9 Q 237.1 95.2, 237.4 95.4 Q 237.8 95.5, 238.3 95.7 Q 239.1 95.9, 239.6 96.2 Q 240.0 96.4, 240.4 96.9 Q 240.7 97.4, 240.7 98.2 Q 240.7 99.4, 239.9 100.1 Q 239.1 100.7, 237.8 100.7 Q 237.0 100.7, 236.5 100.5 Q 235.9 100.4, 235.2 100.1 L 235.5 99.1 \" fill=\"#CCCC00\"/>\n",
       "<path class=\"atom-14\" d=\"M 266.1 88.6 L 268.9 93.1 Q 269.2 93.6, 269.6 94.4 Q 270.1 95.2, 270.1 95.2 L 270.1 88.6 L 271.2 88.6 L 271.2 97.1 L 270.0 97.1 L 267.0 92.2 Q 266.7 91.6, 266.3 90.9 Q 265.9 90.3, 265.8 90.1 L 265.8 97.1 L 264.7 97.1 L 264.7 88.6 L 266.1 88.6 \" fill=\"#0000FF\"/>\n",
       "<path class=\"atom-14\" d=\"M 272.8 88.6 L 274.0 88.6 L 274.0 92.2 L 278.4 92.2 L 278.4 88.6 L 279.5 88.6 L 279.5 97.1 L 278.4 97.1 L 278.4 93.2 L 274.0 93.2 L 274.0 97.1 L 272.8 97.1 L 272.8 88.6 \" fill=\"#0000FF\"/>\n",
       "<path class=\"atom-14\" d=\"M 281.2 96.8 Q 281.4 96.3, 281.9 96.0 Q 282.4 95.7, 283.1 95.7 Q 283.9 95.7, 284.4 96.2 Q 284.9 96.6, 284.9 97.4 Q 284.9 98.3, 284.3 99.1 Q 283.7 99.8, 282.4 100.8 L 285.0 100.8 L 285.0 101.4 L 281.2 101.4 L 281.2 100.9 Q 282.2 100.1, 282.9 99.6 Q 283.5 99.0, 283.8 98.5 Q 284.1 98.0, 284.1 97.5 Q 284.1 96.9, 283.8 96.6 Q 283.6 96.3, 283.1 96.3 Q 282.6 96.3, 282.3 96.5 Q 282.0 96.7, 281.8 97.1 L 281.2 96.8 \" fill=\"#0000FF\"/>\n",
       "<path class=\"atom-15\" d=\"M 237.4 126.2 Q 237.4 124.2, 238.4 123.0 Q 239.4 121.9, 241.3 121.9 Q 243.2 121.9, 244.2 123.0 Q 245.2 124.2, 245.2 126.2 Q 245.2 128.3, 244.2 129.5 Q 243.2 130.7, 241.3 130.7 Q 239.4 130.7, 238.4 129.5 Q 237.4 128.3, 237.4 126.2 M 241.3 129.7 Q 242.6 129.7, 243.3 128.8 Q 244.0 127.9, 244.0 126.2 Q 244.0 124.5, 243.3 123.7 Q 242.6 122.8, 241.3 122.8 Q 240.0 122.8, 239.3 123.7 Q 238.6 124.5, 238.6 126.2 Q 238.6 128.0, 239.3 128.8 Q 240.0 129.7, 241.3 129.7 \" fill=\"#FF0000\"/>\n",
       "<path class=\"atom-16\" d=\"M 230.7 66.2 Q 230.7 64.1, 231.7 63.0 Q 232.7 61.8, 234.6 61.8 Q 236.5 61.8, 237.5 63.0 Q 238.5 64.1, 238.5 66.2 Q 238.5 68.3, 237.5 69.5 Q 236.5 70.6, 234.6 70.6 Q 232.7 70.6, 231.7 69.5 Q 230.7 68.3, 230.7 66.2 M 234.6 69.7 Q 235.9 69.7, 236.6 68.8 Q 237.3 67.9, 237.3 66.2 Q 237.3 64.5, 236.6 63.7 Q 235.9 62.8, 234.6 62.8 Q 233.3 62.8, 232.6 63.7 Q 231.9 64.5, 231.9 66.2 Q 231.9 67.9, 232.6 68.8 Q 233.3 69.7, 234.6 69.7 \" fill=\"#FF0000\"/>\n",
       "<rect style=\"opacity:1.0;fill:#FFFFFF;stroke:none\" width=\"300.0\" height=\"300.0\" x=\"0.0\" y=\"0.0\"> </rect>\n",
       "<path class=\"bond-0 atom-0 atom-1\" d=\"M 116.4,136.2 L 91.4,131.0\" style=\"fill:none;fill-rule:evenodd;stroke:#000000;stroke-width:2.0px;stroke-linecap:butt;stroke-linejoin:miter;stroke-opacity:1\"/>\n",
       "<path class=\"bond-0 atom-0 atom-1\" d=\"M 114.4,131.9 L 94.9,127.8\" style=\"fill:none;fill-rule:evenodd;stroke:#000000;stroke-width:2.0px;stroke-linecap:butt;stroke-linejoin:miter;stroke-opacity:1\"/>\n",
       "<path class=\"bond-1 atom-1 atom-2\" d=\"M 91.4,131.0 L 88.6,105.7\" style=\"fill:none;fill-rule:evenodd;stroke:#000000;stroke-width:2.0px;stroke-linecap:butt;stroke-linejoin:miter;stroke-opacity:1\"/>\n",
       "<path class=\"bond-2 atom-2 atom-3\" d=\"M 88.6,105.7 L 66.4,93.0\" style=\"fill:none;fill-rule:evenodd;stroke:#000000;stroke-width:2.0px;stroke-linecap:butt;stroke-linejoin:miter;stroke-opacity:1\"/>\n",
       "<path class=\"bond-3 atom-3 atom-4\" d=\"M 66.4,93.0 L 56.8,87.6\" style=\"fill:none;fill-rule:evenodd;stroke:#000000;stroke-width:2.0px;stroke-linecap:butt;stroke-linejoin:miter;stroke-opacity:1\"/>\n",
       "<path class=\"bond-3 atom-3 atom-4\" d=\"M 56.8,87.6 L 47.3,82.1\" style=\"fill:none;fill-rule:evenodd;stroke:#33CCCC;stroke-width:2.0px;stroke-linecap:butt;stroke-linejoin:miter;stroke-opacity:1\"/>\n",
       "<path class=\"bond-4 atom-3 atom-5\" d=\"M 66.4,93.0 L 71.5,84.2\" style=\"fill:none;fill-rule:evenodd;stroke:#000000;stroke-width:2.0px;stroke-linecap:butt;stroke-linejoin:miter;stroke-opacity:1\"/>\n",
       "<path class=\"bond-4 atom-3 atom-5\" d=\"M 71.5,84.2 L 76.5,75.3\" style=\"fill:none;fill-rule:evenodd;stroke:#33CCCC;stroke-width:2.0px;stroke-linecap:butt;stroke-linejoin:miter;stroke-opacity:1\"/>\n",
       "<path class=\"bond-5 atom-3 atom-6\" d=\"M 66.4,93.0 L 61.4,101.9\" style=\"fill:none;fill-rule:evenodd;stroke:#000000;stroke-width:2.0px;stroke-linecap:butt;stroke-linejoin:miter;stroke-opacity:1\"/>\n",
       "<path class=\"bond-5 atom-3 atom-6\" d=\"M 61.4,101.9 L 56.3,110.8\" style=\"fill:none;fill-rule:evenodd;stroke:#33CCCC;stroke-width:2.0px;stroke-linecap:butt;stroke-linejoin:miter;stroke-opacity:1\"/>\n",
       "<path class=\"bond-6 atom-2 atom-7\" d=\"M 88.6,105.7 L 98.4,101.2\" style=\"fill:none;fill-rule:evenodd;stroke:#000000;stroke-width:2.0px;stroke-linecap:butt;stroke-linejoin:miter;stroke-opacity:1\"/>\n",
       "<path class=\"bond-6 atom-2 atom-7\" d=\"M 98.4,101.2 L 108.2,96.8\" style=\"fill:none;fill-rule:evenodd;stroke:#0000FF;stroke-width:2.0px;stroke-linecap:butt;stroke-linejoin:miter;stroke-opacity:1\"/>\n",
       "<path class=\"bond-6 atom-2 atom-7\" d=\"M 92.7,108.0 L 101.3,104.1\" style=\"fill:none;fill-rule:evenodd;stroke:#000000;stroke-width:2.0px;stroke-linecap:butt;stroke-linejoin:miter;stroke-opacity:1\"/>\n",
       "<path class=\"bond-6 atom-2 atom-7\" d=\"M 101.3,104.1 L 109.8,100.3\" style=\"fill:none;fill-rule:evenodd;stroke:#0000FF;stroke-width:2.0px;stroke-linecap:butt;stroke-linejoin:miter;stroke-opacity:1\"/>\n",
       "<path class=\"bond-7 atom-7 atom-8\" d=\"M 115.4,99.1 L 125.4,110.1\" style=\"fill:none;fill-rule:evenodd;stroke:#0000FF;stroke-width:2.0px;stroke-linecap:butt;stroke-linejoin:miter;stroke-opacity:1\"/>\n",
       "<path class=\"bond-8 atom-9 atom-10\" d=\"M 154.3,111.2 L 169.5,131.7\" style=\"fill:none;fill-rule:evenodd;stroke:#000000;stroke-width:2.0px;stroke-linecap:butt;stroke-linejoin:miter;stroke-opacity:1\"/>\n",
       "<path class=\"bond-8 atom-9 atom-10\" d=\"M 158.7,110.7 L 171.2,127.7\" style=\"fill:none;fill-rule:evenodd;stroke:#000000;stroke-width:2.0px;stroke-linecap:butt;stroke-linejoin:miter;stroke-opacity:1\"/>\n",
       "<path class=\"bond-9 atom-10 atom-11\" d=\"M 169.5,131.7 L 194.8,128.9\" style=\"fill:none;fill-rule:evenodd;stroke:#000000;stroke-width:2.0px;stroke-linecap:butt;stroke-linejoin:miter;stroke-opacity:1\"/>\n",
       "<path class=\"bond-10 atom-11 atom-12\" d=\"M 194.8,128.9 L 205.0,105.6\" style=\"fill:none;fill-rule:evenodd;stroke:#000000;stroke-width:2.0px;stroke-linecap:butt;stroke-linejoin:miter;stroke-opacity:1\"/>\n",
       "<path class=\"bond-10 atom-11 atom-12\" d=\"M 192.2,125.4 L 200.6,106.1\" style=\"fill:none;fill-rule:evenodd;stroke:#000000;stroke-width:2.0px;stroke-linecap:butt;stroke-linejoin:miter;stroke-opacity:1\"/>\n",
       "<path class=\"bond-11 atom-12 atom-13\" d=\"M 205.0,105.6 L 216.1,104.3\" style=\"fill:none;fill-rule:evenodd;stroke:#000000;stroke-width:2.0px;stroke-linecap:butt;stroke-linejoin:miter;stroke-opacity:1\"/>\n",
       "<path class=\"bond-11 atom-12 atom-13\" d=\"M 216.1,104.3 L 227.2,103.1\" style=\"fill:none;fill-rule:evenodd;stroke:#CCCC00;stroke-width:2.0px;stroke-linecap:butt;stroke-linejoin:miter;stroke-opacity:1\"/>\n",
       "<path class=\"bond-12 atom-13 atom-14\" d=\"M 233.5,102.4 L 242.8,101.4\" style=\"fill:none;fill-rule:evenodd;stroke:#CCCC00;stroke-width:2.0px;stroke-linecap:butt;stroke-linejoin:miter;stroke-opacity:1\"/>\n",
       "<path class=\"bond-12 atom-13 atom-14\" d=\"M 242.8,101.4 L 252.1,100.3\" style=\"fill:none;fill-rule:evenodd;stroke:#0000FF;stroke-width:2.0px;stroke-linecap:butt;stroke-linejoin:miter;stroke-opacity:1\"/>\n",
       "<path class=\"bond-13 atom-13 atom-15\" d=\"M 229.0,107.6 L 229.9,115.7\" style=\"fill:none;fill-rule:evenodd;stroke:#CCCC00;stroke-width:2.0px;stroke-linecap:butt;stroke-linejoin:miter;stroke-opacity:1\"/>\n",
       "<path class=\"bond-13 atom-13 atom-15\" d=\"M 229.9,115.7 L 230.8,123.8\" style=\"fill:none;fill-rule:evenodd;stroke:#FF0000;stroke-width:2.0px;stroke-linecap:butt;stroke-linejoin:miter;stroke-opacity:1\"/>\n",
       "<path class=\"bond-13 atom-13 atom-15\" d=\"M 232.8,107.2 L 233.7,115.3\" style=\"fill:none;fill-rule:evenodd;stroke:#CCCC00;stroke-width:2.0px;stroke-linecap:butt;stroke-linejoin:miter;stroke-opacity:1\"/>\n",
       "<path class=\"bond-13 atom-13 atom-15\" d=\"M 233.7,115.3 L 234.6,123.4\" style=\"fill:none;fill-rule:evenodd;stroke:#FF0000;stroke-width:2.0px;stroke-linecap:butt;stroke-linejoin:miter;stroke-opacity:1\"/>\n",
       "<path class=\"bond-14 atom-13 atom-16\" d=\"M 231.8,98.1 L 230.9,90.0\" style=\"fill:none;fill-rule:evenodd;stroke:#CCCC00;stroke-width:2.0px;stroke-linecap:butt;stroke-linejoin:miter;stroke-opacity:1\"/>\n",
       "<path class=\"bond-14 atom-13 atom-16\" d=\"M 230.9,90.0 L 230.0,81.8\" style=\"fill:none;fill-rule:evenodd;stroke:#FF0000;stroke-width:2.0px;stroke-linecap:butt;stroke-linejoin:miter;stroke-opacity:1\"/>\n",
       "<path class=\"bond-14 atom-13 atom-16\" d=\"M 228.0,98.5 L 227.1,90.4\" style=\"fill:none;fill-rule:evenodd;stroke:#CCCC00;stroke-width:2.0px;stroke-linecap:butt;stroke-linejoin:miter;stroke-opacity:1\"/>\n",
       "<path class=\"bond-14 atom-13 atom-16\" d=\"M 227.1,90.4 L 226.2,82.2\" style=\"fill:none;fill-rule:evenodd;stroke:#FF0000;stroke-width:2.0px;stroke-linecap:butt;stroke-linejoin:miter;stroke-opacity:1\"/>\n",
       "<path class=\"bond-15 atom-12 atom-17\" d=\"M 205.0,105.6 L 189.9,85.0\" style=\"fill:none;fill-rule:evenodd;stroke:#000000;stroke-width:2.0px;stroke-linecap:butt;stroke-linejoin:miter;stroke-opacity:1\"/>\n",
       "<path class=\"bond-16 atom-17 atom-18\" d=\"M 189.9,85.0 L 164.6,87.8\" style=\"fill:none;fill-rule:evenodd;stroke:#000000;stroke-width:2.0px;stroke-linecap:butt;stroke-linejoin:miter;stroke-opacity:1\"/>\n",
       "<path class=\"bond-16 atom-17 atom-18\" d=\"M 188.2,89.1 L 167.2,91.4\" style=\"fill:none;fill-rule:evenodd;stroke:#000000;stroke-width:2.0px;stroke-linecap:butt;stroke-linejoin:miter;stroke-opacity:1\"/>\n",
       "<path class=\"bond-17 atom-19 atom-20\" d=\"M 158.4,229.1 L 147.9,205.9\" style=\"fill:none;fill-rule:evenodd;stroke:#000000;stroke-width:2.0px;stroke-linecap:butt;stroke-linejoin:miter;stroke-opacity:1\"/>\n",
       "<path class=\"bond-18 atom-20 atom-21\" d=\"M 147.9,205.9 L 122.5,203.4\" style=\"fill:none;fill-rule:evenodd;stroke:#000000;stroke-width:2.0px;stroke-linecap:butt;stroke-linejoin:miter;stroke-opacity:1\"/>\n",
       "<path class=\"bond-18 atom-20 atom-21\" d=\"M 146.1,201.9 L 125.1,199.8\" style=\"fill:none;fill-rule:evenodd;stroke:#000000;stroke-width:2.0px;stroke-linecap:butt;stroke-linejoin:miter;stroke-opacity:1\"/>\n",
       "<path class=\"bond-19 atom-21 atom-22\" d=\"M 122.5,203.4 L 112.0,180.1\" style=\"fill:none;fill-rule:evenodd;stroke:#000000;stroke-width:2.0px;stroke-linecap:butt;stroke-linejoin:miter;stroke-opacity:1\"/>\n",
       "<path class=\"bond-20 atom-22 atom-23\" d=\"M 112.0,180.1 L 126.9,159.4\" style=\"fill:none;fill-rule:evenodd;stroke:#000000;stroke-width:2.0px;stroke-linecap:butt;stroke-linejoin:miter;stroke-opacity:1\"/>\n",
       "<path class=\"bond-20 atom-22 atom-23\" d=\"M 116.4,180.6 L 128.7,163.4\" style=\"fill:none;fill-rule:evenodd;stroke:#000000;stroke-width:2.0px;stroke-linecap:butt;stroke-linejoin:miter;stroke-opacity:1\"/>\n",
       "<path class=\"bond-21 atom-23 atom-24\" d=\"M 126.9,159.4 L 152.3,161.9\" style=\"fill:none;fill-rule:evenodd;stroke:#000000;stroke-width:2.0px;stroke-linecap:butt;stroke-linejoin:miter;stroke-opacity:1\"/>\n",
       "<path class=\"bond-22 atom-24 atom-25\" d=\"M 152.3,161.9 L 162.8,185.2\" style=\"fill:none;fill-rule:evenodd;stroke:#000000;stroke-width:2.0px;stroke-linecap:butt;stroke-linejoin:miter;stroke-opacity:1\"/>\n",
       "<path class=\"bond-22 atom-24 atom-25\" d=\"M 149.7,165.5 L 158.4,184.7\" style=\"fill:none;fill-rule:evenodd;stroke:#000000;stroke-width:2.0px;stroke-linecap:butt;stroke-linejoin:miter;stroke-opacity:1\"/>\n",
       "<path class=\"bond-23 atom-8 atom-0\" d=\"M 126.5,118.5 L 121.4,127.3\" style=\"fill:none;fill-rule:evenodd;stroke:#0000FF;stroke-width:2.0px;stroke-linecap:butt;stroke-linejoin:miter;stroke-opacity:1\"/>\n",
       "<path class=\"bond-23 atom-8 atom-0\" d=\"M 121.4,127.3 L 116.4,136.2\" style=\"fill:none;fill-rule:evenodd;stroke:#000000;stroke-width:2.0px;stroke-linecap:butt;stroke-linejoin:miter;stroke-opacity:1\"/>\n",
       "<path class=\"bond-24 atom-18 atom-9\" d=\"M 164.6,87.8 L 154.3,111.2\" style=\"fill:none;fill-rule:evenodd;stroke:#000000;stroke-width:2.0px;stroke-linecap:butt;stroke-linejoin:miter;stroke-opacity:1\"/>\n",
       "<path class=\"bond-25 atom-25 atom-20\" d=\"M 162.8,185.2 L 147.9,205.9\" style=\"fill:none;fill-rule:evenodd;stroke:#000000;stroke-width:2.0px;stroke-linecap:butt;stroke-linejoin:miter;stroke-opacity:1\"/>\n",
       "<path class=\"bond-26 atom-23 atom-0\" d=\"M 126.9,159.4 L 116.4,136.2\" style=\"fill:none;fill-rule:evenodd;stroke:#000000;stroke-width:2.0px;stroke-linecap:butt;stroke-linejoin:miter;stroke-opacity:1\"/>\n",
       "<path class=\"bond-27 atom-9 atom-8\" d=\"M 154.3,111.2 L 143.5,112.4\" style=\"fill:none;fill-rule:evenodd;stroke:#000000;stroke-width:2.0px;stroke-linecap:butt;stroke-linejoin:miter;stroke-opacity:1\"/>\n",
       "<path class=\"bond-27 atom-9 atom-8\" d=\"M 143.5,112.4 L 132.6,113.6\" style=\"fill:none;fill-rule:evenodd;stroke:#0000FF;stroke-width:2.0px;stroke-linecap:butt;stroke-linejoin:miter;stroke-opacity:1\"/>\n",
       "<path d=\"M 92.7,131.3 L 91.4,131.0 L 91.3,129.7\" style=\"fill:none;stroke:#000000;stroke-width:2.0px;stroke-linecap:butt;stroke-linejoin:miter;stroke-opacity:1;\"/>\n",
       "<path d=\"M 168.7,130.7 L 169.5,131.7 L 170.7,131.6\" style=\"fill:none;stroke:#000000;stroke-width:2.0px;stroke-linecap:butt;stroke-linejoin:miter;stroke-opacity:1;\"/>\n",
       "<path d=\"M 193.5,129.1 L 194.8,128.9 L 195.3,127.8\" style=\"fill:none;stroke:#000000;stroke-width:2.0px;stroke-linecap:butt;stroke-linejoin:miter;stroke-opacity:1;\"/>\n",
       "<path d=\"M 190.7,86.1 L 189.9,85.0 L 188.7,85.2\" style=\"fill:none;stroke:#000000;stroke-width:2.0px;stroke-linecap:butt;stroke-linejoin:miter;stroke-opacity:1;\"/>\n",
       "<path d=\"M 165.8,87.7 L 164.6,87.8 L 164.1,89.0\" style=\"fill:none;stroke:#000000;stroke-width:2.0px;stroke-linecap:butt;stroke-linejoin:miter;stroke-opacity:1;\"/>\n",
       "<path d=\"M 123.8,203.5 L 122.5,203.4 L 122.0,202.2\" style=\"fill:none;stroke:#000000;stroke-width:2.0px;stroke-linecap:butt;stroke-linejoin:miter;stroke-opacity:1;\"/>\n",
       "<path d=\"M 112.5,181.3 L 112.0,180.1 L 112.8,179.1\" style=\"fill:none;stroke:#000000;stroke-width:2.0px;stroke-linecap:butt;stroke-linejoin:miter;stroke-opacity:1;\"/>\n",
       "<path d=\"M 151.0,161.8 L 152.3,161.9 L 152.8,163.1\" style=\"fill:none;stroke:#000000;stroke-width:2.0px;stroke-linecap:butt;stroke-linejoin:miter;stroke-opacity:1;\"/>\n",
       "<path d=\"M 162.2,184.0 L 162.8,185.2 L 162.0,186.2\" style=\"fill:none;stroke:#000000;stroke-width:2.0px;stroke-linecap:butt;stroke-linejoin:miter;stroke-opacity:1;\"/>\n",
       "<path class=\"atom-4\" d=\"M 42.1 76.8 L 46.4 76.8 L 46.4 77.6 L 43.1 77.6 L 43.1 79.8 L 46.1 79.8 L 46.1 80.7 L 43.1 80.7 L 43.1 84.0 L 42.1 84.0 L 42.1 76.8 \" fill=\"#33CCCC\"/>\n",
       "<path class=\"atom-5\" d=\"M 76.9 67.3 L 81.2 67.3 L 81.2 68.1 L 77.9 68.1 L 77.9 70.3 L 80.8 70.3 L 80.8 71.1 L 77.9 71.1 L 77.9 74.5 L 76.9 74.5 L 76.9 67.3 \" fill=\"#33CCCC\"/>\n",
       "<path class=\"atom-6\" d=\"M 51.7 111.6 L 56.0 111.6 L 56.0 112.4 L 52.6 112.4 L 52.6 114.6 L 55.6 114.6 L 55.6 115.5 L 52.6 115.5 L 52.6 118.8 L 51.7 118.8 L 51.7 111.6 \" fill=\"#33CCCC\"/>\n",
       "<path class=\"atom-7\" d=\"M 110.2 91.5 L 112.6 95.4 Q 112.8 95.8, 113.2 96.4 Q 113.6 97.1, 113.6 97.2 L 113.6 91.5 L 114.6 91.5 L 114.6 98.8 L 113.6 98.8 L 111.0 94.6 Q 110.7 94.1, 110.4 93.5 Q 110.1 93.0, 110.0 92.8 L 110.0 98.8 L 109.1 98.8 L 109.1 91.5 L 110.2 91.5 \" fill=\"#0000FF\"/>\n",
       "<path class=\"atom-8\" d=\"M 127.4 110.4 L 129.8 114.2 Q 130.0 114.6, 130.4 115.3 Q 130.8 116.0, 130.8 116.0 L 130.8 110.4 L 131.7 110.4 L 131.7 117.6 L 130.7 117.6 L 128.2 113.4 Q 127.9 113.0, 127.6 112.4 Q 127.3 111.8, 127.2 111.7 L 127.2 117.6 L 126.3 117.6 L 126.3 110.4 L 127.4 110.4 \" fill=\"#0000FF\"/>\n",
       "<path class=\"atom-13\" d=\"M 228.3 105.2 Q 228.4 105.3, 228.8 105.4 Q 229.1 105.5, 229.5 105.6 Q 229.8 105.7, 230.2 105.7 Q 230.9 105.7, 231.3 105.4 Q 231.7 105.1, 231.7 104.5 Q 231.7 104.1, 231.5 103.8 Q 231.3 103.6, 231.0 103.5 Q 230.7 103.3, 230.2 103.2 Q 229.5 103.0, 229.1 102.8 Q 228.8 102.6, 228.5 102.2 Q 228.2 101.8, 228.2 101.2 Q 228.2 100.3, 228.8 99.7 Q 229.5 99.2, 230.7 99.2 Q 231.5 99.2, 232.5 99.6 L 232.2 100.3 Q 231.4 100.0, 230.7 100.0 Q 230.0 100.0, 229.6 100.3 Q 229.2 100.6, 229.2 101.1 Q 229.2 101.4, 229.4 101.7 Q 229.6 101.9, 229.9 102.1 Q 230.2 102.2, 230.7 102.3 Q 231.4 102.5, 231.7 102.7 Q 232.1 102.9, 232.4 103.4 Q 232.7 103.8, 232.7 104.5 Q 232.7 105.5, 232.0 106.0 Q 231.4 106.5, 230.2 106.5 Q 229.6 106.5, 229.1 106.4 Q 228.6 106.3, 228.1 106.0 L 228.3 105.2 \" fill=\"#CCCC00\"/>\n",
       "<path class=\"atom-14\" d=\"M 254.1 96.3 L 256.5 100.2 Q 256.7 100.5, 257.1 101.2 Q 257.5 101.9, 257.5 101.9 L 257.5 96.3 L 258.5 96.3 L 258.5 103.6 L 257.5 103.6 L 254.9 99.4 Q 254.6 98.9, 254.3 98.3 Q 254.0 97.8, 253.9 97.6 L 253.9 103.6 L 253.0 103.6 L 253.0 96.3 L 254.1 96.3 \" fill=\"#0000FF\"/>\n",
       "<path class=\"atom-14\" d=\"M 259.8 96.3 L 260.8 96.3 L 260.8 99.4 L 264.5 99.4 L 264.5 96.3 L 265.5 96.3 L 265.5 103.6 L 264.5 103.6 L 264.5 100.2 L 260.8 100.2 L 260.8 103.6 L 259.8 103.6 L 259.8 96.3 \" fill=\"#0000FF\"/>\n",
       "<path class=\"atom-14\" d=\"M 266.9 103.3 Q 267.1 102.8, 267.5 102.6 Q 267.9 102.3, 268.5 102.3 Q 269.2 102.3, 269.6 102.7 Q 270.0 103.1, 270.0 103.8 Q 270.0 104.5, 269.5 105.2 Q 269.0 105.8, 267.9 106.6 L 270.1 106.6 L 270.1 107.2 L 266.9 107.2 L 266.9 106.7 Q 267.8 106.1, 268.3 105.6 Q 268.8 105.1, 269.1 104.7 Q 269.4 104.3, 269.4 103.9 Q 269.4 103.4, 269.1 103.1 Q 268.9 102.9, 268.5 102.9 Q 268.1 102.9, 267.9 103.0 Q 267.6 103.2, 267.4 103.5 L 266.9 103.3 \" fill=\"#0000FF\"/>\n",
       "<path class=\"atom-15\" d=\"M 229.9 128.1 Q 229.9 126.4, 230.7 125.4 Q 231.6 124.4, 233.2 124.4 Q 234.8 124.4, 235.7 125.4 Q 236.5 126.4, 236.5 128.1 Q 236.5 129.9, 235.6 130.9 Q 234.8 131.9, 233.2 131.9 Q 231.6 131.9, 230.7 130.9 Q 229.9 129.9, 229.9 128.1 M 233.2 131.0 Q 234.3 131.0, 234.9 130.3 Q 235.5 129.6, 235.5 128.1 Q 235.5 126.7, 234.9 126.0 Q 234.3 125.3, 233.2 125.3 Q 232.1 125.3, 231.5 126.0 Q 230.9 126.7, 230.9 128.1 Q 230.9 129.6, 231.5 130.3 Q 232.1 131.0, 233.2 131.0 \" fill=\"#FF0000\"/>\n",
       "<path class=\"atom-16\" d=\"M 224.3 77.4 Q 224.3 75.7, 225.1 74.7 Q 226.0 73.8, 227.6 73.8 Q 229.2 73.8, 230.0 74.7 Q 230.9 75.7, 230.9 77.4 Q 230.9 79.2, 230.0 80.2 Q 229.1 81.2, 227.6 81.2 Q 226.0 81.2, 225.1 80.2 Q 224.3 79.2, 224.3 77.4 M 227.6 80.4 Q 228.7 80.4, 229.3 79.6 Q 229.9 78.9, 229.9 77.4 Q 229.9 76.0, 229.3 75.3 Q 228.7 74.6, 227.6 74.6 Q 226.5 74.6, 225.9 75.3 Q 225.3 76.0, 225.3 77.4 Q 225.3 78.9, 225.9 79.6 Q 226.5 80.4, 227.6 80.4 \" fill=\"#FF0000\"/>\n",
       "<path d=\"M 110.7,131.1 L 110.9,130.8 L 111.1,130.6 L 111.4,130.4 L 111.6,130.2 L 111.9,130.0 L 112.2,129.8 L 112.5,129.6 L 112.8,129.4 L 113.1,129.3 L 113.4,129.1 L 113.7,129.0 L 114.0,128.9 L 114.3,128.8 L 114.7,128.7 L 115.0,128.6 L 115.3,128.6 L 115.7,128.6 L 116.0,128.5 L 116.3,128.5\" style=\"fill:none;stroke:#FF0000;stroke-width:2.0px;stroke-linecap:butt;stroke-linejoin:miter;stroke-opacity:1;\"/>\n",
       "<path d=\"M 123.0,132.3 L 123.2,132.7 L 123.4,133.1 L 123.6,133.6 L 123.7,134.0 L 123.8,134.5 L 123.9,134.9 L 124.0,135.4 L 124.0,135.8 L 124.0,136.3 L 124.0,136.8 L 124.0,137.2 L 123.9,137.7 L 123.8,138.1 L 123.6,138.6 L 123.5,139.0 L 123.3,139.4 L 123.1,139.8 L 122.9,140.2 L 122.6,140.6\" style=\"fill:none;stroke:#FF0000;stroke-width:2.0px;stroke-linecap:butt;stroke-linejoin:miter;stroke-opacity:1;\"/>\n",
       "<path d=\"M 115.6,143.8 L 115.2,143.7 L 114.7,143.6 L 114.3,143.5 L 113.8,143.4 L 113.4,143.2 L 113.0,143.0 L 112.6,142.8 L 112.2,142.6 L 111.8,142.3 L 111.4,142.0 L 111.1,141.7 L 110.8,141.4 L 110.4,141.0 L 110.2,140.6 L 109.9,140.3 L 109.7,139.9 L 109.5,139.4 L 109.3,139.0 L 109.1,138.6\" style=\"fill:none;stroke:#FF0000;stroke-width:2.0px;stroke-linecap:butt;stroke-linejoin:miter;stroke-opacity:1;\"/>\n",
       "<path d=\"M 109.1,138.6 L 97.1,136.1\" style=\"fill:none;fill-rule:evenodd;stroke:#FF0000;stroke-width:2.0px;stroke-linecap:butt;stroke-linejoin:miter;stroke-opacity:1\"/>\n",
       "<path d=\"M 110.7,131.1 L 98.7,128.6\" style=\"fill:none;fill-rule:evenodd;stroke:#FF0000;stroke-width:2.0px;stroke-linecap:butt;stroke-linejoin:miter;stroke-opacity:1\"/>\n",
       "<path d=\"M 116.3,128.5 L 122.4,117.9\" style=\"fill:none;fill-rule:evenodd;stroke:#FF0000;stroke-width:2.0px;stroke-linecap:butt;stroke-linejoin:miter;stroke-opacity:1\"/>\n",
       "<path d=\"M 123.0,132.3 L 129.0,121.7\" style=\"fill:none;fill-rule:evenodd;stroke:#FF0000;stroke-width:2.0px;stroke-linecap:butt;stroke-linejoin:miter;stroke-opacity:1\"/>\n",
       "<path d=\"M 122.6,140.6 L 127.6,151.8\" style=\"fill:none;fill-rule:evenodd;stroke:#FF0000;stroke-width:2.0px;stroke-linecap:butt;stroke-linejoin:miter;stroke-opacity:1\"/>\n",
       "<path d=\"M 115.6,143.8 L 120.7,154.9\" style=\"fill:none;fill-rule:evenodd;stroke:#FF0000;stroke-width:2.0px;stroke-linecap:butt;stroke-linejoin:miter;stroke-opacity:1\"/>\n",
       "<path d=\"M 94.5,124.0 L 94.8,124.1 L 95.1,124.3 L 95.4,124.5 L 95.7,124.7 L 95.9,124.8 L 96.2,125.1 L 96.5,125.3 L 96.7,125.5 L 96.9,125.7 L 97.2,126.0 L 97.4,126.2 L 97.6,126.5 L 97.8,126.8 L 98.0,127.1 L 98.1,127.4 L 98.3,127.7 L 98.4,128.0 L 98.6,128.3 L 98.7,128.6\" style=\"fill:none;stroke:#FF0000;stroke-width:2.0px;stroke-linecap:butt;stroke-linejoin:miter;stroke-opacity:1;\"/>\n",
       "<path d=\"M 97.1,136.1 L 96.1,137.0 L 95.0,137.8 L 93.8,138.3 L 92.5,138.6 L 91.1,138.7 L 89.8,138.5 L 88.5,138.1 L 87.3,137.5 L 86.2,136.6 L 85.3,135.6 L 84.6,134.5 L 84.1,133.3 L 83.8,131.9 L 83.8,130.6 L 84.0,129.3 L 84.4,128.0 L 85.0,126.8 L 85.9,125.7 L 86.9,124.9\" style=\"fill:none;stroke:#FF0000;stroke-width:2.0px;stroke-linecap:butt;stroke-linejoin:miter;stroke-opacity:1;\"/>\n",
       "<path d=\"M 86.9,124.9 L 85.5,112.7\" style=\"fill:none;fill-rule:evenodd;stroke:#FF0000;stroke-width:2.0px;stroke-linecap:butt;stroke-linejoin:miter;stroke-opacity:1\"/>\n",
       "<path d=\"M 94.5,124.0 L 93.1,111.8\" style=\"fill:none;fill-rule:evenodd;stroke:#FF0000;stroke-width:2.0px;stroke-linecap:butt;stroke-linejoin:miter;stroke-opacity:1\"/>\n",
       "<path d=\"M 84.7,99.1 L 85.1,98.8 L 85.6,98.6 L 86.0,98.5 L 86.4,98.3 L 86.9,98.2 L 87.3,98.1 L 87.8,98.1 L 88.3,98.0 L 88.7,98.0 L 89.2,98.0 L 89.6,98.1 L 90.1,98.2 L 90.5,98.3 L 91.0,98.4 L 91.4,98.6 L 91.9,98.7 L 92.3,99.0 L 92.7,99.2 L 93.1,99.5\" style=\"fill:none;stroke:#FF0000;stroke-width:2.0px;stroke-linecap:butt;stroke-linejoin:miter;stroke-opacity:1;\"/>\n",
       "<path d=\"M 96.2,106.4 L 96.2,106.8 L 96.1,107.1 L 96.0,107.4 L 96.0,107.7 L 95.9,108.1 L 95.7,108.4 L 95.6,108.7 L 95.5,109.0 L 95.3,109.3 L 95.2,109.6 L 95.0,109.9 L 94.8,110.2 L 94.6,110.4 L 94.4,110.7 L 94.1,110.9 L 93.9,111.2 L 93.6,111.4 L 93.4,111.6 L 93.1,111.8\" style=\"fill:none;stroke:#FF0000;stroke-width:2.0px;stroke-linecap:butt;stroke-linejoin:miter;stroke-opacity:1;\"/>\n",
       "<path d=\"M 85.5,112.7 L 85.1,112.5 L 84.7,112.3 L 84.3,112.0 L 83.9,111.7 L 83.6,111.4 L 83.2,111.1 L 82.9,110.8 L 82.6,110.4 L 82.3,110.1 L 82.1,109.7 L 81.8,109.3 L 81.6,108.9 L 81.5,108.4 L 81.3,108.0 L 81.2,107.5 L 81.1,107.1 L 81.0,106.6 L 81.0,106.2 L 80.9,105.7\" style=\"fill:none;stroke:#FF0000;stroke-width:2.0px;stroke-linecap:butt;stroke-linejoin:miter;stroke-opacity:1;\"/>\n",
       "<path d=\"M 80.9,105.7 L 70.3,99.7\" style=\"fill:none;fill-rule:evenodd;stroke:#FF0000;stroke-width:2.0px;stroke-linecap:butt;stroke-linejoin:miter;stroke-opacity:1\"/>\n",
       "<path d=\"M 84.7,99.1 L 74.1,93.0\" style=\"fill:none;fill-rule:evenodd;stroke:#FF0000;stroke-width:2.0px;stroke-linecap:butt;stroke-linejoin:miter;stroke-opacity:1\"/>\n",
       "<path d=\"M 93.1,99.5 L 104.2,94.4\" style=\"fill:none;fill-rule:evenodd;stroke:#FF0000;stroke-width:2.0px;stroke-linecap:butt;stroke-linejoin:miter;stroke-opacity:1\"/>\n",
       "<path d=\"M 96.2,106.4 L 107.4,101.4\" style=\"fill:none;fill-rule:evenodd;stroke:#FF0000;stroke-width:2.0px;stroke-linecap:butt;stroke-linejoin:miter;stroke-opacity:1\"/>\n",
       "<path d=\"M 62.6,86.4 L 62.8,86.3 L 62.9,86.2 L 63.1,86.1 L 63.3,86.1 L 63.5,86.0 L 63.7,85.9 L 63.9,85.8 L 64.1,85.8 L 64.3,85.7 L 64.5,85.6 L 64.7,85.6 L 64.9,85.5 L 65.1,85.5 L 65.3,85.5 L 65.5,85.4 L 65.8,85.4 L 66.0,85.4 L 66.2,85.4 L 66.4,85.4\" style=\"fill:none;stroke:#FF0000;stroke-width:2.0px;stroke-linecap:butt;stroke-linejoin:miter;stroke-opacity:1;\"/>\n",
       "<path d=\"M 73.0,89.2 L 73.1,89.4 L 73.2,89.6 L 73.3,89.7 L 73.4,89.9 L 73.5,90.1 L 73.6,90.3 L 73.7,90.5 L 73.7,90.7 L 73.8,90.9 L 73.8,91.1 L 73.9,91.3 L 73.9,91.5 L 74.0,91.7 L 74.0,92.0 L 74.0,92.2 L 74.1,92.4 L 74.1,92.6 L 74.1,92.8 L 74.1,93.0\" style=\"fill:none;stroke:#FF0000;stroke-width:2.0px;stroke-linecap:butt;stroke-linejoin:miter;stroke-opacity:1;\"/>\n",
       "<path d=\"M 70.3,99.7 L 70.1,99.8 L 69.9,99.9 L 69.7,99.9 L 69.5,100.0 L 69.4,100.1 L 69.2,100.2 L 69.0,100.3 L 68.8,100.3 L 68.6,100.4 L 68.4,100.5 L 68.1,100.5 L 67.9,100.5 L 67.7,100.6 L 67.5,100.6 L 67.3,100.6 L 67.1,100.7 L 66.9,100.7 L 66.7,100.7 L 66.5,100.7\" style=\"fill:none;stroke:#FF0000;stroke-width:2.0px;stroke-linecap:butt;stroke-linejoin:miter;stroke-opacity:1;\"/>\n",
       "<path d=\"M 59.8,96.9 L 59.7,96.7 L 59.6,96.5 L 59.5,96.4 L 59.4,96.2 L 59.4,96.0 L 59.3,95.8 L 59.2,95.6 L 59.1,95.4 L 59.1,95.2 L 59.0,95.0 L 59.0,94.8 L 58.9,94.6 L 58.9,94.4 L 58.9,94.1 L 58.8,93.9 L 58.8,93.7 L 58.8,93.5 L 58.8,93.3 L 58.8,93.1\" style=\"fill:none;stroke:#FF0000;stroke-width:2.0px;stroke-linecap:butt;stroke-linejoin:miter;stroke-opacity:1;\"/>\n",
       "<path d=\"M 58.8,93.1 L 48.1,87.0\" style=\"fill:none;fill-rule:evenodd;stroke:#FF0000;stroke-width:2.0px;stroke-linecap:butt;stroke-linejoin:miter;stroke-opacity:1\"/>\n",
       "<path d=\"M 62.6,86.4 L 51.9,80.4\" style=\"fill:none;fill-rule:evenodd;stroke:#FF0000;stroke-width:2.0px;stroke-linecap:butt;stroke-linejoin:miter;stroke-opacity:1\"/>\n",
       "<path d=\"M 66.4,85.4 L 72.5,74.8\" style=\"fill:none;fill-rule:evenodd;stroke:#FF0000;stroke-width:2.0px;stroke-linecap:butt;stroke-linejoin:miter;stroke-opacity:1\"/>\n",
       "<path d=\"M 73.0,89.2 L 79.1,78.5\" style=\"fill:none;fill-rule:evenodd;stroke:#FF0000;stroke-width:2.0px;stroke-linecap:butt;stroke-linejoin:miter;stroke-opacity:1\"/>\n",
       "<path d=\"M 66.5,100.7 L 60.4,111.3\" style=\"fill:none;fill-rule:evenodd;stroke:#FF0000;stroke-width:2.0px;stroke-linecap:butt;stroke-linejoin:miter;stroke-opacity:1\"/>\n",
       "<path d=\"M 59.8,96.9 L 53.8,107.6\" style=\"fill:none;fill-rule:evenodd;stroke:#FF0000;stroke-width:2.0px;stroke-linecap:butt;stroke-linejoin:miter;stroke-opacity:1\"/>\n",
       "<path d=\"M 48.1,87.0 L 46.2,87.8 L 44.1,88.1 L 42.0,87.7 L 40.1,86.9 L 38.5,85.5 L 37.4,83.7 L 36.7,81.7 L 36.7,79.6 L 37.2,77.6 L 38.2,75.8 L 39.7,74.3 L 41.5,73.3 L 43.6,72.8 L 45.7,72.9 L 47.7,73.6 L 49.4,74.8 L 50.8,76.4 L 51.6,78.3 L 51.9,80.4\" style=\"fill:none;stroke:#FF0000;stroke-width:2.0px;stroke-linecap:butt;stroke-linejoin:miter;stroke-opacity:1;\"/>\n",
       "<path d=\"M 72.5,74.8 L 71.6,72.8 L 71.4,70.7 L 71.7,68.6 L 72.6,66.7 L 74.0,65.1 L 75.7,64.0 L 77.7,63.4 L 79.9,63.3 L 81.9,63.8 L 83.7,64.8 L 85.2,66.3 L 86.2,68.2 L 86.7,70.2 L 86.6,72.3 L 85.9,74.3 L 84.7,76.0 L 83.1,77.4 L 81.2,78.2 L 79.1,78.5\" style=\"fill:none;stroke:#FF0000;stroke-width:2.0px;stroke-linecap:butt;stroke-linejoin:miter;stroke-opacity:1;\"/>\n",
       "<path d=\"M 60.4,111.3 L 61.2,113.3 L 61.5,115.4 L 61.1,117.4 L 60.2,119.4 L 58.9,120.9 L 57.1,122.1 L 55.1,122.7 L 53.0,122.8 L 51.0,122.3 L 49.1,121.3 L 47.7,119.8 L 46.7,117.9 L 46.2,115.9 L 46.3,113.8 L 47.0,111.8 L 48.2,110.1 L 49.8,108.7 L 51.7,107.9 L 53.8,107.6\" style=\"fill:none;stroke:#FF0000;stroke-width:2.0px;stroke-linecap:butt;stroke-linejoin:miter;stroke-opacity:1;\"/>\n",
       "<path d=\"M 104.2,94.4 L 104.5,93.1 L 104.9,91.8 L 105.6,90.7 L 106.5,89.6 L 107.6,88.8 L 108.8,88.2 L 110.0,87.7 L 111.4,87.5 L 112.7,87.6 L 114.0,87.8 L 115.3,88.3 L 116.4,89.0 L 117.4,89.9 L 118.3,91.0 L 118.9,92.2 L 119.3,93.5 L 119.5,94.8 L 119.4,96.2 L 119.1,97.5\" style=\"fill:none;stroke:#FF0000;stroke-width:2.0px;stroke-linecap:butt;stroke-linejoin:miter;stroke-opacity:1;\"/>\n",
       "<path d=\"M 113.5,102.6 L 113.1,102.7 L 112.8,102.7 L 112.5,102.8 L 112.1,102.8 L 111.8,102.8 L 111.4,102.8 L 111.1,102.8 L 110.8,102.7 L 110.4,102.7 L 110.1,102.6 L 109.8,102.5 L 109.5,102.4 L 109.1,102.3 L 108.8,102.2 L 108.5,102.1 L 108.2,101.9 L 107.9,101.7 L 107.6,101.6 L 107.4,101.4\" style=\"fill:none;stroke:#FF0000;stroke-width:2.0px;stroke-linecap:butt;stroke-linejoin:miter;stroke-opacity:1;\"/>\n",
       "<path d=\"M 119.1,97.5 L 127.4,106.5\" style=\"fill:none;fill-rule:evenodd;stroke:#FF0000;stroke-width:2.0px;stroke-linecap:butt;stroke-linejoin:miter;stroke-opacity:1\"/>\n",
       "<path d=\"M 113.5,102.6 L 121.7,111.7\" style=\"fill:none;fill-rule:evenodd;stroke:#FF0000;stroke-width:2.0px;stroke-linecap:butt;stroke-linejoin:miter;stroke-opacity:1\"/>\n",
       "<path d=\"M 127.4,106.5 L 127.8,106.5 L 128.3,106.4 L 128.7,106.4 L 129.2,106.4 L 129.7,106.4 L 130.1,106.4 L 130.6,106.5 L 131.0,106.6 L 131.5,106.8 L 131.9,106.9 L 132.3,107.1 L 132.7,107.3 L 133.1,107.6 L 133.5,107.8 L 133.9,108.1 L 134.2,108.4 L 134.6,108.8 L 134.9,109.1 L 135.2,109.5\" style=\"fill:none;stroke:#FF0000;stroke-width:2.0px;stroke-linecap:butt;stroke-linejoin:miter;stroke-opacity:1;\"/>\n",
       "<path d=\"M 136.0,117.1 L 135.8,117.5 L 135.6,117.9 L 135.3,118.3 L 135.1,118.7 L 134.8,119.0 L 134.5,119.4 L 134.1,119.7 L 133.8,120.0 L 133.4,120.3 L 133.0,120.5 L 132.6,120.8 L 132.2,121.0 L 131.8,121.1 L 131.3,121.3 L 130.9,121.4 L 130.4,121.5 L 130.0,121.6 L 129.5,121.6 L 129.0,121.7\" style=\"fill:none;stroke:#FF0000;stroke-width:2.0px;stroke-linecap:butt;stroke-linejoin:miter;stroke-opacity:1;\"/>\n",
       "<path d=\"M 122.4,117.9 L 122.2,117.6 L 122.1,117.3 L 121.9,117.0 L 121.8,116.7 L 121.7,116.3 L 121.6,116.0 L 121.5,115.7 L 121.5,115.4 L 121.4,115.0 L 121.4,114.7 L 121.4,114.4 L 121.4,114.0 L 121.4,113.7 L 121.4,113.3 L 121.4,113.0 L 121.5,112.7 L 121.5,112.3 L 121.6,112.0 L 121.7,111.7\" style=\"fill:none;stroke:#FF0000;stroke-width:2.0px;stroke-linecap:butt;stroke-linejoin:miter;stroke-opacity:1;\"/>\n",
       "<path d=\"M 135.2,109.5 L 147.3,108.1\" style=\"fill:none;fill-rule:evenodd;stroke:#FF0000;stroke-width:2.0px;stroke-linecap:butt;stroke-linejoin:miter;stroke-opacity:1\"/>\n",
       "<path d=\"M 136.0,117.1 L 148.2,115.7\" style=\"fill:none;fill-rule:evenodd;stroke:#FF0000;stroke-width:2.0px;stroke-linecap:butt;stroke-linejoin:miter;stroke-opacity:1\"/>\n",
       "<path d=\"M 147.3,108.1 L 148.4,106.3 L 150.0,104.9 L 151.9,104.0 L 153.9,103.6 L 156.0,103.7 L 158.0,104.5 L 159.7,105.7 L 161.0,107.4 L 161.8,109.3 L 162.0,111.4 L 161.6,113.5 L 160.8,115.4 L 159.4,117.0 L 157.6,118.1 L 155.6,118.7 L 153.5,118.8 L 151.5,118.3 L 149.6,117.2 L 148.2,115.7\" style=\"fill:none;stroke:#FF0000;stroke-width:2.0px;stroke-linecap:butt;stroke-linejoin:miter;stroke-opacity:1;\"/>\n",
       "<path d=\"M 127.6,151.8 L 129.7,152.3 L 131.5,153.3 L 133.0,154.8 L 134.0,156.6 L 134.5,158.7 L 134.4,160.8 L 133.8,162.8 L 132.6,164.5 L 131.0,165.9 L 129.1,166.7 L 127.0,167.1 L 124.9,166.8 L 123.0,166.0 L 121.3,164.7 L 120.1,162.9 L 119.4,161.0 L 119.3,158.9 L 119.7,156.8 L 120.7,154.9\" style=\"fill:none;stroke:#FF0000;stroke-width:2.0px;stroke-linecap:butt;stroke-linejoin:miter;stroke-opacity:1;\"/>\n",
       "<path d=\"M 139.0,118.4 L 137.5,121.0 L 135.3,123.0 L 132.6,124.4 L 129.6,125.0 L 126.6,124.7 L 123.8,123.7 L 121.4,121.9 L 119.5,119.5 L 118.4,116.7 L 118.0,113.7 L 118.5,110.7 L 119.8,108.0 L 121.8,105.7 L 124.3,104.1 L 127.2,103.2 L 130.2,103.1 L 133.1,103.9 L 135.7,105.4 L 137.8,107.5\" style=\"fill:none;stroke:#007FFF;stroke-width:2.0px;stroke-linecap:butt;stroke-linejoin:miter;stroke-opacity:1;\"/>\n",
       "<path d=\"M 137.8,107.5 L 144.3,106.8\" style=\"fill:none;fill-rule:evenodd;stroke:#007FFF;stroke-width:2.0px;stroke-linecap:butt;stroke-linejoin:miter;stroke-opacity:1\"/>\n",
       "<path d=\"M 139.0,118.4 L 145.5,117.7\" style=\"fill:none;fill-rule:evenodd;stroke:#007FFF;stroke-width:2.0px;stroke-linecap:butt;stroke-linejoin:miter;stroke-opacity:1\"/>\n",
       "<path d=\"M 144.3,106.8 L 144.6,106.2 L 144.8,105.7 L 145.2,105.2 L 145.5,104.7 L 145.9,104.2 L 146.3,103.8 L 146.7,103.3 L 147.1,102.9 L 147.6,102.5 L 148.1,102.2 L 148.6,101.9 L 149.1,101.6 L 149.7,101.3 L 150.2,101.0 L 150.8,100.8 L 151.4,100.6 L 151.9,100.5 L 152.5,100.4 L 153.1,100.3\" style=\"fill:none;stroke:#007FFF;stroke-width:2.0px;stroke-linecap:butt;stroke-linejoin:miter;stroke-opacity:1;\"/>\n",
       "<path d=\"M 163.2,104.7 L 163.5,105.2 L 163.8,105.7 L 164.1,106.2 L 164.4,106.8 L 164.6,107.3 L 164.8,107.9 L 165.0,108.5 L 165.1,109.1 L 165.2,109.7 L 165.3,110.3 L 165.3,110.9 L 165.3,111.5 L 165.3,112.1 L 165.2,112.7 L 165.1,113.3 L 165.0,113.9 L 164.8,114.5 L 164.6,115.0 L 164.4,115.6\" style=\"fill:none;stroke:#007FFF;stroke-width:2.0px;stroke-linecap:butt;stroke-linejoin:miter;stroke-opacity:1;\"/>\n",
       "<path d=\"M 155.6,122.1 L 155.0,122.1 L 154.3,122.2 L 153.7,122.1 L 153.1,122.1 L 152.5,122.0 L 152.0,121.9 L 151.4,121.7 L 150.8,121.6 L 150.2,121.4 L 149.7,121.1 L 149.1,120.8 L 148.6,120.5 L 148.1,120.2 L 147.6,119.9 L 147.1,119.5 L 146.7,119.1 L 146.3,118.6 L 145.9,118.2 L 145.5,117.7\" style=\"fill:none;stroke:#007FFF;stroke-width:2.0px;stroke-linecap:butt;stroke-linejoin:miter;stroke-opacity:1;\"/>\n",
       "<path d=\"M 164.4,115.6 L 168.2,120.8\" style=\"fill:none;fill-rule:evenodd;stroke:#007FFF;stroke-width:2.0px;stroke-linecap:butt;stroke-linejoin:miter;stroke-opacity:1\"/>\n",
       "<path d=\"M 155.6,122.1 L 159.4,127.3\" style=\"fill:none;fill-rule:evenodd;stroke:#007FFF;stroke-width:2.0px;stroke-linecap:butt;stroke-linejoin:miter;stroke-opacity:1\"/>\n",
       "<path d=\"M 153.1,100.3 L 155.7,94.3\" style=\"fill:none;fill-rule:evenodd;stroke:#007FFF;stroke-width:2.0px;stroke-linecap:butt;stroke-linejoin:miter;stroke-opacity:1\"/>\n",
       "<path d=\"M 163.2,104.7 L 165.8,98.7\" style=\"fill:none;fill-rule:evenodd;stroke:#007FFF;stroke-width:2.0px;stroke-linecap:butt;stroke-linejoin:miter;stroke-opacity:1\"/>\n",
       "<path d=\"M 168.2,120.8 L 168.8,120.8 L 169.5,120.8 L 170.1,120.8 L 170.7,120.8 L 171.3,120.9 L 171.8,121.0 L 172.4,121.2 L 173.0,121.4 L 173.6,121.6 L 174.1,121.8 L 174.7,122.1 L 175.2,122.4 L 175.7,122.7 L 176.2,123.1 L 176.7,123.5 L 177.1,123.9 L 177.5,124.3 L 177.9,124.8 L 178.3,125.2\" style=\"fill:none;stroke:#007FFF;stroke-width:2.0px;stroke-linecap:butt;stroke-linejoin:miter;stroke-opacity:1;\"/>\n",
       "<path d=\"M 179.5,136.1 L 178.6,137.7 L 177.5,139.2 L 176.2,140.4 L 174.7,141.4 L 173.0,142.1 L 171.3,142.6 L 169.5,142.7 L 167.7,142.6 L 165.9,142.1 L 164.2,141.4 L 162.7,140.4 L 161.4,139.2 L 160.3,137.7 L 159.4,136.1 L 158.8,134.4 L 158.5,132.6 L 158.5,130.8 L 158.8,129.1 L 159.4,127.3\" style=\"fill:none;stroke:#007FFF;stroke-width:2.0px;stroke-linecap:butt;stroke-linejoin:miter;stroke-opacity:1;\"/>\n",
       "<path d=\"M 178.3,125.2 L 184.8,124.5\" style=\"fill:none;fill-rule:evenodd;stroke:#007FFF;stroke-width:2.0px;stroke-linecap:butt;stroke-linejoin:miter;stroke-opacity:1\"/>\n",
       "<path d=\"M 179.5,136.1 L 186.0,135.4\" style=\"fill:none;fill-rule:evenodd;stroke:#007FFF;stroke-width:2.0px;stroke-linecap:butt;stroke-linejoin:miter;stroke-opacity:1\"/>\n",
       "<path d=\"M 184.8,124.5 L 185.0,124.0 L 185.3,123.4 L 185.6,122.9 L 186.0,122.4 L 186.3,122.0 L 186.7,121.5 L 187.2,121.1 L 187.6,120.7 L 188.1,120.3 L 188.5,119.9 L 189.1,119.6 L 189.6,119.3 L 190.1,119.0 L 190.7,118.8 L 191.2,118.6 L 191.8,118.4 L 192.4,118.2 L 193.0,118.1 L 193.6,118.0\" style=\"fill:none;stroke:#007FFF;stroke-width:2.0px;stroke-linecap:butt;stroke-linejoin:miter;stroke-opacity:1;\"/>\n",
       "<path d=\"M 203.6,122.4 L 204.6,124.0 L 205.3,125.6 L 205.7,127.4 L 205.8,129.2 L 205.6,131.0 L 205.1,132.8 L 204.3,134.4 L 203.3,135.9 L 202.0,137.2 L 200.5,138.3 L 198.9,139.1 L 197.2,139.6 L 195.4,139.9 L 193.6,139.8 L 191.8,139.5 L 190.1,138.8 L 188.6,137.9 L 187.2,136.8 L 186.0,135.4\" style=\"fill:none;stroke:#007FFF;stroke-width:2.0px;stroke-linecap:butt;stroke-linejoin:miter;stroke-opacity:1;\"/>\n",
       "<path d=\"M 193.6,118.0 L 196.2,112.1\" style=\"fill:none;fill-rule:evenodd;stroke:#007FFF;stroke-width:2.0px;stroke-linecap:butt;stroke-linejoin:miter;stroke-opacity:1\"/>\n",
       "<path d=\"M 203.6,122.4 L 206.2,116.5\" style=\"fill:none;fill-rule:evenodd;stroke:#007FFF;stroke-width:2.0px;stroke-linecap:butt;stroke-linejoin:miter;stroke-opacity:1\"/>\n",
       "<path d=\"M 203.8,94.7 L 204.4,94.6 L 205.0,94.6 L 205.6,94.6 L 206.2,94.7 L 206.8,94.8 L 207.4,94.9 L 208.0,95.0 L 208.6,95.2 L 209.2,95.4 L 209.7,95.7 L 210.3,95.9 L 210.8,96.2 L 211.3,96.6 L 211.8,96.9 L 212.2,97.3 L 212.7,97.7 L 213.1,98.1 L 213.5,98.6 L 213.9,99.1\" style=\"fill:none;stroke:#007FFF;stroke-width:2.0px;stroke-linecap:butt;stroke-linejoin:miter;stroke-opacity:1;\"/>\n",
       "<path d=\"M 215.1,110.0 L 214.8,110.5 L 214.5,111.0 L 214.2,111.6 L 213.9,112.1 L 213.5,112.5 L 213.1,113.0 L 212.7,113.4 L 212.2,113.8 L 211.8,114.2 L 211.3,114.6 L 210.8,114.9 L 210.3,115.2 L 209.7,115.5 L 209.2,115.7 L 208.6,115.9 L 208.0,116.1 L 207.4,116.3 L 206.8,116.4 L 206.2,116.5\" style=\"fill:none;stroke:#007FFF;stroke-width:2.0px;stroke-linecap:butt;stroke-linejoin:miter;stroke-opacity:1;\"/>\n",
       "<path d=\"M 196.2,112.1 L 195.9,111.6 L 195.5,111.1 L 195.3,110.5 L 195.0,110.0 L 194.8,109.4 L 194.6,108.8 L 194.4,108.3 L 194.3,107.7 L 194.2,107.1 L 194.1,106.5 L 194.1,105.9 L 194.1,105.3 L 194.1,104.7 L 194.2,104.1 L 194.3,103.5 L 194.4,102.9 L 194.6,102.3 L 194.8,101.7 L 195.0,101.2\" style=\"fill:none;stroke:#007FFF;stroke-width:2.0px;stroke-linecap:butt;stroke-linejoin:miter;stroke-opacity:1;\"/>\n",
       "<path d=\"M 213.9,99.1 L 220.3,98.4\" style=\"fill:none;fill-rule:evenodd;stroke:#007FFF;stroke-width:2.0px;stroke-linecap:butt;stroke-linejoin:miter;stroke-opacity:1\"/>\n",
       "<path d=\"M 215.1,110.0 L 221.5,109.3\" style=\"fill:none;fill-rule:evenodd;stroke:#007FFF;stroke-width:2.0px;stroke-linecap:butt;stroke-linejoin:miter;stroke-opacity:1\"/>\n",
       "<path d=\"M 195.0,101.2 L 191.1,95.9\" style=\"fill:none;fill-rule:evenodd;stroke:#007FFF;stroke-width:2.0px;stroke-linecap:butt;stroke-linejoin:miter;stroke-opacity:1\"/>\n",
       "<path d=\"M 203.8,94.7 L 200.0,89.4\" style=\"fill:none;fill-rule:evenodd;stroke:#007FFF;stroke-width:2.0px;stroke-linecap:butt;stroke-linejoin:miter;stroke-opacity:1\"/>\n",
       "<path d=\"M 234.8,92.7 L 235.1,92.8 L 235.3,93.0 L 235.6,93.1 L 235.9,93.3 L 236.1,93.4 L 236.4,93.6 L 236.6,93.7 L 236.9,93.9 L 237.1,94.1 L 237.3,94.3 L 237.6,94.5 L 237.8,94.7 L 238.0,94.9 L 238.2,95.1 L 238.4,95.3 L 238.6,95.6 L 238.8,95.8 L 239.0,96.0 L 239.2,96.3\" style=\"fill:none;stroke:#007FFF;stroke-width:2.0px;stroke-linecap:butt;stroke-linejoin:miter;stroke-opacity:1;\"/>\n",
       "<path d=\"M 240.4,107.2 L 240.3,107.4 L 240.2,107.7 L 240.0,108.0 L 239.9,108.2 L 239.7,108.5 L 239.6,108.7 L 239.4,109.0 L 239.2,109.2 L 239.0,109.5 L 238.8,109.7 L 238.7,110.0 L 238.5,110.2 L 238.2,110.4 L 238.0,110.6 L 237.8,110.8 L 237.6,111.0 L 237.4,111.2 L 237.1,111.4 L 236.9,111.6\" style=\"fill:none;stroke:#007FFF;stroke-width:2.0px;stroke-linecap:butt;stroke-linejoin:miter;stroke-opacity:1;\"/>\n",
       "<path d=\"M 226.0,112.8 L 225.7,112.7 L 225.4,112.5 L 225.2,112.4 L 224.9,112.3 L 224.6,112.1 L 224.4,111.9 L 224.1,111.8 L 223.9,111.6 L 223.6,111.4 L 223.4,111.2 L 223.2,111.0 L 223.0,110.8 L 222.7,110.6 L 222.5,110.4 L 222.3,110.2 L 222.1,110.0 L 221.9,109.7 L 221.7,109.5 L 221.5,109.3\" style=\"fill:none;stroke:#007FFF;stroke-width:2.0px;stroke-linecap:butt;stroke-linejoin:miter;stroke-opacity:1;\"/>\n",
       "<path d=\"M 220.3,98.4 L 220.5,98.1 L 220.6,97.8 L 220.7,97.5 L 220.9,97.3 L 221.0,97.0 L 221.2,96.8 L 221.4,96.5 L 221.5,96.3 L 221.7,96.0 L 221.9,95.8 L 222.1,95.6 L 222.3,95.3 L 222.5,95.1 L 222.7,94.9 L 223.0,94.7 L 223.2,94.5 L 223.4,94.3 L 223.6,94.1 L 223.9,93.9\" style=\"fill:none;stroke:#007FFF;stroke-width:2.0px;stroke-linecap:butt;stroke-linejoin:miter;stroke-opacity:1;\"/>\n",
       "<path d=\"M 239.2,96.3 L 245.7,95.5\" style=\"fill:none;fill-rule:evenodd;stroke:#007FFF;stroke-width:2.0px;stroke-linecap:butt;stroke-linejoin:miter;stroke-opacity:1\"/>\n",
       "<path d=\"M 240.4,107.2 L 246.9,106.4\" style=\"fill:none;fill-rule:evenodd;stroke:#007FFF;stroke-width:2.0px;stroke-linecap:butt;stroke-linejoin:miter;stroke-opacity:1\"/>\n",
       "<path d=\"M 236.9,111.6 L 237.6,118.1\" style=\"fill:none;fill-rule:evenodd;stroke:#007FFF;stroke-width:2.0px;stroke-linecap:butt;stroke-linejoin:miter;stroke-opacity:1\"/>\n",
       "<path d=\"M 226.0,112.8 L 226.7,119.3\" style=\"fill:none;fill-rule:evenodd;stroke:#007FFF;stroke-width:2.0px;stroke-linecap:butt;stroke-linejoin:miter;stroke-opacity:1\"/>\n",
       "<path d=\"M 223.9,93.9 L 223.2,87.5\" style=\"fill:none;fill-rule:evenodd;stroke:#007FFF;stroke-width:2.0px;stroke-linecap:butt;stroke-linejoin:miter;stroke-opacity:1\"/>\n",
       "<path d=\"M 234.8,92.7 L 234.1,86.2\" style=\"fill:none;fill-rule:evenodd;stroke:#007FFF;stroke-width:2.0px;stroke-linecap:butt;stroke-linejoin:miter;stroke-opacity:1\"/>\n",
       "<path d=\"M 245.7,95.5 L 247.3,93.0 L 249.5,90.9 L 252.2,89.6 L 255.1,89.0 L 258.1,89.2 L 260.9,90.3 L 263.4,92.1 L 265.2,94.5 L 266.4,97.2 L 266.7,100.2 L 266.2,103.2 L 264.9,105.9 L 262.9,108.2 L 260.4,109.9 L 257.5,110.8 L 254.5,110.8 L 251.6,110.1 L 249.0,108.6 L 246.9,106.4\" style=\"fill:none;stroke:#007FFF;stroke-width:2.0px;stroke-linecap:butt;stroke-linejoin:miter;stroke-opacity:1;\"/>\n",
       "<path d=\"M 237.6,118.1 L 240.2,119.6 L 242.2,121.8 L 243.6,124.5 L 244.1,127.5 L 243.9,130.5 L 242.8,133.3 L 241.1,135.7 L 238.7,137.6 L 235.9,138.7 L 232.9,139.1 L 229.9,138.6 L 227.2,137.3 L 224.9,135.3 L 223.3,132.8 L 222.4,129.9 L 222.3,126.9 L 223.0,124.0 L 224.5,121.4 L 226.7,119.3\" style=\"fill:none;stroke:#007FFF;stroke-width:2.0px;stroke-linecap:butt;stroke-linejoin:miter;stroke-opacity:1;\"/>\n",
       "<path d=\"M 223.2,87.5 L 220.6,85.9 L 218.6,83.7 L 217.2,81.0 L 216.6,78.0 L 216.9,75.0 L 217.9,72.2 L 219.7,69.8 L 222.1,67.9 L 224.9,66.8 L 227.9,66.4 L 230.8,66.9 L 233.6,68.2 L 235.8,70.2 L 237.5,72.7 L 238.4,75.6 L 238.5,78.6 L 237.7,81.5 L 236.2,84.1 L 234.1,86.2\" style=\"fill:none;stroke:#007FFF;stroke-width:2.0px;stroke-linecap:butt;stroke-linejoin:miter;stroke-opacity:1;\"/>\n",
       "<path d=\"M 179.9,80.6 L 180.7,79.0 L 181.9,77.6 L 183.2,76.4 L 184.7,75.4 L 186.4,74.7 L 188.1,74.2 L 189.9,74.1 L 191.7,74.2 L 193.5,74.7 L 195.1,75.4 L 196.7,76.4 L 198.0,77.6 L 199.1,79.0 L 200.0,80.6 L 200.6,82.3 L 200.9,84.1 L 200.9,85.9 L 200.6,87.7 L 200.0,89.4\" style=\"fill:none;stroke:#007FFF;stroke-width:2.0px;stroke-linecap:butt;stroke-linejoin:miter;stroke-opacity:1;\"/>\n",
       "<path d=\"M 191.1,95.9 L 190.5,96.0 L 189.9,96.0 L 189.3,96.0 L 188.7,95.9 L 188.1,95.8 L 187.5,95.7 L 186.9,95.6 L 186.4,95.4 L 185.8,95.2 L 185.3,94.9 L 184.7,94.7 L 184.2,94.4 L 183.7,94.0 L 183.2,93.7 L 182.7,93.3 L 182.3,92.9 L 181.9,92.5 L 181.5,92.0 L 181.1,91.5\" style=\"fill:none;stroke:#007FFF;stroke-width:2.0px;stroke-linecap:butt;stroke-linejoin:miter;stroke-opacity:1;\"/>\n",
       "<path d=\"M 181.1,91.5 L 174.6,92.2\" style=\"fill:none;fill-rule:evenodd;stroke:#007FFF;stroke-width:2.0px;stroke-linecap:butt;stroke-linejoin:miter;stroke-opacity:1\"/>\n",
       "<path d=\"M 179.9,80.6 L 173.4,81.3\" style=\"fill:none;fill-rule:evenodd;stroke:#007FFF;stroke-width:2.0px;stroke-linecap:butt;stroke-linejoin:miter;stroke-opacity:1\"/>\n",
       "<path d=\"M 155.7,94.3 L 154.8,92.8 L 154.1,91.1 L 153.7,89.4 L 153.6,87.5 L 153.8,85.7 L 154.3,84.0 L 155.1,82.4 L 156.1,80.9 L 157.4,79.6 L 158.8,78.5 L 160.5,77.7 L 162.2,77.1 L 164.0,76.9 L 165.8,76.9 L 167.6,77.3 L 169.3,77.9 L 170.8,78.8 L 172.2,80.0 L 173.4,81.3\" style=\"fill:none;stroke:#007FFF;stroke-width:2.0px;stroke-linecap:butt;stroke-linejoin:miter;stroke-opacity:1;\"/>\n",
       "<path d=\"M 174.6,92.2 L 174.4,92.8 L 174.1,93.3 L 173.8,93.8 L 173.4,94.3 L 173.0,94.8 L 172.7,95.3 L 172.2,95.7 L 171.8,96.1 L 171.3,96.5 L 170.8,96.8 L 170.3,97.2 L 169.8,97.5 L 169.3,97.8 L 168.7,98.0 L 168.1,98.2 L 167.6,98.4 L 167.0,98.5 L 166.4,98.7 L 165.8,98.7\" style=\"fill:none;stroke:#007FFF;stroke-width:2.0px;stroke-linecap:butt;stroke-linejoin:miter;stroke-opacity:1;\"/>\n",
       "<path d=\"M 115.3,147.1 L 112.4,146.4 L 109.7,144.9 L 107.6,142.8 L 106.2,140.1 L 105.5,137.2 L 105.6,134.2 L 106.5,131.3 L 108.2,128.8 L 110.5,126.9 L 113.3,125.7 L 116.3,125.2 L 119.2,125.6 L 122.0,126.8 L 124.4,128.7 L 126.1,131.1 L 127.1,133.9 L 127.3,137.0 L 126.7,139.9 L 125.3,142.6\" style=\"fill:none;stroke:#FF7F00;stroke-width:2.0px;stroke-linecap:butt;stroke-linejoin:miter;stroke-opacity:1;\"/>\n",
       "<path d=\"M 125.3,142.6 L 128.0,148.5\" style=\"fill:none;fill-rule:evenodd;stroke:#FF7F00;stroke-width:2.0px;stroke-linecap:butt;stroke-linejoin:miter;stroke-opacity:1\"/>\n",
       "<path d=\"M 115.3,147.1 L 118.0,153.0\" style=\"fill:none;fill-rule:evenodd;stroke:#FF7F00;stroke-width:2.0px;stroke-linecap:butt;stroke-linejoin:miter;stroke-opacity:1\"/>\n",
       "<path d=\"M 159.5,218.2 L 162.4,218.9 L 165.0,220.4 L 167.2,222.5 L 168.6,225.1 L 169.3,228.1 L 169.2,231.1 L 168.3,234.0 L 166.6,236.4 L 164.3,238.4 L 161.5,239.6 L 158.5,240.1 L 155.5,239.7 L 152.8,238.5 L 150.4,236.6 L 148.7,234.2 L 147.7,231.3 L 147.5,228.3 L 148.1,225.4 L 149.5,222.7\" style=\"fill:none;stroke:#FF7F00;stroke-width:2.0px;stroke-linecap:butt;stroke-linejoin:miter;stroke-opacity:1;\"/>\n",
       "<path d=\"M 149.5,222.7 L 146.8,216.8\" style=\"fill:none;fill-rule:evenodd;stroke:#FF7F00;stroke-width:2.0px;stroke-linecap:butt;stroke-linejoin:miter;stroke-opacity:1\"/>\n",
       "<path d=\"M 159.5,218.2 L 156.8,212.3\" style=\"fill:none;fill-rule:evenodd;stroke:#FF7F00;stroke-width:2.0px;stroke-linecap:butt;stroke-linejoin:miter;stroke-opacity:1\"/>\n",
       "<path d=\"M 139.0,199.5 L 139.4,199.0 L 139.8,198.5 L 140.2,198.1 L 140.6,197.7 L 141.1,197.3 L 141.6,196.9 L 142.1,196.6 L 142.6,196.3 L 143.1,196.0 L 143.7,195.8 L 144.2,195.5 L 144.8,195.4 L 145.4,195.2 L 146.0,195.1 L 146.6,195.0 L 147.2,194.9 L 147.8,194.9 L 148.4,194.9 L 149.0,195.0\" style=\"fill:none;stroke:#FF7F00;stroke-width:2.0px;stroke-linecap:butt;stroke-linejoin:miter;stroke-opacity:1;\"/>\n",
       "<path d=\"M 157.9,201.4 L 158.1,201.9 L 158.3,202.5 L 158.5,203.1 L 158.6,203.7 L 158.7,204.2 L 158.8,204.8 L 158.9,205.4 L 158.9,206.1 L 158.8,206.7 L 158.8,207.3 L 158.7,207.9 L 158.6,208.4 L 158.4,209.0 L 158.2,209.6 L 158.0,210.2 L 157.7,210.7 L 157.5,211.2 L 157.2,211.8 L 156.8,212.3\" style=\"fill:none;stroke:#FF7F00;stroke-width:2.0px;stroke-linecap:butt;stroke-linejoin:miter;stroke-opacity:1;\"/>\n",
       "<path d=\"M 146.8,216.8 L 146.2,216.7 L 145.6,216.6 L 145.0,216.5 L 144.5,216.3 L 143.9,216.1 L 143.3,215.8 L 142.8,215.6 L 142.3,215.3 L 141.8,215.0 L 141.3,214.6 L 140.8,214.2 L 140.3,213.8 L 139.9,213.4 L 139.5,212.9 L 139.1,212.5 L 138.8,212.0 L 138.5,211.5 L 138.2,210.9 L 137.9,210.4\" style=\"fill:none;stroke:#FF7F00;stroke-width:2.0px;stroke-linecap:butt;stroke-linejoin:miter;stroke-opacity:1;\"/>\n",
       "<path d=\"M 137.9,210.4 L 131.4,209.8\" style=\"fill:none;fill-rule:evenodd;stroke:#FF7F00;stroke-width:2.0px;stroke-linecap:butt;stroke-linejoin:miter;stroke-opacity:1\"/>\n",
       "<path d=\"M 139.0,199.5 L 132.5,198.8\" style=\"fill:none;fill-rule:evenodd;stroke:#FF7F00;stroke-width:2.0px;stroke-linecap:butt;stroke-linejoin:miter;stroke-opacity:1\"/>\n",
       "<path d=\"M 149.0,195.0 L 152.8,189.7\" style=\"fill:none;fill-rule:evenodd;stroke:#FF7F00;stroke-width:2.0px;stroke-linecap:butt;stroke-linejoin:miter;stroke-opacity:1\"/>\n",
       "<path d=\"M 157.9,201.4 L 161.7,196.1\" style=\"fill:none;fill-rule:evenodd;stroke:#FF7F00;stroke-width:2.0px;stroke-linecap:butt;stroke-linejoin:miter;stroke-opacity:1\"/>\n",
       "<path d=\"M 123.6,192.4 L 124.2,192.5 L 124.8,192.6 L 125.4,192.8 L 126.0,192.9 L 126.5,193.2 L 127.1,193.4 L 127.6,193.7 L 128.2,194.0 L 128.7,194.3 L 129.2,194.6 L 129.6,195.0 L 130.1,195.4 L 130.5,195.8 L 130.9,196.3 L 131.3,196.8 L 131.6,197.3 L 132.0,197.8 L 132.3,198.3 L 132.5,198.8\" style=\"fill:none;stroke:#FF7F00;stroke-width:2.0px;stroke-linecap:butt;stroke-linejoin:miter;stroke-opacity:1;\"/>\n",
       "<path d=\"M 131.4,209.8 L 130.3,211.1 L 128.9,212.3 L 127.3,213.2 L 125.6,213.9 L 123.9,214.2 L 122.0,214.3 L 120.3,214.1 L 118.5,213.6 L 116.9,212.8 L 115.4,211.7 L 114.1,210.4 L 113.1,208.9 L 112.3,207.3 L 111.8,205.6 L 111.6,203.8 L 111.7,202.0 L 112.0,200.2 L 112.7,198.5 L 113.6,197.0\" style=\"fill:none;stroke:#FF7F00;stroke-width:2.0px;stroke-linecap:butt;stroke-linejoin:miter;stroke-opacity:1;\"/>\n",
       "<path d=\"M 113.6,197.0 L 110.9,191.0\" style=\"fill:none;fill-rule:evenodd;stroke:#FF7F00;stroke-width:2.0px;stroke-linecap:butt;stroke-linejoin:miter;stroke-opacity:1\"/>\n",
       "<path d=\"M 123.6,192.4 L 120.9,186.5\" style=\"fill:none;fill-rule:evenodd;stroke:#FF7F00;stroke-width:2.0px;stroke-linecap:butt;stroke-linejoin:miter;stroke-opacity:1\"/>\n",
       "<path d=\"M 110.9,191.0 L 109.2,190.7 L 107.5,190.1 L 105.9,189.2 L 104.5,188.1 L 103.3,186.7 L 102.3,185.2 L 101.6,183.5 L 101.2,181.8 L 101.1,179.9 L 101.2,178.1 L 101.7,176.4 L 102.5,174.7 L 103.5,173.2 L 104.7,171.9 L 106.2,170.8 L 107.8,170.0 L 109.5,169.5 L 111.3,169.2 L 113.1,169.2\" style=\"fill:none;stroke:#FF7F00;stroke-width:2.0px;stroke-linecap:butt;stroke-linejoin:miter;stroke-opacity:1;\"/>\n",
       "<path d=\"M 122.0,175.6 L 122.2,176.2 L 122.4,176.7 L 122.6,177.3 L 122.8,177.9 L 122.9,178.5 L 122.9,179.1 L 123.0,179.7 L 123.0,180.3 L 123.0,180.9 L 122.9,181.5 L 122.8,182.1 L 122.7,182.7 L 122.5,183.3 L 122.3,183.9 L 122.1,184.4 L 121.9,185.0 L 121.6,185.5 L 121.3,186.0 L 120.9,186.5\" style=\"fill:none;stroke:#FF7F00;stroke-width:2.0px;stroke-linecap:butt;stroke-linejoin:miter;stroke-opacity:1;\"/>\n",
       "<path d=\"M 113.1,169.2 L 116.9,163.9\" style=\"fill:none;fill-rule:evenodd;stroke:#FF7F00;stroke-width:2.0px;stroke-linecap:butt;stroke-linejoin:miter;stroke-opacity:1\"/>\n",
       "<path d=\"M 122.0,175.6 L 125.8,170.3\" style=\"fill:none;fill-rule:evenodd;stroke:#FF7F00;stroke-width:2.0px;stroke-linecap:butt;stroke-linejoin:miter;stroke-opacity:1\"/>\n",
       "<path d=\"M 128.0,148.5 L 128.6,148.6 L 129.2,148.7 L 129.8,148.8 L 130.3,149.0 L 130.9,149.2 L 131.5,149.4 L 132.0,149.7 L 132.5,150.0 L 133.0,150.3 L 133.5,150.7 L 134.0,151.1 L 134.4,151.5 L 134.9,151.9 L 135.3,152.3 L 135.6,152.8 L 136.0,153.3 L 136.3,153.8 L 136.6,154.3 L 136.9,154.9\" style=\"fill:none;stroke:#FF7F00;stroke-width:2.0px;stroke-linecap:butt;stroke-linejoin:miter;stroke-opacity:1;\"/>\n",
       "<path d=\"M 135.8,165.8 L 135.4,166.3 L 135.0,166.7 L 134.6,167.2 L 134.2,167.6 L 133.7,168.0 L 133.2,168.3 L 132.7,168.7 L 132.2,169.0 L 131.7,169.3 L 131.1,169.5 L 130.6,169.7 L 130.0,169.9 L 129.4,170.1 L 128.8,170.2 L 128.2,170.3 L 127.6,170.3 L 127.0,170.4 L 126.4,170.4 L 125.8,170.3\" style=\"fill:none;stroke:#FF7F00;stroke-width:2.0px;stroke-linecap:butt;stroke-linejoin:miter;stroke-opacity:1;\"/>\n",
       "<path d=\"M 116.9,163.9 L 116.7,163.4 L 116.5,162.8 L 116.3,162.2 L 116.2,161.6 L 116.0,161.0 L 116.0,160.4 L 115.9,159.8 L 115.9,159.2 L 116.0,158.6 L 116.0,158.0 L 116.1,157.4 L 116.2,156.8 L 116.4,156.3 L 116.6,155.7 L 116.8,155.1 L 117.0,154.6 L 117.3,154.0 L 117.6,153.5 L 118.0,153.0\" style=\"fill:none;stroke:#FF7F00;stroke-width:2.0px;stroke-linecap:butt;stroke-linejoin:miter;stroke-opacity:1;\"/>\n",
       "<path d=\"M 136.9,154.9 L 143.4,155.5\" style=\"fill:none;fill-rule:evenodd;stroke:#FF7F00;stroke-width:2.0px;stroke-linecap:butt;stroke-linejoin:miter;stroke-opacity:1\"/>\n",
       "<path d=\"M 135.8,165.8 L 142.3,166.4\" style=\"fill:none;fill-rule:evenodd;stroke:#FF7F00;stroke-width:2.0px;stroke-linecap:butt;stroke-linejoin:miter;stroke-opacity:1\"/>\n",
       "<path d=\"M 143.4,155.5 L 144.5,154.1 L 145.9,153.0 L 147.5,152.1 L 149.2,151.4 L 150.9,151.0 L 152.7,151.0 L 154.5,151.2 L 156.3,151.7 L 157.9,152.5 L 159.4,153.6 L 160.6,154.9 L 161.7,156.3 L 162.5,158.0 L 163.0,159.7 L 163.2,161.5 L 163.1,163.3 L 162.8,165.1 L 162.1,166.8 L 161.2,168.3\" style=\"fill:none;stroke:#FF7F00;stroke-width:2.0px;stroke-linecap:butt;stroke-linejoin:miter;stroke-opacity:1;\"/>\n",
       "<path d=\"M 151.2,172.8 L 150.6,172.8 L 150.0,172.6 L 149.4,172.5 L 148.8,172.3 L 148.3,172.1 L 147.7,171.9 L 147.2,171.6 L 146.6,171.3 L 146.1,171.0 L 145.6,170.7 L 145.2,170.3 L 144.7,169.9 L 144.3,169.4 L 143.9,169.0 L 143.5,168.5 L 143.2,168.0 L 142.8,167.5 L 142.5,167.0 L 142.3,166.4\" style=\"fill:none;stroke:#FF7F00;stroke-width:2.0px;stroke-linecap:butt;stroke-linejoin:miter;stroke-opacity:1;\"/>\n",
       "<path d=\"M 161.2,168.3 L 163.9,174.2\" style=\"fill:none;fill-rule:evenodd;stroke:#FF7F00;stroke-width:2.0px;stroke-linecap:butt;stroke-linejoin:miter;stroke-opacity:1\"/>\n",
       "<path d=\"M 151.2,172.8 L 153.9,178.8\" style=\"fill:none;fill-rule:evenodd;stroke:#FF7F00;stroke-width:2.0px;stroke-linecap:butt;stroke-linejoin:miter;stroke-opacity:1\"/>\n",
       "<path d=\"M 163.9,174.2 L 165.6,174.6 L 167.3,175.2 L 168.9,176.1 L 170.3,177.2 L 171.5,178.6 L 172.5,180.1 L 173.2,181.8 L 173.6,183.5 L 173.7,185.3 L 173.6,187.1 L 173.1,188.9 L 172.3,190.5 L 171.3,192.0 L 170.1,193.3 L 168.6,194.4 L 167.0,195.3 L 165.3,195.8 L 163.5,196.1 L 161.7,196.1\" style=\"fill:none;stroke:#FF7F00;stroke-width:2.0px;stroke-linecap:butt;stroke-linejoin:miter;stroke-opacity:1;\"/>\n",
       "<path d=\"M 152.8,189.7 L 152.5,189.1 L 152.3,188.5 L 152.2,188.0 L 152.0,187.4 L 151.9,186.8 L 151.9,186.2 L 151.8,185.6 L 151.8,185.0 L 151.8,184.4 L 151.9,183.8 L 152.0,183.2 L 152.1,182.6 L 152.3,182.0 L 152.5,181.4 L 152.7,180.9 L 152.9,180.3 L 153.2,179.8 L 153.5,179.3 L 153.9,178.8\" style=\"fill:none;stroke:#FF7F00;stroke-width:2.0px;stroke-linecap:butt;stroke-linejoin:miter;stroke-opacity:1;\"/>\n",
       "</svg>"
      ],
      "text/plain": [
       "<IPython.core.display.SVG object>"
      ]
     },
     "execution_count": 17,
     "metadata": {},
     "output_type": "execute_result"
    }
   ],
   "source": [
    "sf.to_image(safe_str)\n"
   ]
  },
  {
   "attachments": {},
   "cell_type": "markdown",
   "metadata": {},
   "source": [
    "There are 3 display modes for highlighting the fragments in a SAFE string. The difference between those modes is highlighted below using two different slicing algorithm. "
   ]
  },
  {
   "attachments": {},
   "cell_type": "markdown",
   "metadata": {},
   "source": [
    "**Overlapping fragments**\n",
    "\n",
    "Note that because some fragment might be matching overlapping substructure of the molecules (for example the same fragment appearing multiple time in the molecule), the highlighting might assigned the same color to these fragments."
   ]
  },
  {
   "cell_type": "code",
   "execution_count": 18,
   "metadata": {},
   "outputs": [],
   "source": [
    "\n",
    "from IPython.display import display\n",
    "from ipywidgets import widgets, HBox\n",
    "\n",
    "def display_image(safe_str):\n",
    "    image_lasso = widgets.Image(value=sf.to_image(safe_str, highlight_mode=\"lasso\", legend=\"lasso mode\").data.encode(), format='svg+xml')\n",
    "    image_fill = widgets.Image(value=sf.to_image(safe_str, highlight_mode=\"fill\", legend=\"fill mode\").data.encode(), format='svg+xml')\n",
    "    image_color = widgets.Image(value=sf.to_image(safe_str, highlight_mode=\"color\", legend=\"color mode\").data.encode(), format='svg+xml')\n",
    "    hbox = HBox([image_lasso, image_fill, image_color])\n",
    "    display(hbox)\n"
   ]
  },
  {
   "cell_type": "code",
   "execution_count": 19,
   "metadata": {},
   "outputs": [
    {
     "data": {
      "application/vnd.jupyter.widget-view+json": {
       "model_id": "bd9adfd0a2c34f1689ffe40d3ca9d1e3",
       "version_major": 2,
       "version_minor": 0
      },
      "text/plain": [
       "HBox(children=(Image(value=b'<svg xmlns=\"http://www.w3.org/2000/svg\" ...', format='svg+xml'), Image(value=b'<s…"
      ]
     },
     "metadata": {},
     "output_type": "display_data"
    }
   ],
   "source": [
    "# display for brics\n",
    "safe_str_brics = sf.encode(celecoxib_mol, canonical=True, slicer=\"brics\")\n",
    "display_image(safe_str_brics)\n"
   ]
  },
  {
   "cell_type": "code",
   "execution_count": 20,
   "metadata": {},
   "outputs": [
    {
     "data": {
      "application/vnd.jupyter.widget-view+json": {
       "model_id": "6a0cfdb55d594dbda40fa47f981dfb2d",
       "version_major": 2,
       "version_minor": 0
      },
      "text/plain": [
       "HBox(children=(Image(value=b'<svg xmlns=\"http://www.w3.org/2000/svg\" ...', format='svg+xml'), Image(value=b'<s…"
      ]
     },
     "metadata": {},
     "output_type": "display_data"
    }
   ],
   "source": [
    "# display with HR\n",
    "safe_str_hr = sf.encode(celecoxib_mol, canonical=True, slicer=\"mmpa\")\n",
    "display_image(safe_str_hr)\n"
   ]
  },
  {
   "cell_type": "markdown",
   "metadata": {},
   "source": [
    "---\n",
    "\n",
    "The End !"
   ]
  }
 ],
 "metadata": {
  "kernelspec": {
   "display_name": "safe",
   "language": "python",
   "name": "python3"
  },
  "language_info": {
   "codemirror_mode": {
    "name": "ipython",
    "version": 3
   },
   "file_extension": ".py",
   "mimetype": "text/x-python",
   "name": "python",
   "nbconvert_exporter": "python",
   "pygments_lexer": "ipython3",
   "version": "3.11.6"
  },
  "orig_nbformat": 4
 },
 "nbformat": 4,
 "nbformat_minor": 2
}

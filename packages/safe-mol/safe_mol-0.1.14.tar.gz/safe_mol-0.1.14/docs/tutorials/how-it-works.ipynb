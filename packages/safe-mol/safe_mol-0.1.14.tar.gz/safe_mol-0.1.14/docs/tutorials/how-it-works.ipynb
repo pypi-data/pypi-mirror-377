{
 "cells": [
  {
   "cell_type": "code",
   "execution_count": 2,
   "metadata": {
    "tags": [
     "remove_cell"
    ]
   },
   "outputs": [
    {
     "name": "stdout",
     "output_type": "stream",
     "text": [
      "The autoreload extension is already loaded. To reload it, use:\n",
      "  %reload_ext autoreload\n"
     ]
    }
   ],
   "source": [
    "%load_ext autoreload\n",
    "%autoreload 2\n"
   ]
  },
  {
   "attachments": {},
   "cell_type": "markdown",
   "metadata": {},
   "source": [
    "# How SAFE encoding works?\n",
    "\n",
    "The intuition behind safe is quite simple: we want to represent any molecule as a  `set of connected fragments`.\n",
    "\n",
    "## Preliminary on SMILES.\n",
    "\n",
    "Let's start first by revisiting some information about the SMILES syntax:\n",
    "\n",
    "- **An asterisk `*` in a smiles is usually employed to indicate any atom OR an attachment point of any group. It's particularly useful for smarts matching.**\n",
    "\n",
    "- **Number in smiles syntax indicates connectivity points between two atoms. For 2 digits numbers they would need to be preceeded by `%`**. \n",
    "\n",
    "This is partially explained on the wikipedia [ring section of SMILES](https://en.wikipedia.org/wiki/Simplified_molecular-input_line-entry_system#Rings).\n",
    "\n",
    "- **A dot `.` in smiles indicates the presence of additional fragments and is used to separate them**. \n",
    "\n",
    "A good ressource on the subject is the [DAYLIGHT page](https://www.daylight.com/dayhtml/doc/theory/theory.smiles.html).\n",
    "\n",
    "We illustrate these informations below !"
   ]
  },
  {
   "cell_type": "code",
   "execution_count": 1,
   "metadata": {},
   "outputs": [],
   "source": [
    "import datamol as dm\n",
    "\n",
    "from rdkit import Chem\n",
    "from rdkit.Chem.Draw import rdDepictor\n",
    "from rdkit.Chem import rdChemReactions as rdr\n",
    "rdDepictor.SetPreferCoordGen(True)\n"
   ]
  },
  {
   "cell_type": "code",
   "execution_count": 2,
   "metadata": {},
   "outputs": [
    {
     "data": {
      "image/svg+xml": [
       "<svg xmlns=\"http://www.w3.org/2000/svg\" xmlns:rdkit=\"http://www.rdkit.org/xml\" xmlns:xlink=\"http://www.w3.org/1999/xlink\" version=\"1.1\" baseProfile=\"full\" xml:space=\"preserve\" width=\"900px\" height=\"600px\" viewBox=\"0 0 900 600\">\n",
       "<!-- END OF HEADER -->\n",
       "<rect style=\"opacity:1.0;fill:#FFFFFF;stroke:none\" width=\"900.0\" height=\"600.0\" x=\"0.0\" y=\"0.0\"> </rect>\n",
       "<path class=\"bond-0 atom-0 atom-1\" d=\"M 102.1,164.1 L 102.1,108.8\" style=\"fill:none;fill-rule:evenodd;stroke:#000000;stroke-width:2.0px;stroke-linecap:butt;stroke-linejoin:miter;stroke-opacity:1\"/>\n",
       "<path class=\"bond-0 atom-0 atom-1\" d=\"M 110.4,159.3 L 110.4,113.6\" style=\"fill:none;fill-rule:evenodd;stroke:#000000;stroke-width:2.0px;stroke-linecap:butt;stroke-linejoin:miter;stroke-opacity:1\"/>\n",
       "<path class=\"bond-1 atom-1 atom-2\" d=\"M 102.1,108.8 L 150.0,81.2\" style=\"fill:none;fill-rule:evenodd;stroke:#000000;stroke-width:2.0px;stroke-linecap:butt;stroke-linejoin:miter;stroke-opacity:1\"/>\n",
       "<path class=\"bond-2 atom-2 atom-3\" d=\"M 150.0,81.2 L 197.9,108.9\" style=\"fill:none;fill-rule:evenodd;stroke:#000000;stroke-width:2.0px;stroke-linecap:butt;stroke-linejoin:miter;stroke-opacity:1\"/>\n",
       "<path class=\"bond-2 atom-2 atom-3\" d=\"M 150.0,90.8 L 189.6,113.7\" style=\"fill:none;fill-rule:evenodd;stroke:#000000;stroke-width:2.0px;stroke-linecap:butt;stroke-linejoin:miter;stroke-opacity:1\"/>\n",
       "<path class=\"bond-3 atom-3 atom-4\" d=\"M 197.9,108.9 L 197.9,164.2\" style=\"fill:none;fill-rule:evenodd;stroke:#000000;stroke-width:2.0px;stroke-linecap:butt;stroke-linejoin:miter;stroke-opacity:1\"/>\n",
       "<path class=\"bond-4 atom-4 atom-5\" d=\"M 197.9,164.2 L 150.0,191.8\" style=\"fill:none;fill-rule:evenodd;stroke:#000000;stroke-width:2.0px;stroke-linecap:butt;stroke-linejoin:miter;stroke-opacity:1\"/>\n",
       "<path class=\"bond-4 atom-4 atom-5\" d=\"M 189.6,159.4 L 150.0,182.2\" style=\"fill:none;fill-rule:evenodd;stroke:#000000;stroke-width:2.0px;stroke-linecap:butt;stroke-linejoin:miter;stroke-opacity:1\"/>\n",
       "<path class=\"bond-5 atom-5 atom-0\" d=\"M 150.0,191.8 L 102.1,164.1\" style=\"fill:none;fill-rule:evenodd;stroke:#000000;stroke-width:2.0px;stroke-linecap:butt;stroke-linejoin:miter;stroke-opacity:1\"/>\n",
       "<path d=\"M 102.1,161.4 L 102.1,164.1 L 104.5,165.5\" style=\"fill:none;stroke:#000000;stroke-width:2.0px;stroke-linecap:butt;stroke-linejoin:miter;stroke-opacity:1;\"/>\n",
       "<path d=\"M 102.1,111.6 L 102.1,108.8 L 104.5,107.4\" style=\"fill:none;stroke:#000000;stroke-width:2.0px;stroke-linecap:butt;stroke-linejoin:miter;stroke-opacity:1;\"/>\n",
       "<path d=\"M 147.6,82.5 L 150.0,81.2 L 152.4,82.6\" style=\"fill:none;stroke:#000000;stroke-width:2.0px;stroke-linecap:butt;stroke-linejoin:miter;stroke-opacity:1;\"/>\n",
       "<path d=\"M 195.5,107.5 L 197.9,108.9 L 197.9,111.6\" style=\"fill:none;stroke:#000000;stroke-width:2.0px;stroke-linecap:butt;stroke-linejoin:miter;stroke-opacity:1;\"/>\n",
       "<path d=\"M 197.9,161.4 L 197.9,164.2 L 195.5,165.6\" style=\"fill:none;stroke:#000000;stroke-width:2.0px;stroke-linecap:butt;stroke-linejoin:miter;stroke-opacity:1;\"/>\n",
       "<path d=\"M 152.4,190.5 L 150.0,191.8 L 147.6,190.4\" style=\"fill:none;stroke:#000000;stroke-width:2.0px;stroke-linecap:butt;stroke-linejoin:miter;stroke-opacity:1;\"/>\n",
       "<path class=\"legend\" d=\"M 124.4 276.5 Q 126.1 276.5, 127.1 277.6 Q 128.0 278.6, 128.0 280.6 Q 128.0 282.7, 126.9 283.8 Q 125.8 285.0, 123.8 285.0 Q 122.5 285.0, 121.3 284.5 L 120.6 284.3 L 120.6 272.7 L 122.1 272.7 L 122.1 277.5 Q 123.0 276.5, 124.4 276.5 M 123.8 283.8 Q 125.1 283.8, 125.8 283.0 Q 126.5 282.1, 126.5 280.6 Q 126.5 279.2, 125.9 278.5 Q 125.4 277.7, 124.3 277.7 Q 123.5 277.7, 122.9 278.1 Q 122.3 278.6, 122.1 279.4 L 122.1 283.6 Q 122.9 283.8, 123.8 283.8 \" fill=\"#000000\"/>\n",
       "<path class=\"legend\" d=\"M 129.5 280.7 Q 129.5 278.7, 130.5 277.6 Q 131.5 276.5, 133.3 276.5 Q 135.2 276.5, 136.0 277.6 Q 136.8 278.7, 136.8 280.7 L 136.8 281.0 L 131.0 281.0 Q 131.1 282.3, 131.7 283.1 Q 132.3 283.8, 133.5 283.8 Q 134.1 283.8, 134.7 283.7 Q 135.3 283.5, 136.0 283.2 L 136.4 284.2 Q 135.6 284.6, 134.9 284.8 Q 134.2 285.0, 133.4 285.0 Q 131.5 285.0, 130.5 283.9 Q 129.5 282.8, 129.5 280.7 M 133.3 277.7 Q 132.4 277.7, 131.8 278.2 Q 131.3 278.8, 131.1 279.8 L 135.2 279.8 Q 135.1 278.7, 134.6 278.2 Q 134.2 277.7, 133.3 277.7 \" fill=\"#000000\"/>\n",
       "<path class=\"legend\" d=\"M 142.4 276.5 Q 143.7 276.5, 144.4 277.3 Q 145.1 278.0, 145.1 279.4 L 145.1 284.9 L 143.6 284.9 L 143.6 279.5 Q 143.6 278.6, 143.2 278.1 Q 142.8 277.7, 142.0 277.7 Q 141.2 277.7, 140.6 278.0 Q 140.0 278.4, 139.6 279.0 L 139.6 284.9 L 138.1 284.9 L 138.1 276.6 L 139.3 276.6 L 139.5 277.8 Q 140.6 276.5, 142.4 276.5 \" fill=\"#000000\"/>\n",
       "<path class=\"legend\" d=\"M 148.8 283.7 L 153.3 283.7 L 153.3 284.9 L 147.0 284.9 L 147.0 283.9 L 151.3 277.8 L 147.2 277.8 L 147.2 276.6 L 153.2 276.6 L 153.2 277.6 L 148.8 283.7 \" fill=\"#000000\"/>\n",
       "<path class=\"legend\" d=\"M 154.6 280.7 Q 154.6 278.7, 155.6 277.6 Q 156.6 276.5, 158.5 276.5 Q 160.3 276.5, 161.1 277.6 Q 161.9 278.7, 161.9 280.7 L 161.9 281.0 L 156.1 281.0 Q 156.2 282.3, 156.8 283.1 Q 157.4 283.8, 158.6 283.8 Q 159.2 283.8, 159.8 283.7 Q 160.4 283.5, 161.1 283.2 L 161.6 284.2 Q 160.7 284.6, 160.0 284.8 Q 159.3 285.0, 158.5 285.0 Q 156.7 285.0, 155.6 283.9 Q 154.6 282.8, 154.6 280.7 M 158.5 277.7 Q 157.5 277.7, 156.9 278.2 Q 156.4 278.8, 156.2 279.8 L 160.3 279.8 Q 160.2 278.7, 159.7 278.2 Q 159.3 277.7, 158.5 277.7 \" fill=\"#000000\"/>\n",
       "<path class=\"legend\" d=\"M 167.5 276.5 Q 168.8 276.5, 169.5 277.3 Q 170.2 278.0, 170.2 279.4 L 170.2 284.9 L 168.7 284.9 L 168.7 279.5 Q 168.7 278.6, 168.3 278.1 Q 167.9 277.7, 167.1 277.7 Q 166.4 277.7, 165.7 278.0 Q 165.1 278.4, 164.7 279.0 L 164.7 284.9 L 163.2 284.9 L 163.2 276.6 L 164.4 276.6 L 164.6 277.8 Q 165.7 276.5, 167.5 276.5 \" fill=\"#000000\"/>\n",
       "<path class=\"legend\" d=\"M 172.1 280.7 Q 172.1 278.7, 173.1 277.6 Q 174.1 276.5, 176.0 276.5 Q 177.8 276.5, 178.6 277.6 Q 179.4 278.7, 179.4 280.7 L 179.4 281.0 L 173.7 281.0 Q 173.7 282.3, 174.3 283.1 Q 174.9 283.8, 176.1 283.8 Q 176.8 283.8, 177.3 283.7 Q 177.9 283.5, 178.7 283.2 L 179.1 284.2 Q 178.3 284.6, 177.5 284.8 Q 176.8 285.0, 176.0 285.0 Q 174.2 285.0, 173.2 283.9 Q 172.1 282.8, 172.1 280.7 M 176.0 277.7 Q 175.0 277.7, 174.5 278.2 Q 173.9 278.8, 173.7 279.8 L 177.8 279.8 Q 177.7 278.7, 177.3 278.2 Q 176.8 277.7, 176.0 277.7 \" fill=\"#000000\"/>\n",
       "<path class=\"bond-0 atom-0 atom-1\" d=\"M 452.0,136.3 L 473.3,136.3\" style=\"fill:none;fill-rule:evenodd;stroke:#FF0000;stroke-width:2.0px;stroke-linecap:butt;stroke-linejoin:miter;stroke-opacity:1\"/>\n",
       "<path class=\"bond-0 atom-0 atom-1\" d=\"M 473.3,136.3 L 494.7,136.3\" style=\"fill:none;fill-rule:evenodd;stroke:#000000;stroke-width:2.0px;stroke-linecap:butt;stroke-linejoin:miter;stroke-opacity:1\"/>\n",
       "<path class=\"atom-0\" d=\"M 405.3 124.7 L 408.5 124.7 L 408.5 134.7 L 420.5 134.7 L 420.5 124.7 L 423.7 124.7 L 423.7 148.2 L 420.5 148.2 L 420.5 137.3 L 408.5 137.3 L 408.5 148.2 L 405.3 148.2 L 405.3 124.7 \" fill=\"#FF0000\"/>\n",
       "<path class=\"atom-0\" d=\"M 428.5 136.4 Q 428.5 130.7, 431.3 127.6 Q 434.1 124.4, 439.3 124.4 Q 444.5 124.4, 447.3 127.6 Q 450.1 130.7, 450.1 136.4 Q 450.1 142.1, 447.3 145.3 Q 444.5 148.6, 439.3 148.6 Q 434.2 148.6, 431.3 145.3 Q 428.5 142.1, 428.5 136.4 M 439.3 145.9 Q 442.9 145.9, 444.8 143.5 Q 446.8 141.1, 446.8 136.4 Q 446.8 131.8, 444.8 129.4 Q 442.9 127.1, 439.3 127.1 Q 435.7 127.1, 433.8 129.4 Q 431.9 131.7, 431.9 136.4 Q 431.9 141.1, 433.8 143.5 Q 435.7 145.9, 439.3 145.9 \" fill=\"#FF0000\"/>\n",
       "<path class=\"legend\" d=\"M 426.2 276.4 Q 427.5 276.4, 428.2 277.2 Q 429.0 277.9, 429.0 279.4 L 429.0 284.8 L 427.4 284.8 L 427.4 279.5 Q 427.4 278.5, 427.1 278.1 Q 426.7 277.6, 425.9 277.6 Q 425.1 277.6, 424.5 278.0 Q 423.9 278.3, 423.5 278.9 Q 423.6 279.1, 423.6 279.4 L 423.6 284.8 L 422.1 284.8 L 422.1 279.5 Q 422.1 278.5, 421.7 278.1 Q 421.3 277.6, 420.5 277.6 Q 419.8 277.6, 419.1 278.0 Q 418.5 278.3, 418.2 278.9 L 418.2 284.8 L 416.6 284.8 L 416.6 276.6 L 417.9 276.6 L 418.0 277.7 Q 419.1 276.4, 420.8 276.4 Q 422.7 276.4, 423.3 277.9 Q 424.4 276.4, 426.2 276.4 \" fill=\"#000000\"/>\n",
       "<path class=\"legend\" d=\"M 430.9 280.7 Q 430.9 278.7, 431.9 277.6 Q 432.9 276.4, 434.7 276.4 Q 436.5 276.4, 437.3 277.5 Q 438.2 278.6, 438.2 280.6 L 438.2 280.9 L 432.4 280.9 Q 432.4 282.3, 433.1 283.0 Q 433.7 283.8, 434.9 283.8 Q 435.5 283.8, 436.1 283.6 Q 436.7 283.4, 437.4 283.1 L 437.8 284.2 Q 437.0 284.6, 436.3 284.8 Q 435.5 284.9, 434.8 284.9 Q 432.9 284.9, 431.9 283.8 Q 430.9 282.7, 430.9 280.7 M 434.7 277.6 Q 433.8 277.6, 433.2 278.2 Q 432.7 278.7, 432.5 279.8 L 436.6 279.8 Q 436.5 278.7, 436.0 278.2 Q 435.6 277.6, 434.7 277.6 \" fill=\"#000000\"/>\n",
       "<path class=\"legend\" d=\"M 439.5 277.7 L 439.5 276.6 L 441.0 276.6 L 441.3 274.2 L 442.4 274.2 L 442.4 276.6 L 444.9 276.6 L 444.9 277.7 L 442.4 277.7 L 442.4 282.3 Q 442.4 283.7, 443.6 283.7 Q 444.1 283.7, 444.8 283.5 L 445.0 284.5 Q 444.2 284.9, 443.3 284.9 Q 442.3 284.9, 441.6 284.3 Q 440.9 283.6, 440.9 282.4 L 440.9 277.7 L 439.5 277.7 \" fill=\"#000000\"/>\n",
       "<path class=\"legend\" d=\"M 450.4 276.4 Q 451.7 276.4, 452.4 277.2 Q 453.1 277.9, 453.1 279.4 L 453.1 284.8 L 451.6 284.8 L 451.6 279.5 Q 451.6 278.5, 451.2 278.1 Q 450.9 277.6, 450.0 277.6 Q 449.3 277.6, 448.7 278.0 Q 448.0 278.3, 447.6 278.9 L 447.6 284.8 L 446.1 284.8 L 446.1 272.7 L 447.6 272.7 L 447.6 277.6 Q 448.7 276.4, 450.4 276.4 \" fill=\"#000000\"/>\n",
       "<path class=\"legend\" d=\"M 455.0 282.6 Q 455.0 281.3, 456.1 280.6 Q 457.2 279.8, 459.1 279.8 L 460.3 279.8 L 460.3 279.5 Q 460.3 278.5, 459.9 278.1 Q 459.5 277.6, 458.4 277.6 Q 457.8 277.6, 457.3 277.8 Q 456.8 277.9, 456.0 278.2 L 455.5 277.2 Q 457.0 276.4, 458.5 276.4 Q 460.2 276.4, 461.0 277.2 Q 461.8 277.9, 461.8 279.5 L 461.8 284.8 L 460.6 284.8 Q 460.6 284.7, 460.6 284.5 Q 460.5 284.2, 460.4 283.8 Q 459.3 285.0, 457.7 285.0 Q 456.5 285.0, 455.8 284.3 Q 455.0 283.7, 455.0 282.6 M 456.5 282.6 Q 456.5 283.2, 456.9 283.5 Q 457.3 283.8, 458.0 283.8 Q 458.7 283.8, 459.3 283.5 Q 459.9 283.2, 460.3 282.7 L 460.3 281.0 L 459.2 281.0 Q 457.9 281.0, 457.2 281.4 Q 456.5 281.8, 456.5 282.6 \" fill=\"#000000\"/>\n",
       "<path class=\"legend\" d=\"M 468.0 276.4 Q 469.3 276.4, 470.0 277.2 Q 470.7 277.9, 470.7 279.4 L 470.7 284.8 L 469.2 284.8 L 469.2 279.5 Q 469.2 278.5, 468.8 278.1 Q 468.5 277.6, 467.6 277.6 Q 466.9 277.6, 466.3 278.0 Q 465.6 278.3, 465.2 278.9 L 465.2 284.8 L 463.7 284.8 L 463.7 276.6 L 465.0 276.6 L 465.1 277.7 Q 466.2 276.4, 468.0 276.4 \" fill=\"#000000\"/>\n",
       "<path class=\"legend\" d=\"M 472.6 280.7 Q 472.6 278.7, 473.7 277.6 Q 474.7 276.4, 476.5 276.4 Q 478.4 276.4, 479.4 277.6 Q 480.5 278.7, 480.5 280.7 Q 480.5 282.7, 479.4 283.8 Q 478.4 284.9, 476.5 284.9 Q 474.7 284.9, 473.7 283.8 Q 472.6 282.7, 472.6 280.7 M 474.2 280.7 Q 474.2 282.2, 474.8 283.0 Q 475.4 283.8, 476.5 283.8 Q 477.7 283.8, 478.3 283.0 Q 478.9 282.2, 478.9 280.7 Q 478.9 279.2, 478.3 278.4 Q 477.7 277.6, 476.5 277.6 Q 475.4 277.6, 474.8 278.4 Q 474.2 279.2, 474.2 280.7 \" fill=\"#000000\"/>\n",
       "<path class=\"legend\" d=\"M 481.9 272.7 L 483.4 272.7 L 483.4 284.8 L 481.9 284.8 L 481.9 272.7 \" fill=\"#000000\"/>\n",
       "<path class=\"bond-0 atom-0 atom-1\" d=\"M 824.6,164.5 L 776.5,191.8\" style=\"fill:none;fill-rule:evenodd;stroke:#000000;stroke-width:2.0px;stroke-linecap:butt;stroke-linejoin:miter;stroke-opacity:1\"/>\n",
       "<path class=\"bond-0 atom-0 atom-1\" d=\"M 816.3,159.6 L 776.5,182.2\" style=\"fill:none;fill-rule:evenodd;stroke:#000000;stroke-width:2.0px;stroke-linecap:butt;stroke-linejoin:miter;stroke-opacity:1\"/>\n",
       "<path class=\"bond-1 atom-1 atom-2\" d=\"M 776.5,191.8 L 728.7,163.9\" style=\"fill:none;fill-rule:evenodd;stroke:#000000;stroke-width:2.0px;stroke-linecap:butt;stroke-linejoin:miter;stroke-opacity:1\"/>\n",
       "<path class=\"bond-2 atom-2 atom-3\" d=\"M 728.7,163.9 L 708.4,175.4\" style=\"fill:none;fill-rule:evenodd;stroke:#000000;stroke-width:2.0px;stroke-linecap:butt;stroke-linejoin:miter;stroke-opacity:1\"/>\n",
       "<path class=\"bond-2 atom-2 atom-3\" d=\"M 708.4,175.4 L 688.0,187.0\" style=\"fill:none;fill-rule:evenodd;stroke:#191919;stroke-width:2.0px;stroke-linecap:butt;stroke-linejoin:miter;stroke-opacity:1\"/>\n",
       "<path class=\"bond-3 atom-2 atom-4\" d=\"M 728.7,163.9 L 729.1,108.5\" style=\"fill:none;fill-rule:evenodd;stroke:#000000;stroke-width:2.0px;stroke-linecap:butt;stroke-linejoin:miter;stroke-opacity:1\"/>\n",
       "<path class=\"bond-3 atom-2 atom-4\" d=\"M 737.1,159.1 L 737.4,113.4\" style=\"fill:none;fill-rule:evenodd;stroke:#000000;stroke-width:2.0px;stroke-linecap:butt;stroke-linejoin:miter;stroke-opacity:1\"/>\n",
       "<path class=\"bond-4 atom-4 atom-5\" d=\"M 729.1,108.5 L 777.2,81.2\" style=\"fill:none;fill-rule:evenodd;stroke:#000000;stroke-width:2.0px;stroke-linecap:butt;stroke-linejoin:miter;stroke-opacity:1\"/>\n",
       "<path class=\"bond-5 atom-5 atom-6\" d=\"M 777.2,81.2 L 824.9,109.1\" style=\"fill:none;fill-rule:evenodd;stroke:#000000;stroke-width:2.0px;stroke-linecap:butt;stroke-linejoin:miter;stroke-opacity:1\"/>\n",
       "<path class=\"bond-5 atom-5 atom-6\" d=\"M 777.1,90.8 L 816.6,113.9\" style=\"fill:none;fill-rule:evenodd;stroke:#000000;stroke-width:2.0px;stroke-linecap:butt;stroke-linejoin:miter;stroke-opacity:1\"/>\n",
       "<path class=\"bond-6 atom-6 atom-0\" d=\"M 824.9,109.1 L 824.6,164.5\" style=\"fill:none;fill-rule:evenodd;stroke:#000000;stroke-width:2.0px;stroke-linecap:butt;stroke-linejoin:miter;stroke-opacity:1\"/>\n",
       "<path d=\"M 822.2,165.8 L 824.6,164.5 L 824.6,161.7\" style=\"fill:none;stroke:#000000;stroke-width:2.0px;stroke-linecap:butt;stroke-linejoin:miter;stroke-opacity:1;\"/>\n",
       "<path d=\"M 778.9,190.5 L 776.5,191.8 L 774.1,190.4\" style=\"fill:none;stroke:#000000;stroke-width:2.0px;stroke-linecap:butt;stroke-linejoin:miter;stroke-opacity:1;\"/>\n",
       "<path d=\"M 729.1,111.3 L 729.1,108.5 L 731.5,107.2\" style=\"fill:none;stroke:#000000;stroke-width:2.0px;stroke-linecap:butt;stroke-linejoin:miter;stroke-opacity:1;\"/>\n",
       "<path d=\"M 774.8,82.5 L 777.2,81.2 L 779.6,82.6\" style=\"fill:none;stroke:#000000;stroke-width:2.0px;stroke-linecap:butt;stroke-linejoin:miter;stroke-opacity:1;\"/>\n",
       "<path d=\"M 822.5,107.7 L 824.9,109.1 L 824.9,111.9\" style=\"fill:none;stroke:#000000;stroke-width:2.0px;stroke-linecap:butt;stroke-linejoin:miter;stroke-opacity:1;\"/>\n",
       "<path class=\"atom-3\" d=\"M 676.2 188.6 L 679.7 185.1 L 675.1 184.1 L 675.8 181.8 L 680.0 183.9 L 679.4 179.3 L 681.9 179.3 L 681.2 183.9 L 685.5 181.9 L 686.2 184.1 L 681.6 185.0 L 684.9 188.6 L 682.8 190.0 L 680.6 185.6 L 678.2 190.0 L 676.2 188.6 \" fill=\"#191919\"/>\n",
       "<path class=\"legend\" d=\"M 707.2 272.6 Q 708.9 272.6, 709.8 273.7 Q 710.8 274.7, 710.8 276.7 Q 710.8 278.8, 709.6 280.0 Q 708.5 281.1, 706.6 281.1 Q 705.6 281.1, 704.8 280.9 L 704.8 284.9 L 703.3 284.9 L 703.3 272.8 L 704.6 272.8 L 704.8 273.8 Q 705.2 273.2, 705.8 272.9 Q 706.4 272.6, 707.2 272.6 M 706.5 279.9 Q 707.8 279.9, 708.5 279.1 Q 709.2 278.2, 709.2 276.7 Q 709.2 275.3, 708.7 274.6 Q 708.1 273.8, 707.1 273.8 Q 706.3 273.8, 705.7 274.2 Q 705.1 274.7, 704.8 275.4 L 704.8 279.7 Q 705.7 279.9, 706.5 279.9 \" fill=\"#000000\"/>\n",
       "<path class=\"legend\" d=\"M 716.4 272.6 Q 717.7 272.6, 718.4 273.4 Q 719.1 274.1, 719.1 275.5 L 719.1 281.0 L 717.6 281.0 L 717.6 275.7 Q 717.6 274.7, 717.2 274.2 Q 716.8 273.8, 716.0 273.8 Q 715.3 273.8, 714.6 274.2 Q 714.0 274.5, 713.6 275.1 L 713.6 281.0 L 712.1 281.0 L 712.1 268.8 L 713.6 268.8 L 713.6 273.8 Q 714.7 272.6, 716.4 272.6 \" fill=\"#000000\"/>\n",
       "<path class=\"legend\" d=\"M 720.9 276.9 Q 720.9 274.8, 721.9 273.7 Q 722.9 272.6, 724.8 272.6 Q 726.6 272.6, 727.4 273.7 Q 728.2 274.8, 728.2 276.8 L 728.2 277.1 L 722.5 277.1 Q 722.5 278.5, 723.1 279.2 Q 723.7 279.9, 724.9 279.9 Q 725.6 279.9, 726.1 279.8 Q 726.7 279.6, 727.5 279.3 L 727.9 280.3 Q 727.1 280.7, 726.3 280.9 Q 725.6 281.1, 724.8 281.1 Q 723.0 281.1, 722.0 280.0 Q 720.9 278.9, 720.9 276.9 M 724.8 273.8 Q 723.8 273.8, 723.3 274.3 Q 722.7 274.9, 722.5 275.9 L 726.6 275.9 Q 726.5 274.8, 726.1 274.3 Q 725.6 273.8, 724.8 273.8 \" fill=\"#000000\"/>\n",
       "<path class=\"legend\" d=\"M 733.7 272.6 Q 735.0 272.6, 735.7 273.4 Q 736.4 274.1, 736.4 275.5 L 736.4 281.0 L 734.9 281.0 L 734.9 275.7 Q 734.9 274.7, 734.5 274.2 Q 734.2 273.8, 733.3 273.8 Q 732.6 273.8, 732.0 274.2 Q 731.3 274.5, 730.9 275.1 L 730.9 281.0 L 729.4 281.0 L 729.4 272.8 L 730.7 272.8 L 730.8 273.9 Q 731.9 272.6, 733.7 272.6 \" fill=\"#000000\"/>\n",
       "<path class=\"legend\" d=\"M 744.6 272.8 L 746.0 272.8 L 741.8 284.9 L 740.4 284.9 L 741.8 281.0 L 741.2 281.0 L 738.3 272.8 L 739.8 272.8 L 742.2 279.7 L 744.6 272.8 \" fill=\"#000000\"/>\n",
       "<path class=\"legend\" d=\"M 746.8 268.8 L 748.3 268.8 L 748.3 281.0 L 746.8 281.0 L 746.8 268.8 \" fill=\"#000000\"/>\n",
       "<path class=\"legend\" d=\"\" fill=\"#000000\"/>\n",
       "<path class=\"legend\" d=\"M 763.7 272.7 L 763.7 281.5 Q 763.7 285.0, 759.9 285.0 Q 758.1 285.0, 756.5 284.2 L 757.0 283.1 Q 757.9 283.5, 758.5 283.7 Q 759.1 283.8, 759.9 283.8 Q 761.1 283.8, 761.6 283.3 Q 762.2 282.7, 762.2 281.5 L 762.2 280.1 Q 761.3 281.1, 759.8 281.1 Q 758.1 281.1, 757.1 280.1 Q 756.2 279.0, 756.2 277.0 Q 756.2 274.9, 757.3 273.8 Q 758.5 272.6, 760.4 272.6 Q 761.5 272.6, 762.4 272.9 L 762.5 272.7 L 763.7 272.7 M 759.9 279.9 Q 760.7 279.9, 761.3 279.5 Q 761.9 279.0, 762.2 278.2 L 762.2 274.0 Q 761.3 273.8, 760.4 273.8 Q 759.2 273.8, 758.5 274.6 Q 757.7 275.5, 757.7 277.0 Q 757.7 278.4, 758.3 279.2 Q 758.9 279.9, 759.9 279.9 \" fill=\"#000000\"/>\n",
       "<path class=\"legend\" d=\"M 766.8 272.8 L 767.0 273.9 Q 767.9 272.6, 769.3 272.6 Q 769.7 272.6, 770.3 272.8 L 770.1 274.1 Q 769.4 274.0, 769.0 274.0 Q 768.3 274.0, 767.9 274.2 Q 767.5 274.5, 767.1 275.1 L 767.1 281.0 L 765.6 281.0 L 765.6 272.8 L 766.8 272.8 \" fill=\"#000000\"/>\n",
       "<path class=\"legend\" d=\"M 771.2 276.9 Q 771.2 274.9, 772.2 273.7 Q 773.2 272.6, 775.1 272.6 Q 776.9 272.6, 777.9 273.7 Q 779.0 274.9, 779.0 276.9 Q 779.0 278.9, 777.9 280.0 Q 776.9 281.1, 775.1 281.1 Q 773.2 281.1, 772.2 280.0 Q 771.2 278.9, 771.2 276.9 M 772.7 276.9 Q 772.7 278.4, 773.3 279.1 Q 773.9 279.9, 775.1 279.9 Q 776.2 279.9, 776.8 279.1 Q 777.4 278.4, 777.4 276.9 Q 777.4 275.4, 776.8 274.6 Q 776.2 273.8, 775.1 273.8 Q 773.9 273.8, 773.3 274.6 Q 772.7 275.4, 772.7 276.9 \" fill=\"#000000\"/>\n",
       "<path class=\"legend\" d=\"M 787.3 272.8 L 787.3 281.0 L 786.1 281.0 L 785.9 279.8 Q 784.8 281.1, 783.1 281.1 Q 781.7 281.1, 781.0 280.4 Q 780.3 279.6, 780.3 278.2 L 780.3 272.8 L 781.8 272.8 L 781.8 278.1 Q 781.8 279.1, 782.2 279.5 Q 782.6 279.9, 783.4 279.9 Q 784.1 279.9, 784.8 279.6 Q 785.4 279.3, 785.8 278.6 L 785.8 272.8 L 787.3 272.8 \" fill=\"#000000\"/>\n",
       "<path class=\"legend\" d=\"M 793.0 272.6 Q 794.8 272.6, 795.7 273.7 Q 796.7 274.7, 796.7 276.7 Q 796.7 278.8, 795.5 280.0 Q 794.4 281.1, 792.4 281.1 Q 791.5 281.1, 790.7 280.9 L 790.7 284.9 L 789.2 284.9 L 789.2 272.8 L 790.4 272.8 L 790.6 273.8 Q 791.1 273.2, 791.7 272.9 Q 792.3 272.6, 793.0 272.6 M 792.4 279.9 Q 793.7 279.9, 794.4 279.1 Q 795.1 278.2, 795.1 276.7 Q 795.1 275.3, 794.5 274.6 Q 794.0 273.8, 792.9 273.8 Q 792.1 273.8, 791.5 274.2 Q 791.0 274.7, 790.7 275.4 L 790.7 279.7 Q 791.5 279.9, 792.4 279.9 \" fill=\"#000000\"/>\n",
       "<path class=\"bond-0 atom-0 atom-1\" d=\"M 140.2,435.9 L 126.2,443.9\" style=\"fill:none;fill-rule:evenodd;stroke:#FF0000;stroke-width:2.0px;stroke-linecap:butt;stroke-linejoin:miter;stroke-opacity:1\"/>\n",
       "<path class=\"bond-0 atom-0 atom-1\" d=\"M 126.2,443.9 L 112.2,452.0\" style=\"fill:none;fill-rule:evenodd;stroke:#191919;stroke-width:2.0px;stroke-linecap:butt;stroke-linejoin:miter;stroke-opacity:1\"/>\n",
       "<path class=\"bond-1 atom-0 atom-2\" d=\"M 165.4,435.9 L 183.1,446.1\" style=\"fill:none;fill-rule:evenodd;stroke:#FF0000;stroke-width:2.0px;stroke-linecap:butt;stroke-linejoin:miter;stroke-opacity:1\"/>\n",
       "<path class=\"bond-1 atom-0 atom-2\" d=\"M 183.1,446.1 L 200.7,456.3\" style=\"fill:none;fill-rule:evenodd;stroke:#000000;stroke-width:2.0px;stroke-linecap:butt;stroke-linejoin:miter;stroke-opacity:1\"/>\n",
       "<path class=\"atom-0\" d=\"M 142.0 428.7 Q 142.0 423.0, 144.8 419.9 Q 147.6 416.7, 152.8 416.7 Q 158.0 416.7, 160.8 419.9 Q 163.6 423.0, 163.6 428.7 Q 163.6 434.4, 160.8 437.6 Q 157.9 440.8, 152.8 440.8 Q 147.6 440.8, 144.8 437.6 Q 142.0 434.4, 142.0 428.7 M 152.8 438.2 Q 156.4 438.2, 158.3 435.8 Q 160.3 433.4, 160.3 428.7 Q 160.3 424.0, 158.3 421.7 Q 156.4 419.4, 152.8 419.4 Q 149.2 419.4, 147.3 421.7 Q 145.3 424.0, 145.3 428.7 Q 145.3 433.4, 147.3 435.8 Q 149.2 438.2, 152.8 438.2 \" fill=\"#FF0000\"/>\n",
       "<path class=\"atom-1\" d=\"M 100.4 453.6 L 103.9 450.1 L 99.3 449.1 L 100.0 446.8 L 104.2 448.9 L 103.6 444.3 L 106.1 444.3 L 105.4 448.9 L 109.7 446.9 L 110.4 449.1 L 105.8 450.0 L 109.1 453.6 L 107.1 455.0 L 104.8 450.6 L 102.5 455.0 L 100.4 453.6 \" fill=\"#191919\"/>\n",
       "<path class=\"legend\" d=\"M 106.8 581.0 L 105.4 581.0 L 104.2 571.7 L 101.1 581.0 L 99.6 581.0 L 96.5 571.7 L 95.3 581.0 L 93.9 581.0 L 95.3 569.7 L 97.2 569.7 L 100.4 578.8 L 103.5 569.7 L 105.4 569.7 L 106.8 581.0 \" fill=\"#000000\"/>\n",
       "<path class=\"legend\" d=\"M 108.6 576.9 Q 108.6 574.8, 109.6 573.7 Q 110.6 572.6, 112.4 572.6 Q 114.2 572.6, 115.0 573.7 Q 115.8 574.8, 115.8 576.8 L 115.8 577.1 L 110.1 577.1 Q 110.1 578.5, 110.8 579.2 Q 111.4 579.9, 112.6 579.9 Q 113.2 579.9, 113.8 579.8 Q 114.4 579.6, 115.1 579.3 L 115.5 580.3 Q 114.7 580.7, 114.0 580.9 Q 113.2 581.1, 112.5 581.1 Q 110.6 581.1, 109.6 580.0 Q 108.6 578.9, 108.6 576.9 M 112.4 573.8 Q 111.5 573.8, 110.9 574.3 Q 110.3 574.9, 110.2 575.9 L 114.3 575.9 Q 114.2 574.8, 113.7 574.3 Q 113.3 573.8, 112.4 573.8 \" fill=\"#000000\"/>\n",
       "<path class=\"legend\" d=\"M 117.2 573.9 L 117.2 572.8 L 118.7 572.8 L 119.0 570.4 L 120.1 570.4 L 120.1 572.8 L 122.6 572.8 L 122.6 573.9 L 120.1 573.9 L 120.1 578.5 Q 120.1 579.9, 121.3 579.9 Q 121.8 579.9, 122.5 579.7 L 122.7 580.7 Q 121.9 581.1, 121.0 581.1 Q 120.0 581.1, 119.3 580.4 Q 118.6 579.8, 118.6 578.5 L 118.6 573.9 L 117.2 573.9 \" fill=\"#000000\"/>\n",
       "<path class=\"legend\" d=\"M 128.1 572.6 Q 129.4 572.6, 130.1 573.4 Q 130.8 574.1, 130.8 575.5 L 130.8 581.0 L 129.3 581.0 L 129.3 575.7 Q 129.3 574.7, 128.9 574.2 Q 128.6 573.8, 127.7 573.8 Q 127.0 573.8, 126.4 574.2 Q 125.7 574.5, 125.3 575.1 L 125.3 581.0 L 123.8 581.0 L 123.8 568.8 L 125.3 568.8 L 125.3 573.8 Q 126.4 572.6, 128.1 572.6 \" fill=\"#000000\"/>\n",
       "<path class=\"legend\" d=\"M 132.8 576.9 Q 132.8 574.9, 133.8 573.7 Q 134.8 572.6, 136.7 572.6 Q 138.5 572.6, 139.5 573.7 Q 140.6 574.9, 140.6 576.9 Q 140.6 578.9, 139.5 580.0 Q 138.5 581.1, 136.7 581.1 Q 134.8 581.1, 133.8 580.0 Q 132.8 578.9, 132.8 576.9 M 134.3 576.9 Q 134.3 578.4, 134.9 579.1 Q 135.5 579.9, 136.7 579.9 Q 137.8 579.9, 138.4 579.1 Q 139.0 578.4, 139.0 576.9 Q 139.0 575.4, 138.4 574.6 Q 137.8 573.8, 136.7 573.8 Q 135.5 573.8, 134.9 574.6 Q 134.3 575.4, 134.3 576.9 \" fill=\"#000000\"/>\n",
       "<path class=\"legend\" d=\"M 145.0 576.7 L 142.2 572.8 L 143.9 572.8 L 145.9 575.6 L 147.9 572.8 L 149.5 572.8 L 146.7 576.7 L 149.8 581.0 L 148.0 581.0 L 145.8 577.9 L 143.6 581.0 L 142.0 581.0 L 145.0 576.7 \" fill=\"#000000\"/>\n",
       "<path class=\"legend\" d=\"M 156.9 572.8 L 158.4 572.8 L 154.1 584.9 L 152.8 584.9 L 154.1 581.0 L 153.5 581.0 L 150.6 572.8 L 152.1 572.8 L 154.6 579.7 L 156.9 572.8 \" fill=\"#000000\"/>\n",
       "<path class=\"legend\" d=\"\" fill=\"#000000\"/>\n",
       "<path class=\"legend\" d=\"M 172.7 572.7 L 172.7 581.5 Q 172.7 585.0, 169.0 585.0 Q 167.2 585.0, 165.6 584.2 L 166.1 583.1 Q 167.0 583.5, 167.6 583.7 Q 168.2 583.8, 169.0 583.8 Q 170.2 583.8, 170.7 583.3 Q 171.2 582.7, 171.2 581.5 L 171.2 580.1 Q 170.4 581.1, 168.9 581.1 Q 167.2 581.1, 166.2 580.1 Q 165.3 579.0, 165.3 577.0 Q 165.3 574.9, 166.4 573.8 Q 167.5 572.6, 169.5 572.6 Q 170.5 572.6, 171.5 572.9 L 171.5 572.7 L 172.7 572.7 M 169.0 579.9 Q 169.8 579.9, 170.4 579.5 Q 171.0 579.0, 171.2 578.2 L 171.2 574.0 Q 170.4 573.8, 169.5 573.8 Q 168.3 573.8, 167.5 574.6 Q 166.8 575.5, 166.8 577.0 Q 166.8 578.4, 167.4 579.2 Q 167.9 579.9, 169.0 579.9 \" fill=\"#000000\"/>\n",
       "<path class=\"legend\" d=\"M 176.0 572.8 L 176.2 573.9 Q 177.0 572.6, 178.4 572.6 Q 178.9 572.6, 179.5 572.8 L 179.3 574.1 Q 178.6 574.0, 178.2 574.0 Q 177.5 574.0, 177.1 574.2 Q 176.6 574.5, 176.3 575.1 L 176.3 581.0 L 174.8 581.0 L 174.8 572.8 L 176.0 572.8 \" fill=\"#000000\"/>\n",
       "<path class=\"legend\" d=\"M 180.4 576.9 Q 180.4 574.9, 181.4 573.7 Q 182.5 572.6, 184.3 572.6 Q 186.2 572.6, 187.2 573.7 Q 188.2 574.9, 188.2 576.9 Q 188.2 578.9, 187.2 580.0 Q 186.2 581.1, 184.3 581.1 Q 182.5 581.1, 181.4 580.0 Q 180.4 578.9, 180.4 576.9 M 182.0 576.9 Q 182.0 578.4, 182.6 579.1 Q 183.2 579.9, 184.3 579.9 Q 185.5 579.9, 186.1 579.1 Q 186.7 578.4, 186.7 576.9 Q 186.7 575.4, 186.1 574.6 Q 185.5 573.8, 184.3 573.8 Q 183.2 573.8, 182.6 574.6 Q 182.0 575.4, 182.0 576.9 \" fill=\"#000000\"/>\n",
       "<path class=\"legend\" d=\"M 196.7 572.8 L 196.7 581.0 L 195.4 581.0 L 195.3 579.8 Q 194.2 581.1, 192.5 581.1 Q 191.1 581.1, 190.4 580.4 Q 189.7 579.6, 189.7 578.2 L 189.7 572.8 L 191.2 572.8 L 191.2 578.1 Q 191.2 579.1, 191.5 579.5 Q 191.9 579.9, 192.8 579.9 Q 193.5 579.9, 194.1 579.6 Q 194.8 579.3, 195.2 578.6 L 195.2 572.8 L 196.7 572.8 \" fill=\"#000000\"/>\n",
       "<path class=\"legend\" d=\"M 202.5 572.6 Q 204.2 572.6, 205.2 573.7 Q 206.1 574.7, 206.1 576.7 Q 206.1 578.8, 205.0 580.0 Q 203.9 581.1, 201.9 581.1 Q 201.0 581.1, 200.2 580.9 L 200.2 584.9 L 198.7 584.9 L 198.7 572.8 L 199.9 572.8 L 200.1 573.8 Q 200.5 573.2, 201.1 572.9 Q 201.7 572.6, 202.5 572.6 M 201.9 579.9 Q 203.1 579.9, 203.9 579.1 Q 204.6 578.2, 204.6 576.7 Q 204.6 575.3, 204.0 574.6 Q 203.4 573.8, 202.4 573.8 Q 201.6 573.8, 201.0 574.2 Q 200.4 574.7, 200.2 575.4 L 200.2 579.7 Q 201.0 579.9, 201.9 579.9 \" fill=\"#000000\"/>\n",
       "<path class=\"bond-0 atom-0 atom-1\" d=\"M 524.6,398.3 L 476.5,425.7\" style=\"fill:none;fill-rule:evenodd;stroke:#000000;stroke-width:2.0px;stroke-linecap:butt;stroke-linejoin:miter;stroke-opacity:1\"/>\n",
       "<path class=\"bond-0 atom-0 atom-1\" d=\"M 516.3,393.5 L 476.5,416.1\" style=\"fill:none;fill-rule:evenodd;stroke:#000000;stroke-width:2.0px;stroke-linecap:butt;stroke-linejoin:miter;stroke-opacity:1\"/>\n",
       "<path class=\"bond-1 atom-1 atom-2\" d=\"M 476.5,425.7 L 428.7,397.7\" style=\"fill:none;fill-rule:evenodd;stroke:#000000;stroke-width:2.0px;stroke-linecap:butt;stroke-linejoin:miter;stroke-opacity:1\"/>\n",
       "<path class=\"bond-2 atom-2 atom-3\" d=\"M 428.7,397.7 L 408.4,409.3\" style=\"fill:none;fill-rule:evenodd;stroke:#000000;stroke-width:2.0px;stroke-linecap:butt;stroke-linejoin:miter;stroke-opacity:1\"/>\n",
       "<path class=\"bond-2 atom-2 atom-3\" d=\"M 408.4,409.3 L 388.0,420.8\" style=\"fill:none;fill-rule:evenodd;stroke:#191919;stroke-width:2.0px;stroke-linecap:butt;stroke-linejoin:miter;stroke-opacity:1\"/>\n",
       "<path class=\"bond-3 atom-2 atom-4\" d=\"M 428.7,397.7 L 429.1,342.4\" style=\"fill:none;fill-rule:evenodd;stroke:#000000;stroke-width:2.0px;stroke-linecap:butt;stroke-linejoin:miter;stroke-opacity:1\"/>\n",
       "<path class=\"bond-3 atom-2 atom-4\" d=\"M 437.1,393.0 L 437.4,347.2\" style=\"fill:none;fill-rule:evenodd;stroke:#000000;stroke-width:2.0px;stroke-linecap:butt;stroke-linejoin:miter;stroke-opacity:1\"/>\n",
       "<path class=\"bond-4 atom-4 atom-5\" d=\"M 429.1,342.4 L 477.2,315.0\" style=\"fill:none;fill-rule:evenodd;stroke:#000000;stroke-width:2.0px;stroke-linecap:butt;stroke-linejoin:miter;stroke-opacity:1\"/>\n",
       "<path class=\"bond-5 atom-5 atom-6\" d=\"M 477.2,315.0 L 524.9,343.0\" style=\"fill:none;fill-rule:evenodd;stroke:#000000;stroke-width:2.0px;stroke-linecap:butt;stroke-linejoin:miter;stroke-opacity:1\"/>\n",
       "<path class=\"bond-5 atom-5 atom-6\" d=\"M 477.1,324.6 L 516.6,347.7\" style=\"fill:none;fill-rule:evenodd;stroke:#000000;stroke-width:2.0px;stroke-linecap:butt;stroke-linejoin:miter;stroke-opacity:1\"/>\n",
       "<path class=\"bond-6 atom-7 atom-8\" d=\"M 450.5,537.6 L 436.5,545.6\" style=\"fill:none;fill-rule:evenodd;stroke:#FF0000;stroke-width:2.0px;stroke-linecap:butt;stroke-linejoin:miter;stroke-opacity:1\"/>\n",
       "<path class=\"bond-6 atom-7 atom-8\" d=\"M 436.5,545.6 L 422.6,553.7\" style=\"fill:none;fill-rule:evenodd;stroke:#191919;stroke-width:2.0px;stroke-linecap:butt;stroke-linejoin:miter;stroke-opacity:1\"/>\n",
       "<path class=\"bond-7 atom-7 atom-9\" d=\"M 475.7,537.6 L 493.4,547.8\" style=\"fill:none;fill-rule:evenodd;stroke:#FF0000;stroke-width:2.0px;stroke-linecap:butt;stroke-linejoin:miter;stroke-opacity:1\"/>\n",
       "<path class=\"bond-7 atom-7 atom-9\" d=\"M 493.4,547.8 L 511.0,558.0\" style=\"fill:none;fill-rule:evenodd;stroke:#000000;stroke-width:2.0px;stroke-linecap:butt;stroke-linejoin:miter;stroke-opacity:1\"/>\n",
       "<path class=\"bond-8 atom-6 atom-0\" d=\"M 524.9,343.0 L 524.6,398.3\" style=\"fill:none;fill-rule:evenodd;stroke:#000000;stroke-width:2.0px;stroke-linecap:butt;stroke-linejoin:miter;stroke-opacity:1\"/>\n",
       "<path d=\"M 522.2,399.7 L 524.6,398.3 L 524.6,395.5\" style=\"fill:none;stroke:#000000;stroke-width:2.0px;stroke-linecap:butt;stroke-linejoin:miter;stroke-opacity:1;\"/>\n",
       "<path d=\"M 478.9,424.3 L 476.5,425.7 L 474.1,424.3\" style=\"fill:none;stroke:#000000;stroke-width:2.0px;stroke-linecap:butt;stroke-linejoin:miter;stroke-opacity:1;\"/>\n",
       "<path d=\"M 429.1,345.1 L 429.1,342.4 L 431.5,341.0\" style=\"fill:none;stroke:#000000;stroke-width:2.0px;stroke-linecap:butt;stroke-linejoin:miter;stroke-opacity:1;\"/>\n",
       "<path d=\"M 474.8,316.4 L 477.2,315.0 L 479.6,316.4\" style=\"fill:none;stroke:#000000;stroke-width:2.0px;stroke-linecap:butt;stroke-linejoin:miter;stroke-opacity:1;\"/>\n",
       "<path d=\"M 522.5,341.6 L 524.9,343.0 L 524.9,345.7\" style=\"fill:none;stroke:#000000;stroke-width:2.0px;stroke-linecap:butt;stroke-linejoin:miter;stroke-opacity:1;\"/>\n",
       "<path class=\"atom-3\" d=\"M 376.2 422.4 L 379.7 418.9 L 375.1 418.0 L 375.8 415.6 L 380.0 417.7 L 379.4 413.1 L 381.9 413.1 L 381.2 417.7 L 385.5 415.7 L 386.2 418.0 L 381.6 418.8 L 384.9 422.4 L 382.8 423.9 L 380.6 419.5 L 378.2 423.9 L 376.2 422.4 \" fill=\"#191919\"/>\n",
       "<path class=\"atom-7\" d=\"M 452.3 530.4 Q 452.3 524.7, 455.1 521.6 Q 457.9 518.4, 463.1 518.4 Q 468.3 518.4, 471.1 521.6 Q 473.9 524.7, 473.9 530.4 Q 473.9 536.1, 471.1 539.3 Q 468.3 542.5, 463.1 542.5 Q 457.9 542.5, 455.1 539.3 Q 452.3 536.1, 452.3 530.4 M 463.1 539.9 Q 466.7 539.9, 468.6 537.5 Q 470.6 535.1, 470.6 530.4 Q 470.6 525.7, 468.6 523.4 Q 466.7 521.1, 463.1 521.1 Q 459.5 521.1, 457.6 523.4 Q 455.6 525.7, 455.6 530.4 Q 455.6 535.1, 457.6 537.5 Q 459.5 539.9, 463.1 539.9 \" fill=\"#FF0000\"/>\n",
       "<path class=\"atom-8\" d=\"M 410.7 555.3 L 414.2 551.8 L 409.6 550.9 L 410.3 548.5 L 414.5 550.6 L 413.9 546.0 L 416.4 546.0 L 415.7 550.6 L 420.0 548.6 L 420.7 550.9 L 416.1 551.7 L 419.4 555.3 L 417.4 556.7 L 415.1 552.3 L 412.8 556.7 L 410.7 555.3 \" fill=\"#191919\"/>\n",
       "<path class=\"legend\" d=\"M 412.9 577.0 Q 412.9 575.0, 413.9 573.8 Q 414.8 572.7, 416.8 572.7 Q 418.7 572.7, 419.6 574.1 L 418.6 574.8 Q 418.3 574.4, 417.8 574.1 Q 417.4 573.9, 416.8 573.9 Q 415.7 573.9, 415.0 574.7 Q 414.4 575.4, 414.4 577.0 Q 414.4 578.5, 415.0 579.3 Q 415.7 580.0, 416.9 580.0 Q 417.6 580.0, 418.0 579.9 Q 418.5 579.7, 419.1 579.5 L 419.5 580.5 Q 418.3 581.2, 416.8 581.2 Q 414.8 581.2, 413.9 580.1 Q 412.9 578.9, 412.9 577.0 \" fill=\"#000000\"/>\n",
       "<path class=\"legend\" d=\"M 420.7 577.0 Q 420.7 575.0, 421.7 573.8 Q 422.8 572.7, 424.6 572.7 Q 426.5 572.7, 427.5 573.8 Q 428.5 575.0, 428.5 577.0 Q 428.5 579.0, 427.5 580.1 Q 426.5 581.2, 424.6 581.2 Q 422.8 581.2, 421.7 580.1 Q 420.7 579.0, 420.7 577.0 M 422.3 577.0 Q 422.3 578.5, 422.9 579.2 Q 423.5 580.0, 424.6 580.0 Q 425.8 580.0, 426.4 579.2 Q 427.0 578.5, 427.0 577.0 Q 427.0 575.4, 426.4 574.7 Q 425.8 573.9, 424.6 573.9 Q 423.5 573.9, 422.9 574.7 Q 422.3 575.4, 422.3 577.0 \" fill=\"#000000\"/>\n",
       "<path class=\"legend\" d=\"M 439.5 572.7 Q 440.9 572.7, 441.6 573.5 Q 442.3 574.2, 442.3 575.6 L 442.3 581.1 L 440.8 581.1 L 440.8 575.8 Q 440.8 574.8, 440.4 574.3 Q 440.0 573.9, 439.2 573.9 Q 438.5 573.9, 437.8 574.2 Q 437.2 574.6, 436.9 575.2 Q 436.9 575.3, 436.9 575.6 L 436.9 581.1 L 435.4 581.1 L 435.4 575.8 Q 435.4 574.8, 435.0 574.3 Q 434.6 573.9, 433.8 573.9 Q 433.1 573.9, 432.5 574.2 Q 431.8 574.6, 431.5 575.2 L 431.5 581.1 L 430.0 581.1 L 430.0 572.9 L 431.2 572.9 L 431.4 574.0 Q 432.4 572.7, 434.1 572.7 Q 436.0 572.7, 436.6 574.2 Q 437.7 572.7, 439.5 572.7 \" fill=\"#000000\"/>\n",
       "<path class=\"legend\" d=\"M 448.0 572.7 Q 449.7 572.7, 450.7 573.8 Q 451.6 574.8, 451.6 576.8 Q 451.6 578.9, 450.5 580.1 Q 449.4 581.2, 447.4 581.2 Q 446.5 581.2, 445.7 581.0 L 445.7 585.0 L 444.2 585.0 L 444.2 572.9 L 445.4 572.9 L 445.6 573.8 Q 446.0 573.3, 446.6 573.0 Q 447.3 572.7, 448.0 572.7 M 447.4 580.0 Q 448.7 580.0, 449.4 579.2 Q 450.1 578.3, 450.1 576.8 Q 450.1 575.4, 449.5 574.7 Q 449.0 573.9, 447.9 573.9 Q 447.1 573.9, 446.5 574.3 Q 445.9 574.8, 445.7 575.5 L 445.7 579.8 Q 446.5 580.0, 447.4 580.0 \" fill=\"#000000\"/>\n",
       "<path class=\"legend\" d=\"M 453.0 577.0 Q 453.0 575.0, 454.0 573.8 Q 455.1 572.7, 456.9 572.7 Q 458.8 572.7, 459.8 573.8 Q 460.8 575.0, 460.8 577.0 Q 460.8 579.0, 459.8 580.1 Q 458.8 581.2, 456.9 581.2 Q 455.1 581.2, 454.0 580.1 Q 453.0 579.0, 453.0 577.0 M 454.6 577.0 Q 454.6 578.5, 455.2 579.2 Q 455.8 580.0, 456.9 580.0 Q 458.1 580.0, 458.7 579.2 Q 459.3 578.5, 459.3 577.0 Q 459.3 575.4, 458.7 574.7 Q 458.1 573.9, 456.9 573.9 Q 455.8 573.9, 455.2 574.7 Q 454.6 575.4, 454.6 577.0 \" fill=\"#000000\"/>\n",
       "<path class=\"legend\" d=\"M 462.7 579.4 Q 463.5 579.7, 464.0 579.8 Q 464.5 580.0, 465.1 580.0 Q 465.8 580.0, 466.2 579.7 Q 466.6 579.4, 466.6 578.8 Q 466.6 578.4, 466.4 578.2 Q 466.2 577.9, 465.9 577.8 Q 465.6 577.7, 464.9 577.5 Q 464.8 577.4, 464.1 577.2 Q 463.3 576.9, 462.9 576.4 Q 462.5 575.8, 462.5 575.0 Q 462.5 574.1, 463.3 573.4 Q 464.1 572.7, 465.6 572.7 Q 466.2 572.7, 466.7 572.9 Q 467.3 573.0, 467.9 573.2 L 467.5 574.4 Q 467.0 574.2, 466.5 574.1 Q 466.1 574.0, 465.6 574.0 Q 464.8 574.0, 464.4 574.3 Q 464.1 574.6, 464.1 575.0 Q 464.1 575.5, 464.4 575.7 Q 464.7 575.9, 465.3 576.2 Q 465.5 576.2, 465.7 576.3 L 466.0 576.4 Q 466.7 576.6, 467.1 576.9 Q 467.5 577.1, 467.8 577.5 Q 468.1 578.0, 468.1 578.7 Q 468.1 579.9, 467.3 580.6 Q 466.4 581.2, 465.1 581.2 Q 464.3 581.2, 463.6 581.1 Q 462.9 580.9, 462.3 580.6 L 462.7 579.4 \" fill=\"#000000\"/>\n",
       "<path class=\"legend\" d=\"M 469.6 569.8 L 471.1 569.8 L 471.1 571.1 L 469.6 571.1 L 469.6 569.8 M 469.6 572.9 L 471.1 572.9 L 471.1 581.1 L 469.6 581.1 L 469.6 572.9 \" fill=\"#000000\"/>\n",
       "<path class=\"legend\" d=\"M 473.2 574.0 L 473.2 572.9 L 474.7 572.9 L 475.0 570.5 L 476.1 570.5 L 476.1 572.9 L 478.6 572.9 L 478.6 574.0 L 476.1 574.0 L 476.1 578.6 Q 476.1 580.0, 477.3 580.0 Q 477.8 580.0, 478.5 579.8 L 478.8 580.8 Q 477.9 581.2, 477.1 581.2 Q 476.0 581.2, 475.3 580.5 Q 474.6 579.9, 474.6 578.6 L 474.6 574.0 L 473.2 574.0 \" fill=\"#000000\"/>\n",
       "<path class=\"legend\" d=\"M 479.9 577.0 Q 479.9 574.9, 480.9 573.8 Q 481.9 572.7, 483.7 572.7 Q 485.5 572.7, 486.3 573.8 Q 487.1 574.9, 487.1 576.9 L 487.1 577.2 L 481.4 577.2 Q 481.4 578.6, 482.0 579.3 Q 482.7 580.0, 483.8 580.0 Q 484.5 580.0, 485.1 579.9 Q 485.7 579.7, 486.4 579.4 L 486.8 580.4 Q 486.0 580.8, 485.3 581.0 Q 484.5 581.2, 483.8 581.2 Q 481.9 581.2, 480.9 580.1 Q 479.9 579.0, 479.9 577.0 M 483.7 573.9 Q 482.8 573.9, 482.2 574.4 Q 481.6 575.0, 481.5 576.0 L 485.6 576.0 Q 485.4 574.9, 485.0 574.4 Q 484.5 573.9, 483.7 573.9 \" fill=\"#000000\"/>\n",
       "</svg>"
      ],
      "text/plain": [
       "<IPython.core.display.SVG object>"
      ]
     },
     "execution_count": 2,
     "metadata": {},
     "output_type": "execute_result"
    }
   ],
   "source": [
    "smiles = [\"c1ccccc1\", \"OC\", \"c1cc(*)ccc1\", \"O(*)C\", \"c1cc(*)ccc1.O(*)C\"]\n",
    "legends = [\"benzene\", \"methanol\", \"phenyl group\", \"Methoxy group\", \"composite\"]\n",
    "dm.viz.to_image([dm.to_mol(x) for x in smiles], legends=legends, n_cols=3, use_svg=True)\n"
   ]
  },
  {
   "attachments": {},
   "cell_type": "markdown",
   "metadata": {},
   "source": [
    "In the example above, we can see that `phenol` can be represented as two fragments that can be connected given proper attachment point. \n",
    "\n",
    "To achieve this we are interested in attaching 2 fragments together (the `methoxy` and the `phenyl` groups). In RDKit, this can usually be achieved using chemical reactions. For convenience, we will prefer a standardized representation of attachment points that includes an atom mapping."
   ]
  },
  {
   "cell_type": "code",
   "execution_count": 3,
   "metadata": {},
   "outputs": [
    {
     "data": {
      "image/svg+xml": [
       "<svg xmlns=\"http://www.w3.org/2000/svg\" xmlns:rdkit=\"http://www.rdkit.org/xml\" xmlns:xlink=\"http://www.w3.org/1999/xlink\" version=\"1.1\" baseProfile=\"full\" xml:space=\"preserve\" width=\"600px\" height=\"300px\" viewBox=\"0 0 600 300\">\n",
       "<!-- END OF HEADER -->\n",
       "<rect style=\"opacity:1.0;fill:#FFFFFF;stroke:none\" width=\"600.0\" height=\"300.0\" x=\"0.0\" y=\"0.0\"> </rect>\n",
       "<path class=\"bond-0 atom-0 atom-1\" d=\"M 229.0,109.5 L 178.0,138.5\" style=\"fill:none;fill-rule:evenodd;stroke:#000000;stroke-width:2.0px;stroke-linecap:butt;stroke-linejoin:miter;stroke-opacity:1\"/>\n",
       "<path class=\"bond-0 atom-0 atom-1\" d=\"M 220.2,104.4 L 178.1,128.4\" style=\"fill:none;fill-rule:evenodd;stroke:#000000;stroke-width:2.0px;stroke-linecap:butt;stroke-linejoin:miter;stroke-opacity:1\"/>\n",
       "<path class=\"bond-1 atom-1 atom-2\" d=\"M 178.0,138.5 L 127.5,108.9\" style=\"fill:none;fill-rule:evenodd;stroke:#000000;stroke-width:2.0px;stroke-linecap:butt;stroke-linejoin:miter;stroke-opacity:1\"/>\n",
       "<path class=\"bond-2 atom-2 atom-3\" d=\"M 127.5,108.9 L 105.9,121.2\" style=\"fill:none;fill-rule:evenodd;stroke:#000000;stroke-width:2.0px;stroke-linecap:butt;stroke-linejoin:miter;stroke-opacity:1\"/>\n",
       "<path class=\"bond-2 atom-2 atom-3\" d=\"M 105.9,121.2 L 84.3,133.4\" style=\"fill:none;fill-rule:evenodd;stroke:#191919;stroke-width:2.0px;stroke-linecap:butt;stroke-linejoin:miter;stroke-opacity:1\"/>\n",
       "<path class=\"bond-3 atom-2 atom-4\" d=\"M 127.5,108.9 L 127.8,50.3\" style=\"fill:none;fill-rule:evenodd;stroke:#000000;stroke-width:2.0px;stroke-linecap:butt;stroke-linejoin:miter;stroke-opacity:1\"/>\n",
       "<path class=\"bond-3 atom-2 atom-4\" d=\"M 136.3,103.9 L 136.6,55.4\" style=\"fill:none;fill-rule:evenodd;stroke:#000000;stroke-width:2.0px;stroke-linecap:butt;stroke-linejoin:miter;stroke-opacity:1\"/>\n",
       "<path class=\"bond-4 atom-4 atom-5\" d=\"M 127.8,50.3 L 178.8,21.3\" style=\"fill:none;fill-rule:evenodd;stroke:#000000;stroke-width:2.0px;stroke-linecap:butt;stroke-linejoin:miter;stroke-opacity:1\"/>\n",
       "<path class=\"bond-5 atom-5 atom-6\" d=\"M 178.8,21.3 L 229.4,50.9\" style=\"fill:none;fill-rule:evenodd;stroke:#000000;stroke-width:2.0px;stroke-linecap:butt;stroke-linejoin:miter;stroke-opacity:1\"/>\n",
       "<path class=\"bond-5 atom-5 atom-6\" d=\"M 178.7,31.4 L 220.5,55.9\" style=\"fill:none;fill-rule:evenodd;stroke:#000000;stroke-width:2.0px;stroke-linecap:butt;stroke-linejoin:miter;stroke-opacity:1\"/>\n",
       "<path class=\"bond-6 atom-7 atom-8\" d=\"M 150.5,257.1 L 135.7,265.6\" style=\"fill:none;fill-rule:evenodd;stroke:#FF0000;stroke-width:2.0px;stroke-linecap:butt;stroke-linejoin:miter;stroke-opacity:1\"/>\n",
       "<path class=\"bond-6 atom-7 atom-8\" d=\"M 135.7,265.6 L 120.9,274.1\" style=\"fill:none;fill-rule:evenodd;stroke:#191919;stroke-width:2.0px;stroke-linecap:butt;stroke-linejoin:miter;stroke-opacity:1\"/>\n",
       "<path class=\"bond-7 atom-7 atom-9\" d=\"M 177.3,257.1 L 195.9,267.9\" style=\"fill:none;fill-rule:evenodd;stroke:#FF0000;stroke-width:2.0px;stroke-linecap:butt;stroke-linejoin:miter;stroke-opacity:1\"/>\n",
       "<path class=\"bond-7 atom-7 atom-9\" d=\"M 195.9,267.9 L 214.6,278.7\" style=\"fill:none;fill-rule:evenodd;stroke:#000000;stroke-width:2.0px;stroke-linecap:butt;stroke-linejoin:miter;stroke-opacity:1\"/>\n",
       "<path class=\"bond-8 atom-6 atom-0\" d=\"M 229.4,50.9 L 229.0,109.5\" style=\"fill:none;fill-rule:evenodd;stroke:#000000;stroke-width:2.0px;stroke-linecap:butt;stroke-linejoin:miter;stroke-opacity:1\"/>\n",
       "<path d=\"M 226.4,111.0 L 229.0,109.5 L 229.0,106.6\" style=\"fill:none;stroke:#000000;stroke-width:2.0px;stroke-linecap:butt;stroke-linejoin:miter;stroke-opacity:1;\"/>\n",
       "<path d=\"M 180.6,137.1 L 178.0,138.5 L 175.5,137.0\" style=\"fill:none;stroke:#000000;stroke-width:2.0px;stroke-linecap:butt;stroke-linejoin:miter;stroke-opacity:1;\"/>\n",
       "<path d=\"M 127.8,53.2 L 127.8,50.3 L 130.4,48.8\" style=\"fill:none;stroke:#000000;stroke-width:2.0px;stroke-linecap:butt;stroke-linejoin:miter;stroke-opacity:1;\"/>\n",
       "<path d=\"M 176.2,22.7 L 178.8,21.3 L 181.3,22.8\" style=\"fill:none;stroke:#000000;stroke-width:2.0px;stroke-linecap:butt;stroke-linejoin:miter;stroke-opacity:1;\"/>\n",
       "<path d=\"M 226.8,49.4 L 229.4,50.9 L 229.4,53.9\" style=\"fill:none;stroke:#000000;stroke-width:2.0px;stroke-linecap:butt;stroke-linejoin:miter;stroke-opacity:1;\"/>\n",
       "<path class=\"atom-3\" d=\"M 71.8 135.1 L 75.5 131.4 L 70.6 130.4 L 71.4 127.9 L 75.8 130.1 L 75.2 125.2 L 77.8 125.2 L 77.1 130.1 L 81.6 128.0 L 82.4 130.4 L 77.5 131.3 L 81.0 135.1 L 78.9 136.6 L 76.4 132.0 L 74.0 136.6 L 71.8 135.1 \" fill=\"#191919\"/>\n",
       "<path class=\"atom-7\" d=\"M 152.5 249.4 Q 152.5 243.4, 155.4 240.1 Q 158.4 236.8, 163.9 236.8 Q 169.4 236.8, 172.4 240.1 Q 175.3 243.4, 175.3 249.4 Q 175.3 255.5, 172.3 258.9 Q 169.3 262.3, 163.9 262.3 Q 158.4 262.3, 155.4 258.9 Q 152.5 255.5, 152.5 249.4 M 163.9 259.5 Q 167.7 259.5, 169.7 257.0 Q 171.8 254.4, 171.8 249.4 Q 171.8 244.5, 169.7 242.1 Q 167.7 239.6, 163.9 239.6 Q 160.1 239.6, 158.0 242.0 Q 156.0 244.5, 156.0 249.4 Q 156.0 254.5, 158.0 257.0 Q 160.1 259.5, 163.9 259.5 \" fill=\"#FF0000\"/>\n",
       "<path class=\"atom-8\" d=\"M 108.4 275.8 L 112.1 272.1 L 107.2 271.1 L 107.9 268.6 L 112.4 270.9 L 111.8 266.0 L 114.4 266.0 L 113.7 270.9 L 118.2 268.7 L 119.0 271.1 L 114.1 272.1 L 117.6 275.8 L 115.4 277.4 L 113.0 272.7 L 110.6 277.4 L 108.4 275.8 \" fill=\"#191919\"/>\n",
       "<path class=\"bond-0 atom-0 atom-1\" d=\"M 540.3,103.2 L 489.4,132.2\" style=\"fill:none;fill-rule:evenodd;stroke:#000000;stroke-width:2.0px;stroke-linecap:butt;stroke-linejoin:miter;stroke-opacity:1\"/>\n",
       "<path class=\"bond-0 atom-0 atom-1\" d=\"M 531.5,98.1 L 489.4,122.1\" style=\"fill:none;fill-rule:evenodd;stroke:#000000;stroke-width:2.0px;stroke-linecap:butt;stroke-linejoin:miter;stroke-opacity:1\"/>\n",
       "<path class=\"bond-1 atom-1 atom-2\" d=\"M 489.4,132.2 L 438.8,102.6\" style=\"fill:none;fill-rule:evenodd;stroke:#000000;stroke-width:2.0px;stroke-linecap:butt;stroke-linejoin:miter;stroke-opacity:1\"/>\n",
       "<path class=\"bond-2 atom-2 atom-3\" d=\"M 438.8,102.6 L 418.0,114.4\" style=\"fill:none;fill-rule:evenodd;stroke:#000000;stroke-width:2.0px;stroke-linecap:butt;stroke-linejoin:miter;stroke-opacity:1\"/>\n",
       "<path class=\"bond-2 atom-2 atom-3\" d=\"M 418.0,114.4 L 397.3,126.2\" style=\"fill:none;fill-rule:evenodd;stroke:#191919;stroke-width:2.0px;stroke-linecap:butt;stroke-linejoin:miter;stroke-opacity:1\"/>\n",
       "<path class=\"bond-3 atom-2 atom-4\" d=\"M 438.8,102.6 L 439.2,44.0\" style=\"fill:none;fill-rule:evenodd;stroke:#000000;stroke-width:2.0px;stroke-linecap:butt;stroke-linejoin:miter;stroke-opacity:1\"/>\n",
       "<path class=\"bond-3 atom-2 atom-4\" d=\"M 447.6,97.6 L 447.9,49.1\" style=\"fill:none;fill-rule:evenodd;stroke:#000000;stroke-width:2.0px;stroke-linecap:butt;stroke-linejoin:miter;stroke-opacity:1\"/>\n",
       "<path class=\"bond-4 atom-4 atom-5\" d=\"M 439.2,44.0 L 490.1,15.0\" style=\"fill:none;fill-rule:evenodd;stroke:#000000;stroke-width:2.0px;stroke-linecap:butt;stroke-linejoin:miter;stroke-opacity:1\"/>\n",
       "<path class=\"bond-5 atom-5 atom-6\" d=\"M 490.1,15.0 L 540.7,44.6\" style=\"fill:none;fill-rule:evenodd;stroke:#000000;stroke-width:2.0px;stroke-linecap:butt;stroke-linejoin:miter;stroke-opacity:1\"/>\n",
       "<path class=\"bond-5 atom-5 atom-6\" d=\"M 490.0,25.2 L 531.9,49.7\" style=\"fill:none;fill-rule:evenodd;stroke:#000000;stroke-width:2.0px;stroke-linecap:butt;stroke-linejoin:miter;stroke-opacity:1\"/>\n",
       "<path class=\"bond-6 atom-7 atom-8\" d=\"M 461.8,250.8 L 447.8,258.8\" style=\"fill:none;fill-rule:evenodd;stroke:#FF0000;stroke-width:2.0px;stroke-linecap:butt;stroke-linejoin:miter;stroke-opacity:1\"/>\n",
       "<path class=\"bond-6 atom-7 atom-8\" d=\"M 447.8,258.8 L 433.9,266.9\" style=\"fill:none;fill-rule:evenodd;stroke:#191919;stroke-width:2.0px;stroke-linecap:butt;stroke-linejoin:miter;stroke-opacity:1\"/>\n",
       "<path class=\"bond-7 atom-7 atom-9\" d=\"M 488.6,250.8 L 507.3,261.6\" style=\"fill:none;fill-rule:evenodd;stroke:#FF0000;stroke-width:2.0px;stroke-linecap:butt;stroke-linejoin:miter;stroke-opacity:1\"/>\n",
       "<path class=\"bond-7 atom-7 atom-9\" d=\"M 507.3,261.6 L 525.9,272.4\" style=\"fill:none;fill-rule:evenodd;stroke:#000000;stroke-width:2.0px;stroke-linecap:butt;stroke-linejoin:miter;stroke-opacity:1\"/>\n",
       "<path class=\"bond-8 atom-6 atom-0\" d=\"M 540.7,44.6 L 540.3,103.2\" style=\"fill:none;fill-rule:evenodd;stroke:#000000;stroke-width:2.0px;stroke-linecap:butt;stroke-linejoin:miter;stroke-opacity:1\"/>\n",
       "<path d=\"M 537.8,104.7 L 540.3,103.2 L 540.3,100.3\" style=\"fill:none;stroke:#000000;stroke-width:2.0px;stroke-linecap:butt;stroke-linejoin:miter;stroke-opacity:1;\"/>\n",
       "<path d=\"M 491.9,130.8 L 489.4,132.2 L 486.8,130.8\" style=\"fill:none;stroke:#000000;stroke-width:2.0px;stroke-linecap:butt;stroke-linejoin:miter;stroke-opacity:1;\"/>\n",
       "<path d=\"M 439.1,46.9 L 439.2,44.0 L 441.7,42.5\" style=\"fill:none;stroke:#000000;stroke-width:2.0px;stroke-linecap:butt;stroke-linejoin:miter;stroke-opacity:1;\"/>\n",
       "<path d=\"M 487.6,16.4 L 490.1,15.0 L 492.6,16.5\" style=\"fill:none;stroke:#000000;stroke-width:2.0px;stroke-linecap:butt;stroke-linejoin:miter;stroke-opacity:1;\"/>\n",
       "<path d=\"M 538.2,43.2 L 540.7,44.6 L 540.7,47.6\" style=\"fill:none;stroke:#000000;stroke-width:2.0px;stroke-linecap:butt;stroke-linejoin:miter;stroke-opacity:1;\"/>\n",
       "<path class=\"atom-3\" d=\"M 360.5 128.8 L 364.2 125.1 L 359.3 124.1 L 360.1 121.6 L 364.5 123.8 L 363.9 119.0 L 366.5 118.9 L 365.8 123.8 L 370.3 121.7 L 371.1 124.1 L 366.2 125.0 L 369.7 128.8 L 367.5 130.3 L 365.1 125.7 L 362.7 130.3 L 360.5 128.8 \" fill=\"#191919\"/>\n",
       "<path class=\"atom-3\" d=\"M 373.2 140.1 L 376.7 140.1 L 376.7 143.6 L 373.2 143.6 L 373.2 140.1 M 373.2 128.0 L 376.7 128.0 L 376.7 131.5 L 373.2 131.5 L 373.2 128.0 \" fill=\"#191919\"/>\n",
       "<path class=\"atom-3\" d=\"M 381.7 141.4 L 387.2 141.4 L 387.2 122.8 L 381.1 124.7 L 380.3 122.6 L 388.0 119.2 L 390.5 119.6 L 390.5 141.4 L 395.3 141.4 L 395.3 144.2 L 381.7 144.2 L 381.7 141.4 \" fill=\"#191919\"/>\n",
       "<path class=\"atom-7\" d=\"M 463.8 243.1 Q 463.8 237.2, 466.7 233.8 Q 469.7 230.5, 475.2 230.5 Q 480.7 230.5, 483.7 233.8 Q 486.6 237.2, 486.6 243.1 Q 486.6 249.2, 483.6 252.6 Q 480.7 256.0, 475.2 256.0 Q 469.7 256.0, 466.7 252.6 Q 463.8 249.2, 463.8 243.1 M 475.2 253.2 Q 479.0 253.2, 481.0 250.7 Q 483.1 248.1, 483.1 243.1 Q 483.1 238.2, 481.0 235.8 Q 479.0 233.3, 475.2 233.3 Q 471.4 233.3, 469.3 235.8 Q 467.3 238.2, 467.3 243.1 Q 467.3 248.2, 469.3 250.7 Q 471.4 253.2, 475.2 253.2 \" fill=\"#FF0000\"/>\n",
       "<path class=\"atom-8\" d=\"M 397.1 269.6 L 400.7 265.8 L 395.9 264.8 L 396.6 262.4 L 401.1 264.6 L 400.5 259.7 L 403.1 259.7 L 402.4 264.6 L 406.9 262.5 L 407.7 264.8 L 402.8 265.8 L 406.3 269.5 L 404.1 271.1 L 401.7 266.4 L 399.2 271.1 L 397.1 269.6 \" fill=\"#191919\"/>\n",
       "<path class=\"atom-8\" d=\"M 409.7 280.9 L 413.3 280.9 L 413.3 284.4 L 409.7 284.4 L 409.7 280.9 M 409.7 268.8 L 413.3 268.8 L 413.3 272.3 L 409.7 272.3 L 409.7 268.8 \" fill=\"#191919\"/>\n",
       "<path class=\"atom-8\" d=\"M 418.3 282.2 L 423.7 282.2 L 423.7 263.6 L 417.7 265.4 L 416.9 263.4 L 424.5 260.0 L 427.0 260.4 L 427.0 282.2 L 431.9 282.2 L 431.9 285.0 L 418.3 285.0 L 418.3 282.2 \" fill=\"#191919\"/>\n",
       "</svg>"
      ],
      "text/plain": [
       "<IPython.core.display.SVG object>"
      ]
     },
     "execution_count": 3,
     "metadata": {},
     "output_type": "execute_result"
    }
   ],
   "source": [
    "smiles = [ 'c1cc(*)ccc1.O(*)C', 'c1cc([*:1])ccc1.O([*:1])C'] #\n",
    "dm.viz.to_image([dm.to_mol(x) for x in smiles], n_cols=len(smiles), use_svg=True)\n"
   ]
  },
  {
   "attachments": {},
   "cell_type": "markdown",
   "metadata": {},
   "source": [
    "To attach the two fragments, I can write a simple chemical transformation. Since smarts and smiles syntax do not mix very well when it comes to `*` I will assume an isotopic representation `[1*]` instead of `[*:1]`\n"
   ]
  },
  {
   "cell_type": "code",
   "execution_count": 4,
   "metadata": {},
   "outputs": [
    {
     "data": {
      "image/png": "[encoded data removed]",
      "text/plain": [
       "<rdkit.Chem.rdChemReactions.ChemicalReaction at 0x7f5c904069d0>"
      ]
     },
     "execution_count": 4,
     "metadata": {},
     "output_type": "execute_result"
    }
   ],
   "source": [
    "rxn = rdr.ReactionFromSmarts(\"[1*][*:1].[1*][*:2]>>[*:1][*:2]\")\n",
    "rxn\n"
   ]
  },
  {
   "cell_type": "code",
   "execution_count": 5,
   "metadata": {},
   "outputs": [
    {
     "data": {
      "image/png": "[encoded data removed]",
      "text/plain": [
       "<rdkit.Chem.rdchem.Mol at 0x7f5c90406ab0>"
      ]
     },
     "execution_count": 5,
     "metadata": {},
     "output_type": "execute_result"
    }
   ],
   "source": [
    "# replace atom map by isotopes\n",
    "phenyl = \"c1cc([*:1])ccc1\".replace(\"[*:1]\", \"[1*]\")\n",
    "methoxy = \"O([*:1])C\".replace(\"[*:1]\", \"[1*]\")\n",
    "\n",
    "# runreactions\n",
    "prod = rxn.RunReactants((dm.to_mol(phenyl), dm.to_mol(methoxy)))\n",
    "prod[0][0]\n"
   ]
  },
  {
   "attachments": {},
   "cell_type": "markdown",
   "metadata": {},
   "source": [
    "We can achieve the same result by using rdkit API in an slightly more tedious way.\n"
   ]
  },
  {
   "cell_type": "code",
   "execution_count": 6,
   "metadata": {},
   "outputs": [
    {
     "name": "stderr",
     "output_type": "stream",
     "text": [
      "[11:14:08] WARNING: not removing hydrogen atom without neighbors\n"
     ]
    },
    {
     "data": {
      "image/png": "[encoded data removed]",
      "text/plain": [
       "<rdkit.Chem.rdchem.Mol at 0x7f5c90406f80>"
      ]
     },
     "execution_count": 6,
     "metadata": {},
     "output_type": "execute_result"
    }
   ],
   "source": [
    "replacement_sub =  Chem.MolFromSmarts(\"[1*]\")\n",
    "prod = Chem.ReplaceSubstructs(dm.to_mol(phenyl), replacement_sub, dm.to_mol(methoxy), replacementConnectionPoint=0)\n",
    "prod = dm.remove_dummies(prod[0], dummy=\"[1*]\")\n",
    "prod\n"
   ]
  },
  {
   "attachments": {},
   "cell_type": "markdown",
   "metadata": {},
   "source": [
    "But wait, could we attach the fragment using only the string operations on the smiles ?\n",
    "\n",
    "Well, it's not possible by trying to perform substring replacement, but recall we just said that `numbers in smiles represents connectivity points` ?"
   ]
  },
  {
   "cell_type": "code",
   "execution_count": 7,
   "metadata": {},
   "outputs": [],
   "source": [
    "phenyl = \"c1cc([*:1])ccc1\"\n",
    "methoxy = \"O([*:1])C\"\n",
    "composite = phenyl + \".\" + methoxy # c1cc([*:1])ccc1.O([*:1])C\n",
    "compo = dm.to_mol(composite)\n"
   ]
  },
  {
   "attachments": {},
   "cell_type": "markdown",
   "metadata": {},
   "source": [
    "Since `1` \"connectivity point\" is already present in the phenyl group. We need to start by opening a new connectivity point: `2`"
   ]
  },
  {
   "cell_type": "code",
   "execution_count": 8,
   "metadata": {},
   "outputs": [
    {
     "name": "stderr",
     "output_type": "stream",
     "text": [
      "[11:14:10] SMILES Parse Error: syntax error while parsing: c1cc(2)ccc1.O(2)C\n",
      "[11:14:10] SMILES Parse Error: Failed parsing SMILES 'c1cc(2)ccc1.O(2)C' for input: 'c1cc(2)ccc1.O(2)C'\n"
     ]
    }
   ],
   "source": [
    "attached_composite = composite.replace(\"[*:1]\", \"2\")\n",
    "dm.to_mol(attached_composite)\n"
   ]
  },
  {
   "attachments": {},
   "cell_type": "markdown",
   "metadata": {},
   "source": [
    "The previous line does not work because of violation in the smiles syntax. As we are not taking into account the branching bracket surrounding the attachment point.\n",
    "\n",
    "We could try to regenerate the smiles or scan the sequence and remove the brackets when it's possible, but we want to limit the operations to `str.replace`. So let's try again."
   ]
  },
  {
   "cell_type": "code",
   "execution_count": 9,
   "metadata": {},
   "outputs": [
    {
     "data": {
      "image/svg+xml": [
       "<svg xmlns=\"http://www.w3.org/2000/svg\" xmlns:rdkit=\"http://www.rdkit.org/xml\" xmlns:xlink=\"http://www.w3.org/1999/xlink\" version=\"1.1\" baseProfile=\"full\" xml:space=\"preserve\" width=\"300px\" height=\"300px\" viewBox=\"0 0 300 300\">\n",
       "<!-- END OF HEADER -->\n",
       "<rect style=\"opacity:1.0;fill:#FFFFFF;stroke:none\" width=\"300.0\" height=\"300.0\" x=\"0.0\" y=\"0.0\"> </rect>\n",
       "<path class=\"bond-0 atom-0 atom-1\" d=\"M 284.5,168.9 L 216.9,207.4\" style=\"fill:none;fill-rule:evenodd;stroke:#000000;stroke-width:2.0px;stroke-linecap:butt;stroke-linejoin:miter;stroke-opacity:1\"/>\n",
       "<path class=\"bond-0 atom-0 atom-1\" d=\"M 272.9,162.1 L 217.0,193.9\" style=\"fill:none;fill-rule:evenodd;stroke:#000000;stroke-width:2.0px;stroke-linecap:butt;stroke-linejoin:miter;stroke-opacity:1\"/>\n",
       "<path class=\"bond-1 atom-1 atom-2\" d=\"M 216.9,207.4 L 149.8,168.0\" style=\"fill:none;fill-rule:evenodd;stroke:#000000;stroke-width:2.0px;stroke-linecap:butt;stroke-linejoin:miter;stroke-opacity:1\"/>\n",
       "<path class=\"bond-2 atom-2 atom-3\" d=\"M 149.8,168.0 L 150.2,90.2\" style=\"fill:none;fill-rule:evenodd;stroke:#000000;stroke-width:2.0px;stroke-linecap:butt;stroke-linejoin:miter;stroke-opacity:1\"/>\n",
       "<path class=\"bond-2 atom-2 atom-3\" d=\"M 161.5,161.4 L 161.9,97.0\" style=\"fill:none;fill-rule:evenodd;stroke:#000000;stroke-width:2.0px;stroke-linecap:butt;stroke-linejoin:miter;stroke-opacity:1\"/>\n",
       "<path class=\"bond-3 atom-3 atom-4\" d=\"M 150.2,90.2 L 217.9,51.8\" style=\"fill:none;fill-rule:evenodd;stroke:#000000;stroke-width:2.0px;stroke-linecap:butt;stroke-linejoin:miter;stroke-opacity:1\"/>\n",
       "<path class=\"bond-4 atom-4 atom-5\" d=\"M 217.9,51.8 L 285.0,91.1\" style=\"fill:none;fill-rule:evenodd;stroke:#000000;stroke-width:2.0px;stroke-linecap:butt;stroke-linejoin:miter;stroke-opacity:1\"/>\n",
       "<path class=\"bond-4 atom-4 atom-5\" d=\"M 217.8,65.2 L 273.3,97.8\" style=\"fill:none;fill-rule:evenodd;stroke:#000000;stroke-width:2.0px;stroke-linecap:butt;stroke-linejoin:miter;stroke-opacity:1\"/>\n",
       "<path class=\"bond-5 atom-6 atom-7\" d=\"M 66.6,197.4 L 40.8,182.3\" style=\"fill:none;fill-rule:evenodd;stroke:#FF0000;stroke-width:2.0px;stroke-linecap:butt;stroke-linejoin:miter;stroke-opacity:1\"/>\n",
       "<path class=\"bond-5 atom-6 atom-7\" d=\"M 40.8,182.3 L 15.0,167.1\" style=\"fill:none;fill-rule:evenodd;stroke:#000000;stroke-width:2.0px;stroke-linecap:butt;stroke-linejoin:miter;stroke-opacity:1\"/>\n",
       "<path class=\"bond-6 atom-5 atom-0\" d=\"M 285.0,91.1 L 284.5,168.9\" style=\"fill:none;fill-rule:evenodd;stroke:#000000;stroke-width:2.0px;stroke-linecap:butt;stroke-linejoin:miter;stroke-opacity:1\"/>\n",
       "<path class=\"bond-7 atom-6 atom-2\" d=\"M 97.7,197.6 L 123.7,182.8\" style=\"fill:none;fill-rule:evenodd;stroke:#FF0000;stroke-width:2.0px;stroke-linecap:butt;stroke-linejoin:miter;stroke-opacity:1\"/>\n",
       "<path class=\"bond-7 atom-6 atom-2\" d=\"M 123.7,182.8 L 149.8,168.0\" style=\"fill:none;fill-rule:evenodd;stroke:#000000;stroke-width:2.0px;stroke-linecap:butt;stroke-linejoin:miter;stroke-opacity:1\"/>\n",
       "<path d=\"M 281.1,170.8 L 284.5,168.9 L 284.5,165.0\" style=\"fill:none;stroke:#000000;stroke-width:2.0px;stroke-linecap:butt;stroke-linejoin:miter;stroke-opacity:1;\"/>\n",
       "<path d=\"M 220.3,205.4 L 216.9,207.4 L 213.5,205.4\" style=\"fill:none;stroke:#000000;stroke-width:2.0px;stroke-linecap:butt;stroke-linejoin:miter;stroke-opacity:1;\"/>\n",
       "<path d=\"M 150.2,94.1 L 150.2,90.2 L 153.6,88.3\" style=\"fill:none;stroke:#000000;stroke-width:2.0px;stroke-linecap:butt;stroke-linejoin:miter;stroke-opacity:1;\"/>\n",
       "<path d=\"M 214.5,53.7 L 217.9,51.8 L 221.2,53.7\" style=\"fill:none;stroke:#000000;stroke-width:2.0px;stroke-linecap:butt;stroke-linejoin:miter;stroke-opacity:1;\"/>\n",
       "<path d=\"M 281.6,89.1 L 285.0,91.1 L 285.0,95.0\" style=\"fill:none;stroke:#000000;stroke-width:2.0px;stroke-linecap:butt;stroke-linejoin:miter;stroke-opacity:1;\"/>\n",
       "<path class=\"atom-6\" d=\"M 69.1 206.6 Q 69.1 199.8, 72.5 196.0 Q 75.8 192.2, 82.1 192.2 Q 88.4 192.2, 91.8 196.0 Q 95.1 199.8, 95.1 206.6 Q 95.1 213.4, 91.7 217.4 Q 88.3 221.2, 82.1 221.2 Q 75.9 221.2, 72.5 217.4 Q 69.1 213.5, 69.1 206.6 M 82.1 218.0 Q 86.4 218.0, 88.8 215.2 Q 91.1 212.2, 91.1 206.6 Q 91.1 201.0, 88.8 198.2 Q 86.4 195.4, 82.1 195.4 Q 77.8 195.4, 75.4 198.2 Q 73.1 201.0, 73.1 206.6 Q 73.1 212.3, 75.4 215.2 Q 77.8 218.0, 82.1 218.0 \" fill=\"#FF0000\"/>\n",
       "<path class=\"legend\" d=\"M 96.9 280.7 Q 96.9 278.7, 97.9 277.6 Q 98.9 276.5, 100.9 276.5 Q 102.7 276.5, 103.7 277.8 L 102.7 278.6 Q 102.3 278.1, 101.9 277.9 Q 101.5 277.6, 100.9 277.6 Q 99.7 277.6, 99.1 278.4 Q 98.5 279.2, 98.5 280.7 Q 98.5 282.2, 99.1 283.0 Q 99.8 283.8, 101.0 283.8 Q 101.6 283.8, 102.1 283.6 Q 102.6 283.5, 103.1 283.2 L 103.6 284.2 Q 102.4 284.9, 100.9 284.9 Q 98.9 284.9, 97.9 283.8 Q 96.9 282.7, 96.9 280.7 \" fill=\"#000000\"/>\n",
       "<path class=\"legend\" d=\"M 105.4 283.5 L 107.9 283.5 L 107.9 275.1 L 105.2 275.9 L 104.8 275.0 L 108.3 273.4 L 109.4 273.6 L 109.4 283.5 L 111.6 283.5 L 111.6 284.8 L 105.4 284.8 L 105.4 283.5 \" fill=\"#000000\"/>\n",
       "<path class=\"legend\" d=\"M 113.0 280.7 Q 113.0 278.7, 114.0 277.6 Q 115.0 276.5, 116.9 276.5 Q 118.8 276.5, 119.8 277.8 L 118.8 278.6 Q 118.4 278.1, 117.9 277.9 Q 117.5 277.6, 116.9 277.6 Q 115.8 277.6, 115.2 278.4 Q 114.5 279.2, 114.5 280.7 Q 114.5 282.2, 115.2 283.0 Q 115.8 283.8, 117.0 283.8 Q 117.7 283.8, 118.2 283.6 Q 118.6 283.5, 119.2 283.2 L 119.6 284.2 Q 118.4 284.9, 116.9 284.9 Q 115.0 284.9, 114.0 283.8 Q 113.0 282.7, 113.0 280.7 \" fill=\"#000000\"/>\n",
       "<path class=\"legend\" d=\"M 120.9 280.7 Q 120.9 278.7, 121.9 277.6 Q 122.9 276.5, 124.8 276.5 Q 126.7 276.5, 127.7 277.8 L 126.6 278.6 Q 126.3 278.1, 125.8 277.9 Q 125.4 277.6, 124.8 277.6 Q 123.7 277.6, 123.0 278.4 Q 122.4 279.2, 122.4 280.7 Q 122.4 282.2, 123.0 283.0 Q 123.7 283.8, 124.9 283.8 Q 125.6 283.8, 126.0 283.6 Q 126.5 283.5, 127.1 283.2 L 127.5 284.2 Q 126.3 284.9, 124.8 284.9 Q 122.9 284.9, 121.9 283.8 Q 120.9 282.7, 120.9 280.7 \" fill=\"#000000\"/>\n",
       "<path class=\"legend\" d=\"M 128.8 275.6 Q 129.2 274.6, 130.2 274.0 Q 131.2 273.4, 132.5 273.4 Q 134.2 273.4, 135.2 274.3 Q 136.2 275.2, 136.2 276.9 Q 136.2 278.6, 134.9 280.1 Q 133.7 281.7, 131.1 283.5 L 136.4 283.5 L 136.4 284.8 L 128.7 284.8 L 128.7 283.8 Q 130.8 282.2, 132.1 281.1 Q 133.4 280.0, 134.0 279.0 Q 134.6 278.0, 134.6 277.0 Q 134.6 275.9, 134.0 275.3 Q 133.5 274.6, 132.5 274.6 Q 131.6 274.6, 131.0 275.0 Q 130.4 275.4, 130.0 276.2 L 128.8 275.6 \" fill=\"#000000\"/>\n",
       "<path class=\"legend\" d=\"M 138.0 280.7 Q 138.0 278.7, 139.0 277.6 Q 140.0 276.5, 142.0 276.5 Q 143.8 276.5, 144.8 277.8 L 143.8 278.6 Q 143.4 278.1, 143.0 277.9 Q 142.5 277.6, 142.0 277.6 Q 140.8 277.6, 140.2 278.4 Q 139.6 279.2, 139.6 280.7 Q 139.6 282.2, 140.2 283.0 Q 140.8 283.8, 142.0 283.8 Q 142.7 283.8, 143.2 283.6 Q 143.6 283.5, 144.2 283.2 L 144.6 284.2 Q 143.5 284.9, 141.9 284.9 Q 140.0 284.9, 139.0 283.8 Q 138.0 282.7, 138.0 280.7 \" fill=\"#000000\"/>\n",
       "<path class=\"legend\" d=\"M 145.9 280.7 Q 145.9 278.7, 146.9 277.6 Q 147.9 276.5, 149.8 276.5 Q 151.7 276.5, 152.7 277.8 L 151.7 278.6 Q 151.3 278.1, 150.8 277.9 Q 150.4 277.6, 149.8 277.6 Q 148.7 277.6, 148.0 278.4 Q 147.4 279.2, 147.4 280.7 Q 147.4 282.2, 148.1 283.0 Q 148.7 283.8, 149.9 283.8 Q 150.6 283.8, 151.0 283.6 Q 151.5 283.5, 152.1 283.2 L 152.5 284.2 Q 151.3 284.9, 149.8 284.9 Q 147.9 284.9, 146.9 283.8 Q 145.9 282.7, 145.9 280.7 \" fill=\"#000000\"/>\n",
       "<path class=\"legend\" d=\"M 153.7 280.7 Q 153.7 278.7, 154.7 277.6 Q 155.7 276.5, 157.7 276.5 Q 159.6 276.5, 160.5 277.8 L 159.5 278.6 Q 159.1 278.1, 158.7 277.9 Q 158.3 277.6, 157.7 277.6 Q 156.5 277.6, 155.9 278.4 Q 155.3 279.2, 155.3 280.7 Q 155.3 282.2, 155.9 283.0 Q 156.6 283.8, 157.8 283.8 Q 158.4 283.8, 158.9 283.6 Q 159.4 283.5, 160.0 283.2 L 160.4 284.2 Q 159.2 284.9, 157.7 284.9 Q 155.7 284.9, 154.7 283.8 Q 153.7 282.7, 153.7 280.7 \" fill=\"#000000\"/>\n",
       "<path class=\"legend\" d=\"M 162.2 283.5 L 164.7 283.5 L 164.7 275.1 L 162.0 275.9 L 161.6 275.0 L 165.1 273.4 L 166.2 273.6 L 166.2 283.5 L 168.4 283.5 L 168.4 284.8 L 162.2 284.8 L 162.2 283.5 \" fill=\"#000000\"/>\n",
       "<path class=\"legend\" d=\"M 169.8 283.2 L 171.4 283.2 L 171.4 284.8 L 169.8 284.8 L 169.8 283.2 \" fill=\"#000000\"/>\n",
       "<path class=\"legend\" d=\"M 173.1 279.1 Q 173.1 276.4, 174.5 274.9 Q 175.8 273.4, 178.3 273.4 Q 180.9 273.4, 182.2 274.9 Q 183.5 276.4, 183.5 279.1 Q 183.5 281.9, 182.2 283.4 Q 180.8 285.0, 178.3 285.0 Q 175.8 285.0, 174.5 283.4 Q 173.1 281.9, 173.1 279.1 M 178.3 283.7 Q 180.1 283.7, 181.0 282.6 Q 181.9 281.4, 181.9 279.1 Q 181.9 276.9, 181.0 275.8 Q 180.1 274.6, 178.3 274.6 Q 176.6 274.6, 175.7 275.8 Q 174.7 276.9, 174.7 279.1 Q 174.7 281.4, 175.7 282.6 Q 176.6 283.7, 178.3 283.7 \" fill=\"#000000\"/>\n",
       "<path class=\"legend\" d=\"M 185.1 275.6 Q 185.5 274.6, 186.5 274.0 Q 187.5 273.4, 188.8 273.4 Q 190.6 273.4, 191.5 274.3 Q 192.5 275.2, 192.5 276.9 Q 192.5 278.6, 191.2 280.1 Q 190.0 281.7, 187.4 283.5 L 192.7 283.5 L 192.7 284.8 L 185.0 284.8 L 185.0 283.8 Q 187.1 282.2, 188.4 281.1 Q 189.7 280.0, 190.3 279.0 Q 190.9 278.0, 190.9 277.0 Q 190.9 275.9, 190.3 275.3 Q 189.8 274.6, 188.8 274.6 Q 187.9 274.6, 187.3 275.0 Q 186.7 275.4, 186.3 276.2 L 185.1 275.6 \" fill=\"#000000\"/>\n",
       "<path class=\"legend\" d=\"M 194.3 279.1 Q 194.3 276.3, 195.6 274.9 Q 197.0 273.4, 199.5 273.4 Q 201.8 273.4, 203.1 275.0 L 202.0 275.9 Q 201.1 274.7, 199.5 274.7 Q 197.8 274.7, 196.9 275.8 Q 196.0 277.0, 196.0 279.1 Q 196.0 281.4, 196.9 282.5 Q 197.8 283.7, 199.7 283.7 Q 200.9 283.7, 202.4 282.9 L 202.8 284.1 Q 202.2 284.5, 201.3 284.7 Q 200.4 285.0, 199.4 285.0 Q 197.0 285.0, 195.6 283.5 Q 194.3 282.0, 194.3 279.1 \" fill=\"#000000\"/>\n",
       "</svg>"
      ],
      "text/plain": [
       "<IPython.core.display.SVG object>"
      ]
     },
     "execution_count": 9,
     "metadata": {},
     "output_type": "execute_result"
    }
   ],
   "source": [
    "attached_composite = composite.replace(\"([*:1])\", \"2\").replace(\"[*:1]\", \"2\")\n",
    "dm.to_image(attached_composite, legends=[attached_composite])\n"
   ]
  },
  {
   "attachments": {},
   "cell_type": "markdown",
   "metadata": {},
   "source": [
    "You can see that the phenol molecule is represented as two \"fragments\" `[Fragment1].[Fragment2]`. That is what SAFE is about."
   ]
  },
  {
   "attachments": {},
   "cell_type": "markdown",
   "metadata": {},
   "source": [
    "In summary, to build a SAFE string, we just need to follow the step below:\n",
    "\n",
    "![safe](../assets/safe-construction.svg)"
   ]
  },
  {
   "cell_type": "markdown",
   "metadata": {},
   "source": [
    "---\n",
    "\n",
    "The End !"
   ]
  }
 ],
 "metadata": {
  "kernelspec": {
   "display_name": "safe",
   "language": "python",
   "name": "python3"
  },
  "language_info": {
   "codemirror_mode": {
    "name": "ipython",
    "version": 3
   },
   "file_extension": ".py",
   "mimetype": "text/x-python",
   "name": "python",
   "nbconvert_exporter": "python",
   "pygments_lexer": "ipython3",
   "version": "3.11.6"
  },
  "orig_nbformat": 4
 },
 "nbformat": 4,
 "nbformat_minor": 2
}

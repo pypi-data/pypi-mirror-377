{
 "cells": [
  {
   "cell_type": "markdown",
   "source": [
    "# Converting numeric data to sequence data: Example based on the Gapminder data\n",
    "\n",
    "*Author: Yuqi Liang*\n",
    "*Date: 26 Feb 2025*\n",
    "\n",
    "In this tutorial, we will explore the Gapminder data and demonstrate how to convert numeric data into sequence data. Here is some important information:\n",
    "\n",
    "**Data Source:** The data used in this tutorial is sourced from [Gapminder](https://www.gapminder.org/data/). Gapminder provides comprehensive datasets on various global indicators, including CO₂ emissions and GDP per capita, which are used to track and visualize development trends over time.  \n",
    "\n",
    "**Data Analysis and Cleaning:** We will perform data analysis and cleaning to transform the numeric dataset into a sequence dataset. This involves:\n",
    "\n",
    "* Loading the dataset.\n",
    "* Converting the dataset from wide to long format.\n",
    "* Handling missing values and converting data types.\n",
    "* Computing quintile thresholds to categorize the data.\n",
    "* Converting the dataset back to wide format with sequence states.\n",
    "\n",
    "Let's get started!"
   ],
   "metadata": {
    "collapsed": false
   },
   "id": "9641e27fee4e2246"
  },
  {
   "cell_type": "code",
   "execution_count": 1,
   "outputs": [],
   "source": [
    "# Import necessary packages\n",
    "import pandas as pd"
   ],
   "metadata": {
    "collapsed": false,
    "ExecuteTime": {
     "end_time": "2025-04-01T01:24:58.406318Z",
     "start_time": "2025-04-01T01:24:57.691545Z"
    }
   },
   "id": "b47d9ab2d585271d"
  },
  {
   "cell_type": "markdown",
   "source": [
    "## CO2 emissions data"
   ],
   "metadata": {
    "collapsed": false
   },
   "id": "fd0e624031da6022"
  },
  {
   "cell_type": "code",
   "execution_count": 2,
   "outputs": [
    {
     "data": {
      "text/plain": "          country   1800   1801   1802   1803   1804   1805   1806   1807  \\\n0     Afghanistan  0.001  0.001  0.001  0.001  0.001  0.001  0.001  0.001   \n1          Angola  0.009  0.009  0.009  0.009  0.009  0.009  0.010  0.010   \n2         Albania  0.001  0.001  0.001  0.001  0.001  0.001  0.001  0.001   \n3         Andorra  0.333  0.335  0.337  0.340  0.342  0.345  0.347  0.350   \n4             UAE  0.063  0.063  0.064  0.064  0.064  0.064  0.065  0.065   \n..            ...    ...    ...    ...    ...    ...    ...    ...    ...   \n189         Samoa  0.002  0.002  0.002  0.002  0.002  0.002  0.002  0.002   \n190         Yemen  0.002  0.002  0.002  0.002  0.002  0.002  0.002  0.002   \n191  South Africa  0.003  0.003  0.004  0.004  0.004  0.004  0.004  0.004   \n192        Zambia  0.255  0.256  0.257  0.258  0.259  0.260  0.261  0.262   \n193      Zimbabwe  0.059  0.060  0.060  0.060  0.060  0.061  0.061  0.061   \n\n      1808  ...   2013    2014    2015    2016    2017    2018    2019  \\\n0    0.001  ...   0.28   0.253   0.262   0.245   0.247   0.254   0.261   \n1    0.010  ...   1.28   1.640   1.220   1.180   1.150   1.120   1.150   \n2    0.001  ...   2.27   2.250   2.040   2.010   2.130   2.080   2.050   \n3    0.352  ...    5.9   5.830   5.970   6.070   6.270   6.120   6.060   \n4    0.065  ...     27  26.800  27.000  26.700  23.900  23.500  21.200   \n..     ...  ...    ...     ...     ...     ...     ...     ...     ...   \n189  0.002  ...   1.04   1.090   1.210   1.260   1.290   1.320   1.370   \n190  0.002  ...  0.994   0.937   0.480   0.377   0.363   0.356   0.365   \n191  0.004  ...    6.2   6.100   5.760   5.680   5.550   5.420   5.680   \n192  0.263  ...  0.511   0.560   0.519   0.471   0.474   0.467   0.487   \n193  0.061  ...  0.906   0.929   0.955   0.821   0.708   0.830   0.783   \n\n       2020    2021    2022  \n0     0.261   0.279   0.284  \n1     1.120   1.200   1.230  \n2     2.000   2.120   2.100  \n3     5.630   5.970   5.910  \n4    19.700  20.700  21.100  \n..      ...     ...     ...  \n189   1.310   1.400   1.430  \n190   0.362   0.387   0.395  \n191   5.110   5.080   5.180  \n192   0.388   0.416   0.424  \n193   0.737   0.789   0.804  \n\n[194 rows x 224 columns]",
      "text/html": "<div>\n<style scoped>\n    .dataframe tbody tr th:only-of-type {\n        vertical-align: middle;\n    }\n\n    .dataframe tbody tr th {\n        vertical-align: top;\n    }\n\n    .dataframe thead th {\n        text-align: right;\n    }\n</style>\n<table border=\"1\" class=\"dataframe\">\n  <thead>\n    <tr style=\"text-align: right;\">\n      <th></th>\n      <th>country</th>\n      <th>1800</th>\n      <th>1801</th>\n      <th>1802</th>\n      <th>1803</th>\n      <th>1804</th>\n      <th>1805</th>\n      <th>1806</th>\n      <th>1807</th>\n      <th>1808</th>\n      <th>...</th>\n      <th>2013</th>\n      <th>2014</th>\n      <th>2015</th>\n      <th>2016</th>\n      <th>2017</th>\n      <th>2018</th>\n      <th>2019</th>\n      <th>2020</th>\n      <th>2021</th>\n      <th>2022</th>\n    </tr>\n  </thead>\n  <tbody>\n    <tr>\n      <th>0</th>\n      <td>Afghanistan</td>\n      <td>0.001</td>\n      <td>0.001</td>\n      <td>0.001</td>\n      <td>0.001</td>\n      <td>0.001</td>\n      <td>0.001</td>\n      <td>0.001</td>\n      <td>0.001</td>\n      <td>0.001</td>\n      <td>...</td>\n      <td>0.28</td>\n      <td>0.253</td>\n      <td>0.262</td>\n      <td>0.245</td>\n      <td>0.247</td>\n      <td>0.254</td>\n      <td>0.261</td>\n      <td>0.261</td>\n      <td>0.279</td>\n      <td>0.284</td>\n    </tr>\n    <tr>\n      <th>1</th>\n      <td>Angola</td>\n      <td>0.009</td>\n      <td>0.009</td>\n      <td>0.009</td>\n      <td>0.009</td>\n      <td>0.009</td>\n      <td>0.009</td>\n      <td>0.010</td>\n      <td>0.010</td>\n      <td>0.010</td>\n      <td>...</td>\n      <td>1.28</td>\n      <td>1.640</td>\n      <td>1.220</td>\n      <td>1.180</td>\n      <td>1.150</td>\n      <td>1.120</td>\n      <td>1.150</td>\n      <td>1.120</td>\n      <td>1.200</td>\n      <td>1.230</td>\n    </tr>\n    <tr>\n      <th>2</th>\n      <td>Albania</td>\n      <td>0.001</td>\n      <td>0.001</td>\n      <td>0.001</td>\n      <td>0.001</td>\n      <td>0.001</td>\n      <td>0.001</td>\n      <td>0.001</td>\n      <td>0.001</td>\n      <td>0.001</td>\n      <td>...</td>\n      <td>2.27</td>\n      <td>2.250</td>\n      <td>2.040</td>\n      <td>2.010</td>\n      <td>2.130</td>\n      <td>2.080</td>\n      <td>2.050</td>\n      <td>2.000</td>\n      <td>2.120</td>\n      <td>2.100</td>\n    </tr>\n    <tr>\n      <th>3</th>\n      <td>Andorra</td>\n      <td>0.333</td>\n      <td>0.335</td>\n      <td>0.337</td>\n      <td>0.340</td>\n      <td>0.342</td>\n      <td>0.345</td>\n      <td>0.347</td>\n      <td>0.350</td>\n      <td>0.352</td>\n      <td>...</td>\n      <td>5.9</td>\n      <td>5.830</td>\n      <td>5.970</td>\n      <td>6.070</td>\n      <td>6.270</td>\n      <td>6.120</td>\n      <td>6.060</td>\n      <td>5.630</td>\n      <td>5.970</td>\n      <td>5.910</td>\n    </tr>\n    <tr>\n      <th>4</th>\n      <td>UAE</td>\n      <td>0.063</td>\n      <td>0.063</td>\n      <td>0.064</td>\n      <td>0.064</td>\n      <td>0.064</td>\n      <td>0.064</td>\n      <td>0.065</td>\n      <td>0.065</td>\n      <td>0.065</td>\n      <td>...</td>\n      <td>27</td>\n      <td>26.800</td>\n      <td>27.000</td>\n      <td>26.700</td>\n      <td>23.900</td>\n      <td>23.500</td>\n      <td>21.200</td>\n      <td>19.700</td>\n      <td>20.700</td>\n      <td>21.100</td>\n    </tr>\n    <tr>\n      <th>...</th>\n      <td>...</td>\n      <td>...</td>\n      <td>...</td>\n      <td>...</td>\n      <td>...</td>\n      <td>...</td>\n      <td>...</td>\n      <td>...</td>\n      <td>...</td>\n      <td>...</td>\n      <td>...</td>\n      <td>...</td>\n      <td>...</td>\n      <td>...</td>\n      <td>...</td>\n      <td>...</td>\n      <td>...</td>\n      <td>...</td>\n      <td>...</td>\n      <td>...</td>\n      <td>...</td>\n    </tr>\n    <tr>\n      <th>189</th>\n      <td>Samoa</td>\n      <td>0.002</td>\n      <td>0.002</td>\n      <td>0.002</td>\n      <td>0.002</td>\n      <td>0.002</td>\n      <td>0.002</td>\n      <td>0.002</td>\n      <td>0.002</td>\n      <td>0.002</td>\n      <td>...</td>\n      <td>1.04</td>\n      <td>1.090</td>\n      <td>1.210</td>\n      <td>1.260</td>\n      <td>1.290</td>\n      <td>1.320</td>\n      <td>1.370</td>\n      <td>1.310</td>\n      <td>1.400</td>\n      <td>1.430</td>\n    </tr>\n    <tr>\n      <th>190</th>\n      <td>Yemen</td>\n      <td>0.002</td>\n      <td>0.002</td>\n      <td>0.002</td>\n      <td>0.002</td>\n      <td>0.002</td>\n      <td>0.002</td>\n      <td>0.002</td>\n      <td>0.002</td>\n      <td>0.002</td>\n      <td>...</td>\n      <td>0.994</td>\n      <td>0.937</td>\n      <td>0.480</td>\n      <td>0.377</td>\n      <td>0.363</td>\n      <td>0.356</td>\n      <td>0.365</td>\n      <td>0.362</td>\n      <td>0.387</td>\n      <td>0.395</td>\n    </tr>\n    <tr>\n      <th>191</th>\n      <td>South Africa</td>\n      <td>0.003</td>\n      <td>0.003</td>\n      <td>0.004</td>\n      <td>0.004</td>\n      <td>0.004</td>\n      <td>0.004</td>\n      <td>0.004</td>\n      <td>0.004</td>\n      <td>0.004</td>\n      <td>...</td>\n      <td>6.2</td>\n      <td>6.100</td>\n      <td>5.760</td>\n      <td>5.680</td>\n      <td>5.550</td>\n      <td>5.420</td>\n      <td>5.680</td>\n      <td>5.110</td>\n      <td>5.080</td>\n      <td>5.180</td>\n    </tr>\n    <tr>\n      <th>192</th>\n      <td>Zambia</td>\n      <td>0.255</td>\n      <td>0.256</td>\n      <td>0.257</td>\n      <td>0.258</td>\n      <td>0.259</td>\n      <td>0.260</td>\n      <td>0.261</td>\n      <td>0.262</td>\n      <td>0.263</td>\n      <td>...</td>\n      <td>0.511</td>\n      <td>0.560</td>\n      <td>0.519</td>\n      <td>0.471</td>\n      <td>0.474</td>\n      <td>0.467</td>\n      <td>0.487</td>\n      <td>0.388</td>\n      <td>0.416</td>\n      <td>0.424</td>\n    </tr>\n    <tr>\n      <th>193</th>\n      <td>Zimbabwe</td>\n      <td>0.059</td>\n      <td>0.060</td>\n      <td>0.060</td>\n      <td>0.060</td>\n      <td>0.060</td>\n      <td>0.061</td>\n      <td>0.061</td>\n      <td>0.061</td>\n      <td>0.061</td>\n      <td>...</td>\n      <td>0.906</td>\n      <td>0.929</td>\n      <td>0.955</td>\n      <td>0.821</td>\n      <td>0.708</td>\n      <td>0.830</td>\n      <td>0.783</td>\n      <td>0.737</td>\n      <td>0.789</td>\n      <td>0.804</td>\n    </tr>\n  </tbody>\n</table>\n<p>194 rows × 224 columns</p>\n</div>"
     },
     "execution_count": 2,
     "metadata": {},
     "output_type": "execute_result"
    }
   ],
   "source": [
    "# Load the dataset\n",
    "df_co2_emissions = pd.read_csv(f'data_sources/gapminder/co2_pcap_cons.csv')\n",
    "\n",
    "df_co2_emissions"
   ],
   "metadata": {
    "collapsed": false,
    "ExecuteTime": {
     "end_time": "2025-04-01T01:24:58.928471Z",
     "start_time": "2025-04-01T01:24:58.879828Z"
    }
   },
   "id": "915392e969c78275"
  },
  {
   "cell_type": "code",
   "execution_count": 3,
   "outputs": [
    {
     "data": {
      "text/plain": "            country  year  co2_per_capita\n0       Afghanistan  1800           0.001\n1            Angola  1800           0.009\n2           Albania  1800           0.001\n3           Andorra  1800           0.333\n4               UAE  1800           0.063\n...             ...   ...             ...\n43257         Samoa  2022           1.430\n43258         Yemen  2022           0.395\n43259  South Africa  2022           5.180\n43260        Zambia  2022           0.424\n43261      Zimbabwe  2022           0.804\n\n[43255 rows x 3 columns]",
      "text/html": "<div>\n<style scoped>\n    .dataframe tbody tr th:only-of-type {\n        vertical-align: middle;\n    }\n\n    .dataframe tbody tr th {\n        vertical-align: top;\n    }\n\n    .dataframe thead th {\n        text-align: right;\n    }\n</style>\n<table border=\"1\" class=\"dataframe\">\n  <thead>\n    <tr style=\"text-align: right;\">\n      <th></th>\n      <th>country</th>\n      <th>year</th>\n      <th>co2_per_capita</th>\n    </tr>\n  </thead>\n  <tbody>\n    <tr>\n      <th>0</th>\n      <td>Afghanistan</td>\n      <td>1800</td>\n      <td>0.001</td>\n    </tr>\n    <tr>\n      <th>1</th>\n      <td>Angola</td>\n      <td>1800</td>\n      <td>0.009</td>\n    </tr>\n    <tr>\n      <th>2</th>\n      <td>Albania</td>\n      <td>1800</td>\n      <td>0.001</td>\n    </tr>\n    <tr>\n      <th>3</th>\n      <td>Andorra</td>\n      <td>1800</td>\n      <td>0.333</td>\n    </tr>\n    <tr>\n      <th>4</th>\n      <td>UAE</td>\n      <td>1800</td>\n      <td>0.063</td>\n    </tr>\n    <tr>\n      <th>...</th>\n      <td>...</td>\n      <td>...</td>\n      <td>...</td>\n    </tr>\n    <tr>\n      <th>43257</th>\n      <td>Samoa</td>\n      <td>2022</td>\n      <td>1.430</td>\n    </tr>\n    <tr>\n      <th>43258</th>\n      <td>Yemen</td>\n      <td>2022</td>\n      <td>0.395</td>\n    </tr>\n    <tr>\n      <th>43259</th>\n      <td>South Africa</td>\n      <td>2022</td>\n      <td>5.180</td>\n    </tr>\n    <tr>\n      <th>43260</th>\n      <td>Zambia</td>\n      <td>2022</td>\n      <td>0.424</td>\n    </tr>\n    <tr>\n      <th>43261</th>\n      <td>Zimbabwe</td>\n      <td>2022</td>\n      <td>0.804</td>\n    </tr>\n  </tbody>\n</table>\n<p>43255 rows × 3 columns</p>\n</div>"
     },
     "execution_count": 3,
     "metadata": {},
     "output_type": "execute_result"
    }
   ],
   "source": [
    "# Convert the dataset from wide to long format\n",
    "df_long = df_co2_emissions.melt(id_vars=[\"country\"], var_name=\"year\", value_name=\"co2_per_capita\")\n",
    "\n",
    "# Convert year to integer\n",
    "df_long[\"year\"] = df_long[\"year\"].astype(int)\n",
    "\n",
    "# Convert CO₂ per capita values to numeric, handling errors as NaN\n",
    "df_long[\"co2_per_capita\"] = pd.to_numeric(df_long[\"co2_per_capita\"], errors=\"coerce\")\n",
    "\n",
    "# Drop missing values\n",
    "df_long = df_long.dropna(subset=[\"co2_per_capita\"])\n",
    "\n",
    "df_long"
   ],
   "metadata": {
    "collapsed": false,
    "ExecuteTime": {
     "end_time": "2025-04-01T01:24:59.754192Z",
     "start_time": "2025-04-01T01:24:59.726849Z"
    }
   },
   "id": "6acfa6b967d763b3"
  },
  {
   "cell_type": "markdown",
   "source": [
    "## Long vs. Wide Format: Important distinctions in statistics and data analytics\n",
    "\n",
    "**In wide format:**\n",
    "\n",
    "Each row represents a country, and each column is a different year (e.g., `1800`, `1801`, `1802`, etc.). It is called as wide format because it will contain a long list of columns and it looks wide. This format is also the default format for Sequenzo to recognize your original dataframe.\n",
    "\n",
    "**In long format:**\n",
    "\n",
    "Each row represents one observation — that is, one country in one year — with three columns such as  \n",
    "`country`, `year`, and `co2_per_capita`. As the name indicates, it is long as each row is not necessarily a country unless it has only one observation (one year in this case). \n",
    "\n",
    "For instance, if each country has carbon emissions records for 192 years, then in long format, each country will have 192 rows. By contrast, a country will only have one row in wide format.\n",
    "\n",
    "**Why convert to long format?**  \n",
    "- It's easier to manipulate time-based or grouped data as a data preprocessing step.\n",
    "- It works better with most Python tools (`groupby`, `qcut`, plotting, etc.).\n",
    "- It's the preferred structure for sequence analysis, which tracks patterns over time.\n",
    "\n",
    "---\n",
    "\n",
    "## Why Convert Numeric Values into Categories?\n",
    "\n",
    "In **social sequence analysis**, we focus on **changes in status or category over time**, not the exact numerical values.\n",
    "\n",
    "Instead of analyzing raw CO₂ per capita values, we group them into **categories** such as:\n",
    "- Very Low\n",
    "- Low\n",
    "- Middle\n",
    "- High\n",
    "- Very High\n",
    "\n",
    "This:\n",
    "- Highlights meaningful shifts between categories.\n",
    "- Makes country comparisons easier.\n",
    "- Reduces sensitivity to small numerical fluctuations.\n",
    "\n",
    "We create these categories using **quintiles** — dividing all numeric values into five equal-sized groups.\n",
    "\n",
    "> **Note:** This can be a standard practice in social sequence analysis for turning continuous variables into **categorical states** suitable for pattern analysis over time.\n",
    "> Of course, you are more than welcome to come up with any other plausible and interesting ways."
   ],
   "metadata": {
    "collapsed": false
   },
   "id": "45a196511b80f5fd"
  },
  {
   "cell_type": "markdown",
   "source": [
    "## Time to distinguish global and local quintiles\n",
    "\n",
    "### 1. **Global Quintiles**\n",
    "\n",
    "**What it means**: \n",
    "- All CO₂ per capita values across all years and countries are considered together to compute **one set** of quintile thresholds.\n",
    "- This allows **global comparisons across time** using the same benchmark.\n",
    "\n",
    "**How to do it**:\n",
    "```python\n",
    "df_long[\"quintile_global\"] = pd.qcut(df_long[\"co2_per_capita\"], q=5, labels=[\"Very Low\", \"Low\", \"Middle\", \"High\", \"Very High\"])\n",
    "df_global = df_long.pivot(index=\"country\", columns=\"year\", values=\"quintile_global\")\n",
    "```\n",
    "\n",
    "---\n",
    "\n",
    "### 2. **Local (Yearly) Quintiles**\n",
    "\n",
    "**What it means**: \n",
    "- Quintile thresholds are calculated **independently for each year**.\n",
    "- A country's CO₂ level is evaluated relative to other countries in **that specific year only**.\n",
    "- Useful for identifying changes in **relative rank**, even if the global scale has shifted.\n",
    "\n",
    "**How to compute it**:\n",
    "```python\n",
    "# Create a function to assign quintiles per year\n",
    "def assign_local_quintiles(sub_df):\n",
    "    sub_df[\"quintile_local\"] = pd.qcut(sub_df[\"co2_per_capita\"], q=5, labels=[\"Very Low\", \"Low\", \"Middle\", \"High\", \"Very High\"])\n",
    "    return sub_df\n",
    "\n",
    "# Apply the function by year\n",
    "df_local = df_long.groupby(\"year\").apply(assign_local_quintiles)\n",
    "\n",
    "# Pivot for wide format\n",
    "df_local = df_local.pivot(index=\"country\", columns=\"year\", values=\"quintile_local\")\n",
    "```\n",
    "\n",
    "---\n",
    "\n",
    "### 3. Why Do We Have Both?\n",
    "\n",
    "As you gain experience with data analysis, it's easy to fall into a rhythm — focusing on *how* to do things rather than *why* you’re doing them. But in both research and industry, understanding the **conceptual meaning** behind each data operation is crucial. Always take a step back and ask yourself: **What does this step represent, is it really helpful and why? And what story does it help me tell?**\n",
    "\n",
    "For example:\n",
    "- If you're interested in **absolute progress** — whether a country’s CO₂ emissions are rising or falling over decades — then **global quintiles** help you benchmark everything on the same scale.\n",
    "- If you're more focused on **relative standing** — how a country ranks among its peers in a given year — then **local (yearly) quintiles** provide that perspective.\n",
    "\n",
    "There’s no one-size-fits-all answer. It's about understanding your **research or business question** and choosing the approach that best helps you explore or communicate it.\n",
    "\n",
    "Generally speaking, it’s often helpful to explore **both** approaches. They provide different lenses through which to understand change over time.\n",
    "\n",
    "| Aspect              | Global Quintiles                                  | Local (Yearly) Quintiles                                |\n",
    "|---------------------|---------------------------------------------------|---------------------------------------------------------|\n",
    "| **Benchmark**        | Fixed across time                                | Dynamic per year                                        |\n",
    "| **Tracks**           | Absolute change over time                        | Relative position change year-to-year                   |\n",
    "| **Useful For**       | Long-term global comparisons                     | Annual rankings and relative shifts                     |\n",
    "| **Limitations**      | Can hide relative progress/regress per year      | Can't compare across years directly                     |\n",
    "\n",
    "---\n",
    "\n",
    "### Outputs\n",
    "\n",
    "Through the following code snippets, you will have:\n",
    "- `df_global`: CO₂ per capita quintiles by country and year (based on **global** distribution)\n",
    "- `df_local`: CO₂ per capita quintiles by country and year (based on **yearly** or **local** distribution)\n"
   ],
   "metadata": {
    "collapsed": false
   },
   "id": "467e2586f7cf8c5"
  },
  {
   "cell_type": "code",
   "execution_count": 4,
   "outputs": [
    {
     "data": {
      "text/plain": "         country      1800      1801      1802      1803      1804      1805  \\\n0    Afghanistan  Very Low  Very Low  Very Low  Very Low  Very Low  Very Low   \n1        Albania  Very Low  Very Low  Very Low  Very Low  Very Low  Very Low   \n2        Algeria  Very Low  Very Low  Very Low  Very Low  Very Low  Very Low   \n3        Andorra      High      High      High      High      High      High   \n4         Angola       Low       Low       Low       Low       Low       Low   \n..           ...       ...       ...       ...       ...       ...       ...   \n189    Venezuela  Very Low  Very Low  Very Low  Very Low  Very Low  Very Low   \n190      Vietnam       Low       Low       Low       Low       Low       Low   \n191        Yemen  Very Low  Very Low  Very Low  Very Low  Very Low  Very Low   \n192       Zambia      High      High      High      High      High      High   \n193     Zimbabwe    Middle    Middle    Middle    Middle    Middle    Middle   \n\n         1806      1807      1808  ...       2013       2014       2015  \\\n0    Very Low  Very Low  Very Low  ...       High       High       High   \n1    Very Low  Very Low  Very Low  ...  Very High  Very High  Very High   \n2    Very Low  Very Low  Very Low  ...  Very High  Very High  Very High   \n3        High      High      High  ...  Very High  Very High  Very High   \n4         Low       Low       Low  ...       High       High       High   \n..        ...       ...       ...  ...        ...        ...        ...   \n189  Very Low  Very Low  Very Low  ...  Very High  Very High  Very High   \n190       Low       Low       Low  ...       High       High       High   \n191  Very Low  Very Low  Very Low  ...       High       High       High   \n192      High      High      High  ...       High       High       High   \n193    Middle    Middle    Middle  ...       High       High       High   \n\n          2016       2017       2018       2019       2020       2021  \\\n0         High       High       High       High       High       High   \n1    Very High  Very High  Very High  Very High  Very High  Very High   \n2    Very High  Very High  Very High  Very High  Very High  Very High   \n3    Very High  Very High  Very High  Very High  Very High  Very High   \n4         High       High       High       High       High       High   \n..         ...        ...        ...        ...        ...        ...   \n189  Very High  Very High       High     Middle       High       High   \n190       High       High  Very High  Very High  Very High  Very High   \n191       High       High       High       High       High       High   \n192       High       High       High       High       High       High   \n193       High       High       High       High       High       High   \n\n          2022  \n0         High  \n1    Very High  \n2    Very High  \n3    Very High  \n4         High  \n..         ...  \n189       High  \n190  Very High  \n191       High  \n192       High  \n193       High  \n\n[194 rows x 224 columns]",
      "text/html": "<div>\n<style scoped>\n    .dataframe tbody tr th:only-of-type {\n        vertical-align: middle;\n    }\n\n    .dataframe tbody tr th {\n        vertical-align: top;\n    }\n\n    .dataframe thead th {\n        text-align: right;\n    }\n</style>\n<table border=\"1\" class=\"dataframe\">\n  <thead>\n    <tr style=\"text-align: right;\">\n      <th></th>\n      <th>country</th>\n      <th>1800</th>\n      <th>1801</th>\n      <th>1802</th>\n      <th>1803</th>\n      <th>1804</th>\n      <th>1805</th>\n      <th>1806</th>\n      <th>1807</th>\n      <th>1808</th>\n      <th>...</th>\n      <th>2013</th>\n      <th>2014</th>\n      <th>2015</th>\n      <th>2016</th>\n      <th>2017</th>\n      <th>2018</th>\n      <th>2019</th>\n      <th>2020</th>\n      <th>2021</th>\n      <th>2022</th>\n    </tr>\n  </thead>\n  <tbody>\n    <tr>\n      <th>0</th>\n      <td>Afghanistan</td>\n      <td>Very Low</td>\n      <td>Very Low</td>\n      <td>Very Low</td>\n      <td>Very Low</td>\n      <td>Very Low</td>\n      <td>Very Low</td>\n      <td>Very Low</td>\n      <td>Very Low</td>\n      <td>Very Low</td>\n      <td>...</td>\n      <td>High</td>\n      <td>High</td>\n      <td>High</td>\n      <td>High</td>\n      <td>High</td>\n      <td>High</td>\n      <td>High</td>\n      <td>High</td>\n      <td>High</td>\n      <td>High</td>\n    </tr>\n    <tr>\n      <th>1</th>\n      <td>Albania</td>\n      <td>Very Low</td>\n      <td>Very Low</td>\n      <td>Very Low</td>\n      <td>Very Low</td>\n      <td>Very Low</td>\n      <td>Very Low</td>\n      <td>Very Low</td>\n      <td>Very Low</td>\n      <td>Very Low</td>\n      <td>...</td>\n      <td>Very High</td>\n      <td>Very High</td>\n      <td>Very High</td>\n      <td>Very High</td>\n      <td>Very High</td>\n      <td>Very High</td>\n      <td>Very High</td>\n      <td>Very High</td>\n      <td>Very High</td>\n      <td>Very High</td>\n    </tr>\n    <tr>\n      <th>2</th>\n      <td>Algeria</td>\n      <td>Very Low</td>\n      <td>Very Low</td>\n      <td>Very Low</td>\n      <td>Very Low</td>\n      <td>Very Low</td>\n      <td>Very Low</td>\n      <td>Very Low</td>\n      <td>Very Low</td>\n      <td>Very Low</td>\n      <td>...</td>\n      <td>Very High</td>\n      <td>Very High</td>\n      <td>Very High</td>\n      <td>Very High</td>\n      <td>Very High</td>\n      <td>Very High</td>\n      <td>Very High</td>\n      <td>Very High</td>\n      <td>Very High</td>\n      <td>Very High</td>\n    </tr>\n    <tr>\n      <th>3</th>\n      <td>Andorra</td>\n      <td>High</td>\n      <td>High</td>\n      <td>High</td>\n      <td>High</td>\n      <td>High</td>\n      <td>High</td>\n      <td>High</td>\n      <td>High</td>\n      <td>High</td>\n      <td>...</td>\n      <td>Very High</td>\n      <td>Very High</td>\n      <td>Very High</td>\n      <td>Very High</td>\n      <td>Very High</td>\n      <td>Very High</td>\n      <td>Very High</td>\n      <td>Very High</td>\n      <td>Very High</td>\n      <td>Very High</td>\n    </tr>\n    <tr>\n      <th>4</th>\n      <td>Angola</td>\n      <td>Low</td>\n      <td>Low</td>\n      <td>Low</td>\n      <td>Low</td>\n      <td>Low</td>\n      <td>Low</td>\n      <td>Low</td>\n      <td>Low</td>\n      <td>Low</td>\n      <td>...</td>\n      <td>High</td>\n      <td>High</td>\n      <td>High</td>\n      <td>High</td>\n      <td>High</td>\n      <td>High</td>\n      <td>High</td>\n      <td>High</td>\n      <td>High</td>\n      <td>High</td>\n    </tr>\n    <tr>\n      <th>...</th>\n      <td>...</td>\n      <td>...</td>\n      <td>...</td>\n      <td>...</td>\n      <td>...</td>\n      <td>...</td>\n      <td>...</td>\n      <td>...</td>\n      <td>...</td>\n      <td>...</td>\n      <td>...</td>\n      <td>...</td>\n      <td>...</td>\n      <td>...</td>\n      <td>...</td>\n      <td>...</td>\n      <td>...</td>\n      <td>...</td>\n      <td>...</td>\n      <td>...</td>\n      <td>...</td>\n    </tr>\n    <tr>\n      <th>189</th>\n      <td>Venezuela</td>\n      <td>Very Low</td>\n      <td>Very Low</td>\n      <td>Very Low</td>\n      <td>Very Low</td>\n      <td>Very Low</td>\n      <td>Very Low</td>\n      <td>Very Low</td>\n      <td>Very Low</td>\n      <td>Very Low</td>\n      <td>...</td>\n      <td>Very High</td>\n      <td>Very High</td>\n      <td>Very High</td>\n      <td>Very High</td>\n      <td>Very High</td>\n      <td>High</td>\n      <td>Middle</td>\n      <td>High</td>\n      <td>High</td>\n      <td>High</td>\n    </tr>\n    <tr>\n      <th>190</th>\n      <td>Vietnam</td>\n      <td>Low</td>\n      <td>Low</td>\n      <td>Low</td>\n      <td>Low</td>\n      <td>Low</td>\n      <td>Low</td>\n      <td>Low</td>\n      <td>Low</td>\n      <td>Low</td>\n      <td>...</td>\n      <td>High</td>\n      <td>High</td>\n      <td>High</td>\n      <td>High</td>\n      <td>High</td>\n      <td>Very High</td>\n      <td>Very High</td>\n      <td>Very High</td>\n      <td>Very High</td>\n      <td>Very High</td>\n    </tr>\n    <tr>\n      <th>191</th>\n      <td>Yemen</td>\n      <td>Very Low</td>\n      <td>Very Low</td>\n      <td>Very Low</td>\n      <td>Very Low</td>\n      <td>Very Low</td>\n      <td>Very Low</td>\n      <td>Very Low</td>\n      <td>Very Low</td>\n      <td>Very Low</td>\n      <td>...</td>\n      <td>High</td>\n      <td>High</td>\n      <td>High</td>\n      <td>High</td>\n      <td>High</td>\n      <td>High</td>\n      <td>High</td>\n      <td>High</td>\n      <td>High</td>\n      <td>High</td>\n    </tr>\n    <tr>\n      <th>192</th>\n      <td>Zambia</td>\n      <td>High</td>\n      <td>High</td>\n      <td>High</td>\n      <td>High</td>\n      <td>High</td>\n      <td>High</td>\n      <td>High</td>\n      <td>High</td>\n      <td>High</td>\n      <td>...</td>\n      <td>High</td>\n      <td>High</td>\n      <td>High</td>\n      <td>High</td>\n      <td>High</td>\n      <td>High</td>\n      <td>High</td>\n      <td>High</td>\n      <td>High</td>\n      <td>High</td>\n    </tr>\n    <tr>\n      <th>193</th>\n      <td>Zimbabwe</td>\n      <td>Middle</td>\n      <td>Middle</td>\n      <td>Middle</td>\n      <td>Middle</td>\n      <td>Middle</td>\n      <td>Middle</td>\n      <td>Middle</td>\n      <td>Middle</td>\n      <td>Middle</td>\n      <td>...</td>\n      <td>High</td>\n      <td>High</td>\n      <td>High</td>\n      <td>High</td>\n      <td>High</td>\n      <td>High</td>\n      <td>High</td>\n      <td>High</td>\n      <td>High</td>\n      <td>High</td>\n    </tr>\n  </tbody>\n</table>\n<p>194 rows × 224 columns</p>\n</div>"
     },
     "execution_count": 4,
     "metadata": {},
     "output_type": "execute_result"
    }
   ],
   "source": [
    "# Global quintiles: Compute quintile thresholds based on the entire dataset (all years and countries)\n",
    "df_long[\"quintile_global\"] = pd.qcut(df_long[\"co2_per_capita\"], q=5, labels=[\"Very Low\", \"Low\", \"Middle\", \"High\", \"Very High\"])\n",
    "\n",
    "# Convert back to wide format (country as index, years as columns with quintile states)\n",
    "df_global = df_long.pivot(index=\"country\", columns=\"year\", values=\"quintile_global\")\n",
    "\n",
    "# Reset index to make 'country' a regular column\n",
    "df_global = df_global.reset_index()\n",
    "\n",
    "# Remove the columns.name metadata for cleaner display\n",
    "df_global.columns.name = None\n",
    "\n",
    "df_global"
   ],
   "metadata": {
    "collapsed": false,
    "ExecuteTime": {
     "end_time": "2025-04-01T01:25:06.414741Z",
     "start_time": "2025-04-01T01:25:06.368715Z"
    }
   },
   "id": "f4f272750616642"
  },
  {
   "cell_type": "code",
   "execution_count": 5,
   "outputs": [
    {
     "name": "stderr",
     "output_type": "stream",
     "text": [
      "/var/folders/kk/h5dw00r5357gxylmmb8zl7qw0000gn/T/ipykernel_20732/322437402.py:8: DeprecationWarning: DataFrameGroupBy.apply operated on the grouping columns. This behavior is deprecated, and in a future version of pandas the grouping columns will be excluded from the operation. Either pass `include_groups=False` to exclude the groupings or explicitly select the grouping columns after groupby to silence this warning.\n",
      "  df_local = df_long.groupby(\"year\").apply(assign_local_quintiles)\n"
     ]
    },
    {
     "data": {
      "text/plain": "         country       1800       1801       1802       1803       1804  \\\n0    Afghanistan   Very Low   Very Low   Very Low   Very Low   Very Low   \n1        Albania   Very Low   Very Low   Very Low   Very Low   Very Low   \n2        Algeria   Very Low   Very Low   Very Low   Very Low   Very Low   \n3        Andorra  Very High  Very High  Very High  Very High  Very High   \n4         Angola     Middle     Middle     Middle     Middle     Middle   \n..           ...        ...        ...        ...        ...        ...   \n189    Venezuela   Very Low   Very Low   Very Low   Very Low   Very Low   \n190      Vietnam       High       High       High       High       High   \n191        Yemen        Low        Low        Low        Low        Low   \n192       Zambia  Very High  Very High  Very High  Very High  Very High   \n193     Zimbabwe  Very High  Very High  Very High  Very High  Very High   \n\n          1805       1806       1807       1808  ...      2013      2014  \\\n0     Very Low   Very Low   Very Low   Very Low  ...  Very Low  Very Low   \n1     Very Low   Very Low   Very Low   Very Low  ...    Middle    Middle   \n2     Very Low   Very Low   Very Low   Very Low  ...    Middle    Middle   \n3    Very High  Very High  Very High  Very High  ...      High      High   \n4       Middle     Middle     Middle     Middle  ...       Low       Low   \n..         ...        ...        ...        ...  ...       ...       ...   \n189   Very Low   Very Low   Very Low   Very Low  ...    Middle      High   \n190       High       High       High       High  ...       Low       Low   \n191        Low        Low        Low        Low  ...       Low       Low   \n192  Very High  Very High  Very High  Very High  ...  Very Low  Very Low   \n193  Very High  Very High  Very High  Very High  ...       Low       Low   \n\n         2015      2016      2017      2018      2019      2020      2021  \\\n0    Very Low  Very Low  Very Low  Very Low  Very Low  Very Low  Very Low   \n1      Middle    Middle    Middle    Middle    Middle    Middle    Middle   \n2      Middle    Middle    Middle    Middle    Middle    Middle    Middle   \n3        High      High      High      High      High      High      High   \n4         Low       Low       Low       Low       Low       Low       Low   \n..        ...       ...       ...       ...       ...       ...       ...   \n189    Middle    Middle    Middle       Low  Very Low       Low  Very Low   \n190       Low       Low       Low       Low    Middle    Middle    Middle   \n191  Very Low  Very Low  Very Low  Very Low  Very Low  Very Low  Very Low   \n192  Very Low  Very Low  Very Low  Very Low  Very Low  Very Low  Very Low   \n193       Low       Low       Low       Low       Low       Low       Low   \n\n         2022  \n0    Very Low  \n1      Middle  \n2      Middle  \n3        High  \n4         Low  \n..        ...  \n189  Very Low  \n190    Middle  \n191  Very Low  \n192  Very Low  \n193       Low  \n\n[194 rows x 224 columns]",
      "text/html": "<div>\n<style scoped>\n    .dataframe tbody tr th:only-of-type {\n        vertical-align: middle;\n    }\n\n    .dataframe tbody tr th {\n        vertical-align: top;\n    }\n\n    .dataframe thead th {\n        text-align: right;\n    }\n</style>\n<table border=\"1\" class=\"dataframe\">\n  <thead>\n    <tr style=\"text-align: right;\">\n      <th></th>\n      <th>country</th>\n      <th>1800</th>\n      <th>1801</th>\n      <th>1802</th>\n      <th>1803</th>\n      <th>1804</th>\n      <th>1805</th>\n      <th>1806</th>\n      <th>1807</th>\n      <th>1808</th>\n      <th>...</th>\n      <th>2013</th>\n      <th>2014</th>\n      <th>2015</th>\n      <th>2016</th>\n      <th>2017</th>\n      <th>2018</th>\n      <th>2019</th>\n      <th>2020</th>\n      <th>2021</th>\n      <th>2022</th>\n    </tr>\n  </thead>\n  <tbody>\n    <tr>\n      <th>0</th>\n      <td>Afghanistan</td>\n      <td>Very Low</td>\n      <td>Very Low</td>\n      <td>Very Low</td>\n      <td>Very Low</td>\n      <td>Very Low</td>\n      <td>Very Low</td>\n      <td>Very Low</td>\n      <td>Very Low</td>\n      <td>Very Low</td>\n      <td>...</td>\n      <td>Very Low</td>\n      <td>Very Low</td>\n      <td>Very Low</td>\n      <td>Very Low</td>\n      <td>Very Low</td>\n      <td>Very Low</td>\n      <td>Very Low</td>\n      <td>Very Low</td>\n      <td>Very Low</td>\n      <td>Very Low</td>\n    </tr>\n    <tr>\n      <th>1</th>\n      <td>Albania</td>\n      <td>Very Low</td>\n      <td>Very Low</td>\n      <td>Very Low</td>\n      <td>Very Low</td>\n      <td>Very Low</td>\n      <td>Very Low</td>\n      <td>Very Low</td>\n      <td>Very Low</td>\n      <td>Very Low</td>\n      <td>...</td>\n      <td>Middle</td>\n      <td>Middle</td>\n      <td>Middle</td>\n      <td>Middle</td>\n      <td>Middle</td>\n      <td>Middle</td>\n      <td>Middle</td>\n      <td>Middle</td>\n      <td>Middle</td>\n      <td>Middle</td>\n    </tr>\n    <tr>\n      <th>2</th>\n      <td>Algeria</td>\n      <td>Very Low</td>\n      <td>Very Low</td>\n      <td>Very Low</td>\n      <td>Very Low</td>\n      <td>Very Low</td>\n      <td>Very Low</td>\n      <td>Very Low</td>\n      <td>Very Low</td>\n      <td>Very Low</td>\n      <td>...</td>\n      <td>Middle</td>\n      <td>Middle</td>\n      <td>Middle</td>\n      <td>Middle</td>\n      <td>Middle</td>\n      <td>Middle</td>\n      <td>Middle</td>\n      <td>Middle</td>\n      <td>Middle</td>\n      <td>Middle</td>\n    </tr>\n    <tr>\n      <th>3</th>\n      <td>Andorra</td>\n      <td>Very High</td>\n      <td>Very High</td>\n      <td>Very High</td>\n      <td>Very High</td>\n      <td>Very High</td>\n      <td>Very High</td>\n      <td>Very High</td>\n      <td>Very High</td>\n      <td>Very High</td>\n      <td>...</td>\n      <td>High</td>\n      <td>High</td>\n      <td>High</td>\n      <td>High</td>\n      <td>High</td>\n      <td>High</td>\n      <td>High</td>\n      <td>High</td>\n      <td>High</td>\n      <td>High</td>\n    </tr>\n    <tr>\n      <th>4</th>\n      <td>Angola</td>\n      <td>Middle</td>\n      <td>Middle</td>\n      <td>Middle</td>\n      <td>Middle</td>\n      <td>Middle</td>\n      <td>Middle</td>\n      <td>Middle</td>\n      <td>Middle</td>\n      <td>Middle</td>\n      <td>...</td>\n      <td>Low</td>\n      <td>Low</td>\n      <td>Low</td>\n      <td>Low</td>\n      <td>Low</td>\n      <td>Low</td>\n      <td>Low</td>\n      <td>Low</td>\n      <td>Low</td>\n      <td>Low</td>\n    </tr>\n    <tr>\n      <th>...</th>\n      <td>...</td>\n      <td>...</td>\n      <td>...</td>\n      <td>...</td>\n      <td>...</td>\n      <td>...</td>\n      <td>...</td>\n      <td>...</td>\n      <td>...</td>\n      <td>...</td>\n      <td>...</td>\n      <td>...</td>\n      <td>...</td>\n      <td>...</td>\n      <td>...</td>\n      <td>...</td>\n      <td>...</td>\n      <td>...</td>\n      <td>...</td>\n      <td>...</td>\n      <td>...</td>\n    </tr>\n    <tr>\n      <th>189</th>\n      <td>Venezuela</td>\n      <td>Very Low</td>\n      <td>Very Low</td>\n      <td>Very Low</td>\n      <td>Very Low</td>\n      <td>Very Low</td>\n      <td>Very Low</td>\n      <td>Very Low</td>\n      <td>Very Low</td>\n      <td>Very Low</td>\n      <td>...</td>\n      <td>Middle</td>\n      <td>High</td>\n      <td>Middle</td>\n      <td>Middle</td>\n      <td>Middle</td>\n      <td>Low</td>\n      <td>Very Low</td>\n      <td>Low</td>\n      <td>Very Low</td>\n      <td>Very Low</td>\n    </tr>\n    <tr>\n      <th>190</th>\n      <td>Vietnam</td>\n      <td>High</td>\n      <td>High</td>\n      <td>High</td>\n      <td>High</td>\n      <td>High</td>\n      <td>High</td>\n      <td>High</td>\n      <td>High</td>\n      <td>High</td>\n      <td>...</td>\n      <td>Low</td>\n      <td>Low</td>\n      <td>Low</td>\n      <td>Low</td>\n      <td>Low</td>\n      <td>Low</td>\n      <td>Middle</td>\n      <td>Middle</td>\n      <td>Middle</td>\n      <td>Middle</td>\n    </tr>\n    <tr>\n      <th>191</th>\n      <td>Yemen</td>\n      <td>Low</td>\n      <td>Low</td>\n      <td>Low</td>\n      <td>Low</td>\n      <td>Low</td>\n      <td>Low</td>\n      <td>Low</td>\n      <td>Low</td>\n      <td>Low</td>\n      <td>...</td>\n      <td>Low</td>\n      <td>Low</td>\n      <td>Very Low</td>\n      <td>Very Low</td>\n      <td>Very Low</td>\n      <td>Very Low</td>\n      <td>Very Low</td>\n      <td>Very Low</td>\n      <td>Very Low</td>\n      <td>Very Low</td>\n    </tr>\n    <tr>\n      <th>192</th>\n      <td>Zambia</td>\n      <td>Very High</td>\n      <td>Very High</td>\n      <td>Very High</td>\n      <td>Very High</td>\n      <td>Very High</td>\n      <td>Very High</td>\n      <td>Very High</td>\n      <td>Very High</td>\n      <td>Very High</td>\n      <td>...</td>\n      <td>Very Low</td>\n      <td>Very Low</td>\n      <td>Very Low</td>\n      <td>Very Low</td>\n      <td>Very Low</td>\n      <td>Very Low</td>\n      <td>Very Low</td>\n      <td>Very Low</td>\n      <td>Very Low</td>\n      <td>Very Low</td>\n    </tr>\n    <tr>\n      <th>193</th>\n      <td>Zimbabwe</td>\n      <td>Very High</td>\n      <td>Very High</td>\n      <td>Very High</td>\n      <td>Very High</td>\n      <td>Very High</td>\n      <td>Very High</td>\n      <td>Very High</td>\n      <td>Very High</td>\n      <td>Very High</td>\n      <td>...</td>\n      <td>Low</td>\n      <td>Low</td>\n      <td>Low</td>\n      <td>Low</td>\n      <td>Low</td>\n      <td>Low</td>\n      <td>Low</td>\n      <td>Low</td>\n      <td>Low</td>\n      <td>Low</td>\n    </tr>\n  </tbody>\n</table>\n<p>194 rows × 224 columns</p>\n</div>"
     },
     "execution_count": 5,
     "metadata": {},
     "output_type": "execute_result"
    }
   ],
   "source": [
    "# Local (yearly) quintiles\n",
    "# Create a function to assign quintiles per year\n",
    "def assign_local_quintiles(sub_df):\n",
    "    sub_df[\"quintile_local\"] = pd.qcut(sub_df[\"co2_per_capita\"], q=5, labels=[\"Very Low\", \"Low\", \"Middle\", \"High\", \"Very High\"])\n",
    "    return sub_df\n",
    "\n",
    "# Apply the function by year\n",
    "df_local = df_long.groupby(\"year\").apply(assign_local_quintiles)\n",
    "\n",
    "# Pivot for wide format\n",
    "df_local = df_local.pivot(index=\"country\", columns=\"year\", values=\"quintile_local\")\n",
    "\n",
    "# Reset index to make 'country' a regular column\n",
    "df_local = df_local.reset_index()\n",
    "\n",
    "# Remove the columns.name metadata for cleaner display\n",
    "df_local.columns.name = None\n",
    "\n",
    "df_local"
   ],
   "metadata": {
    "collapsed": false,
    "ExecuteTime": {
     "end_time": "2025-04-01T01:25:07.130053Z",
     "start_time": "2025-04-01T01:25:06.769525Z"
    }
   },
   "id": "21b23e0e8242b0b0"
  },
  {
   "cell_type": "markdown",
   "source": [
    "## Deciles"
   ],
   "metadata": {
    "collapsed": false
   },
   "id": "b7bbbe461a5cbf76"
  },
  {
   "cell_type": "code",
   "execution_count": 6,
   "outputs": [
    {
     "data": {
      "text/plain": "         country           1800           1801           1802           1803  \\\n0    Afghanistan  D1 (Very Low)  D1 (Very Low)  D1 (Very Low)  D1 (Very Low)   \n1        Albania  D1 (Very Low)  D1 (Very Low)  D1 (Very Low)  D1 (Very Low)   \n2        Algeria  D1 (Very Low)  D1 (Very Low)  D1 (Very Low)  D1 (Very Low)   \n3        Andorra             D7             D7             D7             D7   \n4         Angola             D3             D3             D3             D3   \n..           ...            ...            ...            ...            ...   \n189    Venezuela  D1 (Very Low)  D1 (Very Low)  D1 (Very Low)  D1 (Very Low)   \n190      Vietnam             D3             D3             D3             D3   \n191        Yemen  D1 (Very Low)  D1 (Very Low)  D1 (Very Low)  D1 (Very Low)   \n192       Zambia             D7             D7             D7             D7   \n193     Zimbabwe             D5             D5             D5             D5   \n\n              1804           1805           1806           1807  \\\n0    D1 (Very Low)  D1 (Very Low)  D1 (Very Low)  D1 (Very Low)   \n1    D1 (Very Low)  D1 (Very Low)  D1 (Very Low)  D1 (Very Low)   \n2    D1 (Very Low)  D1 (Very Low)  D1 (Very Low)  D1 (Very Low)   \n3               D7             D7             D7             D7   \n4               D3             D3             D3             D3   \n..             ...            ...            ...            ...   \n189  D1 (Very Low)  D1 (Very Low)  D1 (Very Low)  D1 (Very Low)   \n190             D3             D3             D3             D3   \n191  D1 (Very Low)  D1 (Very Low)  D1 (Very Low)  D1 (Very Low)   \n192             D7             D7             D7             D7   \n193             D5             D5             D5             D5   \n\n              1808  ...             2013             2014             2015  \\\n0    D1 (Very Low)  ...               D7               D7               D7   \n1    D1 (Very Low)  ...               D9               D9               D9   \n2    D1 (Very Low)  ...               D9               D9               D9   \n3               D7  ...  D10 (Very High)  D10 (Very High)  D10 (Very High)   \n4               D3  ...               D8               D8               D8   \n..             ...  ...              ...              ...              ...   \n189  D1 (Very Low)  ...               D9               D9               D9   \n190             D3  ...               D8               D8               D8   \n191  D1 (Very Low)  ...               D8               D8               D7   \n192             D7  ...               D7               D7               D7   \n193             D5  ...               D8               D8               D8   \n\n                2016             2017             2018             2019  \\\n0                 D7               D7               D7               D7   \n1                 D9               D9               D9               D9   \n2                 D9               D9               D9               D9   \n3    D10 (Very High)  D10 (Very High)  D10 (Very High)  D10 (Very High)   \n4                 D8               D8               D8               D8   \n..               ...              ...              ...              ...   \n189               D9               D9               D8               D6   \n190               D8               D8               D9               D9   \n191               D7               D7               D7               D7   \n192               D7               D7               D7               D7   \n193               D8               D8               D8               D8   \n\n                2020             2021             2022  \n0                 D7               D7               D7  \n1                 D9               D9               D9  \n2                 D9               D9               D9  \n3    D10 (Very High)  D10 (Very High)  D10 (Very High)  \n4                 D8               D8               D8  \n..               ...              ...              ...  \n189               D8               D8               D8  \n190               D9               D9               D9  \n191               D7               D7               D7  \n192               D7               D7               D7  \n193               D8               D8               D8  \n\n[194 rows x 224 columns]",
      "text/html": "<div>\n<style scoped>\n    .dataframe tbody tr th:only-of-type {\n        vertical-align: middle;\n    }\n\n    .dataframe tbody tr th {\n        vertical-align: top;\n    }\n\n    .dataframe thead th {\n        text-align: right;\n    }\n</style>\n<table border=\"1\" class=\"dataframe\">\n  <thead>\n    <tr style=\"text-align: right;\">\n      <th></th>\n      <th>country</th>\n      <th>1800</th>\n      <th>1801</th>\n      <th>1802</th>\n      <th>1803</th>\n      <th>1804</th>\n      <th>1805</th>\n      <th>1806</th>\n      <th>1807</th>\n      <th>1808</th>\n      <th>...</th>\n      <th>2013</th>\n      <th>2014</th>\n      <th>2015</th>\n      <th>2016</th>\n      <th>2017</th>\n      <th>2018</th>\n      <th>2019</th>\n      <th>2020</th>\n      <th>2021</th>\n      <th>2022</th>\n    </tr>\n  </thead>\n  <tbody>\n    <tr>\n      <th>0</th>\n      <td>Afghanistan</td>\n      <td>D1 (Very Low)</td>\n      <td>D1 (Very Low)</td>\n      <td>D1 (Very Low)</td>\n      <td>D1 (Very Low)</td>\n      <td>D1 (Very Low)</td>\n      <td>D1 (Very Low)</td>\n      <td>D1 (Very Low)</td>\n      <td>D1 (Very Low)</td>\n      <td>D1 (Very Low)</td>\n      <td>...</td>\n      <td>D7</td>\n      <td>D7</td>\n      <td>D7</td>\n      <td>D7</td>\n      <td>D7</td>\n      <td>D7</td>\n      <td>D7</td>\n      <td>D7</td>\n      <td>D7</td>\n      <td>D7</td>\n    </tr>\n    <tr>\n      <th>1</th>\n      <td>Albania</td>\n      <td>D1 (Very Low)</td>\n      <td>D1 (Very Low)</td>\n      <td>D1 (Very Low)</td>\n      <td>D1 (Very Low)</td>\n      <td>D1 (Very Low)</td>\n      <td>D1 (Very Low)</td>\n      <td>D1 (Very Low)</td>\n      <td>D1 (Very Low)</td>\n      <td>D1 (Very Low)</td>\n      <td>...</td>\n      <td>D9</td>\n      <td>D9</td>\n      <td>D9</td>\n      <td>D9</td>\n      <td>D9</td>\n      <td>D9</td>\n      <td>D9</td>\n      <td>D9</td>\n      <td>D9</td>\n      <td>D9</td>\n    </tr>\n    <tr>\n      <th>2</th>\n      <td>Algeria</td>\n      <td>D1 (Very Low)</td>\n      <td>D1 (Very Low)</td>\n      <td>D1 (Very Low)</td>\n      <td>D1 (Very Low)</td>\n      <td>D1 (Very Low)</td>\n      <td>D1 (Very Low)</td>\n      <td>D1 (Very Low)</td>\n      <td>D1 (Very Low)</td>\n      <td>D1 (Very Low)</td>\n      <td>...</td>\n      <td>D9</td>\n      <td>D9</td>\n      <td>D9</td>\n      <td>D9</td>\n      <td>D9</td>\n      <td>D9</td>\n      <td>D9</td>\n      <td>D9</td>\n      <td>D9</td>\n      <td>D9</td>\n    </tr>\n    <tr>\n      <th>3</th>\n      <td>Andorra</td>\n      <td>D7</td>\n      <td>D7</td>\n      <td>D7</td>\n      <td>D7</td>\n      <td>D7</td>\n      <td>D7</td>\n      <td>D7</td>\n      <td>D7</td>\n      <td>D7</td>\n      <td>...</td>\n      <td>D10 (Very High)</td>\n      <td>D10 (Very High)</td>\n      <td>D10 (Very High)</td>\n      <td>D10 (Very High)</td>\n      <td>D10 (Very High)</td>\n      <td>D10 (Very High)</td>\n      <td>D10 (Very High)</td>\n      <td>D10 (Very High)</td>\n      <td>D10 (Very High)</td>\n      <td>D10 (Very High)</td>\n    </tr>\n    <tr>\n      <th>4</th>\n      <td>Angola</td>\n      <td>D3</td>\n      <td>D3</td>\n      <td>D3</td>\n      <td>D3</td>\n      <td>D3</td>\n      <td>D3</td>\n      <td>D3</td>\n      <td>D3</td>\n      <td>D3</td>\n      <td>...</td>\n      <td>D8</td>\n      <td>D8</td>\n      <td>D8</td>\n      <td>D8</td>\n      <td>D8</td>\n      <td>D8</td>\n      <td>D8</td>\n      <td>D8</td>\n      <td>D8</td>\n      <td>D8</td>\n    </tr>\n    <tr>\n      <th>...</th>\n      <td>...</td>\n      <td>...</td>\n      <td>...</td>\n      <td>...</td>\n      <td>...</td>\n      <td>...</td>\n      <td>...</td>\n      <td>...</td>\n      <td>...</td>\n      <td>...</td>\n      <td>...</td>\n      <td>...</td>\n      <td>...</td>\n      <td>...</td>\n      <td>...</td>\n      <td>...</td>\n      <td>...</td>\n      <td>...</td>\n      <td>...</td>\n      <td>...</td>\n      <td>...</td>\n    </tr>\n    <tr>\n      <th>189</th>\n      <td>Venezuela</td>\n      <td>D1 (Very Low)</td>\n      <td>D1 (Very Low)</td>\n      <td>D1 (Very Low)</td>\n      <td>D1 (Very Low)</td>\n      <td>D1 (Very Low)</td>\n      <td>D1 (Very Low)</td>\n      <td>D1 (Very Low)</td>\n      <td>D1 (Very Low)</td>\n      <td>D1 (Very Low)</td>\n      <td>...</td>\n      <td>D9</td>\n      <td>D9</td>\n      <td>D9</td>\n      <td>D9</td>\n      <td>D9</td>\n      <td>D8</td>\n      <td>D6</td>\n      <td>D8</td>\n      <td>D8</td>\n      <td>D8</td>\n    </tr>\n    <tr>\n      <th>190</th>\n      <td>Vietnam</td>\n      <td>D3</td>\n      <td>D3</td>\n      <td>D3</td>\n      <td>D3</td>\n      <td>D3</td>\n      <td>D3</td>\n      <td>D3</td>\n      <td>D3</td>\n      <td>D3</td>\n      <td>...</td>\n      <td>D8</td>\n      <td>D8</td>\n      <td>D8</td>\n      <td>D8</td>\n      <td>D8</td>\n      <td>D9</td>\n      <td>D9</td>\n      <td>D9</td>\n      <td>D9</td>\n      <td>D9</td>\n    </tr>\n    <tr>\n      <th>191</th>\n      <td>Yemen</td>\n      <td>D1 (Very Low)</td>\n      <td>D1 (Very Low)</td>\n      <td>D1 (Very Low)</td>\n      <td>D1 (Very Low)</td>\n      <td>D1 (Very Low)</td>\n      <td>D1 (Very Low)</td>\n      <td>D1 (Very Low)</td>\n      <td>D1 (Very Low)</td>\n      <td>D1 (Very Low)</td>\n      <td>...</td>\n      <td>D8</td>\n      <td>D8</td>\n      <td>D7</td>\n      <td>D7</td>\n      <td>D7</td>\n      <td>D7</td>\n      <td>D7</td>\n      <td>D7</td>\n      <td>D7</td>\n      <td>D7</td>\n    </tr>\n    <tr>\n      <th>192</th>\n      <td>Zambia</td>\n      <td>D7</td>\n      <td>D7</td>\n      <td>D7</td>\n      <td>D7</td>\n      <td>D7</td>\n      <td>D7</td>\n      <td>D7</td>\n      <td>D7</td>\n      <td>D7</td>\n      <td>...</td>\n      <td>D7</td>\n      <td>D7</td>\n      <td>D7</td>\n      <td>D7</td>\n      <td>D7</td>\n      <td>D7</td>\n      <td>D7</td>\n      <td>D7</td>\n      <td>D7</td>\n      <td>D7</td>\n    </tr>\n    <tr>\n      <th>193</th>\n      <td>Zimbabwe</td>\n      <td>D5</td>\n      <td>D5</td>\n      <td>D5</td>\n      <td>D5</td>\n      <td>D5</td>\n      <td>D5</td>\n      <td>D5</td>\n      <td>D5</td>\n      <td>D5</td>\n      <td>...</td>\n      <td>D8</td>\n      <td>D8</td>\n      <td>D8</td>\n      <td>D8</td>\n      <td>D8</td>\n      <td>D8</td>\n      <td>D8</td>\n      <td>D8</td>\n      <td>D8</td>\n      <td>D8</td>\n    </tr>\n  </tbody>\n</table>\n<p>194 rows × 224 columns</p>\n</div>"
     },
     "execution_count": 6,
     "metadata": {},
     "output_type": "execute_result"
    }
   ],
   "source": [
    "# Convert your long-form data as needed:\n",
    "# df_long should have 'country', 'year', 'co2_per_capita' columns\n",
    "\n",
    "# Compute global deciles\n",
    "df_long[\"decile_global\"] = pd.qcut(\n",
    "    df_long[\"co2_per_capita\"], \n",
    "    q=10, \n",
    "    labels=[\n",
    "        \"D1 (Very Low)\", \"D2\", \"D3\", \"D4\", \"D5\",\n",
    "        \"D6\", \"D7\", \"D8\", \"D9\", \"D10 (Very High)\"\n",
    "    ]\n",
    ")\n",
    "\n",
    "# Convert to wide format: rows = country, columns = year, values = decile\n",
    "df_global_deciles = df_long.pivot(index=\"country\", columns=\"year\", values=\"decile_global\")\n",
    "\n",
    "# Optional: reset index and clean column names\n",
    "df_global_deciles = df_global_deciles.reset_index()\n",
    "df_global_deciles.columns.name = None\n",
    "\n",
    "df_global_deciles"
   ],
   "metadata": {
    "collapsed": false,
    "ExecuteTime": {
     "end_time": "2025-04-01T01:25:07.433488Z",
     "start_time": "2025-04-01T01:25:07.397566Z"
    }
   },
   "id": "aa75adc8a7586102"
  },
  {
   "cell_type": "code",
   "execution_count": 7,
   "outputs": [
    {
     "name": "stderr",
     "output_type": "stream",
     "text": [
      "/var/folders/kk/h5dw00r5357gxylmmb8zl7qw0000gn/T/ipykernel_20732/3070680127.py:34: DeprecationWarning: DataFrameGroupBy.apply operated on the grouping columns. This behavior is deprecated, and in a future version of pandas the grouping columns will be excluded from the operation. Either pass `include_groups=False` to exclude the groupings or explicitly select the grouping columns after groupby to silence this warning.\n",
      "  df_local_deciles = df_long.groupby(\"year\", group_keys=False).apply(assign_local_deciles)\n"
     ]
    },
    {
     "data": {
      "text/plain": "year                  1800           1801           1802           1803  \\\ncountry                                                                   \nAfghanistan  D1 (Very Low)  D1 (Very Low)  D1 (Very Low)  D1 (Very Low)   \nAlbania      D1 (Very Low)  D1 (Very Low)  D1 (Very Low)  D1 (Very Low)   \nAlgeria      D1 (Very Low)  D1 (Very Low)  D1 (Very Low)  D1 (Very Low)   \nAndorra                 D9             D9             D9             D9   \nAngola                  D5             D5             D5             D5   \n...                    ...            ...            ...            ...   \nVenezuela    D1 (Very Low)  D1 (Very Low)  D1 (Very Low)  D1 (Very Low)   \nVietnam                 D6             D6             D6             D6   \nYemen                   D2             D2             D2             D2   \nZambia                  D9             D9             D9             D9   \nZimbabwe                D8             D8             D8             D8   \n\nyear                  1804           1805           1806           1807  \\\ncountry                                                                   \nAfghanistan  D1 (Very Low)  D1 (Very Low)  D1 (Very Low)  D1 (Very Low)   \nAlbania      D1 (Very Low)  D1 (Very Low)  D1 (Very Low)  D1 (Very Low)   \nAlgeria      D1 (Very Low)  D1 (Very Low)  D1 (Very Low)  D1 (Very Low)   \nAndorra                 D9             D9             D9             D9   \nAngola                  D5             D5             D5             D5   \n...                    ...            ...            ...            ...   \nVenezuela    D1 (Very Low)  D1 (Very Low)  D1 (Very Low)  D1 (Very Low)   \nVietnam                 D6             D6             D6             D6   \nYemen                   D2             D2             D2             D2   \nZambia                  D9             D9             D9             D9   \nZimbabwe                D8             D8             D8             D8   \n\nyear                  1808           1809  ... 2013 2014 2015           2016  \\\ncountry                                    ...                                 \nAfghanistan  D1 (Very Low)  D1 (Very Low)  ...   D2   D2   D2  D1 (Very Low)   \nAlbania      D1 (Very Low)  D1 (Very Low)  ...   D5   D5   D5             D5   \nAlgeria      D1 (Very Low)  D1 (Very Low)  ...   D6   D6   D6             D6   \nAndorra                 D9             D9  ...   D7   D7   D8             D8   \nAngola                  D5             D5  ...   D4   D4   D4             D4   \n...                    ...            ...  ...  ...  ...  ...            ...   \nVenezuela    D1 (Very Low)  D1 (Very Low)  ...   D6   D7   D6             D5   \nVietnam                 D6             D6  ...   D4   D4   D4             D4   \nYemen                   D2             D2  ...   D3   D3   D2             D2   \nZambia                  D9             D9  ...   D2   D2   D2             D2   \nZimbabwe                D8             D8  ...   D3   D3   D3             D3   \n\nyear                  2017           2018           2019           2020  \\\ncountry                                                                   \nAfghanistan  D1 (Very Low)  D1 (Very Low)  D1 (Very Low)  D1 (Very Low)   \nAlbania                 D5             D5             D5             D5   \nAlgeria                 D6             D6             D6             D6   \nAndorra                 D8             D8             D8             D8   \nAngola                  D4             D3             D3             D3   \n...                    ...            ...            ...            ...   \nVenezuela               D5             D3  D1 (Very Low)             D3   \nVietnam                 D4             D4             D5             D5   \nYemen                   D2             D2             D2             D2   \nZambia                  D2             D2             D2             D2   \nZimbabwe                D3             D3             D3             D3   \n\nyear                  2021           2022  \ncountry                                    \nAfghanistan  D1 (Very Low)  D1 (Very Low)  \nAlbania                 D5             D5  \nAlgeria                 D6             D6  \nAndorra                 D8             D8  \nAngola                  D3             D3  \n...                    ...            ...  \nVenezuela               D2             D2  \nVietnam                 D5             D5  \nYemen                   D2             D2  \nZambia                  D2             D2  \nZimbabwe                D3             D3  \n\n[194 rows x 223 columns]",
      "text/html": "<div>\n<style scoped>\n    .dataframe tbody tr th:only-of-type {\n        vertical-align: middle;\n    }\n\n    .dataframe tbody tr th {\n        vertical-align: top;\n    }\n\n    .dataframe thead th {\n        text-align: right;\n    }\n</style>\n<table border=\"1\" class=\"dataframe\">\n  <thead>\n    <tr style=\"text-align: right;\">\n      <th>year</th>\n      <th>1800</th>\n      <th>1801</th>\n      <th>1802</th>\n      <th>1803</th>\n      <th>1804</th>\n      <th>1805</th>\n      <th>1806</th>\n      <th>1807</th>\n      <th>1808</th>\n      <th>1809</th>\n      <th>...</th>\n      <th>2013</th>\n      <th>2014</th>\n      <th>2015</th>\n      <th>2016</th>\n      <th>2017</th>\n      <th>2018</th>\n      <th>2019</th>\n      <th>2020</th>\n      <th>2021</th>\n      <th>2022</th>\n    </tr>\n    <tr>\n      <th>country</th>\n      <th></th>\n      <th></th>\n      <th></th>\n      <th></th>\n      <th></th>\n      <th></th>\n      <th></th>\n      <th></th>\n      <th></th>\n      <th></th>\n      <th></th>\n      <th></th>\n      <th></th>\n      <th></th>\n      <th></th>\n      <th></th>\n      <th></th>\n      <th></th>\n      <th></th>\n      <th></th>\n      <th></th>\n    </tr>\n  </thead>\n  <tbody>\n    <tr>\n      <th>Afghanistan</th>\n      <td>D1 (Very Low)</td>\n      <td>D1 (Very Low)</td>\n      <td>D1 (Very Low)</td>\n      <td>D1 (Very Low)</td>\n      <td>D1 (Very Low)</td>\n      <td>D1 (Very Low)</td>\n      <td>D1 (Very Low)</td>\n      <td>D1 (Very Low)</td>\n      <td>D1 (Very Low)</td>\n      <td>D1 (Very Low)</td>\n      <td>...</td>\n      <td>D2</td>\n      <td>D2</td>\n      <td>D2</td>\n      <td>D1 (Very Low)</td>\n      <td>D1 (Very Low)</td>\n      <td>D1 (Very Low)</td>\n      <td>D1 (Very Low)</td>\n      <td>D1 (Very Low)</td>\n      <td>D1 (Very Low)</td>\n      <td>D1 (Very Low)</td>\n    </tr>\n    <tr>\n      <th>Albania</th>\n      <td>D1 (Very Low)</td>\n      <td>D1 (Very Low)</td>\n      <td>D1 (Very Low)</td>\n      <td>D1 (Very Low)</td>\n      <td>D1 (Very Low)</td>\n      <td>D1 (Very Low)</td>\n      <td>D1 (Very Low)</td>\n      <td>D1 (Very Low)</td>\n      <td>D1 (Very Low)</td>\n      <td>D1 (Very Low)</td>\n      <td>...</td>\n      <td>D5</td>\n      <td>D5</td>\n      <td>D5</td>\n      <td>D5</td>\n      <td>D5</td>\n      <td>D5</td>\n      <td>D5</td>\n      <td>D5</td>\n      <td>D5</td>\n      <td>D5</td>\n    </tr>\n    <tr>\n      <th>Algeria</th>\n      <td>D1 (Very Low)</td>\n      <td>D1 (Very Low)</td>\n      <td>D1 (Very Low)</td>\n      <td>D1 (Very Low)</td>\n      <td>D1 (Very Low)</td>\n      <td>D1 (Very Low)</td>\n      <td>D1 (Very Low)</td>\n      <td>D1 (Very Low)</td>\n      <td>D1 (Very Low)</td>\n      <td>D1 (Very Low)</td>\n      <td>...</td>\n      <td>D6</td>\n      <td>D6</td>\n      <td>D6</td>\n      <td>D6</td>\n      <td>D6</td>\n      <td>D6</td>\n      <td>D6</td>\n      <td>D6</td>\n      <td>D6</td>\n      <td>D6</td>\n    </tr>\n    <tr>\n      <th>Andorra</th>\n      <td>D9</td>\n      <td>D9</td>\n      <td>D9</td>\n      <td>D9</td>\n      <td>D9</td>\n      <td>D9</td>\n      <td>D9</td>\n      <td>D9</td>\n      <td>D9</td>\n      <td>D9</td>\n      <td>...</td>\n      <td>D7</td>\n      <td>D7</td>\n      <td>D8</td>\n      <td>D8</td>\n      <td>D8</td>\n      <td>D8</td>\n      <td>D8</td>\n      <td>D8</td>\n      <td>D8</td>\n      <td>D8</td>\n    </tr>\n    <tr>\n      <th>Angola</th>\n      <td>D5</td>\n      <td>D5</td>\n      <td>D5</td>\n      <td>D5</td>\n      <td>D5</td>\n      <td>D5</td>\n      <td>D5</td>\n      <td>D5</td>\n      <td>D5</td>\n      <td>D5</td>\n      <td>...</td>\n      <td>D4</td>\n      <td>D4</td>\n      <td>D4</td>\n      <td>D4</td>\n      <td>D4</td>\n      <td>D3</td>\n      <td>D3</td>\n      <td>D3</td>\n      <td>D3</td>\n      <td>D3</td>\n    </tr>\n    <tr>\n      <th>...</th>\n      <td>...</td>\n      <td>...</td>\n      <td>...</td>\n      <td>...</td>\n      <td>...</td>\n      <td>...</td>\n      <td>...</td>\n      <td>...</td>\n      <td>...</td>\n      <td>...</td>\n      <td>...</td>\n      <td>...</td>\n      <td>...</td>\n      <td>...</td>\n      <td>...</td>\n      <td>...</td>\n      <td>...</td>\n      <td>...</td>\n      <td>...</td>\n      <td>...</td>\n      <td>...</td>\n    </tr>\n    <tr>\n      <th>Venezuela</th>\n      <td>D1 (Very Low)</td>\n      <td>D1 (Very Low)</td>\n      <td>D1 (Very Low)</td>\n      <td>D1 (Very Low)</td>\n      <td>D1 (Very Low)</td>\n      <td>D1 (Very Low)</td>\n      <td>D1 (Very Low)</td>\n      <td>D1 (Very Low)</td>\n      <td>D1 (Very Low)</td>\n      <td>D1 (Very Low)</td>\n      <td>...</td>\n      <td>D6</td>\n      <td>D7</td>\n      <td>D6</td>\n      <td>D5</td>\n      <td>D5</td>\n      <td>D3</td>\n      <td>D1 (Very Low)</td>\n      <td>D3</td>\n      <td>D2</td>\n      <td>D2</td>\n    </tr>\n    <tr>\n      <th>Vietnam</th>\n      <td>D6</td>\n      <td>D6</td>\n      <td>D6</td>\n      <td>D6</td>\n      <td>D6</td>\n      <td>D6</td>\n      <td>D6</td>\n      <td>D6</td>\n      <td>D6</td>\n      <td>D6</td>\n      <td>...</td>\n      <td>D4</td>\n      <td>D4</td>\n      <td>D4</td>\n      <td>D4</td>\n      <td>D4</td>\n      <td>D4</td>\n      <td>D5</td>\n      <td>D5</td>\n      <td>D5</td>\n      <td>D5</td>\n    </tr>\n    <tr>\n      <th>Yemen</th>\n      <td>D2</td>\n      <td>D2</td>\n      <td>D2</td>\n      <td>D2</td>\n      <td>D2</td>\n      <td>D2</td>\n      <td>D2</td>\n      <td>D2</td>\n      <td>D2</td>\n      <td>D2</td>\n      <td>...</td>\n      <td>D3</td>\n      <td>D3</td>\n      <td>D2</td>\n      <td>D2</td>\n      <td>D2</td>\n      <td>D2</td>\n      <td>D2</td>\n      <td>D2</td>\n      <td>D2</td>\n      <td>D2</td>\n    </tr>\n    <tr>\n      <th>Zambia</th>\n      <td>D9</td>\n      <td>D9</td>\n      <td>D9</td>\n      <td>D9</td>\n      <td>D9</td>\n      <td>D9</td>\n      <td>D9</td>\n      <td>D9</td>\n      <td>D9</td>\n      <td>D9</td>\n      <td>...</td>\n      <td>D2</td>\n      <td>D2</td>\n      <td>D2</td>\n      <td>D2</td>\n      <td>D2</td>\n      <td>D2</td>\n      <td>D2</td>\n      <td>D2</td>\n      <td>D2</td>\n      <td>D2</td>\n    </tr>\n    <tr>\n      <th>Zimbabwe</th>\n      <td>D8</td>\n      <td>D8</td>\n      <td>D8</td>\n      <td>D8</td>\n      <td>D8</td>\n      <td>D8</td>\n      <td>D8</td>\n      <td>D8</td>\n      <td>D8</td>\n      <td>D8</td>\n      <td>...</td>\n      <td>D3</td>\n      <td>D3</td>\n      <td>D3</td>\n      <td>D3</td>\n      <td>D3</td>\n      <td>D3</td>\n      <td>D3</td>\n      <td>D3</td>\n      <td>D3</td>\n      <td>D3</td>\n    </tr>\n  </tbody>\n</table>\n<p>194 rows × 223 columns</p>\n</div>"
     },
     "execution_count": 7,
     "metadata": {},
     "output_type": "execute_result"
    }
   ],
   "source": [
    "# Local (Yearly) Deciles\n",
    "\n",
    "# Function to assign deciles within each year\n",
    "def assign_local_deciles(sub_df):\n",
    "    sub_df = sub_df.copy()\n",
    "    \n",
    "    # Use qcut with duplicates='drop' to handle repeated bin edges\n",
    "    try:\n",
    "        # Try creating bins without setting labels\n",
    "        bins = pd.qcut(sub_df[\"co2_per_capita\"], q=10, duplicates='drop', retbins=True)[1]\n",
    "        num_bins = len(bins) - 1\n",
    "        \n",
    "        # Generate matching number of labels dynamically\n",
    "        all_labels = [\n",
    "            \"D1 (Very Low)\", \"D2\", \"D3\", \"D4\", \"D5\",\n",
    "            \"D6\", \"D7\", \"D8\", \"D9\", \"D10 (Very High)\"\n",
    "        ]\n",
    "        labels = all_labels[:num_bins]\n",
    "\n",
    "        # Now apply qcut with correct number of labels\n",
    "        sub_df[\"decile_local\"] = pd.qcut(\n",
    "            sub_df[\"co2_per_capita\"],\n",
    "            q=10,\n",
    "            labels=labels,\n",
    "            duplicates='drop'\n",
    "        )\n",
    "    except ValueError:\n",
    "        # If qcut completely fails (e.g. all values are the same), assign NaN\n",
    "        sub_df[\"decile_local\"] = np.nan\n",
    "\n",
    "    return sub_df\n",
    "\n",
    "# Group by year and apply decile assignment\n",
    "df_local_deciles = df_long.groupby(\"year\", group_keys=False).apply(assign_local_deciles)\n",
    "\n",
    "# Pivot to wide format: rows = country, columns = year, values = decile\n",
    "df_local_deciles = df_local_deciles.pivot(index=\"country\", columns=\"year\", values=\"decile_local\")\n",
    "\n",
    "df_local_deciles\n"
   ],
   "metadata": {
    "collapsed": false,
    "ExecuteTime": {
     "end_time": "2025-04-01T01:25:08.742115Z",
     "start_time": "2025-04-01T01:25:07.952030Z"
    }
   },
   "id": "e5a09e36893b423c"
  },
  {
   "cell_type": "code",
   "execution_count": 9,
   "outputs": [],
   "source": [
    "# Uncomment the following line if you would like to try to download these two dataframes locally in your computer.\n",
    "\n",
    "df_global.to_csv('country_co2_emissions_global_quintiles.csv', index=False)\n",
    "\n",
    "df_local.to_csv('country_co2_emissions_local_quintiles.csv', index=False)\n",
    "\n",
    "df_global_deciles.to_csv('country_co2_emissions_global_deciles.csv', index=False)\n",
    "\n",
    "df_local_deciles.to_csv('country_co2_emissions_local_deciles.csv', index=False)"
   ],
   "metadata": {
    "collapsed": false,
    "ExecuteTime": {
     "end_time": "2025-04-01T01:25:18.180430Z",
     "start_time": "2025-04-01T01:25:18.096476Z"
    }
   },
   "id": "91a2b4ec04a04de"
  },
  {
   "cell_type": "markdown",
   "source": [
    "## GDP per capita\n",
    "\n",
    "The data source for each country's GDP per capita can be found [here](https://docs.google.com/spreadsheets/d/1mbfE9vSQmshpSOsBbicmiaL0Oio7hIJAg0vQKzzl8v0/edit?gid=730262387#gid=730262387). Although this dataset primarily focuses on carbon emissions for each country, it also includes valuable information on GDP per capita. This additional data opens up opportunities for multidomain sequence analysis, where we analyze multiple sequences, such as economic and environmental trajectories, simultaneously for the same country. This approach provides richer insights and will be explored in more detail in later tutorials.\n"
   ],
   "metadata": {
    "collapsed": false
   },
   "id": "17a527fa728ad190"
  },
  {
   "cell_type": "code",
   "execution_count": 5,
   "outputs": [
    {
     "data": {
      "text/plain": "      country         name  time  MtCo2 (Million Tons of CO2)  \\\n0         afg  Afghanistan  1800                     0.002452   \n1         afg  Afghanistan  1801                     0.002460   \n2         afg  Afghanistan  1802                     0.002468   \n3         afg  Afghanistan  1803                     0.002476   \n4         afg  Afghanistan  1804                     0.002484   \n...       ...          ...   ...                          ...   \n43257     zwe     Zimbabwe  2018                    12.497979   \n43258     zwe     Zimbabwe  2019                    12.026190   \n43259     zwe     Zimbabwe  2020                    11.550268   \n43260     zwe     Zimbabwe  2021                    12.614216   \n43261     zwe     Zimbabwe  2022                    13.129576   \n\n       tCO2 per cap (Tonnes of CO2 per Cap)  GDP per Cap  \n0                                  0.000748   476.991347  \n1                                  0.000750   476.991347  \n2                                  0.000752   476.991347  \n3                                  0.000755   476.991347  \n4                                  0.000757   476.991347  \n...                                     ...          ...  \n43257                              0.830310  2399.621551  \n43258                              0.783230  2203.396810  \n43259                              0.737110  1990.319419  \n43260                              0.788708  2115.144555  \n43261                              0.804482  2143.237574  \n\n[43262 rows x 6 columns]",
      "text/html": "<div>\n<style scoped>\n    .dataframe tbody tr th:only-of-type {\n        vertical-align: middle;\n    }\n\n    .dataframe tbody tr th {\n        vertical-align: top;\n    }\n\n    .dataframe thead th {\n        text-align: right;\n    }\n</style>\n<table border=\"1\" class=\"dataframe\">\n  <thead>\n    <tr style=\"text-align: right;\">\n      <th></th>\n      <th>country</th>\n      <th>name</th>\n      <th>time</th>\n      <th>MtCo2 (Million Tons of CO2)</th>\n      <th>tCO2 per cap (Tonnes of CO2 per Cap)</th>\n      <th>GDP per Cap</th>\n    </tr>\n  </thead>\n  <tbody>\n    <tr>\n      <th>0</th>\n      <td>afg</td>\n      <td>Afghanistan</td>\n      <td>1800</td>\n      <td>0.002452</td>\n      <td>0.000748</td>\n      <td>476.991347</td>\n    </tr>\n    <tr>\n      <th>1</th>\n      <td>afg</td>\n      <td>Afghanistan</td>\n      <td>1801</td>\n      <td>0.002460</td>\n      <td>0.000750</td>\n      <td>476.991347</td>\n    </tr>\n    <tr>\n      <th>2</th>\n      <td>afg</td>\n      <td>Afghanistan</td>\n      <td>1802</td>\n      <td>0.002468</td>\n      <td>0.000752</td>\n      <td>476.991347</td>\n    </tr>\n    <tr>\n      <th>3</th>\n      <td>afg</td>\n      <td>Afghanistan</td>\n      <td>1803</td>\n      <td>0.002476</td>\n      <td>0.000755</td>\n      <td>476.991347</td>\n    </tr>\n    <tr>\n      <th>4</th>\n      <td>afg</td>\n      <td>Afghanistan</td>\n      <td>1804</td>\n      <td>0.002484</td>\n      <td>0.000757</td>\n      <td>476.991347</td>\n    </tr>\n    <tr>\n      <th>...</th>\n      <td>...</td>\n      <td>...</td>\n      <td>...</td>\n      <td>...</td>\n      <td>...</td>\n      <td>...</td>\n    </tr>\n    <tr>\n      <th>43257</th>\n      <td>zwe</td>\n      <td>Zimbabwe</td>\n      <td>2018</td>\n      <td>12.497979</td>\n      <td>0.830310</td>\n      <td>2399.621551</td>\n    </tr>\n    <tr>\n      <th>43258</th>\n      <td>zwe</td>\n      <td>Zimbabwe</td>\n      <td>2019</td>\n      <td>12.026190</td>\n      <td>0.783230</td>\n      <td>2203.396810</td>\n    </tr>\n    <tr>\n      <th>43259</th>\n      <td>zwe</td>\n      <td>Zimbabwe</td>\n      <td>2020</td>\n      <td>11.550268</td>\n      <td>0.737110</td>\n      <td>1990.319419</td>\n    </tr>\n    <tr>\n      <th>43260</th>\n      <td>zwe</td>\n      <td>Zimbabwe</td>\n      <td>2021</td>\n      <td>12.614216</td>\n      <td>0.788708</td>\n      <td>2115.144555</td>\n    </tr>\n    <tr>\n      <th>43261</th>\n      <td>zwe</td>\n      <td>Zimbabwe</td>\n      <td>2022</td>\n      <td>13.129576</td>\n      <td>0.804482</td>\n      <td>2143.237574</td>\n    </tr>\n  </tbody>\n</table>\n<p>43262 rows × 6 columns</p>\n</div>"
     },
     "execution_count": 5,
     "metadata": {},
     "output_type": "execute_result"
    }
   ],
   "source": [
    "import pandas as pd\n",
    "\n",
    "# Load the dataset\n",
    "file_path_gdp = \"data_sources/gapminder/Output_CO2 Long Series 1800 - 2022 - Output.csv\"\n",
    "df_gdp = pd.read_csv(file_path_gdp)\n",
    "\n",
    "df_gdp"
   ],
   "metadata": {
    "collapsed": false,
    "ExecuteTime": {
     "end_time": "2025-03-24T17:56:13.662616Z",
     "start_time": "2025-03-24T17:56:13.602614Z"
    }
   },
   "id": "255ffb215c317bd8"
  },
  {
   "cell_type": "markdown",
   "source": [],
   "metadata": {
    "collapsed": false
   },
   "id": "168aeebfcd4a8896"
  },
  {
   "cell_type": "code",
   "execution_count": 6,
   "outputs": [
    {
     "data": {
      "text/plain": "           country  year  gdp_per_capita\n0      Afghanistan  1800      476.991347\n1      Afghanistan  1801      476.991347\n2      Afghanistan  1802      476.991347\n3      Afghanistan  1803      476.991347\n4      Afghanistan  1804      476.991347\n...            ...   ...             ...\n43257     Zimbabwe  2018     2399.621551\n43258     Zimbabwe  2019     2203.396810\n43259     Zimbabwe  2020     1990.319419\n43260     Zimbabwe  2021     2115.144555\n43261     Zimbabwe  2022     2143.237574\n\n[43262 rows x 3 columns]",
      "text/html": "<div>\n<style scoped>\n    .dataframe tbody tr th:only-of-type {\n        vertical-align: middle;\n    }\n\n    .dataframe tbody tr th {\n        vertical-align: top;\n    }\n\n    .dataframe thead th {\n        text-align: right;\n    }\n</style>\n<table border=\"1\" class=\"dataframe\">\n  <thead>\n    <tr style=\"text-align: right;\">\n      <th></th>\n      <th>country</th>\n      <th>year</th>\n      <th>gdp_per_capita</th>\n    </tr>\n  </thead>\n  <tbody>\n    <tr>\n      <th>0</th>\n      <td>Afghanistan</td>\n      <td>1800</td>\n      <td>476.991347</td>\n    </tr>\n    <tr>\n      <th>1</th>\n      <td>Afghanistan</td>\n      <td>1801</td>\n      <td>476.991347</td>\n    </tr>\n    <tr>\n      <th>2</th>\n      <td>Afghanistan</td>\n      <td>1802</td>\n      <td>476.991347</td>\n    </tr>\n    <tr>\n      <th>3</th>\n      <td>Afghanistan</td>\n      <td>1803</td>\n      <td>476.991347</td>\n    </tr>\n    <tr>\n      <th>4</th>\n      <td>Afghanistan</td>\n      <td>1804</td>\n      <td>476.991347</td>\n    </tr>\n    <tr>\n      <th>...</th>\n      <td>...</td>\n      <td>...</td>\n      <td>...</td>\n    </tr>\n    <tr>\n      <th>43257</th>\n      <td>Zimbabwe</td>\n      <td>2018</td>\n      <td>2399.621551</td>\n    </tr>\n    <tr>\n      <th>43258</th>\n      <td>Zimbabwe</td>\n      <td>2019</td>\n      <td>2203.396810</td>\n    </tr>\n    <tr>\n      <th>43259</th>\n      <td>Zimbabwe</td>\n      <td>2020</td>\n      <td>1990.319419</td>\n    </tr>\n    <tr>\n      <th>43260</th>\n      <td>Zimbabwe</td>\n      <td>2021</td>\n      <td>2115.144555</td>\n    </tr>\n    <tr>\n      <th>43261</th>\n      <td>Zimbabwe</td>\n      <td>2022</td>\n      <td>2143.237574</td>\n    </tr>\n  </tbody>\n</table>\n<p>43262 rows × 3 columns</p>\n</div>"
     },
     "execution_count": 6,
     "metadata": {},
     "output_type": "execute_result"
    }
   ],
   "source": [
    "# Select relevant columns for GDP per capita analysis\n",
    "df_gdp_selected = df_gdp[[\"name\", \"time\", \"GDP per Cap\"]].rename(columns={\"name\": \"country\", \"time\": \"year\", \"GDP per Cap\": \"gdp_per_capita\"})\n",
    "\n",
    "df_gdp_selected"
   ],
   "metadata": {
    "collapsed": false,
    "ExecuteTime": {
     "end_time": "2025-03-24T17:56:15.839094Z",
     "start_time": "2025-03-24T17:56:15.822433Z"
    }
   },
   "id": "d058570f535f3862"
  },
  {
   "cell_type": "code",
   "execution_count": 7,
   "outputs": [
    {
     "name": "stderr",
     "output_type": "stream",
     "text": [
      "/var/folders/kk/h5dw00r5357gxylmmb8zl7qw0000gn/T/ipykernel_20047/3659771938.py:12: SettingWithCopyWarning: \n",
      "A value is trying to be set on a copy of a slice from a DataFrame.\n",
      "Try using .loc[row_indexer,col_indexer] = value instead\n",
      "\n",
      "See the caveats in the documentation: https://pandas.pydata.org/pandas-docs/stable/user_guide/indexing.html#returning-a-view-versus-a-copy\n",
      "  df_gdp_selected[\"gdp_quintile\"] = df_gdp_selected.groupby(\"year\")[\"gdp_per_capita\"]\\\n"
     ]
    },
    {
     "data": {
      "text/plain": "year              1800       1801       1802       1803       1804       1805  \\\ncountry                                                                         \nAfghanistan   Very Low   Very Low   Very Low   Very Low   Very Low   Very Low   \nAlbania       Very Low   Very Low   Very Low   Very Low   Very Low   Very Low   \nAlgeria            Low        Low        Low        Low        Low        Low   \nAndorra      Very High  Very High  Very High  Very High  Very High  Very High   \nAngola        Very Low   Very Low   Very Low   Very Low   Very Low   Very Low   \n...                ...        ...        ...        ...        ...        ...   \nVenezuela         High       High       High       High       High       High   \nVietnam         Middle     Middle     Middle     Middle     Middle     Middle   \nYemen             High       High       High       High       High       High   \nZambia        Very Low   Very Low   Very Low   Very Low   Very Low   Very Low   \nZimbabwe        Middle     Middle     Middle     Middle     Middle     Middle   \n\nyear              1806       1807       1808       1809  ...       2013  \\\ncountry                                                  ...              \nAfghanistan   Very Low   Very Low   Very Low   Very Low  ...   Very Low   \nAlbania       Very Low   Very Low   Very Low   Very Low  ...     Middle   \nAlgeria            Low        Low        Low        Low  ...     Middle   \nAndorra      Very High  Very High  Very High  Very High  ...  Very High   \nAngola        Very Low   Very Low   Very Low   Very Low  ...        Low   \n...                ...        ...        ...        ...  ...        ...   \nVenezuela         High       High       High       High  ...       High   \nVietnam         Middle     Middle     Middle     Middle  ...        Low   \nYemen             High       High       High       High  ...        Low   \nZambia        Very Low   Very Low   Very Low   Very Low  ...        Low   \nZimbabwe        Middle     Middle     Middle     Middle  ...   Very Low   \n\nyear              2014       2015       2016       2017       2018       2019  \\\ncountry                                                                         \nAfghanistan   Very Low   Very Low   Very Low   Very Low   Very Low   Very Low   \nAlbania         Middle     Middle     Middle     Middle     Middle     Middle   \nAlgeria         Middle     Middle     Middle     Middle     Middle     Middle   \nAndorra      Very High  Very High  Very High  Very High  Very High  Very High   \nAngola             Low        Low        Low        Low        Low        Low   \n...                ...        ...        ...        ...        ...        ...   \nVenezuela         High       High     Middle     Middle     Middle        Low   \nVietnam            Low        Low        Low        Low     Middle     Middle   \nYemen              Low   Very Low   Very Low   Very Low   Very Low   Very Low   \nZambia        Very Low   Very Low   Very Low   Very Low   Very Low   Very Low   \nZimbabwe      Very Low   Very Low   Very Low   Very Low   Very Low   Very Low   \n\nyear              2020       2021       2022  \ncountry                                       \nAfghanistan   Very Low   Very Low   Very Low  \nAlbania         Middle     Middle     Middle  \nAlgeria         Middle     Middle     Middle  \nAndorra      Very High  Very High  Very High  \nAngola             Low        Low        Low  \n...                ...        ...        ...  \nVenezuela          Low        Low        Low  \nVietnam         Middle     Middle     Middle  \nYemen         Very Low   Very Low   Very Low  \nZambia        Very Low   Very Low   Very Low  \nZimbabwe      Very Low   Very Low   Very Low  \n\n[193 rows x 223 columns]",
      "text/html": "<div>\n<style scoped>\n    .dataframe tbody tr th:only-of-type {\n        vertical-align: middle;\n    }\n\n    .dataframe tbody tr th {\n        vertical-align: top;\n    }\n\n    .dataframe thead th {\n        text-align: right;\n    }\n</style>\n<table border=\"1\" class=\"dataframe\">\n  <thead>\n    <tr style=\"text-align: right;\">\n      <th>year</th>\n      <th>1800</th>\n      <th>1801</th>\n      <th>1802</th>\n      <th>1803</th>\n      <th>1804</th>\n      <th>1805</th>\n      <th>1806</th>\n      <th>1807</th>\n      <th>1808</th>\n      <th>1809</th>\n      <th>...</th>\n      <th>2013</th>\n      <th>2014</th>\n      <th>2015</th>\n      <th>2016</th>\n      <th>2017</th>\n      <th>2018</th>\n      <th>2019</th>\n      <th>2020</th>\n      <th>2021</th>\n      <th>2022</th>\n    </tr>\n    <tr>\n      <th>country</th>\n      <th></th>\n      <th></th>\n      <th></th>\n      <th></th>\n      <th></th>\n      <th></th>\n      <th></th>\n      <th></th>\n      <th></th>\n      <th></th>\n      <th></th>\n      <th></th>\n      <th></th>\n      <th></th>\n      <th></th>\n      <th></th>\n      <th></th>\n      <th></th>\n      <th></th>\n      <th></th>\n      <th></th>\n    </tr>\n  </thead>\n  <tbody>\n    <tr>\n      <th>Afghanistan</th>\n      <td>Very Low</td>\n      <td>Very Low</td>\n      <td>Very Low</td>\n      <td>Very Low</td>\n      <td>Very Low</td>\n      <td>Very Low</td>\n      <td>Very Low</td>\n      <td>Very Low</td>\n      <td>Very Low</td>\n      <td>Very Low</td>\n      <td>...</td>\n      <td>Very Low</td>\n      <td>Very Low</td>\n      <td>Very Low</td>\n      <td>Very Low</td>\n      <td>Very Low</td>\n      <td>Very Low</td>\n      <td>Very Low</td>\n      <td>Very Low</td>\n      <td>Very Low</td>\n      <td>Very Low</td>\n    </tr>\n    <tr>\n      <th>Albania</th>\n      <td>Very Low</td>\n      <td>Very Low</td>\n      <td>Very Low</td>\n      <td>Very Low</td>\n      <td>Very Low</td>\n      <td>Very Low</td>\n      <td>Very Low</td>\n      <td>Very Low</td>\n      <td>Very Low</td>\n      <td>Very Low</td>\n      <td>...</td>\n      <td>Middle</td>\n      <td>Middle</td>\n      <td>Middle</td>\n      <td>Middle</td>\n      <td>Middle</td>\n      <td>Middle</td>\n      <td>Middle</td>\n      <td>Middle</td>\n      <td>Middle</td>\n      <td>Middle</td>\n    </tr>\n    <tr>\n      <th>Algeria</th>\n      <td>Low</td>\n      <td>Low</td>\n      <td>Low</td>\n      <td>Low</td>\n      <td>Low</td>\n      <td>Low</td>\n      <td>Low</td>\n      <td>Low</td>\n      <td>Low</td>\n      <td>Low</td>\n      <td>...</td>\n      <td>Middle</td>\n      <td>Middle</td>\n      <td>Middle</td>\n      <td>Middle</td>\n      <td>Middle</td>\n      <td>Middle</td>\n      <td>Middle</td>\n      <td>Middle</td>\n      <td>Middle</td>\n      <td>Middle</td>\n    </tr>\n    <tr>\n      <th>Andorra</th>\n      <td>Very High</td>\n      <td>Very High</td>\n      <td>Very High</td>\n      <td>Very High</td>\n      <td>Very High</td>\n      <td>Very High</td>\n      <td>Very High</td>\n      <td>Very High</td>\n      <td>Very High</td>\n      <td>Very High</td>\n      <td>...</td>\n      <td>Very High</td>\n      <td>Very High</td>\n      <td>Very High</td>\n      <td>Very High</td>\n      <td>Very High</td>\n      <td>Very High</td>\n      <td>Very High</td>\n      <td>Very High</td>\n      <td>Very High</td>\n      <td>Very High</td>\n    </tr>\n    <tr>\n      <th>Angola</th>\n      <td>Very Low</td>\n      <td>Very Low</td>\n      <td>Very Low</td>\n      <td>Very Low</td>\n      <td>Very Low</td>\n      <td>Very Low</td>\n      <td>Very Low</td>\n      <td>Very Low</td>\n      <td>Very Low</td>\n      <td>Very Low</td>\n      <td>...</td>\n      <td>Low</td>\n      <td>Low</td>\n      <td>Low</td>\n      <td>Low</td>\n      <td>Low</td>\n      <td>Low</td>\n      <td>Low</td>\n      <td>Low</td>\n      <td>Low</td>\n      <td>Low</td>\n    </tr>\n    <tr>\n      <th>...</th>\n      <td>...</td>\n      <td>...</td>\n      <td>...</td>\n      <td>...</td>\n      <td>...</td>\n      <td>...</td>\n      <td>...</td>\n      <td>...</td>\n      <td>...</td>\n      <td>...</td>\n      <td>...</td>\n      <td>...</td>\n      <td>...</td>\n      <td>...</td>\n      <td>...</td>\n      <td>...</td>\n      <td>...</td>\n      <td>...</td>\n      <td>...</td>\n      <td>...</td>\n      <td>...</td>\n    </tr>\n    <tr>\n      <th>Venezuela</th>\n      <td>High</td>\n      <td>High</td>\n      <td>High</td>\n      <td>High</td>\n      <td>High</td>\n      <td>High</td>\n      <td>High</td>\n      <td>High</td>\n      <td>High</td>\n      <td>High</td>\n      <td>...</td>\n      <td>High</td>\n      <td>High</td>\n      <td>High</td>\n      <td>Middle</td>\n      <td>Middle</td>\n      <td>Middle</td>\n      <td>Low</td>\n      <td>Low</td>\n      <td>Low</td>\n      <td>Low</td>\n    </tr>\n    <tr>\n      <th>Vietnam</th>\n      <td>Middle</td>\n      <td>Middle</td>\n      <td>Middle</td>\n      <td>Middle</td>\n      <td>Middle</td>\n      <td>Middle</td>\n      <td>Middle</td>\n      <td>Middle</td>\n      <td>Middle</td>\n      <td>Middle</td>\n      <td>...</td>\n      <td>Low</td>\n      <td>Low</td>\n      <td>Low</td>\n      <td>Low</td>\n      <td>Low</td>\n      <td>Middle</td>\n      <td>Middle</td>\n      <td>Middle</td>\n      <td>Middle</td>\n      <td>Middle</td>\n    </tr>\n    <tr>\n      <th>Yemen</th>\n      <td>High</td>\n      <td>High</td>\n      <td>High</td>\n      <td>High</td>\n      <td>High</td>\n      <td>High</td>\n      <td>High</td>\n      <td>High</td>\n      <td>High</td>\n      <td>High</td>\n      <td>...</td>\n      <td>Low</td>\n      <td>Low</td>\n      <td>Very Low</td>\n      <td>Very Low</td>\n      <td>Very Low</td>\n      <td>Very Low</td>\n      <td>Very Low</td>\n      <td>Very Low</td>\n      <td>Very Low</td>\n      <td>Very Low</td>\n    </tr>\n    <tr>\n      <th>Zambia</th>\n      <td>Very Low</td>\n      <td>Very Low</td>\n      <td>Very Low</td>\n      <td>Very Low</td>\n      <td>Very Low</td>\n      <td>Very Low</td>\n      <td>Very Low</td>\n      <td>Very Low</td>\n      <td>Very Low</td>\n      <td>Very Low</td>\n      <td>...</td>\n      <td>Low</td>\n      <td>Very Low</td>\n      <td>Very Low</td>\n      <td>Very Low</td>\n      <td>Very Low</td>\n      <td>Very Low</td>\n      <td>Very Low</td>\n      <td>Very Low</td>\n      <td>Very Low</td>\n      <td>Very Low</td>\n    </tr>\n    <tr>\n      <th>Zimbabwe</th>\n      <td>Middle</td>\n      <td>Middle</td>\n      <td>Middle</td>\n      <td>Middle</td>\n      <td>Middle</td>\n      <td>Middle</td>\n      <td>Middle</td>\n      <td>Middle</td>\n      <td>Middle</td>\n      <td>Middle</td>\n      <td>...</td>\n      <td>Very Low</td>\n      <td>Very Low</td>\n      <td>Very Low</td>\n      <td>Very Low</td>\n      <td>Very Low</td>\n      <td>Very Low</td>\n      <td>Very Low</td>\n      <td>Very Low</td>\n      <td>Very Low</td>\n      <td>Very Low</td>\n    </tr>\n  </tbody>\n</table>\n<p>193 rows × 223 columns</p>\n</div>"
     },
     "execution_count": 7,
     "metadata": {},
     "output_type": "execute_result"
    }
   ],
   "source": [
    "# Convert year to integer and GDP per capita to numeric\n",
    "df_gdp_selected[\"year\"] = df_gdp_selected[\"year\"].astype(int)\n",
    "df_gdp_selected[\"gdp_per_capita\"] = pd.to_numeric(df_gdp_selected[\"gdp_per_capita\"], errors=\"coerce\")\n",
    "\n",
    "# Drop missing values for accurate quintile computation\n",
    "df_gdp_selected = df_gdp_selected.dropna(subset=[\"gdp_per_capita\"])\n",
    "\n",
    "# Compute quintile thresholds based on the entire dataset (all years and countries)\n",
    "# df_gdp_selected[\"gdp_quintile\"] = pd.qcut(df_gdp_selected[\"gdp_per_capita\"], q=5, labels=[\"Very Low\", \"Low\", \"Middle\", \"High\", \"Very High\"])\n",
    "\n",
    "# Compute quintiles separately per year\n",
    "df_gdp_selected[\"gdp_quintile\"] = df_gdp_selected.groupby(\"year\")[\"gdp_per_capita\"]\\\n",
    "    .transform(lambda x: pd.qcut(x, q=5, labels=[\"Very Low\", \"Low\", \"Middle\", \"High\", \"Very High\"]))\n",
    "\n",
    "# Convert back to wide format (country as index, years as columns with GDP quintile states)\n",
    "df_sequence_gdp = df_gdp_selected.pivot(index=\"country\", columns=\"year\", values=\"gdp_quintile\")\n",
    "\n",
    "df_sequence_gdp"
   ],
   "metadata": {
    "collapsed": false,
    "ExecuteTime": {
     "end_time": "2025-03-24T17:58:05.237004Z",
     "start_time": "2025-03-24T17:58:04.845947Z"
    }
   },
   "id": "4badf87ae337eed9"
  },
  {
   "cell_type": "code",
   "execution_count": 10,
   "outputs": [],
   "source": [
    "# Uncomment the following line if you would like to try to download this df_wide locally in your computer.\n",
    "\n",
    "# Reset the multi-index (moves 'country' back to a column)\n",
    "df_sequence_gdp = df_sequence_gdp.reset_index()\n",
    "\n",
    "df_sequence_gdp.to_csv('country_co2_emissions.csv', index=False)"
   ],
   "metadata": {
    "collapsed": false,
    "ExecuteTime": {
     "end_time": "2025-03-24T18:03:36.195167Z",
     "start_time": "2025-03-24T18:03:36.164705Z"
    }
   },
   "id": "fb0c129b2218f88"
  },
  {
   "cell_type": "code",
   "execution_count": 9,
   "outputs": [
    {
     "name": "stdout",
     "output_type": "stream",
     "text": [
      "Thank you for learning sequence analysis with Sequenzo! \n",
      "We hope you found this tutorial insightful.\n",
      "\n",
      "💡 Stay Curious, keep coding, and discover new insights.\n",
      "✉️ If you have any questions, please feel free to reach out :)\n"
     ]
    }
   ],
   "source": [
    "print(\"Thank you for learning sequence analysis with Sequenzo! \")\n",
    "print(\"We hope you found this tutorial insightful.\")\n",
    "print(\"\\n💡 Stay Curious, keep coding, and discover new insights.\")\n",
    "print(\"✉️ If you have any questions, please feel free to reach out :)\")"
   ],
   "metadata": {
    "collapsed": false,
    "ExecuteTime": {
     "end_time": "2025-03-24T17:58:23.976640Z",
     "start_time": "2025-03-24T17:58:23.970949Z"
    }
   },
   "id": "a92b650fe9fb72b6"
  },
  {
   "cell_type": "code",
   "execution_count": null,
   "outputs": [],
   "source": [],
   "metadata": {
    "collapsed": false
   },
   "id": "150a035afd9b128b"
  }
 ],
 "metadata": {
  "kernelspec": {
   "display_name": "Python 3",
   "language": "python",
   "name": "python3"
  },
  "language_info": {
   "codemirror_mode": {
    "name": "ipython",
    "version": 2
   },
   "file_extension": ".py",
   "mimetype": "text/x-python",
   "name": "python",
   "nbconvert_exporter": "python",
   "pygments_lexer": "ipython2",
   "version": "2.7.6"
  }
 },
 "nbformat": 4,
 "nbformat_minor": 5
}

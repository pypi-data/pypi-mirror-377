{
 "cells": [
  {
   "cell_type": "markdown",
   "id": "0",
   "metadata": {},
   "source": [
    "# Jupyter notebook to quickly visualize stripes using Higlass\n",
    "\n",
    "<details>\n",
    "<summary>LICENCE</summary>\n",
    "\n",
    "Copyright (C) 2024 Roberto Rossini \\<roberros@uio.no\\>\n",
    "SPDX-License-Identifier: MIT\n",
    "</details>"
   ]
  },
  {
   "cell_type": "code",
   "execution_count": null,
   "id": "1",
   "metadata": {},
   "outputs": [],
   "source": [
    "from clodius.cli import aggregate\n",
    "import hictkpy\n",
    "import higlass as hg\n",
    "\n",
    "import pathlib\n",
    "from typing import Dict"
   ]
  },
  {
   "cell_type": "code",
   "execution_count": null,
   "id": "2",
   "metadata": {},
   "outputs": [],
   "source": [
    "def _init_tmpdir():\n",
    "    import tempfile\n",
    "\n",
    "    global _tmpdir\n",
    "    try:\n",
    "        _tmpdir = pathlib.Path(tempfile.mkdtemp())\n",
    "    except:\n",
    "        del _tmpdir\n",
    "        raise\n",
    "\n",
    "\n",
    "def _cleanup_tmpdir():\n",
    "    import shutil\n",
    "\n",
    "    if _tmpdir is not None:\n",
    "        shutil.rmtree(_tmpdir)\n",
    "\n",
    "\n",
    "## Setup self-deleting tmpdir\n",
    "if \"_tmpdir\" not in globals():\n",
    "    _tmpdir = None\n",
    "    import atexit\n",
    "\n",
    "    _init_tmpdir()\n",
    "    atexit.register(_cleanup_tmpdir)\n",
    "\n",
    "\n",
    "def ensure_file_exists(arg: str) -> pathlib.Path:\n",
    "    if (path := pathlib.Path(arg)).is_file():\n",
    "        return path\n",
    "\n",
    "    raise FileNotFoundError(arg)\n",
    "\n",
    "\n",
    "def bedpe_to_beddb(\n",
    "    path_to_bedpe: pathlib.Path, chrom_sizes: pathlib.Path, outdir: pathlib.Path = _tmpdir\n",
    ") -> pathlib.Path:\n",
    "    out_path = outdir / f\"{path_to_bedpe.stem}.beddb\"\n",
    "    aggregate._bedpe(\n",
    "        str(path_to_bedpe),\n",
    "        str(out_path),\n",
    "        chromsizes_filename=str(chrom_sizes),\n",
    "        chr1_col=1,\n",
    "        from1_col=2,\n",
    "        to1_col=3,\n",
    "        chr2_col=4,\n",
    "        from2_col=5,\n",
    "        to2_col=6,\n",
    "    )\n",
    "    return out_path\n",
    "\n",
    "\n",
    "def fetch_chromsizes(mcool: pathlib.Path) -> Dict[str, int]:\n",
    "    return hictkpy.MultiResFile(mcool).chromosomes()\n",
    "\n",
    "\n",
    "def dump_chrom_sizes(chroms: Dict[str, int], outdir: pathlib.Path = _tmpdir) -> pathlib.Path:\n",
    "    dest = outdir / \"chrom.sizes\"\n",
    "\n",
    "    with dest.open(\"w\") as f:\n",
    "        for chrom, size in chroms.items():\n",
    "            f.write(f\"{chrom}\\t{size}\\n\")\n",
    "\n",
    "    return dest\n",
    "\n",
    "\n",
    "def setup_higlass(mcool: pathlib.Path, stripes: pathlib.Path):\n",
    "    stripe_track = hg.bed2ddb(str(stripes)).track(\"2d-rectangle-domains\")\n",
    "    heatmap_track = hg.combine(hg.cooler(str(mcool)).track(\"heatmap\", height=500), stripe_track, height=500)\n",
    "\n",
    "    width = 12\n",
    "    return hg.view(\n",
    "        (hg.cooler(str(mcool)).track(\"chromosome-labels\"), \"left\"),\n",
    "        (hg.cooler(str(mcool)).track(\"chromosome-labels\"), \"top\"),\n",
    "        (heatmap_track, \"center\"),\n",
    "        width=width,\n",
    "    )"
   ]
  },
  {
   "cell_type": "markdown",
   "id": "3",
   "metadata": {},
   "source": [
    "## Required inputs\n",
    "\n",
    "- `mcool`: path to the .mcool file used to call stripes\n",
    "- `bedpe`: path to a BEDPE with the stripes (generated with e.g. stripepy view)"
   ]
  },
  {
   "cell_type": "code",
   "execution_count": null,
   "id": "4",
   "metadata": {},
   "outputs": [],
   "source": [
    "mcool = ensure_file_exists(\"CHANGEME.mcool\")\n",
    "bedpe = ensure_file_exists(\"CHANGEME.bedpe\")"
   ]
  },
  {
   "cell_type": "markdown",
   "id": "5",
   "metadata": {},
   "source": [
    "## Launch Higlass"
   ]
  },
  {
   "cell_type": "code",
   "execution_count": null,
   "id": "6",
   "metadata": {},
   "outputs": [],
   "source": [
    "chroms = fetch_chromsizes(mcool)\n",
    "\n",
    "chrom_sizes_file = dump_chrom_sizes(chroms)\n",
    "stripes_beddb = bedpe_to_beddb(bedpe, chrom_sizes_file)\n",
    "\n",
    "view = setup_higlass(mcool, stripes_beddb)\n",
    "\n",
    "view"
   ]
  },
  {
   "cell_type": "code",
   "execution_count": null,
   "id": "7",
   "metadata": {},
   "outputs": [],
   "source": []
  }
 ],
 "metadata": {
  "kernelspec": {
   "display_name": "stripepy",
   "language": "python",
   "name": "stripepy"
  },
  "language_info": {
   "codemirror_mode": {
    "name": "ipython",
    "version": 3
   },
   "file_extension": ".py",
   "mimetype": "text/x-python",
   "name": "python",
   "nbconvert_exporter": "python",
   "pygments_lexer": "ipython3",
   "version": "3.12.7"
  }
 },
 "nbformat": 4,
 "nbformat_minor": 5
}

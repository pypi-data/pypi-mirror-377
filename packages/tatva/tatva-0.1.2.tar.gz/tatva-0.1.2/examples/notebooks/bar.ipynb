{
 "cells": [
  {
   "cell_type": "code",
   "execution_count": 1,
   "metadata": {},
   "outputs": [],
   "source": [
    "import os\n",
    "os.environ[\"JAX_CACHE_DIR\"] = \"/cluster/scratch/mpundir/jax-cache\"\n",
    "\n",
    "import jax\n",
    "jax.config.update(\"jax_enable_x64\", True)  # use double-precision\n",
    "jax.config.update(\"jax_persistent_cache_min_compile_time_secs\", 0)\n",
    "jax.config.update(\"jax_platforms\", \"cpu\")\n",
    "\n",
    "from femsolver.quadrature import get_element\n",
    "from femsolver.operator import Operator\n",
    "import jax.numpy as jnp\n",
    "\n",
    "import matplotlib.pyplot as plt\n",
    "import cmcrameri.cm as cmc"
   ]
  },
  {
   "cell_type": "markdown",
   "metadata": {},
   "source": [
    "In this notebook, we will demonstrate to simulate a bar under axial loading.\n",
    "\n",
    "To keep things simple, we will consider a bar of length `L` and cross-sectional area `A`. The bar is subjected to an axial load `F` at its right end. The bar is fixed at its left end.\n",
    "\n",
    "The bar is discretized into `nb_elem` elements. The length of each element is `L / nb_elem`. The cross-sectional area of each element is `A`."
   ]
  },
  {
   "cell_type": "code",
   "execution_count": 2,
   "metadata": {},
   "outputs": [],
   "source": [
    "# --- Mesh generation ---\n",
    "def generate_bar_mesh(nx, lx):\n",
    "    xi = jnp.linspace(lx[0], lx[1], nx + 1)\n",
    "    yi = jnp.zeros_like(xi)\n",
    "    coordinates = jnp.vstack((xi.flatten(), yi.flatten())).T\n",
    "    elements = list()\n",
    "    for i in range(nx):\n",
    "        elements.append([i, i + 1])\n",
    "    elements = jnp.unique(jnp.array(elements), axis=0)\n",
    "\n",
    "    return coordinates, elements"
   ]
  },
  {
   "cell_type": "markdown",
   "metadata": {},
   "source": [
    "We use the `get_element` function to get the quadrature points and weights for the triangular element. The `femsolver.quadrature` module contains the `get_element` function and a few pre-defined elements."
   ]
  },
  {
   "cell_type": "code",
   "execution_count": 3,
   "metadata": {},
   "outputs": [
    {
     "name": "stdout",
     "output_type": "stream",
     "text": [
      "(Array([[0.]], dtype=float64), Array([2.], dtype=float64))\n",
      "(Array([0.5, 0.5], dtype=float64), Array([-0.5,  0.5], dtype=float64))\n"
     ]
    }
   ],
   "source": [
    "line2 = get_element(\"line2\")\n",
    "print(line2.get_quadrature())\n",
    "print(line2.get_shape_functions(jnp.array([0.0])))"
   ]
  },
  {
   "cell_type": "markdown",
   "metadata": {},
   "source": [
    "Now, we create the `Operator` object. The `Operator` class takes two arguments:\n",
    "- `element`: the element to use for the integration\n",
    "- `integrand`: the function to integrate\n",
    "\n",
    "Here, we defined a simple python function that returns the argument it excepts. The output of this function represents the integrand at each quadrature point. The `Operator` class will use this function at each quadrature point to compute the integral."
   ]
  },
  {
   "cell_type": "code",
   "execution_count": 4,
   "metadata": {},
   "outputs": [],
   "source": [
    "fem = Operator(element=line2, integrand=lambda u: u)"
   ]
  },
  {
   "cell_type": "code",
   "execution_count": 5,
   "metadata": {},
   "outputs": [],
   "source": [
    "L = 10\n",
    "nx = 10\n",
    "\n",
    "coords,  elements = generate_bar_mesh(nx=nx, lx=(0, L))\n",
    "n_nodes = coords.shape[0]\n",
    "n_dofs_per_node = 1\n",
    "n_dofs = n_dofs_per_node * n_nodes"
   ]
  },
  {
   "cell_type": "markdown",
   "metadata": {},
   "source": [
    "Next, we define a function that reshape the dof values at each node into a cell-wise array. Within this function, we call the `integrate` method of the `Operator` object to compute the integral."
   ]
  },
  {
   "cell_type": "code",
   "execution_count": 6,
   "metadata": {},
   "outputs": [],
   "source": [
    "# --- Total energy ---\n",
    "def total_energy(u, coords, elements, fem):\n",
    "    u_cell = u[elements]\n",
    "    x_cell = coords[elements]\n",
    "    return jnp.sum(fem.integrate(u_cell, x_cell))\n"
   ]
  },
  {
   "cell_type": "markdown",
   "metadata": {},
   "source": [
    "Now, we assign value of the solution vector `u` to 1.0. The `Operator` class will use this value to compute the integral. The integration of 1.0 over the domain should give us the area of the domain."
   ]
  },
  {
   "cell_type": "code",
   "execution_count": 7,
   "metadata": {},
   "outputs": [
    {
     "data": {
      "text/plain": [
       "Array(True, dtype=bool)"
      ]
     },
     "execution_count": 7,
     "metadata": {},
     "output_type": "execute_result"
    }
   ],
   "source": [
    "u = jnp.ones(n_dofs)\n",
    "total_energy(u, coords, elements, fem) == L"
   ]
  },
  {
   "cell_type": "code",
   "execution_count": 8,
   "metadata": {},
   "outputs": [
    {
     "data": {
      "text/plain": [
       "Array([[0.],\n",
       "       [0.],\n",
       "       [0.],\n",
       "       [0.],\n",
       "       [0.],\n",
       "       [0.],\n",
       "       [0.],\n",
       "       [0.],\n",
       "       [0.],\n",
       "       [0.]], dtype=float64)"
      ]
     },
     "execution_count": 8,
     "metadata": {},
     "output_type": "execute_result"
    }
   ],
   "source": [
    "fem.gradient(u[elements], coords[elements])"
   ]
  },
  {
   "cell_type": "code",
   "execution_count": 10,
   "metadata": {},
   "outputs": [
    {
     "data": {
      "text/plain": [
       "Array([[1.],\n",
       "       [1.],\n",
       "       [1.],\n",
       "       [1.],\n",
       "       [1.],\n",
       "       [1.],\n",
       "       [1.],\n",
       "       [1.],\n",
       "       [1.],\n",
       "       [1.]], dtype=float64)"
      ]
     },
     "execution_count": 10,
     "metadata": {},
     "output_type": "execute_result"
    }
   ],
   "source": [
    "fem.interpolate(u[elements])"
   ]
  },
  {
   "cell_type": "code",
   "execution_count": null,
   "metadata": {},
   "outputs": [],
   "source": []
  }
 ],
 "metadata": {
  "kernelspec": {
   "display_name": "my-venv",
   "language": "python",
   "name": "my-venv"
  },
  "language_info": {
   "codemirror_mode": {
    "name": "ipython",
    "version": 3
   },
   "file_extension": ".py",
   "mimetype": "text/x-python",
   "name": "python",
   "nbconvert_exporter": "python",
   "pygments_lexer": "ipython3",
   "version": "3.11.6"
  }
 },
 "nbformat": 4,
 "nbformat_minor": 2
}

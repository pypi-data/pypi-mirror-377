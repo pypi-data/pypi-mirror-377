{
 "cells": [
  {
   "cell_type": "markdown",
   "metadata": {},
   "source": [
    "## Basics of `femsolver` {#sec-basics}"
   ]
  },
  {
   "cell_type": "markdown",
   "metadata": {},
   "source": [
    "This tutorial is to get you started with the `femsolver` package. The `femsolver` is a tiny python package that provides a simple interface for performing finite element operations. \n",
    "\n",
    "In this tutorial, we will demonstrate how to use `femsolver` to perform finite element operations, mainly:\n",
    "\n",
    "- Interpolation of nodal values at quadrature points.\n",
    "- Integration of functions over the domain.\n",
    "- Gradients of nodal values at quadrature points.\n",
    "\n"
   ]
  },
  {
   "cell_type": "code",
   "execution_count": 1,
   "metadata": {},
   "outputs": [],
   "source": [
    "# | code-fold: true\n",
    "# | code-summary: \"Code: Import essential packages.\"\n",
    "\n",
    "import jax\n",
    "jax.config.update(\"jax_enable_x64\", True)  # use double-precision\n",
    "jax.config.update(\"jax_persistent_cache_min_compile_time_secs\", 0)\n",
    "jax.config.update(\"jax_platforms\", \"cpu\")\n",
    "from jax import Array\n",
    "import jax.numpy as jnp\n",
    "\n",
    "from femsolver.utils import auto_vmap\n",
    "from femsolver import Mesh, Operator, element\n",
    "from femsolver.plotting import STYLE_PATH, colors, plot_element_values, plot_nodal_values\n",
    "import sympy as sp\n",
    "\n",
    "\n",
    "import matplotlib.pyplot as plt\n",
    "import cmcrameri.cm as cmc"
   ]
  },
  {
   "cell_type": "markdown",
   "metadata": {},
   "source": [
    "To keep things simple, we consider a unit square domain with a triangular mesh. For ease, `femsolver` provides a simple function to generate square domain with a triangular mesh.\n"
   ]
  },
  {
   "cell_type": "code",
   "execution_count": 2,
   "metadata": {},
   "outputs": [],
   "source": [
    "mesh = Mesh.unit_square(1, 1)"
   ]
  },
  {
   "cell_type": "code",
   "execution_count": 3,
   "metadata": {},
   "outputs": [
    {
     "data": {
      "image/png": "[encoded data removed]",
      "text/plain": [
       "<Figure size 300x300 with 1 Axes>"
      ]
     },
     "metadata": {},
     "output_type": "display_data"
    }
   ],
   "source": [
    "# | code-fold: true\n",
    "# | code-summary: \"Code: Plot the mesh.\"\n",
    "# | fig-cap: \"Mesh with triangular elements.\"\n",
    "# | fig-align: center\n",
    "# | label: fig-mesh-two-triangles\n",
    "# | fig-height: 2\n",
    "\n",
    "plt.style.use(STYLE_PATH)\n",
    "plt.figure(figsize=(2, 2), layout=\"constrained\")\n",
    "ax = plt.axes()\n",
    "ax.tripcolor(\n",
    "    *mesh.coords.T,\n",
    "    mesh.elements,\n",
    "    color=\"gray\",\n",
    "    lw=0.1,\n",
    "    facecolors=jnp.ones(mesh.elements.shape[0]),\n",
    "    cmap=cmc.managua_r,\n",
    ")\n",
    "ax.set_aspect(\"equal\")\n",
    "ax.set_xlabel(\"$x$\")\n",
    "ax.set_ylabel(\"$y$\")\n",
    "ax.margins(0.0, 0.0)\n",
    "plt.show()\n"
   ]
  },
  {
   "cell_type": "markdown",
   "metadata": {},
   "source": [
    "Now, we define our operator to perform finite element operations in the mesh defined above. The operator is defined for a given mesh and the type of element used in that passed mesh. \n"
   ]
  },
  {
   "cell_type": "code",
   "execution_count": 4,
   "metadata": {},
   "outputs": [],
   "source": [
    "tri = element.Tri3()\n",
    "op = Operator(mesh, tri)"
   ]
  },
  {
   "cell_type": "markdown",
   "metadata": {},
   "source": [
    "## Evaluation at quadrature points"
   ]
  },
  {
   "cell_type": "markdown",
   "metadata": {},
   "source": [
    "We can use the `Operator` to evaluate nodal values at the quadrature points. The function `eval`\n",
    "takes the nodal values and return the values at the quadrature points.\n",
    "\n",
    "For example, below we evalutate the coordinate values of the mesh at the quadrature points. This basically means mapping the parameterized quadrature points ($\\in [-1, 1]^2$) to the physical space."
   ]
  },
  {
   "cell_type": "code",
   "execution_count": 5,
   "metadata": {},
   "outputs": [],
   "source": [
    "quad_points_in_physical_space = op.eval(mesh.coords).squeeze()"
   ]
  },
  {
   "cell_type": "code",
   "execution_count": 6,
   "metadata": {},
   "outputs": [
    {
     "data": {
      "image/png": "[encoded data removed]",
      "text/plain": [
       "<Figure size 300x300 with 1 Axes>"
      ]
     },
     "metadata": {},
     "output_type": "display_data"
    }
   ],
   "source": [
    "# | code-fold: true\n",
    "# | code-summary: \"Code: Plot the quadrature points in the physical space.\"\n",
    "# | fig-cap: \"Quadrature points in the physical space.\"\n",
    "# | fig-align: center\n",
    "# | label: fig-quad-points\n",
    "# | fig-height: 2\n",
    "\n",
    "\n",
    "plt.style.use(STYLE_PATH)\n",
    "plt.figure(figsize=(2, 2), layout=\"constrained\")\n",
    "ax = plt.axes()\n",
    "ax.tripcolor(\n",
    "    *mesh.coords.T,\n",
    "    mesh.elements,\n",
    "    color=\"gray\",\n",
    "    lw=0.1,\n",
    "    facecolors=jnp.ones(mesh.elements.shape[0]),\n",
    "    cmap=cmc.managua_r,\n",
    ")\n",
    "ax.scatter(\n",
    "    quad_points_in_physical_space[0],\n",
    "    quad_points_in_physical_space[1],\n",
    "    c=colors.red,\n",
    "    s=20,\n",
    "    marker=\"x\",\n",
    ")\n",
    "ax.set_aspect(\"equal\")\n",
    "ax.set_xlabel(\"$x$\")\n",
    "ax.set_ylabel(\"$y$\")\n",
    "ax.margins(0.0, 0.0)\n",
    "plt.show()\n",
    "plt.close()"
   ]
  },
  {
   "cell_type": "markdown",
   "metadata": {},
   "source": [
    "## Integrating a function over the domain\n",
    "\n",
    "One basic operation that we require in FEM is to integrate a function over the domain.  For example, integrating the strain energy density over the domain to get the total strain energy.\n",
    "\n",
    "$$\n",
    "\\Pi_\\text{e}(u) = \\int_{\\Omega} \\frac{1}{2} \\sigma : \\epsilon \\, dV\n",
    "$$\n",
    "\n",
    "where $\\sigma$ is the stress tensor and $\\epsilon$ is the strain tensor evaluated at the quadrature points.\n",
    "\n",
    "A finite element method way of integrating this over a discretized domain is to approximate the integral as a sum of integrals over the elements in the domain.\n",
    "\n",
    "$$\n",
    "\\Pi_\\text{e}(u) \\approx \\sum_{e \\in \\mathcal{E}} \\sum_{q \\in \\mathcal{Q}} \\frac{1}{2} \\sigma(q) : \\epsilon(q) \\, J(q) \\, w(q)\n",
    "$$\n",
    "\n",
    "where $\\mathcal{E}$ is the set of all elements in the domain, $\\mathcal{Q}$ is the set of all quadrature points in the domain, $J(q)$ is the Jacobian of the transformation from the reference element to the physical element, and $\\sigma(q)$ and $\\epsilon(q)$ are the stress and strain tensors evaluated at the quadrature point $q$.\n",
    "\n",
    "\n",
    "To do this, we can use the `Operator` class. The `integrate` method of the `Operator` class takes a function and returns the integral of the function over the domain.  \n",
    "\n",
    "\n",
    "For example, we want to compute the following integral:\n",
    "\n",
    "$$\n",
    "f(x, y) = 10.\n",
    "$$\n",
    "\n",
    "The integral of this function over the domain will be equal to 10 times the area of the domain.\n",
    "\n",
    "$$\n",
    "\\int_{\\Omega} f(x, y) \\, dV = 10 \\times \\text{Area of the domain}\n",
    "$$\n",
    "\n",
    "To do this, we can define a function that returns 10.0 for any input.\n",
    "\n"
   ]
  },
  {
   "cell_type": "code",
   "execution_count": 7,
   "metadata": {},
   "outputs": [],
   "source": [
    "def scalar_function(u: Array,) -> float:\n",
    "    return 1.0"
   ]
  },
  {
   "cell_type": "markdown",
   "metadata": {},
   "source": [
    "Now we can use the `Operator` class to integrate the function over the domain. We define a wrapper function that takes 3 arguments:\n",
    "\n",
    "- `u_quad`: The nodal values at the quadrature points.\n",
    "- `u_grad`: The gradient of the nodal values at the quadrature points.\n",
    "- `*_`: Additional values at the quadrature points.\n",
    "\n",
    "The body of the function then can use the arguments value to compute any functional value at the quadrature points. For this example, we simply call the function `scalar_function` with passing the arguments to it.\n",
    "\n",
    "We can then decorate the function with `@op.integrate` to tell the `Operator` class that this function is to be integrated over the domain. The `integrate` method of the `Operator` class takes a function, and wraps it in a way that it can be called with the arguments `u_quad`, `u_grad`, and `*_`. So as a user, we do not need to worry about the arguments, and can simply call the function with the nodal values."
   ]
  },
  {
   "cell_type": "code",
   "execution_count": 8,
   "metadata": {},
   "outputs": [],
   "source": [
    "@op.integrate\n",
    "def total_area(u_quad: Array, u_grad: Array, *_) -> float:\n",
    "    return scalar_function(u_quad)"
   ]
  },
  {
   "cell_type": "markdown",
   "metadata": {},
   "source": [
    "Now, we can call the decorated `total_area` function. The decorate function now takes the nodal values or some form of nodal values as arguments."
   ]
  },
  {
   "cell_type": "code",
   "execution_count": 9,
   "metadata": {},
   "outputs": [
    {
     "data": {
      "text/plain": [
       "Array(1., dtype=float64)"
      ]
     },
     "execution_count": 9,
     "metadata": {},
     "output_type": "execute_result"
    }
   ],
   "source": [
    "total_area(mesh.coords)"
   ]
  },
  {
   "cell_type": "markdown",
   "metadata": {},
   "source": [
    "In the above example, we show how `integrate` method of the `Operator` class can be used to integrate a function over the domain. The function performs various operations under the hood such as:\n",
    "\n",
    "- Looping over the elements in the mesh.\n",
    "- Looping over the quadrature points in each element.\n",
    "- Evaluating the nodal values at the quadrature points _i.e_ `u_quad`.\n",
    "- Evaluating the gradient of the nodal values at the quadrature points _i.e_ `u_grad`.\n",
    "- Integrating the function over the domain.\n",
    "\n",
    "\n",
    "Sometimes, we may want to compute the gradient of a function at the quadrature points. For example, the gradient of the displacement field.\n",
    "\n",
    "$$\n",
    "\\nabla u = \\int_{\\Omega} \\nabla u \\, dV\n",
    "$$\n",
    "\n",
    "To do this end, we provide, a wrapper function that takes the nodal values and returns the gradient of the nodal values at the quadrature points.\n"
   ]
  },
  {
   "cell_type": "markdown",
   "metadata": {},
   "source": [
    "## Gradients of nodal values\n",
    "\n",
    "\n",
    "For example, we want to compute the gradient of the coordinate values at the quadrature points.\n",
    "\n",
    "$$\n",
    "\\nabla \\boldsymbol{x} = \\begin{bmatrix}\n",
    "\\frac{\\partial x}{\\partial x} & \\frac{\\partial x}{\\partial y} \\\\\n",
    "\\frac{\\partial y}{\\partial x} & \\frac{\\partial y}{\\partial y}\n",
    "\\end{bmatrix}\n",
    "$$\n",
    "\n",
    "To do this, we can simply pass our nodal values (in this case, the coordinate values) to the `Operator.grad` function and it will return the gradient of the nodal values at the quadrature points."
   ]
  },
  {
   "cell_type": "code",
   "execution_count": 10,
   "metadata": {},
   "outputs": [
    {
     "data": {
      "text/plain": [
       "Array([[[[1., 0.],\n",
       "         [0., 1.]]],\n",
       "\n",
       "\n",
       "       [[[1., 0.],\n",
       "         [0., 1.]]]], dtype=float64)"
      ]
     },
     "execution_count": 10,
     "metadata": {},
     "output_type": "execute_result"
    }
   ],
   "source": [
    "op.grad(mesh.coords)"
   ]
  },
  {
   "cell_type": "markdown",
   "metadata": {},
   "source": [
    "As a sanity check, we can see that the gradient is an identity matrix since the gradient $\\partial x / \\partial x = 1$ and $\\partial y / \\partial y = 1$ and all other gradients are zero.\n",
    "\n",
    "::: {.callout-important}\n",
    "The shape of the vector returned by the `Operator.grad` function is `(n_elements, n_quadrature_points,  n_dofs, n_dofs)`. The first dimension is the number of elements, the second dimension is the number of quadrature points, the third dimension is the number of degrees of freedom, and the fourth dimension is the number of degrees of freedom. \n",
    "\n",
    "For a triangular element, the shape will be `(n_elements, 1, 2, 2)`. For a quadrilateral element with 4 quadrature points, the shape will be `(n_elements, 4, 2, 2)`.\n",
    ":::"
   ]
  },
  {
   "cell_type": "code",
   "execution_count": 11,
   "metadata": {},
   "outputs": [],
   "source": [
    "def compute_gradient(u: Array, u_grad: Array, *_) -> Array:\n",
    "    return u_grad"
   ]
  },
  {
   "cell_type": "code",
   "execution_count": 12,
   "metadata": {},
   "outputs": [
    {
     "data": {
      "text/plain": [
       "Array([[[[1., 0.],\n",
       "         [0., 1.]]],\n",
       "\n",
       "\n",
       "       [[[1., 0.],\n",
       "         [0., 1.]]]], dtype=float64)"
      ]
     },
     "execution_count": 12,
     "metadata": {},
     "output_type": "execute_result"
    }
   ],
   "source": [
    "op.eval(compute_gradient)(mesh.coords)"
   ]
  },
  {
   "cell_type": "markdown",
   "metadata": {},
   "source": [
    "## Passing additional values at the quadrature points\n",
    "\n",
    "In the previous examples, we have seen how to pass the nodal values to the `Operator` class to perform various operations. However, in some cases, we may want to pass additional values at the quadrature points that we can then use in the function that we are integrating. \n",
    "\n",
    "A example of that will be coupled problems where the solution of one field depends on the solution of another field. For example, in a thermo-mechanical problem, the displacement field depends on the temperature field.\n",
    "\n"
   ]
  },
  {
   "cell_type": "markdown",
   "metadata": {},
   "source": [
    "For example, we want to compute the following integral:\n",
    "\n",
    "$$\n",
    "\\int_{\\Omega} u(x) \\cdot x \\, \\text{d}V\n",
    "$$\n",
    "\n",
    "where $u(x)$ is a function of the coordinate values $x$ and $x$ is the x-coordinate values at the quadrature points.\n"
   ]
  },
  {
   "cell_type": "code",
   "execution_count": 13,
   "metadata": {},
   "outputs": [],
   "source": [
    "def scalar_function(u: Array, x:Array) -> float:\n",
    "    return u * x[0] * x[1]\n",
    "\n",
    "\n",
    "@op.integrate\n",
    "def total_coupled_area(u_quad: Array, u_grad: Array, x_quad:Array) -> float:\n",
    "    return scalar_function(u_quad, x_quad)"
   ]
  },
  {
   "cell_type": "code",
   "execution_count": 14,
   "metadata": {},
   "outputs": [
    {
     "data": {
      "text/plain": [
       "Array(0.22222222, dtype=float64)"
      ]
     },
     "execution_count": 14,
     "metadata": {},
     "output_type": "execute_result"
    }
   ],
   "source": [
    "quad_points_in_physical_space = op.eval(mesh.coords).squeeze()\n",
    "\n",
    "val = 1.0\n",
    "u = jnp.ones(mesh.coords.shape[0]) * val\n",
    "\n",
    "total_coupled_area(u, quad_points_in_physical_space)\n"
   ]
  },
  {
   "cell_type": "markdown",
   "metadata": {},
   "source": [
    "We can use `sympy` to compute the integral of a function over the domain and match the result with the result from the `Operator` class."
   ]
  },
  {
   "cell_type": "code",
   "execution_count": 15,
   "metadata": {},
   "outputs": [
    {
     "name": "stdout",
     "output_type": "stream",
     "text": [
      "The integral of 1.0 * x*y over the domain is 0.250000000000000\n",
      "The result from the `Operator` class is 0.2222222222222222\n"
     ]
    }
   ],
   "source": [
    "x, y = sp.symbols(\"x y\")\n",
    "\n",
    "u_expr = val\n",
    "\n",
    "x_quad_expr = x * y\n",
    "\n",
    "print(\n",
    "    f\"The integral of {u_expr} * {x_quad_expr} over the domain is {sp.integrate(u_expr * x_quad_expr, (x, 0, 1), (y, 0, 1))}\"\n",
    ")\n",
    "print(\n",
    "    f\"The result from the `Operator` class is {total_coupled_area(u, quad_points_in_physical_space)}\"\n",
    ")"
   ]
  },
  {
   "cell_type": "markdown",
   "metadata": {},
   "source": [
    "The error is because the expression that we are trying to integrate is quadratic whereas the interpolation functions in `tri3` are linear. This is classical source of error in FEM called **numerical integration error**. This can be fixed either by using higher order elements or by increasing the discretization density of the mesh.\n",
    "\n",
    "These strategies of refinement are called:\n",
    "\n",
    "- **h-refinement**: Refining the mesh by subdividing the elements into smaller elements.\n",
    "- **p-refinement**: Refining the mesh by increasing the order of the interpolation functions.\n"
   ]
  },
  {
   "cell_type": "markdown",
   "metadata": {},
   "source": [
    "## Interpolate a function over given points\n",
    "\n",
    "Sometimes, we want to interpolate a function or nodal values over a given set of points. These set of points are in the physical space (not located at the nodes). \n",
    "\n",
    "In this case, we need to first find the element that contains the point, then map the point to the reference space (in quadrature space) of that element. Once, we have the reference space coordinates, we can interpolate the function or nodal values at the quadrature points."
   ]
  },
  {
   "cell_type": "code",
   "execution_count": 23,
   "metadata": {},
   "outputs": [],
   "source": [
    "y_min = jnp.min(mesh.coords[:, 1])\n",
    "y_max = jnp.max(mesh.coords[:, 1])\n",
    "x_min = jnp.min(mesh.coords[:, 0])\n",
    "x_max = jnp.max(mesh.coords[:, 1])\n",
    "y = jnp.linspace(y_min, 0.9*y_max, 10)\n",
    "x = jnp.full_like(y, fill_value=(x_min + x_max) / 2)\n",
    "\n",
    "points = jnp.stack([x, y], axis=1)"
   ]
  },
  {
   "cell_type": "code",
   "execution_count": 24,
   "metadata": {},
   "outputs": [
    {
     "data": {
      "text/plain": [
       "Array([[[1., 0.],\n",
       "        [0., 1.]],\n",
       "\n",
       "       [[1., 0.],\n",
       "        [0., 1.]],\n",
       "\n",
       "       [[1., 0.],\n",
       "        [0., 1.]],\n",
       "\n",
       "       [[1., 0.],\n",
       "        [0., 1.]],\n",
       "\n",
       "       [[1., 0.],\n",
       "        [0., 1.]],\n",
       "\n",
       "       [[1., 0.],\n",
       "        [0., 1.]],\n",
       "\n",
       "       [[1., 0.],\n",
       "        [0., 1.]],\n",
       "\n",
       "       [[1., 0.],\n",
       "        [0., 1.]],\n",
       "\n",
       "       [[1., 0.],\n",
       "        [0., 1.]],\n",
       "\n",
       "       [[1., 0.],\n",
       "        [0., 1.]]], dtype=float64)"
      ]
     },
     "execution_count": 24,
     "metadata": {},
     "output_type": "execute_result"
    }
   ],
   "source": [
    "op.interpolate(compute_gradient, points)(mesh.coords)"
   ]
  },
  {
   "cell_type": "code",
   "execution_count": 25,
   "metadata": {},
   "outputs": [
    {
     "data": {
      "text/plain": [
       "Array([[0.5, 0. ],\n",
       "       [0.5, 0.1],\n",
       "       [0.5, 0.2],\n",
       "       [0.5, 0.3],\n",
       "       [0.5, 0.4],\n",
       "       [0.5, 0.5],\n",
       "       [0.5, 0.6],\n",
       "       [0.5, 0.7],\n",
       "       [0.5, 0.8],\n",
       "       [0.5, 0.9]], dtype=float64)"
      ]
     },
     "execution_count": 25,
     "metadata": {},
     "output_type": "execute_result"
    }
   ],
   "source": [
    "op.interpolate(mesh.coords, points)"
   ]
  },
  {
   "cell_type": "code",
   "execution_count": null,
   "metadata": {},
   "outputs": [],
   "source": []
  }
 ],
 "metadata": {
  "kernelspec": {
   "display_name": "venv",
   "language": "python",
   "name": "python3"
  },
  "language_info": {
   "codemirror_mode": {
    "name": "ipython",
    "version": 3
   },
   "file_extension": ".py",
   "mimetype": "text/x-python",
   "name": "python",
   "nbconvert_exporter": "python",
   "pygments_lexer": "ipython3",
   "version": "3.12.3"
  }
 },
 "nbformat": 4,
 "nbformat_minor": 2
}

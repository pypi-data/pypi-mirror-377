{
 "cells": [
  {
   "cell_type": "code",
   "execution_count": 1,
   "metadata": {},
   "outputs": [],
   "source": [
    "import os\n",
    "\n",
    "# os.environ[\"JAX_CACHE_DIR\"] = \"/cluster/scratch/mpundir/jax-cache\"\n",
    "\n",
    "import jax\n",
    "\n",
    "jax.config.update(\"jax_enable_x64\", True)  # use double-precision\n",
    "jax.config.update(\"jax_persistent_cache_min_compile_time_secs\", 0)\n",
    "jax.config.update(\"jax_platforms\", \"cpu\")\n",
    "\n",
    "from femsolver.quadrature import get_element, Element\n",
    "from femsolver.operator import Operator\n",
    "from femsolver.jax_utils import auto_vmap \n",
    "import jax.numpy as jnp\n",
    "import equinox as eqx\n",
    "\n",
    "from typing import Callable, Optional, Tuple\n",
    "\n",
    "\n",
    "import matplotlib.pyplot as plt\n",
    "import cmcrameri.cm as cmc\n",
    "from femsolver.plotting import STYLE_PATH\n"
   ]
  },
  {
   "cell_type": "code",
   "execution_count": 2,
   "metadata": {},
   "outputs": [],
   "source": [
    "def generate_mesh_with_line_elements(\n",
    "    nx: int,\n",
    "    ny: int,\n",
    "    lxs: Tuple[float, float],\n",
    "    lys: Tuple[float, float],\n",
    "    curve_func: Optional[Callable[[jnp.ndarray, float], bool]] = None,\n",
    "    tol: float = 1e-6,\n",
    ") -> Tuple[jnp.ndarray, jnp.ndarray, Optional[jnp.ndarray]]:\n",
    "    \"\"\"\n",
    "    Generates a 2D triangular mesh for a rectangle and optionally extracts\n",
    "    1D line elements along a specified curve.\n",
    "\n",
    "    Args:\n",
    "        nx: Number of elements along the x-direction.\n",
    "        ny: Number of elements along the y-direction.\n",
    "        lxs: Tuple of the x-coordinates of the left and right edges of the rectangle.\n",
    "        lys: Tuple of the y-coordinates of the bottom and top edges of the rectangle.\n",
    "        curve_func: An optional callable that takes a coordinate array [x, y] and\n",
    "                    a tolerance, returning True if the point is on the curve.\n",
    "        tol: Tolerance for floating-point comparisons.\n",
    "\n",
    "    Returns:\n",
    "        A tuple containing:\n",
    "        - coords (jnp.ndarray): Nodal coordinates, shape (num_nodes, 2).\n",
    "        - elements_2d (jnp.ndarray): 2D triangular element connectivity.\n",
    "        - elements_1d (jnp.ndarray | None): 1D line element connectivity, or None.\n",
    "    \"\"\"\n",
    "\n",
    "    x = jnp.linspace(lxs[0], lxs[1], nx + 1)\n",
    "    y = jnp.linspace(lys[0], lys[1], ny + 1)\n",
    "    xv, yv = jnp.meshgrid(x, y, indexing=\"ij\")\n",
    "    coords = jnp.stack([xv.ravel(), yv.ravel()], axis=-1)\n",
    "\n",
    "    def node_id(i, j):\n",
    "        return i * (ny + 1) + j\n",
    "\n",
    "    elements_2d = []\n",
    "    for i in range(nx):\n",
    "        for j in range(ny):\n",
    "            n0 = node_id(i, j)\n",
    "            n1 = node_id(i + 1, j)\n",
    "            n2 = node_id(i, j + 1)\n",
    "            n3 = node_id(i + 1, j + 1)\n",
    "            elements_2d.append([n0, n1, n3])\n",
    "            elements_2d.append([n0, n3, n2])\n",
    "    elements_2d = jnp.array(elements_2d)\n",
    "\n",
    "    # --- 2. Extract 1D elements if a curve function is provided ---\n",
    "    if curve_func is None:\n",
    "        return coords, elements_2d, None\n",
    "\n",
    "    # Efficiently find all nodes on the curve using jax.vmap\n",
    "    on_curve_mask = jax.vmap(lambda c: curve_func(c, tol))(coords)\n",
    "\n",
    "    elements_1d = []\n",
    "    # Iterate through all 2D elements to find edges on the curve\n",
    "    for tri in elements_2d:\n",
    "        # Define the three edges of the triangle\n",
    "        edges = [(tri[0], tri[1]), (tri[1], tri[2]), (tri[2], tri[0])]\n",
    "        for n_a, n_b in edges:\n",
    "            # If both nodes of an edge are on the curve, add it to the set\n",
    "            if on_curve_mask[n_a] and on_curve_mask[n_b]:\n",
    "                # Sort to store canonical representation, e.g., (1, 2) not (2, 1)\n",
    "                elements_1d.append(tuple(sorted((n_a, n_b))))\n",
    "\n",
    "    if not elements_1d:\n",
    "        return coords, elements_2d, jnp.array([], dtype=int)\n",
    "\n",
    "    return coords, elements_2d, jnp.unique(jnp.array(elements_1d), axis=0)"
   ]
  },
  {
   "cell_type": "code",
   "execution_count": 93,
   "metadata": {},
   "outputs": [
    {
     "name": "stdout",
     "output_type": "stream",
     "text": [
      "Generated 63 nodes.\n",
      "Generated 80 2D triangular elements.\n",
      "Found 15 1D line elements on the curve.\n"
     ]
    },
    {
     "data": {
      "image/png": "[encoded data removed]",
      "text/plain": [
       "<Figure size 900x450 with 1 Axes>"
      ]
     },
     "metadata": {},
     "output_type": "display_data"
    }
   ],
   "source": [
    "Nx = 20  # Number of elements in X\n",
    "Ny = 2  # Number of elements in Y\n",
    "Lx = 10.0  # Length in X\n",
    "Ly = 1.0  # Length in Y\n",
    "\n",
    "\n",
    "\n",
    "# function identifies nodes on the cohesive line at y = 0. and x > 2.0\n",
    "def cohesive_line(coord: jnp.ndarray, tol: float) -> bool:\n",
    "    return jnp.logical_and(jnp.isclose(coord[1], 0.0, atol=tol), coord[0] > 2.0)\n",
    "\n",
    "\n",
    "upper_coords, upper_elements_2d, upper_elements_1d = generate_mesh_with_line_elements(\n",
    "    nx=Nx, ny=Ny, lxs=(0, Lx), lys=(0, Ly), curve_func=cohesive_line\n",
    ")\n",
    "\n",
    "\n",
    "lower_coords, lower_elements_2d, lower_elements_1d = generate_mesh_with_line_elements(\n",
    "    nx=Nx, ny=Ny, lxs=(0, Lx), lys=(-Ly, -1e-6), curve_func=cohesive_line\n",
    ")\n",
    "\n",
    "coords = jnp.vstack((upper_coords, lower_coords))\n",
    "elements = jnp.vstack((upper_elements_2d, lower_elements_2d + upper_coords.shape[0]))\n",
    "lower_elements_1d = lower_elements_1d + upper_coords.shape[0]\n",
    "\n",
    "print(f\"Generated {upper_coords.shape[0]} nodes.\")\n",
    "print(f\"Generated {upper_elements_2d.shape[0]} 2D triangular elements.\")\n",
    "print(f\"Found {upper_elements_1d.shape[0]} 1D line elements on the curve.\")\n",
    "\n",
    "plt.style.use(STYLE_PATH)\n",
    "plt.figure(figsize=(6, 3))\n",
    "ax = plt.axes()\n",
    "ax.triplot(coords[:, 0], coords[:, 1], elements, color=\"grey\", lw=0.5)\n",
    "\n",
    "\n",
    "# Highlight the extracted 1D elements in red\n",
    "for edge in upper_elements_1d:\n",
    "    ax.plot(upper_coords[edge, 0], upper_coords[edge, 1], \"r-\", lw=1.5)\n",
    "for edge in lower_elements_1d:\n",
    "    ax.plot(lower_coords[edge, 0], lower_coords[edge, 1], \"r-\", lw=1.5)\n",
    "\n",
    "ax.set_xlabel(\"X-coordinate\")\n",
    "ax.set_ylabel(\"Y-coordinate\")\n",
    "ax.set_aspect(\"equal\")\n",
    "plt.show()"
   ]
  },
  {
   "cell_type": "markdown",
   "metadata": {},
   "source": [
    "To check that the elements along the cohesive line are in same order on both surface, we compare the node values for the two. "
   ]
  },
  {
   "cell_type": "code",
   "execution_count": 94,
   "metadata": {},
   "outputs": [
    {
     "data": {
      "text/plain": [
       "Array(True, dtype=bool)"
      ]
     },
     "execution_count": 94,
     "metadata": {},
     "output_type": "execute_result"
    }
   ],
   "source": [
    "jnp.allclose(coords[upper_elements_1d], coords[lower_elements_1d], atol=1e-6)"
   ]
  },
  {
   "cell_type": "code",
   "execution_count": 95,
   "metadata": {},
   "outputs": [],
   "source": [
    "# --- Mesh ---\n",
    "n_nodes = upper_coords.shape[0]\n",
    "n_nodes += lower_coords.shape[0]\n",
    "n_dofs_per_node = 2\n",
    "n_dofs = n_dofs_per_node * n_nodes"
   ]
  },
  {
   "cell_type": "markdown",
   "metadata": {},
   "source": [
    "We define a function to compute the linear elastic energy density based on the displacement gradients $\\nabla u$.\n",
    "\n",
    "$$\n",
    "\\Psi(x) =  \\sigma(x) : \\epsilon(x) \n",
    "$$\n",
    "\n",
    "where $\\sigma$ is the stress tensor and $\\epsilon$ is the strain tensor.\n",
    "\n",
    "$$\n",
    "\\sigma = \\lambda \\text{tr}(\\epsilon) I + 2\\mu \\epsilon\n",
    "$$\n",
    "\n",
    "and \n",
    "\n",
    "$$\n",
    "\\epsilon = \\frac{1}{2} (\\nabla u + \\nabla u^T)\n",
    "$$\n",
    "\n",
    "\n",
    "The elastic strain energy density is then given by:\n",
    "\n",
    "$$\n",
    "\\Psi_{elastic}(u) = \\int_{\\Omega} \\Psi(x) dV\n",
    "$$\n",
    "\n"
   ]
  },
  {
   "cell_type": "code",
   "execution_count": 96,
   "metadata": {},
   "outputs": [],
   "source": [
    "class Material(eqx.Module):\n",
    "    mu: eqx.AbstractVar[float] \n",
    "    lmbda: eqx.AbstractVar[float]"
   ]
  },
  {
   "cell_type": "code",
   "execution_count": 97,
   "metadata": {},
   "outputs": [],
   "source": [
    "# --- Material model (linear elasticity: plane strain) ---\n",
    "@auto_vmap(grad_u=2)\n",
    "def compute_strain(grad_u):\n",
    "    return 0.5 * (grad_u + grad_u.T)\n",
    "\n",
    "@auto_vmap(eps=2, mu=0, lmbda=0)\n",
    "def compute_stress(eps, mu, lmbda):\n",
    "    I = jnp.eye(2)\n",
    "    return 2 * mu * eps + lmbda * jnp.trace(eps) * I\n",
    "\n",
    "@auto_vmap(grad_u=2, mu=0, lmbda=0)\n",
    "def linear_elasticity_energy(grad_u, mu, lmbda):\n",
    "    eps = compute_strain(grad_u)\n",
    "    sigma = compute_stress(eps, mu, lmbda)\n",
    "    return 0.5 * jnp.sum(sigma * eps)\n"
   ]
  },
  {
   "cell_type": "markdown",
   "metadata": {},
   "source": [
    "The femsolver provides a generic class `FemOperator` that can be used to solve FEM problems. This operator is the core of the library as it provide functions that can automatically integrate the energy density function defined above over the range of elements.\n",
    "\n",
    "It takes three arguments:\n",
    "\n",
    "- `compute_quads`: a function that returns the quadrature points and weights for the elements\n",
    "- `compute_shape_fn`: a function that returns the shape functions for the elements\n",
    "- `compute_energy`: a function that returns the energy density for the elements\n"
   ]
  },
  {
   "cell_type": "code",
   "execution_count": 98,
   "metadata": {},
   "outputs": [],
   "source": [
    "class ElasticityOperator(Operator, Material):\n",
    "    element: Element\n",
    "    mu: float\n",
    "    lmbda: float\n",
    "\n",
    "    @auto_vmap(xi=1, wi=1, nodal_values=None, nodes=None)\n",
    "    def integrand(self, xi, wi, nodal_values, nodes):\n",
    "        u_quad, u_grad, detJ = self.element.get_local_values(\n",
    "            xi, nodal_values, nodes\n",
    "        )\n",
    "        value = linear_elasticity_energy(u_grad, self.mu, self.lmbda)\n",
    "        return wi * value * detJ"
   ]
  },
  {
   "cell_type": "code",
   "execution_count": 99,
   "metadata": {},
   "outputs": [],
   "source": [
    "tri3 = get_element(\"tri3\")\n",
    "elasticity_op = ElasticityOperator(element=tri3, mu=1.0, lmbda=1.0)\n"
   ]
  },
  {
   "cell_type": "markdown",
   "metadata": {},
   "source": [
    "In the above definition of the ``FemOperator`` class, we have used the ``quad_tri3`` and ``shape_fn_tri3`` functions to compute the quadrature points and shape functions for the triangular elements.\n",
    "\n",
    "One can simply replace these two functions with any other quadrature and shape function. Just look at the ``quad_tri3`` and ``shape_fn_tri3`` functions in ``femsolver/quadrature.py`` to see how to define your own.\n",
    "\n",
    "For more complex problems, one can define their own implementation of the `FemOperator` class. One just have to inherit from the `FemOperator` class and override the functions that are needed.\n"
   ]
  },
  {
   "cell_type": "markdown",
   "metadata": {},
   "source": [
    "Now we prepare the mesh and the boundary conditions and solve the linear elasticity problem."
   ]
  },
  {
   "cell_type": "markdown",
   "metadata": {},
   "source": [
    "The total potential energy $\\Psi$ is the sum of the elastic strain energy $\\Psi_{elastic}$ and the cohesive energy $\\Psi_{cohesive}$.\n",
    "\n",
    "$$\\Psi(u)=\\Psi_{elastic}(u)+\\Psi_{cohesive}(u)$$\n",
    "\n",
    "The cohesive energy is defined as:\n",
    "\n",
    "$$\\Psi_{cohesive}(u)= \\int_{\\Gamma_\\text{coh}} \\psi(\\delta(\\boldsymbol{u})) dA$$\n",
    "\n",
    "where \n",
    "\n",
    "- $\\Gamma_{coh}$ is the cohesive interface.\n",
    "\n",
    "- $\\boldsymbol{\\delta}(\\boldsymbol{u}) = \\boldsymbol{u}^+ - \\boldsymbol{u}^-$ is the displacement jump across the interface.\n",
    "\n",
    "- $\\psi(\\boldsymbol{\\delta})$ is the cohesive potential, which defines the energy-separation relationship. "
   ]
  },
  {
   "cell_type": "code",
   "execution_count": 100,
   "metadata": {},
   "outputs": [],
   "source": [
    "@eqx.filter_jit\n",
    "def compute_opening(jump_quad: jnp.ndarray, nodes: jnp.ndarray) -> float:\n",
    "    opening = jump_quad[1]  # we only consider the opening in the y direction\n",
    "    return opening\n",
    "\n",
    "\n",
    "@jax.jit\n",
    "def exponential_cohesive_energy(\n",
    "    delta: float,\n",
    "    interface_props: dict[str, float],\n",
    "    delta_threshold: float = 1e-8,\n",
    ") -> float:\n",
    "    delta_c = (interface_props[\"Gamma\"] * jnp.exp(-1)) / interface_props[\"sigma_c\"]\n",
    "\n",
    "    def true_fun(delta):\n",
    "        return interface_props[\"Gamma\"] * (\n",
    "            1 - (1 + (delta / delta_c)) * (jnp.exp(-delta / delta_c))\n",
    "        )\n",
    "\n",
    "    def false_fun(delta):\n",
    "        return 0.5 * interface_props[\"penalty\"] * delta**2\n",
    "\n",
    "    return jax.lax.cond(delta > delta_threshold, true_fun, false_fun, delta)\n",
    "\n",
    "\n",
    "class CohesiveProperties(eqx.Module):\n",
    "    interface_props: eqx.AbstractVar[dict[str, float]]\n",
    "\n",
    "\n",
    "class CohesiveOperator(Operator, CohesiveProperties):\n",
    "    element: Element\n",
    "    interface_props: dict[str, float]\n",
    "\n",
    "    @auto_vmap(xi=1, wi=1, nodal_values=None, nodes=None)\n",
    "    def integrand(self, xi, wi, nodal_values, nodes) -> float:\n",
    "        \"\"\"\n",
    "        Compute the cohesive energy.\n",
    "        \"\"\"\n",
    "        jump_quad, jump_grad, detJ = self.element.get_local_values(\n",
    "            xi, nodal_values, nodes\n",
    "        )\n",
    "        opening_quad = compute_opening(jump_quad, nodes)\n",
    "        energy = exponential_cohesive_energy(opening_quad, self.interface_props)\n",
    "        return wi * energy * detJ"
   ]
  },
  {
   "cell_type": "markdown",
   "metadata": {},
   "source": [
    "We define a new `Line` element to integrate the cohesive energy. The `Line` element is a 1D element that is used to integrate the cohesive energy across the cohesive interface. "
   ]
  },
  {
   "cell_type": "code",
   "execution_count": 101,
   "metadata": {},
   "outputs": [],
   "source": [
    "line2 = get_element(\"line2\")\n",
    "interface_op = CohesiveOperator(\n",
    "    element=line2, interface_props={\"Gamma\": 1e-3, \"sigma_c\": 1e-2, \"penalty\": 10000.0}\n",
    ")"
   ]
  },
  {
   "cell_type": "markdown",
   "metadata": {},
   "source": [
    "Finally, we can put everything together to compute the total energy."
   ]
  },
  {
   "cell_type": "code",
   "execution_count": 102,
   "metadata": {},
   "outputs": [],
   "source": [
    "# --- Total energy ---\n",
    "def _total_energy(\n",
    "    u_flat: jnp.ndarray,\n",
    "    coords: jnp.ndarray,\n",
    "    elements: jnp.ndarray,\n",
    "    elasticity_operator: Operator,\n",
    "    cohesive_operator: Operator,\n",
    "    upper_elements: jnp.ndarray,\n",
    "    lower_elements: jnp.ndarray,\n",
    ") -> jnp.ndarray:\n",
    "    \"\"\"\n",
    "    Compute the total energy for a given displacement field.\n",
    "    Args:\n",
    "        u_flat: Flattened displacement field.\n",
    "        coords: Coordinates of the nodes.\n",
    "        elements: Element indices.\n",
    "        elasticity_operator: ElasticityOperator object.\n",
    "        cohesive_operator: CohesiveOperator object.\n",
    "        upper_elements: Indices of the nodes on the upper cohesive surface.\n",
    "        lower_elements: Indices of the nodes on the lower cohesive surface.\n",
    "    Returns:\n",
    "        Total energy.\n",
    "    \"\"\"\n",
    "    u = u_flat.reshape(-1, n_dofs_per_node)\n",
    "    u_cell = u[elements]\n",
    "    x_cell = coords[elements]\n",
    "    elastic_energy = jnp.sum(elasticity_operator.integrate(u_cell, x_cell))\n",
    "\n",
    "    u_upper = u[upper_elements]    \n",
    "    u_lower = u[lower_elements]\n",
    "\n",
    "    # we compute the jump in the displacement field across the cohesive interface\n",
    "    jump_values = u_upper - u_lower\n",
    "\n",
    "    # since the two interfaces are identical, we can use the coordinates of the upper interface\n",
    "    # to intergate and compute the fracture energy\n",
    "    x_upper_cell = coords[upper_elements]\n",
    "    \n",
    "    fracture_energy = jnp.sum(cohesive_operator.integrate(jump_values, x_upper_cell))\n",
    "\n",
    "    return elastic_energy + fracture_energy"
   ]
  },
  {
   "cell_type": "markdown",
   "metadata": {},
   "source": [
    "Since in this example, the elements along the cohesive interface (or in the two domains) are pre-determined and the position of the nodes (reference frame) remains the same throughout the simulation, we can use the `eqx.Partial` function to create a partial function that only depends on the displacement field."
   ]
  },
  {
   "cell_type": "code",
   "execution_count": 103,
   "metadata": {},
   "outputs": [],
   "source": [
    "total_energy = eqx.filter_jit(eqx.Partial(\n",
    "    _total_energy,\n",
    "    coords = coords,\n",
    "    elements = elements,\n",
    "    elasticity_operator=elasticity_op,\n",
    "    cohesive_operator=interface_op,\n",
    "    upper_elements=upper_elements_1d,\n",
    "    lower_elements=lower_elements_1d,\n",
    "))"
   ]
  },
  {
   "cell_type": "code",
   "execution_count": 104,
   "metadata": {},
   "outputs": [
    {
     "data": {
      "text/plain": [
       "Array(0., dtype=float64)"
      ]
     },
     "execution_count": 104,
     "metadata": {},
     "output_type": "execute_result"
    }
   ],
   "source": [
    "total_energy(jnp.ones(n_dofs))"
   ]
  },
  {
   "cell_type": "markdown",
   "metadata": {},
   "source": [
    "We now locate the dofs in the two domains to apply boundary conditions."
   ]
  },
  {
   "cell_type": "code",
   "execution_count": 105,
   "metadata": {},
   "outputs": [
    {
     "data": {
      "image/png": "[encoded data removed]",
      "text/plain": [
       "<Figure size 900x450 with 1 Axes>"
      ]
     },
     "metadata": {},
     "output_type": "display_data"
    }
   ],
   "source": [
    "\n",
    "# --- Apply Dirichlet BCs ---\n",
    "left_upper_nodes = jnp.where(jnp.isclose(coords[:, 0], 0.0) & (coords[:, 1] >= 0))[0]\n",
    "left_lower_nodes = jnp.where(jnp.isclose(coords[:, 0], 0.0) & (coords[:, 1] < 0))[0]\n",
    "right_nodes = jnp.where(jnp.isclose(coords[:, 0], Lx))[0]\n",
    "\n",
    "fixed_dofs = jnp.concatenate(\n",
    "    [\n",
    "        2 * right_nodes,\n",
    "        2 * right_nodes + 1,\n",
    "        2 * left_upper_nodes + 1,\n",
    "        2 * left_lower_nodes + 1,\n",
    "\n",
    "    ]\n",
    ")\n",
    "\n",
    "prescribed_values = jnp.zeros(n_dofs).at[2 * right_nodes].set(0.0)\n",
    "prescribed_values = prescribed_values.at[2 * right_nodes + 1].set(0.0)\n",
    "prescribed_values = prescribed_values.at[2 * left_upper_nodes + 1].set(0.2)\n",
    "prescribed_values = prescribed_values.at[2 * left_lower_nodes + 1].set(-0.2)\n",
    "\n",
    "free_dofs = jnp.setdiff1d(jnp.arange(n_dofs), fixed_dofs)\n",
    "\n",
    "\n",
    "# --- Plot the mesh ---\n",
    "# We plot the mesh the nodes that are fixed on the left and right edges.\n",
    "\n",
    "plt.style.use(STYLE_PATH)\n",
    "plt.figure(figsize=(6, 3))\n",
    "ax = plt.axes()\n",
    "ax.triplot(coords[:, 0], coords[:, 1], elements, color=\"grey\", lw=0.5)\n",
    "\n",
    "ax.scatter(coords[left_lower_nodes, 0], coords[left_lower_nodes, 1],  s=10, label=\"Left lower\")\n",
    "ax.scatter(coords[left_upper_nodes, 0], coords[left_upper_nodes, 1],  s=5, label=\"Left upper\")\n",
    "ax.scatter(coords[right_nodes, 0], coords[right_nodes, 1], s=10, label=\"Right\")\n",
    "ax.legend()\n",
    "ax.set_aspect(\"equal\")\n",
    "ax.legend(loc=\"center\")\n",
    "plt.show()\n"
   ]
  },
  {
   "cell_type": "code",
   "execution_count": 106,
   "metadata": {},
   "outputs": [],
   "source": [
    "# define the displacement field\n",
    "u = jnp.zeros(n_dofs)\n",
    "\n",
    "# creating functions to compute the gradient and\n",
    "# Hessian of the total energy using jax\n",
    "gradient = jax.grad(total_energy)\n",
    "hessian = jax.jacfwd(gradient)\n",
    "\n",
    "# compute the hessian which is the stiffness matrix\n",
    "# and the gradient which is the internal force vector\n",
    "K = hessian(u)\n",
    "f_int = gradient(u)\n",
    "\n",
    "\n",
    "# --- Solve for the displacement ---\n",
    "# Ideally we would use a Newton solver to solve for the displacement.\n",
    "# TODO: Implement a Newton solver.\n",
    "f_ext = -f_int - K @ prescribed_values\n",
    "f_reduced = f_ext[free_dofs]\n",
    "K_reduced = K[jnp.ix_(free_dofs, free_dofs)]\n",
    "u_free = jnp.linalg.solve(K_reduced, f_reduced)\n",
    "u_full = prescribed_values.at[free_dofs].set(u_free)"
   ]
  },
  {
   "cell_type": "markdown",
   "metadata": {},
   "source": [
    "Now we prepare some functions to compute the stress and to plot the deformed shape with the von-mises stress."
   ]
  },
  {
   "cell_type": "code",
   "execution_count": 107,
   "metadata": {},
   "outputs": [],
   "source": [
    "@auto_vmap(stress=2)\n",
    "def von_mises_stress(stress):\n",
    "    s_xx, s_yy = stress[0, 0], stress[1, 1]\n",
    "    s_xy = stress[0, 1]\n",
    "    return jnp.sqrt(s_xx**2 - s_xx * s_yy + s_yy**2 + 3 * s_xy**2)\n"
   ]
  },
  {
   "cell_type": "code",
   "execution_count": 108,
   "metadata": {},
   "outputs": [],
   "source": [
    "grad_us = elasticity_op.gradient(u_full.reshape(-1, n_dofs_per_node)[elements], coords[elements])\n",
    "strains = compute_strain(grad_us)\n",
    "stresses = compute_stress(strains, elasticity_op.mu, elasticity_op.lmbda)\n",
    "stress_vm = von_mises_stress(stresses)"
   ]
  },
  {
   "cell_type": "code",
   "execution_count": 109,
   "metadata": {},
   "outputs": [],
   "source": [
    "# --- Visualization ---\n",
    "from femsolver.plotting import STYLE_PATH\n",
    "from mpl_toolkits.axes_grid1 import make_axes_locatable\n",
    "\n",
    "def plot_displacement_and_stress(coords, u, elements, stress, scale=1.0):\n",
    "    displaced = coords + scale * u\n",
    "    tri_elements = elements\n",
    "\n",
    "    plt.style.use(STYLE_PATH)\n",
    "    fig =plt.figure(figsize=(5, 4))\n",
    "    ax = plt.axes()\n",
    "    cb =ax.tripcolor(\n",
    "        displaced[:, 0],\n",
    "        displaced[:, 1],\n",
    "        tri_elements,\n",
    "        facecolors=stress,\n",
    "        shading=\"flat\",\n",
    "        cmap=cmc.managua_r,\n",
    "        edgecolors=\"black\",\n",
    "    )\n",
    "    ax.set_xlabel(\"x\")\n",
    "    ax.set_ylabel(\"y\")\n",
    "    ax.set_aspect(\"equal\")\n",
    "    ax.set_title(\"Von Mises Stress on Deformed Mesh\")\n",
    "    divider = make_axes_locatable(ax)\n",
    "    cax = divider.append_axes(\"right\", size=\"5%\", pad=0.05)\n",
    "    fig.colorbar(cb, cax=cax)\n",
    "    plt.show()\n"
   ]
  },
  {
   "cell_type": "code",
   "execution_count": 110,
   "metadata": {},
   "outputs": [
    {
     "data": {
      "image/png": "[encoded data removed]",
      "text/plain": [
       "<Figure size 750x600 with 2 Axes>"
      ]
     },
     "metadata": {},
     "output_type": "display_data"
    }
   ],
   "source": [
    "# --- Compute the stress ---    \n",
    "u = u_full.reshape(-1, n_dofs_per_node)\n",
    "\n",
    "\n",
    "# --- Plot the displacement and stress ---\n",
    "plot_displacement_and_stress(coords, u, elements, stress_vm.flatten())"
   ]
  }
 ],
 "metadata": {
  "kernelspec": {
   "display_name": "my-venv",
   "language": "python",
   "name": "my-venv"
  },
  "language_info": {
   "codemirror_mode": {
    "name": "ipython",
    "version": 3
   },
   "file_extension": ".py",
   "mimetype": "text/x-python",
   "name": "python",
   "nbconvert_exporter": "python",
   "pygments_lexer": "ipython3",
   "version": "3.11.6"
  }
 },
 "nbformat": 4,
 "nbformat_minor": 2
}

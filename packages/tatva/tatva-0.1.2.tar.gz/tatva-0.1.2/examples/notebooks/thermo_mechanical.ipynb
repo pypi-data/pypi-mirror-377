{
 "cells": [
  {
   "cell_type": "markdown",
   "id": "4194a191",
   "metadata": {},
   "source": [
    "---\n",
    "format:\n",
    "  html:\n",
    "    code-fold: false\n",
    "---\n"
   ]
  },
  {
   "cell_type": "markdown",
   "id": "e3207d85",
   "metadata": {},
   "source": [
    "## Thermo-mechanical coupling\n"
   ]
  },
  {
   "cell_type": "code",
   "execution_count": 1,
   "id": "aa2751bd",
   "metadata": {},
   "outputs": [],
   "source": [
    "import jax\n",
    "\n",
    "jax.config.update(\"jax_enable_x64\", True)  # use double-precision\n",
    "jax.config.update(\"jax_persistent_cache_min_compile_time_secs\", 0)\n",
    "jax.config.update(\"jax_platforms\", \"cpu\")\n",
    "from jax import Array\n",
    "import jax.numpy as jnp\n",
    "\n",
    "\n",
    "import femsolver\n",
    "from femsolver.utils import auto_vmap\n",
    "from femsolver import Mesh, Operator, element\n",
    "from femsolver.plotting import STYLE_PATH, colors\n",
    "from femsolver.compound import Compound, field\n",
    "\n",
    "\n",
    "import matplotlib.pyplot as plt\n",
    "import cmcrameri.cm as cmc"
   ]
  },
  {
   "cell_type": "markdown",
   "id": "ad49cd42",
   "metadata": {},
   "source": [
    "Lets start with creating a mesh for a unit square domain.\n"
   ]
  },
  {
   "cell_type": "code",
   "execution_count": 2,
   "id": "b8612a67",
   "metadata": {},
   "outputs": [
    {
     "data": {
      "image/png": "[encoded data removed]",
      "text/plain": [
       "<Figure size 600x600 with 1 Axes>"
      ]
     },
     "metadata": {},
     "output_type": "display_data"
    }
   ],
   "source": [
    "mesh = Mesh.unit_square(10, 10)\n",
    "\n",
    "plt.style.use(STYLE_PATH)\n",
    "plt.figure(figsize=(4, 4))\n",
    "plt.triplot(*mesh.coords.T, mesh.elements, color=\"k\", lw=0.5)\n",
    "plt.gca().set_aspect(\"equal\")"
   ]
  },
  {
   "cell_type": "code",
   "execution_count": 3,
   "id": "272446cc",
   "metadata": {},
   "outputs": [
    {
     "data": {
      "text/plain": [
       "<__main__.Solution at 0x7f6350f2c690>"
      ]
     },
     "execution_count": 3,
     "metadata": {},
     "output_type": "execute_result"
    }
   ],
   "source": [
    "from femsolver.compound import Compound, field\n",
    "\n",
    "n_nodes = mesh.coords.shape[0]\n",
    "\n",
    "\n",
    "class Solution(Compound):\n",
    "    u = field(shape=(n_nodes, 2))\n",
    "    phi = field(shape=(n_nodes,))\n",
    "\n",
    "\n",
    "sol = Solution()\n",
    "sol.unpack(sol.pack())"
   ]
  },
  {
   "cell_type": "markdown",
   "id": "5cc9fd51",
   "metadata": {},
   "source": [
    "### Thermo-mechanical coupling\n",
    "\n",
    "For a domain $\\Omega$ with thermal conductivity $k$ and an internal source $Q$ (heat per unit volume per unit time), the equation is:\n",
    "\n",
    "$$\n",
    "\\nabla \\cdot (k \\nabla T) + Q = 0 \\quad \\text{in } \\Omega\n",
    "$$\n",
    "\n",
    "The thermal functional to be minimized is:\n",
    "\n",
    "$$\n",
    "\\Pi_\\text{d}(c) = \\int_{\\Omega} \\left( \\frac{1}{2} D (\\nabla c \\cdot \\nabla c) - Q c \\right) dV - \\int_{\\Gamma_q} \\bar{q} c \\, dA\n",
    "$$\n"
   ]
  },
  {
   "cell_type": "markdown",
   "id": "c83a0c1b",
   "metadata": {},
   "source": [
    "## Defining the constitutive model\n",
    "\n",
    "$$\n",
    "\\psi_\\text{d} = \\frac{1}{2} D (\\nabla c \\cdot \\nabla c) - Q.c\n",
    "$$\n"
   ]
  },
  {
   "cell_type": "code",
   "execution_count": 4,
   "id": "b9692e3b",
   "metadata": {},
   "outputs": [],
   "source": [
    "from typing import NamedTuple\n",
    "\n",
    "\n",
    "class Material(NamedTuple):\n",
    "    \"\"\"Material properties for the elasticity operator.\"\"\"\n",
    "\n",
    "    mu: float  # Diffusion coefficient\n",
    "    lmbda: float  # Diffusion coefficient\n",
    "    D: float  # Diffusion coefficient\n",
    "\n",
    "\n",
    "mat = Material(mu=1.0, lmbda=1.0, D=1.0)"
   ]
  },
  {
   "cell_type": "code",
   "execution_count": 5,
   "id": "6ca507e2",
   "metadata": {},
   "outputs": [],
   "source": [
    "tri = element.Tri3()\n",
    "op = Operator(mesh, tri)\n",
    "\n",
    "line = element.Line2()\n",
    "op_line = Operator(mesh, line)"
   ]
  },
  {
   "cell_type": "code",
   "execution_count": 6,
   "id": "279584a0",
   "metadata": {},
   "outputs": [],
   "source": [
    "@auto_vmap(grad_u=2)\n",
    "def compute_strain(grad_u: Array) -> Array:\n",
    "    \"\"\"Compute the strain tensor from the gradient of the displacement.\"\"\"\n",
    "    return 0.5 * (grad_u + grad_u.T)\n",
    "\n",
    "\n",
    "@auto_vmap(eps=2, c_quad=0, mu=0, lmbda=0)\n",
    "def compute_stress(eps: Array, c_quad: Array, mu: float, lmbda: float) -> Array:\n",
    "    \"\"\"Compute the stress tensor from the strain tensor.\"\"\"\n",
    "    I = jnp.eye(2)\n",
    "    kappa = 1.0\n",
    "    return 2 * mu * eps + lmbda * jnp.trace(eps) * I - kappa * c_quad * I\n",
    "\n",
    "\n",
    "@auto_vmap(grad_u=2, c=0, mat=0)\n",
    "def strain_energy(grad_u: Array, c: Array, mat: Material) -> Array:\n",
    "    \"\"\"Compute the strain energy density.\"\"\"\n",
    "    eps = compute_strain(grad_u)\n",
    "    sig = compute_stress(eps, c, mat.mu, mat.lmbda)\n",
    "    return 0.5 * jnp.sum(eps * sig)\n",
    "\n",
    "\n",
    "@auto_vmap(grad_c=1, D=0)\n",
    "def diffusion_potential(grad_c: Array, D: float) -> Array:\n",
    "    return 0.5 * D * (grad_c @ grad_c)\n",
    "\n",
    "\n",
    "@jax.jit\n",
    "def total_energy(u_flat):\n",
    "    u, phi = sol.unpack(u_flat)\n",
    "    strain_energy_density = strain_energy(op.grad(u), op.eval(phi), mat)\n",
    "    diffusion_energy_density = diffusion_potential(op.grad(phi), mat.D)\n",
    "\n",
    "    return op.integrate(strain_energy_density) + op.integrate(diffusion_energy_density)"
   ]
  },
  {
   "cell_type": "code",
   "execution_count": 7,
   "id": "d1b0f8e3",
   "metadata": {},
   "outputs": [],
   "source": [
    "gradient = jax.jacrev(total_energy)\n",
    "hessian = jax.jacfwd(gradient)"
   ]
  },
  {
   "cell_type": "code",
   "execution_count": 10,
   "id": "0e3fca3e",
   "metadata": {},
   "outputs": [],
   "source": [
    "K_coupled = hessian(sol.pack())"
   ]
  },
  {
   "cell_type": "code",
   "execution_count": 11,
   "id": "68f8856f",
   "metadata": {},
   "outputs": [
    {
     "data": {
      "image/png": "[encoded data removed]",
      "text/plain": [
       "<Figure size 960x720 with 1 Axes>"
      ]
     },
     "metadata": {},
     "output_type": "display_data"
    }
   ],
   "source": [
    "plt.spy(K_coupled)\n",
    "plt.show()"
   ]
  },
  {
   "cell_type": "code",
   "execution_count": 13,
   "id": "dec66f04",
   "metadata": {},
   "outputs": [
    {
     "ename": "AttributeError",
     "evalue": "module 'femsolver' has no attribute 'sparse'",
     "output_type": "error",
     "traceback": [
      "\u001b[31m---------------------------------------------------------------------------\u001b[39m",
      "\u001b[31mAttributeError\u001b[39m                            Traceback (most recent call last)",
      "\u001b[36mCell\u001b[39m\u001b[36m \u001b[39m\u001b[32mIn[13]\u001b[39m\u001b[32m, line 2\u001b[39m\n\u001b[32m      1\u001b[39m n_total_dofs = u_flat.shape[\u001b[32m0\u001b[39m]\n\u001b[32m----> \u001b[39m\u001b[32m2\u001b[39m sparsity_pattern = \u001b[43mfemsolver\u001b[49m\u001b[43m.\u001b[49m\u001b[43msparse\u001b[49m.create_sparsity_pattern(\n\u001b[32m      3\u001b[39m     mesh.elements, n_dofs_per_node=\u001b[32m2\u001b[39m, K_shape=(n_total_dofs, n_total_dofs)\n\u001b[32m      4\u001b[39m )\n\u001b[32m      6\u001b[39m plt.spy(sparsity_pattern.todense())\n\u001b[32m      7\u001b[39m plt.show()\n",
      "\u001b[31mAttributeError\u001b[39m: module 'femsolver' has no attribute 'sparse'"
     ]
    }
   ],
   "source": [
    "n_total_dofs = u_flat.shape[0]\n",
    "sparsity_pattern = femsolver.sparse.create_sparsity_pattern(\n",
    "    mesh.elements, n_dofs_per_node=2, K_shape=(n_total_dofs, n_total_dofs)\n",
    ")\n",
    "\n",
    "plt.spy(sparsity_pattern.todense())\n",
    "plt.show()"
   ]
  },
  {
   "cell_type": "code",
   "execution_count": 27,
   "id": "e1f830cd",
   "metadata": {},
   "outputs": [],
   "source": [
    "import sparsejac"
   ]
  },
  {
   "cell_type": "code",
   "execution_count": 28,
   "id": "93832327",
   "metadata": {},
   "outputs": [],
   "source": [
    "hessian_sparse = sparsejac.jacfwd(gradient, sparsity=sparsity_pattern)"
   ]
  },
  {
   "cell_type": "code",
   "execution_count": 29,
   "id": "878ab1a3",
   "metadata": {},
   "outputs": [],
   "source": [
    "Kd_sparse = hessian_sparse(c)"
   ]
  },
  {
   "cell_type": "code",
   "execution_count": 30,
   "id": "b09bab5b",
   "metadata": {},
   "outputs": [
    {
     "data": {
      "image/png": "[encoded data removed]",
      "text/plain": [
       "<Figure size 960x720 with 1 Axes>"
      ]
     },
     "metadata": {},
     "output_type": "display_data"
    }
   ],
   "source": [
    "plt.spy(Kd_sparse.todense())\n",
    "plt.show()"
   ]
  },
  {
   "cell_type": "code",
   "execution_count": null,
   "id": "3697f6d1",
   "metadata": {},
   "outputs": [],
   "source": []
  }
 ],
 "metadata": {
  "kernelspec": {
   "display_name": "femsolver (3.13.5)",
   "language": "python",
   "name": "python3"
  },
  "language_info": {
   "codemirror_mode": {
    "name": "ipython",
    "version": 3
   },
   "file_extension": ".py",
   "mimetype": "text/x-python",
   "name": "python",
   "nbconvert_exporter": "python",
   "pygments_lexer": "ipython3",
   "version": "3.13.5"
  }
 },
 "nbformat": 4,
 "nbformat_minor": 5
}

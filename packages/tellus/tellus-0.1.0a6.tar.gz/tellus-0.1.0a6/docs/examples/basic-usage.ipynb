{
 "cells": [
  {
   "cell_type": "markdown",
   "metadata": {},
   "source": [
    "# Basic Usage Tutorial\n",
    "\n",
    "This notebook demonstrates the fundamental concepts and operations in Tellus. You'll learn how to:\n",
    "\n",
    "- Create and manage simulations\n",
    "- Configure storage locations\n",
    "- Transfer files with progress tracking\n",
    "- Use context-aware path resolution\n",
    "\n",
    "## Setup\n",
    "\n",
    "First, let's import the necessary modules and set up our environment:"
   ]
  },
  {
   "cell_type": "code",
   "execution_count": null,
   "metadata": {},
   "outputs": [],
   "source": [
    "import os\n",
    "import tempfile\n",
    "from pathlib import Path\n",
    "\n",
    "# Import Tellus modules\n",
    "from tellus.simulation.simulation import Simulation\n",
    "from tellus.location.location import Location, LocationKind\n",
    "from tellus.simulation.context import LocationContext\n",
    "\n",
    "print(\"✅ Tellus modules imported successfully\")"
   ]
  },
  {
   "cell_type": "markdown",
   "metadata": {},
   "source": [
    "Let's create a temporary directory structure for our examples:"
   ]
  },
  {
   "cell_type": "code",
   "execution_count": null,
   "metadata": {},
   "outputs": [],
   "source": [
    "# Create temporary directories for our example\n",
    "temp_dir = Path(tempfile.mkdtemp())\n",
    "data_dir = temp_dir / \"example_data\"\n",
    "output_dir = temp_dir / \"outputs\"\n",
    "\n",
    "# Create directory structure\n",
    "data_dir.mkdir(parents=True)\n",
    "output_dir.mkdir(parents=True)\n",
    "\n",
    "# Create some sample files\n",
    "sample_files = [\n",
    "    \"model_output_day1.nc\",\n",
    "    \"model_output_day2.nc\", \n",
    "    \"model_output_day3.nc\",\n",
    "    \"metadata.yaml\",\n",
    "    \"logs/run.log\"\n",
    "]\n",
    "\n",
    "for file_path in sample_files:\n",
    "    full_path = data_dir / file_path\n",
    "    full_path.parent.mkdir(parents=True, exist_ok=True)\n",
    "    \n",
    "    # Create sample content\n",
    "    if file_path.endswith('.nc'):\n",
    "        content = f\"# NetCDF data file: {file_path}\\n# Generated for Tellus example\\n\"\n",
    "    elif file_path.endswith('.yaml'):\n",
    "        content = \"experiment: climate_model_run\\nversion: 1.0\\nstart_date: 2024-01-01\\n\"\n",
    "    else:\n",
    "        content = f\"Log entry for {file_path}\\nTimestamp: 2024-01-01 12:00:00\\n\"\n",
    "    \n",
    "    full_path.write_text(content)\n",
    "\n",
    "print(f\"📁 Created example data in: {temp_dir}\")\n",
    "print(f\"📊 Sample files: {list(data_dir.rglob('*'))}\")"
   ]
  },
  {
   "cell_type": "markdown",
   "metadata": {},
   "source": [
    "## Working with Simulations\n",
    "\n",
    "Simulations in Tellus represent computational experiments or datasets. Let's create our first simulation:"
   ]
  },
  {
   "cell_type": "code",
   "execution_count": null,
   "metadata": {},
   "outputs": [],
   "source": [
    "# Create a new simulation\n",
    "sim = Simulation(\n",
    "    simulation_id=\"climate-model-example\",\n",
    "    path=str(output_dir)\n",
    ")\n",
    "\n",
    "# Add some metadata\n",
    "sim.attrs.update({\n",
    "    \"model\": \"CESM2\",\n",
    "    \"experiment\": \"historical\", \n",
    "    \"resolution\": \"1deg\",\n",
    "    \"start_year\": 2020,\n",
    "    \"end_year\": 2024\n",
    "})\n",
    "\n",
    "print(f\"🎯 Created simulation: {sim.simulation_id}\")\n",
    "print(f\"📂 Base path: {sim.path}\")\n",
    "print(f\"🏷️  Attributes: {sim.attrs}\")"
   ]
  },
  {
   "cell_type": "markdown",
   "metadata": {},
   "source": [
    "## Creating Storage Locations\n",
    "\n",
    "Locations define where data is stored. Let's create a local filesystem location:"
   ]
  },
  {
   "cell_type": "code",
   "execution_count": null,
   "metadata": {},
   "outputs": [],
   "source": [
    "# Create a local storage location\n",
    "location = Location(\n",
    "    name=\"example-data-store\",\n",
    "    kinds=[LocationKind.DISK],\n",
    "    config={\n",
    "        \"protocol\": \"file\",\n",
    "        \"storage_options\": {\n",
    "            \"path\": str(data_dir)\n",
    "        }\n",
    "    }\n",
    ")\n",
    "\n",
    "print(f\"💾 Created location: {location.name}\")\n",
    "print(f\"🔧 Protocol: {location.config['protocol']}\")\n",
    "print(f\"📍 Path: {location.config['storage_options']['path']}\")"
   ]
  },
  {
   "cell_type": "markdown",
   "metadata": {},
   "source": [
    "## Adding Locations to Simulations\n",
    "\n",
    "Now let's connect our location to the simulation with some context:"
   ]
  },
  {
   "cell_type": "code",
   "execution_count": null,
   "metadata": {},
   "outputs": [],
   "source": [
    "# Create context for path templating\n",
    "context = LocationContext(\n",
    "    path_prefix=\"{{model}}/{{experiment}}\",\n",
    "    metadata={\n",
    "        \"description\": \"Primary data storage for climate model outputs\",\n",
    "        \"access_level\": \"read-only\"\n",
    "    }\n",
    ")\n",
    "\n",
    "# Add location to simulation\n",
    "sim.add_location(location, context=context)\n",
    "\n",
    "print(f\"🔗 Added location '{location.name}' to simulation '{sim.simulation_id}'\")\n",
    "\n",
    "# Show resolved path\n",
    "resolved_path = sim.get_location_path(location.name)\n",
    "print(f\"📁 Resolved path: {resolved_path}\")"
   ]
  },
  {
   "cell_type": "markdown",
   "metadata": {},
   "source": [
    "## Listing Files\n",
    "\n",
    "Let's explore what files are available in our location:"
   ]
  },
  {
   "cell_type": "code",
   "execution_count": null,
   "metadata": {},
   "outputs": [],
   "source": [
    "# Get the location data\n",
    "loc_data = sim.locations[location.name]\n",
    "fs = loc_data[\"location\"].fs\n",
    "\n",
    "# List files at the resolved path\n",
    "base_path = sim.get_location_path(location.name)\n",
    "print(f\"📋 Files in {base_path}:\")\n",
    "\n",
    "try:\n",
    "    files = fs.ls(base_path, detail=True)\n",
    "    for file_info in files:\n",
    "        name = file_info.get('name', file_info)\n",
    "        size = file_info.get('size', 'unknown')\n",
    "        file_type = 'dir' if file_info.get('type') == 'directory' else 'file'\n",
    "        print(f\"  📄 {os.path.basename(name)} ({file_type}, {size} bytes)\")\nexcept Exception as e:\n",
    "    print(f\"⚠️  Could not list files: {e}\")\n",
    "    # Fallback to simple directory listing\n",
    "    actual_path = Path(location.config['storage_options']['path'])\n",
    "    print(f\"📋 Files in {actual_path}:\")\n",
    "    for file_path in actual_path.rglob('*'):\n",
    "        if file_path.is_file():\n",
    "            rel_path = file_path.relative_to(actual_path)\n",
    "            size = file_path.stat().st_size\n",
    "            print(f\"  📄 {rel_path} (file, {size} bytes)\")"
   ]
  },
  {
   "cell_type": "markdown",
   "metadata": {},
   "source": [
    "## File Operations\n",
    "\n",
    "Let's demonstrate how to work with files using Tellus:"
   ]
  },
  {
   "cell_type": "code",
   "execution_count": null,
   "metadata": {},
   "outputs": [],
   "source": [
    "# Create a destination for downloaded files\n",
    "download_dir = temp_dir / \"downloads\"\n",
    "download_dir.mkdir(exist_ok=True)\n",
    "\n",
    "# Get the location object\n",
    "location_obj = sim.locations[location.name][\"location\"]\n",
    "\n",
    "# Try to \"download\" a file (copy from our example data)\n",
    "try:\n",
    "    # List available files first\n",
    "    source_files = list(data_dir.glob('*.nc'))\n",
    "    if source_files:\n",
    "        source_file = source_files[0]\n",
    "        dest_file = download_dir / source_file.name\n",
    "        \n",
    "        # Simple file copy (simulating download)\n",
    "        import shutil\n",
    "        shutil.copy2(source_file, dest_file)\n",
    "        \n",
    "        print(f\"⬇️  Downloaded: {source_file.name}\")\n",
    "        print(f\"📁 Saved to: {dest_file}\")\n",
    "        print(f\"📊 File size: {dest_file.stat().st_size} bytes\")\n",
    "    else:\n",
    "        print(\"⚠️  No .nc files found to download\")\n",
    "        \nexcept Exception as e:\n",
    "    print(f\"❌ Download failed: {e}\")"
   ]
  },
  {
   "cell_type": "markdown",
   "metadata": {},
   "source": [
    "## Working with Multiple Files\n",
    "\n",
    "Tellus can handle batch operations on multiple files:"
   ]
  },
  {
   "cell_type": "code",
   "execution_count": null,
   "metadata": {},
   "outputs": [],
   "source": [
    "# Find and copy multiple files matching a pattern\n",
    "pattern = \"*.nc\"\n",
    "matching_files = list(data_dir.glob(pattern))\n",
    "\n",
    "print(f\"🔍 Found {len(matching_files)} files matching '{pattern}':\")\n",
    "\n",
    "# Simulate batch download with progress\n",
    "for i, source_file in enumerate(matching_files, 1):\n",
    "    dest_file = download_dir / f\"batch_{source_file.name}\"\n",
    "    \n",
    "    # Copy file\n",
    "    shutil.copy2(source_file, dest_file)\n",
    "    \n",
    "    # Show progress\n",
    "    progress = (i / len(matching_files)) * 100\n",
    "    print(f\"  ⬇️  [{progress:5.1f}%] {source_file.name} → {dest_file.name}\")\n",
    "\n",
    "print(f\"✅ Batch download complete! Downloaded {len(matching_files)} files.\")"
   ]
  },
  {
   "cell_type": "markdown",
   "metadata": {},
   "source": [
    "## Simulation Management\n",
    "\n",
    "Let's explore more simulation management features:"
   ]
  },
  {
   "cell_type": "code",
   "execution_count": null,
   "metadata": {},
   "outputs": [],
   "source": [
    "# Display simulation summary\n",
    "print(f\"📊 Simulation Summary\")\n",
    "print(f\"   ID: {sim.simulation_id}\")\n",
    "print(f\"   Path: {sim.path}\")\n",
    "print(f\"   Locations: {len(sim.locations)}\")\n",
    "print(f\"   Attributes: {len(sim.attrs)}\")\n",
    "\n",
    "print(\"\\n🏷️  Attributes:\")\n",
    "for key, value in sim.attrs.items():\n",
    "    print(f\"   {key}: {value}\")\n",
    "\n",
    "print(\"\\n📍 Locations:\")\n",
    "for loc_name, loc_info in sim.locations.items():\n",
    "    location_obj = loc_info[\"location\"]\n",
    "    context_obj = loc_info.get(\"context\")\n",
    "    resolved_path = sim.get_location_path(loc_name)\n",
    "    \n",
    "    print(f\"   {loc_name}:\")\n",
    "    print(f\"     Type: {location_obj.kinds[0].name}\")\n",
    "    print(f\"     Protocol: {location_obj.config.get('protocol', 'unknown')}\")\n",
    "    print(f\"     Resolved Path: {resolved_path}\")\n",
    "    \n",
    "    if context_obj and context_obj.metadata:\n",
    "        print(f\"     Metadata: {context_obj.metadata}\")"
   ]
  },
  {
   "cell_type": "markdown",
   "metadata": {},
   "source": [
    "## Path Templating\n",
    "\n",
    "One of Tellus's powerful features is path templating. Let's see how it works:"
   ]
  },
  {
   "cell_type": "code",
   "execution_count": null,
   "metadata": {},
   "outputs": [],
   "source": [
    "# Create a new location with more complex templating\n",
    "archive_location = Location(\n",
    "    name=\"archive-storage\",\n",
    "    kinds=[LocationKind.ARCHIVE],\n",
    "    config={\n",
    "        \"protocol\": \"file\",\n",
    "        \"storage_options\": {\n",
    "            \"path\": str(temp_dir / \"archive\")\n",
    "        }\n",
    "    }\n",
    ")\n",
    "\n",
    "# Create archive directory\n",
    "(temp_dir / \"archive\").mkdir(exist_ok=True)\n",
    "\n",
    "# Add with complex path template\n",
    "archive_context = LocationContext(\n",
    "    path_prefix=\"{{model}}/{{experiment}}/{{resolution}}/year_{{start_year}}-{{end_year}}\",\n",
    "    metadata={\n",
    "        \"description\": \"Long-term archive storage\",\n",
    "        \"retention_policy\": \"10 years\"\n",
    "    }\n",
    ")\n",
    "\n",
    "sim.add_location(archive_location, context=archive_context)\n",
    "\n",
    "# Show how the path is resolved\n",
    "archive_path = sim.get_location_path(archive_location.name)\n",
    "print(f\"🗂️  Archive location added\")\n",
    "print(f\"   Template: {{model}}/{{experiment}}/{{resolution}}/year_{{start_year}}-{{end_year}}\")\n",
    "print(f\"   Resolved: {archive_path}\")\n",
    "print(f\"   Full path: {Path(archive_location.config['storage_options']['path']) / archive_path}\")"
   ]
  },
  {
   "cell_type": "markdown",
   "metadata": {},
   "source": [
    "## Cleanup\n",
    "\n",
    "Let's clean up our temporary files:"
   ]
  },
  {
   "cell_type": "code",
   "execution_count": null,
   "metadata": {},
   "outputs": [],
   "source": [
    "# Clean up temporary directory\n",
    "import shutil\n",
    "\n",
    "try:\n",
    "    shutil.rmtree(temp_dir)\n",
    "    print(f\"🧹 Cleaned up temporary directory: {temp_dir}\")\nexcept Exception as e:\n",
    "    print(f\"⚠️  Could not clean up {temp_dir}: {e}\")"
   ]
  },
  {
   "cell_type": "markdown",
   "metadata": {},
   "source": [
    "## Summary\n",
    "\n",
    "In this tutorial, you learned:\n",
    "\n",
    "✅ **Simulation Management**: How to create simulations with metadata and attributes  \n",
    "✅ **Location Configuration**: Setting up storage locations with different protocols  \n",
    "✅ **Context and Templating**: Using path templates with simulation attributes  \n",
    "✅ **File Operations**: Transferring individual and multiple files  \n",
    "✅ **Path Resolution**: How Tellus resolves templated paths dynamically  \n",
    "\n",
    "## Next Steps\n",
    "\n",
    "- Try the {doc}`remote-data` example to work with SSH and cloud storage\n",
    "- Explore {doc}`workflow-integration` to use Tellus with Snakemake\n",
    "- Check out the {doc}`../user-guide/index` for more detailed information\n",
    "\n",
    "## Real-World Usage\n",
    "\n",
    "In practice, you would typically:\n",
    "\n",
    "1. **Use the CLI**: `tellus simulation create`, `tellus location add`, etc.\n",
    "2. **Configure locations once**: Store authentication and paths in config files\n",
    "3. **Automate with scripts**: Use Tellus in shell scripts or workflow systems\n",
    "4. **Monitor progress**: Take advantage of built-in progress bars for large transfers\n",
    "\n",
    "The Python API shown here is also available for advanced scripting and integration with other tools."
   ]
  }
 ],
 "metadata": {
  "kernelspec": {
   "display_name": "Python 3",
   "language": "python",
   "name": "python3"
  },
  "language_info": {
   "codemirror_mode": {
    "name": "ipython",
    "version": 3
   },
   "file_extension": ".py",
   "mimetype": "text/x-python",
   "name": "python",
   "nbconvert_exporter": "python",
   "pygments_lexer": "ipython3",
   "version": "3.11.0"
  }
 },
 "nbformat": 4,
 "nbformat_minor": 4
}
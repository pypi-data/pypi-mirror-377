{
 "cells": [
  {
   "cell_type": "markdown",
   "metadata": {},
   "source": [
    "# 🌊 Tellus CLI Demo: Traditional Workflow\n",
    "\n",
    "*A hands-on walkthrough of the Tellus command-line interface*\n",
    "\n",
    "## 🎯 What You'll Learn\n",
    "In 10 minutes, you'll create simulations, set up storage locations, and explore the core Tellus CLI workflows.\n",
    "\n",
    "---"
   ]
  },
  {
   "cell_type": "markdown",
   "metadata": {},
   "source": [
    "## 🚀 **Setup**\n",
    "\n",
    "First, let's make sure we're in the right environment and have everything set up:"
   ]
  },
  {
   "cell_type": "code",
   "execution_count": null,
   "metadata": {
    "execution": {
     "iopub.execute_input": "2025-09-09T07:34:40.379625Z",
     "iopub.status.busy": "2025-09-09T07:34:40.378629Z",
     "iopub.status.idle": "2025-09-09T07:34:40.917934Z",
     "shell.execute_reply": "2025-09-09T07:34:40.917416Z"
    }
   },
   "outputs": [],
   "source": [
    "# Check we're in the right directory\n",
    "!pwd\n",
    "!ls -la | head -5"
   ]
  },
  {
   "cell_type": "code",
   "execution_count": null,
   "metadata": {
    "execution": {
     "iopub.execute_input": "2025-09-09T07:34:40.920400Z",
     "iopub.status.busy": "2025-09-09T07:34:40.920225Z",
     "iopub.status.idle": "2025-09-09T07:34:41.181761Z",
     "shell.execute_reply": "2025-09-09T07:34:41.181223Z"
    }
   },
   "outputs": [],
   "source": [
    "# Clean up any previous test data for a fresh start\n",
    "!rm -f simulations.json locations.json\n",
    "print(\"✅ Clean slate ready!\")"
   ]
  },
  {
   "cell_type": "markdown",
   "metadata": {},
   "source": [
    "## 🧪 **Core CLI Workflow**"
   ]
  },
  {
   "cell_type": "markdown",
   "metadata": {},
   "source": [
    "### Step 1: Create Your First Simulation"
   ]
  },
  {
   "cell_type": "code",
   "execution_count": null,
   "metadata": {
    "execution": {
     "iopub.execute_input": "2025-09-09T07:34:41.184486Z",
     "iopub.status.busy": "2025-09-09T07:34:41.184292Z",
     "iopub.status.idle": "2025-09-09T07:34:42.417176Z",
     "shell.execute_reply": "2025-09-09T07:34:42.416627Z"
    }
   },
   "outputs": [],
   "source": [
    "# Create a new FESOM ocean model simulation\n",
    "!tellus simulation create my-fesom-run --model-id FESOM2\n",
    "print(\"\\n✅ Created: my-fesom-run simulation\")"
   ]
  },
  {
   "cell_type": "markdown",
   "metadata": {},
   "source": [
    "### Step 2: Add Storage Locations\n",
    "\n",
    "Create storage locations where your simulation data can live:"
   ]
  },
  {
   "cell_type": "code",
   "execution_count": null,
   "metadata": {
    "execution": {
     "iopub.execute_input": "2025-09-09T07:34:42.419447Z",
     "iopub.status.busy": "2025-09-09T07:34:42.419281Z",
     "iopub.status.idle": "2025-09-09T07:34:42.675826Z",
     "shell.execute_reply": "2025-09-09T07:34:42.675206Z"
    }
   },
   "outputs": [],
   "source": [
    "# Create temp directory first\n",
    "!mkdir -p /tmp/dev-storage\n",
    "print(\"📁 Created temp storage directory\")"
   ]
  },
  {
   "cell_type": "code",
   "execution_count": null,
   "metadata": {
    "execution": {
     "iopub.execute_input": "2025-09-09T07:34:42.678422Z",
     "iopub.status.busy": "2025-09-09T07:34:42.678208Z",
     "iopub.status.idle": "2025-09-09T07:34:43.642402Z",
     "shell.execute_reply": "2025-09-09T07:34:43.641896Z"
    }
   },
   "outputs": [],
   "source": [
    "# Add a local development location\n",
    "!tellus location create dev-local --protocol=file --kind=disk --path=/tmp/dev-storage\n",
    "print(\"\\n✅ Created dev-local location\")"
   ]
  },
  {
   "cell_type": "code",
   "execution_count": null,
   "metadata": {
    "execution": {
     "iopub.execute_input": "2025-09-09T07:34:43.644661Z",
     "iopub.status.busy": "2025-09-09T07:34:43.644480Z",
     "iopub.status.idle": "2025-09-09T07:34:44.610126Z",
     "shell.execute_reply": "2025-09-09T07:34:44.609529Z"
    }
   },
   "outputs": [],
   "source": [
    "# Add an HPC cluster location  \n",
    "!tellus location create hpc-cluster --protocol=ssh --kind=compute --host=login.hpc.example.com --path=/work/username/simulations\n",
    "print(\"\\n✅ Created hpc-cluster location\")"
   ]
  },
  {
   "cell_type": "markdown",
   "metadata": {},
   "source": [
    "### Step 3: Connect Simulation to Locations"
   ]
  },
  {
   "cell_type": "code",
   "execution_count": null,
   "metadata": {
    "execution": {
     "iopub.execute_input": "2025-09-09T07:34:44.612663Z",
     "iopub.status.busy": "2025-09-09T07:34:44.612472Z",
     "iopub.status.idle": "2025-09-09T07:34:45.574157Z",
     "shell.execute_reply": "2025-09-09T07:34:45.573552Z"
    }
   },
   "outputs": [],
   "source": [
    "# Associate your simulation with storage locations\n",
    "!tellus simulation location add my-fesom-run dev-local\n",
    "print(\"\\n✅ Associated dev-local with my-fesom-run\")"
   ]
  },
  {
   "cell_type": "code",
   "execution_count": null,
   "metadata": {
    "execution": {
     "iopub.execute_input": "2025-09-09T07:34:45.576783Z",
     "iopub.status.busy": "2025-09-09T07:34:45.576563Z",
     "iopub.status.idle": "2025-09-09T07:34:46.531516Z",
     "shell.execute_reply": "2025-09-09T07:34:46.530986Z"
    }
   },
   "outputs": [],
   "source": [
    "!tellus simulation location add my-fesom-run hpc-cluster\n",
    "print(\"\\n✅ Associated hpc-cluster with my-fesom-run\")"
   ]
  },
  {
   "cell_type": "markdown",
   "metadata": {},
   "source": [
    "### Step 4: Explore Your Setup"
   ]
  },
  {
   "cell_type": "code",
   "execution_count": null,
   "metadata": {
    "execution": {
     "iopub.execute_input": "2025-09-09T07:34:46.533765Z",
     "iopub.status.busy": "2025-09-09T07:34:46.533591Z",
     "iopub.status.idle": "2025-09-09T07:34:47.488798Z",
     "shell.execute_reply": "2025-09-09T07:34:47.488225Z"
    }
   },
   "outputs": [],
   "source": [
    "# List all simulations\n",
    "!tellus simulation list"
   ]
  },
  {
   "cell_type": "code",
   "execution_count": null,
   "metadata": {
    "execution": {
     "iopub.execute_input": "2025-09-09T07:34:47.491781Z",
     "iopub.status.busy": "2025-09-09T07:34:47.491570Z",
     "iopub.status.idle": "2025-09-09T07:34:48.519033Z",
     "shell.execute_reply": "2025-09-09T07:34:48.518573Z"
    }
   },
   "outputs": [],
   "source": [
    "# View simulation details\n",
    "!tellus simulation show my-fesom-run"
   ]
  },
  {
   "cell_type": "code",
   "execution_count": null,
   "metadata": {
    "execution": {
     "iopub.execute_input": "2025-09-09T07:34:48.521582Z",
     "iopub.status.busy": "2025-09-09T07:34:48.521311Z",
     "iopub.status.idle": "2025-09-09T07:34:49.547468Z",
     "shell.execute_reply": "2025-09-09T07:34:49.546829Z"
    }
   },
   "outputs": [],
   "source": [
    "# List available storage locations\n",
    "!tellus location list"
   ]
  },
  {
   "cell_type": "code",
   "execution_count": null,
   "metadata": {
    "execution": {
     "iopub.execute_input": "2025-09-09T07:34:49.550476Z",
     "iopub.status.busy": "2025-09-09T07:34:49.550291Z",
     "iopub.status.idle": "2025-09-09T07:34:50.547212Z",
     "shell.execute_reply": "2025-09-09T07:34:50.546556Z"
    }
   },
   "outputs": [],
   "source": [
    "# Test location connectivity\n",
    "!tellus location test dev-local"
   ]
  },
  {
   "cell_type": "code",
   "execution_count": null,
   "metadata": {
    "execution": {
     "iopub.execute_input": "2025-09-09T07:34:50.550184Z",
     "iopub.status.busy": "2025-09-09T07:34:50.550006Z",
     "iopub.status.idle": "2025-09-09T07:34:51.523871Z",
     "shell.execute_reply": "2025-09-09T07:34:51.523479Z"
    }
   },
   "outputs": [],
   "source": [
    "# List simulation-location associations\n",
    "!tellus simulation location list my-fesom-run"
   ]
  },
  {
   "cell_type": "markdown",
   "metadata": {},
   "source": [
    "### Step 5: Work with Simulation Data"
   ]
  },
  {
   "cell_type": "code",
   "execution_count": null,
   "metadata": {
    "execution": {
     "iopub.execute_input": "2025-09-09T07:34:51.525786Z",
     "iopub.status.busy": "2025-09-09T07:34:51.525657Z",
     "iopub.status.idle": "2025-09-09T07:34:52.562942Z",
     "shell.execute_reply": "2025-09-09T07:34:52.562435Z"
    }
   },
   "outputs": [],
   "source": [
    "# List contents at a simulation location\n",
    "!tellus simulation location ls my-fesom-run dev-local"
   ]
  },
  {
   "cell_type": "code",
   "execution_count": null,
   "metadata": {
    "execution": {
     "iopub.execute_input": "2025-09-09T07:34:52.565578Z",
     "iopub.status.busy": "2025-09-09T07:34:52.565416Z",
     "iopub.status.idle": "2025-09-09T07:34:52.820899Z",
     "shell.execute_reply": "2025-09-09T07:34:52.820181Z"
    }
   },
   "outputs": [],
   "source": [
    "# Create a sample data file and upload it\n",
    "!echo \"Sample simulation output data\" > /tmp/sample_output.txt\n",
    "print(\"📝 Created sample data file\")"
   ]
  },
  {
   "cell_type": "code",
   "execution_count": null,
   "metadata": {
    "execution": {
     "iopub.execute_input": "2025-09-09T07:34:52.823128Z",
     "iopub.status.busy": "2025-09-09T07:34:52.822951Z",
     "iopub.status.idle": "2025-09-09T07:34:53.856906Z",
     "shell.execute_reply": "2025-09-09T07:34:53.856222Z"
    }
   },
   "outputs": [],
   "source": [
    "# Upload the file to the simulation location\n",
    "!tellus simulation location put my-fesom-run dev-local /tmp/sample_output.txt\n",
    "print(\"\\n✅ Uploaded sample data to dev-local\")"
   ]
  },
  {
   "cell_type": "code",
   "execution_count": null,
   "metadata": {
    "execution": {
     "iopub.execute_input": "2025-09-09T07:34:53.858898Z",
     "iopub.status.busy": "2025-09-09T07:34:53.858711Z",
     "iopub.status.idle": "2025-09-09T07:34:54.902427Z",
     "shell.execute_reply": "2025-09-09T07:34:54.901922Z"
    }
   },
   "outputs": [],
   "source": [
    "# List contents again to see our uploaded file\n",
    "!tellus simulation location ls my-fesom-run dev-local"
   ]
  },
  {
   "cell_type": "markdown",
   "metadata": {},
   "source": [
    "---\n",
    "\n",
    "## 📊 **What You Just Built**\n",
    "\n",
    "### **Your Data Architecture:**\n",
    "```\n",
    "📁 Simulations\n",
    "└── 🌊 my-fesom-run (FESOM2)\n",
    "    ├── 💻 dev-local (associated)\n",
    "    └── 🖥️ hpc-cluster (associated)\n",
    "\n",
    "📍 Locations\n",
    "├── dev-local (local development) - ✅ Working\n",
    "└── hpc-cluster (HPC compute) - ⚠️ Remote (requires SSH access)\n",
    "```"
   ]
  },
  {
   "cell_type": "markdown",
   "metadata": {},
   "source": [
    "---\n",
    "\n",
    "## 🔍 **Advanced Features**"
   ]
  },
  {
   "cell_type": "code",
   "execution_count": null,
   "metadata": {
    "execution": {
     "iopub.execute_input": "2025-09-09T07:34:54.904879Z",
     "iopub.status.busy": "2025-09-09T07:34:54.904692Z",
     "iopub.status.idle": "2025-09-09T07:34:55.934730Z",
     "shell.execute_reply": "2025-09-09T07:34:55.934183Z"
    }
   },
   "outputs": [],
   "source": [
    "# Manage simulation attributes\n",
    "!tellus simulation attrs my-fesom-run"
   ]
  },
  {
   "cell_type": "code",
   "execution_count": null,
   "metadata": {
    "execution": {
     "iopub.execute_input": "2025-09-09T07:34:55.937101Z",
     "iopub.status.busy": "2025-09-09T07:34:55.936886Z",
     "iopub.status.idle": "2025-09-09T07:34:57.025438Z",
     "shell.execute_reply": "2025-09-09T07:34:57.024876Z"
    }
   },
   "outputs": [],
   "source": [
    "# View help for file operations\n",
    "!tellus simulation files --help"
   ]
  },
  {
   "cell_type": "markdown",
   "metadata": {},
   "source": [
    "---\n",
    "\n",
    "## 🎉 **Congratulations!**\n",
    "\n",
    "You've successfully mastered the **Tellus CLI** fundamentals:\n",
    "\n",
    "- ✅ **Simulation Management**: Created and configured simulations\n",
    "- ✅ **Location Management**: Set up local and remote storage\n",
    "- ✅ **Location Associations**: Connected simulations to storage locations\n",
    "- ✅ **File Operations**: Uploaded and listed simulation data\n",
    "- ✅ **Data Architecture**: Built a working multi-location setup\n",
    "\n",
    "### **Key Commands Learned:**\n",
    "- `tellus simulation create/list/show`\n",
    "- `tellus location create/list/test`\n",
    "- `tellus simulation location add/list/ls/put`\n",
    "\n",
    "### **Next Steps:**\n",
    "- Try the [REST API Demo](REST_API_DEMO.ipynb) for modern web-based workflows\n",
    "- Upload actual simulation data using `put` commands\n",
    "- Set up real remote locations with SSH keys\n",
    "- Explore workflow automation features\n",
    "\n",
    "**Welcome to efficient climate model data management!** 🌊✨"
   ]
  },
  {
   "cell_type": "code",
   "execution_count": null,
   "metadata": {
    "execution": {
     "iopub.execute_input": "2025-09-09T07:34:57.027893Z",
     "iopub.status.busy": "2025-09-09T07:34:57.027741Z",
     "iopub.status.idle": "2025-09-09T07:34:57.285041Z",
     "shell.execute_reply": "2025-09-09T07:34:57.284523Z"
    }
   },
   "outputs": [],
   "source": [
    "# Final cleanup\n",
    "!rm -f /tmp/sample_output.txt\n",
    "print(\"✅ CLI Demo completed successfully!\")\n",
    "print(\"🧹 Cleaned up temporary files\")"
   ]
  }
 ],
 "metadata": {
  "kernelspec": {
   "display_name": "Python 3",
   "language": "python",
   "name": "python3"
  },
  "language_info": {
   "codemirror_mode": {
    "name": "ipython",
    "version": 3
   },
   "file_extension": ".py",
   "mimetype": "text/x-python",
   "name": "python",
   "nbconvert_exporter": "python",
   "pygments_lexer": "ipython3",
   "version": "3.9.16"
  }
 },
 "nbformat": 4,
 "nbformat_minor": 4
}

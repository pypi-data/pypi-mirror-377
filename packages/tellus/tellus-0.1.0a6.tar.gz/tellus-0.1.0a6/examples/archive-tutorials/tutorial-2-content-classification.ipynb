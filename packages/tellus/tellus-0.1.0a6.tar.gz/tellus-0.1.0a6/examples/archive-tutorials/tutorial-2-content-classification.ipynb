{
 "cells": [
  {
   "cell_type": "markdown",
   "metadata": {},
   "source": [
    "# Tutorial 2: Content Classification and Selective Archiving\n",
    "\n",
    "In this tutorial, you'll learn how Tellus automatically understands your Earth System Model files and how to create smart, selective archives.\n",
    "\n",
    "## What You'll Learn\n",
    "- How Tellus classifies Earth science file types\n",
    "- Content types vs. importance levels\n",
    "- Model-specific pattern recognition\n",
    "- Creating targeted archives for specific workflows\n",
    "\n",
    "## The Problem: Not All Files Are Equal\n",
    "\n",
    "Your CESM simulation contains hundreds of files, but they serve very different purposes:\n",
    "\n",
    "```\n",
    "🔥 CRITICAL: user_nl_cam (reproduce your exact run)\n",
    "📊 IMPORTANT: *.cam.h0.*.nc (your main output data)\n",
    "📝 USEFUL: cesm.log (debugging information)\n",
    "🗑️ TEMPORARY: *.tmp, *.lock (can be deleted)\n",
    "```\n",
    "\n",
    "Tellus helps you make intelligent decisions about what to archive by automatically classifying files."
   ]
  },
  {
   "cell_type": "markdown",
   "metadata": {},
   "source": [
    "## Understanding Content Types\n",
    "\n",
    "Tellus classifies files into these **content types** based on their role in the simulation:"
   ]
  },
  {
   "cell_type": "code",
   "execution_count": null,
   "metadata": {},
   "outputs": [],
   "source": [
    "# Let's see how Tellus would classify files in a CESM run\n",
    "print(\"🎯 CONTENT TYPES in Earth System Modeling:\")\n",
    "print()\n",
    "print(\"📤 INPUT:        Configuration files, parameters, initial conditions\")\n",
    "print(\"   Examples:     user_nl_*, cesm_in, ssp585_data.nc\")\n",
    "print()\n",
    "print(\"📊 OUTPUT:       Primary model results (what you analyze)\")\n",
    "print(\"   Examples:     *.cam.h0.*.nc, *.pop.h.*.nc, *.clm2.h0.*.nc\")\n",
    "print()\n",
    "print(\"⚙️ CONFIG:       Runtime configuration and namelists\")\n",
    "print(\"   Examples:     namelist.input, icon_master.namelist\")\n",
    "print()\n",
    "print(\"📝 LOG:          Log files and diagnostic output\")\n",
    "print(\"   Examples:     cesm.log, *.stdout, model.log\")\n",
    "print()\n",
    "print(\"🔄 INTERMEDIATE: Restart files, checkpoints, temporary data\")\n",
    "print(\"   Examples:     *.r.*, *.rs.*, restart_files/*\")\n",
    "print()\n",
    "print(\"📈 DIAGNOSTIC:   Analysis output, derived quantities\")\n",
    "print(\"   Examples:     *.cam.h1.*.nc (high-frequency), *_analysis.nc\")\n",
    "print()\n",
    "print(\"📚 METADATA:     Documentation, catalogs, index files\")\n",
    "print(\"   Examples:     README, *.xml, file_lists.txt\")"
   ]
  },
  {
   "cell_type": "markdown",
   "metadata": {},
   "source": [
    "## Understanding Importance Levels\n",
    "\n",
    "Beyond content type, Tellus assigns **importance levels** to help you make storage decisions:"
   ]
  },
  {
   "cell_type": "code",
   "execution_count": null,
   "metadata": {},
   "outputs": [],
   "source": [
    "print(\"🎯 IMPORTANCE LEVELS for Archive Decisions:\")\n",
    "print()\n",
    "print(\"🔥 CRITICAL:     Essential for simulation reproducibility\")\n",
    "print(\"   Examples:     namelists, input datasets, boundary conditions\")\n",
    "print(\"   Strategy:     Always archive, store on most reliable media\")\n",
    "print()\n",
    "print(\"⭐ IMPORTANT:    Valuable for science, hard to regenerate\")\n",
    "print(\"   Examples:     Primary output files, monthly means\")\n",
    "print(\"   Strategy:     Archive for long-term science use\")\n",
    "print()\n",
    "print(\"📋 OPTIONAL:     Nice to have, but can be recreated\")\n",
    "print(\"   Examples:     High-frequency output, diagnostic plots\")\n",
    "print(\"   Strategy:     Archive selectively based on storage budget\")\n",
    "print()\n",
    "print(\"🗑️ TEMPORARY:     Can be safely discarded\")\n",
    "print(\"   Examples:     .tmp files, .lock files, build artifacts\")\n",
    "print(\"   Strategy:     Don't archive (Tellus excludes by default)\")"
   ]
  },
  {
   "cell_type": "markdown",
   "metadata": {},
   "source": [
    "## Hands-On: See Classification in Action\n",
    "\n",
    "Let's create an archive and examine how Tellus classified your files:"
   ]
  },
  {
   "cell_type": "code",
   "execution_count": null,
   "metadata": {},
   "outputs": [],
   "source": [
    "# Create a sample archive to see classification\n",
    "simulation_path = \"/data/cesm_runs/b.e20.BHIST.f19_g17.20thC.2005_2015\"\n",
    "\n",
    "!tellus archive create cesm_classification_demo {simulation_path} \\\n",
    "    --simulation cesm_demo \\\n",
    "    --description \"Demo archive to show file classification\""
   ]
  },
  {
   "cell_type": "code",
   "execution_count": null,
   "metadata": {},
   "outputs": [],
   "source": [
    "# Now examine the detailed classification\n",
    "!tellus archive show cesm_classification_demo"
   ]
  },
  {
   "cell_type": "markdown",
   "metadata": {},
   "source": [
    "### What to Look For\n",
    "\n",
    "In the output above, notice:\n",
    "\n",
    "1. **Content Summary**: Shows how many files of each type were found\n",
    "2. **Size Distribution**: Reveals which content types use the most space\n",
    "3. **File Patterns**: Shows the patterns Tellus used for classification\n",
    "\n",
    "This information helps you make informed decisions about selective archiving!"
   ]
  },
  {
   "cell_type": "markdown",
   "metadata": {},
   "source": [
    "## Model-Specific Intelligence\n",
    "\n",
    "Tellus includes specialized patterns for major Earth System Models:"
   ]
  },
  {
   "cell_type": "code",
   "execution_count": null,
   "metadata": {},
   "outputs": [],
   "source": [
    "print(\"🌍 MODEL-SPECIFIC FILE PATTERNS:\")\n",
    "print()\n",
    "print(\"🌊 CESM (Community Earth System Model):\")\n",
    "print(\"   • Atmosphere: *.cam.h0.*.nc, *.cam.h1.*.nc\")\n",
    "print(\"   • Ocean:      *.pop.h.*.nc, *.pop.h.ecosys.*.nc\")\n",
    "print(\"   • Land:       *.clm2.h0.*.nc, *.clm2.h1.*.nc\")\n",
    "print(\"   • Sea Ice:    *.cice.h.*.nc\")\n",
    "print(\"   • Namelists:  user_nl_*, *_in\")\n",
    "print()\n",
    "print(\"🌀 ICON (ICOsahedral Nonhydrostatic):\")\n",
    "print(\"   • Atmosphere: *_atm_*.nc, *_atmo_*.nc\")\n",
    "print(\"   • Ocean:      *_oce_*.nc, *_ocean_*.nc\")\n",
    "print(\"   • Land:       *_lnd_*.nc, *_land_*.nc\")\n",
    "print(\"   • Config:     icon_master.namelist, NAMELIST_*\")\n",
    "print()\n",
    "print(\"⛈️ WRF (Weather Research and Forecasting):\")\n",
    "print(\"   • Output:     wrfout_*, wrfxtrm_*\")\n",
    "print(\"   • Restart:    wrfrst_*\")\n",
    "print(\"   • Boundary:   wrfbdy_*, wrflowinp_*\")\n",
    "print(\"   • Config:     namelist.input, namelist.wps\")\n",
    "print()\n",
    "print(\"🏔️ ECHAM (European Centre HAMburg):\")\n",
    "print(\"   • Output:     *_ATM_*, *_BOT_*, *_SFC_*\")\n",
    "print(\"   • Config:     namelist.echam, run.def\")"
   ]
  },
  {
   "cell_type": "markdown",
   "metadata": {},
   "source": [
    "## Selective Archiving by Content Type\n",
    "\n",
    "Now let's create targeted archives for different use cases:"
   ]
  },
  {
   "cell_type": "code",
   "execution_count": null,
   "metadata": {},
   "outputs": [],
   "source": [
    "# Archive 1: Critical files only (for reproducibility)\n",
    "!tellus archive create cesm_critical_only {simulation_path} \\\n",
    "    --simulation cesm_demo \\\n",
    "    --importance critical \\\n",
    "    --description \"Only critical files for reproduction\"\n",
    "\n",
    "print(\"✅ Created critical-files-only archive\")"
   ]
  },
  {
   "cell_type": "code",
   "execution_count": null,
   "metadata": {},
   "outputs": [],
   "source": [
    "# Archive 2: Output data only (for analysis)\n",
    "!tellus archive create cesm_analysis_data {simulation_path} \\\n",
    "    --simulation cesm_demo \\\n",
    "    --content-types output,diagnostic \\\n",
    "    --description \"Output and diagnostic data for analysis\"\n",
    "\n",
    "print(\"✅ Created analysis-ready archive\")"
   ]
  },
  {
   "cell_type": "code",
   "execution_count": null,
   "metadata": {},
   "outputs": [],
   "source": [
    "# Archive 3: Restart capability (for continuing simulation)\n",
    "!tellus archive create cesm_restart_ready {simulation_path} \\\n",
    "    --simulation cesm_demo \\\n",
    "    --content-types input,config,intermediate \\\n",
    "    --description \"Everything needed to restart simulation\"\n",
    "\n",
    "print(\"✅ Created restart-ready archive\")"
   ]
  },
  {
   "cell_type": "markdown",
   "metadata": {},
   "source": [
    "## Advanced Pattern Matching\n",
    "\n",
    "For more precise control, combine content types with file patterns:"
   ]
  },
  {
   "cell_type": "code",
   "execution_count": null,
   "metadata": {},
   "outputs": [],
   "source": [
    "# Archive just atmospheric monthly output\n",
    "!tellus archive create cesm_atm_monthly {simulation_path} \\\n",
    "    --simulation cesm_demo \\\n",
    "    --patterns \"*.cam.h0.*.nc\" \\\n",
    "    --content-types output \\\n",
    "    --description \"Atmospheric monthly output only\"\n",
    "\n",
    "# Archive just ocean and sea ice for marine analysis\n",
    "!tellus archive create cesm_marine_components {simulation_path} \\\n",
    "    --simulation cesm_demo \\\n",
    "    --patterns \"*.pop.h.*.nc,*.cice.h.*.nc\" \\\n",
    "    --content-types output \\\n",
    "    --description \"Ocean and sea ice output\"\n",
    "\n",
    "print(\"✅ Created component-specific archives\")"
   ]
  },
  {
   "cell_type": "markdown",
   "metadata": {},
   "source": [
    "## Compare Your Archives\n",
    "\n",
    "Let's see how different selection strategies affect archive size:"
   ]
  },
  {
   "cell_type": "code",
   "execution_count": null,
   "metadata": {},
   "outputs": [],
   "source": [
    "# List all archives to compare sizes\n",
    "!tellus archive list"
   ]
  },
  {
   "cell_type": "markdown",
   "metadata": {},
   "source": [
    "### Archive Size Analysis\n",
    "\n",
    "Notice how dramatically different the archive sizes are:\n",
    "\n",
    "- **Critical files**: Usually smallest (few MB) - just configs and namelists\n",
    "- **Analysis data**: Largest (GB to TB) - contains all your scientific output\n",
    "- **Restart ready**: Medium size - configs plus restart files\n",
    "- **Component-specific**: Varies - depends on which model components you selected\n",
    "\n",
    "This size difference is why selective archiving is so important!"
   ]
  },
  {
   "cell_type": "markdown",
   "metadata": {},
   "source": [
    "## Real-World Workflow Examples\n",
    "\n",
    "Here are common archiving strategies used by climate modeling groups:"
   ]
  },
  {
   "cell_type": "code",
   "execution_count": null,
   "metadata": {},
   "outputs": [],
   "source": [
    "print(\"🌍 REAL-WORLD ARCHIVING WORKFLOWS:\")\n",
    "print()\n",
    "print(\"📚 PUBLICATION WORKFLOW:\")\n",
    "print(\"   1. Archive critical files → Long-term repository\")\n",
    "print(\"   2. Archive analysis data → Working storage\")\n",
    "print(\"   3. After publication → Archive complete dataset\")\n",
    "print()\n",
    "print(\"🔬 COLLABORATIVE RESEARCH:\")\n",
    "print(\"   1. Share configs with team → Critical files archive\")\n",
    "print(\"   2. Share results with collaborators → Output data archive\")\n",
    "print(\"   3. Keep diagnostics locally → Diagnostic archive\")\n",
    "print()\n",
    "print(\"💾 STORAGE MANAGEMENT:\")\n",
    "print(\"   1. Expensive fast storage → Critical + recent output\")\n",
    "print(\"   2. Cheap bulk storage → Complete historical data\")\n",
    "print(\"   3. Temporary storage → Logs and diagnostics\")\n",
    "print()\n",
    "print(\"🚀 OPERATIONAL MODELING:\")\n",
    "print(\"   1. Daily: Archive restart-ready (continue operations)\")\n",
    "print(\"   2. Weekly: Archive output data (for analysis)\")\n",
    "print(\"   3. Monthly: Archive complete runs (for archival)\")"
   ]
  },
  {
   "cell_type": "markdown",
   "metadata": {},
   "source": [
    "## Decision Tree: Choosing Your Archive Strategy\n",
    "\n",
    "```\n",
    "❓ What's your primary goal?\n",
    "├─ 🔬 Scientific Analysis\n",
    "│  ├─ Need all components? → Full output archive\n",
    "│  └─ Specific component? → Component-specific archive\n",
    "│\n",
    "├─ 📝 Reproducibility\n",
    "│  ├─ Just reproduce setup? → Critical files only\n",
    "│  └─ Restart simulation? → Restart-ready archive\n",
    "│\n",
    "├─ 🤝 Collaboration\n",
    "│  ├─ Share configs? → Critical files archive\n",
    "│  ├─ Share results? → Output data archive\n",
    "│  └─ Share everything? → Complete archive\n",
    "│\n",
    "└─ 💾 Storage Management\n",
    "   ├─ Limited space? → Selective by importance\n",
    "   ├─ Different storage tiers? → Multiple targeted archives\n",
    "   └─ Unlimited space? → Complete archive\n",
    "```"
   ]
  },
  {
   "cell_type": "markdown",
   "metadata": {},
   "source": [
    "## Troubleshooting Classification Issues\n",
    "\n",
    "### Problem: Files classified incorrectly\n",
    "**Solution**: Use explicit patterns to override automatic classification:\n",
    "```bash\n",
    "tellus archive create my_archive /path/to/sim \\\n",
    "    --patterns \"specific_file.nc\" \\\n",
    "    --content-types output\n",
    "```\n",
    "\n",
    "### Problem: Missing files in selective archive\n",
    "**Solution**: Check what was actually included:\n",
    "```bash\n",
    "tellus archive show my_archive\n",
    "```\n",
    "Look at the \"File Patterns\" section to see what patterns were used.\n",
    "\n",
    "### Problem: Archive too large/small\n",
    "**Solution**: Use size estimates before creating:\n",
    "```bash\n",
    "# Dry run to see what would be included\n",
    "tellus archive scan /path/to/sim --content-types output\n",
    "```\n",
    "\n",
    "### Problem: Unknown file types not classified\n",
    "**Solution**: Add custom patterns:\n",
    "```bash\n",
    "tellus archive create my_archive /path/to/sim \\\n",
    "    --patterns \"*.custom_ext\" \\\n",
    "    --content-types output\n",
    "```"
   ]
  },
  {
   "cell_type": "markdown",
   "metadata": {},
   "source": [
    "## Practice Exercises\n",
    "\n",
    "Try these exercises with your own simulation data:\n",
    "\n",
    "**Exercise 1**: Create a \"minimal reproducibility\" archive\n",
    "- Only critical files\n",
    "- Should be < 100 MB\n",
    "- Must include all namelists and input data\n",
    "\n",
    "**Exercise 2**: Create a \"analysis-ready\" archive\n",
    "- Primary output data only\n",
    "- Exclude logs and temporary files\n",
    "- Include both monthly and daily output if available\n",
    "\n",
    "**Exercise 3**: Create component-specific archives\n",
    "- Separate archives for atmosphere, ocean, land\n",
    "- Compare file counts and sizes\n",
    "- Which component produces the most data?\n",
    "\n",
    "**Exercise 4**: Design a storage strategy\n",
    "- You have 3 storage tiers: fast (expensive), medium, slow (cheap)\n",
    "- Assign different content types to different tiers\n",
    "- Create archives appropriate for each tier"
   ]
  },
  {
   "cell_type": "markdown",
   "metadata": {},
   "source": [
    "## Summary\n",
    "\n",
    "🎉 **You've mastered intelligent archiving!**\n",
    "\n",
    "**Key concepts learned:**\n",
    "- Content types reflect file roles in simulations\n",
    "- Importance levels guide storage decisions\n",
    "- Model-specific patterns ensure accurate classification\n",
    "- Selective archiving dramatically reduces storage needs\n",
    "- Different workflows require different archive strategies\n",
    "\n",
    "**Next up**: You'll learn advanced extraction techniques, including how to get just the data you need from your archives using date ranges and patterns.\n",
    "\n",
    "---\n",
    "*Next: [Tutorial 3: DateTime-Based Extraction and Filtering](tutorial-3-datetime-extraction.ipynb)*"
   ]
  }
 ],
 "metadata": {
  "kernelspec": {
   "display_name": "Python 3 (ipykernel)",
   "language": "python",
   "name": "python3"
  },
  "language_info": {
   "codemirror_mode": {
    "name": "ipython",
    "version": 3
   },
   "file_extension": ".py",
   "mimetype": "text/x-python",
   "name": "python",
   "nbconvert_exporter": "python",
   "pygments_lexer": "ipython3",
   "version": "3.9.16"
  }
 },
 "nbformat": 4,
 "nbformat_minor": 4
}

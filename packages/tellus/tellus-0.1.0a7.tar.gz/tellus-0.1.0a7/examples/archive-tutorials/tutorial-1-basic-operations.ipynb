{
 "cells": [
  {
   "cell_type": "markdown",
   "metadata": {},
   "source": [
    "# Tutorial 1: Basic Archive Operations\n",
    "\n",
    "Welcome to the Tellus Archive System! This tutorial will teach you the fundamentals of archiving your Earth System Model simulations.\n",
    "\n",
    "## What You'll Learn\n",
    "- Why archiving is important for climate modeling\n",
    "- How to create your first archive\n",
    "- Basic archive management commands\n",
    "- Understanding archive metadata\n",
    "\n",
    "## Prerequisites\n",
    "- A completed simulation directory (we'll use a sample CESM run)\n",
    "- Basic familiarity with command line tools\n",
    "\n",
    "## Real-World Context: Why Archive?\n",
    "\n",
    "Imagine you've just completed a 10-year CESM simulation. Your output directory contains:\n",
    "- 120 monthly output files (10 years × 12 months)\n",
    "- Configuration files and namelists\n",
    "- Log files and diagnostics\n",
    "- Restart files for continuing the simulation\n",
    "\n",
    "Without proper archiving, you might:\n",
    "- Lose data when your compute allocation expires\n",
    "- Struggle to find specific files months later\n",
    "- Duplicate data across multiple storage systems\n",
    "- Have difficulty sharing results with collaborators\n",
    "\n",
    "The Tellus Archive System solves these problems by creating organized, compressed archives with rich metadata."
   ]
  },
  {
   "cell_type": "markdown",
   "metadata": {},
   "source": [
    "## Step 1: Understanding Your Simulation Directory\n",
    "\n",
    "Before archiving, let's examine a typical CESM simulation structure:"
   ]
  },
  {
   "cell_type": "code",
   "execution_count": 1,
   "metadata": {},
   "outputs": [
    {
     "name": "stdout",
     "output_type": "stream",
     "text": [
      "📁 Sample CESM Simulation Structure:\n",
      "📂 /data/cesm_runs/b.e20.BHIST.f19_g17.20thC.2005_2015/\n",
      "  ├── 📂 atm/hist/           # Atmospheric output files\n",
      "  │   ├── b.e20.cam.h0.2005-01.nc\n",
      "  │   ├── b.e20.cam.h0.2005-02.nc\n",
      "  │   └── ... (120 monthly files)\n",
      "  ├── 📂 ocn/hist/           # Ocean output files\n",
      "  │   ├── b.e20.pop.h.2005-01.nc\n",
      "  │   └── ...\n",
      "  ├── 📂 run/                # Configuration and logs\n",
      "  │   ├── cesm_in\n",
      "  │   ├── user_nl_cam\n",
      "  │   └── cesm.log\n",
      "  └── 📂 rest/               # Restart files\n",
      "      ├── 2010-01-01-00000/\n",
      "      └── 2015-01-01-00000/\n"
     ]
    }
   ],
   "source": [
    "# Let's look at our sample simulation directory\n",
    "import os\n",
    "from pathlib import Path\n",
    "\n",
    "# Sample CESM simulation structure\n",
    "simulation_path = \"/data/cesm_runs/b.e20.BHIST.f19_g17.20thC.2005_2015\"\n",
    "\n",
    "print(\"📁 Sample CESM Simulation Structure:\")\n",
    "print(f\"📂 {simulation_path}/\")\n",
    "print(\"  ├── 📂 atm/hist/           # Atmospheric output files\")\n",
    "print(\"  │   ├── b.e20.cam.h0.2005-01.nc\")\n",
    "print(\"  │   ├── b.e20.cam.h0.2005-02.nc\")\n",
    "print(\"  │   └── ... (120 monthly files)\")\n",
    "print(\"  ├── 📂 ocn/hist/           # Ocean output files\")\n",
    "print(\"  │   ├── b.e20.pop.h.2005-01.nc\")\n",
    "print(\"  │   └── ...\")\n",
    "print(\"  ├── 📂 run/                # Configuration and logs\")\n",
    "print(\"  │   ├── cesm_in\")\n",
    "print(\"  │   ├── user_nl_cam\")\n",
    "print(\"  │   └── cesm.log\")\n",
    "print(\"  └── 📂 rest/               # Restart files\")\n",
    "print(\"      ├── 2010-01-01-00000/\")\n",
    "print(\"      └── 2015-01-01-00000/\")"
   ]
  },
  {
   "cell_type": "markdown",
   "metadata": {},
   "source": [
    "## Step 2: Your First Archive\n",
    "\n",
    "Let's create a simple archive of our entire simulation. This is the most basic operation - think of it as creating a \"backup copy\" of your simulation."
   ]
  },
  {
   "cell_type": "code",
   "execution_count": 3,
   "metadata": {},
   "outputs": [
    {
     "name": "stdout",
     "output_type": "stream",
     "text": [
      "zsh:1: command not found: pixi\n"
     ]
    }
   ],
   "source": [
    "# Enable the new archive service\n",
    "import os\n",
    "os.environ['TELLUS_USE_NEW_ARCHIVE_SERVICE'] = 'true'\n",
    "\n",
    "# Create our first archive\n",
    "!pixi run tellus archive create cesm_2005_2015_complete {simulation_path} \\\n",
    "    --simulation cesm_b20_historical \\\n",
    "    --description \"Complete CESM historical simulation 2005-2015\""
   ]
  },
  {
   "cell_type": "markdown",
   "metadata": {},
   "source": [
    "### Understanding the Command\n",
    "\n",
    "Let's break down what just happened:\n",
    "\n",
    "- `tellus archive create` - The main command to create an archive\n",
    "- `cesm_2005_2015_complete` - A unique name for your archive (like a label)\n",
    "- `{simulation_path}` - The directory containing your simulation data. Note that Jupyter replaces this for you.\n",
    "- `--simulation cesm_b20_historical` - Links this archive to a specific simulation ID\n",
    "- `--description` - Human-readable description for future reference\n",
    "\n",
    "**What's happening behind the scenes:**\n",
    "1. Tellus scans all files in your simulation directory\n",
    "2. It automatically classifies files (output data, configs, logs, etc.)\n",
    "3. Creates a compressed tarball with all your data\n",
    "4. Generates metadata describing the archive contents\n",
    "5. Stores everything in your configured archive location"
   ]
  },
  {
   "cell_type": "markdown",
   "metadata": {},
   "source": [
    "## Step 3: Viewing Your Archives\n",
    "\n",
    "Now let's see what archives we have:"
   ]
  },
  {
   "cell_type": "code",
   "execution_count": null,
   "metadata": {},
   "outputs": [],
   "source": [
    "# List all your archives\n",
    "!tellus archive list"
   ]
  },
  {
   "cell_type": "markdown",
   "metadata": {},
   "source": [
    "This command shows you:\n",
    "- Archive names (your unique identifiers)\n",
    "- When they were created\n",
    "- What simulation they contain\n",
    "- How much data is stored\n",
    "- Where they're located"
   ]
  },
  {
   "cell_type": "markdown",
   "metadata": {},
   "source": [
    "## Step 4: Examining Archive Details\n",
    "\n",
    "Let's look at the details of our archive:"
   ]
  },
  {
   "cell_type": "code",
   "execution_count": null,
   "metadata": {},
   "outputs": [],
   "source": [
    "# Show detailed information about our archive\n",
    "!tellus archive show cesm_2005_2015_complete"
   ]
  },
  {
   "cell_type": "markdown",
   "metadata": {},
   "source": [
    "### Understanding Archive Metadata\n",
    "\n",
    "The detailed view shows you:\n",
    "\n",
    "**📋 Basic Information:**\n",
    "- Archive ID and creation time\n",
    "- Associated simulation\n",
    "- Storage location and size\n",
    "\n",
    "**📊 File Inventory:**\n",
    "- Total number of files archived\n",
    "- Breakdown by content type (output, input, logs, etc.)\n",
    "- Size distribution\n",
    "\n",
    "**🔍 Content Classification:**\n",
    "Tellus automatically identified different types of files:\n",
    "- **OUTPUT**: Your primary simulation results (.nc files)\n",
    "- **CONFIG**: Configuration files (namelists, input files)\n",
    "- **LOG**: Log files and diagnostic output\n",
    "- **INTERMEDIATE**: Restart files and checkpoints\n",
    "\n",
    "This classification will be crucial for selective extraction later!"
   ]
  },
  {
   "cell_type": "markdown",
   "metadata": {},
   "source": [
    "## Step 5: Creating Multiple Archives (Real-World Scenario)\n",
    "\n",
    "In practice, you often want separate archives for different purposes. Let's create a few more targeted archives:"
   ]
  },
  {
   "cell_type": "code",
   "execution_count": null,
   "metadata": {},
   "outputs": [],
   "source": [
    "# Archive just the configuration files (small, critical data)\n",
    "!tellus archive create cesm_2005_2015_configs {simulation_path} \\\n",
    "    --simulation cesm_b20_historical \\\n",
    "    --content-types config,input \\\n",
    "    --description \"Configuration and input files only\"\n",
    "\n",
    "# Archive just the atmospheric output (might be what you need most often)\n",
    "!tellus archive create cesm_2005_2015_atm_output {simulation_path} \\\n",
    "    --simulation cesm_b20_historical \\\n",
    "    --patterns \"atm/hist/*.nc\" \\\n",
    "    --description \"Atmospheric output files only\""
   ]
  },
  {
   "cell_type": "markdown",
   "metadata": {},
   "source": [
    "### Why Create Multiple Archives?\n",
    "\n",
    "**Storage Strategy**: \n",
    "- Put critical configs on expensive but reliable storage\n",
    "- Put large output data on cheaper bulk storage\n",
    "- Keep frequently accessed data on fast storage\n",
    "\n",
    "**Access Patterns**:\n",
    "- Collaborators might only need output data, not logs\n",
    "- You might want to restart simulations (need configs + restart files)\n",
    "- Publications might only require specific variables\n",
    "\n",
    "**Transfer Efficiency**:\n",
    "- Smaller archives transfer faster\n",
    "- You can download just what you need"
   ]
  },
  {
   "cell_type": "markdown",
   "metadata": {},
   "source": [
    "## Step 6: Check Your Archive List Again\n",
    "\n",
    "Let's see all our archives now:"
   ]
  },
  {
   "cell_type": "code",
   "execution_count": null,
   "metadata": {},
   "outputs": [],
   "source": [
    "# List all archives to see our strategy in action\n",
    "!tellus archive list"
   ]
  },
  {
   "cell_type": "markdown",
   "metadata": {},
   "source": [
    "Notice how you now have different archives for different purposes, each with different sizes reflecting their contents."
   ]
  },
  {
   "cell_type": "markdown",
   "metadata": {},
   "source": [
    "## Decision Guide: When to Use Different Archive Strategies\n",
    "\n",
    "```\n",
    "📋 COMPLETE ARCHIVE\n",
    "✅ Use when: \n",
    "   - Simulation is finished and you want everything preserved\n",
    "   - Moving to long-term storage\n",
    "   - Sharing complete dataset with collaborators\n",
    "❌ Avoid when: \n",
    "   - You have limited storage space\n",
    "   - You only need specific outputs\n",
    "\n",
    "📋 SELECTIVE ARCHIVES\n",
    "✅ Use when:\n",
    "   - You want faster access to specific data types\n",
    "   - Different storage policies for different data\n",
    "   - Collaborators need only certain files\n",
    "❌ Avoid when:\n",
    "   - You're unsure what you'll need later\n",
    "   - Archive management overhead is a concern\n",
    "```"
   ]
  },
  {
   "cell_type": "markdown",
   "metadata": {},
   "source": [
    "## Troubleshooting Common Issues\n",
    "\n",
    "### Problem: \"Archive already exists\"\n",
    "**Solution**: Use a different archive name or add `--force` to overwrite\n",
    "\n",
    "### Problem: \"No files found matching pattern\"\n",
    "**Solution**: Check your file patterns. Use `ls` to verify files exist:\n",
    "```bash\n",
    "ls /path/to/simulation/atm/hist/*.nc\n",
    "```\n",
    "\n",
    "### Problem: \"Insufficient storage space\"\n",
    "**Solution**: \n",
    "- Use selective archiving with `--content-types` or `--patterns`\n",
    "- Check available space with `tellus archive cache status`\n",
    "- Configure a different storage location\n",
    "\n",
    "### Problem: Archive seems too small/large\n",
    "**Solution**: Use `tellus archive show <name>` to see exactly what was included"
   ]
  },
  {
   "cell_type": "markdown",
   "metadata": {},
   "source": [
    "## Summary and Next Steps\n",
    "\n",
    "🎉 **Congratulations!** You've learned the basics of archive creation and management.\n",
    "\n",
    "**What you accomplished:**\n",
    "- Created your first complete simulation archive\n",
    "- Learned to create selective archives for different purposes\n",
    "- Understood archive metadata and file classification\n",
    "- Developed a strategy for organizing multiple archives\n",
    "\n",
    "**In the next tutorial**, you'll learn:\n",
    "- How Tellus classifies different types of Earth science files\n",
    "- Advanced filtering by content type and importance\n",
    "- Model-specific patterns for CESM, ICON, WRF, and other models\n",
    "- Creating archives optimized for specific use cases\n",
    "\n",
    "**Practice Exercise**: \n",
    "Try creating archives for your own simulation data using different strategies:\n",
    "1. A complete archive for long-term storage\n",
    "2. A config-only archive for reproduction\n",
    "3. An output-only archive for analysis\n",
    "\n",
    "---\n",
    "*Next: [Tutorial 2: Content Classification and Selective Archiving](tutorial-2-content-classification.ipynb)*"
   ]
  }
 ],
 "metadata": {
  "kernelspec": {
   "display_name": "Python 3 (ipykernel)",
   "language": "python",
   "name": "python3"
  },
  "language_info": {
   "codemirror_mode": {
    "name": "ipython",
    "version": 3
   },
   "file_extension": ".py",
   "mimetype": "text/x-python",
   "name": "python",
   "nbconvert_exporter": "python",
   "pygments_lexer": "ipython3",
   "version": "3.9.16"
  }
 },
 "nbformat": 4,
 "nbformat_minor": 4
}

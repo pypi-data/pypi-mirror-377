{
 "cells": [
  {
   "cell_type": "markdown",
   "metadata": {},
   "source": [
    "# 🌐 Tellus REST API Demo: Modern Web Interface\n",
    "\n",
    "*A hands-on walkthrough of the Tellus REST API and CLI integration*\n",
    "\n",
    "## 🎯 What You'll Learn\n",
    "In 15 minutes, you'll learn how to use the Tellus REST API both directly and through CLI integration.\n",
    "\n",
    "**Prerequisites**: Complete the [CLI Demo](CLI_DEMO.ipynb) first to understand the basics.\n",
    "\n",
    "---"
   ]
  },
  {
   "cell_type": "markdown",
   "metadata": {},
   "source": [
    "## 🚀 **Setup**\n",
    "\n",
    "First, let's prepare our environment:"
   ]
  },
  {
   "cell_type": "code",
   "execution_count": null,
   "metadata": {},
   "outputs": [],
   "source": [
    "# Check we're in the right directory\n",
    "!pwd\n",
    "print(\"\\n🌐 Setting up REST API demo environment...\")"
   ]
  },
  {
   "cell_type": "code",
   "execution_count": null,
   "metadata": {},
   "outputs": [],
   "source": [
    "# Clean up any previous test data for a fresh start\n",
    "!rm -f simulations.json locations.json\n",
    "# Create temp directory for demo\n",
    "!mkdir -p /tmp/api-demo-storage\n",
    "print(\"✅ Clean slate ready for API demo!\")"
   ]
  },
  {
   "cell_type": "markdown",
   "metadata": {},
   "source": [
    "## 🛠️ **Start API Server**\n",
    "\n",
    "**Important**: The REST API requires a running server. In a separate terminal, run:\n",
    "```bash\n",
    "python -m tellus.interfaces.web.main\n",
    "```\n",
    "\n",
    "The server should start on http://localhost:1968"
   ]
  },
  {
   "cell_type": "code",
   "execution_count": null,
   "metadata": {},
   "outputs": [],
   "source": [
    "# Test if API server is running\n",
    "import requests\n",
    "import time\n",
    "\n",
    "def test_api_server():\n",
    "    try:\n",
    "        response = requests.get(\"http://localhost:1968/api/v0a3/health\", timeout=5)\n",
    "        if response.status_code == 200:\n",
    "            print(\"✅ API Server is running!\")\n",
    "            print(f\"🔍 Health check: {response.json()}\")\n",
    "            return True\n",
    "    except requests.exceptions.RequestException as e:\n",
    "        print(\"❌ API Server is not running\")\n",
    "        print(f\"📋 Error: {e}\")\n",
    "        print(\"\\n🚨 Please start the API server in another terminal:\")\n",
    "        print(\"   python -m tellus.interfaces.web.main\")\n",
    "        return False\n",
    "\n",
    "api_available = test_api_server()"
   ]
  },
  {
   "cell_type": "markdown",
   "metadata": {},
   "source": [
    "---\n",
    "\n",
    "## 🌐 **Part 1: Direct REST API Usage**"
   ]
  },
  {
   "cell_type": "markdown",
   "metadata": {},
   "source": [
    "### API Health and Documentation"
   ]
  },
  {
   "cell_type": "code",
   "execution_count": null,
   "metadata": {},
   "outputs": [],
   "source": [
    "# Check the API health\n",
    "!curl -s http://localhost:1968/api/v0a3/health | python -m json.tool"
   ]
  },
  {
   "cell_type": "code",
   "execution_count": null,
   "metadata": {},
   "outputs": [],
   "source": [
    "# View API documentation (open this in your browser)\n",
    "print(\"📚 API Documentation available at:\")\n",
    "print(\"   http://localhost:1968/api/v0a3/docs\")\n",
    "print(\"   http://localhost:1968/api/v0a3/redoc\")"
   ]
  },
  {
   "cell_type": "markdown",
   "metadata": {},
   "source": [
    "### Create Simulations via REST API"
   ]
  },
  {
   "cell_type": "code",
   "execution_count": null,
   "metadata": {},
   "outputs": [],
   "source": [
    "# Create a simulation using direct HTTP POST\n",
    "!curl -s -X POST \"http://localhost:1968/api/v0a3/simulations/\" \\\n",
    "     -H \"Content-Type: application/json\" \\\n",
    "     -d '{\"id\": \"api-demo-sim\", \"model_id\": \"ICON\"}' | python -m json.tool"
   ]
  },
  {
   "cell_type": "code",
   "execution_count": null,
   "metadata": {},
   "outputs": [],
   "source": [
    "# List simulations via REST\n",
    "!curl -s http://localhost:1968/api/v0a3/simulations/ | python -m json.tool"
   ]
  },
  {
   "cell_type": "code",
   "execution_count": null,
   "metadata": {},
   "outputs": [],
   "source": [
    "# Get specific simulation details\n",
    "!curl -s http://localhost:1968/api/v0a3/simulations/api-demo-sim | python -m json.tool"
   ]
  },
  {
   "cell_type": "markdown",
   "metadata": {},
   "source": [
    "### Create Locations via REST API"
   ]
  },
  {
   "cell_type": "code",
   "execution_count": null,
   "metadata": {},
   "outputs": [],
   "source": [
    "# Create a location using direct HTTP POST\n",
    "!curl -s -X POST \"http://localhost:1968/api/v0a3/locations/\" \\\n",
    "     -H \"Content-Type: application/json\" \\\n",
    "     -d '{\"name\": \"api-local\", \"protocol\": \"file\", \"kinds\": [\"disk\"], \"path\": \"/tmp/api-demo-storage\"}' | python -m json.tool"
   ]
  },
  {
   "cell_type": "code",
   "execution_count": null,
   "metadata": {},
   "outputs": [],
   "source": [
    "# List locations via REST\n",
    "!curl -s http://localhost:1968/api/v0a3/locations/ | python -m json.tool"
   ]
  },
  {
   "cell_type": "markdown",
   "metadata": {},
   "source": [
    "---\n",
    "\n",
    "## 🔄 **Part 2: CLI with REST API Backend**\n",
    "\n",
    "Now let's switch the CLI to use the REST API backend:"
   ]
  },
  {
   "cell_type": "code",
   "execution_count": null,
   "metadata": {},
   "outputs": [],
   "source": [
    "# Enable REST API mode for CLI\n",
    "import os\n",
    "os.environ['TELLUS_CLI_USE_REST_API'] = 'true'\n",
    "print(\"✅ REST API mode enabled for CLI!\")\n",
    "print(\"🔍 All CLI commands will now go through the REST API\")"
   ]
  },
  {
   "cell_type": "markdown",
   "metadata": {},
   "source": [
    "### CLI Commands via REST API"
   ]
  },
  {
   "cell_type": "code",
   "execution_count": null,
   "metadata": {},
   "outputs": [],
   "source": [
    "# Same CLI commands, now powered by REST API! ✨\n",
    "!tellus simulation create cli-via-api --model-id FESOM2\n",
    "print(\"\\n🔍 Behind the scenes: CLI → REST API → Response\")"
   ]
  },
  {
   "cell_type": "code",
   "execution_count": null,
   "metadata": {},
   "outputs": [],
   "source": [
    "# List simulations (via REST API backend)\n",
    "!tellus simulation list"
   ]
  },
  {
   "cell_type": "code",
   "execution_count": null,
   "metadata": {},
   "outputs": [],
   "source": [
    "# Create location via CLI (but using REST API backend)\n",
    "!tellus location create cli-api-local --protocol=file --kind=disk --path=/tmp/api-demo-storage"
   ]
  },
  {
   "cell_type": "code",
   "execution_count": null,
   "metadata": {},
   "outputs": [],
   "source": [
    "# List locations (via REST API backend)\n",
    "!tellus location list"
   ]
  },
  {
   "cell_type": "markdown",
   "metadata": {},
   "source": [
    "### Cross-Verify: REST API sees CLI-created data"
   ]
  },
  {
   "cell_type": "code",
   "execution_count": null,
   "metadata": {},
   "outputs": [],
   "source": [
    "# Verify that data created via CLI is visible in REST API\n",
    "print(\"🔍 Checking if CLI-created simulation is visible via direct REST API:\")\n",
    "!curl -s http://localhost:1968/api/v0a3/simulations/cli-via-api | python -m json.tool"
   ]
  },
  {
   "cell_type": "code",
   "execution_count": null,
   "metadata": {},
   "outputs": [],
   "source": [
    "print(\"🔍 Checking if CLI-created location is visible via direct REST API:\")\n",
    "!curl -s http://localhost:1968/api/v0a3/locations/cli-api-local | python -m json.tool"
   ]
  },
  {
   "cell_type": "markdown",
   "metadata": {},
   "source": [
    "---\n",
    "\n",
    "## 🎯 **Part 3: Advanced API Features**"
   ]
  },
  {
   "cell_type": "markdown",
   "metadata": {},
   "source": [
    "### Simulation-Location Associations"
   ]
  },
  {
   "cell_type": "code",
   "execution_count": null,
   "metadata": {},
   "outputs": [],
   "source": [
    "# Associate simulation with location via CLI (REST backend)\n",
    "!tellus simulation location add cli-via-api cli-api-local"
   ]
  },
  {
   "cell_type": "code",
   "execution_count": null,
   "metadata": {},
   "outputs": [],
   "source": [
    "# List associations\n",
    "!tellus simulation location list cli-via-api"
   ]
  },
  {
   "cell_type": "markdown",
   "metadata": {},
   "source": [
    "### Performance Comparison"
   ]
  },
  {
   "cell_type": "code",
   "execution_count": null,
   "metadata": {},
   "outputs": [],
   "source": [
    "import time\n",
    "\n",
    "# Time CLI operation via REST API\n",
    "start = time.time()\n",
    "!tellus simulation list > /dev/null 2>&1\n",
    "rest_time = time.time() - start\n",
    "\n",
    "print(f\"⏱️  CLI via REST API: {rest_time:.3f}s\")\n",
    "\n",
    "# Switch to direct mode for comparison\n",
    "os.environ['TELLUS_CLI_USE_REST_API'] = 'false'\n",
    "start = time.time()\n",
    "!tellus simulation list > /dev/null 2>&1\n",
    "direct_time = time.time() - start\n",
    "\n",
    "print(f\"⏱️  CLI direct mode: {direct_time:.3f}s\")\n",
    "print(f\"📊 REST API overhead: {(rest_time - direct_time):.3f}s\")\n",
    "\n",
    "# Switch back to REST API mode\n",
    "os.environ['TELLUS_CLI_USE_REST_API'] = 'true'"
   ]
  },
  {
   "cell_type": "markdown",
   "metadata": {},
   "source": [
    "---\n",
    "\n",
    "## 📊 **What You Just Built**\n",
    "\n",
    "### **API Architecture:**\n",
    "```\n",
    "🌐 REST API Server (localhost:1968)\n",
    "├── 📋 /api/v0a3/docs (OpenAPI documentation)\n",
    "├── 🔍 /api/v0a3/health (health check)\n",
    "├── 🧪 /api/v0a3/simulations/ (simulation management)\n",
    "└── 📍 /api/v0a3/locations/ (location management)\n",
    "\n",
    "💻 CLI Integration\n",
    "├── Direct mode: CLI → Services → Database\n",
    "└── REST mode: CLI → HTTP → API → Services → Database\n",
    "\n",
    "📊 Data Created\n",
    "├── api-demo-sim (via direct REST API)\n",
    "├── cli-via-api (via CLI using REST backend)\n",
    "├── api-local (via direct REST API)\n",
    "└── cli-api-local (via CLI using REST backend)\n",
    "```"
   ]
  },
  {
   "cell_type": "markdown",
   "metadata": {},
   "source": [
    "---\n",
    "\n",
    "## 🔍 **API Integration Patterns**"
   ]
  },
  {
   "cell_type": "code",
   "execution_count": null,
   "metadata": {},
   "outputs": [],
   "source": [
    "# Using Python requests for more complex operations\n",
    "import requests\n",
    "import json\n",
    "\n",
    "# Example: Bulk operations via API\n",
    "base_url = \"http://localhost:1968/api/v0a3\"\n",
    "\n",
    "# Get all simulations\n",
    "response = requests.get(f\"{base_url}/simulations/\")\n",
    "if response.status_code == 200:\n",
    "    simulations = response.json()\n",
    "    print(f\"📋 Found {len(simulations)} simulations:\")\n",
    "    for sim in simulations:\n",
    "        print(f\"   🧪 {sim['id']} ({sim['model_id']})\")\n",
    "else:\n",
    "    print(f\"❌ API request failed: {response.status_code}\")"
   ]
  },
  {
   "cell_type": "code",
   "execution_count": null,
   "metadata": {},
   "outputs": [],
   "source": [
    "# Example: Error handling with API\n",
    "try:\n",
    "    # Try to create duplicate simulation\n",
    "    duplicate_data = {\"id\": \"api-demo-sim\", \"model_id\": \"DUPLICATE\"}\n",
    "    response = requests.post(f\"{base_url}/simulations/\", json=duplicate_data)\n",
    "    \n",
    "    if response.status_code == 422:  # Validation error\n",
    "        print(\"✅ API properly rejects duplicate simulation\")\n",
    "        print(f\"📋 Error details: {response.json()}\")\n",
    "    else:\n",
    "        print(f\"🤔 Unexpected response: {response.status_code}\")\n",
    "        \n",
    "except requests.exceptions.RequestException as e:\n",
    "    print(f\"❌ Request failed: {e}\")"
   ]
  },
  {
   "cell_type": "markdown",
   "metadata": {},
   "source": [
    "---\n",
    "\n",
    "## 🎉 **Congratulations!**\n",
    "\n",
    "You've mastered the **Tellus REST API** and its integration with the CLI:\n",
    "\n",
    "- ✅ **Direct API Usage**: Created resources using HTTP calls\n",
    "- ✅ **CLI Integration**: Used CLI with REST API backend\n",
    "- ✅ **Cross-Verification**: Confirmed data consistency across interfaces\n",
    "- ✅ **Performance Analysis**: Measured REST API overhead\n",
    "- ✅ **Error Handling**: Explored API error responses\n",
    "- ✅ **Programming Integration**: Used Python requests for bulk operations\n",
    "\n",
    "### **Key API Endpoints:**\n",
    "- `GET /api/v0a3/health` - Health check\n",
    "- `GET /api/v0a3/simulations/` - List simulations\n",
    "- `POST /api/v0a3/simulations/` - Create simulation\n",
    "- `GET /api/v0a3/locations/` - List locations\n",
    "- `POST /api/v0a3/locations/` - Create location\n",
    "\n",
    "### **Integration Modes:**\n",
    "- **Direct CLI**: Fast, local operations\n",
    "- **REST API CLI**: Network-based, suitable for microservices\n",
    "- **Direct HTTP**: Full programmatic control\n",
    "\n",
    "### **Next Steps:**\n",
    "- Build web applications consuming the REST API\n",
    "- Set up automated workflows using HTTP calls\n",
    "- Explore the full API documentation at `/docs`\n",
    "- Integrate with monitoring and alerting systems\n",
    "\n",
    "**Welcome to modern, API-first climate model data management!** 🌐✨"
   ]
  },
  {
   "cell_type": "code",
   "execution_count": null,
   "metadata": {},
   "outputs": [],
   "source": [
    "# Final cleanup - disable REST API mode\n",
    "import os\n",
    "if 'TELLUS_CLI_USE_REST_API' in os.environ:\n",
    "    del os.environ['TELLUS_CLI_USE_REST_API']\n",
    "print(\"✅ REST API Demo completed successfully!\")\n",
    "print(\"🧹 REST API mode disabled - back to direct service calls\")\n",
    "print(\"\\n🛑 Don't forget to stop the API server when you're done:\")\n",
    "print(\"   Ctrl+C in the terminal running 'python -m tellus.interfaces.web.main'\")"
   ]
  }
 ],
 "metadata": {
  "kernelspec": {
   "display_name": "Python 3",
   "language": "python",
   "name": "python3"
  },
  "language_info": {
   "codemirror_mode": {
    "name": "ipython",
    "version": 3
   },
   "file_extension": ".py",
   "mimetype": "text/x-python",
   "name": "python",
   "nbconvert_exporter": "python",
   "pygments_lexer": "ipython3",
   "version": "3.10.6"
  }
 },
 "nbformat": 4,
 "nbformat_minor": 4
}

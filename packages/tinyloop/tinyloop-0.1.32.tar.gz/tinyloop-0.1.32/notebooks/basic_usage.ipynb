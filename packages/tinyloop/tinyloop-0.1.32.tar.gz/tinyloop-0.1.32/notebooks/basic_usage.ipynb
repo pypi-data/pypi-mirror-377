{
 "cells": [
  {
   "cell_type": "code",
   "execution_count": null,
   "id": "6ac3674a",
   "metadata": {},
   "outputs": [],
   "source": [
    "from rich import print as rprint"
   ]
  },
  {
   "cell_type": "markdown",
   "id": "025e7eb5",
   "metadata": {},
   "source": [
    "### Basic LLM call\n"
   ]
  },
  {
   "cell_type": "markdown",
   "id": "ccdec61d",
   "metadata": {},
   "source": [
    "#### Sync\n"
   ]
  },
  {
   "cell_type": "code",
   "execution_count": null,
   "id": "383941ce",
   "metadata": {},
   "outputs": [],
   "source": [
    "from tinyloop.inference.litellm import LLM\n",
    "\n",
    "llm = LLM(model=\"openai/gpt-3.5-turbo\", temperature=0.1)\n",
    "\n",
    "response = llm(prompt=\"Hello, how are you?\")\n",
    "rprint(response)"
   ]
  },
  {
   "cell_type": "code",
   "execution_count": null,
   "id": "8e746825",
   "metadata": {},
   "outputs": [],
   "source": [
    "llm.get_history()"
   ]
  },
  {
   "cell_type": "markdown",
   "id": "a57ce22e",
   "metadata": {},
   "source": [
    "#### Async\n"
   ]
  },
  {
   "cell_type": "code",
   "execution_count": null,
   "id": "ede8fad6",
   "metadata": {},
   "outputs": [],
   "source": [
    "from tinyloop.inference.litellm import LLM\n",
    "\n",
    "llm = LLM(model=\"openai/gpt-3.5-turbo\", temperature=0.1)\n",
    "\n",
    "response = await llm.acall(prompt=\"Hello, how are you?\")\n",
    "rprint(response)"
   ]
  },
  {
   "cell_type": "code",
   "execution_count": null,
   "id": "a0b49802",
   "metadata": {},
   "outputs": [],
   "source": [
    "llm.get_history()"
   ]
  },
  {
   "cell_type": "markdown",
   "id": "0ed7391a",
   "metadata": {},
   "source": [
    "### Streaming\n"
   ]
  },
  {
   "cell_type": "markdown",
   "id": "99ebefc5",
   "metadata": {},
   "source": [
    "#### Async\n"
   ]
  },
  {
   "cell_type": "code",
   "execution_count": null,
   "id": "9d269276",
   "metadata": {},
   "outputs": [],
   "source": [
    "from tinyloop.inference.litellm import LLM\n",
    "from rich import print as rprint\n",
    "\n",
    "llm = LLM(model=\"openai/gpt-3.5-turbo\", temperature=0.1)\n",
    "\n",
    "response = await llm.acall(prompt=\"Hello, how are you?\", stream=True)\n",
    "async for chunk in response:\n",
    "    rprint(chunk)"
   ]
  },
  {
   "cell_type": "code",
   "execution_count": null,
   "id": "bd47a1a6",
   "metadata": {},
   "outputs": [],
   "source": [
    "llm.get_history()"
   ]
  },
  {
   "cell_type": "markdown",
   "id": "7f5174a4",
   "metadata": {},
   "source": [
    "### Structured outputs\n"
   ]
  },
  {
   "cell_type": "markdown",
   "id": "f5e7ecff",
   "metadata": {},
   "source": [
    "#### Sync\n"
   ]
  },
  {
   "cell_type": "code",
   "execution_count": null,
   "id": "104a6551",
   "metadata": {},
   "outputs": [],
   "source": [
    "from tinyloop.inference.litellm import LLM\n",
    "from pydantic import BaseModel\n",
    "\n",
    "llm = LLM(\n",
    "    model=\"openrouter/qwen/qwen-2.5-72b-instruct\",\n",
    "    temperature=0.1,\n",
    ")\n",
    "\n",
    "\n",
    "class CalendarEvent(BaseModel):\n",
    "    name: str\n",
    "    date: str\n",
    "    participants: list[str]\n",
    "\n",
    "\n",
    "class EventsList(BaseModel):\n",
    "    events: list[CalendarEvent]\n",
    "\n",
    "\n",
    "response = llm(\n",
    "    prompt=\"List 5 important events in the XIX century\", response_format=EventsList\n",
    ")\n",
    "rprint(response)"
   ]
  },
  {
   "cell_type": "markdown",
   "id": "b74ece61",
   "metadata": {},
   "source": [
    "#### Async\n"
   ]
  },
  {
   "cell_type": "code",
   "execution_count": null,
   "id": "cb6fc2f2",
   "metadata": {},
   "outputs": [],
   "source": [
    "from tinyloop.inference.litellm import LLM\n",
    "\n",
    "llm = LLM(model=\"openai/gpt-3.5-turbo\", temperature=0.1)\n",
    "\n",
    "response = await llm.acall(prompt=\"Hello, how are you?\")\n",
    "rprint(response)"
   ]
  },
  {
   "cell_type": "code",
   "execution_count": null,
   "id": "936b91f1",
   "metadata": {},
   "outputs": [],
   "source": [
    "from tinyloop.inference.litellm import LLM\n",
    "from pydantic import BaseModel\n",
    "\n",
    "llm = LLM(\n",
    "    model=\"anthropic/claude-3-5-haiku-20241022\",\n",
    "    temperature=0.1,\n",
    ")\n",
    "\n",
    "\n",
    "class CalendarEvent(BaseModel):\n",
    "    name: str\n",
    "    date: str\n",
    "    participants: list[str]\n",
    "\n",
    "\n",
    "class EventsList(BaseModel):\n",
    "    events: list[CalendarEvent]\n",
    "\n",
    "\n",
    "response = await llm.acall(\n",
    "    prompt=\"List 5 important events in the XIX century\", response_format=EventsList\n",
    ")\n",
    "rprint(response)"
   ]
  },
  {
   "cell_type": "code",
   "execution_count": null,
   "id": "f59206b3",
   "metadata": {},
   "outputs": [],
   "source": [
    "from tinyloop.inference.litellm import LLM\n",
    "from pydantic import BaseModel\n",
    "\n",
    "llm = LLM(\n",
    "    model=\"openrouter/google/gemini-2.5-flash\",\n",
    "    temperature=0.1,\n",
    ")\n",
    "\n",
    "\n",
    "class CalendarEvent(BaseModel):\n",
    "    name: str\n",
    "    date: str\n",
    "    participants: list[str]\n",
    "\n",
    "\n",
    "class EventsList(BaseModel):\n",
    "    events: list[CalendarEvent]\n",
    "\n",
    "\n",
    "response = await llm.acall(\n",
    "    prompt=\"List 5 important events in the XIX century\", response_format=EventsList\n",
    ")\n",
    "rprint(response)"
   ]
  },
  {
   "cell_type": "markdown",
   "id": "9c23d4e7",
   "metadata": {},
   "source": [
    "### Vision\n"
   ]
  },
  {
   "cell_type": "markdown",
   "id": "18b6f33f",
   "metadata": {},
   "source": [
    "#### Sync\n"
   ]
  },
  {
   "cell_type": "markdown",
   "id": "cc700dde",
   "metadata": {},
   "source": [
    "##### From PIL\n"
   ]
  },
  {
   "cell_type": "code",
   "execution_count": null,
   "id": "baac88b7",
   "metadata": {},
   "outputs": [],
   "source": [
    "from tinyloop.inference.litellm import LLM\n",
    "from PIL import Image as PILImage\n",
    "from tinyloop.features.vision import Image\n",
    "\n",
    "llm = LLM(\n",
    "    model=\"openai/gpt-4.1-nano\",\n",
    "    temperature=0.1,\n",
    ")\n",
    "\n",
    "\n",
    "# Read a local JPG file as PIL image\n",
    "pil_image = PILImage.open(\"sutton.jpg\")\n",
    "\n",
    "# Create tinyloop Image from PIL image\n",
    "image = Image.from_PIL(pil_image)\n",
    "\n",
    "\n",
    "response = llm(prompt=\"Describe the image\", images=[image])\n",
    "\n",
    "rprint(response)"
   ]
  },
  {
   "cell_type": "markdown",
   "id": "d4714c5a",
   "metadata": {},
   "source": [
    "##### From File\n"
   ]
  },
  {
   "cell_type": "code",
   "execution_count": null,
   "id": "bce2fce2",
   "metadata": {},
   "outputs": [],
   "source": [
    "from tinyloop.inference.litellm import LLM\n",
    "from PIL import Image as PILImage\n",
    "from tinyloop.features.vision import Image\n",
    "\n",
    "llm = LLM(\n",
    "    model=\"anthropic/claude-3-7-sonnet-20250219\",\n",
    "    temperature=0.1,\n",
    ")\n",
    "\n",
    "# Create tinyloop Image from PIL image\n",
    "image = Image.from_file(\"sutton.jpg\")\n",
    "\n",
    "\n",
    "response = llm(prompt=\"Describe the image\", images=[image])\n",
    "\n",
    "rprint(response)"
   ]
  },
  {
   "cell_type": "markdown",
   "id": "a001134d",
   "metadata": {},
   "source": [
    "##### From URL\n"
   ]
  },
  {
   "cell_type": "code",
   "execution_count": null,
   "id": "ee3c493e",
   "metadata": {},
   "outputs": [],
   "source": [
    "from tinyloop.inference.litellm import LLM\n",
    "from PIL import Image as PILImage\n",
    "from tinyloop.features.vision import Image\n",
    "import litellm\n",
    "\n",
    "llm = LLM(\n",
    "    model=\"openrouter/google/gemini-2.5-pro\",\n",
    "    temperature=0.1,\n",
    ")\n",
    "litellm._turn_on_debug()\n",
    "\n",
    "# Create tinyloop Image from PIL image\n",
    "url = \"https://images.ctfassets.net/cnu0m8re1exe/2xdqQSvfebktASbHvILYH5/fcc91130ad1ff329765595b669549d8d/Meet-Jumping-Spider-Adorable-Arachnid.jpg?fm=jpg&fl=progressive&w=660&h=433&fit=fill\"\n",
    "image = Image.from_url(url)\n",
    "\n",
    "\n",
    "response = llm(prompt=\"Describe the image\", images=[image])\n",
    "\n",
    "rprint(response)"
   ]
  },
  {
   "cell_type": "markdown",
   "id": "bc3f943b",
   "metadata": {},
   "source": [
    "#### Async\n"
   ]
  },
  {
   "cell_type": "markdown",
   "id": "bdbde200",
   "metadata": {},
   "source": [
    "##### From PIL\n"
   ]
  },
  {
   "cell_type": "code",
   "execution_count": null,
   "id": "cc9f888b",
   "metadata": {},
   "outputs": [],
   "source": [
    "from tinyloop.inference.litellm import LLM\n",
    "from PIL import Image as PILImage\n",
    "from tinyloop.features.vision import Image\n",
    "from rich import print as rprint\n",
    "\n",
    "llm = LLM(\n",
    "    model=\"openrouter/google/gemini-2.5-flash\",\n",
    "    temperature=0.1,\n",
    ")\n",
    "\n",
    "\n",
    "# Read a local JPG file as PIL image\n",
    "pil_image = PILImage.open(\"sutton.jpg\")\n",
    "\n",
    "# Create tinyloop Image from PIL image\n",
    "image = Image.from_PIL(pil_image)\n",
    "\n",
    "\n",
    "response = await llm.acall(prompt=\"Describe the image\", images=[image])\n",
    "\n",
    "rprint(response)"
   ]
  },
  {
   "cell_type": "markdown",
   "id": "af4cb9d9",
   "metadata": {},
   "source": [
    "##### From File\n"
   ]
  },
  {
   "cell_type": "code",
   "execution_count": null,
   "id": "e290a3f4",
   "metadata": {},
   "outputs": [],
   "source": [
    "from tinyloop.inference.litellm import LLM\n",
    "from PIL import Image as PILImage\n",
    "from tinyloop.features.vision import Image\n",
    "\n",
    "llm = LLM(\n",
    "    model=\"openai/gpt-4.1-nano\",\n",
    "    temperature=0.1,\n",
    ")\n",
    "\n",
    "# Create tinyloop Image from PIL image\n",
    "image = Image.from_file(\"sutton.jpg\")\n",
    "\n",
    "\n",
    "response = await llm.acall(prompt=\"Describe the image\", images=[image])\n",
    "\n",
    "rprint(response)"
   ]
  },
  {
   "cell_type": "markdown",
   "id": "13d0d65c",
   "metadata": {},
   "source": [
    "##### From URL\n"
   ]
  },
  {
   "cell_type": "code",
   "execution_count": null,
   "id": "cfdf0fed",
   "metadata": {},
   "outputs": [],
   "source": [
    "from tinyloop.inference.litellm import LLM\n",
    "from PIL import Image as PILImage\n",
    "from tinyloop.features.vision import Image\n",
    "\n",
    "llm = LLM(\n",
    "    model=\"anthropic/claude-3-7-sonnet-20250219\",\n",
    "    temperature=0.1,\n",
    ")\n",
    "\n",
    "# Create tinyloop Image from PIL image\n",
    "url = \"https://images.ctfassets.net/cnu0m8re1exe/2xdqQSvfebktASbHvILYH5/fcc91130ad1ff329765595b669549d8d/Meet-Jumping-Spider-Adorable-Arachnid.jpg?fm=jpg&fl=progressive&w=660&h=433&fit=fill\"\n",
    "image = Image.from_url(url)\n",
    "\n",
    "\n",
    "response = await llm.acall(prompt=\"Describe the image\", images=[image])\n",
    "\n",
    "rprint(response)"
   ]
  },
  {
   "cell_type": "markdown",
   "id": "6cf31ddd",
   "metadata": {},
   "source": [
    "### Function calling\n"
   ]
  },
  {
   "cell_type": "markdown",
   "id": "f533e504",
   "metadata": {},
   "source": [
    "#### Sync\n"
   ]
  },
  {
   "cell_type": "code",
   "execution_count": null,
   "id": "833e41c9",
   "metadata": {},
   "outputs": [],
   "source": [
    "from tinyloop.inference.litellm import LLM\n",
    "import json\n",
    "from tinyloop.features.function_calling import Tool\n",
    "\n",
    "\n",
    "def get_current_weather(location: str, unit: str):\n",
    "    \"\"\"Get the current weather in a given location\n",
    "\n",
    "    Parameters\n",
    "    ----------\n",
    "    location : str\n",
    "        The city and state, e.g. San Francisco, CA\n",
    "    unit : str {'celsius', 'fahrenheit'}\n",
    "        Temperature unit\n",
    "\n",
    "    Returns\n",
    "    -------\n",
    "    str\n",
    "        a sentence indicating the weather\n",
    "    \"\"\"\n",
    "    if location == \"Boston, MA\":\n",
    "        return \"The weather is 12F\"\n",
    "    return f\"Weather in {location} is sunny\"\n",
    "\n",
    "\n",
    "llm = LLM(\n",
    "    model=\"openai/gpt-4.1\",\n",
    "    temperature=0.1,\n",
    ")\n",
    "\n",
    "weather_tool = Tool(get_current_weather)\n",
    "\n",
    "inference = llm(\n",
    "    prompt=\"What is the weather in Boston, MA?\",\n",
    "    tools=[weather_tool],\n",
    ")\n",
    "\n",
    "for tool_call in inference.raw_response.choices[0].message.tool_calls:\n",
    "    tool_name = tool_call.function.name\n",
    "    tool_args = json.loads(tool_call.function.arguments)\n",
    "    print(f\"Tool: {tool_name}\")\n",
    "    print(f\"Args: {tool_args}\")\n",
    "    print(weather_tool(**tool_args))"
   ]
  },
  {
   "cell_type": "markdown",
   "id": "68ca18f9",
   "metadata": {},
   "source": [
    "#### Async\n"
   ]
  },
  {
   "cell_type": "code",
   "execution_count": null,
   "id": "f32a0663",
   "metadata": {},
   "outputs": [],
   "source": [
    "from tinyloop.inference.litellm import LLM\n",
    "import json\n",
    "from tinyloop.features.function_calling import Tool\n",
    "\n",
    "\n",
    "def get_current_weather(location: str, unit: str):\n",
    "    \"\"\"Get the current weather in a given location\n",
    "\n",
    "    Parameters\n",
    "    ----------\n",
    "    location : str\n",
    "        The city and state, e.g. San Francisco, CA\n",
    "    unit : str {'celsius', 'fahrenheit'}\n",
    "        Temperature unit\n",
    "\n",
    "    Returns\n",
    "    -------\n",
    "    str\n",
    "        a sentence indicating the weather\n",
    "    \"\"\"\n",
    "    if location == \"Boston, MA\":\n",
    "        return \"The weather is 12F\"\n",
    "    return f\"Weather in {location} is sunny\"\n",
    "\n",
    "\n",
    "llm = LLM(\n",
    "    model=\"openrouter/google/gemini-2.5-flash\",\n",
    "    temperature=0.1,\n",
    ")\n",
    "\n",
    "weather_tool = Tool(get_current_weather)\n",
    "\n",
    "inference = await llm.ainvoke(\n",
    "    prompt=\"What is the weather in Boston, MA (in fahrenheit)?\",\n",
    "    tools=[weather_tool],\n",
    ")\n",
    "\n",
    "for tool_call in inference.raw_response.choices[0].message.tool_calls:\n",
    "    tool_name = tool_call.function.name\n",
    "    tool_args = json.loads(tool_call.function.arguments)\n",
    "    print(f\"Tool: {tool_name}\")\n",
    "    print(f\"Args: {tool_args}\")\n",
    "    print(weather_tool(**tool_args))"
   ]
  },
  {
   "cell_type": "markdown",
   "id": "5270746f",
   "metadata": {},
   "source": [
    "#### Streaming\n"
   ]
  },
  {
   "cell_type": "code",
   "execution_count": null,
   "id": "3d45d5f5",
   "metadata": {},
   "outputs": [],
   "source": [
    "from tinyloop.inference.litellm import LLM\n",
    "from rich import print as rprint\n",
    "from tinyloop.features.function_calling import Tool\n",
    "import litellm\n",
    "\n",
    "\n",
    "# def track_cost_callback(kwargs, completion_response, start_time, end_time):\n",
    "#     cost = kwargs[\"response_cost\"]\n",
    "#     print(f\"tloop_final_cost={cost:.6f}\")\n",
    "\n",
    "\n",
    "# litellm.success_callback = [track_cost_callback]\n",
    "\n",
    "\n",
    "def get_current_weather(location: str, unit: str):\n",
    "    \"\"\"Get the current weather in a given location\n",
    "\n",
    "    Parameters\n",
    "    ----------\n",
    "    location : str\n",
    "        The city and state, e.g. San Francisco, CA\n",
    "    unit : str {'celsius', 'fahrenheit'}\n",
    "        Temperature unit\n",
    "\n",
    "    Returns\n",
    "    -------\n",
    "    str\n",
    "        a sentence indicating the weather\n",
    "    \"\"\"\n",
    "    if location == \"Boston, MA\":\n",
    "        return \"The weather is 12F\"\n",
    "    return f\"Weather in {location} is sunny\"\n",
    "\n",
    "\n",
    "llm = LLM(\n",
    "    model=\"openrouter/google/gemini-2.5-flash\",\n",
    "    temperature=0.1,\n",
    ")\n",
    "\n",
    "weather_tool = Tool(get_current_weather)\n",
    "\n",
    "inference = await llm.ainvoke(\n",
    "    prompt=\"What is the weather in Boston, MA (in fahrenheit)?\",\n",
    "    tools=[weather_tool],\n",
    "    stream=True,\n",
    ")\n",
    "\n",
    "async for chunk in inference:\n",
    "    rprint(chunk)\n",
    "\n",
    "# for tool_call in inference.raw_response.choices[0].message.tool_calls:\n",
    "#     tool_name = tool_call.function.name\n",
    "#     tool_args = json.loads(tool_call.function.arguments)\n",
    "#     print(f\"Tool: {tool_name}\")\n",
    "#     print(f\"Args: {tool_args}\")\n",
    "#     print(weather_tool(**tool_args))"
   ]
  }
 ],
 "metadata": {
  "kernelspec": {
   "display_name": ".venv",
   "language": "python",
   "name": "python3"
  },
  "language_info": {
   "codemirror_mode": {
    "name": "ipython",
    "version": 3
   },
   "file_extension": ".py",
   "mimetype": "text/x-python",
   "name": "python",
   "nbconvert_exporter": "python",
   "pygments_lexer": "ipython3",
   "version": "3.11.11"
  }
 },
 "nbformat": 4,
 "nbformat_minor": 5
}

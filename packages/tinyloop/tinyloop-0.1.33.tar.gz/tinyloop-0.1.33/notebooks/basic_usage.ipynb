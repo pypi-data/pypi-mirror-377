{
 "cells": [
  {
   "cell_type": "code",
   "execution_count": null,
   "id": "6ac3674a",
   "metadata": {},
   "outputs": [],
   "source": [
    "from rich import print as rprint"
   ]
  },
  {
   "cell_type": "markdown",
   "id": "025e7eb5",
   "metadata": {},
   "source": [
    "### Basic LLM call\n"
   ]
  },
  {
   "cell_type": "markdown",
   "id": "ccdec61d",
   "metadata": {},
   "source": [
    "#### Sync\n"
   ]
  },
  {
   "cell_type": "code",
   "execution_count": null,
   "id": "383941ce",
   "metadata": {},
   "outputs": [],
   "source": [
    "from tinyloop.inference.litellm import LLM\n",
    "\n",
    "llm = LLM(model=\"openai/gpt-3.5-turbo\", temperature=0.1)\n",
    "\n",
    "response = llm(prompt=\"Hello, how are you?\")\n",
    "rprint(response)"
   ]
  },
  {
   "cell_type": "code",
   "execution_count": null,
   "id": "8e746825",
   "metadata": {},
   "outputs": [],
   "source": [
    "llm.get_history()"
   ]
  },
  {
   "cell_type": "markdown",
   "id": "a57ce22e",
   "metadata": {},
   "source": [
    "#### Async\n"
   ]
  },
  {
   "cell_type": "code",
   "execution_count": null,
   "id": "ede8fad6",
   "metadata": {},
   "outputs": [],
   "source": [
    "from tinyloop.inference.litellm import LLM\n",
    "\n",
    "llm = LLM(model=\"openai/gpt-3.5-turbo\", temperature=0.1)\n",
    "\n",
    "response = await llm.acall(prompt=\"Hello, how are you?\")\n",
    "rprint(response)"
   ]
  },
  {
   "cell_type": "code",
   "execution_count": null,
   "id": "a0b49802",
   "metadata": {},
   "outputs": [],
   "source": [
    "llm.get_history()"
   ]
  },
  {
   "cell_type": "markdown",
   "id": "0ed7391a",
   "metadata": {},
   "source": [
    "### Streaming\n"
   ]
  },
  {
   "cell_type": "markdown",
   "id": "99ebefc5",
   "metadata": {},
   "source": [
    "#### Async\n"
   ]
  },
  {
   "cell_type": "code",
   "execution_count": null,
   "id": "9d269276",
   "metadata": {},
   "outputs": [],
   "source": [
    "from tinyloop.inference.litellm import LLM\n",
    "from rich import print as rprint\n",
    "\n",
    "llm = LLM(model=\"openai/gpt-3.5-turbo\", temperature=0.1)\n",
    "\n",
    "response = await llm.acall(prompt=\"Hello, how are you?\", stream=True)\n",
    "async for chunk in response:\n",
    "    rprint(chunk)"
   ]
  },
  {
   "cell_type": "code",
   "execution_count": null,
   "id": "bd47a1a6",
   "metadata": {},
   "outputs": [],
   "source": [
    "llm.get_history()"
   ]
  },
  {
   "cell_type": "markdown",
   "id": "7f5174a4",
   "metadata": {},
   "source": [
    "### Structured outputs\n"
   ]
  },
  {
   "cell_type": "markdown",
   "id": "f5e7ecff",
   "metadata": {},
   "source": [
    "#### Sync\n"
   ]
  },
  {
   "cell_type": "code",
   "execution_count": null,
   "id": "104a6551",
   "metadata": {},
   "outputs": [],
   "source": [
    "from tinyloop.inference.litellm import LLM\n",
    "from pydantic import BaseModel\n",
    "\n",
    "llm = LLM(\n",
    "    model=\"openrouter/qwen/qwen-2.5-72b-instruct\",\n",
    "    temperature=0.1,\n",
    ")\n",
    "\n",
    "\n",
    "class CalendarEvent(BaseModel):\n",
    "    name: str\n",
    "    date: str\n",
    "    participants: list[str]\n",
    "\n",
    "\n",
    "class EventsList(BaseModel):\n",
    "    events: list[CalendarEvent]\n",
    "\n",
    "\n",
    "response = llm(\n",
    "    prompt=\"List 5 important events in the XIX century\", response_format=EventsList\n",
    ")\n",
    "rprint(response)"
   ]
  },
  {
   "cell_type": "markdown",
   "id": "b74ece61",
   "metadata": {},
   "source": [
    "#### Async\n"
   ]
  },
  {
   "cell_type": "code",
   "execution_count": null,
   "id": "cb6fc2f2",
   "metadata": {},
   "outputs": [],
   "source": [
    "from tinyloop.inference.litellm import LLM\n",
    "\n",
    "llm = LLM(model=\"openai/gpt-3.5-turbo\", temperature=0.1)\n",
    "\n",
    "response = await llm.acall(prompt=\"Hello, how are you?\")\n",
    "rprint(response)"
   ]
  },
  {
   "cell_type": "code",
   "execution_count": null,
   "id": "936b91f1",
   "metadata": {},
   "outputs": [],
   "source": [
    "from tinyloop.inference.litellm import LLM\n",
    "from pydantic import BaseModel\n",
    "\n",
    "llm = LLM(\n",
    "    model=\"anthropic/claude-3-5-haiku-20241022\",\n",
    "    temperature=0.1,\n",
    ")\n",
    "\n",
    "\n",
    "class CalendarEvent(BaseModel):\n",
    "    name: str\n",
    "    date: str\n",
    "    participants: list[str]\n",
    "\n",
    "\n",
    "class EventsList(BaseModel):\n",
    "    events: list[CalendarEvent]\n",
    "\n",
    "\n",
    "response = await llm.acall(\n",
    "    prompt=\"List 5 important events in the XIX century\", response_format=EventsList\n",
    ")\n",
    "rprint(response)"
   ]
  },
  {
   "cell_type": "code",
   "execution_count": null,
   "id": "f59206b3",
   "metadata": {},
   "outputs": [],
   "source": [
    "from tinyloop.inference.litellm import LLM\n",
    "from pydantic import BaseModel\n",
    "\n",
    "llm = LLM(\n",
    "    model=\"openrouter/google/gemini-2.5-flash\",\n",
    "    temperature=0.1,\n",
    ")\n",
    "\n",
    "\n",
    "class CalendarEvent(BaseModel):\n",
    "    name: str\n",
    "    date: str\n",
    "    participants: list[str]\n",
    "\n",
    "\n",
    "class EventsList(BaseModel):\n",
    "    events: list[CalendarEvent]\n",
    "\n",
    "\n",
    "response = await llm.acall(\n",
    "    prompt=\"List 5 important events in the XIX century\", response_format=EventsList\n",
    ")\n",
    "rprint(response)"
   ]
  },
  {
   "cell_type": "markdown",
   "id": "9c23d4e7",
   "metadata": {},
   "source": [
    "### Vision\n"
   ]
  },
  {
   "cell_type": "markdown",
   "id": "18b6f33f",
   "metadata": {},
   "source": [
    "#### Sync\n"
   ]
  },
  {
   "cell_type": "markdown",
   "id": "cc700dde",
   "metadata": {},
   "source": [
    "##### From PIL\n"
   ]
  },
  {
   "cell_type": "code",
   "execution_count": null,
   "id": "baac88b7",
   "metadata": {},
   "outputs": [],
   "source": [
    "from tinyloop.inference.litellm import LLM\n",
    "from PIL import Image as PILImage\n",
    "from tinyloop.features.vision import Image\n",
    "\n",
    "llm = LLM(\n",
    "    model=\"openai/gpt-4.1-nano\",\n",
    "    temperature=0.1,\n",
    ")\n",
    "\n",
    "\n",
    "# Read a local JPG file as PIL image\n",
    "pil_image = PILImage.open(\"sutton.jpg\")\n",
    "\n",
    "# Create tinyloop Image from PIL image\n",
    "image = Image.from_PIL(pil_image)\n",
    "\n",
    "\n",
    "response = llm(prompt=\"Describe the image\", images=[image])\n",
    "\n",
    "rprint(response)"
   ]
  },
  {
   "cell_type": "markdown",
   "id": "d4714c5a",
   "metadata": {},
   "source": [
    "##### From File\n"
   ]
  },
  {
   "cell_type": "code",
   "execution_count": null,
   "id": "bce2fce2",
   "metadata": {},
   "outputs": [],
   "source": [
    "from tinyloop.inference.litellm import LLM\n",
    "from PIL import Image as PILImage\n",
    "from tinyloop.features.vision import Image\n",
    "\n",
    "llm = LLM(\n",
    "    model=\"anthropic/claude-3-7-sonnet-20250219\",\n",
    "    temperature=0.1,\n",
    ")\n",
    "\n",
    "# Create tinyloop Image from PIL image\n",
    "image = Image.from_file(\"sutton.jpg\")\n",
    "\n",
    "\n",
    "response = llm(prompt=\"Describe the image\", images=[image])\n",
    "\n",
    "rprint(response)"
   ]
  },
  {
   "cell_type": "markdown",
   "id": "a001134d",
   "metadata": {},
   "source": [
    "##### From URL\n"
   ]
  },
  {
   "cell_type": "code",
   "execution_count": null,
   "id": "ee3c493e",
   "metadata": {},
   "outputs": [],
   "source": [
    "from tinyloop.inference.litellm import LLM\n",
    "from PIL import Image as PILImage\n",
    "from tinyloop.features.vision import Image\n",
    "import litellm\n",
    "\n",
    "llm = LLM(\n",
    "    model=\"openrouter/google/gemini-2.5-pro\",\n",
    "    temperature=0.1,\n",
    ")\n",
    "litellm._turn_on_debug()\n",
    "\n",
    "# Create tinyloop Image from PIL image\n",
    "url = \"https://images.ctfassets.net/cnu0m8re1exe/2xdqQSvfebktASbHvILYH5/fcc91130ad1ff329765595b669549d8d/Meet-Jumping-Spider-Adorable-Arachnid.jpg?fm=jpg&fl=progressive&w=660&h=433&fit=fill\"\n",
    "image = Image.from_url(url)\n",
    "\n",
    "\n",
    "response = llm(prompt=\"Describe the image\", images=[image])\n",
    "\n",
    "rprint(response)"
   ]
  },
  {
   "cell_type": "markdown",
   "id": "bc3f943b",
   "metadata": {},
   "source": [
    "#### Async\n"
   ]
  },
  {
   "cell_type": "markdown",
   "id": "bdbde200",
   "metadata": {},
   "source": [
    "##### From PIL\n"
   ]
  },
  {
   "cell_type": "code",
   "execution_count": null,
   "id": "cc9f888b",
   "metadata": {},
   "outputs": [],
   "source": [
    "from tinyloop.inference.litellm import LLM\n",
    "from PIL import Image as PILImage\n",
    "from tinyloop.features.vision import Image\n",
    "from rich import print as rprint\n",
    "\n",
    "llm = LLM(\n",
    "    model=\"openrouter/google/gemini-2.5-flash\",\n",
    "    temperature=0.1,\n",
    ")\n",
    "\n",
    "\n",
    "# Read a local JPG file as PIL image\n",
    "pil_image = PILImage.open(\"sutton.jpg\")\n",
    "\n",
    "# Create tinyloop Image from PIL image\n",
    "image = Image.from_PIL(pil_image)\n",
    "\n",
    "\n",
    "response = await llm.acall(prompt=\"Describe the image\", images=[image])\n",
    "\n",
    "rprint(response)"
   ]
  },
  {
   "cell_type": "markdown",
   "id": "af4cb9d9",
   "metadata": {},
   "source": [
    "##### From File\n"
   ]
  },
  {
   "cell_type": "code",
   "execution_count": null,
   "id": "e290a3f4",
   "metadata": {},
   "outputs": [],
   "source": [
    "from tinyloop.inference.litellm import LLM\n",
    "from PIL import Image as PILImage\n",
    "from tinyloop.features.vision import Image\n",
    "\n",
    "llm = LLM(\n",
    "    model=\"openai/gpt-4.1-nano\",\n",
    "    temperature=0.1,\n",
    ")\n",
    "\n",
    "# Create tinyloop Image from PIL image\n",
    "image = Image.from_file(\"sutton.jpg\")\n",
    "\n",
    "\n",
    "response = await llm.acall(prompt=\"Describe the image\", images=[image])\n",
    "\n",
    "rprint(response)"
   ]
  },
  {
   "cell_type": "markdown",
   "id": "13d0d65c",
   "metadata": {},
   "source": [
    "##### From URL\n"
   ]
  },
  {
   "cell_type": "code",
   "execution_count": null,
   "id": "cfdf0fed",
   "metadata": {},
   "outputs": [],
   "source": [
    "from tinyloop.inference.litellm import LLM\n",
    "from PIL import Image as PILImage\n",
    "from tinyloop.features.vision import Image\n",
    "\n",
    "llm = LLM(\n",
    "    model=\"anthropic/claude-3-7-sonnet-20250219\",\n",
    "    temperature=0.1,\n",
    ")\n",
    "\n",
    "# Create tinyloop Image from PIL image\n",
    "url = \"https://images.ctfassets.net/cnu0m8re1exe/2xdqQSvfebktASbHvILYH5/fcc91130ad1ff329765595b669549d8d/Meet-Jumping-Spider-Adorable-Arachnid.jpg?fm=jpg&fl=progressive&w=660&h=433&fit=fill\"\n",
    "image = Image.from_url(url)\n",
    "\n",
    "\n",
    "response = await llm.acall(prompt=\"Describe the image\", images=[image])\n",
    "\n",
    "rprint(response)"
   ]
  },
  {
   "cell_type": "markdown",
   "id": "6cf31ddd",
   "metadata": {},
   "source": [
    "### Function calling\n"
   ]
  },
  {
   "cell_type": "markdown",
   "id": "f533e504",
   "metadata": {},
   "source": [
    "#### Sync\n"
   ]
  },
  {
   "cell_type": "code",
   "execution_count": null,
   "id": "833e41c9",
   "metadata": {},
   "outputs": [],
   "source": [
    "from tinyloop.inference.litellm import LLM\n",
    "import json\n",
    "from tinyloop.features.function_calling import Tool\n",
    "\n",
    "\n",
    "def get_current_weather(location: str, unit: str):\n",
    "    \"\"\"Get the current weather in a given location\n",
    "\n",
    "    Parameters\n",
    "    ----------\n",
    "    location : str\n",
    "        The city and state, e.g. San Francisco, CA\n",
    "    unit : str {'celsius', 'fahrenheit'}\n",
    "        Temperature unit\n",
    "\n",
    "    Returns\n",
    "    -------\n",
    "    str\n",
    "        a sentence indicating the weather\n",
    "    \"\"\"\n",
    "    if location == \"Boston, MA\":\n",
    "        return \"The weather is 12F\"\n",
    "    return f\"Weather in {location} is sunny\"\n",
    "\n",
    "\n",
    "llm = LLM(\n",
    "    model=\"openai/gpt-4.1\",\n",
    "    temperature=0.1,\n",
    ")\n",
    "\n",
    "weather_tool = Tool(get_current_weather)\n",
    "\n",
    "inference = llm(\n",
    "    prompt=\"What is the weather in Boston, MA?\",\n",
    "    tools=[weather_tool],\n",
    ")\n",
    "\n",
    "for tool_call in inference.raw_response.choices[0].message.tool_calls:\n",
    "    tool_name = tool_call.function.name\n",
    "    tool_args = json.loads(tool_call.function.arguments)\n",
    "    print(f\"Tool: {tool_name}\")\n",
    "    print(f\"Args: {tool_args}\")\n",
    "    print(weather_tool(**tool_args))"
   ]
  },
  {
   "cell_type": "markdown",
   "id": "68ca18f9",
   "metadata": {},
   "source": [
    "#### Async\n"
   ]
  },
  {
   "cell_type": "code",
   "execution_count": null,
   "id": "f32a0663",
   "metadata": {},
   "outputs": [],
   "source": [
    "from tinyloop.inference.litellm import LLM\n",
    "import json\n",
    "from tinyloop.features.function_calling import Tool\n",
    "\n",
    "\n",
    "def get_current_weather(location: str, unit: str):\n",
    "    \"\"\"Get the current weather in a given location\n",
    "\n",
    "    Parameters\n",
    "    ----------\n",
    "    location : str\n",
    "        The city and state, e.g. San Francisco, CA\n",
    "    unit : str {'celsius', 'fahrenheit'}\n",
    "        Temperature unit\n",
    "\n",
    "    Returns\n",
    "    -------\n",
    "    str\n",
    "        a sentence indicating the weather\n",
    "    \"\"\"\n",
    "    if location == \"Boston, MA\":\n",
    "        return \"The weather is 12F\"\n",
    "    return f\"Weather in {location} is sunny\"\n",
    "\n",
    "\n",
    "llm = LLM(\n",
    "    model=\"openrouter/google/gemini-2.5-flash\",\n",
    "    temperature=0.1,\n",
    ")\n",
    "\n",
    "weather_tool = Tool(get_current_weather)\n",
    "\n",
    "inference = await llm.ainvoke(\n",
    "    prompt=\"What is the weather in Boston, MA (in fahrenheit)?\",\n",
    "    tools=[weather_tool],\n",
    ")\n",
    "\n",
    "for tool_call in inference.raw_response.choices[0].message.tool_calls:\n",
    "    tool_name = tool_call.function.name\n",
    "    tool_args = json.loads(tool_call.function.arguments)\n",
    "    print(f\"Tool: {tool_name}\")\n",
    "    print(f\"Args: {tool_args}\")\n",
    "    print(weather_tool(**tool_args))"
   ]
  },
  {
   "cell_type": "markdown",
   "id": "5270746f",
   "metadata": {},
   "source": [
    "#### Streaming\n"
   ]
  },
  {
   "cell_type": "code",
   "execution_count": 1,
   "id": "3d45d5f5",
   "metadata": {},
   "outputs": [
    {
     "data": {
      "text/html": [
       "<pre style=\"white-space:pre;overflow-x:auto;line-height:normal;font-family:Menlo,'DejaVu Sans Mono',consolas,'Courier New',monospace\"><span style=\"color: #800080; text-decoration-color: #800080; font-weight: bold\">LLMStreamingResponse</span><span style=\"font-weight: bold\">(</span>\n",
       "    <span style=\"color: #808000; text-decoration-color: #808000\">id</span>=<span style=\"color: #008000; text-decoration-color: #008000\">'chatcmpl-1b3c037e-39f7-4254-b544-73dbdd271996'</span>,\n",
       "    <span style=\"color: #808000; text-decoration-color: #808000\">response</span>=<span style=\"color: #008000; text-decoration-color: #008000\">\"I'll get the current weather in Boston\"</span>,\n",
       "    <span style=\"color: #808000; text-decoration-color: #808000\">tool_calls</span>=<span style=\"font-weight: bold\">[]</span>\n",
       "<span style=\"font-weight: bold\">)</span>\n",
       "</pre>\n"
      ],
      "text/plain": [
       "\u001b[1;35mLLMStreamingResponse\u001b[0m\u001b[1m(\u001b[0m\n",
       "    \u001b[33mid\u001b[0m=\u001b[32m'chatcmpl-1b3c037e-39f7-4254-b544-73dbdd271996'\u001b[0m,\n",
       "    \u001b[33mresponse\u001b[0m=\u001b[32m\"I\u001b[0m\u001b[32m'll get the current weather in Boston\"\u001b[0m,\n",
       "    \u001b[33mtool_calls\u001b[0m=\u001b[1m[\u001b[0m\u001b[1m]\u001b[0m\n",
       "\u001b[1m)\u001b[0m\n"
      ]
     },
     "metadata": {},
     "output_type": "display_data"
    },
    {
     "data": {
      "text/html": [
       "<pre style=\"white-space:pre;overflow-x:auto;line-height:normal;font-family:Menlo,'DejaVu Sans Mono',consolas,'Courier New',monospace\"><span style=\"color: #800080; text-decoration-color: #800080; font-weight: bold\">LLMStreamingResponse</span><span style=\"font-weight: bold\">(</span>\n",
       "    <span style=\"color: #808000; text-decoration-color: #808000\">id</span>=<span style=\"color: #008000; text-decoration-color: #008000\">'chatcmpl-1b3c037e-39f7-4254-b544-73dbdd271996'</span>,\n",
       "    <span style=\"color: #808000; text-decoration-color: #808000\">response</span>=<span style=\"color: #008000; text-decoration-color: #008000\">\"I'll get the current weather in Boston, MA for you in Fahrenheit.\"</span>,\n",
       "    <span style=\"color: #808000; text-decoration-color: #808000\">tool_calls</span>=<span style=\"font-weight: bold\">[]</span>\n",
       "<span style=\"font-weight: bold\">)</span>\n",
       "</pre>\n"
      ],
      "text/plain": [
       "\u001b[1;35mLLMStreamingResponse\u001b[0m\u001b[1m(\u001b[0m\n",
       "    \u001b[33mid\u001b[0m=\u001b[32m'chatcmpl-1b3c037e-39f7-4254-b544-73dbdd271996'\u001b[0m,\n",
       "    \u001b[33mresponse\u001b[0m=\u001b[32m\"I\u001b[0m\u001b[32m'll get the current weather in Boston, MA for you in Fahrenheit.\"\u001b[0m,\n",
       "    \u001b[33mtool_calls\u001b[0m=\u001b[1m[\u001b[0m\u001b[1m]\u001b[0m\n",
       "\u001b[1m)\u001b[0m\n"
      ]
     },
     "metadata": {},
     "output_type": "display_data"
    },
    {
     "data": {
      "text/html": [
       "<pre style=\"white-space:pre;overflow-x:auto;line-height:normal;font-family:Menlo,'DejaVu Sans Mono',consolas,'Courier New',monospace\"><span style=\"color: #800080; text-decoration-color: #800080; font-weight: bold\">LLMStreamingResponse</span><span style=\"font-weight: bold\">(</span>\n",
       "    <span style=\"color: #808000; text-decoration-color: #808000\">id</span>=<span style=\"color: #008000; text-decoration-color: #008000\">'chatcmpl-1b3c037e-39f7-4254-b544-73dbdd271996'</span>,\n",
       "    <span style=\"color: #808000; text-decoration-color: #808000\">response</span>=<span style=\"color: #008000; text-decoration-color: #008000\">\"I'll get the current weather in Boston, MA for you in Fahrenheit.\"</span>,\n",
       "    <span style=\"color: #808000; text-decoration-color: #808000\">tool_calls</span>=<span style=\"font-weight: bold\">[</span><span style=\"color: #800080; text-decoration-color: #800080; font-weight: bold\">ToolCall</span><span style=\"font-weight: bold\">(</span><span style=\"color: #808000; text-decoration-color: #808000\">function_name</span>=<span style=\"color: #008000; text-decoration-color: #008000\">'get_current_weather'</span>, <span style=\"color: #808000; text-decoration-color: #808000\">args</span>=<span style=\"font-weight: bold\">{}</span>, <span style=\"color: #808000; text-decoration-color: #808000\">id</span>=<span style=\"color: #008000; text-decoration-color: #008000\">'toolu_01LfBDEUofERdY17y51nQxvD'</span><span style=\"font-weight: bold\">)]</span>\n",
       "<span style=\"font-weight: bold\">)</span>\n",
       "</pre>\n"
      ],
      "text/plain": [
       "\u001b[1;35mLLMStreamingResponse\u001b[0m\u001b[1m(\u001b[0m\n",
       "    \u001b[33mid\u001b[0m=\u001b[32m'chatcmpl-1b3c037e-39f7-4254-b544-73dbdd271996'\u001b[0m,\n",
       "    \u001b[33mresponse\u001b[0m=\u001b[32m\"I\u001b[0m\u001b[32m'll get the current weather in Boston, MA for you in Fahrenheit.\"\u001b[0m,\n",
       "    \u001b[33mtool_calls\u001b[0m=\u001b[1m[\u001b[0m\u001b[1;35mToolCall\u001b[0m\u001b[1m(\u001b[0m\u001b[33mfunction_name\u001b[0m=\u001b[32m'get_current_weather'\u001b[0m, \u001b[33margs\u001b[0m=\u001b[1m{\u001b[0m\u001b[1m}\u001b[0m, \u001b[33mid\u001b[0m=\u001b[32m'toolu_01LfBDEUofERdY17y51nQxvD'\u001b[0m\u001b[1m)\u001b[0m\u001b[1m]\u001b[0m\n",
       "\u001b[1m)\u001b[0m\n"
      ]
     },
     "metadata": {},
     "output_type": "display_data"
    },
    {
     "data": {
      "text/html": [
       "<pre style=\"white-space:pre;overflow-x:auto;line-height:normal;font-family:Menlo,'DejaVu Sans Mono',consolas,'Courier New',monospace\"><span style=\"color: #800080; text-decoration-color: #800080; font-weight: bold\">LLMStreamingResponse</span><span style=\"font-weight: bold\">(</span>\n",
       "    <span style=\"color: #808000; text-decoration-color: #808000\">id</span>=<span style=\"color: #008000; text-decoration-color: #008000\">'chatcmpl-1b3c037e-39f7-4254-b544-73dbdd271996'</span>,\n",
       "    <span style=\"color: #808000; text-decoration-color: #808000\">response</span>=<span style=\"color: #008000; text-decoration-color: #008000\">\"I'll get the current weather in Boston, MA for you in Fahrenheit.\"</span>,\n",
       "    <span style=\"color: #808000; text-decoration-color: #808000\">tool_calls</span>=<span style=\"font-weight: bold\">[</span><span style=\"color: #800080; text-decoration-color: #800080; font-weight: bold\">ToolCall</span><span style=\"font-weight: bold\">(</span><span style=\"color: #808000; text-decoration-color: #808000\">function_name</span>=<span style=\"color: #008000; text-decoration-color: #008000\">'get_current_weather'</span>, <span style=\"color: #808000; text-decoration-color: #808000\">args</span>=<span style=\"font-weight: bold\">{}</span>, <span style=\"color: #808000; text-decoration-color: #808000\">id</span>=<span style=\"color: #008000; text-decoration-color: #008000\">'toolu_01LfBDEUofERdY17y51nQxvD'</span><span style=\"font-weight: bold\">)]</span>\n",
       "<span style=\"font-weight: bold\">)</span>\n",
       "</pre>\n"
      ],
      "text/plain": [
       "\u001b[1;35mLLMStreamingResponse\u001b[0m\u001b[1m(\u001b[0m\n",
       "    \u001b[33mid\u001b[0m=\u001b[32m'chatcmpl-1b3c037e-39f7-4254-b544-73dbdd271996'\u001b[0m,\n",
       "    \u001b[33mresponse\u001b[0m=\u001b[32m\"I\u001b[0m\u001b[32m'll get the current weather in Boston, MA for you in Fahrenheit.\"\u001b[0m,\n",
       "    \u001b[33mtool_calls\u001b[0m=\u001b[1m[\u001b[0m\u001b[1;35mToolCall\u001b[0m\u001b[1m(\u001b[0m\u001b[33mfunction_name\u001b[0m=\u001b[32m'get_current_weather'\u001b[0m, \u001b[33margs\u001b[0m=\u001b[1m{\u001b[0m\u001b[1m}\u001b[0m, \u001b[33mid\u001b[0m=\u001b[32m'toolu_01LfBDEUofERdY17y51nQxvD'\u001b[0m\u001b[1m)\u001b[0m\u001b[1m]\u001b[0m\n",
       "\u001b[1m)\u001b[0m\n"
      ]
     },
     "metadata": {},
     "output_type": "display_data"
    },
    {
     "name": "stderr",
     "output_type": "stream",
     "text": [
      "Failed to parse tool call arguments: {\"l\n"
     ]
    },
    {
     "data": {
      "text/html": [
       "<pre style=\"white-space:pre;overflow-x:auto;line-height:normal;font-family:Menlo,'DejaVu Sans Mono',consolas,'Courier New',monospace\"><span style=\"color: #800080; text-decoration-color: #800080; font-weight: bold\">LLMStreamingResponse</span><span style=\"font-weight: bold\">(</span>\n",
       "    <span style=\"color: #808000; text-decoration-color: #808000\">id</span>=<span style=\"color: #008000; text-decoration-color: #008000\">'chatcmpl-1b3c037e-39f7-4254-b544-73dbdd271996'</span>,\n",
       "    <span style=\"color: #808000; text-decoration-color: #808000\">response</span>=<span style=\"color: #008000; text-decoration-color: #008000\">\"I'll get the current weather in Boston, MA for you in Fahrenheit.\"</span>,\n",
       "    <span style=\"color: #808000; text-decoration-color: #808000\">tool_calls</span>=<span style=\"font-weight: bold\">[</span><span style=\"color: #800080; text-decoration-color: #800080; font-weight: bold\">ToolCall</span><span style=\"font-weight: bold\">(</span><span style=\"color: #808000; text-decoration-color: #808000\">function_name</span>=<span style=\"color: #008000; text-decoration-color: #008000\">'get_current_weather'</span>, <span style=\"color: #808000; text-decoration-color: #808000\">args</span>=<span style=\"font-weight: bold\">{}</span>, <span style=\"color: #808000; text-decoration-color: #808000\">id</span>=<span style=\"color: #008000; text-decoration-color: #008000\">'toolu_01LfBDEUofERdY17y51nQxvD'</span><span style=\"font-weight: bold\">)]</span>\n",
       "<span style=\"font-weight: bold\">)</span>\n",
       "</pre>\n"
      ],
      "text/plain": [
       "\u001b[1;35mLLMStreamingResponse\u001b[0m\u001b[1m(\u001b[0m\n",
       "    \u001b[33mid\u001b[0m=\u001b[32m'chatcmpl-1b3c037e-39f7-4254-b544-73dbdd271996'\u001b[0m,\n",
       "    \u001b[33mresponse\u001b[0m=\u001b[32m\"I\u001b[0m\u001b[32m'll get the current weather in Boston, MA for you in Fahrenheit.\"\u001b[0m,\n",
       "    \u001b[33mtool_calls\u001b[0m=\u001b[1m[\u001b[0m\u001b[1;35mToolCall\u001b[0m\u001b[1m(\u001b[0m\u001b[33mfunction_name\u001b[0m=\u001b[32m'get_current_weather'\u001b[0m, \u001b[33margs\u001b[0m=\u001b[1m{\u001b[0m\u001b[1m}\u001b[0m, \u001b[33mid\u001b[0m=\u001b[32m'toolu_01LfBDEUofERdY17y51nQxvD'\u001b[0m\u001b[1m)\u001b[0m\u001b[1m]\u001b[0m\n",
       "\u001b[1m)\u001b[0m\n"
      ]
     },
     "metadata": {},
     "output_type": "display_data"
    },
    {
     "name": "stderr",
     "output_type": "stream",
     "text": [
      "Failed to parse tool call arguments: {\"location\": \"B\n"
     ]
    },
    {
     "data": {
      "text/html": [
       "<pre style=\"white-space:pre;overflow-x:auto;line-height:normal;font-family:Menlo,'DejaVu Sans Mono',consolas,'Courier New',monospace\"><span style=\"color: #800080; text-decoration-color: #800080; font-weight: bold\">LLMStreamingResponse</span><span style=\"font-weight: bold\">(</span>\n",
       "    <span style=\"color: #808000; text-decoration-color: #808000\">id</span>=<span style=\"color: #008000; text-decoration-color: #008000\">'chatcmpl-1b3c037e-39f7-4254-b544-73dbdd271996'</span>,\n",
       "    <span style=\"color: #808000; text-decoration-color: #808000\">response</span>=<span style=\"color: #008000; text-decoration-color: #008000\">\"I'll get the current weather in Boston, MA for you in Fahrenheit.\"</span>,\n",
       "    <span style=\"color: #808000; text-decoration-color: #808000\">tool_calls</span>=<span style=\"font-weight: bold\">[</span><span style=\"color: #800080; text-decoration-color: #800080; font-weight: bold\">ToolCall</span><span style=\"font-weight: bold\">(</span><span style=\"color: #808000; text-decoration-color: #808000\">function_name</span>=<span style=\"color: #008000; text-decoration-color: #008000\">'get_current_weather'</span>, <span style=\"color: #808000; text-decoration-color: #808000\">args</span>=<span style=\"font-weight: bold\">{}</span>, <span style=\"color: #808000; text-decoration-color: #808000\">id</span>=<span style=\"color: #008000; text-decoration-color: #008000\">'toolu_01LfBDEUofERdY17y51nQxvD'</span><span style=\"font-weight: bold\">)]</span>\n",
       "<span style=\"font-weight: bold\">)</span>\n",
       "</pre>\n"
      ],
      "text/plain": [
       "\u001b[1;35mLLMStreamingResponse\u001b[0m\u001b[1m(\u001b[0m\n",
       "    \u001b[33mid\u001b[0m=\u001b[32m'chatcmpl-1b3c037e-39f7-4254-b544-73dbdd271996'\u001b[0m,\n",
       "    \u001b[33mresponse\u001b[0m=\u001b[32m\"I\u001b[0m\u001b[32m'll get the current weather in Boston, MA for you in Fahrenheit.\"\u001b[0m,\n",
       "    \u001b[33mtool_calls\u001b[0m=\u001b[1m[\u001b[0m\u001b[1;35mToolCall\u001b[0m\u001b[1m(\u001b[0m\u001b[33mfunction_name\u001b[0m=\u001b[32m'get_current_weather'\u001b[0m, \u001b[33margs\u001b[0m=\u001b[1m{\u001b[0m\u001b[1m}\u001b[0m, \u001b[33mid\u001b[0m=\u001b[32m'toolu_01LfBDEUofERdY17y51nQxvD'\u001b[0m\u001b[1m)\u001b[0m\u001b[1m]\u001b[0m\n",
       "\u001b[1m)\u001b[0m\n"
      ]
     },
     "metadata": {},
     "output_type": "display_data"
    },
    {
     "name": "stderr",
     "output_type": "stream",
     "text": [
      "Failed to parse tool call arguments: {\"location\": \"Boston,\n"
     ]
    },
    {
     "data": {
      "text/html": [
       "<pre style=\"white-space:pre;overflow-x:auto;line-height:normal;font-family:Menlo,'DejaVu Sans Mono',consolas,'Courier New',monospace\"><span style=\"color: #800080; text-decoration-color: #800080; font-weight: bold\">LLMStreamingResponse</span><span style=\"font-weight: bold\">(</span>\n",
       "    <span style=\"color: #808000; text-decoration-color: #808000\">id</span>=<span style=\"color: #008000; text-decoration-color: #008000\">'chatcmpl-1b3c037e-39f7-4254-b544-73dbdd271996'</span>,\n",
       "    <span style=\"color: #808000; text-decoration-color: #808000\">response</span>=<span style=\"color: #008000; text-decoration-color: #008000\">\"I'll get the current weather in Boston, MA for you in Fahrenheit.\"</span>,\n",
       "    <span style=\"color: #808000; text-decoration-color: #808000\">tool_calls</span>=<span style=\"font-weight: bold\">[</span><span style=\"color: #800080; text-decoration-color: #800080; font-weight: bold\">ToolCall</span><span style=\"font-weight: bold\">(</span><span style=\"color: #808000; text-decoration-color: #808000\">function_name</span>=<span style=\"color: #008000; text-decoration-color: #008000\">'get_current_weather'</span>, <span style=\"color: #808000; text-decoration-color: #808000\">args</span>=<span style=\"font-weight: bold\">{}</span>, <span style=\"color: #808000; text-decoration-color: #808000\">id</span>=<span style=\"color: #008000; text-decoration-color: #008000\">'toolu_01LfBDEUofERdY17y51nQxvD'</span><span style=\"font-weight: bold\">)]</span>\n",
       "<span style=\"font-weight: bold\">)</span>\n",
       "</pre>\n"
      ],
      "text/plain": [
       "\u001b[1;35mLLMStreamingResponse\u001b[0m\u001b[1m(\u001b[0m\n",
       "    \u001b[33mid\u001b[0m=\u001b[32m'chatcmpl-1b3c037e-39f7-4254-b544-73dbdd271996'\u001b[0m,\n",
       "    \u001b[33mresponse\u001b[0m=\u001b[32m\"I\u001b[0m\u001b[32m'll get the current weather in Boston, MA for you in Fahrenheit.\"\u001b[0m,\n",
       "    \u001b[33mtool_calls\u001b[0m=\u001b[1m[\u001b[0m\u001b[1;35mToolCall\u001b[0m\u001b[1m(\u001b[0m\u001b[33mfunction_name\u001b[0m=\u001b[32m'get_current_weather'\u001b[0m, \u001b[33margs\u001b[0m=\u001b[1m{\u001b[0m\u001b[1m}\u001b[0m, \u001b[33mid\u001b[0m=\u001b[32m'toolu_01LfBDEUofERdY17y51nQxvD'\u001b[0m\u001b[1m)\u001b[0m\u001b[1m]\u001b[0m\n",
       "\u001b[1m)\u001b[0m\n"
      ]
     },
     "metadata": {},
     "output_type": "display_data"
    },
    {
     "name": "stderr",
     "output_type": "stream",
     "text": [
      "Failed to parse tool call arguments: {\"location\": \"Boston, MA\"\n"
     ]
    },
    {
     "data": {
      "text/html": [
       "<pre style=\"white-space:pre;overflow-x:auto;line-height:normal;font-family:Menlo,'DejaVu Sans Mono',consolas,'Courier New',monospace\"><span style=\"color: #800080; text-decoration-color: #800080; font-weight: bold\">LLMStreamingResponse</span><span style=\"font-weight: bold\">(</span>\n",
       "    <span style=\"color: #808000; text-decoration-color: #808000\">id</span>=<span style=\"color: #008000; text-decoration-color: #008000\">'chatcmpl-1b3c037e-39f7-4254-b544-73dbdd271996'</span>,\n",
       "    <span style=\"color: #808000; text-decoration-color: #808000\">response</span>=<span style=\"color: #008000; text-decoration-color: #008000\">\"I'll get the current weather in Boston, MA for you in Fahrenheit.\"</span>,\n",
       "    <span style=\"color: #808000; text-decoration-color: #808000\">tool_calls</span>=<span style=\"font-weight: bold\">[</span><span style=\"color: #800080; text-decoration-color: #800080; font-weight: bold\">ToolCall</span><span style=\"font-weight: bold\">(</span><span style=\"color: #808000; text-decoration-color: #808000\">function_name</span>=<span style=\"color: #008000; text-decoration-color: #008000\">'get_current_weather'</span>, <span style=\"color: #808000; text-decoration-color: #808000\">args</span>=<span style=\"font-weight: bold\">{}</span>, <span style=\"color: #808000; text-decoration-color: #808000\">id</span>=<span style=\"color: #008000; text-decoration-color: #008000\">'toolu_01LfBDEUofERdY17y51nQxvD'</span><span style=\"font-weight: bold\">)]</span>\n",
       "<span style=\"font-weight: bold\">)</span>\n",
       "</pre>\n"
      ],
      "text/plain": [
       "\u001b[1;35mLLMStreamingResponse\u001b[0m\u001b[1m(\u001b[0m\n",
       "    \u001b[33mid\u001b[0m=\u001b[32m'chatcmpl-1b3c037e-39f7-4254-b544-73dbdd271996'\u001b[0m,\n",
       "    \u001b[33mresponse\u001b[0m=\u001b[32m\"I\u001b[0m\u001b[32m'll get the current weather in Boston, MA for you in Fahrenheit.\"\u001b[0m,\n",
       "    \u001b[33mtool_calls\u001b[0m=\u001b[1m[\u001b[0m\u001b[1;35mToolCall\u001b[0m\u001b[1m(\u001b[0m\u001b[33mfunction_name\u001b[0m=\u001b[32m'get_current_weather'\u001b[0m, \u001b[33margs\u001b[0m=\u001b[1m{\u001b[0m\u001b[1m}\u001b[0m, \u001b[33mid\u001b[0m=\u001b[32m'toolu_01LfBDEUofERdY17y51nQxvD'\u001b[0m\u001b[1m)\u001b[0m\u001b[1m]\u001b[0m\n",
       "\u001b[1m)\u001b[0m\n"
      ]
     },
     "metadata": {},
     "output_type": "display_data"
    },
    {
     "name": "stderr",
     "output_type": "stream",
     "text": [
      "Failed to parse tool call arguments: {\"location\": \"Boston, MA\", \"unit\n"
     ]
    },
    {
     "data": {
      "text/html": [
       "<pre style=\"white-space:pre;overflow-x:auto;line-height:normal;font-family:Menlo,'DejaVu Sans Mono',consolas,'Courier New',monospace\"><span style=\"color: #800080; text-decoration-color: #800080; font-weight: bold\">LLMStreamingResponse</span><span style=\"font-weight: bold\">(</span>\n",
       "    <span style=\"color: #808000; text-decoration-color: #808000\">id</span>=<span style=\"color: #008000; text-decoration-color: #008000\">'chatcmpl-1b3c037e-39f7-4254-b544-73dbdd271996'</span>,\n",
       "    <span style=\"color: #808000; text-decoration-color: #808000\">response</span>=<span style=\"color: #008000; text-decoration-color: #008000\">\"I'll get the current weather in Boston, MA for you in Fahrenheit.\"</span>,\n",
       "    <span style=\"color: #808000; text-decoration-color: #808000\">tool_calls</span>=<span style=\"font-weight: bold\">[</span><span style=\"color: #800080; text-decoration-color: #800080; font-weight: bold\">ToolCall</span><span style=\"font-weight: bold\">(</span><span style=\"color: #808000; text-decoration-color: #808000\">function_name</span>=<span style=\"color: #008000; text-decoration-color: #008000\">'get_current_weather'</span>, <span style=\"color: #808000; text-decoration-color: #808000\">args</span>=<span style=\"font-weight: bold\">{}</span>, <span style=\"color: #808000; text-decoration-color: #808000\">id</span>=<span style=\"color: #008000; text-decoration-color: #008000\">'toolu_01LfBDEUofERdY17y51nQxvD'</span><span style=\"font-weight: bold\">)]</span>\n",
       "<span style=\"font-weight: bold\">)</span>\n",
       "</pre>\n"
      ],
      "text/plain": [
       "\u001b[1;35mLLMStreamingResponse\u001b[0m\u001b[1m(\u001b[0m\n",
       "    \u001b[33mid\u001b[0m=\u001b[32m'chatcmpl-1b3c037e-39f7-4254-b544-73dbdd271996'\u001b[0m,\n",
       "    \u001b[33mresponse\u001b[0m=\u001b[32m\"I\u001b[0m\u001b[32m'll get the current weather in Boston, MA for you in Fahrenheit.\"\u001b[0m,\n",
       "    \u001b[33mtool_calls\u001b[0m=\u001b[1m[\u001b[0m\u001b[1;35mToolCall\u001b[0m\u001b[1m(\u001b[0m\u001b[33mfunction_name\u001b[0m=\u001b[32m'get_current_weather'\u001b[0m, \u001b[33margs\u001b[0m=\u001b[1m{\u001b[0m\u001b[1m}\u001b[0m, \u001b[33mid\u001b[0m=\u001b[32m'toolu_01LfBDEUofERdY17y51nQxvD'\u001b[0m\u001b[1m)\u001b[0m\u001b[1m]\u001b[0m\n",
       "\u001b[1m)\u001b[0m\n"
      ]
     },
     "metadata": {},
     "output_type": "display_data"
    },
    {
     "name": "stderr",
     "output_type": "stream",
     "text": [
      "Failed to parse tool call arguments: {\"location\": \"Boston, MA\", \"unit\": \"fahrenh\n"
     ]
    },
    {
     "data": {
      "text/html": [
       "<pre style=\"white-space:pre;overflow-x:auto;line-height:normal;font-family:Menlo,'DejaVu Sans Mono',consolas,'Courier New',monospace\"><span style=\"color: #800080; text-decoration-color: #800080; font-weight: bold\">LLMStreamingResponse</span><span style=\"font-weight: bold\">(</span>\n",
       "    <span style=\"color: #808000; text-decoration-color: #808000\">id</span>=<span style=\"color: #008000; text-decoration-color: #008000\">'chatcmpl-1b3c037e-39f7-4254-b544-73dbdd271996'</span>,\n",
       "    <span style=\"color: #808000; text-decoration-color: #808000\">response</span>=<span style=\"color: #008000; text-decoration-color: #008000\">\"I'll get the current weather in Boston, MA for you in Fahrenheit.\"</span>,\n",
       "    <span style=\"color: #808000; text-decoration-color: #808000\">tool_calls</span>=<span style=\"font-weight: bold\">[</span><span style=\"color: #800080; text-decoration-color: #800080; font-weight: bold\">ToolCall</span><span style=\"font-weight: bold\">(</span><span style=\"color: #808000; text-decoration-color: #808000\">function_name</span>=<span style=\"color: #008000; text-decoration-color: #008000\">'get_current_weather'</span>, <span style=\"color: #808000; text-decoration-color: #808000\">args</span>=<span style=\"font-weight: bold\">{}</span>, <span style=\"color: #808000; text-decoration-color: #808000\">id</span>=<span style=\"color: #008000; text-decoration-color: #008000\">'toolu_01LfBDEUofERdY17y51nQxvD'</span><span style=\"font-weight: bold\">)]</span>\n",
       "<span style=\"font-weight: bold\">)</span>\n",
       "</pre>\n"
      ],
      "text/plain": [
       "\u001b[1;35mLLMStreamingResponse\u001b[0m\u001b[1m(\u001b[0m\n",
       "    \u001b[33mid\u001b[0m=\u001b[32m'chatcmpl-1b3c037e-39f7-4254-b544-73dbdd271996'\u001b[0m,\n",
       "    \u001b[33mresponse\u001b[0m=\u001b[32m\"I\u001b[0m\u001b[32m'll get the current weather in Boston, MA for you in Fahrenheit.\"\u001b[0m,\n",
       "    \u001b[33mtool_calls\u001b[0m=\u001b[1m[\u001b[0m\u001b[1;35mToolCall\u001b[0m\u001b[1m(\u001b[0m\u001b[33mfunction_name\u001b[0m=\u001b[32m'get_current_weather'\u001b[0m, \u001b[33margs\u001b[0m=\u001b[1m{\u001b[0m\u001b[1m}\u001b[0m, \u001b[33mid\u001b[0m=\u001b[32m'toolu_01LfBDEUofERdY17y51nQxvD'\u001b[0m\u001b[1m)\u001b[0m\u001b[1m]\u001b[0m\n",
       "\u001b[1m)\u001b[0m\n"
      ]
     },
     "metadata": {},
     "output_type": "display_data"
    },
    {
     "data": {
      "text/html": [
       "<pre style=\"white-space:pre;overflow-x:auto;line-height:normal;font-family:Menlo,'DejaVu Sans Mono',consolas,'Courier New',monospace\"><span style=\"color: #800080; text-decoration-color: #800080; font-weight: bold\">LLMStreamingResponse</span><span style=\"font-weight: bold\">(</span>\n",
       "    <span style=\"color: #808000; text-decoration-color: #808000\">id</span>=<span style=\"color: #008000; text-decoration-color: #008000\">'chatcmpl-1b3c037e-39f7-4254-b544-73dbdd271996'</span>,\n",
       "    <span style=\"color: #808000; text-decoration-color: #808000\">response</span>=<span style=\"color: #008000; text-decoration-color: #008000\">\"I'll get the current weather in Boston, MA for you in Fahrenheit.\"</span>,\n",
       "    <span style=\"color: #808000; text-decoration-color: #808000\">tool_calls</span>=<span style=\"font-weight: bold\">[</span>\n",
       "        <span style=\"color: #800080; text-decoration-color: #800080; font-weight: bold\">ToolCall</span><span style=\"font-weight: bold\">(</span>\n",
       "            <span style=\"color: #808000; text-decoration-color: #808000\">function_name</span>=<span style=\"color: #008000; text-decoration-color: #008000\">'get_current_weather'</span>,\n",
       "            <span style=\"color: #808000; text-decoration-color: #808000\">args</span>=<span style=\"font-weight: bold\">{</span><span style=\"color: #008000; text-decoration-color: #008000\">'location'</span>: <span style=\"color: #008000; text-decoration-color: #008000\">'Boston, MA'</span>, <span style=\"color: #008000; text-decoration-color: #008000\">'unit'</span>: <span style=\"color: #008000; text-decoration-color: #008000\">'fahrenheit'</span><span style=\"font-weight: bold\">}</span>,\n",
       "            <span style=\"color: #808000; text-decoration-color: #808000\">id</span>=<span style=\"color: #008000; text-decoration-color: #008000\">'toolu_01LfBDEUofERdY17y51nQxvD'</span>\n",
       "        <span style=\"font-weight: bold\">)</span>\n",
       "    <span style=\"font-weight: bold\">]</span>\n",
       "<span style=\"font-weight: bold\">)</span>\n",
       "</pre>\n"
      ],
      "text/plain": [
       "\u001b[1;35mLLMStreamingResponse\u001b[0m\u001b[1m(\u001b[0m\n",
       "    \u001b[33mid\u001b[0m=\u001b[32m'chatcmpl-1b3c037e-39f7-4254-b544-73dbdd271996'\u001b[0m,\n",
       "    \u001b[33mresponse\u001b[0m=\u001b[32m\"I\u001b[0m\u001b[32m'll get the current weather in Boston, MA for you in Fahrenheit.\"\u001b[0m,\n",
       "    \u001b[33mtool_calls\u001b[0m=\u001b[1m[\u001b[0m\n",
       "        \u001b[1;35mToolCall\u001b[0m\u001b[1m(\u001b[0m\n",
       "            \u001b[33mfunction_name\u001b[0m=\u001b[32m'get_current_weather'\u001b[0m,\n",
       "            \u001b[33margs\u001b[0m=\u001b[1m{\u001b[0m\u001b[32m'location'\u001b[0m: \u001b[32m'Boston, MA'\u001b[0m, \u001b[32m'unit'\u001b[0m: \u001b[32m'fahrenheit'\u001b[0m\u001b[1m}\u001b[0m,\n",
       "            \u001b[33mid\u001b[0m=\u001b[32m'toolu_01LfBDEUofERdY17y51nQxvD'\u001b[0m\n",
       "        \u001b[1m)\u001b[0m\n",
       "    \u001b[1m]\u001b[0m\n",
       "\u001b[1m)\u001b[0m\n"
      ]
     },
     "metadata": {},
     "output_type": "display_data"
    },
    {
     "data": {
      "text/html": [
       "<pre style=\"white-space:pre;overflow-x:auto;line-height:normal;font-family:Menlo,'DejaVu Sans Mono',consolas,'Courier New',monospace\"><span style=\"color: #800080; text-decoration-color: #800080; font-weight: bold\">LLMStreamingResponse</span><span style=\"font-weight: bold\">(</span>\n",
       "    <span style=\"color: #808000; text-decoration-color: #808000\">id</span>=<span style=\"color: #008000; text-decoration-color: #008000\">'chatcmpl-1b3c037e-39f7-4254-b544-73dbdd271996'</span>,\n",
       "    <span style=\"color: #808000; text-decoration-color: #808000\">response</span>=<span style=\"color: #008000; text-decoration-color: #008000\">\"I'll get the current weather in Boston, MA for you in Fahrenheit.\"</span>,\n",
       "    <span style=\"color: #808000; text-decoration-color: #808000\">tool_calls</span>=<span style=\"font-weight: bold\">[</span>\n",
       "        <span style=\"color: #800080; text-decoration-color: #800080; font-weight: bold\">ToolCall</span><span style=\"font-weight: bold\">(</span>\n",
       "            <span style=\"color: #808000; text-decoration-color: #808000\">function_name</span>=<span style=\"color: #008000; text-decoration-color: #008000\">'get_current_weather'</span>,\n",
       "            <span style=\"color: #808000; text-decoration-color: #808000\">args</span>=<span style=\"font-weight: bold\">{</span><span style=\"color: #008000; text-decoration-color: #008000\">'location'</span>: <span style=\"color: #008000; text-decoration-color: #008000\">'Boston, MA'</span>, <span style=\"color: #008000; text-decoration-color: #008000\">'unit'</span>: <span style=\"color: #008000; text-decoration-color: #008000\">'fahrenheit'</span><span style=\"font-weight: bold\">}</span>,\n",
       "            <span style=\"color: #808000; text-decoration-color: #808000\">id</span>=<span style=\"color: #008000; text-decoration-color: #008000\">'toolu_01LfBDEUofERdY17y51nQxvD'</span>\n",
       "        <span style=\"font-weight: bold\">)</span>\n",
       "    <span style=\"font-weight: bold\">]</span>\n",
       "<span style=\"font-weight: bold\">)</span>\n",
       "</pre>\n"
      ],
      "text/plain": [
       "\u001b[1;35mLLMStreamingResponse\u001b[0m\u001b[1m(\u001b[0m\n",
       "    \u001b[33mid\u001b[0m=\u001b[32m'chatcmpl-1b3c037e-39f7-4254-b544-73dbdd271996'\u001b[0m,\n",
       "    \u001b[33mresponse\u001b[0m=\u001b[32m\"I\u001b[0m\u001b[32m'll get the current weather in Boston, MA for you in Fahrenheit.\"\u001b[0m,\n",
       "    \u001b[33mtool_calls\u001b[0m=\u001b[1m[\u001b[0m\n",
       "        \u001b[1;35mToolCall\u001b[0m\u001b[1m(\u001b[0m\n",
       "            \u001b[33mfunction_name\u001b[0m=\u001b[32m'get_current_weather'\u001b[0m,\n",
       "            \u001b[33margs\u001b[0m=\u001b[1m{\u001b[0m\u001b[32m'location'\u001b[0m: \u001b[32m'Boston, MA'\u001b[0m, \u001b[32m'unit'\u001b[0m: \u001b[32m'fahrenheit'\u001b[0m\u001b[1m}\u001b[0m,\n",
       "            \u001b[33mid\u001b[0m=\u001b[32m'toolu_01LfBDEUofERdY17y51nQxvD'\u001b[0m\n",
       "        \u001b[1m)\u001b[0m\n",
       "    \u001b[1m]\u001b[0m\n",
       "\u001b[1m)\u001b[0m\n"
      ]
     },
     "metadata": {},
     "output_type": "display_data"
    },
    {
     "name": "stdout",
     "output_type": "stream",
     "text": [
      "tloop_final_cost=0.002502\n",
      "captured_cost: 0.002502\n"
     ]
    },
    {
     "name": "stderr",
     "output_type": "stream",
     "text": [
      "/Users/fernandomeira/projects/tinyloop/.venv/lib/python3.11/site-packages/pydantic/main.py:463: UserWarning: Pydantic serializer warnings:\n",
      "  PydanticSerializationUnexpectedValue(Expected 9 fields but got 5: Expected `Message` - serialized value may not be as expected [input_value=Message(content=\"I'll get...er_specific_fields=None), input_type=Message])\n",
      "  PydanticSerializationUnexpectedValue(Expected `StreamingChoices` - serialized value may not be as expected [input_value=Choices(finish_reason='to...r_specific_fields=None)), input_type=Choices])\n",
      "  return self.__pydantic_serializer__.to_python(\n"
     ]
    },
    {
     "data": {
      "text/html": [
       "<pre style=\"white-space:pre;overflow-x:auto;line-height:normal;font-family:Menlo,'DejaVu Sans Mono',consolas,'Courier New',monospace\"><span style=\"color: #800080; text-decoration-color: #800080; font-weight: bold\">LLMResponse</span><span style=\"font-weight: bold\">(</span>\n",
       "    <span style=\"color: #808000; text-decoration-color: #808000\">response</span>=<span style=\"color: #008000; text-decoration-color: #008000\">\"I'll get the current weather in Boston, MA for you in Fahrenheit.\"</span>,\n",
       "    <span style=\"color: #808000; text-decoration-color: #808000\">raw_response</span>=<span style=\"color: #800080; text-decoration-color: #800080; font-style: italic\">None</span>,\n",
       "    <span style=\"color: #808000; text-decoration-color: #808000\">tool_calls</span>=<span style=\"font-weight: bold\">[</span>\n",
       "        <span style=\"color: #800080; text-decoration-color: #800080; font-weight: bold\">ToolCall</span><span style=\"font-weight: bold\">(</span>\n",
       "            <span style=\"color: #808000; text-decoration-color: #808000\">function_name</span>=<span style=\"color: #008000; text-decoration-color: #008000\">'get_current_weather'</span>,\n",
       "            <span style=\"color: #808000; text-decoration-color: #808000\">args</span>=<span style=\"font-weight: bold\">{</span><span style=\"color: #008000; text-decoration-color: #008000\">'location'</span>: <span style=\"color: #008000; text-decoration-color: #008000\">'Boston, MA'</span>, <span style=\"color: #008000; text-decoration-color: #008000\">'unit'</span>: <span style=\"color: #008000; text-decoration-color: #008000\">'fahrenheit'</span><span style=\"font-weight: bold\">}</span>,\n",
       "            <span style=\"color: #808000; text-decoration-color: #808000\">id</span>=<span style=\"color: #008000; text-decoration-color: #008000\">'toolu_01LfBDEUofERdY17y51nQxvD'</span>\n",
       "        <span style=\"font-weight: bold\">)</span>\n",
       "    <span style=\"font-weight: bold\">]</span>,\n",
       "    <span style=\"color: #808000; text-decoration-color: #808000\">message_history</span>=<span style=\"font-weight: bold\">[</span>\n",
       "        <span style=\"font-weight: bold\">{</span><span style=\"color: #008000; text-decoration-color: #008000\">'role'</span>: <span style=\"color: #008000; text-decoration-color: #008000\">'user'</span>, <span style=\"color: #008000; text-decoration-color: #008000\">'content'</span>: <span style=\"color: #008000; text-decoration-color: #008000\">'What is the weather in Boston, MA (in fahrenheit)?'</span><span style=\"font-weight: bold\">}</span>,\n",
       "        <span style=\"font-weight: bold\">{</span>\n",
       "            <span style=\"color: #008000; text-decoration-color: #008000\">'role'</span>: <span style=\"color: #008000; text-decoration-color: #008000\">'assistant'</span>,\n",
       "            <span style=\"color: #008000; text-decoration-color: #008000\">'content'</span>: <span style=\"color: #008000; text-decoration-color: #008000\">\"I'll get the current weather in Boston, MA for you in Fahrenheit.\"</span>,\n",
       "            <span style=\"color: #008000; text-decoration-color: #008000\">'tool_calls'</span>: <span style=\"font-weight: bold\">[</span>\n",
       "                <span style=\"font-weight: bold\">{</span>\n",
       "                    <span style=\"color: #008000; text-decoration-color: #008000\">'id'</span>: <span style=\"color: #008000; text-decoration-color: #008000\">'toolu_01LfBDEUofERdY17y51nQxvD'</span>,\n",
       "                    <span style=\"color: #008000; text-decoration-color: #008000\">'type'</span>: <span style=\"color: #008000; text-decoration-color: #008000\">'function'</span>,\n",
       "                    <span style=\"color: #008000; text-decoration-color: #008000\">'function'</span>: <span style=\"font-weight: bold\">{</span>\n",
       "                        <span style=\"color: #008000; text-decoration-color: #008000\">'name'</span>: <span style=\"color: #008000; text-decoration-color: #008000\">'get_current_weather'</span>,\n",
       "                        <span style=\"color: #008000; text-decoration-color: #008000\">'arguments'</span>: <span style=\"color: #008000; text-decoration-color: #008000\">'{\"location\": \"Boston, MA\", \"unit\": \"fahrenheit\"}'</span>\n",
       "                    <span style=\"font-weight: bold\">}</span>\n",
       "                <span style=\"font-weight: bold\">}</span>\n",
       "            <span style=\"font-weight: bold\">]</span>\n",
       "        <span style=\"font-weight: bold\">}</span>\n",
       "    <span style=\"font-weight: bold\">]</span>,\n",
       "    <span style=\"color: #808000; text-decoration-color: #808000\">cost</span>=<span style=\"color: #008080; text-decoration-color: #008080; font-weight: bold\">0.002502</span>,\n",
       "    <span style=\"color: #808000; text-decoration-color: #808000\">hidden_fields</span>=<span style=\"font-weight: bold\">{}</span>\n",
       "<span style=\"font-weight: bold\">)</span>\n",
       "</pre>\n"
      ],
      "text/plain": [
       "\u001b[1;35mLLMResponse\u001b[0m\u001b[1m(\u001b[0m\n",
       "    \u001b[33mresponse\u001b[0m=\u001b[32m\"I\u001b[0m\u001b[32m'll get the current weather in Boston, MA for you in Fahrenheit.\"\u001b[0m,\n",
       "    \u001b[33mraw_response\u001b[0m=\u001b[3;35mNone\u001b[0m,\n",
       "    \u001b[33mtool_calls\u001b[0m=\u001b[1m[\u001b[0m\n",
       "        \u001b[1;35mToolCall\u001b[0m\u001b[1m(\u001b[0m\n",
       "            \u001b[33mfunction_name\u001b[0m=\u001b[32m'get_current_weather'\u001b[0m,\n",
       "            \u001b[33margs\u001b[0m=\u001b[1m{\u001b[0m\u001b[32m'location'\u001b[0m: \u001b[32m'Boston, MA'\u001b[0m, \u001b[32m'unit'\u001b[0m: \u001b[32m'fahrenheit'\u001b[0m\u001b[1m}\u001b[0m,\n",
       "            \u001b[33mid\u001b[0m=\u001b[32m'toolu_01LfBDEUofERdY17y51nQxvD'\u001b[0m\n",
       "        \u001b[1m)\u001b[0m\n",
       "    \u001b[1m]\u001b[0m,\n",
       "    \u001b[33mmessage_history\u001b[0m=\u001b[1m[\u001b[0m\n",
       "        \u001b[1m{\u001b[0m\u001b[32m'role'\u001b[0m: \u001b[32m'user'\u001b[0m, \u001b[32m'content'\u001b[0m: \u001b[32m'What is the weather in Boston, MA \u001b[0m\u001b[32m(\u001b[0m\u001b[32min fahrenheit\u001b[0m\u001b[32m)\u001b[0m\u001b[32m?'\u001b[0m\u001b[1m}\u001b[0m,\n",
       "        \u001b[1m{\u001b[0m\n",
       "            \u001b[32m'role'\u001b[0m: \u001b[32m'assistant'\u001b[0m,\n",
       "            \u001b[32m'content'\u001b[0m: \u001b[32m\"I'll get the current weather in Boston, MA for you in Fahrenheit.\"\u001b[0m,\n",
       "            \u001b[32m'tool_calls'\u001b[0m: \u001b[1m[\u001b[0m\n",
       "                \u001b[1m{\u001b[0m\n",
       "                    \u001b[32m'id'\u001b[0m: \u001b[32m'toolu_01LfBDEUofERdY17y51nQxvD'\u001b[0m,\n",
       "                    \u001b[32m'type'\u001b[0m: \u001b[32m'function'\u001b[0m,\n",
       "                    \u001b[32m'function'\u001b[0m: \u001b[1m{\u001b[0m\n",
       "                        \u001b[32m'name'\u001b[0m: \u001b[32m'get_current_weather'\u001b[0m,\n",
       "                        \u001b[32m'arguments'\u001b[0m: \u001b[32m'\u001b[0m\u001b[32m{\u001b[0m\u001b[32m\"location\": \"Boston, MA\", \"unit\": \"fahrenheit\"\u001b[0m\u001b[32m}\u001b[0m\u001b[32m'\u001b[0m\n",
       "                    \u001b[1m}\u001b[0m\n",
       "                \u001b[1m}\u001b[0m\n",
       "            \u001b[1m]\u001b[0m\n",
       "        \u001b[1m}\u001b[0m\n",
       "    \u001b[1m]\u001b[0m,\n",
       "    \u001b[33mcost\u001b[0m=\u001b[1;36m0\u001b[0m\u001b[1;36m.002502\u001b[0m,\n",
       "    \u001b[33mhidden_fields\u001b[0m=\u001b[1m{\u001b[0m\u001b[1m}\u001b[0m\n",
       "\u001b[1m)\u001b[0m\n"
      ]
     },
     "metadata": {},
     "output_type": "display_data"
    }
   ],
   "source": [
    "from tinyloop.inference.litellm import LLM\n",
    "from rich import print as rprint\n",
    "from tinyloop.features.function_calling import Tool\n",
    "import litellm\n",
    "\n",
    "\n",
    "# def track_cost_callback(kwargs, completion_response, start_time, end_time):\n",
    "#     cost = kwargs[\"response_cost\"]\n",
    "#     print(f\"tloop_final_cost={cost:.6f}\")\n",
    "\n",
    "\n",
    "# litellm.success_callback = [track_cost_callback]\n",
    "\n",
    "\n",
    "def get_current_weather(location: str, unit: str):\n",
    "    \"\"\"Get the current weather in a given location\n",
    "\n",
    "    Parameters\n",
    "    ----------\n",
    "    location : str\n",
    "        The city and state, e.g. San Francisco, CA\n",
    "    unit : str {'celsius', 'fahrenheit'}\n",
    "        Temperature unit\n",
    "\n",
    "    Returns\n",
    "    -------\n",
    "    str\n",
    "        a sentence indicating the weather\n",
    "    \"\"\"\n",
    "    if location == \"Boston, MA\":\n",
    "        return \"The weather is 12F\"\n",
    "    return f\"Weather in {location} is sunny\"\n",
    "\n",
    "\n",
    "llm = LLM(\n",
    "    model=\"anthropic/claude-sonnet-4-20250514\",\n",
    "    temperature=0.1,\n",
    ")\n",
    "\n",
    "weather_tool = Tool(get_current_weather)\n",
    "\n",
    "inference = await llm.ainvoke(\n",
    "    prompt=\"What is the weather in Boston, MA (in fahrenheit)?\",\n",
    "    tools=[weather_tool],\n",
    "    stream=True,\n",
    "    parallel_tool_calls=False,\n",
    ")\n",
    "\n",
    "async for chunk in inference:\n",
    "    rprint(chunk)\n",
    "\n",
    "# for tool_call in inference.raw_response.choices[0].message.tool_calls:\n",
    "#     tool_name = tool_call.function.name\n",
    "#     tool_args = json.loads(tool_call.function.arguments)\n",
    "#     print(f\"Tool: {tool_name}\")\n",
    "#     print(f\"Args: {tool_args}\")\n",
    "#     print(weather_tool(**tool_args))"
   ]
  },
  {
   "cell_type": "code",
   "execution_count": 2,
   "id": "23009357",
   "metadata": {},
   "outputs": [
    {
     "data": {
      "text/html": [
       "<pre style=\"white-space:pre;overflow-x:auto;line-height:normal;font-family:Menlo,'DejaVu Sans Mono',consolas,'Courier New',monospace\"><span style=\"color: #800080; text-decoration-color: #800080; font-weight: bold\">LLMStreamingResponse</span><span style=\"font-weight: bold\">(</span>\n",
       "    <span style=\"color: #808000; text-decoration-color: #808000\">id</span>=<span style=\"color: #008000; text-decoration-color: #008000\">'chatcmpl-CHBLc8XG1n0tMpbp3Fc9tSET2kkXs'</span>,\n",
       "    <span style=\"color: #808000; text-decoration-color: #808000\">response</span>=<span style=\"color: #008000; text-decoration-color: #008000\">''</span>,\n",
       "    <span style=\"color: #808000; text-decoration-color: #808000\">tool_calls</span>=<span style=\"font-weight: bold\">[</span><span style=\"color: #800080; text-decoration-color: #800080; font-weight: bold\">ToolCall</span><span style=\"font-weight: bold\">(</span><span style=\"color: #808000; text-decoration-color: #808000\">function_name</span>=<span style=\"color: #008000; text-decoration-color: #008000\">'get_current_weather'</span>, <span style=\"color: #808000; text-decoration-color: #808000\">args</span>=<span style=\"font-weight: bold\">{}</span>, <span style=\"color: #808000; text-decoration-color: #808000\">id</span>=<span style=\"color: #008000; text-decoration-color: #008000\">'call_g3x4SuSFOcdRphrU1GBUiajw'</span><span style=\"font-weight: bold\">)]</span>\n",
       "<span style=\"font-weight: bold\">)</span>\n",
       "</pre>\n"
      ],
      "text/plain": [
       "\u001b[1;35mLLMStreamingResponse\u001b[0m\u001b[1m(\u001b[0m\n",
       "    \u001b[33mid\u001b[0m=\u001b[32m'chatcmpl-CHBLc8XG1n0tMpbp3Fc9tSET2kkXs'\u001b[0m,\n",
       "    \u001b[33mresponse\u001b[0m=\u001b[32m''\u001b[0m,\n",
       "    \u001b[33mtool_calls\u001b[0m=\u001b[1m[\u001b[0m\u001b[1;35mToolCall\u001b[0m\u001b[1m(\u001b[0m\u001b[33mfunction_name\u001b[0m=\u001b[32m'get_current_weather'\u001b[0m, \u001b[33margs\u001b[0m=\u001b[1m{\u001b[0m\u001b[1m}\u001b[0m, \u001b[33mid\u001b[0m=\u001b[32m'call_g3x4SuSFOcdRphrU1GBUiajw'\u001b[0m\u001b[1m)\u001b[0m\u001b[1m]\u001b[0m\n",
       "\u001b[1m)\u001b[0m\n"
      ]
     },
     "metadata": {},
     "output_type": "display_data"
    },
    {
     "name": "stderr",
     "output_type": "stream",
     "text": [
      "Failed to parse tool call arguments: {\"\n"
     ]
    },
    {
     "data": {
      "text/html": [
       "<pre style=\"white-space:pre;overflow-x:auto;line-height:normal;font-family:Menlo,'DejaVu Sans Mono',consolas,'Courier New',monospace\"><span style=\"color: #800080; text-decoration-color: #800080; font-weight: bold\">LLMStreamingResponse</span><span style=\"font-weight: bold\">(</span>\n",
       "    <span style=\"color: #808000; text-decoration-color: #808000\">id</span>=<span style=\"color: #008000; text-decoration-color: #008000\">'chatcmpl-CHBLc8XG1n0tMpbp3Fc9tSET2kkXs'</span>,\n",
       "    <span style=\"color: #808000; text-decoration-color: #808000\">response</span>=<span style=\"color: #008000; text-decoration-color: #008000\">''</span>,\n",
       "    <span style=\"color: #808000; text-decoration-color: #808000\">tool_calls</span>=<span style=\"font-weight: bold\">[</span><span style=\"color: #800080; text-decoration-color: #800080; font-weight: bold\">ToolCall</span><span style=\"font-weight: bold\">(</span><span style=\"color: #808000; text-decoration-color: #808000\">function_name</span>=<span style=\"color: #008000; text-decoration-color: #008000\">'get_current_weather'</span>, <span style=\"color: #808000; text-decoration-color: #808000\">args</span>=<span style=\"font-weight: bold\">{}</span>, <span style=\"color: #808000; text-decoration-color: #808000\">id</span>=<span style=\"color: #008000; text-decoration-color: #008000\">'call_g3x4SuSFOcdRphrU1GBUiajw'</span><span style=\"font-weight: bold\">)]</span>\n",
       "<span style=\"font-weight: bold\">)</span>\n",
       "</pre>\n"
      ],
      "text/plain": [
       "\u001b[1;35mLLMStreamingResponse\u001b[0m\u001b[1m(\u001b[0m\n",
       "    \u001b[33mid\u001b[0m=\u001b[32m'chatcmpl-CHBLc8XG1n0tMpbp3Fc9tSET2kkXs'\u001b[0m,\n",
       "    \u001b[33mresponse\u001b[0m=\u001b[32m''\u001b[0m,\n",
       "    \u001b[33mtool_calls\u001b[0m=\u001b[1m[\u001b[0m\u001b[1;35mToolCall\u001b[0m\u001b[1m(\u001b[0m\u001b[33mfunction_name\u001b[0m=\u001b[32m'get_current_weather'\u001b[0m, \u001b[33margs\u001b[0m=\u001b[1m{\u001b[0m\u001b[1m}\u001b[0m, \u001b[33mid\u001b[0m=\u001b[32m'call_g3x4SuSFOcdRphrU1GBUiajw'\u001b[0m\u001b[1m)\u001b[0m\u001b[1m]\u001b[0m\n",
       "\u001b[1m)\u001b[0m\n"
      ]
     },
     "metadata": {},
     "output_type": "display_data"
    },
    {
     "name": "stderr",
     "output_type": "stream",
     "text": [
      "Failed to parse tool call arguments: {\"location\n"
     ]
    },
    {
     "data": {
      "text/html": [
       "<pre style=\"white-space:pre;overflow-x:auto;line-height:normal;font-family:Menlo,'DejaVu Sans Mono',consolas,'Courier New',monospace\"><span style=\"color: #800080; text-decoration-color: #800080; font-weight: bold\">LLMStreamingResponse</span><span style=\"font-weight: bold\">(</span>\n",
       "    <span style=\"color: #808000; text-decoration-color: #808000\">id</span>=<span style=\"color: #008000; text-decoration-color: #008000\">'chatcmpl-CHBLc8XG1n0tMpbp3Fc9tSET2kkXs'</span>,\n",
       "    <span style=\"color: #808000; text-decoration-color: #808000\">response</span>=<span style=\"color: #008000; text-decoration-color: #008000\">''</span>,\n",
       "    <span style=\"color: #808000; text-decoration-color: #808000\">tool_calls</span>=<span style=\"font-weight: bold\">[</span><span style=\"color: #800080; text-decoration-color: #800080; font-weight: bold\">ToolCall</span><span style=\"font-weight: bold\">(</span><span style=\"color: #808000; text-decoration-color: #808000\">function_name</span>=<span style=\"color: #008000; text-decoration-color: #008000\">'get_current_weather'</span>, <span style=\"color: #808000; text-decoration-color: #808000\">args</span>=<span style=\"font-weight: bold\">{}</span>, <span style=\"color: #808000; text-decoration-color: #808000\">id</span>=<span style=\"color: #008000; text-decoration-color: #008000\">'call_g3x4SuSFOcdRphrU1GBUiajw'</span><span style=\"font-weight: bold\">)]</span>\n",
       "<span style=\"font-weight: bold\">)</span>\n",
       "</pre>\n"
      ],
      "text/plain": [
       "\u001b[1;35mLLMStreamingResponse\u001b[0m\u001b[1m(\u001b[0m\n",
       "    \u001b[33mid\u001b[0m=\u001b[32m'chatcmpl-CHBLc8XG1n0tMpbp3Fc9tSET2kkXs'\u001b[0m,\n",
       "    \u001b[33mresponse\u001b[0m=\u001b[32m''\u001b[0m,\n",
       "    \u001b[33mtool_calls\u001b[0m=\u001b[1m[\u001b[0m\u001b[1;35mToolCall\u001b[0m\u001b[1m(\u001b[0m\u001b[33mfunction_name\u001b[0m=\u001b[32m'get_current_weather'\u001b[0m, \u001b[33margs\u001b[0m=\u001b[1m{\u001b[0m\u001b[1m}\u001b[0m, \u001b[33mid\u001b[0m=\u001b[32m'call_g3x4SuSFOcdRphrU1GBUiajw'\u001b[0m\u001b[1m)\u001b[0m\u001b[1m]\u001b[0m\n",
       "\u001b[1m)\u001b[0m\n"
      ]
     },
     "metadata": {},
     "output_type": "display_data"
    },
    {
     "name": "stderr",
     "output_type": "stream",
     "text": [
      "Failed to parse tool call arguments: {\"location\":\"\n"
     ]
    },
    {
     "data": {
      "text/html": [
       "<pre style=\"white-space:pre;overflow-x:auto;line-height:normal;font-family:Menlo,'DejaVu Sans Mono',consolas,'Courier New',monospace\"><span style=\"color: #800080; text-decoration-color: #800080; font-weight: bold\">LLMStreamingResponse</span><span style=\"font-weight: bold\">(</span>\n",
       "    <span style=\"color: #808000; text-decoration-color: #808000\">id</span>=<span style=\"color: #008000; text-decoration-color: #008000\">'chatcmpl-CHBLc8XG1n0tMpbp3Fc9tSET2kkXs'</span>,\n",
       "    <span style=\"color: #808000; text-decoration-color: #808000\">response</span>=<span style=\"color: #008000; text-decoration-color: #008000\">''</span>,\n",
       "    <span style=\"color: #808000; text-decoration-color: #808000\">tool_calls</span>=<span style=\"font-weight: bold\">[</span><span style=\"color: #800080; text-decoration-color: #800080; font-weight: bold\">ToolCall</span><span style=\"font-weight: bold\">(</span><span style=\"color: #808000; text-decoration-color: #808000\">function_name</span>=<span style=\"color: #008000; text-decoration-color: #008000\">'get_current_weather'</span>, <span style=\"color: #808000; text-decoration-color: #808000\">args</span>=<span style=\"font-weight: bold\">{}</span>, <span style=\"color: #808000; text-decoration-color: #808000\">id</span>=<span style=\"color: #008000; text-decoration-color: #008000\">'call_g3x4SuSFOcdRphrU1GBUiajw'</span><span style=\"font-weight: bold\">)]</span>\n",
       "<span style=\"font-weight: bold\">)</span>\n",
       "</pre>\n"
      ],
      "text/plain": [
       "\u001b[1;35mLLMStreamingResponse\u001b[0m\u001b[1m(\u001b[0m\n",
       "    \u001b[33mid\u001b[0m=\u001b[32m'chatcmpl-CHBLc8XG1n0tMpbp3Fc9tSET2kkXs'\u001b[0m,\n",
       "    \u001b[33mresponse\u001b[0m=\u001b[32m''\u001b[0m,\n",
       "    \u001b[33mtool_calls\u001b[0m=\u001b[1m[\u001b[0m\u001b[1;35mToolCall\u001b[0m\u001b[1m(\u001b[0m\u001b[33mfunction_name\u001b[0m=\u001b[32m'get_current_weather'\u001b[0m, \u001b[33margs\u001b[0m=\u001b[1m{\u001b[0m\u001b[1m}\u001b[0m, \u001b[33mid\u001b[0m=\u001b[32m'call_g3x4SuSFOcdRphrU1GBUiajw'\u001b[0m\u001b[1m)\u001b[0m\u001b[1m]\u001b[0m\n",
       "\u001b[1m)\u001b[0m\n"
      ]
     },
     "metadata": {},
     "output_type": "display_data"
    },
    {
     "name": "stderr",
     "output_type": "stream",
     "text": [
      "Failed to parse tool call arguments: {\"location\":\"Boston\n"
     ]
    },
    {
     "data": {
      "text/html": [
       "<pre style=\"white-space:pre;overflow-x:auto;line-height:normal;font-family:Menlo,'DejaVu Sans Mono',consolas,'Courier New',monospace\"><span style=\"color: #800080; text-decoration-color: #800080; font-weight: bold\">LLMStreamingResponse</span><span style=\"font-weight: bold\">(</span>\n",
       "    <span style=\"color: #808000; text-decoration-color: #808000\">id</span>=<span style=\"color: #008000; text-decoration-color: #008000\">'chatcmpl-CHBLc8XG1n0tMpbp3Fc9tSET2kkXs'</span>,\n",
       "    <span style=\"color: #808000; text-decoration-color: #808000\">response</span>=<span style=\"color: #008000; text-decoration-color: #008000\">''</span>,\n",
       "    <span style=\"color: #808000; text-decoration-color: #808000\">tool_calls</span>=<span style=\"font-weight: bold\">[</span><span style=\"color: #800080; text-decoration-color: #800080; font-weight: bold\">ToolCall</span><span style=\"font-weight: bold\">(</span><span style=\"color: #808000; text-decoration-color: #808000\">function_name</span>=<span style=\"color: #008000; text-decoration-color: #008000\">'get_current_weather'</span>, <span style=\"color: #808000; text-decoration-color: #808000\">args</span>=<span style=\"font-weight: bold\">{}</span>, <span style=\"color: #808000; text-decoration-color: #808000\">id</span>=<span style=\"color: #008000; text-decoration-color: #008000\">'call_g3x4SuSFOcdRphrU1GBUiajw'</span><span style=\"font-weight: bold\">)]</span>\n",
       "<span style=\"font-weight: bold\">)</span>\n",
       "</pre>\n"
      ],
      "text/plain": [
       "\u001b[1;35mLLMStreamingResponse\u001b[0m\u001b[1m(\u001b[0m\n",
       "    \u001b[33mid\u001b[0m=\u001b[32m'chatcmpl-CHBLc8XG1n0tMpbp3Fc9tSET2kkXs'\u001b[0m,\n",
       "    \u001b[33mresponse\u001b[0m=\u001b[32m''\u001b[0m,\n",
       "    \u001b[33mtool_calls\u001b[0m=\u001b[1m[\u001b[0m\u001b[1;35mToolCall\u001b[0m\u001b[1m(\u001b[0m\u001b[33mfunction_name\u001b[0m=\u001b[32m'get_current_weather'\u001b[0m, \u001b[33margs\u001b[0m=\u001b[1m{\u001b[0m\u001b[1m}\u001b[0m, \u001b[33mid\u001b[0m=\u001b[32m'call_g3x4SuSFOcdRphrU1GBUiajw'\u001b[0m\u001b[1m)\u001b[0m\u001b[1m]\u001b[0m\n",
       "\u001b[1m)\u001b[0m\n"
      ]
     },
     "metadata": {},
     "output_type": "display_data"
    },
    {
     "name": "stderr",
     "output_type": "stream",
     "text": [
      "Failed to parse tool call arguments: {\"location\":\"Boston,\n"
     ]
    },
    {
     "data": {
      "text/html": [
       "<pre style=\"white-space:pre;overflow-x:auto;line-height:normal;font-family:Menlo,'DejaVu Sans Mono',consolas,'Courier New',monospace\"><span style=\"color: #800080; text-decoration-color: #800080; font-weight: bold\">LLMStreamingResponse</span><span style=\"font-weight: bold\">(</span>\n",
       "    <span style=\"color: #808000; text-decoration-color: #808000\">id</span>=<span style=\"color: #008000; text-decoration-color: #008000\">'chatcmpl-CHBLc8XG1n0tMpbp3Fc9tSET2kkXs'</span>,\n",
       "    <span style=\"color: #808000; text-decoration-color: #808000\">response</span>=<span style=\"color: #008000; text-decoration-color: #008000\">''</span>,\n",
       "    <span style=\"color: #808000; text-decoration-color: #808000\">tool_calls</span>=<span style=\"font-weight: bold\">[</span><span style=\"color: #800080; text-decoration-color: #800080; font-weight: bold\">ToolCall</span><span style=\"font-weight: bold\">(</span><span style=\"color: #808000; text-decoration-color: #808000\">function_name</span>=<span style=\"color: #008000; text-decoration-color: #008000\">'get_current_weather'</span>, <span style=\"color: #808000; text-decoration-color: #808000\">args</span>=<span style=\"font-weight: bold\">{}</span>, <span style=\"color: #808000; text-decoration-color: #808000\">id</span>=<span style=\"color: #008000; text-decoration-color: #008000\">'call_g3x4SuSFOcdRphrU1GBUiajw'</span><span style=\"font-weight: bold\">)]</span>\n",
       "<span style=\"font-weight: bold\">)</span>\n",
       "</pre>\n"
      ],
      "text/plain": [
       "\u001b[1;35mLLMStreamingResponse\u001b[0m\u001b[1m(\u001b[0m\n",
       "    \u001b[33mid\u001b[0m=\u001b[32m'chatcmpl-CHBLc8XG1n0tMpbp3Fc9tSET2kkXs'\u001b[0m,\n",
       "    \u001b[33mresponse\u001b[0m=\u001b[32m''\u001b[0m,\n",
       "    \u001b[33mtool_calls\u001b[0m=\u001b[1m[\u001b[0m\u001b[1;35mToolCall\u001b[0m\u001b[1m(\u001b[0m\u001b[33mfunction_name\u001b[0m=\u001b[32m'get_current_weather'\u001b[0m, \u001b[33margs\u001b[0m=\u001b[1m{\u001b[0m\u001b[1m}\u001b[0m, \u001b[33mid\u001b[0m=\u001b[32m'call_g3x4SuSFOcdRphrU1GBUiajw'\u001b[0m\u001b[1m)\u001b[0m\u001b[1m]\u001b[0m\n",
       "\u001b[1m)\u001b[0m\n"
      ]
     },
     "metadata": {},
     "output_type": "display_data"
    },
    {
     "name": "stderr",
     "output_type": "stream",
     "text": [
      "Failed to parse tool call arguments: {\"location\":\"Boston, MA\n"
     ]
    },
    {
     "data": {
      "text/html": [
       "<pre style=\"white-space:pre;overflow-x:auto;line-height:normal;font-family:Menlo,'DejaVu Sans Mono',consolas,'Courier New',monospace\"><span style=\"color: #800080; text-decoration-color: #800080; font-weight: bold\">LLMStreamingResponse</span><span style=\"font-weight: bold\">(</span>\n",
       "    <span style=\"color: #808000; text-decoration-color: #808000\">id</span>=<span style=\"color: #008000; text-decoration-color: #008000\">'chatcmpl-CHBLc8XG1n0tMpbp3Fc9tSET2kkXs'</span>,\n",
       "    <span style=\"color: #808000; text-decoration-color: #808000\">response</span>=<span style=\"color: #008000; text-decoration-color: #008000\">''</span>,\n",
       "    <span style=\"color: #808000; text-decoration-color: #808000\">tool_calls</span>=<span style=\"font-weight: bold\">[</span><span style=\"color: #800080; text-decoration-color: #800080; font-weight: bold\">ToolCall</span><span style=\"font-weight: bold\">(</span><span style=\"color: #808000; text-decoration-color: #808000\">function_name</span>=<span style=\"color: #008000; text-decoration-color: #008000\">'get_current_weather'</span>, <span style=\"color: #808000; text-decoration-color: #808000\">args</span>=<span style=\"font-weight: bold\">{}</span>, <span style=\"color: #808000; text-decoration-color: #808000\">id</span>=<span style=\"color: #008000; text-decoration-color: #008000\">'call_g3x4SuSFOcdRphrU1GBUiajw'</span><span style=\"font-weight: bold\">)]</span>\n",
       "<span style=\"font-weight: bold\">)</span>\n",
       "</pre>\n"
      ],
      "text/plain": [
       "\u001b[1;35mLLMStreamingResponse\u001b[0m\u001b[1m(\u001b[0m\n",
       "    \u001b[33mid\u001b[0m=\u001b[32m'chatcmpl-CHBLc8XG1n0tMpbp3Fc9tSET2kkXs'\u001b[0m,\n",
       "    \u001b[33mresponse\u001b[0m=\u001b[32m''\u001b[0m,\n",
       "    \u001b[33mtool_calls\u001b[0m=\u001b[1m[\u001b[0m\u001b[1;35mToolCall\u001b[0m\u001b[1m(\u001b[0m\u001b[33mfunction_name\u001b[0m=\u001b[32m'get_current_weather'\u001b[0m, \u001b[33margs\u001b[0m=\u001b[1m{\u001b[0m\u001b[1m}\u001b[0m, \u001b[33mid\u001b[0m=\u001b[32m'call_g3x4SuSFOcdRphrU1GBUiajw'\u001b[0m\u001b[1m)\u001b[0m\u001b[1m]\u001b[0m\n",
       "\u001b[1m)\u001b[0m\n"
      ]
     },
     "metadata": {},
     "output_type": "display_data"
    },
    {
     "name": "stderr",
     "output_type": "stream",
     "text": [
      "Failed to parse tool call arguments: {\"location\":\"Boston, MA\",\"\n"
     ]
    },
    {
     "data": {
      "text/html": [
       "<pre style=\"white-space:pre;overflow-x:auto;line-height:normal;font-family:Menlo,'DejaVu Sans Mono',consolas,'Courier New',monospace\"><span style=\"color: #800080; text-decoration-color: #800080; font-weight: bold\">LLMStreamingResponse</span><span style=\"font-weight: bold\">(</span>\n",
       "    <span style=\"color: #808000; text-decoration-color: #808000\">id</span>=<span style=\"color: #008000; text-decoration-color: #008000\">'chatcmpl-CHBLc8XG1n0tMpbp3Fc9tSET2kkXs'</span>,\n",
       "    <span style=\"color: #808000; text-decoration-color: #808000\">response</span>=<span style=\"color: #008000; text-decoration-color: #008000\">''</span>,\n",
       "    <span style=\"color: #808000; text-decoration-color: #808000\">tool_calls</span>=<span style=\"font-weight: bold\">[</span><span style=\"color: #800080; text-decoration-color: #800080; font-weight: bold\">ToolCall</span><span style=\"font-weight: bold\">(</span><span style=\"color: #808000; text-decoration-color: #808000\">function_name</span>=<span style=\"color: #008000; text-decoration-color: #008000\">'get_current_weather'</span>, <span style=\"color: #808000; text-decoration-color: #808000\">args</span>=<span style=\"font-weight: bold\">{}</span>, <span style=\"color: #808000; text-decoration-color: #808000\">id</span>=<span style=\"color: #008000; text-decoration-color: #008000\">'call_g3x4SuSFOcdRphrU1GBUiajw'</span><span style=\"font-weight: bold\">)]</span>\n",
       "<span style=\"font-weight: bold\">)</span>\n",
       "</pre>\n"
      ],
      "text/plain": [
       "\u001b[1;35mLLMStreamingResponse\u001b[0m\u001b[1m(\u001b[0m\n",
       "    \u001b[33mid\u001b[0m=\u001b[32m'chatcmpl-CHBLc8XG1n0tMpbp3Fc9tSET2kkXs'\u001b[0m,\n",
       "    \u001b[33mresponse\u001b[0m=\u001b[32m''\u001b[0m,\n",
       "    \u001b[33mtool_calls\u001b[0m=\u001b[1m[\u001b[0m\u001b[1;35mToolCall\u001b[0m\u001b[1m(\u001b[0m\u001b[33mfunction_name\u001b[0m=\u001b[32m'get_current_weather'\u001b[0m, \u001b[33margs\u001b[0m=\u001b[1m{\u001b[0m\u001b[1m}\u001b[0m, \u001b[33mid\u001b[0m=\u001b[32m'call_g3x4SuSFOcdRphrU1GBUiajw'\u001b[0m\u001b[1m)\u001b[0m\u001b[1m]\u001b[0m\n",
       "\u001b[1m)\u001b[0m\n"
      ]
     },
     "metadata": {},
     "output_type": "display_data"
    },
    {
     "name": "stderr",
     "output_type": "stream",
     "text": [
      "Failed to parse tool call arguments: {\"location\":\"Boston, MA\",\"unit\n"
     ]
    },
    {
     "data": {
      "text/html": [
       "<pre style=\"white-space:pre;overflow-x:auto;line-height:normal;font-family:Menlo,'DejaVu Sans Mono',consolas,'Courier New',monospace\"><span style=\"color: #800080; text-decoration-color: #800080; font-weight: bold\">LLMStreamingResponse</span><span style=\"font-weight: bold\">(</span>\n",
       "    <span style=\"color: #808000; text-decoration-color: #808000\">id</span>=<span style=\"color: #008000; text-decoration-color: #008000\">'chatcmpl-CHBLc8XG1n0tMpbp3Fc9tSET2kkXs'</span>,\n",
       "    <span style=\"color: #808000; text-decoration-color: #808000\">response</span>=<span style=\"color: #008000; text-decoration-color: #008000\">''</span>,\n",
       "    <span style=\"color: #808000; text-decoration-color: #808000\">tool_calls</span>=<span style=\"font-weight: bold\">[</span><span style=\"color: #800080; text-decoration-color: #800080; font-weight: bold\">ToolCall</span><span style=\"font-weight: bold\">(</span><span style=\"color: #808000; text-decoration-color: #808000\">function_name</span>=<span style=\"color: #008000; text-decoration-color: #008000\">'get_current_weather'</span>, <span style=\"color: #808000; text-decoration-color: #808000\">args</span>=<span style=\"font-weight: bold\">{}</span>, <span style=\"color: #808000; text-decoration-color: #808000\">id</span>=<span style=\"color: #008000; text-decoration-color: #008000\">'call_g3x4SuSFOcdRphrU1GBUiajw'</span><span style=\"font-weight: bold\">)]</span>\n",
       "<span style=\"font-weight: bold\">)</span>\n",
       "</pre>\n"
      ],
      "text/plain": [
       "\u001b[1;35mLLMStreamingResponse\u001b[0m\u001b[1m(\u001b[0m\n",
       "    \u001b[33mid\u001b[0m=\u001b[32m'chatcmpl-CHBLc8XG1n0tMpbp3Fc9tSET2kkXs'\u001b[0m,\n",
       "    \u001b[33mresponse\u001b[0m=\u001b[32m''\u001b[0m,\n",
       "    \u001b[33mtool_calls\u001b[0m=\u001b[1m[\u001b[0m\u001b[1;35mToolCall\u001b[0m\u001b[1m(\u001b[0m\u001b[33mfunction_name\u001b[0m=\u001b[32m'get_current_weather'\u001b[0m, \u001b[33margs\u001b[0m=\u001b[1m{\u001b[0m\u001b[1m}\u001b[0m, \u001b[33mid\u001b[0m=\u001b[32m'call_g3x4SuSFOcdRphrU1GBUiajw'\u001b[0m\u001b[1m)\u001b[0m\u001b[1m]\u001b[0m\n",
       "\u001b[1m)\u001b[0m\n"
      ]
     },
     "metadata": {},
     "output_type": "display_data"
    },
    {
     "name": "stderr",
     "output_type": "stream",
     "text": [
      "Failed to parse tool call arguments: {\"location\":\"Boston, MA\",\"unit\":\"\n"
     ]
    },
    {
     "data": {
      "text/html": [
       "<pre style=\"white-space:pre;overflow-x:auto;line-height:normal;font-family:Menlo,'DejaVu Sans Mono',consolas,'Courier New',monospace\"><span style=\"color: #800080; text-decoration-color: #800080; font-weight: bold\">LLMStreamingResponse</span><span style=\"font-weight: bold\">(</span>\n",
       "    <span style=\"color: #808000; text-decoration-color: #808000\">id</span>=<span style=\"color: #008000; text-decoration-color: #008000\">'chatcmpl-CHBLc8XG1n0tMpbp3Fc9tSET2kkXs'</span>,\n",
       "    <span style=\"color: #808000; text-decoration-color: #808000\">response</span>=<span style=\"color: #008000; text-decoration-color: #008000\">''</span>,\n",
       "    <span style=\"color: #808000; text-decoration-color: #808000\">tool_calls</span>=<span style=\"font-weight: bold\">[</span><span style=\"color: #800080; text-decoration-color: #800080; font-weight: bold\">ToolCall</span><span style=\"font-weight: bold\">(</span><span style=\"color: #808000; text-decoration-color: #808000\">function_name</span>=<span style=\"color: #008000; text-decoration-color: #008000\">'get_current_weather'</span>, <span style=\"color: #808000; text-decoration-color: #808000\">args</span>=<span style=\"font-weight: bold\">{}</span>, <span style=\"color: #808000; text-decoration-color: #808000\">id</span>=<span style=\"color: #008000; text-decoration-color: #008000\">'call_g3x4SuSFOcdRphrU1GBUiajw'</span><span style=\"font-weight: bold\">)]</span>\n",
       "<span style=\"font-weight: bold\">)</span>\n",
       "</pre>\n"
      ],
      "text/plain": [
       "\u001b[1;35mLLMStreamingResponse\u001b[0m\u001b[1m(\u001b[0m\n",
       "    \u001b[33mid\u001b[0m=\u001b[32m'chatcmpl-CHBLc8XG1n0tMpbp3Fc9tSET2kkXs'\u001b[0m,\n",
       "    \u001b[33mresponse\u001b[0m=\u001b[32m''\u001b[0m,\n",
       "    \u001b[33mtool_calls\u001b[0m=\u001b[1m[\u001b[0m\u001b[1;35mToolCall\u001b[0m\u001b[1m(\u001b[0m\u001b[33mfunction_name\u001b[0m=\u001b[32m'get_current_weather'\u001b[0m, \u001b[33margs\u001b[0m=\u001b[1m{\u001b[0m\u001b[1m}\u001b[0m, \u001b[33mid\u001b[0m=\u001b[32m'call_g3x4SuSFOcdRphrU1GBUiajw'\u001b[0m\u001b[1m)\u001b[0m\u001b[1m]\u001b[0m\n",
       "\u001b[1m)\u001b[0m\n"
      ]
     },
     "metadata": {},
     "output_type": "display_data"
    },
    {
     "name": "stderr",
     "output_type": "stream",
     "text": [
      "Failed to parse tool call arguments: {\"location\":\"Boston, MA\",\"unit\":\"fahren\n"
     ]
    },
    {
     "data": {
      "text/html": [
       "<pre style=\"white-space:pre;overflow-x:auto;line-height:normal;font-family:Menlo,'DejaVu Sans Mono',consolas,'Courier New',monospace\"><span style=\"color: #800080; text-decoration-color: #800080; font-weight: bold\">LLMStreamingResponse</span><span style=\"font-weight: bold\">(</span>\n",
       "    <span style=\"color: #808000; text-decoration-color: #808000\">id</span>=<span style=\"color: #008000; text-decoration-color: #008000\">'chatcmpl-CHBLc8XG1n0tMpbp3Fc9tSET2kkXs'</span>,\n",
       "    <span style=\"color: #808000; text-decoration-color: #808000\">response</span>=<span style=\"color: #008000; text-decoration-color: #008000\">''</span>,\n",
       "    <span style=\"color: #808000; text-decoration-color: #808000\">tool_calls</span>=<span style=\"font-weight: bold\">[</span><span style=\"color: #800080; text-decoration-color: #800080; font-weight: bold\">ToolCall</span><span style=\"font-weight: bold\">(</span><span style=\"color: #808000; text-decoration-color: #808000\">function_name</span>=<span style=\"color: #008000; text-decoration-color: #008000\">'get_current_weather'</span>, <span style=\"color: #808000; text-decoration-color: #808000\">args</span>=<span style=\"font-weight: bold\">{}</span>, <span style=\"color: #808000; text-decoration-color: #808000\">id</span>=<span style=\"color: #008000; text-decoration-color: #008000\">'call_g3x4SuSFOcdRphrU1GBUiajw'</span><span style=\"font-weight: bold\">)]</span>\n",
       "<span style=\"font-weight: bold\">)</span>\n",
       "</pre>\n"
      ],
      "text/plain": [
       "\u001b[1;35mLLMStreamingResponse\u001b[0m\u001b[1m(\u001b[0m\n",
       "    \u001b[33mid\u001b[0m=\u001b[32m'chatcmpl-CHBLc8XG1n0tMpbp3Fc9tSET2kkXs'\u001b[0m,\n",
       "    \u001b[33mresponse\u001b[0m=\u001b[32m''\u001b[0m,\n",
       "    \u001b[33mtool_calls\u001b[0m=\u001b[1m[\u001b[0m\u001b[1;35mToolCall\u001b[0m\u001b[1m(\u001b[0m\u001b[33mfunction_name\u001b[0m=\u001b[32m'get_current_weather'\u001b[0m, \u001b[33margs\u001b[0m=\u001b[1m{\u001b[0m\u001b[1m}\u001b[0m, \u001b[33mid\u001b[0m=\u001b[32m'call_g3x4SuSFOcdRphrU1GBUiajw'\u001b[0m\u001b[1m)\u001b[0m\u001b[1m]\u001b[0m\n",
       "\u001b[1m)\u001b[0m\n"
      ]
     },
     "metadata": {},
     "output_type": "display_data"
    },
    {
     "name": "stderr",
     "output_type": "stream",
     "text": [
      "Failed to parse tool call arguments: {\"location\":\"Boston, MA\",\"unit\":\"fahrenheit\n"
     ]
    },
    {
     "data": {
      "text/html": [
       "<pre style=\"white-space:pre;overflow-x:auto;line-height:normal;font-family:Menlo,'DejaVu Sans Mono',consolas,'Courier New',monospace\"><span style=\"color: #800080; text-decoration-color: #800080; font-weight: bold\">LLMStreamingResponse</span><span style=\"font-weight: bold\">(</span>\n",
       "    <span style=\"color: #808000; text-decoration-color: #808000\">id</span>=<span style=\"color: #008000; text-decoration-color: #008000\">'chatcmpl-CHBLc8XG1n0tMpbp3Fc9tSET2kkXs'</span>,\n",
       "    <span style=\"color: #808000; text-decoration-color: #808000\">response</span>=<span style=\"color: #008000; text-decoration-color: #008000\">''</span>,\n",
       "    <span style=\"color: #808000; text-decoration-color: #808000\">tool_calls</span>=<span style=\"font-weight: bold\">[</span><span style=\"color: #800080; text-decoration-color: #800080; font-weight: bold\">ToolCall</span><span style=\"font-weight: bold\">(</span><span style=\"color: #808000; text-decoration-color: #808000\">function_name</span>=<span style=\"color: #008000; text-decoration-color: #008000\">'get_current_weather'</span>, <span style=\"color: #808000; text-decoration-color: #808000\">args</span>=<span style=\"font-weight: bold\">{}</span>, <span style=\"color: #808000; text-decoration-color: #808000\">id</span>=<span style=\"color: #008000; text-decoration-color: #008000\">'call_g3x4SuSFOcdRphrU1GBUiajw'</span><span style=\"font-weight: bold\">)]</span>\n",
       "<span style=\"font-weight: bold\">)</span>\n",
       "</pre>\n"
      ],
      "text/plain": [
       "\u001b[1;35mLLMStreamingResponse\u001b[0m\u001b[1m(\u001b[0m\n",
       "    \u001b[33mid\u001b[0m=\u001b[32m'chatcmpl-CHBLc8XG1n0tMpbp3Fc9tSET2kkXs'\u001b[0m,\n",
       "    \u001b[33mresponse\u001b[0m=\u001b[32m''\u001b[0m,\n",
       "    \u001b[33mtool_calls\u001b[0m=\u001b[1m[\u001b[0m\u001b[1;35mToolCall\u001b[0m\u001b[1m(\u001b[0m\u001b[33mfunction_name\u001b[0m=\u001b[32m'get_current_weather'\u001b[0m, \u001b[33margs\u001b[0m=\u001b[1m{\u001b[0m\u001b[1m}\u001b[0m, \u001b[33mid\u001b[0m=\u001b[32m'call_g3x4SuSFOcdRphrU1GBUiajw'\u001b[0m\u001b[1m)\u001b[0m\u001b[1m]\u001b[0m\n",
       "\u001b[1m)\u001b[0m\n"
      ]
     },
     "metadata": {},
     "output_type": "display_data"
    },
    {
     "data": {
      "text/html": [
       "<pre style=\"white-space:pre;overflow-x:auto;line-height:normal;font-family:Menlo,'DejaVu Sans Mono',consolas,'Courier New',monospace\"><span style=\"color: #800080; text-decoration-color: #800080; font-weight: bold\">LLMStreamingResponse</span><span style=\"font-weight: bold\">(</span>\n",
       "    <span style=\"color: #808000; text-decoration-color: #808000\">id</span>=<span style=\"color: #008000; text-decoration-color: #008000\">'chatcmpl-CHBLc8XG1n0tMpbp3Fc9tSET2kkXs'</span>,\n",
       "    <span style=\"color: #808000; text-decoration-color: #808000\">response</span>=<span style=\"color: #008000; text-decoration-color: #008000\">''</span>,\n",
       "    <span style=\"color: #808000; text-decoration-color: #808000\">tool_calls</span>=<span style=\"font-weight: bold\">[</span>\n",
       "        <span style=\"color: #800080; text-decoration-color: #800080; font-weight: bold\">ToolCall</span><span style=\"font-weight: bold\">(</span>\n",
       "            <span style=\"color: #808000; text-decoration-color: #808000\">function_name</span>=<span style=\"color: #008000; text-decoration-color: #008000\">'get_current_weather'</span>,\n",
       "            <span style=\"color: #808000; text-decoration-color: #808000\">args</span>=<span style=\"font-weight: bold\">{</span><span style=\"color: #008000; text-decoration-color: #008000\">'location'</span>: <span style=\"color: #008000; text-decoration-color: #008000\">'Boston, MA'</span>, <span style=\"color: #008000; text-decoration-color: #008000\">'unit'</span>: <span style=\"color: #008000; text-decoration-color: #008000\">'fahrenheit'</span><span style=\"font-weight: bold\">}</span>,\n",
       "            <span style=\"color: #808000; text-decoration-color: #808000\">id</span>=<span style=\"color: #008000; text-decoration-color: #008000\">'call_g3x4SuSFOcdRphrU1GBUiajw'</span>\n",
       "        <span style=\"font-weight: bold\">)</span>\n",
       "    <span style=\"font-weight: bold\">]</span>\n",
       "<span style=\"font-weight: bold\">)</span>\n",
       "</pre>\n"
      ],
      "text/plain": [
       "\u001b[1;35mLLMStreamingResponse\u001b[0m\u001b[1m(\u001b[0m\n",
       "    \u001b[33mid\u001b[0m=\u001b[32m'chatcmpl-CHBLc8XG1n0tMpbp3Fc9tSET2kkXs'\u001b[0m,\n",
       "    \u001b[33mresponse\u001b[0m=\u001b[32m''\u001b[0m,\n",
       "    \u001b[33mtool_calls\u001b[0m=\u001b[1m[\u001b[0m\n",
       "        \u001b[1;35mToolCall\u001b[0m\u001b[1m(\u001b[0m\n",
       "            \u001b[33mfunction_name\u001b[0m=\u001b[32m'get_current_weather'\u001b[0m,\n",
       "            \u001b[33margs\u001b[0m=\u001b[1m{\u001b[0m\u001b[32m'location'\u001b[0m: \u001b[32m'Boston, MA'\u001b[0m, \u001b[32m'unit'\u001b[0m: \u001b[32m'fahrenheit'\u001b[0m\u001b[1m}\u001b[0m,\n",
       "            \u001b[33mid\u001b[0m=\u001b[32m'call_g3x4SuSFOcdRphrU1GBUiajw'\u001b[0m\n",
       "        \u001b[1m)\u001b[0m\n",
       "    \u001b[1m]\u001b[0m\n",
       "\u001b[1m)\u001b[0m\n"
      ]
     },
     "metadata": {},
     "output_type": "display_data"
    },
    {
     "data": {
      "text/html": [
       "<pre style=\"white-space:pre;overflow-x:auto;line-height:normal;font-family:Menlo,'DejaVu Sans Mono',consolas,'Courier New',monospace\"><span style=\"color: #800080; text-decoration-color: #800080; font-weight: bold\">LLMStreamingResponse</span><span style=\"font-weight: bold\">(</span>\n",
       "    <span style=\"color: #808000; text-decoration-color: #808000\">id</span>=<span style=\"color: #008000; text-decoration-color: #008000\">'chatcmpl-CHBLc8XG1n0tMpbp3Fc9tSET2kkXs'</span>,\n",
       "    <span style=\"color: #808000; text-decoration-color: #808000\">response</span>=<span style=\"color: #008000; text-decoration-color: #008000\">''</span>,\n",
       "    <span style=\"color: #808000; text-decoration-color: #808000\">tool_calls</span>=<span style=\"font-weight: bold\">[</span>\n",
       "        <span style=\"color: #800080; text-decoration-color: #800080; font-weight: bold\">ToolCall</span><span style=\"font-weight: bold\">(</span>\n",
       "            <span style=\"color: #808000; text-decoration-color: #808000\">function_name</span>=<span style=\"color: #008000; text-decoration-color: #008000\">'get_current_weather'</span>,\n",
       "            <span style=\"color: #808000; text-decoration-color: #808000\">args</span>=<span style=\"font-weight: bold\">{</span><span style=\"color: #008000; text-decoration-color: #008000\">'location'</span>: <span style=\"color: #008000; text-decoration-color: #008000\">'Boston, MA'</span>, <span style=\"color: #008000; text-decoration-color: #008000\">'unit'</span>: <span style=\"color: #008000; text-decoration-color: #008000\">'fahrenheit'</span><span style=\"font-weight: bold\">}</span>,\n",
       "            <span style=\"color: #808000; text-decoration-color: #808000\">id</span>=<span style=\"color: #008000; text-decoration-color: #008000\">'call_g3x4SuSFOcdRphrU1GBUiajw'</span>\n",
       "        <span style=\"font-weight: bold\">)</span>\n",
       "    <span style=\"font-weight: bold\">]</span>\n",
       "<span style=\"font-weight: bold\">)</span>\n",
       "</pre>\n"
      ],
      "text/plain": [
       "\u001b[1;35mLLMStreamingResponse\u001b[0m\u001b[1m(\u001b[0m\n",
       "    \u001b[33mid\u001b[0m=\u001b[32m'chatcmpl-CHBLc8XG1n0tMpbp3Fc9tSET2kkXs'\u001b[0m,\n",
       "    \u001b[33mresponse\u001b[0m=\u001b[32m''\u001b[0m,\n",
       "    \u001b[33mtool_calls\u001b[0m=\u001b[1m[\u001b[0m\n",
       "        \u001b[1;35mToolCall\u001b[0m\u001b[1m(\u001b[0m\n",
       "            \u001b[33mfunction_name\u001b[0m=\u001b[32m'get_current_weather'\u001b[0m,\n",
       "            \u001b[33margs\u001b[0m=\u001b[1m{\u001b[0m\u001b[32m'location'\u001b[0m: \u001b[32m'Boston, MA'\u001b[0m, \u001b[32m'unit'\u001b[0m: \u001b[32m'fahrenheit'\u001b[0m\u001b[1m}\u001b[0m,\n",
       "            \u001b[33mid\u001b[0m=\u001b[32m'call_g3x4SuSFOcdRphrU1GBUiajw'\u001b[0m\n",
       "        \u001b[1m)\u001b[0m\n",
       "    \u001b[1m]\u001b[0m\n",
       "\u001b[1m)\u001b[0m\n"
      ]
     },
     "metadata": {},
     "output_type": "display_data"
    },
    {
     "data": {
      "text/html": [
       "<pre style=\"white-space:pre;overflow-x:auto;line-height:normal;font-family:Menlo,'DejaVu Sans Mono',consolas,'Courier New',monospace\"><span style=\"color: #800080; text-decoration-color: #800080; font-weight: bold\">LLMStreamingResponse</span><span style=\"font-weight: bold\">(</span>\n",
       "    <span style=\"color: #808000; text-decoration-color: #808000\">id</span>=<span style=\"color: #008000; text-decoration-color: #008000\">'chatcmpl-CHBLc8XG1n0tMpbp3Fc9tSET2kkXs'</span>,\n",
       "    <span style=\"color: #808000; text-decoration-color: #808000\">response</span>=<span style=\"color: #008000; text-decoration-color: #008000\">''</span>,\n",
       "    <span style=\"color: #808000; text-decoration-color: #808000\">tool_calls</span>=<span style=\"font-weight: bold\">[</span>\n",
       "        <span style=\"color: #800080; text-decoration-color: #800080; font-weight: bold\">ToolCall</span><span style=\"font-weight: bold\">(</span>\n",
       "            <span style=\"color: #808000; text-decoration-color: #808000\">function_name</span>=<span style=\"color: #008000; text-decoration-color: #008000\">'get_current_weather'</span>,\n",
       "            <span style=\"color: #808000; text-decoration-color: #808000\">args</span>=<span style=\"font-weight: bold\">{</span><span style=\"color: #008000; text-decoration-color: #008000\">'location'</span>: <span style=\"color: #008000; text-decoration-color: #008000\">'Boston, MA'</span>, <span style=\"color: #008000; text-decoration-color: #008000\">'unit'</span>: <span style=\"color: #008000; text-decoration-color: #008000\">'fahrenheit'</span><span style=\"font-weight: bold\">}</span>,\n",
       "            <span style=\"color: #808000; text-decoration-color: #808000\">id</span>=<span style=\"color: #008000; text-decoration-color: #008000\">'call_g3x4SuSFOcdRphrU1GBUiajw'</span>\n",
       "        <span style=\"font-weight: bold\">)</span>\n",
       "    <span style=\"font-weight: bold\">]</span>\n",
       "<span style=\"font-weight: bold\">)</span>\n",
       "</pre>\n"
      ],
      "text/plain": [
       "\u001b[1;35mLLMStreamingResponse\u001b[0m\u001b[1m(\u001b[0m\n",
       "    \u001b[33mid\u001b[0m=\u001b[32m'chatcmpl-CHBLc8XG1n0tMpbp3Fc9tSET2kkXs'\u001b[0m,\n",
       "    \u001b[33mresponse\u001b[0m=\u001b[32m''\u001b[0m,\n",
       "    \u001b[33mtool_calls\u001b[0m=\u001b[1m[\u001b[0m\n",
       "        \u001b[1;35mToolCall\u001b[0m\u001b[1m(\u001b[0m\n",
       "            \u001b[33mfunction_name\u001b[0m=\u001b[32m'get_current_weather'\u001b[0m,\n",
       "            \u001b[33margs\u001b[0m=\u001b[1m{\u001b[0m\u001b[32m'location'\u001b[0m: \u001b[32m'Boston, MA'\u001b[0m, \u001b[32m'unit'\u001b[0m: \u001b[32m'fahrenheit'\u001b[0m\u001b[1m}\u001b[0m,\n",
       "            \u001b[33mid\u001b[0m=\u001b[32m'call_g3x4SuSFOcdRphrU1GBUiajw'\u001b[0m\n",
       "        \u001b[1m)\u001b[0m\n",
       "    \u001b[1m]\u001b[0m\n",
       "\u001b[1m)\u001b[0m\n"
      ]
     },
     "metadata": {},
     "output_type": "display_data"
    },
    {
     "name": "stderr",
     "output_type": "stream",
     "text": [
      "2025/09/18 10:00:32 WARNING mlflow.utils.autologging_utils: MLflow autologging encountered a warning: \"/Users/fernandomeira/projects/tinyloop/.venv/lib/python3.11/site-packages/pydantic/main.py:463: UserWarning: Pydantic serializer warnings:\n",
      "  PydanticSerializationUnexpectedValue(Expected 9 fields but got 5: Expected `Message` - serialized value may not be as expected [input_value=Message(content=None, rol...er_specific_fields=None), input_type=Message])\n",
      "  PydanticSerializationUnexpectedValue(Expected `StreamingChoices` - serialized value may not be as expected [input_value=Choices(finish_reason='st...r_specific_fields=None)), input_type=Choices])\"\n",
      "Cost capture timed out after 2.0s, using 0.0\n"
     ]
    },
    {
     "name": "stdout",
     "output_type": "stream",
     "text": [
      "captured_cost: 0.0\n"
     ]
    },
    {
     "data": {
      "text/html": [
       "<pre style=\"white-space:pre;overflow-x:auto;line-height:normal;font-family:Menlo,'DejaVu Sans Mono',consolas,'Courier New',monospace\"><span style=\"color: #800080; text-decoration-color: #800080; font-weight: bold\">LLMResponse</span><span style=\"font-weight: bold\">(</span>\n",
       "    <span style=\"color: #808000; text-decoration-color: #808000\">response</span>=<span style=\"color: #008000; text-decoration-color: #008000\">''</span>,\n",
       "    <span style=\"color: #808000; text-decoration-color: #808000\">raw_response</span>=<span style=\"color: #800080; text-decoration-color: #800080; font-style: italic\">None</span>,\n",
       "    <span style=\"color: #808000; text-decoration-color: #808000\">tool_calls</span>=<span style=\"font-weight: bold\">[</span>\n",
       "        <span style=\"color: #800080; text-decoration-color: #800080; font-weight: bold\">ToolCall</span><span style=\"font-weight: bold\">(</span>\n",
       "            <span style=\"color: #808000; text-decoration-color: #808000\">function_name</span>=<span style=\"color: #008000; text-decoration-color: #008000\">'get_current_weather'</span>,\n",
       "            <span style=\"color: #808000; text-decoration-color: #808000\">args</span>=<span style=\"font-weight: bold\">{</span><span style=\"color: #008000; text-decoration-color: #008000\">'location'</span>: <span style=\"color: #008000; text-decoration-color: #008000\">'Boston, MA'</span>, <span style=\"color: #008000; text-decoration-color: #008000\">'unit'</span>: <span style=\"color: #008000; text-decoration-color: #008000\">'fahrenheit'</span><span style=\"font-weight: bold\">}</span>,\n",
       "            <span style=\"color: #808000; text-decoration-color: #808000\">id</span>=<span style=\"color: #008000; text-decoration-color: #008000\">'call_g3x4SuSFOcdRphrU1GBUiajw'</span>\n",
       "        <span style=\"font-weight: bold\">)</span>\n",
       "    <span style=\"font-weight: bold\">]</span>,\n",
       "    <span style=\"color: #808000; text-decoration-color: #808000\">message_history</span>=<span style=\"font-weight: bold\">[</span>\n",
       "        <span style=\"font-weight: bold\">{</span><span style=\"color: #008000; text-decoration-color: #008000\">'role'</span>: <span style=\"color: #008000; text-decoration-color: #008000\">'user'</span>, <span style=\"color: #008000; text-decoration-color: #008000\">'content'</span>: <span style=\"color: #008000; text-decoration-color: #008000\">'What is the weather in Boston, MA (in fahrenheit)?'</span><span style=\"font-weight: bold\">}</span>,\n",
       "        <span style=\"font-weight: bold\">{</span>\n",
       "            <span style=\"color: #008000; text-decoration-color: #008000\">'role'</span>: <span style=\"color: #008000; text-decoration-color: #008000\">'assistant'</span>,\n",
       "            <span style=\"color: #008000; text-decoration-color: #008000\">'content'</span>: <span style=\"color: #008000; text-decoration-color: #008000\">''</span>,\n",
       "            <span style=\"color: #008000; text-decoration-color: #008000\">'tool_calls'</span>: <span style=\"font-weight: bold\">[</span>\n",
       "                <span style=\"font-weight: bold\">{</span>\n",
       "                    <span style=\"color: #008000; text-decoration-color: #008000\">'id'</span>: <span style=\"color: #008000; text-decoration-color: #008000\">'call_g3x4SuSFOcdRphrU1GBUiajw'</span>,\n",
       "                    <span style=\"color: #008000; text-decoration-color: #008000\">'type'</span>: <span style=\"color: #008000; text-decoration-color: #008000\">'function'</span>,\n",
       "                    <span style=\"color: #008000; text-decoration-color: #008000\">'function'</span>: <span style=\"font-weight: bold\">{</span>\n",
       "                        <span style=\"color: #008000; text-decoration-color: #008000\">'name'</span>: <span style=\"color: #008000; text-decoration-color: #008000\">'get_current_weather'</span>,\n",
       "                        <span style=\"color: #008000; text-decoration-color: #008000\">'arguments'</span>: <span style=\"color: #008000; text-decoration-color: #008000\">'{\"location\": \"Boston, MA\", \"unit\": \"fahrenheit\"}'</span>\n",
       "                    <span style=\"font-weight: bold\">}</span>\n",
       "                <span style=\"font-weight: bold\">}</span>\n",
       "            <span style=\"font-weight: bold\">]</span>\n",
       "        <span style=\"font-weight: bold\">}</span>\n",
       "    <span style=\"font-weight: bold\">]</span>,\n",
       "    <span style=\"color: #808000; text-decoration-color: #808000\">cost</span>=<span style=\"color: #008080; text-decoration-color: #008080; font-weight: bold\">0.0</span>,\n",
       "    <span style=\"color: #808000; text-decoration-color: #808000\">hidden_fields</span>=<span style=\"font-weight: bold\">{}</span>\n",
       "<span style=\"font-weight: bold\">)</span>\n",
       "</pre>\n"
      ],
      "text/plain": [
       "\u001b[1;35mLLMResponse\u001b[0m\u001b[1m(\u001b[0m\n",
       "    \u001b[33mresponse\u001b[0m=\u001b[32m''\u001b[0m,\n",
       "    \u001b[33mraw_response\u001b[0m=\u001b[3;35mNone\u001b[0m,\n",
       "    \u001b[33mtool_calls\u001b[0m=\u001b[1m[\u001b[0m\n",
       "        \u001b[1;35mToolCall\u001b[0m\u001b[1m(\u001b[0m\n",
       "            \u001b[33mfunction_name\u001b[0m=\u001b[32m'get_current_weather'\u001b[0m,\n",
       "            \u001b[33margs\u001b[0m=\u001b[1m{\u001b[0m\u001b[32m'location'\u001b[0m: \u001b[32m'Boston, MA'\u001b[0m, \u001b[32m'unit'\u001b[0m: \u001b[32m'fahrenheit'\u001b[0m\u001b[1m}\u001b[0m,\n",
       "            \u001b[33mid\u001b[0m=\u001b[32m'call_g3x4SuSFOcdRphrU1GBUiajw'\u001b[0m\n",
       "        \u001b[1m)\u001b[0m\n",
       "    \u001b[1m]\u001b[0m,\n",
       "    \u001b[33mmessage_history\u001b[0m=\u001b[1m[\u001b[0m\n",
       "        \u001b[1m{\u001b[0m\u001b[32m'role'\u001b[0m: \u001b[32m'user'\u001b[0m, \u001b[32m'content'\u001b[0m: \u001b[32m'What is the weather in Boston, MA \u001b[0m\u001b[32m(\u001b[0m\u001b[32min fahrenheit\u001b[0m\u001b[32m)\u001b[0m\u001b[32m?'\u001b[0m\u001b[1m}\u001b[0m,\n",
       "        \u001b[1m{\u001b[0m\n",
       "            \u001b[32m'role'\u001b[0m: \u001b[32m'assistant'\u001b[0m,\n",
       "            \u001b[32m'content'\u001b[0m: \u001b[32m''\u001b[0m,\n",
       "            \u001b[32m'tool_calls'\u001b[0m: \u001b[1m[\u001b[0m\n",
       "                \u001b[1m{\u001b[0m\n",
       "                    \u001b[32m'id'\u001b[0m: \u001b[32m'call_g3x4SuSFOcdRphrU1GBUiajw'\u001b[0m,\n",
       "                    \u001b[32m'type'\u001b[0m: \u001b[32m'function'\u001b[0m,\n",
       "                    \u001b[32m'function'\u001b[0m: \u001b[1m{\u001b[0m\n",
       "                        \u001b[32m'name'\u001b[0m: \u001b[32m'get_current_weather'\u001b[0m,\n",
       "                        \u001b[32m'arguments'\u001b[0m: \u001b[32m'\u001b[0m\u001b[32m{\u001b[0m\u001b[32m\"location\": \"Boston, MA\", \"unit\": \"fahrenheit\"\u001b[0m\u001b[32m}\u001b[0m\u001b[32m'\u001b[0m\n",
       "                    \u001b[1m}\u001b[0m\n",
       "                \u001b[1m}\u001b[0m\n",
       "            \u001b[1m]\u001b[0m\n",
       "        \u001b[1m}\u001b[0m\n",
       "    \u001b[1m]\u001b[0m,\n",
       "    \u001b[33mcost\u001b[0m=\u001b[1;36m0\u001b[0m\u001b[1;36m.0\u001b[0m,\n",
       "    \u001b[33mhidden_fields\u001b[0m=\u001b[1m{\u001b[0m\u001b[1m}\u001b[0m\n",
       "\u001b[1m)\u001b[0m\n"
      ]
     },
     "metadata": {},
     "output_type": "display_data"
    }
   ],
   "source": [
    "from tinyloop.inference.litellm import LLM\n",
    "from rich import print as rprint\n",
    "from tinyloop.features.function_calling import Tool\n",
    "import litellm\n",
    "\n",
    "\n",
    "# def track_cost_callback(kwargs, completion_response, start_time, end_time):\n",
    "#     cost = kwargs[\"response_cost\"]\n",
    "#     print(f\"tloop_final_cost={cost:.6f}\")\n",
    "\n",
    "\n",
    "# litellm.success_callback = [track_cost_callback]\n",
    "\n",
    "\n",
    "def get_current_weather(location: str, unit: str):\n",
    "    \"\"\"Get the current weather in a given location\n",
    "\n",
    "    Parameters\n",
    "    ----------\n",
    "    location : str\n",
    "        The city and state, e.g. San Francisco, CA\n",
    "    unit : str {'celsius', 'fahrenheit'}\n",
    "        Temperature unit\n",
    "\n",
    "    Returns\n",
    "    -------\n",
    "    str\n",
    "        a sentence indicating the weather\n",
    "    \"\"\"\n",
    "    if location == \"Boston, MA\":\n",
    "        return \"The weather is 12F\"\n",
    "    return f\"Weather in {location} is sunny\"\n",
    "\n",
    "\n",
    "llm = LLM(\n",
    "    model=\"openai/gpt-4.1\",\n",
    "    temperature=0.1,\n",
    ")\n",
    "\n",
    "weather_tool = Tool(get_current_weather)\n",
    "\n",
    "inference = await llm.ainvoke(\n",
    "    prompt=\"What is the weather in Boston, MA (in fahrenheit)?\",\n",
    "    tools=[weather_tool],\n",
    "    stream=True,\n",
    "    parallel_tool_calls=False,\n",
    ")\n",
    "\n",
    "async for chunk in inference:\n",
    "    rprint(chunk)\n",
    "\n",
    "# for tool_call in inference.raw_response.choices[0].message.tool_calls:\n",
    "#     tool_name = tool_call.function.name\n",
    "#     tool_args = json.loads(tool_call.function.arguments)\n",
    "#     print(f\"Tool: {tool_name}\")\n",
    "#     print(f\"Args: {tool_args}\")\n",
    "#     print(weather_tool(**tool_args))"
   ]
  },
  {
   "cell_type": "code",
   "execution_count": null,
   "id": "87c7238a",
   "metadata": {},
   "outputs": [],
   "source": [
    "from tinyloop.inference.litellm import LLM\n",
    "from rich import print as rprint\n",
    "from tinyloop.features.function_calling import Tool\n",
    "from litellm import acompletion\n",
    "\n",
    "\n",
    "# def track_cost_callback(kwargs, completion_response, start_time, end_time):\n",
    "#     cost = kwargs[\"response_cost\"]\n",
    "#     print(f\"tloop_final_cost={cost:.6f}\")\n",
    "\n",
    "\n",
    "# litellm.success_callback = [track_cost_callback]\n",
    "\n",
    "\n",
    "def get_current_weather(location: str, unit: str):\n",
    "    \"\"\"Get the current weather in a given location\n",
    "\n",
    "    Parameters\n",
    "    ----------\n",
    "    location : str\n",
    "        The city and state, e.g. San Francisco, CA\n",
    "    unit : str {'celsius', 'fahrenheit'}\n",
    "        Temperature unit\n",
    "\n",
    "    Returns\n",
    "    -------\n",
    "    str\n",
    "        a sentence indicating the weather\n",
    "    \"\"\"\n",
    "    if location == \"Boston, MA\":\n",
    "        return \"The weather is 12F\"\n",
    "    return f\"Weather in {location} is sunny\"\n",
    "\n",
    "\n",
    "llm = LLM(\n",
    "    model=\"anthropic/claude-sonnet-4-20250514\",\n",
    "    temperature=0.1,\n",
    ")\n",
    "\n",
    "weather_tool = Tool(get_current_weather)\n",
    "\n",
    "inference = await acompletion(\n",
    "    model=\"anthropic/claude-sonnet-4-20250514\",\n",
    "    messages=[\n",
    "        {\n",
    "            \"role\": \"user\",\n",
    "            \"content\": \"What is the weather in Boston, MA (in fahrenheit)?\",\n",
    "        }\n",
    "    ],\n",
    "    tools=[weather_tool.definition],\n",
    "    stream=True,\n",
    "    parallel_tool_calls=False,\n",
    ")\n",
    "\n",
    "async for chunk in inference:\n",
    "    print(chunk)\n",
    "\n",
    "# for tool_call in inference.raw_response.choices[0].message.tool_calls:\n",
    "#     tool_name = tool_call.function.name\n",
    "#     tool_args = json.loads(tool_call.function.arguments)\n",
    "#     print(f\"Tool: {tool_name}\")\n",
    "#     print(f\"Args: {tool_args}\")\n",
    "#     print(weather_tool(**tool_args))"
   ]
  },
  {
   "cell_type": "code",
   "execution_count": null,
   "id": "54506cc4",
   "metadata": {},
   "outputs": [],
   "source": [
    "from tinyloop.inference.litellm import LLM\n",
    "from rich import print as rprint\n",
    "from tinyloop.features.function_calling import Tool\n",
    "from litellm import acompletion\n",
    "\n",
    "\n",
    "# def track_cost_callback(kwargs, completion_response, start_time, end_time):\n",
    "#     cost = kwargs[\"response_cost\"]\n",
    "#     print(f\"tloop_final_cost={cost:.6f}\")\n",
    "\n",
    "\n",
    "# litellm.success_callback = [track_cost_callback]\n",
    "\n",
    "\n",
    "def get_current_weather(location: str, unit: str):\n",
    "    \"\"\"Get the current weather in a given location\n",
    "\n",
    "    Parameters\n",
    "    ----------\n",
    "    location : str\n",
    "        The city and state, e.g. San Francisco, CA\n",
    "    unit : str {'celsius', 'fahrenheit'}\n",
    "        Temperature unit\n",
    "\n",
    "    Returns\n",
    "    -------\n",
    "    str\n",
    "        a sentence indicating the weather\n",
    "    \"\"\"\n",
    "    if location == \"Boston, MA\":\n",
    "        return \"The weather is 12F\"\n",
    "    return f\"Weather in {location} is sunny\"\n",
    "\n",
    "\n",
    "llm = LLM(\n",
    "    model=\"anthropic/claude-sonnet-4-20250514\",\n",
    "    temperature=0.1,\n",
    ")\n",
    "\n",
    "weather_tool = Tool(get_current_weather)\n",
    "\n",
    "inference = await acompletion(\n",
    "    model=\"openai/gpt-4.1\",\n",
    "    messages=[\n",
    "        {\n",
    "            \"role\": \"user\",\n",
    "            \"content\": \"What is the weather in Boston, MA (in fahrenheit)?\",\n",
    "        }\n",
    "    ],\n",
    "    tools=[weather_tool.definition],\n",
    "    stream=True,\n",
    "    parallel_tool_calls=False,\n",
    ")\n",
    "\n",
    "async for chunk in inference:\n",
    "    print(chunk)\n",
    "\n",
    "# for tool_call in inference.raw_response.choices[0].message.tool_calls:\n",
    "#     tool_name = tool_call.function.name\n",
    "#     tool_args = json.loads(tool_call.function.arguments)\n",
    "#     print(f\"Tool: {tool_name}\")\n",
    "#     print(f\"Args: {tool_args}\")\n",
    "#     print(weather_tool(**tool_args))"
   ]
  }
 ],
 "metadata": {
  "kernelspec": {
   "display_name": ".venv",
   "language": "python",
   "name": "python3"
  },
  "language_info": {
   "codemirror_mode": {
    "name": "ipython",
    "version": 3
   },
   "file_extension": ".py",
   "mimetype": "text/x-python",
   "name": "python",
   "nbconvert_exporter": "python",
   "pygments_lexer": "ipython3",
   "version": "3.11.11"
  }
 },
 "nbformat": 4,
 "nbformat_minor": 5
}

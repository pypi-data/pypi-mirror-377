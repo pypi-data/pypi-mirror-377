{
 "cells": [
  {
   "cell_type": "code",
   "execution_count": 4,
   "metadata": {},
   "outputs": [],
   "source": [
    "import pandas as pd\n",
    "import numpy as np\n",
    "import os"
   ]
  },
  {
   "cell_type": "code",
   "execution_count": 2,
   "metadata": {},
   "outputs": [],
   "source": [
    "df = pd.read_csv('variants.csv')"
   ]
  },
  {
   "cell_type": "code",
   "execution_count": 7,
   "metadata": {},
   "outputs": [
    {
     "data": {
      "text/plain": [
       "gene\n",
       "rpoB    26238\n",
       "Name: count, dtype: int64"
      ]
     },
     "execution_count": 7,
     "metadata": {},
     "output_type": "execute_result"
    }
   ],
   "source": [
    "df[df['change']=='p.Ser450Leu']['gene'].value_counts() # This is a filter condition, not an assignment"
   ]
  },
  {
   "cell_type": "code",
   "execution_count": 9,
   "metadata": {},
   "outputs": [
    {
     "data": {
      "text/plain": [
       "gene\n",
       "rpoB    1053\n",
       "Name: count, dtype: int64"
      ]
     },
     "execution_count": 9,
     "metadata": {},
     "output_type": "execute_result"
    }
   ],
   "source": [
    "df[df['change']=='p.Leu430Pro']['gene'].value_counts() # This is a filter condition, not an assignment"
   ]
  },
  {
   "cell_type": "code",
   "execution_count": 8,
   "metadata": {},
   "outputs": [],
   "source": [
    "df['gene_change'] = df['gene'] + '_' + df['change']\n",
    "df = df.drop_duplicates(subset=['gene_change'], keep='last')\n"
   ]
  },
  {
   "cell_type": "code",
   "execution_count": 10,
   "metadata": {},
   "outputs": [
    {
     "data": {
      "text/plain": [
       "gene\n",
       "pncA     1007\n",
       "ethA      862\n",
       "katG      757\n",
       "tlyA      266\n",
       "rpoB      164\n",
       "gid       136\n",
       "embB      101\n",
       "rrs        26\n",
       "gyrB       25\n",
       "thyA       19\n",
       "embC       16\n",
       "folC       16\n",
       "gyrA       16\n",
       "ahpC       15\n",
       "embR       12\n",
       "ald        12\n",
       "rpsL       11\n",
       "eis        10\n",
       "embA       10\n",
       "inhA        9\n",
       "fabG1       8\n",
       "panD        8\n",
       "mmpR5       6\n",
       "kasA        4\n",
       "rpsA        3\n",
       "alr         3\n",
       "fbiA        3\n",
       "ddn         3\n",
       "rrl         2\n",
       "ethR        2\n",
       "fgd1        2\n",
       "ribD        1\n",
       "rplC        1\n",
       "thyX        1\n",
       "Name: count, dtype: int64"
      ]
     },
     "execution_count": 10,
     "metadata": {},
     "output_type": "execute_result"
    }
   ],
   "source": [
    "df['gene'].value_counts()"
   ]
  },
  {
   "cell_type": "code",
   "execution_count": 6,
   "metadata": {},
   "outputs": [
    {
     "data": {
      "text/plain": [
       "gene\n",
       "rpoB     43364\n",
       "katG     40002\n",
       "embB     33344\n",
       "pncA     33251\n",
       "rpsL     22979\n",
       "rrs      17791\n",
       "fabG1    14208\n",
       "gyrA     14048\n",
       "ethA     11814\n",
       "gid       8620\n",
       "eis       5907\n",
       "inhA      4168\n",
       "embA      3876\n",
       "ahpC      1607\n",
       "gyrB      1558\n",
       "folC      1516\n",
       "ethR      1425\n",
       "thyX      1125\n",
       "tlyA      1060\n",
       "alr        917\n",
       "thyA       840\n",
       "ald        498\n",
       "embC       432\n",
       "mmpR5      329\n",
       "rplC       246\n",
       "ddn        192\n",
       "panD       146\n",
       "rrl         83\n",
       "kasA        81\n",
       "embR        68\n",
       "fbiA        33\n",
       "rpsA        13\n",
       "ribD         9\n",
       "fgd1         3\n",
       "Name: count, dtype: int64"
      ]
     },
     "execution_count": 6,
     "metadata": {},
     "output_type": "execute_result"
    }
   ],
   "source": [
    "df['gene'].value_counts()"
   ]
  },
  {
   "cell_type": "code",
   "execution_count": 4,
   "metadata": {},
   "outputs": [
    {
     "data": {
      "text/plain": [
       "drugs\n",
       "rifampicin                                                            43238\n",
       "isoniazid                                                             42667\n",
       "streptomycin                                                          41549\n",
       "ethambutol                                                            37720\n",
       "pyrazinamide                                                          30698\n",
       "isoniazid,ethionamide                                                 17190\n",
       "ofloxacin,moxifloxacin,levofloxacin,fluoroquinolones,ciprofloxacin    15606\n",
       "ethionamide                                                            8025\n",
       "kanamycin,capreomycin,aminoglycosides,amikacin                         7833\n",
       "ethionamide,ethionamide                                                5214\n",
       "kanamycin                                                              4866\n",
       "para-aminosalicylic_acid                                               3490\n",
       "pyrazinamide,pyrazinamide                                              2712\n",
       "cycloserine                                                            1415\n",
       "kanamycin,amikacin                                                      903\n",
       "capreomycin                                                             858\n",
       "clofazimine,bedaquiline                                                 329\n",
       "linezolid                                                               329\n",
       "delamanid                                                               228\n",
       "isoniazid,isoniazid                                                     209\n",
       "capreomycin,capreomycin                                                 202\n",
       "kanamycin,kanamycin                                                     138\n",
       "rifampicin,rifampicin                                                   126\n",
       "aminoglycosides,amikacin                                                  8\n",
       "Name: count, dtype: int64"
      ]
     },
     "execution_count": 4,
     "metadata": {},
     "output_type": "execute_result"
    }
   ],
   "source": [
    "df['drugs'].value_counts()"
   ]
  },
  {
   "cell_type": "code",
   "execution_count": 8,
   "metadata": {},
   "outputs": [],
   "source": [
    "df['gene'].value_counts().to_csv('gene_counts.csv')"
   ]
  },
  {
   "cell_type": "code",
   "execution_count": 11,
   "metadata": {},
   "outputs": [
    {
     "name": "stdout",
     "output_type": "stream",
     "text": [
      "CSV file 'gene_data.csv' has been created.\n"
     ]
    }
   ],
   "source": [
    "import csv\n",
    "\n",
    "# Data\n",
    "data = [\n",
    "    [\"Gene\", \"Count\", \"New Count\"],\n",
    "    [\"pncA\", 1007, 33251],\n",
    "    [\"ethA\", 862, 11814],\n",
    "    [\"katG\", 757, 40002],\n",
    "    [\"tlyA\", 266, 1060],\n",
    "    [\"rpoB\", 164, 43364],\n",
    "    [\"gid\", 136, 8620],\n",
    "    [\"embB\", 101, 33344],\n",
    "    [\"rrs\", 26, 17791],\n",
    "    [\"gyrB\", 25, 1558],\n",
    "    [\"thyA\", 19, 840],\n",
    "    [\"embC\", 16, 432],\n",
    "    [\"folC\", 16, 1516],\n",
    "    [\"gyrA\", 16, 14048],\n",
    "    [\"ahpC\", 15, 1607],\n",
    "    [\"embR\", 12, 68],\n",
    "    [\"ald\", 12, 498],\n",
    "    [\"rpsL\", 11, 22979],\n",
    "    [\"eis\", 10, 5907],\n",
    "    [\"embA\", 10, 3876],\n",
    "    [\"inhA\", 9, 4168],\n",
    "    [\"fabG1\", 8, 14208],\n",
    "    [\"panD\", 8, 146],\n",
    "    [\"mmpR5\", 6, 329],\n",
    "    [\"kasA\", 4, 81],\n",
    "    [\"rpsA\", 3, 13],\n",
    "    [\"alr\", 3, 917],\n",
    "    [\"fbiA\", 3, 33],\n",
    "    [\"ddn\", 3, 192],\n",
    "    [\"rrl\", 2, 83],\n",
    "    [\"ethR\", 2, 1425],\n",
    "    [\"fgd1\", 2, 3],\n",
    "    [\"ribD\", 1, 9],\n",
    "    [\"rplC\", 1, 246],\n",
    "    [\"thyX\", 1, 1125]\n",
    "]\n",
    "\n",
    "# Write to CSV file\n",
    "with open('gene_data_.csv', 'w', newline='') as file:\n",
    "    writer = csv.writer(file)\n",
    "    writer.writerows(data)\n",
    "\n",
    "print(\"CSV file 'gene_data.csv' has been created.\")"
   ]
  },
  {
   "cell_type": "code",
   "execution_count": 9,
   "metadata": {},
   "outputs": [
    {
     "data": {
      "image/png": "[encoded data removed]",
      "text/plain": [
       "<Figure size 1000x600 with 1 Axes>"
      ]
     },
     "metadata": {},
     "output_type": "display_data"
    }
   ],
   "source": [
    "import matplotlib.pyplot as plt\n",
    "\n",
    "# Count gene occurrences\n",
    "gene_counts = df['gene'].value_counts()\n",
    "\n",
    "# Plot\n",
    "plt.figure(figsize=(10, 6))\n",
    "gene_counts.plot(kind='bar')\n",
    "\n",
    "plt.title('Gene Frequency')\n",
    "plt.xlabel('Gene')\n",
    "plt.ylabel('Count')\n",
    "plt.xticks(rotation=45, ha='right')\n",
    "plt.tight_layout()\n",
    "plt.show()\n"
   ]
  },
  {
   "cell_type": "code",
   "execution_count": null,
   "metadata": {},
   "outputs": [],
   "source": []
  },
  {
   "cell_type": "code",
   "execution_count": null,
   "metadata": {},
   "outputs": [
    {
     "name": "stdout",
     "output_type": "stream",
     "text": [
      "change\n",
      "p.Ser315Thr          35851\n",
      "p.Thr275Ala             58\n",
      "p.Ser315Asn            579\n",
      "p.Val1Ala               37\n",
      "p.Thr380Ile             47\n",
      "                     ...  \n",
      "c.581_707del             1\n",
      "c.633_634insT            1\n",
      "c.28_34delGAAACCA        1\n",
      "c.1688delT               1\n",
      "c.1082_1083dupCC         1\n",
      "Name: count, Length: 757, dtype: int64\n"
     ]
    }
   ],
   "source": [
    "import matplotlib.pyplot as plt\n",
    "df_katG = df[df['gene'] == 'katG']\n",
    "# Count gene occurrences\n",
    "change_counts = df_katG['change'].value_counts()\n",
    "\n",
    "# Sort the change counts by the genomic position\n",
    "change_counts_sorted = change_counts.reindex(df_katG['change'].unique())\n",
    "# Display the sorted change counts\n",
    "print(change_counts_sorted)\n",
    "\n",
    "# Plot\n",
    "plt.figure(figsize=(10, 6))\n",
    "change_counts.plot(kind='bar')\n",
    "\n",
    "plt.title('Gene Frequency')\n",
    "plt.xlabel('Mutation')\n",
    "plt.ylabel('Count')\n",
    "plt.xticks(rotation=45, ha='right')\n",
    "plt.tight_layout()\n",
    "plt.show()\n"
   ]
  },
  {
   "cell_type": "code",
   "execution_count": null,
   "metadata": {},
   "outputs": [],
   "source": []
  }
 ],
 "metadata": {
  "kernelspec": {
   "display_name": "primer_selection",
   "language": "python",
   "name": "python3"
  },
  "language_info": {
   "codemirror_mode": {
    "name": "ipython",
    "version": 3
   },
   "file_extension": ".py",
   "mimetype": "text/x-python",
   "name": "python",
   "nbconvert_exporter": "python",
   "pygments_lexer": "ipython3",
   "version": "3.11.6"
  }
 },
 "nbformat": 4,
 "nbformat_minor": 2
}

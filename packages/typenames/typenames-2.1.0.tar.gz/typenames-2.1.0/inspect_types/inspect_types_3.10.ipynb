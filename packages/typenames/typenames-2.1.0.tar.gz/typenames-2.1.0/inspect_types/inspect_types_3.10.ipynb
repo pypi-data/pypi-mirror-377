{
 "cells": [
  {
   "cell_type": "code",
   "execution_count": 1,
   "metadata": {
    "execution": {
     "iopub.execute_input": "2024-08-19T22:56:01.569251Z",
     "iopub.status.busy": "2024-08-19T22:56:01.568917Z",
     "iopub.status.idle": "2024-08-19T22:56:01.578354Z",
     "shell.execute_reply": "2024-08-19T22:56:01.577606Z"
    }
   },
   "outputs": [],
   "source": [
    "import sys\n",
    "import typing\n",
    "\n",
    "try:\n",
    "    from typing import get_origin\n",
    "except ImportError:\n",
    "    from typing_extensions import get_origin"
   ]
  },
  {
   "cell_type": "code",
   "execution_count": 2,
   "metadata": {
    "execution": {
     "iopub.execute_input": "2024-08-19T22:56:01.582981Z",
     "iopub.status.busy": "2024-08-19T22:56:01.582582Z",
     "iopub.status.idle": "2024-08-19T22:56:01.591401Z",
     "shell.execute_reply": "2024-08-19T22:56:01.590673Z"
    }
   },
   "outputs": [
    {
     "data": {
      "text/plain": [
       "'3.10.13 (main, Feb 25 2024, 03:48:50) [Clang 17.0.6 ]'"
      ]
     },
     "execution_count": 2,
     "metadata": {},
     "output_type": "execute_result"
    }
   ],
   "source": [
    "sys.version"
   ]
  },
  {
   "cell_type": "markdown",
   "metadata": {},
   "source": [
    "## Union"
   ]
  },
  {
   "cell_type": "markdown",
   "metadata": {},
   "source": [
    "### typing.Union (Generic Alias)"
   ]
  },
  {
   "cell_type": "code",
   "execution_count": 3,
   "metadata": {
    "execution": {
     "iopub.execute_input": "2024-08-19T22:56:01.632477Z",
     "iopub.status.busy": "2024-08-19T22:56:01.632169Z",
     "iopub.status.idle": "2024-08-19T22:56:01.637093Z",
     "shell.execute_reply": "2024-08-19T22:56:01.636453Z"
    }
   },
   "outputs": [
    {
     "data": {
      "text/plain": [
       "'typing.Union[int, str]'"
      ]
     },
     "execution_count": 3,
     "metadata": {},
     "output_type": "execute_result"
    }
   ],
   "source": [
    "tp_union = typing.Union[int, str]\n",
    "repr(tp_union)"
   ]
  },
  {
   "cell_type": "code",
   "execution_count": 4,
   "metadata": {
    "execution": {
     "iopub.execute_input": "2024-08-19T22:56:01.640306Z",
     "iopub.status.busy": "2024-08-19T22:56:01.639859Z",
     "iopub.status.idle": "2024-08-19T22:56:01.643832Z",
     "shell.execute_reply": "2024-08-19T22:56:01.643230Z"
    }
   },
   "outputs": [
    {
     "data": {
      "text/plain": [
       "typing._UnionGenericAlias"
      ]
     },
     "execution_count": 4,
     "metadata": {},
     "output_type": "execute_result"
    }
   ],
   "source": [
    "type(tp_union)"
   ]
  },
  {
   "cell_type": "code",
   "execution_count": 5,
   "metadata": {
    "execution": {
     "iopub.execute_input": "2024-08-19T22:56:01.646745Z",
     "iopub.status.busy": "2024-08-19T22:56:01.646497Z",
     "iopub.status.idle": "2024-08-19T22:56:01.650428Z",
     "shell.execute_reply": "2024-08-19T22:56:01.649794Z"
    }
   },
   "outputs": [
    {
     "data": {
      "text/plain": [
       "(typing._UnionGenericAlias,\n",
       " typing._GenericAlias,\n",
       " typing._BaseGenericAlias,\n",
       " typing._Final,\n",
       " object)"
      ]
     },
     "execution_count": 5,
     "metadata": {},
     "output_type": "execute_result"
    }
   ],
   "source": [
    "type(tp_union).__mro__"
   ]
  },
  {
   "cell_type": "code",
   "execution_count": 6,
   "metadata": {
    "execution": {
     "iopub.execute_input": "2024-08-19T22:56:01.653333Z",
     "iopub.status.busy": "2024-08-19T22:56:01.653075Z",
     "iopub.status.idle": "2024-08-19T22:56:01.656121Z",
     "shell.execute_reply": "2024-08-19T22:56:01.655477Z"
    }
   },
   "outputs": [],
   "source": [
    "tp_union._name"
   ]
  },
  {
   "cell_type": "code",
   "execution_count": 7,
   "metadata": {
    "execution": {
     "iopub.execute_input": "2024-08-19T22:56:01.658931Z",
     "iopub.status.busy": "2024-08-19T22:56:01.658697Z",
     "iopub.status.idle": "2024-08-19T22:56:01.662335Z",
     "shell.execute_reply": "2024-08-19T22:56:01.661826Z"
    }
   },
   "outputs": [
    {
     "data": {
      "text/plain": [
       "'Union'"
      ]
     },
     "execution_count": 7,
     "metadata": {},
     "output_type": "execute_result"
    }
   ],
   "source": [
    "tp_union.__name__"
   ]
  },
  {
   "cell_type": "code",
   "execution_count": 8,
   "metadata": {
    "execution": {
     "iopub.execute_input": "2024-08-19T22:56:01.665124Z",
     "iopub.status.busy": "2024-08-19T22:56:01.664894Z",
     "iopub.status.idle": "2024-08-19T22:56:01.668672Z",
     "shell.execute_reply": "2024-08-19T22:56:01.668093Z"
    }
   },
   "outputs": [
    {
     "data": {
      "text/plain": [
       "'Union'"
      ]
     },
     "execution_count": 8,
     "metadata": {},
     "output_type": "execute_result"
    }
   ],
   "source": [
    "tp_union.__qualname__"
   ]
  },
  {
   "cell_type": "code",
   "execution_count": 9,
   "metadata": {
    "execution": {
     "iopub.execute_input": "2024-08-19T22:56:01.671521Z",
     "iopub.status.busy": "2024-08-19T22:56:01.671282Z",
     "iopub.status.idle": "2024-08-19T22:56:01.675195Z",
     "shell.execute_reply": "2024-08-19T22:56:01.674543Z"
    }
   },
   "outputs": [
    {
     "data": {
      "text/plain": [
       "typing.Union"
      ]
     },
     "execution_count": 9,
     "metadata": {},
     "output_type": "execute_result"
    }
   ],
   "source": [
    "origin_union = get_origin(tp_union)\n",
    "origin_union"
   ]
  },
  {
   "cell_type": "code",
   "execution_count": 10,
   "metadata": {
    "execution": {
     "iopub.execute_input": "2024-08-19T22:56:01.677983Z",
     "iopub.status.busy": "2024-08-19T22:56:01.677770Z",
     "iopub.status.idle": "2024-08-19T22:56:01.681361Z",
     "shell.execute_reply": "2024-08-19T22:56:01.680697Z"
    }
   },
   "outputs": [
    {
     "data": {
      "text/plain": [
       "typing._SpecialForm"
      ]
     },
     "execution_count": 10,
     "metadata": {},
     "output_type": "execute_result"
    }
   ],
   "source": [
    "type(origin_union)"
   ]
  },
  {
   "cell_type": "code",
   "execution_count": 11,
   "metadata": {
    "execution": {
     "iopub.execute_input": "2024-08-19T22:56:01.684124Z",
     "iopub.status.busy": "2024-08-19T22:56:01.683882Z",
     "iopub.status.idle": "2024-08-19T22:56:01.687967Z",
     "shell.execute_reply": "2024-08-19T22:56:01.687346Z"
    }
   },
   "outputs": [
    {
     "data": {
      "text/plain": [
       "(typing._SpecialForm, typing._Final, object)"
      ]
     },
     "execution_count": 11,
     "metadata": {},
     "output_type": "execute_result"
    }
   ],
   "source": [
    "type(origin_union).__mro__"
   ]
  },
  {
   "cell_type": "code",
   "execution_count": 12,
   "metadata": {
    "execution": {
     "iopub.execute_input": "2024-08-19T22:56:01.690691Z",
     "iopub.status.busy": "2024-08-19T22:56:01.690470Z",
     "iopub.status.idle": "2024-08-19T22:56:01.693912Z",
     "shell.execute_reply": "2024-08-19T22:56:01.693428Z"
    }
   },
   "outputs": [
    {
     "data": {
      "text/plain": [
       "'Union'"
      ]
     },
     "execution_count": 12,
     "metadata": {},
     "output_type": "execute_result"
    }
   ],
   "source": [
    "origin_union._name"
   ]
  },
  {
   "cell_type": "code",
   "execution_count": 13,
   "metadata": {
    "execution": {
     "iopub.execute_input": "2024-08-19T22:56:01.696360Z",
     "iopub.status.busy": "2024-08-19T22:56:01.696162Z",
     "iopub.status.idle": "2024-08-19T22:56:01.699398Z",
     "shell.execute_reply": "2024-08-19T22:56:01.698942Z"
    }
   },
   "outputs": [
    {
     "data": {
      "text/plain": [
       "'Union'"
      ]
     },
     "execution_count": 13,
     "metadata": {},
     "output_type": "execute_result"
    }
   ],
   "source": [
    "origin_union.__name__"
   ]
  },
  {
   "cell_type": "code",
   "execution_count": 14,
   "metadata": {
    "execution": {
     "iopub.execute_input": "2024-08-19T22:56:01.701913Z",
     "iopub.status.busy": "2024-08-19T22:56:01.701695Z",
     "iopub.status.idle": "2024-08-19T22:56:01.704977Z",
     "shell.execute_reply": "2024-08-19T22:56:01.704531Z"
    }
   },
   "outputs": [
    {
     "data": {
      "text/plain": [
       "'Union'"
      ]
     },
     "execution_count": 14,
     "metadata": {},
     "output_type": "execute_result"
    }
   ],
   "source": [
    "origin_union.__qualname__"
   ]
  },
  {
   "cell_type": "markdown",
   "metadata": {},
   "source": [
    "### | (bitwise or) operator"
   ]
  },
  {
   "cell_type": "code",
   "execution_count": 15,
   "metadata": {
    "execution": {
     "iopub.execute_input": "2024-08-19T22:56:01.707445Z",
     "iopub.status.busy": "2024-08-19T22:56:01.707244Z",
     "iopub.status.idle": "2024-08-19T22:56:01.710587Z",
     "shell.execute_reply": "2024-08-19T22:56:01.710117Z"
    },
    "tags": []
   },
   "outputs": [
    {
     "data": {
      "text/plain": [
       "'int | str'"
      ]
     },
     "execution_count": 15,
     "metadata": {},
     "output_type": "execute_result"
    }
   ],
   "source": [
    "tp_or = int | str\n",
    "repr(tp_or)"
   ]
  },
  {
   "cell_type": "code",
   "execution_count": 16,
   "metadata": {
    "execution": {
     "iopub.execute_input": "2024-08-19T22:56:01.713127Z",
     "iopub.status.busy": "2024-08-19T22:56:01.712802Z",
     "iopub.status.idle": "2024-08-19T22:56:01.716272Z",
     "shell.execute_reply": "2024-08-19T22:56:01.715813Z"
    },
    "tags": []
   },
   "outputs": [
    {
     "data": {
      "text/plain": [
       "types.UnionType"
      ]
     },
     "execution_count": 16,
     "metadata": {},
     "output_type": "execute_result"
    }
   ],
   "source": [
    "type(tp_or)"
   ]
  },
  {
   "cell_type": "code",
   "execution_count": 17,
   "metadata": {
    "execution": {
     "iopub.execute_input": "2024-08-19T22:56:01.718787Z",
     "iopub.status.busy": "2024-08-19T22:56:01.718576Z",
     "iopub.status.idle": "2024-08-19T22:56:01.721838Z",
     "shell.execute_reply": "2024-08-19T22:56:01.721386Z"
    },
    "tags": []
   },
   "outputs": [
    {
     "data": {
      "text/plain": [
       "(types.UnionType, object)"
      ]
     },
     "execution_count": 17,
     "metadata": {},
     "output_type": "execute_result"
    }
   ],
   "source": [
    "type(tp_or).__mro__"
   ]
  },
  {
   "cell_type": "code",
   "execution_count": 18,
   "metadata": {
    "execution": {
     "iopub.execute_input": "2024-08-19T22:56:01.724192Z",
     "iopub.status.busy": "2024-08-19T22:56:01.723987Z",
     "iopub.status.idle": "2024-08-19T22:56:01.727326Z",
     "shell.execute_reply": "2024-08-19T22:56:01.726877Z"
    },
    "tags": []
   },
   "outputs": [
    {
     "data": {
      "text/plain": [
       "types.UnionType"
      ]
     },
     "execution_count": 18,
     "metadata": {},
     "output_type": "execute_result"
    }
   ],
   "source": [
    "origin_or = get_origin(tp_or)\n",
    "origin_or"
   ]
  },
  {
   "cell_type": "code",
   "execution_count": 19,
   "metadata": {
    "execution": {
     "iopub.execute_input": "2024-08-19T22:56:01.729783Z",
     "iopub.status.busy": "2024-08-19T22:56:01.729587Z",
     "iopub.status.idle": "2024-08-19T22:56:01.732731Z",
     "shell.execute_reply": "2024-08-19T22:56:01.732254Z"
    },
    "tags": []
   },
   "outputs": [
    {
     "data": {
      "text/plain": [
       "type"
      ]
     },
     "execution_count": 19,
     "metadata": {},
     "output_type": "execute_result"
    }
   ],
   "source": [
    "type(origin_or)"
   ]
  },
  {
   "cell_type": "code",
   "execution_count": 20,
   "metadata": {
    "execution": {
     "iopub.execute_input": "2024-08-19T22:56:01.735187Z",
     "iopub.status.busy": "2024-08-19T22:56:01.734971Z",
     "iopub.status.idle": "2024-08-19T22:56:01.738434Z",
     "shell.execute_reply": "2024-08-19T22:56:01.737980Z"
    },
    "tags": []
   },
   "outputs": [
    {
     "data": {
      "text/plain": [
       "(type, object)"
      ]
     },
     "execution_count": 20,
     "metadata": {},
     "output_type": "execute_result"
    }
   ],
   "source": [
    "type(origin_or).__mro__"
   ]
  },
  {
   "cell_type": "code",
   "execution_count": 21,
   "metadata": {
    "execution": {
     "iopub.execute_input": "2024-08-19T22:56:01.740898Z",
     "iopub.status.busy": "2024-08-19T22:56:01.740700Z",
     "iopub.status.idle": "2024-08-19T22:56:01.950201Z",
     "shell.execute_reply": "2024-08-19T22:56:01.949679Z"
    },
    "tags": []
   },
   "outputs": [
    {
     "ename": "AttributeError",
     "evalue": "type object 'types.UnionType' has no attribute '_name'",
     "output_type": "error",
     "traceback": [
      "\u001b[0;31m---------------------------------------------------------------------------\u001b[0m",
      "\u001b[0;31mAttributeError\u001b[0m                            Traceback (most recent call last)",
      "Cell \u001b[0;32mIn[21], line 1\u001b[0m\n\u001b[0;32m----> 1\u001b[0m \u001b[43morigin_or\u001b[49m\u001b[38;5;241;43m.\u001b[39;49m\u001b[43m_name\u001b[49m\n",
      "\u001b[0;31mAttributeError\u001b[0m: type object 'types.UnionType' has no attribute '_name'"
     ]
    }
   ],
   "source": [
    "origin_or._name"
   ]
  },
  {
   "cell_type": "code",
   "execution_count": 22,
   "metadata": {
    "execution": {
     "iopub.execute_input": "2024-08-19T22:56:01.953484Z",
     "iopub.status.busy": "2024-08-19T22:56:01.953256Z",
     "iopub.status.idle": "2024-08-19T22:56:01.956661Z",
     "shell.execute_reply": "2024-08-19T22:56:01.956208Z"
    },
    "tags": []
   },
   "outputs": [
    {
     "data": {
      "text/plain": [
       "'UnionType'"
      ]
     },
     "execution_count": 22,
     "metadata": {},
     "output_type": "execute_result"
    }
   ],
   "source": [
    "origin_or.__name__"
   ]
  },
  {
   "cell_type": "code",
   "execution_count": 23,
   "metadata": {
    "execution": {
     "iopub.execute_input": "2024-08-19T22:56:01.959390Z",
     "iopub.status.busy": "2024-08-19T22:56:01.959196Z",
     "iopub.status.idle": "2024-08-19T22:56:01.962486Z",
     "shell.execute_reply": "2024-08-19T22:56:01.962053Z"
    }
   },
   "outputs": [
    {
     "data": {
      "text/plain": [
       "'UnionType'"
      ]
     },
     "execution_count": 23,
     "metadata": {},
     "output_type": "execute_result"
    }
   ],
   "source": [
    "origin_or.__qualname__"
   ]
  },
  {
   "cell_type": "markdown",
   "metadata": {},
   "source": [
    "## Optional"
   ]
  },
  {
   "cell_type": "markdown",
   "metadata": {},
   "source": [
    "### typing.Optional (Generic Alias)"
   ]
  },
  {
   "cell_type": "code",
   "execution_count": 24,
   "metadata": {
    "execution": {
     "iopub.execute_input": "2024-08-19T22:56:01.965117Z",
     "iopub.status.busy": "2024-08-19T22:56:01.964903Z",
     "iopub.status.idle": "2024-08-19T22:56:01.968598Z",
     "shell.execute_reply": "2024-08-19T22:56:01.967906Z"
    }
   },
   "outputs": [
    {
     "data": {
      "text/plain": [
       "'typing.Optional[int]'"
      ]
     },
     "execution_count": 24,
     "metadata": {},
     "output_type": "execute_result"
    }
   ],
   "source": [
    "tp_optional = typing.Optional[int]\n",
    "repr(tp_optional)"
   ]
  },
  {
   "cell_type": "code",
   "execution_count": 25,
   "metadata": {
    "execution": {
     "iopub.execute_input": "2024-08-19T22:56:01.971376Z",
     "iopub.status.busy": "2024-08-19T22:56:01.971161Z",
     "iopub.status.idle": "2024-08-19T22:56:01.974521Z",
     "shell.execute_reply": "2024-08-19T22:56:01.974069Z"
    }
   },
   "outputs": [
    {
     "data": {
      "text/plain": [
       "typing._UnionGenericAlias"
      ]
     },
     "execution_count": 25,
     "metadata": {},
     "output_type": "execute_result"
    }
   ],
   "source": [
    "type(tp_optional)"
   ]
  },
  {
   "cell_type": "code",
   "execution_count": 26,
   "metadata": {
    "execution": {
     "iopub.execute_input": "2024-08-19T22:56:01.977178Z",
     "iopub.status.busy": "2024-08-19T22:56:01.976979Z",
     "iopub.status.idle": "2024-08-19T22:56:01.980416Z",
     "shell.execute_reply": "2024-08-19T22:56:01.979903Z"
    }
   },
   "outputs": [
    {
     "data": {
      "text/plain": [
       "(typing._UnionGenericAlias,\n",
       " typing._GenericAlias,\n",
       " typing._BaseGenericAlias,\n",
       " typing._Final,\n",
       " object)"
      ]
     },
     "execution_count": 26,
     "metadata": {},
     "output_type": "execute_result"
    }
   ],
   "source": [
    "type(tp_optional).__mro__"
   ]
  },
  {
   "cell_type": "code",
   "execution_count": 27,
   "metadata": {
    "execution": {
     "iopub.execute_input": "2024-08-19T22:56:01.983077Z",
     "iopub.status.busy": "2024-08-19T22:56:01.982873Z",
     "iopub.status.idle": "2024-08-19T22:56:01.986622Z",
     "shell.execute_reply": "2024-08-19T22:56:01.986044Z"
    },
    "tags": []
   },
   "outputs": [
    {
     "data": {
      "text/plain": [
       "'Optional'"
      ]
     },
     "execution_count": 27,
     "metadata": {},
     "output_type": "execute_result"
    }
   ],
   "source": [
    "tp_optional._name"
   ]
  },
  {
   "cell_type": "code",
   "execution_count": 28,
   "metadata": {
    "execution": {
     "iopub.execute_input": "2024-08-19T22:56:01.989533Z",
     "iopub.status.busy": "2024-08-19T22:56:01.989317Z",
     "iopub.status.idle": "2024-08-19T22:56:01.992676Z",
     "shell.execute_reply": "2024-08-19T22:56:01.992062Z"
    },
    "tags": []
   },
   "outputs": [
    {
     "data": {
      "text/plain": [
       "'Optional'"
      ]
     },
     "execution_count": 28,
     "metadata": {},
     "output_type": "execute_result"
    }
   ],
   "source": [
    "tp_optional.__name__"
   ]
  },
  {
   "cell_type": "code",
   "execution_count": 29,
   "metadata": {
    "execution": {
     "iopub.execute_input": "2024-08-19T22:56:01.995428Z",
     "iopub.status.busy": "2024-08-19T22:56:01.995184Z",
     "iopub.status.idle": "2024-08-19T22:56:01.998857Z",
     "shell.execute_reply": "2024-08-19T22:56:01.998257Z"
    }
   },
   "outputs": [
    {
     "data": {
      "text/plain": [
       "'Optional'"
      ]
     },
     "execution_count": 29,
     "metadata": {},
     "output_type": "execute_result"
    }
   ],
   "source": [
    "tp_optional.__qualname__"
   ]
  },
  {
   "cell_type": "code",
   "execution_count": 30,
   "metadata": {
    "execution": {
     "iopub.execute_input": "2024-08-19T22:56:02.001796Z",
     "iopub.status.busy": "2024-08-19T22:56:02.001448Z",
     "iopub.status.idle": "2024-08-19T22:56:02.005336Z",
     "shell.execute_reply": "2024-08-19T22:56:02.004840Z"
    }
   },
   "outputs": [
    {
     "data": {
      "text/plain": [
       "typing.Union"
      ]
     },
     "execution_count": 30,
     "metadata": {},
     "output_type": "execute_result"
    }
   ],
   "source": [
    "origin_optional = get_origin(tp_optional)\n",
    "origin_optional"
   ]
  },
  {
   "cell_type": "code",
   "execution_count": 31,
   "metadata": {
    "execution": {
     "iopub.execute_input": "2024-08-19T22:56:02.008114Z",
     "iopub.status.busy": "2024-08-19T22:56:02.007886Z",
     "iopub.status.idle": "2024-08-19T22:56:02.011652Z",
     "shell.execute_reply": "2024-08-19T22:56:02.011121Z"
    }
   },
   "outputs": [
    {
     "data": {
      "text/plain": [
       "typing._SpecialForm"
      ]
     },
     "execution_count": 31,
     "metadata": {},
     "output_type": "execute_result"
    }
   ],
   "source": [
    "type(origin_optional)"
   ]
  },
  {
   "cell_type": "code",
   "execution_count": 32,
   "metadata": {
    "execution": {
     "iopub.execute_input": "2024-08-19T22:56:02.014339Z",
     "iopub.status.busy": "2024-08-19T22:56:02.014098Z",
     "iopub.status.idle": "2024-08-19T22:56:02.017695Z",
     "shell.execute_reply": "2024-08-19T22:56:02.017185Z"
    }
   },
   "outputs": [
    {
     "data": {
      "text/plain": [
       "(typing._SpecialForm, typing._Final, object)"
      ]
     },
     "execution_count": 32,
     "metadata": {},
     "output_type": "execute_result"
    }
   ],
   "source": [
    "type(origin_optional).__mro__"
   ]
  },
  {
   "cell_type": "code",
   "execution_count": 33,
   "metadata": {
    "execution": {
     "iopub.execute_input": "2024-08-19T22:56:02.020779Z",
     "iopub.status.busy": "2024-08-19T22:56:02.020561Z",
     "iopub.status.idle": "2024-08-19T22:56:02.023859Z",
     "shell.execute_reply": "2024-08-19T22:56:02.023399Z"
    },
    "tags": []
   },
   "outputs": [
    {
     "data": {
      "text/plain": [
       "'Union'"
      ]
     },
     "execution_count": 33,
     "metadata": {},
     "output_type": "execute_result"
    }
   ],
   "source": [
    "origin_optional._name"
   ]
  },
  {
   "cell_type": "code",
   "execution_count": 34,
   "metadata": {
    "execution": {
     "iopub.execute_input": "2024-08-19T22:56:02.026293Z",
     "iopub.status.busy": "2024-08-19T22:56:02.026075Z",
     "iopub.status.idle": "2024-08-19T22:56:02.029422Z",
     "shell.execute_reply": "2024-08-19T22:56:02.028935Z"
    },
    "tags": []
   },
   "outputs": [
    {
     "data": {
      "text/plain": [
       "'Union'"
      ]
     },
     "execution_count": 34,
     "metadata": {},
     "output_type": "execute_result"
    }
   ],
   "source": [
    "origin_optional.__name__"
   ]
  },
  {
   "cell_type": "code",
   "execution_count": 35,
   "metadata": {
    "execution": {
     "iopub.execute_input": "2024-08-19T22:56:02.031845Z",
     "iopub.status.busy": "2024-08-19T22:56:02.031605Z",
     "iopub.status.idle": "2024-08-19T22:56:02.034914Z",
     "shell.execute_reply": "2024-08-19T22:56:02.034461Z"
    }
   },
   "outputs": [
    {
     "data": {
      "text/plain": [
       "'Union'"
      ]
     },
     "execution_count": 35,
     "metadata": {},
     "output_type": "execute_result"
    }
   ],
   "source": [
    "origin_optional.__qualname__"
   ]
  },
  {
   "cell_type": "markdown",
   "metadata": {},
   "source": [
    "### | (bitwise or) Operator"
   ]
  },
  {
   "cell_type": "code",
   "execution_count": 36,
   "metadata": {
    "execution": {
     "iopub.execute_input": "2024-08-19T22:56:02.037649Z",
     "iopub.status.busy": "2024-08-19T22:56:02.037442Z",
     "iopub.status.idle": "2024-08-19T22:56:02.040757Z",
     "shell.execute_reply": "2024-08-19T22:56:02.040290Z"
    },
    "tags": []
   },
   "outputs": [
    {
     "data": {
      "text/plain": [
       "'int | None'"
      ]
     },
     "execution_count": 36,
     "metadata": {},
     "output_type": "execute_result"
    }
   ],
   "source": [
    "tp_or_none = int | None\n",
    "repr(tp_or_none)"
   ]
  },
  {
   "cell_type": "code",
   "execution_count": 37,
   "metadata": {
    "execution": {
     "iopub.execute_input": "2024-08-19T22:56:02.043343Z",
     "iopub.status.busy": "2024-08-19T22:56:02.043130Z",
     "iopub.status.idle": "2024-08-19T22:56:02.046617Z",
     "shell.execute_reply": "2024-08-19T22:56:02.046154Z"
    },
    "tags": []
   },
   "outputs": [
    {
     "data": {
      "text/plain": [
       "types.UnionType"
      ]
     },
     "execution_count": 37,
     "metadata": {},
     "output_type": "execute_result"
    }
   ],
   "source": [
    "type(tp_or_none)"
   ]
  },
  {
   "cell_type": "code",
   "execution_count": 38,
   "metadata": {
    "execution": {
     "iopub.execute_input": "2024-08-19T22:56:02.049067Z",
     "iopub.status.busy": "2024-08-19T22:56:02.048862Z",
     "iopub.status.idle": "2024-08-19T22:56:02.052307Z",
     "shell.execute_reply": "2024-08-19T22:56:02.051773Z"
    },
    "tags": []
   },
   "outputs": [
    {
     "data": {
      "text/plain": [
       "(types.UnionType, object)"
      ]
     },
     "execution_count": 38,
     "metadata": {},
     "output_type": "execute_result"
    }
   ],
   "source": [
    "type(tp_or_none).__mro__"
   ]
  },
  {
   "cell_type": "code",
   "execution_count": 39,
   "metadata": {
    "execution": {
     "iopub.execute_input": "2024-08-19T22:56:02.054744Z",
     "iopub.status.busy": "2024-08-19T22:56:02.054538Z",
     "iopub.status.idle": "2024-08-19T22:56:02.066948Z",
     "shell.execute_reply": "2024-08-19T22:56:02.066409Z"
    },
    "tags": []
   },
   "outputs": [
    {
     "ename": "AttributeError",
     "evalue": "'types.UnionType' object has no attribute '_name'",
     "output_type": "error",
     "traceback": [
      "\u001b[0;31m---------------------------------------------------------------------------\u001b[0m",
      "\u001b[0;31mAttributeError\u001b[0m                            Traceback (most recent call last)",
      "Cell \u001b[0;32mIn[39], line 1\u001b[0m\n\u001b[0;32m----> 1\u001b[0m \u001b[43mtp_or_none\u001b[49m\u001b[38;5;241;43m.\u001b[39;49m\u001b[43m_name\u001b[49m\n",
      "\u001b[0;31mAttributeError\u001b[0m: 'types.UnionType' object has no attribute '_name'"
     ]
    }
   ],
   "source": [
    "tp_or_none._name"
   ]
  },
  {
   "cell_type": "code",
   "execution_count": 40,
   "metadata": {
    "execution": {
     "iopub.execute_input": "2024-08-19T22:56:02.069848Z",
     "iopub.status.busy": "2024-08-19T22:56:02.069613Z",
     "iopub.status.idle": "2024-08-19T22:56:02.083558Z",
     "shell.execute_reply": "2024-08-19T22:56:02.082938Z"
    }
   },
   "outputs": [
    {
     "ename": "AttributeError",
     "evalue": "'types.UnionType' object has no attribute '__name__'",
     "output_type": "error",
     "traceback": [
      "\u001b[0;31m---------------------------------------------------------------------------\u001b[0m",
      "\u001b[0;31mAttributeError\u001b[0m                            Traceback (most recent call last)",
      "Cell \u001b[0;32mIn[40], line 1\u001b[0m\n\u001b[0;32m----> 1\u001b[0m \u001b[43mtp_or_none\u001b[49m\u001b[38;5;241;43m.\u001b[39;49m\u001b[38;5;18;43m__name__\u001b[39;49m\n",
      "\u001b[0;31mAttributeError\u001b[0m: 'types.UnionType' object has no attribute '__name__'"
     ]
    }
   ],
   "source": [
    "tp_or_none.__name__"
   ]
  },
  {
   "cell_type": "code",
   "execution_count": 41,
   "metadata": {
    "execution": {
     "iopub.execute_input": "2024-08-19T22:56:02.086620Z",
     "iopub.status.busy": "2024-08-19T22:56:02.086369Z",
     "iopub.status.idle": "2024-08-19T22:56:02.100083Z",
     "shell.execute_reply": "2024-08-19T22:56:02.099484Z"
    },
    "tags": []
   },
   "outputs": [
    {
     "ename": "AttributeError",
     "evalue": "'types.UnionType' object has no attribute '__qualname__'",
     "output_type": "error",
     "traceback": [
      "\u001b[0;31m---------------------------------------------------------------------------\u001b[0m",
      "\u001b[0;31mAttributeError\u001b[0m                            Traceback (most recent call last)",
      "Cell \u001b[0;32mIn[41], line 1\u001b[0m\n\u001b[0;32m----> 1\u001b[0m \u001b[43mtp_or_none\u001b[49m\u001b[38;5;241;43m.\u001b[39;49m\u001b[38;5;18;43m__qualname__\u001b[39;49m\n",
      "\u001b[0;31mAttributeError\u001b[0m: 'types.UnionType' object has no attribute '__qualname__'"
     ]
    }
   ],
   "source": [
    "tp_or_none.__qualname__"
   ]
  },
  {
   "cell_type": "code",
   "execution_count": 42,
   "metadata": {
    "execution": {
     "iopub.execute_input": "2024-08-19T22:56:02.103309Z",
     "iopub.status.busy": "2024-08-19T22:56:02.103033Z",
     "iopub.status.idle": "2024-08-19T22:56:02.107179Z",
     "shell.execute_reply": "2024-08-19T22:56:02.106558Z"
    },
    "tags": []
   },
   "outputs": [
    {
     "data": {
      "text/plain": [
       "types.UnionType"
      ]
     },
     "execution_count": 42,
     "metadata": {},
     "output_type": "execute_result"
    }
   ],
   "source": [
    "origin_or_none = get_origin(tp_or_none)\n",
    "origin_or_none"
   ]
  },
  {
   "cell_type": "code",
   "execution_count": 43,
   "metadata": {
    "execution": {
     "iopub.execute_input": "2024-08-19T22:56:02.110029Z",
     "iopub.status.busy": "2024-08-19T22:56:02.109752Z",
     "iopub.status.idle": "2024-08-19T22:56:02.113716Z",
     "shell.execute_reply": "2024-08-19T22:56:02.113125Z"
    },
    "tags": []
   },
   "outputs": [
    {
     "data": {
      "text/plain": [
       "type"
      ]
     },
     "execution_count": 43,
     "metadata": {},
     "output_type": "execute_result"
    }
   ],
   "source": [
    "type(origin_or_none)"
   ]
  },
  {
   "cell_type": "code",
   "execution_count": 44,
   "metadata": {
    "execution": {
     "iopub.execute_input": "2024-08-19T22:56:02.116520Z",
     "iopub.status.busy": "2024-08-19T22:56:02.116270Z",
     "iopub.status.idle": "2024-08-19T22:56:02.120493Z",
     "shell.execute_reply": "2024-08-19T22:56:02.119947Z"
    },
    "tags": []
   },
   "outputs": [
    {
     "data": {
      "text/plain": [
       "(type, object)"
      ]
     },
     "execution_count": 44,
     "metadata": {},
     "output_type": "execute_result"
    }
   ],
   "source": [
    "type(origin_or_none).__mro__"
   ]
  },
  {
   "cell_type": "code",
   "execution_count": 45,
   "metadata": {
    "execution": {
     "iopub.execute_input": "2024-08-19T22:56:02.123331Z",
     "iopub.status.busy": "2024-08-19T22:56:02.123084Z",
     "iopub.status.idle": "2024-08-19T22:56:02.136866Z",
     "shell.execute_reply": "2024-08-19T22:56:02.136182Z"
    },
    "tags": []
   },
   "outputs": [
    {
     "ename": "AttributeError",
     "evalue": "type object 'types.UnionType' has no attribute '_name'",
     "output_type": "error",
     "traceback": [
      "\u001b[0;31m---------------------------------------------------------------------------\u001b[0m",
      "\u001b[0;31mAttributeError\u001b[0m                            Traceback (most recent call last)",
      "Cell \u001b[0;32mIn[45], line 1\u001b[0m\n\u001b[0;32m----> 1\u001b[0m \u001b[43morigin_or_none\u001b[49m\u001b[38;5;241;43m.\u001b[39;49m\u001b[43m_name\u001b[49m\n",
      "\u001b[0;31mAttributeError\u001b[0m: type object 'types.UnionType' has no attribute '_name'"
     ]
    }
   ],
   "source": [
    "origin_or_none._name"
   ]
  },
  {
   "cell_type": "code",
   "execution_count": 46,
   "metadata": {
    "execution": {
     "iopub.execute_input": "2024-08-19T22:56:02.139837Z",
     "iopub.status.busy": "2024-08-19T22:56:02.139587Z",
     "iopub.status.idle": "2024-08-19T22:56:02.143663Z",
     "shell.execute_reply": "2024-08-19T22:56:02.143046Z"
    },
    "tags": []
   },
   "outputs": [
    {
     "data": {
      "text/plain": [
       "'UnionType'"
      ]
     },
     "execution_count": 46,
     "metadata": {},
     "output_type": "execute_result"
    }
   ],
   "source": [
    "origin_or_none.__name__"
   ]
  },
  {
   "cell_type": "code",
   "execution_count": 47,
   "metadata": {
    "execution": {
     "iopub.execute_input": "2024-08-19T22:56:02.146445Z",
     "iopub.status.busy": "2024-08-19T22:56:02.146197Z",
     "iopub.status.idle": "2024-08-19T22:56:02.149919Z",
     "shell.execute_reply": "2024-08-19T22:56:02.149423Z"
    }
   },
   "outputs": [
    {
     "data": {
      "text/plain": [
       "'UnionType'"
      ]
     },
     "execution_count": 47,
     "metadata": {},
     "output_type": "execute_result"
    }
   ],
   "source": [
    "origin_or_none.__qualname__"
   ]
  },
  {
   "cell_type": "markdown",
   "metadata": {},
   "source": [
    "## Standard Collections"
   ]
  },
  {
   "cell_type": "markdown",
   "metadata": {},
   "source": [
    "### typing Module Aliases"
   ]
  },
  {
   "cell_type": "code",
   "execution_count": 48,
   "metadata": {
    "execution": {
     "iopub.execute_input": "2024-08-19T22:56:02.153120Z",
     "iopub.status.busy": "2024-08-19T22:56:02.152854Z",
     "iopub.status.idle": "2024-08-19T22:56:02.157000Z",
     "shell.execute_reply": "2024-08-19T22:56:02.156472Z"
    }
   },
   "outputs": [
    {
     "data": {
      "text/plain": [
       "'typing.List[int]'"
      ]
     },
     "execution_count": 48,
     "metadata": {},
     "output_type": "execute_result"
    }
   ],
   "source": [
    "tp_List = typing.List[int]\n",
    "repr(tp_List)"
   ]
  },
  {
   "cell_type": "code",
   "execution_count": 49,
   "metadata": {
    "execution": {
     "iopub.execute_input": "2024-08-19T22:56:02.159911Z",
     "iopub.status.busy": "2024-08-19T22:56:02.159683Z",
     "iopub.status.idle": "2024-08-19T22:56:02.163368Z",
     "shell.execute_reply": "2024-08-19T22:56:02.162840Z"
    }
   },
   "outputs": [
    {
     "data": {
      "text/plain": [
       "typing._GenericAlias"
      ]
     },
     "execution_count": 49,
     "metadata": {},
     "output_type": "execute_result"
    }
   ],
   "source": [
    "type(tp_List)"
   ]
  },
  {
   "cell_type": "code",
   "execution_count": 50,
   "metadata": {
    "execution": {
     "iopub.execute_input": "2024-08-19T22:56:02.166172Z",
     "iopub.status.busy": "2024-08-19T22:56:02.165940Z",
     "iopub.status.idle": "2024-08-19T22:56:02.170013Z",
     "shell.execute_reply": "2024-08-19T22:56:02.169432Z"
    }
   },
   "outputs": [
    {
     "data": {
      "text/plain": [
       "(typing._GenericAlias, typing._BaseGenericAlias, typing._Final, object)"
      ]
     },
     "execution_count": 50,
     "metadata": {},
     "output_type": "execute_result"
    }
   ],
   "source": [
    "type(tp_List).__mro__"
   ]
  },
  {
   "cell_type": "code",
   "execution_count": 51,
   "metadata": {
    "execution": {
     "iopub.execute_input": "2024-08-19T22:56:02.172896Z",
     "iopub.status.busy": "2024-08-19T22:56:02.172650Z",
     "iopub.status.idle": "2024-08-19T22:56:02.176351Z",
     "shell.execute_reply": "2024-08-19T22:56:02.175802Z"
    }
   },
   "outputs": [
    {
     "data": {
      "text/plain": [
       "'List'"
      ]
     },
     "execution_count": 51,
     "metadata": {},
     "output_type": "execute_result"
    }
   ],
   "source": [
    "tp_List._name"
   ]
  },
  {
   "cell_type": "code",
   "execution_count": 52,
   "metadata": {
    "execution": {
     "iopub.execute_input": "2024-08-19T22:56:02.178917Z",
     "iopub.status.busy": "2024-08-19T22:56:02.178707Z",
     "iopub.status.idle": "2024-08-19T22:56:02.182015Z",
     "shell.execute_reply": "2024-08-19T22:56:02.181510Z"
    },
    "tags": []
   },
   "outputs": [
    {
     "data": {
      "text/plain": [
       "'List'"
      ]
     },
     "execution_count": 52,
     "metadata": {},
     "output_type": "execute_result"
    }
   ],
   "source": [
    "tp_List.__name__"
   ]
  },
  {
   "cell_type": "code",
   "execution_count": 53,
   "metadata": {
    "execution": {
     "iopub.execute_input": "2024-08-19T22:56:02.184500Z",
     "iopub.status.busy": "2024-08-19T22:56:02.184295Z",
     "iopub.status.idle": "2024-08-19T22:56:02.187826Z",
     "shell.execute_reply": "2024-08-19T22:56:02.187365Z"
    }
   },
   "outputs": [
    {
     "data": {
      "text/plain": [
       "'List'"
      ]
     },
     "execution_count": 53,
     "metadata": {},
     "output_type": "execute_result"
    }
   ],
   "source": [
    "tp_List.__qualname__"
   ]
  },
  {
   "cell_type": "code",
   "execution_count": 54,
   "metadata": {
    "execution": {
     "iopub.execute_input": "2024-08-19T22:56:02.190357Z",
     "iopub.status.busy": "2024-08-19T22:56:02.190155Z",
     "iopub.status.idle": "2024-08-19T22:56:02.193641Z",
     "shell.execute_reply": "2024-08-19T22:56:02.193194Z"
    }
   },
   "outputs": [
    {
     "data": {
      "text/plain": [
       "list"
      ]
     },
     "execution_count": 54,
     "metadata": {},
     "output_type": "execute_result"
    }
   ],
   "source": [
    "origin_List = get_origin(tp_List)\n",
    "origin_List"
   ]
  },
  {
   "cell_type": "code",
   "execution_count": 55,
   "metadata": {
    "execution": {
     "iopub.execute_input": "2024-08-19T22:56:02.195951Z",
     "iopub.status.busy": "2024-08-19T22:56:02.195749Z",
     "iopub.status.idle": "2024-08-19T22:56:02.199293Z",
     "shell.execute_reply": "2024-08-19T22:56:02.198731Z"
    }
   },
   "outputs": [
    {
     "data": {
      "text/plain": [
       "type"
      ]
     },
     "execution_count": 55,
     "metadata": {},
     "output_type": "execute_result"
    }
   ],
   "source": [
    "type(origin_List)"
   ]
  },
  {
   "cell_type": "code",
   "execution_count": 56,
   "metadata": {
    "execution": {
     "iopub.execute_input": "2024-08-19T22:56:02.202066Z",
     "iopub.status.busy": "2024-08-19T22:56:02.201827Z",
     "iopub.status.idle": "2024-08-19T22:56:02.205467Z",
     "shell.execute_reply": "2024-08-19T22:56:02.204948Z"
    }
   },
   "outputs": [
    {
     "data": {
      "text/plain": [
       "tuple"
      ]
     },
     "execution_count": 56,
     "metadata": {},
     "output_type": "execute_result"
    }
   ],
   "source": [
    "type(origin_List.__mro__)"
   ]
  },
  {
   "cell_type": "code",
   "execution_count": 57,
   "metadata": {
    "execution": {
     "iopub.execute_input": "2024-08-19T22:56:02.208047Z",
     "iopub.status.busy": "2024-08-19T22:56:02.207833Z",
     "iopub.status.idle": "2024-08-19T22:56:02.219799Z",
     "shell.execute_reply": "2024-08-19T22:56:02.219195Z"
    },
    "tags": []
   },
   "outputs": [
    {
     "ename": "AttributeError",
     "evalue": "type object 'list' has no attribute '_name'",
     "output_type": "error",
     "traceback": [
      "\u001b[0;31m---------------------------------------------------------------------------\u001b[0m",
      "\u001b[0;31mAttributeError\u001b[0m                            Traceback (most recent call last)",
      "Cell \u001b[0;32mIn[57], line 1\u001b[0m\n\u001b[0;32m----> 1\u001b[0m \u001b[43morigin_List\u001b[49m\u001b[38;5;241;43m.\u001b[39;49m\u001b[43m_name\u001b[49m\n",
      "\u001b[0;31mAttributeError\u001b[0m: type object 'list' has no attribute '_name'"
     ]
    }
   ],
   "source": [
    "origin_List._name"
   ]
  },
  {
   "cell_type": "code",
   "execution_count": 58,
   "metadata": {
    "execution": {
     "iopub.execute_input": "2024-08-19T22:56:02.222416Z",
     "iopub.status.busy": "2024-08-19T22:56:02.222201Z",
     "iopub.status.idle": "2024-08-19T22:56:02.225700Z",
     "shell.execute_reply": "2024-08-19T22:56:02.225153Z"
    },
    "tags": []
   },
   "outputs": [
    {
     "data": {
      "text/plain": [
       "'list'"
      ]
     },
     "execution_count": 58,
     "metadata": {},
     "output_type": "execute_result"
    }
   ],
   "source": [
    "origin_List.__name__"
   ]
  },
  {
   "cell_type": "code",
   "execution_count": 59,
   "metadata": {
    "execution": {
     "iopub.execute_input": "2024-08-19T22:56:02.228239Z",
     "iopub.status.busy": "2024-08-19T22:56:02.228039Z",
     "iopub.status.idle": "2024-08-19T22:56:02.231361Z",
     "shell.execute_reply": "2024-08-19T22:56:02.230898Z"
    }
   },
   "outputs": [
    {
     "data": {
      "text/plain": [
       "'list'"
      ]
     },
     "execution_count": 59,
     "metadata": {},
     "output_type": "execute_result"
    }
   ],
   "source": [
    "origin_List.__qualname__"
   ]
  },
  {
   "cell_type": "markdown",
   "metadata": {},
   "source": [
    "### Standard Collection Aliases"
   ]
  },
  {
   "cell_type": "code",
   "execution_count": 60,
   "metadata": {
    "execution": {
     "iopub.execute_input": "2024-08-19T22:56:02.234050Z",
     "iopub.status.busy": "2024-08-19T22:56:02.233844Z",
     "iopub.status.idle": "2024-08-19T22:56:02.237601Z",
     "shell.execute_reply": "2024-08-19T22:56:02.237009Z"
    },
    "tags": []
   },
   "outputs": [
    {
     "data": {
      "text/plain": [
       "list[int]"
      ]
     },
     "execution_count": 60,
     "metadata": {},
     "output_type": "execute_result"
    }
   ],
   "source": [
    "tp_list = list[int]\n",
    "tp_list"
   ]
  },
  {
   "cell_type": "code",
   "execution_count": 61,
   "metadata": {
    "execution": {
     "iopub.execute_input": "2024-08-19T22:56:02.240062Z",
     "iopub.status.busy": "2024-08-19T22:56:02.239859Z",
     "iopub.status.idle": "2024-08-19T22:56:02.243185Z",
     "shell.execute_reply": "2024-08-19T22:56:02.242708Z"
    },
    "tags": []
   },
   "outputs": [
    {
     "data": {
      "text/plain": [
       "types.GenericAlias"
      ]
     },
     "execution_count": 61,
     "metadata": {},
     "output_type": "execute_result"
    }
   ],
   "source": [
    "type(tp_list)"
   ]
  },
  {
   "cell_type": "code",
   "execution_count": 62,
   "metadata": {
    "execution": {
     "iopub.execute_input": "2024-08-19T22:56:02.245599Z",
     "iopub.status.busy": "2024-08-19T22:56:02.245400Z",
     "iopub.status.idle": "2024-08-19T22:56:02.248730Z",
     "shell.execute_reply": "2024-08-19T22:56:02.248200Z"
    },
    "tags": []
   },
   "outputs": [
    {
     "data": {
      "text/plain": [
       "(types.GenericAlias, object)"
      ]
     },
     "execution_count": 62,
     "metadata": {},
     "output_type": "execute_result"
    }
   ],
   "source": [
    "type(tp_list).__mro__"
   ]
  },
  {
   "cell_type": "code",
   "execution_count": 63,
   "metadata": {
    "execution": {
     "iopub.execute_input": "2024-08-19T22:56:02.251229Z",
     "iopub.status.busy": "2024-08-19T22:56:02.251022Z",
     "iopub.status.idle": "2024-08-19T22:56:02.262816Z",
     "shell.execute_reply": "2024-08-19T22:56:02.262269Z"
    },
    "tags": []
   },
   "outputs": [
    {
     "ename": "AttributeError",
     "evalue": "type object 'list' has no attribute '_name'",
     "output_type": "error",
     "traceback": [
      "\u001b[0;31m---------------------------------------------------------------------------\u001b[0m",
      "\u001b[0;31mAttributeError\u001b[0m                            Traceback (most recent call last)",
      "Cell \u001b[0;32mIn[63], line 1\u001b[0m\n\u001b[0;32m----> 1\u001b[0m \u001b[43mtp_list\u001b[49m\u001b[38;5;241;43m.\u001b[39;49m\u001b[43m_name\u001b[49m\n",
      "\u001b[0;31mAttributeError\u001b[0m: type object 'list' has no attribute '_name'"
     ]
    }
   ],
   "source": [
    "tp_list._name"
   ]
  },
  {
   "cell_type": "code",
   "execution_count": 64,
   "metadata": {
    "execution": {
     "iopub.execute_input": "2024-08-19T22:56:02.265494Z",
     "iopub.status.busy": "2024-08-19T22:56:02.265287Z",
     "iopub.status.idle": "2024-08-19T22:56:02.268928Z",
     "shell.execute_reply": "2024-08-19T22:56:02.268220Z"
    },
    "tags": []
   },
   "outputs": [
    {
     "data": {
      "text/plain": [
       "'list'"
      ]
     },
     "execution_count": 64,
     "metadata": {},
     "output_type": "execute_result"
    }
   ],
   "source": [
    "tp_list.__name__"
   ]
  },
  {
   "cell_type": "code",
   "execution_count": 65,
   "metadata": {
    "execution": {
     "iopub.execute_input": "2024-08-19T22:56:02.271333Z",
     "iopub.status.busy": "2024-08-19T22:56:02.271132Z",
     "iopub.status.idle": "2024-08-19T22:56:02.274433Z",
     "shell.execute_reply": "2024-08-19T22:56:02.273993Z"
    }
   },
   "outputs": [
    {
     "data": {
      "text/plain": [
       "'list'"
      ]
     },
     "execution_count": 65,
     "metadata": {},
     "output_type": "execute_result"
    }
   ],
   "source": [
    "tp_list.__qualname__"
   ]
  },
  {
   "cell_type": "code",
   "execution_count": 66,
   "metadata": {
    "execution": {
     "iopub.execute_input": "2024-08-19T22:56:02.277047Z",
     "iopub.status.busy": "2024-08-19T22:56:02.276844Z",
     "iopub.status.idle": "2024-08-19T22:56:02.280151Z",
     "shell.execute_reply": "2024-08-19T22:56:02.279624Z"
    },
    "tags": []
   },
   "outputs": [
    {
     "data": {
      "text/plain": [
       "list"
      ]
     },
     "execution_count": 66,
     "metadata": {},
     "output_type": "execute_result"
    }
   ],
   "source": [
    "origin_list = get_origin(tp_list)\n",
    "origin_list"
   ]
  },
  {
   "cell_type": "code",
   "execution_count": 67,
   "metadata": {
    "execution": {
     "iopub.execute_input": "2024-08-19T22:56:02.282644Z",
     "iopub.status.busy": "2024-08-19T22:56:02.282437Z",
     "iopub.status.idle": "2024-08-19T22:56:02.285900Z",
     "shell.execute_reply": "2024-08-19T22:56:02.285256Z"
    },
    "tags": []
   },
   "outputs": [
    {
     "data": {
      "text/plain": [
       "type"
      ]
     },
     "execution_count": 67,
     "metadata": {},
     "output_type": "execute_result"
    }
   ],
   "source": [
    "type(origin_list)"
   ]
  },
  {
   "cell_type": "code",
   "execution_count": 68,
   "metadata": {
    "execution": {
     "iopub.execute_input": "2024-08-19T22:56:02.288413Z",
     "iopub.status.busy": "2024-08-19T22:56:02.288207Z",
     "iopub.status.idle": "2024-08-19T22:56:02.291634Z",
     "shell.execute_reply": "2024-08-19T22:56:02.291153Z"
    },
    "tags": []
   },
   "outputs": [
    {
     "data": {
      "text/plain": [
       "(type, object)"
      ]
     },
     "execution_count": 68,
     "metadata": {},
     "output_type": "execute_result"
    }
   ],
   "source": [
    "type(origin_list).__mro__"
   ]
  },
  {
   "cell_type": "code",
   "execution_count": 69,
   "metadata": {
    "execution": {
     "iopub.execute_input": "2024-08-19T22:56:02.294108Z",
     "iopub.status.busy": "2024-08-19T22:56:02.293909Z",
     "iopub.status.idle": "2024-08-19T22:56:02.305682Z",
     "shell.execute_reply": "2024-08-19T22:56:02.305185Z"
    },
    "tags": []
   },
   "outputs": [
    {
     "ename": "AttributeError",
     "evalue": "type object 'list' has no attribute '_name'",
     "output_type": "error",
     "traceback": [
      "\u001b[0;31m---------------------------------------------------------------------------\u001b[0m",
      "\u001b[0;31mAttributeError\u001b[0m                            Traceback (most recent call last)",
      "Cell \u001b[0;32mIn[69], line 1\u001b[0m\n\u001b[0;32m----> 1\u001b[0m \u001b[43morigin_list\u001b[49m\u001b[38;5;241;43m.\u001b[39;49m\u001b[43m_name\u001b[49m\n",
      "\u001b[0;31mAttributeError\u001b[0m: type object 'list' has no attribute '_name'"
     ]
    }
   ],
   "source": [
    "origin_list._name"
   ]
  },
  {
   "cell_type": "code",
   "execution_count": 70,
   "metadata": {
    "execution": {
     "iopub.execute_input": "2024-08-19T22:56:02.308160Z",
     "iopub.status.busy": "2024-08-19T22:56:02.307949Z",
     "iopub.status.idle": "2024-08-19T22:56:02.311536Z",
     "shell.execute_reply": "2024-08-19T22:56:02.311040Z"
    }
   },
   "outputs": [
    {
     "data": {
      "text/plain": [
       "'list'"
      ]
     },
     "execution_count": 70,
     "metadata": {},
     "output_type": "execute_result"
    }
   ],
   "source": [
    "origin_list.__name__"
   ]
  },
  {
   "cell_type": "code",
   "execution_count": 71,
   "metadata": {
    "execution": {
     "iopub.execute_input": "2024-08-19T22:56:02.314167Z",
     "iopub.status.busy": "2024-08-19T22:56:02.313941Z",
     "iopub.status.idle": "2024-08-19T22:56:02.317540Z",
     "shell.execute_reply": "2024-08-19T22:56:02.316984Z"
    },
    "tags": []
   },
   "outputs": [
    {
     "data": {
      "text/plain": [
       "'list'"
      ]
     },
     "execution_count": 71,
     "metadata": {},
     "output_type": "execute_result"
    }
   ],
   "source": [
    "origin_list.__qualname__"
   ]
  },
  {
   "attachments": {},
   "cell_type": "markdown",
   "metadata": {},
   "source": [
    "## Custom Class"
   ]
  },
  {
   "cell_type": "code",
   "execution_count": 72,
   "metadata": {
    "execution": {
     "iopub.execute_input": "2024-08-19T22:56:02.320660Z",
     "iopub.status.busy": "2024-08-19T22:56:02.320415Z",
     "iopub.status.idle": "2024-08-19T22:56:02.323290Z",
     "shell.execute_reply": "2024-08-19T22:56:02.322657Z"
    }
   },
   "outputs": [],
   "source": [
    "class MyClass:\n",
    "    pass"
   ]
  },
  {
   "cell_type": "code",
   "execution_count": 73,
   "metadata": {
    "execution": {
     "iopub.execute_input": "2024-08-19T22:56:02.325975Z",
     "iopub.status.busy": "2024-08-19T22:56:02.325749Z",
     "iopub.status.idle": "2024-08-19T22:56:02.329340Z",
     "shell.execute_reply": "2024-08-19T22:56:02.328811Z"
    }
   },
   "outputs": [
    {
     "data": {
      "text/plain": [
       "type"
      ]
     },
     "execution_count": 73,
     "metadata": {},
     "output_type": "execute_result"
    }
   ],
   "source": [
    "type(MyClass)"
   ]
  },
  {
   "cell_type": "code",
   "execution_count": 74,
   "metadata": {
    "execution": {
     "iopub.execute_input": "2024-08-19T22:56:02.331953Z",
     "iopub.status.busy": "2024-08-19T22:56:02.331747Z",
     "iopub.status.idle": "2024-08-19T22:56:02.335193Z",
     "shell.execute_reply": "2024-08-19T22:56:02.334598Z"
    }
   },
   "outputs": [
    {
     "data": {
      "text/plain": [
       "(__main__.MyClass, object)"
      ]
     },
     "execution_count": 74,
     "metadata": {},
     "output_type": "execute_result"
    }
   ],
   "source": [
    "MyClass.__mro__"
   ]
  },
  {
   "cell_type": "code",
   "execution_count": 75,
   "metadata": {
    "execution": {
     "iopub.execute_input": "2024-08-19T22:56:02.337767Z",
     "iopub.status.busy": "2024-08-19T22:56:02.337564Z",
     "iopub.status.idle": "2024-08-19T22:56:02.340021Z",
     "shell.execute_reply": "2024-08-19T22:56:02.339572Z"
    }
   },
   "outputs": [],
   "source": [
    "get_origin(MyClass)"
   ]
  },
  {
   "cell_type": "code",
   "execution_count": 76,
   "metadata": {
    "execution": {
     "iopub.execute_input": "2024-08-19T22:56:02.342453Z",
     "iopub.status.busy": "2024-08-19T22:56:02.342256Z",
     "iopub.status.idle": "2024-08-19T22:56:02.345518Z",
     "shell.execute_reply": "2024-08-19T22:56:02.345073Z"
    }
   },
   "outputs": [
    {
     "data": {
      "text/plain": [
       "'MyClass'"
      ]
     },
     "execution_count": 76,
     "metadata": {},
     "output_type": "execute_result"
    }
   ],
   "source": [
    "MyClass.__name__"
   ]
  },
  {
   "cell_type": "code",
   "execution_count": 77,
   "metadata": {
    "execution": {
     "iopub.execute_input": "2024-08-19T22:56:02.347848Z",
     "iopub.status.busy": "2024-08-19T22:56:02.347655Z",
     "iopub.status.idle": "2024-08-19T22:56:02.350995Z",
     "shell.execute_reply": "2024-08-19T22:56:02.350413Z"
    }
   },
   "outputs": [
    {
     "data": {
      "text/plain": [
       "'MyClass'"
      ]
     },
     "execution_count": 77,
     "metadata": {},
     "output_type": "execute_result"
    }
   ],
   "source": [
    "MyClass.__qualname__"
   ]
  },
  {
   "attachments": {},
   "cell_type": "markdown",
   "metadata": {},
   "source": [
    "## Nested Class"
   ]
  },
  {
   "cell_type": "code",
   "execution_count": 78,
   "metadata": {
    "execution": {
     "iopub.execute_input": "2024-08-19T22:56:02.353510Z",
     "iopub.status.busy": "2024-08-19T22:56:02.353303Z",
     "iopub.status.idle": "2024-08-19T22:56:02.355951Z",
     "shell.execute_reply": "2024-08-19T22:56:02.355447Z"
    }
   },
   "outputs": [],
   "source": [
    "class OuterClass:\n",
    "    class InnerClass:\n",
    "        pass"
   ]
  },
  {
   "cell_type": "code",
   "execution_count": 79,
   "metadata": {
    "execution": {
     "iopub.execute_input": "2024-08-19T22:56:02.358415Z",
     "iopub.status.busy": "2024-08-19T22:56:02.358084Z",
     "iopub.status.idle": "2024-08-19T22:56:02.361447Z",
     "shell.execute_reply": "2024-08-19T22:56:02.361007Z"
    }
   },
   "outputs": [
    {
     "data": {
      "text/plain": [
       "'OuterClass'"
      ]
     },
     "execution_count": 79,
     "metadata": {},
     "output_type": "execute_result"
    }
   ],
   "source": [
    "OuterClass.__name__"
   ]
  },
  {
   "cell_type": "code",
   "execution_count": 80,
   "metadata": {
    "execution": {
     "iopub.execute_input": "2024-08-19T22:56:02.363953Z",
     "iopub.status.busy": "2024-08-19T22:56:02.363613Z",
     "iopub.status.idle": "2024-08-19T22:56:02.367055Z",
     "shell.execute_reply": "2024-08-19T22:56:02.366596Z"
    }
   },
   "outputs": [
    {
     "data": {
      "text/plain": [
       "'OuterClass'"
      ]
     },
     "execution_count": 80,
     "metadata": {},
     "output_type": "execute_result"
    }
   ],
   "source": [
    "OuterClass.__qualname__"
   ]
  },
  {
   "cell_type": "code",
   "execution_count": 81,
   "metadata": {
    "execution": {
     "iopub.execute_input": "2024-08-19T22:56:02.369591Z",
     "iopub.status.busy": "2024-08-19T22:56:02.369374Z",
     "iopub.status.idle": "2024-08-19T22:56:02.372731Z",
     "shell.execute_reply": "2024-08-19T22:56:02.372284Z"
    }
   },
   "outputs": [
    {
     "data": {
      "text/plain": [
       "'InnerClass'"
      ]
     },
     "execution_count": 81,
     "metadata": {},
     "output_type": "execute_result"
    }
   ],
   "source": [
    "OuterClass.InnerClass.__name__"
   ]
  },
  {
   "cell_type": "code",
   "execution_count": 82,
   "metadata": {
    "execution": {
     "iopub.execute_input": "2024-08-19T22:56:02.375205Z",
     "iopub.status.busy": "2024-08-19T22:56:02.375003Z",
     "iopub.status.idle": "2024-08-19T22:56:02.378303Z",
     "shell.execute_reply": "2024-08-19T22:56:02.377854Z"
    }
   },
   "outputs": [
    {
     "data": {
      "text/plain": [
       "'OuterClass.InnerClass'"
      ]
     },
     "execution_count": 82,
     "metadata": {},
     "output_type": "execute_result"
    }
   ],
   "source": [
    "OuterClass.InnerClass.__qualname__"
   ]
  },
  {
   "attachments": {},
   "cell_type": "markdown",
   "metadata": {},
   "source": [
    "## Custom Generic"
   ]
  },
  {
   "cell_type": "code",
   "execution_count": 83,
   "metadata": {
    "execution": {
     "iopub.execute_input": "2024-08-19T22:56:02.380923Z",
     "iopub.status.busy": "2024-08-19T22:56:02.380572Z",
     "iopub.status.idle": "2024-08-19T22:56:02.383785Z",
     "shell.execute_reply": "2024-08-19T22:56:02.383266Z"
    }
   },
   "outputs": [],
   "source": [
    "class MyGeneric(typing.Generic[typing.T]):\n",
    "    def __init__(self, x) -> None:\n",
    "        self.x = x"
   ]
  },
  {
   "cell_type": "code",
   "execution_count": 84,
   "metadata": {
    "execution": {
     "iopub.execute_input": "2024-08-19T22:56:02.386582Z",
     "iopub.status.busy": "2024-08-19T22:56:02.386354Z",
     "iopub.status.idle": "2024-08-19T22:56:02.389968Z",
     "shell.execute_reply": "2024-08-19T22:56:02.389473Z"
    }
   },
   "outputs": [
    {
     "data": {
      "text/plain": [
       "__main__.MyGeneric[str]"
      ]
     },
     "execution_count": 84,
     "metadata": {},
     "output_type": "execute_result"
    }
   ],
   "source": [
    "tp_custom_generic = MyGeneric[str]\n",
    "tp_custom_generic"
   ]
  },
  {
   "cell_type": "code",
   "execution_count": 85,
   "metadata": {
    "execution": {
     "iopub.execute_input": "2024-08-19T22:56:02.392603Z",
     "iopub.status.busy": "2024-08-19T22:56:02.392367Z",
     "iopub.status.idle": "2024-08-19T22:56:02.396048Z",
     "shell.execute_reply": "2024-08-19T22:56:02.395551Z"
    }
   },
   "outputs": [
    {
     "data": {
      "text/plain": [
       "typing._GenericAlias"
      ]
     },
     "execution_count": 85,
     "metadata": {},
     "output_type": "execute_result"
    }
   ],
   "source": [
    "type(tp_custom_generic)"
   ]
  },
  {
   "cell_type": "code",
   "execution_count": 86,
   "metadata": {
    "execution": {
     "iopub.execute_input": "2024-08-19T22:56:02.398674Z",
     "iopub.status.busy": "2024-08-19T22:56:02.398436Z",
     "iopub.status.idle": "2024-08-19T22:56:02.402499Z",
     "shell.execute_reply": "2024-08-19T22:56:02.401772Z"
    }
   },
   "outputs": [
    {
     "data": {
      "text/plain": [
       "'MyGeneric'"
      ]
     },
     "execution_count": 86,
     "metadata": {},
     "output_type": "execute_result"
    }
   ],
   "source": [
    "tp_custom_generic.__name__"
   ]
  },
  {
   "cell_type": "code",
   "execution_count": 87,
   "metadata": {
    "execution": {
     "iopub.execute_input": "2024-08-19T22:56:02.405424Z",
     "iopub.status.busy": "2024-08-19T22:56:02.405174Z",
     "iopub.status.idle": "2024-08-19T22:56:02.409104Z",
     "shell.execute_reply": "2024-08-19T22:56:02.408419Z"
    }
   },
   "outputs": [
    {
     "data": {
      "text/plain": [
       "'MyGeneric'"
      ]
     },
     "execution_count": 87,
     "metadata": {},
     "output_type": "execute_result"
    }
   ],
   "source": [
    "tp_custom_generic.__qualname__"
   ]
  },
  {
   "cell_type": "code",
   "execution_count": 88,
   "metadata": {
    "execution": {
     "iopub.execute_input": "2024-08-19T22:56:02.411872Z",
     "iopub.status.busy": "2024-08-19T22:56:02.411641Z",
     "iopub.status.idle": "2024-08-19T22:56:02.415334Z",
     "shell.execute_reply": "2024-08-19T22:56:02.414759Z"
    }
   },
   "outputs": [
    {
     "data": {
      "text/plain": [
       "__main__.MyGeneric"
      ]
     },
     "execution_count": 88,
     "metadata": {},
     "output_type": "execute_result"
    }
   ],
   "source": [
    "origin_custom_generic = get_origin(tp_custom_generic)\n",
    "origin_custom_generic"
   ]
  },
  {
   "cell_type": "code",
   "execution_count": 89,
   "metadata": {
    "execution": {
     "iopub.execute_input": "2024-08-19T22:56:02.418154Z",
     "iopub.status.busy": "2024-08-19T22:56:02.417915Z",
     "iopub.status.idle": "2024-08-19T22:56:02.421721Z",
     "shell.execute_reply": "2024-08-19T22:56:02.421188Z"
    }
   },
   "outputs": [
    {
     "data": {
      "text/plain": [
       "'MyGeneric'"
      ]
     },
     "execution_count": 89,
     "metadata": {},
     "output_type": "execute_result"
    }
   ],
   "source": [
    "origin_custom_generic.__name__"
   ]
  },
  {
   "cell_type": "code",
   "execution_count": 90,
   "metadata": {
    "execution": {
     "iopub.execute_input": "2024-08-19T22:56:02.424518Z",
     "iopub.status.busy": "2024-08-19T22:56:02.424258Z",
     "iopub.status.idle": "2024-08-19T22:56:02.428012Z",
     "shell.execute_reply": "2024-08-19T22:56:02.427514Z"
    }
   },
   "outputs": [
    {
     "data": {
      "text/plain": [
       "'MyGeneric'"
      ]
     },
     "execution_count": 90,
     "metadata": {},
     "output_type": "execute_result"
    }
   ],
   "source": [
    "origin_custom_generic.__qualname__"
   ]
  },
  {
   "attachments": {},
   "cell_type": "markdown",
   "metadata": {},
   "source": [
    "## typing.Any"
   ]
  },
  {
   "cell_type": "code",
   "execution_count": 91,
   "metadata": {
    "execution": {
     "iopub.execute_input": "2024-08-19T22:56:02.431165Z",
     "iopub.status.busy": "2024-08-19T22:56:02.430907Z",
     "iopub.status.idle": "2024-08-19T22:56:02.435270Z",
     "shell.execute_reply": "2024-08-19T22:56:02.434353Z"
    }
   },
   "outputs": [
    {
     "data": {
      "text/plain": [
       "'typing.Any'"
      ]
     },
     "execution_count": 91,
     "metadata": {},
     "output_type": "execute_result"
    }
   ],
   "source": [
    "tp_any = typing.Any\n",
    "repr(tp_any)"
   ]
  },
  {
   "cell_type": "code",
   "execution_count": 92,
   "metadata": {
    "execution": {
     "iopub.execute_input": "2024-08-19T22:56:02.438535Z",
     "iopub.status.busy": "2024-08-19T22:56:02.438276Z",
     "iopub.status.idle": "2024-08-19T22:56:02.441927Z",
     "shell.execute_reply": "2024-08-19T22:56:02.441432Z"
    }
   },
   "outputs": [
    {
     "data": {
      "text/plain": [
       "'Any'"
      ]
     },
     "execution_count": 92,
     "metadata": {},
     "output_type": "execute_result"
    }
   ],
   "source": [
    "tp_any.__name__"
   ]
  },
  {
   "cell_type": "code",
   "execution_count": 93,
   "metadata": {
    "execution": {
     "iopub.execute_input": "2024-08-19T22:56:02.444891Z",
     "iopub.status.busy": "2024-08-19T22:56:02.444663Z",
     "iopub.status.idle": "2024-08-19T22:56:02.448379Z",
     "shell.execute_reply": "2024-08-19T22:56:02.447785Z"
    }
   },
   "outputs": [
    {
     "data": {
      "text/plain": [
       "'Any'"
      ]
     },
     "execution_count": 93,
     "metadata": {},
     "output_type": "execute_result"
    }
   ],
   "source": [
    "tp_any.__qualname__"
   ]
  }
 ],
 "metadata": {
  "kernelspec": {
   "display_name": ".venv",
   "language": "python",
   "name": "python3"
  },
  "language_info": {
   "codemirror_mode": {
    "name": "ipython",
    "version": 3
   },
   "file_extension": ".py",
   "mimetype": "text/x-python",
   "name": "python",
   "nbconvert_exporter": "python",
   "pygments_lexer": "ipython3",
   "version": "3.10.13"
  },
  "vscode": {
   "interpreter": {
    "hash": "562b6b1d41146ba195661be6d6db461f2660efbf90f15e4bc583c307da246186"
   }
  }
 },
 "nbformat": 4,
 "nbformat_minor": 4
}

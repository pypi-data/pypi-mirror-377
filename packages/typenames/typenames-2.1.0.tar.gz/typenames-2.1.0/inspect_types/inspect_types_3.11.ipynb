{
 "cells": [
  {
   "cell_type": "code",
   "execution_count": 1,
   "metadata": {
    "execution": {
     "iopub.execute_input": "2024-08-19T22:56:05.520178Z",
     "iopub.status.busy": "2024-08-19T22:56:05.519842Z",
     "iopub.status.idle": "2024-08-19T22:56:05.527517Z",
     "shell.execute_reply": "2024-08-19T22:56:05.526837Z"
    }
   },
   "outputs": [],
   "source": [
    "import sys\n",
    "import typing\n",
    "\n",
    "try:\n",
    "    from typing import get_origin\n",
    "except ImportError:\n",
    "    from typing_extensions import get_origin"
   ]
  },
  {
   "cell_type": "code",
   "execution_count": 2,
   "metadata": {
    "execution": {
     "iopub.execute_input": "2024-08-19T22:56:05.530637Z",
     "iopub.status.busy": "2024-08-19T22:56:05.530380Z",
     "iopub.status.idle": "2024-08-19T22:56:05.537766Z",
     "shell.execute_reply": "2024-08-19T22:56:05.537078Z"
    }
   },
   "outputs": [
    {
     "data": {
      "text/plain": [
       "'3.11.9 (main, Jul 13 2024, 23:10:25) [Clang 17.0.6 ]'"
      ]
     },
     "execution_count": 2,
     "metadata": {},
     "output_type": "execute_result"
    }
   ],
   "source": [
    "sys.version"
   ]
  },
  {
   "cell_type": "markdown",
   "metadata": {},
   "source": [
    "## Union"
   ]
  },
  {
   "cell_type": "markdown",
   "metadata": {},
   "source": [
    "### typing.Union (Generic Alias)"
   ]
  },
  {
   "cell_type": "code",
   "execution_count": 3,
   "metadata": {
    "execution": {
     "iopub.execute_input": "2024-08-19T22:56:05.583761Z",
     "iopub.status.busy": "2024-08-19T22:56:05.583263Z",
     "iopub.status.idle": "2024-08-19T22:56:05.589716Z",
     "shell.execute_reply": "2024-08-19T22:56:05.588640Z"
    }
   },
   "outputs": [
    {
     "data": {
      "text/plain": [
       "'typing.Union[int, str]'"
      ]
     },
     "execution_count": 3,
     "metadata": {},
     "output_type": "execute_result"
    }
   ],
   "source": [
    "tp_union = typing.Union[int, str]\n",
    "repr(tp_union)"
   ]
  },
  {
   "cell_type": "code",
   "execution_count": 4,
   "metadata": {
    "execution": {
     "iopub.execute_input": "2024-08-19T22:56:05.592970Z",
     "iopub.status.busy": "2024-08-19T22:56:05.592705Z",
     "iopub.status.idle": "2024-08-19T22:56:05.597486Z",
     "shell.execute_reply": "2024-08-19T22:56:05.596878Z"
    }
   },
   "outputs": [
    {
     "data": {
      "text/plain": [
       "typing._UnionGenericAlias"
      ]
     },
     "execution_count": 4,
     "metadata": {},
     "output_type": "execute_result"
    }
   ],
   "source": [
    "type(tp_union)"
   ]
  },
  {
   "cell_type": "code",
   "execution_count": 5,
   "metadata": {
    "execution": {
     "iopub.execute_input": "2024-08-19T22:56:05.600664Z",
     "iopub.status.busy": "2024-08-19T22:56:05.600392Z",
     "iopub.status.idle": "2024-08-19T22:56:05.604919Z",
     "shell.execute_reply": "2024-08-19T22:56:05.604334Z"
    }
   },
   "outputs": [
    {
     "data": {
      "text/plain": [
       "(typing._UnionGenericAlias,\n",
       " typing._NotIterable,\n",
       " typing._GenericAlias,\n",
       " typing._BaseGenericAlias,\n",
       " typing._Final,\n",
       " object)"
      ]
     },
     "execution_count": 5,
     "metadata": {},
     "output_type": "execute_result"
    }
   ],
   "source": [
    "type(tp_union).__mro__"
   ]
  },
  {
   "cell_type": "code",
   "execution_count": 6,
   "metadata": {
    "execution": {
     "iopub.execute_input": "2024-08-19T22:56:05.608242Z",
     "iopub.status.busy": "2024-08-19T22:56:05.607984Z",
     "iopub.status.idle": "2024-08-19T22:56:05.611142Z",
     "shell.execute_reply": "2024-08-19T22:56:05.610534Z"
    }
   },
   "outputs": [],
   "source": [
    "tp_union._name"
   ]
  },
  {
   "cell_type": "code",
   "execution_count": 7,
   "metadata": {
    "execution": {
     "iopub.execute_input": "2024-08-19T22:56:05.614605Z",
     "iopub.status.busy": "2024-08-19T22:56:05.614200Z",
     "iopub.status.idle": "2024-08-19T22:56:05.618542Z",
     "shell.execute_reply": "2024-08-19T22:56:05.617896Z"
    }
   },
   "outputs": [
    {
     "data": {
      "text/plain": [
       "'Union'"
      ]
     },
     "execution_count": 7,
     "metadata": {},
     "output_type": "execute_result"
    }
   ],
   "source": [
    "tp_union.__name__"
   ]
  },
  {
   "cell_type": "code",
   "execution_count": 8,
   "metadata": {
    "execution": {
     "iopub.execute_input": "2024-08-19T22:56:05.621935Z",
     "iopub.status.busy": "2024-08-19T22:56:05.621559Z",
     "iopub.status.idle": "2024-08-19T22:56:05.625663Z",
     "shell.execute_reply": "2024-08-19T22:56:05.625163Z"
    }
   },
   "outputs": [
    {
     "data": {
      "text/plain": [
       "'Union'"
      ]
     },
     "execution_count": 8,
     "metadata": {},
     "output_type": "execute_result"
    }
   ],
   "source": [
    "tp_union.__qualname__"
   ]
  },
  {
   "cell_type": "code",
   "execution_count": 9,
   "metadata": {
    "execution": {
     "iopub.execute_input": "2024-08-19T22:56:05.628654Z",
     "iopub.status.busy": "2024-08-19T22:56:05.628348Z",
     "iopub.status.idle": "2024-08-19T22:56:05.632364Z",
     "shell.execute_reply": "2024-08-19T22:56:05.631708Z"
    }
   },
   "outputs": [
    {
     "data": {
      "text/plain": [
       "typing.Union"
      ]
     },
     "execution_count": 9,
     "metadata": {},
     "output_type": "execute_result"
    }
   ],
   "source": [
    "origin_union = get_origin(tp_union)\n",
    "origin_union"
   ]
  },
  {
   "cell_type": "code",
   "execution_count": 10,
   "metadata": {
    "execution": {
     "iopub.execute_input": "2024-08-19T22:56:05.635579Z",
     "iopub.status.busy": "2024-08-19T22:56:05.635313Z",
     "iopub.status.idle": "2024-08-19T22:56:05.639565Z",
     "shell.execute_reply": "2024-08-19T22:56:05.638756Z"
    }
   },
   "outputs": [
    {
     "data": {
      "text/plain": [
       "typing._SpecialForm"
      ]
     },
     "execution_count": 10,
     "metadata": {},
     "output_type": "execute_result"
    }
   ],
   "source": [
    "type(origin_union)"
   ]
  },
  {
   "cell_type": "code",
   "execution_count": 11,
   "metadata": {
    "execution": {
     "iopub.execute_input": "2024-08-19T22:56:05.642467Z",
     "iopub.status.busy": "2024-08-19T22:56:05.642219Z",
     "iopub.status.idle": "2024-08-19T22:56:05.646331Z",
     "shell.execute_reply": "2024-08-19T22:56:05.645548Z"
    }
   },
   "outputs": [
    {
     "data": {
      "text/plain": [
       "(typing._SpecialForm, typing._Final, typing._NotIterable, object)"
      ]
     },
     "execution_count": 11,
     "metadata": {},
     "output_type": "execute_result"
    }
   ],
   "source": [
    "type(origin_union).__mro__"
   ]
  },
  {
   "cell_type": "code",
   "execution_count": 12,
   "metadata": {
    "execution": {
     "iopub.execute_input": "2024-08-19T22:56:05.649158Z",
     "iopub.status.busy": "2024-08-19T22:56:05.648916Z",
     "iopub.status.idle": "2024-08-19T22:56:05.652912Z",
     "shell.execute_reply": "2024-08-19T22:56:05.652303Z"
    }
   },
   "outputs": [
    {
     "data": {
      "text/plain": [
       "'Union'"
      ]
     },
     "execution_count": 12,
     "metadata": {},
     "output_type": "execute_result"
    }
   ],
   "source": [
    "origin_union._name"
   ]
  },
  {
   "cell_type": "code",
   "execution_count": 13,
   "metadata": {
    "execution": {
     "iopub.execute_input": "2024-08-19T22:56:05.656051Z",
     "iopub.status.busy": "2024-08-19T22:56:05.655771Z",
     "iopub.status.idle": "2024-08-19T22:56:05.659530Z",
     "shell.execute_reply": "2024-08-19T22:56:05.658997Z"
    }
   },
   "outputs": [
    {
     "data": {
      "text/plain": [
       "'Union'"
      ]
     },
     "execution_count": 13,
     "metadata": {},
     "output_type": "execute_result"
    }
   ],
   "source": [
    "origin_union.__name__"
   ]
  },
  {
   "cell_type": "code",
   "execution_count": 14,
   "metadata": {
    "execution": {
     "iopub.execute_input": "2024-08-19T22:56:05.663062Z",
     "iopub.status.busy": "2024-08-19T22:56:05.662774Z",
     "iopub.status.idle": "2024-08-19T22:56:05.666850Z",
     "shell.execute_reply": "2024-08-19T22:56:05.666202Z"
    }
   },
   "outputs": [
    {
     "data": {
      "text/plain": [
       "'Union'"
      ]
     },
     "execution_count": 14,
     "metadata": {},
     "output_type": "execute_result"
    }
   ],
   "source": [
    "origin_union.__qualname__"
   ]
  },
  {
   "cell_type": "markdown",
   "metadata": {},
   "source": [
    "### | (bitwise or) operator"
   ]
  },
  {
   "cell_type": "code",
   "execution_count": 15,
   "metadata": {
    "execution": {
     "iopub.execute_input": "2024-08-19T22:56:05.669597Z",
     "iopub.status.busy": "2024-08-19T22:56:05.669367Z",
     "iopub.status.idle": "2024-08-19T22:56:05.673514Z",
     "shell.execute_reply": "2024-08-19T22:56:05.672946Z"
    },
    "tags": []
   },
   "outputs": [
    {
     "data": {
      "text/plain": [
       "'int | str'"
      ]
     },
     "execution_count": 15,
     "metadata": {},
     "output_type": "execute_result"
    }
   ],
   "source": [
    "tp_or = int | str\n",
    "repr(tp_or)"
   ]
  },
  {
   "cell_type": "code",
   "execution_count": 16,
   "metadata": {
    "execution": {
     "iopub.execute_input": "2024-08-19T22:56:05.676224Z",
     "iopub.status.busy": "2024-08-19T22:56:05.675998Z",
     "iopub.status.idle": "2024-08-19T22:56:05.679920Z",
     "shell.execute_reply": "2024-08-19T22:56:05.679427Z"
    },
    "tags": []
   },
   "outputs": [
    {
     "data": {
      "text/plain": [
       "types.UnionType"
      ]
     },
     "execution_count": 16,
     "metadata": {},
     "output_type": "execute_result"
    }
   ],
   "source": [
    "type(tp_or)"
   ]
  },
  {
   "cell_type": "code",
   "execution_count": 17,
   "metadata": {
    "execution": {
     "iopub.execute_input": "2024-08-19T22:56:05.682588Z",
     "iopub.status.busy": "2024-08-19T22:56:05.682348Z",
     "iopub.status.idle": "2024-08-19T22:56:05.686313Z",
     "shell.execute_reply": "2024-08-19T22:56:05.685845Z"
    },
    "tags": []
   },
   "outputs": [
    {
     "data": {
      "text/plain": [
       "(types.UnionType, object)"
      ]
     },
     "execution_count": 17,
     "metadata": {},
     "output_type": "execute_result"
    }
   ],
   "source": [
    "type(tp_or).__mro__"
   ]
  },
  {
   "cell_type": "code",
   "execution_count": 18,
   "metadata": {
    "execution": {
     "iopub.execute_input": "2024-08-19T22:56:05.689320Z",
     "iopub.status.busy": "2024-08-19T22:56:05.689071Z",
     "iopub.status.idle": "2024-08-19T22:56:05.692575Z",
     "shell.execute_reply": "2024-08-19T22:56:05.692103Z"
    },
    "tags": []
   },
   "outputs": [
    {
     "data": {
      "text/plain": [
       "types.UnionType"
      ]
     },
     "execution_count": 18,
     "metadata": {},
     "output_type": "execute_result"
    }
   ],
   "source": [
    "origin_or = get_origin(tp_or)\n",
    "origin_or"
   ]
  },
  {
   "cell_type": "code",
   "execution_count": 19,
   "metadata": {
    "execution": {
     "iopub.execute_input": "2024-08-19T22:56:05.695442Z",
     "iopub.status.busy": "2024-08-19T22:56:05.695205Z",
     "iopub.status.idle": "2024-08-19T22:56:05.698883Z",
     "shell.execute_reply": "2024-08-19T22:56:05.698239Z"
    },
    "tags": []
   },
   "outputs": [
    {
     "data": {
      "text/plain": [
       "type"
      ]
     },
     "execution_count": 19,
     "metadata": {},
     "output_type": "execute_result"
    }
   ],
   "source": [
    "type(origin_or)"
   ]
  },
  {
   "cell_type": "code",
   "execution_count": 20,
   "metadata": {
    "execution": {
     "iopub.execute_input": "2024-08-19T22:56:05.703565Z",
     "iopub.status.busy": "2024-08-19T22:56:05.703284Z",
     "iopub.status.idle": "2024-08-19T22:56:05.707330Z",
     "shell.execute_reply": "2024-08-19T22:56:05.706814Z"
    },
    "tags": []
   },
   "outputs": [
    {
     "data": {
      "text/plain": [
       "(type, object)"
      ]
     },
     "execution_count": 20,
     "metadata": {},
     "output_type": "execute_result"
    }
   ],
   "source": [
    "type(origin_or).__mro__"
   ]
  },
  {
   "cell_type": "code",
   "execution_count": 21,
   "metadata": {
    "execution": {
     "iopub.execute_input": "2024-08-19T22:56:05.710240Z",
     "iopub.status.busy": "2024-08-19T22:56:05.709971Z",
     "iopub.status.idle": "2024-08-19T22:56:05.904248Z",
     "shell.execute_reply": "2024-08-19T22:56:05.903564Z"
    },
    "tags": []
   },
   "outputs": [
    {
     "ename": "AttributeError",
     "evalue": "type object 'types.UnionType' has no attribute '_name'",
     "output_type": "error",
     "traceback": [
      "\u001b[0;31m---------------------------------------------------------------------------\u001b[0m",
      "\u001b[0;31mAttributeError\u001b[0m                            Traceback (most recent call last)",
      "Cell \u001b[0;32mIn[21], line 1\u001b[0m\n\u001b[0;32m----> 1\u001b[0m \u001b[43morigin_or\u001b[49m\u001b[38;5;241;43m.\u001b[39;49m\u001b[43m_name\u001b[49m\n",
      "\u001b[0;31mAttributeError\u001b[0m: type object 'types.UnionType' has no attribute '_name'"
     ]
    }
   ],
   "source": [
    "origin_or._name"
   ]
  },
  {
   "cell_type": "code",
   "execution_count": 22,
   "metadata": {
    "execution": {
     "iopub.execute_input": "2024-08-19T22:56:05.907550Z",
     "iopub.status.busy": "2024-08-19T22:56:05.907312Z",
     "iopub.status.idle": "2024-08-19T22:56:05.910850Z",
     "shell.execute_reply": "2024-08-19T22:56:05.910310Z"
    },
    "tags": []
   },
   "outputs": [
    {
     "data": {
      "text/plain": [
       "'UnionType'"
      ]
     },
     "execution_count": 22,
     "metadata": {},
     "output_type": "execute_result"
    }
   ],
   "source": [
    "origin_or.__name__"
   ]
  },
  {
   "cell_type": "code",
   "execution_count": 23,
   "metadata": {
    "execution": {
     "iopub.execute_input": "2024-08-19T22:56:05.913318Z",
     "iopub.status.busy": "2024-08-19T22:56:05.913120Z",
     "iopub.status.idle": "2024-08-19T22:56:05.916896Z",
     "shell.execute_reply": "2024-08-19T22:56:05.916189Z"
    }
   },
   "outputs": [
    {
     "data": {
      "text/plain": [
       "'UnionType'"
      ]
     },
     "execution_count": 23,
     "metadata": {},
     "output_type": "execute_result"
    }
   ],
   "source": [
    "origin_or.__qualname__"
   ]
  },
  {
   "cell_type": "markdown",
   "metadata": {},
   "source": [
    "## Optional"
   ]
  },
  {
   "cell_type": "markdown",
   "metadata": {},
   "source": [
    "### typing.Optional (Generic Alias)"
   ]
  },
  {
   "cell_type": "code",
   "execution_count": 24,
   "metadata": {
    "execution": {
     "iopub.execute_input": "2024-08-19T22:56:05.920869Z",
     "iopub.status.busy": "2024-08-19T22:56:05.920592Z",
     "iopub.status.idle": "2024-08-19T22:56:05.925904Z",
     "shell.execute_reply": "2024-08-19T22:56:05.925380Z"
    }
   },
   "outputs": [
    {
     "data": {
      "text/plain": [
       "'typing.Optional[int]'"
      ]
     },
     "execution_count": 24,
     "metadata": {},
     "output_type": "execute_result"
    }
   ],
   "source": [
    "tp_optional = typing.Optional[int]\n",
    "repr(tp_optional)"
   ]
  },
  {
   "cell_type": "code",
   "execution_count": 25,
   "metadata": {
    "execution": {
     "iopub.execute_input": "2024-08-19T22:56:05.928787Z",
     "iopub.status.busy": "2024-08-19T22:56:05.928555Z",
     "iopub.status.idle": "2024-08-19T22:56:05.932223Z",
     "shell.execute_reply": "2024-08-19T22:56:05.931535Z"
    }
   },
   "outputs": [
    {
     "data": {
      "text/plain": [
       "typing._UnionGenericAlias"
      ]
     },
     "execution_count": 25,
     "metadata": {},
     "output_type": "execute_result"
    }
   ],
   "source": [
    "type(tp_optional)"
   ]
  },
  {
   "cell_type": "code",
   "execution_count": 26,
   "metadata": {
    "execution": {
     "iopub.execute_input": "2024-08-19T22:56:05.935323Z",
     "iopub.status.busy": "2024-08-19T22:56:05.935033Z",
     "iopub.status.idle": "2024-08-19T22:56:05.939504Z",
     "shell.execute_reply": "2024-08-19T22:56:05.938768Z"
    }
   },
   "outputs": [
    {
     "data": {
      "text/plain": [
       "(typing._UnionGenericAlias,\n",
       " typing._NotIterable,\n",
       " typing._GenericAlias,\n",
       " typing._BaseGenericAlias,\n",
       " typing._Final,\n",
       " object)"
      ]
     },
     "execution_count": 26,
     "metadata": {},
     "output_type": "execute_result"
    }
   ],
   "source": [
    "type(tp_optional).__mro__"
   ]
  },
  {
   "cell_type": "code",
   "execution_count": 27,
   "metadata": {
    "execution": {
     "iopub.execute_input": "2024-08-19T22:56:05.943050Z",
     "iopub.status.busy": "2024-08-19T22:56:05.942790Z",
     "iopub.status.idle": "2024-08-19T22:56:05.946637Z",
     "shell.execute_reply": "2024-08-19T22:56:05.946064Z"
    },
    "tags": []
   },
   "outputs": [
    {
     "data": {
      "text/plain": [
       "'Optional'"
      ]
     },
     "execution_count": 27,
     "metadata": {},
     "output_type": "execute_result"
    }
   ],
   "source": [
    "tp_optional._name"
   ]
  },
  {
   "cell_type": "code",
   "execution_count": 28,
   "metadata": {
    "execution": {
     "iopub.execute_input": "2024-08-19T22:56:05.950495Z",
     "iopub.status.busy": "2024-08-19T22:56:05.950195Z",
     "iopub.status.idle": "2024-08-19T22:56:05.954784Z",
     "shell.execute_reply": "2024-08-19T22:56:05.953953Z"
    },
    "tags": []
   },
   "outputs": [
    {
     "data": {
      "text/plain": [
       "'Optional'"
      ]
     },
     "execution_count": 28,
     "metadata": {},
     "output_type": "execute_result"
    }
   ],
   "source": [
    "tp_optional.__name__"
   ]
  },
  {
   "cell_type": "code",
   "execution_count": 29,
   "metadata": {
    "execution": {
     "iopub.execute_input": "2024-08-19T22:56:05.958473Z",
     "iopub.status.busy": "2024-08-19T22:56:05.958187Z",
     "iopub.status.idle": "2024-08-19T22:56:05.963230Z",
     "shell.execute_reply": "2024-08-19T22:56:05.962536Z"
    }
   },
   "outputs": [
    {
     "data": {
      "text/plain": [
       "'Optional'"
      ]
     },
     "execution_count": 29,
     "metadata": {},
     "output_type": "execute_result"
    }
   ],
   "source": [
    "tp_optional.__qualname__"
   ]
  },
  {
   "cell_type": "code",
   "execution_count": 30,
   "metadata": {
    "execution": {
     "iopub.execute_input": "2024-08-19T22:56:05.966642Z",
     "iopub.status.busy": "2024-08-19T22:56:05.966257Z",
     "iopub.status.idle": "2024-08-19T22:56:05.972263Z",
     "shell.execute_reply": "2024-08-19T22:56:05.971425Z"
    }
   },
   "outputs": [
    {
     "data": {
      "text/plain": [
       "typing.Union"
      ]
     },
     "execution_count": 30,
     "metadata": {},
     "output_type": "execute_result"
    }
   ],
   "source": [
    "origin_optional = get_origin(tp_optional)\n",
    "origin_optional"
   ]
  },
  {
   "cell_type": "code",
   "execution_count": 31,
   "metadata": {
    "execution": {
     "iopub.execute_input": "2024-08-19T22:56:05.978935Z",
     "iopub.status.busy": "2024-08-19T22:56:05.978665Z",
     "iopub.status.idle": "2024-08-19T22:56:05.983473Z",
     "shell.execute_reply": "2024-08-19T22:56:05.982368Z"
    }
   },
   "outputs": [
    {
     "data": {
      "text/plain": [
       "typing._SpecialForm"
      ]
     },
     "execution_count": 31,
     "metadata": {},
     "output_type": "execute_result"
    }
   ],
   "source": [
    "type(origin_optional)"
   ]
  },
  {
   "cell_type": "code",
   "execution_count": 32,
   "metadata": {
    "execution": {
     "iopub.execute_input": "2024-08-19T22:56:05.988586Z",
     "iopub.status.busy": "2024-08-19T22:56:05.987954Z",
     "iopub.status.idle": "2024-08-19T22:56:05.993256Z",
     "shell.execute_reply": "2024-08-19T22:56:05.992464Z"
    }
   },
   "outputs": [
    {
     "data": {
      "text/plain": [
       "(typing._SpecialForm, typing._Final, typing._NotIterable, object)"
      ]
     },
     "execution_count": 32,
     "metadata": {},
     "output_type": "execute_result"
    }
   ],
   "source": [
    "type(origin_optional).__mro__"
   ]
  },
  {
   "cell_type": "code",
   "execution_count": 33,
   "metadata": {
    "execution": {
     "iopub.execute_input": "2024-08-19T22:56:05.996866Z",
     "iopub.status.busy": "2024-08-19T22:56:05.996604Z",
     "iopub.status.idle": "2024-08-19T22:56:06.002237Z",
     "shell.execute_reply": "2024-08-19T22:56:06.001320Z"
    },
    "tags": []
   },
   "outputs": [
    {
     "data": {
      "text/plain": [
       "'Union'"
      ]
     },
     "execution_count": 33,
     "metadata": {},
     "output_type": "execute_result"
    }
   ],
   "source": [
    "origin_optional._name"
   ]
  },
  {
   "cell_type": "code",
   "execution_count": 34,
   "metadata": {
    "execution": {
     "iopub.execute_input": "2024-08-19T22:56:06.006874Z",
     "iopub.status.busy": "2024-08-19T22:56:06.006427Z",
     "iopub.status.idle": "2024-08-19T22:56:06.011414Z",
     "shell.execute_reply": "2024-08-19T22:56:06.010464Z"
    },
    "tags": []
   },
   "outputs": [
    {
     "data": {
      "text/plain": [
       "'Union'"
      ]
     },
     "execution_count": 34,
     "metadata": {},
     "output_type": "execute_result"
    }
   ],
   "source": [
    "origin_optional.__name__"
   ]
  },
  {
   "cell_type": "code",
   "execution_count": 35,
   "metadata": {
    "execution": {
     "iopub.execute_input": "2024-08-19T22:56:06.014829Z",
     "iopub.status.busy": "2024-08-19T22:56:06.014542Z",
     "iopub.status.idle": "2024-08-19T22:56:06.019096Z",
     "shell.execute_reply": "2024-08-19T22:56:06.018487Z"
    }
   },
   "outputs": [
    {
     "data": {
      "text/plain": [
       "'Union'"
      ]
     },
     "execution_count": 35,
     "metadata": {},
     "output_type": "execute_result"
    }
   ],
   "source": [
    "origin_optional.__qualname__"
   ]
  },
  {
   "cell_type": "markdown",
   "metadata": {},
   "source": [
    "### | (bitwise or) Operator"
   ]
  },
  {
   "cell_type": "code",
   "execution_count": 36,
   "metadata": {
    "execution": {
     "iopub.execute_input": "2024-08-19T22:56:06.023444Z",
     "iopub.status.busy": "2024-08-19T22:56:06.022875Z",
     "iopub.status.idle": "2024-08-19T22:56:06.028196Z",
     "shell.execute_reply": "2024-08-19T22:56:06.027408Z"
    },
    "tags": []
   },
   "outputs": [
    {
     "data": {
      "text/plain": [
       "'int | None'"
      ]
     },
     "execution_count": 36,
     "metadata": {},
     "output_type": "execute_result"
    }
   ],
   "source": [
    "tp_or_none = int | None\n",
    "repr(tp_or_none)"
   ]
  },
  {
   "cell_type": "code",
   "execution_count": 37,
   "metadata": {
    "execution": {
     "iopub.execute_input": "2024-08-19T22:56:06.031507Z",
     "iopub.status.busy": "2024-08-19T22:56:06.031249Z",
     "iopub.status.idle": "2024-08-19T22:56:06.036147Z",
     "shell.execute_reply": "2024-08-19T22:56:06.035111Z"
    },
    "tags": []
   },
   "outputs": [
    {
     "data": {
      "text/plain": [
       "types.UnionType"
      ]
     },
     "execution_count": 37,
     "metadata": {},
     "output_type": "execute_result"
    }
   ],
   "source": [
    "type(tp_or_none)"
   ]
  },
  {
   "cell_type": "code",
   "execution_count": 38,
   "metadata": {
    "execution": {
     "iopub.execute_input": "2024-08-19T22:56:06.040315Z",
     "iopub.status.busy": "2024-08-19T22:56:06.040012Z",
     "iopub.status.idle": "2024-08-19T22:56:06.044989Z",
     "shell.execute_reply": "2024-08-19T22:56:06.044074Z"
    },
    "tags": []
   },
   "outputs": [
    {
     "data": {
      "text/plain": [
       "(types.UnionType, object)"
      ]
     },
     "execution_count": 38,
     "metadata": {},
     "output_type": "execute_result"
    }
   ],
   "source": [
    "type(tp_or_none).__mro__"
   ]
  },
  {
   "cell_type": "code",
   "execution_count": 39,
   "metadata": {
    "execution": {
     "iopub.execute_input": "2024-08-19T22:56:06.048397Z",
     "iopub.status.busy": "2024-08-19T22:56:06.048126Z",
     "iopub.status.idle": "2024-08-19T22:56:06.069032Z",
     "shell.execute_reply": "2024-08-19T22:56:06.067720Z"
    },
    "tags": []
   },
   "outputs": [
    {
     "ename": "AttributeError",
     "evalue": "'types.UnionType' object has no attribute '_name'",
     "output_type": "error",
     "traceback": [
      "\u001b[0;31m---------------------------------------------------------------------------\u001b[0m",
      "\u001b[0;31mAttributeError\u001b[0m                            Traceback (most recent call last)",
      "Cell \u001b[0;32mIn[39], line 1\u001b[0m\n\u001b[0;32m----> 1\u001b[0m \u001b[43mtp_or_none\u001b[49m\u001b[38;5;241;43m.\u001b[39;49m\u001b[43m_name\u001b[49m\n",
      "\u001b[0;31mAttributeError\u001b[0m: 'types.UnionType' object has no attribute '_name'"
     ]
    }
   ],
   "source": [
    "tp_or_none._name"
   ]
  },
  {
   "cell_type": "code",
   "execution_count": 40,
   "metadata": {
    "execution": {
     "iopub.execute_input": "2024-08-19T22:56:06.074891Z",
     "iopub.status.busy": "2024-08-19T22:56:06.074030Z",
     "iopub.status.idle": "2024-08-19T22:56:06.096808Z",
     "shell.execute_reply": "2024-08-19T22:56:06.095525Z"
    }
   },
   "outputs": [
    {
     "ename": "AttributeError",
     "evalue": "'types.UnionType' object has no attribute '__name__'",
     "output_type": "error",
     "traceback": [
      "\u001b[0;31m---------------------------------------------------------------------------\u001b[0m",
      "\u001b[0;31mAttributeError\u001b[0m                            Traceback (most recent call last)",
      "Cell \u001b[0;32mIn[40], line 1\u001b[0m\n\u001b[0;32m----> 1\u001b[0m \u001b[43mtp_or_none\u001b[49m\u001b[38;5;241;43m.\u001b[39;49m\u001b[38;5;18;43m__name__\u001b[39;49m\n",
      "\u001b[0;31mAttributeError\u001b[0m: 'types.UnionType' object has no attribute '__name__'"
     ]
    }
   ],
   "source": [
    "tp_or_none.__name__"
   ]
  },
  {
   "cell_type": "code",
   "execution_count": 41,
   "metadata": {
    "execution": {
     "iopub.execute_input": "2024-08-19T22:56:06.104319Z",
     "iopub.status.busy": "2024-08-19T22:56:06.103847Z",
     "iopub.status.idle": "2024-08-19T22:56:06.124008Z",
     "shell.execute_reply": "2024-08-19T22:56:06.123112Z"
    },
    "tags": []
   },
   "outputs": [
    {
     "ename": "AttributeError",
     "evalue": "'types.UnionType' object has no attribute '__qualname__'",
     "output_type": "error",
     "traceback": [
      "\u001b[0;31m---------------------------------------------------------------------------\u001b[0m",
      "\u001b[0;31mAttributeError\u001b[0m                            Traceback (most recent call last)",
      "Cell \u001b[0;32mIn[41], line 1\u001b[0m\n\u001b[0;32m----> 1\u001b[0m \u001b[43mtp_or_none\u001b[49m\u001b[38;5;241;43m.\u001b[39;49m\u001b[38;5;18;43m__qualname__\u001b[39;49m\n",
      "\u001b[0;31mAttributeError\u001b[0m: 'types.UnionType' object has no attribute '__qualname__'"
     ]
    }
   ],
   "source": [
    "tp_or_none.__qualname__"
   ]
  },
  {
   "cell_type": "code",
   "execution_count": 42,
   "metadata": {
    "execution": {
     "iopub.execute_input": "2024-08-19T22:56:06.127626Z",
     "iopub.status.busy": "2024-08-19T22:56:06.127346Z",
     "iopub.status.idle": "2024-08-19T22:56:06.132553Z",
     "shell.execute_reply": "2024-08-19T22:56:06.131578Z"
    },
    "tags": []
   },
   "outputs": [
    {
     "data": {
      "text/plain": [
       "types.UnionType"
      ]
     },
     "execution_count": 42,
     "metadata": {},
     "output_type": "execute_result"
    }
   ],
   "source": [
    "origin_or_none = get_origin(tp_or_none)\n",
    "origin_or_none"
   ]
  },
  {
   "cell_type": "code",
   "execution_count": 43,
   "metadata": {
    "execution": {
     "iopub.execute_input": "2024-08-19T22:56:06.136186Z",
     "iopub.status.busy": "2024-08-19T22:56:06.135908Z",
     "iopub.status.idle": "2024-08-19T22:56:06.141975Z",
     "shell.execute_reply": "2024-08-19T22:56:06.141095Z"
    },
    "tags": []
   },
   "outputs": [
    {
     "data": {
      "text/plain": [
       "type"
      ]
     },
     "execution_count": 43,
     "metadata": {},
     "output_type": "execute_result"
    }
   ],
   "source": [
    "type(origin_or_none)"
   ]
  },
  {
   "cell_type": "code",
   "execution_count": 44,
   "metadata": {
    "execution": {
     "iopub.execute_input": "2024-08-19T22:56:06.145669Z",
     "iopub.status.busy": "2024-08-19T22:56:06.145393Z",
     "iopub.status.idle": "2024-08-19T22:56:06.149715Z",
     "shell.execute_reply": "2024-08-19T22:56:06.148937Z"
    },
    "tags": []
   },
   "outputs": [
    {
     "data": {
      "text/plain": [
       "(type, object)"
      ]
     },
     "execution_count": 44,
     "metadata": {},
     "output_type": "execute_result"
    }
   ],
   "source": [
    "type(origin_or_none).__mro__"
   ]
  },
  {
   "cell_type": "code",
   "execution_count": 45,
   "metadata": {
    "execution": {
     "iopub.execute_input": "2024-08-19T22:56:06.153390Z",
     "iopub.status.busy": "2024-08-19T22:56:06.152955Z",
     "iopub.status.idle": "2024-08-19T22:56:06.168610Z",
     "shell.execute_reply": "2024-08-19T22:56:06.167531Z"
    },
    "tags": []
   },
   "outputs": [
    {
     "ename": "AttributeError",
     "evalue": "type object 'types.UnionType' has no attribute '_name'",
     "output_type": "error",
     "traceback": [
      "\u001b[0;31m---------------------------------------------------------------------------\u001b[0m",
      "\u001b[0;31mAttributeError\u001b[0m                            Traceback (most recent call last)",
      "Cell \u001b[0;32mIn[45], line 1\u001b[0m\n\u001b[0;32m----> 1\u001b[0m \u001b[43morigin_or_none\u001b[49m\u001b[38;5;241;43m.\u001b[39;49m\u001b[43m_name\u001b[49m\n",
      "\u001b[0;31mAttributeError\u001b[0m: type object 'types.UnionType' has no attribute '_name'"
     ]
    }
   ],
   "source": [
    "origin_or_none._name"
   ]
  },
  {
   "cell_type": "code",
   "execution_count": 46,
   "metadata": {
    "execution": {
     "iopub.execute_input": "2024-08-19T22:56:06.172508Z",
     "iopub.status.busy": "2024-08-19T22:56:06.172154Z",
     "iopub.status.idle": "2024-08-19T22:56:06.177442Z",
     "shell.execute_reply": "2024-08-19T22:56:06.176483Z"
    },
    "tags": []
   },
   "outputs": [
    {
     "data": {
      "text/plain": [
       "'UnionType'"
      ]
     },
     "execution_count": 46,
     "metadata": {},
     "output_type": "execute_result"
    }
   ],
   "source": [
    "origin_or_none.__name__"
   ]
  },
  {
   "cell_type": "code",
   "execution_count": 47,
   "metadata": {
    "execution": {
     "iopub.execute_input": "2024-08-19T22:56:06.181482Z",
     "iopub.status.busy": "2024-08-19T22:56:06.181204Z",
     "iopub.status.idle": "2024-08-19T22:56:06.186438Z",
     "shell.execute_reply": "2024-08-19T22:56:06.185723Z"
    }
   },
   "outputs": [
    {
     "data": {
      "text/plain": [
       "'UnionType'"
      ]
     },
     "execution_count": 47,
     "metadata": {},
     "output_type": "execute_result"
    }
   ],
   "source": [
    "origin_or_none.__qualname__"
   ]
  },
  {
   "cell_type": "markdown",
   "metadata": {},
   "source": [
    "## Standard Collections"
   ]
  },
  {
   "cell_type": "markdown",
   "metadata": {},
   "source": [
    "### typing Module Aliases"
   ]
  },
  {
   "cell_type": "code",
   "execution_count": 48,
   "metadata": {
    "execution": {
     "iopub.execute_input": "2024-08-19T22:56:06.191746Z",
     "iopub.status.busy": "2024-08-19T22:56:06.191104Z",
     "iopub.status.idle": "2024-08-19T22:56:06.246754Z",
     "shell.execute_reply": "2024-08-19T22:56:06.198128Z"
    }
   },
   "outputs": [
    {
     "data": {
      "text/plain": [
       "'typing.List[int]'"
      ]
     },
     "execution_count": 48,
     "metadata": {},
     "output_type": "execute_result"
    }
   ],
   "source": [
    "tp_List = typing.List[int]\n",
    "repr(tp_List)"
   ]
  },
  {
   "cell_type": "code",
   "execution_count": 49,
   "metadata": {
    "execution": {
     "iopub.execute_input": "2024-08-19T22:56:06.256951Z",
     "iopub.status.busy": "2024-08-19T22:56:06.256370Z",
     "iopub.status.idle": "2024-08-19T22:56:06.263034Z",
     "shell.execute_reply": "2024-08-19T22:56:06.262246Z"
    }
   },
   "outputs": [
    {
     "data": {
      "text/plain": [
       "typing._GenericAlias"
      ]
     },
     "execution_count": 49,
     "metadata": {},
     "output_type": "execute_result"
    }
   ],
   "source": [
    "type(tp_List)"
   ]
  },
  {
   "cell_type": "code",
   "execution_count": 50,
   "metadata": {
    "execution": {
     "iopub.execute_input": "2024-08-19T22:56:06.267796Z",
     "iopub.status.busy": "2024-08-19T22:56:06.267412Z",
     "iopub.status.idle": "2024-08-19T22:56:06.274269Z",
     "shell.execute_reply": "2024-08-19T22:56:06.273294Z"
    }
   },
   "outputs": [
    {
     "data": {
      "text/plain": [
       "(typing._GenericAlias, typing._BaseGenericAlias, typing._Final, object)"
      ]
     },
     "execution_count": 50,
     "metadata": {},
     "output_type": "execute_result"
    }
   ],
   "source": [
    "type(tp_List).__mro__"
   ]
  },
  {
   "cell_type": "code",
   "execution_count": 51,
   "metadata": {
    "execution": {
     "iopub.execute_input": "2024-08-19T22:56:06.278048Z",
     "iopub.status.busy": "2024-08-19T22:56:06.277767Z",
     "iopub.status.idle": "2024-08-19T22:56:06.295344Z",
     "shell.execute_reply": "2024-08-19T22:56:06.293929Z"
    }
   },
   "outputs": [
    {
     "data": {
      "text/plain": [
       "'List'"
      ]
     },
     "execution_count": 51,
     "metadata": {},
     "output_type": "execute_result"
    }
   ],
   "source": [
    "tp_List._name"
   ]
  },
  {
   "cell_type": "code",
   "execution_count": 52,
   "metadata": {
    "execution": {
     "iopub.execute_input": "2024-08-19T22:56:06.298929Z",
     "iopub.status.busy": "2024-08-19T22:56:06.298580Z",
     "iopub.status.idle": "2024-08-19T22:56:06.306181Z",
     "shell.execute_reply": "2024-08-19T22:56:06.304773Z"
    },
    "tags": []
   },
   "outputs": [
    {
     "data": {
      "text/plain": [
       "'List'"
      ]
     },
     "execution_count": 52,
     "metadata": {},
     "output_type": "execute_result"
    }
   ],
   "source": [
    "tp_List.__name__"
   ]
  },
  {
   "cell_type": "code",
   "execution_count": 53,
   "metadata": {
    "execution": {
     "iopub.execute_input": "2024-08-19T22:56:06.309993Z",
     "iopub.status.busy": "2024-08-19T22:56:06.309663Z",
     "iopub.status.idle": "2024-08-19T22:56:06.313936Z",
     "shell.execute_reply": "2024-08-19T22:56:06.313313Z"
    }
   },
   "outputs": [
    {
     "data": {
      "text/plain": [
       "'List'"
      ]
     },
     "execution_count": 53,
     "metadata": {},
     "output_type": "execute_result"
    }
   ],
   "source": [
    "tp_List.__qualname__"
   ]
  },
  {
   "cell_type": "code",
   "execution_count": 54,
   "metadata": {
    "execution": {
     "iopub.execute_input": "2024-08-19T22:56:06.317297Z",
     "iopub.status.busy": "2024-08-19T22:56:06.316930Z",
     "iopub.status.idle": "2024-08-19T22:56:06.322424Z",
     "shell.execute_reply": "2024-08-19T22:56:06.321310Z"
    }
   },
   "outputs": [
    {
     "data": {
      "text/plain": [
       "list"
      ]
     },
     "execution_count": 54,
     "metadata": {},
     "output_type": "execute_result"
    }
   ],
   "source": [
    "origin_List = get_origin(tp_List)\n",
    "origin_List"
   ]
  },
  {
   "cell_type": "code",
   "execution_count": 55,
   "metadata": {
    "execution": {
     "iopub.execute_input": "2024-08-19T22:56:06.326820Z",
     "iopub.status.busy": "2024-08-19T22:56:06.326532Z",
     "iopub.status.idle": "2024-08-19T22:56:06.331503Z",
     "shell.execute_reply": "2024-08-19T22:56:06.330604Z"
    }
   },
   "outputs": [
    {
     "data": {
      "text/plain": [
       "type"
      ]
     },
     "execution_count": 55,
     "metadata": {},
     "output_type": "execute_result"
    }
   ],
   "source": [
    "type(origin_List)"
   ]
  },
  {
   "cell_type": "code",
   "execution_count": 56,
   "metadata": {
    "execution": {
     "iopub.execute_input": "2024-08-19T22:56:06.336146Z",
     "iopub.status.busy": "2024-08-19T22:56:06.335851Z",
     "iopub.status.idle": "2024-08-19T22:56:06.341610Z",
     "shell.execute_reply": "2024-08-19T22:56:06.340729Z"
    }
   },
   "outputs": [
    {
     "data": {
      "text/plain": [
       "tuple"
      ]
     },
     "execution_count": 56,
     "metadata": {},
     "output_type": "execute_result"
    }
   ],
   "source": [
    "type(origin_List.__mro__)"
   ]
  },
  {
   "cell_type": "code",
   "execution_count": 57,
   "metadata": {
    "execution": {
     "iopub.execute_input": "2024-08-19T22:56:06.345049Z",
     "iopub.status.busy": "2024-08-19T22:56:06.344791Z",
     "iopub.status.idle": "2024-08-19T22:56:06.358770Z",
     "shell.execute_reply": "2024-08-19T22:56:06.358126Z"
    },
    "tags": []
   },
   "outputs": [
    {
     "ename": "AttributeError",
     "evalue": "type object 'list' has no attribute '_name'",
     "output_type": "error",
     "traceback": [
      "\u001b[0;31m---------------------------------------------------------------------------\u001b[0m",
      "\u001b[0;31mAttributeError\u001b[0m                            Traceback (most recent call last)",
      "Cell \u001b[0;32mIn[57], line 1\u001b[0m\n\u001b[0;32m----> 1\u001b[0m \u001b[43morigin_List\u001b[49m\u001b[38;5;241;43m.\u001b[39;49m\u001b[43m_name\u001b[49m\n",
      "\u001b[0;31mAttributeError\u001b[0m: type object 'list' has no attribute '_name'"
     ]
    }
   ],
   "source": [
    "origin_List._name"
   ]
  },
  {
   "cell_type": "code",
   "execution_count": 58,
   "metadata": {
    "execution": {
     "iopub.execute_input": "2024-08-19T22:56:06.361881Z",
     "iopub.status.busy": "2024-08-19T22:56:06.361605Z",
     "iopub.status.idle": "2024-08-19T22:56:06.365715Z",
     "shell.execute_reply": "2024-08-19T22:56:06.365023Z"
    },
    "tags": []
   },
   "outputs": [
    {
     "data": {
      "text/plain": [
       "'list'"
      ]
     },
     "execution_count": 58,
     "metadata": {},
     "output_type": "execute_result"
    }
   ],
   "source": [
    "origin_List.__name__"
   ]
  },
  {
   "cell_type": "code",
   "execution_count": 59,
   "metadata": {
    "execution": {
     "iopub.execute_input": "2024-08-19T22:56:06.368521Z",
     "iopub.status.busy": "2024-08-19T22:56:06.368261Z",
     "iopub.status.idle": "2024-08-19T22:56:06.372657Z",
     "shell.execute_reply": "2024-08-19T22:56:06.371911Z"
    }
   },
   "outputs": [
    {
     "data": {
      "text/plain": [
       "'list'"
      ]
     },
     "execution_count": 59,
     "metadata": {},
     "output_type": "execute_result"
    }
   ],
   "source": [
    "origin_List.__qualname__"
   ]
  },
  {
   "cell_type": "markdown",
   "metadata": {},
   "source": [
    "### Standard Collection Aliases"
   ]
  },
  {
   "cell_type": "code",
   "execution_count": 60,
   "metadata": {
    "execution": {
     "iopub.execute_input": "2024-08-19T22:56:06.375728Z",
     "iopub.status.busy": "2024-08-19T22:56:06.375491Z",
     "iopub.status.idle": "2024-08-19T22:56:06.379514Z",
     "shell.execute_reply": "2024-08-19T22:56:06.378905Z"
    },
    "tags": []
   },
   "outputs": [
    {
     "data": {
      "text/plain": [
       "list[int]"
      ]
     },
     "execution_count": 60,
     "metadata": {},
     "output_type": "execute_result"
    }
   ],
   "source": [
    "tp_list = list[int]\n",
    "tp_list"
   ]
  },
  {
   "cell_type": "code",
   "execution_count": 61,
   "metadata": {
    "execution": {
     "iopub.execute_input": "2024-08-19T22:56:06.382189Z",
     "iopub.status.busy": "2024-08-19T22:56:06.381962Z",
     "iopub.status.idle": "2024-08-19T22:56:06.385769Z",
     "shell.execute_reply": "2024-08-19T22:56:06.385165Z"
    },
    "tags": []
   },
   "outputs": [
    {
     "data": {
      "text/plain": [
       "types.GenericAlias"
      ]
     },
     "execution_count": 61,
     "metadata": {},
     "output_type": "execute_result"
    }
   ],
   "source": [
    "type(tp_list)"
   ]
  },
  {
   "cell_type": "code",
   "execution_count": 62,
   "metadata": {
    "execution": {
     "iopub.execute_input": "2024-08-19T22:56:06.389256Z",
     "iopub.status.busy": "2024-08-19T22:56:06.388960Z",
     "iopub.status.idle": "2024-08-19T22:56:06.393137Z",
     "shell.execute_reply": "2024-08-19T22:56:06.392516Z"
    },
    "tags": []
   },
   "outputs": [
    {
     "data": {
      "text/plain": [
       "(types.GenericAlias, object)"
      ]
     },
     "execution_count": 62,
     "metadata": {},
     "output_type": "execute_result"
    }
   ],
   "source": [
    "type(tp_list).__mro__"
   ]
  },
  {
   "cell_type": "code",
   "execution_count": 63,
   "metadata": {
    "execution": {
     "iopub.execute_input": "2024-08-19T22:56:06.396036Z",
     "iopub.status.busy": "2024-08-19T22:56:06.395789Z",
     "iopub.status.idle": "2024-08-19T22:56:06.409491Z",
     "shell.execute_reply": "2024-08-19T22:56:06.408663Z"
    },
    "tags": []
   },
   "outputs": [
    {
     "ename": "AttributeError",
     "evalue": "type object 'list' has no attribute '_name'",
     "output_type": "error",
     "traceback": [
      "\u001b[0;31m---------------------------------------------------------------------------\u001b[0m",
      "\u001b[0;31mAttributeError\u001b[0m                            Traceback (most recent call last)",
      "Cell \u001b[0;32mIn[63], line 1\u001b[0m\n\u001b[0;32m----> 1\u001b[0m \u001b[43mtp_list\u001b[49m\u001b[38;5;241;43m.\u001b[39;49m\u001b[43m_name\u001b[49m\n",
      "\u001b[0;31mAttributeError\u001b[0m: type object 'list' has no attribute '_name'"
     ]
    }
   ],
   "source": [
    "tp_list._name"
   ]
  },
  {
   "cell_type": "code",
   "execution_count": 64,
   "metadata": {
    "execution": {
     "iopub.execute_input": "2024-08-19T22:56:06.412792Z",
     "iopub.status.busy": "2024-08-19T22:56:06.412541Z",
     "iopub.status.idle": "2024-08-19T22:56:06.416464Z",
     "shell.execute_reply": "2024-08-19T22:56:06.415860Z"
    },
    "tags": []
   },
   "outputs": [
    {
     "data": {
      "text/plain": [
       "'list'"
      ]
     },
     "execution_count": 64,
     "metadata": {},
     "output_type": "execute_result"
    }
   ],
   "source": [
    "tp_list.__name__"
   ]
  },
  {
   "cell_type": "code",
   "execution_count": 65,
   "metadata": {
    "execution": {
     "iopub.execute_input": "2024-08-19T22:56:06.419640Z",
     "iopub.status.busy": "2024-08-19T22:56:06.419400Z",
     "iopub.status.idle": "2024-08-19T22:56:06.423557Z",
     "shell.execute_reply": "2024-08-19T22:56:06.422826Z"
    }
   },
   "outputs": [
    {
     "data": {
      "text/plain": [
       "'list'"
      ]
     },
     "execution_count": 65,
     "metadata": {},
     "output_type": "execute_result"
    }
   ],
   "source": [
    "tp_list.__qualname__"
   ]
  },
  {
   "cell_type": "code",
   "execution_count": 66,
   "metadata": {
    "execution": {
     "iopub.execute_input": "2024-08-19T22:56:06.426323Z",
     "iopub.status.busy": "2024-08-19T22:56:06.426095Z",
     "iopub.status.idle": "2024-08-19T22:56:06.429661Z",
     "shell.execute_reply": "2024-08-19T22:56:06.429179Z"
    },
    "tags": []
   },
   "outputs": [
    {
     "data": {
      "text/plain": [
       "list"
      ]
     },
     "execution_count": 66,
     "metadata": {},
     "output_type": "execute_result"
    }
   ],
   "source": [
    "origin_list = get_origin(tp_list)\n",
    "origin_list"
   ]
  },
  {
   "cell_type": "code",
   "execution_count": 67,
   "metadata": {
    "execution": {
     "iopub.execute_input": "2024-08-19T22:56:06.432253Z",
     "iopub.status.busy": "2024-08-19T22:56:06.432026Z",
     "iopub.status.idle": "2024-08-19T22:56:06.435705Z",
     "shell.execute_reply": "2024-08-19T22:56:06.435043Z"
    },
    "tags": []
   },
   "outputs": [
    {
     "data": {
      "text/plain": [
       "type"
      ]
     },
     "execution_count": 67,
     "metadata": {},
     "output_type": "execute_result"
    }
   ],
   "source": [
    "type(origin_list)"
   ]
  },
  {
   "cell_type": "code",
   "execution_count": 68,
   "metadata": {
    "execution": {
     "iopub.execute_input": "2024-08-19T22:56:06.438549Z",
     "iopub.status.busy": "2024-08-19T22:56:06.438313Z",
     "iopub.status.idle": "2024-08-19T22:56:06.441852Z",
     "shell.execute_reply": "2024-08-19T22:56:06.441294Z"
    },
    "tags": []
   },
   "outputs": [
    {
     "data": {
      "text/plain": [
       "(type, object)"
      ]
     },
     "execution_count": 68,
     "metadata": {},
     "output_type": "execute_result"
    }
   ],
   "source": [
    "type(origin_list).__mro__"
   ]
  },
  {
   "cell_type": "code",
   "execution_count": 69,
   "metadata": {
    "execution": {
     "iopub.execute_input": "2024-08-19T22:56:06.444492Z",
     "iopub.status.busy": "2024-08-19T22:56:06.444269Z",
     "iopub.status.idle": "2024-08-19T22:56:06.456374Z",
     "shell.execute_reply": "2024-08-19T22:56:06.455781Z"
    },
    "tags": []
   },
   "outputs": [
    {
     "ename": "AttributeError",
     "evalue": "type object 'list' has no attribute '_name'",
     "output_type": "error",
     "traceback": [
      "\u001b[0;31m---------------------------------------------------------------------------\u001b[0m",
      "\u001b[0;31mAttributeError\u001b[0m                            Traceback (most recent call last)",
      "Cell \u001b[0;32mIn[69], line 1\u001b[0m\n\u001b[0;32m----> 1\u001b[0m \u001b[43morigin_list\u001b[49m\u001b[38;5;241;43m.\u001b[39;49m\u001b[43m_name\u001b[49m\n",
      "\u001b[0;31mAttributeError\u001b[0m: type object 'list' has no attribute '_name'"
     ]
    }
   ],
   "source": [
    "origin_list._name"
   ]
  },
  {
   "cell_type": "code",
   "execution_count": 70,
   "metadata": {
    "execution": {
     "iopub.execute_input": "2024-08-19T22:56:06.459083Z",
     "iopub.status.busy": "2024-08-19T22:56:06.458863Z",
     "iopub.status.idle": "2024-08-19T22:56:06.462489Z",
     "shell.execute_reply": "2024-08-19T22:56:06.461958Z"
    }
   },
   "outputs": [
    {
     "data": {
      "text/plain": [
       "'list'"
      ]
     },
     "execution_count": 70,
     "metadata": {},
     "output_type": "execute_result"
    }
   ],
   "source": [
    "origin_list.__name__"
   ]
  },
  {
   "cell_type": "code",
   "execution_count": 71,
   "metadata": {
    "execution": {
     "iopub.execute_input": "2024-08-19T22:56:06.465002Z",
     "iopub.status.busy": "2024-08-19T22:56:06.464793Z",
     "iopub.status.idle": "2024-08-19T22:56:06.468361Z",
     "shell.execute_reply": "2024-08-19T22:56:06.467741Z"
    },
    "tags": []
   },
   "outputs": [
    {
     "data": {
      "text/plain": [
       "'list'"
      ]
     },
     "execution_count": 71,
     "metadata": {},
     "output_type": "execute_result"
    }
   ],
   "source": [
    "origin_list.__qualname__"
   ]
  },
  {
   "attachments": {},
   "cell_type": "markdown",
   "metadata": {},
   "source": [
    "## Custom Class"
   ]
  },
  {
   "cell_type": "code",
   "execution_count": 72,
   "metadata": {
    "execution": {
     "iopub.execute_input": "2024-08-19T22:56:06.471251Z",
     "iopub.status.busy": "2024-08-19T22:56:06.471012Z",
     "iopub.status.idle": "2024-08-19T22:56:06.473977Z",
     "shell.execute_reply": "2024-08-19T22:56:06.473358Z"
    }
   },
   "outputs": [],
   "source": [
    "class MyClass:\n",
    "    pass"
   ]
  },
  {
   "cell_type": "code",
   "execution_count": 73,
   "metadata": {
    "execution": {
     "iopub.execute_input": "2024-08-19T22:56:06.476610Z",
     "iopub.status.busy": "2024-08-19T22:56:06.476375Z",
     "iopub.status.idle": "2024-08-19T22:56:06.480002Z",
     "shell.execute_reply": "2024-08-19T22:56:06.479459Z"
    }
   },
   "outputs": [
    {
     "data": {
      "text/plain": [
       "type"
      ]
     },
     "execution_count": 73,
     "metadata": {},
     "output_type": "execute_result"
    }
   ],
   "source": [
    "type(MyClass)"
   ]
  },
  {
   "cell_type": "code",
   "execution_count": 74,
   "metadata": {
    "execution": {
     "iopub.execute_input": "2024-08-19T22:56:06.482655Z",
     "iopub.status.busy": "2024-08-19T22:56:06.482427Z",
     "iopub.status.idle": "2024-08-19T22:56:06.486496Z",
     "shell.execute_reply": "2024-08-19T22:56:06.485725Z"
    }
   },
   "outputs": [
    {
     "data": {
      "text/plain": [
       "(__main__.MyClass, object)"
      ]
     },
     "execution_count": 74,
     "metadata": {},
     "output_type": "execute_result"
    }
   ],
   "source": [
    "MyClass.__mro__"
   ]
  },
  {
   "cell_type": "code",
   "execution_count": 75,
   "metadata": {
    "execution": {
     "iopub.execute_input": "2024-08-19T22:56:06.489369Z",
     "iopub.status.busy": "2024-08-19T22:56:06.489136Z",
     "iopub.status.idle": "2024-08-19T22:56:06.491978Z",
     "shell.execute_reply": "2024-08-19T22:56:06.491399Z"
    }
   },
   "outputs": [],
   "source": [
    "get_origin(MyClass)"
   ]
  },
  {
   "cell_type": "code",
   "execution_count": 76,
   "metadata": {
    "execution": {
     "iopub.execute_input": "2024-08-19T22:56:06.494716Z",
     "iopub.status.busy": "2024-08-19T22:56:06.494465Z",
     "iopub.status.idle": "2024-08-19T22:56:06.498193Z",
     "shell.execute_reply": "2024-08-19T22:56:06.497570Z"
    }
   },
   "outputs": [
    {
     "data": {
      "text/plain": [
       "'MyClass'"
      ]
     },
     "execution_count": 76,
     "metadata": {},
     "output_type": "execute_result"
    }
   ],
   "source": [
    "MyClass.__name__"
   ]
  },
  {
   "cell_type": "code",
   "execution_count": 77,
   "metadata": {
    "execution": {
     "iopub.execute_input": "2024-08-19T22:56:06.500783Z",
     "iopub.status.busy": "2024-08-19T22:56:06.500559Z",
     "iopub.status.idle": "2024-08-19T22:56:06.504436Z",
     "shell.execute_reply": "2024-08-19T22:56:06.503628Z"
    }
   },
   "outputs": [
    {
     "data": {
      "text/plain": [
       "'MyClass'"
      ]
     },
     "execution_count": 77,
     "metadata": {},
     "output_type": "execute_result"
    }
   ],
   "source": [
    "MyClass.__qualname__"
   ]
  },
  {
   "attachments": {},
   "cell_type": "markdown",
   "metadata": {},
   "source": [
    "## Nested Class"
   ]
  },
  {
   "cell_type": "code",
   "execution_count": 78,
   "metadata": {
    "execution": {
     "iopub.execute_input": "2024-08-19T22:56:06.507277Z",
     "iopub.status.busy": "2024-08-19T22:56:06.507050Z",
     "iopub.status.idle": "2024-08-19T22:56:06.509868Z",
     "shell.execute_reply": "2024-08-19T22:56:06.509340Z"
    }
   },
   "outputs": [],
   "source": [
    "class OuterClass:\n",
    "    class InnerClass:\n",
    "        pass"
   ]
  },
  {
   "cell_type": "code",
   "execution_count": 79,
   "metadata": {
    "execution": {
     "iopub.execute_input": "2024-08-19T22:56:06.512506Z",
     "iopub.status.busy": "2024-08-19T22:56:06.512294Z",
     "iopub.status.idle": "2024-08-19T22:56:06.515550Z",
     "shell.execute_reply": "2024-08-19T22:56:06.515071Z"
    }
   },
   "outputs": [
    {
     "data": {
      "text/plain": [
       "'OuterClass'"
      ]
     },
     "execution_count": 79,
     "metadata": {},
     "output_type": "execute_result"
    }
   ],
   "source": [
    "OuterClass.__name__"
   ]
  },
  {
   "cell_type": "code",
   "execution_count": 80,
   "metadata": {
    "execution": {
     "iopub.execute_input": "2024-08-19T22:56:06.518000Z",
     "iopub.status.busy": "2024-08-19T22:56:06.517796Z",
     "iopub.status.idle": "2024-08-19T22:56:06.521167Z",
     "shell.execute_reply": "2024-08-19T22:56:06.520699Z"
    }
   },
   "outputs": [
    {
     "data": {
      "text/plain": [
       "'OuterClass'"
      ]
     },
     "execution_count": 80,
     "metadata": {},
     "output_type": "execute_result"
    }
   ],
   "source": [
    "OuterClass.__qualname__"
   ]
  },
  {
   "cell_type": "code",
   "execution_count": 81,
   "metadata": {
    "execution": {
     "iopub.execute_input": "2024-08-19T22:56:06.523824Z",
     "iopub.status.busy": "2024-08-19T22:56:06.523610Z",
     "iopub.status.idle": "2024-08-19T22:56:06.527044Z",
     "shell.execute_reply": "2024-08-19T22:56:06.526594Z"
    }
   },
   "outputs": [
    {
     "data": {
      "text/plain": [
       "'InnerClass'"
      ]
     },
     "execution_count": 81,
     "metadata": {},
     "output_type": "execute_result"
    }
   ],
   "source": [
    "OuterClass.InnerClass.__name__"
   ]
  },
  {
   "cell_type": "code",
   "execution_count": 82,
   "metadata": {
    "execution": {
     "iopub.execute_input": "2024-08-19T22:56:06.529674Z",
     "iopub.status.busy": "2024-08-19T22:56:06.529463Z",
     "iopub.status.idle": "2024-08-19T22:56:06.532912Z",
     "shell.execute_reply": "2024-08-19T22:56:06.532322Z"
    }
   },
   "outputs": [
    {
     "data": {
      "text/plain": [
       "'OuterClass.InnerClass'"
      ]
     },
     "execution_count": 82,
     "metadata": {},
     "output_type": "execute_result"
    }
   ],
   "source": [
    "OuterClass.InnerClass.__qualname__"
   ]
  },
  {
   "attachments": {},
   "cell_type": "markdown",
   "metadata": {},
   "source": [
    "## Custom Generic"
   ]
  },
  {
   "cell_type": "code",
   "execution_count": 83,
   "metadata": {
    "execution": {
     "iopub.execute_input": "2024-08-19T22:56:06.535452Z",
     "iopub.status.busy": "2024-08-19T22:56:06.535246Z",
     "iopub.status.idle": "2024-08-19T22:56:06.538418Z",
     "shell.execute_reply": "2024-08-19T22:56:06.537885Z"
    }
   },
   "outputs": [],
   "source": [
    "class MyGeneric(typing.Generic[typing.T]):\n",
    "    def __init__(self, x) -> None:\n",
    "        self.x = x"
   ]
  },
  {
   "cell_type": "code",
   "execution_count": 84,
   "metadata": {
    "execution": {
     "iopub.execute_input": "2024-08-19T22:56:06.540808Z",
     "iopub.status.busy": "2024-08-19T22:56:06.540621Z",
     "iopub.status.idle": "2024-08-19T22:56:06.543944Z",
     "shell.execute_reply": "2024-08-19T22:56:06.543493Z"
    }
   },
   "outputs": [
    {
     "data": {
      "text/plain": [
       "__main__.MyGeneric[str]"
      ]
     },
     "execution_count": 84,
     "metadata": {},
     "output_type": "execute_result"
    }
   ],
   "source": [
    "tp_custom_generic = MyGeneric[str]\n",
    "tp_custom_generic"
   ]
  },
  {
   "cell_type": "code",
   "execution_count": 85,
   "metadata": {
    "execution": {
     "iopub.execute_input": "2024-08-19T22:56:06.546322Z",
     "iopub.status.busy": "2024-08-19T22:56:06.546113Z",
     "iopub.status.idle": "2024-08-19T22:56:06.549454Z",
     "shell.execute_reply": "2024-08-19T22:56:06.549002Z"
    }
   },
   "outputs": [
    {
     "data": {
      "text/plain": [
       "typing._GenericAlias"
      ]
     },
     "execution_count": 85,
     "metadata": {},
     "output_type": "execute_result"
    }
   ],
   "source": [
    "type(tp_custom_generic)"
   ]
  },
  {
   "cell_type": "code",
   "execution_count": 86,
   "metadata": {
    "execution": {
     "iopub.execute_input": "2024-08-19T22:56:06.551810Z",
     "iopub.status.busy": "2024-08-19T22:56:06.551604Z",
     "iopub.status.idle": "2024-08-19T22:56:06.554822Z",
     "shell.execute_reply": "2024-08-19T22:56:06.554371Z"
    }
   },
   "outputs": [
    {
     "data": {
      "text/plain": [
       "'MyGeneric'"
      ]
     },
     "execution_count": 86,
     "metadata": {},
     "output_type": "execute_result"
    }
   ],
   "source": [
    "tp_custom_generic.__name__"
   ]
  },
  {
   "cell_type": "code",
   "execution_count": 87,
   "metadata": {
    "execution": {
     "iopub.execute_input": "2024-08-19T22:56:06.557407Z",
     "iopub.status.busy": "2024-08-19T22:56:06.557203Z",
     "iopub.status.idle": "2024-08-19T22:56:06.560423Z",
     "shell.execute_reply": "2024-08-19T22:56:06.559967Z"
    }
   },
   "outputs": [
    {
     "data": {
      "text/plain": [
       "'MyGeneric'"
      ]
     },
     "execution_count": 87,
     "metadata": {},
     "output_type": "execute_result"
    }
   ],
   "source": [
    "tp_custom_generic.__qualname__"
   ]
  },
  {
   "cell_type": "code",
   "execution_count": 88,
   "metadata": {
    "execution": {
     "iopub.execute_input": "2024-08-19T22:56:06.562901Z",
     "iopub.status.busy": "2024-08-19T22:56:06.562693Z",
     "iopub.status.idle": "2024-08-19T22:56:06.565967Z",
     "shell.execute_reply": "2024-08-19T22:56:06.565546Z"
    }
   },
   "outputs": [
    {
     "data": {
      "text/plain": [
       "__main__.MyGeneric"
      ]
     },
     "execution_count": 88,
     "metadata": {},
     "output_type": "execute_result"
    }
   ],
   "source": [
    "origin_custom_generic = get_origin(tp_custom_generic)\n",
    "origin_custom_generic"
   ]
  },
  {
   "cell_type": "code",
   "execution_count": 89,
   "metadata": {
    "execution": {
     "iopub.execute_input": "2024-08-19T22:56:06.568329Z",
     "iopub.status.busy": "2024-08-19T22:56:06.568142Z",
     "iopub.status.idle": "2024-08-19T22:56:06.571344Z",
     "shell.execute_reply": "2024-08-19T22:56:06.570908Z"
    }
   },
   "outputs": [
    {
     "data": {
      "text/plain": [
       "'MyGeneric'"
      ]
     },
     "execution_count": 89,
     "metadata": {},
     "output_type": "execute_result"
    }
   ],
   "source": [
    "origin_custom_generic.__name__"
   ]
  },
  {
   "cell_type": "code",
   "execution_count": 90,
   "metadata": {
    "execution": {
     "iopub.execute_input": "2024-08-19T22:56:06.573728Z",
     "iopub.status.busy": "2024-08-19T22:56:06.573527Z",
     "iopub.status.idle": "2024-08-19T22:56:06.576720Z",
     "shell.execute_reply": "2024-08-19T22:56:06.576281Z"
    }
   },
   "outputs": [
    {
     "data": {
      "text/plain": [
       "'MyGeneric'"
      ]
     },
     "execution_count": 90,
     "metadata": {},
     "output_type": "execute_result"
    }
   ],
   "source": [
    "origin_custom_generic.__qualname__"
   ]
  },
  {
   "attachments": {},
   "cell_type": "markdown",
   "metadata": {},
   "source": [
    "## typing.Any"
   ]
  },
  {
   "cell_type": "code",
   "execution_count": 91,
   "metadata": {
    "execution": {
     "iopub.execute_input": "2024-08-19T22:56:06.579356Z",
     "iopub.status.busy": "2024-08-19T22:56:06.579130Z",
     "iopub.status.idle": "2024-08-19T22:56:06.582570Z",
     "shell.execute_reply": "2024-08-19T22:56:06.582118Z"
    }
   },
   "outputs": [
    {
     "data": {
      "text/plain": [
       "'typing.Any'"
      ]
     },
     "execution_count": 91,
     "metadata": {},
     "output_type": "execute_result"
    }
   ],
   "source": [
    "tp_any = typing.Any\n",
    "repr(tp_any)"
   ]
  },
  {
   "cell_type": "code",
   "execution_count": 92,
   "metadata": {
    "execution": {
     "iopub.execute_input": "2024-08-19T22:56:06.585479Z",
     "iopub.status.busy": "2024-08-19T22:56:06.585237Z",
     "iopub.status.idle": "2024-08-19T22:56:06.589319Z",
     "shell.execute_reply": "2024-08-19T22:56:06.588601Z"
    }
   },
   "outputs": [
    {
     "data": {
      "text/plain": [
       "'Any'"
      ]
     },
     "execution_count": 92,
     "metadata": {},
     "output_type": "execute_result"
    }
   ],
   "source": [
    "tp_any.__name__"
   ]
  },
  {
   "cell_type": "code",
   "execution_count": 93,
   "metadata": {
    "execution": {
     "iopub.execute_input": "2024-08-19T22:56:06.592158Z",
     "iopub.status.busy": "2024-08-19T22:56:06.591913Z",
     "iopub.status.idle": "2024-08-19T22:56:06.597207Z",
     "shell.execute_reply": "2024-08-19T22:56:06.596529Z"
    }
   },
   "outputs": [
    {
     "data": {
      "text/plain": [
       "'Any'"
      ]
     },
     "execution_count": 93,
     "metadata": {},
     "output_type": "execute_result"
    }
   ],
   "source": [
    "tp_any.__qualname__"
   ]
  }
 ],
 "metadata": {
  "kernelspec": {
   "display_name": ".venv",
   "language": "python",
   "name": "python3"
  },
  "language_info": {
   "codemirror_mode": {
    "name": "ipython",
    "version": 3
   },
   "file_extension": ".py",
   "mimetype": "text/x-python",
   "name": "python",
   "nbconvert_exporter": "python",
   "pygments_lexer": "ipython3",
   "version": "3.11.9"
  },
  "vscode": {
   "interpreter": {
    "hash": "562b6b1d41146ba195661be6d6db461f2660efbf90f15e4bc583c307da246186"
   }
  }
 },
 "nbformat": 4,
 "nbformat_minor": 4
}

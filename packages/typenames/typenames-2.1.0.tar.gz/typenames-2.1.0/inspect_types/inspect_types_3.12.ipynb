{
 "cells": [
  {
   "cell_type": "code",
   "execution_count": 1,
   "metadata": {
    "execution": {
     "iopub.execute_input": "2024-08-19T22:56:28.914260Z",
     "iopub.status.busy": "2024-08-19T22:56:28.913751Z",
     "iopub.status.idle": "2024-08-19T22:56:28.918917Z",
     "shell.execute_reply": "2024-08-19T22:56:28.918159Z"
    }
   },
   "outputs": [],
   "source": [
    "import sys\n",
    "import typing\n",
    "\n",
    "try:\n",
    "    from typing import get_origin\n",
    "except ImportError:\n",
    "    from typing_extensions import get_origin"
   ]
  },
  {
   "cell_type": "code",
   "execution_count": 2,
   "metadata": {
    "execution": {
     "iopub.execute_input": "2024-08-19T22:56:28.922387Z",
     "iopub.status.busy": "2024-08-19T22:56:28.922068Z",
     "iopub.status.idle": "2024-08-19T22:56:28.928977Z",
     "shell.execute_reply": "2024-08-19T22:56:28.928370Z"
    }
   },
   "outputs": [
    {
     "data": {
      "text/plain": [
       "'3.12.1 (main, Jan  8 2024, 06:38:22) [Clang 16.0.3 ]'"
      ]
     },
     "execution_count": 2,
     "metadata": {},
     "output_type": "execute_result"
    }
   ],
   "source": [
    "sys.version"
   ]
  },
  {
   "cell_type": "markdown",
   "metadata": {},
   "source": [
    "## Union"
   ]
  },
  {
   "cell_type": "markdown",
   "metadata": {},
   "source": [
    "### typing.Union (Generic Alias)"
   ]
  },
  {
   "cell_type": "code",
   "execution_count": 3,
   "metadata": {
    "execution": {
     "iopub.execute_input": "2024-08-19T22:56:28.977629Z",
     "iopub.status.busy": "2024-08-19T22:56:28.977350Z",
     "iopub.status.idle": "2024-08-19T22:56:28.981599Z",
     "shell.execute_reply": "2024-08-19T22:56:28.980972Z"
    }
   },
   "outputs": [
    {
     "data": {
      "text/plain": [
       "'typing.Union[int, str]'"
      ]
     },
     "execution_count": 3,
     "metadata": {},
     "output_type": "execute_result"
    }
   ],
   "source": [
    "tp_union = typing.Union[int, str]\n",
    "repr(tp_union)"
   ]
  },
  {
   "cell_type": "code",
   "execution_count": 4,
   "metadata": {
    "execution": {
     "iopub.execute_input": "2024-08-19T22:56:28.984334Z",
     "iopub.status.busy": "2024-08-19T22:56:28.984091Z",
     "iopub.status.idle": "2024-08-19T22:56:28.988202Z",
     "shell.execute_reply": "2024-08-19T22:56:28.987201Z"
    }
   },
   "outputs": [
    {
     "data": {
      "text/plain": [
       "typing._UnionGenericAlias"
      ]
     },
     "execution_count": 4,
     "metadata": {},
     "output_type": "execute_result"
    }
   ],
   "source": [
    "type(tp_union)"
   ]
  },
  {
   "cell_type": "code",
   "execution_count": 5,
   "metadata": {
    "execution": {
     "iopub.execute_input": "2024-08-19T22:56:28.993266Z",
     "iopub.status.busy": "2024-08-19T22:56:28.992774Z",
     "iopub.status.idle": "2024-08-19T22:56:28.998857Z",
     "shell.execute_reply": "2024-08-19T22:56:28.998079Z"
    }
   },
   "outputs": [
    {
     "data": {
      "text/plain": [
       "(typing._UnionGenericAlias,\n",
       " typing._NotIterable,\n",
       " typing._GenericAlias,\n",
       " typing._BaseGenericAlias,\n",
       " typing._Final,\n",
       " object)"
      ]
     },
     "execution_count": 5,
     "metadata": {},
     "output_type": "execute_result"
    }
   ],
   "source": [
    "type(tp_union).__mro__"
   ]
  },
  {
   "cell_type": "code",
   "execution_count": 6,
   "metadata": {
    "execution": {
     "iopub.execute_input": "2024-08-19T22:56:29.002064Z",
     "iopub.status.busy": "2024-08-19T22:56:29.001807Z",
     "iopub.status.idle": "2024-08-19T22:56:29.004616Z",
     "shell.execute_reply": "2024-08-19T22:56:29.004155Z"
    }
   },
   "outputs": [],
   "source": [
    "tp_union._name"
   ]
  },
  {
   "cell_type": "code",
   "execution_count": 7,
   "metadata": {
    "execution": {
     "iopub.execute_input": "2024-08-19T22:56:29.007347Z",
     "iopub.status.busy": "2024-08-19T22:56:29.007108Z",
     "iopub.status.idle": "2024-08-19T22:56:29.011033Z",
     "shell.execute_reply": "2024-08-19T22:56:29.010421Z"
    }
   },
   "outputs": [
    {
     "data": {
      "text/plain": [
       "'Union'"
      ]
     },
     "execution_count": 7,
     "metadata": {},
     "output_type": "execute_result"
    }
   ],
   "source": [
    "tp_union.__name__"
   ]
  },
  {
   "cell_type": "code",
   "execution_count": 8,
   "metadata": {
    "execution": {
     "iopub.execute_input": "2024-08-19T22:56:29.013611Z",
     "iopub.status.busy": "2024-08-19T22:56:29.013386Z",
     "iopub.status.idle": "2024-08-19T22:56:29.016895Z",
     "shell.execute_reply": "2024-08-19T22:56:29.016343Z"
    }
   },
   "outputs": [
    {
     "data": {
      "text/plain": [
       "'Union'"
      ]
     },
     "execution_count": 8,
     "metadata": {},
     "output_type": "execute_result"
    }
   ],
   "source": [
    "tp_union.__qualname__"
   ]
  },
  {
   "cell_type": "code",
   "execution_count": 9,
   "metadata": {
    "execution": {
     "iopub.execute_input": "2024-08-19T22:56:29.019749Z",
     "iopub.status.busy": "2024-08-19T22:56:29.019517Z",
     "iopub.status.idle": "2024-08-19T22:56:29.023186Z",
     "shell.execute_reply": "2024-08-19T22:56:29.022665Z"
    }
   },
   "outputs": [
    {
     "data": {
      "text/plain": [
       "typing.Union"
      ]
     },
     "execution_count": 9,
     "metadata": {},
     "output_type": "execute_result"
    }
   ],
   "source": [
    "origin_union = get_origin(tp_union)\n",
    "origin_union"
   ]
  },
  {
   "cell_type": "code",
   "execution_count": 10,
   "metadata": {
    "execution": {
     "iopub.execute_input": "2024-08-19T22:56:29.025962Z",
     "iopub.status.busy": "2024-08-19T22:56:29.025714Z",
     "iopub.status.idle": "2024-08-19T22:56:29.029055Z",
     "shell.execute_reply": "2024-08-19T22:56:29.028604Z"
    }
   },
   "outputs": [
    {
     "data": {
      "text/plain": [
       "typing._SpecialForm"
      ]
     },
     "execution_count": 10,
     "metadata": {},
     "output_type": "execute_result"
    }
   ],
   "source": [
    "type(origin_union)"
   ]
  },
  {
   "cell_type": "code",
   "execution_count": 11,
   "metadata": {
    "execution": {
     "iopub.execute_input": "2024-08-19T22:56:29.031548Z",
     "iopub.status.busy": "2024-08-19T22:56:29.031328Z",
     "iopub.status.idle": "2024-08-19T22:56:29.034874Z",
     "shell.execute_reply": "2024-08-19T22:56:29.034391Z"
    }
   },
   "outputs": [
    {
     "data": {
      "text/plain": [
       "(typing._SpecialForm, typing._Final, typing._NotIterable, object)"
      ]
     },
     "execution_count": 11,
     "metadata": {},
     "output_type": "execute_result"
    }
   ],
   "source": [
    "type(origin_union).__mro__"
   ]
  },
  {
   "cell_type": "code",
   "execution_count": 12,
   "metadata": {
    "execution": {
     "iopub.execute_input": "2024-08-19T22:56:29.038398Z",
     "iopub.status.busy": "2024-08-19T22:56:29.038024Z",
     "iopub.status.idle": "2024-08-19T22:56:29.044067Z",
     "shell.execute_reply": "2024-08-19T22:56:29.043070Z"
    }
   },
   "outputs": [
    {
     "data": {
      "text/plain": [
       "'Union'"
      ]
     },
     "execution_count": 12,
     "metadata": {},
     "output_type": "execute_result"
    }
   ],
   "source": [
    "origin_union._name"
   ]
  },
  {
   "cell_type": "code",
   "execution_count": 13,
   "metadata": {
    "execution": {
     "iopub.execute_input": "2024-08-19T22:56:29.048675Z",
     "iopub.status.busy": "2024-08-19T22:56:29.048368Z",
     "iopub.status.idle": "2024-08-19T22:56:29.052347Z",
     "shell.execute_reply": "2024-08-19T22:56:29.051832Z"
    }
   },
   "outputs": [
    {
     "data": {
      "text/plain": [
       "'Union'"
      ]
     },
     "execution_count": 13,
     "metadata": {},
     "output_type": "execute_result"
    }
   ],
   "source": [
    "origin_union.__name__"
   ]
  },
  {
   "cell_type": "code",
   "execution_count": 14,
   "metadata": {
    "execution": {
     "iopub.execute_input": "2024-08-19T22:56:29.055069Z",
     "iopub.status.busy": "2024-08-19T22:56:29.054824Z",
     "iopub.status.idle": "2024-08-19T22:56:29.058725Z",
     "shell.execute_reply": "2024-08-19T22:56:29.058061Z"
    }
   },
   "outputs": [
    {
     "data": {
      "text/plain": [
       "'Union'"
      ]
     },
     "execution_count": 14,
     "metadata": {},
     "output_type": "execute_result"
    }
   ],
   "source": [
    "origin_union.__qualname__"
   ]
  },
  {
   "cell_type": "markdown",
   "metadata": {},
   "source": [
    "### | (bitwise or) operator"
   ]
  },
  {
   "cell_type": "code",
   "execution_count": 15,
   "metadata": {
    "execution": {
     "iopub.execute_input": "2024-08-19T22:56:29.061606Z",
     "iopub.status.busy": "2024-08-19T22:56:29.061376Z",
     "iopub.status.idle": "2024-08-19T22:56:29.064880Z",
     "shell.execute_reply": "2024-08-19T22:56:29.064422Z"
    },
    "tags": []
   },
   "outputs": [
    {
     "data": {
      "text/plain": [
       "'int | str'"
      ]
     },
     "execution_count": 15,
     "metadata": {},
     "output_type": "execute_result"
    }
   ],
   "source": [
    "tp_or = int | str\n",
    "repr(tp_or)"
   ]
  },
  {
   "cell_type": "code",
   "execution_count": 16,
   "metadata": {
    "execution": {
     "iopub.execute_input": "2024-08-19T22:56:29.067597Z",
     "iopub.status.busy": "2024-08-19T22:56:29.067373Z",
     "iopub.status.idle": "2024-08-19T22:56:29.070670Z",
     "shell.execute_reply": "2024-08-19T22:56:29.070156Z"
    },
    "tags": []
   },
   "outputs": [
    {
     "data": {
      "text/plain": [
       "types.UnionType"
      ]
     },
     "execution_count": 16,
     "metadata": {},
     "output_type": "execute_result"
    }
   ],
   "source": [
    "type(tp_or)"
   ]
  },
  {
   "cell_type": "code",
   "execution_count": 17,
   "metadata": {
    "execution": {
     "iopub.execute_input": "2024-08-19T22:56:29.074021Z",
     "iopub.status.busy": "2024-08-19T22:56:29.073791Z",
     "iopub.status.idle": "2024-08-19T22:56:29.077503Z",
     "shell.execute_reply": "2024-08-19T22:56:29.077042Z"
    },
    "tags": []
   },
   "outputs": [
    {
     "data": {
      "text/plain": [
       "(types.UnionType, object)"
      ]
     },
     "execution_count": 17,
     "metadata": {},
     "output_type": "execute_result"
    }
   ],
   "source": [
    "type(tp_or).__mro__"
   ]
  },
  {
   "cell_type": "code",
   "execution_count": 18,
   "metadata": {
    "execution": {
     "iopub.execute_input": "2024-08-19T22:56:29.079951Z",
     "iopub.status.busy": "2024-08-19T22:56:29.079736Z",
     "iopub.status.idle": "2024-08-19T22:56:29.083140Z",
     "shell.execute_reply": "2024-08-19T22:56:29.082506Z"
    },
    "tags": []
   },
   "outputs": [
    {
     "data": {
      "text/plain": [
       "types.UnionType"
      ]
     },
     "execution_count": 18,
     "metadata": {},
     "output_type": "execute_result"
    }
   ],
   "source": [
    "origin_or = get_origin(tp_or)\n",
    "origin_or"
   ]
  },
  {
   "cell_type": "code",
   "execution_count": 19,
   "metadata": {
    "execution": {
     "iopub.execute_input": "2024-08-19T22:56:29.085659Z",
     "iopub.status.busy": "2024-08-19T22:56:29.085456Z",
     "iopub.status.idle": "2024-08-19T22:56:29.090911Z",
     "shell.execute_reply": "2024-08-19T22:56:29.090045Z"
    },
    "tags": []
   },
   "outputs": [
    {
     "data": {
      "text/plain": [
       "type"
      ]
     },
     "execution_count": 19,
     "metadata": {},
     "output_type": "execute_result"
    }
   ],
   "source": [
    "type(origin_or)"
   ]
  },
  {
   "cell_type": "code",
   "execution_count": 20,
   "metadata": {
    "execution": {
     "iopub.execute_input": "2024-08-19T22:56:29.095319Z",
     "iopub.status.busy": "2024-08-19T22:56:29.094959Z",
     "iopub.status.idle": "2024-08-19T22:56:29.100300Z",
     "shell.execute_reply": "2024-08-19T22:56:29.099767Z"
    },
    "tags": []
   },
   "outputs": [
    {
     "data": {
      "text/plain": [
       "(type, object)"
      ]
     },
     "execution_count": 20,
     "metadata": {},
     "output_type": "execute_result"
    }
   ],
   "source": [
    "type(origin_or).__mro__"
   ]
  },
  {
   "cell_type": "code",
   "execution_count": 21,
   "metadata": {
    "execution": {
     "iopub.execute_input": "2024-08-19T22:56:29.103042Z",
     "iopub.status.busy": "2024-08-19T22:56:29.102792Z",
     "iopub.status.idle": "2024-08-19T22:56:29.313127Z",
     "shell.execute_reply": "2024-08-19T22:56:29.312559Z"
    },
    "tags": []
   },
   "outputs": [
    {
     "ename": "AttributeError",
     "evalue": "type object 'types.UnionType' has no attribute '_name'",
     "output_type": "error",
     "traceback": [
      "\u001b[0;31m---------------------------------------------------------------------------\u001b[0m",
      "\u001b[0;31mAttributeError\u001b[0m                            Traceback (most recent call last)",
      "Cell \u001b[0;32mIn[21], line 1\u001b[0m\n\u001b[0;32m----> 1\u001b[0m \u001b[43morigin_or\u001b[49m\u001b[38;5;241;43m.\u001b[39;49m\u001b[43m_name\u001b[49m\n",
      "\u001b[0;31mAttributeError\u001b[0m: type object 'types.UnionType' has no attribute '_name'"
     ]
    }
   ],
   "source": [
    "origin_or._name"
   ]
  },
  {
   "cell_type": "code",
   "execution_count": 22,
   "metadata": {
    "execution": {
     "iopub.execute_input": "2024-08-19T22:56:29.315883Z",
     "iopub.status.busy": "2024-08-19T22:56:29.315650Z",
     "iopub.status.idle": "2024-08-19T22:56:29.319181Z",
     "shell.execute_reply": "2024-08-19T22:56:29.318699Z"
    },
    "tags": []
   },
   "outputs": [
    {
     "data": {
      "text/plain": [
       "'UnionType'"
      ]
     },
     "execution_count": 22,
     "metadata": {},
     "output_type": "execute_result"
    }
   ],
   "source": [
    "origin_or.__name__"
   ]
  },
  {
   "cell_type": "code",
   "execution_count": 23,
   "metadata": {
    "execution": {
     "iopub.execute_input": "2024-08-19T22:56:29.321721Z",
     "iopub.status.busy": "2024-08-19T22:56:29.321525Z",
     "iopub.status.idle": "2024-08-19T22:56:29.324734Z",
     "shell.execute_reply": "2024-08-19T22:56:29.324305Z"
    }
   },
   "outputs": [
    {
     "data": {
      "text/plain": [
       "'UnionType'"
      ]
     },
     "execution_count": 23,
     "metadata": {},
     "output_type": "execute_result"
    }
   ],
   "source": [
    "origin_or.__qualname__"
   ]
  },
  {
   "cell_type": "markdown",
   "metadata": {},
   "source": [
    "## Optional"
   ]
  },
  {
   "cell_type": "markdown",
   "metadata": {},
   "source": [
    "### typing.Optional (Generic Alias)"
   ]
  },
  {
   "cell_type": "code",
   "execution_count": 24,
   "metadata": {
    "execution": {
     "iopub.execute_input": "2024-08-19T22:56:29.327715Z",
     "iopub.status.busy": "2024-08-19T22:56:29.327337Z",
     "iopub.status.idle": "2024-08-19T22:56:29.330872Z",
     "shell.execute_reply": "2024-08-19T22:56:29.330383Z"
    }
   },
   "outputs": [
    {
     "data": {
      "text/plain": [
       "'typing.Optional[int]'"
      ]
     },
     "execution_count": 24,
     "metadata": {},
     "output_type": "execute_result"
    }
   ],
   "source": [
    "tp_optional = typing.Optional[int]\n",
    "repr(tp_optional)"
   ]
  },
  {
   "cell_type": "code",
   "execution_count": 25,
   "metadata": {
    "execution": {
     "iopub.execute_input": "2024-08-19T22:56:29.333318Z",
     "iopub.status.busy": "2024-08-19T22:56:29.333127Z",
     "iopub.status.idle": "2024-08-19T22:56:29.336361Z",
     "shell.execute_reply": "2024-08-19T22:56:29.335766Z"
    }
   },
   "outputs": [
    {
     "data": {
      "text/plain": [
       "typing._UnionGenericAlias"
      ]
     },
     "execution_count": 25,
     "metadata": {},
     "output_type": "execute_result"
    }
   ],
   "source": [
    "type(tp_optional)"
   ]
  },
  {
   "cell_type": "code",
   "execution_count": 26,
   "metadata": {
    "execution": {
     "iopub.execute_input": "2024-08-19T22:56:29.340472Z",
     "iopub.status.busy": "2024-08-19T22:56:29.340124Z",
     "iopub.status.idle": "2024-08-19T22:56:29.345795Z",
     "shell.execute_reply": "2024-08-19T22:56:29.345000Z"
    }
   },
   "outputs": [
    {
     "data": {
      "text/plain": [
       "(typing._UnionGenericAlias,\n",
       " typing._NotIterable,\n",
       " typing._GenericAlias,\n",
       " typing._BaseGenericAlias,\n",
       " typing._Final,\n",
       " object)"
      ]
     },
     "execution_count": 26,
     "metadata": {},
     "output_type": "execute_result"
    }
   ],
   "source": [
    "type(tp_optional).__mro__"
   ]
  },
  {
   "cell_type": "code",
   "execution_count": 27,
   "metadata": {
    "execution": {
     "iopub.execute_input": "2024-08-19T22:56:29.350056Z",
     "iopub.status.busy": "2024-08-19T22:56:29.349787Z",
     "iopub.status.idle": "2024-08-19T22:56:29.353289Z",
     "shell.execute_reply": "2024-08-19T22:56:29.352744Z"
    },
    "tags": []
   },
   "outputs": [
    {
     "data": {
      "text/plain": [
       "'Optional'"
      ]
     },
     "execution_count": 27,
     "metadata": {},
     "output_type": "execute_result"
    }
   ],
   "source": [
    "tp_optional._name"
   ]
  },
  {
   "cell_type": "code",
   "execution_count": 28,
   "metadata": {
    "execution": {
     "iopub.execute_input": "2024-08-19T22:56:29.356089Z",
     "iopub.status.busy": "2024-08-19T22:56:29.355882Z",
     "iopub.status.idle": "2024-08-19T22:56:29.359540Z",
     "shell.execute_reply": "2024-08-19T22:56:29.358903Z"
    },
    "tags": []
   },
   "outputs": [
    {
     "data": {
      "text/plain": [
       "'Optional'"
      ]
     },
     "execution_count": 28,
     "metadata": {},
     "output_type": "execute_result"
    }
   ],
   "source": [
    "tp_optional.__name__"
   ]
  },
  {
   "cell_type": "code",
   "execution_count": 29,
   "metadata": {
    "execution": {
     "iopub.execute_input": "2024-08-19T22:56:29.362200Z",
     "iopub.status.busy": "2024-08-19T22:56:29.361992Z",
     "iopub.status.idle": "2024-08-19T22:56:29.365480Z",
     "shell.execute_reply": "2024-08-19T22:56:29.364970Z"
    }
   },
   "outputs": [
    {
     "data": {
      "text/plain": [
       "'Optional'"
      ]
     },
     "execution_count": 29,
     "metadata": {},
     "output_type": "execute_result"
    }
   ],
   "source": [
    "tp_optional.__qualname__"
   ]
  },
  {
   "cell_type": "code",
   "execution_count": 30,
   "metadata": {
    "execution": {
     "iopub.execute_input": "2024-08-19T22:56:29.368102Z",
     "iopub.status.busy": "2024-08-19T22:56:29.367887Z",
     "iopub.status.idle": "2024-08-19T22:56:29.371346Z",
     "shell.execute_reply": "2024-08-19T22:56:29.370892Z"
    }
   },
   "outputs": [
    {
     "data": {
      "text/plain": [
       "typing.Union"
      ]
     },
     "execution_count": 30,
     "metadata": {},
     "output_type": "execute_result"
    }
   ],
   "source": [
    "origin_optional = get_origin(tp_optional)\n",
    "origin_optional"
   ]
  },
  {
   "cell_type": "code",
   "execution_count": 31,
   "metadata": {
    "execution": {
     "iopub.execute_input": "2024-08-19T22:56:29.373737Z",
     "iopub.status.busy": "2024-08-19T22:56:29.373550Z",
     "iopub.status.idle": "2024-08-19T22:56:29.377010Z",
     "shell.execute_reply": "2024-08-19T22:56:29.376613Z"
    }
   },
   "outputs": [
    {
     "data": {
      "text/plain": [
       "typing._SpecialForm"
      ]
     },
     "execution_count": 31,
     "metadata": {},
     "output_type": "execute_result"
    }
   ],
   "source": [
    "type(origin_optional)"
   ]
  },
  {
   "cell_type": "code",
   "execution_count": 32,
   "metadata": {
    "execution": {
     "iopub.execute_input": "2024-08-19T22:56:29.379366Z",
     "iopub.status.busy": "2024-08-19T22:56:29.379191Z",
     "iopub.status.idle": "2024-08-19T22:56:29.382309Z",
     "shell.execute_reply": "2024-08-19T22:56:29.381892Z"
    }
   },
   "outputs": [
    {
     "data": {
      "text/plain": [
       "(typing._SpecialForm, typing._Final, typing._NotIterable, object)"
      ]
     },
     "execution_count": 32,
     "metadata": {},
     "output_type": "execute_result"
    }
   ],
   "source": [
    "type(origin_optional).__mro__"
   ]
  },
  {
   "cell_type": "code",
   "execution_count": 33,
   "metadata": {
    "execution": {
     "iopub.execute_input": "2024-08-19T22:56:29.384648Z",
     "iopub.status.busy": "2024-08-19T22:56:29.384475Z",
     "iopub.status.idle": "2024-08-19T22:56:29.388292Z",
     "shell.execute_reply": "2024-08-19T22:56:29.387423Z"
    },
    "tags": []
   },
   "outputs": [
    {
     "data": {
      "text/plain": [
       "'Union'"
      ]
     },
     "execution_count": 33,
     "metadata": {},
     "output_type": "execute_result"
    }
   ],
   "source": [
    "origin_optional._name"
   ]
  },
  {
   "cell_type": "code",
   "execution_count": 34,
   "metadata": {
    "execution": {
     "iopub.execute_input": "2024-08-19T22:56:29.392811Z",
     "iopub.status.busy": "2024-08-19T22:56:29.392439Z",
     "iopub.status.idle": "2024-08-19T22:56:29.398129Z",
     "shell.execute_reply": "2024-08-19T22:56:29.397155Z"
    },
    "tags": []
   },
   "outputs": [
    {
     "data": {
      "text/plain": [
       "'Union'"
      ]
     },
     "execution_count": 34,
     "metadata": {},
     "output_type": "execute_result"
    }
   ],
   "source": [
    "origin_optional.__name__"
   ]
  },
  {
   "cell_type": "code",
   "execution_count": 35,
   "metadata": {
    "execution": {
     "iopub.execute_input": "2024-08-19T22:56:29.401500Z",
     "iopub.status.busy": "2024-08-19T22:56:29.401240Z",
     "iopub.status.idle": "2024-08-19T22:56:29.404839Z",
     "shell.execute_reply": "2024-08-19T22:56:29.404327Z"
    }
   },
   "outputs": [
    {
     "data": {
      "text/plain": [
       "'Union'"
      ]
     },
     "execution_count": 35,
     "metadata": {},
     "output_type": "execute_result"
    }
   ],
   "source": [
    "origin_optional.__qualname__"
   ]
  },
  {
   "cell_type": "markdown",
   "metadata": {},
   "source": [
    "### | (bitwise or) Operator"
   ]
  },
  {
   "cell_type": "code",
   "execution_count": 36,
   "metadata": {
    "execution": {
     "iopub.execute_input": "2024-08-19T22:56:29.407690Z",
     "iopub.status.busy": "2024-08-19T22:56:29.407464Z",
     "iopub.status.idle": "2024-08-19T22:56:29.410942Z",
     "shell.execute_reply": "2024-08-19T22:56:29.410425Z"
    },
    "tags": []
   },
   "outputs": [
    {
     "data": {
      "text/plain": [
       "'int | None'"
      ]
     },
     "execution_count": 36,
     "metadata": {},
     "output_type": "execute_result"
    }
   ],
   "source": [
    "tp_or_none = int | None\n",
    "repr(tp_or_none)"
   ]
  },
  {
   "cell_type": "code",
   "execution_count": 37,
   "metadata": {
    "execution": {
     "iopub.execute_input": "2024-08-19T22:56:29.413647Z",
     "iopub.status.busy": "2024-08-19T22:56:29.413304Z",
     "iopub.status.idle": "2024-08-19T22:56:29.416763Z",
     "shell.execute_reply": "2024-08-19T22:56:29.416261Z"
    },
    "tags": []
   },
   "outputs": [
    {
     "data": {
      "text/plain": [
       "types.UnionType"
      ]
     },
     "execution_count": 37,
     "metadata": {},
     "output_type": "execute_result"
    }
   ],
   "source": [
    "type(tp_or_none)"
   ]
  },
  {
   "cell_type": "code",
   "execution_count": 38,
   "metadata": {
    "execution": {
     "iopub.execute_input": "2024-08-19T22:56:29.419246Z",
     "iopub.status.busy": "2024-08-19T22:56:29.419028Z",
     "iopub.status.idle": "2024-08-19T22:56:29.422403Z",
     "shell.execute_reply": "2024-08-19T22:56:29.421901Z"
    },
    "tags": []
   },
   "outputs": [
    {
     "data": {
      "text/plain": [
       "(types.UnionType, object)"
      ]
     },
     "execution_count": 38,
     "metadata": {},
     "output_type": "execute_result"
    }
   ],
   "source": [
    "type(tp_or_none).__mro__"
   ]
  },
  {
   "cell_type": "code",
   "execution_count": 39,
   "metadata": {
    "execution": {
     "iopub.execute_input": "2024-08-19T22:56:29.424846Z",
     "iopub.status.busy": "2024-08-19T22:56:29.424644Z",
     "iopub.status.idle": "2024-08-19T22:56:29.435240Z",
     "shell.execute_reply": "2024-08-19T22:56:29.434783Z"
    },
    "tags": []
   },
   "outputs": [
    {
     "ename": "AttributeError",
     "evalue": "'types.UnionType' object has no attribute '_name'",
     "output_type": "error",
     "traceback": [
      "\u001b[0;31m---------------------------------------------------------------------------\u001b[0m",
      "\u001b[0;31mAttributeError\u001b[0m                            Traceback (most recent call last)",
      "Cell \u001b[0;32mIn[39], line 1\u001b[0m\n\u001b[0;32m----> 1\u001b[0m \u001b[43mtp_or_none\u001b[49m\u001b[38;5;241;43m.\u001b[39;49m\u001b[43m_name\u001b[49m\n",
      "\u001b[0;31mAttributeError\u001b[0m: 'types.UnionType' object has no attribute '_name'"
     ]
    }
   ],
   "source": [
    "tp_or_none._name"
   ]
  },
  {
   "cell_type": "code",
   "execution_count": 40,
   "metadata": {
    "execution": {
     "iopub.execute_input": "2024-08-19T22:56:29.440138Z",
     "iopub.status.busy": "2024-08-19T22:56:29.439726Z",
     "iopub.status.idle": "2024-08-19T22:56:29.455343Z",
     "shell.execute_reply": "2024-08-19T22:56:29.454762Z"
    }
   },
   "outputs": [
    {
     "ename": "AttributeError",
     "evalue": "'types.UnionType' object has no attribute '__name__'",
     "output_type": "error",
     "traceback": [
      "\u001b[0;31m---------------------------------------------------------------------------\u001b[0m",
      "\u001b[0;31mAttributeError\u001b[0m                            Traceback (most recent call last)",
      "Cell \u001b[0;32mIn[40], line 1\u001b[0m\n\u001b[0;32m----> 1\u001b[0m \u001b[43mtp_or_none\u001b[49m\u001b[38;5;241;43m.\u001b[39;49m\u001b[38;5;18;43m__name__\u001b[39;49m\n",
      "\u001b[0;31mAttributeError\u001b[0m: 'types.UnionType' object has no attribute '__name__'"
     ]
    }
   ],
   "source": [
    "tp_or_none.__name__"
   ]
  },
  {
   "cell_type": "code",
   "execution_count": 41,
   "metadata": {
    "execution": {
     "iopub.execute_input": "2024-08-19T22:56:29.458139Z",
     "iopub.status.busy": "2024-08-19T22:56:29.457909Z",
     "iopub.status.idle": "2024-08-19T22:56:29.469564Z",
     "shell.execute_reply": "2024-08-19T22:56:29.469014Z"
    },
    "tags": []
   },
   "outputs": [
    {
     "ename": "AttributeError",
     "evalue": "'types.UnionType' object has no attribute '__qualname__'",
     "output_type": "error",
     "traceback": [
      "\u001b[0;31m---------------------------------------------------------------------------\u001b[0m",
      "\u001b[0;31mAttributeError\u001b[0m                            Traceback (most recent call last)",
      "Cell \u001b[0;32mIn[41], line 1\u001b[0m\n\u001b[0;32m----> 1\u001b[0m \u001b[43mtp_or_none\u001b[49m\u001b[38;5;241;43m.\u001b[39;49m\u001b[38;5;18;43m__qualname__\u001b[39;49m\n",
      "\u001b[0;31mAttributeError\u001b[0m: 'types.UnionType' object has no attribute '__qualname__'"
     ]
    }
   ],
   "source": [
    "tp_or_none.__qualname__"
   ]
  },
  {
   "cell_type": "code",
   "execution_count": 42,
   "metadata": {
    "execution": {
     "iopub.execute_input": "2024-08-19T22:56:29.472265Z",
     "iopub.status.busy": "2024-08-19T22:56:29.472027Z",
     "iopub.status.idle": "2024-08-19T22:56:29.475794Z",
     "shell.execute_reply": "2024-08-19T22:56:29.475160Z"
    },
    "tags": []
   },
   "outputs": [
    {
     "data": {
      "text/plain": [
       "types.UnionType"
      ]
     },
     "execution_count": 42,
     "metadata": {},
     "output_type": "execute_result"
    }
   ],
   "source": [
    "origin_or_none = get_origin(tp_or_none)\n",
    "origin_or_none"
   ]
  },
  {
   "cell_type": "code",
   "execution_count": 43,
   "metadata": {
    "execution": {
     "iopub.execute_input": "2024-08-19T22:56:29.478583Z",
     "iopub.status.busy": "2024-08-19T22:56:29.478366Z",
     "iopub.status.idle": "2024-08-19T22:56:29.481781Z",
     "shell.execute_reply": "2024-08-19T22:56:29.481293Z"
    },
    "tags": []
   },
   "outputs": [
    {
     "data": {
      "text/plain": [
       "type"
      ]
     },
     "execution_count": 43,
     "metadata": {},
     "output_type": "execute_result"
    }
   ],
   "source": [
    "type(origin_or_none)"
   ]
  },
  {
   "cell_type": "code",
   "execution_count": 44,
   "metadata": {
    "execution": {
     "iopub.execute_input": "2024-08-19T22:56:29.484292Z",
     "iopub.status.busy": "2024-08-19T22:56:29.484100Z",
     "iopub.status.idle": "2024-08-19T22:56:29.488017Z",
     "shell.execute_reply": "2024-08-19T22:56:29.487133Z"
    },
    "tags": []
   },
   "outputs": [
    {
     "data": {
      "text/plain": [
       "(type, object)"
      ]
     },
     "execution_count": 44,
     "metadata": {},
     "output_type": "execute_result"
    }
   ],
   "source": [
    "type(origin_or_none).__mro__"
   ]
  },
  {
   "cell_type": "code",
   "execution_count": 45,
   "metadata": {
    "execution": {
     "iopub.execute_input": "2024-08-19T22:56:29.492673Z",
     "iopub.status.busy": "2024-08-19T22:56:29.492208Z",
     "iopub.status.idle": "2024-08-19T22:56:29.507784Z",
     "shell.execute_reply": "2024-08-19T22:56:29.507094Z"
    },
    "tags": []
   },
   "outputs": [
    {
     "ename": "AttributeError",
     "evalue": "type object 'types.UnionType' has no attribute '_name'",
     "output_type": "error",
     "traceback": [
      "\u001b[0;31m---------------------------------------------------------------------------\u001b[0m",
      "\u001b[0;31mAttributeError\u001b[0m                            Traceback (most recent call last)",
      "Cell \u001b[0;32mIn[45], line 1\u001b[0m\n\u001b[0;32m----> 1\u001b[0m \u001b[43morigin_or_none\u001b[49m\u001b[38;5;241;43m.\u001b[39;49m\u001b[43m_name\u001b[49m\n",
      "\u001b[0;31mAttributeError\u001b[0m: type object 'types.UnionType' has no attribute '_name'"
     ]
    }
   ],
   "source": [
    "origin_or_none._name"
   ]
  },
  {
   "cell_type": "code",
   "execution_count": 46,
   "metadata": {
    "execution": {
     "iopub.execute_input": "2024-08-19T22:56:29.511133Z",
     "iopub.status.busy": "2024-08-19T22:56:29.510752Z",
     "iopub.status.idle": "2024-08-19T22:56:29.514412Z",
     "shell.execute_reply": "2024-08-19T22:56:29.513882Z"
    },
    "tags": []
   },
   "outputs": [
    {
     "data": {
      "text/plain": [
       "'UnionType'"
      ]
     },
     "execution_count": 46,
     "metadata": {},
     "output_type": "execute_result"
    }
   ],
   "source": [
    "origin_or_none.__name__"
   ]
  },
  {
   "cell_type": "code",
   "execution_count": 47,
   "metadata": {
    "execution": {
     "iopub.execute_input": "2024-08-19T22:56:29.517080Z",
     "iopub.status.busy": "2024-08-19T22:56:29.516850Z",
     "iopub.status.idle": "2024-08-19T22:56:29.520178Z",
     "shell.execute_reply": "2024-08-19T22:56:29.519725Z"
    }
   },
   "outputs": [
    {
     "data": {
      "text/plain": [
       "'UnionType'"
      ]
     },
     "execution_count": 47,
     "metadata": {},
     "output_type": "execute_result"
    }
   ],
   "source": [
    "origin_or_none.__qualname__"
   ]
  },
  {
   "cell_type": "markdown",
   "metadata": {},
   "source": [
    "## Standard Collections"
   ]
  },
  {
   "cell_type": "markdown",
   "metadata": {},
   "source": [
    "### typing Module Aliases"
   ]
  },
  {
   "cell_type": "code",
   "execution_count": 48,
   "metadata": {
    "execution": {
     "iopub.execute_input": "2024-08-19T22:56:29.523053Z",
     "iopub.status.busy": "2024-08-19T22:56:29.522849Z",
     "iopub.status.idle": "2024-08-19T22:56:29.526386Z",
     "shell.execute_reply": "2024-08-19T22:56:29.525905Z"
    }
   },
   "outputs": [
    {
     "data": {
      "text/plain": [
       "'typing.List[int]'"
      ]
     },
     "execution_count": 48,
     "metadata": {},
     "output_type": "execute_result"
    }
   ],
   "source": [
    "tp_List = typing.List[int]\n",
    "repr(tp_List)"
   ]
  },
  {
   "cell_type": "code",
   "execution_count": 49,
   "metadata": {
    "execution": {
     "iopub.execute_input": "2024-08-19T22:56:29.529001Z",
     "iopub.status.busy": "2024-08-19T22:56:29.528792Z",
     "iopub.status.idle": "2024-08-19T22:56:29.532051Z",
     "shell.execute_reply": "2024-08-19T22:56:29.531583Z"
    }
   },
   "outputs": [
    {
     "data": {
      "text/plain": [
       "typing._GenericAlias"
      ]
     },
     "execution_count": 49,
     "metadata": {},
     "output_type": "execute_result"
    }
   ],
   "source": [
    "type(tp_List)"
   ]
  },
  {
   "cell_type": "code",
   "execution_count": 50,
   "metadata": {
    "execution": {
     "iopub.execute_input": "2024-08-19T22:56:29.534983Z",
     "iopub.status.busy": "2024-08-19T22:56:29.534769Z",
     "iopub.status.idle": "2024-08-19T22:56:29.539190Z",
     "shell.execute_reply": "2024-08-19T22:56:29.538201Z"
    }
   },
   "outputs": [
    {
     "data": {
      "text/plain": [
       "(typing._GenericAlias, typing._BaseGenericAlias, typing._Final, object)"
      ]
     },
     "execution_count": 50,
     "metadata": {},
     "output_type": "execute_result"
    }
   ],
   "source": [
    "type(tp_List).__mro__"
   ]
  },
  {
   "cell_type": "code",
   "execution_count": 51,
   "metadata": {
    "execution": {
     "iopub.execute_input": "2024-08-19T22:56:29.544105Z",
     "iopub.status.busy": "2024-08-19T22:56:29.543712Z",
     "iopub.status.idle": "2024-08-19T22:56:29.549265Z",
     "shell.execute_reply": "2024-08-19T22:56:29.548490Z"
    }
   },
   "outputs": [
    {
     "data": {
      "text/plain": [
       "'List'"
      ]
     },
     "execution_count": 51,
     "metadata": {},
     "output_type": "execute_result"
    }
   ],
   "source": [
    "tp_List._name"
   ]
  },
  {
   "cell_type": "code",
   "execution_count": 52,
   "metadata": {
    "execution": {
     "iopub.execute_input": "2024-08-19T22:56:29.552217Z",
     "iopub.status.busy": "2024-08-19T22:56:29.551964Z",
     "iopub.status.idle": "2024-08-19T22:56:29.555503Z",
     "shell.execute_reply": "2024-08-19T22:56:29.555018Z"
    },
    "tags": []
   },
   "outputs": [
    {
     "data": {
      "text/plain": [
       "'List'"
      ]
     },
     "execution_count": 52,
     "metadata": {},
     "output_type": "execute_result"
    }
   ],
   "source": [
    "tp_List.__name__"
   ]
  },
  {
   "cell_type": "code",
   "execution_count": 53,
   "metadata": {
    "execution": {
     "iopub.execute_input": "2024-08-19T22:56:29.558378Z",
     "iopub.status.busy": "2024-08-19T22:56:29.558019Z",
     "iopub.status.idle": "2024-08-19T22:56:29.561553Z",
     "shell.execute_reply": "2024-08-19T22:56:29.561082Z"
    }
   },
   "outputs": [
    {
     "data": {
      "text/plain": [
       "'List'"
      ]
     },
     "execution_count": 53,
     "metadata": {},
     "output_type": "execute_result"
    }
   ],
   "source": [
    "tp_List.__qualname__"
   ]
  },
  {
   "cell_type": "code",
   "execution_count": 54,
   "metadata": {
    "execution": {
     "iopub.execute_input": "2024-08-19T22:56:29.564263Z",
     "iopub.status.busy": "2024-08-19T22:56:29.564050Z",
     "iopub.status.idle": "2024-08-19T22:56:29.567603Z",
     "shell.execute_reply": "2024-08-19T22:56:29.567070Z"
    }
   },
   "outputs": [
    {
     "data": {
      "text/plain": [
       "list"
      ]
     },
     "execution_count": 54,
     "metadata": {},
     "output_type": "execute_result"
    }
   ],
   "source": [
    "origin_List = get_origin(tp_List)\n",
    "origin_List"
   ]
  },
  {
   "cell_type": "code",
   "execution_count": 55,
   "metadata": {
    "execution": {
     "iopub.execute_input": "2024-08-19T22:56:29.570143Z",
     "iopub.status.busy": "2024-08-19T22:56:29.569941Z",
     "iopub.status.idle": "2024-08-19T22:56:29.573508Z",
     "shell.execute_reply": "2024-08-19T22:56:29.572777Z"
    }
   },
   "outputs": [
    {
     "data": {
      "text/plain": [
       "type"
      ]
     },
     "execution_count": 55,
     "metadata": {},
     "output_type": "execute_result"
    }
   ],
   "source": [
    "type(origin_List)"
   ]
  },
  {
   "cell_type": "code",
   "execution_count": 56,
   "metadata": {
    "execution": {
     "iopub.execute_input": "2024-08-19T22:56:29.576249Z",
     "iopub.status.busy": "2024-08-19T22:56:29.576011Z",
     "iopub.status.idle": "2024-08-19T22:56:29.579435Z",
     "shell.execute_reply": "2024-08-19T22:56:29.578953Z"
    }
   },
   "outputs": [
    {
     "data": {
      "text/plain": [
       "tuple"
      ]
     },
     "execution_count": 56,
     "metadata": {},
     "output_type": "execute_result"
    }
   ],
   "source": [
    "type(origin_List.__mro__)"
   ]
  },
  {
   "cell_type": "code",
   "execution_count": 57,
   "metadata": {
    "execution": {
     "iopub.execute_input": "2024-08-19T22:56:29.582088Z",
     "iopub.status.busy": "2024-08-19T22:56:29.581852Z",
     "iopub.status.idle": "2024-08-19T22:56:29.599479Z",
     "shell.execute_reply": "2024-08-19T22:56:29.598605Z"
    },
    "tags": []
   },
   "outputs": [
    {
     "ename": "AttributeError",
     "evalue": "type object 'list' has no attribute '_name'",
     "output_type": "error",
     "traceback": [
      "\u001b[0;31m---------------------------------------------------------------------------\u001b[0m",
      "\u001b[0;31mAttributeError\u001b[0m                            Traceback (most recent call last)",
      "Cell \u001b[0;32mIn[57], line 1\u001b[0m\n\u001b[0;32m----> 1\u001b[0m \u001b[43morigin_List\u001b[49m\u001b[38;5;241;43m.\u001b[39;49m\u001b[43m_name\u001b[49m\n",
      "\u001b[0;31mAttributeError\u001b[0m: type object 'list' has no attribute '_name'"
     ]
    }
   ],
   "source": [
    "origin_List._name"
   ]
  },
  {
   "cell_type": "code",
   "execution_count": 58,
   "metadata": {
    "execution": {
     "iopub.execute_input": "2024-08-19T22:56:29.602675Z",
     "iopub.status.busy": "2024-08-19T22:56:29.602420Z",
     "iopub.status.idle": "2024-08-19T22:56:29.606097Z",
     "shell.execute_reply": "2024-08-19T22:56:29.605545Z"
    },
    "tags": []
   },
   "outputs": [
    {
     "data": {
      "text/plain": [
       "'list'"
      ]
     },
     "execution_count": 58,
     "metadata": {},
     "output_type": "execute_result"
    }
   ],
   "source": [
    "origin_List.__name__"
   ]
  },
  {
   "cell_type": "code",
   "execution_count": 59,
   "metadata": {
    "execution": {
     "iopub.execute_input": "2024-08-19T22:56:29.609051Z",
     "iopub.status.busy": "2024-08-19T22:56:29.608775Z",
     "iopub.status.idle": "2024-08-19T22:56:29.612289Z",
     "shell.execute_reply": "2024-08-19T22:56:29.611812Z"
    }
   },
   "outputs": [
    {
     "data": {
      "text/plain": [
       "'list'"
      ]
     },
     "execution_count": 59,
     "metadata": {},
     "output_type": "execute_result"
    }
   ],
   "source": [
    "origin_List.__qualname__"
   ]
  },
  {
   "cell_type": "markdown",
   "metadata": {},
   "source": [
    "### Standard Collection Aliases"
   ]
  },
  {
   "cell_type": "code",
   "execution_count": 60,
   "metadata": {
    "execution": {
     "iopub.execute_input": "2024-08-19T22:56:29.615038Z",
     "iopub.status.busy": "2024-08-19T22:56:29.614818Z",
     "iopub.status.idle": "2024-08-19T22:56:29.618265Z",
     "shell.execute_reply": "2024-08-19T22:56:29.617801Z"
    },
    "tags": []
   },
   "outputs": [
    {
     "data": {
      "text/plain": [
       "list[int]"
      ]
     },
     "execution_count": 60,
     "metadata": {},
     "output_type": "execute_result"
    }
   ],
   "source": [
    "tp_list = list[int]\n",
    "tp_list"
   ]
  },
  {
   "cell_type": "code",
   "execution_count": 61,
   "metadata": {
    "execution": {
     "iopub.execute_input": "2024-08-19T22:56:29.620697Z",
     "iopub.status.busy": "2024-08-19T22:56:29.620491Z",
     "iopub.status.idle": "2024-08-19T22:56:29.623902Z",
     "shell.execute_reply": "2024-08-19T22:56:29.623399Z"
    },
    "tags": []
   },
   "outputs": [
    {
     "data": {
      "text/plain": [
       "types.GenericAlias"
      ]
     },
     "execution_count": 61,
     "metadata": {},
     "output_type": "execute_result"
    }
   ],
   "source": [
    "type(tp_list)"
   ]
  },
  {
   "cell_type": "code",
   "execution_count": 62,
   "metadata": {
    "execution": {
     "iopub.execute_input": "2024-08-19T22:56:29.626679Z",
     "iopub.status.busy": "2024-08-19T22:56:29.626459Z",
     "iopub.status.idle": "2024-08-19T22:56:29.629861Z",
     "shell.execute_reply": "2024-08-19T22:56:29.629398Z"
    },
    "tags": []
   },
   "outputs": [
    {
     "data": {
      "text/plain": [
       "(types.GenericAlias, object)"
      ]
     },
     "execution_count": 62,
     "metadata": {},
     "output_type": "execute_result"
    }
   ],
   "source": [
    "type(tp_list).__mro__"
   ]
  },
  {
   "cell_type": "code",
   "execution_count": 63,
   "metadata": {
    "execution": {
     "iopub.execute_input": "2024-08-19T22:56:29.632286Z",
     "iopub.status.busy": "2024-08-19T22:56:29.632082Z",
     "iopub.status.idle": "2024-08-19T22:56:29.650214Z",
     "shell.execute_reply": "2024-08-19T22:56:29.649660Z"
    },
    "tags": []
   },
   "outputs": [
    {
     "ename": "AttributeError",
     "evalue": "type object 'list' has no attribute '_name'",
     "output_type": "error",
     "traceback": [
      "\u001b[0;31m---------------------------------------------------------------------------\u001b[0m",
      "\u001b[0;31mAttributeError\u001b[0m                            Traceback (most recent call last)",
      "Cell \u001b[0;32mIn[63], line 1\u001b[0m\n\u001b[0;32m----> 1\u001b[0m \u001b[43mtp_list\u001b[49m\u001b[38;5;241;43m.\u001b[39;49m\u001b[43m_name\u001b[49m\n",
      "\u001b[0;31mAttributeError\u001b[0m: type object 'list' has no attribute '_name'"
     ]
    }
   ],
   "source": [
    "tp_list._name"
   ]
  },
  {
   "cell_type": "code",
   "execution_count": 64,
   "metadata": {
    "execution": {
     "iopub.execute_input": "2024-08-19T22:56:29.653019Z",
     "iopub.status.busy": "2024-08-19T22:56:29.652779Z",
     "iopub.status.idle": "2024-08-19T22:56:29.656241Z",
     "shell.execute_reply": "2024-08-19T22:56:29.655730Z"
    },
    "tags": []
   },
   "outputs": [
    {
     "data": {
      "text/plain": [
       "'list'"
      ]
     },
     "execution_count": 64,
     "metadata": {},
     "output_type": "execute_result"
    }
   ],
   "source": [
    "tp_list.__name__"
   ]
  },
  {
   "cell_type": "code",
   "execution_count": 65,
   "metadata": {
    "execution": {
     "iopub.execute_input": "2024-08-19T22:56:29.659062Z",
     "iopub.status.busy": "2024-08-19T22:56:29.658827Z",
     "iopub.status.idle": "2024-08-19T22:56:29.662340Z",
     "shell.execute_reply": "2024-08-19T22:56:29.661869Z"
    }
   },
   "outputs": [
    {
     "data": {
      "text/plain": [
       "'list'"
      ]
     },
     "execution_count": 65,
     "metadata": {},
     "output_type": "execute_result"
    }
   ],
   "source": [
    "tp_list.__qualname__"
   ]
  },
  {
   "cell_type": "code",
   "execution_count": 66,
   "metadata": {
    "execution": {
     "iopub.execute_input": "2024-08-19T22:56:29.664933Z",
     "iopub.status.busy": "2024-08-19T22:56:29.664724Z",
     "iopub.status.idle": "2024-08-19T22:56:29.668022Z",
     "shell.execute_reply": "2024-08-19T22:56:29.667561Z"
    },
    "tags": []
   },
   "outputs": [
    {
     "data": {
      "text/plain": [
       "list"
      ]
     },
     "execution_count": 66,
     "metadata": {},
     "output_type": "execute_result"
    }
   ],
   "source": [
    "origin_list = get_origin(tp_list)\n",
    "origin_list"
   ]
  },
  {
   "cell_type": "code",
   "execution_count": 67,
   "metadata": {
    "execution": {
     "iopub.execute_input": "2024-08-19T22:56:29.670621Z",
     "iopub.status.busy": "2024-08-19T22:56:29.670424Z",
     "iopub.status.idle": "2024-08-19T22:56:29.673828Z",
     "shell.execute_reply": "2024-08-19T22:56:29.673250Z"
    },
    "tags": []
   },
   "outputs": [
    {
     "data": {
      "text/plain": [
       "type"
      ]
     },
     "execution_count": 67,
     "metadata": {},
     "output_type": "execute_result"
    }
   ],
   "source": [
    "type(origin_list)"
   ]
  },
  {
   "cell_type": "code",
   "execution_count": 68,
   "metadata": {
    "execution": {
     "iopub.execute_input": "2024-08-19T22:56:29.676638Z",
     "iopub.status.busy": "2024-08-19T22:56:29.676392Z",
     "iopub.status.idle": "2024-08-19T22:56:29.680027Z",
     "shell.execute_reply": "2024-08-19T22:56:29.679565Z"
    },
    "tags": []
   },
   "outputs": [
    {
     "data": {
      "text/plain": [
       "(type, object)"
      ]
     },
     "execution_count": 68,
     "metadata": {},
     "output_type": "execute_result"
    }
   ],
   "source": [
    "type(origin_list).__mro__"
   ]
  },
  {
   "cell_type": "code",
   "execution_count": 69,
   "metadata": {
    "execution": {
     "iopub.execute_input": "2024-08-19T22:56:29.682598Z",
     "iopub.status.busy": "2024-08-19T22:56:29.682399Z",
     "iopub.status.idle": "2024-08-19T22:56:29.699698Z",
     "shell.execute_reply": "2024-08-19T22:56:29.699116Z"
    },
    "tags": []
   },
   "outputs": [
    {
     "ename": "AttributeError",
     "evalue": "type object 'list' has no attribute '_name'",
     "output_type": "error",
     "traceback": [
      "\u001b[0;31m---------------------------------------------------------------------------\u001b[0m",
      "\u001b[0;31mAttributeError\u001b[0m                            Traceback (most recent call last)",
      "Cell \u001b[0;32mIn[69], line 1\u001b[0m\n\u001b[0;32m----> 1\u001b[0m \u001b[43morigin_list\u001b[49m\u001b[38;5;241;43m.\u001b[39;49m\u001b[43m_name\u001b[49m\n",
      "\u001b[0;31mAttributeError\u001b[0m: type object 'list' has no attribute '_name'"
     ]
    }
   ],
   "source": [
    "origin_list._name"
   ]
  },
  {
   "cell_type": "code",
   "execution_count": 70,
   "metadata": {
    "execution": {
     "iopub.execute_input": "2024-08-19T22:56:29.702563Z",
     "iopub.status.busy": "2024-08-19T22:56:29.702319Z",
     "iopub.status.idle": "2024-08-19T22:56:29.705960Z",
     "shell.execute_reply": "2024-08-19T22:56:29.705400Z"
    }
   },
   "outputs": [
    {
     "data": {
      "text/plain": [
       "'list'"
      ]
     },
     "execution_count": 70,
     "metadata": {},
     "output_type": "execute_result"
    }
   ],
   "source": [
    "origin_list.__name__"
   ]
  },
  {
   "cell_type": "code",
   "execution_count": 71,
   "metadata": {
    "execution": {
     "iopub.execute_input": "2024-08-19T22:56:29.708869Z",
     "iopub.status.busy": "2024-08-19T22:56:29.708624Z",
     "iopub.status.idle": "2024-08-19T22:56:29.711980Z",
     "shell.execute_reply": "2024-08-19T22:56:29.711513Z"
    },
    "tags": []
   },
   "outputs": [
    {
     "data": {
      "text/plain": [
       "'list'"
      ]
     },
     "execution_count": 71,
     "metadata": {},
     "output_type": "execute_result"
    }
   ],
   "source": [
    "origin_list.__qualname__"
   ]
  },
  {
   "attachments": {},
   "cell_type": "markdown",
   "metadata": {},
   "source": [
    "## Custom Class"
   ]
  },
  {
   "cell_type": "code",
   "execution_count": 72,
   "metadata": {
    "execution": {
     "iopub.execute_input": "2024-08-19T22:56:29.714638Z",
     "iopub.status.busy": "2024-08-19T22:56:29.714421Z",
     "iopub.status.idle": "2024-08-19T22:56:29.717216Z",
     "shell.execute_reply": "2024-08-19T22:56:29.716665Z"
    }
   },
   "outputs": [],
   "source": [
    "class MyClass:\n",
    "    pass"
   ]
  },
  {
   "cell_type": "code",
   "execution_count": 73,
   "metadata": {
    "execution": {
     "iopub.execute_input": "2024-08-19T22:56:29.719712Z",
     "iopub.status.busy": "2024-08-19T22:56:29.719514Z",
     "iopub.status.idle": "2024-08-19T22:56:29.722695Z",
     "shell.execute_reply": "2024-08-19T22:56:29.722199Z"
    }
   },
   "outputs": [
    {
     "data": {
      "text/plain": [
       "type"
      ]
     },
     "execution_count": 73,
     "metadata": {},
     "output_type": "execute_result"
    }
   ],
   "source": [
    "type(MyClass)"
   ]
  },
  {
   "cell_type": "code",
   "execution_count": 74,
   "metadata": {
    "execution": {
     "iopub.execute_input": "2024-08-19T22:56:29.725274Z",
     "iopub.status.busy": "2024-08-19T22:56:29.724955Z",
     "iopub.status.idle": "2024-08-19T22:56:29.728329Z",
     "shell.execute_reply": "2024-08-19T22:56:29.727924Z"
    }
   },
   "outputs": [
    {
     "data": {
      "text/plain": [
       "(__main__.MyClass, object)"
      ]
     },
     "execution_count": 74,
     "metadata": {},
     "output_type": "execute_result"
    }
   ],
   "source": [
    "MyClass.__mro__"
   ]
  },
  {
   "cell_type": "code",
   "execution_count": 75,
   "metadata": {
    "execution": {
     "iopub.execute_input": "2024-08-19T22:56:29.730504Z",
     "iopub.status.busy": "2024-08-19T22:56:29.730330Z",
     "iopub.status.idle": "2024-08-19T22:56:29.732781Z",
     "shell.execute_reply": "2024-08-19T22:56:29.732220Z"
    }
   },
   "outputs": [],
   "source": [
    "get_origin(MyClass)"
   ]
  },
  {
   "cell_type": "code",
   "execution_count": 76,
   "metadata": {
    "execution": {
     "iopub.execute_input": "2024-08-19T22:56:29.734899Z",
     "iopub.status.busy": "2024-08-19T22:56:29.734717Z",
     "iopub.status.idle": "2024-08-19T22:56:29.738410Z",
     "shell.execute_reply": "2024-08-19T22:56:29.737556Z"
    }
   },
   "outputs": [
    {
     "data": {
      "text/plain": [
       "'MyClass'"
      ]
     },
     "execution_count": 76,
     "metadata": {},
     "output_type": "execute_result"
    }
   ],
   "source": [
    "MyClass.__name__"
   ]
  },
  {
   "cell_type": "code",
   "execution_count": 77,
   "metadata": {
    "execution": {
     "iopub.execute_input": "2024-08-19T22:56:29.742912Z",
     "iopub.status.busy": "2024-08-19T22:56:29.742546Z",
     "iopub.status.idle": "2024-08-19T22:56:29.747975Z",
     "shell.execute_reply": "2024-08-19T22:56:29.747179Z"
    }
   },
   "outputs": [
    {
     "data": {
      "text/plain": [
       "'MyClass'"
      ]
     },
     "execution_count": 77,
     "metadata": {},
     "output_type": "execute_result"
    }
   ],
   "source": [
    "MyClass.__qualname__"
   ]
  },
  {
   "attachments": {},
   "cell_type": "markdown",
   "metadata": {},
   "source": [
    "## Nested Class"
   ]
  },
  {
   "cell_type": "code",
   "execution_count": 78,
   "metadata": {
    "execution": {
     "iopub.execute_input": "2024-08-19T22:56:29.751345Z",
     "iopub.status.busy": "2024-08-19T22:56:29.751078Z",
     "iopub.status.idle": "2024-08-19T22:56:29.753958Z",
     "shell.execute_reply": "2024-08-19T22:56:29.753335Z"
    }
   },
   "outputs": [],
   "source": [
    "class OuterClass:\n",
    "    class InnerClass:\n",
    "        pass"
   ]
  },
  {
   "cell_type": "code",
   "execution_count": 79,
   "metadata": {
    "execution": {
     "iopub.execute_input": "2024-08-19T22:56:29.756568Z",
     "iopub.status.busy": "2024-08-19T22:56:29.756328Z",
     "iopub.status.idle": "2024-08-19T22:56:29.760106Z",
     "shell.execute_reply": "2024-08-19T22:56:29.759615Z"
    }
   },
   "outputs": [
    {
     "data": {
      "text/plain": [
       "'OuterClass'"
      ]
     },
     "execution_count": 79,
     "metadata": {},
     "output_type": "execute_result"
    }
   ],
   "source": [
    "OuterClass.__name__"
   ]
  },
  {
   "cell_type": "code",
   "execution_count": 80,
   "metadata": {
    "execution": {
     "iopub.execute_input": "2024-08-19T22:56:29.762688Z",
     "iopub.status.busy": "2024-08-19T22:56:29.762488Z",
     "iopub.status.idle": "2024-08-19T22:56:29.765692Z",
     "shell.execute_reply": "2024-08-19T22:56:29.765239Z"
    }
   },
   "outputs": [
    {
     "data": {
      "text/plain": [
       "'OuterClass'"
      ]
     },
     "execution_count": 80,
     "metadata": {},
     "output_type": "execute_result"
    }
   ],
   "source": [
    "OuterClass.__qualname__"
   ]
  },
  {
   "cell_type": "code",
   "execution_count": 81,
   "metadata": {
    "execution": {
     "iopub.execute_input": "2024-08-19T22:56:29.768660Z",
     "iopub.status.busy": "2024-08-19T22:56:29.768336Z",
     "iopub.status.idle": "2024-08-19T22:56:29.771756Z",
     "shell.execute_reply": "2024-08-19T22:56:29.771321Z"
    }
   },
   "outputs": [
    {
     "data": {
      "text/plain": [
       "'InnerClass'"
      ]
     },
     "execution_count": 81,
     "metadata": {},
     "output_type": "execute_result"
    }
   ],
   "source": [
    "OuterClass.InnerClass.__name__"
   ]
  },
  {
   "cell_type": "code",
   "execution_count": 82,
   "metadata": {
    "execution": {
     "iopub.execute_input": "2024-08-19T22:56:29.774108Z",
     "iopub.status.busy": "2024-08-19T22:56:29.773901Z",
     "iopub.status.idle": "2024-08-19T22:56:29.777098Z",
     "shell.execute_reply": "2024-08-19T22:56:29.776644Z"
    }
   },
   "outputs": [
    {
     "data": {
      "text/plain": [
       "'OuterClass.InnerClass'"
      ]
     },
     "execution_count": 82,
     "metadata": {},
     "output_type": "execute_result"
    }
   ],
   "source": [
    "OuterClass.InnerClass.__qualname__"
   ]
  },
  {
   "attachments": {},
   "cell_type": "markdown",
   "metadata": {},
   "source": [
    "## Custom Generic"
   ]
  },
  {
   "cell_type": "code",
   "execution_count": 83,
   "metadata": {
    "execution": {
     "iopub.execute_input": "2024-08-19T22:56:29.779402Z",
     "iopub.status.busy": "2024-08-19T22:56:29.779226Z",
     "iopub.status.idle": "2024-08-19T22:56:29.781851Z",
     "shell.execute_reply": "2024-08-19T22:56:29.781422Z"
    }
   },
   "outputs": [],
   "source": [
    "class MyGeneric(typing.Generic[typing.T]):\n",
    "    def __init__(self, x) -> None:\n",
    "        self.x = x"
   ]
  },
  {
   "cell_type": "code",
   "execution_count": 84,
   "metadata": {
    "execution": {
     "iopub.execute_input": "2024-08-19T22:56:29.784102Z",
     "iopub.status.busy": "2024-08-19T22:56:29.783928Z",
     "iopub.status.idle": "2024-08-19T22:56:29.787435Z",
     "shell.execute_reply": "2024-08-19T22:56:29.786554Z"
    }
   },
   "outputs": [
    {
     "data": {
      "text/plain": [
       "__main__.MyGeneric[str]"
      ]
     },
     "execution_count": 84,
     "metadata": {},
     "output_type": "execute_result"
    }
   ],
   "source": [
    "tp_custom_generic = MyGeneric[str]\n",
    "tp_custom_generic"
   ]
  },
  {
   "cell_type": "code",
   "execution_count": 85,
   "metadata": {
    "execution": {
     "iopub.execute_input": "2024-08-19T22:56:29.792124Z",
     "iopub.status.busy": "2024-08-19T22:56:29.791548Z",
     "iopub.status.idle": "2024-08-19T22:56:29.797722Z",
     "shell.execute_reply": "2024-08-19T22:56:29.796820Z"
    }
   },
   "outputs": [
    {
     "data": {
      "text/plain": [
       "typing._GenericAlias"
      ]
     },
     "execution_count": 85,
     "metadata": {},
     "output_type": "execute_result"
    }
   ],
   "source": [
    "type(tp_custom_generic)"
   ]
  },
  {
   "cell_type": "code",
   "execution_count": 86,
   "metadata": {
    "execution": {
     "iopub.execute_input": "2024-08-19T22:56:29.800970Z",
     "iopub.status.busy": "2024-08-19T22:56:29.800706Z",
     "iopub.status.idle": "2024-08-19T22:56:29.804423Z",
     "shell.execute_reply": "2024-08-19T22:56:29.803864Z"
    }
   },
   "outputs": [
    {
     "data": {
      "text/plain": [
       "'MyGeneric'"
      ]
     },
     "execution_count": 86,
     "metadata": {},
     "output_type": "execute_result"
    }
   ],
   "source": [
    "tp_custom_generic.__name__"
   ]
  },
  {
   "cell_type": "code",
   "execution_count": 87,
   "metadata": {
    "execution": {
     "iopub.execute_input": "2024-08-19T22:56:29.807112Z",
     "iopub.status.busy": "2024-08-19T22:56:29.806873Z",
     "iopub.status.idle": "2024-08-19T22:56:29.810611Z",
     "shell.execute_reply": "2024-08-19T22:56:29.810050Z"
    }
   },
   "outputs": [
    {
     "data": {
      "text/plain": [
       "'MyGeneric'"
      ]
     },
     "execution_count": 87,
     "metadata": {},
     "output_type": "execute_result"
    }
   ],
   "source": [
    "tp_custom_generic.__qualname__"
   ]
  },
  {
   "cell_type": "code",
   "execution_count": 88,
   "metadata": {
    "execution": {
     "iopub.execute_input": "2024-08-19T22:56:29.813139Z",
     "iopub.status.busy": "2024-08-19T22:56:29.812923Z",
     "iopub.status.idle": "2024-08-19T22:56:29.816381Z",
     "shell.execute_reply": "2024-08-19T22:56:29.815863Z"
    }
   },
   "outputs": [
    {
     "data": {
      "text/plain": [
       "__main__.MyGeneric"
      ]
     },
     "execution_count": 88,
     "metadata": {},
     "output_type": "execute_result"
    }
   ],
   "source": [
    "origin_custom_generic = get_origin(tp_custom_generic)\n",
    "origin_custom_generic"
   ]
  },
  {
   "cell_type": "code",
   "execution_count": 89,
   "metadata": {
    "execution": {
     "iopub.execute_input": "2024-08-19T22:56:29.818932Z",
     "iopub.status.busy": "2024-08-19T22:56:29.818713Z",
     "iopub.status.idle": "2024-08-19T22:56:29.822046Z",
     "shell.execute_reply": "2024-08-19T22:56:29.821576Z"
    }
   },
   "outputs": [
    {
     "data": {
      "text/plain": [
       "'MyGeneric'"
      ]
     },
     "execution_count": 89,
     "metadata": {},
     "output_type": "execute_result"
    }
   ],
   "source": [
    "origin_custom_generic.__name__"
   ]
  },
  {
   "cell_type": "code",
   "execution_count": 90,
   "metadata": {
    "execution": {
     "iopub.execute_input": "2024-08-19T22:56:29.824602Z",
     "iopub.status.busy": "2024-08-19T22:56:29.824385Z",
     "iopub.status.idle": "2024-08-19T22:56:29.827824Z",
     "shell.execute_reply": "2024-08-19T22:56:29.827365Z"
    }
   },
   "outputs": [
    {
     "data": {
      "text/plain": [
       "'MyGeneric'"
      ]
     },
     "execution_count": 90,
     "metadata": {},
     "output_type": "execute_result"
    }
   ],
   "source": [
    "origin_custom_generic.__qualname__"
   ]
  },
  {
   "attachments": {},
   "cell_type": "markdown",
   "metadata": {},
   "source": [
    "## typing.Any"
   ]
  },
  {
   "cell_type": "code",
   "execution_count": 91,
   "metadata": {
    "execution": {
     "iopub.execute_input": "2024-08-19T22:56:29.830466Z",
     "iopub.status.busy": "2024-08-19T22:56:29.830246Z",
     "iopub.status.idle": "2024-08-19T22:56:29.833685Z",
     "shell.execute_reply": "2024-08-19T22:56:29.833236Z"
    }
   },
   "outputs": [
    {
     "data": {
      "text/plain": [
       "'typing.Any'"
      ]
     },
     "execution_count": 91,
     "metadata": {},
     "output_type": "execute_result"
    }
   ],
   "source": [
    "tp_any = typing.Any\n",
    "repr(tp_any)"
   ]
  },
  {
   "cell_type": "code",
   "execution_count": 92,
   "metadata": {
    "execution": {
     "iopub.execute_input": "2024-08-19T22:56:29.836108Z",
     "iopub.status.busy": "2024-08-19T22:56:29.835878Z",
     "iopub.status.idle": "2024-08-19T22:56:29.841466Z",
     "shell.execute_reply": "2024-08-19T22:56:29.840524Z"
    }
   },
   "outputs": [
    {
     "data": {
      "text/plain": [
       "'Any'"
      ]
     },
     "execution_count": 92,
     "metadata": {},
     "output_type": "execute_result"
    }
   ],
   "source": [
    "tp_any.__name__"
   ]
  },
  {
   "cell_type": "code",
   "execution_count": 93,
   "metadata": {
    "execution": {
     "iopub.execute_input": "2024-08-19T22:56:29.846024Z",
     "iopub.status.busy": "2024-08-19T22:56:29.845551Z",
     "iopub.status.idle": "2024-08-19T22:56:29.850425Z",
     "shell.execute_reply": "2024-08-19T22:56:29.849863Z"
    }
   },
   "outputs": [
    {
     "data": {
      "text/plain": [
       "'Any'"
      ]
     },
     "execution_count": 93,
     "metadata": {},
     "output_type": "execute_result"
    }
   ],
   "source": [
    "tp_any.__qualname__"
   ]
  }
 ],
 "metadata": {
  "kernelspec": {
   "display_name": ".venv",
   "language": "python",
   "name": "python3"
  },
  "language_info": {
   "codemirror_mode": {
    "name": "ipython",
    "version": 3
   },
   "file_extension": ".py",
   "mimetype": "text/x-python",
   "name": "python",
   "nbconvert_exporter": "python",
   "pygments_lexer": "ipython3",
   "version": "3.12.1"
  },
  "vscode": {
   "interpreter": {
    "hash": "562b6b1d41146ba195661be6d6db461f2660efbf90f15e4bc583c307da246186"
   }
  }
 },
 "nbformat": 4,
 "nbformat_minor": 4
}

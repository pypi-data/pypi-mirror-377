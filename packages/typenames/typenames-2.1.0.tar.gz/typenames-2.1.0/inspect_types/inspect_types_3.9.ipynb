{
 "cells": [
  {
   "cell_type": "code",
   "execution_count": 1,
   "metadata": {
    "execution": {
     "iopub.execute_input": "2024-08-19T22:55:56.671018Z",
     "iopub.status.busy": "2024-08-19T22:55:56.670630Z",
     "iopub.status.idle": "2024-08-19T22:55:56.680414Z",
     "shell.execute_reply": "2024-08-19T22:55:56.679495Z"
    }
   },
   "outputs": [],
   "source": [
    "import sys\n",
    "import typing\n",
    "\n",
    "try:\n",
    "    from typing import get_origin\n",
    "except ImportError:\n",
    "    from typing_extensions import get_origin"
   ]
  },
  {
   "cell_type": "code",
   "execution_count": 2,
   "metadata": {
    "execution": {
     "iopub.execute_input": "2024-08-19T22:55:56.684778Z",
     "iopub.status.busy": "2024-08-19T22:55:56.683918Z",
     "iopub.status.idle": "2024-08-19T22:55:56.691372Z",
     "shell.execute_reply": "2024-08-19T22:55:56.690609Z"
    }
   },
   "outputs": [
    {
     "data": {
      "text/plain": [
       "'3.9.18 (main, Feb 25 2024, 05:13:42) \\n[Clang 17.0.6 ]'"
      ]
     },
     "execution_count": 2,
     "metadata": {},
     "output_type": "execute_result"
    }
   ],
   "source": [
    "sys.version"
   ]
  },
  {
   "cell_type": "markdown",
   "metadata": {},
   "source": [
    "## Union"
   ]
  },
  {
   "cell_type": "markdown",
   "metadata": {},
   "source": [
    "### typing.Union (Generic Alias)"
   ]
  },
  {
   "cell_type": "code",
   "execution_count": 3,
   "metadata": {
    "execution": {
     "iopub.execute_input": "2024-08-19T22:55:56.735624Z",
     "iopub.status.busy": "2024-08-19T22:55:56.734980Z",
     "iopub.status.idle": "2024-08-19T22:55:56.739983Z",
     "shell.execute_reply": "2024-08-19T22:55:56.739314Z"
    }
   },
   "outputs": [
    {
     "data": {
      "text/plain": [
       "'typing.Union[int, str]'"
      ]
     },
     "execution_count": 3,
     "metadata": {},
     "output_type": "execute_result"
    }
   ],
   "source": [
    "tp_union = typing.Union[int, str]\n",
    "repr(tp_union)"
   ]
  },
  {
   "cell_type": "code",
   "execution_count": 4,
   "metadata": {
    "execution": {
     "iopub.execute_input": "2024-08-19T22:55:56.743411Z",
     "iopub.status.busy": "2024-08-19T22:55:56.743152Z",
     "iopub.status.idle": "2024-08-19T22:55:56.747428Z",
     "shell.execute_reply": "2024-08-19T22:55:56.746756Z"
    }
   },
   "outputs": [
    {
     "data": {
      "text/plain": [
       "typing._UnionGenericAlias"
      ]
     },
     "execution_count": 4,
     "metadata": {},
     "output_type": "execute_result"
    }
   ],
   "source": [
    "type(tp_union)"
   ]
  },
  {
   "cell_type": "code",
   "execution_count": 5,
   "metadata": {
    "execution": {
     "iopub.execute_input": "2024-08-19T22:55:56.750423Z",
     "iopub.status.busy": "2024-08-19T22:55:56.750173Z",
     "iopub.status.idle": "2024-08-19T22:55:56.754356Z",
     "shell.execute_reply": "2024-08-19T22:55:56.753804Z"
    }
   },
   "outputs": [
    {
     "data": {
      "text/plain": [
       "(typing._UnionGenericAlias,\n",
       " typing._GenericAlias,\n",
       " typing._BaseGenericAlias,\n",
       " typing._Final,\n",
       " object)"
      ]
     },
     "execution_count": 5,
     "metadata": {},
     "output_type": "execute_result"
    }
   ],
   "source": [
    "type(tp_union).__mro__"
   ]
  },
  {
   "cell_type": "code",
   "execution_count": 6,
   "metadata": {
    "execution": {
     "iopub.execute_input": "2024-08-19T22:55:56.757303Z",
     "iopub.status.busy": "2024-08-19T22:55:56.757065Z",
     "iopub.status.idle": "2024-08-19T22:55:56.759980Z",
     "shell.execute_reply": "2024-08-19T22:55:56.759408Z"
    }
   },
   "outputs": [],
   "source": [
    "tp_union._name"
   ]
  },
  {
   "cell_type": "code",
   "execution_count": 7,
   "metadata": {
    "execution": {
     "iopub.execute_input": "2024-08-19T22:55:56.762786Z",
     "iopub.status.busy": "2024-08-19T22:55:56.762553Z",
     "iopub.status.idle": "2024-08-19T22:55:57.104706Z",
     "shell.execute_reply": "2024-08-19T22:55:57.104188Z"
    }
   },
   "outputs": [
    {
     "ename": "AttributeError",
     "evalue": "__name__",
     "output_type": "error",
     "traceback": [
      "\u001b[0;31m---------------------------------------------------------------------------\u001b[0m",
      "\u001b[0;31mAttributeError\u001b[0m                            Traceback (most recent call last)",
      "Cell \u001b[0;32mIn[7], line 1\u001b[0m\n\u001b[0;32m----> 1\u001b[0m \u001b[43mtp_union\u001b[49m\u001b[38;5;241;43m.\u001b[39;49m\u001b[38;5;18;43m__name__\u001b[39;49m\n",
      "File \u001b[0;32m~/.local/share/mise/installs/python/3.9/lib/python3.9/typing.py:711\u001b[0m, in \u001b[0;36m_BaseGenericAlias.__getattr__\u001b[0;34m(self, attr)\u001b[0m\n\u001b[1;32m    709\u001b[0m \u001b[38;5;28;01mif\u001b[39;00m \u001b[38;5;124m'\u001b[39m\u001b[38;5;124m__origin__\u001b[39m\u001b[38;5;124m'\u001b[39m \u001b[38;5;129;01min\u001b[39;00m \u001b[38;5;28mself\u001b[39m\u001b[38;5;241m.\u001b[39m\u001b[38;5;18m__dict__\u001b[39m \u001b[38;5;129;01mand\u001b[39;00m \u001b[38;5;129;01mnot\u001b[39;00m _is_dunder(attr):\n\u001b[1;32m    710\u001b[0m     \u001b[38;5;28;01mreturn\u001b[39;00m \u001b[38;5;28mgetattr\u001b[39m(\u001b[38;5;28mself\u001b[39m\u001b[38;5;241m.\u001b[39m__origin__, attr)\n\u001b[0;32m--> 711\u001b[0m \u001b[38;5;28;01mraise\u001b[39;00m \u001b[38;5;167;01mAttributeError\u001b[39;00m(attr)\n",
      "\u001b[0;31mAttributeError\u001b[0m: __name__"
     ]
    }
   ],
   "source": [
    "tp_union.__name__"
   ]
  },
  {
   "cell_type": "code",
   "execution_count": 8,
   "metadata": {
    "execution": {
     "iopub.execute_input": "2024-08-19T22:55:57.107434Z",
     "iopub.status.busy": "2024-08-19T22:55:57.107231Z",
     "iopub.status.idle": "2024-08-19T22:55:57.125270Z",
     "shell.execute_reply": "2024-08-19T22:55:57.124533Z"
    }
   },
   "outputs": [
    {
     "ename": "AttributeError",
     "evalue": "__qualname__",
     "output_type": "error",
     "traceback": [
      "\u001b[0;31m---------------------------------------------------------------------------\u001b[0m",
      "\u001b[0;31mAttributeError\u001b[0m                            Traceback (most recent call last)",
      "Cell \u001b[0;32mIn[8], line 1\u001b[0m\n\u001b[0;32m----> 1\u001b[0m \u001b[43mtp_union\u001b[49m\u001b[38;5;241;43m.\u001b[39;49m\u001b[38;5;18;43m__qualname__\u001b[39;49m\n",
      "File \u001b[0;32m~/.local/share/mise/installs/python/3.9/lib/python3.9/typing.py:711\u001b[0m, in \u001b[0;36m_BaseGenericAlias.__getattr__\u001b[0;34m(self, attr)\u001b[0m\n\u001b[1;32m    709\u001b[0m \u001b[38;5;28;01mif\u001b[39;00m \u001b[38;5;124m'\u001b[39m\u001b[38;5;124m__origin__\u001b[39m\u001b[38;5;124m'\u001b[39m \u001b[38;5;129;01min\u001b[39;00m \u001b[38;5;28mself\u001b[39m\u001b[38;5;241m.\u001b[39m\u001b[38;5;18m__dict__\u001b[39m \u001b[38;5;129;01mand\u001b[39;00m \u001b[38;5;129;01mnot\u001b[39;00m _is_dunder(attr):\n\u001b[1;32m    710\u001b[0m     \u001b[38;5;28;01mreturn\u001b[39;00m \u001b[38;5;28mgetattr\u001b[39m(\u001b[38;5;28mself\u001b[39m\u001b[38;5;241m.\u001b[39m__origin__, attr)\n\u001b[0;32m--> 711\u001b[0m \u001b[38;5;28;01mraise\u001b[39;00m \u001b[38;5;167;01mAttributeError\u001b[39;00m(attr)\n",
      "\u001b[0;31mAttributeError\u001b[0m: __qualname__"
     ]
    }
   ],
   "source": [
    "tp_union.__qualname__"
   ]
  },
  {
   "cell_type": "code",
   "execution_count": 9,
   "metadata": {
    "execution": {
     "iopub.execute_input": "2024-08-19T22:55:57.128280Z",
     "iopub.status.busy": "2024-08-19T22:55:57.128040Z",
     "iopub.status.idle": "2024-08-19T22:55:57.132032Z",
     "shell.execute_reply": "2024-08-19T22:55:57.131442Z"
    }
   },
   "outputs": [
    {
     "data": {
      "text/plain": [
       "typing.Union"
      ]
     },
     "execution_count": 9,
     "metadata": {},
     "output_type": "execute_result"
    }
   ],
   "source": [
    "origin_union = get_origin(tp_union)\n",
    "origin_union"
   ]
  },
  {
   "cell_type": "code",
   "execution_count": 10,
   "metadata": {
    "execution": {
     "iopub.execute_input": "2024-08-19T22:55:57.135274Z",
     "iopub.status.busy": "2024-08-19T22:55:57.134861Z",
     "iopub.status.idle": "2024-08-19T22:55:57.139219Z",
     "shell.execute_reply": "2024-08-19T22:55:57.138596Z"
    }
   },
   "outputs": [
    {
     "data": {
      "text/plain": [
       "typing._SpecialForm"
      ]
     },
     "execution_count": 10,
     "metadata": {},
     "output_type": "execute_result"
    }
   ],
   "source": [
    "type(origin_union)"
   ]
  },
  {
   "cell_type": "code",
   "execution_count": 11,
   "metadata": {
    "execution": {
     "iopub.execute_input": "2024-08-19T22:55:57.142158Z",
     "iopub.status.busy": "2024-08-19T22:55:57.141919Z",
     "iopub.status.idle": "2024-08-19T22:55:57.145846Z",
     "shell.execute_reply": "2024-08-19T22:55:57.145169Z"
    }
   },
   "outputs": [
    {
     "data": {
      "text/plain": [
       "(typing._SpecialForm, typing._Final, object)"
      ]
     },
     "execution_count": 11,
     "metadata": {},
     "output_type": "execute_result"
    }
   ],
   "source": [
    "type(origin_union).__mro__"
   ]
  },
  {
   "cell_type": "code",
   "execution_count": 12,
   "metadata": {
    "execution": {
     "iopub.execute_input": "2024-08-19T22:55:57.148823Z",
     "iopub.status.busy": "2024-08-19T22:55:57.148570Z",
     "iopub.status.idle": "2024-08-19T22:55:57.152794Z",
     "shell.execute_reply": "2024-08-19T22:55:57.152190Z"
    }
   },
   "outputs": [
    {
     "data": {
      "text/plain": [
       "'Union'"
      ]
     },
     "execution_count": 12,
     "metadata": {},
     "output_type": "execute_result"
    }
   ],
   "source": [
    "origin_union._name"
   ]
  },
  {
   "cell_type": "code",
   "execution_count": 13,
   "metadata": {
    "execution": {
     "iopub.execute_input": "2024-08-19T22:55:57.155745Z",
     "iopub.status.busy": "2024-08-19T22:55:57.155500Z",
     "iopub.status.idle": "2024-08-19T22:55:57.169290Z",
     "shell.execute_reply": "2024-08-19T22:55:57.168574Z"
    }
   },
   "outputs": [
    {
     "ename": "AttributeError",
     "evalue": "'_SpecialForm' object has no attribute '__name__'",
     "output_type": "error",
     "traceback": [
      "\u001b[0;31m---------------------------------------------------------------------------\u001b[0m",
      "\u001b[0;31mAttributeError\u001b[0m                            Traceback (most recent call last)",
      "Cell \u001b[0;32mIn[13], line 1\u001b[0m\n\u001b[0;32m----> 1\u001b[0m \u001b[43morigin_union\u001b[49m\u001b[38;5;241;43m.\u001b[39;49m\u001b[38;5;18;43m__name__\u001b[39;49m\n",
      "\u001b[0;31mAttributeError\u001b[0m: '_SpecialForm' object has no attribute '__name__'"
     ]
    }
   ],
   "source": [
    "origin_union.__name__"
   ]
  },
  {
   "cell_type": "code",
   "execution_count": 14,
   "metadata": {
    "execution": {
     "iopub.execute_input": "2024-08-19T22:55:57.172276Z",
     "iopub.status.busy": "2024-08-19T22:55:57.172032Z",
     "iopub.status.idle": "2024-08-19T22:55:57.186910Z",
     "shell.execute_reply": "2024-08-19T22:55:57.186188Z"
    }
   },
   "outputs": [
    {
     "ename": "AttributeError",
     "evalue": "'_SpecialForm' object has no attribute '__qualname__'",
     "output_type": "error",
     "traceback": [
      "\u001b[0;31m---------------------------------------------------------------------------\u001b[0m",
      "\u001b[0;31mAttributeError\u001b[0m                            Traceback (most recent call last)",
      "Cell \u001b[0;32mIn[14], line 1\u001b[0m\n\u001b[0;32m----> 1\u001b[0m \u001b[43morigin_union\u001b[49m\u001b[38;5;241;43m.\u001b[39;49m\u001b[38;5;18;43m__qualname__\u001b[39;49m\n",
      "\u001b[0;31mAttributeError\u001b[0m: '_SpecialForm' object has no attribute '__qualname__'"
     ]
    }
   ],
   "source": [
    "origin_union.__qualname__"
   ]
  },
  {
   "cell_type": "markdown",
   "metadata": {},
   "source": [
    "### | (bitwise or) operator"
   ]
  },
  {
   "cell_type": "code",
   "execution_count": 15,
   "metadata": {
    "execution": {
     "iopub.execute_input": "2024-08-19T22:55:57.190036Z",
     "iopub.status.busy": "2024-08-19T22:55:57.189785Z",
     "iopub.status.idle": "2024-08-19T22:55:57.204214Z",
     "shell.execute_reply": "2024-08-19T22:55:57.203611Z"
    },
    "tags": []
   },
   "outputs": [
    {
     "ename": "TypeError",
     "evalue": "unsupported operand type(s) for |: 'type' and 'type'",
     "output_type": "error",
     "traceback": [
      "\u001b[0;31m---------------------------------------------------------------------------\u001b[0m",
      "\u001b[0;31mTypeError\u001b[0m                                 Traceback (most recent call last)",
      "Cell \u001b[0;32mIn[15], line 1\u001b[0m\n\u001b[0;32m----> 1\u001b[0m tp_or \u001b[38;5;241m=\u001b[39m \u001b[38;5;28;43mint\u001b[39;49m\u001b[43m \u001b[49m\u001b[38;5;241;43m|\u001b[39;49m\u001b[43m \u001b[49m\u001b[38;5;28;43mstr\u001b[39;49m\n\u001b[1;32m      2\u001b[0m \u001b[38;5;28mrepr\u001b[39m(tp_or)\n",
      "\u001b[0;31mTypeError\u001b[0m: unsupported operand type(s) for |: 'type' and 'type'"
     ]
    }
   ],
   "source": [
    "tp_or = int | str\n",
    "repr(tp_or)"
   ]
  },
  {
   "cell_type": "code",
   "execution_count": 16,
   "metadata": {
    "execution": {
     "iopub.execute_input": "2024-08-19T22:55:57.207257Z",
     "iopub.status.busy": "2024-08-19T22:55:57.207016Z",
     "iopub.status.idle": "2024-08-19T22:55:57.220815Z",
     "shell.execute_reply": "2024-08-19T22:55:57.220234Z"
    },
    "tags": []
   },
   "outputs": [
    {
     "ename": "NameError",
     "evalue": "name 'tp_or' is not defined",
     "output_type": "error",
     "traceback": [
      "\u001b[0;31m---------------------------------------------------------------------------\u001b[0m",
      "\u001b[0;31mNameError\u001b[0m                                 Traceback (most recent call last)",
      "Cell \u001b[0;32mIn[16], line 1\u001b[0m\n\u001b[0;32m----> 1\u001b[0m \u001b[38;5;28mtype\u001b[39m(\u001b[43mtp_or\u001b[49m)\n",
      "\u001b[0;31mNameError\u001b[0m: name 'tp_or' is not defined"
     ]
    }
   ],
   "source": [
    "type(tp_or)"
   ]
  },
  {
   "cell_type": "code",
   "execution_count": 17,
   "metadata": {
    "execution": {
     "iopub.execute_input": "2024-08-19T22:55:57.223753Z",
     "iopub.status.busy": "2024-08-19T22:55:57.223495Z",
     "iopub.status.idle": "2024-08-19T22:55:57.237552Z",
     "shell.execute_reply": "2024-08-19T22:55:57.236962Z"
    },
    "tags": []
   },
   "outputs": [
    {
     "ename": "NameError",
     "evalue": "name 'tp_or' is not defined",
     "output_type": "error",
     "traceback": [
      "\u001b[0;31m---------------------------------------------------------------------------\u001b[0m",
      "\u001b[0;31mNameError\u001b[0m                                 Traceback (most recent call last)",
      "Cell \u001b[0;32mIn[17], line 1\u001b[0m\n\u001b[0;32m----> 1\u001b[0m \u001b[38;5;28mtype\u001b[39m(\u001b[43mtp_or\u001b[49m)\u001b[38;5;241m.\u001b[39m\u001b[38;5;18m__mro__\u001b[39m\n",
      "\u001b[0;31mNameError\u001b[0m: name 'tp_or' is not defined"
     ]
    }
   ],
   "source": [
    "type(tp_or).__mro__"
   ]
  },
  {
   "cell_type": "code",
   "execution_count": 18,
   "metadata": {
    "execution": {
     "iopub.execute_input": "2024-08-19T22:55:57.240447Z",
     "iopub.status.busy": "2024-08-19T22:55:57.240209Z",
     "iopub.status.idle": "2024-08-19T22:55:57.254188Z",
     "shell.execute_reply": "2024-08-19T22:55:57.253501Z"
    },
    "tags": []
   },
   "outputs": [
    {
     "ename": "NameError",
     "evalue": "name 'tp_or' is not defined",
     "output_type": "error",
     "traceback": [
      "\u001b[0;31m---------------------------------------------------------------------------\u001b[0m",
      "\u001b[0;31mNameError\u001b[0m                                 Traceback (most recent call last)",
      "Cell \u001b[0;32mIn[18], line 1\u001b[0m\n\u001b[0;32m----> 1\u001b[0m origin_or \u001b[38;5;241m=\u001b[39m get_origin(\u001b[43mtp_or\u001b[49m)\n\u001b[1;32m      2\u001b[0m origin_or\n",
      "\u001b[0;31mNameError\u001b[0m: name 'tp_or' is not defined"
     ]
    }
   ],
   "source": [
    "origin_or = get_origin(tp_or)\n",
    "origin_or"
   ]
  },
  {
   "cell_type": "code",
   "execution_count": 19,
   "metadata": {
    "execution": {
     "iopub.execute_input": "2024-08-19T22:55:57.257279Z",
     "iopub.status.busy": "2024-08-19T22:55:57.257017Z",
     "iopub.status.idle": "2024-08-19T22:55:57.270711Z",
     "shell.execute_reply": "2024-08-19T22:55:57.270129Z"
    },
    "tags": []
   },
   "outputs": [
    {
     "ename": "NameError",
     "evalue": "name 'origin_or' is not defined",
     "output_type": "error",
     "traceback": [
      "\u001b[0;31m---------------------------------------------------------------------------\u001b[0m",
      "\u001b[0;31mNameError\u001b[0m                                 Traceback (most recent call last)",
      "Cell \u001b[0;32mIn[19], line 1\u001b[0m\n\u001b[0;32m----> 1\u001b[0m \u001b[38;5;28mtype\u001b[39m(\u001b[43morigin_or\u001b[49m)\n",
      "\u001b[0;31mNameError\u001b[0m: name 'origin_or' is not defined"
     ]
    }
   ],
   "source": [
    "type(origin_or)"
   ]
  },
  {
   "cell_type": "code",
   "execution_count": 20,
   "metadata": {
    "execution": {
     "iopub.execute_input": "2024-08-19T22:55:57.273739Z",
     "iopub.status.busy": "2024-08-19T22:55:57.273481Z",
     "iopub.status.idle": "2024-08-19T22:55:57.287420Z",
     "shell.execute_reply": "2024-08-19T22:55:57.286828Z"
    },
    "tags": []
   },
   "outputs": [
    {
     "ename": "NameError",
     "evalue": "name 'origin_or' is not defined",
     "output_type": "error",
     "traceback": [
      "\u001b[0;31m---------------------------------------------------------------------------\u001b[0m",
      "\u001b[0;31mNameError\u001b[0m                                 Traceback (most recent call last)",
      "Cell \u001b[0;32mIn[20], line 1\u001b[0m\n\u001b[0;32m----> 1\u001b[0m \u001b[38;5;28mtype\u001b[39m(\u001b[43morigin_or\u001b[49m)\u001b[38;5;241m.\u001b[39m\u001b[38;5;18m__mro__\u001b[39m\n",
      "\u001b[0;31mNameError\u001b[0m: name 'origin_or' is not defined"
     ]
    }
   ],
   "source": [
    "type(origin_or).__mro__"
   ]
  },
  {
   "cell_type": "code",
   "execution_count": 21,
   "metadata": {
    "execution": {
     "iopub.execute_input": "2024-08-19T22:55:57.290390Z",
     "iopub.status.busy": "2024-08-19T22:55:57.290147Z",
     "iopub.status.idle": "2024-08-19T22:55:57.305042Z",
     "shell.execute_reply": "2024-08-19T22:55:57.304341Z"
    },
    "tags": []
   },
   "outputs": [
    {
     "ename": "NameError",
     "evalue": "name 'origin_or' is not defined",
     "output_type": "error",
     "traceback": [
      "\u001b[0;31m---------------------------------------------------------------------------\u001b[0m",
      "\u001b[0;31mNameError\u001b[0m                                 Traceback (most recent call last)",
      "Cell \u001b[0;32mIn[21], line 1\u001b[0m\n\u001b[0;32m----> 1\u001b[0m \u001b[43morigin_or\u001b[49m\u001b[38;5;241m.\u001b[39m_name\n",
      "\u001b[0;31mNameError\u001b[0m: name 'origin_or' is not defined"
     ]
    }
   ],
   "source": [
    "origin_or._name"
   ]
  },
  {
   "cell_type": "code",
   "execution_count": 22,
   "metadata": {
    "execution": {
     "iopub.execute_input": "2024-08-19T22:55:57.307974Z",
     "iopub.status.busy": "2024-08-19T22:55:57.307704Z",
     "iopub.status.idle": "2024-08-19T22:55:57.321338Z",
     "shell.execute_reply": "2024-08-19T22:55:57.320745Z"
    },
    "tags": []
   },
   "outputs": [
    {
     "ename": "NameError",
     "evalue": "name 'origin_or' is not defined",
     "output_type": "error",
     "traceback": [
      "\u001b[0;31m---------------------------------------------------------------------------\u001b[0m",
      "\u001b[0;31mNameError\u001b[0m                                 Traceback (most recent call last)",
      "Cell \u001b[0;32mIn[22], line 1\u001b[0m\n\u001b[0;32m----> 1\u001b[0m \u001b[43morigin_or\u001b[49m\u001b[38;5;241m.\u001b[39m\u001b[38;5;18m__name__\u001b[39m\n",
      "\u001b[0;31mNameError\u001b[0m: name 'origin_or' is not defined"
     ]
    }
   ],
   "source": [
    "origin_or.__name__"
   ]
  },
  {
   "cell_type": "code",
   "execution_count": 23,
   "metadata": {
    "execution": {
     "iopub.execute_input": "2024-08-19T22:55:57.324433Z",
     "iopub.status.busy": "2024-08-19T22:55:57.324183Z",
     "iopub.status.idle": "2024-08-19T22:55:57.337788Z",
     "shell.execute_reply": "2024-08-19T22:55:57.337156Z"
    }
   },
   "outputs": [
    {
     "ename": "NameError",
     "evalue": "name 'origin_or' is not defined",
     "output_type": "error",
     "traceback": [
      "\u001b[0;31m---------------------------------------------------------------------------\u001b[0m",
      "\u001b[0;31mNameError\u001b[0m                                 Traceback (most recent call last)",
      "Cell \u001b[0;32mIn[23], line 1\u001b[0m\n\u001b[0;32m----> 1\u001b[0m \u001b[43morigin_or\u001b[49m\u001b[38;5;241m.\u001b[39m\u001b[38;5;18m__qualname__\u001b[39m\n",
      "\u001b[0;31mNameError\u001b[0m: name 'origin_or' is not defined"
     ]
    }
   ],
   "source": [
    "origin_or.__qualname__"
   ]
  },
  {
   "cell_type": "markdown",
   "metadata": {},
   "source": [
    "## Optional"
   ]
  },
  {
   "cell_type": "markdown",
   "metadata": {},
   "source": [
    "### typing.Optional (Generic Alias)"
   ]
  },
  {
   "cell_type": "code",
   "execution_count": 24,
   "metadata": {
    "execution": {
     "iopub.execute_input": "2024-08-19T22:55:57.341030Z",
     "iopub.status.busy": "2024-08-19T22:55:57.340774Z",
     "iopub.status.idle": "2024-08-19T22:55:57.345039Z",
     "shell.execute_reply": "2024-08-19T22:55:57.344470Z"
    }
   },
   "outputs": [
    {
     "data": {
      "text/plain": [
       "'typing.Optional[int]'"
      ]
     },
     "execution_count": 24,
     "metadata": {},
     "output_type": "execute_result"
    }
   ],
   "source": [
    "tp_optional = typing.Optional[int]\n",
    "repr(tp_optional)"
   ]
  },
  {
   "cell_type": "code",
   "execution_count": 25,
   "metadata": {
    "execution": {
     "iopub.execute_input": "2024-08-19T22:55:57.347905Z",
     "iopub.status.busy": "2024-08-19T22:55:57.347648Z",
     "iopub.status.idle": "2024-08-19T22:55:57.351679Z",
     "shell.execute_reply": "2024-08-19T22:55:57.350971Z"
    }
   },
   "outputs": [
    {
     "data": {
      "text/plain": [
       "typing._UnionGenericAlias"
      ]
     },
     "execution_count": 25,
     "metadata": {},
     "output_type": "execute_result"
    }
   ],
   "source": [
    "type(tp_optional)"
   ]
  },
  {
   "cell_type": "code",
   "execution_count": 26,
   "metadata": {
    "execution": {
     "iopub.execute_input": "2024-08-19T22:55:57.354534Z",
     "iopub.status.busy": "2024-08-19T22:55:57.354306Z",
     "iopub.status.idle": "2024-08-19T22:55:57.358086Z",
     "shell.execute_reply": "2024-08-19T22:55:57.357607Z"
    }
   },
   "outputs": [
    {
     "data": {
      "text/plain": [
       "(typing._UnionGenericAlias,\n",
       " typing._GenericAlias,\n",
       " typing._BaseGenericAlias,\n",
       " typing._Final,\n",
       " object)"
      ]
     },
     "execution_count": 26,
     "metadata": {},
     "output_type": "execute_result"
    }
   ],
   "source": [
    "type(tp_optional).__mro__"
   ]
  },
  {
   "cell_type": "code",
   "execution_count": 27,
   "metadata": {
    "execution": {
     "iopub.execute_input": "2024-08-19T22:55:57.360667Z",
     "iopub.status.busy": "2024-08-19T22:55:57.360465Z",
     "iopub.status.idle": "2024-08-19T22:55:57.362867Z",
     "shell.execute_reply": "2024-08-19T22:55:57.362384Z"
    },
    "tags": []
   },
   "outputs": [],
   "source": [
    "tp_optional._name"
   ]
  },
  {
   "cell_type": "code",
   "execution_count": 28,
   "metadata": {
    "execution": {
     "iopub.execute_input": "2024-08-19T22:55:57.365300Z",
     "iopub.status.busy": "2024-08-19T22:55:57.365100Z",
     "iopub.status.idle": "2024-08-19T22:55:57.381048Z",
     "shell.execute_reply": "2024-08-19T22:55:57.380451Z"
    },
    "tags": []
   },
   "outputs": [
    {
     "ename": "AttributeError",
     "evalue": "__name__",
     "output_type": "error",
     "traceback": [
      "\u001b[0;31m---------------------------------------------------------------------------\u001b[0m",
      "\u001b[0;31mAttributeError\u001b[0m                            Traceback (most recent call last)",
      "Cell \u001b[0;32mIn[28], line 1\u001b[0m\n\u001b[0;32m----> 1\u001b[0m \u001b[43mtp_optional\u001b[49m\u001b[38;5;241;43m.\u001b[39;49m\u001b[38;5;18;43m__name__\u001b[39;49m\n",
      "File \u001b[0;32m~/.local/share/mise/installs/python/3.9/lib/python3.9/typing.py:711\u001b[0m, in \u001b[0;36m_BaseGenericAlias.__getattr__\u001b[0;34m(self, attr)\u001b[0m\n\u001b[1;32m    709\u001b[0m \u001b[38;5;28;01mif\u001b[39;00m \u001b[38;5;124m'\u001b[39m\u001b[38;5;124m__origin__\u001b[39m\u001b[38;5;124m'\u001b[39m \u001b[38;5;129;01min\u001b[39;00m \u001b[38;5;28mself\u001b[39m\u001b[38;5;241m.\u001b[39m\u001b[38;5;18m__dict__\u001b[39m \u001b[38;5;129;01mand\u001b[39;00m \u001b[38;5;129;01mnot\u001b[39;00m _is_dunder(attr):\n\u001b[1;32m    710\u001b[0m     \u001b[38;5;28;01mreturn\u001b[39;00m \u001b[38;5;28mgetattr\u001b[39m(\u001b[38;5;28mself\u001b[39m\u001b[38;5;241m.\u001b[39m__origin__, attr)\n\u001b[0;32m--> 711\u001b[0m \u001b[38;5;28;01mraise\u001b[39;00m \u001b[38;5;167;01mAttributeError\u001b[39;00m(attr)\n",
      "\u001b[0;31mAttributeError\u001b[0m: __name__"
     ]
    }
   ],
   "source": [
    "tp_optional.__name__"
   ]
  },
  {
   "cell_type": "code",
   "execution_count": 29,
   "metadata": {
    "execution": {
     "iopub.execute_input": "2024-08-19T22:55:57.383755Z",
     "iopub.status.busy": "2024-08-19T22:55:57.383542Z",
     "iopub.status.idle": "2024-08-19T22:55:57.400836Z",
     "shell.execute_reply": "2024-08-19T22:55:57.400195Z"
    }
   },
   "outputs": [
    {
     "ename": "AttributeError",
     "evalue": "__qualname__",
     "output_type": "error",
     "traceback": [
      "\u001b[0;31m---------------------------------------------------------------------------\u001b[0m",
      "\u001b[0;31mAttributeError\u001b[0m                            Traceback (most recent call last)",
      "Cell \u001b[0;32mIn[29], line 1\u001b[0m\n\u001b[0;32m----> 1\u001b[0m \u001b[43mtp_optional\u001b[49m\u001b[38;5;241;43m.\u001b[39;49m\u001b[38;5;18;43m__qualname__\u001b[39;49m\n",
      "File \u001b[0;32m~/.local/share/mise/installs/python/3.9/lib/python3.9/typing.py:711\u001b[0m, in \u001b[0;36m_BaseGenericAlias.__getattr__\u001b[0;34m(self, attr)\u001b[0m\n\u001b[1;32m    709\u001b[0m \u001b[38;5;28;01mif\u001b[39;00m \u001b[38;5;124m'\u001b[39m\u001b[38;5;124m__origin__\u001b[39m\u001b[38;5;124m'\u001b[39m \u001b[38;5;129;01min\u001b[39;00m \u001b[38;5;28mself\u001b[39m\u001b[38;5;241m.\u001b[39m\u001b[38;5;18m__dict__\u001b[39m \u001b[38;5;129;01mand\u001b[39;00m \u001b[38;5;129;01mnot\u001b[39;00m _is_dunder(attr):\n\u001b[1;32m    710\u001b[0m     \u001b[38;5;28;01mreturn\u001b[39;00m \u001b[38;5;28mgetattr\u001b[39m(\u001b[38;5;28mself\u001b[39m\u001b[38;5;241m.\u001b[39m__origin__, attr)\n\u001b[0;32m--> 711\u001b[0m \u001b[38;5;28;01mraise\u001b[39;00m \u001b[38;5;167;01mAttributeError\u001b[39;00m(attr)\n",
      "\u001b[0;31mAttributeError\u001b[0m: __qualname__"
     ]
    }
   ],
   "source": [
    "tp_optional.__qualname__"
   ]
  },
  {
   "cell_type": "code",
   "execution_count": 30,
   "metadata": {
    "execution": {
     "iopub.execute_input": "2024-08-19T22:55:57.404072Z",
     "iopub.status.busy": "2024-08-19T22:55:57.403822Z",
     "iopub.status.idle": "2024-08-19T22:55:57.407580Z",
     "shell.execute_reply": "2024-08-19T22:55:57.407071Z"
    }
   },
   "outputs": [
    {
     "data": {
      "text/plain": [
       "typing.Union"
      ]
     },
     "execution_count": 30,
     "metadata": {},
     "output_type": "execute_result"
    }
   ],
   "source": [
    "origin_optional = get_origin(tp_optional)\n",
    "origin_optional"
   ]
  },
  {
   "cell_type": "code",
   "execution_count": 31,
   "metadata": {
    "execution": {
     "iopub.execute_input": "2024-08-19T22:55:57.410495Z",
     "iopub.status.busy": "2024-08-19T22:55:57.410270Z",
     "iopub.status.idle": "2024-08-19T22:55:57.414350Z",
     "shell.execute_reply": "2024-08-19T22:55:57.413603Z"
    }
   },
   "outputs": [
    {
     "data": {
      "text/plain": [
       "typing._SpecialForm"
      ]
     },
     "execution_count": 31,
     "metadata": {},
     "output_type": "execute_result"
    }
   ],
   "source": [
    "type(origin_optional)"
   ]
  },
  {
   "cell_type": "code",
   "execution_count": 32,
   "metadata": {
    "execution": {
     "iopub.execute_input": "2024-08-19T22:55:57.417360Z",
     "iopub.status.busy": "2024-08-19T22:55:57.417134Z",
     "iopub.status.idle": "2024-08-19T22:55:57.421070Z",
     "shell.execute_reply": "2024-08-19T22:55:57.420589Z"
    }
   },
   "outputs": [
    {
     "data": {
      "text/plain": [
       "(typing._SpecialForm, typing._Final, object)"
      ]
     },
     "execution_count": 32,
     "metadata": {},
     "output_type": "execute_result"
    }
   ],
   "source": [
    "type(origin_optional).__mro__"
   ]
  },
  {
   "cell_type": "code",
   "execution_count": 33,
   "metadata": {
    "execution": {
     "iopub.execute_input": "2024-08-19T22:55:57.423667Z",
     "iopub.status.busy": "2024-08-19T22:55:57.423463Z",
     "iopub.status.idle": "2024-08-19T22:55:57.426797Z",
     "shell.execute_reply": "2024-08-19T22:55:57.426361Z"
    },
    "tags": []
   },
   "outputs": [
    {
     "data": {
      "text/plain": [
       "'Union'"
      ]
     },
     "execution_count": 33,
     "metadata": {},
     "output_type": "execute_result"
    }
   ],
   "source": [
    "origin_optional._name"
   ]
  },
  {
   "cell_type": "code",
   "execution_count": 34,
   "metadata": {
    "execution": {
     "iopub.execute_input": "2024-08-19T22:55:57.429215Z",
     "iopub.status.busy": "2024-08-19T22:55:57.429016Z",
     "iopub.status.idle": "2024-08-19T22:55:57.440866Z",
     "shell.execute_reply": "2024-08-19T22:55:57.440391Z"
    },
    "tags": []
   },
   "outputs": [
    {
     "ename": "AttributeError",
     "evalue": "'_SpecialForm' object has no attribute '__name__'",
     "output_type": "error",
     "traceback": [
      "\u001b[0;31m---------------------------------------------------------------------------\u001b[0m",
      "\u001b[0;31mAttributeError\u001b[0m                            Traceback (most recent call last)",
      "Cell \u001b[0;32mIn[34], line 1\u001b[0m\n\u001b[0;32m----> 1\u001b[0m \u001b[43morigin_optional\u001b[49m\u001b[38;5;241;43m.\u001b[39;49m\u001b[38;5;18;43m__name__\u001b[39;49m\n",
      "\u001b[0;31mAttributeError\u001b[0m: '_SpecialForm' object has no attribute '__name__'"
     ]
    }
   ],
   "source": [
    "origin_optional.__name__"
   ]
  },
  {
   "cell_type": "code",
   "execution_count": 35,
   "metadata": {
    "execution": {
     "iopub.execute_input": "2024-08-19T22:55:57.443422Z",
     "iopub.status.busy": "2024-08-19T22:55:57.443207Z",
     "iopub.status.idle": "2024-08-19T22:55:57.455086Z",
     "shell.execute_reply": "2024-08-19T22:55:57.454583Z"
    }
   },
   "outputs": [
    {
     "ename": "AttributeError",
     "evalue": "'_SpecialForm' object has no attribute '__qualname__'",
     "output_type": "error",
     "traceback": [
      "\u001b[0;31m---------------------------------------------------------------------------\u001b[0m",
      "\u001b[0;31mAttributeError\u001b[0m                            Traceback (most recent call last)",
      "Cell \u001b[0;32mIn[35], line 1\u001b[0m\n\u001b[0;32m----> 1\u001b[0m \u001b[43morigin_optional\u001b[49m\u001b[38;5;241;43m.\u001b[39;49m\u001b[38;5;18;43m__qualname__\u001b[39;49m\n",
      "\u001b[0;31mAttributeError\u001b[0m: '_SpecialForm' object has no attribute '__qualname__'"
     ]
    }
   ],
   "source": [
    "origin_optional.__qualname__"
   ]
  },
  {
   "cell_type": "markdown",
   "metadata": {},
   "source": [
    "### | (bitwise or) Operator"
   ]
  },
  {
   "cell_type": "code",
   "execution_count": 36,
   "metadata": {
    "execution": {
     "iopub.execute_input": "2024-08-19T22:55:57.457898Z",
     "iopub.status.busy": "2024-08-19T22:55:57.457661Z",
     "iopub.status.idle": "2024-08-19T22:55:57.472443Z",
     "shell.execute_reply": "2024-08-19T22:55:57.471782Z"
    },
    "tags": []
   },
   "outputs": [
    {
     "ename": "TypeError",
     "evalue": "unsupported operand type(s) for |: 'type' and 'NoneType'",
     "output_type": "error",
     "traceback": [
      "\u001b[0;31m---------------------------------------------------------------------------\u001b[0m",
      "\u001b[0;31mTypeError\u001b[0m                                 Traceback (most recent call last)",
      "Cell \u001b[0;32mIn[36], line 1\u001b[0m\n\u001b[0;32m----> 1\u001b[0m tp_or_none \u001b[38;5;241m=\u001b[39m \u001b[38;5;28;43mint\u001b[39;49m\u001b[43m \u001b[49m\u001b[38;5;241;43m|\u001b[39;49m\u001b[43m \u001b[49m\u001b[38;5;28;43;01mNone\u001b[39;49;00m\n\u001b[1;32m      2\u001b[0m \u001b[38;5;28mrepr\u001b[39m(tp_or_none)\n",
      "\u001b[0;31mTypeError\u001b[0m: unsupported operand type(s) for |: 'type' and 'NoneType'"
     ]
    }
   ],
   "source": [
    "tp_or_none = int | None\n",
    "repr(tp_or_none)"
   ]
  },
  {
   "cell_type": "code",
   "execution_count": 37,
   "metadata": {
    "execution": {
     "iopub.execute_input": "2024-08-19T22:55:57.475548Z",
     "iopub.status.busy": "2024-08-19T22:55:57.475292Z",
     "iopub.status.idle": "2024-08-19T22:55:57.489048Z",
     "shell.execute_reply": "2024-08-19T22:55:57.488449Z"
    },
    "tags": []
   },
   "outputs": [
    {
     "ename": "NameError",
     "evalue": "name 'tp_or_none' is not defined",
     "output_type": "error",
     "traceback": [
      "\u001b[0;31m---------------------------------------------------------------------------\u001b[0m",
      "\u001b[0;31mNameError\u001b[0m                                 Traceback (most recent call last)",
      "Cell \u001b[0;32mIn[37], line 1\u001b[0m\n\u001b[0;32m----> 1\u001b[0m \u001b[38;5;28mtype\u001b[39m(\u001b[43mtp_or_none\u001b[49m)\n",
      "\u001b[0;31mNameError\u001b[0m: name 'tp_or_none' is not defined"
     ]
    }
   ],
   "source": [
    "type(tp_or_none)"
   ]
  },
  {
   "cell_type": "code",
   "execution_count": 38,
   "metadata": {
    "execution": {
     "iopub.execute_input": "2024-08-19T22:55:57.492026Z",
     "iopub.status.busy": "2024-08-19T22:55:57.491779Z",
     "iopub.status.idle": "2024-08-19T22:55:57.505627Z",
     "shell.execute_reply": "2024-08-19T22:55:57.505099Z"
    },
    "tags": []
   },
   "outputs": [
    {
     "ename": "NameError",
     "evalue": "name 'tp_or_none' is not defined",
     "output_type": "error",
     "traceback": [
      "\u001b[0;31m---------------------------------------------------------------------------\u001b[0m",
      "\u001b[0;31mNameError\u001b[0m                                 Traceback (most recent call last)",
      "Cell \u001b[0;32mIn[38], line 1\u001b[0m\n\u001b[0;32m----> 1\u001b[0m \u001b[38;5;28mtype\u001b[39m(\u001b[43mtp_or_none\u001b[49m)\u001b[38;5;241m.\u001b[39m\u001b[38;5;18m__mro__\u001b[39m\n",
      "\u001b[0;31mNameError\u001b[0m: name 'tp_or_none' is not defined"
     ]
    }
   ],
   "source": [
    "type(tp_or_none).__mro__"
   ]
  },
  {
   "cell_type": "code",
   "execution_count": 39,
   "metadata": {
    "execution": {
     "iopub.execute_input": "2024-08-19T22:55:57.508821Z",
     "iopub.status.busy": "2024-08-19T22:55:57.508352Z",
     "iopub.status.idle": "2024-08-19T22:55:57.522195Z",
     "shell.execute_reply": "2024-08-19T22:55:57.521556Z"
    },
    "tags": []
   },
   "outputs": [
    {
     "ename": "NameError",
     "evalue": "name 'tp_or_none' is not defined",
     "output_type": "error",
     "traceback": [
      "\u001b[0;31m---------------------------------------------------------------------------\u001b[0m",
      "\u001b[0;31mNameError\u001b[0m                                 Traceback (most recent call last)",
      "Cell \u001b[0;32mIn[39], line 1\u001b[0m\n\u001b[0;32m----> 1\u001b[0m \u001b[43mtp_or_none\u001b[49m\u001b[38;5;241m.\u001b[39m_name\n",
      "\u001b[0;31mNameError\u001b[0m: name 'tp_or_none' is not defined"
     ]
    }
   ],
   "source": [
    "tp_or_none._name"
   ]
  },
  {
   "cell_type": "code",
   "execution_count": 40,
   "metadata": {
    "execution": {
     "iopub.execute_input": "2024-08-19T22:55:57.525365Z",
     "iopub.status.busy": "2024-08-19T22:55:57.525088Z",
     "iopub.status.idle": "2024-08-19T22:55:57.539154Z",
     "shell.execute_reply": "2024-08-19T22:55:57.538540Z"
    }
   },
   "outputs": [
    {
     "ename": "NameError",
     "evalue": "name 'tp_or_none' is not defined",
     "output_type": "error",
     "traceback": [
      "\u001b[0;31m---------------------------------------------------------------------------\u001b[0m",
      "\u001b[0;31mNameError\u001b[0m                                 Traceback (most recent call last)",
      "Cell \u001b[0;32mIn[40], line 1\u001b[0m\n\u001b[0;32m----> 1\u001b[0m \u001b[43mtp_or_none\u001b[49m\u001b[38;5;241m.\u001b[39m\u001b[38;5;18m__name__\u001b[39m\n",
      "\u001b[0;31mNameError\u001b[0m: name 'tp_or_none' is not defined"
     ]
    }
   ],
   "source": [
    "tp_or_none.__name__"
   ]
  },
  {
   "cell_type": "code",
   "execution_count": 41,
   "metadata": {
    "execution": {
     "iopub.execute_input": "2024-08-19T22:55:57.542245Z",
     "iopub.status.busy": "2024-08-19T22:55:57.541975Z",
     "iopub.status.idle": "2024-08-19T22:55:57.555753Z",
     "shell.execute_reply": "2024-08-19T22:55:57.555193Z"
    },
    "tags": []
   },
   "outputs": [
    {
     "ename": "NameError",
     "evalue": "name 'tp_or_none' is not defined",
     "output_type": "error",
     "traceback": [
      "\u001b[0;31m---------------------------------------------------------------------------\u001b[0m",
      "\u001b[0;31mNameError\u001b[0m                                 Traceback (most recent call last)",
      "Cell \u001b[0;32mIn[41], line 1\u001b[0m\n\u001b[0;32m----> 1\u001b[0m \u001b[43mtp_or_none\u001b[49m\u001b[38;5;241m.\u001b[39m\u001b[38;5;18m__qualname__\u001b[39m\n",
      "\u001b[0;31mNameError\u001b[0m: name 'tp_or_none' is not defined"
     ]
    }
   ],
   "source": [
    "tp_or_none.__qualname__"
   ]
  },
  {
   "cell_type": "code",
   "execution_count": 42,
   "metadata": {
    "execution": {
     "iopub.execute_input": "2024-08-19T22:55:57.558864Z",
     "iopub.status.busy": "2024-08-19T22:55:57.558595Z",
     "iopub.status.idle": "2024-08-19T22:55:57.572399Z",
     "shell.execute_reply": "2024-08-19T22:55:57.571835Z"
    },
    "tags": []
   },
   "outputs": [
    {
     "ename": "NameError",
     "evalue": "name 'tp_or_none' is not defined",
     "output_type": "error",
     "traceback": [
      "\u001b[0;31m---------------------------------------------------------------------------\u001b[0m",
      "\u001b[0;31mNameError\u001b[0m                                 Traceback (most recent call last)",
      "Cell \u001b[0;32mIn[42], line 1\u001b[0m\n\u001b[0;32m----> 1\u001b[0m origin_or_none \u001b[38;5;241m=\u001b[39m get_origin(\u001b[43mtp_or_none\u001b[49m)\n\u001b[1;32m      2\u001b[0m origin_or_none\n",
      "\u001b[0;31mNameError\u001b[0m: name 'tp_or_none' is not defined"
     ]
    }
   ],
   "source": [
    "origin_or_none = get_origin(tp_or_none)\n",
    "origin_or_none"
   ]
  },
  {
   "cell_type": "code",
   "execution_count": 43,
   "metadata": {
    "execution": {
     "iopub.execute_input": "2024-08-19T22:55:57.575638Z",
     "iopub.status.busy": "2024-08-19T22:55:57.575367Z",
     "iopub.status.idle": "2024-08-19T22:55:57.589616Z",
     "shell.execute_reply": "2024-08-19T22:55:57.588909Z"
    },
    "tags": []
   },
   "outputs": [
    {
     "ename": "NameError",
     "evalue": "name 'origin_or_none' is not defined",
     "output_type": "error",
     "traceback": [
      "\u001b[0;31m---------------------------------------------------------------------------\u001b[0m",
      "\u001b[0;31mNameError\u001b[0m                                 Traceback (most recent call last)",
      "Cell \u001b[0;32mIn[43], line 1\u001b[0m\n\u001b[0;32m----> 1\u001b[0m \u001b[38;5;28mtype\u001b[39m(\u001b[43morigin_or_none\u001b[49m)\n",
      "\u001b[0;31mNameError\u001b[0m: name 'origin_or_none' is not defined"
     ]
    }
   ],
   "source": [
    "type(origin_or_none)"
   ]
  },
  {
   "cell_type": "code",
   "execution_count": 44,
   "metadata": {
    "execution": {
     "iopub.execute_input": "2024-08-19T22:55:57.592774Z",
     "iopub.status.busy": "2024-08-19T22:55:57.592500Z",
     "iopub.status.idle": "2024-08-19T22:55:57.607381Z",
     "shell.execute_reply": "2024-08-19T22:55:57.606775Z"
    },
    "tags": []
   },
   "outputs": [
    {
     "ename": "NameError",
     "evalue": "name 'origin_or_none' is not defined",
     "output_type": "error",
     "traceback": [
      "\u001b[0;31m---------------------------------------------------------------------------\u001b[0m",
      "\u001b[0;31mNameError\u001b[0m                                 Traceback (most recent call last)",
      "Cell \u001b[0;32mIn[44], line 1\u001b[0m\n\u001b[0;32m----> 1\u001b[0m \u001b[38;5;28mtype\u001b[39m(\u001b[43morigin_or_none\u001b[49m)\u001b[38;5;241m.\u001b[39m\u001b[38;5;18m__mro__\u001b[39m\n",
      "\u001b[0;31mNameError\u001b[0m: name 'origin_or_none' is not defined"
     ]
    }
   ],
   "source": [
    "type(origin_or_none).__mro__"
   ]
  },
  {
   "cell_type": "code",
   "execution_count": 45,
   "metadata": {
    "execution": {
     "iopub.execute_input": "2024-08-19T22:55:57.610571Z",
     "iopub.status.busy": "2024-08-19T22:55:57.610324Z",
     "iopub.status.idle": "2024-08-19T22:55:57.624045Z",
     "shell.execute_reply": "2024-08-19T22:55:57.623413Z"
    },
    "tags": []
   },
   "outputs": [
    {
     "ename": "NameError",
     "evalue": "name 'origin_or_none' is not defined",
     "output_type": "error",
     "traceback": [
      "\u001b[0;31m---------------------------------------------------------------------------\u001b[0m",
      "\u001b[0;31mNameError\u001b[0m                                 Traceback (most recent call last)",
      "Cell \u001b[0;32mIn[45], line 1\u001b[0m\n\u001b[0;32m----> 1\u001b[0m \u001b[43morigin_or_none\u001b[49m\u001b[38;5;241m.\u001b[39m_name\n",
      "\u001b[0;31mNameError\u001b[0m: name 'origin_or_none' is not defined"
     ]
    }
   ],
   "source": [
    "origin_or_none._name"
   ]
  },
  {
   "cell_type": "code",
   "execution_count": 46,
   "metadata": {
    "execution": {
     "iopub.execute_input": "2024-08-19T22:55:57.627168Z",
     "iopub.status.busy": "2024-08-19T22:55:57.626933Z",
     "iopub.status.idle": "2024-08-19T22:55:57.640448Z",
     "shell.execute_reply": "2024-08-19T22:55:57.639855Z"
    },
    "tags": []
   },
   "outputs": [
    {
     "ename": "NameError",
     "evalue": "name 'origin_or_none' is not defined",
     "output_type": "error",
     "traceback": [
      "\u001b[0;31m---------------------------------------------------------------------------\u001b[0m",
      "\u001b[0;31mNameError\u001b[0m                                 Traceback (most recent call last)",
      "Cell \u001b[0;32mIn[46], line 1\u001b[0m\n\u001b[0;32m----> 1\u001b[0m \u001b[43morigin_or_none\u001b[49m\u001b[38;5;241m.\u001b[39m\u001b[38;5;18m__name__\u001b[39m\n",
      "\u001b[0;31mNameError\u001b[0m: name 'origin_or_none' is not defined"
     ]
    }
   ],
   "source": [
    "origin_or_none.__name__"
   ]
  },
  {
   "cell_type": "code",
   "execution_count": 47,
   "metadata": {
    "execution": {
     "iopub.execute_input": "2024-08-19T22:55:57.643512Z",
     "iopub.status.busy": "2024-08-19T22:55:57.643274Z",
     "iopub.status.idle": "2024-08-19T22:55:57.656942Z",
     "shell.execute_reply": "2024-08-19T22:55:57.656242Z"
    }
   },
   "outputs": [
    {
     "ename": "NameError",
     "evalue": "name 'origin_or_none' is not defined",
     "output_type": "error",
     "traceback": [
      "\u001b[0;31m---------------------------------------------------------------------------\u001b[0m",
      "\u001b[0;31mNameError\u001b[0m                                 Traceback (most recent call last)",
      "Cell \u001b[0;32mIn[47], line 1\u001b[0m\n\u001b[0;32m----> 1\u001b[0m \u001b[43morigin_or_none\u001b[49m\u001b[38;5;241m.\u001b[39m\u001b[38;5;18m__qualname__\u001b[39m\n",
      "\u001b[0;31mNameError\u001b[0m: name 'origin_or_none' is not defined"
     ]
    }
   ],
   "source": [
    "origin_or_none.__qualname__"
   ]
  },
  {
   "cell_type": "markdown",
   "metadata": {},
   "source": [
    "## Standard Collections"
   ]
  },
  {
   "cell_type": "markdown",
   "metadata": {},
   "source": [
    "### typing Module Aliases"
   ]
  },
  {
   "cell_type": "code",
   "execution_count": 48,
   "metadata": {
    "execution": {
     "iopub.execute_input": "2024-08-19T22:55:57.660353Z",
     "iopub.status.busy": "2024-08-19T22:55:57.660097Z",
     "iopub.status.idle": "2024-08-19T22:55:57.664257Z",
     "shell.execute_reply": "2024-08-19T22:55:57.663699Z"
    }
   },
   "outputs": [
    {
     "data": {
      "text/plain": [
       "'typing.List[int]'"
      ]
     },
     "execution_count": 48,
     "metadata": {},
     "output_type": "execute_result"
    }
   ],
   "source": [
    "tp_List = typing.List[int]\n",
    "repr(tp_List)"
   ]
  },
  {
   "cell_type": "code",
   "execution_count": 49,
   "metadata": {
    "execution": {
     "iopub.execute_input": "2024-08-19T22:55:57.667156Z",
     "iopub.status.busy": "2024-08-19T22:55:57.666914Z",
     "iopub.status.idle": "2024-08-19T22:55:57.671008Z",
     "shell.execute_reply": "2024-08-19T22:55:57.670372Z"
    }
   },
   "outputs": [
    {
     "data": {
      "text/plain": [
       "typing._GenericAlias"
      ]
     },
     "execution_count": 49,
     "metadata": {},
     "output_type": "execute_result"
    }
   ],
   "source": [
    "type(tp_List)"
   ]
  },
  {
   "cell_type": "code",
   "execution_count": 50,
   "metadata": {
    "execution": {
     "iopub.execute_input": "2024-08-19T22:55:57.673761Z",
     "iopub.status.busy": "2024-08-19T22:55:57.673524Z",
     "iopub.status.idle": "2024-08-19T22:55:57.677558Z",
     "shell.execute_reply": "2024-08-19T22:55:57.677047Z"
    }
   },
   "outputs": [
    {
     "data": {
      "text/plain": [
       "(typing._GenericAlias, typing._BaseGenericAlias, typing._Final, object)"
      ]
     },
     "execution_count": 50,
     "metadata": {},
     "output_type": "execute_result"
    }
   ],
   "source": [
    "type(tp_List).__mro__"
   ]
  },
  {
   "cell_type": "code",
   "execution_count": 51,
   "metadata": {
    "execution": {
     "iopub.execute_input": "2024-08-19T22:55:57.680226Z",
     "iopub.status.busy": "2024-08-19T22:55:57.679997Z",
     "iopub.status.idle": "2024-08-19T22:55:57.683751Z",
     "shell.execute_reply": "2024-08-19T22:55:57.683200Z"
    }
   },
   "outputs": [
    {
     "data": {
      "text/plain": [
       "'List'"
      ]
     },
     "execution_count": 51,
     "metadata": {},
     "output_type": "execute_result"
    }
   ],
   "source": [
    "tp_List._name"
   ]
  },
  {
   "cell_type": "code",
   "execution_count": 52,
   "metadata": {
    "execution": {
     "iopub.execute_input": "2024-08-19T22:55:57.686916Z",
     "iopub.status.busy": "2024-08-19T22:55:57.686658Z",
     "iopub.status.idle": "2024-08-19T22:55:57.706072Z",
     "shell.execute_reply": "2024-08-19T22:55:57.705377Z"
    },
    "tags": []
   },
   "outputs": [
    {
     "ename": "AttributeError",
     "evalue": "__name__",
     "output_type": "error",
     "traceback": [
      "\u001b[0;31m---------------------------------------------------------------------------\u001b[0m",
      "\u001b[0;31mAttributeError\u001b[0m                            Traceback (most recent call last)",
      "Cell \u001b[0;32mIn[52], line 1\u001b[0m\n\u001b[0;32m----> 1\u001b[0m \u001b[43mtp_List\u001b[49m\u001b[38;5;241;43m.\u001b[39;49m\u001b[38;5;18;43m__name__\u001b[39;49m\n",
      "File \u001b[0;32m~/.local/share/mise/installs/python/3.9/lib/python3.9/typing.py:711\u001b[0m, in \u001b[0;36m_BaseGenericAlias.__getattr__\u001b[0;34m(self, attr)\u001b[0m\n\u001b[1;32m    709\u001b[0m \u001b[38;5;28;01mif\u001b[39;00m \u001b[38;5;124m'\u001b[39m\u001b[38;5;124m__origin__\u001b[39m\u001b[38;5;124m'\u001b[39m \u001b[38;5;129;01min\u001b[39;00m \u001b[38;5;28mself\u001b[39m\u001b[38;5;241m.\u001b[39m\u001b[38;5;18m__dict__\u001b[39m \u001b[38;5;129;01mand\u001b[39;00m \u001b[38;5;129;01mnot\u001b[39;00m _is_dunder(attr):\n\u001b[1;32m    710\u001b[0m     \u001b[38;5;28;01mreturn\u001b[39;00m \u001b[38;5;28mgetattr\u001b[39m(\u001b[38;5;28mself\u001b[39m\u001b[38;5;241m.\u001b[39m__origin__, attr)\n\u001b[0;32m--> 711\u001b[0m \u001b[38;5;28;01mraise\u001b[39;00m \u001b[38;5;167;01mAttributeError\u001b[39;00m(attr)\n",
      "\u001b[0;31mAttributeError\u001b[0m: __name__"
     ]
    }
   ],
   "source": [
    "tp_List.__name__"
   ]
  },
  {
   "cell_type": "code",
   "execution_count": 53,
   "metadata": {
    "execution": {
     "iopub.execute_input": "2024-08-19T22:55:57.709729Z",
     "iopub.status.busy": "2024-08-19T22:55:57.709443Z",
     "iopub.status.idle": "2024-08-19T22:55:57.728547Z",
     "shell.execute_reply": "2024-08-19T22:55:57.727918Z"
    }
   },
   "outputs": [
    {
     "ename": "AttributeError",
     "evalue": "__qualname__",
     "output_type": "error",
     "traceback": [
      "\u001b[0;31m---------------------------------------------------------------------------\u001b[0m",
      "\u001b[0;31mAttributeError\u001b[0m                            Traceback (most recent call last)",
      "Cell \u001b[0;32mIn[53], line 1\u001b[0m\n\u001b[0;32m----> 1\u001b[0m \u001b[43mtp_List\u001b[49m\u001b[38;5;241;43m.\u001b[39;49m\u001b[38;5;18;43m__qualname__\u001b[39;49m\n",
      "File \u001b[0;32m~/.local/share/mise/installs/python/3.9/lib/python3.9/typing.py:711\u001b[0m, in \u001b[0;36m_BaseGenericAlias.__getattr__\u001b[0;34m(self, attr)\u001b[0m\n\u001b[1;32m    709\u001b[0m \u001b[38;5;28;01mif\u001b[39;00m \u001b[38;5;124m'\u001b[39m\u001b[38;5;124m__origin__\u001b[39m\u001b[38;5;124m'\u001b[39m \u001b[38;5;129;01min\u001b[39;00m \u001b[38;5;28mself\u001b[39m\u001b[38;5;241m.\u001b[39m\u001b[38;5;18m__dict__\u001b[39m \u001b[38;5;129;01mand\u001b[39;00m \u001b[38;5;129;01mnot\u001b[39;00m _is_dunder(attr):\n\u001b[1;32m    710\u001b[0m     \u001b[38;5;28;01mreturn\u001b[39;00m \u001b[38;5;28mgetattr\u001b[39m(\u001b[38;5;28mself\u001b[39m\u001b[38;5;241m.\u001b[39m__origin__, attr)\n\u001b[0;32m--> 711\u001b[0m \u001b[38;5;28;01mraise\u001b[39;00m \u001b[38;5;167;01mAttributeError\u001b[39;00m(attr)\n",
      "\u001b[0;31mAttributeError\u001b[0m: __qualname__"
     ]
    }
   ],
   "source": [
    "tp_List.__qualname__"
   ]
  },
  {
   "cell_type": "code",
   "execution_count": 54,
   "metadata": {
    "execution": {
     "iopub.execute_input": "2024-08-19T22:55:57.731543Z",
     "iopub.status.busy": "2024-08-19T22:55:57.731295Z",
     "iopub.status.idle": "2024-08-19T22:55:57.735421Z",
     "shell.execute_reply": "2024-08-19T22:55:57.734865Z"
    }
   },
   "outputs": [
    {
     "data": {
      "text/plain": [
       "list"
      ]
     },
     "execution_count": 54,
     "metadata": {},
     "output_type": "execute_result"
    }
   ],
   "source": [
    "origin_List = get_origin(tp_List)\n",
    "origin_List"
   ]
  },
  {
   "cell_type": "code",
   "execution_count": 55,
   "metadata": {
    "execution": {
     "iopub.execute_input": "2024-08-19T22:55:57.738266Z",
     "iopub.status.busy": "2024-08-19T22:55:57.738026Z",
     "iopub.status.idle": "2024-08-19T22:55:57.741703Z",
     "shell.execute_reply": "2024-08-19T22:55:57.741042Z"
    }
   },
   "outputs": [
    {
     "data": {
      "text/plain": [
       "type"
      ]
     },
     "execution_count": 55,
     "metadata": {},
     "output_type": "execute_result"
    }
   ],
   "source": [
    "type(origin_List)"
   ]
  },
  {
   "cell_type": "code",
   "execution_count": 56,
   "metadata": {
    "execution": {
     "iopub.execute_input": "2024-08-19T22:55:57.744789Z",
     "iopub.status.busy": "2024-08-19T22:55:57.744424Z",
     "iopub.status.idle": "2024-08-19T22:55:57.748077Z",
     "shell.execute_reply": "2024-08-19T22:55:57.747555Z"
    }
   },
   "outputs": [
    {
     "data": {
      "text/plain": [
       "tuple"
      ]
     },
     "execution_count": 56,
     "metadata": {},
     "output_type": "execute_result"
    }
   ],
   "source": [
    "type(origin_List.__mro__)"
   ]
  },
  {
   "cell_type": "code",
   "execution_count": 57,
   "metadata": {
    "execution": {
     "iopub.execute_input": "2024-08-19T22:55:57.750894Z",
     "iopub.status.busy": "2024-08-19T22:55:57.750641Z",
     "iopub.status.idle": "2024-08-19T22:55:57.764245Z",
     "shell.execute_reply": "2024-08-19T22:55:57.763391Z"
    },
    "tags": []
   },
   "outputs": [
    {
     "ename": "AttributeError",
     "evalue": "type object 'list' has no attribute '_name'",
     "output_type": "error",
     "traceback": [
      "\u001b[0;31m---------------------------------------------------------------------------\u001b[0m",
      "\u001b[0;31mAttributeError\u001b[0m                            Traceback (most recent call last)",
      "Cell \u001b[0;32mIn[57], line 1\u001b[0m\n\u001b[0;32m----> 1\u001b[0m \u001b[43morigin_List\u001b[49m\u001b[38;5;241;43m.\u001b[39;49m\u001b[43m_name\u001b[49m\n",
      "\u001b[0;31mAttributeError\u001b[0m: type object 'list' has no attribute '_name'"
     ]
    }
   ],
   "source": [
    "origin_List._name"
   ]
  },
  {
   "cell_type": "code",
   "execution_count": 58,
   "metadata": {
    "execution": {
     "iopub.execute_input": "2024-08-19T22:55:57.767697Z",
     "iopub.status.busy": "2024-08-19T22:55:57.767418Z",
     "iopub.status.idle": "2024-08-19T22:55:57.771650Z",
     "shell.execute_reply": "2024-08-19T22:55:57.771008Z"
    },
    "tags": []
   },
   "outputs": [
    {
     "data": {
      "text/plain": [
       "'list'"
      ]
     },
     "execution_count": 58,
     "metadata": {},
     "output_type": "execute_result"
    }
   ],
   "source": [
    "origin_List.__name__"
   ]
  },
  {
   "cell_type": "code",
   "execution_count": 59,
   "metadata": {
    "execution": {
     "iopub.execute_input": "2024-08-19T22:55:57.774390Z",
     "iopub.status.busy": "2024-08-19T22:55:57.774153Z",
     "iopub.status.idle": "2024-08-19T22:55:57.777731Z",
     "shell.execute_reply": "2024-08-19T22:55:57.777229Z"
    }
   },
   "outputs": [
    {
     "data": {
      "text/plain": [
       "'list'"
      ]
     },
     "execution_count": 59,
     "metadata": {},
     "output_type": "execute_result"
    }
   ],
   "source": [
    "origin_List.__qualname__"
   ]
  },
  {
   "cell_type": "markdown",
   "metadata": {},
   "source": [
    "### Standard Collection Aliases"
   ]
  },
  {
   "cell_type": "code",
   "execution_count": 60,
   "metadata": {
    "execution": {
     "iopub.execute_input": "2024-08-19T22:55:57.780496Z",
     "iopub.status.busy": "2024-08-19T22:55:57.780272Z",
     "iopub.status.idle": "2024-08-19T22:55:57.783940Z",
     "shell.execute_reply": "2024-08-19T22:55:57.783435Z"
    },
    "tags": []
   },
   "outputs": [
    {
     "data": {
      "text/plain": [
       "list[int]"
      ]
     },
     "execution_count": 60,
     "metadata": {},
     "output_type": "execute_result"
    }
   ],
   "source": [
    "tp_list = list[int]\n",
    "tp_list"
   ]
  },
  {
   "cell_type": "code",
   "execution_count": 61,
   "metadata": {
    "execution": {
     "iopub.execute_input": "2024-08-19T22:55:57.787023Z",
     "iopub.status.busy": "2024-08-19T22:55:57.786779Z",
     "iopub.status.idle": "2024-08-19T22:55:57.790446Z",
     "shell.execute_reply": "2024-08-19T22:55:57.789960Z"
    },
    "tags": []
   },
   "outputs": [
    {
     "data": {
      "text/plain": [
       "types.GenericAlias"
      ]
     },
     "execution_count": 61,
     "metadata": {},
     "output_type": "execute_result"
    }
   ],
   "source": [
    "type(tp_list)"
   ]
  },
  {
   "cell_type": "code",
   "execution_count": 62,
   "metadata": {
    "execution": {
     "iopub.execute_input": "2024-08-19T22:55:57.793342Z",
     "iopub.status.busy": "2024-08-19T22:55:57.793114Z",
     "iopub.status.idle": "2024-08-19T22:55:57.796786Z",
     "shell.execute_reply": "2024-08-19T22:55:57.796291Z"
    },
    "tags": []
   },
   "outputs": [
    {
     "data": {
      "text/plain": [
       "(types.GenericAlias, object)"
      ]
     },
     "execution_count": 62,
     "metadata": {},
     "output_type": "execute_result"
    }
   ],
   "source": [
    "type(tp_list).__mro__"
   ]
  },
  {
   "cell_type": "code",
   "execution_count": 63,
   "metadata": {
    "execution": {
     "iopub.execute_input": "2024-08-19T22:55:57.799547Z",
     "iopub.status.busy": "2024-08-19T22:55:57.799290Z",
     "iopub.status.idle": "2024-08-19T22:55:57.814308Z",
     "shell.execute_reply": "2024-08-19T22:55:57.813538Z"
    },
    "tags": []
   },
   "outputs": [
    {
     "ename": "AttributeError",
     "evalue": "type object 'list' has no attribute '_name'",
     "output_type": "error",
     "traceback": [
      "\u001b[0;31m---------------------------------------------------------------------------\u001b[0m",
      "\u001b[0;31mAttributeError\u001b[0m                            Traceback (most recent call last)",
      "Cell \u001b[0;32mIn[63], line 1\u001b[0m\n\u001b[0;32m----> 1\u001b[0m \u001b[43mtp_list\u001b[49m\u001b[38;5;241;43m.\u001b[39;49m\u001b[43m_name\u001b[49m\n",
      "\u001b[0;31mAttributeError\u001b[0m: type object 'list' has no attribute '_name'"
     ]
    }
   ],
   "source": [
    "tp_list._name"
   ]
  },
  {
   "cell_type": "code",
   "execution_count": 64,
   "metadata": {
    "execution": {
     "iopub.execute_input": "2024-08-19T22:55:57.817362Z",
     "iopub.status.busy": "2024-08-19T22:55:57.817115Z",
     "iopub.status.idle": "2024-08-19T22:55:57.821214Z",
     "shell.execute_reply": "2024-08-19T22:55:57.820608Z"
    },
    "tags": []
   },
   "outputs": [
    {
     "data": {
      "text/plain": [
       "'list'"
      ]
     },
     "execution_count": 64,
     "metadata": {},
     "output_type": "execute_result"
    }
   ],
   "source": [
    "tp_list.__name__"
   ]
  },
  {
   "cell_type": "code",
   "execution_count": 65,
   "metadata": {
    "execution": {
     "iopub.execute_input": "2024-08-19T22:55:57.824108Z",
     "iopub.status.busy": "2024-08-19T22:55:57.823865Z",
     "iopub.status.idle": "2024-08-19T22:55:57.827716Z",
     "shell.execute_reply": "2024-08-19T22:55:57.827111Z"
    }
   },
   "outputs": [
    {
     "data": {
      "text/plain": [
       "'list'"
      ]
     },
     "execution_count": 65,
     "metadata": {},
     "output_type": "execute_result"
    }
   ],
   "source": [
    "tp_list.__qualname__"
   ]
  },
  {
   "cell_type": "code",
   "execution_count": 66,
   "metadata": {
    "execution": {
     "iopub.execute_input": "2024-08-19T22:55:57.830523Z",
     "iopub.status.busy": "2024-08-19T22:55:57.830286Z",
     "iopub.status.idle": "2024-08-19T22:55:57.833990Z",
     "shell.execute_reply": "2024-08-19T22:55:57.833368Z"
    },
    "tags": []
   },
   "outputs": [
    {
     "data": {
      "text/plain": [
       "list"
      ]
     },
     "execution_count": 66,
     "metadata": {},
     "output_type": "execute_result"
    }
   ],
   "source": [
    "origin_list = get_origin(tp_list)\n",
    "origin_list"
   ]
  },
  {
   "cell_type": "code",
   "execution_count": 67,
   "metadata": {
    "execution": {
     "iopub.execute_input": "2024-08-19T22:55:57.837158Z",
     "iopub.status.busy": "2024-08-19T22:55:57.836914Z",
     "iopub.status.idle": "2024-08-19T22:55:57.840925Z",
     "shell.execute_reply": "2024-08-19T22:55:57.840342Z"
    },
    "tags": []
   },
   "outputs": [
    {
     "data": {
      "text/plain": [
       "type"
      ]
     },
     "execution_count": 67,
     "metadata": {},
     "output_type": "execute_result"
    }
   ],
   "source": [
    "type(origin_list)"
   ]
  },
  {
   "cell_type": "code",
   "execution_count": 68,
   "metadata": {
    "execution": {
     "iopub.execute_input": "2024-08-19T22:55:57.843774Z",
     "iopub.status.busy": "2024-08-19T22:55:57.843547Z",
     "iopub.status.idle": "2024-08-19T22:55:57.847128Z",
     "shell.execute_reply": "2024-08-19T22:55:57.846619Z"
    },
    "tags": []
   },
   "outputs": [
    {
     "data": {
      "text/plain": [
       "(type, object)"
      ]
     },
     "execution_count": 68,
     "metadata": {},
     "output_type": "execute_result"
    }
   ],
   "source": [
    "type(origin_list).__mro__"
   ]
  },
  {
   "cell_type": "code",
   "execution_count": 69,
   "metadata": {
    "execution": {
     "iopub.execute_input": "2024-08-19T22:55:57.850048Z",
     "iopub.status.busy": "2024-08-19T22:55:57.849816Z",
     "iopub.status.idle": "2024-08-19T22:55:57.863092Z",
     "shell.execute_reply": "2024-08-19T22:55:57.862463Z"
    },
    "tags": []
   },
   "outputs": [
    {
     "ename": "AttributeError",
     "evalue": "type object 'list' has no attribute '_name'",
     "output_type": "error",
     "traceback": [
      "\u001b[0;31m---------------------------------------------------------------------------\u001b[0m",
      "\u001b[0;31mAttributeError\u001b[0m                            Traceback (most recent call last)",
      "Cell \u001b[0;32mIn[69], line 1\u001b[0m\n\u001b[0;32m----> 1\u001b[0m \u001b[43morigin_list\u001b[49m\u001b[38;5;241;43m.\u001b[39;49m\u001b[43m_name\u001b[49m\n",
      "\u001b[0;31mAttributeError\u001b[0m: type object 'list' has no attribute '_name'"
     ]
    }
   ],
   "source": [
    "origin_list._name"
   ]
  },
  {
   "cell_type": "code",
   "execution_count": 70,
   "metadata": {
    "execution": {
     "iopub.execute_input": "2024-08-19T22:55:57.866380Z",
     "iopub.status.busy": "2024-08-19T22:55:57.866131Z",
     "iopub.status.idle": "2024-08-19T22:55:57.870185Z",
     "shell.execute_reply": "2024-08-19T22:55:57.869607Z"
    }
   },
   "outputs": [
    {
     "data": {
      "text/plain": [
       "'list'"
      ]
     },
     "execution_count": 70,
     "metadata": {},
     "output_type": "execute_result"
    }
   ],
   "source": [
    "origin_list.__name__"
   ]
  },
  {
   "cell_type": "code",
   "execution_count": 71,
   "metadata": {
    "execution": {
     "iopub.execute_input": "2024-08-19T22:55:57.872941Z",
     "iopub.status.busy": "2024-08-19T22:55:57.872714Z",
     "iopub.status.idle": "2024-08-19T22:55:57.876394Z",
     "shell.execute_reply": "2024-08-19T22:55:57.875906Z"
    },
    "tags": []
   },
   "outputs": [
    {
     "data": {
      "text/plain": [
       "'list'"
      ]
     },
     "execution_count": 71,
     "metadata": {},
     "output_type": "execute_result"
    }
   ],
   "source": [
    "origin_list.__qualname__"
   ]
  },
  {
   "attachments": {},
   "cell_type": "markdown",
   "metadata": {},
   "source": [
    "## Custom Class"
   ]
  },
  {
   "cell_type": "code",
   "execution_count": 72,
   "metadata": {
    "execution": {
     "iopub.execute_input": "2024-08-19T22:55:57.879180Z",
     "iopub.status.busy": "2024-08-19T22:55:57.878960Z",
     "iopub.status.idle": "2024-08-19T22:55:57.881663Z",
     "shell.execute_reply": "2024-08-19T22:55:57.881086Z"
    }
   },
   "outputs": [],
   "source": [
    "class MyClass:\n",
    "    pass"
   ]
  },
  {
   "cell_type": "code",
   "execution_count": 73,
   "metadata": {
    "execution": {
     "iopub.execute_input": "2024-08-19T22:55:57.884160Z",
     "iopub.status.busy": "2024-08-19T22:55:57.883963Z",
     "iopub.status.idle": "2024-08-19T22:55:57.887222Z",
     "shell.execute_reply": "2024-08-19T22:55:57.886786Z"
    }
   },
   "outputs": [
    {
     "data": {
      "text/plain": [
       "type"
      ]
     },
     "execution_count": 73,
     "metadata": {},
     "output_type": "execute_result"
    }
   ],
   "source": [
    "type(MyClass)"
   ]
  },
  {
   "cell_type": "code",
   "execution_count": 74,
   "metadata": {
    "execution": {
     "iopub.execute_input": "2024-08-19T22:55:57.889538Z",
     "iopub.status.busy": "2024-08-19T22:55:57.889343Z",
     "iopub.status.idle": "2024-08-19T22:55:57.892648Z",
     "shell.execute_reply": "2024-08-19T22:55:57.892218Z"
    }
   },
   "outputs": [
    {
     "data": {
      "text/plain": [
       "(__main__.MyClass, object)"
      ]
     },
     "execution_count": 74,
     "metadata": {},
     "output_type": "execute_result"
    }
   ],
   "source": [
    "MyClass.__mro__"
   ]
  },
  {
   "cell_type": "code",
   "execution_count": 75,
   "metadata": {
    "execution": {
     "iopub.execute_input": "2024-08-19T22:55:57.895083Z",
     "iopub.status.busy": "2024-08-19T22:55:57.894890Z",
     "iopub.status.idle": "2024-08-19T22:55:57.897255Z",
     "shell.execute_reply": "2024-08-19T22:55:57.896803Z"
    }
   },
   "outputs": [],
   "source": [
    "get_origin(MyClass)"
   ]
  },
  {
   "cell_type": "code",
   "execution_count": 76,
   "metadata": {
    "execution": {
     "iopub.execute_input": "2024-08-19T22:55:57.899732Z",
     "iopub.status.busy": "2024-08-19T22:55:57.899531Z",
     "iopub.status.idle": "2024-08-19T22:55:57.902833Z",
     "shell.execute_reply": "2024-08-19T22:55:57.902390Z"
    }
   },
   "outputs": [
    {
     "data": {
      "text/plain": [
       "'MyClass'"
      ]
     },
     "execution_count": 76,
     "metadata": {},
     "output_type": "execute_result"
    }
   ],
   "source": [
    "MyClass.__name__"
   ]
  },
  {
   "cell_type": "code",
   "execution_count": 77,
   "metadata": {
    "execution": {
     "iopub.execute_input": "2024-08-19T22:55:57.905350Z",
     "iopub.status.busy": "2024-08-19T22:55:57.905147Z",
     "iopub.status.idle": "2024-08-19T22:55:57.908486Z",
     "shell.execute_reply": "2024-08-19T22:55:57.907937Z"
    }
   },
   "outputs": [
    {
     "data": {
      "text/plain": [
       "'MyClass'"
      ]
     },
     "execution_count": 77,
     "metadata": {},
     "output_type": "execute_result"
    }
   ],
   "source": [
    "MyClass.__qualname__"
   ]
  },
  {
   "attachments": {},
   "cell_type": "markdown",
   "metadata": {},
   "source": [
    "## Nested Class"
   ]
  },
  {
   "cell_type": "code",
   "execution_count": 78,
   "metadata": {
    "execution": {
     "iopub.execute_input": "2024-08-19T22:55:57.911074Z",
     "iopub.status.busy": "2024-08-19T22:55:57.910879Z",
     "iopub.status.idle": "2024-08-19T22:55:57.913278Z",
     "shell.execute_reply": "2024-08-19T22:55:57.912843Z"
    }
   },
   "outputs": [],
   "source": [
    "class OuterClass:\n",
    "    class InnerClass:\n",
    "        pass"
   ]
  },
  {
   "cell_type": "code",
   "execution_count": 79,
   "metadata": {
    "execution": {
     "iopub.execute_input": "2024-08-19T22:55:57.915748Z",
     "iopub.status.busy": "2024-08-19T22:55:57.915545Z",
     "iopub.status.idle": "2024-08-19T22:55:57.918939Z",
     "shell.execute_reply": "2024-08-19T22:55:57.918454Z"
    }
   },
   "outputs": [
    {
     "data": {
      "text/plain": [
       "'OuterClass'"
      ]
     },
     "execution_count": 79,
     "metadata": {},
     "output_type": "execute_result"
    }
   ],
   "source": [
    "OuterClass.__name__"
   ]
  },
  {
   "cell_type": "code",
   "execution_count": 80,
   "metadata": {
    "execution": {
     "iopub.execute_input": "2024-08-19T22:55:57.921449Z",
     "iopub.status.busy": "2024-08-19T22:55:57.921242Z",
     "iopub.status.idle": "2024-08-19T22:55:57.924490Z",
     "shell.execute_reply": "2024-08-19T22:55:57.924043Z"
    }
   },
   "outputs": [
    {
     "data": {
      "text/plain": [
       "'OuterClass'"
      ]
     },
     "execution_count": 80,
     "metadata": {},
     "output_type": "execute_result"
    }
   ],
   "source": [
    "OuterClass.__qualname__"
   ]
  },
  {
   "cell_type": "code",
   "execution_count": 81,
   "metadata": {
    "execution": {
     "iopub.execute_input": "2024-08-19T22:55:57.926900Z",
     "iopub.status.busy": "2024-08-19T22:55:57.926704Z",
     "iopub.status.idle": "2024-08-19T22:55:57.930288Z",
     "shell.execute_reply": "2024-08-19T22:55:57.929614Z"
    }
   },
   "outputs": [
    {
     "data": {
      "text/plain": [
       "'InnerClass'"
      ]
     },
     "execution_count": 81,
     "metadata": {},
     "output_type": "execute_result"
    }
   ],
   "source": [
    "OuterClass.InnerClass.__name__"
   ]
  },
  {
   "cell_type": "code",
   "execution_count": 82,
   "metadata": {
    "execution": {
     "iopub.execute_input": "2024-08-19T22:55:57.933222Z",
     "iopub.status.busy": "2024-08-19T22:55:57.932972Z",
     "iopub.status.idle": "2024-08-19T22:55:57.936819Z",
     "shell.execute_reply": "2024-08-19T22:55:57.936298Z"
    }
   },
   "outputs": [
    {
     "data": {
      "text/plain": [
       "'OuterClass.InnerClass'"
      ]
     },
     "execution_count": 82,
     "metadata": {},
     "output_type": "execute_result"
    }
   ],
   "source": [
    "OuterClass.InnerClass.__qualname__"
   ]
  },
  {
   "attachments": {},
   "cell_type": "markdown",
   "metadata": {},
   "source": [
    "## Custom Generic"
   ]
  },
  {
   "cell_type": "code",
   "execution_count": 83,
   "metadata": {
    "execution": {
     "iopub.execute_input": "2024-08-19T22:55:57.939599Z",
     "iopub.status.busy": "2024-08-19T22:55:57.939368Z",
     "iopub.status.idle": "2024-08-19T22:55:57.942459Z",
     "shell.execute_reply": "2024-08-19T22:55:57.941958Z"
    }
   },
   "outputs": [],
   "source": [
    "class MyGeneric(typing.Generic[typing.T]):\n",
    "    def __init__(self, x) -> None:\n",
    "        self.x = x"
   ]
  },
  {
   "cell_type": "code",
   "execution_count": 84,
   "metadata": {
    "execution": {
     "iopub.execute_input": "2024-08-19T22:55:57.945313Z",
     "iopub.status.busy": "2024-08-19T22:55:57.945064Z",
     "iopub.status.idle": "2024-08-19T22:55:57.949349Z",
     "shell.execute_reply": "2024-08-19T22:55:57.948754Z"
    }
   },
   "outputs": [
    {
     "data": {
      "text/plain": [
       "__main__.MyGeneric[str]"
      ]
     },
     "execution_count": 84,
     "metadata": {},
     "output_type": "execute_result"
    }
   ],
   "source": [
    "tp_custom_generic = MyGeneric[str]\n",
    "tp_custom_generic"
   ]
  },
  {
   "cell_type": "code",
   "execution_count": 85,
   "metadata": {
    "execution": {
     "iopub.execute_input": "2024-08-19T22:55:57.952303Z",
     "iopub.status.busy": "2024-08-19T22:55:57.952035Z",
     "iopub.status.idle": "2024-08-19T22:55:57.956038Z",
     "shell.execute_reply": "2024-08-19T22:55:57.955540Z"
    }
   },
   "outputs": [
    {
     "data": {
      "text/plain": [
       "typing._GenericAlias"
      ]
     },
     "execution_count": 85,
     "metadata": {},
     "output_type": "execute_result"
    }
   ],
   "source": [
    "type(tp_custom_generic)"
   ]
  },
  {
   "cell_type": "code",
   "execution_count": 86,
   "metadata": {
    "execution": {
     "iopub.execute_input": "2024-08-19T22:55:57.958800Z",
     "iopub.status.busy": "2024-08-19T22:55:57.958570Z",
     "iopub.status.idle": "2024-08-19T22:55:57.977226Z",
     "shell.execute_reply": "2024-08-19T22:55:57.976574Z"
    }
   },
   "outputs": [
    {
     "ename": "AttributeError",
     "evalue": "__name__",
     "output_type": "error",
     "traceback": [
      "\u001b[0;31m---------------------------------------------------------------------------\u001b[0m",
      "\u001b[0;31mAttributeError\u001b[0m                            Traceback (most recent call last)",
      "Cell \u001b[0;32mIn[86], line 1\u001b[0m\n\u001b[0;32m----> 1\u001b[0m \u001b[43mtp_custom_generic\u001b[49m\u001b[38;5;241;43m.\u001b[39;49m\u001b[38;5;18;43m__name__\u001b[39;49m\n",
      "File \u001b[0;32m~/.local/share/mise/installs/python/3.9/lib/python3.9/typing.py:711\u001b[0m, in \u001b[0;36m_BaseGenericAlias.__getattr__\u001b[0;34m(self, attr)\u001b[0m\n\u001b[1;32m    709\u001b[0m \u001b[38;5;28;01mif\u001b[39;00m \u001b[38;5;124m'\u001b[39m\u001b[38;5;124m__origin__\u001b[39m\u001b[38;5;124m'\u001b[39m \u001b[38;5;129;01min\u001b[39;00m \u001b[38;5;28mself\u001b[39m\u001b[38;5;241m.\u001b[39m\u001b[38;5;18m__dict__\u001b[39m \u001b[38;5;129;01mand\u001b[39;00m \u001b[38;5;129;01mnot\u001b[39;00m _is_dunder(attr):\n\u001b[1;32m    710\u001b[0m     \u001b[38;5;28;01mreturn\u001b[39;00m \u001b[38;5;28mgetattr\u001b[39m(\u001b[38;5;28mself\u001b[39m\u001b[38;5;241m.\u001b[39m__origin__, attr)\n\u001b[0;32m--> 711\u001b[0m \u001b[38;5;28;01mraise\u001b[39;00m \u001b[38;5;167;01mAttributeError\u001b[39;00m(attr)\n",
      "\u001b[0;31mAttributeError\u001b[0m: __name__"
     ]
    }
   ],
   "source": [
    "tp_custom_generic.__name__"
   ]
  },
  {
   "cell_type": "code",
   "execution_count": 87,
   "metadata": {
    "execution": {
     "iopub.execute_input": "2024-08-19T22:55:57.980599Z",
     "iopub.status.busy": "2024-08-19T22:55:57.980105Z",
     "iopub.status.idle": "2024-08-19T22:55:57.999476Z",
     "shell.execute_reply": "2024-08-19T22:55:57.998830Z"
    }
   },
   "outputs": [
    {
     "ename": "AttributeError",
     "evalue": "__qualname__",
     "output_type": "error",
     "traceback": [
      "\u001b[0;31m---------------------------------------------------------------------------\u001b[0m",
      "\u001b[0;31mAttributeError\u001b[0m                            Traceback (most recent call last)",
      "Cell \u001b[0;32mIn[87], line 1\u001b[0m\n\u001b[0;32m----> 1\u001b[0m \u001b[43mtp_custom_generic\u001b[49m\u001b[38;5;241;43m.\u001b[39;49m\u001b[38;5;18;43m__qualname__\u001b[39;49m\n",
      "File \u001b[0;32m~/.local/share/mise/installs/python/3.9/lib/python3.9/typing.py:711\u001b[0m, in \u001b[0;36m_BaseGenericAlias.__getattr__\u001b[0;34m(self, attr)\u001b[0m\n\u001b[1;32m    709\u001b[0m \u001b[38;5;28;01mif\u001b[39;00m \u001b[38;5;124m'\u001b[39m\u001b[38;5;124m__origin__\u001b[39m\u001b[38;5;124m'\u001b[39m \u001b[38;5;129;01min\u001b[39;00m \u001b[38;5;28mself\u001b[39m\u001b[38;5;241m.\u001b[39m\u001b[38;5;18m__dict__\u001b[39m \u001b[38;5;129;01mand\u001b[39;00m \u001b[38;5;129;01mnot\u001b[39;00m _is_dunder(attr):\n\u001b[1;32m    710\u001b[0m     \u001b[38;5;28;01mreturn\u001b[39;00m \u001b[38;5;28mgetattr\u001b[39m(\u001b[38;5;28mself\u001b[39m\u001b[38;5;241m.\u001b[39m__origin__, attr)\n\u001b[0;32m--> 711\u001b[0m \u001b[38;5;28;01mraise\u001b[39;00m \u001b[38;5;167;01mAttributeError\u001b[39;00m(attr)\n",
      "\u001b[0;31mAttributeError\u001b[0m: __qualname__"
     ]
    }
   ],
   "source": [
    "tp_custom_generic.__qualname__"
   ]
  },
  {
   "cell_type": "code",
   "execution_count": 88,
   "metadata": {
    "execution": {
     "iopub.execute_input": "2024-08-19T22:55:58.003087Z",
     "iopub.status.busy": "2024-08-19T22:55:58.002793Z",
     "iopub.status.idle": "2024-08-19T22:55:58.006981Z",
     "shell.execute_reply": "2024-08-19T22:55:58.006367Z"
    }
   },
   "outputs": [
    {
     "data": {
      "text/plain": [
       "__main__.MyGeneric"
      ]
     },
     "execution_count": 88,
     "metadata": {},
     "output_type": "execute_result"
    }
   ],
   "source": [
    "origin_custom_generic = get_origin(tp_custom_generic)\n",
    "origin_custom_generic"
   ]
  },
  {
   "cell_type": "code",
   "execution_count": 89,
   "metadata": {
    "execution": {
     "iopub.execute_input": "2024-08-19T22:55:58.009997Z",
     "iopub.status.busy": "2024-08-19T22:55:58.009722Z",
     "iopub.status.idle": "2024-08-19T22:55:58.013516Z",
     "shell.execute_reply": "2024-08-19T22:55:58.012895Z"
    }
   },
   "outputs": [
    {
     "data": {
      "text/plain": [
       "'MyGeneric'"
      ]
     },
     "execution_count": 89,
     "metadata": {},
     "output_type": "execute_result"
    }
   ],
   "source": [
    "origin_custom_generic.__name__"
   ]
  },
  {
   "cell_type": "code",
   "execution_count": 90,
   "metadata": {
    "execution": {
     "iopub.execute_input": "2024-08-19T22:55:58.016491Z",
     "iopub.status.busy": "2024-08-19T22:55:58.016244Z",
     "iopub.status.idle": "2024-08-19T22:55:58.020393Z",
     "shell.execute_reply": "2024-08-19T22:55:58.019810Z"
    }
   },
   "outputs": [
    {
     "data": {
      "text/plain": [
       "'MyGeneric'"
      ]
     },
     "execution_count": 90,
     "metadata": {},
     "output_type": "execute_result"
    }
   ],
   "source": [
    "origin_custom_generic.__qualname__"
   ]
  },
  {
   "attachments": {},
   "cell_type": "markdown",
   "metadata": {},
   "source": [
    "## typing.Any"
   ]
  },
  {
   "cell_type": "code",
   "execution_count": 91,
   "metadata": {
    "execution": {
     "iopub.execute_input": "2024-08-19T22:55:58.023323Z",
     "iopub.status.busy": "2024-08-19T22:55:58.023089Z",
     "iopub.status.idle": "2024-08-19T22:55:58.026912Z",
     "shell.execute_reply": "2024-08-19T22:55:58.026377Z"
    }
   },
   "outputs": [
    {
     "data": {
      "text/plain": [
       "'typing.Any'"
      ]
     },
     "execution_count": 91,
     "metadata": {},
     "output_type": "execute_result"
    }
   ],
   "source": [
    "tp_any = typing.Any\n",
    "repr(tp_any)"
   ]
  },
  {
   "cell_type": "code",
   "execution_count": 92,
   "metadata": {
    "execution": {
     "iopub.execute_input": "2024-08-19T22:55:58.030004Z",
     "iopub.status.busy": "2024-08-19T22:55:58.029721Z",
     "iopub.status.idle": "2024-08-19T22:55:58.043910Z",
     "shell.execute_reply": "2024-08-19T22:55:58.043306Z"
    }
   },
   "outputs": [
    {
     "ename": "AttributeError",
     "evalue": "'_SpecialForm' object has no attribute '__name__'",
     "output_type": "error",
     "traceback": [
      "\u001b[0;31m---------------------------------------------------------------------------\u001b[0m",
      "\u001b[0;31mAttributeError\u001b[0m                            Traceback (most recent call last)",
      "Cell \u001b[0;32mIn[92], line 1\u001b[0m\n\u001b[0;32m----> 1\u001b[0m \u001b[43mtp_any\u001b[49m\u001b[38;5;241;43m.\u001b[39;49m\u001b[38;5;18;43m__name__\u001b[39;49m\n",
      "\u001b[0;31mAttributeError\u001b[0m: '_SpecialForm' object has no attribute '__name__'"
     ]
    }
   ],
   "source": [
    "tp_any.__name__"
   ]
  },
  {
   "cell_type": "code",
   "execution_count": 93,
   "metadata": {
    "execution": {
     "iopub.execute_input": "2024-08-19T22:55:58.046974Z",
     "iopub.status.busy": "2024-08-19T22:55:58.046729Z",
     "iopub.status.idle": "2024-08-19T22:55:58.060964Z",
     "shell.execute_reply": "2024-08-19T22:55:58.060319Z"
    }
   },
   "outputs": [
    {
     "ename": "AttributeError",
     "evalue": "'_SpecialForm' object has no attribute '__qualname__'",
     "output_type": "error",
     "traceback": [
      "\u001b[0;31m---------------------------------------------------------------------------\u001b[0m",
      "\u001b[0;31mAttributeError\u001b[0m                            Traceback (most recent call last)",
      "Cell \u001b[0;32mIn[93], line 1\u001b[0m\n\u001b[0;32m----> 1\u001b[0m \u001b[43mtp_any\u001b[49m\u001b[38;5;241;43m.\u001b[39;49m\u001b[38;5;18;43m__qualname__\u001b[39;49m\n",
      "\u001b[0;31mAttributeError\u001b[0m: '_SpecialForm' object has no attribute '__qualname__'"
     ]
    }
   ],
   "source": [
    "tp_any.__qualname__"
   ]
  }
 ],
 "metadata": {
  "kernelspec": {
   "display_name": ".venv",
   "language": "python",
   "name": "python3"
  },
  "language_info": {
   "codemirror_mode": {
    "name": "ipython",
    "version": 3
   },
   "file_extension": ".py",
   "mimetype": "text/x-python",
   "name": "python",
   "nbconvert_exporter": "python",
   "pygments_lexer": "ipython3",
   "version": "3.9.18"
  },
  "vscode": {
   "interpreter": {
    "hash": "562b6b1d41146ba195661be6d6db461f2660efbf90f15e4bc583c307da246186"
   }
  }
 },
 "nbformat": 4,
 "nbformat_minor": 4
}

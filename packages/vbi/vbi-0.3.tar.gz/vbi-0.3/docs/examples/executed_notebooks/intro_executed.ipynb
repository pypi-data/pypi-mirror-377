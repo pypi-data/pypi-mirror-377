{
 "cells": [
  {
   "cell_type": "markdown",
   "metadata": {},
   "source": [
    "# [Intro](https://github.com/Ziaeemehr/vbi_paper/blob/main/docs/examples/intro.ipynb)\n",
    "\n",
    "<a href=\"https://colab.research.google.com/github/Ziaeemehr/vbi_paper/blob/main/docs/examples/intro.ipynb\" target=\"_parent\"><img src=\"https://colab.research.google.com/assets/colab-badge.svg\" alt=\"Open In Colab\"/></a>"
   ]
  },
  {
   "cell_type": "code",
   "execution_count": 1,
   "metadata": {
    "execution": {
     "iopub.execute_input": "2025-09-16T09:17:27.378243Z",
     "iopub.status.busy": "2025-09-16T09:17:27.377602Z",
     "iopub.status.idle": "2025-09-16T09:17:32.108800Z",
     "shell.execute_reply": "2025-09-16T09:17:32.108057Z"
    }
   },
   "outputs": [],
   "source": [
    "import vbi"
   ]
  },
  {
   "cell_type": "code",
   "execution_count": 2,
   "metadata": {
    "execution": {
     "iopub.execute_input": "2025-09-16T09:17:32.111306Z",
     "iopub.status.busy": "2025-09-16T09:17:32.110894Z",
     "iopub.status.idle": "2025-09-16T09:17:51.132522Z",
     "shell.execute_reply": "2025-09-16T09:17:51.131785Z"
    }
   },
   "outputs": [
    {
     "name": "stderr",
     "output_type": "stream",
     "text": [
      "test_1d_input (vbi.tests.test_utils.TestGetLimitsNumpy)\n",
      "Test with 1D input. ... "
     ]
    },
    {
     "name": "stderr",
     "output_type": "stream",
     "text": [
      "ok\n"
     ]
    },
    {
     "name": "stderr",
     "output_type": "stream",
     "text": [
      "test_multiple_sample_arrays (vbi.tests.test_utils.TestGetLimitsNumpy)\n",
      "Test with list of sample arrays. ... "
     ]
    },
    {
     "name": "stderr",
     "output_type": "stream",
     "text": [
      "ok\n"
     ]
    },
    {
     "name": "stderr",
     "output_type": "stream",
     "text": [
      "test_predefined_limits (vbi.tests.test_utils.TestGetLimitsNumpy)\n",
      "Test with predefined limits. ... "
     ]
    },
    {
     "name": "stderr",
     "output_type": "stream",
     "text": [
      "ok\n"
     ]
    },
    {
     "name": "stderr",
     "output_type": "stream",
     "text": [
      "test_single_limit_broadcast (vbi.tests.test_utils.TestGetLimitsNumpy)\n",
      "Test broadcasting single limit to all dimensions. ... "
     ]
    },
    {
     "name": "stderr",
     "output_type": "stream",
     "text": [
      "ok\n"
     ]
    },
    {
     "name": "stderr",
     "output_type": "stream",
     "text": [
      "test_single_sample_array (vbi.tests.test_utils.TestGetLimitsNumpy)\n",
      "Test with single sample array. ... "
     ]
    },
    {
     "name": "stderr",
     "output_type": "stream",
     "text": [
      "ok\n"
     ]
    },
    {
     "name": "stderr",
     "output_type": "stream",
     "text": [
      "test_1d_input_as_column_vector (vbi.tests.test_utils.TestPosteriorPeaksNumpy)\n",
      "Test 1D input reshaped as column vector. ... "
     ]
    },
    {
     "name": "stderr",
     "output_type": "stream",
     "text": [
      "ok\n"
     ]
    },
    {
     "name": "stderr",
     "output_type": "stream",
     "text": [
      "test_3d_functionality (vbi.tests.test_utils.TestPosteriorPeaksNumpy)\n",
      "Test with 3D data. ... "
     ]
    },
    {
     "name": "stderr",
     "output_type": "stream",
     "text": [
      "ok\n"
     ]
    },
    {
     "name": "stderr",
     "output_type": "stream",
     "text": [
      "test_basic_functionality_1d (vbi.tests.test_utils.TestPosteriorPeaksNumpy)\n",
      "Test basic functionality with 1D data. ... "
     ]
    },
    {
     "name": "stderr",
     "output_type": "stream",
     "text": [
      "ok\n"
     ]
    },
    {
     "name": "stderr",
     "output_type": "stream",
     "text": [
      "test_basic_functionality_2d (vbi.tests.test_utils.TestPosteriorPeaksNumpy)\n",
      "Test basic functionality with 2D data. ... "
     ]
    },
    {
     "name": "stderr",
     "output_type": "stream",
     "text": [
      "ok\n"
     ]
    },
    {
     "name": "stderr",
     "output_type": "stream",
     "text": [
      "test_bimodal_distribution (vbi.tests.test_utils.TestPosteriorPeaksNumpy)\n",
      "Test with bimodal distribution to ensure it finds a peak. ... "
     ]
    },
    {
     "name": "stderr",
     "output_type": "stream",
     "text": [
      "ok\n"
     ]
    },
    {
     "name": "stderr",
     "output_type": "stream",
     "text": [
      "test_custom_labels_validation (vbi.tests.test_utils.TestPosteriorPeaksNumpy)\n",
      "Test validation of custom labels. ... "
     ]
    },
    {
     "name": "stderr",
     "output_type": "stream",
     "text": [
      "ok\n"
     ]
    },
    {
     "name": "stderr",
     "output_type": "stream",
     "text": [
      "test_different_bandwidth_methods_0_scott (vbi.tests.test_utils.TestPosteriorPeaksNumpy)\n",
      "Test different bandwidth methods [with bw_method='scott']. ... "
     ]
    },
    {
     "name": "stderr",
     "output_type": "stream",
     "text": [
      "ok\n"
     ]
    },
    {
     "name": "stderr",
     "output_type": "stream",
     "text": [
      "test_different_bandwidth_methods_1_silverman (vbi.tests.test_utils.TestPosteriorPeaksNumpy)\n",
      "Test different bandwidth methods [with bw_method='silverman']. ... "
     ]
    },
    {
     "name": "stderr",
     "output_type": "stream",
     "text": [
      "ok\n"
     ]
    },
    {
     "name": "stderr",
     "output_type": "stream",
     "text": [
      "test_different_bandwidth_methods_2 (vbi.tests.test_utils.TestPosteriorPeaksNumpy)\n",
      "Test different bandwidth methods [with bw_method=0.1]. ... "
     ]
    },
    {
     "name": "stderr",
     "output_type": "stream",
     "text": [
      "ok\n"
     ]
    },
    {
     "name": "stderr",
     "output_type": "stream",
     "text": [
      "test_different_bandwidth_methods_3 (vbi.tests.test_utils.TestPosteriorPeaksNumpy)\n",
      "Test different bandwidth methods [with bw_method=0.5]. ... "
     ]
    },
    {
     "name": "stderr",
     "output_type": "stream",
     "text": [
      "ok\n"
     ]
    },
    {
     "name": "stderr",
     "output_type": "stream",
     "text": [
      "test_different_bins_0 (vbi.tests.test_utils.TestPosteriorPeaksNumpy)\n",
      "Test different number of bins [with bins=50]. ... "
     ]
    },
    {
     "name": "stderr",
     "output_type": "stream",
     "text": [
      "ok\n"
     ]
    },
    {
     "name": "stderr",
     "output_type": "stream",
     "text": [
      "test_different_bins_1 (vbi.tests.test_utils.TestPosteriorPeaksNumpy)\n",
      "Test different number of bins [with bins=100]. ... "
     ]
    },
    {
     "name": "stderr",
     "output_type": "stream",
     "text": [
      "ok\n"
     ]
    },
    {
     "name": "stderr",
     "output_type": "stream",
     "text": [
      "test_different_bins_2 (vbi.tests.test_utils.TestPosteriorPeaksNumpy)\n",
      "Test different number of bins [with bins=200]. ... "
     ]
    },
    {
     "name": "stderr",
     "output_type": "stream",
     "text": [
      "ok\n"
     ]
    },
    {
     "name": "stderr",
     "output_type": "stream",
     "text": [
      "test_edge_cases (vbi.tests.test_utils.TestPosteriorPeaksNumpy)\n",
      "Test edge cases. ... "
     ]
    },
    {
     "name": "stderr",
     "output_type": "stream",
     "text": [
      "ok\n"
     ]
    },
    {
     "name": "stderr",
     "output_type": "stream",
     "text": [
      "test_numpy_array_conversion (vbi.tests.test_utils.TestPosteriorPeaksNumpy)\n",
      "Test that function properly converts inputs to numpy arrays. ... "
     ]
    },
    {
     "name": "stderr",
     "output_type": "stream",
     "text": [
      "ok\n"
     ]
    },
    {
     "name": "stderr",
     "output_type": "stream",
     "text": [
      "test_reproducibility_with_kde (vbi.tests.test_utils.TestPosteriorPeaksNumpy)\n",
      "Test that results are deterministic for KDE. ... "
     ]
    },
    {
     "name": "stderr",
     "output_type": "stream",
     "text": [
      "ok\n"
     ]
    },
    {
     "name": "stderr",
     "output_type": "stream",
     "text": [
      "test_return_dict_functionality (vbi.tests.test_utils.TestPosteriorPeaksNumpy)\n",
      "Test return_dict=True functionality. ... "
     ]
    },
    {
     "name": "stderr",
     "output_type": "stream",
     "text": [
      "ok\n"
     ]
    },
    {
     "name": "stderr",
     "output_type": "stream",
     "text": [
      "test_1d_input (vbi.tests.test_utils.TestPosteriorShrinkageNumpy)\n",
      "Test with 1D input arrays. ... "
     ]
    },
    {
     "name": "stderr",
     "output_type": "stream",
     "text": [
      "ok\n"
     ]
    },
    {
     "name": "stderr",
     "output_type": "stream",
     "text": [
      "test_basic_functionality (vbi.tests.test_utils.TestPosteriorShrinkageNumpy)\n",
      "Test basic shrinkage calculation. ... "
     ]
    },
    {
     "name": "stderr",
     "output_type": "stream",
     "text": [
      "ok\n"
     ]
    },
    {
     "name": "stderr",
     "output_type": "stream",
     "text": [
      "test_empty_arrays (vbi.tests.test_utils.TestPosteriorShrinkageNumpy)\n",
      "Test error handling for empty arrays. ... "
     ]
    },
    {
     "name": "stderr",
     "output_type": "stream",
     "text": [
      "ok\n"
     ]
    },
    {
     "name": "stderr",
     "output_type": "stream",
     "text": [
      "test_list_input (vbi.tests.test_utils.TestPosteriorShrinkageNumpy)\n",
      "Test that function works with list inputs. ... "
     ]
    },
    {
     "name": "stderr",
     "output_type": "stream",
     "text": [
      "ok\n"
     ]
    },
    {
     "name": "stderr",
     "output_type": "stream",
     "text": [
      "test_no_shrinkage_case (vbi.tests.test_utils.TestPosteriorShrinkageNumpy)\n",
      "Test case where prior and posterior have same variance. ... "
     ]
    },
    {
     "name": "stderr",
     "output_type": "stream",
     "text": [
      "ok\n"
     ]
    },
    {
     "name": "stderr",
     "output_type": "stream",
     "text": [
      "test_zero_prior_variance (vbi.tests.test_utils.TestPosteriorShrinkageNumpy)\n",
      "Test handling of zero prior variance. ... "
     ]
    },
    {
     "name": "stderr",
     "output_type": "stream",
     "text": [
      "ok\n"
     ]
    },
    {
     "name": "stderr",
     "output_type": "stream",
     "text": [
      "test_1d_posterior_samples (vbi.tests.test_utils.TestPosteriorZscoreNumpy)\n",
      "Test with 1D posterior samples array. ... "
     ]
    },
    {
     "name": "stderr",
     "output_type": "stream",
     "text": [
      "ok\n"
     ]
    },
    {
     "name": "stderr",
     "output_type": "stream",
     "text": [
      "test_basic_functionality (vbi.tests.test_utils.TestPosteriorZscoreNumpy)\n",
      "Test basic z-score calculation. ... "
     ]
    },
    {
     "name": "stderr",
     "output_type": "stream",
     "text": [
      "ok\n"
     ]
    },
    {
     "name": "stderr",
     "output_type": "stream",
     "text": [
      "test_different_dtypes (vbi.tests.test_utils.TestPosteriorZscoreNumpy)\n",
      "Test function works with different numpy dtypes. ... "
     ]
    },
    {
     "name": "stderr",
     "output_type": "stream",
     "text": [
      "ok\n"
     ]
    },
    {
     "name": "stderr",
     "output_type": "stream",
     "text": [
      "test_empty_arrays (vbi.tests.test_utils.TestPosteriorZscoreNumpy)\n",
      "Test error handling for empty arrays. ... "
     ]
    },
    {
     "name": "stderr",
     "output_type": "stream",
     "text": [
      "ok\n"
     ]
    },
    {
     "name": "stderr",
     "output_type": "stream",
     "text": [
      "test_list_input (vbi.tests.test_utils.TestPosteriorZscoreNumpy)\n",
      "Test that function works with list inputs. ... "
     ]
    },
    {
     "name": "stderr",
     "output_type": "stream",
     "text": [
      "ok\n"
     ]
    },
    {
     "name": "stderr",
     "output_type": "stream",
     "text": [
      "test_perfect_estimation (vbi.tests.test_utils.TestPosteriorZscoreNumpy)\n",
      "Test case where posterior mean equals true value. ... "
     ]
    },
    {
     "name": "stderr",
     "output_type": "stream",
     "text": [
      "ok\n"
     ]
    },
    {
     "name": "stderr",
     "output_type": "stream",
     "text": [
      "test_poor_estimation (vbi.tests.test_utils.TestPosteriorZscoreNumpy)\n",
      "Test z-scores for poor parameter estimation. ... "
     ]
    },
    {
     "name": "stderr",
     "output_type": "stream",
     "text": [
      "ok\n"
     ]
    },
    {
     "name": "stderr",
     "output_type": "stream",
     "text": [
      "test_single_parameter (vbi.tests.test_utils.TestPosteriorZscoreNumpy)\n",
      "Test with single parameter (scalar input). ... "
     ]
    },
    {
     "name": "stderr",
     "output_type": "stream",
     "text": [
      "ok\n"
     ]
    },
    {
     "name": "stderr",
     "output_type": "stream",
     "text": [
      "test_zero_posterior_variance (vbi.tests.test_utils.TestPosteriorZscoreNumpy)\n",
      "Test handling of zero posterior variance. ... "
     ]
    },
    {
     "name": "stderr",
     "output_type": "stream",
     "text": [
      "ok\n"
     ]
    },
    {
     "name": "stderr",
     "output_type": "stream",
     "text": [
      "test_GHB_sde_cupy (vbi.tests.test_ghb_cupy.testGHBSDE) ... "
     ]
    },
    {
     "name": "stderr",
     "output_type": "stream",
     "text": [
      "\r",
      "Integrating:   0%|          | 0/1500 [00:00<?, ?it/s]"
     ]
    },
    {
     "name": "stderr",
     "output_type": "stream",
     "text": [
      "\r",
      "Integrating:   2%|▏         | 24/1500 [00:00<00:06, 234.91it/s]"
     ]
    },
    {
     "name": "stderr",
     "output_type": "stream",
     "text": [
      "\r",
      "Integrating:   4%|▎         | 55/1500 [00:00<00:05, 276.31it/s]"
     ]
    },
    {
     "name": "stderr",
     "output_type": "stream",
     "text": [
      "\r",
      "Integrating:   6%|▌         | 83/1500 [00:00<00:05, 256.63it/s]"
     ]
    },
    {
     "name": "stderr",
     "output_type": "stream",
     "text": [
      "\r",
      "Integrating:   8%|▊         | 113/1500 [00:00<00:05, 270.22it/s]"
     ]
    },
    {
     "name": "stderr",
     "output_type": "stream",
     "text": [
      "\r",
      "Integrating:  10%|▉         | 143/1500 [00:00<00:04, 279.55it/s]"
     ]
    },
    {
     "name": "stderr",
     "output_type": "stream",
     "text": [
      "\r",
      "Integrating:  12%|█▏        | 176/1500 [00:00<00:04, 293.33it/s]"
     ]
    },
    {
     "name": "stderr",
     "output_type": "stream",
     "text": [
      "\r",
      "Integrating:  14%|█▎        | 206/1500 [00:00<00:04, 292.05it/s]"
     ]
    },
    {
     "name": "stderr",
     "output_type": "stream",
     "text": [
      "\r",
      "Integrating:  16%|█▌        | 237/1500 [00:00<00:04, 296.24it/s]"
     ]
    },
    {
     "name": "stderr",
     "output_type": "stream",
     "text": [
      "\r",
      "Integrating:  18%|█▊        | 269/1500 [00:00<00:04, 302.35it/s]"
     ]
    },
    {
     "name": "stderr",
     "output_type": "stream",
     "text": [
      "\r",
      "Integrating:  20%|██        | 301/1500 [00:01<00:03, 306.98it/s]"
     ]
    },
    {
     "name": "stderr",
     "output_type": "stream",
     "text": [
      "\r",
      "Integrating:  22%|██▏       | 332/1500 [00:01<00:03, 301.81it/s]"
     ]
    },
    {
     "name": "stderr",
     "output_type": "stream",
     "text": [
      "\r",
      "Integrating:  24%|██▍       | 363/1500 [00:01<00:03, 300.64it/s]"
     ]
    },
    {
     "name": "stderr",
     "output_type": "stream",
     "text": [
      "\r",
      "Integrating:  26%|██▋       | 395/1500 [00:01<00:03, 305.17it/s]"
     ]
    },
    {
     "name": "stderr",
     "output_type": "stream",
     "text": [
      "\r",
      "Integrating:  28%|██▊       | 426/1500 [00:01<00:03, 298.76it/s]"
     ]
    },
    {
     "name": "stderr",
     "output_type": "stream",
     "text": [
      "\r",
      "Integrating:  30%|███       | 456/1500 [00:01<00:03, 298.28it/s]"
     ]
    },
    {
     "name": "stderr",
     "output_type": "stream",
     "text": [
      "\r",
      "Integrating:  32%|███▏      | 486/1500 [00:01<00:03, 298.06it/s]"
     ]
    },
    {
     "name": "stderr",
     "output_type": "stream",
     "text": [
      "\r",
      "Integrating:  35%|███▍      | 518/1500 [00:01<00:03, 303.02it/s]"
     ]
    },
    {
     "name": "stderr",
     "output_type": "stream",
     "text": [
      "\r",
      "Integrating:  37%|███▋      | 550/1500 [00:01<00:03, 307.05it/s]"
     ]
    },
    {
     "name": "stderr",
     "output_type": "stream",
     "text": [
      "\r",
      "Integrating:  39%|███▉      | 582/1500 [00:01<00:02, 309.99it/s]"
     ]
    },
    {
     "name": "stderr",
     "output_type": "stream",
     "text": [
      "\r",
      "Integrating:  41%|████      | 614/1500 [00:02<00:02, 311.84it/s]"
     ]
    },
    {
     "name": "stderr",
     "output_type": "stream",
     "text": [
      "\r",
      "Integrating:  43%|████▎     | 646/1500 [00:02<00:02, 313.61it/s]"
     ]
    },
    {
     "name": "stderr",
     "output_type": "stream",
     "text": [
      "\r",
      "Integrating:  45%|████▌     | 678/1500 [00:02<00:02, 314.61it/s]"
     ]
    },
    {
     "name": "stderr",
     "output_type": "stream",
     "text": [
      "\r",
      "Integrating:  47%|████▋     | 710/1500 [00:02<00:02, 309.22it/s]"
     ]
    },
    {
     "name": "stderr",
     "output_type": "stream",
     "text": [
      "\r",
      "Integrating:  49%|████▉     | 742/1500 [00:02<00:02, 310.99it/s]"
     ]
    },
    {
     "name": "stderr",
     "output_type": "stream",
     "text": [
      "\r",
      "Integrating:  52%|█████▏    | 774/1500 [00:02<00:02, 312.56it/s]"
     ]
    },
    {
     "name": "stderr",
     "output_type": "stream",
     "text": [
      "\r",
      "Integrating:  54%|█████▎    | 806/1500 [00:02<00:02, 313.97it/s]"
     ]
    },
    {
     "name": "stderr",
     "output_type": "stream",
     "text": [
      "\r",
      "Integrating:  56%|█████▌    | 838/1500 [00:02<00:02, 314.85it/s]"
     ]
    },
    {
     "name": "stderr",
     "output_type": "stream",
     "text": [
      "\r",
      "Integrating:  58%|█████▊    | 870/1500 [00:02<00:01, 315.51it/s]"
     ]
    },
    {
     "name": "stderr",
     "output_type": "stream",
     "text": [
      "\r",
      "Integrating:  60%|██████    | 902/1500 [00:02<00:01, 315.74it/s]"
     ]
    },
    {
     "name": "stderr",
     "output_type": "stream",
     "text": [
      "\r",
      "Integrating:  62%|██████▏   | 934/1500 [00:03<00:01, 311.72it/s]"
     ]
    },
    {
     "name": "stderr",
     "output_type": "stream",
     "text": [
      "\r",
      "Integrating:  64%|██████▍   | 966/1500 [00:03<00:01, 303.65it/s]"
     ]
    },
    {
     "name": "stderr",
     "output_type": "stream",
     "text": [
      "\r",
      "Integrating:  67%|██████▋   | 998/1500 [00:03<00:01, 306.43it/s]"
     ]
    },
    {
     "name": "stderr",
     "output_type": "stream",
     "text": [
      "\r",
      "Integrating:  69%|██████▊   | 1030/1500 [00:03<00:01, 309.49it/s]"
     ]
    },
    {
     "name": "stderr",
     "output_type": "stream",
     "text": [
      "\r",
      "Integrating:  71%|███████   | 1062/1500 [00:03<00:01, 311.70it/s]"
     ]
    },
    {
     "name": "stderr",
     "output_type": "stream",
     "text": [
      "\r",
      "Integrating:  73%|███████▎  | 1094/1500 [00:03<00:01, 313.47it/s]"
     ]
    },
    {
     "name": "stderr",
     "output_type": "stream",
     "text": [
      "\r",
      "Integrating:  75%|███████▌  | 1126/1500 [00:03<00:01, 314.43it/s]"
     ]
    },
    {
     "name": "stderr",
     "output_type": "stream",
     "text": [
      "\r",
      "Integrating:  77%|███████▋  | 1158/1500 [00:03<00:01, 315.43it/s]"
     ]
    },
    {
     "name": "stderr",
     "output_type": "stream",
     "text": [
      "\r",
      "Integrating:  79%|███████▉  | 1190/1500 [00:03<00:00, 316.55it/s]"
     ]
    },
    {
     "name": "stderr",
     "output_type": "stream",
     "text": [
      "\r",
      "Integrating:  81%|████████▏ | 1222/1500 [00:04<00:00, 316.94it/s]"
     ]
    },
    {
     "name": "stderr",
     "output_type": "stream",
     "text": [
      "\r",
      "Integrating:  84%|████████▎ | 1254/1500 [00:04<00:00, 317.56it/s]"
     ]
    },
    {
     "name": "stderr",
     "output_type": "stream",
     "text": [
      "\r",
      "Integrating:  86%|████████▌ | 1286/1500 [00:04<00:00, 317.01it/s]"
     ]
    },
    {
     "name": "stderr",
     "output_type": "stream",
     "text": [
      "\r",
      "Integrating:  88%|████████▊ | 1318/1500 [00:04<00:00, 315.76it/s]"
     ]
    },
    {
     "name": "stderr",
     "output_type": "stream",
     "text": [
      "\r",
      "Integrating:  90%|█████████ | 1350/1500 [00:04<00:00, 311.41it/s]"
     ]
    },
    {
     "name": "stderr",
     "output_type": "stream",
     "text": [
      "\r",
      "Integrating:  92%|█████████▏| 1382/1500 [00:04<00:00, 312.45it/s]"
     ]
    },
    {
     "name": "stderr",
     "output_type": "stream",
     "text": [
      "\r",
      "Integrating:  94%|█████████▍| 1414/1500 [00:04<00:00, 312.45it/s]"
     ]
    },
    {
     "name": "stderr",
     "output_type": "stream",
     "text": [
      "\r",
      "Integrating:  96%|█████████▋| 1446/1500 [00:04<00:00, 307.88it/s]"
     ]
    },
    {
     "name": "stderr",
     "output_type": "stream",
     "text": [
      "\r",
      "Integrating:  99%|█████████▊| 1478/1500 [00:04<00:00, 309.59it/s]"
     ]
    },
    {
     "name": "stderr",
     "output_type": "stream",
     "text": [
      "\r",
      "Integrating: 100%|██████████| 1500/1500 [00:04<00:00, 306.28it/s]"
     ]
    },
    {
     "name": "stderr",
     "output_type": "stream",
     "text": [
      "\n",
      "ok\n"
     ]
    },
    {
     "name": "stderr",
     "output_type": "stream",
     "text": [
      "test_GHB_sde_numpy (vbi.tests.test_ghb_cupy.testGHBSDE) ... "
     ]
    },
    {
     "name": "stderr",
     "output_type": "stream",
     "text": [
      "\r",
      "Integrating:   0%|          | 0/1500 [00:00<?, ?it/s]"
     ]
    },
    {
     "name": "stderr",
     "output_type": "stream",
     "text": [
      "\r",
      "Integrating:  30%|███       | 455/1500 [00:00<00:00, 4549.25it/s]"
     ]
    },
    {
     "name": "stderr",
     "output_type": "stream",
     "text": [
      "\r",
      "Integrating:  61%|██████    | 910/1500 [00:00<00:00, 4394.06it/s]"
     ]
    },
    {
     "name": "stderr",
     "output_type": "stream",
     "text": [
      "\r",
      "Integrating:  90%|█████████ | 1350/1500 [00:00<00:00, 4356.78it/s]"
     ]
    },
    {
     "name": "stderr",
     "output_type": "stream",
     "text": [
      "\r",
      "Integrating: 100%|██████████| 1500/1500 [00:00<00:00, 4387.75it/s]"
     ]
    },
    {
     "name": "stderr",
     "output_type": "stream",
     "text": [
      "\n",
      "ok\n"
     ]
    },
    {
     "name": "stderr",
     "output_type": "stream",
     "text": [
      "test_invalid_parameter_raises_value_error (vbi.tests.test_mpr_cupy.testMPRSDE) ... "
     ]
    },
    {
     "name": "stderr",
     "output_type": "stream",
     "text": [
      "ok\n"
     ]
    },
    {
     "name": "stderr",
     "output_type": "stream",
     "text": [
      "test_run (vbi.tests.test_mpr_cupy.testMPRSDE) ... "
     ]
    },
    {
     "name": "stderr",
     "output_type": "stream",
     "text": [
      "\r",
      "Integrating:   0%|          | 0/11999 [00:00<?, ?it/s]"
     ]
    },
    {
     "name": "stderr",
     "output_type": "stream",
     "text": [
      "\r",
      "Integrating:   8%|▊         | 922/11999 [00:00<00:01, 9215.50it/s]"
     ]
    },
    {
     "name": "stderr",
     "output_type": "stream",
     "text": [
      "\r",
      "Integrating:  15%|█▌        | 1854/11999 [00:00<00:01, 9275.03it/s]"
     ]
    },
    {
     "name": "stderr",
     "output_type": "stream",
     "text": [
      "\r",
      "Integrating:  23%|██▎       | 2784/11999 [00:00<00:00, 9285.45it/s]"
     ]
    },
    {
     "name": "stderr",
     "output_type": "stream",
     "text": [
      "\r",
      "Integrating:  31%|███       | 3715/11999 [00:00<00:00, 9291.90it/s]"
     ]
    },
    {
     "name": "stderr",
     "output_type": "stream",
     "text": [
      "\r",
      "Integrating:  39%|███▉      | 4650/11999 [00:00<00:00, 9312.70it/s]"
     ]
    },
    {
     "name": "stderr",
     "output_type": "stream",
     "text": [
      "\r",
      "Integrating:  47%|████▋     | 5586/11999 [00:00<00:00, 9327.14it/s]"
     ]
    },
    {
     "name": "stderr",
     "output_type": "stream",
     "text": [
      "\r",
      "Integrating:  54%|█████▍    | 6519/11999 [00:00<00:00, 9323.86it/s]"
     ]
    },
    {
     "name": "stderr",
     "output_type": "stream",
     "text": [
      "\r",
      "Integrating:  62%|██████▏   | 7452/11999 [00:00<00:00, 9319.32it/s]"
     ]
    },
    {
     "name": "stderr",
     "output_type": "stream",
     "text": [
      "\r",
      "Integrating:  70%|██████▉   | 8384/11999 [00:00<00:00, 9260.49it/s]"
     ]
    },
    {
     "name": "stderr",
     "output_type": "stream",
     "text": [
      "\r",
      "Integrating:  78%|███████▊  | 9311/11999 [00:01<00:00, 8773.19it/s]"
     ]
    },
    {
     "name": "stderr",
     "output_type": "stream",
     "text": [
      "\r",
      "Integrating:  85%|████████▍ | 10194/11999 [00:01<00:00, 8661.43it/s]"
     ]
    },
    {
     "name": "stderr",
     "output_type": "stream",
     "text": [
      "\r",
      "Integrating:  93%|█████████▎| 11105/11999 [00:01<00:00, 8792.11it/s]"
     ]
    },
    {
     "name": "stderr",
     "output_type": "stream",
     "text": [
      "\r",
      "Integrating: 100%|██████████| 11999/11999 [00:01<00:00, 9075.65it/s]"
     ]
    },
    {
     "name": "stderr",
     "output_type": "stream",
     "text": [
      "\n",
      "ok\n"
     ]
    },
    {
     "name": "stderr",
     "output_type": "stream",
     "text": [
      "test_abs_energy_0_positive_values (vbi.tests.test_features.TestAbsEnergy) ... "
     ]
    },
    {
     "name": "stderr",
     "output_type": "stream",
     "text": [
      "ok\n"
     ]
    },
    {
     "name": "stderr",
     "output_type": "stream",
     "text": [
      "test_abs_energy_1_negative_values (vbi.tests.test_features.TestAbsEnergy) ... "
     ]
    },
    {
     "name": "stderr",
     "output_type": "stream",
     "text": [
      "ok\n"
     ]
    },
    {
     "name": "stderr",
     "output_type": "stream",
     "text": [
      "test_abs_energy_2_mixed_values (vbi.tests.test_features.TestAbsEnergy) ... "
     ]
    },
    {
     "name": "stderr",
     "output_type": "stream",
     "text": [
      "ok"
     ]
    },
    {
     "name": "stderr",
     "output_type": "stream",
     "text": [
      "\n"
     ]
    },
    {
     "name": "stderr",
     "output_type": "stream",
     "text": [
      "test_abs_energy_3_empty_ts (vbi.tests.test_features.TestAbsEnergy) ... "
     ]
    },
    {
     "name": "stderr",
     "output_type": "stream",
     "text": [
      "ok\n"
     ]
    },
    {
     "name": "stderr",
     "output_type": "stream",
     "text": [
      "test_abs_energy_4_nan_values (vbi.tests.test_features.TestAbsEnergy) ... "
     ]
    },
    {
     "name": "stderr",
     "output_type": "stream",
     "text": [
      "ok\n"
     ]
    },
    {
     "name": "stderr",
     "output_type": "stream",
     "text": [
      "test_abs_energy_5_infinite_values (vbi.tests.test_features.TestAbsEnergy) ... "
     ]
    },
    {
     "name": "stderr",
     "output_type": "stream",
     "text": [
      "ok\n"
     ]
    },
    {
     "name": "stderr",
     "output_type": "stream",
     "text": [
      "test_abs_energy_6_positive_values_fixed (vbi.tests.test_features.TestAbsEnergy) ... "
     ]
    },
    {
     "name": "stderr",
     "output_type": "stream",
     "text": [
      "ok\n"
     ]
    },
    {
     "name": "stderr",
     "output_type": "stream",
     "text": [
      "test_auc_0_computes_area_under_curve_with_dx (vbi.tests.test_features.TestAuc) ... "
     ]
    },
    {
     "name": "stderr",
     "output_type": "stream",
     "text": [
      "ok\n"
     ]
    },
    {
     "name": "stderr",
     "output_type": "stream",
     "text": [
      "test_auc_1_computes_area_under_curve_with_x (vbi.tests.test_features.TestAuc) ... "
     ]
    },
    {
     "name": "stderr",
     "output_type": "stream",
     "text": [
      "ok\n"
     ]
    },
    {
     "name": "stderr",
     "output_type": "stream",
     "text": [
      "test_auc_2_computes_area_under_curve_with_empty_ts (vbi.tests.test_features.TestAuc) ... "
     ]
    },
    {
     "name": "stderr",
     "output_type": "stream",
     "text": [
      "ok\n"
     ]
    },
    {
     "name": "stderr",
     "output_type": "stream",
     "text": [
      "test_auc_3_handles_list_input (vbi.tests.test_features.TestAuc) ... "
     ]
    },
    {
     "name": "stderr",
     "output_type": "stream",
     "text": [
      "ok\n"
     ]
    },
    {
     "name": "stderr",
     "output_type": "stream",
     "text": [
      "test_auc_4_handles_single_value_ts (vbi.tests.test_features.TestAuc) ... "
     ]
    },
    {
     "name": "stderr",
     "output_type": "stream",
     "text": [
      "ok\n"
     ]
    },
    {
     "name": "stderr",
     "output_type": "stream",
     "text": [
      "test_auc_5_handles_empty_ts (vbi.tests.test_features.TestAuc) ... "
     ]
    },
    {
     "name": "stderr",
     "output_type": "stream",
     "text": [
      "ok\n"
     ]
    },
    {
     "name": "stderr",
     "output_type": "stream",
     "text": [
      "test_auc_6_computes_area_under_curve_with_custom_dx (vbi.tests.test_features.TestAuc) ... "
     ]
    },
    {
     "name": "stderr",
     "output_type": "stream",
     "text": [
      "ok\n"
     ]
    },
    {
     "name": "stderr",
     "output_type": "stream",
     "text": [
      "test_auc_7_handles_nan_values (vbi.tests.test_features.TestAuc) ... "
     ]
    },
    {
     "name": "stderr",
     "output_type": "stream",
     "text": [
      "ok\n"
     ]
    },
    {
     "name": "stderr",
     "output_type": "stream",
     "text": [
      "test_auc_lim_0_computes_area_under_curve_within_limit (vbi.tests.test_features.TestAucLim) ... "
     ]
    },
    {
     "name": "stderr",
     "output_type": "stream",
     "text": [
      "ok\n"
     ]
    },
    {
     "name": "stderr",
     "output_type": "stream",
     "text": [
      "test_auc_lim_1_handles_multiple_limits (vbi.tests.test_features.TestAucLim) ... "
     ]
    },
    {
     "name": "stderr",
     "output_type": "stream",
     "text": [
      "ok\n"
     ]
    },
    {
     "name": "stderr",
     "output_type": "stream",
     "text": [
      "test_auc_lim_2_handles_custom_x_values (vbi.tests.test_features.TestAucLim) ... "
     ]
    },
    {
     "name": "stderr",
     "output_type": "stream",
     "text": [
      "ok\n"
     ]
    },
    {
     "name": "stderr",
     "output_type": "stream",
     "text": [
      "test_auc_lim_3_handles_dx (vbi.tests.test_features.TestAucLim) ... "
     ]
    },
    {
     "name": "stderr",
     "output_type": "stream",
     "text": [
      "ok\n"
     ]
    },
    {
     "name": "stderr",
     "output_type": "stream",
     "text": [
      "test_auc_lim_4_handles_empty_ts (vbi.tests.test_features.TestAucLim) ... "
     ]
    },
    {
     "name": "stderr",
     "output_type": "stream",
     "text": [
      "ok\n"
     ]
    },
    {
     "name": "stderr",
     "output_type": "stream",
     "text": [
      "test_auc_lim_5_handles_nan_values (vbi.tests.test_features.TestAucLim) ... "
     ]
    },
    {
     "name": "stderr",
     "output_type": "stream",
     "text": [
      "ok\n"
     ]
    },
    {
     "name": "stderr",
     "output_type": "stream",
     "text": [
      "test_average_power_0_positive_values (vbi.tests.test_features.TestAveragePower) ... "
     ]
    },
    {
     "name": "stderr",
     "output_type": "stream",
     "text": [
      "ok\n"
     ]
    },
    {
     "name": "stderr",
     "output_type": "stream",
     "text": [
      "test_average_power_1_empty_ts (vbi.tests.test_features.TestAveragePower) ... "
     ]
    },
    {
     "name": "stderr",
     "output_type": "stream",
     "text": [
      "ok\n"
     ]
    },
    {
     "name": "stderr",
     "output_type": "stream",
     "text": [
      "test_average_power_2_mixed_values (vbi.tests.test_features.TestAveragePower) ... "
     ]
    },
    {
     "name": "stderr",
     "output_type": "stream",
     "text": [
      "ok\n"
     ]
    },
    {
     "name": "stderr",
     "output_type": "stream",
     "text": [
      "test_average_power_3_nan_values (vbi.tests.test_features.TestAveragePower) ... "
     ]
    },
    {
     "name": "stderr",
     "output_type": "stream",
     "text": [
      "ok\n"
     ]
    },
    {
     "name": "stderr",
     "output_type": "stream",
     "text": [
      "test_average_power_4_infinite_values (vbi.tests.test_features.TestAveragePower) ... "
     ]
    },
    {
     "name": "stderr",
     "output_type": "stream",
     "text": [
      "ok\n"
     ]
    },
    {
     "name": "stderr",
     "output_type": "stream",
     "text": [
      "test_average_power_5_positive_values_fixed (vbi.tests.test_features.TestAveragePower) ... "
     ]
    },
    {
     "name": "stderr",
     "output_type": "stream",
     "text": [
      "ok\n"
     ]
    },
    {
     "name": "stderr",
     "output_type": "stream",
     "text": [
      "test_calc_centroid_0_positive_values (vbi.tests.test_features.TestCalcCentroid) ... "
     ]
    },
    {
     "name": "stderr",
     "output_type": "stream",
     "text": [
      "ok\n"
     ]
    },
    {
     "name": "stderr",
     "output_type": "stream",
     "text": [
      "test_calc_centroid_1_empty_ts (vbi.tests.test_features.TestCalcCentroid) ... "
     ]
    },
    {
     "name": "stderr",
     "output_type": "stream",
     "text": [
      "ok\n"
     ]
    },
    {
     "name": "stderr",
     "output_type": "stream",
     "text": [
      "test_calc_centroid_2_mixed_values (vbi.tests.test_features.TestCalcCentroid) ... "
     ]
    },
    {
     "name": "stderr",
     "output_type": "stream",
     "text": [
      "ok\n"
     ]
    },
    {
     "name": "stderr",
     "output_type": "stream",
     "text": [
      "test_calc_centroid_3_nan_values (vbi.tests.test_features.TestCalcCentroid) ... "
     ]
    },
    {
     "name": "stderr",
     "output_type": "stream",
     "text": [
      "ok\n"
     ]
    },
    {
     "name": "stderr",
     "output_type": "stream",
     "text": [
      "test_calc_centroid_4_infinite_values (vbi.tests.test_features.TestCalcCentroid) ... "
     ]
    },
    {
     "name": "stderr",
     "output_type": "stream",
     "text": [
      "ok\n"
     ]
    },
    {
     "name": "stderr",
     "output_type": "stream",
     "text": [
      "test_calc_centroid_5_positive_values_fixed (vbi.tests.test_features.TestCalcCentroid) ... "
     ]
    },
    {
     "name": "stderr",
     "output_type": "stream",
     "text": [
      "ok\n"
     ]
    },
    {
     "name": "stderr",
     "output_type": "stream",
     "text": [
      "test_calc_kurtosis_0_positive_values (vbi.tests.test_features.TestCalcKurtosis) ... "
     ]
    },
    {
     "name": "stderr",
     "output_type": "stream",
     "text": [
      "ok\n"
     ]
    },
    {
     "name": "stderr",
     "output_type": "stream",
     "text": [
      "test_calc_kurtosis_1_empty_ts (vbi.tests.test_features.TestCalcKurtosis) ... "
     ]
    },
    {
     "name": "stderr",
     "output_type": "stream",
     "text": [
      "ok\n"
     ]
    },
    {
     "name": "stderr",
     "output_type": "stream",
     "text": [
      "test_calc_kurtosis_2_mixed_values (vbi.tests.test_features.TestCalcKurtosis) ... "
     ]
    },
    {
     "name": "stderr",
     "output_type": "stream",
     "text": [
      "ok\n"
     ]
    },
    {
     "name": "stderr",
     "output_type": "stream",
     "text": [
      "test_calc_kurtosis_3_nan_values (vbi.tests.test_features.TestCalcKurtosis) ... "
     ]
    },
    {
     "name": "stderr",
     "output_type": "stream",
     "text": [
      "ok\n"
     ]
    },
    {
     "name": "stderr",
     "output_type": "stream",
     "text": [
      "test_calc_kurtosis_4_infinite_values (vbi.tests.test_features.TestCalcKurtosis) ... "
     ]
    },
    {
     "name": "stderr",
     "output_type": "stream",
     "text": [
      "ok\n"
     ]
    },
    {
     "name": "stderr",
     "output_type": "stream",
     "text": [
      "test_calc_kurtosis_5_positive_values_fixed (vbi.tests.test_features.TestCalcKurtosis) ... "
     ]
    },
    {
     "name": "stderr",
     "output_type": "stream",
     "text": [
      "ok\n"
     ]
    },
    {
     "name": "stderr",
     "output_type": "stream",
     "text": [
      "test_calc_mean_0_positive_values (vbi.tests.test_features.TestCalcMean) ... "
     ]
    },
    {
     "name": "stderr",
     "output_type": "stream",
     "text": [
      "ok\n"
     ]
    },
    {
     "name": "stderr",
     "output_type": "stream",
     "text": [
      "test_calc_mean_1_empty_ts (vbi.tests.test_features.TestCalcMean) ... "
     ]
    },
    {
     "name": "stderr",
     "output_type": "stream",
     "text": [
      "ok\n"
     ]
    },
    {
     "name": "stderr",
     "output_type": "stream",
     "text": [
      "test_calc_mean_2_mixed_values (vbi.tests.test_features.TestCalcMean) ... "
     ]
    },
    {
     "name": "stderr",
     "output_type": "stream",
     "text": [
      "ok\n"
     ]
    },
    {
     "name": "stderr",
     "output_type": "stream",
     "text": [
      "test_calc_mean_3_nan_values (vbi.tests.test_features.TestCalcMean) ... "
     ]
    },
    {
     "name": "stderr",
     "output_type": "stream",
     "text": [
      "ok\n"
     ]
    },
    {
     "name": "stderr",
     "output_type": "stream",
     "text": [
      "test_calc_mean_4_infinite_values (vbi.tests.test_features.TestCalcMean) ... "
     ]
    },
    {
     "name": "stderr",
     "output_type": "stream",
     "text": [
      "ok\n"
     ]
    },
    {
     "name": "stderr",
     "output_type": "stream",
     "text": [
      "test_calc_mean_5_positive_values_fixed (vbi.tests.test_features.TestCalcMean) ... "
     ]
    },
    {
     "name": "stderr",
     "output_type": "stream",
     "text": [
      "ok\n"
     ]
    },
    {
     "name": "stderr",
     "output_type": "stream",
     "text": [
      "test_calc_std_0_positive_values (vbi.tests.test_features.TestCalcStd) ... "
     ]
    },
    {
     "name": "stderr",
     "output_type": "stream",
     "text": [
      "ok\n"
     ]
    },
    {
     "name": "stderr",
     "output_type": "stream",
     "text": [
      "test_calc_std_1_empty_ts (vbi.tests.test_features.TestCalcStd) ... "
     ]
    },
    {
     "name": "stderr",
     "output_type": "stream",
     "text": [
      "ok\n"
     ]
    },
    {
     "name": "stderr",
     "output_type": "stream",
     "text": [
      "test_calc_std_2_mixed_values (vbi.tests.test_features.TestCalcStd) ... "
     ]
    },
    {
     "name": "stderr",
     "output_type": "stream",
     "text": [
      "ok\n"
     ]
    },
    {
     "name": "stderr",
     "output_type": "stream",
     "text": [
      "test_calc_std_3_nan_values (vbi.tests.test_features.TestCalcStd) ... "
     ]
    },
    {
     "name": "stderr",
     "output_type": "stream",
     "text": [
      "ok\n"
     ]
    },
    {
     "name": "stderr",
     "output_type": "stream",
     "text": [
      "test_calc_std_4_infinite_values (vbi.tests.test_features.TestCalcStd) ... "
     ]
    },
    {
     "name": "stderr",
     "output_type": "stream",
     "text": [
      "ok\n"
     ]
    },
    {
     "name": "stderr",
     "output_type": "stream",
     "text": [
      "test_calc_std_5_positive_values_fixed (vbi.tests.test_features.TestCalcStd) ... "
     ]
    },
    {
     "name": "stderr",
     "output_type": "stream",
     "text": [
      "ok\n"
     ]
    },
    {
     "name": "stderr",
     "output_type": "stream",
     "text": [
      "test_calc_var_0_computes_variance_single_ts (vbi.tests.test_features.TestCalcVar) ... "
     ]
    },
    {
     "name": "stderr",
     "output_type": "stream",
     "text": [
      "ok\n"
     ]
    },
    {
     "name": "stderr",
     "output_type": "stream",
     "text": [
      "test_calc_var_1_computes_variance_multiple_ts (vbi.tests.test_features.TestCalcVar) ... "
     ]
    },
    {
     "name": "stderr",
     "output_type": "stream",
     "text": [
      "ok\n"
     ]
    },
    {
     "name": "stderr",
     "output_type": "stream",
     "text": [
      "test_calc_var_2_handles_empty_ts (vbi.tests.test_features.TestCalcVar) ... "
     ]
    },
    {
     "name": "stderr",
     "output_type": "stream",
     "text": [
      "ok\n"
     ]
    },
    {
     "name": "stderr",
     "output_type": "stream",
     "text": [
      "test_calc_var_3_handles_nan_values (vbi.tests.test_features.TestCalcVar) ... "
     ]
    },
    {
     "name": "stderr",
     "output_type": "stream",
     "text": [
      "ok\n"
     ]
    },
    {
     "name": "stderr",
     "output_type": "stream",
     "text": [
      "test_interq_range_0 (vbi.tests.test_features.TestInterqRange) ... "
     ]
    },
    {
     "name": "stderr",
     "output_type": "stream",
     "text": [
      "ok\n"
     ]
    },
    {
     "name": "stderr",
     "output_type": "stream",
     "text": [
      "test_interq_range_1 (vbi.tests.test_features.TestInterqRange) ... "
     ]
    },
    {
     "name": "stderr",
     "output_type": "stream",
     "text": [
      "ok\n"
     ]
    },
    {
     "name": "stderr",
     "output_type": "stream",
     "text": [
      "test_interq_range_2 (vbi.tests.test_features.TestInterqRange) ... "
     ]
    },
    {
     "name": "stderr",
     "output_type": "stream",
     "text": [
      "ok\n"
     ]
    },
    {
     "name": "stderr",
     "output_type": "stream",
     "text": [
      "test_max_0_positive_values (vbi.tests.test_features.TestMax) ... "
     ]
    },
    {
     "name": "stderr",
     "output_type": "stream",
     "text": [
      "ok\n"
     ]
    },
    {
     "name": "stderr",
     "output_type": "stream",
     "text": [
      "test_max_1_empty_ts (vbi.tests.test_features.TestMax) ... "
     ]
    },
    {
     "name": "stderr",
     "output_type": "stream",
     "text": [
      "ok\n"
     ]
    },
    {
     "name": "stderr",
     "output_type": "stream",
     "text": [
      "test_max_2_mixed_values (vbi.tests.test_features.TestMax) ... "
     ]
    },
    {
     "name": "stderr",
     "output_type": "stream",
     "text": [
      "ok\n"
     ]
    },
    {
     "name": "stderr",
     "output_type": "stream",
     "text": [
      "test_max_3_nan_values (vbi.tests.test_features.TestMax) ... "
     ]
    },
    {
     "name": "stderr",
     "output_type": "stream",
     "text": [
      "ok\n"
     ]
    },
    {
     "name": "stderr",
     "output_type": "stream",
     "text": [
      "test_max_4_infinite_values (vbi.tests.test_features.TestMax) ... "
     ]
    },
    {
     "name": "stderr",
     "output_type": "stream",
     "text": [
      "ok\n"
     ]
    },
    {
     "name": "stderr",
     "output_type": "stream",
     "text": [
      "test_max_5_positive_values_fixed (vbi.tests.test_features.TestMax) ... "
     ]
    },
    {
     "name": "stderr",
     "output_type": "stream",
     "text": [
      "ok\n"
     ]
    },
    {
     "name": "stderr",
     "output_type": "stream",
     "text": [
      "test_mean_abs_dev_0_positive_values (vbi.tests.test_features.TestMeanAbsDev) ... "
     ]
    },
    {
     "name": "stderr",
     "output_type": "stream",
     "text": [
      "ok\n"
     ]
    },
    {
     "name": "stderr",
     "output_type": "stream",
     "text": [
      "test_mean_abs_dev_1_empty_ts (vbi.tests.test_features.TestMeanAbsDev) ... "
     ]
    },
    {
     "name": "stderr",
     "output_type": "stream",
     "text": [
      "ok\n"
     ]
    },
    {
     "name": "stderr",
     "output_type": "stream",
     "text": [
      "test_mean_abs_dev_2_mixed_values (vbi.tests.test_features.TestMeanAbsDev) ... "
     ]
    },
    {
     "name": "stderr",
     "output_type": "stream",
     "text": [
      "ok\n"
     ]
    },
    {
     "name": "stderr",
     "output_type": "stream",
     "text": [
      "test_mean_abs_dev_3_nan_values (vbi.tests.test_features.TestMeanAbsDev) ... "
     ]
    },
    {
     "name": "stderr",
     "output_type": "stream",
     "text": [
      "ok\n"
     ]
    },
    {
     "name": "stderr",
     "output_type": "stream",
     "text": [
      "test_mean_abs_dev_4_infinite_values (vbi.tests.test_features.TestMeanAbsDev) ... "
     ]
    },
    {
     "name": "stderr",
     "output_type": "stream",
     "text": [
      "ok\n"
     ]
    },
    {
     "name": "stderr",
     "output_type": "stream",
     "text": [
      "test_mean_abs_dev_5_positive_values_fixed (vbi.tests.test_features.TestMeanAbsDev) ... "
     ]
    },
    {
     "name": "stderr",
     "output_type": "stream",
     "text": [
      "ok\n"
     ]
    },
    {
     "name": "stderr",
     "output_type": "stream",
     "text": [
      "test_median_0_positive_values (vbi.tests.test_features.TestMedian) ... "
     ]
    },
    {
     "name": "stderr",
     "output_type": "stream",
     "text": [
      "ok\n"
     ]
    },
    {
     "name": "stderr",
     "output_type": "stream",
     "text": [
      "test_median_1_empty_ts (vbi.tests.test_features.TestMedian) ... "
     ]
    },
    {
     "name": "stderr",
     "output_type": "stream",
     "text": [
      "ok\n"
     ]
    },
    {
     "name": "stderr",
     "output_type": "stream",
     "text": [
      "test_median_2_mixed_values (vbi.tests.test_features.TestMedian) ... "
     ]
    },
    {
     "name": "stderr",
     "output_type": "stream",
     "text": [
      "ok\n"
     ]
    },
    {
     "name": "stderr",
     "output_type": "stream",
     "text": [
      "test_median_3_nan_values (vbi.tests.test_features.TestMedian) ... "
     ]
    },
    {
     "name": "stderr",
     "output_type": "stream",
     "text": [
      "ok\n"
     ]
    },
    {
     "name": "stderr",
     "output_type": "stream",
     "text": [
      "test_median_4_infinite_values (vbi.tests.test_features.TestMedian) ... "
     ]
    },
    {
     "name": "stderr",
     "output_type": "stream",
     "text": [
      "ok\n"
     ]
    },
    {
     "name": "stderr",
     "output_type": "stream",
     "text": [
      "test_median_5_positive_values_fixed (vbi.tests.test_features.TestMedian) ... "
     ]
    },
    {
     "name": "stderr",
     "output_type": "stream",
     "text": [
      "ok\n"
     ]
    },
    {
     "name": "stderr",
     "output_type": "stream",
     "text": [
      "test_median_abs_dev_0_positive_values (vbi.tests.test_features.TestMedianAbsDev) ... "
     ]
    },
    {
     "name": "stderr",
     "output_type": "stream",
     "text": [
      "ok\n"
     ]
    },
    {
     "name": "stderr",
     "output_type": "stream",
     "text": [
      "test_median_abs_dev_1_empty_ts (vbi.tests.test_features.TestMedianAbsDev) ... "
     ]
    },
    {
     "name": "stderr",
     "output_type": "stream",
     "text": [
      "ok\n"
     ]
    },
    {
     "name": "stderr",
     "output_type": "stream",
     "text": [
      "test_median_abs_dev_2_mixed_values (vbi.tests.test_features.TestMedianAbsDev) ... "
     ]
    },
    {
     "name": "stderr",
     "output_type": "stream",
     "text": [
      "ok\n"
     ]
    },
    {
     "name": "stderr",
     "output_type": "stream",
     "text": [
      "test_median_abs_dev_3_nan_values (vbi.tests.test_features.TestMedianAbsDev) ... "
     ]
    },
    {
     "name": "stderr",
     "output_type": "stream",
     "text": [
      "ok\n"
     ]
    },
    {
     "name": "stderr",
     "output_type": "stream",
     "text": [
      "test_median_abs_dev_4_infinite_values (vbi.tests.test_features.TestMedianAbsDev) ... "
     ]
    },
    {
     "name": "stderr",
     "output_type": "stream",
     "text": [
      "ok\n"
     ]
    },
    {
     "name": "stderr",
     "output_type": "stream",
     "text": [
      "test_median_abs_dev_5_positive_values_fixed (vbi.tests.test_features.TestMedianAbsDev) ... "
     ]
    },
    {
     "name": "stderr",
     "output_type": "stream",
     "text": [
      "ok\n"
     ]
    },
    {
     "name": "stderr",
     "output_type": "stream",
     "text": [
      "test_min_0_positive_values (vbi.tests.test_features.TestMin) ... "
     ]
    },
    {
     "name": "stderr",
     "output_type": "stream",
     "text": [
      "ok\n"
     ]
    },
    {
     "name": "stderr",
     "output_type": "stream",
     "text": [
      "test_min_1_empty_ts (vbi.tests.test_features.TestMin) ... "
     ]
    },
    {
     "name": "stderr",
     "output_type": "stream",
     "text": [
      "ok\n"
     ]
    },
    {
     "name": "stderr",
     "output_type": "stream",
     "text": [
      "test_min_2_mixed_values (vbi.tests.test_features.TestMin) ... "
     ]
    },
    {
     "name": "stderr",
     "output_type": "stream",
     "text": [
      "ok\n"
     ]
    },
    {
     "name": "stderr",
     "output_type": "stream",
     "text": [
      "test_min_3_nan_values (vbi.tests.test_features.TestMin) ... "
     ]
    },
    {
     "name": "stderr",
     "output_type": "stream",
     "text": [
      "ok\n"
     ]
    },
    {
     "name": "stderr",
     "output_type": "stream",
     "text": [
      "test_min_4_infinite_values (vbi.tests.test_features.TestMin) ... "
     ]
    },
    {
     "name": "stderr",
     "output_type": "stream",
     "text": [
      "ok\n"
     ]
    },
    {
     "name": "stderr",
     "output_type": "stream",
     "text": [
      "test_min_5_positive_values_fixed (vbi.tests.test_features.TestMin) ... "
     ]
    },
    {
     "name": "stderr",
     "output_type": "stream",
     "text": [
      "ok\n"
     ]
    },
    {
     "name": "stderr",
     "output_type": "stream",
     "text": [
      "test_rms_0_positive_values (vbi.tests.test_features.TestRms) ... "
     ]
    },
    {
     "name": "stderr",
     "output_type": "stream",
     "text": [
      "ok\n"
     ]
    },
    {
     "name": "stderr",
     "output_type": "stream",
     "text": [
      "test_rms_1_empty_ts (vbi.tests.test_features.TestRms) ... "
     ]
    },
    {
     "name": "stderr",
     "output_type": "stream",
     "text": [
      "ok\n"
     ]
    },
    {
     "name": "stderr",
     "output_type": "stream",
     "text": [
      "test_rms_2_mixed_values (vbi.tests.test_features.TestRms) ... "
     ]
    },
    {
     "name": "stderr",
     "output_type": "stream",
     "text": [
      "ok\n"
     ]
    },
    {
     "name": "stderr",
     "output_type": "stream",
     "text": [
      "test_rms_3_nan_values (vbi.tests.test_features.TestRms) ... "
     ]
    },
    {
     "name": "stderr",
     "output_type": "stream",
     "text": [
      "ok\n"
     ]
    },
    {
     "name": "stderr",
     "output_type": "stream",
     "text": [
      "test_rms_4_infinite_values (vbi.tests.test_features.TestRms) ... "
     ]
    },
    {
     "name": "stderr",
     "output_type": "stream",
     "text": [
      "ok\n"
     ]
    },
    {
     "name": "stderr",
     "output_type": "stream",
     "text": [
      "test_rms_5_positive_values_fixed (vbi.tests.test_features.TestRms) ... "
     ]
    },
    {
     "name": "stderr",
     "output_type": "stream",
     "text": [
      "ok"
     ]
    },
    {
     "name": "stderr",
     "output_type": "stream",
     "text": [
      "\n"
     ]
    },
    {
     "name": "stderr",
     "output_type": "stream",
     "text": [
      "test_skewness_0_positive_values (vbi.tests.test_features.TestSkewness) ... "
     ]
    },
    {
     "name": "stderr",
     "output_type": "stream",
     "text": [
      "ok\n"
     ]
    },
    {
     "name": "stderr",
     "output_type": "stream",
     "text": [
      "test_skewness_1_empty_ts (vbi.tests.test_features.TestSkewness) ... "
     ]
    },
    {
     "name": "stderr",
     "output_type": "stream",
     "text": [
      "ok\n"
     ]
    },
    {
     "name": "stderr",
     "output_type": "stream",
     "text": [
      "test_skewness_2_mixed_values (vbi.tests.test_features.TestSkewness) ... "
     ]
    },
    {
     "name": "stderr",
     "output_type": "stream",
     "text": [
      "ok\n"
     ]
    },
    {
     "name": "stderr",
     "output_type": "stream",
     "text": [
      "test_skewness_3_nan_values (vbi.tests.test_features.TestSkewness) ... "
     ]
    },
    {
     "name": "stderr",
     "output_type": "stream",
     "text": [
      "ok\n"
     ]
    },
    {
     "name": "stderr",
     "output_type": "stream",
     "text": [
      "test_skewness_4_infinite_values (vbi.tests.test_features.TestSkewness) ... "
     ]
    },
    {
     "name": "stderr",
     "output_type": "stream",
     "text": [
      "ok\n"
     ]
    },
    {
     "name": "stderr",
     "output_type": "stream",
     "text": [
      "test_skewness_5_positive_values_fixed (vbi.tests.test_features.TestSkewness) ... "
     ]
    },
    {
     "name": "stderr",
     "output_type": "stream",
     "text": [
      "ok\n"
     ]
    },
    {
     "name": "stderr",
     "output_type": "stream",
     "text": [
      "test_zero_crossing_0 (vbi.tests.test_features.TestZeroCrossing) ... "
     ]
    },
    {
     "name": "stderr",
     "output_type": "stream",
     "text": [
      "ok\n"
     ]
    },
    {
     "name": "stderr",
     "output_type": "stream",
     "text": [
      "test_zero_crossing_1 (vbi.tests.test_features.TestZeroCrossing) ... "
     ]
    },
    {
     "name": "stderr",
     "output_type": "stream",
     "text": [
      "ok\n"
     ]
    },
    {
     "name": "stderr",
     "output_type": "stream",
     "text": [
      "test_zero_crossing_2 (vbi.tests.test_features.TestZeroCrossing) ... "
     ]
    },
    {
     "name": "stderr",
     "output_type": "stream",
     "text": [
      "ok\n"
     ]
    },
    {
     "name": "stderr",
     "output_type": "stream",
     "text": [
      "test_run (vbi.tests.test_mpr_numba.testMPRSDE) ... "
     ]
    },
    {
     "name": "stderr",
     "output_type": "stream",
     "text": [
      "ok\n"
     ]
    },
    {
     "name": "stderr",
     "output_type": "stream",
     "text": [
      "test_cdf_0_1d_corner_cases (vbi.tests.test_boxuniform.TestBoxUniform)\n",
      "Test cumulative distribution function [with name='1d_corner_cases', low=0.0, high=1.0, test_points=[[0.0], [1.0], [0.5]], expected_cdf=[0.0, 1.0, 0.5]]. ... "
     ]
    },
    {
     "name": "stderr",
     "output_type": "stream",
     "text": [
      "ok\n"
     ]
    },
    {
     "name": "stderr",
     "output_type": "stream",
     "text": [
      "test_cdf_1_2d_corner_cases (vbi.tests.test_boxuniform.TestBoxUniform)\n",
      "Test cumulative distribution function [with name='2d_corner_cases', low=[0.0, 0.0], high=[1.0, 2.0], test_points=[[0.0, 0.0], [1.0, 2.0], [0.5, 1.0]], expected_cdf=[0.0, 1.0, 0.25]]. ... "
     ]
    },
    {
     "name": "stderr",
     "output_type": "stream",
     "text": [
      "ok\n"
     ]
    },
    {
     "name": "stderr",
     "output_type": "stream",
     "text": [
      "test_dtype_consistency (vbi.tests.test_boxuniform.TestBoxUniform)\n",
      "Test that all operations maintain dtype consistency. ... "
     ]
    },
    {
     "name": "stderr",
     "output_type": "stream",
     "text": [
      "ok\n"
     ]
    },
    {
     "name": "stderr",
     "output_type": "stream",
     "text": [
      "test_dtype_input_conversion (vbi.tests.test_boxuniform.TestBoxUniform)\n",
      "Test that input arrays are converted to the specified dtype. ... "
     ]
    },
    {
     "name": "stderr",
     "output_type": "stream",
     "text": [
      "ok\n"
     ]
    },
    {
     "name": "stderr",
     "output_type": "stream",
     "text": [
      "test_dtype_memory_efficiency (vbi.tests.test_boxuniform.TestBoxUniform)\n",
      "Test that float32 uses less memory than float64. ... "
     ]
    },
    {
     "name": "stderr",
     "output_type": "stream",
     "text": [
      "ok\n"
     ]
    },
    {
     "name": "stderr",
     "output_type": "stream",
     "text": [
      "test_dtype_precision_differences (vbi.tests.test_boxuniform.TestBoxUniform)\n",
      "Test numerical differences between float32 and float64. ... "
     ]
    },
    {
     "name": "stderr",
     "output_type": "stream",
     "text": [
      "ok\n"
     ]
    },
    {
     "name": "stderr",
     "output_type": "stream",
     "text": [
      "test_edge_cases (vbi.tests.test_boxuniform.TestBoxUniform)\n",
      "Test edge cases and boundary conditions. ... "
     ]
    },
    {
     "name": "stderr",
     "output_type": "stream",
     "text": [
      "ok\n"
     ]
    },
    {
     "name": "stderr",
     "output_type": "stream",
     "text": [
      "test_initialization_0_1d_case (vbi.tests.test_boxuniform.TestBoxUniform)\n",
      "Test BoxUniform initialization with different configurations [with name='1d_case', low=0.0, high=1.0, dtype=<class 'numpy.float64'>]. ... "
     ]
    },
    {
     "name": "stderr",
     "output_type": "stream",
     "text": [
      "ok\n"
     ]
    },
    {
     "name": "stderr",
     "output_type": "stream",
     "text": [
      "test_initialization_1_1d_case_float32 (vbi.tests.test_boxuniform.TestBoxUniform)\n",
      "Test BoxUniform initialization with different configurations [with name='1d_case_float32', low=0.0, high=1.0, dtype=<class 'numpy.float32'>]. ... "
     ]
    },
    {
     "name": "stderr",
     "output_type": "stream",
     "text": [
      "ok\n"
     ]
    },
    {
     "name": "stderr",
     "output_type": "stream",
     "text": [
      "test_initialization_2_2d_case (vbi.tests.test_boxuniform.TestBoxUniform)\n",
      "Test BoxUniform initialization with different configurations [with name='2d_case', low=[0.0, -1.0], high=[1.0, 1.0], dtype=<class 'numpy.float64'>]. ... "
     ]
    },
    {
     "name": "stderr",
     "output_type": "stream",
     "text": [
      "ok\n"
     ]
    },
    {
     "name": "stderr",
     "output_type": "stream",
     "text": [
      "test_initialization_3_3d_case (vbi.tests.test_boxuniform.TestBoxUniform)\n",
      "Test BoxUniform initialization with different configurations [with name='3d_case', low=[-1.0, -2.0, 0.0], high=[2.0, 1.0, 3.0], dtype=<class 'numpy.float64'>]. ... "
     ]
    },
    {
     "name": "stderr",
     "output_type": "stream",
     "text": [
      "ok\n"
     ]
    },
    {
     "name": "stderr",
     "output_type": "stream",
     "text": [
      "test_initialization_default_dtype (vbi.tests.test_boxuniform.TestBoxUniform)\n",
      "Test that default dtype is np.float64. ... "
     ]
    },
    {
     "name": "stderr",
     "output_type": "stream",
     "text": [
      "ok\n"
     ]
    },
    {
     "name": "stderr",
     "output_type": "stream",
     "text": [
      "test_initialization_errors (vbi.tests.test_boxuniform.TestBoxUniform)\n",
      "Test that initialization raises appropriate errors. ... "
     ]
    },
    {
     "name": "stderr",
     "output_type": "stream",
     "text": [
      "ok\n"
     ]
    },
    {
     "name": "stderr",
     "output_type": "stream",
     "text": [
      "test_initialization_with_seed (vbi.tests.test_boxuniform.TestBoxUniform)\n",
      "Test BoxUniform initialization with seed parameter. ... "
     ]
    },
    {
     "name": "stderr",
     "output_type": "stream",
     "text": [
      "ok\n"
     ]
    },
    {
     "name": "stderr",
     "output_type": "stream",
     "text": [
      "test_large_batch_sampling (vbi.tests.test_boxuniform.TestBoxUniform)\n",
      "Test sampling with large batch sizes. ... "
     ]
    },
    {
     "name": "stderr",
     "output_type": "stream",
     "text": [
      "ok\n"
     ]
    },
    {
     "name": "stderr",
     "output_type": "stream",
     "text": [
      "test_log_prob_0_1d_inside (vbi.tests.test_boxuniform.TestBoxUniform)\n",
      "Test log probability calculations [with name='1d_inside', low=0.0, high=1.0, test_point=0.5, expected_log_prob=0.0]. ... "
     ]
    },
    {
     "name": "stderr",
     "output_type": "stream",
     "text": [
      "ok\n"
     ]
    },
    {
     "name": "stderr",
     "output_type": "stream",
     "text": [
      "test_log_prob_1_1d_outside_low (vbi.tests.test_boxuniform.TestBoxUniform)\n",
      "Test log probability calculations [with name='1d_outside_low', low=0.0, high=1.0, test_point=-0.5, expected_log_prob=-inf]. ... "
     ]
    },
    {
     "name": "stderr",
     "output_type": "stream",
     "text": [
      "ok\n"
     ]
    },
    {
     "name": "stderr",
     "output_type": "stream",
     "text": [
      "test_log_prob_2_1d_outside_high (vbi.tests.test_boxuniform.TestBoxUniform)\n",
      "Test log probability calculations [with name='1d_outside_high', low=0.0, high=1.0, test_point=1.5, expected_log_prob=-inf]. ... "
     ]
    },
    {
     "name": "stderr",
     "output_type": "stream",
     "text": [
      "ok\n"
     ]
    },
    {
     "name": "stderr",
     "output_type": "stream",
     "text": [
      "test_log_prob_3_2d_inside (vbi.tests.test_boxuniform.TestBoxUniform)\n",
      "Test log probability calculations [with name='2d_inside', low=[0.0, 0.0], high=[1.0, 2.0], test_point=[0.5, 1.0], expected_log_prob=-0.6931471805599453]. ... "
     ]
    },
    {
     "name": "stderr",
     "output_type": "stream",
     "text": [
      "ok\n"
     ]
    },
    {
     "name": "stderr",
     "output_type": "stream",
     "text": [
      "test_log_prob_4_2d_outside (vbi.tests.test_boxuniform.TestBoxUniform)\n",
      "Test log probability calculations [with name='2d_outside', low=[0.0, 0.0], high=[1.0, 2.0], test_point=[1.5, 1.0], expected_log_prob=-inf]. ... "
     ]
    },
    {
     "name": "stderr",
     "output_type": "stream",
     "text": [
      "ok\n"
     ]
    },
    {
     "name": "stderr",
     "output_type": "stream",
     "text": [
      "test_log_prob_batch (vbi.tests.test_boxuniform.TestBoxUniform)\n",
      "Test log probability with batch inputs. ... "
     ]
    },
    {
     "name": "stderr",
     "output_type": "stream",
     "text": [
      "ok\n"
     ]
    },
    {
     "name": "stderr",
     "output_type": "stream",
     "text": [
      "test_multidimensional_edge_cases (vbi.tests.test_boxuniform.TestBoxUniform)\n",
      "Test edge cases for multidimensional distributions. ... "
     ]
    },
    {
     "name": "stderr",
     "output_type": "stream",
     "text": [
      "ok\n"
     ]
    },
    {
     "name": "stderr",
     "output_type": "stream",
     "text": [
      "test_prob (vbi.tests.test_boxuniform.TestBoxUniform)\n",
      "Test probability density calculations. ... "
     ]
    },
    {
     "name": "stderr",
     "output_type": "stream",
     "text": [
      "ok\n"
     ]
    },
    {
     "name": "stderr",
     "output_type": "stream",
     "text": [
      "test_random_seed_reproducibility (vbi.tests.test_boxuniform.TestBoxUniform)\n",
      "Test that setting random seed produces reproducible results. ... "
     ]
    },
    {
     "name": "stderr",
     "output_type": "stream",
     "text": [
      "ok\n"
     ]
    },
    {
     "name": "stderr",
     "output_type": "stream",
     "text": [
      "test_repr (vbi.tests.test_boxuniform.TestBoxUniform)\n",
      "Test string representation. ... "
     ]
    },
    {
     "name": "stderr",
     "output_type": "stream",
     "text": [
      "ok\n"
     ]
    },
    {
     "name": "stderr",
     "output_type": "stream",
     "text": [
      "test_sampling_0_1d_single (vbi.tests.test_boxuniform.TestBoxUniform)\n",
      "Test sampling with different shapes, dimensions, and dtypes [with name='1d_single', low=0.0, high=1.0, sample_shape=1, expected_shape=(1, 1), dtype=<class 'numpy.float64'>]. ... "
     ]
    },
    {
     "name": "stderr",
     "output_type": "stream",
     "text": [
      "ok\n"
     ]
    },
    {
     "name": "stderr",
     "output_type": "stream",
     "text": [
      "test_sampling_1_1d_multiple (vbi.tests.test_boxuniform.TestBoxUniform)\n",
      "Test sampling with different shapes, dimensions, and dtypes [with name='1d_multiple', low=0.0, high=1.0, sample_shape=100, expected_shape=(100, 1), dtype=<class 'numpy.float64'>]. ... "
     ]
    },
    {
     "name": "stderr",
     "output_type": "stream",
     "text": [
      "ok\n"
     ]
    },
    {
     "name": "stderr",
     "output_type": "stream",
     "text": [
      "test_sampling_2_2d_single (vbi.tests.test_boxuniform.TestBoxUniform)\n",
      "Test sampling with different shapes, dimensions, and dtypes [with name='2d_single', low=[0.0, -1.0], high=[1.0, 1.0], sample_shape=1, expected_shape=(1, 2), dtype=<class 'numpy.float64'>]. ... "
     ]
    },
    {
     "name": "stderr",
     "output_type": "stream",
     "text": [
      "ok\n"
     ]
    },
    {
     "name": "stderr",
     "output_type": "stream",
     "text": [
      "test_sampling_3_2d_multiple (vbi.tests.test_boxuniform.TestBoxUniform)\n",
      "Test sampling with different shapes, dimensions, and dtypes [with name='2d_multiple', low=[0.0, -1.0], high=[1.0, 1.0], sample_shape=50, expected_shape=(50, 2), dtype=<class 'numpy.float64'>]. ... "
     ]
    },
    {
     "name": "stderr",
     "output_type": "stream",
     "text": [
      "ok\n"
     ]
    },
    {
     "name": "stderr",
     "output_type": "stream",
     "text": [
      "test_sampling_4_3d_batch (vbi.tests.test_boxuniform.TestBoxUniform)\n",
      "Test sampling with different shapes, dimensions, and dtypes [with name='3d_batch', low=[-1.0, 0.0, 2.0], high=[1.0, 2.0, 4.0], sample_shape=(10, 5), expected_shape=(10, 5, 3), dtype=<class 'numpy.float64'>]. ... "
     ]
    },
    {
     "name": "stderr",
     "output_type": "stream",
     "text": [
      "ok\n"
     ]
    },
    {
     "name": "stderr",
     "output_type": "stream",
     "text": [
      "test_sampling_5_1d_float32 (vbi.tests.test_boxuniform.TestBoxUniform)\n",
      "Test sampling with different shapes, dimensions, and dtypes [with name='1d_float32', low=0.0, high=1.0, sample_shape=10, expected_shape=(10, 1), dtype=<class 'numpy.float32'>]. ... "
     ]
    },
    {
     "name": "stderr",
     "output_type": "stream",
     "text": [
      "ok\n"
     ]
    },
    {
     "name": "stderr",
     "output_type": "stream",
     "text": [
      "test_sampling_6_2d_float32 (vbi.tests.test_boxuniform.TestBoxUniform)\n",
      "Test sampling with different shapes, dimensions, and dtypes [with name='2d_float32', low=[0.0, -1.0], high=[1.0, 1.0], sample_shape=20, expected_shape=(20, 2), dtype=<class 'numpy.float32'>]. ... "
     ]
    },
    {
     "name": "stderr",
     "output_type": "stream",
     "text": [
      "ok\n"
     ]
    },
    {
     "name": "stderr",
     "output_type": "stream",
     "text": [
      "test_sampling_dtype_consistency (vbi.tests.test_boxuniform.TestBoxUniform)\n",
      "Test that samples have the correct dtype. ... "
     ]
    },
    {
     "name": "stderr",
     "output_type": "stream",
     "text": [
      "ok\n"
     ]
    },
    {
     "name": "stderr",
     "output_type": "stream",
     "text": [
      "test_seed_dtype_compatibility (vbi.tests.test_boxuniform.TestBoxUniform)\n",
      "Test that seed works with different dtypes. ... "
     ]
    },
    {
     "name": "stderr",
     "output_type": "stream",
     "text": [
      "ok\n"
     ]
    },
    {
     "name": "stderr",
     "output_type": "stream",
     "text": [
      "test_seed_in_sample_method (vbi.tests.test_boxuniform.TestBoxUniform)\n",
      "Test seed parameter in sample method. ... "
     ]
    },
    {
     "name": "stderr",
     "output_type": "stream",
     "text": [
      "ok\n"
     ]
    },
    {
     "name": "stderr",
     "output_type": "stream",
     "text": [
      "test_seed_multidimensional (vbi.tests.test_boxuniform.TestBoxUniform)\n",
      "Test seed functionality with multidimensional distributions. ... "
     ]
    },
    {
     "name": "stderr",
     "output_type": "stream",
     "text": [
      "ok\n"
     ]
    },
    {
     "name": "stderr",
     "output_type": "stream",
     "text": [
      "test_seed_none_behavior (vbi.tests.test_boxuniform.TestBoxUniform)\n",
      "Test behavior when seed is None. ... "
     ]
    },
    {
     "name": "stderr",
     "output_type": "stream",
     "text": [
      "ok\n"
     ]
    },
    {
     "name": "stderr",
     "output_type": "stream",
     "text": [
      "test_set_seed_method (vbi.tests.test_boxuniform.TestBoxUniform)\n",
      "Test set_seed method functionality. ... "
     ]
    },
    {
     "name": "stderr",
     "output_type": "stream",
     "text": [
      "ok\n"
     ]
    },
    {
     "name": "stderr",
     "output_type": "stream",
     "text": [
      "test_statistical_properties (vbi.tests.test_boxuniform.TestBoxUniform)\n",
      "Test mean, variance, and standard deviation calculations. ... "
     ]
    },
    {
     "name": "stderr",
     "output_type": "stream",
     "text": [
      "ok\n"
     ]
    },
    {
     "name": "stderr",
     "output_type": "stream",
     "text": [
      "test_support (vbi.tests.test_boxuniform.TestBoxUniform)\n",
      "Test support method returns correct bounds. ... "
     ]
    },
    {
     "name": "stderr",
     "output_type": "stream",
     "text": [
      "ok\n"
     ]
    },
    {
     "name": "stderr",
     "output_type": "stream",
     "text": [
      "test_volume_calculation (vbi.tests.test_boxuniform.TestBoxUniform)\n",
      "Test volume calculation for different dimensions. ... "
     ]
    },
    {
     "name": "stderr",
     "output_type": "stream",
     "text": [
      "ok\n"
     ]
    },
    {
     "name": "stderr",
     "output_type": "stream",
     "text": [
      "test_memory_efficiency (vbi.tests.test_boxuniform.TestBoxUniformLong)\n",
      "Test memory efficiency with different dtypes. ... "
     ]
    },
    {
     "name": "stdout",
     "output_type": "stream",
     "text": [
      "0.9908645365510211\n"
     ]
    },
    {
     "name": "stderr",
     "output_type": "stream",
     "text": [
      "ok\n"
     ]
    },
    {
     "name": "stderr",
     "output_type": "stream",
     "text": [
      "test_statistical_convergence (vbi.tests.test_boxuniform.TestBoxUniformLong)\n",
      "Test that large samples converge to expected statistics. ... "
     ]
    },
    {
     "name": "stderr",
     "output_type": "stream",
     "text": [
      "ok\n"
     ]
    },
    {
     "name": "stderr",
     "output_type": "stream",
     "text": [
      "\n"
     ]
    },
    {
     "name": "stderr",
     "output_type": "stream",
     "text": [
      "----------------------------------------------------------------------\n",
      "Ran 188 tests in 18.586s\n",
      "\n",
      "OK\n"
     ]
    },
    {
     "data": {
      "text/plain": [
       "<unittest.runner.TextTestResult run=188 errors=0 failures=0>"
      ]
     },
     "execution_count": 2,
     "metadata": {},
     "output_type": "execute_result"
    }
   ],
   "source": [
    "vbi.tests()"
   ]
  },
  {
   "cell_type": "code",
   "execution_count": 3,
   "metadata": {
    "execution": {
     "iopub.execute_input": "2025-09-16T09:17:51.134800Z",
     "iopub.status.busy": "2025-09-16T09:17:51.134360Z",
     "iopub.status.idle": "2025-09-16T09:17:51.272186Z",
     "shell.execute_reply": "2025-09-16T09:17:51.270979Z"
    }
   },
   "outputs": [
    {
     "data": {
      "text/html": [
       "<pre style=\"white-space:pre;overflow-x:auto;line-height:normal;font-family:Menlo,'DejaVu Sans Mono',consolas,'Courier New',monospace\"><span style=\"font-style: italic\">             Dependency Check              </span>\n",
       "                                           \n",
       " <span style=\"font-weight: bold\"> Package    </span> <span style=\"font-weight: bold\"> Version     </span> <span style=\"font-weight: bold\"> Status       </span> \n",
       " ━━━━━━━━━━━━━━━━━━━━━━━━━━━━━━━━━━━━━━━━━ \n",
       " <span style=\"color: #008080; text-decoration-color: #008080; font-weight: bold\"> vbi        </span> <span style=\"color: #008000; text-decoration-color: #008000; font-weight: bold\"> 0.2.2       </span> <span style=\"color: #808000; text-decoration-color: #808000; font-weight: bold\"> ✅ Available </span> \n",
       " <span style=\"color: #008080; text-decoration-color: #008080; font-weight: bold\"> numpy      </span> <span style=\"color: #008000; text-decoration-color: #008000; font-weight: bold\"> 1.26.4      </span> <span style=\"color: #808000; text-decoration-color: #808000; font-weight: bold\"> ✅ Available </span> \n",
       " <span style=\"color: #008080; text-decoration-color: #008080; font-weight: bold\"> scipy      </span> <span style=\"color: #008000; text-decoration-color: #008000; font-weight: bold\"> 1.15.2      </span> <span style=\"color: #808000; text-decoration-color: #808000; font-weight: bold\"> ✅ Available </span> \n",
       " <span style=\"color: #008080; text-decoration-color: #008080; font-weight: bold\"> matplotlib </span> <span style=\"color: #008000; text-decoration-color: #008000; font-weight: bold\"> 3.5.3       </span> <span style=\"color: #808000; text-decoration-color: #808000; font-weight: bold\"> ✅ Available </span> \n",
       " <span style=\"color: #008080; text-decoration-color: #008080; font-weight: bold\"> sbi        </span> <span style=\"color: #008000; text-decoration-color: #008000; font-weight: bold\"> 0.25.0      </span> <span style=\"color: #808000; text-decoration-color: #808000; font-weight: bold\"> ✅ Available </span> \n",
       " <span style=\"color: #008080; text-decoration-color: #008080; font-weight: bold\"> torch      </span> <span style=\"color: #008000; text-decoration-color: #008000; font-weight: bold\"> 2.8.0+cu126 </span> <span style=\"color: #808000; text-decoration-color: #808000; font-weight: bold\"> ✅ Available </span> \n",
       " <span style=\"color: #008080; text-decoration-color: #008080; font-weight: bold\"> cupy       </span> <span style=\"color: #008000; text-decoration-color: #008000; font-weight: bold\"> 13.3.0      </span> <span style=\"color: #808000; text-decoration-color: #808000; font-weight: bold\"> ✅ Available </span> \n",
       "                                           \n",
       "</pre>\n"
      ],
      "text/plain": [
       "\u001b[3m             Dependency Check              \u001b[0m\n",
       "                                           \n",
       " \u001b[1m \u001b[0m\u001b[1mPackage   \u001b[0m\u001b[1m \u001b[0m \u001b[1m \u001b[0m\u001b[1mVersion    \u001b[0m\u001b[1m \u001b[0m \u001b[1m \u001b[0m\u001b[1mStatus      \u001b[0m\u001b[1m \u001b[0m \n",
       " ━━━━━━━━━━━━━━━━━━━━━━━━━━━━━━━━━━━━━━━━━ \n",
       " \u001b[1;36m \u001b[0m\u001b[1;36mvbi       \u001b[0m\u001b[1;36m \u001b[0m \u001b[1;32m \u001b[0m\u001b[1;32m0.2.2      \u001b[0m\u001b[1;32m \u001b[0m \u001b[1;33m \u001b[0m\u001b[1;33m✅ Available\u001b[0m\u001b[1;33m \u001b[0m \n",
       " \u001b[1;36m \u001b[0m\u001b[1;36mnumpy     \u001b[0m\u001b[1;36m \u001b[0m \u001b[1;32m \u001b[0m\u001b[1;32m1.26.4     \u001b[0m\u001b[1;32m \u001b[0m \u001b[1;33m \u001b[0m\u001b[1;33m✅ Available\u001b[0m\u001b[1;33m \u001b[0m \n",
       " \u001b[1;36m \u001b[0m\u001b[1;36mscipy     \u001b[0m\u001b[1;36m \u001b[0m \u001b[1;32m \u001b[0m\u001b[1;32m1.15.2     \u001b[0m\u001b[1;32m \u001b[0m \u001b[1;33m \u001b[0m\u001b[1;33m✅ Available\u001b[0m\u001b[1;33m \u001b[0m \n",
       " \u001b[1;36m \u001b[0m\u001b[1;36mmatplotlib\u001b[0m\u001b[1;36m \u001b[0m \u001b[1;32m \u001b[0m\u001b[1;32m3.5.3      \u001b[0m\u001b[1;32m \u001b[0m \u001b[1;33m \u001b[0m\u001b[1;33m✅ Available\u001b[0m\u001b[1;33m \u001b[0m \n",
       " \u001b[1;36m \u001b[0m\u001b[1;36msbi       \u001b[0m\u001b[1;36m \u001b[0m \u001b[1;32m \u001b[0m\u001b[1;32m0.25.0     \u001b[0m\u001b[1;32m \u001b[0m \u001b[1;33m \u001b[0m\u001b[1;33m✅ Available\u001b[0m\u001b[1;33m \u001b[0m \n",
       " \u001b[1;36m \u001b[0m\u001b[1;36mtorch     \u001b[0m\u001b[1;36m \u001b[0m \u001b[1;32m \u001b[0m\u001b[1;32m2.8.0+cu126\u001b[0m\u001b[1;32m \u001b[0m \u001b[1;33m \u001b[0m\u001b[1;33m✅ Available\u001b[0m\u001b[1;33m \u001b[0m \n",
       " \u001b[1;36m \u001b[0m\u001b[1;36mcupy      \u001b[0m\u001b[1;36m \u001b[0m \u001b[1;32m \u001b[0m\u001b[1;32m13.3.0     \u001b[0m\u001b[1;32m \u001b[0m \u001b[1;33m \u001b[0m\u001b[1;33m✅ Available\u001b[0m\u001b[1;33m \u001b[0m \n",
       "                                           \n"
      ]
     },
     "metadata": {},
     "output_type": "display_data"
    },
    {
     "data": {
      "text/html": [
       "<pre style=\"white-space:pre;overflow-x:auto;line-height:normal;font-family:Menlo,'DejaVu Sans Mono',consolas,'Courier New',monospace\"><span style=\"color: #000080; text-decoration-color: #000080; font-weight: bold\">Torch GPU available:</span> <span style=\"color: #00ff00; text-decoration-color: #00ff00; font-style: italic\">True</span>\n",
       "</pre>\n"
      ],
      "text/plain": [
       "\u001b[1;34mTorch GPU available:\u001b[0m \u001b[3;92mTrue\u001b[0m\n"
      ]
     },
     "metadata": {},
     "output_type": "display_data"
    },
    {
     "data": {
      "text/html": [
       "<pre style=\"white-space:pre;overflow-x:auto;line-height:normal;font-family:Menlo,'DejaVu Sans Mono',consolas,'Courier New',monospace\"><span style=\"color: #000080; text-decoration-color: #000080; font-weight: bold\">Torch device count:</span> <span style=\"color: #008080; text-decoration-color: #008080; font-weight: bold\">1</span>\n",
       "</pre>\n"
      ],
      "text/plain": [
       "\u001b[1;34mTorch device count:\u001b[0m \u001b[1;36m1\u001b[0m\n"
      ]
     },
     "metadata": {},
     "output_type": "display_data"
    },
    {
     "data": {
      "text/html": [
       "<pre style=\"white-space:pre;overflow-x:auto;line-height:normal;font-family:Menlo,'DejaVu Sans Mono',consolas,'Courier New',monospace\"><span style=\"color: #000080; text-decoration-color: #000080; font-weight: bold\">Torch CUDA version:</span> <span style=\"color: #008080; text-decoration-color: #008080; font-weight: bold\">12.6</span>\n",
       "</pre>\n"
      ],
      "text/plain": [
       "\u001b[1;34mTorch CUDA version:\u001b[0m \u001b[1;36m12.6\u001b[0m\n"
      ]
     },
     "metadata": {},
     "output_type": "display_data"
    },
    {
     "data": {
      "text/html": [
       "<pre style=\"white-space:pre;overflow-x:auto;line-height:normal;font-family:Menlo,'DejaVu Sans Mono',consolas,'Courier New',monospace\"><span style=\"color: #000080; text-decoration-color: #000080; font-weight: bold\">CuPy GPU available:</span> <span style=\"color: #00ff00; text-decoration-color: #00ff00; font-style: italic\">True</span>\n",
       "</pre>\n"
      ],
      "text/plain": [
       "\u001b[1;34mCuPy GPU available:\u001b[0m \u001b[3;92mTrue\u001b[0m\n"
      ]
     },
     "metadata": {},
     "output_type": "display_data"
    },
    {
     "data": {
      "text/html": [
       "<pre style=\"white-space:pre;overflow-x:auto;line-height:normal;font-family:Menlo,'DejaVu Sans Mono',consolas,'Courier New',monospace\"><span style=\"color: #000080; text-decoration-color: #000080; font-weight: bold\">CuPy device count:</span> <span style=\"color: #008080; text-decoration-color: #008080; font-weight: bold\">1</span>\n",
       "</pre>\n"
      ],
      "text/plain": [
       "\u001b[1;34mCuPy device count:\u001b[0m \u001b[1;36m1\u001b[0m\n"
      ]
     },
     "metadata": {},
     "output_type": "display_data"
    },
    {
     "name": "stdout",
     "output_type": "stream",
     "text": [
      "CUDA Version: 12.6\n",
      "Device Name: NVIDIA RTX A5000\n",
      "Total Memory: 23.67 GB\n",
      "Compute Capability: 8.6\n"
     ]
    }
   ],
   "source": [
    "vbi.test_imports()"
   ]
  },
  {
   "cell_type": "code",
   "execution_count": null,
   "metadata": {},
   "outputs": [],
   "source": []
  }
 ],
 "metadata": {
  "kernelspec": {
   "display_name": "vbidevelop",
   "language": "python",
   "name": "python3"
  },
  "language_info": {
   "codemirror_mode": {
    "name": "ipython",
    "version": 3
   },
   "file_extension": ".py",
   "mimetype": "text/x-python",
   "name": "python",
   "nbconvert_exporter": "python",
   "pygments_lexer": "ipython3",
   "version": "3.10.16"
  }
 },
 "nbformat": 4,
 "nbformat_minor": 2
}

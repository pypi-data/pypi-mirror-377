{
 "cells": [
  {
   "cell_type": "markdown",
   "metadata": {},
   "source": [
    "# [Jansen-Rit whole brain C++ implementation](https://github.com/Ziaeemehr/vbi_paper/blob/main/docs/examples/jansen_rit_cpp.ipynb)\n"
   ]
  },
  {
   "cell_type": "code",
   "execution_count": 1,
   "metadata": {
    "execution": {
     "iopub.execute_input": "2025-09-16T09:18:05.693881Z",
     "iopub.status.busy": "2025-09-16T09:18:05.693234Z",
     "iopub.status.idle": "2025-09-16T09:18:10.416306Z",
     "shell.execute_reply": "2025-09-16T09:18:10.415634Z"
    }
   },
   "outputs": [],
   "source": [
    "import torch\n",
    "import pickle\n",
    "import numpy as np\n",
    "from tqdm import tqdm\n",
    "import networkx as nx\n",
    "import sbi.utils as utils\n",
    "import matplotlib.pyplot as plt\n",
    "from multiprocessing import Pool\n",
    "from sbi.analysis import pairplot\n",
    "from vbi.sbi_inference import Inference\n",
    "from vbi.models.cpp.jansen_rit import JR_sde\n",
    "from sklearn.preprocessing import StandardScaler"
   ]
  },
  {
   "cell_type": "code",
   "execution_count": 2,
   "metadata": {
    "execution": {
     "iopub.execute_input": "2025-09-16T09:18:10.418677Z",
     "iopub.status.busy": "2025-09-16T09:18:10.418311Z",
     "iopub.status.idle": "2025-09-16T09:18:10.421962Z",
     "shell.execute_reply": "2025-09-16T09:18:10.421490Z"
    }
   },
   "outputs": [],
   "source": [
    "from vbi import report_cfg\n",
    "from vbi import extract_features_df\n",
    "from vbi import get_features_by_domain, get_features_by_given_names\n",
    "from helpers import *"
   ]
  },
  {
   "cell_type": "code",
   "execution_count": 3,
   "metadata": {
    "execution": {
     "iopub.execute_input": "2025-09-16T09:18:10.424002Z",
     "iopub.status.busy": "2025-09-16T09:18:10.423714Z",
     "iopub.status.idle": "2025-09-16T09:18:10.427647Z",
     "shell.execute_reply": "2025-09-16T09:18:10.427206Z"
    }
   },
   "outputs": [],
   "source": [
    "seed = 2\n",
    "np.random.seed(seed)\n",
    "torch.manual_seed(seed);"
   ]
  },
  {
   "cell_type": "code",
   "execution_count": 4,
   "metadata": {
    "execution": {
     "iopub.execute_input": "2025-09-16T09:18:10.429498Z",
     "iopub.status.busy": "2025-09-16T09:18:10.429308Z",
     "iopub.status.idle": "2025-09-16T09:18:10.432156Z",
     "shell.execute_reply": "2025-09-16T09:18:10.431688Z"
    }
   },
   "outputs": [],
   "source": [
    "LABESSIZE = 12\n",
    "plt.rcParams['axes.labelsize'] = LABESSIZE\n",
    "plt.rcParams['xtick.labelsize'] = LABESSIZE\n",
    "plt.rcParams['ytick.labelsize'] = LABESSIZE"
   ]
  },
  {
   "cell_type": "code",
   "execution_count": 5,
   "metadata": {
    "execution": {
     "iopub.execute_input": "2025-09-16T09:18:10.434111Z",
     "iopub.status.busy": "2025-09-16T09:18:10.433833Z",
     "iopub.status.idle": "2025-09-16T09:18:10.437257Z",
     "shell.execute_reply": "2025-09-16T09:18:10.436792Z"
    }
   },
   "outputs": [],
   "source": [
    "nn = 6\n",
    "SC = nx.to_numpy_array(nx.complete_graph(nn))"
   ]
  },
  {
   "cell_type": "code",
   "execution_count": 6,
   "metadata": {
    "execution": {
     "iopub.execute_input": "2025-09-16T09:18:10.439177Z",
     "iopub.status.busy": "2025-09-16T09:18:10.438988Z",
     "iopub.status.idle": "2025-09-16T09:18:10.442051Z",
     "shell.execute_reply": "2025-09-16T09:18:10.441604Z"
    }
   },
   "outputs": [],
   "source": [
    "par = {\n",
    "    \"G\": 1.0,\n",
    "    \"noise_mu\": 0.24,\n",
    "    \"noise_std\": 0.1,\n",
    "    \"dt\": 0.05,\n",
    "    \"C0\": 135.0 * 1.0,\n",
    "    \"C1\": 135.0 * 0.8,\n",
    "    \"C2\": 135.0 * 0.25,\n",
    "    \"C3\": 135.0 * 0.25,\n",
    "    \"weights\": SC,\n",
    "    \"t_transition\": 500.0,      # ms\n",
    "    \"t_end\": 2501.0,            # ms\n",
    "    \"output\": \"output\",\n",
    "}"
   ]
  },
  {
   "cell_type": "code",
   "execution_count": 7,
   "metadata": {
    "execution": {
     "iopub.execute_input": "2025-09-16T09:18:10.444008Z",
     "iopub.status.busy": "2025-09-16T09:18:10.443723Z",
     "iopub.status.idle": "2025-09-16T09:18:10.446121Z",
     "shell.execute_reply": "2025-09-16T09:18:10.445667Z"
    }
   },
   "outputs": [],
   "source": [
    "# g, c1[0], c1[2,3]\n",
    "theta_true = [1.0, 135, 155]"
   ]
  },
  {
   "cell_type": "code",
   "execution_count": 8,
   "metadata": {
    "execution": {
     "iopub.execute_input": "2025-09-16T09:18:10.448048Z",
     "iopub.status.busy": "2025-09-16T09:18:10.447824Z",
     "iopub.status.idle": "2025-09-16T09:18:10.451612Z",
     "shell.execute_reply": "2025-09-16T09:18:10.451051Z"
    }
   },
   "outputs": [
    {
     "name": "stdout",
     "output_type": "stream",
     "text": [
      "Jansen-Rit sde model\n",
      "{'G': 1.0, 'A': 3.25, 'B': 22.0, 'a': 0.1, 'b': 0.05, 'noise_mu': 0.24, 'noise_std': 0.1, 'vmax': 0.005, 'v0': 6, 'r': 0.56, 'initial_state': None, 'weights': array([[0., 1., 1., 1., 1., 1.],\n",
      "       [1., 0., 1., 1., 1., 1.],\n",
      "       [1., 1., 0., 1., 1., 1.],\n",
      "       [1., 1., 1., 0., 1., 1.],\n",
      "       [1., 1., 1., 1., 0., 1.],\n",
      "       [1., 1., 1., 1., 1., 0.]]), 'C0': 135.0, 'C1': 108.0, 'C2': 33.75, 'C3': 33.75, 'noise_seed': 0, 'seed': None, 'dt': 0.05, 'dim': 6, 'method': 'heun', 't_transition': 500.0, 't_end': 2501.0, 'output': 'output', 'RECORD_AVG': False}\n"
     ]
    }
   ],
   "source": [
    "obj = JR_sde(par)\n",
    "print(obj())"
   ]
  },
  {
   "cell_type": "code",
   "execution_count": 9,
   "metadata": {
    "execution": {
     "iopub.execute_input": "2025-09-16T09:18:10.481582Z",
     "iopub.status.busy": "2025-09-16T09:18:10.481379Z",
     "iopub.status.idle": "2025-09-16T09:18:10.612489Z",
     "shell.execute_reply": "2025-09-16T09:18:10.611844Z"
    }
   },
   "outputs": [],
   "source": [
    "# C1 needs to be a vector of size nn\n",
    "C1 = np.ones(nn) * par['C1']\n",
    "C1[0] = theta_true[1]\n",
    "C1[[2,3]] = theta_true[2]\n",
    "theta_true_dict = {\"G\": 1.0, \"C1\":C1}\n",
    "data = obj.run(theta_true_dict)"
   ]
  },
  {
   "cell_type": "code",
   "execution_count": 10,
   "metadata": {
    "execution": {
     "iopub.execute_input": "2025-09-16T09:18:10.614527Z",
     "iopub.status.busy": "2025-09-16T09:18:10.614327Z",
     "iopub.status.idle": "2025-09-16T09:18:11.073990Z",
     "shell.execute_reply": "2025-09-16T09:18:11.073400Z"
    }
   },
   "outputs": [
    {
     "data": {
      "image/png": "[encoded data removed]",
      "text/plain": [
       "<Figure size 1000x250 with 2 Axes>"
      ]
     },
     "metadata": {},
     "output_type": "display_data"
    }
   ],
   "source": [
    "fig, ax = plt.subplots(1, 2, figsize=(10, 2.5))\n",
    "plot_ts_pxx_jr(data, par, [ax[0], ax[1]], alpha=0.6, lw=1)\n",
    "ax[0].set_xlim(2000, 2500)\n",
    "plt.tight_layout()"
   ]
  },
  {
   "cell_type": "code",
   "execution_count": 11,
   "metadata": {
    "execution": {
     "iopub.execute_input": "2025-09-16T09:18:11.076049Z",
     "iopub.status.busy": "2025-09-16T09:18:11.075850Z",
     "iopub.status.idle": "2025-09-16T09:18:11.080004Z",
     "shell.execute_reply": "2025-09-16T09:18:11.079534Z"
    }
   },
   "outputs": [
    {
     "name": "stdout",
     "output_type": "stream",
     "text": [
      "Selected features:\n",
      "------------------\n",
      "■ Domain: statistical\n",
      " ▢ Function:  calc_std\n",
      "   ▫ description:  Computes the standard deviation of the signal.\n",
      "   ▫ function   :  vbi.feature_extraction.features.calc_std\n",
      "   ▫ parameters :  {'indices': None, 'verbose': False}\n",
      "   ▫ tag        :  all\n",
      "   ▫ use        :  yes\n",
      " ▢ Function:  calc_mean\n",
      "   ▫ description:  Computes the mean of the signal.\n",
      "   ▫ function   :  vbi.feature_extraction.features.calc_mean\n",
      "   ▫ parameters :  {'indices': None, 'verbose': False}\n",
      "   ▫ tag        :  all\n",
      "   ▫ use        :  yes\n"
     ]
    }
   ],
   "source": [
    "cfg = get_features_by_domain(domain=\"statistical\")\n",
    "cfg = get_features_by_given_names(cfg, names=['calc_std', 'calc_mean'])\n",
    "report_cfg(cfg)"
   ]
  },
  {
   "cell_type": "code",
   "execution_count": 12,
   "metadata": {
    "execution": {
     "iopub.execute_input": "2025-09-16T09:18:11.081953Z",
     "iopub.status.busy": "2025-09-16T09:18:11.081634Z",
     "iopub.status.idle": "2025-09-16T09:18:11.085963Z",
     "shell.execute_reply": "2025-09-16T09:18:11.085529Z"
    }
   },
   "outputs": [],
   "source": [
    "from copy import deepcopy\n",
    "\n",
    "def wrapper(par, control, cfg, verbose=False):\n",
    "    g, x1, x2 = control\n",
    "    par1 = deepcopy(par)\n",
    "    C1 = np.ones(nn) * par['C1']\n",
    "    par1['G'] = g\n",
    "    par1['C1'] = C1\n",
    "    par1['C1'][0] = x1\n",
    "    par1['C1'][[2,3]] = x2\n",
    "    \n",
    "    ode = JR_sde(par1)\n",
    "    sol = ode.run()\n",
    "\n",
    "    # extract features\n",
    "    fs = 1.0 / par['dt'] * 1000  # [Hz]\n",
    "    stat_vec = extract_features_df(ts=[sol['x']],\n",
    "                                      cfg=cfg,\n",
    "                                      fs=fs,\n",
    "                                      n_workers=1,\n",
    "                                      verbose=verbose).values\n",
    "    return stat_vec[0]"
   ]
  },
  {
   "cell_type": "code",
   "execution_count": 13,
   "metadata": {
    "execution": {
     "iopub.execute_input": "2025-09-16T09:18:11.087749Z",
     "iopub.status.busy": "2025-09-16T09:18:11.087563Z",
     "iopub.status.idle": "2025-09-16T09:18:11.091238Z",
     "shell.execute_reply": "2025-09-16T09:18:11.090803Z"
    }
   },
   "outputs": [],
   "source": [
    "def batch_run(par, control_list, cfg, n_workers=1):\n",
    "    n = len(control_list)\n",
    "    def update_bar(_):\n",
    "        pbar.update()\n",
    "    with Pool(processes=n_workers) as pool:\n",
    "        with tqdm(total=n) as pbar:\n",
    "            async_results = [pool.apply_async(wrapper,\n",
    "                                              args=(\n",
    "                                                  par, control_list[i], cfg, False),\n",
    "                                              callback=update_bar)\n",
    "                             for i in range(n)]\n",
    "            stat_vec = [res.get() for res in async_results]\n",
    "    return stat_vec"
   ]
  },
  {
   "cell_type": "code",
   "execution_count": 14,
   "metadata": {
    "execution": {
     "iopub.execute_input": "2025-09-16T09:18:11.093126Z",
     "iopub.status.busy": "2025-09-16T09:18:11.092857Z",
     "iopub.status.idle": "2025-09-16T09:18:11.228179Z",
     "shell.execute_reply": "2025-09-16T09:18:11.227491Z"
    }
   },
   "outputs": [
    {
     "name": "stdout",
     "output_type": "stream",
     "text": [
      "[ 2.9024155  2.416239   2.30981    2.6740608  2.5201125  2.7258813\n",
      "  9.229932   7.9975843  9.904158  10.055502   7.973639   8.022222 ]\n"
     ]
    }
   ],
   "source": [
    "x_ = wrapper(par, theta_true, cfg)\n",
    "print(x_)"
   ]
  },
  {
   "cell_type": "code",
   "execution_count": 15,
   "metadata": {
    "execution": {
     "iopub.execute_input": "2025-09-16T09:18:11.230356Z",
     "iopub.status.busy": "2025-09-16T09:18:11.230127Z",
     "iopub.status.idle": "2025-09-16T09:18:11.234251Z",
     "shell.execute_reply": "2025-09-16T09:18:11.233736Z"
    }
   },
   "outputs": [],
   "source": [
    "num_sim = 2000\n",
    "num_workers = 10\n",
    "C11_min, C11_max = 130.0, 300.0\n",
    "C12_min, C12_max = 130.0, 300.0\n",
    "G_min, G_max = 0.0, 5.0\n",
    "prior_min = [G_min, C11_min, C12_min]\n",
    "prior_max = [G_max, C11_max, C12_max]\n",
    "prior = utils.BoxUniform(low=torch.tensor(prior_min),\n",
    "                         high=torch.tensor(prior_max))"
   ]
  },
  {
   "cell_type": "code",
   "execution_count": 16,
   "metadata": {
    "execution": {
     "iopub.execute_input": "2025-09-16T09:18:11.236468Z",
     "iopub.status.busy": "2025-09-16T09:18:11.236115Z",
     "iopub.status.idle": "2025-09-16T09:18:11.260767Z",
     "shell.execute_reply": "2025-09-16T09:18:11.259260Z"
    }
   },
   "outputs": [],
   "source": [
    "obj = Inference()\n",
    "theta = obj.sample_prior(prior, num_sim)\n",
    "theta_np = theta.numpy().astype(float)"
   ]
  },
  {
   "cell_type": "code",
   "execution_count": 17,
   "metadata": {
    "execution": {
     "iopub.execute_input": "2025-09-16T09:18:11.266058Z",
     "iopub.status.busy": "2025-09-16T09:18:11.265436Z",
     "iopub.status.idle": "2025-09-16T09:18:43.352459Z",
     "shell.execute_reply": "2025-09-16T09:18:43.351584Z"
    }
   },
   "outputs": [
    {
     "name": "stderr",
     "output_type": "stream",
     "text": [
      "\r",
      "  0%|          | 0/2000 [00:00<?, ?it/s]"
     ]
    },
    {
     "name": "stderr",
     "output_type": "stream",
     "text": [
      "\r",
      "  0%|          | 1/2000 [00:00<06:15,  5.33it/s]"
     ]
    },
    {
     "name": "stderr",
     "output_type": "stream",
     "text": [
      "\r",
      "  1%|          | 11/2000 [00:00<00:55, 35.55it/s]"
     ]
    },
    {
     "name": "stderr",
     "output_type": "stream",
     "text": [
      "\r",
      "  1%|          | 21/2000 [00:00<00:42, 46.38it/s]"
     ]
    },
    {
     "name": "stderr",
     "output_type": "stream",
     "text": [
      "\r",
      "  2%|▏         | 31/2000 [00:00<00:37, 52.40it/s]"
     ]
    },
    {
     "name": "stderr",
     "output_type": "stream",
     "text": [
      "\r",
      "  2%|▏         | 41/2000 [00:00<00:35, 55.81it/s]"
     ]
    },
    {
     "name": "stderr",
     "output_type": "stream",
     "text": [
      "\r",
      "  3%|▎         | 51/2000 [00:01<00:33, 58.36it/s]"
     ]
    },
    {
     "name": "stderr",
     "output_type": "stream",
     "text": [
      "\r",
      "  3%|▎         | 61/2000 [00:01<00:32, 60.09it/s]"
     ]
    },
    {
     "name": "stderr",
     "output_type": "stream",
     "text": [
      "\r",
      "  4%|▎         | 71/2000 [00:01<00:31, 61.27it/s]"
     ]
    },
    {
     "name": "stderr",
     "output_type": "stream",
     "text": [
      "\r",
      "  4%|▍         | 78/2000 [00:01<00:30, 63.09it/s]"
     ]
    },
    {
     "name": "stderr",
     "output_type": "stream",
     "text": [
      "\r",
      "  4%|▍         | 85/2000 [00:01<00:33, 57.47it/s]"
     ]
    },
    {
     "name": "stderr",
     "output_type": "stream",
     "text": [
      "\r",
      "  5%|▍         | 92/2000 [00:01<00:34, 55.18it/s]"
     ]
    },
    {
     "name": "stderr",
     "output_type": "stream",
     "text": [
      "\r",
      "  5%|▌         | 102/2000 [00:01<00:33, 57.29it/s]"
     ]
    },
    {
     "name": "stderr",
     "output_type": "stream",
     "text": [
      "\r",
      "  6%|▌         | 112/2000 [00:02<00:32, 58.57it/s]"
     ]
    },
    {
     "name": "stderr",
     "output_type": "stream",
     "text": [
      "\r",
      "  6%|▌         | 122/2000 [00:02<00:31, 59.56it/s]"
     ]
    },
    {
     "name": "stderr",
     "output_type": "stream",
     "text": [
      "\r",
      "  7%|▋         | 132/2000 [00:02<00:31, 59.98it/s]"
     ]
    },
    {
     "name": "stderr",
     "output_type": "stream",
     "text": [
      "\r",
      "  7%|▋         | 142/2000 [00:02<00:30, 60.53it/s]"
     ]
    },
    {
     "name": "stderr",
     "output_type": "stream",
     "text": [
      "\r",
      "  8%|▊         | 152/2000 [00:02<00:30, 60.74it/s]"
     ]
    },
    {
     "name": "stderr",
     "output_type": "stream",
     "text": [
      "\r",
      "  8%|▊         | 162/2000 [00:02<00:30, 61.07it/s]"
     ]
    },
    {
     "name": "stderr",
     "output_type": "stream",
     "text": [
      "\r",
      "  9%|▊         | 172/2000 [00:03<00:29, 61.26it/s]"
     ]
    },
    {
     "name": "stderr",
     "output_type": "stream",
     "text": [
      "\r",
      "  9%|▉         | 182/2000 [00:03<00:29, 61.50it/s]"
     ]
    },
    {
     "name": "stderr",
     "output_type": "stream",
     "text": [
      "\r",
      " 10%|▉         | 192/2000 [00:03<00:29, 61.68it/s]"
     ]
    },
    {
     "name": "stderr",
     "output_type": "stream",
     "text": [
      "\r",
      " 10%|█         | 202/2000 [00:03<00:28, 62.03it/s]"
     ]
    },
    {
     "name": "stderr",
     "output_type": "stream",
     "text": [
      "\r",
      " 11%|█         | 212/2000 [00:03<00:28, 62.21it/s]"
     ]
    },
    {
     "name": "stderr",
     "output_type": "stream",
     "text": [
      "\r",
      " 11%|█         | 222/2000 [00:03<00:28, 62.23it/s]"
     ]
    },
    {
     "name": "stderr",
     "output_type": "stream",
     "text": [
      "\r",
      " 12%|█▏        | 232/2000 [00:03<00:28, 62.04it/s]"
     ]
    },
    {
     "name": "stderr",
     "output_type": "stream",
     "text": [
      "\r",
      " 12%|█▏        | 242/2000 [00:04<00:28, 61.84it/s]"
     ]
    },
    {
     "name": "stderr",
     "output_type": "stream",
     "text": [
      "\r",
      " 13%|█▎        | 252/2000 [00:04<00:28, 61.71it/s]"
     ]
    },
    {
     "name": "stderr",
     "output_type": "stream",
     "text": [
      "\r",
      " 13%|█▎        | 262/2000 [00:04<00:28, 61.93it/s]"
     ]
    },
    {
     "name": "stderr",
     "output_type": "stream",
     "text": [
      "\r",
      " 14%|█▎        | 272/2000 [00:04<00:27, 62.28it/s]"
     ]
    },
    {
     "name": "stderr",
     "output_type": "stream",
     "text": [
      "\r",
      " 14%|█▍        | 282/2000 [00:04<00:27, 62.80it/s]"
     ]
    },
    {
     "name": "stderr",
     "output_type": "stream",
     "text": [
      "\r",
      " 15%|█▍        | 292/2000 [00:04<00:27, 63.17it/s]"
     ]
    },
    {
     "name": "stderr",
     "output_type": "stream",
     "text": [
      "\r",
      " 15%|█▌        | 302/2000 [00:05<00:26, 63.38it/s]"
     ]
    },
    {
     "name": "stderr",
     "output_type": "stream",
     "text": [
      "\r",
      " 16%|█▌        | 312/2000 [00:05<00:26, 63.61it/s]"
     ]
    },
    {
     "name": "stderr",
     "output_type": "stream",
     "text": [
      "\r",
      " 16%|█▌        | 322/2000 [00:05<00:26, 63.80it/s]"
     ]
    },
    {
     "name": "stderr",
     "output_type": "stream",
     "text": [
      "\r",
      " 17%|█▋        | 332/2000 [00:05<00:26, 63.92it/s]"
     ]
    },
    {
     "name": "stderr",
     "output_type": "stream",
     "text": [
      "\r",
      " 17%|█▋        | 342/2000 [00:05<00:25, 63.91it/s]"
     ]
    },
    {
     "name": "stderr",
     "output_type": "stream",
     "text": [
      "\r",
      " 18%|█▊        | 352/2000 [00:05<00:25, 63.95it/s]"
     ]
    },
    {
     "name": "stderr",
     "output_type": "stream",
     "text": [
      "\r",
      " 18%|█▊        | 361/2000 [00:05<00:24, 66.97it/s]"
     ]
    },
    {
     "name": "stderr",
     "output_type": "stream",
     "text": [
      "\r",
      " 18%|█▊        | 368/2000 [00:06<00:25, 63.55it/s]"
     ]
    },
    {
     "name": "stderr",
     "output_type": "stream",
     "text": [
      "\r",
      " 19%|█▉        | 375/2000 [00:06<00:27, 59.80it/s]"
     ]
    },
    {
     "name": "stderr",
     "output_type": "stream",
     "text": [
      "\r",
      " 19%|█▉        | 383/2000 [00:06<00:27, 58.14it/s]"
     ]
    },
    {
     "name": "stderr",
     "output_type": "stream",
     "text": [
      "\r",
      " 20%|█▉        | 393/2000 [00:06<00:26, 59.70it/s]"
     ]
    },
    {
     "name": "stderr",
     "output_type": "stream",
     "text": [
      "\r",
      " 20%|██        | 403/2000 [00:06<00:26, 60.65it/s]"
     ]
    },
    {
     "name": "stderr",
     "output_type": "stream",
     "text": [
      "\r",
      " 21%|██        | 413/2000 [00:06<00:25, 61.38it/s]"
     ]
    },
    {
     "name": "stderr",
     "output_type": "stream",
     "text": [
      "\r",
      " 21%|██        | 423/2000 [00:07<00:25, 62.03it/s]"
     ]
    },
    {
     "name": "stderr",
     "output_type": "stream",
     "text": [
      "\r",
      " 22%|██▏       | 433/2000 [00:07<00:25, 62.49it/s]"
     ]
    },
    {
     "name": "stderr",
     "output_type": "stream",
     "text": [
      "\r",
      " 22%|██▏       | 443/2000 [00:07<00:24, 62.87it/s]"
     ]
    },
    {
     "name": "stderr",
     "output_type": "stream",
     "text": [
      "\r",
      " 23%|██▎       | 453/2000 [00:07<00:24, 63.07it/s]"
     ]
    },
    {
     "name": "stderr",
     "output_type": "stream",
     "text": [
      "\r",
      " 23%|██▎       | 463/2000 [00:07<00:24, 63.24it/s]"
     ]
    },
    {
     "name": "stderr",
     "output_type": "stream",
     "text": [
      "\r",
      " 24%|██▎       | 473/2000 [00:07<00:24, 63.55it/s]"
     ]
    },
    {
     "name": "stderr",
     "output_type": "stream",
     "text": [
      "\r",
      " 24%|██▍       | 483/2000 [00:07<00:23, 63.65it/s]"
     ]
    },
    {
     "name": "stderr",
     "output_type": "stream",
     "text": [
      "\r",
      " 25%|██▍       | 493/2000 [00:08<00:23, 63.80it/s]"
     ]
    },
    {
     "name": "stderr",
     "output_type": "stream",
     "text": [
      "\r",
      " 25%|██▌       | 503/2000 [00:08<00:23, 64.04it/s]"
     ]
    },
    {
     "name": "stderr",
     "output_type": "stream",
     "text": [
      "\r",
      " 26%|██▌       | 513/2000 [00:08<00:23, 63.24it/s]"
     ]
    },
    {
     "name": "stderr",
     "output_type": "stream",
     "text": [
      "\r",
      " 26%|██▌       | 523/2000 [00:08<00:23, 63.42it/s]"
     ]
    },
    {
     "name": "stderr",
     "output_type": "stream",
     "text": [
      "\r",
      " 27%|██▋       | 533/2000 [00:08<00:22, 63.78it/s]"
     ]
    },
    {
     "name": "stderr",
     "output_type": "stream",
     "text": [
      "\r",
      " 27%|██▋       | 542/2000 [00:08<00:21, 68.28it/s]"
     ]
    },
    {
     "name": "stderr",
     "output_type": "stream",
     "text": [
      "\r",
      " 27%|██▋       | 549/2000 [00:08<00:21, 66.01it/s]"
     ]
    },
    {
     "name": "stderr",
     "output_type": "stream",
     "text": [
      "\r",
      " 28%|██▊       | 556/2000 [00:09<00:23, 60.74it/s]"
     ]
    },
    {
     "name": "stderr",
     "output_type": "stream",
     "text": [
      "\r",
      " 28%|██▊       | 564/2000 [00:09<00:22, 64.55it/s]"
     ]
    },
    {
     "name": "stderr",
     "output_type": "stream",
     "text": [
      "\r",
      " 29%|██▊       | 572/2000 [00:09<00:21, 65.10it/s]"
     ]
    },
    {
     "name": "stderr",
     "output_type": "stream",
     "text": [
      "\r",
      " 29%|██▉       | 579/2000 [00:09<00:21, 66.20it/s]"
     ]
    },
    {
     "name": "stderr",
     "output_type": "stream",
     "text": [
      "\r",
      " 29%|██▉       | 586/2000 [00:09<00:23, 59.83it/s]"
     ]
    },
    {
     "name": "stderr",
     "output_type": "stream",
     "text": [
      "\r",
      " 30%|██▉       | 595/2000 [00:09<00:23, 58.63it/s]"
     ]
    },
    {
     "name": "stderr",
     "output_type": "stream",
     "text": [
      "\r",
      " 30%|███       | 605/2000 [00:09<00:23, 59.94it/s]"
     ]
    },
    {
     "name": "stderr",
     "output_type": "stream",
     "text": [
      "\r",
      " 31%|███       | 615/2000 [00:10<00:22, 60.69it/s]"
     ]
    },
    {
     "name": "stderr",
     "output_type": "stream",
     "text": [
      "\r",
      " 31%|███▏      | 625/2000 [00:10<00:22, 61.25it/s]"
     ]
    },
    {
     "name": "stderr",
     "output_type": "stream",
     "text": [
      "\r",
      " 32%|███▏      | 635/2000 [00:10<00:22, 61.59it/s]"
     ]
    },
    {
     "name": "stderr",
     "output_type": "stream",
     "text": [
      "\r",
      " 32%|███▏      | 645/2000 [00:10<00:21, 61.91it/s]"
     ]
    },
    {
     "name": "stderr",
     "output_type": "stream",
     "text": [
      "\r",
      " 33%|███▎      | 655/2000 [00:10<00:21, 62.32it/s]"
     ]
    },
    {
     "name": "stderr",
     "output_type": "stream",
     "text": [
      "\r",
      " 33%|███▎      | 665/2000 [00:10<00:21, 62.38it/s]"
     ]
    },
    {
     "name": "stderr",
     "output_type": "stream",
     "text": [
      "\r",
      " 34%|███▍      | 675/2000 [00:11<00:21, 62.27it/s]"
     ]
    },
    {
     "name": "stderr",
     "output_type": "stream",
     "text": [
      "\r",
      " 34%|███▍      | 685/2000 [00:11<00:21, 62.22it/s]"
     ]
    },
    {
     "name": "stderr",
     "output_type": "stream",
     "text": [
      "\r",
      " 35%|███▍      | 695/2000 [00:11<00:20, 62.48it/s]"
     ]
    },
    {
     "name": "stderr",
     "output_type": "stream",
     "text": [
      "\r",
      " 35%|███▌      | 705/2000 [00:11<00:20, 62.77it/s]"
     ]
    },
    {
     "name": "stderr",
     "output_type": "stream",
     "text": [
      "\r",
      " 36%|███▌      | 715/2000 [00:11<00:20, 62.96it/s]"
     ]
    },
    {
     "name": "stderr",
     "output_type": "stream",
     "text": [
      "\r",
      " 36%|███▋      | 725/2000 [00:11<00:20, 62.96it/s]"
     ]
    },
    {
     "name": "stderr",
     "output_type": "stream",
     "text": [
      "\r",
      " 37%|███▋      | 735/2000 [00:11<00:20, 62.95it/s]"
     ]
    },
    {
     "name": "stderr",
     "output_type": "stream",
     "text": [
      "\r",
      " 37%|███▋      | 745/2000 [00:12<00:20, 62.70it/s]"
     ]
    },
    {
     "name": "stderr",
     "output_type": "stream",
     "text": [
      "\r",
      " 38%|███▊      | 755/2000 [00:12<00:19, 62.69it/s]"
     ]
    },
    {
     "name": "stderr",
     "output_type": "stream",
     "text": [
      "\r",
      " 38%|███▊      | 765/2000 [00:12<00:19, 62.31it/s]"
     ]
    },
    {
     "name": "stderr",
     "output_type": "stream",
     "text": [
      "\r",
      " 39%|███▉      | 775/2000 [00:12<00:19, 62.59it/s]"
     ]
    },
    {
     "name": "stderr",
     "output_type": "stream",
     "text": [
      "\r",
      " 39%|███▉      | 785/2000 [00:12<00:19, 62.89it/s]"
     ]
    },
    {
     "name": "stderr",
     "output_type": "stream",
     "text": [
      "\r",
      " 40%|███▉      | 795/2000 [00:12<00:19, 63.04it/s]"
     ]
    },
    {
     "name": "stderr",
     "output_type": "stream",
     "text": [
      "\r",
      " 40%|████      | 805/2000 [00:13<00:18, 63.15it/s]"
     ]
    },
    {
     "name": "stderr",
     "output_type": "stream",
     "text": [
      "\r",
      " 41%|████      | 815/2000 [00:13<00:18, 63.30it/s]"
     ]
    },
    {
     "name": "stderr",
     "output_type": "stream",
     "text": [
      "\r",
      " 41%|████▏     | 825/2000 [00:13<00:18, 63.45it/s]"
     ]
    },
    {
     "name": "stderr",
     "output_type": "stream",
     "text": [
      "\r",
      " 42%|████▏     | 835/2000 [00:13<00:18, 63.59it/s]"
     ]
    },
    {
     "name": "stderr",
     "output_type": "stream",
     "text": [
      "\r",
      " 42%|████▏     | 845/2000 [00:13<00:18, 63.68it/s]"
     ]
    },
    {
     "name": "stderr",
     "output_type": "stream",
     "text": [
      "\r",
      " 43%|████▎     | 855/2000 [00:13<00:17, 63.95it/s]"
     ]
    },
    {
     "name": "stderr",
     "output_type": "stream",
     "text": [
      "\r",
      " 43%|████▎     | 865/2000 [00:14<00:17, 64.18it/s]"
     ]
    },
    {
     "name": "stderr",
     "output_type": "stream",
     "text": [
      "\r",
      " 44%|████▍     | 875/2000 [00:14<00:17, 64.32it/s]"
     ]
    },
    {
     "name": "stderr",
     "output_type": "stream",
     "text": [
      "\r",
      " 44%|████▍     | 885/2000 [00:14<00:17, 64.44it/s]"
     ]
    },
    {
     "name": "stderr",
     "output_type": "stream",
     "text": [
      "\r",
      " 45%|████▍     | 895/2000 [00:14<00:17, 63.74it/s]"
     ]
    },
    {
     "name": "stderr",
     "output_type": "stream",
     "text": [
      "\r",
      " 45%|████▌     | 905/2000 [00:14<00:17, 63.96it/s]"
     ]
    },
    {
     "name": "stderr",
     "output_type": "stream",
     "text": [
      "\r",
      " 46%|████▌     | 915/2000 [00:14<00:16, 64.28it/s]"
     ]
    },
    {
     "name": "stderr",
     "output_type": "stream",
     "text": [
      "\r",
      " 46%|████▋     | 925/2000 [00:14<00:16, 64.49it/s]"
     ]
    },
    {
     "name": "stderr",
     "output_type": "stream",
     "text": [
      "\r",
      " 47%|████▋     | 935/2000 [00:15<00:16, 64.71it/s]"
     ]
    },
    {
     "name": "stderr",
     "output_type": "stream",
     "text": [
      "\r",
      " 47%|████▋     | 945/2000 [00:15<00:16, 64.89it/s]"
     ]
    },
    {
     "name": "stderr",
     "output_type": "stream",
     "text": [
      "\r",
      " 48%|████▊     | 954/2000 [00:15<00:15, 68.63it/s]"
     ]
    },
    {
     "name": "stderr",
     "output_type": "stream",
     "text": [
      "\r",
      " 48%|████▊     | 961/2000 [00:15<00:16, 64.57it/s]"
     ]
    },
    {
     "name": "stderr",
     "output_type": "stream",
     "text": [
      "\r",
      " 48%|████▊     | 968/2000 [00:15<00:17, 60.39it/s]"
     ]
    },
    {
     "name": "stderr",
     "output_type": "stream",
     "text": [
      "\r",
      " 49%|████▉     | 976/2000 [00:15<00:15, 64.81it/s]"
     ]
    },
    {
     "name": "stderr",
     "output_type": "stream",
     "text": [
      "\r",
      " 49%|████▉     | 985/2000 [00:15<00:15, 65.90it/s]"
     ]
    },
    {
     "name": "stderr",
     "output_type": "stream",
     "text": [
      "\r",
      " 50%|████▉     | 994/2000 [00:16<00:14, 69.12it/s]"
     ]
    },
    {
     "name": "stderr",
     "output_type": "stream",
     "text": [
      "\r",
      " 50%|█████     | 1001/2000 [00:16<00:15, 64.43it/s]"
     ]
    },
    {
     "name": "stderr",
     "output_type": "stream",
     "text": [
      "\r",
      " 50%|█████     | 1008/2000 [00:16<00:16, 59.08it/s]"
     ]
    },
    {
     "name": "stderr",
     "output_type": "stream",
     "text": [
      "\r",
      " 51%|█████     | 1017/2000 [00:16<00:16, 61.18it/s]"
     ]
    },
    {
     "name": "stderr",
     "output_type": "stream",
     "text": [
      "\r",
      " 51%|█████▏    | 1026/2000 [00:16<00:14, 65.51it/s]"
     ]
    },
    {
     "name": "stderr",
     "output_type": "stream",
     "text": [
      "\r",
      " 52%|█████▏    | 1035/2000 [00:16<00:14, 67.21it/s]"
     ]
    },
    {
     "name": "stderr",
     "output_type": "stream",
     "text": [
      "\r",
      " 52%|█████▏    | 1042/2000 [00:16<00:14, 65.26it/s]"
     ]
    },
    {
     "name": "stderr",
     "output_type": "stream",
     "text": [
      "\r",
      " 52%|█████▏    | 1049/2000 [00:16<00:15, 61.05it/s]"
     ]
    },
    {
     "name": "stderr",
     "output_type": "stream",
     "text": [
      "\r",
      " 53%|█████▎    | 1057/2000 [00:17<00:15, 60.62it/s]"
     ]
    },
    {
     "name": "stderr",
     "output_type": "stream",
     "text": [
      "\r",
      " 53%|█████▎    | 1066/2000 [00:17<00:13, 67.43it/s]"
     ]
    },
    {
     "name": "stderr",
     "output_type": "stream",
     "text": [
      "\r",
      " 54%|█████▎    | 1074/2000 [00:17<00:13, 67.47it/s]"
     ]
    },
    {
     "name": "stderr",
     "output_type": "stream",
     "text": [
      "\r",
      " 54%|█████▍    | 1081/2000 [00:17<00:14, 64.17it/s]"
     ]
    },
    {
     "name": "stderr",
     "output_type": "stream",
     "text": [
      "\r",
      " 54%|█████▍    | 1088/2000 [00:17<00:15, 58.77it/s]"
     ]
    },
    {
     "name": "stderr",
     "output_type": "stream",
     "text": [
      "\r",
      " 55%|█████▍    | 1097/2000 [00:17<00:14, 60.81it/s]"
     ]
    },
    {
     "name": "stderr",
     "output_type": "stream",
     "text": [
      "\r",
      " 55%|█████▌    | 1107/2000 [00:17<00:14, 61.73it/s]"
     ]
    },
    {
     "name": "stderr",
     "output_type": "stream",
     "text": [
      "\r",
      " 56%|█████▌    | 1117/2000 [00:17<00:14, 62.31it/s]"
     ]
    },
    {
     "name": "stderr",
     "output_type": "stream",
     "text": [
      "\r",
      " 56%|█████▋    | 1127/2000 [00:18<00:13, 62.76it/s]"
     ]
    },
    {
     "name": "stderr",
     "output_type": "stream",
     "text": [
      "\r",
      " 57%|█████▋    | 1137/2000 [00:18<00:13, 63.01it/s]"
     ]
    },
    {
     "name": "stderr",
     "output_type": "stream",
     "text": [
      "\r",
      " 57%|█████▋    | 1147/2000 [00:18<00:13, 63.11it/s]"
     ]
    },
    {
     "name": "stderr",
     "output_type": "stream",
     "text": [
      "\r",
      " 58%|█████▊    | 1157/2000 [00:18<00:13, 63.34it/s]"
     ]
    },
    {
     "name": "stderr",
     "output_type": "stream",
     "text": [
      "\r",
      " 58%|█████▊    | 1167/2000 [00:18<00:13, 63.71it/s]"
     ]
    },
    {
     "name": "stderr",
     "output_type": "stream",
     "text": [
      "\r",
      " 59%|█████▉    | 1177/2000 [00:18<00:12, 64.01it/s]"
     ]
    },
    {
     "name": "stderr",
     "output_type": "stream",
     "text": [
      "\r",
      " 59%|█████▉    | 1187/2000 [00:19<00:12, 64.23it/s]"
     ]
    },
    {
     "name": "stderr",
     "output_type": "stream",
     "text": [
      "\r",
      " 60%|█████▉    | 1197/2000 [00:19<00:12, 64.42it/s]"
     ]
    },
    {
     "name": "stderr",
     "output_type": "stream",
     "text": [
      "\r",
      " 60%|██████    | 1207/2000 [00:19<00:12, 64.56it/s]"
     ]
    },
    {
     "name": "stderr",
     "output_type": "stream",
     "text": [
      "\r",
      " 61%|██████    | 1217/2000 [00:19<00:12, 64.69it/s]"
     ]
    },
    {
     "name": "stderr",
     "output_type": "stream",
     "text": [
      "\r",
      " 61%|██████▏   | 1227/2000 [00:19<00:11, 64.84it/s]"
     ]
    },
    {
     "name": "stderr",
     "output_type": "stream",
     "text": [
      "\r",
      " 62%|██████▏   | 1237/2000 [00:19<00:11, 64.96it/s]"
     ]
    },
    {
     "name": "stderr",
     "output_type": "stream",
     "text": [
      "\r",
      " 62%|██████▏   | 1246/2000 [00:19<00:10, 69.31it/s]"
     ]
    },
    {
     "name": "stderr",
     "output_type": "stream",
     "text": [
      "\r",
      " 63%|██████▎   | 1254/2000 [00:20<00:10, 68.05it/s]"
     ]
    },
    {
     "name": "stderr",
     "output_type": "stream",
     "text": [
      "\r",
      " 63%|██████▎   | 1261/2000 [00:20<00:11, 62.06it/s]"
     ]
    },
    {
     "name": "stderr",
     "output_type": "stream",
     "text": [
      "\r",
      " 63%|██████▎   | 1268/2000 [00:20<00:11, 63.07it/s]"
     ]
    },
    {
     "name": "stderr",
     "output_type": "stream",
     "text": [
      "\r",
      " 64%|██████▍   | 1277/2000 [00:20<00:11, 64.65it/s]"
     ]
    },
    {
     "name": "stderr",
     "output_type": "stream",
     "text": [
      "\r",
      " 64%|██████▍   | 1285/2000 [00:20<00:10, 66.71it/s]"
     ]
    },
    {
     "name": "stderr",
     "output_type": "stream",
     "text": [
      "\r",
      " 65%|██████▍   | 1292/2000 [00:20<00:11, 63.00it/s]"
     ]
    },
    {
     "name": "stderr",
     "output_type": "stream",
     "text": [
      "\r",
      " 65%|██████▍   | 1299/2000 [00:20<00:10, 64.70it/s]"
     ]
    },
    {
     "name": "stderr",
     "output_type": "stream",
     "text": [
      "\r",
      " 65%|██████▌   | 1307/2000 [00:20<00:10, 64.54it/s]"
     ]
    },
    {
     "name": "stderr",
     "output_type": "stream",
     "text": [
      "\r",
      " 66%|██████▌   | 1315/2000 [00:21<00:10, 64.81it/s]"
     ]
    },
    {
     "name": "stderr",
     "output_type": "stream",
     "text": [
      "\r",
      " 66%|██████▌   | 1322/2000 [00:21<00:11, 61.61it/s]"
     ]
    },
    {
     "name": "stderr",
     "output_type": "stream",
     "text": [
      "\r",
      " 66%|██████▋   | 1330/2000 [00:21<00:11, 57.69it/s]"
     ]
    },
    {
     "name": "stderr",
     "output_type": "stream",
     "text": [
      "\r",
      " 67%|██████▋   | 1340/2000 [00:21<00:11, 59.27it/s]"
     ]
    },
    {
     "name": "stderr",
     "output_type": "stream",
     "text": [
      "\r",
      " 68%|██████▊   | 1350/2000 [00:21<00:10, 60.57it/s]"
     ]
    },
    {
     "name": "stderr",
     "output_type": "stream",
     "text": [
      "\r",
      " 68%|██████▊   | 1360/2000 [00:21<00:10, 61.60it/s]"
     ]
    },
    {
     "name": "stderr",
     "output_type": "stream",
     "text": [
      "\r",
      " 68%|██████▊   | 1370/2000 [00:21<00:10, 62.31it/s]"
     ]
    },
    {
     "name": "stderr",
     "output_type": "stream",
     "text": [
      "\r",
      " 69%|██████▉   | 1380/2000 [00:22<00:09, 62.81it/s]"
     ]
    },
    {
     "name": "stderr",
     "output_type": "stream",
     "text": [
      "\r",
      " 70%|██████▉   | 1390/2000 [00:22<00:09, 63.26it/s]"
     ]
    },
    {
     "name": "stderr",
     "output_type": "stream",
     "text": [
      "\r",
      " 70%|███████   | 1400/2000 [00:22<00:09, 63.71it/s]"
     ]
    },
    {
     "name": "stderr",
     "output_type": "stream",
     "text": [
      "\r",
      " 70%|███████   | 1410/2000 [00:22<00:09, 62.96it/s]"
     ]
    },
    {
     "name": "stderr",
     "output_type": "stream",
     "text": [
      "\r",
      " 71%|███████   | 1420/2000 [00:22<00:09, 63.41it/s]"
     ]
    },
    {
     "name": "stderr",
     "output_type": "stream",
     "text": [
      "\r",
      " 72%|███████▏  | 1430/2000 [00:22<00:08, 63.65it/s]"
     ]
    },
    {
     "name": "stderr",
     "output_type": "stream",
     "text": [
      "\r",
      " 72%|███████▏  | 1440/2000 [00:23<00:08, 64.15it/s]"
     ]
    },
    {
     "name": "stderr",
     "output_type": "stream",
     "text": [
      "\r",
      " 72%|███████▎  | 1450/2000 [00:23<00:08, 64.40it/s]"
     ]
    },
    {
     "name": "stderr",
     "output_type": "stream",
     "text": [
      "\r",
      " 73%|███████▎  | 1460/2000 [00:23<00:08, 64.52it/s]"
     ]
    },
    {
     "name": "stderr",
     "output_type": "stream",
     "text": [
      "\r",
      " 74%|███████▎  | 1470/2000 [00:23<00:08, 64.54it/s]"
     ]
    },
    {
     "name": "stderr",
     "output_type": "stream",
     "text": [
      "\r",
      " 74%|███████▍  | 1479/2000 [00:23<00:07, 69.96it/s]"
     ]
    },
    {
     "name": "stderr",
     "output_type": "stream",
     "text": [
      "\r",
      " 74%|███████▍  | 1487/2000 [00:23<00:07, 67.11it/s]"
     ]
    },
    {
     "name": "stderr",
     "output_type": "stream",
     "text": [
      "\r",
      " 75%|███████▍  | 1494/2000 [00:23<00:08, 60.58it/s]"
     ]
    },
    {
     "name": "stderr",
     "output_type": "stream",
     "text": [
      "\r",
      " 75%|███████▌  | 1501/2000 [00:24<00:08, 61.85it/s]"
     ]
    },
    {
     "name": "stderr",
     "output_type": "stream",
     "text": [
      "\r",
      " 76%|███████▌  | 1510/2000 [00:24<00:07, 64.69it/s]"
     ]
    },
    {
     "name": "stderr",
     "output_type": "stream",
     "text": [
      "\r",
      " 76%|███████▌  | 1519/2000 [00:24<00:06, 70.34it/s]"
     ]
    },
    {
     "name": "stderr",
     "output_type": "stream",
     "text": [
      "\r",
      " 76%|███████▋  | 1527/2000 [00:24<00:07, 65.87it/s]"
     ]
    },
    {
     "name": "stderr",
     "output_type": "stream",
     "text": [
      "\r",
      " 77%|███████▋  | 1534/2000 [00:24<00:07, 58.84it/s]"
     ]
    },
    {
     "name": "stderr",
     "output_type": "stream",
     "text": [
      "\r",
      " 77%|███████▋  | 1543/2000 [00:24<00:07, 61.86it/s]"
     ]
    },
    {
     "name": "stderr",
     "output_type": "stream",
     "text": [
      "\r",
      " 78%|███████▊  | 1551/2000 [00:24<00:07, 62.55it/s]"
     ]
    },
    {
     "name": "stderr",
     "output_type": "stream",
     "text": [
      "\r",
      " 78%|███████▊  | 1560/2000 [00:24<00:06, 65.91it/s]"
     ]
    },
    {
     "name": "stderr",
     "output_type": "stream",
     "text": [
      "\r",
      " 78%|███████▊  | 1567/2000 [00:25<00:06, 66.27it/s]"
     ]
    },
    {
     "name": "stderr",
     "output_type": "stream",
     "text": [
      "\r",
      " 79%|███████▊  | 1574/2000 [00:25<00:07, 59.16it/s]"
     ]
    },
    {
     "name": "stderr",
     "output_type": "stream",
     "text": [
      "\r",
      " 79%|███████▉  | 1583/2000 [00:25<00:06, 62.90it/s]"
     ]
    },
    {
     "name": "stderr",
     "output_type": "stream",
     "text": [
      "\r",
      " 80%|███████▉  | 1591/2000 [00:25<00:06, 64.29it/s]"
     ]
    },
    {
     "name": "stderr",
     "output_type": "stream",
     "text": [
      "\r",
      " 80%|████████  | 1600/2000 [00:25<00:05, 67.89it/s]"
     ]
    },
    {
     "name": "stderr",
     "output_type": "stream",
     "text": [
      "\r",
      " 80%|████████  | 1607/2000 [00:25<00:06, 65.08it/s]"
     ]
    },
    {
     "name": "stderr",
     "output_type": "stream",
     "text": [
      "\r",
      " 81%|████████  | 1614/2000 [00:25<00:06, 58.52it/s]"
     ]
    },
    {
     "name": "stderr",
     "output_type": "stream",
     "text": [
      "\r",
      " 81%|████████  | 1623/2000 [00:25<00:05, 63.13it/s]"
     ]
    },
    {
     "name": "stderr",
     "output_type": "stream",
     "text": [
      "\r",
      " 82%|████████▏ | 1631/2000 [00:26<00:05, 65.21it/s]"
     ]
    },
    {
     "name": "stderr",
     "output_type": "stream",
     "text": [
      "\r",
      " 82%|████████▏ | 1639/2000 [00:26<00:05, 66.40it/s]"
     ]
    },
    {
     "name": "stderr",
     "output_type": "stream",
     "text": [
      "\r",
      " 82%|████████▏ | 1646/2000 [00:26<00:05, 62.60it/s]"
     ]
    },
    {
     "name": "stderr",
     "output_type": "stream",
     "text": [
      "\r",
      " 83%|████████▎ | 1653/2000 [00:26<00:05, 63.13it/s]"
     ]
    },
    {
     "name": "stderr",
     "output_type": "stream",
     "text": [
      "\r",
      " 83%|████████▎ | 1661/2000 [00:26<00:05, 65.25it/s]"
     ]
    },
    {
     "name": "stderr",
     "output_type": "stream",
     "text": [
      "\r",
      " 83%|████████▎ | 1669/2000 [00:26<00:05, 65.13it/s]"
     ]
    },
    {
     "name": "stderr",
     "output_type": "stream",
     "text": [
      "\r",
      " 84%|████████▍ | 1676/2000 [00:26<00:05, 61.78it/s]"
     ]
    },
    {
     "name": "stderr",
     "output_type": "stream",
     "text": [
      "\r",
      " 84%|████████▍ | 1683/2000 [00:26<00:05, 62.47it/s]"
     ]
    },
    {
     "name": "stderr",
     "output_type": "stream",
     "text": [
      "\r",
      " 85%|████████▍ | 1691/2000 [00:26<00:04, 66.08it/s]"
     ]
    },
    {
     "name": "stderr",
     "output_type": "stream",
     "text": [
      "\r",
      " 85%|████████▍ | 1698/2000 [00:27<00:04, 66.35it/s]"
     ]
    },
    {
     "name": "stderr",
     "output_type": "stream",
     "text": [
      "\r",
      " 85%|████████▌ | 1705/2000 [00:27<00:04, 59.59it/s]"
     ]
    },
    {
     "name": "stderr",
     "output_type": "stream",
     "text": [
      "\r",
      " 86%|████████▌ | 1713/2000 [00:27<00:04, 63.94it/s]"
     ]
    },
    {
     "name": "stderr",
     "output_type": "stream",
     "text": [
      "\r",
      " 86%|████████▌ | 1721/2000 [00:27<00:04, 67.10it/s]"
     ]
    },
    {
     "name": "stderr",
     "output_type": "stream",
     "text": [
      "\r",
      " 86%|████████▋ | 1728/2000 [00:27<00:04, 66.31it/s]"
     ]
    },
    {
     "name": "stderr",
     "output_type": "stream",
     "text": [
      "\r",
      " 87%|████████▋ | 1735/2000 [00:27<00:04, 59.10it/s]"
     ]
    },
    {
     "name": "stderr",
     "output_type": "stream",
     "text": [
      "\r",
      " 87%|████████▋ | 1744/2000 [00:27<00:04, 58.78it/s]"
     ]
    },
    {
     "name": "stderr",
     "output_type": "stream",
     "text": [
      "\r",
      " 88%|████████▊ | 1754/2000 [00:28<00:04, 60.25it/s]"
     ]
    },
    {
     "name": "stderr",
     "output_type": "stream",
     "text": [
      "\r",
      " 88%|████████▊ | 1764/2000 [00:28<00:03, 61.38it/s]"
     ]
    },
    {
     "name": "stderr",
     "output_type": "stream",
     "text": [
      "\r",
      " 89%|████████▊ | 1774/2000 [00:28<00:03, 62.25it/s]"
     ]
    },
    {
     "name": "stderr",
     "output_type": "stream",
     "text": [
      "\r",
      " 89%|████████▉ | 1784/2000 [00:28<00:03, 62.92it/s]"
     ]
    },
    {
     "name": "stderr",
     "output_type": "stream",
     "text": [
      "\r",
      " 90%|████████▉ | 1794/2000 [00:28<00:03, 63.38it/s]"
     ]
    },
    {
     "name": "stderr",
     "output_type": "stream",
     "text": [
      "\r",
      " 90%|█████████ | 1804/2000 [00:28<00:03, 63.72it/s]"
     ]
    },
    {
     "name": "stderr",
     "output_type": "stream",
     "text": [
      "\r",
      " 91%|█████████ | 1814/2000 [00:28<00:02, 64.11it/s]"
     ]
    },
    {
     "name": "stderr",
     "output_type": "stream",
     "text": [
      "\r",
      " 91%|█████████ | 1824/2000 [00:29<00:02, 64.41it/s]"
     ]
    },
    {
     "name": "stderr",
     "output_type": "stream",
     "text": [
      "\r",
      " 92%|█████████▏| 1834/2000 [00:29<00:02, 64.51it/s]"
     ]
    },
    {
     "name": "stderr",
     "output_type": "stream",
     "text": [
      "\r",
      " 92%|█████████▏| 1844/2000 [00:29<00:02, 64.64it/s]"
     ]
    },
    {
     "name": "stderr",
     "output_type": "stream",
     "text": [
      "\r",
      " 93%|█████████▎| 1854/2000 [00:29<00:02, 64.70it/s]"
     ]
    },
    {
     "name": "stderr",
     "output_type": "stream",
     "text": [
      "\r",
      " 93%|█████████▎| 1864/2000 [00:29<00:02, 64.83it/s]"
     ]
    },
    {
     "name": "stderr",
     "output_type": "stream",
     "text": [
      "\r",
      " 94%|█████████▎| 1873/2000 [00:29<00:01, 68.73it/s]"
     ]
    },
    {
     "name": "stderr",
     "output_type": "stream",
     "text": [
      "\r",
      " 94%|█████████▍| 1880/2000 [00:29<00:01, 61.37it/s]"
     ]
    },
    {
     "name": "stderr",
     "output_type": "stream",
     "text": [
      "\r",
      " 94%|█████████▍| 1887/2000 [00:30<00:02, 55.84it/s]"
     ]
    },
    {
     "name": "stderr",
     "output_type": "stream",
     "text": [
      "\r",
      " 95%|█████████▍| 1894/2000 [00:30<00:01, 58.78it/s]"
     ]
    },
    {
     "name": "stderr",
     "output_type": "stream",
     "text": [
      "\r",
      " 95%|█████████▌| 1901/2000 [00:30<00:01, 61.44it/s]"
     ]
    },
    {
     "name": "stderr",
     "output_type": "stream",
     "text": [
      "\r",
      " 95%|█████████▌| 1908/2000 [00:30<00:01, 62.91it/s]"
     ]
    },
    {
     "name": "stderr",
     "output_type": "stream",
     "text": [
      "\r",
      " 96%|█████████▌| 1915/2000 [00:30<00:01, 61.25it/s]"
     ]
    },
    {
     "name": "stderr",
     "output_type": "stream",
     "text": [
      "\r",
      " 96%|█████████▌| 1924/2000 [00:30<00:01, 62.60it/s]"
     ]
    },
    {
     "name": "stderr",
     "output_type": "stream",
     "text": [
      "\r",
      " 97%|█████████▋| 1931/2000 [00:30<00:01, 63.58it/s]"
     ]
    },
    {
     "name": "stderr",
     "output_type": "stream",
     "text": [
      "\r",
      " 97%|█████████▋| 1938/2000 [00:30<00:00, 63.91it/s]"
     ]
    },
    {
     "name": "stderr",
     "output_type": "stream",
     "text": [
      "\r",
      " 97%|█████████▋| 1945/2000 [00:31<00:00, 63.79it/s]"
     ]
    },
    {
     "name": "stderr",
     "output_type": "stream",
     "text": [
      "\r",
      " 98%|█████████▊| 1954/2000 [00:31<00:00, 64.57it/s]"
     ]
    },
    {
     "name": "stderr",
     "output_type": "stream",
     "text": [
      "\r",
      " 98%|█████████▊| 1961/2000 [00:31<00:00, 64.15it/s]"
     ]
    },
    {
     "name": "stderr",
     "output_type": "stream",
     "text": [
      "\r",
      " 98%|█████████▊| 1968/2000 [00:31<00:00, 65.07it/s]"
     ]
    },
    {
     "name": "stderr",
     "output_type": "stream",
     "text": [
      "\r",
      " 99%|█████████▉| 1975/2000 [00:31<00:00, 64.50it/s]"
     ]
    },
    {
     "name": "stderr",
     "output_type": "stream",
     "text": [
      "\r",
      " 99%|█████████▉| 1983/2000 [00:31<00:00, 68.38it/s]"
     ]
    },
    {
     "name": "stderr",
     "output_type": "stream",
     "text": [
      "\r",
      "100%|█████████▉| 1990/2000 [00:31<00:00, 63.32it/s]"
     ]
    },
    {
     "name": "stderr",
     "output_type": "stream",
     "text": [
      "\r",
      "100%|█████████▉| 1997/2000 [00:31<00:00, 61.74it/s]"
     ]
    },
    {
     "name": "stderr",
     "output_type": "stream",
     "text": [
      "\r",
      "100%|██████████| 2000/2000 [00:31<00:00, 62.76it/s]"
     ]
    },
    {
     "name": "stderr",
     "output_type": "stream",
     "text": [
      "\n"
     ]
    }
   ],
   "source": [
    "stat_vec = batch_run(par, theta_np, cfg, num_workers)"
   ]
  },
  {
   "cell_type": "code",
   "execution_count": 18,
   "metadata": {
    "execution": {
     "iopub.execute_input": "2025-09-16T09:18:43.355060Z",
     "iopub.status.busy": "2025-09-16T09:18:43.354794Z",
     "iopub.status.idle": "2025-09-16T09:18:43.437870Z",
     "shell.execute_reply": "2025-09-16T09:18:43.436574Z"
    }
   },
   "outputs": [],
   "source": [
    "scaler = StandardScaler()\n",
    "stat_vec_st = scaler.fit_transform(np.array(stat_vec))\n",
    "stat_vec_st = torch.tensor(stat_vec_st, dtype=torch.float32)\n",
    "torch.save(theta, 'output/theta.pt')\n",
    "torch.save(stat_vec, 'output/stat_vec.pt')"
   ]
  },
  {
   "cell_type": "code",
   "execution_count": 19,
   "metadata": {
    "execution": {
     "iopub.execute_input": "2025-09-16T09:18:43.442860Z",
     "iopub.status.busy": "2025-09-16T09:18:43.441889Z",
     "iopub.status.idle": "2025-09-16T09:18:43.448556Z",
     "shell.execute_reply": "2025-09-16T09:18:43.447440Z"
    }
   },
   "outputs": [
    {
     "name": "stdout",
     "output_type": "stream",
     "text": [
      "torch.Size([2000, 3]) torch.Size([2000, 12])\n"
     ]
    }
   ],
   "source": [
    "print(theta.shape, stat_vec_st.shape)"
   ]
  },
  {
   "cell_type": "code",
   "execution_count": 20,
   "metadata": {
    "execution": {
     "iopub.execute_input": "2025-09-16T09:18:43.451720Z",
     "iopub.status.busy": "2025-09-16T09:18:43.451489Z",
     "iopub.status.idle": "2025-09-16T09:18:58.240563Z",
     "shell.execute_reply": "2025-09-16T09:18:58.239914Z"
    }
   },
   "outputs": [
    {
     "name": "stdout",
     "output_type": "stream",
     "text": [
      "\r",
      " Training neural network. Epochs trained: 1\r",
      " Training neural network. Epochs trained: 2\r",
      " Training neural network. Epochs trained: 3"
     ]
    },
    {
     "name": "stdout",
     "output_type": "stream",
     "text": [
      "\r",
      " Training neural network. Epochs trained: 4\r",
      " Training neural network. Epochs trained: 5\r",
      " Training neural network. Epochs trained: 6"
     ]
    },
    {
     "name": "stdout",
     "output_type": "stream",
     "text": [
      "\r",
      " Training neural network. Epochs trained: 7\r",
      " Training neural network. Epochs trained: 8\r",
      " Training neural network. Epochs trained: 9"
     ]
    },
    {
     "name": "stdout",
     "output_type": "stream",
     "text": [
      "\r",
      " Training neural network. Epochs trained: 10\r",
      " Training neural network. Epochs trained: 11"
     ]
    },
    {
     "name": "stdout",
     "output_type": "stream",
     "text": [
      "\r",
      " Training neural network. Epochs trained: 12\r",
      " Training neural network. Epochs trained: 13"
     ]
    },
    {
     "name": "stdout",
     "output_type": "stream",
     "text": [
      "\r",
      " Training neural network. Epochs trained: 14\r",
      " Training neural network. Epochs trained: 15\r",
      " Training neural network. Epochs trained: 16"
     ]
    },
    {
     "name": "stdout",
     "output_type": "stream",
     "text": [
      "\r",
      " Training neural network. Epochs trained: 17\r",
      " Training neural network. Epochs trained: 18\r",
      " Training neural network. Epochs trained: 19"
     ]
    },
    {
     "name": "stdout",
     "output_type": "stream",
     "text": [
      "\r",
      " Training neural network. Epochs trained: 20\r",
      " Training neural network. Epochs trained: 21\r",
      " Training neural network. Epochs trained: 22"
     ]
    },
    {
     "name": "stdout",
     "output_type": "stream",
     "text": [
      "\r",
      " Training neural network. Epochs trained: 23\r",
      " Training neural network. Epochs trained: 24\r",
      " Training neural network. Epochs trained: 25"
     ]
    },
    {
     "name": "stdout",
     "output_type": "stream",
     "text": [
      "\r",
      " Training neural network. Epochs trained: 26\r",
      " Training neural network. Epochs trained: 27\r",
      " Training neural network. Epochs trained: 28"
     ]
    },
    {
     "name": "stdout",
     "output_type": "stream",
     "text": [
      "\r",
      " Training neural network. Epochs trained: 29\r",
      " Training neural network. Epochs trained: 30\r",
      " Training neural network. Epochs trained: 31"
     ]
    },
    {
     "name": "stdout",
     "output_type": "stream",
     "text": [
      "\r",
      " Training neural network. Epochs trained: 32\r",
      " Training neural network. Epochs trained: 33"
     ]
    },
    {
     "name": "stdout",
     "output_type": "stream",
     "text": [
      "\r",
      " Training neural network. Epochs trained: 34\r",
      " Training neural network. Epochs trained: 35"
     ]
    },
    {
     "name": "stdout",
     "output_type": "stream",
     "text": [
      "\r",
      " Training neural network. Epochs trained: 36\r",
      " Training neural network. Epochs trained: 37"
     ]
    },
    {
     "name": "stdout",
     "output_type": "stream",
     "text": [
      "\r",
      " Training neural network. Epochs trained: 38\r",
      " Training neural network. Epochs trained: 39\r",
      " Training neural network. Epochs trained: 40"
     ]
    },
    {
     "name": "stdout",
     "output_type": "stream",
     "text": [
      "\r",
      " Training neural network. Epochs trained: 41\r",
      " Training neural network. Epochs trained: 42\r",
      " Training neural network. Epochs trained: 43"
     ]
    },
    {
     "name": "stdout",
     "output_type": "stream",
     "text": [
      "\r",
      " Training neural network. Epochs trained: 44\r",
      " Training neural network. Epochs trained: 45\r",
      " Training neural network. Epochs trained: 46"
     ]
    },
    {
     "name": "stdout",
     "output_type": "stream",
     "text": [
      "\r",
      " Training neural network. Epochs trained: 47\r",
      " Training neural network. Epochs trained: 48\r",
      " Training neural network. Epochs trained: 49"
     ]
    },
    {
     "name": "stdout",
     "output_type": "stream",
     "text": [
      "\r",
      " Training neural network. Epochs trained: 50\r",
      " Training neural network. Epochs trained: 51"
     ]
    },
    {
     "name": "stdout",
     "output_type": "stream",
     "text": [
      "\r",
      " Training neural network. Epochs trained: 52\r",
      " Training neural network. Epochs trained: 53"
     ]
    },
    {
     "name": "stdout",
     "output_type": "stream",
     "text": [
      "\r",
      " Training neural network. Epochs trained: 54\r",
      " Training neural network. Epochs trained: 55"
     ]
    },
    {
     "name": "stdout",
     "output_type": "stream",
     "text": [
      "\r",
      " Training neural network. Epochs trained: 56\r",
      " Training neural network. Epochs trained: 57"
     ]
    },
    {
     "name": "stdout",
     "output_type": "stream",
     "text": [
      "\r",
      " Training neural network. Epochs trained: 58\r",
      " Training neural network. Epochs trained: 59"
     ]
    },
    {
     "name": "stdout",
     "output_type": "stream",
     "text": [
      "\r",
      " Training neural network. Epochs trained: 60\r",
      " Training neural network. Epochs trained: 61"
     ]
    },
    {
     "name": "stdout",
     "output_type": "stream",
     "text": [
      "\r",
      " Training neural network. Epochs trained: 62\r",
      " Training neural network. Epochs trained: 63"
     ]
    },
    {
     "name": "stdout",
     "output_type": "stream",
     "text": [
      "\r",
      " Training neural network. Epochs trained: 64\r",
      " Training neural network. Epochs trained: 65"
     ]
    },
    {
     "name": "stdout",
     "output_type": "stream",
     "text": [
      "\r",
      " Training neural network. Epochs trained: 66\r",
      " Training neural network. Epochs trained: 67"
     ]
    },
    {
     "name": "stdout",
     "output_type": "stream",
     "text": [
      "\r",
      " Training neural network. Epochs trained: 68\r",
      " Training neural network. Epochs trained: 69"
     ]
    },
    {
     "name": "stdout",
     "output_type": "stream",
     "text": [
      "\r",
      " Training neural network. Epochs trained: 70\r",
      " Training neural network. Epochs trained: 71"
     ]
    },
    {
     "name": "stdout",
     "output_type": "stream",
     "text": [
      "\r",
      " Training neural network. Epochs trained: 72\r",
      " Training neural network. Epochs trained: 73\r",
      " Training neural network. Epochs trained: 74"
     ]
    },
    {
     "name": "stdout",
     "output_type": "stream",
     "text": [
      "\r",
      " Training neural network. Epochs trained: 75\r",
      " Training neural network. Epochs trained: 76"
     ]
    },
    {
     "name": "stdout",
     "output_type": "stream",
     "text": [
      "\r",
      " Training neural network. Epochs trained: 77\r",
      " Training neural network. Epochs trained: 78"
     ]
    },
    {
     "name": "stdout",
     "output_type": "stream",
     "text": [
      "\r",
      " Training neural network. Epochs trained: 79\r",
      " Training neural network. Epochs trained: 80\r",
      " Training neural network. Epochs trained: 81"
     ]
    },
    {
     "name": "stdout",
     "output_type": "stream",
     "text": [
      "\r",
      " Training neural network. Epochs trained: 82\r",
      " Training neural network. Epochs trained: 83\r",
      " Training neural network. Epochs trained: 84"
     ]
    },
    {
     "name": "stdout",
     "output_type": "stream",
     "text": [
      "\r",
      " Training neural network. Epochs trained: 85\r",
      " Training neural network. Epochs trained: 86\r",
      " Training neural network. Epochs trained: 87"
     ]
    },
    {
     "name": "stdout",
     "output_type": "stream",
     "text": [
      "\r",
      " Training neural network. Epochs trained: 88\r",
      " Training neural network. Epochs trained: 89\r",
      " Training neural network. Epochs trained: 90"
     ]
    },
    {
     "name": "stdout",
     "output_type": "stream",
     "text": [
      "\r",
      " Training neural network. Epochs trained: 91\r",
      " Training neural network. Epochs trained: 92\r",
      " Training neural network. Epochs trained: 93"
     ]
    },
    {
     "name": "stdout",
     "output_type": "stream",
     "text": [
      "\r",
      " Training neural network. Epochs trained: 94\r",
      " Training neural network. Epochs trained: 95\r",
      " Training neural network. Epochs trained: 96"
     ]
    },
    {
     "name": "stdout",
     "output_type": "stream",
     "text": [
      "\r",
      " Training neural network. Epochs trained: 97\r",
      " Training neural network. Epochs trained: 98\r",
      " Training neural network. Epochs trained: 99"
     ]
    },
    {
     "name": "stdout",
     "output_type": "stream",
     "text": [
      "\r",
      " Training neural network. Epochs trained: 100\r",
      " Training neural network. Epochs trained: 101\r",
      " Training neural network. Epochs trained: 102"
     ]
    },
    {
     "name": "stdout",
     "output_type": "stream",
     "text": [
      "\r",
      " Training neural network. Epochs trained: 103\r",
      " Training neural network. Epochs trained: 104\r",
      " Training neural network. Epochs trained: 105"
     ]
    },
    {
     "name": "stdout",
     "output_type": "stream",
     "text": [
      "\r",
      " Training neural network. Epochs trained: 106\r",
      " Training neural network. Epochs trained: 107\r",
      " Training neural network. Epochs trained: 108"
     ]
    },
    {
     "name": "stdout",
     "output_type": "stream",
     "text": [
      "\r",
      " Training neural network. Epochs trained: 109\r",
      " Training neural network. Epochs trained: 110\r",
      " Training neural network. Epochs trained: 111"
     ]
    },
    {
     "name": "stdout",
     "output_type": "stream",
     "text": [
      "\r",
      " Training neural network. Epochs trained: 112\r",
      " Training neural network. Epochs trained: 113\r",
      " Training neural network. Epochs trained: 114"
     ]
    },
    {
     "name": "stdout",
     "output_type": "stream",
     "text": [
      "\r",
      " Training neural network. Epochs trained: 115\r",
      " Training neural network. Epochs trained: 116\r",
      " Training neural network. Epochs trained: 117"
     ]
    },
    {
     "name": "stdout",
     "output_type": "stream",
     "text": [
      "\r",
      " Training neural network. Epochs trained: 118\r",
      " Training neural network. Epochs trained: 119\r",
      " Training neural network. Epochs trained: 120"
     ]
    },
    {
     "name": "stdout",
     "output_type": "stream",
     "text": [
      "\r",
      " Training neural network. Epochs trained: 121\r",
      " Training neural network. Epochs trained: 122\r",
      " Training neural network. Epochs trained: 123"
     ]
    },
    {
     "name": "stdout",
     "output_type": "stream",
     "text": [
      "\r",
      " Training neural network. Epochs trained: 124\r",
      " Training neural network. Epochs trained: 125\r",
      " Training neural network. Epochs trained: 126"
     ]
    },
    {
     "name": "stdout",
     "output_type": "stream",
     "text": [
      "\r",
      " Training neural network. Epochs trained: 127\r",
      " Training neural network. Epochs trained: 128\r",
      " Training neural network. Epochs trained: 129"
     ]
    },
    {
     "name": "stdout",
     "output_type": "stream",
     "text": [
      "\r",
      " Training neural network. Epochs trained: 130\r",
      " Training neural network. Epochs trained: 131\r",
      " Training neural network. Epochs trained: 132"
     ]
    },
    {
     "name": "stdout",
     "output_type": "stream",
     "text": [
      "\r",
      " Training neural network. Epochs trained: 133\r",
      " Training neural network. Epochs trained: 134\r",
      " Training neural network. Epochs trained: 135"
     ]
    },
    {
     "name": "stdout",
     "output_type": "stream",
     "text": [
      "\r",
      " Training neural network. Epochs trained: 136\r",
      " Training neural network. Epochs trained: 137\r",
      " Neural network successfully converged after 137 epochs.train Done in 0 hours 0 minutes 14.785768 seconds\n"
     ]
    }
   ],
   "source": [
    "posterior = obj.train(theta, stat_vec_st, prior, method=\"SNPE\", density_estimator=\"maf\")"
   ]
  },
  {
   "cell_type": "code",
   "execution_count": 21,
   "metadata": {
    "execution": {
     "iopub.execute_input": "2025-09-16T09:18:58.242643Z",
     "iopub.status.busy": "2025-09-16T09:18:58.242267Z",
     "iopub.status.idle": "2025-09-16T09:18:58.255982Z",
     "shell.execute_reply": "2025-09-16T09:18:58.255521Z"
    }
   },
   "outputs": [],
   "source": [
    "with open('output/posterior.pkl', 'wb') as f:\n",
    "    pickle.dump(posterior, f)"
   ]
  },
  {
   "cell_type": "code",
   "execution_count": 22,
   "metadata": {
    "execution": {
     "iopub.execute_input": "2025-09-16T09:18:58.257816Z",
     "iopub.status.busy": "2025-09-16T09:18:58.257569Z",
     "iopub.status.idle": "2025-09-16T09:18:58.391580Z",
     "shell.execute_reply": "2025-09-16T09:18:58.391067Z"
    }
   },
   "outputs": [],
   "source": [
    "xo = wrapper(par, theta_true, cfg)\n",
    "xo_st = scaler.transform(xo.reshape(1, -1))"
   ]
  },
  {
   "cell_type": "code",
   "execution_count": 23,
   "metadata": {
    "execution": {
     "iopub.execute_input": "2025-09-16T09:18:58.393479Z",
     "iopub.status.busy": "2025-09-16T09:18:58.393280Z",
     "iopub.status.idle": "2025-09-16T09:18:58.543649Z",
     "shell.execute_reply": "2025-09-16T09:18:58.543010Z"
    }
   },
   "outputs": [
    {
     "data": {
      "application/vnd.jupyter.widget-view+json": {
       "model_id": "42d9c8d16d5f4ec5985d2803995f773c",
       "version_major": 2,
       "version_minor": 0
      },
      "text/plain": [
       "  0%|          | 0/10000 [00:00<?, ?it/s]"
      ]
     },
     "metadata": {},
     "output_type": "display_data"
    }
   ],
   "source": [
    "samples = obj.sample_posterior(xo_st, 10000, posterior)\n",
    "torch.save(samples, 'output/samples.pt')"
   ]
  },
  {
   "cell_type": "code",
   "execution_count": 24,
   "metadata": {
    "execution": {
     "iopub.execute_input": "2025-09-16T09:18:58.545561Z",
     "iopub.status.busy": "2025-09-16T09:18:58.545365Z",
     "iopub.status.idle": "2025-09-16T09:19:00.008687Z",
     "shell.execute_reply": "2025-09-16T09:19:00.008004Z"
    }
   },
   "outputs": [
    {
     "data": {
      "image/png": "[encoded data removed]",
      "text/plain": [
       "<Figure size 500x500 with 9 Axes>"
      ]
     },
     "metadata": {},
     "output_type": "display_data"
    }
   ],
   "source": [
    "limits = [[i, j] for i, j in zip(prior_min, prior_max)]\n",
    "points = [theta_true]\n",
    "fig, ax = pairplot(\n",
    "    samples,\n",
    "    limits=limits,\n",
    "    figsize=(5, 5),\n",
    "    points=points,\n",
    "    labels=[\"G\", \"C11\", \"C12\"],\n",
    "    upper=\"kde\",\n",
    "    diag=\"kde\",\n",
    "    fig_kwargs=dict(\n",
    "        points_offdiag=dict(marker=\"*\", markersize=10),\n",
    "        points_colors=[\"g\"],\n",
    "    ),\n",
    ")\n",
    "ax[0, 0].tick_params(labelsize=14)\n",
    "ax[0, 0].margins(y=0)\n",
    "fig.savefig(\"output/jr_sde_cpp.jpeg\", dpi=300)"
   ]
  },
  {
   "cell_type": "code",
   "execution_count": null,
   "metadata": {},
   "outputs": [],
   "source": []
  }
 ],
 "metadata": {
  "kernelspec": {
   "display_name": "vbidevelop",
   "language": "python",
   "name": "python3"
  },
  "language_info": {
   "codemirror_mode": {
    "name": "ipython",
    "version": 3
   },
   "file_extension": ".py",
   "mimetype": "text/x-python",
   "name": "python",
   "nbconvert_exporter": "python",
   "pygments_lexer": "ipython3",
   "version": "3.10.16"
  },
  "widgets": {
   "application/vnd.jupyter.widget-state+json": {
    "state": {
     "004649781067446f95863b13f096d88b": {
      "model_module": "@jupyter-widgets/controls",
      "model_module_version": "2.0.0",
      "model_name": "HTMLStyleModel",
      "state": {
       "_model_module": "@jupyter-widgets/controls",
       "_model_module_version": "2.0.0",
       "_model_name": "HTMLStyleModel",
       "_view_count": null,
       "_view_module": "@jupyter-widgets/base",
       "_view_module_version": "2.0.0",
       "_view_name": "StyleView",
       "background": null,
       "description_width": "",
       "font_size": null,
       "text_color": null
      }
     },
     "2089987451cc448990704f7f8683eb15": {
      "model_module": "@jupyter-widgets/controls",
      "model_module_version": "2.0.0",
      "model_name": "FloatProgressModel",
      "state": {
       "_dom_classes": [],
       "_model_module": "@jupyter-widgets/controls",
       "_model_module_version": "2.0.0",
       "_model_name": "FloatProgressModel",
       "_view_count": null,
       "_view_module": "@jupyter-widgets/controls",
       "_view_module_version": "2.0.0",
       "_view_name": "ProgressView",
       "bar_style": "success",
       "description": "",
       "description_allow_html": false,
       "layout": "IPY_MODEL_d308c2a6b15e42a7b9da678a80a766a7",
       "max": 10000.0,
       "min": 0.0,
       "orientation": "horizontal",
       "style": "IPY_MODEL_74750f613a9a430f9d556f46dcd6a8c2",
       "tabbable": null,
       "tooltip": null,
       "value": 10000.0
      }
     },
     "347da660df5d4973b4c01754f203dd07": {
      "model_module": "@jupyter-widgets/controls",
      "model_module_version": "2.0.0",
      "model_name": "HTMLModel",
      "state": {
       "_dom_classes": [],
       "_model_module": "@jupyter-widgets/controls",
       "_model_module_version": "2.0.0",
       "_model_name": "HTMLModel",
       "_view_count": null,
       "_view_module": "@jupyter-widgets/controls",
       "_view_module_version": "2.0.0",
       "_view_name": "HTMLView",
       "description": "",
       "description_allow_html": false,
       "layout": "IPY_MODEL_be3d23b1da3c4771b86acbf90d2ee270",
       "placeholder": "​",
       "style": "IPY_MODEL_004649781067446f95863b13f096d88b",
       "tabbable": null,
       "tooltip": null,
       "value": ""
      }
     },
     "42d9c8d16d5f4ec5985d2803995f773c": {
      "model_module": "@jupyter-widgets/controls",
      "model_module_version": "2.0.0",
      "model_name": "HBoxModel",
      "state": {
       "_dom_classes": [],
       "_model_module": "@jupyter-widgets/controls",
       "_model_module_version": "2.0.0",
       "_model_name": "HBoxModel",
       "_view_count": null,
       "_view_module": "@jupyter-widgets/controls",
       "_view_module_version": "2.0.0",
       "_view_name": "HBoxView",
       "box_style": "",
       "children": [
        "IPY_MODEL_347da660df5d4973b4c01754f203dd07",
        "IPY_MODEL_2089987451cc448990704f7f8683eb15",
        "IPY_MODEL_58b2c13711784c3da3e4641357aac3f6"
       ],
       "layout": "IPY_MODEL_6daaa3a851f64550be29a11f468460ca",
       "tabbable": null,
       "tooltip": null
      }
     },
     "58b2c13711784c3da3e4641357aac3f6": {
      "model_module": "@jupyter-widgets/controls",
      "model_module_version": "2.0.0",
      "model_name": "HTMLModel",
      "state": {
       "_dom_classes": [],
       "_model_module": "@jupyter-widgets/controls",
       "_model_module_version": "2.0.0",
       "_model_name": "HTMLModel",
       "_view_count": null,
       "_view_module": "@jupyter-widgets/controls",
       "_view_module_version": "2.0.0",
       "_view_name": "HTMLView",
       "description": "",
       "description_allow_html": false,
       "layout": "IPY_MODEL_ad083d5a9ae44b49936db5ed0e5c30e3",
       "placeholder": "​",
       "style": "IPY_MODEL_bb67399c0f03404c9631ea77c22dc997",
       "tabbable": null,
       "tooltip": null,
       "value": " 10078/? [00:00&lt;00:00, 71855.81it/s]"
      }
     },
     "6daaa3a851f64550be29a11f468460ca": {
      "model_module": "@jupyter-widgets/base",
      "model_module_version": "2.0.0",
      "model_name": "LayoutModel",
      "state": {
       "_model_module": "@jupyter-widgets/base",
       "_model_module_version": "2.0.0",
       "_model_name": "LayoutModel",
       "_view_count": null,
       "_view_module": "@jupyter-widgets/base",
       "_view_module_version": "2.0.0",
       "_view_name": "LayoutView",
       "align_content": null,
       "align_items": null,
       "align_self": null,
       "border_bottom": null,
       "border_left": null,
       "border_right": null,
       "border_top": null,
       "bottom": null,
       "display": null,
       "flex": null,
       "flex_flow": null,
       "grid_area": null,
       "grid_auto_columns": null,
       "grid_auto_flow": null,
       "grid_auto_rows": null,
       "grid_column": null,
       "grid_gap": null,
       "grid_row": null,
       "grid_template_areas": null,
       "grid_template_columns": null,
       "grid_template_rows": null,
       "height": null,
       "justify_content": null,
       "justify_items": null,
       "left": null,
       "margin": null,
       "max_height": null,
       "max_width": null,
       "min_height": null,
       "min_width": null,
       "object_fit": null,
       "object_position": null,
       "order": null,
       "overflow": null,
       "padding": null,
       "right": null,
       "top": null,
       "visibility": null,
       "width": null
      }
     },
     "74750f613a9a430f9d556f46dcd6a8c2": {
      "model_module": "@jupyter-widgets/controls",
      "model_module_version": "2.0.0",
      "model_name": "ProgressStyleModel",
      "state": {
       "_model_module": "@jupyter-widgets/controls",
       "_model_module_version": "2.0.0",
       "_model_name": "ProgressStyleModel",
       "_view_count": null,
       "_view_module": "@jupyter-widgets/base",
       "_view_module_version": "2.0.0",
       "_view_name": "StyleView",
       "bar_color": null,
       "description_width": ""
      }
     },
     "ad083d5a9ae44b49936db5ed0e5c30e3": {
      "model_module": "@jupyter-widgets/base",
      "model_module_version": "2.0.0",
      "model_name": "LayoutModel",
      "state": {
       "_model_module": "@jupyter-widgets/base",
       "_model_module_version": "2.0.0",
       "_model_name": "LayoutModel",
       "_view_count": null,
       "_view_module": "@jupyter-widgets/base",
       "_view_module_version": "2.0.0",
       "_view_name": "LayoutView",
       "align_content": null,
       "align_items": null,
       "align_self": null,
       "border_bottom": null,
       "border_left": null,
       "border_right": null,
       "border_top": null,
       "bottom": null,
       "display": null,
       "flex": null,
       "flex_flow": null,
       "grid_area": null,
       "grid_auto_columns": null,
       "grid_auto_flow": null,
       "grid_auto_rows": null,
       "grid_column": null,
       "grid_gap": null,
       "grid_row": null,
       "grid_template_areas": null,
       "grid_template_columns": null,
       "grid_template_rows": null,
       "height": null,
       "justify_content": null,
       "justify_items": null,
       "left": null,
       "margin": null,
       "max_height": null,
       "max_width": null,
       "min_height": null,
       "min_width": null,
       "object_fit": null,
       "object_position": null,
       "order": null,
       "overflow": null,
       "padding": null,
       "right": null,
       "top": null,
       "visibility": null,
       "width": null
      }
     },
     "bb67399c0f03404c9631ea77c22dc997": {
      "model_module": "@jupyter-widgets/controls",
      "model_module_version": "2.0.0",
      "model_name": "HTMLStyleModel",
      "state": {
       "_model_module": "@jupyter-widgets/controls",
       "_model_module_version": "2.0.0",
       "_model_name": "HTMLStyleModel",
       "_view_count": null,
       "_view_module": "@jupyter-widgets/base",
       "_view_module_version": "2.0.0",
       "_view_name": "StyleView",
       "background": null,
       "description_width": "",
       "font_size": null,
       "text_color": null
      }
     },
     "be3d23b1da3c4771b86acbf90d2ee270": {
      "model_module": "@jupyter-widgets/base",
      "model_module_version": "2.0.0",
      "model_name": "LayoutModel",
      "state": {
       "_model_module": "@jupyter-widgets/base",
       "_model_module_version": "2.0.0",
       "_model_name": "LayoutModel",
       "_view_count": null,
       "_view_module": "@jupyter-widgets/base",
       "_view_module_version": "2.0.0",
       "_view_name": "LayoutView",
       "align_content": null,
       "align_items": null,
       "align_self": null,
       "border_bottom": null,
       "border_left": null,
       "border_right": null,
       "border_top": null,
       "bottom": null,
       "display": null,
       "flex": null,
       "flex_flow": null,
       "grid_area": null,
       "grid_auto_columns": null,
       "grid_auto_flow": null,
       "grid_auto_rows": null,
       "grid_column": null,
       "grid_gap": null,
       "grid_row": null,
       "grid_template_areas": null,
       "grid_template_columns": null,
       "grid_template_rows": null,
       "height": null,
       "justify_content": null,
       "justify_items": null,
       "left": null,
       "margin": null,
       "max_height": null,
       "max_width": null,
       "min_height": null,
       "min_width": null,
       "object_fit": null,
       "object_position": null,
       "order": null,
       "overflow": null,
       "padding": null,
       "right": null,
       "top": null,
       "visibility": null,
       "width": null
      }
     },
     "d308c2a6b15e42a7b9da678a80a766a7": {
      "model_module": "@jupyter-widgets/base",
      "model_module_version": "2.0.0",
      "model_name": "LayoutModel",
      "state": {
       "_model_module": "@jupyter-widgets/base",
       "_model_module_version": "2.0.0",
       "_model_name": "LayoutModel",
       "_view_count": null,
       "_view_module": "@jupyter-widgets/base",
       "_view_module_version": "2.0.0",
       "_view_name": "LayoutView",
       "align_content": null,
       "align_items": null,
       "align_self": null,
       "border_bottom": null,
       "border_left": null,
       "border_right": null,
       "border_top": null,
       "bottom": null,
       "display": null,
       "flex": null,
       "flex_flow": null,
       "grid_area": null,
       "grid_auto_columns": null,
       "grid_auto_flow": null,
       "grid_auto_rows": null,
       "grid_column": null,
       "grid_gap": null,
       "grid_row": null,
       "grid_template_areas": null,
       "grid_template_columns": null,
       "grid_template_rows": null,
       "height": null,
       "justify_content": null,
       "justify_items": null,
       "left": null,
       "margin": null,
       "max_height": null,
       "max_width": null,
       "min_height": null,
       "min_width": null,
       "object_fit": null,
       "object_position": null,
       "order": null,
       "overflow": null,
       "padding": null,
       "right": null,
       "top": null,
       "visibility": null,
       "width": null
      }
     }
    },
    "version_major": 2,
    "version_minor": 0
   }
  }
 },
 "nbformat": 4,
 "nbformat_minor": 2
}

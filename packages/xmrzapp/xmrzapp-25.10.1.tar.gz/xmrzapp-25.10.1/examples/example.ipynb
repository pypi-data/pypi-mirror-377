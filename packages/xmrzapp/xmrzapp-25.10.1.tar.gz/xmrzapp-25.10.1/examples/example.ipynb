{
 "cells": [
  {
   "cell_type": "code",
   "execution_count": null,
   "id": "3cca7c79-0c44-4467-bead-faef5319241c",
   "metadata": {},
   "outputs": [],
   "source": [
    "git clone https://github.com/devnbugs/xmrzapp.git\n",
    "cd MRZ_Passport_Reader_From_Image\n",
    "pip install -e . -q"
   ]
  },
  {
   "cell_type": "code",
   "execution_count": null,
   "id": "05f7da43-de7e-499a-95a3-7e0c22e585bb",
   "metadata": {},
   "outputs": [],
   "source": [
    "import xmrzapp \n",
    "reader = xmrzapp.reader.MRZReader( \n",
    "    facedetection_protxt = \"./weights/face_detector/deploy.prototxt\",\n",
    "    facedetection_caffemodel = \"./weights/face_detector/res10_300x300_ssd_iter_140000.caffemodel\",\n",
    "    segmentation_model = \"./weights/mrz_detector/mrz_seg.tflite\",\n",
    "    easy_ocr_params = { \"lang_list\": [\"en\"], \"gpu\": False }\n",
    "\n",
    ")"
   ]
  },
  {
   "cell_type": "code",
   "execution_count": null,
   "id": "df78c1db-2548-4037-b5d7-351ece1d0a5c",
   "metadata": {},
   "outputs": [],
   "source": [
    "text_results,segmented_image ,face = reader.predict(\n",
    "    \"/home/serdarhelli/Documents/GitHub/MRZ_Passport_Reader_From_Image/example.jpg\",\n",
    "    do_facedetect = True,\n",
    "    preprocess_config = {\n",
    "            \"do_preprocess\": True,\n",
    "            \"skewness\": True,\n",
    "            \"delete_shadow\": True,\n",
    "            \"clear_background\": True\n",
    "        }\n",
    "\n",
    ")"
   ]
  },
  {
   "cell_type": "code",
   "execution_count": null,
   "id": "0a662937-0388-4f8d-857f-9145b41e9062",
   "metadata": {},
   "outputs": [],
   "source": [
    "for result in text_results:\n",
    "    bbox, text, confidence = result\n",
    "    print(f\"Bounding Box: {bbox}\")\n",
    "    print(f\"Recognized Text: {text}\")\n",
    "    print(f\"Confidence: {confidence:.2f}\")\n",
    "    print(\"-\" * 50)"
   ]
  },
  {
   "cell_type": "code",
   "execution_count": null,
   "id": "2fdd070f-709c-4990-8887-bb89570e08f8",
   "metadata": {},
   "outputs": [],
   "source": [
    "import matplotlib.pyplot as plt\n",
    "plt.imshow(segmented_image)"
   ]
  },
  {
   "cell_type": "code",
   "execution_count": null,
   "id": "7eb667b1-6d20-4468-9fa2-e2caa758b38f",
   "metadata": {},
   "outputs": [],
   "source": [
    "import matplotlib.pyplot as plt\n",
    "plt.imshow(segmented_image)"
   ]
  },
  {
   "cell_type": "code",
   "execution_count": null,
   "id": "6772bc01-72b3-40f0-8d4f-d22cadc904b0",
   "metadata": {},
   "outputs": [],
   "source": []
  }
 ],
 "metadata": {
  "kernelspec": {
   "display_name": "Python 3 (ipykernel)",
   "language": "python",
   "name": "python3"
  },
  "language_info": {
   "codemirror_mode": {
    "name": "ipython",
    "version": 3
   },
   "file_extension": ".py",
   "mimetype": "text/x-python",
   "name": "python",
   "nbconvert_exporter": "python",
   "pygments_lexer": "ipython3",
   "version": "3.12.3"
  }
 },
 "nbformat": 4,
 "nbformat_minor": 5
}

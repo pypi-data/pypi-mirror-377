{
 "cells": [
  {
   "cell_type": "code",
   "execution_count": 1,
   "id": "17ee104b-c409-4a89-80df-d8835a71f8f1",
   "metadata": {},
   "outputs": [
    {
     "name": "stdout",
     "output_type": "stream",
     "text": [
      "[{'scale': [1, 0.004, 0.0018, 0.0018], 'type': 'scale'}]\n",
      "[{'scale': [1, 0.004, 0.0018, 0.0018], 'type': 'scale'}]\n",
      "ras2vox\n",
      "TransformSpec(tfm_type=<TransformType.AFFINE_RAS: 1>, affine=array([[  -0.        ,   -0.        , -250.        ,   -0.        ],\n",
      "       [  -0.        , -555.55555556,   -0.        ,   -0.        ],\n",
      "       [-555.55555556,   -0.        ,   -0.        ,   -0.        ],\n",
      "       [   0.        ,    0.        ,    0.        ,    1.        ]]), disp_xyz=None, disp_grid=None, disp_ras2vox=None)\n",
      "DaskImage(darr=dask.array<getitem, shape=(1, 2212, 11732, 7439), dtype=uint16, chunksize=(1, 1, 4096, 4096), chunktype=numpy.ndarray>, ras2vox=TransformSpec(tfm_type=<TransformType.AFFINE_RAS: 1>, affine=array([[  -0.        ,   -0.        , -250.        ,   -0.        ],\n",
      "       [  -0.        , -555.55555556,   -0.        ,   -0.        ],\n",
      "       [-555.55555556,   -0.        ,   -0.        ,   -0.        ],\n",
      "       [   0.        ,    0.        ,    0.        ,    1.        ]]), disp_xyz=None, disp_grid=None, disp_ras2vox=None), vox2ras=TransformSpec(tfm_type=<TransformType.AFFINE_RAS: 1>, affine=array([[ 0.    ,  0.    , -0.0018,  0.    ],\n",
      "       [ 0.    , -0.0018,  0.    ,  0.    ],\n",
      "       [-0.004 ,  0.    ,  0.    ,  0.    ],\n",
      "       [ 0.    ,  0.    ,  0.    ,  1.    ]]), disp_xyz=None, disp_grid=None, disp_ras2vox=None), axes_nifti=False)\n",
      "(1, 232, 366, 277)\n",
      "affine from label nii: [[-0.0576  0.      0.     -0.    ]\n",
      " [ 0.     -0.0576  0.     -0.    ]\n",
      " [ 0.      0.     -0.032   0.    ]\n",
      " [ 0.      0.      0.      1.    ]]\n",
      "1199.0\n",
      "DaskImage(darr=dask.array<array, shape=(1, 232, 366, 277), dtype=float64, chunksize=(1, 232, 268, 268), chunktype=numpy.ndarray>, ras2vox=TransformSpec(tfm_type=<TransformType.AFFINE_RAS: 1>, affine=array([[-17.36111141,  -0.        ,  -0.        ,  -0.        ],\n",
      "       [ -0.        , -17.36111141,  -0.        ,  -0.        ],\n",
      "       [ -0.        ,  -0.        , -31.24999852,  -0.        ],\n",
      "       [  0.        ,   0.        ,   0.        ,   1.        ]]), disp_xyz=None, disp_grid=None, disp_ras2vox=None), vox2ras=TransformSpec(tfm_type=<TransformType.AFFINE_RAS: 1>, affine=array([[-0.0576,  0.    ,  0.    , -0.    ],\n",
      "       [ 0.    , -0.0576,  0.    , -0.    ],\n",
      "       [ 0.    ,  0.    , -0.032 ,  0.    ],\n",
      "       [ 0.    ,  0.    ,  0.    ,  1.    ]]), disp_xyz=None, disp_grid=None, disp_ras2vox=None), axes_nifti=True)\n"
     ]
    }
   ],
   "source": [
    "import dask.array as da\n",
    "from transform import DaskImage, TransformSpec\n",
    "import numpy as np\n",
    "import nibabel as nib\n",
    "\n",
    "# function to extract ome zarr subvolume around nifti label from e.g. downsampled nii\n",
    "in_zarr = '/cifs/prado/Kate/AK_Pipeline_LSM/spimprep/bids/sub-o28/micr/sub-o28_sample-brain_acq-prestitched_SPIM.ome.zarr/'\n",
    "tiny_zarr='/local/SPIMquant/test_out/results/sub-o28/micr/sub-o28_sample-brain_acq-prestitched_desc-tiny_SPIM.ome.zarr'\n",
    "in_lbl_nii='/local/SPIMquant/test_out/results/sub-o28/micr/sub-o28_sample-brain_acq-prestitched_from-ABAv3_level-5_desc-deform_dseg.nii.gz'\n",
    "\n",
    "zarr_img = DaskImage.from_path(in_zarr) \n",
    "nii_label = DaskImage.from_path(in_lbl_nii)\n",
    "print('ras2vox')\n",
    "print(zarr_img.ras2vox) \n",
    "print(zarr_img)\n",
    "print(nii_label.darr.shape)\n",
    "\n",
    "print(f'affine from label nii: {nib.load(in_lbl_nii).affine}')\n",
    "print(nib.load(in_lbl_nii).get_fdata()[173,148,60])\n",
    "\n",
    "nii_label.darr.max().compute()\n",
    "print(nii_label)\n",
    "\n",
    "\n",
    "aba_label=457\n",
    "\n",
    "darr_label = da.zeros_like(nii_label.darr)\n",
    "darr_label[nii_label.darr==aba_label] = 1\n",
    "\n"
   ]
  },
  {
   "cell_type": "code",
   "execution_count": 2,
   "id": "4e7a6fce-85b8-4e99-8962-c47fcac59881",
   "metadata": {},
   "outputs": [
    {
     "name": "stdout",
     "output_type": "stream",
     "text": [
      "[[  0]\n",
      " [118]\n",
      " [126]\n",
      " [ 41]]\n",
      "[[  0]\n",
      " [201]\n",
      " [185]\n",
      " [191]]\n"
     ]
    }
   ],
   "source": [
    "darr_label = da.zeros_like(nii_label.darr)\n",
    "\n",
    "darr_label[nii_label.darr==aba_label] = 1\n",
    "\n",
    "indices = da.argwhere(darr_label).compute()\n",
    "# Compute the minimum and maximum extents in each dimension\n",
    "min_extent = indices.min(axis=0).reshape((4,1))\n",
    "max_extent = indices.max(axis=0).reshape((4,1))\n",
    "\n",
    "#NEED TO INTERPOLATE EXTENTS FROM VOX (DS LEVEL) -> RAS (PHYS)-> VOX (FULL RES)\n",
    "\n",
    "#get bounds\n",
    "print(min_extent)\n",
    "print(max_extent)\n"
   ]
  },
  {
   "cell_type": "code",
   "execution_count": 3,
   "id": "b5f3f9a8-ba68-4e0a-818f-bc02137f5f4b",
   "metadata": {},
   "outputs": [
    {
     "name": "stdout",
     "output_type": "stream",
     "text": [
      "(3, 2)\n",
      "[[118. 201.]\n",
      " [126. 185.]\n",
      " [ 41. 191.]\n",
      " [  1.   1.]]\n",
      "TransformSpec(tfm_type=<TransformType.AFFINE_RAS: 1>, affine=array([[-0.0576,  0.    ,  0.    , -0.    ],\n",
      "       [ 0.    , -0.0576,  0.    , -0.    ],\n",
      "       [ 0.    ,  0.    , -0.032 ,  0.    ],\n",
      "       [ 0.    ,  0.    ,  0.    ,  1.    ]]), disp_xyz=None, disp_grid=None, disp_ras2vox=None)\n",
      "[[ -6.79679988 -11.5775998 ]\n",
      " [ -7.25759988 -10.65599982]\n",
      " [ -1.31200006  -6.11200029]\n",
      " [  1.           1.        ]]\n",
      "TransformSpec(tfm_type=<TransformType.AFFINE_RAS: 1>, affine=array([[1., 0., 0., 0.],\n",
      "       [0., 1., 0., 0.],\n",
      "       [0., 0., 1., 0.],\n",
      "       [0., 0., 0., 1.]]), disp_xyz=None, disp_grid=None, disp_ras2vox=None)\n",
      "[[ -6.79679988 -11.5775998 ]\n",
      " [ -7.25759988 -10.65599982]\n",
      " [ -1.31200006  -6.11200029]\n",
      " [  1.           1.        ]]\n",
      "TransformSpec(tfm_type=<TransformType.AFFINE_RAS: 1>, affine=array([[  -0.        ,   -0.        , -250.        ,   -0.        ],\n",
      "       [  -0.        , -555.55555556,   -0.        ,   -0.        ],\n",
      "       [-555.55555556,   -0.        ,   -0.        ,   -0.        ],\n",
      "       [   0.        ,    0.        ,    0.        ,    1.        ]]), disp_xyz=None, disp_grid=None, disp_ras2vox=None)\n",
      "[[3.28000016e+02 1.52800007e+03]\n",
      " [4.03199993e+03 5.91999990e+03]\n",
      " [3.77599994e+03 6.43199989e+03]\n",
      " [1.00000000e+00 1.00000000e+00]]\n",
      "extents flo\n",
      "[[118 201]\n",
      " [126 185]\n",
      " [ 41 191]]\n",
      "extents ref\n",
      "[[ 328. 1528.]\n",
      " [4032. 5920.]\n",
      " [3776. 6432.]]\n",
      "fov size flo\n",
      "[ 83  59 150]\n",
      "fov size ref\n",
      "[1200. 1888. 2656.]\n"
     ]
    }
   ],
   "source": [
    "extents_flo = np.hstack((min_extent[1:,:],max_extent[1:,:]))\n",
    "\n",
    "\n",
    "#try reordered \n",
    "#extents_flo = np.flip(extents_flo,0)\n",
    "\n",
    "\n",
    "print(extents_flo.shape)\n",
    "extents_ref = np.round(nii_label.apply_transform_flo_to_ref_indices(TransformSpec.affine_ras_from_array(np.eye(4)),\n",
    "                                    ref_dimg=zarr_img,\n",
    "                                    indices=extents_flo))\n",
    "print('extents flo')\n",
    "print(extents_flo)\n",
    "\n",
    "print('extents ref')\n",
    "print(extents_ref)\n",
    "\n",
    "\n",
    "print('fov size flo')\n",
    "print(extents_flo[:,1] - extents_flo[:,0])\n",
    "\n",
    "print('fov size ref')\n",
    "print(extents_ref[:,1] - extents_ref[:,0])"
   ]
  },
  {
   "cell_type": "code",
   "execution_count": 4,
   "id": "753e0eeb-cbc0-4d0e-ac90-2bf82903c40a",
   "metadata": {},
   "outputs": [
    {
     "name": "stdout",
     "output_type": "stream",
     "text": [
      "(1, 1201, 1889, 2657)\n",
      "False\n",
      "writing full-res image to zarr single threaded\n",
      "[########################################] | 100% Completed | 140.66 s\n",
      "writing downsampled images to zarr\n",
      "[########################################] | 100% Completed | 114.80 s\n",
      "True\n",
      "writing full-res image to zarr single threaded\n",
      "[########################################] | 100% Completed | 101.61 ms\n",
      "writing downsampled images to zarr\n",
      "[########################################] | 100% Completed | 102.19 ms\n"
     ]
    }
   ],
   "source": [
    "              \n",
    "zarr_img.darr = zarr_img.darr[:,\n",
    "                        extents_ref[0,0]:extents_ref[0,1]+1, \n",
    "                        extents_ref[1,0]:extents_ref[1,1]+1, \n",
    "                        extents_ref[2,0]:extents_ref[2,1]+1]\n",
    "print(zarr_img.darr.shape)\n",
    "\n",
    "zarr_img.to_ome_zarr('test_subvol_img.ome.zarr')\n",
    "\n",
    "nii_label.darr = nii_label.darr[:,\n",
    "                        extents_flo[0,0]:extents_flo[0,1]+1, \n",
    "                        extents_flo[1,0]:extents_flo[1,1]+1, \n",
    "                        extents_flo[2,0]:extents_flo[2,1]+1]\n",
    "\n",
    "#write out labelmap too\n",
    "nii_label.to_ome_zarr('test_subvol_lbl.ome.zarr')\n",
    "\n",
    "\n",
    "    "
   ]
  },
  {
   "cell_type": "code",
   "execution_count": null,
   "id": "e6f7603a-80cd-42f0-96c0-5d39980c22d8",
   "metadata": {},
   "outputs": [],
   "source": []
  },
  {
   "cell_type": "code",
   "execution_count": 14,
   "id": "18cc0368-2661-4716-83aa-3dd2532ca9a1",
   "metadata": {},
   "outputs": [
    {
     "name": "stdout",
     "output_type": "stream",
     "text": [
      "[{'scale': [1, 0.004, 0.0018, 0.0018], 'type': 'scale'}]\n",
      "vox2ras after reading zarr\n",
      "[[-0.004   0.      0.      0.    ]\n",
      " [ 0.     -0.0018  0.      0.    ]\n",
      " [ 0.      0.     -0.0018  0.    ]\n",
      " [ 0.      0.      0.      1.    ]]\n",
      "[{'scale': [1, 0.004, 0.0018, 0.0018], 'type': 'scale'}]\n",
      "vox2ras after reading zarr\n",
      "[[-0.004   0.      0.      0.    ]\n",
      " [ 0.     -0.0018  0.      0.    ]\n",
      " [ 0.      0.     -0.0018  0.    ]\n",
      " [ 0.      0.      0.      1.    ]]\n",
      "ras2vox\n",
      "TransformSpec(tfm_type=<TransformType.AFFINE_RAS: 1>, affine=array([[-250.        ,   -0.        ,   -0.        ,   -0.        ],\n",
      "       [  -0.        , -555.55555556,   -0.        ,   -0.        ],\n",
      "       [  -0.        ,   -0.        , -555.55555556,   -0.        ],\n",
      "       [   0.        ,    0.        ,    0.        ,    1.        ]]), disp_xyz=None, disp_grid=None, disp_ras2vox=None)\n",
      "DaskImage(darr=dask.array<getitem, shape=(1, 2212, 11732, 7439), dtype=uint16, chunksize=(1, 1, 4096, 4096), chunktype=numpy.ndarray>, ras2vox=TransformSpec(tfm_type=<TransformType.AFFINE_RAS: 1>, affine=array([[-250.        ,   -0.        ,   -0.        ,   -0.        ],\n",
      "       [  -0.        , -555.55555556,   -0.        ,   -0.        ],\n",
      "       [  -0.        ,   -0.        , -555.55555556,   -0.        ],\n",
      "       [   0.        ,    0.        ,    0.        ,    1.        ]]), disp_xyz=None, disp_grid=None, disp_ras2vox=None), vox2ras=TransformSpec(tfm_type=<TransformType.AFFINE_RAS: 1>, affine=array([[-0.004 ,  0.    ,  0.    ,  0.    ],\n",
      "       [ 0.    , -0.0018,  0.    ,  0.    ],\n",
      "       [ 0.    ,  0.    , -0.0018,  0.    ],\n",
      "       [ 0.    ,  0.    ,  0.    ,  1.    ]]), disp_xyz=None, disp_grid=None, disp_ras2vox=None), axes_nifti=False)\n",
      "(1, 232, 366, 277)\n",
      "[[  0]\n",
      " [118]\n",
      " [126]\n",
      " [ 41]]\n",
      "[[  0]\n",
      " [201]\n",
      " [185]\n",
      " [191]]\n",
      "(3, 2)\n",
      "[[118. 201.]\n",
      " [126. 185.]\n",
      " [ 41. 191.]\n",
      " [  1.   1.]]\n",
      "TransformSpec(tfm_type=<TransformType.AFFINE_RAS: 1>, affine=array([[-0.0576,  0.    ,  0.    , -0.    ],\n",
      "       [ 0.    , -0.0576,  0.    , -0.    ],\n",
      "       [ 0.    ,  0.    , -0.032 ,  0.    ],\n",
      "       [ 0.    ,  0.    ,  0.    ,  1.    ]]), disp_xyz=None, disp_grid=None, disp_ras2vox=None)\n",
      "[[ -6.79679988 -11.5775998 ]\n",
      " [ -7.25759988 -10.65599982]\n",
      " [ -1.31200006  -6.11200029]\n",
      " [  1.           1.        ]]\n",
      "TransformSpec(tfm_type=<TransformType.AFFINE_RAS: 1>, affine=array([[1., 0., 0., 0.],\n",
      "       [0., 1., 0., 0.],\n",
      "       [0., 0., 1., 0.],\n",
      "       [0., 0., 0., 1.]]), disp_xyz=None, disp_grid=None, disp_ras2vox=None)\n",
      "[[ -6.79679988 -11.5775998 ]\n",
      " [ -7.25759988 -10.65599982]\n",
      " [ -1.31200006  -6.11200029]\n",
      " [  1.           1.        ]]\n",
      "TransformSpec(tfm_type=<TransformType.AFFINE_RAS: 1>, affine=array([[-250.        ,   -0.        ,   -0.        ,   -0.        ],\n",
      "       [  -0.        , -555.55555556,   -0.        ,   -0.        ],\n",
      "       [  -0.        ,   -0.        , -555.55555556,   -0.        ],\n",
      "       [   0.        ,    0.        ,    0.        ,    1.        ]]), disp_xyz=None, disp_grid=None, disp_ras2vox=None)\n",
      "[[1.69919997e+03 2.89439995e+03]\n",
      " [4.03199993e+03 5.91999990e+03]\n",
      " [7.28888924e+02 3.39555572e+03]\n",
      " [1.00000000e+00 1.00000000e+00]]\n",
      "[[118 201]\n",
      " [126 185]\n",
      " [ 41 191]]\n",
      "[[1699. 2894.]\n",
      " [4032. 5920.]\n",
      " [ 729. 3396.]]\n",
      "(1, 513, 1889, 2668)\n",
      "True\n",
      "[-0.0576 -0.0576 -0.032 ]\n",
      "writing full-res image to zarr single threaded\n",
      "[########################################] | 100% Completed | 202.24 ms\n",
      "writing downsampled images to zarr\n",
      "[########################################] | 100% Completed | 1.11 sms\n"
     ]
    }
   ],
   "source": [
    "extract_subvol_ome_zarr()"
   ]
  },
  {
   "cell_type": "code",
   "execution_count": null,
   "id": "242a7fe6-35b0-43c7-bc9c-7e3667aa7f79",
   "metadata": {},
   "outputs": [],
   "source": [
    "zarr_img = DaskImage.from_path(in_zarr) \n",
    "zarr_img.vox2ras @ np.array([0,0,0,1]).reshape((4,1))"
   ]
  },
  {
   "cell_type": "code",
   "execution_count": 3,
   "id": "755635ca-b810-4f3e-a3b1-48749fce49b5",
   "metadata": {},
   "outputs": [
    {
     "ename": "NameError",
     "evalue": "name 'zarr_img' is not defined",
     "output_type": "error",
     "traceback": [
      "\u001b[0;31m---------------------------------------------------------------------------\u001b[0m",
      "\u001b[0;31mNameError\u001b[0m                                 Traceback (most recent call last)",
      "Cell \u001b[0;32mIn[3], line 1\u001b[0m\n\u001b[0;32m----> 1\u001b[0m \u001b[43mzarr_img\u001b[49m\u001b[38;5;241m.\u001b[39mvox2ras\u001b[38;5;241m.\u001b[39maffine \u001b[38;5;241m@\u001b[39m np\u001b[38;5;241m.\u001b[39marray([\u001b[38;5;241m1\u001b[39m,\u001b[38;5;241m1\u001b[39m,\u001b[38;5;241m1\u001b[39m,\u001b[38;5;241m1\u001b[39m])\n",
      "\u001b[0;31mNameError\u001b[0m: name 'zarr_img' is not defined"
     ]
    }
   ],
   "source": [
    "zarr_img.vox2ras.affine @ np.array([1,1,1,1])"
   ]
  },
  {
   "cell_type": "code",
   "execution_count": 29,
   "id": "29d728df-0ef3-424c-8cc7-b9ee0387848c",
   "metadata": {},
   "outputs": [
    {
     "data": {
      "text/plain": [
       "DaskImage(darr=dask.array<getitem, shape=(1, 2212, 11732, 7439), dtype=uint16, chunksize=(1, 1, 4096, 4096), chunktype=numpy.ndarray>, ras2vox=TransformSpec(tfm_type=<TransformType.AFFINE_RAS: 1>, affine=array([[  -0.        ,   -0.        , -250.        ,   -0.        ],\n",
       "       [  -0.        , -555.55555556,   -0.        ,   -0.        ],\n",
       "       [-555.55555556,   -0.        ,   -0.        ,   -0.        ],\n",
       "       [   0.        ,    0.        ,    0.        ,    1.        ]]), disp_xyz=None, disp_grid=None, disp_ras2vox=None), vox2ras=TransformSpec(tfm_type=<TransformType.AFFINE_RAS: 1>, affine=array([[ 0.    ,  0.    , -0.0018,  0.    ],\n",
       "       [ 0.    , -0.0018,  0.    ,  0.    ],\n",
       "       [-0.004 ,  0.    ,  0.    ,  0.    ],\n",
       "       [ 0.    ,  0.    ,  0.    ,  1.    ]]), disp_xyz=None, disp_grid=None, disp_ras2vox=None), axes_nifti=False)"
      ]
     },
     "execution_count": 29,
     "metadata": {},
     "output_type": "execute_result"
    }
   ],
   "source": [
    "zarr_img"
   ]
  },
  {
   "cell_type": "code",
   "execution_count": 30,
   "id": "55d6b661-ff13-4f93-9c11-5fd5d4b18122",
   "metadata": {},
   "outputs": [
    {
     "ename": "NameError",
     "evalue": "name 'label_img' is not defined",
     "output_type": "error",
     "traceback": [
      "\u001b[0;31m---------------------------------------------------------------------------\u001b[0m",
      "\u001b[0;31mNameError\u001b[0m                                 Traceback (most recent call last)",
      "Cell \u001b[0;32mIn[30], line 1\u001b[0m\n\u001b[0;32m----> 1\u001b[0m \u001b[43mlabel_img\u001b[49m\n",
      "\u001b[0;31mNameError\u001b[0m: name 'label_img' is not defined"
     ]
    }
   ],
   "source": [
    "label_img"
   ]
  },
  {
   "cell_type": "code",
   "execution_count": 32,
   "id": "460b2720-649d-47e7-a769-d4e1e2769c5e",
   "metadata": {},
   "outputs": [],
   "source": [
    "in_lbl_nii='/local/SPIMquant/test_out/results/sub-o28/micr/sub-o28_sample-brain_acq-prestitched_from-ABAv3_level-5_desc-deform_dseg.nii.gz'\n",
    "\n",
    "daskimg_from_nii = DaskImage.from_path(in_lbl_nii)"
   ]
  },
  {
   "cell_type": "code",
   "execution_count": 34,
   "id": "85f442a1-02b9-4baf-8ddc-14906c216452",
   "metadata": {},
   "outputs": [
    {
     "name": "stdout",
     "output_type": "stream",
     "text": [
      "[-0.0576 -0.0576 -0.032 ]\n",
      "writing full-res image to zarr single threaded\n",
      "[########################################] | 100% Completed | 202.37 ms\n",
      "writing downsampled images to zarr\n",
      "[########################################] | 100% Completed | 1.01 sms\n"
     ]
    }
   ],
   "source": [
    "daskimg_from_nii.to_ome_zarr('from_nii.ome.zarr')"
   ]
  },
  {
   "cell_type": "code",
   "execution_count": 35,
   "id": "e29e8157-5af7-4892-9a64-e224d19e81ca",
   "metadata": {},
   "outputs": [
    {
     "name": "stdout",
     "output_type": "stream",
     "text": [
      "[{'scale': [1, -0.03200000151991844, -0.0575999990105629, -0.0575999990105629], 'type': 'scale'}]\n",
      "[[0. 0. 1. 0.]\n",
      " [0. 1. 0. 0.]\n",
      " [1. 0. 0. 0.]\n",
      " [0. 0. 0. 1.]]\n",
      "[[0.0576 0.     0.     0.    ]\n",
      " [0.     0.0576 0.     0.    ]\n",
      " [0.     0.     0.032  0.    ]\n",
      " [0.     0.     0.     1.    ]]\n",
      "[{'scale': [1, -0.03200000151991844, -0.0575999990105629, -0.0575999990105629], 'type': 'scale'}]\n",
      "[[0. 0. 1. 0.]\n",
      " [0. 1. 0. 0.]\n",
      " [1. 0. 0. 0.]\n",
      " [0. 0. 0. 1.]]\n",
      "[[0.0576 0.     0.     0.    ]\n",
      " [0.     0.0576 0.     0.    ]\n",
      " [0.     0.     0.032  0.    ]\n",
      " [0.     0.     0.     1.    ]]\n"
     ]
    }
   ],
   "source": [
    "daskimg_from_zarr_from_nii = DaskImage.from_path('from_nii.ome.zarr')"
   ]
  },
  {
   "cell_type": "code",
   "execution_count": 36,
   "id": "35e5bbad-d452-4d85-8894-e379f80fc426",
   "metadata": {},
   "outputs": [
    {
     "data": {
      "text/plain": [
       "DaskImage(darr=dask.array<getitem, shape=(1, 277, 366, 232), dtype=float64, chunksize=(1, 277, 196, 232), chunktype=numpy.ndarray>, ras2vox=TransformSpec(tfm_type=<TransformType.AFFINE_RAS: 1>, affine=array([[ 0.        ,  0.        , 31.24999852,  0.        ],\n",
       "       [ 0.        , 17.36111141,  0.        ,  0.        ],\n",
       "       [17.36111141,  0.        ,  0.        ,  0.        ],\n",
       "       [ 0.        ,  0.        ,  0.        ,  1.        ]]), disp_xyz=None, disp_grid=None, disp_ras2vox=None), vox2ras=TransformSpec(tfm_type=<TransformType.AFFINE_RAS: 1>, affine=array([[0.    , 0.    , 0.0576, 0.    ],\n",
       "       [0.    , 0.0576, 0.    , 0.    ],\n",
       "       [0.032 , 0.    , 0.    , 0.    ],\n",
       "       [0.    , 0.    , 0.    , 1.    ]]), disp_xyz=None, disp_grid=None, disp_ras2vox=None), axes_nifti=False)"
      ]
     },
     "execution_count": 36,
     "metadata": {},
     "output_type": "execute_result"
    }
   ],
   "source": [
    "daskimg_from_zarr_from_nii"
   ]
  },
  {
   "cell_type": "code",
   "execution_count": 37,
   "id": "50a712a3-6f42-43b0-bbdd-c009ae0ab4a4",
   "metadata": {},
   "outputs": [
    {
     "data": {
      "text/plain": [
       "DaskImage(darr=dask.array<array, shape=(1, 232, 366, 277), dtype=float64, chunksize=(1, 232, 268, 268), chunktype=numpy.ndarray>, ras2vox=TransformSpec(tfm_type=<TransformType.AFFINE_RAS: 1>, affine=array([[-17.36111141,  -0.        ,  -0.        ,  -0.        ],\n",
       "       [ -0.        , -17.36111141,  -0.        ,  -0.        ],\n",
       "       [ -0.        ,  -0.        , -31.24999852,  -0.        ],\n",
       "       [  0.        ,   0.        ,   0.        ,   1.        ]]), disp_xyz=None, disp_grid=None, disp_ras2vox=None), vox2ras=TransformSpec(tfm_type=<TransformType.AFFINE_RAS: 1>, affine=array([[-0.0576,  0.    ,  0.    , -0.    ],\n",
       "       [ 0.    , -0.0576,  0.    , -0.    ],\n",
       "       [ 0.    ,  0.    , -0.032 ,  0.    ],\n",
       "       [ 0.    ,  0.    ,  0.    ,  1.    ]]), disp_xyz=None, disp_grid=None, disp_ras2vox=None), axes_nifti=True)"
      ]
     },
     "execution_count": 37,
     "metadata": {},
     "output_type": "execute_result"
    }
   ],
   "source": [
    "daskimg_from_nii"
   ]
  },
  {
   "cell_type": "code",
   "execution_count": 38,
   "id": "db72e4a4-0015-4e39-8d2d-c52635f99c18",
   "metadata": {},
   "outputs": [],
   "source": [
    "daskimg_from_zarr_from_nii.to_nifti('from_zarr_from_nii.nii')"
   ]
  },
  {
   "cell_type": "code",
   "execution_count": 39,
   "id": "392691f7-f6a7-408b-8d2e-275782cf2110",
   "metadata": {},
   "outputs": [
    {
     "data": {
      "text/plain": [
       "array([[0.    , 0.    , 0.0576, 0.    ],\n",
       "       [0.    , 0.0576, 0.    , 0.    ],\n",
       "       [0.032 , 0.    , 0.    , 0.    ],\n",
       "       [0.    , 0.    , 0.    , 1.    ]])"
      ]
     },
     "execution_count": 39,
     "metadata": {},
     "output_type": "execute_result"
    }
   ],
   "source": [
    "import nibabel as nib\n",
    "nib_to_zarr_and_back = nib.load('from_zarr_from_nii.nii')\n",
    "nib_to_zarr_and_back.affine"
   ]
  },
  {
   "cell_type": "code",
   "execution_count": 42,
   "id": "6e6c44af-354b-44c4-bf78-9bedefb02848",
   "metadata": {},
   "outputs": [
    {
     "data": {
      "text/plain": [
       "array([[-0.0576,  0.    ,  0.    , -0.    ],\n",
       "       [ 0.    , -0.0576,  0.    , -0.    ],\n",
       "       [ 0.    ,  0.    , -0.032 ,  0.    ],\n",
       "       [ 0.    ,  0.    ,  0.    ,  1.    ]])"
      ]
     },
     "execution_count": 42,
     "metadata": {},
     "output_type": "execute_result"
    }
   ],
   "source": [
    "nib_orig = nib.load(in_lbl_nii)\n",
    "nib_orig.affine"
   ]
  },
  {
   "cell_type": "code",
   "execution_count": 44,
   "id": "56405772-b170-442e-abbf-92db31468664",
   "metadata": {},
   "outputs": [],
   "source": [
    "daskimg_from_nii.to_nifti('from_nii.nii')"
   ]
  },
  {
   "cell_type": "code",
   "execution_count": 45,
   "id": "35a7c5b7-c405-449c-bf74-672b1bc0e03c",
   "metadata": {},
   "outputs": [
    {
     "data": {
      "text/plain": [
       "array([[-0.0576,  0.    ,  0.    , -0.    ],\n",
       "       [ 0.    , -0.0576,  0.    , -0.    ],\n",
       "       [ 0.    ,  0.    , -0.032 ,  0.    ],\n",
       "       [ 0.    ,  0.    ,  0.    ,  1.    ]])"
      ]
     },
     "execution_count": 45,
     "metadata": {},
     "output_type": "execute_result"
    }
   ],
   "source": [
    "nib_from_nii_to_dimg_to_nii = nib.load('from_nii.nii')\n",
    "nib_from_nii_to_dimg_to_nii.affine"
   ]
  },
  {
   "cell_type": "code",
   "execution_count": 47,
   "id": "ee88a35d-26e6-4c6a-8e2f-c49a276c3ad9",
   "metadata": {},
   "outputs": [
    {
     "data": {
      "text/plain": [
       "['.nii']"
      ]
     },
     "execution_count": 47,
     "metadata": {},
     "output_type": "execute_result"
    }
   ],
   "source": [
    "from pathlib import Path\n",
    "\n",
    "p = Path('test.nii')\n",
    "p.suffixes"
   ]
  },
  {
   "cell_type": "code",
   "execution_count": null,
   "id": "ba7a7e90-a37a-4d74-a6c6-91c0ca43aec1",
   "metadata": {},
   "outputs": [],
   "source": []
  }
 ],
 "metadata": {
  "kernelspec": {
   "display_name": "Python 3 (ipykernel)",
   "language": "python",
   "name": "python3"
  },
  "language_info": {
   "codemirror_mode": {
    "name": "ipython",
    "version": 3
   },
   "file_extension": ".py",
   "mimetype": "text/x-python",
   "name": "python",
   "nbconvert_exporter": "python",
   "pygments_lexer": "ipython3",
   "version": "3.9.18"
  }
 },
 "nbformat": 4,
 "nbformat_minor": 5
}
